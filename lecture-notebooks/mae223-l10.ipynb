{
 "cells": [
  {
   "cell_type": "markdown",
   "metadata": {},
   "source": [
    "# Solving linear systems in SymPy"
   ]
  },
  {
   "cell_type": "code",
   "execution_count": 1,
   "metadata": {},
   "outputs": [],
   "source": [
    "import sympy as sm\n",
    "import sympy.physics.mechanics as me\n",
    "me.init_vprinting()"
   ]
  },
  {
   "cell_type": "code",
   "execution_count": 2,
   "metadata": {},
   "outputs": [],
   "source": [
    "u1, u2, u3 = me.dynamicsymbols('u1:4')\n",
    "q1, q2, q3 = me.dynamicsymbols('q1:4')"
   ]
  },
  {
   "cell_type": "code",
   "execution_count": 3,
   "metadata": {},
   "outputs": [],
   "source": [
    "gs1 = sm.Eq(u1, q1.diff()*sm.cos(q3) + q2.diff()*sm.sin(q3))\n",
    "gs2 = sm.Eq(u2, q2.diff()*sm.cos(q3) - q1.diff()*sm.sin(q3))\n",
    "gs3 = sm.Eq(u3, q3.diff())"
   ]
  },
  {
   "cell_type": "code",
   "execution_count": 4,
   "metadata": {},
   "outputs": [
    {
     "data": {
      "image/png": "[encoded data removed]",
      "text/latex": [
       "$\\displaystyle u_{1} = \\operatorname{sin}\\left(q_{3}\\right) \\dot{q}_{2} + \\operatorname{cos}\\left(q_{3}\\right) \\dot{q}_{1}$"
      ],
      "text/plain": [
       "u₁ = sin(q₃)⋅q₂̇ + cos(q₃)⋅q₁̇"
      ]
     },
     "execution_count": 4,
     "metadata": {},
     "output_type": "execute_result"
    }
   ],
   "source": [
    "gs1"
   ]
  },
  {
   "cell_type": "code",
   "execution_count": 5,
   "metadata": {},
   "outputs": [
    {
     "data": {
      "image/png": "[encoded data removed]",
      "text/latex": [
       "$\\displaystyle \\left\\{ \\dot{q}_{1} : u_{1} \\operatorname{cos}\\left(q_{3}\\right) - u_{2} \\operatorname{sin}\\left(q_{3}\\right), \\  \\dot{q}_{2} : u_{1} \\operatorname{sin}\\left(q_{3}\\right) + u_{2} \\operatorname{cos}\\left(q_{3}\\right), \\  \\dot{q}_{3} : u_{3}\\right\\}$"
      ],
      "text/plain": [
       "{q₁̇: u₁⋅cos(q₃) - u₂⋅sin(q₃), q₂̇: u₁⋅sin(q₃) + u₂⋅cos(q₃), q₃̇: u₃}"
      ]
     },
     "execution_count": 5,
     "metadata": {},
     "output_type": "execute_result"
    }
   ],
   "source": [
    "sm.solve([gs1, gs2, gs3], q1.diff(), q2.diff(), q3.diff())"
   ]
  },
  {
   "cell_type": "code",
   "execution_count": 6,
   "metadata": {},
   "outputs": [
    {
     "data": {
      "text/latex": [
       "$\\displaystyle \\left[\\begin{matrix}u_{1}\\\\u_{2}\\\\u_{3}\\end{matrix}\\right]$"
      ],
      "text/plain": [
       "⎡u₁⎤\n",
       "⎢  ⎥\n",
       "⎢u₂⎥\n",
       "⎢  ⎥\n",
       "⎣u₃⎦"
      ]
     },
     "execution_count": 6,
     "metadata": {},
     "output_type": "execute_result"
    }
   ],
   "source": [
    "u = sm.Matrix([u1, u2, u3])\n",
    "u"
   ]
  },
  {
   "cell_type": "code",
   "execution_count": 7,
   "metadata": {},
   "outputs": [
    {
     "data": {
      "text/latex": [
       "$\\displaystyle \\left[\\begin{matrix}\\dot{q}_{1}\\\\\\dot{q}_{2}\\\\\\dot{q}_{3}\\end{matrix}\\right]$"
      ],
      "text/plain": [
       "⎡q₁̇⎤\n",
       "⎢   ⎥\n",
       "⎢q₂̇⎥\n",
       "⎢   ⎥\n",
       "⎣q₃̇⎦"
      ]
     },
     "execution_count": 7,
     "metadata": {},
     "output_type": "execute_result"
    }
   ],
   "source": [
    "qdots = sm.Matrix([q1.diff(), q2.diff(), q3.diff()])\n",
    "qdots"
   ]
  },
  {
   "cell_type": "code",
   "execution_count": 8,
   "metadata": {},
   "outputs": [
    {
     "data": {
      "text/latex": [
       "$\\displaystyle \\left[\\begin{matrix}\\operatorname{cos}\\left(q_{3}\\right) & \\operatorname{sin}\\left(q_{3}\\right) & 0\\\\- \\operatorname{sin}\\left(q_{3}\\right) & \\operatorname{cos}\\left(q_{3}\\right) & 0\\\\0 & 0 & 1\\end{matrix}\\right]$"
      ],
      "text/plain": [
       "⎡cos(q₃)   sin(q₃)  0⎤\n",
       "⎢                    ⎥\n",
       "⎢-sin(q₃)  cos(q₃)  0⎥\n",
       "⎢                    ⎥\n",
       "⎣   0         0     1⎦"
      ]
     },
     "execution_count": 8,
     "metadata": {},
     "output_type": "execute_result"
    }
   ],
   "source": [
    "Y = sm.Matrix([[sm.cos(q3), sm.sin(q3), 0],\n",
    "               [-sm.sin(q3), sm.cos(q3), 0],\n",
    "               [0, 0, 1]])\n",
    "Y"
   ]
  },
  {
   "cell_type": "code",
   "execution_count": 9,
   "metadata": {},
   "outputs": [
    {
     "data": {
      "text/latex": [
       "$\\displaystyle \\left[\\begin{matrix}\\operatorname{sin}\\left(q_{3}\\right) \\dot{q}_{2} + \\operatorname{cos}\\left(q_{3}\\right) \\dot{q}_{1}\\\\- \\operatorname{sin}\\left(q_{3}\\right) \\dot{q}_{1} + \\operatorname{cos}\\left(q_{3}\\right) \\dot{q}_{2}\\\\\\dot{q}_{3}\\end{matrix}\\right]$"
      ],
      "text/plain": [
       "⎡sin(q₃)⋅q₂̇ + cos(q₃)⋅q₁̇ ⎤\n",
       "⎢                          ⎥\n",
       "⎢-sin(q₃)⋅q₁̇ + cos(q₃)⋅q₂̇⎥\n",
       "⎢                          ⎥\n",
       "⎣           q₃̇            ⎦"
      ]
     },
     "execution_count": 9,
     "metadata": {},
     "output_type": "execute_result"
    }
   ],
   "source": [
    "Y * qdots"
   ]
  },
  {
   "cell_type": "code",
   "execution_count": 10,
   "metadata": {},
   "outputs": [
    {
     "data": {
      "text/latex": [
       "$\\displaystyle \\left[\\begin{matrix}\\frac{1 - \\operatorname{sin}^{2}\\left(q_{3}\\right)}{\\operatorname{cos}\\left(q_{3}\\right)} & - \\operatorname{sin}\\left(q_{3}\\right) & 0\\\\\\operatorname{sin}\\left(q_{3}\\right) & \\operatorname{cos}\\left(q_{3}\\right) & 0\\\\0 & 0 & 1\\end{matrix}\\right]$"
      ],
      "text/plain": [
       "⎡       2                 ⎤\n",
       "⎢1 - sin (q₃)             ⎥\n",
       "⎢────────────  -sin(q₃)  0⎥\n",
       "⎢  cos(q₃)                ⎥\n",
       "⎢                         ⎥\n",
       "⎢  sin(q₃)     cos(q₃)   0⎥\n",
       "⎢                         ⎥\n",
       "⎣     0           0      1⎦"
      ]
     },
     "execution_count": 10,
     "metadata": {},
     "output_type": "execute_result"
    }
   ],
   "source": [
    "Y.inv()"
   ]
  },
  {
   "cell_type": "code",
   "execution_count": 11,
   "metadata": {},
   "outputs": [
    {
     "data": {
      "text/latex": [
       "$\\displaystyle \\left[\\begin{matrix}\\frac{\\left(1 - \\operatorname{sin}^{2}\\left(q_{3}\\right)\\right) u_{1}}{\\operatorname{cos}\\left(q_{3}\\right)} - u_{2} \\operatorname{sin}\\left(q_{3}\\right)\\\\u_{1} \\operatorname{sin}\\left(q_{3}\\right) + u_{2} \\operatorname{cos}\\left(q_{3}\\right)\\\\u_{3}\\end{matrix}\\right]$"
      ],
      "text/plain": [
       "⎡⎛       2    ⎞                ⎤\n",
       "⎢⎝1 - sin (q₃)⎠⋅u₁             ⎥\n",
       "⎢───────────────── - u₂⋅sin(q₃)⎥\n",
       "⎢     cos(q₃)                  ⎥\n",
       "⎢                              ⎥\n",
       "⎢   u₁⋅sin(q₃) + u₂⋅cos(q₃)    ⎥\n",
       "⎢                              ⎥\n",
       "⎣              u₃              ⎦"
      ]
     },
     "execution_count": 11,
     "metadata": {},
     "output_type": "execute_result"
    }
   ],
   "source": [
    "u_sol = Y.inv()*u\n",
    "u_sol"
   ]
  },
  {
   "cell_type": "code",
   "execution_count": 12,
   "metadata": {},
   "outputs": [
    {
     "data": {
      "text/latex": [
       "$\\displaystyle \\left[\\begin{matrix}u_{1} \\operatorname{cos}\\left(q_{3}\\right) - u_{2} \\operatorname{sin}\\left(q_{3}\\right)\\\\u_{1} \\operatorname{sin}\\left(q_{3}\\right) + u_{2} \\operatorname{cos}\\left(q_{3}\\right)\\\\u_{3}\\end{matrix}\\right]$"
      ],
      "text/plain": [
       "⎡u₁⋅cos(q₃) - u₂⋅sin(q₃)⎤\n",
       "⎢                       ⎥\n",
       "⎢u₁⋅sin(q₃) + u₂⋅cos(q₃)⎥\n",
       "⎢                       ⎥\n",
       "⎣          u₃           ⎦"
      ]
     },
     "execution_count": 12,
     "metadata": {},
     "output_type": "execute_result"
    }
   ],
   "source": [
    "u_sol.simplify()\n",
    "u_sol"
   ]
  },
  {
   "cell_type": "code",
   "execution_count": 13,
   "metadata": {},
   "outputs": [
    {
     "data": {
      "text/latex": [
       "$\\displaystyle \\left[\\begin{matrix}u_{1} \\operatorname{cos}\\left(q_{3}\\right) - u_{2} \\operatorname{sin}\\left(q_{3}\\right)\\\\u_{1} \\operatorname{sin}\\left(q_{3}\\right) + u_{2} \\operatorname{cos}\\left(q_{3}\\right)\\\\u_{3}\\end{matrix}\\right]$"
      ],
      "text/plain": [
       "⎡u₁⋅cos(q₃) - u₂⋅sin(q₃)⎤\n",
       "⎢                       ⎥\n",
       "⎢u₁⋅sin(q₃) + u₂⋅cos(q₃)⎥\n",
       "⎢                       ⎥\n",
       "⎣          u₃           ⎦"
      ]
     },
     "execution_count": 13,
     "metadata": {},
     "output_type": "execute_result"
    }
   ],
   "source": [
    "u_sol = Y.LUsolve(u)\n",
    "u_sol.simplify()\n",
    "u_sol"
   ]
  },
  {
   "cell_type": "markdown",
   "metadata": {},
   "source": [
    "[](my-image.png)"
   ]
  }
 ],
 "metadata": {
  "kernelspec": {
   "display_name": "Python 3",
   "language": "python",
   "name": "python3"
  },
  "language_info": {
   "codemirror_mode": {
    "name": "ipython",
    "version": 3
   },
   "file_extension": ".py",
   "mimetype": "text/x-python",
   "name": "python",
   "nbconvert_exporter": "python",
   "pygments_lexer": "ipython3",
   "version": "3.6.7"
  }
 },
 "nbformat": 4,
 "nbformat_minor": 4
}
