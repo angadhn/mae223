{
 "cells": [
  {
   "cell_type": "markdown",
   "metadata": {},
   "source": [
    "# Zeroth and First Moments of Mass Example\n",
    "\n",
    "Find the distance $\\mu$ such that the mass center is closest to the line $\\hat{\\mathbf{n}}$."
   ]
  },
  {
   "cell_type": "code",
   "execution_count": 1,
   "metadata": {},
   "outputs": [],
   "source": [
    "import sympy as sm\n",
    "import sympy.physics.mechanics as me\n",
    "me.init_vprinting()"
   ]
  },
  {
   "cell_type": "code",
   "execution_count": 2,
   "metadata": {},
   "outputs": [],
   "source": [
    "m, u = sm.symbols('m, mu')"
   ]
  },
  {
   "cell_type": "code",
   "execution_count": 3,
   "metadata": {},
   "outputs": [],
   "source": [
    "A = me.ReferenceFrame('A')"
   ]
  },
  {
   "cell_type": "markdown",
   "metadata": {},
   "source": [
    "Locations of each particle:"
   ]
  },
  {
   "cell_type": "code",
   "execution_count": 4,
   "metadata": {},
   "outputs": [],
   "source": [
    "p1 = A.y + A.z\n",
    "p2 = A.x + A.z\n",
    "p3 = A.x + A.y"
   ]
  },
  {
   "cell_type": "markdown",
   "metadata": {},
   "source": [
    "Mass center vector:"
   ]
  },
  {
   "cell_type": "code",
   "execution_count": 5,
   "metadata": {},
   "outputs": [
    {
     "data": {
      "image/png": "[encoded data removed]",
      "text/latex": [
       "$\\displaystyle \\frac{2 m + \\mu}{3 m + \\mu}\\mathbf{\\hat{a}_x} + \\frac{m + \\mu}{3 m + \\mu}\\mathbf{\\hat{a}_y} + \\frac{3 m}{3 m + \\mu}\\mathbf{\\hat{a}_z}$"
      ],
      "text/plain": [
       "2⋅m + μ        m + μ          3⋅m\n",
       "─────── a_x + ─────── a_y + ─────── a_z\n",
       "3⋅m + μ       3⋅m + μ       3⋅m + μ"
      ]
     },
     "execution_count": 5,
     "metadata": {},
     "output_type": "execute_result"
    }
   ],
   "source": [
    "p_star = (m*p1 + 2*m*p2 + u*p3)/(m + 2*m + u)\n",
    "p_star"
   ]
  },
  {
   "cell_type": "markdown",
   "metadata": {},
   "source": [
    "Define the line:"
   ]
  },
  {
   "cell_type": "code",
   "execution_count": 6,
   "metadata": {},
   "outputs": [
    {
     "data": {
      "image/png": "[encoded data removed]",
      "text/latex": [
       "$\\displaystyle \\frac{\\sqrt{3}}{3}\\mathbf{\\hat{a}_x} + \\frac{\\sqrt{3}}{3}\\mathbf{\\hat{a}_y} + \\frac{\\sqrt{3}}{3}\\mathbf{\\hat{a}_z}$"
      ],
      "text/plain": [
       "√3       √3       √3\n",
       "── a_x + ── a_y + ── a_z\n",
       "3        3        3"
      ]
     },
     "execution_count": 6,
     "metadata": {},
     "output_type": "execute_result"
    }
   ],
   "source": [
    "n = (A.x + A.y + A.z)/sm.sqrt(3)\n",
    "n"
   ]
  },
  {
   "cell_type": "markdown",
   "metadata": {},
   "source": [
    "Form a vector that has a magnitude equal to the distance of interest:"
   ]
  },
  {
   "cell_type": "code",
   "execution_count": 7,
   "metadata": {},
   "outputs": [
    {
     "data": {
      "image/png": "[encoded data removed]",
      "text/latex": [
       "$\\displaystyle \\frac{\\mu}{3 \\left(3 m + \\mu\\right)}\\mathbf{\\hat{a}_x} + \\frac{- m + \\frac{\\mu}{3}}{3 m + \\mu}\\mathbf{\\hat{a}_y} + \\frac{m - \\frac{2 \\mu}{3}}{3 m + \\mu}\\mathbf{\\hat{a}_z}$"
      ],
      "text/plain": [
       "                        μ           2⋅μ\n",
       "                   -m + ─       m - ───\n",
       "     μ                  3            3\n",
       "─────────── a_x + ─────── a_y + ─────── a_z\n",
       "3⋅(3⋅m + μ)       3⋅m + μ       3⋅m + μ"
      ]
     },
     "execution_count": 7,
     "metadata": {},
     "output_type": "execute_result"
    }
   ],
   "source": [
    "D = p_star - (p_star.dot(n)*n)\n",
    "D.simplify()"
   ]
  },
  {
   "cell_type": "code",
   "execution_count": 8,
   "metadata": {},
   "outputs": [
    {
     "data": {
      "image/png": "[encoded data removed]",
      "text/latex": [
       "$\\displaystyle \\frac{\\sqrt{\\frac{\\mu^{2} + \\left(- 3 m + \\mu\\right)^{2} + \\left(3 m - 2 \\mu\\right)^{2}}{\\left(3 m + \\mu\\right)^{2}}}}{3}$"
      ],
      "text/plain": [
       "      _________________________________\n",
       "     ╱  2             2              2 \n",
       "    ╱  μ  + (-3⋅m + μ)  + (3⋅m - 2⋅μ)  \n",
       "   ╱   ─────────────────────────────── \n",
       "  ╱                        2           \n",
       "╲╱                (3⋅m + μ)            \n",
       "───────────────────────────────────────\n",
       "                   3                   "
      ]
     },
     "execution_count": 8,
     "metadata": {},
     "output_type": "execute_result"
    }
   ],
   "source": [
    "D_mag = D.magnitude().simplify()\n",
    "D_mag"
   ]
  },
  {
   "cell_type": "markdown",
   "metadata": {},
   "source": [
    "Find $\\mu$ such that "
   ]
  },
  {
   "cell_type": "code",
   "execution_count": 9,
   "metadata": {},
   "outputs": [
    {
     "data": {
      "image/png": "[encoded data removed]",
      "text/latex": [
       "$\\displaystyle \\frac{\\sqrt{\\frac{\\mu^{2} + \\left(- 3 m + \\mu\\right)^{2} + \\left(3 m - 2 \\mu\\right)^{2}}{\\left(3 m + \\mu\\right)^{2}}} \\left(3 m + \\mu\\right)^{2} \\left(\\frac{- 18 m + 12 \\mu}{2 \\left(3 m + \\mu\\right)^{2}} - \\frac{\\mu^{2} + \\left(- 3 m + \\mu\\right)^{2} + \\left(3 m - 2 \\mu\\right)^{2}}{\\left(3 m + \\mu\\right)^{3}}\\right)}{3 \\left(\\mu^{2} + \\left(- 3 m + \\mu\\right)^{2} + \\left(3 m - 2 \\mu\\right)^{2}\\right)}$"
      ],
      "text/plain": [
       "      _________________________________                                       \n",
       "     ╱  2             2              2             ⎛                2         \n",
       "    ╱  μ  + (-3⋅m + μ)  + (3⋅m - 2⋅μ)            2 ⎜-18⋅m + 12⋅μ   μ  + (-3⋅m \n",
       "   ╱   ─────────────────────────────── ⋅(3⋅m + μ) ⋅⎜──────────── - ───────────\n",
       "  ╱                        2                       ⎜           2              \n",
       "╲╱                (3⋅m + μ)                        ⎝2⋅(3⋅m + μ)               \n",
       "──────────────────────────────────────────────────────────────────────────────\n",
       "                                  ⎛ 2             2              2⎞           \n",
       "                                3⋅⎝μ  + (-3⋅m + μ)  + (3⋅m - 2⋅μ) ⎠           \n",
       "\n",
       "                     \n",
       "    2              2⎞\n",
       "+ μ)  + (3⋅m - 2⋅μ) ⎟\n",
       "────────────────────⎟\n",
       "         3          ⎟\n",
       "(3⋅m + μ)           ⎠\n",
       "─────────────────────\n",
       "                     \n",
       "                     "
      ]
     },
     "execution_count": 9,
     "metadata": {},
     "output_type": "execute_result"
    }
   ],
   "source": [
    "D_mag.diff(u)"
   ]
  },
  {
   "cell_type": "code",
   "execution_count": 10,
   "metadata": {},
   "outputs": [
    {
     "data": {
      "image/png": "[encoded data removed]",
      "text/latex": [
       "$\\displaystyle \\frac{5 m}{3}$"
      ],
      "text/plain": [
       "5⋅m\n",
       "───\n",
       " 3 "
      ]
     },
     "execution_count": 10,
     "metadata": {},
     "output_type": "execute_result"
    }
   ],
   "source": [
    "sm.solve(D_mag.diff(u), u)[0]"
   ]
  }
 ],
 "metadata": {
  "kernelspec": {
   "display_name": "Python 3",
   "language": "python",
   "name": "python3"
  },
  "language_info": {
   "codemirror_mode": {
    "name": "ipython",
    "version": 3
   },
   "file_extension": ".py",
   "mimetype": "text/x-python",
   "name": "python",
   "nbconvert_exporter": "python",
   "pygments_lexer": "ipython3",
   "version": "3.6.7"
  }
 },
 "nbformat": 4,
 "nbformat_minor": 4
}
