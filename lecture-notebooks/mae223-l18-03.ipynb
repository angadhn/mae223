{
 "cells": [
  {
   "cell_type": "markdown",
   "metadata": {},
   "source": [
    "# Example of collision force acting on a particle"
   ]
  },
  {
   "cell_type": "code",
   "execution_count": 1,
   "metadata": {},
   "outputs": [
    {
     "name": "stderr",
     "output_type": "stream",
     "text": [
      "/home/moorepants/src/pydy/pydy/viz/scene.py:56: UserWarning: IPython.utils.traitlets has moved to a top-level traitlets package.\n",
      "  from IPython.utils.traitlets import CFloat, List\n"
     ]
    }
   ],
   "source": [
    "import sympy as sm\n",
    "import sympy.physics.mechanics as me\n",
    "import numpy as np\n",
    "import matplotlib.pyplot as plt\n",
    "from pydy.system import System\n",
    "from pydy.viz.shapes import Sphere\n",
    "from pydy.viz import Scene, VisualizationFrame\n",
    "import pythreejs as pjs\n",
    "me.init_vprinting()"
   ]
  },
  {
   "cell_type": "code",
   "execution_count": 2,
   "metadata": {},
   "outputs": [],
   "source": [
    "q1, q2, q3, u1, u2, u3 = me.dynamicsymbols('q1:4, u1:4')"
   ]
  },
  {
   "cell_type": "code",
   "execution_count": 3,
   "metadata": {},
   "outputs": [],
   "source": [
    "kc, cc, mu, vs, m, g = sm.symbols('k_c, c_c, mu, v_s, m, g')"
   ]
  },
  {
   "cell_type": "code",
   "execution_count": 4,
   "metadata": {},
   "outputs": [],
   "source": [
    "N = me.ReferenceFrame('N')"
   ]
  },
  {
   "cell_type": "code",
   "execution_count": 5,
   "metadata": {},
   "outputs": [],
   "source": [
    "O = me.Point('O')\n",
    "P = O.locatenew('P', q1 * N.x + q2 * N.y + q3 * N.z)"
   ]
  },
  {
   "cell_type": "code",
   "execution_count": 6,
   "metadata": {},
   "outputs": [],
   "source": [
    "P.set_vel(N, u1*N.x + u2*N.y + u3*N.z)"
   ]
  },
  {
   "cell_type": "code",
   "execution_count": 7,
   "metadata": {},
   "outputs": [],
   "source": [
    "kdes = [u1 - q1.diff(), u2 - q2.diff(), u3 - q3.diff()]"
   ]
  },
  {
   "cell_type": "code",
   "execution_count": 8,
   "metadata": {},
   "outputs": [],
   "source": [
    "z = P.pos_from(O).dot(N.z)\n",
    "penetration = (sm.Abs(z) - z)/2\n",
    "vertical_force = (kc*penetration**3 - z)*(1-cc*P.vel(N).dot(N.z))\n",
    "friction_force_x = -mu*vertical_force*((2/(1+sm.exp(-P.vel(N).dot(N.x)/vs))) - 1)\n",
    "friction_force_y = -mu*vertical_force*((2/(1+sm.exp(-P.vel(N).dot(N.y)/vs))) - 1)\n",
    "contact_force = friction_force_x*N.x + friction_force_y*N.y + vertical_force*N.z"
   ]
  },
  {
   "cell_type": "code",
   "execution_count": 9,
   "metadata": {},
   "outputs": [],
   "source": [
    "loads = [(P, -m*g*N.z + contact_force)]\n",
    "bodies = [me.Particle('P', P, m)]"
   ]
  },
  {
   "cell_type": "code",
   "execution_count": 10,
   "metadata": {},
   "outputs": [],
   "source": [
    "kane = me.KanesMethod(N, (q1, q2, q3), (u1, u2, u3), kd_eqs=kdes)\n",
    "fr, frstar = kane.kanes_equations(bodies, loads=loads)"
   ]
  },
  {
   "cell_type": "code",
   "execution_count": 11,
   "metadata": {},
   "outputs": [
    {
     "data": {
      "image/png": "[encoded data removed]",
      "text/latex": [
       "$\\displaystyle \\left[\\begin{matrix}- \\mu \\left(-1 + \\frac{2}{1 + e^{- \\frac{u_{1}}{v_{s}}}}\\right) \\left(- c_{c} u_{3} + 1\\right) \\left(k_{c} \\left(- \\frac{q_{3}}{2} + \\frac{\\left|{q_{3}}\\right|}{2}\\right)^{3} - q_{3}\\right)\\\\- \\mu \\left(-1 + \\frac{2}{1 + e^{- \\frac{u_{2}}{v_{s}}}}\\right) \\left(- c_{c} u_{3} + 1\\right) \\left(k_{c} \\left(- \\frac{q_{3}}{2} + \\frac{\\left|{q_{3}}\\right|}{2}\\right)^{3} - q_{3}\\right)\\\\- g m + \\left(- c_{c} u_{3} + 1\\right) \\left(k_{c} \\left(- \\frac{q_{3}}{2} + \\frac{\\left|{q_{3}}\\right|}{2}\\right)^{3} - q_{3}\\right)\\end{matrix}\\right]$"
      ],
      "text/plain": [
       "⎡                                  ⎛                 3     ⎞⎤\n",
       "⎢   ⎛         2    ⎞               ⎜    ⎛  q₃   │q₃│⎞      ⎟⎥\n",
       "⎢-μ⋅⎜-1 + ─────────⎟⋅(-c_c⋅u₃ + 1)⋅⎜k_c⋅⎜- ── + ────⎟  - q₃⎟⎥\n",
       "⎢   ⎜          -u₁ ⎟               ⎝    ⎝  2     2  ⎠      ⎠⎥\n",
       "⎢   ⎜          ────⎟                                        ⎥\n",
       "⎢   ⎜           vₛ ⎟                                        ⎥\n",
       "⎢   ⎝     1 + ℯ    ⎠                                        ⎥\n",
       "⎢                                                           ⎥\n",
       "⎢                                  ⎛                 3     ⎞⎥\n",
       "⎢   ⎛         2    ⎞               ⎜    ⎛  q₃   │q₃│⎞      ⎟⎥\n",
       "⎢-μ⋅⎜-1 + ─────────⎟⋅(-c_c⋅u₃ + 1)⋅⎜k_c⋅⎜- ── + ────⎟  - q₃⎟⎥\n",
       "⎢   ⎜          -u₂ ⎟               ⎝    ⎝  2     2  ⎠      ⎠⎥\n",
       "⎢   ⎜          ────⎟                                        ⎥\n",
       "⎢   ⎜           vₛ ⎟                                        ⎥\n",
       "⎢   ⎝     1 + ℯ    ⎠                                        ⎥\n",
       "⎢                                                           ⎥\n",
       "⎢                           ⎛                 3     ⎞       ⎥\n",
       "⎢                           ⎜    ⎛  q₃   │q₃│⎞      ⎟       ⎥\n",
       "⎢      -g⋅m + (-c_c⋅u₃ + 1)⋅⎜k_c⋅⎜- ── + ────⎟  - q₃⎟       ⎥\n",
       "⎣                           ⎝    ⎝  2     2  ⎠      ⎠       ⎦"
      ]
     },
     "execution_count": 11,
     "metadata": {},
     "output_type": "execute_result"
    }
   ],
   "source": [
    "fr"
   ]
  },
  {
   "cell_type": "code",
   "execution_count": 12,
   "metadata": {},
   "outputs": [
    {
     "data": {
      "image/png": "[encoded data removed]",
      "text/latex": [
       "$\\displaystyle \\left[\\begin{matrix}- m \\dot{u}_{1}\\\\- m \\dot{u}_{2}\\\\- m \\dot{u}_{3}\\end{matrix}\\right]$"
      ],
      "text/plain": [
       "⎡-m⋅u₁̇⎤\n",
       "⎢      ⎥\n",
       "⎢-m⋅u₂̇⎥\n",
       "⎢      ⎥\n",
       "⎣-m⋅u₃̇⎦"
      ]
     },
     "execution_count": 12,
     "metadata": {},
     "output_type": "execute_result"
    }
   ],
   "source": [
    "frstar"
   ]
  },
  {
   "cell_type": "code",
   "execution_count": 13,
   "metadata": {},
   "outputs": [],
   "source": [
    "sys = System(kane)"
   ]
  },
  {
   "cell_type": "code",
   "execution_count": 14,
   "metadata": {},
   "outputs": [
    {
     "data": {
      "image/png": "[encoded data removed]",
      "text/latex": [
       "$\\displaystyle \\left\\{c_{c}, g, k_{c}, m, \\mu, v_{s}\\right\\}$"
      ],
      "text/plain": [
       "{c_c, g, k_c, m, μ, vₛ}"
      ]
     },
     "execution_count": 14,
     "metadata": {},
     "output_type": "execute_result"
    }
   ],
   "source": [
    "sys.constants_symbols"
   ]
  },
  {
   "cell_type": "code",
   "execution_count": 15,
   "metadata": {},
   "outputs": [],
   "source": [
    "sys.constants = {cc: 0.1, #0.85,\n",
    "                 g: 9.81,\n",
    "                 kc: 5.0e7,\n",
    "                 m: 1.0,\n",
    "                 mu: 0.2, #1.0,\n",
    "                 vs: 0.01}"
   ]
  },
  {
   "cell_type": "code",
   "execution_count": 16,
   "metadata": {},
   "outputs": [],
   "source": [
    "sys.times = np.linspace(0.0, 5.0, num=5000)"
   ]
  },
  {
   "cell_type": "code",
   "execution_count": 17,
   "metadata": {},
   "outputs": [],
   "source": [
    "sys.initial_conditions = {q1: 0.0,\n",
    "                          q2: 0.0,\n",
    "                          q3: 5.0,\n",
    "                          u1: 5.0,\n",
    "                          u2: 10.0,\n",
    "                          u3: 0.0}"
   ]
  },
  {
   "cell_type": "code",
   "execution_count": 18,
   "metadata": {},
   "outputs": [
    {
     "name": "stderr",
     "output_type": "stream",
     "text": [
      "<lambdifygenerated-1>:2: RuntimeWarning: overflow encountered in exp\n",
      "  return ([array([[1, 0, 0, 0, 0, 0], [0, 1, 0, 0, 0, 0], [0, 0, 1, 0, 0, 0], [0, 0, 0, p[5], 0, 0], [0, 0, 0, 0, p[5], 0], [0, 0, 0, 0, 0, p[5]]]), array([[u[0]], [u[1]], [u[2]], [-p[0]*(-1 + 2/(1 + exp(-u[0]/p[2])))*(-p[3]*u[2] + 1)*(p[4]*(-1/2*q[2] + (1/2)*abs(q[2]))**3 - q[2])], [-p[0]*(-1 + 2/(1 + exp(-u[1]/p[2])))*(-p[3]*u[2] + 1)*(p[4]*(-1/2*q[2] + (1/2)*abs(q[2]))**3 - q[2])], [-p[1]*p[5] + (-p[3]*u[2] + 1)*(p[4]*(-1/2*q[2] + (1/2)*abs(q[2]))**3 - q[2])]])])\n"
     ]
    }
   ],
   "source": [
    "x = sys.integrate()"
   ]
  },
  {
   "cell_type": "code",
   "execution_count": 19,
   "metadata": {},
   "outputs": [
    {
     "data": {
      "image/png": "[encoded data removed]",
      "text/plain": [
       "<Figure size 432x288 with 1 Axes>"
      ]
     },
     "metadata": {
      "needs_background": "light"
     },
     "output_type": "display_data"
    }
   ],
   "source": [
    "axes = plt.plot(sys.times, x[:, :3])\n",
    "leg = plt.legend([sm.latex(q, mode='inline') for q in (q1, q2, q3)])"
   ]
  },
  {
   "cell_type": "code",
   "execution_count": 20,
   "metadata": {},
   "outputs": [],
   "source": [
    "viz_frame = VisualizationFrame('ball', N, P, Sphere(0.2))\n",
    "scene = Scene(N, O, viz_frame, system=sys)\n",
    "scene.create_static_html(overwrite=True, silent=True)\n",
    "matrices = viz_frame.evaluate_transformation_matrix(x, list(sys.constants.values()))"
   ]
  },
  {
   "cell_type": "code",
   "execution_count": 21,
   "metadata": {},
   "outputs": [],
   "source": [
    "ground_mesh = pjs.Mesh(pjs.PlaneBufferGeometry(40.0, 40.0),\n",
    "                       pjs.MeshStandardMaterial(color='blue', side='DoubleSide'),\n",
    "                       name=\"ground\")\n",
    "\n",
    "ball_mesh = pjs.Mesh(pjs.SphereBufferGeometry(0.2),\n",
    "                     pjs.MeshStandardMaterial(color='red'),\n",
    "                     name=\"ball\")"
   ]
  },
  {
   "cell_type": "code",
   "execution_count": 22,
   "metadata": {},
   "outputs": [],
   "source": [
    "ball_mesh.matrixAutoUpdate = False\n",
    "ball_mesh.matrix = matrices[0]\n",
    "ground_mesh.position = [20.0, 20.0, -0.1]"
   ]
  },
  {
   "cell_type": "code",
   "execution_count": 23,
   "metadata": {},
   "outputs": [],
   "source": [
    "view_width = 800\n",
    "view_height = 600\n",
    "camera = pjs.PerspectiveCamera(position=[15, 15, 15], aspect=view_width/view_height)\n",
    "key_light = pjs.DirectionalLight(position=[0, 100, 100])\n",
    "ambient_light = pjs.AmbientLight()\n",
    "scene_pjs = pjs.Scene(children=[ground_mesh, ball_mesh, camera, key_light, ambient_light])\n",
    "controller = pjs.OrbitControls(controlling=camera)\n",
    "renderer = pjs.Renderer(camera=camera, scene=scene_pjs, controls=[controller], width=view_width, height=view_height)"
   ]
  },
  {
   "cell_type": "code",
   "execution_count": 24,
   "metadata": {},
   "outputs": [
    {
     "data": {
      "application/vnd.jupyter.widget-view+json": {
       "model_id": "25f246a23bb74af392c0a391a51d5d37",
       "version_major": 2,
       "version_minor": 0
      },
      "text/plain": [
       "Renderer(camera=PerspectiveCamera(aspect=1.3333333333333333, position=(15.0, 15.0, 15.0), quaternion=(0.0, 0.0…"
      ]
     },
     "metadata": {},
     "output_type": "display_data"
    }
   ],
   "source": [
    "renderer"
   ]
  },
  {
   "cell_type": "code",
   "execution_count": 25,
   "metadata": {},
   "outputs": [
    {
     "data": {
      "application/vnd.jupyter.widget-view+json": {
       "model_id": "0815dffa080b4c0294fbb90ef6925198",
       "version_major": 2,
       "version_minor": 0
      },
      "text/plain": [
       "AnimationAction(clip=AnimationClip(duration=5.0, tracks=(VectorKeyframeTrack(name='scene/ball.matrix', times=a…"
      ]
     },
     "metadata": {},
     "output_type": "display_data"
    }
   ],
   "source": [
    "track = pjs.VectorKeyframeTrack(name='scene/ball.matrix',\n",
    "                                times=list(sys.times),\n",
    "                                values=matrices)\n",
    "clip = pjs.AnimationClip(tracks=[track], duration=sys.times[-1])\n",
    "action = pjs.AnimationAction(pjs.AnimationMixer(scene_pjs), clip, scene_pjs)\n",
    "action"
   ]
  },
  {
   "cell_type": "code",
   "execution_count": null,
   "metadata": {},
   "outputs": [],
   "source": []
  },
  {
   "cell_type": "code",
   "execution_count": 26,
   "metadata": {},
   "outputs": [
    {
     "data": {
      "image/png": "[encoded data removed]",
      "text/latex": [
       "$\\displaystyle \\left\\{c_{c}, g, k_{c}, m, \\mu, t, v_{s}\\right\\}$"
      ],
      "text/plain": [
       "{c_c, g, k_c, m, μ, t, vₛ}"
      ]
     },
     "execution_count": 26,
     "metadata": {},
     "output_type": "execute_result"
    }
   ],
   "source": [
    "fr.free_symbols"
   ]
  },
  {
   "cell_type": "code",
   "execution_count": 27,
   "metadata": {},
   "outputs": [
    {
     "data": {
      "image/png": "[encoded data removed]",
      "text/latex": [
       "$\\displaystyle \\left\\{q_{3}, u_{1}, u_{2}, u_{3}\\right\\}$"
      ],
      "text/plain": [
       "{q₃, u₁, u₂, u₃}"
      ]
     },
     "execution_count": 27,
     "metadata": {},
     "output_type": "execute_result"
    }
   ],
   "source": [
    "me.find_dynamicsymbols(fr)"
   ]
  },
  {
   "cell_type": "code",
   "execution_count": 28,
   "metadata": {},
   "outputs": [],
   "source": [
    "eval_force = sm.lambdify((q3, u1, u2, u3, cc, g, kc, m, mu, vs), fr)"
   ]
  },
  {
   "cell_type": "code",
   "execution_count": 29,
   "metadata": {},
   "outputs": [],
   "source": [
    "fr_vals = eval_force(*x[:, 2:].T, sys.constants[cc], sys.constants[g], sys.constants[kc], sys.constants[m], sys.constants[mu], sys.constants[vs])"
   ]
  },
  {
   "cell_type": "code",
   "execution_count": 30,
   "metadata": {},
   "outputs": [
    {
     "data": {
      "text/plain": [
       "[<matplotlib.lines.Line2D at 0x7f68eb727a60>]"
      ]
     },
     "execution_count": 30,
     "metadata": {},
     "output_type": "execute_result"
    },
    {
     "data": {
      "image/png": "[encoded data removed]",
      "text/plain": [
       "<Figure size 432x288 with 1 Axes>"
      ]
     },
     "metadata": {
      "needs_background": "light"
     },
     "output_type": "display_data"
    }
   ],
   "source": [
    "plt.plot(sys.times, fr_vals.squeeze().T[:, 2])"
   ]
  }
 ],
 "metadata": {
  "kernelspec": {
   "display_name": "Python 3",
   "language": "python",
   "name": "python3"
  },
  "language_info": {
   "codemirror_mode": {
    "name": "ipython",
    "version": 3
   },
   "file_extension": ".py",
   "mimetype": "text/x-python",
   "name": "python",
   "nbconvert_exporter": "python",
   "pygments_lexer": "ipython3",
   "version": "3.8.0"
  }
 },
 "nbformat": 4,
 "nbformat_minor": 4
}
