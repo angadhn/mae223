{
 "cells": [
  {
   "cell_type": "markdown",
   "metadata": {},
   "source": [
    "# Body and Space Fixed Rotations"
   ]
  },
  {
   "cell_type": "code",
   "execution_count": 1,
   "metadata": {},
   "outputs": [],
   "source": [
    "import sympy as sm\n",
    "import sympy.physics.mechanics as me\n",
    "me.init_vprinting()"
   ]
  },
  {
   "cell_type": "code",
   "execution_count": 2,
   "metadata": {},
   "outputs": [],
   "source": [
    "q1, q2, q3 = me.dynamicsymbols('q1:4')\n",
    "u1, u2, u3 = me.dynamicsymbols('u1:4')"
   ]
  },
  {
   "cell_type": "code",
   "execution_count": 3,
   "metadata": {},
   "outputs": [],
   "source": [
    "N = me.ReferenceFrame('N')\n",
    "A = me.ReferenceFrame('A')"
   ]
  },
  {
   "cell_type": "code",
   "execution_count": 4,
   "metadata": {},
   "outputs": [
    {
     "data": {
      "text/plain": [
       "\u001b[0;31mSignature:\u001b[0m \u001b[0mA\u001b[0m\u001b[0;34m.\u001b[0m\u001b[0morient\u001b[0m\u001b[0;34m(\u001b[0m\u001b[0mparent\u001b[0m\u001b[0;34m,\u001b[0m \u001b[0mrot_type\u001b[0m\u001b[0;34m,\u001b[0m \u001b[0mamounts\u001b[0m\u001b[0;34m,\u001b[0m \u001b[0mrot_order\u001b[0m\u001b[0;34m=\u001b[0m\u001b[0;34m''\u001b[0m\u001b[0;34m)\u001b[0m\u001b[0;34m\u001b[0m\u001b[0;34m\u001b[0m\u001b[0m\n",
       "\u001b[0;31mDocstring:\u001b[0m\n",
       "Defines the orientation of this frame relative to a parent frame.\n",
       "\n",
       "Parameters\n",
       "==========\n",
       "\n",
       "parent : ReferenceFrame\n",
       "    The frame that this ReferenceFrame will have its orientation matrix\n",
       "    defined in relation to.\n",
       "rot_type : str\n",
       "    The type of orientation matrix that is being created. Supported\n",
       "    types are 'Body', 'Space', 'Quaternion', 'Axis', and 'DCM'.\n",
       "    See examples for correct usage.\n",
       "amounts : list OR value\n",
       "    The quantities that the orientation matrix will be defined by.\n",
       "    In case of rot_type='DCM', value must be a\n",
       "    sympy.matrices.MatrixBase object (or subclasses of it).\n",
       "rot_order : str or int\n",
       "    If applicable, the order of a series of rotations.\n",
       "\n",
       "Examples\n",
       "========\n",
       "\n",
       ">>> from sympy.physics.vector import ReferenceFrame, Vector\n",
       ">>> from sympy import symbols, eye, ImmutableMatrix\n",
       ">>> q0, q1, q2, q3 = symbols('q0 q1 q2 q3')\n",
       ">>> N = ReferenceFrame('N')\n",
       ">>> B = ReferenceFrame('B')\n",
       "\n",
       "Now we have a choice of how to implement the orientation. First is\n",
       "Body. Body orientation takes this reference frame through three\n",
       "successive simple rotations. Acceptable rotation orders are of length\n",
       "3, expressed in XYZ or 123, and cannot have a rotation about about an\n",
       "axis twice in a row.\n",
       "\n",
       ">>> B.orient(N, 'Body', [q1, q2, q3], 123)\n",
       ">>> B.orient(N, 'Body', [q1, q2, 0], 'ZXZ')\n",
       ">>> B.orient(N, 'Body', [0, 0, 0], 'XYX')\n",
       "\n",
       "Next is Space. Space is like Body, but the rotations are applied in the\n",
       "opposite order.\n",
       "\n",
       ">>> B.orient(N, 'Space', [q1, q2, q3], '312')\n",
       "\n",
       "Next is Quaternion. This orients the new ReferenceFrame with\n",
       "Quaternions, defined as a finite rotation about lambda, a unit vector,\n",
       "by some amount theta.\n",
       "This orientation is described by four parameters:\n",
       "q0 = cos(theta/2)\n",
       "q1 = lambda_x sin(theta/2)\n",
       "q2 = lambda_y sin(theta/2)\n",
       "q3 = lambda_z sin(theta/2)\n",
       "Quaternion does not take in a rotation order.\n",
       "\n",
       ">>> B.orient(N, 'Quaternion', [q0, q1, q2, q3])\n",
       "\n",
       "Next is Axis. This is a rotation about an arbitrary, non-time-varying\n",
       "axis by some angle. The axis is supplied as a Vector. This is how\n",
       "simple rotations are defined.\n",
       "\n",
       ">>> B.orient(N, 'Axis', [q1, N.x + 2 * N.y])\n",
       "\n",
       "Last is DCM (Direction Cosine Matrix). This is a rotation matrix\n",
       "given manually.\n",
       "\n",
       ">>> B.orient(N, 'DCM', eye(3))\n",
       ">>> B.orient(N, 'DCM', ImmutableMatrix([[0, 1, 0], [0, 0, -1], [-1, 0, 0]]))\n",
       "\u001b[0;31mFile:\u001b[0m      /opt/conda/lib/python3.6/site-packages/sympy/physics/vector/frame.py\n",
       "\u001b[0;31mType:\u001b[0m      method\n"
      ]
     },
     "metadata": {},
     "output_type": "display_data"
    }
   ],
   "source": [
    "A.orient?"
   ]
  },
  {
   "cell_type": "code",
   "execution_count": 5,
   "metadata": {},
   "outputs": [],
   "source": [
    "A.orient(N, 'Body', (q1, q2, q3), 'XYZ')"
   ]
  },
  {
   "cell_type": "code",
   "execution_count": 6,
   "metadata": {},
   "outputs": [
    {
     "data": {
      "image/png": "[encoded data removed]",
      "text/latex": [
       "$\\displaystyle \\left[\\begin{matrix}\\operatorname{cos}\\left(q_{2}\\right) \\operatorname{cos}\\left(q_{3}\\right) & \\operatorname{sin}\\left(q_{1}\\right) \\operatorname{sin}\\left(q_{2}\\right) \\operatorname{cos}\\left(q_{3}\\right) + \\operatorname{sin}\\left(q_{3}\\right) \\operatorname{cos}\\left(q_{1}\\right) & \\operatorname{sin}\\left(q_{1}\\right) \\operatorname{sin}\\left(q_{3}\\right) - \\operatorname{sin}\\left(q_{2}\\right) \\operatorname{cos}\\left(q_{1}\\right) \\operatorname{cos}\\left(q_{3}\\right)\\\\- \\operatorname{sin}\\left(q_{3}\\right) \\operatorname{cos}\\left(q_{2}\\right) & - \\operatorname{sin}\\left(q_{1}\\right) \\operatorname{sin}\\left(q_{2}\\right) \\operatorname{sin}\\left(q_{3}\\right) + \\operatorname{cos}\\left(q_{1}\\right) \\operatorname{cos}\\left(q_{3}\\right) & \\operatorname{sin}\\left(q_{1}\\right) \\operatorname{cos}\\left(q_{3}\\right) + \\operatorname{sin}\\left(q_{2}\\right) \\operatorname{sin}\\left(q_{3}\\right) \\operatorname{cos}\\left(q_{1}\\right)\\\\\\operatorname{sin}\\left(q_{2}\\right) & - \\operatorname{sin}\\left(q_{1}\\right) \\operatorname{cos}\\left(q_{2}\\right) & \\operatorname{cos}\\left(q_{1}\\right) \\operatorname{cos}\\left(q_{2}\\right)\\end{matrix}\\right]$"
      ],
      "text/plain": [
       "⎡cos(q₂)⋅cos(q₃)   sin(q₁)⋅sin(q₂)⋅cos(q₃) + sin(q₃)⋅cos(q₁)   sin(q₁)⋅sin(q₃)\n",
       "⎢                                                                             \n",
       "⎢-sin(q₃)⋅cos(q₂)  -sin(q₁)⋅sin(q₂)⋅sin(q₃) + cos(q₁)⋅cos(q₃)  sin(q₁)⋅cos(q₃)\n",
       "⎢                                                                             \n",
       "⎣    sin(q₂)                    -sin(q₁)⋅cos(q₂)                            co\n",
       "\n",
       " - sin(q₂)⋅cos(q₁)⋅cos(q₃)⎤\n",
       "                          ⎥\n",
       " + sin(q₂)⋅sin(q₃)⋅cos(q₁)⎥\n",
       "                          ⎥\n",
       "s(q₁)⋅cos(q₂)             ⎦"
      ]
     },
     "execution_count": 6,
     "metadata": {},
     "output_type": "execute_result"
    }
   ],
   "source": [
    "A.dcm(N)"
   ]
  },
  {
   "cell_type": "code",
   "execution_count": 7,
   "metadata": {},
   "outputs": [
    {
     "data": {
      "image/png": "[encoded data removed]",
      "text/latex": [
       "$\\displaystyle (\\operatorname{sin}\\left(q_{3}\\right) \\dot{q}_{2} + \\operatorname{cos}\\left(q_{2}\\right) \\operatorname{cos}\\left(q_{3}\\right) \\dot{q}_{1})\\mathbf{\\hat{a}_x} + (- \\operatorname{sin}\\left(q_{3}\\right) \\operatorname{cos}\\left(q_{2}\\right) \\dot{q}_{1} + \\operatorname{cos}\\left(q_{3}\\right) \\dot{q}_{2})\\mathbf{\\hat{a}_y} + (\\operatorname{sin}\\left(q_{2}\\right) \\dot{q}_{1} + \\dot{q}_{3})\\mathbf{\\hat{a}_z}$"
      ],
      "text/plain": [
       "(sin(q₃)⋅q₂̇ + cos(q₂)⋅cos(q₃)⋅q₁̇) a_x + (-sin(q₃)⋅cos(q₂)⋅q₁̇ + cos(q₃)⋅q₂̇)\n",
       " a_y + (sin(q₂)⋅q₁̇ + q₃̇) a_z"
      ]
     },
     "execution_count": 7,
     "metadata": {},
     "output_type": "execute_result"
    }
   ],
   "source": [
    "A.ang_vel_in(N)"
   ]
  },
  {
   "cell_type": "code",
   "execution_count": 8,
   "metadata": {},
   "outputs": [
    {
     "data": {
      "image/png": "[encoded data removed]",
      "text/latex": [
       "$\\displaystyle \\left[ u_{1} = \\operatorname{sin}\\left(q_{3}\\right) \\dot{q}_{2} + \\operatorname{cos}\\left(q_{2}\\right) \\operatorname{cos}\\left(q_{3}\\right) \\dot{q}_{1}, \\  u_{2} = - \\operatorname{sin}\\left(q_{3}\\right) \\operatorname{cos}\\left(q_{2}\\right) \\dot{q}_{1} + \\operatorname{cos}\\left(q_{3}\\right) \\dot{q}_{2}, \\  u_{3} = \\operatorname{sin}\\left(q_{2}\\right) \\dot{q}_{1} + \\dot{q}_{3}\\right]$"
      ],
      "text/plain": [
       "[u₁ = sin(q₃)⋅q₂̇ + cos(q₂)⋅cos(q₃)⋅q₁̇, u₂ = -sin(q₃)⋅cos(q₂)⋅q₁̇ + cos(q₃)⋅q\n",
       "₂̇, u₃ = sin(q₂)⋅q₁̇ + q₃̇]"
      ]
     },
     "execution_count": 8,
     "metadata": {},
     "output_type": "execute_result"
    }
   ],
   "source": [
    "ueqs = [sm.Eq(u1, A.ang_vel_in(N).dot(A.x)),\n",
    "        sm.Eq(u2, A.ang_vel_in(N).dot(A.y)),\n",
    "        sm.Eq(u3, A.ang_vel_in(N).dot(A.z))]\n",
    "ueqs"
   ]
  },
  {
   "cell_type": "markdown",
   "metadata": {},
   "source": [
    "# Note that with specific values of some q's there is a divide by zero, i.e. gimbal lock"
   ]
  },
  {
   "cell_type": "code",
   "execution_count": 9,
   "metadata": {},
   "outputs": [
    {
     "data": {
      "image/png": "[encoded data removed]",
      "text/latex": [
       "$\\displaystyle \\left\\{ \\dot{q}_{1} : \\frac{u_{1} \\operatorname{cos}\\left(q_{3}\\right) - u_{2} \\operatorname{sin}\\left(q_{3}\\right)}{\\operatorname{cos}\\left(q_{2}\\right)}, \\  \\dot{q}_{2} : u_{1} \\operatorname{sin}\\left(q_{3}\\right) + u_{2} \\operatorname{cos}\\left(q_{3}\\right), \\  \\dot{q}_{3} : - u_{1} \\operatorname{cos}\\left(q_{3}\\right) \\operatorname{tan}\\left(q_{2}\\right) + u_{2} \\operatorname{sin}\\left(q_{3}\\right) \\operatorname{tan}\\left(q_{2}\\right) + u_{3}\\right\\}$"
      ],
      "text/plain": [
       "⎧     u₁⋅cos(q₃) - u₂⋅sin(q₃)                                                 \n",
       "⎨q₁̇: ───────────────────────, q₂̇: u₁⋅sin(q₃) + u₂⋅cos(q₃), q₃̇: -u₁⋅cos(q₃)⋅\n",
       "⎩             cos(q₂)                                                         \n",
       "\n",
       "                                 ⎫\n",
       "tan(q₂) + u₂⋅sin(q₃)⋅tan(q₂) + u₃⎬\n",
       "                                 ⎭"
      ]
     },
     "execution_count": 9,
     "metadata": {},
     "output_type": "execute_result"
    }
   ],
   "source": [
    "sm.solve(ueqs, q1.diff(), q2.diff(), q3.diff())"
   ]
  }
 ],
 "metadata": {
  "kernelspec": {
   "display_name": "Python 3",
   "language": "python",
   "name": "python3"
  },
  "language_info": {
   "codemirror_mode": {
    "name": "ipython",
    "version": 3
   },
   "file_extension": ".py",
   "mimetype": "text/x-python",
   "name": "python",
   "nbconvert_exporter": "python",
   "pygments_lexer": "ipython3",
   "version": "3.6.7"
  }
 },
 "nbformat": 4,
 "nbformat_minor": 4
}
