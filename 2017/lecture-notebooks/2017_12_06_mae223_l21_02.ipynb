{
 "cells": [
  {
   "cell_type": "code",
   "execution_count": 1,
   "metadata": {},
   "outputs": [],
   "source": [
    "import sympy as sm\n",
    "import sympy.physics.mechanics as me\n",
    "me.init_vprinting(use_latex=True, pretty_print=False)"
   ]
  },
  {
   "cell_type": "code",
   "execution_count": 2,
   "metadata": {},
   "outputs": [],
   "source": [
    "q1, q2, q3 = me.dynamicsymbols('q1, q2, q3')"
   ]
  },
  {
   "cell_type": "code",
   "execution_count": 3,
   "metadata": {},
   "outputs": [],
   "source": [
    "N = me.ReferenceFrame('N')"
   ]
  },
  {
   "cell_type": "code",
   "execution_count": 4,
   "metadata": {},
   "outputs": [],
   "source": [
    "A = N.orientnew('A', 'Axis', (q1, N.x))"
   ]
  },
  {
   "cell_type": "code",
   "execution_count": 5,
   "metadata": {},
   "outputs": [],
   "source": [
    "B = A.orientnew('B', 'Axis', (q2, A.y))"
   ]
  },
  {
   "cell_type": "code",
   "execution_count": 7,
   "metadata": {},
   "outputs": [],
   "source": [
    "C = B.orientnew('C', 'Axis', (q3, B.x))"
   ]
  },
  {
   "cell_type": "code",
   "execution_count": 8,
   "metadata": {},
   "outputs": [
    {
     "data": {
      "image/png": "[encoded data removed]",
      "text/latex": [
       "$$\\left[\\begin{matrix}\\operatorname{cos}\\left(q_{2}\\right) & \\operatorname{sin}\\left(q_{1}\\right) \\operatorname{sin}\\left(q_{2}\\right) & - \\operatorname{sin}\\left(q_{2}\\right) \\operatorname{cos}\\left(q_{1}\\right)\\\\\\operatorname{sin}\\left(q_{2}\\right) \\operatorname{sin}\\left(q_{3}\\right) & - \\operatorname{sin}\\left(q_{1}\\right) \\operatorname{sin}\\left(q_{3}\\right) \\operatorname{cos}\\left(q_{2}\\right) + \\operatorname{cos}\\left(q_{1}\\right) \\operatorname{cos}\\left(q_{3}\\right) & \\operatorname{sin}\\left(q_{1}\\right) \\operatorname{cos}\\left(q_{3}\\right) + \\operatorname{sin}\\left(q_{3}\\right) \\operatorname{cos}\\left(q_{1}\\right) \\operatorname{cos}\\left(q_{2}\\right)\\\\\\operatorname{sin}\\left(q_{2}\\right) \\operatorname{cos}\\left(q_{3}\\right) & - \\operatorname{sin}\\left(q_{1}\\right) \\operatorname{cos}\\left(q_{2}\\right) \\operatorname{cos}\\left(q_{3}\\right) - \\operatorname{sin}\\left(q_{3}\\right) \\operatorname{cos}\\left(q_{1}\\right) & - \\operatorname{sin}\\left(q_{1}\\right) \\operatorname{sin}\\left(q_{3}\\right) + \\operatorname{cos}\\left(q_{1}\\right) \\operatorname{cos}\\left(q_{2}\\right) \\operatorname{cos}\\left(q_{3}\\right)\\end{matrix}\\right]$$"
      ],
      "text/plain": [
       "Matrix([\n",
       "[        cos(q2),                            sin(q1)*sin(q2),                           -sin(q2)*cos(q1)],\n",
       "[sin(q2)*sin(q3), -sin(q1)*sin(q3)*cos(q2) + cos(q1)*cos(q3),  sin(q1)*cos(q3) + sin(q3)*cos(q1)*cos(q2)],\n",
       "[sin(q2)*cos(q3), -sin(q1)*cos(q2)*cos(q3) - sin(q3)*cos(q1), -sin(q1)*sin(q3) + cos(q1)*cos(q2)*cos(q3)]])"
      ]
     },
     "execution_count": 8,
     "metadata": {},
     "output_type": "execute_result"
    }
   ],
   "source": [
    "C.dcm(N)"
   ]
  },
  {
   "cell_type": "code",
   "execution_count": 9,
   "metadata": {},
   "outputs": [],
   "source": [
    "N_body = me.ReferenceFrame('N')"
   ]
  },
  {
   "cell_type": "code",
   "execution_count": 10,
   "metadata": {},
   "outputs": [],
   "source": [
    "C_body = N_body.orientnew('C', 'Body', (q1, q2, q3), 'XYX')"
   ]
  },
  {
   "cell_type": "code",
   "execution_count": 11,
   "metadata": {},
   "outputs": [
    {
     "data": {
      "image/png": "[encoded data removed]",
      "text/latex": [
       "$$\\left[\\begin{matrix}\\operatorname{cos}\\left(q_{2}\\right) & \\operatorname{sin}\\left(q_{1}\\right) \\operatorname{sin}\\left(q_{2}\\right) & - \\operatorname{sin}\\left(q_{2}\\right) \\operatorname{cos}\\left(q_{1}\\right)\\\\\\operatorname{sin}\\left(q_{2}\\right) \\operatorname{sin}\\left(q_{3}\\right) & - \\operatorname{sin}\\left(q_{1}\\right) \\operatorname{sin}\\left(q_{3}\\right) \\operatorname{cos}\\left(q_{2}\\right) + \\operatorname{cos}\\left(q_{1}\\right) \\operatorname{cos}\\left(q_{3}\\right) & \\operatorname{sin}\\left(q_{1}\\right) \\operatorname{cos}\\left(q_{3}\\right) + \\operatorname{sin}\\left(q_{3}\\right) \\operatorname{cos}\\left(q_{1}\\right) \\operatorname{cos}\\left(q_{2}\\right)\\\\\\operatorname{sin}\\left(q_{2}\\right) \\operatorname{cos}\\left(q_{3}\\right) & - \\operatorname{sin}\\left(q_{1}\\right) \\operatorname{cos}\\left(q_{2}\\right) \\operatorname{cos}\\left(q_{3}\\right) - \\operatorname{sin}\\left(q_{3}\\right) \\operatorname{cos}\\left(q_{1}\\right) & - \\operatorname{sin}\\left(q_{1}\\right) \\operatorname{sin}\\left(q_{3}\\right) + \\operatorname{cos}\\left(q_{1}\\right) \\operatorname{cos}\\left(q_{2}\\right) \\operatorname{cos}\\left(q_{3}\\right)\\end{matrix}\\right]$$"
      ],
      "text/plain": [
       "Matrix([\n",
       "[        cos(q2),                            sin(q1)*sin(q2),                           -sin(q2)*cos(q1)],\n",
       "[sin(q2)*sin(q3), -sin(q1)*sin(q3)*cos(q2) + cos(q1)*cos(q3),  sin(q1)*cos(q3) + sin(q3)*cos(q1)*cos(q2)],\n",
       "[sin(q2)*cos(q3), -sin(q1)*cos(q2)*cos(q3) - sin(q3)*cos(q1), -sin(q1)*sin(q3) + cos(q1)*cos(q2)*cos(q3)]])"
      ]
     },
     "execution_count": 11,
     "metadata": {},
     "output_type": "execute_result"
    }
   ],
   "source": [
    "C_body.dcm(N_body)"
   ]
  },
  {
   "cell_type": "code",
   "execution_count": 14,
   "metadata": {},
   "outputs": [
    {
     "data": {
      "image/png": "[encoded data removed]",
      "text/latex": [
       "$$(\\operatorname{cos}\\left(q_{2}\\right) \\dot{q}_{1} + \\dot{q}_{3})\\mathbf{\\hat{c}_x} + (\\operatorname{sin}\\left(q_{2}\\right) \\operatorname{sin}\\left(q_{3}\\right) \\dot{q}_{1} + \\operatorname{cos}\\left(q_{3}\\right) \\dot{q}_{2})\\mathbf{\\hat{c}_y} + (\\operatorname{sin}\\left(q_{2}\\right) \\operatorname{cos}\\left(q_{3}\\right) \\dot{q}_{1} - \\operatorname{sin}\\left(q_{3}\\right) \\dot{q}_{2})\\mathbf{\\hat{c}_z}$$"
      ],
      "text/plain": [
       "(cos(q2)*q1' + q3')*C.x + (sin(q2)*sin(q3)*q1' + cos(q3)*q2')*C.y + (sin(q2)*cos(q3)*q1' - sin(q3)*q2')*C.z"
      ]
     },
     "execution_count": 14,
     "metadata": {},
     "output_type": "execute_result"
    }
   ],
   "source": [
    "w_C_N = C_body.ang_vel_in(N_body)\n",
    "w_C_N"
   ]
  },
  {
   "cell_type": "code",
   "execution_count": null,
   "metadata": {},
   "outputs": [],
   "source": []
  },
  {
   "cell_type": "code",
   "execution_count": 16,
   "metadata": {},
   "outputs": [],
   "source": [
    "u1 = w_C_N.dot(C_body.x)\n",
    "u2 = w_C_N.dot(C_body.y)\n",
    "u3 = w_C_N.dot(C_body.z)"
   ]
  },
  {
   "cell_type": "code",
   "execution_count": 18,
   "metadata": {},
   "outputs": [
    {
     "data": {
      "image/png": "[encoded data removed]",
      "text/latex": [
       "$$\\operatorname{cos}\\left(q_{2}\\right) \\dot{q}_{1} + \\dot{q}_{3}$$"
      ],
      "text/plain": [
       "cos(q2)*q1' + q3'"
      ]
     },
     "execution_count": 18,
     "metadata": {},
     "output_type": "execute_result"
    }
   ],
   "source": [
    "u1"
   ]
  },
  {
   "cell_type": "code",
   "execution_count": 19,
   "metadata": {},
   "outputs": [
    {
     "data": {
      "image/png": "[encoded data removed]",
      "text/latex": [
       "$$\\operatorname{sin}\\left(q_{2}\\right) \\operatorname{sin}\\left(q_{3}\\right) \\dot{q}_{1} + \\operatorname{cos}\\left(q_{3}\\right) \\dot{q}_{2}$$"
      ],
      "text/plain": [
       "sin(q2)*sin(q3)*q1' + cos(q3)*q2'"
      ]
     },
     "execution_count": 19,
     "metadata": {},
     "output_type": "execute_result"
    }
   ],
   "source": [
    "u2"
   ]
  },
  {
   "cell_type": "code",
   "execution_count": 20,
   "metadata": {},
   "outputs": [
    {
     "data": {
      "image/png": "[encoded data removed]",
      "text/latex": [
       "$$\\operatorname{sin}\\left(q_{2}\\right) \\operatorname{cos}\\left(q_{3}\\right) \\dot{q}_{1} - \\operatorname{sin}\\left(q_{3}\\right) \\dot{q}_{2}$$"
      ],
      "text/plain": [
       "sin(q2)*cos(q3)*q1' - sin(q3)*q2'"
      ]
     },
     "execution_count": 20,
     "metadata": {},
     "output_type": "execute_result"
    }
   ],
   "source": [
    "u3"
   ]
  },
  {
   "cell_type": "code",
   "execution_count": 17,
   "metadata": {},
   "outputs": [
    {
     "data": {
      "image/png": "[encoded data removed]",
      "text/latex": [
       "$$\\left \\{ \\dot{q}_{1} : 0, \\quad \\dot{q}_{2} : 0, \\quad \\dot{q}_{3} : 0\\right \\}$$"
      ],
      "text/plain": [
       "{q1': 0, q2': 0, q3': 0}"
      ]
     },
     "execution_count": 17,
     "metadata": {},
     "output_type": "execute_result"
    }
   ],
   "source": [
    "sm.solve([u1, u2, u3], q1.diff(), q2.diff(), q3.diff())"
   ]
  },
  {
   "cell_type": "code",
   "execution_count": null,
   "metadata": {},
   "outputs": [],
   "source": []
  }
 ],
 "metadata": {
  "kernelspec": {
   "display_name": "Python 3",
   "language": "python",
   "name": "python3"
  },
  "language_info": {
   "codemirror_mode": {
    "name": "ipython",
    "version": 3
   },
   "file_extension": ".py",
   "mimetype": "text/x-python",
   "name": "python",
   "nbconvert_exporter": "python",
   "pygments_lexer": "ipython3",
   "version": "3.6.2"
  }
 },
 "nbformat": 4,
 "nbformat_minor": 2
}
