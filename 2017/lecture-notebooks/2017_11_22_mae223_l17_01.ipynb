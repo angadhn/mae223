{
 "cells": [
  {
   "cell_type": "code",
   "execution_count": 1,
   "metadata": {},
   "outputs": [],
   "source": [
    "import sympy as sm\n",
    "import sympy.physics.mechanics as me\n",
    "me.init_vprinting(use_latex=True, pretty_print=False)"
   ]
  },
  {
   "cell_type": "markdown",
   "metadata": {},
   "source": [
    "# Generalized coordinates"
   ]
  },
  {
   "cell_type": "code",
   "execution_count": 2,
   "metadata": {},
   "outputs": [],
   "source": [
    "q1, q2, q3 = me.dynamicsymbols('q1, q2, q3')"
   ]
  },
  {
   "cell_type": "markdown",
   "metadata": {},
   "source": [
    "# Generalized speeds"
   ]
  },
  {
   "cell_type": "code",
   "execution_count": 3,
   "metadata": {},
   "outputs": [],
   "source": [
    "u1, u2, u3 = me.dynamicsymbols('u1, u2, u3')"
   ]
  },
  {
   "cell_type": "markdown",
   "metadata": {},
   "source": [
    "# Specified Inputs"
   ]
  },
  {
   "cell_type": "code",
   "execution_count": 4,
   "metadata": {},
   "outputs": [],
   "source": [
    "F, T = me.dynamicsymbols('F, T')"
   ]
  },
  {
   "cell_type": "markdown",
   "metadata": {},
   "source": [
    "# Constants"
   ]
  },
  {
   "cell_type": "code",
   "execution_count": 5,
   "metadata": {},
   "outputs": [
    {
     "data": {
      "image/png": "[encoded data removed]",
      "text/latex": [
       "$$I_{B_bo}$$"
      ],
      "text/plain": [
       "I_{B_bo}"
      ]
     },
     "execution_count": 5,
     "metadata": {},
     "output_type": "execute_result"
    }
   ],
   "source": [
    "k, c, ma, mb, mc, IB_bo, l, kT, g = sm.symbols('k, c, m_a, m_b, m_c, I_{B_bo}, l, k_T, g')\n",
    "IB_bo"
   ]
  },
  {
   "cell_type": "markdown",
   "metadata": {},
   "source": [
    "# Reference Frames"
   ]
  },
  {
   "cell_type": "code",
   "execution_count": 6,
   "metadata": {},
   "outputs": [],
   "source": [
    "N = me.ReferenceFrame('N')"
   ]
  },
  {
   "cell_type": "code",
   "execution_count": 7,
   "metadata": {},
   "outputs": [],
   "source": [
    "B = N.orientnew('B', 'Axis', (q2, N.z))"
   ]
  },
  {
   "cell_type": "code",
   "execution_count": 8,
   "metadata": {},
   "outputs": [],
   "source": [
    "C = B.orientnew('C', 'Axis', (q3, N.z))"
   ]
  },
  {
   "cell_type": "markdown",
   "metadata": {},
   "source": [
    "# Kinematic Differential Equations\n",
    "\n",
    "$$\n",
    "u_i = \\dot{q}_i \\\\\n",
    "0 = u_i - \\dot{q}_i\n",
    "$$\n"
   ]
  },
  {
   "cell_type": "code",
   "execution_count": 9,
   "metadata": {},
   "outputs": [
    {
     "data": {
      "image/png": "[encoded data removed]",
      "text/latex": [
       "$$\\left [ u_{1} - \\dot{q}_{1}, \\quad u_{2} - \\dot{q}_{2}, \\quad u_{3} - \\dot{q}_{3}\\right ]$$"
      ],
      "text/plain": [
       "[u1 - q1', u2 - q2', u3 - q3']"
      ]
     },
     "execution_count": 9,
     "metadata": {},
     "output_type": "execute_result"
    }
   ],
   "source": [
    "kdes = [u1 - q1.diff(),\n",
    "        u2 - q2.diff(),\n",
    "        u3 - q3.diff()]\n",
    "kdes"
   ]
  },
  {
   "cell_type": "markdown",
   "metadata": {},
   "source": [
    "# Angular Velocities"
   ]
  },
  {
   "cell_type": "code",
   "execution_count": 10,
   "metadata": {},
   "outputs": [],
   "source": [
    "B.set_ang_vel(N, u2 * N.z)"
   ]
  },
  {
   "cell_type": "code",
   "execution_count": 11,
   "metadata": {},
   "outputs": [],
   "source": [
    "C.set_ang_vel(B, u3 * N.z)"
   ]
  },
  {
   "cell_type": "markdown",
   "metadata": {},
   "source": [
    "# Points"
   ]
  },
  {
   "cell_type": "code",
   "execution_count": 12,
   "metadata": {},
   "outputs": [],
   "source": [
    "O = me.Point('O')"
   ]
  },
  {
   "cell_type": "code",
   "execution_count": 13,
   "metadata": {},
   "outputs": [],
   "source": [
    "Pab = O.locatenew('P_{ab}', q1 * N.x)"
   ]
  },
  {
   "cell_type": "code",
   "execution_count": 14,
   "metadata": {},
   "outputs": [],
   "source": [
    "Bo = Pab.locatenew('B_o', - 2 * l / 3 * B.y)"
   ]
  },
  {
   "cell_type": "code",
   "execution_count": 15,
   "metadata": {},
   "outputs": [],
   "source": [
    "Pbc = Pab.locatenew('P_{bc}', -l * B.y)"
   ]
  },
  {
   "cell_type": "code",
   "execution_count": 16,
   "metadata": {},
   "outputs": [],
   "source": [
    "Pc = Pbc.locatenew('P_c', -l * C.y)"
   ]
  },
  {
   "cell_type": "code",
   "execution_count": 17,
   "metadata": {},
   "outputs": [
    {
     "data": {
      "image/png": "[encoded data removed]",
      "text/latex": [
       "$$-  l\\mathbf{\\hat{c}_y} -  l\\mathbf{\\hat{b}_y} + q_{1}\\mathbf{\\hat{n}_x}$$"
      ],
      "text/plain": [
       "q1*N.x - l*B.y - l*C.y"
      ]
     },
     "execution_count": 17,
     "metadata": {},
     "output_type": "execute_result"
    }
   ],
   "source": [
    "Pc.pos_from(O)"
   ]
  },
  {
   "cell_type": "markdown",
   "metadata": {},
   "source": [
    "# Linear Velocities"
   ]
  },
  {
   "cell_type": "code",
   "execution_count": 18,
   "metadata": {},
   "outputs": [],
   "source": [
    "Pab.set_vel(N, u1 * N.x)"
   ]
  },
  {
   "cell_type": "code",
   "execution_count": 19,
   "metadata": {},
   "outputs": [
    {
     "data": {
      "image/png": "[encoded data removed]",
      "text/latex": [
       "$$u_{1}\\mathbf{\\hat{n}_x} + \\frac{2 l}{3} u_{2}\\mathbf{\\hat{b}_x}$$"
      ],
      "text/plain": [
       "u1*N.x + 2*l*u2/3*B.x"
      ]
     },
     "execution_count": 19,
     "metadata": {},
     "output_type": "execute_result"
    }
   ],
   "source": [
    "Bo.v2pt_theory(Pab, N, B)"
   ]
  },
  {
   "cell_type": "code",
   "execution_count": 20,
   "metadata": {},
   "outputs": [
    {
     "data": {
      "image/png": "[encoded data removed]",
      "text/latex": [
       "$$u_{1}\\mathbf{\\hat{n}_x} + l u_{2}\\mathbf{\\hat{b}_x}$$"
      ],
      "text/plain": [
       "u1*N.x + l*u2*B.x"
      ]
     },
     "execution_count": 20,
     "metadata": {},
     "output_type": "execute_result"
    }
   ],
   "source": [
    "Pbc.v2pt_theory(Pab, N, B)"
   ]
  },
  {
   "cell_type": "code",
   "execution_count": 21,
   "metadata": {},
   "outputs": [
    {
     "data": {
      "image/png": "[encoded data removed]",
      "text/latex": [
       "$$u_{1}\\mathbf{\\hat{n}_x} + l u_{2}\\mathbf{\\hat{b}_x} + l \\left(u_{2} + u_{3}\\right)\\mathbf{\\hat{c}_x}$$"
      ],
      "text/plain": [
       "u1*N.x + l*u2*B.x + l*(u2 + u3)*C.x"
      ]
     },
     "execution_count": 21,
     "metadata": {},
     "output_type": "execute_result"
    }
   ],
   "source": [
    "Pc.v2pt_theory(Pbc, N, C)"
   ]
  },
  {
   "cell_type": "markdown",
   "metadata": {},
   "source": [
    "# Partial Velocities"
   ]
  },
  {
   "cell_type": "code",
   "execution_count": 22,
   "metadata": {},
   "outputs": [
    {
     "data": {
      "image/png": "[encoded data removed]",
      "text/latex": [
       "$$\\mathbf{\\hat{n}_x}$$"
      ],
      "text/plain": [
       "N.x"
      ]
     },
     "execution_count": 22,
     "metadata": {},
     "output_type": "execute_result"
    }
   ],
   "source": [
    "Pab.vel(N).diff(u1, N)"
   ]
  },
  {
   "cell_type": "code",
   "execution_count": 23,
   "metadata": {},
   "outputs": [
    {
     "data": {
      "image/png": "[encoded data removed]",
      "text/latex": [
       "$$\\mathbf{\\hat{n}_x}$$"
      ],
      "text/plain": [
       "N.x"
      ]
     },
     "execution_count": 23,
     "metadata": {},
     "output_type": "execute_result"
    }
   ],
   "source": [
    "Pab.partial_velocity(N, u1)"
   ]
  },
  {
   "cell_type": "code",
   "execution_count": 24,
   "metadata": {},
   "outputs": [
    {
     "data": {
      "image/png": "[encoded data removed]",
      "text/latex": [
       "$$\\left ( \\mathbf{\\hat{n}_x}, \\quad 0, \\quad 0\\right )$$"
      ],
      "text/plain": [
       "(N.x, 0, 0)"
      ]
     },
     "execution_count": 24,
     "metadata": {},
     "output_type": "execute_result"
    }
   ],
   "source": [
    "Pab.partial_velocity(N, u1, u2, u3)"
   ]
  },
  {
   "cell_type": "code",
   "execution_count": 25,
   "metadata": {},
   "outputs": [
    {
     "data": {
      "image/png": "[encoded data removed]",
      "text/latex": [
       "$$\\left ( \\mathbf{\\hat{n}_x}, \\quad \\frac{2 l}{3}\\mathbf{\\hat{b}_x}, \\quad 0\\right )$$"
      ],
      "text/plain": [
       "(N.x, 2*l/3*B.x, 0)"
      ]
     },
     "execution_count": 25,
     "metadata": {},
     "output_type": "execute_result"
    }
   ],
   "source": [
    "Bo.partial_velocity(N, u1, u2, u3)"
   ]
  },
  {
   "cell_type": "code",
   "execution_count": 26,
   "metadata": {},
   "outputs": [
    {
     "data": {
      "image/png": "[encoded data removed]",
      "text/latex": [
       "$$\\left ( \\mathbf{\\hat{n}_x}, \\quad l\\mathbf{\\hat{b}_x} + l\\mathbf{\\hat{c}_x}, \\quad l\\mathbf{\\hat{c}_x}\\right )$$"
      ],
      "text/plain": [
       "(N.x, l*B.x + l*C.x, l*C.x)"
      ]
     },
     "execution_count": 26,
     "metadata": {},
     "output_type": "execute_result"
    }
   ],
   "source": [
    "Pc.partial_velocity(N, u1, u2, u3)"
   ]
  },
  {
   "cell_type": "code",
   "execution_count": 27,
   "metadata": {},
   "outputs": [
    {
     "data": {
      "image/png": "[encoded data removed]",
      "text/latex": [
       "$$\\left ( 0, \\quad \\mathbf{\\hat{n}_z}, \\quad 0\\right )$$"
      ],
      "text/plain": [
       "(0, N.z, 0)"
      ]
     },
     "execution_count": 27,
     "metadata": {},
     "output_type": "execute_result"
    }
   ],
   "source": [
    "B.partial_velocity(N, u1, u2, u3)"
   ]
  },
  {
   "cell_type": "code",
   "execution_count": 28,
   "metadata": {},
   "outputs": [
    {
     "data": {
      "image/png": "[encoded data removed]",
      "text/latex": [
       "$$\\left [ 0, \\quad \\mathbf{\\hat{n}_z}, \\quad 0\\right ]$$"
      ],
      "text/plain": [
       "[0, N.z, 0]"
      ]
     },
     "execution_count": 28,
     "metadata": {},
     "output_type": "execute_result"
    }
   ],
   "source": [
    "[B.ang_vel_in(N).diff(ur, N) for ur in [u1, u2, u3]]"
   ]
  },
  {
   "cell_type": "markdown",
   "metadata": {},
   "source": [
    "# Angular Accelerations"
   ]
  },
  {
   "cell_type": "code",
   "execution_count": 29,
   "metadata": {},
   "outputs": [
    {
     "data": {
      "image/png": "[encoded data removed]",
      "text/latex": [
       "$$\\dot{u}_{2}\\mathbf{\\hat{n}_z}$$"
      ],
      "text/plain": [
       "u2'*N.z"
      ]
     },
     "execution_count": 29,
     "metadata": {},
     "output_type": "execute_result"
    }
   ],
   "source": [
    "alpha_B_N = B.ang_acc_in(N)\n",
    "alpha_B_N"
   ]
  },
  {
   "cell_type": "code",
   "execution_count": 30,
   "metadata": {},
   "outputs": [
    {
     "data": {
      "image/png": "[encoded data removed]",
      "text/latex": [
       "$$\\dot{u}_{1}\\mathbf{\\hat{n}_x}$$"
      ],
      "text/plain": [
       "u1'*N.x"
      ]
     },
     "execution_count": 30,
     "metadata": {},
     "output_type": "execute_result"
    }
   ],
   "source": [
    "a_Pab_N = Pab.acc(N)\n",
    "a_Pab_N"
   ]
  },
  {
   "cell_type": "code",
   "execution_count": 31,
   "metadata": {},
   "outputs": [
    {
     "data": {
      "image/png": "[encoded data removed]",
      "text/latex": [
       "$$\\dot{u}_{1}\\mathbf{\\hat{n}_x} + \\frac{2 l}{3} \\dot{u}_{2}\\mathbf{\\hat{b}_x} + \\frac{2 l}{3} u^{2}_{2}\\mathbf{\\hat{b}_y}$$"
      ],
      "text/plain": [
       "u1'*N.x + 2*l*u2'/3*B.x + 2*l*u2**2/3*B.y"
      ]
     },
     "execution_count": 31,
     "metadata": {},
     "output_type": "execute_result"
    }
   ],
   "source": [
    "a_Bo_N = Bo.acc(N)\n",
    "a_Bo_N"
   ]
  },
  {
   "cell_type": "code",
   "execution_count": 32,
   "metadata": {},
   "outputs": [
    {
     "data": {
      "image/png": "[encoded data removed]",
      "text/latex": [
       "$$\\dot{u}_{1}\\mathbf{\\hat{n}_x} + l \\dot{u}_{2}\\mathbf{\\hat{b}_x} + l u^{2}_{2}\\mathbf{\\hat{b}_y} + l \\left(\\dot{u}_{2} + \\dot{u}_{3}\\right)\\mathbf{\\hat{c}_x} + l \\left(u_{2} + u_{3}\\right)^{2}\\mathbf{\\hat{c}_y}$$"
      ],
      "text/plain": [
       "u1'*N.x + l*u2'*B.x + l*u2**2*B.y + l*(u2' + u3')*C.x + l*(u2 + u3)**2*C.y"
      ]
     },
     "execution_count": 32,
     "metadata": {},
     "output_type": "execute_result"
    }
   ],
   "source": [
    "a_Pc_N = Pc.acc(N)\n",
    "a_Pc_N"
   ]
  },
  {
   "cell_type": "markdown",
   "metadata": {},
   "source": [
    "# Loads (forces and torques)"
   ]
  },
  {
   "cell_type": "code",
   "execution_count": 33,
   "metadata": {},
   "outputs": [
    {
     "data": {
      "image/png": "[encoded data removed]",
      "text/latex": [
       "$$(- c u_{1} - k q_{1} + F)\\mathbf{\\hat{n}_x}$$"
      ],
      "text/plain": [
       "(-c*u1 - k*q1 + F)*N.x"
      ]
     },
     "execution_count": 33,
     "metadata": {},
     "output_type": "execute_result"
    }
   ],
   "source": [
    "Rab = (F - k * q1 - c * u1) * N.x\n",
    "Rab"
   ]
  },
  {
   "cell_type": "code",
   "execution_count": 34,
   "metadata": {},
   "outputs": [
    {
     "data": {
      "image/png": "[encoded data removed]",
      "text/latex": [
       "$$-  g m_{b}\\mathbf{\\hat{n}_y}$$"
      ],
      "text/plain": [
       "- g*m_b*N.y"
      ]
     },
     "execution_count": 34,
     "metadata": {},
     "output_type": "execute_result"
    }
   ],
   "source": [
    "Rbo = -(mb * g) * N.y\n",
    "Rbo"
   ]
  },
  {
   "cell_type": "code",
   "execution_count": 35,
   "metadata": {},
   "outputs": [
    {
     "data": {
      "image/png": "[encoded data removed]",
      "text/latex": [
       "$$-  g m_{c}\\mathbf{\\hat{n}_y}$$"
      ],
      "text/plain": [
       "- g*m_c*N.y"
      ]
     },
     "execution_count": 35,
     "metadata": {},
     "output_type": "execute_result"
    }
   ],
   "source": [
    "Rc = -(mc * g) * N.y\n",
    "Rc"
   ]
  },
  {
   "cell_type": "code",
   "execution_count": 36,
   "metadata": {},
   "outputs": [
    {
     "data": {
      "image/png": "[encoded data removed]",
      "text/latex": [
       "$$(k_{T} q_{3} + T)\\mathbf{\\hat{n}_z}$$"
      ],
      "text/plain": [
       "(k_T*q3 + T)*N.z"
      ]
     },
     "execution_count": 36,
     "metadata": {},
     "output_type": "execute_result"
    }
   ],
   "source": [
    "TB = (T + kT * q3) * N.z\n",
    "TB"
   ]
  },
  {
   "cell_type": "markdown",
   "metadata": {},
   "source": [
    "# Mass and Inertia"
   ]
  },
  {
   "cell_type": "code",
   "execution_count": 37,
   "metadata": {},
   "outputs": [
    {
     "data": {
      "image/png": "[encoded data removed]",
      "text/latex": [
       "$$I_{B_bo}\\mathbf{\\hat{b}_z}\\otimes \\mathbf{\\hat{b}_z}$$"
      ],
      "text/plain": [
       "I_{B_bo}*(B.z|B.z)"
      ]
     },
     "execution_count": 37,
     "metadata": {},
     "output_type": "execute_result"
    }
   ],
   "source": [
    "IB = me.inertia(B, 0, 0, IB_bo)\n",
    "IB"
   ]
  },
  {
   "cell_type": "code",
   "execution_count": 38,
   "metadata": {},
   "outputs": [
    {
     "data": {
      "image/png": "[encoded data removed]",
      "text/latex": [
       "$$\\left ( m_{a}, \\quad m_{c}\\right )$$"
      ],
      "text/plain": [
       "(m_a, m_c)"
      ]
     },
     "execution_count": 38,
     "metadata": {},
     "output_type": "execute_result"
    }
   ],
   "source": [
    "ma, mc"
   ]
  },
  {
   "cell_type": "markdown",
   "metadata": {},
   "source": [
    "# Particles and Bodies"
   ]
  },
  {
   "cell_type": "code",
   "execution_count": 39,
   "metadata": {},
   "outputs": [],
   "source": [
    "slider = me.Particle('slider', Pab, ma)\n",
    "bob = me.Particle('bob', Pc, mc)"
   ]
  },
  {
   "cell_type": "code",
   "execution_count": 40,
   "metadata": {},
   "outputs": [],
   "source": [
    "pend = me.RigidBody('pend', Bo, B, mb, (IB, Bo))"
   ]
  },
  {
   "cell_type": "code",
   "execution_count": 41,
   "metadata": {},
   "outputs": [],
   "source": [
    "bodies = [slider, bob, pend]"
   ]
  },
  {
   "cell_type": "markdown",
   "metadata": {},
   "source": [
    "# Loads (forces and torques)"
   ]
  },
  {
   "cell_type": "code",
   "execution_count": 42,
   "metadata": {},
   "outputs": [],
   "source": [
    "loads = [(Pab, Rab),\n",
    "         (Pc, Rc),\n",
    "         (Bo, Rbo),\n",
    "         (B, TB)]"
   ]
  },
  {
   "cell_type": "code",
   "execution_count": 43,
   "metadata": {},
   "outputs": [],
   "source": [
    "q = sm.Matrix([q1, q2, q3])\n",
    "u = sm.Matrix([u1, u2, u3])"
   ]
  },
  {
   "cell_type": "code",
   "execution_count": 44,
   "metadata": {},
   "outputs": [],
   "source": [
    "kane = me.KanesMethod(N, q, u, kd_eqs=kdes)"
   ]
  },
  {
   "cell_type": "code",
   "execution_count": 45,
   "metadata": {},
   "outputs": [],
   "source": [
    "Fr, Frstar = kane.kanes_equations(bodies, loads)"
   ]
  },
  {
   "cell_type": "code",
   "execution_count": 46,
   "metadata": {},
   "outputs": [
    {
     "data": {
      "image/png": "[encoded data removed]",
      "text/latex": [
       "$$\\left[\\begin{matrix}- c u_{1} - k q_{1} + F\\\\- \\frac{2 g}{3} l m_{b} \\operatorname{sin}\\left(q_{2}\\right) - g l m_{c} \\left(\\operatorname{sin}\\left(q_{2}\\right) \\operatorname{cos}\\left(q_{3}\\right) + \\operatorname{sin}\\left(q_{3}\\right) \\operatorname{cos}\\left(q_{2}\\right)\\right) - g l m_{c} \\operatorname{sin}\\left(q_{2}\\right) + k_{T} q_{3} + T\\\\- g l m_{c} \\left(\\operatorname{sin}\\left(q_{2}\\right) \\operatorname{cos}\\left(q_{3}\\right) + \\operatorname{sin}\\left(q_{3}\\right) \\operatorname{cos}\\left(q_{2}\\right)\\right)\\end{matrix}\\right]$$"
      ],
      "text/plain": [
       "Matrix([\n",
       "[                                                                                 -c*u1 - k*q1 + F],\n",
       "[-2*g*l*m_b*sin(q2)/3 - g*l*m_c*(sin(q2)*cos(q3) + sin(q3)*cos(q2)) - g*l*m_c*sin(q2) + k_T*q3 + T],\n",
       "[                                                     -g*l*m_c*(sin(q2)*cos(q3) + sin(q3)*cos(q2))]])"
      ]
     },
     "execution_count": 46,
     "metadata": {},
     "output_type": "execute_result"
    }
   ],
   "source": [
    "Fr"
   ]
  },
  {
   "cell_type": "code",
   "execution_count": 47,
   "metadata": {},
   "outputs": [
    {
     "data": {
      "image/png": "[encoded data removed]",
      "text/latex": [
       "$$\\left[\\begin{matrix}\\frac{2 l}{3} m_{b} u^{2}_{2} \\operatorname{sin}\\left(q_{2}\\right) - l m_{c} \\left(- \\operatorname{sin}\\left(q_{2}\\right) \\operatorname{sin}\\left(q_{3}\\right) + \\operatorname{cos}\\left(q_{2}\\right) \\operatorname{cos}\\left(q_{3}\\right)\\right) \\dot{u}_{3} - l m_{c} \\left(- \\operatorname{sin}\\left(q_{2}\\right) \\operatorname{cos}\\left(q_{3}\\right) - \\operatorname{sin}\\left(q_{3}\\right) \\operatorname{cos}\\left(q_{2}\\right)\\right) \\left(u_{2} + u_{3}\\right)^{2} + l m_{c} u^{2}_{2} \\operatorname{sin}\\left(q_{2}\\right) - \\left(\\frac{2 l}{3} m_{b} \\operatorname{cos}\\left(q_{2}\\right) + m_{c} \\left(l \\left(- \\operatorname{sin}\\left(q_{2}\\right) \\operatorname{sin}\\left(q_{3}\\right) + \\operatorname{cos}\\left(q_{2}\\right) \\operatorname{cos}\\left(q_{3}\\right)\\right) + l \\operatorname{cos}\\left(q_{2}\\right)\\right)\\right) \\dot{u}_{2} - \\left(m_{a} + m_{b} + m_{c}\\right) \\dot{u}_{1}\\\\l^{2} m_{c} \\left(u_{2} + u_{3}\\right)^{2} \\operatorname{sin}\\left(q_{3}\\right) - l^{2} m_{c} u^{2}_{2} \\operatorname{sin}\\left(q_{3}\\right) - m_{c} \\left(l^{2} \\operatorname{cos}\\left(q_{3}\\right) + l^{2}\\right) \\dot{u}_{3} - \\left(\\frac{2 l}{3} m_{b} \\operatorname{cos}\\left(q_{2}\\right) + m_{c} \\left(l \\left(- \\operatorname{sin}\\left(q_{2}\\right) \\operatorname{sin}\\left(q_{3}\\right) + \\operatorname{cos}\\left(q_{2}\\right) \\operatorname{cos}\\left(q_{3}\\right)\\right) + l \\operatorname{cos}\\left(q_{2}\\right)\\right)\\right) \\dot{u}_{1} - \\left(I_{B_bo} + \\frac{4 m_{b}}{9} l^{2} + m_{c} \\left(2 l^{2} \\operatorname{cos}\\left(q_{3}\\right) + 2 l^{2}\\right)\\right) \\dot{u}_{2}\\\\- l^{2} m_{c} u^{2}_{2} \\operatorname{sin}\\left(q_{3}\\right) - l^{2} m_{c} \\dot{u}_{3} - l m_{c} \\left(- \\operatorname{sin}\\left(q_{2}\\right) \\operatorname{sin}\\left(q_{3}\\right) + \\operatorname{cos}\\left(q_{2}\\right) \\operatorname{cos}\\left(q_{3}\\right)\\right) \\dot{u}_{1} - m_{c} \\left(l^{2} \\operatorname{cos}\\left(q_{3}\\right) + l^{2}\\right) \\dot{u}_{2}\\end{matrix}\\right]$$"
      ],
      "text/plain": [
       "Matrix([\n",
       "[2*l*m_b*u2**2*sin(q2)/3 - l*m_c*(-sin(q2)*sin(q3) + cos(q2)*cos(q3))*u3' - l*m_c*(-sin(q2)*cos(q3) - sin(q3)*cos(q2))*(u2 + u3)**2 + l*m_c*u2**2*sin(q2) - (2*l*m_b*cos(q2)/3 + m_c*(l*(-sin(q2)*sin(q3) + cos(q2)*cos(q3)) + l*cos(q2)))*u2' - (m_a + m_b + m_c)*u1'],\n",
       "[                          l**2*m_c*(u2 + u3)**2*sin(q3) - l**2*m_c*u2**2*sin(q3) - m_c*(l**2*cos(q3) + l**2)*u3' - (2*l*m_b*cos(q2)/3 + m_c*(l*(-sin(q2)*sin(q3) + cos(q2)*cos(q3)) + l*cos(q2)))*u1' - (I_{B_bo} + 4*l**2*m_b/9 + m_c*(2*l**2*cos(q3) + 2*l**2))*u2'],\n",
       "[                                                                                                                                              -l**2*m_c*u2**2*sin(q3) - l**2*m_c*u3' - l*m_c*(-sin(q2)*sin(q3) + cos(q2)*cos(q3))*u1' - m_c*(l**2*cos(q3) + l**2)*u2']])"
      ]
     },
     "execution_count": 47,
     "metadata": {},
     "output_type": "execute_result"
    }
   ],
   "source": [
    "Frstar"
   ]
  },
  {
   "cell_type": "markdown",
   "metadata": {},
   "source": [
    "# Simulation"
   ]
  },
  {
   "cell_type": "code",
   "execution_count": 48,
   "metadata": {},
   "outputs": [],
   "source": [
    "import numpy as np\n",
    "from pydy.system import System"
   ]
  },
  {
   "cell_type": "markdown",
   "metadata": {},
   "source": [
    "Simulate for 5 seconds and return the values of the states every 5 ms. Use a 1D numpy array to specify this."
   ]
  },
  {
   "cell_type": "code",
   "execution_count": 49,
   "metadata": {},
   "outputs": [],
   "source": [
    "times = np.linspace(0.0, 5.0, num=1001)"
   ]
  },
  {
   "cell_type": "code",
   "execution_count": 50,
   "metadata": {},
   "outputs": [
    {
     "data": {
      "text/plain": [
       "array([ 0.   ,  0.005,  0.01 , ...,  4.99 ,  4.995,  5.   ])"
      ]
     },
     "execution_count": 50,
     "metadata": {},
     "output_type": "execute_result"
    }
   ],
   "source": [
    "times"
   ]
  },
  {
   "cell_type": "code",
   "execution_count": 51,
   "metadata": {},
   "outputs": [
    {
     "data": {
      "image/png": "[encoded data removed]",
      "text/latex": [
       "$$\\left ( 1001\\right )$$"
      ],
      "text/plain": [
       "(1001,)"
      ]
     },
     "execution_count": 51,
     "metadata": {},
     "output_type": "execute_result"
    }
   ],
   "source": [
    "times.shape"
   ]
  },
  {
   "cell_type": "markdown",
   "metadata": {},
   "source": [
    "Create dictionaries that map numeric values to each symbol in the equations of motion. Make sure your units are consistent!"
   ]
  },
  {
   "cell_type": "code",
   "execution_count": 52,
   "metadata": {},
   "outputs": [],
   "source": [
    "constants = {l: 1.0,  # meter\n",
    "             g: 9.81, # meter per second squared\n",
    "             k: 50.0,  # Newton per meter\n",
    "             c: 0.05,  # kilogram second\n",
    "             kT: 10.0,  # Newton meter per radian\n",
    "             ma: 0.5,  # kilogram\n",
    "             mb: 0.5,  # kilogram\n",
    "             IB_bo: 0.5 * 0.5**2,  # kg m**2\n",
    "             mc:  0.5}  # meter\n",
    "\n",
    "specifieds = {F: 0.0,\n",
    "              T: 0.0}\n",
    "\n",
    "init_cond = {q1: 0.05,\n",
    "             q2: 0.0,\n",
    "             q3: 0.0,\n",
    "             u1: 0.0,\n",
    "             u2: 0.0,\n",
    "             u3: 0.0}\n",
    "\n",
    "\n",
    "sys = System(kane,\n",
    "             constants=constants,\n",
    "             specifieds=specifieds,\n",
    "             initial_conditions=init_cond,\n",
    "             times=times\n",
    "            )"
   ]
  },
  {
   "cell_type": "code",
   "execution_count": 53,
   "metadata": {},
   "outputs": [
    {
     "data": {
      "image/png": "[encoded data removed]",
      "text/latex": [
       "$$\\left \\{ I_{B_bo} : 0.125, \\quad c : 0.05, \\quad g : 9.81, \\quad k : 50.0, \\quad k_{T} : 10.0, \\quad l : 1.0, \\quad m_{a} : 0.5, \\quad m_{b} : 0.5, \\quad m_{c} : 0.5\\right \\}$$"
      ],
      "text/plain": [
       "{I_{B_bo}: 0.125, c: 0.05, g: 9.81, k: 50.0, k_T: 10.0, l: 1.0, m_a: 0.5, m_b: 0.5, m_c: 0.5}"
      ]
     },
     "execution_count": 53,
     "metadata": {},
     "output_type": "execute_result"
    }
   ],
   "source": [
    "sys.constants"
   ]
  },
  {
   "cell_type": "markdown",
   "metadata": {},
   "source": [
    "Simulate the system by integrating the equations of motion. `sys.integrate()` returns a 2D NumPy array of the state trajectories."
   ]
  },
  {
   "cell_type": "code",
   "execution_count": 54,
   "metadata": {},
   "outputs": [],
   "source": [
    "traj = sys.integrate()"
   ]
  },
  {
   "cell_type": "code",
   "execution_count": 55,
   "metadata": {},
   "outputs": [
    {
     "data": {
      "text/plain": [
       "numpy.ndarray"
      ]
     },
     "execution_count": 55,
     "metadata": {},
     "output_type": "execute_result"
    }
   ],
   "source": [
    "type(traj)"
   ]
  },
  {
   "cell_type": "code",
   "execution_count": 56,
   "metadata": {},
   "outputs": [
    {
     "data": {
      "image/png": "[encoded data removed]",
      "text/latex": [
       "$$\\left ( 1001, \\quad 6\\right )$$"
      ],
      "text/plain": [
       "(1001, 6)"
      ]
     },
     "execution_count": 56,
     "metadata": {},
     "output_type": "execute_result"
    }
   ],
   "source": [
    "traj.shape"
   ]
  },
  {
   "cell_type": "markdown",
   "metadata": {},
   "source": [
    "# Plot the state trajectories"
   ]
  },
  {
   "cell_type": "code",
   "execution_count": 57,
   "metadata": {},
   "outputs": [],
   "source": [
    "import matplotlib.pyplot as plt"
   ]
  },
  {
   "cell_type": "markdown",
   "metadata": {},
   "source": [
    "The following line enables interactive notebook plotting."
   ]
  },
  {
   "cell_type": "code",
   "execution_count": 58,
   "metadata": {},
   "outputs": [],
   "source": [
    "%matplotlib notebook"
   ]
  },
  {
   "cell_type": "code",
   "execution_count": 59,
   "metadata": {},
   "outputs": [
    {
     "data": {
      "application/javascript": [
       "/* Put everything inside the global mpl namespace */\n",
       "window.mpl = {};\n",
       "\n",
       "\n",
       "mpl.get_websocket_type = function() {\n",
       "    if (typeof(WebSocket) !== 'undefined') {\n",
       "        return WebSocket;\n",
       "    } else if (typeof(MozWebSocket) !== 'undefined') {\n",
       "        return MozWebSocket;\n",
       "    } else {\n",
       "        alert('Your browser does not have WebSocket support.' +\n",
       "              'Please try Chrome, Safari or Firefox ≥ 6. ' +\n",
       "              'Firefox 4 and 5 are also supported but you ' +\n",
       "              'have to enable WebSockets in about:config.');\n",
       "    };\n",
       "}\n",
       "\n",
       "mpl.figure = function(figure_id, websocket, ondownload, parent_element) {\n",
       "    this.id = figure_id;\n",
       "\n",
       "    this.ws = websocket;\n",
       "\n",
       "    this.supports_binary = (this.ws.binaryType != undefined);\n",
       "\n",
       "    if (!this.supports_binary) {\n",
       "        var warnings = document.getElementById(\"mpl-warnings\");\n",
       "        if (warnings) {\n",
       "            warnings.style.display = 'block';\n",
       "            warnings.textContent = (\n",
       "                \"This browser does not support binary websocket messages. \" +\n",
       "                    \"Performance may be slow.\");\n",
       "        }\n",
       "    }\n",
       "\n",
       "    this.imageObj = new Image();\n",
       "\n",
       "    this.context = undefined;\n",
       "    this.message = undefined;\n",
       "    this.canvas = undefined;\n",
       "    this.rubberband_canvas = undefined;\n",
       "    this.rubberband_context = undefined;\n",
       "    this.format_dropdown = undefined;\n",
       "\n",
       "    this.image_mode = 'full';\n",
       "\n",
       "    this.root = $('<div/>');\n",
       "    this._root_extra_style(this.root)\n",
       "    this.root.attr('style', 'display: inline-block');\n",
       "\n",
       "    $(parent_element).append(this.root);\n",
       "\n",
       "    this._init_header(this);\n",
       "    this._init_canvas(this);\n",
       "    this._init_toolbar(this);\n",
       "\n",
       "    var fig = this;\n",
       "\n",
       "    this.waiting = false;\n",
       "\n",
       "    this.ws.onopen =  function () {\n",
       "            fig.send_message(\"supports_binary\", {value: fig.supports_binary});\n",
       "            fig.send_message(\"send_image_mode\", {});\n",
       "            if (mpl.ratio != 1) {\n",
       "                fig.send_message(\"set_dpi_ratio\", {'dpi_ratio': mpl.ratio});\n",
       "            }\n",
       "            fig.send_message(\"refresh\", {});\n",
       "        }\n",
       "\n",
       "    this.imageObj.onload = function() {\n",
       "            if (fig.image_mode == 'full') {\n",
       "                // Full images could contain transparency (where diff images\n",
       "                // almost always do), so we need to clear the canvas so that\n",
       "                // there is no ghosting.\n",
       "                fig.context.clearRect(0, 0, fig.canvas.width, fig.canvas.height);\n",
       "            }\n",
       "            fig.context.drawImage(fig.imageObj, 0, 0);\n",
       "        };\n",
       "\n",
       "    this.imageObj.onunload = function() {\n",
       "        fig.ws.close();\n",
       "    }\n",
       "\n",
       "    this.ws.onmessage = this._make_on_message_function(this);\n",
       "\n",
       "    this.ondownload = ondownload;\n",
       "}\n",
       "\n",
       "mpl.figure.prototype._init_header = function() {\n",
       "    var titlebar = $(\n",
       "        '<div class=\"ui-dialog-titlebar ui-widget-header ui-corner-all ' +\n",
       "        'ui-helper-clearfix\"/>');\n",
       "    var titletext = $(\n",
       "        '<div class=\"ui-dialog-title\" style=\"width: 100%; ' +\n",
       "        'text-align: center; padding: 3px;\"/>');\n",
       "    titlebar.append(titletext)\n",
       "    this.root.append(titlebar);\n",
       "    this.header = titletext[0];\n",
       "}\n",
       "\n",
       "\n",
       "\n",
       "mpl.figure.prototype._canvas_extra_style = function(canvas_div) {\n",
       "\n",
       "}\n",
       "\n",
       "\n",
       "mpl.figure.prototype._root_extra_style = function(canvas_div) {\n",
       "\n",
       "}\n",
       "\n",
       "mpl.figure.prototype._init_canvas = function() {\n",
       "    var fig = this;\n",
       "\n",
       "    var canvas_div = $('<div/>');\n",
       "\n",
       "    canvas_div.attr('style', 'position: relative; clear: both; outline: 0');\n",
       "\n",
       "    function canvas_keyboard_event(event) {\n",
       "        return fig.key_event(event, event['data']);\n",
       "    }\n",
       "\n",
       "    canvas_div.keydown('key_press', canvas_keyboard_event);\n",
       "    canvas_div.keyup('key_release', canvas_keyboard_event);\n",
       "    this.canvas_div = canvas_div\n",
       "    this._canvas_extra_style(canvas_div)\n",
       "    this.root.append(canvas_div);\n",
       "\n",
       "    var canvas = $('<canvas/>');\n",
       "    canvas.addClass('mpl-canvas');\n",
       "    canvas.attr('style', \"left: 0; top: 0; z-index: 0; outline: 0\")\n",
       "\n",
       "    this.canvas = canvas[0];\n",
       "    this.context = canvas[0].getContext(\"2d\");\n",
       "\n",
       "    var backingStore = this.context.backingStorePixelRatio ||\n",
       "\tthis.context.webkitBackingStorePixelRatio ||\n",
       "\tthis.context.mozBackingStorePixelRatio ||\n",
       "\tthis.context.msBackingStorePixelRatio ||\n",
       "\tthis.context.oBackingStorePixelRatio ||\n",
       "\tthis.context.backingStorePixelRatio || 1;\n",
       "\n",
       "    mpl.ratio = (window.devicePixelRatio || 1) / backingStore;\n",
       "\n",
       "    var rubberband = $('<canvas/>');\n",
       "    rubberband.attr('style', \"position: absolute; left: 0; top: 0; z-index: 1;\")\n",
       "\n",
       "    var pass_mouse_events = true;\n",
       "\n",
       "    canvas_div.resizable({\n",
       "        start: function(event, ui) {\n",
       "            pass_mouse_events = false;\n",
       "        },\n",
       "        resize: function(event, ui) {\n",
       "            fig.request_resize(ui.size.width, ui.size.height);\n",
       "        },\n",
       "        stop: function(event, ui) {\n",
       "            pass_mouse_events = true;\n",
       "            fig.request_resize(ui.size.width, ui.size.height);\n",
       "        },\n",
       "    });\n",
       "\n",
       "    function mouse_event_fn(event) {\n",
       "        if (pass_mouse_events)\n",
       "            return fig.mouse_event(event, event['data']);\n",
       "    }\n",
       "\n",
       "    rubberband.mousedown('button_press', mouse_event_fn);\n",
       "    rubberband.mouseup('button_release', mouse_event_fn);\n",
       "    // Throttle sequential mouse events to 1 every 20ms.\n",
       "    rubberband.mousemove('motion_notify', mouse_event_fn);\n",
       "\n",
       "    rubberband.mouseenter('figure_enter', mouse_event_fn);\n",
       "    rubberband.mouseleave('figure_leave', mouse_event_fn);\n",
       "\n",
       "    canvas_div.on(\"wheel\", function (event) {\n",
       "        event = event.originalEvent;\n",
       "        event['data'] = 'scroll'\n",
       "        if (event.deltaY < 0) {\n",
       "            event.step = 1;\n",
       "        } else {\n",
       "            event.step = -1;\n",
       "        }\n",
       "        mouse_event_fn(event);\n",
       "    });\n",
       "\n",
       "    canvas_div.append(canvas);\n",
       "    canvas_div.append(rubberband);\n",
       "\n",
       "    this.rubberband = rubberband;\n",
       "    this.rubberband_canvas = rubberband[0];\n",
       "    this.rubberband_context = rubberband[0].getContext(\"2d\");\n",
       "    this.rubberband_context.strokeStyle = \"#000000\";\n",
       "\n",
       "    this._resize_canvas = function(width, height) {\n",
       "        // Keep the size of the canvas, canvas container, and rubber band\n",
       "        // canvas in synch.\n",
       "        canvas_div.css('width', width)\n",
       "        canvas_div.css('height', height)\n",
       "\n",
       "        canvas.attr('width', width * mpl.ratio);\n",
       "        canvas.attr('height', height * mpl.ratio);\n",
       "        canvas.attr('style', 'width: ' + width + 'px; height: ' + height + 'px;');\n",
       "\n",
       "        rubberband.attr('width', width);\n",
       "        rubberband.attr('height', height);\n",
       "    }\n",
       "\n",
       "    // Set the figure to an initial 600x600px, this will subsequently be updated\n",
       "    // upon first draw.\n",
       "    this._resize_canvas(600, 600);\n",
       "\n",
       "    // Disable right mouse context menu.\n",
       "    $(this.rubberband_canvas).bind(\"contextmenu\",function(e){\n",
       "        return false;\n",
       "    });\n",
       "\n",
       "    function set_focus () {\n",
       "        canvas.focus();\n",
       "        canvas_div.focus();\n",
       "    }\n",
       "\n",
       "    window.setTimeout(set_focus, 100);\n",
       "}\n",
       "\n",
       "mpl.figure.prototype._init_toolbar = function() {\n",
       "    var fig = this;\n",
       "\n",
       "    var nav_element = $('<div/>')\n",
       "    nav_element.attr('style', 'width: 100%');\n",
       "    this.root.append(nav_element);\n",
       "\n",
       "    // Define a callback function for later on.\n",
       "    function toolbar_event(event) {\n",
       "        return fig.toolbar_button_onclick(event['data']);\n",
       "    }\n",
       "    function toolbar_mouse_event(event) {\n",
       "        return fig.toolbar_button_onmouseover(event['data']);\n",
       "    }\n",
       "\n",
       "    for(var toolbar_ind in mpl.toolbar_items) {\n",
       "        var name = mpl.toolbar_items[toolbar_ind][0];\n",
       "        var tooltip = mpl.toolbar_items[toolbar_ind][1];\n",
       "        var image = mpl.toolbar_items[toolbar_ind][2];\n",
       "        var method_name = mpl.toolbar_items[toolbar_ind][3];\n",
       "\n",
       "        if (!name) {\n",
       "            // put a spacer in here.\n",
       "            continue;\n",
       "        }\n",
       "        var button = $('<button/>');\n",
       "        button.addClass('ui-button ui-widget ui-state-default ui-corner-all ' +\n",
       "                        'ui-button-icon-only');\n",
       "        button.attr('role', 'button');\n",
       "        button.attr('aria-disabled', 'false');\n",
       "        button.click(method_name, toolbar_event);\n",
       "        button.mouseover(tooltip, toolbar_mouse_event);\n",
       "\n",
       "        var icon_img = $('<span/>');\n",
       "        icon_img.addClass('ui-button-icon-primary ui-icon');\n",
       "        icon_img.addClass(image);\n",
       "        icon_img.addClass('ui-corner-all');\n",
       "\n",
       "        var tooltip_span = $('<span/>');\n",
       "        tooltip_span.addClass('ui-button-text');\n",
       "        tooltip_span.html(tooltip);\n",
       "\n",
       "        button.append(icon_img);\n",
       "        button.append(tooltip_span);\n",
       "\n",
       "        nav_element.append(button);\n",
       "    }\n",
       "\n",
       "    var fmt_picker_span = $('<span/>');\n",
       "\n",
       "    var fmt_picker = $('<select/>');\n",
       "    fmt_picker.addClass('mpl-toolbar-option ui-widget ui-widget-content');\n",
       "    fmt_picker_span.append(fmt_picker);\n",
       "    nav_element.append(fmt_picker_span);\n",
       "    this.format_dropdown = fmt_picker[0];\n",
       "\n",
       "    for (var ind in mpl.extensions) {\n",
       "        var fmt = mpl.extensions[ind];\n",
       "        var option = $(\n",
       "            '<option/>', {selected: fmt === mpl.default_extension}).html(fmt);\n",
       "        fmt_picker.append(option)\n",
       "    }\n",
       "\n",
       "    // Add hover states to the ui-buttons\n",
       "    $( \".ui-button\" ).hover(\n",
       "        function() { $(this).addClass(\"ui-state-hover\");},\n",
       "        function() { $(this).removeClass(\"ui-state-hover\");}\n",
       "    );\n",
       "\n",
       "    var status_bar = $('<span class=\"mpl-message\"/>');\n",
       "    nav_element.append(status_bar);\n",
       "    this.message = status_bar[0];\n",
       "}\n",
       "\n",
       "mpl.figure.prototype.request_resize = function(x_pixels, y_pixels) {\n",
       "    // Request matplotlib to resize the figure. Matplotlib will then trigger a resize in the client,\n",
       "    // which will in turn request a refresh of the image.\n",
       "    this.send_message('resize', {'width': x_pixels, 'height': y_pixels});\n",
       "}\n",
       "\n",
       "mpl.figure.prototype.send_message = function(type, properties) {\n",
       "    properties['type'] = type;\n",
       "    properties['figure_id'] = this.id;\n",
       "    this.ws.send(JSON.stringify(properties));\n",
       "}\n",
       "\n",
       "mpl.figure.prototype.send_draw_message = function() {\n",
       "    if (!this.waiting) {\n",
       "        this.waiting = true;\n",
       "        this.ws.send(JSON.stringify({type: \"draw\", figure_id: this.id}));\n",
       "    }\n",
       "}\n",
       "\n",
       "\n",
       "mpl.figure.prototype.handle_save = function(fig, msg) {\n",
       "    var format_dropdown = fig.format_dropdown;\n",
       "    var format = format_dropdown.options[format_dropdown.selectedIndex].value;\n",
       "    fig.ondownload(fig, format);\n",
       "}\n",
       "\n",
       "\n",
       "mpl.figure.prototype.handle_resize = function(fig, msg) {\n",
       "    var size = msg['size'];\n",
       "    if (size[0] != fig.canvas.width || size[1] != fig.canvas.height) {\n",
       "        fig._resize_canvas(size[0], size[1]);\n",
       "        fig.send_message(\"refresh\", {});\n",
       "    };\n",
       "}\n",
       "\n",
       "mpl.figure.prototype.handle_rubberband = function(fig, msg) {\n",
       "    var x0 = msg['x0'] / mpl.ratio;\n",
       "    var y0 = (fig.canvas.height - msg['y0']) / mpl.ratio;\n",
       "    var x1 = msg['x1'] / mpl.ratio;\n",
       "    var y1 = (fig.canvas.height - msg['y1']) / mpl.ratio;\n",
       "    x0 = Math.floor(x0) + 0.5;\n",
       "    y0 = Math.floor(y0) + 0.5;\n",
       "    x1 = Math.floor(x1) + 0.5;\n",
       "    y1 = Math.floor(y1) + 0.5;\n",
       "    var min_x = Math.min(x0, x1);\n",
       "    var min_y = Math.min(y0, y1);\n",
       "    var width = Math.abs(x1 - x0);\n",
       "    var height = Math.abs(y1 - y0);\n",
       "\n",
       "    fig.rubberband_context.clearRect(\n",
       "        0, 0, fig.canvas.width, fig.canvas.height);\n",
       "\n",
       "    fig.rubberband_context.strokeRect(min_x, min_y, width, height);\n",
       "}\n",
       "\n",
       "mpl.figure.prototype.handle_figure_label = function(fig, msg) {\n",
       "    // Updates the figure title.\n",
       "    fig.header.textContent = msg['label'];\n",
       "}\n",
       "\n",
       "mpl.figure.prototype.handle_cursor = function(fig, msg) {\n",
       "    var cursor = msg['cursor'];\n",
       "    switch(cursor)\n",
       "    {\n",
       "    case 0:\n",
       "        cursor = 'pointer';\n",
       "        break;\n",
       "    case 1:\n",
       "        cursor = 'default';\n",
       "        break;\n",
       "    case 2:\n",
       "        cursor = 'crosshair';\n",
       "        break;\n",
       "    case 3:\n",
       "        cursor = 'move';\n",
       "        break;\n",
       "    }\n",
       "    fig.rubberband_canvas.style.cursor = cursor;\n",
       "}\n",
       "\n",
       "mpl.figure.prototype.handle_message = function(fig, msg) {\n",
       "    fig.message.textContent = msg['message'];\n",
       "}\n",
       "\n",
       "mpl.figure.prototype.handle_draw = function(fig, msg) {\n",
       "    // Request the server to send over a new figure.\n",
       "    fig.send_draw_message();\n",
       "}\n",
       "\n",
       "mpl.figure.prototype.handle_image_mode = function(fig, msg) {\n",
       "    fig.image_mode = msg['mode'];\n",
       "}\n",
       "\n",
       "mpl.figure.prototype.updated_canvas_event = function() {\n",
       "    // Called whenever the canvas gets updated.\n",
       "    this.send_message(\"ack\", {});\n",
       "}\n",
       "\n",
       "// A function to construct a web socket function for onmessage handling.\n",
       "// Called in the figure constructor.\n",
       "mpl.figure.prototype._make_on_message_function = function(fig) {\n",
       "    return function socket_on_message(evt) {\n",
       "        if (evt.data instanceof Blob) {\n",
       "            /* FIXME: We get \"Resource interpreted as Image but\n",
       "             * transferred with MIME type text/plain:\" errors on\n",
       "             * Chrome.  But how to set the MIME type?  It doesn't seem\n",
       "             * to be part of the websocket stream */\n",
       "            evt.data.type = \"image/png\";\n",
       "\n",
       "            /* Free the memory for the previous frames */\n",
       "            if (fig.imageObj.src) {\n",
       "                (window.URL || window.webkitURL).revokeObjectURL(\n",
       "                    fig.imageObj.src);\n",
       "            }\n",
       "\n",
       "            fig.imageObj.src = (window.URL || window.webkitURL).createObjectURL(\n",
       "                evt.data);\n",
       "            fig.updated_canvas_event();\n",
       "            fig.waiting = false;\n",
       "            return;\n",
       "        }\n",
       "        else if (typeof evt.data === 'string' && evt.data.slice(0, 21) == \"data:image/png;base64\") {\n",
       "            fig.imageObj.src = evt.data;\n",
       "            fig.updated_canvas_event();\n",
       "            fig.waiting = false;\n",
       "            return;\n",
       "        }\n",
       "\n",
       "        var msg = JSON.parse(evt.data);\n",
       "        var msg_type = msg['type'];\n",
       "\n",
       "        // Call the  \"handle_{type}\" callback, which takes\n",
       "        // the figure and JSON message as its only arguments.\n",
       "        try {\n",
       "            var callback = fig[\"handle_\" + msg_type];\n",
       "        } catch (e) {\n",
       "            console.log(\"No handler for the '\" + msg_type + \"' message type: \", msg);\n",
       "            return;\n",
       "        }\n",
       "\n",
       "        if (callback) {\n",
       "            try {\n",
       "                // console.log(\"Handling '\" + msg_type + \"' message: \", msg);\n",
       "                callback(fig, msg);\n",
       "            } catch (e) {\n",
       "                console.log(\"Exception inside the 'handler_\" + msg_type + \"' callback:\", e, e.stack, msg);\n",
       "            }\n",
       "        }\n",
       "    };\n",
       "}\n",
       "\n",
       "// from http://stackoverflow.com/questions/1114465/getting-mouse-location-in-canvas\n",
       "mpl.findpos = function(e) {\n",
       "    //this section is from http://www.quirksmode.org/js/events_properties.html\n",
       "    var targ;\n",
       "    if (!e)\n",
       "        e = window.event;\n",
       "    if (e.target)\n",
       "        targ = e.target;\n",
       "    else if (e.srcElement)\n",
       "        targ = e.srcElement;\n",
       "    if (targ.nodeType == 3) // defeat Safari bug\n",
       "        targ = targ.parentNode;\n",
       "\n",
       "    // jQuery normalizes the pageX and pageY\n",
       "    // pageX,Y are the mouse positions relative to the document\n",
       "    // offset() returns the position of the element relative to the document\n",
       "    var x = e.pageX - $(targ).offset().left;\n",
       "    var y = e.pageY - $(targ).offset().top;\n",
       "\n",
       "    return {\"x\": x, \"y\": y};\n",
       "};\n",
       "\n",
       "/*\n",
       " * return a copy of an object with only non-object keys\n",
       " * we need this to avoid circular references\n",
       " * http://stackoverflow.com/a/24161582/3208463\n",
       " */\n",
       "function simpleKeys (original) {\n",
       "  return Object.keys(original).reduce(function (obj, key) {\n",
       "    if (typeof original[key] !== 'object')\n",
       "        obj[key] = original[key]\n",
       "    return obj;\n",
       "  }, {});\n",
       "}\n",
       "\n",
       "mpl.figure.prototype.mouse_event = function(event, name) {\n",
       "    var canvas_pos = mpl.findpos(event)\n",
       "\n",
       "    if (name === 'button_press')\n",
       "    {\n",
       "        this.canvas.focus();\n",
       "        this.canvas_div.focus();\n",
       "    }\n",
       "\n",
       "    var x = canvas_pos.x * mpl.ratio;\n",
       "    var y = canvas_pos.y * mpl.ratio;\n",
       "\n",
       "    this.send_message(name, {x: x, y: y, button: event.button,\n",
       "                             step: event.step,\n",
       "                             guiEvent: simpleKeys(event)});\n",
       "\n",
       "    /* This prevents the web browser from automatically changing to\n",
       "     * the text insertion cursor when the button is pressed.  We want\n",
       "     * to control all of the cursor setting manually through the\n",
       "     * 'cursor' event from matplotlib */\n",
       "    event.preventDefault();\n",
       "    return false;\n",
       "}\n",
       "\n",
       "mpl.figure.prototype._key_event_extra = function(event, name) {\n",
       "    // Handle any extra behaviour associated with a key event\n",
       "}\n",
       "\n",
       "mpl.figure.prototype.key_event = function(event, name) {\n",
       "\n",
       "    // Prevent repeat events\n",
       "    if (name == 'key_press')\n",
       "    {\n",
       "        if (event.which === this._key)\n",
       "            return;\n",
       "        else\n",
       "            this._key = event.which;\n",
       "    }\n",
       "    if (name == 'key_release')\n",
       "        this._key = null;\n",
       "\n",
       "    var value = '';\n",
       "    if (event.ctrlKey && event.which != 17)\n",
       "        value += \"ctrl+\";\n",
       "    if (event.altKey && event.which != 18)\n",
       "        value += \"alt+\";\n",
       "    if (event.shiftKey && event.which != 16)\n",
       "        value += \"shift+\";\n",
       "\n",
       "    value += 'k';\n",
       "    value += event.which.toString();\n",
       "\n",
       "    this._key_event_extra(event, name);\n",
       "\n",
       "    this.send_message(name, {key: value,\n",
       "                             guiEvent: simpleKeys(event)});\n",
       "    return false;\n",
       "}\n",
       "\n",
       "mpl.figure.prototype.toolbar_button_onclick = function(name) {\n",
       "    if (name == 'download') {\n",
       "        this.handle_save(this, null);\n",
       "    } else {\n",
       "        this.send_message(\"toolbar_button\", {name: name});\n",
       "    }\n",
       "};\n",
       "\n",
       "mpl.figure.prototype.toolbar_button_onmouseover = function(tooltip) {\n",
       "    this.message.textContent = tooltip;\n",
       "};\n",
       "mpl.toolbar_items = [[\"Home\", \"Reset original view\", \"fa fa-home icon-home\", \"home\"], [\"Back\", \"Back to  previous view\", \"fa fa-arrow-left icon-arrow-left\", \"back\"], [\"Forward\", \"Forward to next view\", \"fa fa-arrow-right icon-arrow-right\", \"forward\"], [\"\", \"\", \"\", \"\"], [\"Pan\", \"Pan axes with left mouse, zoom with right\", \"fa fa-arrows icon-move\", \"pan\"], [\"Zoom\", \"Zoom to rectangle\", \"fa fa-square-o icon-check-empty\", \"zoom\"], [\"\", \"\", \"\", \"\"], [\"Download\", \"Download plot\", \"fa fa-floppy-o icon-save\", \"download\"]];\n",
       "\n",
       "mpl.extensions = [\"eps\", \"pdf\", \"png\", \"ps\", \"raw\", \"svg\"];\n",
       "\n",
       "mpl.default_extension = \"png\";var comm_websocket_adapter = function(comm) {\n",
       "    // Create a \"websocket\"-like object which calls the given IPython comm\n",
       "    // object with the appropriate methods. Currently this is a non binary\n",
       "    // socket, so there is still some room for performance tuning.\n",
       "    var ws = {};\n",
       "\n",
       "    ws.close = function() {\n",
       "        comm.close()\n",
       "    };\n",
       "    ws.send = function(m) {\n",
       "        //console.log('sending', m);\n",
       "        comm.send(m);\n",
       "    };\n",
       "    // Register the callback with on_msg.\n",
       "    comm.on_msg(function(msg) {\n",
       "        //console.log('receiving', msg['content']['data'], msg);\n",
       "        // Pass the mpl event to the overriden (by mpl) onmessage function.\n",
       "        ws.onmessage(msg['content']['data'])\n",
       "    });\n",
       "    return ws;\n",
       "}\n",
       "\n",
       "mpl.mpl_figure_comm = function(comm, msg) {\n",
       "    // This is the function which gets called when the mpl process\n",
       "    // starts-up an IPython Comm through the \"matplotlib\" channel.\n",
       "\n",
       "    var id = msg.content.data.id;\n",
       "    // Get hold of the div created by the display call when the Comm\n",
       "    // socket was opened in Python.\n",
       "    var element = $(\"#\" + id);\n",
       "    var ws_proxy = comm_websocket_adapter(comm)\n",
       "\n",
       "    function ondownload(figure, format) {\n",
       "        window.open(figure.imageObj.src);\n",
       "    }\n",
       "\n",
       "    var fig = new mpl.figure(id, ws_proxy,\n",
       "                           ondownload,\n",
       "                           element.get(0));\n",
       "\n",
       "    // Call onopen now - mpl needs it, as it is assuming we've passed it a real\n",
       "    // web socket which is closed, not our websocket->open comm proxy.\n",
       "    ws_proxy.onopen();\n",
       "\n",
       "    fig.parent_element = element.get(0);\n",
       "    fig.cell_info = mpl.find_output_cell(\"<div id='\" + id + \"'></div>\");\n",
       "    if (!fig.cell_info) {\n",
       "        console.error(\"Failed to find cell for figure\", id, fig);\n",
       "        return;\n",
       "    }\n",
       "\n",
       "    var output_index = fig.cell_info[2]\n",
       "    var cell = fig.cell_info[0];\n",
       "\n",
       "};\n",
       "\n",
       "mpl.figure.prototype.handle_close = function(fig, msg) {\n",
       "    var width = fig.canvas.width/mpl.ratio\n",
       "    fig.root.unbind('remove')\n",
       "\n",
       "    // Update the output cell to use the data from the current canvas.\n",
       "    fig.push_to_output();\n",
       "    var dataURL = fig.canvas.toDataURL();\n",
       "    // Re-enable the keyboard manager in IPython - without this line, in FF,\n",
       "    // the notebook keyboard shortcuts fail.\n",
       "    IPython.keyboard_manager.enable()\n",
       "    $(fig.parent_element).html('<img src=\"' + dataURL + '\" width=\"' + width + '\">');\n",
       "    fig.close_ws(fig, msg);\n",
       "}\n",
       "\n",
       "mpl.figure.prototype.close_ws = function(fig, msg){\n",
       "    fig.send_message('closing', msg);\n",
       "    // fig.ws.close()\n",
       "}\n",
       "\n",
       "mpl.figure.prototype.push_to_output = function(remove_interactive) {\n",
       "    // Turn the data on the canvas into data in the output cell.\n",
       "    var width = this.canvas.width/mpl.ratio\n",
       "    var dataURL = this.canvas.toDataURL();\n",
       "    this.cell_info[1]['text/html'] = '<img src=\"' + dataURL + '\" width=\"' + width + '\">';\n",
       "}\n",
       "\n",
       "mpl.figure.prototype.updated_canvas_event = function() {\n",
       "    // Tell IPython that the notebook contents must change.\n",
       "    IPython.notebook.set_dirty(true);\n",
       "    this.send_message(\"ack\", {});\n",
       "    var fig = this;\n",
       "    // Wait a second, then push the new image to the DOM so\n",
       "    // that it is saved nicely (might be nice to debounce this).\n",
       "    setTimeout(function () { fig.push_to_output() }, 1000);\n",
       "}\n",
       "\n",
       "mpl.figure.prototype._init_toolbar = function() {\n",
       "    var fig = this;\n",
       "\n",
       "    var nav_element = $('<div/>')\n",
       "    nav_element.attr('style', 'width: 100%');\n",
       "    this.root.append(nav_element);\n",
       "\n",
       "    // Define a callback function for later on.\n",
       "    function toolbar_event(event) {\n",
       "        return fig.toolbar_button_onclick(event['data']);\n",
       "    }\n",
       "    function toolbar_mouse_event(event) {\n",
       "        return fig.toolbar_button_onmouseover(event['data']);\n",
       "    }\n",
       "\n",
       "    for(var toolbar_ind in mpl.toolbar_items){\n",
       "        var name = mpl.toolbar_items[toolbar_ind][0];\n",
       "        var tooltip = mpl.toolbar_items[toolbar_ind][1];\n",
       "        var image = mpl.toolbar_items[toolbar_ind][2];\n",
       "        var method_name = mpl.toolbar_items[toolbar_ind][3];\n",
       "\n",
       "        if (!name) { continue; };\n",
       "\n",
       "        var button = $('<button class=\"btn btn-default\" href=\"#\" title=\"' + name + '\"><i class=\"fa ' + image + ' fa-lg\"></i></button>');\n",
       "        button.click(method_name, toolbar_event);\n",
       "        button.mouseover(tooltip, toolbar_mouse_event);\n",
       "        nav_element.append(button);\n",
       "    }\n",
       "\n",
       "    // Add the status bar.\n",
       "    var status_bar = $('<span class=\"mpl-message\" style=\"text-align:right; float: right;\"/>');\n",
       "    nav_element.append(status_bar);\n",
       "    this.message = status_bar[0];\n",
       "\n",
       "    // Add the close button to the window.\n",
       "    var buttongrp = $('<div class=\"btn-group inline pull-right\"></div>');\n",
       "    var button = $('<button class=\"btn btn-mini btn-primary\" href=\"#\" title=\"Stop Interaction\"><i class=\"fa fa-power-off icon-remove icon-large\"></i></button>');\n",
       "    button.click(function (evt) { fig.handle_close(fig, {}); } );\n",
       "    button.mouseover('Stop Interaction', toolbar_mouse_event);\n",
       "    buttongrp.append(button);\n",
       "    var titlebar = this.root.find($('.ui-dialog-titlebar'));\n",
       "    titlebar.prepend(buttongrp);\n",
       "}\n",
       "\n",
       "mpl.figure.prototype._root_extra_style = function(el){\n",
       "    var fig = this\n",
       "    el.on(\"remove\", function(){\n",
       "\tfig.close_ws(fig, {});\n",
       "    });\n",
       "}\n",
       "\n",
       "mpl.figure.prototype._canvas_extra_style = function(el){\n",
       "    // this is important to make the div 'focusable\n",
       "    el.attr('tabindex', 0)\n",
       "    // reach out to IPython and tell the keyboard manager to turn it's self\n",
       "    // off when our div gets focus\n",
       "\n",
       "    // location in version 3\n",
       "    if (IPython.notebook.keyboard_manager) {\n",
       "        IPython.notebook.keyboard_manager.register_events(el);\n",
       "    }\n",
       "    else {\n",
       "        // location in version 2\n",
       "        IPython.keyboard_manager.register_events(el);\n",
       "    }\n",
       "\n",
       "}\n",
       "\n",
       "mpl.figure.prototype._key_event_extra = function(event, name) {\n",
       "    var manager = IPython.notebook.keyboard_manager;\n",
       "    if (!manager)\n",
       "        manager = IPython.keyboard_manager;\n",
       "\n",
       "    // Check for shift+enter\n",
       "    if (event.shiftKey && event.which == 13) {\n",
       "        this.canvas_div.blur();\n",
       "        event.shiftKey = false;\n",
       "        // Send a \"J\" for go to next cell\n",
       "        event.which = 74;\n",
       "        event.keyCode = 74;\n",
       "        manager.command_mode();\n",
       "        manager.handle_keydown(event);\n",
       "    }\n",
       "}\n",
       "\n",
       "mpl.figure.prototype.handle_save = function(fig, msg) {\n",
       "    fig.ondownload(fig, null);\n",
       "}\n",
       "\n",
       "\n",
       "mpl.find_output_cell = function(html_output) {\n",
       "    // Return the cell and output element which can be found *uniquely* in the notebook.\n",
       "    // Note - this is a bit hacky, but it is done because the \"notebook_saving.Notebook\"\n",
       "    // IPython event is triggered only after the cells have been serialised, which for\n",
       "    // our purposes (turning an active figure into a static one), is too late.\n",
       "    var cells = IPython.notebook.get_cells();\n",
       "    var ncells = cells.length;\n",
       "    for (var i=0; i<ncells; i++) {\n",
       "        var cell = cells[i];\n",
       "        if (cell.cell_type === 'code'){\n",
       "            for (var j=0; j<cell.output_area.outputs.length; j++) {\n",
       "                var data = cell.output_area.outputs[j];\n",
       "                if (data.data) {\n",
       "                    // IPython >= 3 moved mimebundle to data attribute of output\n",
       "                    data = data.data;\n",
       "                }\n",
       "                if (data['text/html'] == html_output) {\n",
       "                    return [cell, data, j];\n",
       "                }\n",
       "            }\n",
       "        }\n",
       "    }\n",
       "}\n",
       "\n",
       "// Register the function which deals with the matplotlib target/channel.\n",
       "// The kernel may be null if the page has been refreshed.\n",
       "if (IPython.notebook.kernel != null) {\n",
       "    IPython.notebook.kernel.comm_manager.register_target('matplotlib', mpl.mpl_figure_comm);\n",
       "}\n"
      ],
      "text/plain": [
       "<IPython.core.display.Javascript object>"
      ]
     },
     "metadata": {},
     "output_type": "display_data"
    },
    {
     "data": {
      "text/html": [
       "<img src=\"data:image/png;base64,iVBORw0KGgoAAAANSUhEUgAAAoAAAAHgCAYAAAA10dzkAAAgAElEQVR4nOy9aXAUZ7b3+Uzfmb73w7w33g8T975xOybmnZmIkey2e3G37V5vd9+lb3cnbq+dYGOMsbFlzGpsVgPG2BiMU6wSSIAQEgiQ2MUiBFoQEiAJJBCg0r7vu4R2VVWe+fDUk7VmVi61qIrzi6gIuzKz8iCVMk+e55z/nxAEQRAEQRAEQRAEQRAEQRAEQRAEQRAEQRAEQRAEQRAEQRAEQRAEQRAEQRAEQRAEQRAEQRAEQRAEQRAEQRAEQRAEQRAEQRAEQRAEQRAEQRAEQRAEQRAEQRAEQRAEQRAEQRAEQRAEQRAEQRAEQRAEQRAEQRAEQRAEQRAEQRAEQRAEQRAEQRAEQRAEQRAEQRAEQRAEQRAEQRAEQRAEQRAEQRAEQRAEQRAEQRAEQRAEQRAEQRAEQRAEQRAEQRAEQRAEQRAEQRAEQRAEQRAEQRAEQRAEQRAEQRAEQRAEQRAEQRAEQRAEQRAEQRAEQRAEQRAEQRAEQRAEQRAEQRAEQRAEQRAEQRAEQRAEQRAEQRAEQRAEQRAEQRAEQRAEQRAEQRAEQRAEQRAEQRAEQRAEQRAEQRAEQRAEQRAEQRAEQRAEQRAEQRAEQRAEQRAEQRAEQRAEQRAEQRAEQRAEQRAEQRAEQRAEQRAEQRAEQRAEQRAEQRAEQRAEQRAEQRAEQRAEQRAEQRAEQRAEQRAEQRAEQRAEQRAEQRAEQRAEQRAEQRAEQRAEQRAEQRAEQRAEmcYsJIQ0EkImCCFFhJAXvOy/jBBSRQgZJ4S0EEJ2EEL+QcP5/hdCyA8IIf+IL3zhC1/4whe+Qur1A0Lv40iIM5MQMkkImUcIeZoQsp8QMkAI+SeZ/d8iNFF8ixDyPwkhfySEtBNCtms45w8IIYAvfOELX/jCF75C8vUDgoQ8RYSQGIf//x4hpI0Qslpm/xhCSLbLe9GEkAIN5/xHQgi0tLTA0NAQvvCFL3zhC1/4CoFXS0sLSwD/UcM9H5mGfJ8QYiGEvOLyfhIh5LzMMW8RQgaJfZn4/yGEVBBC1mo47z8SQmBoaAgQBEEQBAkNhoaGMAEME/6F0F/kL13e30ZoZVCOJYSQKUKI2Xb8Pi/n+Xvi3j+ACSCCIAiChBCYAIYPcgngd4SQQpljfk8I6SSEzCeEPEsIeZUQ0kwIWa9wno3EQw8BJoAIgiAIEjpgAhg+6FkCzic0QXTkbULIGKH9g57ACiCCIAiChDiYAIYXRYSQPQ7//z1CSCuRHwIpIYR86/Lem4RKwvydynNiDyCCIAiChBiYAIYXTAZmLiHkKUJIPKEyMP9s255MCNnisP9GQshjQsgsQsj/TQj5T0JILSEkVcM5MQFEEARBkBADE8DwYxEhpInQRLCIEPKiw7brhJDDDv//vxJCviA06RsntP8vlhDy3zWcDxNABEEQBAkxMAFEjIIJIIIgCIKEGJgAIkbBBBBBEARBQgxMABGjYAKIIAiCICEGJoCIUTABRBAEQZAQAxNAxCiYACIIgiBIiIEJIGIUTAARBEEQJMTABBAxCiaACIIgPsY8OQlF505C0bmTMDUxHuxwkDAEE0DEKJgAIgiC+JjMuF0g8BwIPAeX9wjBDgcJQzABRIyCCSCCeKCupBhykw9Cd1NDsENBQoyhnm6InvmSlAAKPAcDnR3BDgsJMzABRIyCCSCCuND8qEy6cce8NwtGBvqDHRISQhSnnwaB5+DExlVw8ut1IPAc3D51PNhhIWEGJoCIUTABRBAXUr9c41S9KUg9GuyQkBAibRP9/pRcToeyaxkg8BwcW/dZsMNCwgxMABGjYAKIIA487uuhid/MGVB07iQIPAcHl8wHURSDHRoSAlitFtg153UQeA56mhthoLMDBJ6D7W++DOapqWCHh4QRmAAiRsEEEEEceJCTCQLPQcra5TA5Ngo73noZBJ6D/o62YIeGhAA9TQ0g8BzseucNsFotIIoixLw3CwSeg866mmCHh4QRmAAiRsEEEEEcyIjdDgLPQf7xZAAASFn3KQg8B6YbOUGODAkFHuZcpf1/X6yS3mN9gPevXgpiZEi4gQkgYhRMABHEgcOffgwCz0Ht3UIAAMhJjAeB5yA7MS7IkSGhwLUDsSDwHOQmH5Teyz+eBALPwZV9u4IYGRJuYAKIGAUTQASxMTU+Lsl3DPf1AgCAKT+XLgl/vjzI0SGhwPENK2jFOD9Xeq+68CYIPAfJq5YELzAk7MAEEDEKJoAIYqO1ohwEnoO4qDnSe/0dbSDwHOyY/QpYzOYgRoeEArHz33Lr9+ttbZb6AnGYCPEVmAAiRsEEEEFslFxOB4Hn4My3X0rviaIoTXX2tbUEMTpkujM+PCxJB02OjUrvW8xT9spyf18QI0TCCUwAEaNgAoggNq4d3AsCz8GNY4ed3k9euQQEnoOaO4VBigwJBdprKkHgOdjnUEFmHFj8Pgg8B83lD4IQGRKOYAKIGAUTQASxkfbV5yDwHDzMveb0/oWd34LAc1B8/lSQIkNCgfIbOSDwHKRuXO227dQ3G0DgOSjLyghCZEg4ggkgYhRMABHERvzH74LAc9BaaXJ6vyD1KAg8B5lxOMWJyFOQegQEnoOr8XvctmUnxoHAc3D9SEIQIkPCEUwAEaNgAoggADA1OSH1b40ODTptY5PAxzesDFJ0SChwcdc22UpxaQbtLz277asgRIaEI5gAIkbBBDBEmJoYh/zjyZB39BCMDw8HO5ywo9vm4BAzb6bbpGZHbTUIPAd7P5gdpOiQUIBJwFTeuuG2ra6kmErBrEQpGMQ3YAKIGAUTwBDh8h5BqlCd2rwe5SR8TFVhAQg8B0fXfuK2zXG6c2piPAjRIaEAayFoq6pw2yY9YLw3KwiRIeEIJoCIUTABDAEGOtpBmDlDSkIEnoP26spghxVW3LlwBgSegws7trptE0URdr3zBkrBILJYLRaInuUsIu7IxOiIXSJmfCwIESLhBiaAiFEwAQwBCs+kgsBzkPbV51IlMCthX7DDCityDu9XbNJPXL4ABJ6DhrLSAEeGhAJDPd0g8Bxsf/NlEK1Wj/vsnvs3EHgOeluaAxwdEo5gAogYBRPAECB142rJTL66iNpKHfrko2CHFVacj94MAs9ByeXzHreflmQ8rgQ4MiQUaKl4BALPwYHF78vuw3ymG+7dDWBkSLiCCSBiFEwApzkWsxl2vv2arXLQBGPDj6Xl4JGB/mCHFzYcXfsJCDwH1UU3PW6/un8PCDwHBalHAhwZEgqwSXFPGoCM01u+QC1AxGdgAogYBRPAaU5HTZV9OtW2tJS0YpHstCGij30fvu3m4eoIW4bPiN0e4MiQUKDwbBoIPAeXY6Jl97l2IJY+RJxIDmBkSLiCCSBiFEwApzkll86BwHNwessX0nvZh6iobM7h/cELLIywmKekquro4IDHfUzM5eHLNQGODgkF2N/kjZRE2X3wIQLxJZgAIkbBBHCakxG7AwSeg5tpKdJ7D3Iy6VDIprVBjCx8GOzqAIHnYMfsV2TldVrKH4LAc3Bw8fwAR4eEAunbtyj2kAIAPMy5Ksk4IYhRMAFEjIIJ4DQnZe1y23JvvvQeWxaOnf9WECMLH9Qkd/0dbSDwHOyc8xpqMCJuHN+w0mtbRv29uyDwHCStWBTAyJBwBRNAxCiYAE5jRFGUpCN6mhqk96cmxnEQxIdIy7sKDfxT4+OSjtvE6EgAo0NCgYSlH4DAc9Bieii7T1dDHTrKID4DE0DEKJgATmOG+3pB4DmInvkSmKemnLYdXDIfBJ6DxrJ7QYoufJAa+PcIivvtnkvFoHtbUccNcYZ9N/rbW2X3GRnopw8RM2eA1WIJYHRIOIIJYPixkBDSSAiZIIQUEUJe8LL/fyeExBJCOmzHVBNC/qLhfJgATmMaH9wDgecgYemHbtvOffc17Tm6dC4IkYUXbDoz/3iS4n4Jy6JA4DloelgWoMiQUMCxOjw5Niq7n9VqgeiZNreQ/r4ARoiEI5gAhhczCSGThJB5hJCnCSH7CSEDhJB/ktn/+4SQO4SQS4SQXxNC/ich5HeEkB9rOCcmgNOY0isXQOA5OLttk9u2vKOHQOA5yD4UF4TIwosz334pCW0rwQS5Tfm5gQkMCQkGOtpV94d6kxtCELVgAhheFBFCYhz+/3uEkDZCyGqZ/T8ihNQRQv43A+fEBHAak5t8EASeg9ykA27byq5luMnDIPo4umYZCDwHNcW3Ffe7uGsbCDwHd9JPBygyJBRorShXPSGevHIJCDwHdaXFAYgMCWcwAQwfvk8IsRBCXnF5P4kQcl7mmMuEkKOEVgq7CCGPCCFrCSF/p+G8mABOY5TsyZoe3pddHka0Ef/xuyDwHLRXVyrul5t0gCbkyQcDFBkSClQVFoDAc3Bs/Qqv+zJLwQfZmQGIDAlnMAEMH/6F0F/kL13e30ZoZdATlYT2/SUQQn5GCJlFCOkjhGxQOM/fE/plYa8fEEwApy1HVi+llak7hW7bhrq7JPN5qxUbyvUiiiLseOtlEHgOBrs6FfctTj8NAs/BxV3bAhQdEgqUZqSDwHNwPnqz132v7NsJAs/B7dMnAhAZEs5gAhg+yCWA3xFCCmWOqSaENBPnit9yQgdC5NhoO4/TCxPA6UnM+2+CwHPQ3Vjvts1qtcD2N2niMtTdFYTowoPxkWGpgX9qckJxX3QDQTyRfzwZBJ6DrIS9KvZNsu27LwCRIeEMJoDhg54l4DxCSJbLe38m9AvxfZljsAIYIkyOjXrVnWNTqY0PUApGL31tLSDwHOye+zev+zaW0answ59+HIDIkFDhyr5dtKp36rjXfbVUCxFECUwAw4siQsgeh///HiGklcgPgXxDqGTM9xzeW0oIaddwTuwBnKb0NDWAwHOwZx4vu8+pzetB4Dl4mHM1gJGFF83lD2y9lB943ReFfBFPnNm6UXVfX9XtfNX9ggiiBCaA4QWTgZlLCHmKEBJPqAzMP9u2JxNCtjjs/38SQoYJTRr/P0IIR+gwyOcazokJ4DSl9m4RtY1auVh2n8w4Wnm4dfJYACMLLypv3QCB5+D4Bu835Md9PVSYe9ZLIFqtAYgOCQVYr25diffJ3paKR+gpjfgETADDj0WEkCZCE8EiQsiLDtuuE0IOu+z/S0J7BCcIlYTBKWAbo0OD0NVQF7K+rfevXgaB5+DM1o2y+9xMSwGB5yAzfncAIwsvSi6fB4HnID36G6/7mqempGX5seHHAYgOCQXiFswFgeego6bK677MU3rXnNcDEBkSzmACiBglLBPAtqoK2PUOtWbKiN0e7HB0cTPtqNfk7kFOJtUC/GZDACMLL+xN+d4b+AFA8mbua2vxc2RIKCCKIuyc/aqqKXIAgInREdVDRwiiBCaAiFHCLgEURRGSPlsoXWRD1S/3avweEHgObqYdld2n4X4JDiUYREsDPwDAwcXUg7ml4pGfI0NCAScbuPExr/uLomif3u/pDkCESLiCCSBilLBLAFmPza45r0vODeeF0Ju4s9uTXZbdp7elyeugCKIMa+Avy8pQtX/K58tB4DmoLrrp58iQUIDpce6Y/YrqdpN9UXOoHVx9rZ+jQ8IZTAARo4RdAnj9SAIIPAeXY6Khs75W8ui0mKeCHZomjqxeJisCzXCUilFTfUDcUfNzdoQl5mXX1CWMSHjTWVcDAs9B3EfvqD7msG2FoqGs1I+RIeEOJoCIUcIuAUxasQgEngNTwXUQrVaItYkpt1aUBzs0TcR99I6qxnLWk9bb2hygyMKL+AU2G7gaZRs4Bjo5II403LtLp/VXLFJ9TNqmNfQalZ/rv8CQsAcTQMQoYZUAjgz0SxWx0cEBAABIj/5GU4/XdEC0WmH7m38FgefgcW+P4r6JyxeEbJ9jsHG0gVPrppKXkggCz0FOYryfo0NCAeYOk7Zprepj0ndslfX4RhC1YAKIGCWsEkAmsur4NH7vykV6gf7q8yBGpo3RwQGayM6cARazWXFfFIPWjxYbOMYd9ANGHCi5dA4EnoMLO7aqPubawb0g8BwUnEj2Y2RIuIMJIGKUsEoAbxw77Cad0lFbDQLPQez8t4IYmTa0OE6wKdZbp1AMWit6NNkeXc8KuQcKxH8UnFDvA8xgEk/XDsT4MTIk3MEEEDFKWCWAp77ZAALPwb3MS9J7UxPjIMycAQLPwchAfxCjU0996R3VfUVMDPpq/J4ARBZetFVVgMBzsH/hPNXHaPndIOHPtQMxXuWaXGF+wGrExxFEDkwAEaOETQIoiiLs/WA2CDwHbVUVTtsSln4QUn1yTOD5lAqB57KsK14dQxDP1JUUg8BzcGT1UtXHsIpyXNQcP0aGhAqsx7g0I131MRUF10HgOTixcZUfI3uy6G5qgKv790DJ5fQnxqYRE0DEKGGTAA739VKf1pkvwdTEuNO288JmEHgO7lw4E6TotHH79AnqYrJ3h9d9mWfwkdXLAhBZeMGWc09+vU71MUz3bfubL4eszSDiO1I3rgaB56Ci4LrqYxof3AOB5yBx+QI/RvbkMDLQDzHvzZL6eQvPpgU7pICACSBilLBJABvKSkHgOUhYFuW2jS2TZsR6T6imA1kJtEk8/3iS1307aqpoRWrBXP8HFmbcuXBG80DH1ITd+WFidMSP0SGhwOFPP9a8uqClxxfxTm7Sfifnp13vvAGTY6PBDsvvYAKIGCVsEkDWV3N22ya3bWzJ5fiGFUGITDvnozerXlYa6unGipRO2NBQ9qE4TcftnPMaCDwHAx3tfooMCRX2ffg2CDwHXQ11qo953NdDVytmvfTELFf6C6vVArHz3wKB56D2bhEkLIt6YlQRMAFEjBI2CWBWwj4QeA6uH0lw28aqZPtCpG/rxBerQOA5qLx1w+u+5qkp6cl3bPhxAKILHzLjd9MJ6pPaJqjjFsylIt211X6KDAkFqK+vOr1ORxz/ZseHh/0YYfjTWmmS7DAtZjMUpB7VLMsTqmACiBglbBLAk1+vA4Hn4EF2ptu2seHHdr03l/7A6cihTz4Cgeeg6WGZqv1j5s2kbiAtTX6OLLxgvaH3rlzUdFwSs/K6X+KnyJBQYGJ0RLOOJGP33DdA4Dnob2/1U3RPBkyYnbVxMC/42PffDPvqKiaAiFHCJgGM/5haerVUPHLbJooi7HmXB4HnoKe5MQjRaYMtaXQ3NajaX2vCiFBYpbXiZp6m46TGf43HIeHFQEe7Zh1JxoFF71GLykqTHyJ7cmBe3sxWz2I2w653aHLdWVcT3OD8DCaAiFHCIgGcmpywW8ANDXrcJ3nVEhB4DmruFAY4Om2IVitEz3wJBJ6D4f4+VcewhMSkYRIRcbDRe6BNHujcd1+76U0iTx7t1ZUg8BzEf/yu5mOPrlkWEtej6Yx5chK2v0mtHAe7OqX3PenBhiOYACJGCYsEsLelGQSeg91z/yY7CJG+fQsIPAd3L54NcHTaGHs8JCWz3mzgGBd2fhsS/7bpBtON1NLAD2B3X7l9+oSfIkNCAUkUfOVizccyC8dH17P8ENmTARNyj53/ltN1nw13hbs4PiaAiFHCIgGULsSfLZTdh/WKZCXsC2Bk2ultpcnsnnd51cfkHKYyCHkpif4LLMzQ28APAHD9SAIIPAe5SQf8FB0SCpjyc0HgOUj9co3mYy/u2oYPbQZhPsyuIviVt26AwHNwdO0nQYosMGACiBglLBLAe5mXZCVgGKVXLoDAc3Duu68CGJl2WBPzwSXzVR9TeDbNpnO43Y+RhRdGGvjtP+/Q0JVE/AO7ppwXNms+lml9FpxI9kNkTwaX9wgefdD72lpB4DnYOftVsFosQYrO/2ACiBglLBJAVt1T0nOruVMYEo4Z1cW3QOA5SPl8uepjHuZeU20dh1CMNPCXXcvw+sCBhD+3Tx0HgecgM26X5mMLTiTbViT2+iGyJ4Pklba+7uLbTu9brRbYNef1sFdGwAQQMUpYJIAXdmz1avXWWVdDtQA/fDuAkWmnLCtDs7evkV6kJxUjDfxVt/NDSlgc8Q+5SQdktUe9cffiWc0uNIgdq9UCO2e/Kiulw4ZsqgtvBiG6wIAJIGKUsEgAUz5fDgLPQVVhgew+o0ODdMlv5gywmKcCGJ02Cs+k0uVFFT7AjM762pBIbqcTdaXFIPAcJK9aovnYpof30csVgYy9O6j37JlUzcdi1d4Y/R1t9mVeq/syL+uxLDp3MgjRBQZMABGjhEUCyOyYlHSfRFGEHbNfcZMMmG4wX0stVYXhvl5qLTXzJY8XQ8SdR9ezQOA5OPn1Os3HMi/XUHGWQfzD2W1fgcBzcP+qdrkR1pIS7oMK/qKm+LbiqsfNNOoIcmWf9uX5UAETQMQoIZ8Amicn7VZoj5X/HQcXz6di0aaHAYpOO6yxufj8KdXHWMxmrzqIiDN3LpzRvQQ31N0FAs/BjtmvoP/yE4xeIXEAfcNeiB22UnJp93cet5tu5IDAc3Dii1UBjixwYAKIGCXkE0A28bVrzuteb8YnNq6a9oLJp20iplrNzPfMo04nva3NfoosvMg/nuR1cEiOybHRkLIWRPzDYQOWgD3NjSDwHMS8/6YfIgt/2PK7nI93e01l2LfFYAKIGCXkE8CGslLV/ViXdFTXAg2zNqq9q80h4OCS6V/dnE5cjd8DAs/BzbQUzcca0RAMFl0NdXDtQAzcy7yEVUsfEbdgLgg8Bx01VZqPHe7vk9o2wt2z1h+w6qvpRo7H7ePDw9JD2uTYaICjCwyYACJGCfkEkE3Nnt7yhdd9Q0HAd/9C6hHaVlWh6biUdZ/Sqbei8J168yXnozeDwHNQeuWCruOZi0h3Y72PI/M9Qz1dkhe2wHNQeDYt2CGFBUxqpL+jTfOxjq0rE6MjfoguvGHJt9J1Mua9WSHzN6oHTAARo4R8AliQelS17c+d9NOKfSPTAb03lTPffgkCz0HZtQw/RRZesHYAPf1bAACHlkWBwHPQ/KjMx5H5nqv790gT8ALPwc45r8HY8ONghxXSOPbd6v1Z7nz7NdtQWoePowtvzJOT0nd5dHBAdj+mE1h7tyiA0QUOTAARo4R8ApgZt0uxF8SRcltjcNqmtQGITDuOVYHxkWFNx17Zt1O3JMWTSOLyBSDwHDSW3dN1/LF1n4VExdViNkvVv6aH9yFpxSIQeA5KLqcHO7SQZnRwQPpb1Tt5H/fRO17VCxB3mF3mrnfeUGxnYFPa965cDGB0gQMTQMQoIZ8Ant7yBa18ZV3xui/rFzz86ccBiEw7kpzLrJc092nlHT0EAs9BzuH9foouvNgXNcfQzffM1o0g8Bw8yM70cWS+pbHsHgg8B3s/mA1Wq0WaftYjf4PY0ePZ7crhTz829BDypFJXQjU8lbzfAQCyE+NA4DnIO3ooQJEFFkwAEaOEfAKYtHIxCDwHdaXFXvftbmoAgecgdv5bAYhMO0YmA4vZ8vYewQ+RhR9Gl9+YXM90F5rNStjnpIfGpua3v/ly2DbHB4K2KhMIPAf7F76n+zPYIEPlrRs+jCz8KbmcDgLPwbnvvlbcj7X8XNj5bYAiCyyYACJGCfkEkDXjdzXUed1XWraZOWNamoS3mB6CwHOQsPQDzcdKzgKb1/shsvDCPDWle6mdkX2IVhfyjyf5ODrfkmSTKnF0yWET49XFt4IYWWgjOcms1O4kw7ALSV/2YWThT05iPB3mSz6ouB+zbDy27rMARRZYMAFEjBLSCaDFbFbVDMywWi0QPeslEHgOhvv7AhChNoy4A7BlkSOrl/ohsvBiZKBfehDQK8FRkHoEBJ6Dawf3+jg63zE1Pi593x/32eVqmASOHg9bhGKS+onX6P4MI1ZyTzJs4O1eprIDC9MCjPvonQBFFlgwAQw/FhJCGgkhE4SQIkLICyqPm0XoF+GcxvOFdAL4uLfHtpz1V9U3csk2rr7Wz9Fpx4g/aHs1vdjFf/yuHyILL6T+rXn6+7dYL910nihnbhNxLpZ1D3Iyw94lwd+UZtBlyPPRm3V/Rm7yQUzEdcAGuLwJcDs+6FnM5gBFFzgwAQwvZhJCJgkh8wghTxNC9hNCBggh/+TluP+LENJKCLlBnrAEkD3hxS9Qn/SwKcj6e3f9GJk+7l48CwKvz55soLNDkvhAlGH9WwcW6e/fYknUma0bfRiZb2FJ6rnvvnJ6n/Wa7pzz2rRshQgFbp06BgLPQWacfq/Z26dPOPVnIt4RRRF2vfMGCDwHfW0tyvtarSEn2K4FTADDiyJCSIzD/3+PENJGCFmtcMzfEUIKCCHvE0IOkycsAawuvgUCz0HK2uWqjzm1eT0IPAePrmf5MTJ9FJxIBoHnICtB+7LixCjak6mlvvSO4f6tqsIC2l+0foUPI/MtzPnm9qnjTu9brRbYPfcN1b2ziDu5SfsNV+/uZV5SNcyA2JkYHbFf58a9X+eMuLVMdzABDB++TwixEEJecXk/iRByXuG4LwkhZ23/fZh4TwD/ntAvC3v9gIRwAnjvykXNF9DLMdHTdnozK2EvCDwHBSeSNR8riiLseOtlEHgOhnq6/BBd+GDKzzXcv9X44N60lhQCADiyeqmsViGbQC3Pyw5CZKFPRux2w64qFTfzQOA5SN242oeRhTeSUsK8mar2P7qGWmvWFN/2c2SBBxPA8OFfCP1F/tLl/W2EVgY98WtCl37/D9v/HybeE8CNtvM4vUI1Acw/rr1ixvTycpOmn17exV3bQOA5uHvxrK7j4wxq2z0psAeH84L+/q3OuhraX7dgru8C8yGi1Sq5yvS2NrttZw8b4aqR5m/ObttkeIK34X6JKj07xE79vbv0wUvlz8z+e1IeGAlFMAEMH+QSwO8IIYUe9v9vhJAGQsifHd47TJ6wCqCeKTrWF6Wnz87fnPpmAwg8Bw9zr+k6nkl+NEzD/sbphC96rwY62iU3gunIUE+XNCDlqQH+/lW6/KjGQxtx5/iGlYY1/Dpqq6f1Q8R0pCzriqbv7bUDMXRVJfWof9oZiIwAACAASURBVAMLApgAhg9al4B/Qugv3uLwEm0vCyHk/1V53pDuAWT9fFoSJl/IN/iLo2s/ocsVdwp1HZ+2aS1d1ruR4+PI9DNRWwtN8z+AuhkzoPdggmaHE3/gi+nL0aFBqRdpOg5SNNgqJYc++cjjdjYhjFPj+mAuHg1lpbo/Q3qImPO6DyMLb26mqfd+BwC4ddI2rBO/28+RBR5MAMOLIkLIHof//x6hS7yehkD+gRDyjMvrHCEk2/bf31d5zpBOAA+zipcXOQBHmDVW4vIFfoxMHwlLPwCB56DF9FDX8Rd2bLUtIZ/zcWT6MHd3Q9UvfwWmiEjp1bM3+Lp5V/ZR/+jbp0/o/gyL2SwlgGPDj30YnW8ouXROcZl7fHhYin9iFB1BtMJ8fDtqq3V/huPvwGKe8mF04Qv72711yrv3OwBAWVbGtJ/W1wsmgOEFk4GZSwh5ihAST6gMzD/bticTQrYoHH+YPGFTwDHvvwkCz0FPU4PqY7oa6kDgOdj34dv+C0wn0r+nuVHX8cz2a7q4U7StXAmmiEio++vL0L0nBkwRkVDxzLMwUVcf1LjOC5upkKxBk3jWYzfQqc9Ozp8wp5K8lETZfZgfcntNZeACCxN2zqFWggMd7bo/Q7RaJSH7kYF+H0YXvpz8ep2mVZ/au0V04n+V/on/6QomgOHHIkJIE6GJYBEh5EWHbdcJTfLkOEyeoATQ0c5LSwXGSTx6GixHMkSrFaJn2lxK+np1fcbNtBRNyyP+ZKKunlb9Ip+CsQcPQBRFaJr/AZgiIqFtZXAFiFO/XAMCz4EpP9fQ50znoRvmlqDU/M4mgY3+HJ40LGZ91x5P7JnHq9K0QyhMBLqx7J6q/dmw1j4XMfRwABNAxCghmwAOdnWCwHOwY/YrmhK5qckJh6WvET9GqA0nfavJCV2foUcWx190btkKpohIaI6y96CN3b9Pq4DP/gjM/cGreCSvXELFwEvvGPocdjNqeljmo8h8BxsIUhI8Z8tpN9NSAhhZ6OPL/s/9C9+jVdhqrMKqYffcv8lOtntiuL8PBJ6D6JkvgdU6/Xp1jYAJIGKUkE0AWyupm8P+hdrdHKTlm2m0dMcS2p2zX9X9GZW3boDAc3B8w0ofRqYdcWoKql78BZgiIuFxjn0gRRRFqH/tdTBFRELf4cNBi4/ddNuqKgx9zrF1n8nq7AUTURRV3SgLz6aBwHNwaY8QwOhCH18ObzBnIpzc946j2P3k+JiqY6xWi7SyEm7L7JgAIkYJ2QSwuugmCDwHKes+1Xxs/MfvTrveJ0lXzsBSRdPDMjr5uSzKh5FpZ6SwCEwRkVD14i9AdJEg6UtKAlNEJDTODl4PJlt2U1tFkOP0li9oP1LOVV3HD/WMQenVJmh81OvTdgTH4QIlV5iq2/n0b+hz9U46iG/+VhknNq4yLCfzpNDb0gQCr93DW/J/n4atGkbABBAxSsgmgEzH7Oy2r7zv7ELyKroEWFda7IfI9MGcJYxMJ7MBl70fzPZhZNrp/GYL7fVb5e5wMNXaSnsDn3oazL36eh2N4MvGeyPC3b2tw7B/6XWIicqGmKhsKLrgu8GYzvpaVd8D9n2Jef9Nn537ScCXD1pnt30FAs9B2bUMH0QW3jDhbK3uO6zlo65k+lzvfQEmgIhRQjYBNKLvxCbJppMNVuWtfMPLt9NlwKX2j/8FpohIGLrquTJW/+prYIqIhIGz+hxPjOBYHTNPGZPeuHYg1tZDp01kVhRFSNtyB2KisuHQynyIicqG2I+yoafFN3IyzCP76NpPFPebHB+Tfhbjw8M+OfeTgB4PcjmYpdx0tKacbjzIyaQi0N9s0HQcq9SXZV3xU2TBARNAxCghmwAa8c01arnmD8quZdgqmpt0f8bUxHjQtd2mOjqkCp9FJqnoEqJlK4T+ZrCrg/Zavv2a4c+6cewwCDwHOYnxmo5rreyHmKhs2LcoF0YGJyAj/gHERGVDVmK54ZgAAO5epBqA6Tu2et2XLY8Z0bN70nh0PQsEnoOTX68z/FnZiVSu58ax4PXEhgp6H/ozYrU7RoUCmAAiRgnZBDA9+hsQeA5KLqdrPpZppE0XvTwAgOLzp0DgObgcE23oc3bOfhUEnoPBrk4fRaaNwfR0MEVEQv3r8hZpwwUFYIqIhOrf/yHglUpf9m8VnTsJAs9BRux2TcddjqMJX24K7UHtqBuUEsLxYeOCwDmJ8SDw6pxOjm9YQaVgCq4bPu+TQsnldJpgR39j+LMKUqmzxbWDwRVIHy8vh8a570Ltf/0JuvfEgDgN3W0y42wi0CfViUAzrh9JAIH3jf+71SpCyZVGOBtdAsUX68FqsRr+TL1gAogYJWQTQKZhVnEzT/Oxkl7e/uDr5THyjyeBwHOQfSjO0OcEW5uufd16MEVEQufWb2X3sY6NQcUzz4IpIhImG/WJXuul6eF9w72WjPtXL9tkd9T3oU5NWGDfolyIibIv+YqiCMc3FUFMVDaUF7QZjov1lakRumZ+2mqdFRCA26eOg8Ab85Jm3L14FgQ+uN7kE7W1UPnCi06OPR1fe3aQCSanbV7pD7IzNR3HHq59Me1+60yN1LcbE5UN11OCN0iICSBilJBNAA8tiwKB56D5kXYNttIrF0DgOTgfPX0uctKSduoRQ58j2eMZ8Cg1Qi3HUfmXbOX+yoZZb4IpIhIGzwXWtq6qsAAEnoNj61cY/qyKm3kg8BykblS/lF13rxtiorIhae1Np+pn0YV6iInKhstxDwzHxaRF1DS9s2U1XyQzTwr2itIBw5/1MOcq7Wvb8oXxwHQgiiI08DNp1Z7noS/5iJQEjhQVBSUmOaRhDo3De2zJ/tTm9YbOP9g9CnsX5EBMVDZkJ5mkJLC3NTj9s5gAIkYJ2QQwZt5MKuXR0qT5WHbjPrExuI4Ujlza/R0IPAd30k8b+pzUjatpZTQIS3rWkREwRT4FpohIMHd3K+7LJoU7vtTf8zjQNQrpu+7B8U2FYLqprnJWlnUFBN433qAN9+6CwHOQtHKx6mOybDeO/FTnnruuxiGIicqG+KXXwWI2tqwUa7MU7G70PlnMbo5pX31u6JxPElfj9/hMQLu6kMpZHVv3mQ8i087QlUwqzv7T52CqswsAANrXb6BSTXPeCUpMcjDrws76Wk3H1ZUWg8BzkLzSmB0cS/rSd1MXkoz4hxATlQ2ZBx8Z+ly9YAKIGCUkE0BHK6bRoUHNxzeW3dMlJ+BPzmzdqGt5wxXmc1t65YKPIlPP6J07tLfvd7/3uu/gxYu06vDG33Sda3LcDMmf33Rajqm7p5x0AgAUp5/22XJQW1WFZjFyFnPjQ2cJHNEqQsIKOhHcVq1fnkbr30bzIyppkrD0A93nfNK4sGOrbYjMePXaly0Jemh4azaYIiKha+dO6b2pjg4w/fAZMEVEwtij4CQ3rlitFoieZbPK7O/TdGxHTRXt+10wV/f5zZMWiLfJNrG/z+6mxxATlQ17F+TA+Ijx3l2tYAKIGCUkE8Dhvl5q7zPrJRCt2qslTP9s34fBEyN2hTXjV93ON/Q5mfG7g9bT1ZuYSO3fFi70uu9kSwtdanrmWbBOaLe+K7nSSJdS19yEq4ceQUxUNhzdcBusVuWhEl/1WgIA9LY2Ux29eTNV7T/cPyFJvkyOmd22s2nguxkNumMa6um2SQG9rOpvg01F75j9iq6/pScR1oumVwDcEWko6aPAV9smqqvp3+DTP5Sqf4zW5Z/SCv1XwbeVBAAYGeinDzYzZ2i239NrG+pIzd0uiInKhsNrCkB0uMYc+7IQYqKyoeJ2u67PNQImgIhRQjIBZEK3ehO46aKX5wjr3VNrci5HXkqiLmkSX9D62QowRURCz759XvcVRRGqfvkrWmW4p+3fbJmyQsJnN+iF91Y7TI6b4cDyPIiJyobqO8rTz9cO+qbXEsB+U4qeqe5BpLq4E2KisiF1s+cepvtZzRATlQ0XY+7rjqm9uhIEnoP4Be+q2t9iNk8rq6zhvl7NFZ5AwywAqwoLDH/WQCdNwH1hK6eVrujtsg9sj3NzaTX/N7+dFhPBRkTup8bt8liTY/rksTIP0ofMm6edh+uK0uvo32xs4P3AMQFEjBKSCaDUe7Vika7jpyYngq6X50r8AmpP11FTZehzJDmZIPi71v7pz2CKiIThG+psrZo/jKK+wEna5HgaynogJiobElfmg8Umw1B4vk5V8uRLDUit36O8E1UQE5UNN1I9/44762kf4IHlebofTNSKQDsSt2AuCDwH7dXBtUa8e/EsdWmZOQPuXDjjtM06Pg6d326D+tffgPZ168Dc0xOkKAESly/wycMaAMDY4yHpO2Qxu1eF/Qkb2BpMd28XEScnofL5F8AUEQmjxcF30DB6zZf83zu0V+pEUZQeOFurnB+SupvpMnDckuvStShQYAKIGCUkE8DyvGzDQqxGLgj+YPfcv4HAc9Df3mrocx5kZwZlqtAyPCxND5r71FVwuvfEUEHoldrcT7ISy2kidcKeSPW1j9B+nIU5MOFheZVxii3f5V7TdE5PiKIIO956GQSeg6Ee7/2Hp7+7CzFR2VBZ2OFxu8VilSRiBrr0PZjcy7ykWZqGVbQqb2lrPxjoGoX+jhGtIXqkq6FOqkSypb6uhjoAoMlIw+zZTjIltX/+C5j7g1Ox9NXDGgCA1WIx1M+sl8nGRvqz/OEzYJG5/reuoBX9LsGYNqkveJh7zdAk7/6F80DgOWirqtB8bG/rME3yFueCZco5yROtIhxcTpPDjrrA/f4AMAFEjBOSCaDUyL/7O92fwaoevriIG8VqdbgJDA4Y+izJpupz4zZVWhgtKVE9AMJ4fO0amCIioe6VV1UfY7VY4cAnebZmbOefVcrGQsUECwAg5fPlIPAcVBffUn1OJfZ+MJtO3DY1KO4nWkWIX0KbyHvb5GUj0r4phpiobKgt6ZLdR4mCE8lUWPhArOpjWFW0WMMEen5qtTR8k3u0wnArBRusSN++RRJ5Z4M63bGxYIqIhMqfPw99KSlQ/bvfgykiElqWLDV0Tr2wh7W+thaffN6ud94I+MNob8IhOun7rnyrwOC5c3RQ67XAL0+7Ung2TZfoOuPI6mUg8BzU3i3UfCxrzUjf5bniy4Td71xu0BWbXjABRIwSkgmgL3S4gq2X58j4iO/8aVvKHwZlqrP/RCqYIiKhab768042N1MJimeeBVHlv5vJpRz4JM9t4OPm6RpJo0uOBKYfWW5cbw8AIGHphyDwHLSYHiruN9A5Krl9KLkHMKmJwvN1uuK5sm+X5iGgG7a+0awE772bAAD197udpq9jorKhPF+/gPXk2KjkYNNZVwPtNbSPcefbr8F4RwdU/OjHdKnyAhW2Hi8vB9NTT1OtusLAatWJVitdpvZhzyR7GA2keHvjnHdo+0WyfC/sVFcXrRJGPhW0aiuDudvcSEnUdbwkIp2jXWUh8wCVe7lzqcHj9rKcFoiJyobzOwN7L8EEEDHKtEkAtVQQfGGgzpxEKm+p61fzJ2xKbeds9ZUwOXqaG+lk6vtv+iAy9XR89bVXBxBXRKsVKn/6HJgiImGiWp0XbWlmk2zTdePDXoiJyobkz2/KHs8qdmx50ShH1yxTJbpcfYcOgKRtuaO43/3sZkNN5XqM7+9fpcvGZ7790uu+VqsoSdncOlMj/T6S1tz0OoEthyk/V3poEUURRFGUkqJ7m76QrAUdrxHtX9D3m957X9c59TIxOio9rE1Nap9e94TUU/jAeE+hGqwTE1Dx7I/o312dslZk3YwZVNj9mvGWCSOk2yrEJZf0Se+we0bh2TTNxx5ZdwtiorKhqbzX43YmB3PgE/29u3rABBAxStATwMaHvZC4qgD2L8uDB7nqllRO+UCGgdll3b96Wfdn+ApfytIM9/dpmkz1FY1z3wVTRCQMnD7jfWcHGmbOcqrueONCzH2IicqGe9fcBcAnx80Qa1PqH+odc9vu3LOnb4nVlbRNa0HgOTDl5yrud+tMLcREZUPOUeUepNaqfimh0kPSysU0IdXgllBfeoc22H/mXb6nubxPutlNTVjAPGmReqDU6DB6gi35OnpzM7Hl03/5D4/fj8mWFqkKOFETuMqZk8yOj272x9av8NlUsRpGi4vBFBEJVb/+jdd/A7N27PpOf7uNJ0YGJ6CvfUT1z9CI9SeA/lWj8ZEpqcotp/VnsVhh30Jb725n4IYKMQFEjBLUBHCoZ0xqemcvV4FcTySv0mcJ5EhG7A7dT4S+prn8Aa2ALIsy/FnmKbsQ8Phw4CyKqn79Gyrp8kDb0mr7BlrJ6Yr23tsjWkXYv4z2/3U1ev7Opm25I9sHODVhXA7ClXPffW17kLikuF/67nsQE5UND/OUh3wcbzgTo9rbAViFU4tbQk9TA60avzfL675sOSzvmH1imC29X9qrvWopiiLEzn+LLqNX2EWHWS/rvr/+J1Q+/wKIk5NuxzYvXKi56mwU6Wflwwq7JAKvY3lSD6ynsmXZMq/7Dpw6DaaISGiYrV1+RY6ynGbpQe1izH23wQpPsFYLva0bRedO6lJHYA88yeuUe4ZPbpW/7vgLTAARowQ1Abxmm+Y8/d1dqffpxNdFXp8KpQGOWnXLhp7ITdoPAs9B3tFDuj/DV9TcKaSDG2t9M7ixa87rdKK4Q39flhbM/f3SdKZ1RNtUaF9KCtUi+9B78uvYRycnuaAkteIkIO6j6o3adoRDK/NVTwoeXlOgyxHEarHo6k9z7EFVWta0mK0QZxtk6ay3XzPYEljc4lwwT2nTjOttaZLaHxz7X0eHBqWYGlZ6tmxkQ0TVv/3XgGnVtVaaQOA5OLDYd0vPkg3kBW3Vc700vkur9X0p3q3sJmpraZ/uj3+iuk9XifbaQbf+0VtnvFdwd899wzZ4o08lgXkun/pmg6bj7lxuoHZvB5R7fG94kXjyB5gAIkYJWgI4MjgBsR/RC0BnwxCMD09BnK0aqHTj89Uy3q1Tx0DgOciM3637M3wF82M1ImvjSPzHVKaivca7rltv2zDkHKmAm6drdNsZjRQVgSkiEmr+/T80Hzt69y69if/+D173rSrugJiobDi5Vb6PrvJ2O8REZcOpb++6bfNHf2T2oTjb8mWy7D4To/aq3uS4d623i7FlEBOVDWU5zZpiedzXIy3/W63qEyJRFCVZJKWHhpZKujydsCLfyQ1BFEU4vJomrQ0PtOnzMdma1C/XuMW09/U/0z7dFM8/W6uDVt3Ibe3TnXpgy+VGfWUdyUrwnTi5N8TJSaj48U/AFBEJ41XekxXRapV+xmMPjdvCndtRCjFR2XAtsRzqSukwUdyiXBh77F7hZTgKOevVba29Sx+yj67xXvV05NLeMtmWE0cqbtHrztnoEl3x6QETQMQoQUsAWbO7480850gFxERlQ9bhctnjnCZmPSwLqaU0I53KTkR/o/szfEXJZVssO7b65PNYH1h9qfLAwUDnKOy3+Vuy6qvWCg4AQN/Ro7SKF/WR5mMtAwNS9dAyrFw9zD9JpUfyjsvfuPo7RqSbiuu0bWtFOQg8BwcXz9ccp2xMx6nsipK1XEc9rXokrlLX43XrTI3bMqsamK3Yvqg5mo4DcFhieyS/jMuWeq8luv99Xk+ppDGf0FYBYRXUgtSjTu9P1NXD0T/+jrZpKEw0t61eQ5eBv9mi6bx6qSi4DgLPwYmNnquSevClPaE3xh48pJI6L7youke46f35tGJ49Kj3nRXobRuWrBCHesZAFEVJ9qgwXX4oi7ml7Hz7Nd2Ve/a3r7Vym7TmpkcBaFdYFfzg8hsBGwTBBBAxStASwFPf0p6J+9n2KkdLBe23SPjshuxEYV9bKwg8B7vn/s3Q+U03ckDgOUjbtNbQ5/gCX1cjpcGEGzmK+7Gn2+ObCuHgpzd0VZ0AHCaAt23TFW/Vr36tqsJwRiiR7N/kEK2ilNT2tDj3QNbeLQKB5+DIam1VACVYb5GSPpnpJq0OnNuhTibCdLNN0/4MaZhj5WJNxwEApH65xut3JnUzvVlXFbn3OTGv1BNfa5NlSbLJMdXcca7g9aWkwMXf/AIEnoPzwmbZ44cyrlBh6P/6k6bz6uX+1csg8Byc3bbJZ58puffE+F9wuf/4cc3T092799gE240lvQWn6APE5X32Pr6qIlrVP7L+lmzi5Itld+bbvWcer/qYyXGzfQBkWHl1xDxpkVa0RgZ9Mx3uDUwAEaMEJQEcH56CGNsfy3C//Y/FYrFKTf7ttZ57pVpMVOfu4BJjVZy60mK6lLPK2FJO06NeOCOUQEb8AxjqcZ88VUNu8kEQeA6uH0kwFAtDkky4fF52H6ZuH/NRNvR3jMDDvFapSqWmKdsRViHoT9M3UNM4+22bJVW67D6iKEoC0D0tjxU/jzluuCYqvnCQcYVJqJz77mvZfbRW9Fif1OHVyhVDc3c3tH62Aqp+/Ruoe/kVuBsfq/vfd2mPoNjL6DhhPdw/7rZ9ZGBCqu4oObE4xT81Bdvf/KvHdo6WRYvgxs9+apOH+VD2MyzDw2D64TNgioiEyYYGVec1gj+sFsuyMnyeVMrR9vnndOhq+w7Vx0iC7S+/ovu8oihKcio1d+2/68lxszQIKPd3XVVYAALPwbF1n+k+/+jggLRypLY9orNhSGp5UMPRDbchJiobmssD42WNCSBilKAkgLWltFqQstG9b+eKbcpQTghXuhisX2EohrYq21Plovd0f0ZX4xDs/ThHekpMXncLpia0L6FmxlHx3tunT+iOxZFrB2I8Lqs5kp9Gl1Mvx9GnccuUFQ6toIMK9WXa+rhq/uM/aR9WkT5R3vb1G+hNaedO2X1GBu0Jhrdl6lzbcuSts86TsNJS+3bfLReabEuCaZvWyO7DKq1lOepkjsaH7T2Dct+nqdZWqP7tvzrZo7GKmR6HHCYGLbcMyfr/lJJSpg/Y9Mj7JD+Afck65r1ZTtUf0WKByudfgNIf/lAa2lESSGcSRH2HD6s6rxHYkn9Wwl6ffWblrXy6rPyF75aV5ah7+RUwRUTC0FX1ElqTLS30O/bMsx6nsdXQ12a3anTtg728jzppFMksA5deueC1EuwNi9ksJYBqLfdY5f7sdnWV+AybI4i3fkFfgQkgYpSgJIDXj8n3C7FKlNwfnd3rVL7iogY9SwKOiKIIZ7eXSI2/rAleTi1eCaaDVpohXwHTgv0m5dnZQRRFadLUUbuNTbJdOyTfg+n2WZOTkh7bVKe+oZzexESv1l7NJtoecHTDba+f9yC3xaOY8q2TdKn9avweXXF6oq6k2OuyslQZMKmvDDBtve5m96qIODUF9a++Jnnijty8CW2ffw5nfv8r+nvfrb06xXpi5W6ybBryyn75achrh8oVb+SuPMjJ9Jg8j5eX08nTn/1csl3rUbDa6z1Evz9N76tbFRh7PAnnd5ZC7IIcuBhzX5PcTlbCPjfNQqM03C9RrcNoBOv4OJie/iH9W+1QL1ciiiJU/uzndHCkUltfKuPeNSoY7slOrTy/TVKD8IRkb3jQWNJtt/BTN0nMlqzV9rUWXainPewKTkS+BBNAxChBSQCPfUk9W+tK3YVjWaNw3GLPUh83047Sm/h+YzfxkYF++kQ4c4YuweSOukHpiXaod0yaPk1cVSArUSLHya/XgcBzUO6lZ08tdy6cAYHn4OIuzz15zE4tbsl1ME/aK0xt1QMQE5UN+5deB4tZ3b9hoq6e3qx/+pzu5ufhvDy6xDTjJdl9mB+nY/+QHExM2dURxB/SP6wlQW6Z0mKxwl6FpVM5WI9s9Z1Ot229BxOokO+Lv4CpNjq1K1oscHIWneS9On+u5n8H0907uvYTj9vZZPL9LPkeUfY7UqsHyJKp3OSDTu/3Hz9BE7p58yTvZiXHnvGKCjrY8NPnvEqViFZR6iVlr4sx91V/dy/HRKuS/dECs77bv3Ce6mMmx83Q9KhX03dq7N491QLQrjS8NZu2aZyXbytRglXBS640um0b7B6j19KPczxWvJm94e1Tx3Wdm7F/4Xsg8By0ValL0NJ331el3cmoLaErW2nf6Nen1QImgIhRAp4ATo6bpf4/T82yotXe69XZ4B7XtQOxXpc31WAxGxNMZnpzVw/RwQXLlBUSPtPniMDsxPQYlXuCycqc2rze43ZWzXFNpkSrKFWe5HowXXmck0OTt1f029ixJaaKZ56V1XPLSVbvkTs2POlRdsUf4t/eXFykqeQl1zXddLMO02pa8UVnqy7L0BBUPvcz6rpy6rTTtpOff0aHiX75vGprPUZHTRUIPAdxH73jcTurGCtNQ2p1MTm+YYXHBx/HPrUr+3aCwHNwM01es060WqHyhRfpINH9+4rnbHjQIz1gmm62w96FNDlvqxlQFbPdQUhZ+FsLbLBtz7vqViMGOkchcVWB9ABaW6qu8t535KhqzU1XOr7cRAe9vtU+6OV4XfGkgymKojRt66l9gAlla7E39IRkIODFtpEh6XGq/G4wndK4RblOMkn+AhNAxCgBTwDbaga8SmJc2HNfdiL1fPRmulx65YLhWJj22UCnNvV2q1WU+uUcdc9upFbpWgJgEhwtJmWxUbUwzSu5Zcnzu+7J/nxZH4vapWxp+Xap/sla0WKRvEknmzz3z0gVsWL3ipgn2O/HUbDYH/Z/g102iYo5r3ncXn+/W9d07N0MmqRfTXCejO7ZFydVS10r1+xBIvf556Bj01eazudoIWh1ScLV2GEBOOsdetOUFEVRdnm37qW/Sv6zxemnQeA5uOBFIom5gvTs36+439ntVIeu4CRNkJn0lNqqZerG1XRauuC6qv3VIA0oqFiNcJROYUM58UuuOw3TydG2ajWYIiKhe7f21ZP+1FRbVVZ7z7TTqo7MygIzBfAkB3Nk9VLbA7K+HmOGtNKSl+11X6cJYJX6qFaLVeoJf9ynvjKrF0wAEaMEPAFky0RKZveF5+tkEylWNai8pW4ylYi8uwAAIABJREFUS4m4j94Bgeegs06blyjTdTvwSZ7TBa2Zydi4COV6g9l3dTcqG7OrRUk2wWKxuzn0trpXPln/nFoJkvYvvtA8VegJ6aafm+u2TRTt0i6eYvYEE5wtL7ALG5/YaMxP1BNjj4fs04Ueqpfs+54Rry25ZyK5jstJ1vFxqPrlr2QnpvcvnEerZT/9MVQ+/wJYx9XfhKxWC0TPegkEnoPHfc5DQFoqe2wQpLVSWTfNMeF0HPCwjow49ZRKS9NeBHz7kpJogjL/A9l9hnrGpEEidoPuax+R3lMSI5b+fT6woXTFyb5xRPn73fiwV6ooP+4blyzICk55v4bVzZgh+zfmjbGyMrp8/Ktfaz6WDVOcEeRFktl1x1OPYFzUHF3XaVcu2NQR7l4853VfrRPAjJQvtPf76gUTQMQoAU8Arx565HFpyxF28/NUNZGqZeXGq2WHP/0YBJ6DxjL3i44SrDrjuoRqMVsh3paoyHnVemLH7Fc8SmHoRRpw8bCkJCWvy/M8JqlsWs+TkLInmK3UwJmzhmJuWboMTBGR0Jvg3p833D8uVTzUStSwamx+mn0plGnONdz3nVq/t1aCvOM0DjV2V470tAxLvyfGwKlT1HHlD/8GotldaoVVtO//+7/TSc8r2rxlmcVie7Vzoz8TbVd6aGOwiU5vk5DNj8o8yjmNFhdTZ5h//R0AAHSr9Cker6y096J6+NkA2AcRzm53/v2f+LrI7WFBjoOL59PrT4VxVwxHds5+lV4DupWvAezBJt9WwWwo65EeRpVcZqyTk/YBEB3DWtaREWna3NyvzaKQtcuwmD3B+pIPfJLnPBFutco+mGjl2kH1jivMdUhuMEUO1uv4IFfdxL8RMAFEjBLwBJA9ISlZRg312puCXW/4e+bxIPAc9LZoFyx25fiGlbqqied3lsouobJmebVSAObJSSmBmBjV5qMrh6OPqmtVqiyHPmlf2OO5V8pZSFlZbw8AoPoPfwBTRCSMlmgTLXale9cuMEVEQvs6975FJkFyZL2yIbsjbJr8Qoz938ks8jpqfOvXqXTzZu0Mj25o8zB1XIJiunoNs96UXeZ0tMtq3rwZTBGR0PqZNqkkNnBRXehc6ctKUt9/WXyRTkJ6cgtxhOknntm60en93oRDtKVg0SIAAJgcH1NVHROtVqj8+fN0UrXc87mZPqSj+LxjzBdjlPsHAQBi33+TVusVppL1sO/Dt0HgOehqkP8Zjw5NSv3TTHNUtIqQbNPXU2qPYAly5fMvaOpF7WtrgXuZl6C/vRWqf8/+1rU9QJ3eRn/ulYXyrTYWsxX2LaR6gAOddrs3x2uZRSaxV4uWaWL2ndDaznPTNjl8Q6Mjjh4wAUSMEtAE0HEAZHRIfrnFUfS3u8mehDhWW8aGvScn3ji7bRNtLr6WofoYi8UKcYtzZZcjS6400upgnPdpVQDj08iesFossppXbLhAyXqJ9Ul5q4hYJybAFPkUrQr0GVvyGExPB1NEJDTMnu227dENmsyl7/Z+g2aw5XhH2RhmKN/frs9QXg6lJXxJAqZC+8+HDRV1Nz+GidpaWoF5+ocw1eWeaA52dYLAc7Bj9iswYvNXrvzZzzXptrH+WlcBceYAUlvivXLEeh6Pf6Xcr5VzeL/HCeC2lStpn1psrPQe+/l6WwJseu99qgeY4j4wMjlmlpwaXAXbWbU1bpF8jxrDFz7knji0LIom7+Xy1w32UOM6ZcqExjMPyK+KDF68SP++Zqn3wW4xPZRWJ3bOfhVK5s7RLPhutYpSy0lfm/IDLlvOriq2J4qsAhzrA//uuxfP0n7Snd963Zf1JN7NaNB0DiZpk75b26qSHjABDD8WEkIaCSEThJAiQsgLCvt+QAjJJ4QM2F5ZXvb3REATQOZwkLjSe8XtbDSVaqi8bbf9Ymb329/8q0+SJeZDqkXSobuZej7uX+Z5CZUNuSSsyFf1pN3X1qJpAlAte97lbZpXzksRTIJHSeyZeb7mHq1QPMdEdTVNNH7+vGH/S9ZjVP3bf5WNR4vP7OM+umy8d0EOWC1WxaTYKAlLP/C4LChaRWnKVI9LTNoWekOsK+2Gru++oxOcHy3wuK80xbtgLohWq2SvN1qsvlctJzHeTSbHanGozHSNKhxNGehSNwl56psNtslO54cvJlT8OCtLeu/Yus9UVeq7d+2mlc8V7pXPxke0d85VGgjA+5Qqwx/VekbKWlp9rSmW17lksiSuUipMkkpJvqlr507ZCrsnrBaL1G7D3Fri57wO5RGR0LnVewLFcPLm9tIXnXuUDuQ4CrgzjcTDPtBIZOoIapxy2NCZo2uJGtqqPUtQ+QNMAMOLmYSQSULIPELI04SQ/YQmdv8ks38KIeRjQshPCCGRhJBEQsggIeQHGs4Z0ASQPR2d99Do6wozl791xn4x8Ca5oRVWhchLSVR9THlBm8c+IoZ5yiLd9Ae7vd/02Y07/uN3VceghgOLqOZVa6V9CWPK0a9yQH5qkPm6pm5WTh4eZ2WBKSIS6l9/w3C85v5+qcfIOub8c7tsm0xW0qBzRbSKksXUQNeo07CG0aUkV9iUoutgAOtdZEmoVjJtrjilVxsltxW5vj4mSM2sDVs/Wa554pPZnDnqR7KEbp9KaQurxWpPenvlv/9Mk81x8l2cmoKKZ56l0+At9gcXZlPnTb5n+MYN2iP5xz+6bbt1tpYu6R32vDyspFPHkKr1vHo7MbWc2rweBJ6DR9ezPG53HN5ybc0QraJULZaTLGlZtFiTWwrzzY55/0143NsDMe/NAoHn4PrPn4OmD+Wt+VxhvXQnt97xuq8k4O6wFM+StrSvPld9TjnsXuDygvMMqfrepG2laXTIJkH1UbZmS02tYAIYXhQRQmIc/v97hJA2Qshqlcf/HSHkMSHkHQ3nDGgCmH+S2o/dSPVeySnLcReV9bVivh5nCOZiojR1x5bM1Dw9Nj6457MnXEeOrGbagvaluM56dZNtTJh130LlQRA2eWlEAoYhiiJUPv8C7eGqcv5+HN9U5LVv1BOs2tn4sBf6O9pA4DnY9Y7xZNWV1C/X0OliF2kQSZB6nfreRUdY0pK9t5AOOPzox2Ad9VyFe5h7DQTerv3IZDs8LanLwWztTmy0W5Ix3bzjm9RLcLCfu5wl3NTkBAgzZ9Bq7KA9YZEqyj99zqnCX5B6hP6dehF/twwO2gcVXFoSWB+a6Wa7x2PZtLZSm0F/O9Xr2z3X998hb/7drMonN7yVEW+Tb7rc4PH42j/9GUwRkTBcoOwvzbi4axsIPAc5h2m/aW7SAfqA8V+/h5p//w91/yiwu2lcV+GDzYToD6+xx1h07iQIvG+8l9Xaf06M2ftvlQZrPOGoWOBtydsomACGD98nhFgIIa+4vJ9ECDmv8jP+GyFknBAyQ2Gfvyf0y8JePyABTADTd99T3RDvyfqr/EYOfRrctNYn8ejxhmV9KkoN10y0+LaLF60nqotugsAbMzr3hKeKgukmrV56k3gRraLU59jfIX8R6/xmi25xWE/Uv/6GpP8mxSLae4iUYvEEm0i9n91sr7Qu8G2lFcCuL+jaS8p+3ud36huQYRXzU5+dV1z+BXC/UU42NUn+rXJJoyst5Q/dJnNLr9LJWSULOFcyvFRsuxvraXVp3kyn1gGpT42f6bR/WVaGx4ERT9T+haPfoWy7uLTVYrVXgzs9/yyY7MfB5Tdk2xk6aqulZXZfczV+Dwg8B7dOHfO4XU55gMEemD2trjhPAHvX0ZyaGJcmyttraOLW20KVBaL/9hcoe/pp1RJD7Jqvxk3DUUeS2fOxxPP6kQRV51OCtdvsnvs3xf3YRLJWCRgG02n05HTlSzABDB/+hdBf5C9d3t9GaGVQDXsJIXWEkH9Q2Gej7TxOr0AlgEztva3au7L6cP8ExERRfS5WSmdNvHIWZ1qREkqVywtqbiQADppWKoYWJNeObzaojlsN7An+7kW7PEsBq8Cq6KVjFzGlxn9pWemIMVcWBlu2dJSCGRl0/x6ohTXH5x2rhIayUr9UWgEALtuWKIvTnZ05mJ5lboo+/9QW2yBL4vunbM4fp2T3vX4kgQ5VJB0AAJo4swnt4Xx1VZ+Bjnap4Z8lQVocWBi3z9Uq/rurC+lDj6vtXFf0dtqntt75b6H+3l3Vlf+2NWvddCl7W+mQR/zS67LL2JYpu4ivXL8mq9YnLpdPxPXi+vtzxZsVX08L7U2OW3LdrWo/XlmlqVe3seyevZ/UYf+DS2iva87zP4PxCuX+YIaWaz6Ag/uGbX92Hbvj8relB7UTxdV3OiEmKhtOb9MmAcOwt26oU4LQCyaA4YNcAvgdIaRQxfGrCSH9hJAfedkvaBXAqQmL9HQ3PuxdWd2T+O+NlER6AUqM90lMrG9KTU8IgLobCYB9ueaQiidIqQrpxelAK3bT+mTpPS3elkz6o+iCvF5j/auvuVVbjNC1YwdNAL74QnqPDdUkrdXeVM36Nc/vugeVt27Q5c0vVnk/UCNZCZ71xTIPUs3Lkkz5vjIlmHDx3g+uQHnk02Du9bykCgCQsddmc3cmVXqvbfUaTSLdjkMOY4/pNYFJp1QVqXfLqSykfV9noz33yTKvald3j+aojzw+UPQ0N0oVQ2+wpe/Gd+ZK71Xc9i5EDOC9dYNV61PWfeo1Dq3cPn0CBJ6DK/t2edyeuJI627TL9PiJVhHiZQTehy5dopXVmcpaigwml3LJZdk1OzEOBJ6D1H//LQxd9u6m43jNHxtWN41+MYZeo5iOXtqmtSDwvvFJdxoEG5RPSO9cotXWLC9SRnLctrVuqFn2NgImgOGDkSXgzwgd/vi5jvMGrAdQKqt/Jm/q7gpbbmUXZMkU/PQJn8Sk5JjhiYpb6m4kUxMWVXI3APYLf2ac5wu/XgpSj1LNqwMx0ntavC2ZaG5GvLwsRdWLv6A9e5W+0bwaOH3GZjc1T3qPuQiodSZxhE3kJa29CWXX6DLi2W2bfBKrIzeOHQaB5yA7Mc7pffb9VevV6orVYoXYqCyIicqGitnyDhcAdkkjR5u7/hOpbj9Pb8QwnTubpI2eZnj2ty73AMQeTm64DF/V/BsVsB4pcu43nBgdlW7cU16WHiW9u+d+JvURSqLgqcr+yDlsClVGtFvqs/RxtR4AoPTKBfogGP2N2zbHKvjUhPzwCUvWHZUTABw1Nr1PvwLY9VFdvXfrS+9QSZaX/wg9++JkjnY4bxOtSh78VP01n/W9MgWCxOULQOA5aCgzpjPKYOoIva3yA2VZNgkYtXaYrrAHT39LwWACGF4UEUL2OPz/9wghrUR5CGQFIWSIEPILnecMWALIqgLekidHmGYdcw058+2XHqUj9ML6WtRUFgAc5EhUPNlJllhVyqr5eUcPKS796KXk8nmnyqJWb8umciqbkfKFZ1kK6+io1HBv8eCAoYdRm36dY5O5t+VEJUYG7DfO22fSQOA5yIjd7pNYHSk8yz7budLmqOOnl0MfnqPDCzuUl9mPracWiVW37UnXeEWFXQ9QpWwSc0upv3fXyQNYSzP8pEMTPevlcuTM1o1uPZPW8XG7pqSHSifzDVa6cQMAiGYzVPzox2CKiISJOnrdkEuMXGF6k3I9myWXzvmlWg+g3I7CBnFSNhYqfsaNE54T3ZbFS2hrRWKi1zgs5ilJ67CvzXmlwDERr/UgteMKu+ZrcdNwvU/4Wnj7wOL36YPSsiXQHPURdMfGujmbsIGh6jvqfMddYcL1jv3r/gATwPCCycDMJYQ8RQiJJ1QG5p9t25MJIVsc9l9p2/91Qsj/cHj97xrOGbAEkJXFtdzImahy5kGqr8a0sqqL9U1VumL3I50B/Wlp8DgrC6wT8vIorA9Hjc0Pc4Dwttx67UAsCDwHN9PcxWuN4DowwyzgDqnQYARwSJ4W5IB5yr3qMFFTIzkL+Iqpri6aVD71tCRgLPXTZGrvpxGtoqRhd/XAfqepRl9yL5O6WpwXNkvveXLy0IplcBBSZu6l36N0ZWFxJiTc9NA+NS+azVDx45/YkiF1PXynbfp8D7IzpVaGw6vV9RA6xWNbsuxscL+2SFUdB0s+b04VWipBDTNn2fySLygujbrC/r1yOqW3TlHVgMz43V5j0AqTKPHkeSy5qxxSXpKUW6Go/fNfVPeCMqmtPfN4j7+HhA+pL2/Bm8qDFAD2h7ccL3qiTud3GMCwmM0ep8X1IooiHHp3Jn3gfv456QG28oUXnX42CSvod1eLnacjjk5W3rQPjYAJYPixiBDSRGhiV0QIedFh23VCyGGH/28kHgY6CB30UEvAEsAr++mNXK1FGgBAbSnVo0vbQjWk2NObo7adESYGBqQn2gdP0epD1W9+A8N5eR73P2KzXGpR4eqgduDi0u7vaJPzhTO6/g1ysOWa5JVUF44tS6hdSnV0Y/FkCTd8/TqYIiKh7uVXfBazKIpQ8ZOf0oSlnlZvpIm6e/om6pgTx5ltgl8SbQAAk4fqTW+bzcv3E8/fJTUMpqfDmZe+pL2YCs4tAPJuJA1vzdbk1czaLG6dPCYlFHqW31nVzbWKIoqiNGHq6MgylJFBNSV5z4LoTDj6QY53f+OOTV/R6fRvtsBAp13H0JsWo6P8h6cqeW7yQZ9NpLrSYqIT2AlL3Zf6vQ2AMDz1KIuOE8Ad3vs4H+ZcpX1+G1d73H55C12FOfsX71IwevQ7HavHva3U3SZ61ks+0V3siYuHw3/+A01gF38MfUnJUPfSX6Vp+eGCAudedRUrJZ6wWkVpoOhxn7ppaT1gAogYJWAJIGuwrr+v/kbOJtsOLKc30V3v2Ky8OrybtntDtFqhacHHEP23v4DAc2Ca8zZU/+73UgVq8LyzHpd5ykFEeVC+SsiQBhC8SIDYl7WvKO6nlfbqSip7YhOYZh6VWtw0lNTw+48do9IkCz6WPX58ZBhq7xbCcJ/88IIrdX99mVYrbEk4S0K9VW/kYDIUR9d+oaizZoTau4VuU62Sfp4XSzQlWpYug8v/uYRWfxQa0kVRlNwaHvc6ayV2bv0WTBGR0PHll6rOyXpHr8bvgaJ0OsWcc0R9BYchZ6UlTWLOnAHmKfsNtmfvXjBFRELbSs9DOpnxu1Un8ANnzkoaiHWl1JrOm6g54/Bq+T7ZzLhdilItRmDSOHs/cNdtTFylrnfXk0rBeFWVvQ1AxQQwG/TITfJcKS+ztZYk/OXfvMoLMd93OT1IOVj1uDz/Pgi8b4T/xx49AtPTP4SU//xXpwdu6+QktCxdJulPdtykg1v7l1738onKHFlPiwWtlcotQEbABBAxSkASQFEUYf8y2428Tf2N3HEZbWRgWKrW+cKGqS8pGUwRkbDrtT+BwHPQ09wI1okJSUbC9MNnYPSuvXeFPV3vX5an6kIq2d6tUl52ObFxFQg8B5W31DdKq8FV+Jhp4pXlqH8av6bQDN0lCDSx+Hqz+4EAMNjVAfui6HLRrjmvq67atixaRCdBk48YEmRlMEeZg0s+BYGXd1owQnP5AxB4Dg4ti5LeY76tF2PLFI6Uxzo5CZU/fQ5yfvu24kQtAMDE6Ih9SGLS+eFk6PJlTW4tbFjmzNaN9mZ4GXFhJYou0GXL7GTn33t7DX0wifvoHaf3W1esAFNEJPTEeZ7wZ8uvclOyjjBB6YqfPgfFF+tULZ8ylHTr0rdv8dtDxFBPFwg89XJ2xKkPU0UrgaRTaqu8st+/q7aiHGwApDwv2+N2tkS88/U/wZhJ/m/aarHqroIxG9C8Y5lU/mflYk3HuyKKIjTOeQdMEZFw7t23bOoISfZYJyehce67YIqIhNuvLaQPbpuU+y29kb6Lfo+8+akbARNAxCgBSQDHh+0XMfOktlI+a6Svv0cvPDveetmw76y5rw8qf/48mCIiIX4e7QlpraA3CNFqhdZPPpGWg1lDOtOGUmNpBKD+wp28conUdO9LxoYfO2heTcHxTTZXDA1P40pyCJJm36FEj8ee++4r6fwCT8WF1ViwdW7bJiWWPS3DThVgPZRk0j7S2Pm0R672rrELuyc662tpUhM1R3rv1hna/5R3XN+E9HBeHpgiIqHov2gCqOQtOtDZQW/Kb7/mto0JQlc8+yMQVfz8mTRS0srFcEagN+KqYvUSMAxJCsbFMrHiZh4IPAfHNzgPEdS/8TdqdZfpeYmXLU2q8XEVLRaplSBjZ6HHSqQcrHXDU6Xcm12bERyTePOkXTmg3SaDpLYP01W3kfkjt33uXetUFEVpSlZu6MJinoJoW5ytp+Q91JmE0b6F6iwEHcm1PbSdi06hU9eb1fkXyzFy+7b0N5Bn67m+dnCv0z7mvj6o+s1v4Nof5ht6cGOwB8/b57ybAegFE0DEKAFJAJkFmVxztRKnvqW9RMUXCj1WDvTQJUTTqsirr0kJmKOPq3V0FOpmzKDG8p8sBwB7I7acl6gnWDNxZ738z/fg4vk+7WtkiFYrRM98CQSeg+G+Pohz8MVVC0t6T33rnvQ28DNlvWlZlUCYOQM6aqqk/jTHCVU5mHRJ84dRUF9Gl1FPfK1/GbW2hPaR7pxDq5EtFY90f5YcTEB515zXpfeYBqCe4RUAgPb1G8AUEQm167dIDeVyN1IlhwrRaoXKn9KG94kaeftCBvvdxc5/S5IN6qgb1B6/rQKetMY5cWWOJY4ac6IoQuVzP6MxVnuWamHixIc++UjV+RvefAtMEZFwbMVVTT2kTHbIk9d3yue2IbQi7ZqU3hCtVmngYWTAvmzI3GDSVfinA7jLN7UsWar4oOYI8zqOnvmS0/K8Kwdn0x7Oks3ybQXMyUlORUAJZsuXvHq3Tyb3mb5kx5dfShqUnswEhm/kw4U/raSV6xhjg4almU1OA4z+ABNAxCgBSQD/f/beMyyqNF0brev7cc4/996zZ++ZHb5xUg+oZbe2drCD3Xa0xba120bFHDFnxQiKWYskSA4FiICgCCK5CAIKiCJBkuSkRAGJRdW6z4+n1ltVVAadvc9c3NflD6sWFVe963mf5w58ILgpFjA8kv1pDJXoE6smahgrZK/7WOZsb0oKy3EtHZXjOlBcgtIpU+m4tDSmRtUXFj8a/Cij7IFu+wm+OGp/QzYHquA93epLKpmiV2aACK+KtgaFj9d+zfF05Wefo9TMHANFmhFhEn9PNbsM3sA76vIZg8/Z9+ABFT7zf0BhKiWq6Iq/Muo9KLzIHJYvfWufs2rCAE9WH4+VBCeXo+Kzz6jAzsg0yD2t5ZMyDu3Ufj+vir0ba9J7cbNOMprzOhpqCS4jynMuyZsiz1RNs1XV3/Jh7b6ZHU1k2eS6TrtIZDRenDuHZ2ZT4LE1SY0TZwh8JJw2v1L/fVsVSmvDCT9jAd9962xWugxk3qTfriEPQx51JQr7JoVlDB+N9/q+4c1XQ0kh69brw+2dlAiStE33cYwC4Wb6Z1VXTO/BYyt5W2Zc9zf8Rzow3NjI7IWGa2tRlEpj5Vs6vBzv7Aimjf7KM+BkYxee8AJGYydGY8FEATiB8eLvUgCy7lmg6V0unkt081zQGxkH8EkBVd99D04uZ6PKp0n3NI59eYnGkZVfzkPYmYcmq1HTFMay+sYAziuXQGRpgZ62sZkF64PfHlqonyQSITnohGm7Wl3egfLhYWahMNpDi+M4eG1bpzZu5ZMcHFf8hEEDnoHSpiamysu6aZyBrz4M9knhuiUFIkvqrvR2thv+IxMxIpWyommwj94fLyZ4UWN692ygoEBJ3B8eNvhYpZlppNw8fVTr/S12dpQIIhJpvV8VHMcxHzjXTVHw2Jk2JsoFxynzpFWLL36Mqqrm7cvJJf/Hb77V+Xj6eI7a0B0djcfvfULd0x2pBhXAPPQlFnluXQORpQVeVhvupI4FXtvpd8Pn7wJKLpkx+emAugWJbGAIpdOEpABu0e+BCABPk+4x/qc+3L9Ia2bo8iU6j8lSiM7uh5tOgehuo/fgtHr/uB0S2j08KRlmHYnhDKW5RJyjdT79sxXjirjkN8+mBB+YiokCcALjxd+lAByPszrPJfI/4KIxOhoL+NFQh68vACD+miNElhbIvaPJZ5EPDLB0Aq9tiSarUXn+WaKPZpcMID4NKxzekJmyKviRVWpgLI2RxuBMz0dQqRYfw3V1xKmZMVOjOHhZ/ZyNQ1W5THz3pDJH//iMk8lQKpyOUjNzxLmQctwUGwlt8NqdrCwejAyxNxV80dTT3gqZTG6SYnw0eIENTz/gu4m6IspYnKCWFAkA6AoNpUSQTfrTRHh479gAkaUFrm4MHpeZ7Y3TORoqUL89WxRdNCXHqis0jF7fli06H4vjOLZZ6m41zEkcqq5G5pyf4WYtwY1Tpr0HXnU7evTNXAhajCvGTAVvwq3qdcgX/7oi4EaDk3PwVPgevsx5pkxFMUEBbMjmpiIqktS5P/+g85ixiM54yGVyuG9LhaMVrRmlmWkmPwaP6oU/quVo1xcXagi2VMGvdzmzv0P5rNkYaRub/dSbELAZwkQBOIHx4u9SADJPsDzTx2G8Oeu1zfYKe4KxJ2YMNzayUZO0lS6m/KJ3/4ZY69/0SiQonPY++zFLTRCx8BYUN89rt6AY6O1Rjg7HMW7QhVsXyPok6krwmAUJ/Bi7PEd50e3LzqYu6gILjeN5jtedK+rjXj4vN8XPw+BzVn33PUrNzBF2nDpI1U/GtgjzuG5LAgKH5YvGLSDShWubrNiImXVhdujm7elD1fwfaPx7j7rSjE+oI1w++6bCusXbVev9/U+eUCf7s8+Nev4bJw5SEb/ew2jumTbw/nXF6TTS5ORyVih3tyrXgpfnLzDfPn3w2bnBaL4sJ5cj8Ye9cLOW4J6DaZ1vds6rJIfI5cblyI4HvAK3/AGNa4cN+BLqAm+5VeyXoNdbcTQizp6g7qxEv9did10tfRa/LsDQK+02J6H2uXCzlqC2aGwd9+ATD+CwnHi7dUVjOwcHy8kCp0w4HTLFNY7nuGrNRnc5AAAgAElEQVSzlpGNyFmEZ9nS1XptiYyB734SMGrzUX0TmCgAJzBe/F0KQH2pAIbQ3zMMN2sJHFdR1FVO1M0xv45OsVgjKD4rPFirKowHx3Eo3GJDatQtsSYVEEzFqsMMuLtVod5cranefBOIcyXz4+CjbmPupKUGl6mpCgHgVUSEzo4SH/OVH6tuPFyZQ6OXgP3bDD5n/abNKDUzh++uZLhZm5ZDqw23rxDv5+ra5eN6HH1QFfPwGcSmjtwB6lzxI3A+Yu/BbcU4TYeHI8+5VLW2UIXsdZ9yZN9p2MSctztxXntlTBF8PDLDib+WFUEj/NedHYpC/Ee1DQ9P0u8KDdX7eCEnDhjVRWbvYwOlqKRf0qR36AOfCax6zg/2KW2o9AkkxoPRnqC8eM5PR6ayLvC86fST1PltPnbMqL/jC+zGZ9onFjw4jsPVX36gYzPStN7PdyGN5V6ORoxLAUTLfqFNVYPxvGtV8BnIDdt3sNu6W8lcerTdDgB0t5FpuOfONPQXFjLuYP+jsfH4xuJ9awomCsAJjBdvvQAcr7M6x3Hw3JkGR6udGtwhU1G3Zi15zAUqL5T6VGE8SuOoAxO83Bs9SUlGP5+h965vN/omkBrgRerQHedoN15o+m6cj+NL8lOq2Vi4vJ2d2rGcXA7X9URkf1GlzttT7XYO9Oo/316cPo3iKUKdXCxTcc+dvO3cNqwb1+Pog6qdj9ICxfQEjXZvbyquNyoJ9kVpJIa5567dmiLW5TJxpWJu6Xzc5998i1Izc/Q9NGyDkyqm2Dyn1bYmiZ5GY7SIp6nsGUSWFvDesUHtOH5MZ0ioEC06R5zWhLtGPf/NPbeJg2vjadLrZgpOFepGT5t2n743iXuKDVue4nssf6hQJOvxgNSG/Hiyb7qzLZDoLn6GRRRymQwOy8k1YLSZuDYELCVObYGPZkdflwDIFKReL1F2XHtM59ECQM0vSzVScHTZ7QBAYxkpl3naQ8uJk5R29OMioyyURiOeT0KRjI/CogsTBeAExou3XgDyBsrjicQKsXsIhxUbFMKCsVmCyLq7WSTScIPyB1kkSTRIfOYX1MifzqFy3jzIBwaMfl5/PbmSjWW0yPnt0c19Gg9481yXdUfhZi1BZ7PpBtrP80nNpmoF03zYhkx7vdTTAtrqaxn/T9tI23c3dclUM2C1ocM/APkz5tJufHf6uMe2Kf53qQDcaJyFyFjAG3qXZWco/RNNsAziwdvrqHbDahV2OLrSLHhhRXFass7H5btsnSGGkzTyYm6RaGfl/jGpmNnrHpWGwudTq8aMcRyHMt6mpqZG10MBAJJ93RWdziCjnj9wP3WQ860083X1obpAMz2ET+q4tsnKpMcyBTxNIiuM3l8On8QSZJp4jqeeBK0PURTWhoUIrDNm9RM4ueGi7dYa8k9NOaE5IuW9C0dbAJmCh1GUAiJa9qNRr2c0Rjo6WNebp/sAuu12AGV6E097GOnqQsWHH2k0DYwF7ymZGTF2EZs+TBSAExgv3noByC+munhwxiDGpQCi5WRp0lI5tpFUd8xd2s0tXKh2e8XDTFK0jTKmVYVEYa4a/wt5s7W5GE4j4MHsQLTwH6ufkOlu8JE9xr8RE/Ak4a7iQr5nzGRkPpzdX2UMVbdylVZbEUM5onedLho1xu9NTkbWx4vV7CzGg/TgKFK1bhifhZA+KMd38coRooH83tGQvmxlYyfpS+VFi6cS+B7QfiEPPrJXTXWtDcxg296wFU9pVjqNaq2s9XpYGkLXiz64WUvgpSjiH0aGQmRpgXh3J3bMSGcnu1DLh/QLZvi/NyYNhJNzcN9OHeQns78EZ8LYtrNZ8br3KDcf/GbNkEXKeJAZSk4HEn/qWCb50eTB1C4sv+n23BBD51Kz4TQKXhxh7GY0dS8JViKsNbvqZXzncgwdcB75cXmKgnRstI3u6Gha7xdrKpX5KUVHo3pnjhXc15XRh7wv6VgEIYWp5GcY5zl2Gyt9mCgAJzBevPUCkDf1jPfSzyvRB0lwKUSWPHnc9FQCAGi2OaLVCqO28AlElhYQH9yh4y+BKEcihRd4JzFH+eF64wx+9SmgyxQXWl32HeMF//iOVtZj7sCqJprwApjn874ibsxj9QU+xc9DIdTRniOaFx2pV63KnrO8AilfblAol8fvuZZxI5w6k2u1Wz+8Cdy7eoWNYccaA9V5/TrFdi1Tv+gN9Wt+B6rw2bXRoDjiVeQtNTsMfagrKlRw9Vaiv0e7L58xGBlWp0AkeDhDZKmepTtQVEQClc/nGny8wpQEiCwtcOuCncFjX3cN0hhySxJKzKdisMz4PGOZVCkG4N8/n5DytjZrgPL3EadwOuBj3XSpv3VBqvK5F8/+1KgOOj8JMdZmq+AKbeZ8rTQLrJzosWdIs8dPylBsXjeMaQLQdPCQYr130LiP5zo2V6j/XrRFH3IyGRslN+7abdJrqTHQuR8vJgrACYwXb70A5I1Ms8bRBs+JLme8jeFB48evquCLlteZ6pFKfDap13bdF0Y+EaH5+SvUr9/AkiqMgT4PRD531RiD5LGAL24dVqxFqP3YRuccx8F7TzobIXMjI2yUrtqlAoAbJ0mo8+x+qtbHqi+msY7Pzg1a7+ch7+tD7PcH6SISMP7dc0ZIkILTdgxDRuSpjgXJioiprPDrCLEjL7GGUsOCC1XweaWjOVscx8FL8R10vdAc42szEB4N3lvQmEKrvkSR5GL5E+RjGL+pgo9ybGvoxU17Ml1XzZllWbUrDI9W+SIsyMZwJ7e5ksaQ/pvv0Ej9pmniscBj2ew3Dxj2WnwTKEzh1wN7AIDvAeVnZyr89qRQ93O57o2tKvjuY7LPNaOOb7xNNAGnXy00RrS8an08/NGCpATF5nWHydxxjuNQ8SkZqfflaK572tKfAO2OBwAwUFLC/BRf3TLek5DRn8YRZakPEwXgBMaLt14AxnmO3Q+Kx5PEIkVHYvGYdoPDjQpz4WlCyPvUL6CdzY00HtSRMKBqDdDfM4yh6hrmU9ebqr3QUUVFru4UFJ5rFTdOb0Nd4D35RMsscXcMjvw8Qs8oLR2kzc3MWkF14efkcuaTpku1p5pPbKiQv2XpQAR+8dhj4HjwVj9Oa06jvfHN+y0CQIYi7SQ1wEurAbIhjHR2suSZ4UbNQo731Gt4pl5UymUq9iR6yPKy3l42apX16i8oap6+YI85Xn/Km+dJCVld0KZUmarE8fGil6aDuikYPPjz2UMlc1kXeAHFzb1RJFiytTPpdUc7P4GbtQSl2dTF5U2SR9sbvUmUP7gPkaUFwuxs1Lq+Y6FuhO+LIRrCfuPoKryQKC860qjj+0tL4bB0AUSWmib2fOey6vHYze1zblPX3mnVYZPdI4ZqatgapY1WwG9ERvsLBh2nol+b52K7pxeNgme+j+HaWqNex/Bb9gKcKAAnMF689QLwTUjhC1MfKXaDYyNgv7pNF4Fay2Ua9/H5l6JlC7WSjV+97NcQI/BGvc/nfQVZt36FGu9jKD6qGebOW9Ck+Gm3oBkveGK3yHIR0sdh56E0dW1Ef14evfdvv1M7pqulCSJLCzivXKLX05CPvhutEh6NGxuvk4LOZ+yqb/b6FepK57UX35olA3/BunfVkS36I1LjvR35hJqaJdotgWKuPtU6Vu7vfsWKNUNekiy+76n+zUDJ/SaIllHe63ij83gl5JPkWq0qU5ZS4uxs8LGYjcyyH1nkni7wnff4c0TbqPn5F73Hj0baKCsY3t9yvLm0+qAa6cdzb8eaJBGzPYCsYOyNK+h403hj8roB6tJ7LvqWOmkP1dc2fcI3Y6HctJ0y2T+Wt6mqtVqp9X5tanK5nIP7tlS4WUvwukvTLJ6TyRj3ueq77zUSkHTBZ38G3KxNCxAwFhMF4ATGi7deAPJjjPGYYRankVDDccUGyMdgrNt85KhOPsjI8DC7gA71a47X+GzNUHslwV7e14fnX39Do+Bt2/Wq1NQsEUbFUfF2G7pMqMeLof5+9t5y75puAs0jU0XN1n2HRmp1a9VH5s8f5dDF6/AuvY/Fq2VVx4Da4LeV0kvKHE1X340GL9BwXuc8rk60PvCCm4iz9mPybqvfuImU1R7aLUvSdAhLOhoVGbnrDZv91q1dZ9QY60FUFRyWU+xZbUG+8W9CC/hzJ0Wco/gNq6tM+ffNJzXog1wm06ngHI0UMfG5Ht4oZL6KunKGtWG0/dH9G2I1gcbbQEsl0VG8d2xA5aOXCvX92D7/pOWnqQC+aHhKASg3ZqbE3F1fSAVgToCS8zsiVfIPB16PnT8aoxCMOa+9YnKCFON7O2gv1hM8KFXq4a0wdltvJ3FG3bel6rzGjLS1MSpRzc+/YKSjQ+txquAbIGOx4DKEiQJwAuPFWy0AVX3whvrH7uVWmJKo6ADuRG+n6VFevAeaLjsE1Riv0dDlwTZQXIIyxSj4xblzOkfTnJyD+w7aWfa0D4DjOEibm9GXk4vYM+S8n3M73OT3ZAw4joNoGXVdCpJNtyThwfu53XMvRLu7u1ZzWb5Dos9PEQCSvF1BVh66Czu5TI5r1sRhqj46/pFbqC1xE13We7w1S4ZnGRIFP+2wyap3WXc34xgNVWu3QnkUp91ahvfW891lWJ364rQ9XRivXNF7XKJvCRyttkNkOT7fTUApAou8eEerirbq+/kKf0Lj4tr4QqW1Vr/CWsnnakHFRx9T57PIeD7p6AJstEXL20BHk7KY57/v5ADTf7ecVIq0L1bDzVqCiDOGrVikQ4NjGvlH/0rrZsLp4+w2NjHZNbYMaR78RtFl/TWTM+TZep+hnXuXFuQLkaV65F2zwrom6Lj+z2uospKdT8+//kYrxxAAuJER9D9+gqiDUXCzliDPU/+GdyyYKAAnMF681QKQ2UDsGZ+XW07UTSoAVx1ipGxjoWozIdPxPvkYrzYt4y7W/bqpWTjw3bBSM3O8OH0anI4OQ/CJB3CzlqDkUgC74JWameP6d1+QanbrRjWvqjcJhxUkECjJGDsHUNXPreXECbLCcXNTO4bPVFZVeGrD43t3FFyqszqP4aPUrm1ORO3a8Zs3B+zfRheTDQFvzZLhed5D6t7s3KFQvRv/PPz4t3rhjzqP0WUuzXderx/bZ/B5eJVxw1b9aSyRlx7BaRXFkj2M1J/OYQi8DZT/AW9Fh/QEu4+Ty1E2/V2dvEdt4PNyawx0JgOPKvhcVd2sy9h1Q/+5qYqXtQr7o8PUyR1t0vw2wNNRHJb9iBQxCSnyYvV7I2rDUFUVcmd9a/QImXWRdfCgdSFt83riLO7YyG5rKCUz5RC7sWdIA4DfXmv2m9XGn9YF6ctWWl/Np+jkuj68FUaFq4qdkPL3Zfi5hmpqWEY8P2puu3YNnSEhaLvqivotW1D+wYcoNTNH9IJjcLOWIHH/+CcZozFRAE5gvHirBWC9Ynx64/T4vNzSAn0UKk47DYWWIbzOyCDexnzdweW8QbEqOZ1HvJd+N/fOkBC2EFQv+gk98QmQ9faCk0oxVFWFjoAAhG0Igpu1BJK5a5kYpeq77xG4eD4p7z6ejYpPPsXgs7F36bSBk3NwWEF5mmXZY7ci6GyhQt57Tzrq1q/XcNcHgJBjxCHic0x1ofbpY4gsdYexA0oFp++aMDz/6usxv24enltpnHl14423ZslQ8ZQKMYd1K0n0E5ht9KandvkKUv/6+uo8ho+XCx4VL1eclgyRpQUiz9safJ6+hw+pc/Hdd3qP8z+UCac19gpVqJveYw2hrb6XpgCbiHeV5KXMK2YX66nTjE5auGl/zCCFQCaT45pCuNX3agitTk4mRaIBwMDrYSWXc1im9HlMjjf6MUyFdHiIdeIiL1EBW5Fruu1VT0IiiqbOUAoQDCjf+d+kPissbXh6gsQU3quXstuYmfLVsWdIA0qvvqubbkJ8RJM/rQs9SUlsLdYFnq4R7XCO3WaqebuspwcttnZMuKXtX/mHH6Fs9zFU+UfhdU2T0e/BWEwUgBMYL95qAVhyvwlu1pJxKVAB5e7bee0lNY8mY9Dm6kYqw0O6VYaBNrtofJkUiOruarUL980Lj5iKURd6U1PZjk/bv1uLiBeWtNEJr6KiIHtNXEOeeJ25mKKwKj76WC2lZLzo7xmGw4rNigJwbGRyQN3PrXT+Txr2ChzH4eraX40SDfS0tym4YIsg03HR55XT15d5oHTKVJ2dVWPhvPpnxcXkFnz3j/1z0IbBkUE45jvi+2ufQGRpgUsrfoabtQTLL2zH4juL8bBFfydkuLaWzpMpU/V2gXvaqSvqsSMNnApHKT82yqjROwBIW1vZc+niw/HftfM6J4gsLXD70mmDj6sPvI+k46qDGnSH/sdPmJjKWLDYu7u6eYyjP6velBSDRcFocBwHr91K650wO2XSy9sCx3FwXEFjVd/99+BmLcGLGtNj0NrcaM3z3hpPNjIGsrSLUolic8uITYQq6n1pY+5oacFEObwHYNr1sXsAjkilrBB23RwLt60SyKTG2RG1OiqK/ePHdR7DW/rctFda+vCZ57kmm7e/REdAAJqPHkPjzl1oPnYMnYFBGCgqAmdAlDVeTBSAExgv3moB+DCqipRoN8auQAWAiLPElXNZd9Vkc9GGLdYU5RMUrHFfXU8dDqUfwqHt30BkaYFF5z6CUCzE95HfI6wsDDK5jCnaDC2iI52daHVyQuW8eazwK5sxE3WrViPjXJRWL0B+NFn7KIeZjdYs/dWk1AJ9eFnbA8eVu99I54L/HHI/tlCM7JQ7WlV15oiB185xHLOLGe3Ez4Mn4Ef+fImeq27sfmKyEdWLyb03asnQ0NOAH6N+hFAsxJxrMxRqckow+cV5HYRiIYRiIRweOUDOab+A8d2p+k2b9b8PmaY5MQBkhV9XdOoM+7dxHIdyPnZNB9eQp21c2+Kn4DSOLz2F4zh47k6Hg9UWKqCy0tl93TGUVFG3eo3Rj8erQzNCAnQeMzrTVfryJes0mhLjGGpP1jt1xR0IPLzLqNHzeMHTUa5uCoeb9dhysJv27UOpmTlCFUWkISPpBxEUGZnoddWk5+lJz1BawSj408kKM+X8+FqTXzd73PZWJhjyMNFSifdp7QoN03kMn8Ckem5HK8zbeduf/z9gogCcwHjxVgvAsUYZjQZv3OmywRfRLsaPFjiOQ8WcT4gAXlCgdrt/sT9mBM6AUCzErl3zILK0wLYrizA7eDa7cK+OWTMmRZu8vx8jXV1M7chC3UfxS7y2rWPKO2lzM8rHkTupDVWPWxmXa7xCk8hLFGmX/tkK6sqpFHq8wbPfHv1FDA8+uqwyVzvhOv1GOfHorM4rxDumKWpVoWqT4r037Y1ZMlR2VeLL8C8hFAsxL3weEkpilIXmlhTUVLXgzMMz7FyyuW+jUQRyMhnbMPTcu2fwOQNsyJBc1RdN4u9pUFSjiurFS/R6WPKq98Cj1Fl036zdSsMUhJzKgWgZZcc2Vyg3cExQdMR4c2Ulf0u3bczoTFeO41Dx2Wda02v0IfZaIdysJShKa2QehvrSVsaD2u5aHMs8hlPr5yvoCkFw3H4PO5N3Iv+laUVn9UKaKMRdSDWqGEv0JFXsgwjjOZIAMFRdA/efSAlcV0xTntuix2MeXfN48bwCIksLeG5by/wv60oMK245jmNr6ECxJp2HR30p+cq6WC9HfE08qrurcd2WzNsby42zd/nfgIkCcALjxVstAG9d0Z2DawqUHK4Qk8jFagbQCkNQqVyKQxmH2IV5a/JWhDrasiJpcGQQ10uv46OQj/CJ5xdkDbAzdVwiFp7TNlphpkxwoG4aLwYonzXboL+gMXia0gCn1fTe0oJ088uMAe/uH//NTlR+OU/tPp5TY+y4kM8E1jXG4y+897deMZm8PxqqRt9hZ5WG1uPBi74X+OrmVxCKhfgl+he0D7Sr8bdct8SxDUNMVQxmBNFG41yOulqcH02Wf/gR5IOG1e2RlzSjwXiPQ2MNfBv37CW+YUCA1vuLM4i2cccpS9HRXKhzVG8sop3z2Wejat/SfPy4VkGRPvDpObcvntJ5zMM7NHlIU/G+bNi6TbG5Ml7Fez+8Am7WEmRFPofbhuVEcdBhcj5WcBwH70Jvthk9svkbxWbXB6f2BbJ16lD6IfQMG16nuZERZlT/4Dp5R6YG6S9aI8/TGlGcmmTSa5cPDSFwPm2eC6JJHMMnqGgzUzYWVfnEpw0+sletCDeE4fp6pUm9FopDx0AHLuddxtcecyCytMC5lfPp8w0QwmVbInUaW403b/+fxkQBOIHx4q0WgHyE2ovqsRczHMcxmxbXzVEsWN4Y9MTHq5nrSuVS7JbshlAsxIygGQgrCwPHccyPT3Ws1NDbgFU+1nCzluDivptoHxh70cA8prYrPabIokXd04yTydjuvd3DY8zPxyPzZiWc11yAyNIC8e5O43osfpwftdBWw2A1LdDbpCKT91TTZYDNF2oFJ6hD9PLipTG/bqW32npmaG3MxUQXhmRD+DXmVwjFQvwU9RO6h+jc5jgODssXUddsW4zaORpfE4/p4ukQioWIrFAWanVr1hply8IjwaeYPpdkZQ717YunaMSfkmDUY7Q6ODLVujZk33oON2sJMkLLGB9Nmz2SKYj3ylKM9NSTfHhfwu47d4x+rMq8BxBZWiDk2H6dx2ibPPC8uObDh41+Lt7CJs6jEI4r6LtVNbEeL6RyKQ6mH2RF3rbkbfA7sUtBd3FDuHM27B/Ys+JwfuR81PXoL0CHqqupCJr5PkqzqRMa7ay/6yk+QJY/tYXGd0d5RFpQB1DifNmgmbKx4DOfb188hczwSlaEG0LPvXuMRjMaKfUp+Cz0MwjFQnzg+R5Elha4sswCVrEr8InvXLhZS+BqnYx9KfvRJ9X0g/3fiIkCcALjxVspAEdkcshGZLimWAz6XmnG8RiLof4+lc5KAnkKGpnn+vLSZYqBsrMDx3GwzbaFUCzE+0HvI6NRSebOvsnzqNQ7EY/SafGxOXwNVrFWkMrGxs2Ty+QaC+Pw4AB7X9Ih5WLJ86Iq5nxiEl9JG+I9ixiZn88XHSt4QU/oUmeN2K47V85CZGmBJ/ExRj0Wv8DrIp377ifz8CrPMJSamaNx584xv+4aPl3h8C6TLia6cDH3IoRiIT4P/RxNr9WVfVfX0phTbKP5OfgU+UAoFmJW8CyUd5ZjsLyc8dKkzcbxjrIjqTjLDFdaEvEeh8YmOLyKvEWcw/Xa85gTvJVFptf2dRpj27EgyTeOfr/r16vdzpup9z96ZPRjNZWXQmSpP0+apyuodkpfp6eTG8APC4x+rpqnbQr7o2z2Wx3qfzMdIplcxoq/GUEz2MaAT6lwXuuA+2Fk3l7UVoTvI7+HUCzE3LC5qOzS7WXZk5hIRdAvS9FUoV05Phq84lYXJ1cfkhSJMbcO7zbKTNkYPIwMVYz5XfBUoijCjbBv4td71c0Nx3HstycUC/Fz9M9Ir0lV+T77UFVBhfKlXbcgFAthedcSHQOGR87/05goACcwXryVAtA9rQozDhMB+epWCWyjivCwumNMi0JnM0WMuaxZCp99pMrreJwLtJUDUv0FEks+iIiAd6E3hGIh3g18F2kNaWrH6VJS8nFSe+0uQSgW4kqecZ0abRg9GmHCieU/qnVFuJER5jHVFTY+3t7NC4/gst6DLphHtqO8sxzDsrEpahueEbE+YFUwWp3Uu4lBNsTRrMo3LreXcQa1WMFIVRTHnUlpJqs3R6M0Kx0iSwuEnz7KOjqmePSpIqMxg11IVDcQPK5tIqpC2JlojfvknBzbkrdBKBZi4e2FqN+9i4rbPXuNfn7ekFv1YsgLieqKjOPG9j96xExstYGp3p+0IeTEASouc4y34VADxwFtFUg6R13Ka2s3AcG/AFHbwN13QenUaSg1M4f0hfF8sbraMvrdrPoJd57fQf7LfI2Nmf/hTA2u5EhHh9Ifzkiz446m13CzlsBr9z02DteX+mMKnPKdWPGnei4leDhTAbjmglqnt32gnXWe54XPQ2Ov9i5227Vr1Om0OcL8NN23p6opx1WhuhEdHjC9uM3dvhUiSwv4b7Qy2kzZEHjT7czQQNQWkgdp2FnDa0vdqtWKVBkaR3Mch8t5l9lv9mLuRXauOK1cTN3ttlY8z2+l130uA3PD5kIoFmJpzFK8Hn47ueFvChMF4ATGi7dSAF6IK8OnB+LgZi3B2W3JmGwTi8k2sfjskgShufWQyoxfRBsfEufHd+18hO7wJULwkS8Au0nAqX8BvL8CslyA/k61v+M4jjm256SGsBFcaJmmsS2zQbhgp3Z7alAp3KwlCL8uYYtIdvPYFjdlMgFd7HjXf7f1mvnEHb5+ZDCqJbvYWDzveg6XvXFw2RAAkaUFTmz4ll1wtqdsh6ReYhKvkXf499gUh85RhSnPj9JmpK0NfEaxk9VPGhdUZh6+Ox2DVTTOKp/5/pg5mAUJsRBZWiBadI6ZEpuS0sGjX9rPeH8Xcy9qPcbDmix3ohyitN7fNdiFeeHzYHFpGitGBsuNj+jjO1Kqr5/nxxob4TWk8N57NmUqsktb8Ki2E609g+zz9TtI3de2hl7EOJyHyNICj+M0C1q9kA4Aj/wBtw8Bu0mI20I8Mbc1e+l3azcJ0oP/orCkMQeX6QIM6VbZyzk5UupTsDFxI2b6TGcFy3t+9JueEzIH53POo62/TW8UGb+x6ss27jc8PDhCm9hNEYxH+iaQUpfC1pN71eriH55O4bTaDlVP1Efv3UPdWHxnMYRiIRbcWoBXg5o8u6Z9+4nj6eNDiTps8qB9CsPSR8b43irOnaGCdfmPKOPFbg7GGzdrA5soJNxFZ7PSg1TfGsDJ5Sh/fxZKzcwxWEG/qcASJYcy6Jk699NjyyqILClR5nEiuQ4k+pagtruWFYGbEzdDZiBz+n8SEwXgBMaLt1IADkplyEmth5u1BD6nH+JQxFMI7RJYIfiVKABdGtUAACAASURBVA15tZ36H6StArj+K8r3/RkiSwuErv0Md3dfgpu1BCW2m4Bz/8UuJrCbBNj/GxB/FBggPp2q59nXwZ9DKBbi9APtvKeKHOIo3ThxUO12pTVAC84+PMt4OAMjpo9mUxT2CLyPIa90896xXuPYkbY21h0ZqjbRl0omhVO+E2YGvE8Xr42kmjy3ZgHm3JjDFkShWIhfY35FYVuh4QeFesZne7Jy3Dg8oMwbNnY8JpfJ4LCcIup6O9U5VapJAvLhYZSaT0GpmblRuZvaoOr6395IpsTGpCOMhstjF2YRNDiind/ksXUndZLddKdFSOpSEPIDvadn2zfqPE4b2hoUr/9AOtDTDIwMMY/DVy91d9F6B6W4kVuPDQF5mHYyHvnT3kOpmTk+3e7PfpMz7ZOw/8YT9h0P9UuRGuBF3Njr/sa9QI4DiiIAhykqv8vfImoXdVtc1l6E/FEQkH4ZfWd/oE7krL/ScZf+DOR6A6MuuE9an7DOF0/Yv7yczretkevYxVooFuLD6x8iMi+GbSBGFwxNBw6aLDrxPXAfVzcSRcRr+/hTaZpfN+PjkI8hFAtxKU+T28pbsjitOqrVeqq1v5WNgzcnbsaIXJ0OU/3jIlJ5p6UBMCzKqCssgMjSAgH79afDaEP76yFkOHix37+jiCY0oa5PMDA89sKJ90etzM1WmwgM9umm4DAByLvvgRsZQVZTFt4NfBdCsRCBJZoKeX9F0khDSSEyFK4DD6KqAAAl7SX44PoHEIqFcC/QzlP+34CJAnAC48VbE4GMdlYfGJbBN7MGs84ksYuO/d1nGB4Z1Q2USYGMK4D9bwG7SXi8yxwiSwvE2G5HmpgKspyYarrYvGoAHvkBnp8rLzgXJwPFkXh9PxOlZubInDuTcT90Xbh1LYIhdgprgLJO9En78PXNryEUC+GUb7qgIieGDFJ5H8O6InpOXe77DdZbSSAgEhn9HN1D3VgXT/5zcxQKZretdxQE/EWQy+WoflUNx3xHfBRCnofTxdNxKe+SQX4jx3HwXn8bbtYSNGWrWHnU1+rsZOqDz66NEFlaoLG0WO12nrh+zS4bGwLykPn+HJSamWP+lmt491QiFrjcx5FbhYh+2ozeQcOcTNXcz6F+KbuYSIeMv0A19DRgZhCdRyn1KTqP87DeB5GlBRK9dY/ueaJ64VRzbPVbZLjDwHFA3QMgehcGHeew1z9i+1vI7H7DLr4DJYnAqG5qbXsfDkU8hfmJePabm2wTi9gPKdB+756r+PSiBH86Qre/f5BoG47bJAh/1IDcO5EQWVrg3lUjqA9dtYDffOXv0GEq8MANGOxmF3SX9R6MA/vq1m3iIv4yH3CZqfw7ry+Bl88wJBtifEuhWIiPQz6GU74Tml43sa7ni6pKyDk5spuzsSJ2BYRiIX5wWgo3a+3pQ3wUXv0GIwrv/k7gWTRuHomGywZ/+q1uWQI8dAeaHtP3YiI4joN1kjWEYiFW3lsJqVzz/M2LITqK48r9Oj0AK7oqWIHikO+gfPyREZZPzkfrjZ48jAZLkjl30qj3MCiVIfxRAxZfy8Ifj8Ri0QYnuC3+HiJLC+yyFsPNWgKr3QmYcjIeO288QU616Rs3nnvaUkkqbt6DtLVO93WKcR9//gU13TWYE0Kb3ZNZJ7V2Dnl6Q2VuNmLdSC1dnKHk9MZUxbD1MbfFOGrL3xsTBeAExou3VgDqclbv7pfCJrKQXYyWXMtC8ytFR625AHD/VHkxCP4Fmf4uTDH66B5x8jTCwTkOqEwG3D5if9uxhzJ3fRdPwQfXP0B1t+5OmqrvlPIhOXjyJqQKa4C0hjQIxUK8F/geql+Z1pkb7U1WmZuttevIoyc+gTokX31t1PizZ7gHS2OWQigW4qOQjxCdkaIggN/XyvHpHOzE0ftH2QXWKtYKLa9bdD6+7NUrBC33IVufHOVCWf1YYap62DTD4JtnjkNkaYGSdGVBlVPdgSP2tNhv3pWIyTaxCPtkAUrNzLHOyl6tiJlsEwuzE3HYE/oExU26VeY8p4r3QfTem0H8wmbjlX67JLtYx0Xfd+G2iQQZKf4hWu+Xtrai4pNPUWpmjgtbZmiogtXAcUB5HHBtDjunOdtJ8NwaS+fkiSnoP/6v7LuV206iQuqRH5o6unE4ohB/PnpPrevulvocxU3daNi9R80KZlAqQ051B875ULFwcjvRNjadJI/B8FNHdH84HAcUhCg78md/D2RcVuPnum9eCZElRfHxnag2l6sk0DppS5u+XG/g/P8F7Cah6vzv8MuNz9m5aZttq0bK502Zq58oR+EyuQyeTz1heZGU+1fsw9R8F2VyDrUPKXmkZMYsxDxpQMzTZmRUtKHsRQ+6+oapgC6PA4KWAKd/Q+Pr3WcZj/bG2s+Ua5Pze7RRHTR+7bzz/A4TodV0azfizr0Tq+gA7tR7rsXXxrPPJ6GWFOBD1TXMgJ6nVqQEEo3l0b1arY+jKrjQB5mcw43cesw+m6z2G7Q6HQn/BV/RebjLgwrAoylqx/zq8QAFDcbZwqimofDqc22intFou+pKtJnDB7Hw9kLycY1brZPzfEvF+oYZfo/yGjyZdRJCsRBf3/z6f6UyeKIAnMB48dYKQEPO6oklL9hY+BP7u3h5y4Y4fXaTgIt/BJ6GARyHBA8qAB9GhqLsQYt+WwOZFEg9B5z6ZxT+8CeUmpnj5OapiKnSr07taiGhydW1ykzLwdfKbtGIVNml4YuB7SnbTfo82GjTNgsYeo2S9BTaeasoYaUyOcpf9OJuYTN8kkpQJHwXpWbmOCG6hc2Bj7A//CnO3H2G4Id1yK/rwqDidQ2MDGBN3BoIxUJ8EfYFKroqGB/njtMTOK9cApGlBbpbNf0Y0xrS8MmNTyAUC/FZ6GfIbtLOjxooKcHNxTSCf5KkJKfzHoB3rpwx6fNI8nKFyNICWeHX0djVj82BjzDZJhZbdpEf16FT9+GXWYOnuw7Qwu7gjPIXvUgoeYEzd59hnihN7SKzxi8XhY2aFxmeT1SQSFyr0DNkMVNXbFxnIrspmxX9Va+qdB7HcRyc11I2amqA5shJPjyMWstlJGpZuBDBT/2ZmljD3627iYoQvtg4+x9A1HagIhEhtmSt1FDagc4KynB1XbmQFU+wm4Q623ew5agdJtvcxVr/XOTVdqoVE7qsYIrSSGTiduYBptkm4JPdNN5z2LxOu4CrvxMIX6N8nX7fA13qNiVq/oibY1GRR52o5sOHye7I00v5GXY3IzzoW8z2n0qfTcC7SC/V7KbyyUCqmwcewf50/ljb2eLE/XNwS63EKt8cTLNNwJ8ORbPx9xdbfVTOn7vYcfQ4qu2mqtFKpC4fIPO8J5zX0Rp064AVEGJJ34fqxOHBNY3R9Wi0D7Sz35lvkW67pAe3EhXjct1Z2Twc8h3Y6Lu6uxo9CYkaNii8kE2iwwsw2ZcEF1lhuv0RS1t6sMDlPvu85pxPgUd6FV50D4IbHkbYN3NpA731Ajs3nza8wtHbRXjnWBwm28Tij0dicfJOMXoMdO37e7rZ+SIboWONCRRo3LkTpWbm8Di6AEKxEN9EfKPXuks1UtB7jzLyT+21SPsxP5K8As/nnNf7uvVCLqdr0xvGRAE4gfHirRWAvLN6Q5lurl99Rz8OXHFH1Ukz5YIasR54rczdVfU54yOeDJlBd1alIOkzimNzP/g3oFK/walqWgSfacmH2PsdUrfXqO2uZb5chnJeMdAFPA4EQq3w6vzncLOWwHNrLDjbSXh8YDap5/ath03oA/zgfJ8tlvw/3y9+QamZOY7+tFuj+8V3wNYH5GJF1A4a+96Yg/JOGpuwEXxgKTytV+sVCjS9bsKyu8vYyMO70Fuj+9CTlIS78w8rPOKUwoX0YIoMSxV76/8sRiH3DhHrPU7ZY8pJGlH+5eg9iI7dV9s4tHt4MFWjKjiOQ0HDK+wJfcJGmJNtYrEvrAAt3cruU9gpRYarIoKMN5YtTjfsBSiVS1nUmy7hB4/BPikz3U4N8FG7T97Xh/oNG0nQ8sGHGK6rg1QuxaKoRRCKhbiQe0F5cOFNZTF35t+BJFvGawWAGJWNlarH4cOyWrid34c2W2Uh2OvxLfBCfcQO6LaCyeJtZm5WorV3ELs8qBg5v+wnWPncx6t+lW5KdTogMqfnOv0b6oZpKYI6GhsUFISf4bolhaVS1K5cSR6AsbEAiL6wL20f62pt8TRDm/0/A+f+E3gSrDZyvafH/Drei7weV1yg38RfLx5h58Y7x+Nwa95ilJqZ4/L2c7D0fICdV3xRYPch+8x6bH8Hj+Mr8eURKhA3HJXAeS0VCzcunqVCeLgPKLgBuM5Wrlve88iZQAdOZJ1gFiOjeXuqyLghoc3oOsN8wxH5CNYnrIdQLMTiO4vR7EyFffPRY+wY1Y2gNkQ7nGOCi9GQyzm4p1Xhr8eokzzdLgG+mTUatJ3YBeQF6Lz6oNrEBABedA9iX1gB+w4+vSjR2w1sq6shxfgmK3Ybny+cqidf+Pm336HUzBzLTk3FB9c/QFmnfusivvBNDxYraSFaeIsPmh+wdbGg1fgUKsikwLM7QORG4NKfiBv7hjFRAE5gvHgrBSDHcfDcmaaxGKhhsAeI3c8W0Be2k7Hp2Gn4Z6mPRvjYsKr8HKZE9dRjBi3n5NgevwVFU6gA7Dn0G8Dun4BMJ528HdXw8cE+kv7rU4yezznPUiC0cri6m4C7e2kcpnh/I7a/VZKZT/4nHu6YRnyxLe+j2/b3cDm+BlNsIjHNNgFLrmVhd+gTXD9Flg753yxA8MM6uKdV4czdZ1jjl4tZZ2gU89eLijFuwLs4dPc222GnXleO4MUHd0Bkqd/odVg2jFMPTrEL8J7UPWo2CJ1iMZK/3AQ3awlirymFIzGOZDSdH2u8mS8APE0nL659azZhsk0slnpko+JlL+NdNpTSxqE7NpY6gFa6I8nqO/qxL7xArTB2Sq7AoFSGQP69KzJc74dRukP2LcOqWV5FODdsrsEUhraGXjivoYupaqZq/+PHqLKwYKO5vofKTUN2s7K7WNlRBsTZjCooNBXCjFpxt4Z5HJ7fvJG998/to1EWcgjcmX9XKuXjDgMDyouuLiuYeE8qniIiJTiccRjf3fiG/S5m+kzHu36fYc3dDRBHWqLmLI1IcfV94sTpAJ+76r5lM9ysJUhXpHNUfvElRXY9fYqC1gJ8F/EdU6mLS8SQd1ZTR5H/PEKtgD7q2vJK2fRgP/Y8HMchseQFzuym39j3tlcUv4v3cC7lHkqauyGTc2z03LxvD3VV+fH62d/jRfQp3M5+Bts7xVjgch9/OhKLb/bFwXkNdZHXbjyE6XYJWOefC7fU58itaoM0x1dZsJ/9PVCo2bF81vGMuRAYEl0l+5FtkcuaFXqP49E+0I554fMgFAsRt4JiBTv8A9j9zZXkBRikwwtQl49k94AU6/xz2Xm1UfwIbb3alcT3V/xKneIV9B3LpJouD9nP2/HZJQnb6Pncr9a6hjPfzkNK78/SbP2TH3lfH8tfn+M+DUl1hhNNMkODSLB19apBYdjxzOOsyNbG21TDyBCQ7QqIzNS6ye0hWwy+JlMxUQD+42GHQCCoEwgEQwKBIFcgEHxo4PhfBQJBueL4YoFAsMDE53srBeBA7zArdjQWA14peOVv7Mchv7MLpyOy2WJzNvYZGzl5bltLhO/nFWqKsKF+7T9EnyIfLLissNmY9T646F3KH2LkRp3egbwvFD8mLUxVeMZpMSDtGuxiJOPblSpxZiNDkKaJIDvzO/acNaenw/H4Biw54ogrW5PhZi3B3AO3sGczFSb3tn/CjpVdfgdcidJCZKSrC6VTppJX2iizYI7jEFuei+ni9xSdjqOYbBOL904nwud+NRvBP8tq1uiC6UNkRSQTPCy8vZBxHV+eP4/Mj5eQys9eSbC/foyED5V5+s1mAaBP2oeE2gTYZZ3F/Cv0edut/QFfhCzEofTDiCiPhOfuNLVxzEBREUrNzFH5+VyDj1/Y+ApLPbLVug0um6j72fKcCo+CJOqMJnjqJ/K3D7QztaZOnp4Kap62wXntFYgsLRB14hDa3d1Ru3wFuzBVfPIpBp4+1fi7Pal7IBQLsVE8Gxx/nkrOADLtXSLGgxWXwsufuqh712zGH4/E4kRUMbr538WrBiB8tfLcv/Rn6qTJ5aQyVyjk+cgsjuPgbZsEN2sJLByXs43AOSvKpv3MdaaaglwoFsIq+BOElwSxNBRteBJPGclBR47DzVqCu65P1dTdjkm2TK05P3I+ittVOpZyGXDfATj9r/QeLv8VqEhETtRNiCwtEH/NkT779j6sVRQrl7cS9/VKWCF2Ju+HUCzEV+FfMQ7h64wMhfpYuf7g1hZSVY/C66ERJNyvg9PqkxBZWmC19UmNLvxfj93DhqvRqHH4Wvl4MXuAEeXnujZ+LYRiyoM2hLtXM6hjarXE4LE88l/m473A95A8h86111lK30ZtKUSq8N29SUOMVfGyF19cTsVkm1j87XgcwvLq9fIRi/YQJ1O07Ff4H9ZtSN49IMXW4Hz22e0IecxoLDyKU5M0qDG8obWuIrZAQobxWbPMjVbt5sXcIn7r6bMGraFeDb5iavPgZ8Ha31u/FEXpkei+oFTAt9n+NzyOW+HXI1fgFK87m3ismCgA/7GwTCAQDAsEgvUCgWCqQCDwFggErwQCwb/rOH6OQCCQCQSCQwKBYIpAILAXCARSgUAgNOE530oB2FrXAzdrifpiwHFAlQTw/U65ULrMpFESaKF0T6tii8P2kMcYGB5RIQTTWNhnP5H4O5o0TTrzXuTh3cB3se0gFU21KxVdo1xvRuqG1xfUoRsFnqjeWksFT5aW1AVV+BcTh+uL0K8Q+LASvv7eaDxtzt5b3snZWHb0Mibb3MVkm1h8cDYZl/ZTcRMVW4kY96sQWVogO/w6jQqc31V+LlHbgSF6f7XLljMza1VI5VL8Ev0LhGIh9qbuQ2xhM752SGef33lFJ6ThWSdLFyhIiDXq+ytqK2KK5w+uf4AbZTfQsGMnHs0kZbGXiicX/7m9rNHOj5NzcuS25OJY5jGmXBSKhfjIg+KYLi1bAGEA3fa+7weswH/RTYTvka4uVkQZk5fLcRzuFjbj4/NERD+/jArNuoBtgOtsVB/5nrpcO92pY+P5OZB0EmjIVSsI+dQYy7uWepW6HMeh/9EjZB3zZ1yxwPlfstdcOk2I5uPHMdKlPWS+sT4L7yvef7JoMvBMv+ceP9I7tT8VFtsoU9lm2z481TVWq0pVH1X6fA2u4RHKZ77PbIbaB9qxNXkrRDvIQuVH36UQPRIhpyUHfgfI6DffdS3yz/87Ah3+C+vczfCuoqPFixr2p+1HekO6RockLdCHVPyOrkyd+7q6EqVm5ngqnAJhwDQIxUIcvX9Ut/Fuy1PmKQi7SShy3ECcvAt28M2sYdSJKUfvKTeIAyPok/axEf5uyW5wFYmQOX6MUjMzshZy+BRo0O8J2d8zDKdVhyGytEBm+A0UNr6Cb2YNtl3PVxNE/MkmBk7H10Fu+0+A3STUXvoU97Kf4EbxXQjFQswOno0XfYYNr8PPKUVbpmQwi/O9UWJO51xxmaKb9aoe8uI7cFcUxa/TAoCKRDVKwdW1SyGyVOaR3ytqYZSMTy5I9AqseDQ6iNhrDj+n32OR4zgEPqjFXxQCpR9dM/GiW/m7Vto2ObPb9CWMtLxuwfEDH6DUzByJP3+mJvzRhyIJ0RvEB4/QRt+AOXxERQTznGzr70BJczcCH9RiT+gTzL8cj6DjP7Pz86XtH3D42AH87cgdfO+UgcMRhUgtH1+cojZMFID/WMgVCARuKv//PwKBoFkgEBzRcXy4QCCIHXVbjkAg8DThOd9KAVia1wjXLYkIPyWhAi/tAo2K+IvQmX8H0i9Ru3wUop40Mc7JclcJW1hGpHRh0UXiVx2F3NxLXlgtp1QC42vuk7iE7yQ0qEv7/faQiW/jM9oJq0Zi8ZDLOZQ0d8MzvQpWvpmY5kPZkkdESvVxq+0fcNL+BDb458IxqQLJz17iZQ8tcHGKEVthaiPuXb3CSMgA6LNIOU3jartJwNVZQEcVG1k17dun9nr5eKNPQz9l3Y0RmRxhefWYcSoRjta06DtGljAhzYPIG0Z/hx0DHdiQsIFd5FO/eh/FU6Yrx9hdPWoE/8FR6Qr1PfVwK3Bjoz3+33Tfefib42bMdjzPspCTSmLhXuCONcFbqHuzIxpzbsxBZEUk5HI5ymfTAj/03PgIt/6hYcQEOrLX13+cNgBtx2bQyGdbpLqPpN0kUtwW3EBx61M2stPH++nPy0P1T8Qpi/nBhqlF/ZfMR9O+/egMCoa0Vc/CX5sJXPgDXJ3+L4RiIb4Lm6fTqggAWroHcMKLkjrstyVjxQ4aTcZdM2BLNDJMZunn/pO91+rPSWBUeMsbc8PmYqbvLPbddvcq/Oe6ahF10Io2D7tppPVY9BPetwnBH4+FYuNtEZbcWaL2/c4Nmwu7bDvEVseioqsCEZfs6DUGB8DNWoKrOxOx5exHKDUzR9In5vjh1g/GmatLB9iIvGr/H2lMun4pptncxGSbWKzyzcHTIkp08NmnTNYoby/BjEDqksdcJkpG9cd/I3pIfLzBp+U4Dk6rqcudHXFL4776jn5E5jfiyK0ifO2QjrVHz6LHlp6n3nYyZnjTpGBh8AncftJIamM98D+sLAAHeo1flwdKSlBqZo7c98zxbdAHeOUsZN910PYQuFlL0HxUuU7B+ytIH/oqn+v1a1xJKGcF7Qrvh+h4bVyE56vIW3BaSr6edxyTjfqbh9UdmHE6kW2O+Q2MNlGKXM7BfQcZWvd0KCc4fdI+/Bz9M5xWUDe56eIFjefRBd771XPbTrhZS5AVoTteTy7nUNjYiS9DaDMx7eom9jl9ccQHFSeVXb80p3UISC1Gbk0n+oeNL+DHgokC8B8H/4+AunmLR90eKBAIonX8TYNAINg76rbTAoGgUM/z/L8COln4f/8leAsFoNcaGts6rNqKhd5mOOb6R9y58h/oO/t7WsR7dNuNAMQXEdomYMa+IAUhWulSf1fh2VRyX9nFG5YNMxXsT1E/oXYbeeh1Bo1q13fVKm01Tv8rjZcUozYl15AKw4iLdKGtzH+Jh9UdOB5VxHh3k21iYW4TiW0XyW5gjt9UdNn/BrUhe/GytQ26oJpFe/vSaSZuUUNtppJcf+EP6I/xoRHiRx8za4e6njrMCp4FoViI6CrNjlFzWx+7mP/1cCz2Hzw7JqGGXC5D6MPL+DDwPeS+R90Fl23kBVh9YiY6zs+i72f1YowM9eNZxzMEFAdg+d3lakXBnJA52Jl4DMLzXphscxffOKSjpXuAjff58WxNIfEuLx4KZ397KOMQqhZTkdUrSTXuhb8oAny/U7NJCT32IzYftcOiU+FKdfeLShJdRG4CFGN7ud0kWCkSJo7c125/wnEcWp2cWJevbMZM3Nl5XekXp8PbUQ0FN9hoc8DnK3wTTikj7k81R1jtr4dw/l4p3jkeh3cVXn1Xt0kQ50dcuLRAHy1PoAU9zcBta+DUv6Dx68kkMNo+hSwzvGi877MrEYjexeyYJNYzILK0QMaBr4CaDMjlHC7Gl7HfwYHwAhS3PcOlvEv4IuwLjTHxsY0kEFhwUelhuG8PJTY8tFqIIZmJOeFVqaixex8iSwt4WX2NAdvfotZjKbgcL9Qkkpoz3DaVrGnubAeuvAMvx/+m89B/Kl7e24cXtscVKmjj8rGvriOD78www1nXnX3DyMrJQdvF9+Dn+F8QioWY5TsLk4/cpk7hkVj84p4Nr4wqtc4XAMhG5HDbKoHIkrrWr17oXydV0R0qRqmZOe5+bQahWIit7n+B/PRvAK8vEGUTDDdrCcqdTqptxLuP/htElhZwWvEjrP0z2Xd65u4zjJiQ1tT3MAeuv1An8a6LbhP00ajv6Me3juls1BzztBl3rlCySMGd60COJxC2EnCZieAdVMQ2nl4I+P+AkYRj2BpDwrWYb8n7sDvGuCxyQOnD6rp+A9uUq0Iqk0NS9hIHbz5lnd4/n3KlAjBgOqad9cNl16sYsqdNlfzyO9Rt/ztiogD8x8F/CuiLnDPq9ssC6gxqg1QgEKwYddt2gUDQqud5TimeR+3fG88CXk/8NqflVmoXgw+CZ+Nk1knU9eiW8/MobenBwiN0QT25ejVKmmkUkRZCru050TSq5TgONvdtWKFR/aoaVT8s0ODCMAy9VudGeX8FtBTipv0xiCwtUHqffsQ+ikis70+q+15NO3kPPq5n0Xf+L5DZTcJi77+RIWvGcYPvqSCZ0lESvIsZL6/8gRbyce9Lel12k8DZ/gvK36NuzUBxCTiOY505Xb50fIap+550TD0ZjyXWtKj6nztr8DUyVKczg+3mk79hxY7dPj+4WUuw0MEKSy/ShdhuwzeYoRjl8f/eDXwX1knWiKuJQ2xxPf52nMZ0P7tnMzUpy5pVENCLM5qIJ+ZWgIDiAKa2jvj1QyroAzXtVdQglwOZjsxOqPMkdYqurvkFaeWtmHclDZMPx8JB0R0NSKhUcpAGuoBMR0Q7/4XOVf+paPX7BmjKV3sKjuPQctKWfR4tJ05gpKsLkZfyWWKEtnQXtdcoOas8/8LXANIB5us2O3g282Msf9ELm8hCvHNcqQ63vJbNCqk4N2eTO7sAgFcNyN1CggEHqynYee3PKDvyDRVPO7yUr+3Uv+CRHXVp7zqpq6Cv59Qx9fUq3xz0DkoxIqcEhit5V2AVa4VPb3yKCyt+gMjSAnPdZ8NxJ3kY3j9uZ1IBxmN4RI7z90oxYz9tDJ2W/QDOVtnBfXpwBY3zdp9R6+yOXPozloeQr6B1sjV6kpNRamaOqvk/GPW8rhsoNSItOM7o19reXYePxMRtvHPlP/DEfT0WOknU1pI/HonFSp8cROQ3on94BN1tzv/WEAAAIABJREFUJHJzWL6MaBXGxPsN9gAp9mhd8kc6JxdNxixF99r1EXEkJQovwLxYhcCu9wWQ5YKWMx/Q+bryazw/aY7lxx1x+4lhdTxAZtRuBW7YkLABP7l/jGtL10NkaYE9+6zwfeT32Je2Dzcrbqr5N2pD76AUGwLy2GfivJU2hZX7/6z2HcbsukKc5kNLwNlNgv3VyfR78Z+KZzOpABws1W51ow0vq5/TObRyOdysJagtbAfHcciv68TxqCLWneT/TTkZj82Bj7D0FuV5rwv7Bhw/rfH9lj7TvzMmCsB/HOgqAK8IaKyrDdoKwB0CgeClnuf5u3QAC646QGRpAR/LRchsyoTLYxfGxeGLgyP3j6C+p17v42QnJjGSu/mJeNx63KiWMMJxHC7lXSL1YOAMPGh+AE4qRanCDX+0cIKBN689/99sgbmzjyK1gv1CYOX5AK6KImHKIbI/sLuRjsoYETjn95QLk5MQ6VkXGA/KEMen6jGNqCIuPkLQ4d0QWVqgpiBf+8HSQepM2U1Cw1fUrenw8sLtytusUGjobdD6p7VFygD16rbX2HCUPPd2rt0Gh6QKyHQEwwOghSxyo/I92v8bhtzIv6509iy4XaIOoNX5nfjZ/mNa9HfS6P0j/6nY6j0VIak2aO8nD67Q3HpWKGwIyFOLiLrrdFGhICbhy8OoKrKZuaGwsnnxCHPD5uLCWhrxVNse1f26B7qAkGXK1x22Ei1PMtUKsuEROXzuV+PMDvpuv9gfB6FdAk5EFaOosRs9Qz34UtHF8nX+o4pIYDPQTRfGDh8fJqDounmTPb34SBaubiJxgs5UlP5O4PpS5eMmn2LpHRzHsRSXxTet1XzXJtvEYpFrJiRlL8FxHPwPk1n2zTPURX4Sb3znAwAymzKxf68QpWbmSF7yCWQP3fH0qgsVT7ZiEqEURQB9HWxUFnJ8v8bjSMpeMr7Y904ZavY7gLqn2/DQIMLP5cHNWoJHuy7S+ezrp/GYulDb3ocfXalL9ddDt5WPW5UNpJ4Hgn9G5rFT1GE/ehIIsAAST5BB/Mgwql9V4/2g96kgK7ihFFe1GO6yua6nZIok30SjXy+vqLe8MRdy/vv2m4+WpnoEPahVEytNtomF0C4B5/zJiNt5FRVB9cWaoiEG3jz7EhVK9V9SAdh17QKinkextTasLEzpBTjKQD8igjw8xWvmKc/JuMO09mjBiHwEtytvw/Kupdpm7z2/abi2jDZzh7b/pLER3JO6B49ePNIpJJHJOXjeikPSiS/hZfU1TQUO/yepwO+LgJoMpPsR9edhcBYuxtLvZHrANKSe+r1iM2YGueSKVlqRNrx60aIQriyGm7UEgXEV+N4pQ+07mXUmGXbRJcisbMfQCK1bLZ3PWYGdcOl35PYwon+s/7YwUQD+4+DvNQIejbfCAayLIzd716UL2G0cx6GgtQA7UnawxWFG4AzYP7BHa792nlR+LMUiHd99mP0oT7nkMl8r1agoXo07VKPphq8T3Y1AxAbAbhLiN9M4M3HHB7h5lHaFbluT0CDeArn318Cpf1Yukhcnk62MdFBN5XcyS3+cEi+OCTicydR3TeV6dq0cB9wXoWPZf1DHwmIW5iiUqQHFATr/jO+k8XYtpQ8pdeTQqvWsY9M5moskGwEeeiiL4lP/DMQeAPo70ZuWRgXY4iXIvkXimJQbxbjtR+TvMNdTaMm5BpmTknfEBf8Cv3tZ7Hs7FPFUY6zEewimBdJoOslf0/C1vqcetocpDi5i0QztRW/zE4B/bvvfAo/8AY5TWkoc3qV2eLQrKaTXHFPvyMx0264Q9nyP58+Lwd3arMJb/R36PHYx9Wrn9evKj04mx7WtErhuptg9h+U/al7s6rIBRyHjwMoeB6Ohsx+pZa3wzqjGntAn+OBSEKYF0MXlz6dd8Jej92AdlI9Ho4yceXpC4GGy8Hh23/jRU96LPMwKnoXlp6gAeq7ogmXerNTKhXpRVQmRpQU8rFdrfbyixm42IvvoXAqeNSvXkpbn5FPouXUNAOCeO3kwpq0+TRy8BMMFFcdxCH/UgKmKQvPdU4mIK2qBk5VCHNamXDv4xy9K097F4oVbc0LmoGLpzySuunVb67GquLp2BUSWFoh1NY7fVt5ZzpTN+S/zKV2E/105TGFd5YbOfrhKKjFXobi12BsPN2sJLq8mPnLZQy0TDI4DSmPUOdUuM1H56ccoNTNHfz499tUnV5l/3Y1oog1EOZKNysCwDMduF2HBNvI3PLl1JwYitiofz+NToF3ZfZTJZYipisEPt35Qrt1BM7AndQ9uVtxEeWc5XNcQp1m8dztyWnLgVejFvEX5f5Z3LRFfG68uqpKNUNfe/t/A2U6CoyV1jFfbeSK/TilWeZxYR5zmi0p6SETpDfQF2dN5/L4iU9plBn3eBtKTBnp72CbCdUsy3jmsoPaciMe+8AJkVLRpjsE7a4Brc3BNwdn9JmTOmHLh3xQmCsB/LOQKBAJXlf//H4FA0CTQLwK5O+q2B4L/BSKQ3uoq5Q59QNMHsKSjBFuTt7If8uzg2XDId9Cwk8i4TiNgSYAXnJMr8ccjsfh8fxwtkvuVu9yICqVCtlcioWJliX4bBZmcg6TsJTYE5MHiqBs8t9Drvb/tXTQdJb5S8PZgdZGA51zipQyrO8Y/bXvKdrvPu3SPbfp7FPY4WyVw30Tk+vb6WoOf58AdijkqeNcM0wOm4deon/SayT7gO2kKw+am8lKILC3gvHktzE7QOPHj8yl4XK9YYBvyaNHn36fXl1RUKdAZEoJSM3M0bN+B4nRKi7jnXsjc9PNiFLwf6QCQeg6cIsf5le1/YNvRE7icUKZ19/84LhoiSwtEO5wDANwWUQekIle9k9ogiWWigW8ivlEWgRwH5Pmy3Gg4Tac4QQVKs8hTLfy0eucwI1ThBXj7OTIr27Ej5DHM7H2UxZe9Exv77Lzii/Lzn0J+YhKqZv+VfBktf4RPWgU806vgnlYFt7vkzXd1azw7749H5OPAzac4EiRBqsMq9tk2nfobLE95ajX2nmwTC3PnzRCKhZgXaoGXvdrjp+K9SKDktX0bRJYWqH6sX8nKo6itCB9e/5D4jeEbqHMinA5OJtNZPKl28Xgh1mg0dvUzBfo02wSkKRSPZYrPP9T2MADgfjh97rE/UwE4UKLfGqOrb1jNNuRXzwcsNlKbuTkvEKst0p4AIZPLYBVLtJRARVRk08FDBj83JytK0om4qDsHmgfHccyc+UD6AeUdbRUk7FJ01XHfgXWr5HIOaeWtOK6IQTy1ajtElhZYdsAFV1PIlBsA0TJ8vlG39sn1huxVJ6MkyBRrOcdxsH9gT4XK1UVko3I8Gw+qOvCViFJ0lm4hk/04d0UMXEUimRbbTQLO/gdkBSGIq4lj0WpCMSXX+Bf7o2tQWZwND47AZYOYeJkblAbOAFD1qgqnH5zG7ODZ7DEW3FqA8PJwDLU8pbVG8X76fZewc+1Ph6PxpyOxuBRfhqERGYpyaPJz8oAfhGIhwsvJb5GtTSt+BK68o/xsgpZo9dGUyzmklrdijc9D9lxXttzFF5dT4ZtZg+4BHT5/z5OBC38gzu6Vd/CdYlLg8lh/hN7bxEQB+I8F3gZmrYBsXbwEZAPzO8X9QQKB4ILK8Z8IqGt4QCAQmAuI3/e/wgZGPjIC519oJ/fyqXbzToBGfKvurVITC3gVeuHVICnC4q+RijMnikZtWc9b8e1lspNw2haH6f4zcCXrulpx0eHrq1DNao6sOI5D+YteOCSW45ML6t2f/TY0jkwUHUG5mHhuUcfCSJlbFEECEj3Ym7oXQrEQOyU7dR7DcRw8dpAVDO87qNrB0Pl3IyMoeZfG2haXp6LU4S9AnW7fvdHRSXzUncuapSh/0UtcOJtYzD4WhgrvtcpF88IfgEd+GokOrVeuEGfr3DnUFXeQF+CZXNw4cVDBY1Ta/bweGsFhz0g8PTlD+bi3rYFBTTuJyrwHEFla4PoxUjgHHSd+W3OluqXJcGMjKVanTcH0gGn4NuJbNHZWshE57CYBN1ao2VsAQEECdaKjRefUbn+SRFzMRF8qQOScHMvvroBQLMT8kM1Y5JbFOIt8VJj/T9QxqnzvHciO/hOenZyOg8cOYrpNGD45QJuSM1uTcEVxUfnxoCO8jq9An+2/sdd44/hPECpUq5NtYvHOsTh855iB7dcfwym5AtnP29HS24HPQkldfq3gmtbvNyuCunWu69ca7iIrUN5ZzqLINiZsxOBwv5Iq0dSEsLPaiyeO4+C8mugRXS2a9kk8uvulWOb1gL230zHPkBVJlh5xbg70fSg4sDeXXKJi5ZV26xreyucDRWfxL0fv4VraczXqAjM3f/qY/Q0f6dXZoju3tepVFWYGzcSv9uQVWvHpZ3o97mQjI6xQCDom0Xkcj+S6ZBJ+BM9C8+tRFJTBbnWagvN7tIEZpk1yivgZ3KwlEG0nfvCirefwjs3/x957Rkd1rmuCtdb0hDVr5nbfu6bT9Ny+d7rnLMk2TsfHxj62j3MsJ+zjwuSMyMmYbHIwUAKESkhCCBAgRBISIkhCkSyEJLJyzjlnVe1nfrz1fZV2rJI47rPqWYsfVO29a6vC3u/3vk+IwaK161D8m90Cbct/BJI38xzinuxs+m6+977Dy1kEC3Zl7sLo0LetC5Qk/Ouqs/Tb35qEY/5E1bkRZRcD11EL85EvEb/rP+FbK7+ZuQ2EPQpDz6Drgr65usvW/R77FSxmV9uk1r5WBN0PwttRb/Njvhf+HML2/D/o2PHPQM4JNJSVwGigFBCbsXsc3tpvxJehBnIIWBDrYPRct3kLcn18Ub9rF9DfSck5bEG46Z+AhDVAXzs6+gZx5GYp3t9ti5D8zWoRFbryknjUIUDj8PjVDjZK6KhFcnkyRh0dhVePvapIZRopeAvAvz8s0Ol0FToqBO/qdLrRds+l63S6o07b/6jT6Qqs2z/R/U6MoAHg4PdUAOadc3XGt4cgCEivTMeYCzY7iVciXoFfkh/2riLuzeGo7fjt7m/4/NzneCX8VU6C9/2VOinv7EzBjit5SM1rQNHylcj18UXD/kB09w+hoL4TcQ9qsD72MV/5sn8vbUzElotPUdLYhXtWY9BLAbsceIZqUdpeipetdhPZ9dLJCMd/vY3A2Vf5TcXZPkUMXQNdiPmCMkzPLHjJdnFL+000Y5J10gozydS6r7vL1sUZGEBnTx9OBG1Ey3qbLchg9BygW7xzUr10KXG2jhxBSw0pjA8uuca7MHVFtNIurO/Ex9ZO0Kh1F1FyerVtdL5nFFCS5nBcRsQO9psEwd7qoclxrCIMDSH3BeKsTThC2ZyfHh6F6i3/SIKPmwGiIx+bp5jjKr0oi7iY53beA2BL/BgdOZrTEYbMFhQ1dCItvwFnkh7i0YuvINfHF9d+noLeTbb3zbLh3+Hu2qnUYVl6DPvGfQmjQY+WVTYz8OY9byE94RwuPqzBraImFNR3ormrX5KLGV8az38HYpFWD1LIpHzveFJeNlfJ34BK20u5ke3EyxP5Tbz4M+qCdd+5g4NLyF+zpca1eDqyjDqN5Q/lo7D6h2i0yH5fi+avgtGgx60zkfR6Vg7ssZ/CkP/an0QLr8fV7ZgQlsGP8YExDY+qXBcPpzdR7nLujTQAFMXHrgtikV72CHsUhlcOvYD7o6hr1pcnHRvW29XJfzvB85Nli8V+cz8+O/cZCTByAsU3EgTgQZRjt2rrfwYiDYhZH0Mc4ZXLaDG64mv0bvwPfLv+9f+E6K3jEHjhBh5UtvGipTUqiqL9Zs5yeCmzRcD1wkZ8d2w7AuZQRvLooE8x9tQOlLc2IM5/uwOHtLqrGuGPw6GP/tK2KA9/HsHBo9BVes3lT2Eoe9SEwNnJMBrICqa9QZoL3VN5F8fDXsfHh3z5a4w+8QaWpy/HsYt7qSBbNhPXqq5hSeIOvBhG/GJ7j9BeO/pK+ZSprqP85mKHQrtj879gzbrl+G8rL9C1aX0CNl98ioCp5GEavUvCDqj0OmCys865uJR3bQVBgN9VP4w6qj0XfrjgLQC98BQjVgBGjiWOzp09O1VtbxEsuFhyEX+N+6uLhcRnu23jg7dOvoXAxXQx23T8Pl5Yn+BQ1J19i25qkyZsFR2x/WHNFcw4momYnGoHF/qHyQkwGvQ4/9tGHqOWEVei6W9mxO+JlydK3ihi9+YgcNYlflMRWy07Y+udrdg4gzhbFUsWUl4yH9e+B1RkOGwfsYY6abXFdOMUBAF7xn0Do0GPzuxY4IAtfST/1xfwwyoj/rIrFTcKxQvAUoOBOFuJiRjspzSWwNmJ3Mevu60VZ+5VwnddvIuvFyoyHE2u4xbbOhcsg3nsV+ho7uLjcbOIBQXL+qw+9DO+CqObx6fhL6AmX1oAkXaMfM7sI8MAR6PywtZCLg5gYyVn1O/chVwfX5R+/wN9rt3NwLVdQNCbwIZ/QNbPVAAmLV6HkPEUn1a3+l8oviw/XpGP5AxBEHgu7rcx37p0XUruN1pvuPT+d7VK521XdlZyU+8f4350iLSrmDWLuicnztiKp37X72P0dso4drEskkBqXgP+tDUJiyfPhtGgx5wNIYh7UIPKIkp0ODg1GiXffse37x8yI/5xnUP02B/W2uL8xMCKl+wr9PlLZXeLYcgyBMNFAyK+Ij5nY6BJctv2hjrrb/VbKj66pAn/IQ9CMOroKHx45kPRTpkD+juBOwccfhvH5p0gesXsD2A06JE6h7rogzv/gOSgRfjLukhH4cj6BEw8lIGLkxci18cXKUvXI/xGKbZfycW0I5l4cYPt2rhlHvELPwkgkcbLES9j/Xz6/iwNmeji1/nWybcQfG0tOhm3duM/kp+riMjiURrRQvb9SJFw5Y9EFgqDfTRNsSr0B3f8V8SlrsF3sTbRyJgtVlHZ/A8czuWPEaPh678Mu62G1h/+ehU/n3mAqLsVePLWO2T6fz0DubUduPq0HqbUIkw/komZ63Y45MzXbvz/kBm1Fd1tdJ0LmjXTyu20M8gXBKDsJnDyJ9s1a9d/Bwpcv/ul7aV45Rg5FaRXKqcsDTe8BaAXnmLECsC46ROp+7JiqfLGTihpK0HEkwjsmkpF5NJTM7H1zlYkliWiZ7DHgevTO2BG7P1qLD/zAB/sTkPGi5Rw8IFfKFfXfR14AxsuPMHlR7U8K9cZ+bdvcL5S3H5bjJoWNPQ0cK5LSoX4uCg5Ihf7Z5KKcd+k7xWPmVWfhRePvshJ+4UffGCL09vxz7aL1IkfgbzLsAz048Bc6qR1tli5Q12NCJ72A43kV/5n67j3n4HbQcgqreepGf+y8hIWnsxBebNjF6jgnXe4DQ0AhC+/jv0zz8Fo0GPvhDGYcPAO339CWIZrZmh/l0PuM/yfBx6dhWA281F4cXYRF8iIoWICKZHbJv1HNGz+R+iPUtH22bnPXEdtViQEk01KxnnHwq63yxZV+MP5v/JVvFjRPtTairyXqfvXdU2kC9JZh/QDFKGWYYrCkbkkGKjIueO6rQY09zZzY/Nf0n9xOLfGik4Ezr7CFxGDA+LKx8rOSnx89mOMOjoK38R8g5Y+x0KRjc8KtgVR8SSRh5oUFgSjwdGcVwntPYPYbb0GvLk4DP+y8hJeXk2jctPsJCR9PwUrzz2EIeQ2Xzgwn7zFUa7fQddzMlm7iyTGsVfYq0FBawEW/0xd5ftffiS5HRtL+v9EI8iGcvFrZWl7KV9IXCpRl7gDgH7LtQ8hXN+LA3Poe3RtDRVS8RtnEafVKmbr6h/ChQc1mHcim4ti/mXlJcSO/pi64xO3uSx4X96UiLUxj3DiN1JgH4u5gB/jfiTR2tRPYTTo8dGe13jHefKVyYgujLYVsH3tjgvOgFeBwqsOixomDDvwPX33HybZddQsFspH3vuinUJ/IrdNsQgW5DTkIDAnEKt2kP3N4lWf4/sL3+OX9F8QVxyHroEu1LX3IWAlWXN9uIzoGc8vPcu5j88tOyu64H9zyxUkHFyLoR3/r+31N/0TEPENDkwl65rEnftIUR232PE8N/47um51S1vZ7MnaQ4vRs5+ie1D+Ozvc8BaAXniKESsA05YvhtGgx5lZk93a3zw05NBhssclETNowDE2rKmpDV396p3Yyx5kk2J0+XxEbsyAyY9i1LQiIDsAo46OwtcxX4sKNe5eLMX+GTSaDJ49UfZYvUO9+NI6jtmYshq5z7/gaG/TUQtcWOCgUO7e6AOTXwqC/JJgOf4jEPg6sOHf4uik94kzteIPZMbdY/vbOvsGseHCE/yr1a7lv62+jEVRObhR2ISBnl7+nrI4s9PbMxEw/QiMBj3WTJjAOzam1CJ5i5nSa44X2ANv45DfT1SkxV53vYELAt0Az81Arf6/0mj/h38FMkJQ313H35vPzn3GvfPsEbubDLDvJ152eFwQBIQsIr7Y28Ef4C+n/oKmXvHuZ1NIKHX/xnwv2dW1NyePXEvjOzXZyErIrs/mXoiHHh3ij/d2DSBwZoy1AP9OdN+Kjgpe/H0d8zUae1wNyluOknnw3fk7iJu3Q7x4uhtLmcNXAo2qz908NAT/n2gkaIzJpEXGiksInE1FzvavlzjcqN/YloTtl3NR2qTuJnojirwAk8PJODsn0crrDHussKcNh6778/i0+mLx/aqePrYu1ibD5JeCkhzX99EiWLgTgN9VP9kxsRS62/vpdzsnBTnxF0W5q/YYMlvwpKYdx28U4/HzVMiuDLiMeZHZ2Bj3BIdvluJhVRtXsqYec/QCrOuuw57JJLo4c/so7tbele5a8vx2u7H1wQ/osf5OJISRKOnw12NtHfeeFiqq7EeoRh9SMEsgPohGwHeiT4k/H0pJSjGncrH9ci5WbDqBXB9f3HhlNP6w9gr+uPkqPt93HUtO3UfotWI8remwfRaDvcRvZkEAG/4BpokUKZgyzy6elHEs4xaLikic0TPYw8f+m25vUtx+OOEtAL3wFCNWAObs3kH8PQ2h5vboaGqE0aDHnnHfuti5pDuZQTP0ZGWRJcAHH2p+vZqCPBgNehycNw2h1uKgtU77iq5zoJOT+O1v2gy5t2qwfwbdvMIXz5Y9FrO5+ejMR+gc6ETpD3+lUexlx4IGTUVA4lpg9x9Qt/pPMPml4OjcUw4XtTN+nxFnKvmi5Os9qmrHFLsx3L+svIQPFkeQAGPUy1h0Mhs/hd7B0kVJ2DeVumsLp8zBjKP3UKbyxo2BbiB9F7fFOD31bep2rFhEPnQ7LgA39wFxi6jbwHh0BrLCqV44lx+qrruOW1N8fu5zFx/G0xuJg5Z303E8IwgCAleRNYY+wIDMOnEVrTA4iML3KNe3LSZG8k+K2kwLhoonzTi7dR2MBj2epCsrRtXgRO4JPgqLyovi5x/kd5oI8zPGu+yTVZ/FyfZfnf9KtPgDgM6UVOT6+CJ5PPnnJRwUL4Kc1bxq0FJTzbvcgiBAEAQUNXQhbBbx3I4tC8b+5EKczqxEYX2nNAlfAlmXSHRwcR9RTNJP0jXhdox4JrUYBi2DuPIFTQyCV+tFM5+LszKswgQ/mPxS8CDZ1YaIfUavn3hdshuthLqSdvrdrrqJ3BtpVJhtlvG9tKIvPx+5Pr7I/9PrsoWnM695aGDAxkPuVuYh04t1kKhii42XiM3/HmeXHYPJLwWnPyOxUIzfJ+CRlhv+gX7r141c7CIFZsb/9Jr49IR1Gq+dosKs7dw5osVMkzFeF0NTEXD3IPZPpoi/tFVjSUSWsIYoG/0q3w8rMusy+W/0ZrWIdc8IwVsAeuEpRqwALD0dBaNBj8Af9W7tzwqy0HlTXZ67d0VcpNF2lkYCFdNnaH695qpKOt+pBtVkcinEFsVyc+jS9lKH5yrzWhAwPQxGgx7HVy2WPMbd2rs8j/Z6FY3m6jaR51X9bxK8SosFhSk0vo5efxnIOU5GuJ11iLOaLmdfjlU8/4dVbVgb8wgvb0rEmGn+yPXxxeXX3+dF4eRFCdg7eTOMBj1O79uj/o2xR3czkLodV+a9R8eZOREmvxTcWLrIaTX+H4AzU9Fx6iB14n40OBzGvgj89OyneNBoM8+N+IUivMrszLYtggV7s/bil5X7yUvvrGuUHkNHQiKNSP/8NiwD0twvewEFJ9YnSBfaWrE3ay+/wfhn+WPQMojwn6Osvw8b8d9sMePI4yN49dirGHV0FMZeHCvZ2QSA/qIi5Pr44sJ3m8gWJ1rcwkjutygFVjg5ezBGTTsKk18K7ocrK2rl8PQa5YSf2UIJPBcDxacCSsgLMVKW83u+oqrrp9dTaWG4YAl9P518Ep80P+Hv98k8jYksdii8V0+/291ZKMnJVLw+MLRFn0eujy/KJ4r7NDLkZ9RR98yfBGodjQ3UQR7/rfaOZVcjkLqNL9AOzz1LC4iPiP96dLzV2uXAn8lbtFdc7e2M8MXEGa188lD0ee5vaqLfeP1vpCav26Ih4ciKwX4z9k5aa+1YHtW8vzO2Z2znNjli04iRgLcA9MJTjFgB2J6dbeMo9UsH3EuBJxCs+9nlufw7tTD5kRm0PRhZv26r9OhECl0tzWA2BoGzk3FomTgfSg0EQYBfkh8XhNiPgtvqexAwjThVzv50DI09jTxXdf2t9bZ9z8cQ4XnCBMnXdrY4YUgOp5B1B8sHBZgtAvIOUgfw5o+TEXa9BGezqhAfU4g9E8kChln0uIsbJ2mUfHjeL9RhMe6g5I2kjcDTWL4a78vNpWLszbdcjlFnNw5+OeJlBGQHoGugC6HzSEXOsoaru6oxN4minOasp67XnVjpjlHlbD8aO/tLF7nO6lMp3qEnEAQBgTmBvAj8LvY7BK8MhtGgx6FFC9Ex0IG44jh8F/sd32Zp2lJFk1pLXx9yfXxx6oe9MPml4HG6uIFyd1ur9bfxNcxDEj5pTmCq+jinCLnzf91Jnbqj6rh6UijNuQejQY9jKxYBACI33CHwwqOIAAAgAElEQVTaRq422sZQSwuePk/82s+No5BY5mhOzayEIlaupQ51yCP+XHt/O198LE5d7Nbol4EZHSceeoLqvKf02S6cqbhf3ZattCjcvkN2u9pi6jBGrLlF/7eadGsp6l0gCBiqyeff/+xvacoQMO4bCAp5766HErBvInUQpTKQK56SBVXkRhK9VcyeTeknUVGaT72lppsvYpPDgzXv74y+oT7OrRx7caz2jGs34C0AvfAUI1YAmtvasO+Hz2E06NGoJtPSCcwkOM5/u8tzVfmkJjyx3pFoX+k3h1IaIiM1v95gXx8vWANnx+P0NnXmulKo7arF6MjR1LW5588fHxowY99U4rpEb3fljAyaB3kk2JgLYxxu4v3FxbaUkyFxfuP1UwWi3ZxbZyJhNOhx9aCEPYUEGvz3UFG9eQt/rOxRE/zH02o996Zn6recBOI7Bc36GSa/FBRni/simru6bGa3ItY5nQOd+CX9FwdPyd0TiIMWfi0QS9OWcpL+H4/9EccjSZBwNVzcjHioqYlzLvtLSkW3AVzVp6lHD8Jo0ON65BHtb4YC4kvjOb1g5SKKEtw4wzFt4a3ItxBdGK26GCl8730cmXicj7DFIAgCAiZbLWeqxeMHnZEYup+EI6eP88fMXV24/Oky6t4ffiSztzJ4ATN3KnE6F5C/ZluDgvpWBJVz5yHXxxc7pjyHV4694jDGyzhPo/YzW608ye10Xegd6sWkK5N459nZxF4rmDn57ZhiNFWUWcf74xT3Kxs/Abk+vmi/IN3JBoDuNivHcG4qLGYLiu5Rh/bE6iUenXdbPeUXhyxMQ/nyFfwa2tOh7f1QYzje1mB9rQVpRCn4iMQv3Xfvaj7v8sfN2DdlJ4wGPS5r4LbKobqrmv8+5yfPx6CIRddwwlsAeuEpRqwAFAQBB78hlVlBvAZVnBW2FJAQl+f4hWBhmsONrvjTz7ivmTvny0jrgbNicfmA+BhCCxLLEvmNOa7YRn4Omk2xSed/c+yOWAQLVlxbgVFHR+GNE2+4jI8FiwX5f3yNvMvyxQnKUokOrNCSI5aLoXrZz+QBGH6YP9Zc3QXjTyTeqClQH8AuBmYGvW/STJj8UlBfKv1dLHjzLdnQd0EQcLX8Kr46/xVePDyK31BeO/gS/xymJ0xHQWuBbeS2SzyLmQkkSg0G0ecZinMc1ac3T5+A0aBH0qEDKt8BbWjra0NAdgDWLJtjLQAnc6HHgQcHNBciZRMn4cBMKobb6qWLp2MrqeAsupchuY09Tm0kM2P7mLq+vDykvEeWORf2SRvEqwHLct036XuHhB3zkEL8owg6EmnUn/X6y3j10At47fhriC8jJeu1yCPWIsHEC/32/nZMvjKZ26UUthYqvIIyLgXR7/bxtWp0NjfZ+M8yhbxgsSDvVeIw9hfKn4NgsZnQdzT14mFyvPUatNGj867MbeFducb9gTB9R13A2sJ8TcepL6X0qAOzpKcb5iGKXDT5paCrvp3HMg61aBfrPU6v4jxmT98De7CoRSYI8nRhIAdvAeiFpxixAhAATowhU9yMEG1dJwC4vJ+KpLuxZ12eGxow87FDXzetsiwDAzaVbL1yuoYYTNNIxbZ/5hlcP6WsAFMD/3v+fDTJxksHF+60XnhsncFB8yDW3FjD7RgY788Z5ZOnkCjhrOv7AgCnt5HdQ+lDR+5X/u3rmon8AFBmGOuS29rX3Q/mQddS4957zVBXVEDjxZ/GwuSXgu526dEJP5crV2SPabaYcbMojReAK9J+QWBOIJ40P+E31PrSDk66F0PJd2NUdZP5yN2qPmWjz+HqKkgh1kgj/eAF6z26yZSs2mj9LSXLFk8X99F3lsf+KSB49kSH8TsAdCYn4+bob0S791rR39PNP9+q/EbZz1IJwuAgCt//ALk+vgjabDOk33BrA+KCKe/62olj/Jrz+akveLc1p8GzQpaBWVuVP27GQG+PKvpMf4k19/zlVyQnAvY4sZ7G5NX5rbhzjjikzibpWvH0Rg1MfimI2/8AbdHncfjLD2kyYDXoVgvWkTy+Sr4jeXT1TXqfku8TJWT0m26d963oIgRMC7ZeE5XjADUdu/oWLwI/O/cZEsoSPKIHSMFbAHrhKUa0ALwwnvysEtev0rwvd/qXCLo/9DPZhjRV0TiQEdrzX/2j2z+2g/PJFmD/jOPIuTo88T4WwcILO5YdGb5sG4wGPc7t2A8AKGsv4x2FlyNelvURazASab321/Wiz4cvp/elsbLT4fGKxw+Ja7d0jqbzd/YABID2hnrrDeobNFV69t3pbGmyHusrBM1NhiCjBq1ZtZqMe4PEI9LswVSo+6f8VfR5ua4R+y7ljnqRW99IwX50B4B3VmJ2bVY8R09wwZ+6FyFzXSkSWpBnJFFG+Bz5Lv3N08eJQhCqvJjr77EVMPYK05ajR5H18jsOYzx3YW9u/iDlKRdQuIvmI0fIQeDzL2C8u5v/XucvIVPmtXsmY5/VTPnt4A/w2bnPhqXzxxC2lIREzTVdNI0YS9MIOZNvzgn+SXlUDAAXAkgglnurBsnhwVZOcIRH551xoQQmvxSkReajO+MuTn38LowGPe6c08bLYxOK2N3ygo4Yf0o5uh98mf728dIdQzkkhD3mVlZHfx7+JI+nzU8dzLXX3Vw37K/hLQC98BQjWgCmzJsFo0GPs/O1q3KVFGHO2aUdV6/SyO4H8Ru+GjDVaMD0cBTeq3f7OM4Ysgxhx90d/GKw0Y8MSPet/BWLUhZxr7fXT7yOa1XSkUuAbVxVMsbVXkesM8rQqIFXxMBEAvYegABQ+fSRtWs3waXTqBUWsxn+Vr/HIysTZbdtOkhK4Oqflyset7ZQnuRuzxtrb3QcfTLvv4rZ8jY9gKMHIADk3bpGAp+N2hc9WhC7m1Td+6fv8qiQehBKRc3JGSdkt2NqWDV/F4v4cx7n1W3bhie+o/h3tLdTWlmtBgdmUZRX2vEbMPmlIOmI+uhGZ5i7upH/+hvUXT8fg+z6bEy4PAGL51MB+N2W0di8JBImvxTsiQ1VTvrQgIHeIf6eDPRRJ49NI5qrpDmXtRs2yLsCOME+4ShuD9l0ZV+R5w4qIekwFd9Z8WUYqKpG3LuU5hEfpM0dQI7yY4+UCPIzTFsbKbsQVsKZ7ZnYP+OkdRE1xa1jKKFnsAcH7h/A6ydex63qW8N+fG8B6IWnGNECMGvDr9R1mvSjpv0EQUDAJEqukAqgt+fMALabdvUv7rfzo9YTiTlg2gHUlQw/dyO+NB6fnP0Ea2dTZ3TdvCW8KJyTNAfVXcoWFoO1tVSUPf8CLH2O4yFOyF6U7lIUMCWncexXsIj4nYmBjZicu6pP0pOJozR+Lh6mqhMFyCFwGt3IozZJm8QCNEJkpsxKKL2fRerNXxZIbsOVo3mOXZaysT+pVhc6m4ZzderKRYr7eoLoHRtpETF1n+zYXAm3D9P5nzfslt2OiS5C/OTtRgBwHzvn0RoTW4QvJDNoqVQNtWAZxbF74mDyS8FdjdGNzmALjII/vw2z9Zp4ZM1CuoZF78TRnam8gzacaK6mGMSwpbbFH5tG1BRI5xSXfPudCz1DDlnxZbxQPrWBOJr5t913OwBsueMFmXUQhoaQ/NYbMBr0OLlaWwLUpYBdMBr0uKdAMbh3uZQ4pHMOE0XjqHsWLmHLrmH/TKJrBEx2v2mgBiPFA/QWgF54ihEtAIsPkSIycOzXmvaz5/dIcWCY8esd6+itZsVKSgA54D753uGm2jYyMv5+cz+CltKNy3/hLoQ9CkN+i3rCtCAIfCzbk+3IP6rMsxKyN7jyq8xDQ5oVel3Xb1C38etvHB6/fZZWznsnrnTxRXMHoXPp/Yj+Td5ShnOeXnnVxRzcGblW82K5jpVY5N9QczMnlw/WSYfaA9Yu4sI0BwEFt/BYpGzh4QlO/vqLdbESjNoidT5rYkgOow7m5U+XwNItbebd19XFvz8DffL2MtetwglnxXnJ19+Q7cwa6nYV53jGH2VFzPG1EdbCzDP/NWFgAMWff4FcH1/UrFwFQRBw9Od5MBr0KH94H6nHqYN296KrKtzS04OhlhZZv0gplD1qgskvBae22tSsESuo8LT3sLSHuasbuc89r4nzXJhp8xrkE5annqmxI1Y75o5nfvIRdX+njdV0nMh1P5Ng8I58lnPBXfIzjJxCIq2uG9p5n8y6SWsm++8N3gLQC08xogVgS2qK6puGPZqrKqhwnCatwMxOIN+spMM09ik1GGg1HK8usF4MsUYaqwVM3SXLRfMUR60xeSELwt3an3VSnFe/ubfIH/FCgEgYO4DAaQbFsZI9WqNOIdfHF5Vz5jo8zrzu9k3e5uCL5i7CFlLnNcYov5oXBgeR+wLFXg3Wyt/smX+bHKcojY3E7BJl2s5Fq+4yOvAIB6kgZaN2OTXjcIB1vwKmH0H+HfcLH8apSn13Evry5RciQTMo67W+VD5tI3rHBhgNetxPsPEKBUHgCvbLe6jzKpaqoQUs6i9kAZl6VxfI8zXVoPvuXV5YNYWEInSuzUuSp2lE5EKwWNCTlYXajRtR9PEnnCqRO+pFlBnGoi36PAQJOxNncIPjIBvdhamo826JU0K679yxZYOrRF2pLW0kcKr1WqDS1kcMFrMFQdbccbZgLpowUZT/qQQ2zlf6brHElLAp51RdB8TQUE4CsPDl1/i59naOzD1wJOEtAL3wFCNaAPaXlGLf91YvwIoy1fuVPcwhTtiyuZLbFGTSSvC8MZtuLn96nSxCCtxX717wJ3++A3M8I9Yr4fCSOfzmzQoHLWg6cIDG3csdR2yZl2g8knpM3CYlfDFxMqty1eWlNhj9RZ32z2xebS2UAz32SwSAsEWbqADcrSzuKP7iS1r535Rf+d+JPqWocuQjscM27ljVggUkNNmvLHawv6EysISFfRPci0BUixC/SVbB0knRjpRaMFXlnde/QMfVq7LbnlxH5t9K3o8hc6fQ9yzPJhyyz+m+cYoK7xtnPOseM6/BgKnbYPJLQWeLdsN5MTSHH+bnGmAVY7TUVCH3RhV5AS6JQeEHH9iKPol/Jd+NkfWQZLh9vhgmP1vEGQDE7NoCo0GPh0nxovs0BQcj18cXVUvU+/jxBYtfoq1IE/HUVIuO5l6Y/FJwYH4qXzDXrFzFrWDkxtf2GOjr5efT3yMfKcn/htlJyP2jfPydFOwtoJi/pZT59O8Z3gLQC08xogWgpbcXB7+meKBCCTWvGB4mJ9BIcMcGyW1qitpg8kvBsbW3yLTXxxe5vs/B0u/+6DbWaILRoMfBhVuUN/YAodYb5P4ZJ9HeqL4zytB17RpyfXxR/MWXDo+nOAW+O4PdwAsz1BGSq5cuJQ/Aw0ccHj+0cKZVgBDhUWIKQ/C8XdbPW5nMXjl/PnU/jx2X3S4tguL20o9Ld1nZSOy8keKxLP393FfNXvUsub9dfBeD/ahUbWqGO2CpCftnnndb/GDvq3b/xTfQfEi+I301NBBGgx7XT0p3au3/fvubee+jx8Sve+cdPEythMkvBVc87B6zUfPeSetwYG6q5jxhOTQfOoSnzz0P449kZfXgT3/CrTfJwiZ8UhRxY//4GmpWrUZXejqGWlshWCwYqKpC08GDKBj9Jt/GmarhjMRDT2DyS0FOos154IrJH0aDuA0WAFRMm67qd2APJnwKnBVD75s7MXB2qCkkQ/5j627zxxoDTTjyBQlnHqclqTpOY3kpjAY9TNN/UvU3BM9LJv63wT2aBYsSTTrylC9W6t0IK/hbw1sAeuEpRrQABIBIPRWAGYcPqt7nRtQxGA16JIVJd4Q6W/po9TkvFV0ZGWTh8PEnHp3r+Z3EWQxf6p6yTC3Y+GX/zHOoztc+thpqbuYFr30qhs3mQXw1G7OLoo8eXJX30WPgY/VEG8lcsFiwZ9y3NKKfFeOgXHQHgkXA/hlUWERtWKO4Pe9KbnJNUbFHfNAe+t7JRNWxcdLR1dTB67p+ncZq7/5F1Y1RrINoMZtHfKw0NDjIXyNw1mW37U+YoXrwnCQ89fFF7YYNstszqw4549yqp49pETV/msPjHfEJZNsx9ieUPiDfPpaq4S6Y5+KeiT/j2NrhV1m23r7N3+fHvs8h+6U/0zXHLwnt8YkuIix7DNY38JSO/Ff/iN5H0sVu9K4smPxSUJRl4/KlHA6B0SBu02IZGEDey6+oMoB2RuSGO9g/g1KBQud6EAMHWyRnzB5bgdt2PgZnP3wHRoMe11Sm4RTevQWjQX0qyfHFZFyes3SXO6eN5AjbQplzPB+J02Z+z/AWgF54ihEvAON+oBHKlU1rVe9zOdAou/oFrPwTa/ei5ugZ1bYdcji7jawIDi8Tz+gdDgiCAKPV9iRwVhzybrs3emAjKPsYJClVK0NCcACMBvUeXQVvWz0An9i6Ycy3b8+4b3BwSRr3LnMX3e39CJh+WHHkz8C8z8qnyN+8zv9Ggp6HyeIjNPbaJr8UBM1JgdlsQe3GjWQtsX6DqnO3t9Wwx75J1J1rb5AXkbgLe0V34OxkHF4hT5yXAstWPb6MLJQqpk2X3b4ql4o7ufzYnPg4KhJ3OhbozYcOcQufxkprfN5yz7rHj9OS6Ls4fp5LLvhwoKOpgX/X+0tLMVDX4MJ5k4OltxflU6bSouKddyXFGkdX0Ri+rtQmzmK+i8nhrqK2nnv3uFpZawcvbv8DBEyjha6S6bISmCI3OcJGOem+exdX/kxKYLVemKyQv+iUGy2Fc/NOEm1h6ym3zpsrl+/WIWo9iakKMtwzEf9bwlsAeuEpRrwATJ9GXKWoBerb9exHKUWAZmAXztwN+1UFoishcn0EFYBLl3l0HDnY810CZydIjmuVwLhqbDwrpkh1xo2oCOtNRTn83N4D0NxmU5kylevB+dNdvBjdQV1JO/bPPK0o+mHoffCAd+nkwFSFhXelO0P28VjtjT08DaIzLU3VuV/YlyNqC8JSMBrKPLMlkUJLTRV1kKf8yP3jBge0qxiZ+ODC1nRVHfS+btt4V4rgz3h5N6KOOTzOiuuGPXu5CtPkl4IhN86boTiL0iP8x01H6nF1fDMtEPPOdFa9KsHc1YVivZ66n+PGQ3BSm5rtFrL2dj48UWa/qz1PY6CJiuml2qxWACA9Mn/YItDEKCeD1dW4/tqrNElZrG5BnhQWJNntFMPFif7kBbgnxa3zPrKCfCPrSzv4QvFRijornd8TvAWgF55ixAvAByupmAuZpN5rifEylPIkz+2k0cmdWZvIt+3UaY/O9fAvx60XrvkeHUcOXS3N1u7N1wicnSwp2FBCU3AI3QSW/QwAqm6q2VeoOxO3R7lQ7i8p4Rwm+y4D83g7vXEVrgQ/gsnPNXdYCwoz6xE46zIvLOSirwDA3NFhK0w7OyW3YzYXVU/lBS8sHqv06n0eqyU32rNHxBoqBmoKHW1YtIpttKKmII+PWQ8uoQSJlhp58rwYbp4rgskvBemH73NvSSXlaug8UsVK2YewzOD8245dyYpZs+g3euYMBEFA6KJ02cWKGtQU5FIB+NM4ZMWXuX0cKVTlPYHRoMehhbbFq73vnVoMVFRwBXRTqCMVRkxIAQCPUhIli7TyiZPcvt5lJ5Zj3+TtVoHUPs372yN2Ly2A7KcYwtAQcl56yfq5fK2KB3tu26+qizDBbMbVTxeQddEedbnU9nAwy+8a5NMmJf/B3yO8BaAXnmLEC8DKQOoI+KskxZuHBnkMUnebPD8uIewxcbB+oIiwnkzPOEXB805Yb6zak0vUorm6kpSLk36UtWxRAvPoK/70MwBQNVbTkgfMhCbOHoAZ56lbFx+0BzdOF8Lkl4Kb59wnUGfFlyFwdjL2jPsORoMerXXKJruFf3nP6oOYLbmNafpPMBr0aKoslz0W403e3XKCLG/mqSv+zYPinRsAOL6KbH5Ksj1XSIuBm1yvWGjrwrqRyHL5AJmpP0ytRN5LLyPXxxcD5Qrvl/82SXrGYF8f/H+i325HU6PDc0y93X2LOrLOBtrugMX9GQ1jhjW5h6EkOxNGg6Opd/IRW/KFFjDqQu6oF9H31MYZZUKK43ZCCgAouHPD+lt1VPqbOzq4FZLSZyWGoqwG7J20VlHMowbHf71N9jtOPObCDz/Cvh++gNGgR3OVcqTmoUUkKpNKfbLHQGUlrv/5r+SbuOWu4vbOaK6xmW4LgsAj8W6eOqa88+8M3gLQC08x4gVg28WL2Gu9GEilejhsX18Ho4FsNJT4LbesHYwL+rUUV9bk/ihyoG8I+2eQdUjQzPFuH0cJdUUFMBr0ODB7iqRpsxrY22qYOzs5sV7OloUR9MMXz1I8fssJ8YKIKUFvnTmBB8mk5owPdb/Txbz4TDPkO0v2qJg9mzogJ0+KPm+xmDnPUmkRwcx9Eyb9RjFgZ6V5p/Zoqe2GyS8FoSKpKzzHWsEuxV1wk+tNqxEfQl3YByna/dw4Z/RpCx9Tdl2X5xNmWkeTsbtdlfKVTyhv2jlaS7BYbAVmJZ1n3P4HLibcWtHb1ck7x7XF7heSUuDd7k02TnBGHGXfpp7QNnIWBAFVCxbSouqbbyFYDaPzM+pchBSAzQrr6HLH31/7xUu08PtS79bfVF/WgT0TlsJo0CP7cqxbxwAc6RMdTY5OBuWTJiNM/5Eqbp3FYuaZzh1NyobWnWlpyHz1A17EaUXJfcfr5M1Tx1TTYn5v8BaAXniKES8Ae7KzEWq1ginJUe6IVDymm0j4Ej/FbR+mki/X6e+NyH/9DY8sDVpquxE402qPMOE7t4+jhPJH961F2ByY/FIQsjDN7fMu+vAj6qrcycCjNHovrgRLF1D23DEl1G/fLpozenbrOlJFpl7lF1NP1JwsjePw0qWqiyamBJYSa/R2dvDCQKnrzCwhzn27jRYRjY2y2zOwgts+vYGBebipVVtrxf1EGplfMG7ji6Drp7X5X1osAg7MI0FDR3OvzVw8MlJ2P8YBDZ490eV7y7rDzhSDwfoGlxGzmAm3Vgz0DcJooEK/uXr4O4DsfbYvdnNv1cDkl4I4Nzr3Qy0tKHjzLfKZNJkAwMFc2h5soegsuGHWTA1Gfzf+IqC3awD+44ke8fS6+wsUZwGVPWpWrUbUx38hwVm0vFCjta6GL/jVRFQ2HzqEx8+9aBvjdmuzWrqfVEELvoO0aOVcy0CjpuP8HuAtAL3wFCNeAA7W1OD4p+/BaNAj61KM4vaPU6/CaNDj7NZ1ituyAiRiXDhKDcoCAjlUPGl24KINqXTx1wpmeRC59md+Eevt0h4fBQBVCxeREORQOG5FWwuBU9KFgEPE3oC8irHSb45oHm74Ej8YDXpUPH6IpirP1ZysC3VmC6U6ZKrg4rRfusQtRcTARoNqCl0WLXXCEIzSH9V/h3KuOt5I7HHFyivKvHBO9fG0gBVaCcH7bCkSpgeajtHeSNyz4PlpECwC6rfvoIJ/h7wSc3Cgn3dsnM1z2eIg65JjZ6knK4tEJh99zB9jFjrJbnoYAjTOM44lI98mDUbzapERc4bTHRiq8mlke2K9e537jsuXbaPg/AKuJHfOMRb7DgsDA8h/7U+kzL/vHnVEEAT4jyNhXu4N9xduzIc1YrWryKox0ISL774Jo0GPSwHyVi1F90jII5fZ7fC6q4juEz4/gZTTGjPb2cKDRYgyz1lPBTF/C3gLQC88xYgXgMLQEM6//zaMBj2umvYobn/rDPHwroYqJzE0VlABcnBaDGpWSme+qsGT69UInJ3ECyS1ebmaXyc9GUaDHue2r0f4L6RGa6yQFjPIoSn0IFcDJlr5kDlXpTk3giBg7wTi2rU3yHdMnDlbbP99E8bQzb++Dv09NuHJYL92NacgCAheQGOkxFDyPUs9quwX2V9URIKNV/8omgnMxAFhC+RtTQCg1nojOzTlDJqC1Y+B+I0k1jW6Kjn8wIjyitKPh8No0CPt2CGe/6y1IKl4QhYwJzcRkV5q5C8GlsGbk3CRPzbQ14u947+1duMcx9FtMa7WPazwZibc7qD0YRP8f5qomj+mFcxoOuVICH+MF84L3OvcC4LAzcxLv/+BK8mdR+E97W1WsdhX/DvelU5q7YK331HMwpaD/08/UBc/3X0j7rzbrh6ADG3nY5D+pz/CaFC2drobe1ZVochQ+iN5k55bl+QWhYCJePIzSMQjxbX8HwHeAtALTzHiBSAAJH9OI+BTKxYpbssc8DPOKyvcersGeAFSH6zeaFoMGReI27Nn3PeqxQjugCtx9/6GM9szYfJLQcl9dWNHZ3TdvEmdlU8+xdnf7rmYyYrh4PxpMBrkY5oEsxl5o14kzlaVjbfJ/Of8x9rUfVyFWqtdhcrGSKY5KciMO8/fFyUIQ0PIe/ElOr8K14K3OOsujAZ1Pmdd9WQGbZqdhK4n6nldMXtcFZAM108edSkchhOJITY/x65W6yhubirMQ+qLAp7GYaUMMBPskq++VtyX3bSjt9sM01knJ2zBdJfCiNmW1K6zdfW5Cfcq9/3XHiRXwn/cLFVcM3eQdMhayJ+2pW3Yp6f0dLjXuR9saED+628g18cXxxbHEw/TybvT3uybWe5ULVlCJuhbt7n9N9kfNzvR/dhMdr0Us9/pycpCzgsv8GvFoIyqnl3v1XiTCoKAfGtST2rIXbcEaOHLr8Pkl4KGcrrnlT8kSs7Rn+dpOs7vAd4C0AtP8UwKwKxxY0n4oGIkx/zbCu4om9sKgoADs2kUUH1ePsdUCUlWdd/+qeNhNIxcNBDLqE0MCUB8qPsEfgAwt7VxIchh64Wtvkz+s4xcswxGgx6FmbcltxmsqeFjKnvfstrCfBeSf9QWuhCXP27WfP61dmOk/Nu0Ej/5q7qVeOmY711SShiYQfC5bb8qHqcjOQUh0y9SJ7ZSfSeWeVCK+cHZRod7VR9PC5gSNyfhooOlipYi/FpUAUx+Kbh9nr7nA2Vl3AZHqbPVZPXH2zdhDC9OLgXsspLpXU1CbRsAACAASURBVI2La1asJAuUkFD+mP3izV0vwOunCrBnwqIR41te3r8bRoOrRYiYcbNWtJ2PwVMfXxyYeUXSDod16zsaG2Bua+OLMnsVsVZ0NDVaC8CvceOs+1nMV8Mpvi47wVWJPNTYiFwfXwSOYZnA0lZXJ1YvUV3AD9bW0nXphVF4lFwOk18KLgaqpz70dblOLOqKC0WFS/8jwFsAeuEpnkkBWL58uW01qxA+zuw7GsuVDZIFQcDhyVHk45aqnN0qhxh/Gg2EzJnJOW4jgWsnKPUiLSIMN85abVQ8uBAXffQxnviO4hc2pa6Emji47jt3SGn42ecOj9tsZGxFGrMSeZyu3QuQjZFi9+agOp/GtgfnK49tAaBm9Roi0+93pQowYreasVLtul9x7KcwmPxSVFuJ2HuJ9Xa6vt/3Ey5xkcZI4MzmNcThsuZr805yjvpOcpzV/oaN0ISBAeQ+9zxyfXwlEysYBEHgEVqZcdHobmvl8YBiCycWidZx+bLDMQ4uthaubngYAsAl0wPsnbhC9cRAK2xpMgkOj0fvztL0fRGDIAgonLXA2n1OxlCfK+f4wKwJ/FrIfD9Lxii7I8iBFTzGsWNx+YD71zi5iYMgCMh79Y+I+Px9F6qAw3YWCwImE4dTjV1M142bXAFdXWDNIdYQAch4iyz6EbCJUAImq/ep/b3AWwB64SmeSQHYuD8Qpu8+hdGgR1WedKFmr95UMgQGgMH6ekT+aILJLwW5N9zrojEcW0umvkd+XqzYIfMESWEmGA163DoTOSw2KlWLlyDrlXepeFXBS7LZuEirPVtPnRaN1mOjP/t0guunqJN0K1p7x5SNkdJO5KG9oZ4U2CoD6luOHiXO2nxXzpraEaxgsaDwnXcR/c0WUSK+FBj3NGzZNdFzfXo9FUaDHme2qI8/1AJmtsxU9awbo8WbjiVa2JtYM1V5z717ivszo+Jgv0mI3U0Cnsh1P4tuW/juX0i48NCx4Di9jQrX0gfuUSAiN2Zg76QN1gWVZxQQMUStp+LS2dT66mHp7pcWVGfS9z9syjm0HHX15GNm5hX3s1DwDsUytsfFefSajB7hP24653+6AzZKleIvl3z7HWLfe8sqVgoQ3Ya5Euyb+D0sZuUuMPvNVy1YiJ6OAU4fUZuC8+R6tYuCu6ejnd9z1JzD7wneAtALT/FMCsC26POI+PwDxc4TI++rDSnvvn2b37zvXXYvUg2wWmJYMz5PbSST1CfpyW4fTw5sVJZ1KQYlOaRiPvub8g1XCs1hYbg5+lvVQgCWMZoUZpLcpmH3blGuEeNE2cd8OdsqaAETrmQnlsM8ZOMmqRHgdN/JIP7jhx+5PMeK3NtnxX0CGXofPUaujy8Sv1iq6W9g3m1SAgbGhzuxRntUlxqELZwBo0GP6nwarfFMVpWK2oHeIVEbjfKplFvbFn1e8RhDAwPcwJf9K3/oqky19PdzmsJQq6MnY3woff73k5S7P85gAqJ9U3bAaNDjisk9WxQ5RCyfD6NBj7IHjp8zW7ikR8onFSmhMLMeJr8UHB8biryXX0F/ieM17MQaq1/fpvX0Xf/gQ8WkFiWwwn3P+AUkZLFo7yYO9Nm+PwO9Q6LbVC1chNTXX4PRoMcxCe4381mMXKsuerN23a9kgbNvHwRBQNiya5pEdDfO0MTlxmnbxMU8NMS/v71d7onx/lbwFoBeeIpnUgB2372LaKsSOOWwdFeGKWTPbF6j6rgtkZG4/OkySTKyWtjHMcX5U0xS9pULbh9PDvbZkw3lHTD5peDwL8p8Ryl0376N5PemweSnLlWEjSdjd2+V3IYZ1rYcO+7wePSODdaRWDx/rPRhExXOIn54SnAeXQbNJP6lmgxdc2cncn2fo8KixZFAb8+Rk0NjQAByfXxxb/42mPxSELVZXUfk9vki2QKAGSIfVuFl6Q5M08Zax2bU9S7KatC0kGACjCMrHL93tb+u5zdYNWipqcLJdctxcP50yRgvqUhBALh9vpjex5PaCykmIAqYRrm20Ts2aD6GEphgyjmS8umNGs38MzEwK5zYmQe5Tc5gg22kymx1kt55y2WE7i6YhdDeSStg8ktBZ4u62EN7sNShQz9L2z81GI3IHjWKis1x34raTqVFhEnyRsVQNm48dUEvXgIARO+iUXzBXXWxfMxz9Ml1x0CCgEmkim6rVx/vpxalOfdw51zUiMRCegtALzzFMykAB2tqkPjm6zAaHF31ncFsF+S6U/ao27IVKe9NpeJnn6sdgVowb6/jv952UFiOBJiFRv7tG+jttBHhzYPu2TqY29tx6TPyFEwJV+b0FGTclB3XAUDJN99SKkS6o1HskWVzXToirXWUiBEikoihhLCltIJvriZeaMQvCxxGm0oo/pLSKzpTUx0eP71xFYwGPfIUTKVLvhtDY+QTsWTtMT8NFhUdkUsmSrGQykCuLykiYrnfJFV/hxYIFguPSuxqpcK3uZrirQ4uER9JO4MVMM4LhuZDhxzypYcDzLqk5FtXc/WnN903VWYRamGLD49YtzVwmoEKbSdbm8pcst6J3Oj+CBWwpdDcOfUYRZ98yhX9vY9ImX1hC00jLr89GhUzZ3nE/WNIOUJ2S8FzaNFTlac9QaU4W3nB0XrmDJ76+MJk/a6K2fSc2kjXwsepygI+QRCQ/8ZoEsHk0WKfeSjePu9qxSSGo6tvutAeACBkzuQRE/7ZKD8nhv3Y3gLQC0/xTApAwWzGbasv1IEZ4yS3Y92x+wmXVB23YvoM3HrjKyre1rnP2bO/EaUdOwSjQY/04+FuH08OESsWUhF1PwuCICDE6oPX3uiqAlSL8+P3EQ8vWNnZnyU5SIktGIE718cX/aWlDo/vm+hqkWM2WxBkHZ93tcqbS9ujr9tVkWfrMCYo7E1gQpCGvY5qWyZQKHsovSgYqKqm0eRzz2OgqZn7EbY1KH8OEWuIP1ddIB4zN5LEcnsz7yFrnNjQoNmWS9ym/BlcP028TWcVaEdiIvnTaTDEVkLL8RNW3par0W+1deF1zI3fLuNznd5C6T2HFs4cjtPlEATBpdBmaGvooUWPByk+ABC712YlNFBZyTmYuT6+KHznXZz58B0YDXpc/OYLly63u7i49zcYDXpErAoS7YapQXYCKXATD0nzubsz7iLXxxdR330hWgCZhwb59USNiTdTFuc+9zwsVlsZZoKuZgFhf73p73Eco7OFbcVjzzq6YrCn/Aw3vAXg3w/+SafTRep0uk6dTteu0+nCdTrd/6GwfaBOpyvQ6XS9Op2uUqfT7dfpdP9W4+s+kwIQAPI+/gTGH7+E0SCdzxo6d6qiUMQehe9/gJyX3qTx7bxUVd0bMXAxQmQ+bp87CaNBj8TQ/W4dSwmMv8WsEU6spySMqnz5zFo5nJp7mniQ2+VjvACgo7HBJrYQMZMdbGjgF1qWVwqIewAysFB4Ld2E+lLr+NtuDJkYul9RoGIPJlYpn+rIGQ32o6SD+lLpzgAjlJdPpC7dqa1kZ6PkyWjPf5JKcOEmvga9qngrLWCf374JYxweZ4kqaux4WOGRe8vR67IvL4+Mht8YPWznW7/jN8mEka7WPvrtzk11iRNTwk1rBF5iGCnTA6cNX9EKAAO9PZKCNPOgRfE7oAZMeMY6UkOtrahZsYKrsWPe+zNNRA4Mn50Q67rFGMk9QauPHmDrvMnF+A3W1SHXxxcJb4+myc9GR6P+qlzKJQ+aOV6VqTVzJij69FP+WF0pURnCl19XLMSrrIbpYqrhk7/+QsK/DPWKYrVgi9pHqeIUCU/gLQD/fhCv0+ke6HS60Tqd7h2dTlek0+lOymw/SqfTRet0uq91Ot1/1+l0H+p0ukKdTndO4+s+swKwfOpUhHzzCYwGPYqzXPlifV1d/ILb36NsC2Hu6kaujy+e+jzHM03d4bMAjp5W2ZdjYTSoMyR2B0EzxtGqt5IUhCwJQMxQWC2OLCIvxAfzleOMzEODMI6l/NSe9jaX59nKveiTTx0e5wKdea4CHTYSfXxNfTehIJOEFNG7s/hjLAVGbfHdl59v45dZFXyCIPBECrlw+fIJE4nnGBEBAEg+Sj6QGQpKYFa4hsvwNocGBjR9l7WgoayERnizJzo8nniIvsP3rpQpHoMl0Dh7RrLfVK6PL8zDdE1gqRctJ1xHYIJFQPB89zrgl4LIfijrSu6IqDg7m5us/LVvRIuLIyvoPWSGwlphLzzranW8bg21tqInJwcZJyNcVPee4rA1yjHteDJMfiluWcHYFhDS1yzBYkHeSy8j88UX+YLT/rdw++xJTddZ1kmunGszbB4aMKuePuQkklgtPsQ1/YTzskegSBvJ4tJbAP594DkdfYh/snvsc51OJ+h0uv9bw3F+1Ol0Azqd7t9o2OeZFYC169Yh6uN3YTTocfO0682g6ulj2dGkM3ofPaJuxZ/fxvF11IGqdrOLdm4nkYmLshpsJsJ2KQfDCVtxQp2mlGO5MPmlIPOSeypmi0Xg479Hn3yrap/g2RMlOS+tJ0/ShdZvjsPjuVZrE+eVPADuZ2ivrlPC3TjquqZE2ExiHybHw2hQn8spmM18XN1XQKkGA329ts6NRALBUEuLzfOumorWh6lVMPkpZ+rm3iK6QOxe6fGyIAjcF499zsMFLjBZ6vj5ZCfSWE7JUsjegFksvq/gz2+TZctjz3w1GTif9No10ecjN2bA5JeCiqfajMRZ57z8caPsgsZdNFWWw2jQwyRBWbG/ZrgDe+GZlBKX5aJHD+O1iAmIHqdRAe2OFQyjQDhz6ZxR8tVXyPXxxSFrR575VgI2w/8HV9UJW2o3biS6h9FR7X1yE31/yh42ye4vt0Diht8XldXvWsHGy+WP3MtuloO3APz7wHSdTtfm9Ni/0el0Zp1ON0bDcWbqdLomja/9zArApuAQXPnzG5IXNNZ5i9m1WdXxeL7opMm4YDW1dR5pqcXhX2yr+cK7txRFEu7CPoaJrYYzL5GFR8oxabd8ObAxWtCsq3jq85yL1YYYjq8i9/2ie64X/7otW2lkt9PRRJmNxuNFxlHcX2u/eg4NswCxzy4uyckkftKKhaqPUzFturWTR9Y0fMQ94TvJsVDb2bPEdRvzPX+strjdZSQthmsn86nYPSNf7JqcOr3DBanvZ+XTFi5kkgPbTop3Vzb2J1KcXvE8WcM+usvZ4oSBdfKkBDVisJgtvHvW2dJnp4rWbicjBWZMHrZwhujzrKDISXTvNavthGdSKMq8Q5+1SpsUJdhbLdWXkgWNViuYoQEzTCqj8Fj3N2ntCodre2ttNaeTdLWoK/zLJ04iBXBsrMPjSYefqlpA2xYMrq/Hs7tPHxfZ0zOEzJ0Co0GPumL3zf6l4C0A/z6wRkdcPmc06nS6uSqP8X/pdLoKnU63TWG7/1VHXxb277/onlEB2B53EbdfeZlW1dN/cuF9xO0hPy+1jv4NRn/KF924EWkqOClSsE916OsaRMXjBzAalEPM3YGD6aiVG5Z7q9YjFTOLUwufHk2dluvKljKxu7dIim1YQdV27pzD4/EH9kqqo90h87OVu/0FmY03g2aOV32c5rAw6ljOoc9LjQK3YvZsiiY7YLOfGOy33di626XHSSwBoSBT3jIibMF0B67ncIF3hZxsT7iifE4KBvrEvdkAm/VIQph4p7D6l19cYtvcxVBLC42UfZ+DpV/8PRXzZlNCW71VhGEtXsIXUx5w1dPhs9oozbkHo0Haw+5OjNXCxk0vQCY8k7NuYlOR8MWzJbfRAvuxtnlwyKGIVoumKqsJ+lJlxXn9zl0UL7iWkmuMY79Cc3UlN2rXMmUpeOvPop1p5kMqN8oe6BuSLVpvRB2D0SBvUeYu9k+hpJPWWu1iGyV4C8DfN37T0Ycj989XJ10ANul0ujkqXucfdDrdXR3xCP9nhW03ip3HsygAe3Jy8MTHF3v/SkIQe683QRA4cV/tRbxy3nzuVcdUaVfDtY+tWmrJxuTgYrIx4dmQcyZrPpYS2upqXdShzIJGjYmzGAruEpcuau4ZunEHByvuw1a810+6pg8Uvvc+pUFkOxakjDxuP8ZhYJ5sQXPU2dlYzBbO2+xo6uWP2xfIQyoNb3ufPLHxAAcHUfYgG0aDHkeXuyaEANai5IVR1q6U44KBCSnKHomPk8xDFs5ZU1ILM0ubsvtZsttpxb2L52E0iMfcHVkpnU/McCX4kUvn1R6N+wOR6+OLmrWep5j05OSQovW99yW3EUtnUELZI/KejNpMXGI2Tiy8O3w8q7yb6ZKUB8DzhZu98EwKLHNZy4JIDs6LI9YVq3yqXrxVeI86h+d2KntOsk57xbTpiNm1hXf3me+emvxfABhqbrYtJHocf3fMDujIihuSBSmLgJPq7mdaoyOvBBpVnY9aWCxmfj0bTnoCg7cA/H3j3+uowJP797/oPBsB/586ne62TqdL1ul0/5uKc/qbdQCZjJ8lgtgHrLfV11lXpuKGoWIo/uxz5Pr4ovvWLW6Ee26n9pstv5lsoZsJG0/snzL8Fh71pcUu3an2RrtuhhuWEiwF4tLaC5J2G87IiDlDFzyn9AQHEUCb4wUrdN5UyY6WIAjc06+xUtlNn3sHLnQcP9kLONob1OWsChYLCka/SUVrVhZy2Y1bwm+y5QSRyUu//8HlORbxJTVOYhFwavz2pGLEPMXNU9StEDPPvWgV4zxMlY5FPLqKeaGJUwXaL1zg1ApP0XY+RlSlbQ/WwT66Sl0xANi6PvGhROi3ZfbGK+ypHg+uXrGOLbeIPs+Kiog17hWd9sIzKXS2UMfO/6evh8UDsCSbKBbHVlJXky0GHiSrj9G8e7HUhbsrhZ5s2wKgsaIM+yaM4QXRqY0rVf9N3bduuSiAGYYGzHwx2d7YK7K3ret9RUQAAgAPkxOIe7xzk6rzUYu+7i7NC1ot8BaAfx9gIpDX7B77VKcsAvkHnU53R6fTpet0uv/dzdd+ZhxAxge6bLUFOLftV/7cw6R4TVwXYWAAuc+/YA2ur7claijwt8TwKK3KYYQwkhYelU8fEYHfLiHCU0sJpl69FXqDLrbvf6C4D8+q3exYJLFotII/v+3wuL1yWMrC57wxGya/FOTfUVYzswi809tcDZ+ZTY5aKyAAqFqyBLk+vmgMCEDWJeKSXty3U3TbMsNY6hyLZK+ybGaphAf2XZETgDDYJ74MJ5LDg2E0OMbxMbDFgNR4t7utX3FMrKZrpxYNe/ZymoYU7P3ZpGLFnJESketA+YgPInpCRswZj8+ZgeVeS0XMsSxatV1vZ6gRkQwO9PNr0UCv+z6hDI9SEx042HdiaYytJUUpwS6+UQnm9nbbgrKrC1VPH+P8zk1ICgvSFLvWHH6YFrcLxcfx53bek3VSiNv/QLbQLbhzA0aDHlHrV6g+JzVg+ebOlk3DBW8B+PeDeJ1Ol6PT6d7Q6XRv68jSxd4G5r/odLp86/M6HXX+MnQ63SMd2cD8J7t//5OG131mBSAAlIwZg8yXXuQ8FNYWP2N1vFd7Ae8vLHSIl7K/iQypDAZn4ApWK6nfXqjR192l7Q9UQHGWeEYsE6GozbS0R/RuupHkXSuzRaM1yxOrmZLUmVvUHhvr4I3HwIyN9036XnLVfi2KzIXV+Irdu0Ir8qTDrtm1LCklVyHFwx5t0ecpbeLrbzi/KOWIK5+nv7iYexwONbqqc3mHb3E6LCK+dEy4oiZ3eqQMYLli0a6DzsC4mFLjMGa9I1Z4MziM2yR4e2pRtWixg9WOFNj3v75U3XWIRQiy4omZt6cdO+TR+drjRlSELC9MEASELkqHyS8FrXXarX7Cl19X9ZvfO+E7UpM3uqc2tgeLgYsPIiEX+z5omZxEbSG/zFIF1S1DwTvvEHfvoXa7GYaaFStpgWcST4i6ZfWEFBPSWSwCDi5Ol32vyx/el6WNuAvGaT4wa8KwHpfBWwD+/eCfdFTwdel0ug6dTndY52gE/a86+qDft/7/fZ00r/BfNbzuMy0AWafm6MyJ1ptjLHra2+D/Eznut9Wp88LriI93SCwQBNuPvKVW28X48oGH1rGZTYWoxkfOHTArlTNbHPlVZ3bQCrY4R/vrMT+yutJ2FH/+hazlBoNUQddgNFLHZsMGh+0Zr05OGMO4XGryiNn4Kyu+zOU5VjhlXjjnuqMEzO3tyB31InJ9fHHFyjW6E33KZTtmJVE5X/xCb7EIOLiERtnOHnmCIPCbdk2RMp/n6sFAGA3qTa3VQq6zOGg3DrPnVjIwA185BbODcrdYXcSWFJQsYBhi9ij7yvHzswgIWZjmUHgxSgMrbIYDXBl6yrXTysDMw9UWQwwOXU8ZwQ5gMzVXk4+thNQjoTAa9LgWeQQA0FSlLULQYhE0JeYAQPmUqSQqi3bfYqXk2+8o8jE5WfR5RuM5uuqmy9/BfDsPLk6XDApgvO/QudJUBXcw3CIeZ3gLQC88xTMtABv27UOujy/SF5I30sH503n2rpYsz0aTiYjqK20EbbYylSLwS0HMhyxo5ngYDXo0qogo0oL7iZdhNOhxwbjN4fFEDWMVe9grmHu7BlC9nBScjUFBsvvZj5b6umxdzoqZs5Dr44vWkycdtn9wlc5bzp+PufIfljFIZmCflVjqxjVrHrRYB08OFbPo3E/5TRHlg5k7OpD3yqvEG70j7X3GbEmcuVksbzdkQZqqkV/68XDqSkWEafo7lHBy3XISPEgYyzKV8tObrpZIjPRf+kDem5DfcFNdBT9qIVgsyHv5FeT6+GKgQt4qhXWPb6noHrMYtuD5abxLq9U/Ug0uBxppISLSaWVIOEi/2/tJ2qxgxFJwpDCcMWUX9+106EqbB20xjmoiBDuabN6FYh1yMdRt2kz+fbvdM7MWBgf54m6gStwqaGjAzCM1m6ocu3xMrZ1wUFpcyBbEw8375hOf1UuG9bgM3gLQC0/xTAtA5t1XPGky90di/4qz1BuSVi9dhlwfXzSH2W6ujNAsR4B3hsUi4MB8147JoUUzNfPQ1IDxipw7FUwRqIWLAwDNNV0OCubmI0dc3PKlYJr+ExW55bZxZuG7fxFVAF87cVixKFOyWmAwD1pk7Sdy4uNgNOgRu3ur4t9gj47Ll8l09rvPYDToUZTpqKpuCj1IY+Kv5An1zBDaeSx27zKNrdV6Hd45FwWjQY/EkABNf4cSlAoCRtJ3tsVghVPQ3FT0dcsT0qsWLJTkSarFYE0NjZJHvQhhSL7L9ThdnQk3AJTcJ/7oqa22NCHujThMfnkAcH7nJkVhibtWMPkZNHo9b8xW3DZq/S+aFLNyOL1xFdErbqTxx7QogUsfUqdNi3l0S2Skg02TVvTlFxDd57U/yf5uWRqRMz2D2U3lZ0jbNjnYcw1jmsxTiYnPcMFbAHrhKZ5pAWhPMK8tykfInMnYM+4bzQacvEORYutQ3IomHsi1qALVx2lv7LV1E+zGA8dXLYbRoEdJtjRXyh1wXpFTIZV/hywlYvyVbwj2KH3geDPsuXeP3t+/vKe477GVixwKpaHWVjvCtuMYPXb3VhgNemRfjhU7FAdLZKmUyQRmgp1Dy8TzO5n5rdZVszAwgMJ33kXQt59a1cq2Ytrc3o7819+gUVSMPCePCyX8HOOl2LhPrLMmhuwrF2A0DH+koFLOMeMxhixMw9Cg7WbGrJLUCFga/PcQFWD9BrfPkyk3i7/4UnHb6oJW1YpaZpyedMTGH2W5suGLZ7l9vs5gKu6CO9JdOmYFo+Y9tUeGNQUnVYX5u5pCVC0OL53jsni4EqJeCcze+6uH1S+Mu+9kiEZLqgVTpZeNl+fRMV/F47/e5s4CzLPwgMKixzw0xAtALeIUJbDFbJz/9mE7pj28BaAXnuKZFoD2RYaltxeCxeIStK4EwWxG3ksv00ig3Dam48aqGny5yp80i65oT29arVmIoAZMwenMK6orofHpkZXaVvnOdhiW7m6bEERE5GAPZrzN4o+6b9+WvFCzrpOSp1289WYiN8pmXEGpmybzKguWMXKWQtPBg9j7wxcwGvRoKS/jj9esXmPr/qlY4UfvynIYA7Pxb9DcVPR1qbNzGKlIQWalIWWTIwgCt3qxV5gy4cTjdOXEjfa4OLrpTnCfvM47Pyq60f09Nk6cUneSJ8jYJXA0V1XAaNDDNG2s2+frjKM/z4PRoEf5Q2lOK7eCWa3NCoaliKihfMQH7YHRoMfd2LOaXkMMrOtvn07DitHko66CLGewKYuWkfdQUxMXXlkkohnlUL+LzKTrNslbtAz0DSHUygNn3UwWsyk3/mVg3oRt9fIG71pwJ/oUjAY9EoKHdwrA4C0AvfAUz7QABID8N0ZTdmu+ew76A2Vl5C7/0ssON3N3/MSY7YezPxRLylCbU6kWV0z+ogKHvi7bDVAsn1UKLJbs9nkbd6pYr5clTDNct3Ltkg6Rn1zz4SNWH0HHGDaL2WzLtVVQIrIuk1jgOkNaJJ3zrWhxvld3Wyutxsd+BfOQNu+sfjsLn9L5C2Dp60PzoUNc1dpzT9m8FgDyblNnJ3z5dQwOmDlHUyln1x6FGTSWPLluuaa/QQ5DAwP872NRgmJglAI2YmS/jQPzUxXjuwCg7+lTsgN6Y7Tb/nN127aJRgpK4fivt1WNInmk1xMbZ5dbN439athGeCFzJlOnVSQvm79uhy19RYsVzOltmZIcWGekRRx0EG64C/suV0+HzSicTRGiNiuPdVkGcJWGzHVBEGzX/DxtFBcAqJg+g3jJp5QTohiXNGpzBpqquji9R41oS83nrRUjxQNm8BaAXniKZ14Alv5ooKzRBPf80TriE0gB/IMjYdedIiqdF1CO47ThXHXbw1ZYuuashi27JkpilkPcfspAfnLdFjNU++t6uvHukB89MvNT5scoZbXAjLH3TfzeJb7PGdyVX6aTyUapUv5ngsViU2FrtL7ghuJ//QJPfXx54odz7JsSzGYLv9mxzpnWz4ZbS/ysRXuvCwAAIABJREFU3AFTi67WFl7oyH0WXa39nNxf+bQFsXtzJG0yxGDp61PdSZYCE+W0nlYX7ci6YmLKcAb7TmFvp62QtZjNosWNJ+AdIRlnAkEQeNdJrfuAwz41yvuwDO6roYGqz10MDqbSdt8dRnkImpOCQRkLLXvlslKX1hll48ZTju9F1+hJOQiCYIuAe6DMD+3pGMChn6/z8zT5UcKMmkXMcIptGK6GkhPA7bMnlTd2A94C0AtP8cwLQE+zRhsDAkgBvGaNy3OHlqnz1mJgN8bcW468rpQjITAaxKPSPMGZzdKjZabelDOGdcaxtVSkVNutyNvjLlKBPOZ72X0rHjMvQOJNMcsO585hcdZdGA0U4aSEwX4zLzy6Wl3HPf29QwhiebsyqkOWo1udpzyWskdNQR6MBj1Cpo9D4TvvcvJ48+EjmjtZZY+a+Lma/FJw7ZR6bikA1Bblk7XEvOGzlmiuqlQ96ky3dlrZv+D5aWirV28mXPTJp1bFtHsRhXz/u3eVN4aNziCV1gAAlXktMPml4Nha15Fr4DQDjAY9mqvVi8CkoIUTxhY0arp5gPauYU7CxWHhkclRKw5braRqZTplLLLSneQTZr+kVQk8WF1NC7gXRqn2pKx40sz9GaM231XV8QaAk7/+Iquudwdxe39TxZ12F94C0AtP8cwLQG7hstq1gFMDngEc4erPxbhbhZnqYsQYV8o5O1UubssTHF+1RFJcwmLI5Dog9hgaMIuqbgfr6znnxizzuXY0NVC3bNy3GOzoRO5zz1uTVRwLUJaTeVGlmIHdEMU+gwor51LsBu5wDKsZdJ5GDmbRPZvRtmVgAP2FhbB0azfpZagpbEV6ZD6eXK92iKxTg+ZqKtYCpxncfn1nVOfnwmjQI2zhDMVtB/vN3F8veEGa6t8EQ+XceTxrWyssfX38+6S2g8i6x0dXS3ePWaSXWNLJoYXDp9x3UIUqpAHJeVqKoUqmiBVD7o00UpJudu96yVCSkym5kGPWR3JCEF6gB0sX6FJoPX3amgk8TdN+fNqjsJh1Rn/PIJqqOiV9/8TA/TVThy+559y2X2E06PE4LWnYjmkPbwHohad45gVg+6VLRDAf517AedGHH1FnIcO1s8Aiou5eVE5qGOgbso2TnCLYWNFzeZjDwcMXz6abVK7rDYwp7JJVZGwCNoVb2FJXE9fiTz9T9HGzWMx81FqbQMbahR+4xsglBJNP460zJ1Sd101rsopYViiLnrJXcIqBm0HLeLCJgWd6DqMfnLvoammmkdvY4clxBWxZrsdXLVa1vSAIaKnp1jyyA4AGo7+oKbgacA7hm2+p/tvV2Agx03YxEULkmmXUwcm8rfl8ndFSw/LAf1TclhWliYfUFZ4PUoh37GzTI4XS+1kwGvQ4tkI8Bk0tHqdelRQlqVH3shG9VE62HHofP6Hvw+g3Nf0WGnbv9liNrhY8Yeei+4bVzohcO3zfSTF4C0AvPMUzLwD78vJoNOcGwdzc2WmzKmlzHVcwEUKiRBaqPeSMi7mx7DCHgwfPpgQUMVf/wnv1MPml4NxOdUKFwky2vasyt3bdOlUE/PAlfrTq3bYFuT6+qF7qasbNfMjUduMqnjZzMY7z58u6g0qJD8x3MPWINpoAi7pKCN6nab+RwEBfL+8iaVW6S2GkfcXswe033FAC80jBSZM17cdM2cXGqYJF4DzZuhJXnt9wZi/XFtL4/uB85Y5VmdUbL2qzulF36nFKY7kTqy5lxXYu01VtLwVbWsoel+fKH9Nv9sR68XG/vbK8SsbiSQqWgQHOxx2sUWejBADlk6eQddPZ4eVii4Env2i0JJODzXbH/Rg8OXgLQC88xTMvAC39/ch9/gXruFHbWKonK0s2qJ4r2rYoX4zlosvyb1+H0aDHqQ0rNZ2fEvZN+t5q4eFqNcBMnUOtps5KYPYNYsR+ZuPhLJRxRvSODaRSmzJBNLNVEAQEzRgnWbSKYWjAjOD55MrfXG1LGelq7ePcJyVeDvPPuuC/TXY7Z3DupoeKyeGAIAgwjv0KRoMe3W3qVZNyyL5i9RXbs2NYjicHT5TArHNTt2mzpv2YKEuMb9lYSR3v0EXpMIukUDCF/XAIt8qsXbeIXxYobmufjiF2Xs44t/OeJpoKE2Gp6UbKIfWoVU184rDLc31dg7z72t3uyrXraLb+jXNTZYUicpDiGEtBsFiQ/9qfPHKM0AKl7Gd3EMI8O4dRWWwPbwHohad45gUgABR/8SVlhF5XjkKyB/cWm+0n+jy/GM9LhXlI/mLMLANuisRPsbGLGuGDWtgrFXs7Xd9v85DFluPa7Jrj6gwWQ5Vz1XUcNlhXp4oHmHKYCqaYzz4UDWxnqlP/sV9jcEAdCRuwcYrs1dWP0qpUdzgLM29zLp8WOEdd/a0ROJWECS011cobq8Dts8OjCFUDS2+vTQncpC1esWL2bFIAR0Vp2q84uwEmvxREbnS1JGEctIuB4irNtIgwGA16pB8P1/SaYsi7mQ6jQY/TG1cpbitYBC46UFIC2yuA7RdHchiulApGq5AacbLufEGm6+KUJZec/U3ddEIMNatWk8tAwH5V2/cXF5Pd18uvKCbJDAcyL5yD0aDHlWGk/bAFv9qMe63wFoBeeIq/SQFYtWgxRbmFu65G5VC7fgOpyfxdxxgAXWDDltKYqLFSXr133pgNk18K8u+4/jhrCqxk+wWejV3s0dfVxS/kUv52LLZITZ5x1Gb5bZkfYPslaesFlk0c8fn7yHvxJQgDjp250px7MBr0OLJMW4xTUVYDHwNbLAIEQeB/mxoTWRbOHqLRDNpd8chIIXTuVBgNetQVFw7L8eS6OCMBruS9rY3DVPjBBxQpmCVvHO6Mvm5bJ8pZRc4U+2ILHsA2/o8/sFf0eS1g2ddq4wjVKvg7W/p4J01pgcowXBY33Nz+ujgvmHN3RSYKSYefkneniqxmKbREHJNdvDuj9dTp/7+9+46O6s7yBH57ZrZ7Z7enz5w+27N92rt7erZntvP0dLKnw3R7QrvDc7b7AcYYgyPGGGxsDBgbjLFxeOQkkXPOJgeJKEBEAQIFQIAkgiRAAeWqd/ePX/1elaQKL9V7qtL3c06dGVe9V7pdKlS33u/+7rVVRmCX22U/sfouugkJIDjlSwJo7AQeOszSeSVqN9FDcHPsBs3rxh1PWGcWmShG6+1mTBbo291SfPHUVIhdtxN7PhbzGNlwWE6giCUY1I1l1uqK6FcLb2qaqOsbHLsRcen5s+J/56O/j/qHVn6obppkrpmv1NoSMOq1zu4rM+oCMwZkc1N94g0JbZtBm//2b8xwzjffsDmZ3O4ttnXaBNZUhQ+vW+nK8yUiZwJb+aIWqKsL1+lWW//gkzv5I3ekNtQ1G+2Fqiuit7LJ2+neB7jVZFJOnDi8MX6ZRMlp67N0mSOvJCee4hKLfC/Gmmwi6wDnvX2gzY73YFA32muVFdovZWjIywvXfifoJ8rMXDb4TUtXDJ0qyNnPmqrwsveGuPJ8DbU1EV/4k3MFEwkgOOVLAlizfbuoUXv8CdPn6C0txgi4pouxd6LtXyG+ye5bEbtvW5tv4lF6cbVpmurSDs6KKyWsqQpPfyF2Uf3RzSUJd+MxM9+5UW+094jV6qD+uJi7XPDze1lviZ50Nd4NX5Usa9cAmjncx8pOXZWcsjJz4B6e86b4ANlnspeeHgyGp49UmuuLqOs6T3w6uUsuVi0ZMdjVXYDrPo3dSDwZKmfMSPgloj35vjMzjzqavKzSDsuNsl5XzryOpvDwAdZUdyavWJ3gIN/riXb2yk1qZkaTRZItbsoKzHUIiCbaGLhIrS0Bnhlano7sByjH3c16fS8HTdQ4xqK3tPD5f/6xqOkrjP93QNd1LvrNbx31obSqJO8Ea6rC89/s78rzyab0E3tZa2FjBRJAcMqXBLDp0qVwfYfJuhZZlF7w83vjfoOUY7zkGKxoEn0Tb26od30HZ9n5fNZUhWe/9nzMYy6erEj4Qccc3jG8cmzsmhw9EDC66Mf6I6o3N/PUx/7Amqrwhc2fd3h8zsAXWFMTzwCOJhAIGktjcoehmat/ktEM2uSHXuQSu5V6xWSSfcDO7jFX+J6IXOIuyNnnyvMlUrd3L5/79nf4wh//ZPqcW4sWi55vL7xg62ferW4yGnBfv1TNelDnJSPF+LfI+b/tXc0/zZqq8JyBL9r6uZG2Z05mTVU4Z7W5CQ5lhbeNkod4tmaeNnWFvz3Z4qb4qLUrh1JrS0vc+mNJLvXuXRredCGvbu6ca60pezSXn31W1IYujf+6Nl+9Kq4i/+CHHGxIXA/thuvFhaypCmf2c6dx+41LF1hT7c00NwsJIDjlSwKoBwLhq3mXzPWVur1seaiZaPy6PNkfb+agjv3xJLmDNtYfNV3XeVy3h1hTFa67bb3tQTSyni5eP6/qigZjakO8b9s5a0U/vezF8Wdrlg8fLvpovdux9xczc212Ni/4w/2sqQof37KhzWORxeeJpiHE0tIU4FO7r/KJ7Vcs96Jb9t4QS/V8lVcvi+VsE1MyvLJx/FjWVIVPbN3oyvPNf7O/SMjzTrjyfIm0VlYac5TNNtQuf3uo46W7XfPzjS9x8urfrNf3cnND7KU04/f/XA/bP1faOO4jS7+3yB6G0XbRSguGHbTVSsVpi5uaygrWVNH0Pd6XZ9moPeO1PdxQ18yNd1s441VRamJmnm4iFZOnmLqifGfNWtGCqLvz36VZ4d3W8TsnmCUnLc0dZK7m0Q4kgOCULwkgc7ier3pjxytP0ZQPE8nMzQnx63ICgaAxBDxWvdCGiaKg/Mye2DU1bo6WYmY+f3CvaC0zKnZrGT2oG8swlaWxdwnKGcBn9sbfXXr30GFjHFqwseOVzPIhQ3j9b37Bmqrw5sltxzTJnbhWN4C4ZcsUzVK9W8mp42IJx8XZu07JJtqH1ix35fky+vV2dVOJGXIprv547CvqkS4++KBo97E7dhPyRGoqG3hGKPGQt0STNiLrRhNN70hk5ejhcTdMRCN7GF7Ki74pyxgB99JuboqTyEbjdDa5vLqV0a933ON0XecVH4rZ19lLCjh78XmjrZYbpTB3c3JEecD9HRvOR5L1f7E2+yWDlekvZsi/n0uGv+FCdNEhAQSnfEsAr4/5UPQK+9Bcr7fwB8vuhMfKpcfzOR1rwSKTrHg7hTNfETs4rxW704PK7C6zdePFJpb8/bEbps55a7+xRBaPHgxy8b+JFi931rRt/xCoq+OCn/yU9/30x6ypHZveZi+c7VnLkWgOrFhs6eefyd7JmqrwqjEjkhyZeW62JmFmntTrCdZUhW9fN99M16mrL/eLOXqxveDduzFHClp18WSFsVEra+G5hGO92szvjbPMacaioQNZU6OPbIxl1zxx1fLwhugbQWTZyZKR1mva5L9Fu++jC8fEiMRFQwclPFZeBYy8XcmvsvVz2wvW1/O5H/yQz337O9xcUhL1GD0Q4MJ777O1i9yJQGt4mbyxzlyLnnjO7tmV9L9HSADBKd8SQNmsuKRb4p22gbq74Z5kJmaLHlxTHLOlQVVZnbHMEW+Z1e3ltqNyvNzk+APRc9aK2LNiLO/KDSzTTDZlrZo1S9Rx/Ulps/xza/58UYf5hz/yuO5iubu2Knz1Qn4IulW/ZpXVhO7QmuWutQFxS85q0bdve6bznYxuJjhWGMt2b72V8FijUfu//saVnx1oCVoqHZjc+8+Od8syM88a8JzlTRdn9oql6nXjol8plWUbuxKMQYwmPMXD3nvb+PJpckRiXlYpZwzI5owB2XFXSeyQdYBV8+ZFfbz++PHwbmEP+v9Fiteo36rjm9ezpiq80eQMdTuQAIJTviWAzSUlIgH54T/F3KUq1R04EHNWbTTy2/aidzvuvpQ79jZMjJ/YyRFohYesNauORV7R2jlrWtzjLpy4GXcjSGGuaMq68iNzVycCdXVc8LOfi+Lr5SvEfbW1xtLe7eUreOHbr7GmKpy/V1xdlTVDWrcHXZtiYZUs6o+3aSbSzlnTWFMVPrA88ZUqr7g5ucPtJSqz6vaLf3vF//4fCY+VXyqu9vNnGd5I3M4727Agd8xWlSbuWSndvn7XqN9tben4+4m3KpGI0xnXdr6IBAJBU5NNrJLvkcu9o2+2uPHRWMs7z91iTO64ZG5MXzwHV4ZWMGYmbwUFCSA45VsCqOs6F/z8XjGB4mz8tic3x40XfQOHmBvN1lTfYuwkrL3VtvZN1s/FaigruTlblDmiiW+CMWV1t5vEFb6Xo9cK7Q2Ny4rX5qa9qnnzxLfqn/yUa7Ozuez1N8SH+u8e4GBjo5Gcyg8YmbgsfTfxVZ9kqam8aRSum0l4ZIuUk9tj94j0Wv7e3a4tA90qd2ckmFWBurvh0Y3X4icvZW8MFhtAorQU8sLiYYMc7ZZlFmUTdjaA6brOc0OlGWUFbb80NTe2Gn0M2/89MsOoJ3vHXj2Z8eXIxTm3djVfuSI2Fn3v+x0mzOiBABf++teOa0jtCvftdD67N2teJmtqcsdSIgEEp3xLAJmZr/R9zlRbgEuqKurY1pof8bXms1BD2d3hTRytzQGjuLyqPH6dhxyd5NZYsW0zJopNDWtXJDx20bs5MQvK5cimRFMHIumBgDFY3bh993t894i4ylhVdjWUbD3M9TXVvGio+CA9unGN+f+BLgsGAzy+x8OhXoCJl/1lzE4+/N0ma68WD0tce5XItaKCqLWaXrj0xJMJN2z50butvTUfvSe+tGXZ/9LWVH/XuNLa2hx/ZnV722efFSMQ17W9giRnlC9856CtmGTDdrNXw9tb/9kY8eVoW+ypQF6SGwDbNxiXbYcK772vw1QiLywd8abo23nE3u8pkpuzqWNBAghO+ZoAGvVFr8f+ZhuoqwtfgSg3X/wuZ4dG1uTI/nnzhx1IuKtt56yprKkKH1y52PTPjMdKawm5+679Vb76mmZT7SaiCTY0cPnQYXz+n37Exb97oMM3bJlAyWW0iT0fS9oII7NkLKXnEjfOlcs3Xu6QTaT03JlQbzp7PfEiJWM+tVk3xn4s2gmNHBnzGOPKjoe929qTO8dzN6y2/RxyYs+Eno9aPrco94ZRehL590X21zPbCL09+QVtSh/V1vlGQ/LDzhMbN8gxbxce+H2bOr/LvZ+1tDHQbWvGjmRNVfhM1g7Hz7Xu09GsqQrn7dzqQmTRIQEEp3xNAOtzc8U3vl/+KmZCVpudLZYrH3jA0nPXVIqeelNf3s13boh2MHKeaKydepH2LpnHmqpw1vyZln5uLKvGjDC9qULO0m2/Y/DcQdHkesWH5ncnmiXbqMjbwZVLXP8ZVsl2HIles2Ag4HrfRjfI6S/Tnn/K8XOdO7CHNVXhFaOGuhCZNbU7dxobiWK5s3q12NTVw/n/VrvcmJV8s+Qia6rCM1582vK5zY2txohGOWIy0BKMOmHDCqdjxaw2VU+2QN1dLrzvX8SqzipxhUy2iDn3/R9Y+qLvJjdXfWQf02Q2bUcCCE75mgDqzc3h8UAF0b8dy3Yx10a8a/n5N03LM3YDV1ypNa6e1VQmvkLh5nB5ZuYl74hu/mbGgjXVtxi9DKvKwkvVWzJOm5o5atf5A3t41ZgRfGj1MlPzOpNte8YkU8movGqTqNGt19o04HXYR+3k9s2sqQqv/2yMS9GZ13r7trELv+V69B2SZa+/bqpPZzLJneDbZky0/RxXzzpr4Cv/jWaFOhDkHyg3poToCVrZxBIMhr/gWN2U1WZE4g3nu1vdUjU3XJdcvWEDF/32fnH1733ns5zt2jl7eqhW0vmqz/zBr7jaRSIaJIDglK8JIDPzleeeF/Ugs2d3eEzXdS66/99EUfAu6+1Irl2oNnpZzRwkeoptn2VuDueJbZ+zpiq8YZw7yxHhAuNTpo7fPD2vTT1RQ22zkRRWXLE3mSPVGEn4tPgNYa3uGPaKmyMF5WvhJLlxoqR7D1Gvu2xZh8f0lhZjp3n9CW+mlERzaodIktd9+oHt5yg6clBsuBgx2Nb51y+KvznTX8niytI6XviOmP5xcqf5HcXRTHuuB2tq7Fm+sTTVR7wHozSD94ve3MyXez3Tpi75wgO/Nz1xJhn2L1vAmqrw7nkZjp/Li6btSADBKd8TwNtLl/K5b3+HL6kd61saTp8WrWJ+/JOokyzMOLCqyEgCFww/yPU15oqL8/dlsaYqvPKDd2z93Pas/kGQy8Cz3tjLTQ2tfHRLiaX2L+lATk9ZOiJ+S4jO2ASaud1IwVvOmunuWTSHNVXh7IUdvyh5oTJzZswZv3LiTOEvfml6tncyFB7a73j3+ums7aypCq8ZO9L2c2yYdLJNI+W5b+031bMznrmDXmJNVfhq/mlL54V3j7sz4sxNgdpaLh86jIv//T+49LWB3HLjhq/x5G5YzZqq8Jap4xw/lxdN25EAglO+J4CtFRXh5aV2tR9y+bd0kP1dlLqu85WzVZx/oNxSU1k3d3AyW29SGwwEjfFSn085ZdQRnT9kvY9YqpL1WFP7xm8WLntuudFw2W12espF4/ZYOauaLl40arTat++4NmKEaNM0bLgvsUluzF89+vla1lSFN0361PZz1N1u4iUjDxkzjN2Yo2v0JT18wNJ58ur4nIEvOo4h3cmG2es+He3oebxq2o4EEJzyPQFkZmMp4ObE8PJWsL7eWFaq2+dOM2YrSvPPuPaHUw8GWev2oOUansvtxjKt/uRYwpFY6aSlqdH4QxpvR7KclWqmxY7X3CrA36B96Hsrj0t/VkPlGuGRZMG7d7ngxz8R7V+ORG9e7hVj081zPWw/x/5lC1lTFd41Z7qjWAKBIFdcreXmRnemWaz/TPS5PLVji6XzjBnkI831UO3KCnL2u/JatWnansQr4kgAwalOkQDWbN0mlpDu+xcO1osdu1Vz5hrNiv0o7HeyG7C9xrt1tnuLFR+7yevGHeeshee4sc78Fcx0MbN/H9EK5nzsZuHLR77NmqrwuQN7PIzMnIVDxJSVSyeOOnqeFe8PE/8b92e7E5gNt1eI9h1F9/8bB5tEGyI52aH4gQccb3Rxqu72LdZUhcd1e8j23wzZ/smNjQBukhuiclbH75nanhcjydJFSd4J0Wrpzf6OnserZXckgOBUp0gA9dZWLv7P3xm7wJpLy7jgJz9t0ybAa9U3r4t+eE8/7vi5nPQW6+pk+5y8XdtiHpP5yrOsqQqXF3aONheRjMTNYXK6YMgAVxJJJ4KNjcZuzcrp07m1qooL7r1PbA5Z4f/V10BrS3jprc7eRqmN48eypip8fMsGl6Nzxu6VyX2hdlZubGxId9eLC1lTFc58JfqYOrOuFRe48jyJIAEEpzpFAsgcnvcr64zkxhC/2no01NU66r0VSV5NnP5CT5ei6zp2z8tgTVV4z6I5UR9vaW4yltfrq53XWrnNmMLgcETdzP59Q0nueZcis6d6wwbxb/Q73zV6uV186GFfN39Emtz7yVCtbZmt81eODiXs+7wfRRbPia2hudLjPrJ0Xmcuj+hsbl9zZ9xiiWza7vBKYiJIAMGpTpMAMoeWfUNTPy4+/EjMnmNeCAYCrhXyullP2NWc3LaJNTU8p7i9isuXxEaRPt18X4KMZuv0Ca58AE95VrW0iShZdF3nGx99ZHxZK/rt/dx08ZKvMUUKJ8r2rgYveOtVcaX15DGXI3NG1qcte8/aDueVH7xjqpk6tKvdMzF/PBaj7nJUcusukQCmj68S0RIiqiWiaiKaQ0RfNnnuF4hoK4k3wqMWf26nSgCZmVtu3uTG/PxOcUVhYi93GqgWH3V3R3FXcuXMqbg9/gpy9jnq25Zs2QucT6cIBsNfRjrLVc7Gc+e4dneWr33bopEjDS8cszcT2mjXVGxvbFuyyLGCVntdzn39ZdZUhS+fPpmkyNJHZAlBY138WfHxyH6U6z+z34/SDCSA6WMrEZ0iovuI6NdEVExES02e+zoRbaE0SQA7kxmh+bI3Ll1IfHAc+Xt3d8o+damg7laVUdgfbQNNzqqlolm0SxNb3Cbj25E5xfZztC1H6HobgaxY/dF7rKkKn87abuv8zjg1gzlyedLaxgLZfqqq7GqSIksv8kt/9U37v/9wA/vk/k1CApgevkvil/iziPv+QEQ6EX0jwbk/IqJSIvo6IQF0ndF89Wyeo+c5vsVe/Q6IJUfZS+/GxeIOj8v5nUfW+7NZKJHjWzY43oV55/o1sSGpl/MNSeluy9Rxtt8PLc1NRqLdVN+5rmy2mehhcqpM5CSa5ob6JEeYHjLkl/4of2vM2rt4rmjavsCdOfKxIAFMD32J6E67+/6KiAJE9Fic8/4bEZ0jokdC/40E0GVLhov5vcVH7S0nSYdWLxONijMmuRRZ1xLeCby1w2OyzUpx7iEfIkvs7J5djq/+GrsK+yV3V2E6MCam2Pjwra2qZE1VeHyPhztdPWnkTF+zV6eqyq66sqmhK5EjO50smW/PnCxa9qyy1rLHKiSA6WE4ERVGub+CiPrFOS+TiGZH/LeZBPBLJN4s8nYPIQGMSSYe+Xt3O3oev8d4pbq9oVYWO2dNbXN/a0sLj+/xSOhD0d8xUrEY9Z/DX7f9HJfkrsIhA1yMLD3lblzDmqrw5smfWT63s+/Wt7rB5fLpk6ypCs99/eUkR5Y+ZE/Rgpx9tp8j3Epoo4uRdYQEsHP7mMQvJ97tOxQ7AawkopdjPPfDJOoEIzeKmEkAR0WLAwlgdBvHfcSaqvCJrc7+IcsmrodWL3Mpsq5FbvRon0Rdv1AkdgA/16PTXbGR3NgBfk7OpR7t76i1VCDrbe3M8DZGyXXShGnJO2JFoujIQVPHy6vPbs0z7wrCE1fst22SO6/zk9xKCAlg5/Y1EglevNsXyd4S8EQSNYKBiBsTUZCI9sSJCVcALXBr/qpX3wjT1Z0boin3hKce4ZbmJuP+k9vFbrvVH77rY3TxuXFVyagqdvdpAAAgAElEQVQjHD/WxcjSk5MebIWHRKuVpe9aa7XiFavJiVebEdKJG3/zwzvRkzsaEQlgepCbQH4acd8DFH8TyNeJ6AftbkxErxHR31v42agBjCN7wSzHLTyY3VtK7qp0XTfac0TW5mybMZE1VeH9yxb6GF18xhSYpx6xfZXy4MrFUZfAoSMnCfepHVtYUxVe9+noJETm3I6ZU1hTFT640tyYup2zp3f6fx+djZMaUmn2gOdZUxUuO5/vYmQdIQFMH1uJ6AQR3UtEvyKiImrbBuYeIioIPR4LNoG47ODKJaKFx0z7LTyYmRcPf92VzSRdmdzduX/ZAmYWSeGsV/s66vnmhab6u+HdmxFXL63YNWcGPshNimwbZHWKkHHFrJO2FLL6RWDdp6NZU51PoelKjqxfFbpqOt72c8iuBVWlV1yMrCMkgOnjqyQSvjoiqiGiudS2vu+bJH7R98d5DiSALju2SQxS/3ziJ46eZ87AF1lTFS7NP+NSZF2PrGdaNHQgMzNXlYodjhN6PsrNjQ0+RxebHgwao+ru3rlt6zlkq5ujn691Obr0E2htDTfNrqm2dK684h9r7KDfrDYYXjR0YKf/gtTZ5O3axpoae/JQIrqu87huD7GmKlx3q8rl6NpCAghOIQGM40zWDtZUhdd89J6j55n+Qk/WVIVvllx0KbKu5+6d2zyuu/jDWnn1MuduWC3q/xz+brwwpY/qqBmvLCHAOC9z5BWYyquXLZ1nzM1dtzJJkTlTdOQga6rCS955w9TxM1582nFPu66m6LB4jZeOeNPW+W36Ndq84m8WEkBwCglgHMYfA4dF4RN6PsqaqnBNxU2XIuuaZBH8ztnTjSbdqbC8FW7fcd7W+V4VlacLOf7syplTls5b+/GomP0mO4NrRaF+kK8k7gfZ2tJiXHnuLOMDU8HV/NNi1/6gl2ydX1PpvObX9M9CAggOIQGM43Ke6KM1f/Artp+jtbnZ+EbYeNf+fEkI7/CUtyl91JSYcLBgyADWVIUvnThq63xZ61hWYK7/W1e3fJTo5Xb+wB5L5y0ZMVi0WTlsrs2K14z6xu4PcTAYf1b67evlrKkKT3z68U7bIqkzqrhSwpqq8LTnn7J1vpe9JJEAglNIAOO4XlzoeALD3Tu3RcLS7UHLRenQlq7rxs7fcd0fsvwB75eVo4expip8zmZfMDnP9VZ5qcuRpaeNEz4WbZc2r7d0nqzVvZp/OkmROaMHg0bj89qqyrjHluSd6NQ9DTuryCTbTuJ85cwpz153JIDgFBLAOG6VywHs9kcpufEcEKbrOl+/UNRpJ39EIxuK2+kD6WRTQ1cV3jW9wNJ5Rq1mqb1aTS/IcoJEV4Pzdm0V9ctjR3oTWJqIXLGxMw9a9pJc9l7ye0kiAQSnkADG4cbVO2OOq4m6HUhPOzJl/7Ylls+tr75jfCAFA/GX/UCQs7e3zTA/e7u1pcV4nRvqapMYnTPL3htianl7/7IFRr0sWDOxl5i5fOeGuZnLkcK9JM3t1HYCCSA4hQQwjpbmpohvg/ZqzeRSjJ3JBJAe9i2dz5qq8O55GZbPle1upvRRkxBZesrbKa5+rf3kfdPn1FZVsqYqPL7Hw526VGPz5M9YUxXO3bA67nGydVCi46CjzH7PsqYqfL240PK5spfkthkTkxBZW0gAwSkkgHHous4TnhI1NzWV9nbwFuTIJYEhLkcHqSJ34xrWVIU3T/7M8rll5/NZUxWePeD5JESWnopzD7GmdpwdHc+Ni8WsqQrPeKlXEiNzbt+SeaypCu+aMyPucXJDS+Gh/R5Flj4WvPUqa6rCJSePWT7Xy16SSADBKSSACcheWnZ7+BmNRS1cjYD0cjpru+1+ksVHD4tkZtigJESWnsoLz7GmKjyzf1/T51w6cVRcqR8yIImROSfnXydaYpR/t65fKPIosvRhbNran235XNlL8sj6Ve4H1g4SQHAKCWAC4Z5iebbON67+TNFcjgxSRVFujmjgO9xcA99Ishl5KjS87izu3LhuuQWKnDSzasyIJEfnzIVjR1hTFV445LWYx0SWrmDjkHVy09aJrdY3bXnZSxIJIDiFBDCBpe++JZZSDh+wdf6B5QtNLdlA+io9d0Y0lx34guVzjzpYPu6qmhsbjATI7JhAOVmms39Rq7h8SfSpe65HzGNulZeypio86Zkn0QPQhh0z7W/a8rKXJBJAcAoJYALhb3TbbJ0fbkmx0OXIIFVUXr3Mmqrw1Dgf2rEYG0jmWt9A0pUZOzmvXzN1fPbC2aypCmcvnJ3kyJxprKsLjxpraox6zKVQw3QnDey7MrmD2s6mLS97SSIBBKeQACawZeo4RzUdW6ZoYjfexjUuRwapou72LdFctttDlneYOmkh05XNGvAca6rCpefPmjpe/jv1onbLCV3XedIzT8ZtDH5i68ZQneBoj6NLD06uuk97rgdrqsKVV0rcD6wdJIDgFBLABLLmz2RNVXjfknm2zl/7yfue1YRA5xTZY66xzto4QCf1SF2Z0S/v4F5Tx6/+8F3WVIXPZO9McmTOLXizP2uqwheP50Z9fNec6aypCu9dPNfjyNLDmeydtjZt6cEgj+v2EGuqwnW3byUpujAkgOAUEsAEclYtZU1VeEfmFFvnLx8p5pIW5OxzOTJIJZN6PWFpSVJa8b79HYld2eehcXDHNq0zdfzCIa+xptqf1+wl+aXg2Kboo+5WfvCOSGazdngcWXowdt5baCPE3HZ5PtDakqTowpAAglNIABOQyykbx31k6/z5g19hTVX4ct5JlyODVGK3uay82mOnJ1lXJvuxma3py3ipF2uqwjcuFic5MueMKR+zpkV9PKNfb9ZUhcsL44+Lg+js9t68fb3c2HzjBSSA4BQSwATO7ctiTVV45ejhts7PePmZlPlggeSRzWUvWUzk5Ic5+rlZc/TztaypCn8+8ZOEx+q6zuN7PBxq+F7hQXTOyJY10f4mRe6A7swj7TozOX1nap9uls67VlQQ6j/ZJ0mRtYUEEJxCApiAbBAbr+9WPBOfFrsRq29anysJ6cNOc1ld13lCz0fx/rHh/IE9rKkKLx/5dsJjI5fuWluSv3TnlGx0ndmv43xxOdFk2vNP+RBZejDmb3d7kINB8/O3L57IFZ8Vb9v7rLAKCSA4hQQwgfLC85anCkitzc3GB0tT/d0kRAepws5mjuaG+nDLj8boLT8gOtl70cwyXlVZaN7ys6kxb7mhtibm+0I2Dl8xaqhP0aW+YDDAWrcHRSPt6jumz8vfu1tcmf3gnSRGF4YEEJxCApjArfIy1lSFJ/f+s+VzjfYf3R9CQ9YuTrZzyVm11PQ5d65fExMtej2exMjSkzENpOdjCf/tXTmTF2rU/aJH0Tk3/YWeoTq/823ul31HsxfM8imy9GCnncvxzetF2cGEj5MXWAQkgOAUEsAE6muqjW/bwYD55QBmZw2AIb3sWzLPcnNZOzNtQYgch5ao9Y6s813x/jCPonNuzUfvsaYqfHLbpjb3y8lF5/Zl+RRZepj3Rj/WVIWvnDll+pwDKxaJzTmzpycxsjAkgOAUEsAEgoGA7bmaTkaAQXrJtdFc1mhHMWxQEiNLX1P7djd1FefI+lUpMQYu0v5lYsTkthmTjPuCwYDRbqiq9IqP0aW+5aPettRHkpl556xprKkKH1ixOImRhSEBBKeQAJowufefQ533yyydV5x7iDVV4SXD30hSZJAq5M7NVWNGmD4nb9c21lSF1348KomRpa/5Jlvo7J6XIRon22z27oeiwwc7bE6rvFJilAxY2bwAHW0cP5Y1VeHjW8zX7G4Y92HUq7LJggQQnEICaMLM/n1YUxW+VlRg6TzZUX61xY7ykH6MHYIWdpMfXruCNVXhrdMnJDGy9GVM90jQEFlu0Dm+ZYNHkTlXU3GTNVXh8T0e5uaGemYO16BZ+ZIB0clpKgeWm5/hvuw9sfxeeGh/EiMLQwIITiEBNMHulADZi2zTpE+TFBmkiusXilhTFc54+RnT58gxhBjpZc+2GRNZUxU+tHpZ3OOWjBgsPrgPH/AoMud0XefZA55nTVW4KDeHmZnXfjyKNVXh3A2rfY4u9R1cucTyBKg5A19kTVW4NP9MEiMLQwIITiEBNGHl6OG2Cqtlnc6uOTOSFBmkCnnFZsJTj5jeEb5p0qesqQof3bgmydGlp4MrF7OmKrw9Y1Lc4zJfeTbqjtrObvfcDCNJaW1u5knPPMmaqvDNkot+h5byTm7fzJqq8PrPxpg+Z0ofVdRfll1NYmRhSADBKSSAJtjp4cbMvHN2aBlhxaIkRQapoqWp0XJPyFVjRrCmKpy/d3eSo0tP8SZmSHowyON7PBKaAnLTw+icu3TyGGuqwtNf6GmUm2T2e5b1YNDv0FJe4eEDrKkKL333LVPHB1pbPJ/AggQQnEICaIKdHm7MzJ9P/IQ1NfbQduha5BWa29fLTR1vd3wcCHIX/qxXY7fRuXvntjH1IdDa6mF0zgVaW4xRk/Jm9W8URGe1g0PtrUqjJtOrBBwJIDiFBNCEvaEeblnzZ1o6T17BObtnV5Iig1Qy69W+rKkKlxWcM3X8jJd6saZijrRdtVWVRiP2WD08rxUXWK7N7Ezk9Ak5gxYTh9xhdTrMjUsXWFMVnvFSryRHFoYEEJxCAmiC7BO2Zeo4S+ctGjqINVXhC8eOJCkySCVLhr/Rpmg/Hl3XeXyPh1lTFa6tqvQguvSjB4M84SmxvFt980bUYwpy9lla6uuMLp7I5cNrV3DtLbxP3NJQV2sk1oHWxPOhS0LL8QveetWD6AQkgOAUEkAT8nZttdWPTe7SKzufn6TIIJXIXZp5u7YmPLaxrs74AGptSfwBBNHNGfhCaKJDXtTHjSbQFhp0Q/oTtaGhL2AmEmt5JdbLFjxIAMEpJIAmWC0Ilqb26Rbqyu/NrjDo3Iy2JGuWJzz2Vnmp7RnUECZ7AZ7evT3q48b0Bgv93qBrmPHi06IE49KFhMfamfTjFBJAcAoJoAlyWPzc1182fY4eDLLW7UHWVIXv3rmdxOggVch5wFnzMhMeW3r+LGuqwrNfe96DyNLXzllTWVMV3r8seoK3OjRTN1aCCF3XApOTZJiZ9yyaw5qqcPYCa3XiTiABBKeQAJpws+Si0W7BrMglPDM1JJD+rDQGLzy0X1x1HvGmB5GlL7nEG+s1nzvoJdZUhS+fPulxZNDZrfzgHdOb+LZOG8+aqvDhdSs9iExAApg+vkpES4ioloiqiWgOEX3ZxHm/IKIsIqoPnbuPiP7aws9FAmiC3OI/rvtDprf4375ezpqq8KReTyQ5OkgV+fuyRF+6D95JeOzxLRtYUxXeOH6sB5Glr4IckUgvGTG4w2N6MMgTez5mqTUPdB1bpo5jTVX4yPpVCY9dE7qSnGjsoJuQAKaPrUR0iojuI6JfE1ExES1NcM4viKiGiIYS0feJ6NtEpBLRlyz8XCSAJrS2WG/yWV54LtSaIXYPMuhajJ2Cb/ZPeOxeC8vFENuNi8WsqQpPe65Hh8fC83QfidkmBrouWbKxe25GwmMXDR3ImqrwxeO5HkQmIAFMD98l8Uv8WcR9fyAinYi+Eee8w0T0gcOfjQTQpMm9/8yaqvCt8lJTxxcfPcyaqvDiYYOSHBmkCiu9wjZP0UxffYDYWpoajVrc+uo7bR6TkzTmvdHPp+igMzuxdSNrqsIbxn2Y8NiMfr1ZUxW+VlzgQWQCEsD00JeI7rS776+IKEBEj8U45+9I/OIHEFEOEd0kor0krh5agQTQJNnSpfT8WVPHn969nTVV4TUfvZfkyCBVWCklWDl6mBgDZ3H+NHQk/+1eOXOqzf3HNq0z/QEPXU/R4YOifOCdN+IeF9kypqaywqPokACmi+FEVBjl/goi6hfjnH8h8Yu/RUR9iOjHRDSBiJqJ6B/j/KwvkXizyNs9hATQFKOJ75GDpo632zwa0legtTXm1aj25OaEWP3rwLx1n45mTVX4+Ja2s7y3Z05GCxiI6VqRmBKT+cqzcY/za5wgEsDO7WMSv5x4t+9Q7ASwkohejvHcvwyd/1G7+08T0dg4MY2KFgcSwMSsNPFlZs5eOFu0BVg4O8mRQSqZ/kJP1lSFb5ZcjHuc1ZIDiG3/sgWsqQrvyJzS5v5l773Fmqrwuf3Z/gQGnVpNZYWp+b6ytMNKlwg3IAHs3L5GIsGLd/si2VsC/nsSv/in292/gsRu4lhwBdCmrdMniG3+a1eYOt7KDjLoOhYOeU0Ui5+IXSze3NhgbDpqbqj3MLr0dG5/doelPD0Y5Cl9VNONfqHrMXvF/sKxI6ypCi98+zUPo0MCmC7kJpCfRtz3AMXfBPIFIiqnjptATlLHq4LxoAbQpL2L54pdmfPNNfpcgwazEEX4SvK2mMfcvlYmWgg986SHkaUv2ZJpwlOPcGtzMzMzV5VeZU1VeOLTj3u6bAepRV6xj/clIW9naFToJ+97GBkSwHSylYhOENG9RPQrIiqitm1g7iGigtDj0iASbWCeJKJ/IJEMNhLRtyz8XCSAJlkd9bN42CDWVIWLjx5OcmSQSmTdWc6qpTGPuZp/mjVV4TkDX/QwsvSl67rxQS43cZ3OEpu0lr03xOfooDMzrtjHae9yYMViUWIwc0rMY5IBCWD6+CqJhK+ORFI3l9o2gv4miV/0/e3OG0pEpSQaQecQdgEnzdk9uywN+57Zvy9rqsLlheeSHBmkkoMrE39YnDuwhzVV4RWjhnoYWXrboH3YpiRje8Yk1lSF9y6e63Nk0JkZV+x3xq79lu+lnNWxv9QlAxJAcAoJoEkXT+SKOo8h5uo8JvV6AhMGoAMzy0VHQ1ebzYyMA3Nky5dVY0awrus8+zXRGqY495DfoUEntiNzCmuqwgdXLo55jF/lPkgAwSkkgCZdLy5kTVU4o1/vhMe2NDcZRfyNd+uSHxykDFkwvmjowJjHZC+YyZqq8J5FczyMLL3dKi8zdnSW5J0QNYE9H8UmG4grZ9VS1lSFt2dMinnM/Df7s6YqfOnkMQ8jQwIIziEBNKn65g1RNN7zMdZ1Pe6xNZXhEVOJjoWuRY4mi9cyYuP4saypCh/btN7DyNKfrMuVN8xZhkRkQ//VMRr667putGyqKr3qaWxIAMEpJIAmtWnN0dgQ91j5IW9m5Bd0LQ21Ncb7SO5IbU8mKkW5OR5Hl94uHs81Xvtx3R/iGxeL/Q4JOrnLeSdZUxWeO+ilqI831tUZ76mWpkZPY0MCCE4hATRJ13We2PMx1lSFq29ej3tsSWjG6II3+3sUHaQKXdeN+tBb5WVRj5n2XA9TzaLBujNZO3jj+LHYnQ+m3LlxPbzyE6UZtF9NoJmRAIJzSAAtyOz3rKmB3/n7slhTFV45ephHkUEqmfdGP9ZUhUtOHe/wWOSVZtSPAvgr0NrK47o9xJqqcN2tqg6PF+XmsKYqvHj4657HhgQQnEICaIHZ3n5yx+HnEz72KDJIJfFaS1ReKWFNVXhKH9WHyACgvZn9+7CmKlx2Pr/DY8c2rRf1pD78rUcCCE4hAbRg3acfsKYqfGrH5rjH7V0yjzVV4d3zMjyKDFLJrjnTWVMV3r9sQYfHjLFSJtsNAUByrXh/GGuqwvn7sjo8ljUv07cd+0gAwSkkgBbsnDWNNVXhAyti94RiDs8BPrxupUeRQSrJ3bA6Zp+/41s2sqYqvP6zMT5EBgDtbZsxMeb0nnWfjmZNVfjktk2ex4UEEJxCAmhBzurEPaGYmVeNGcGaqvDZPbs8igxSSUHOftZUhZeMGNzhMXlFIXvBLB8iA4D2Dq1Zzpqq8Jap4zo8Nmfgi6ypCl/OO+l5XEgAwSkkgBbInlBrxo6Me9z8wa/ELPIHuFlykTVV4al9u3foEym/POTt2uZTdAAQqfDwgVDz9kFt7g+0tvC47mKDSO2tSs/jQgIITiEBtODSiaOivcuQAXGPmxpq41FxpcSbwCCltDQ3sdbtQdZUheur77R5TO40j1ZwDgDeqyq7KlrB9Hq8TSuYyquXWVMVntz7SV8a/iMBBKeQAFogr9zE6/kUaG0x2njU11R7GB2kklmv9mVNVfhq/mnjvuaGeuO901BX62N0ACAFAwGe8NQjHXrAFh7a71sLGGYkgOAcEkAL6muqjQ/oQGtr1GMwBg7MWDN2ZIcd5XLetB9NZQEgtgWheb8Xjh0x7pM14VunjfclJiSA4BQSQAv0YJDH9xDfBGsqK6Iec62ogDVV4cx+z3ocHaSSPYvmdGgVdHbPLtZUhVeMGupjZADQ3qZJn3bo7LBh3IesqQrnbljtS0xIAMEpJIAWZb4SfxqIn53hIXWcyd7Jmqrw8pFvG/ftmjMD/SMBOqHcjWtYUxVe9+kHzCxGOs548WnWVIVLz53xJSYkgOAUEkCLlrzzBmuqwkW5OVEfP7ltU6iP2wceRwapxCgs7/kYB1pbmJl54duvsaYqXJCzz+foACDSteKC8M79YJCrb94Ilfo8zC3NTb7EhAQQnEICaNEG7cO4jT/3Lp7Lmqpw1rxMjyODVKLrurFb/FpRATc3NoRbSlR531ICAGILtLbyxF6Ps6YqXHmlhM/tz/Z9pQcJIDiFBNAiuUy3f9nCqI9/PvET1lSFj36+1uPIINXIKQJHN67hy6dPonYUoBNb+cE7rKkKH9u0jrdM0Xxv2I4EEJxCAmjR4XUrY3aFZ2ZeOuJN1lSFCw/t9zgySDVHP19rbPrYPTcj7vsKAPwlxzRm9OvNk3o9Ier/zp/1LR4kgOAUEkCLzh/Yw5qq8LL3hkR9POPlZ+JuEgGQaipuGm2F5O3i8Vy/wwKAKBpqa3hy7yeNf6vz3+zfpjG015AAglNIAC2SxcAZ/Xp3eCzQ2mpMeLh757b3wUHK2Tjh4/AHyuBXfP1AAYD4zu7ZxROeeoSn9u3O5YXnfY0FCSA4hQTQIqMZdLcHubWlpc1jcmfYhJ6P4oMcTGmoq+UtUzRe+/Eovn2tzO9wACCB5oZ6bmlq9DsMJIDgGBJAi3RdN+o/bpW3/cC+mn+aNVXh2QOe9yk6AADoCpAAglNIAG2YHxoLdOnksTb35+3aypqq8OoP3/UpMgAA6AqQAIJTSABtkO07Tm7f3Ob+7IWzMckBAACSDgkgOIUE0IbsBbOiNnte+/GoqIkhAACAm5AAglNIAG04nbWdNVXhlaOHt7l/9mvPs6YqfOXMKZ8iAwCArgAJIDiFBNCG68WFrKkKT3+hp3FfoLUlPMrrFkZ5AQBA8iABBKeQANrQ0tho9Purr77DzMyVVy+zpio86ZknWdd1nyMEAIB0hgQQnEICaNPsAW2Xe+WycKwJIQAAAG5BAghOIQG0af1nH7CmKnxk/SpmZt6eOZk1VeG9i+f6HBkAAKQ7JIDgFBJAm45vXs+aqvCqMSOYmXn+4FdYUxUuys3xOTIAAEh3SADBKSSANsmav4k9H+O627cwAxgAADyDBDB9fJWIlhBRLRFVE9EcIvpygnO+TkSLiOgGEdUT0QkiesLiz0UCaJOu6zzjxadZUxXeMO5D1lSF57/Z3++wAACgC0ACmD62EtEpIrqPiH5NRMVEtDTBOTuIKJeI7iWi/0tEI4goSEQ/tvBzkQA6sHteBmuqYtxkPSAAAEAyIQFMD98l8Uv8WcR9fyAinYi+Eee8u0TUq919t4joeQs/GwmgAzWVFTy1b3fWVIUzX3mWm+rr/Q4JAAC6ACSA6aEvEd1pd99fEVGAiB6Lc94OItpEYvn4L4ioO4ml4H+Ic86XSLxZ5O0eQgLoSE3FTT6TvdPoBwgAAJBsSADTw3AiKoxyfwUR9Ytz3t8S0XYSb4BWIqohogcS/KxRoePb3JAAAgAApA4kgJ3bxxQl2Wp3+w7FTgAriejlOM8/hYiOENF/ENGPiGgkiQ0kP4xzDq4AAgAApDgkgJ3b10gkePFuXyR7S8DfIvGL/367+3cRUYaFGFEDCAAAkGKQAKYHuQnkpxH3PUDxN4H8MHTOd9vdv52IZlr42UgAAQAAUgwSwPSxlUQfv3uJ6FdEVERt28DcQ0QFoceJiP4LiVYx+0L3fYuIBpNIGv9k4eciAQQAAEgxSADTx1dJJHx1JDZzzKW2jaC/SeIXfX/Eff9IRGuI6CaJ3b951LEtTCJIAAEAAFIMEkBwCgkgAABAikECCE4hAQQAAEgxSADBKSSAAAAAKQYJIDiFBBAAACDFIAEEp5AAAgAApBgkgOAUEkAAAIAUgwQQnEICCAAAkGKQAIJTSAABAABSDBJAcOorRMSlpaVcU1ODG2644YYbbrilwK20tBQJIDhyD4k3EG644YYbbrjhlnq3ewjAhi+QePN8JQk3mVwm6/lxw+uM1zn9bnid8Tqn0y3Zr/M9JD7HATqVr5B443/F70DSHF5nb+B19gZeZ2/gdfYGXmfokvDG9wZeZ2/gdfYGXmdv4HX2Bl5n6JLwxvcGXmdv4HX2Bl5nb+B19gZeZ+iSvkREo0L/F5IHr7M38Dp7A6+zN/A6ewOvMwAAAAAAAAAAAAAAAAAAAAAAAAAAAAAAAAB0Pv2J6DIRNRHRESK619do0tNviOhzIrpGos3Ao/6Gk7aGEdFRIqojogoiWk9E3/Y1ovTUj4hOE1Ft6HaIiP7oa0RdwzASfz8m+h1ImhlFHUe2FfgZEIAXuhFRMxH1IaLvEdFMIrpDRH/nZ1Bp6I9ENIaIHickgMm0jYieJaLvE9GPiGgzEV0hov/uY0zp6CEi+hMR/b/Q7UMiaiHxukNy/JyISogoj5AAum0UEZ0loq9H3P6HnwEBeOEIEU2N+O+/IKJyIhrqTzhdAhJA73yNxOv9G78D6QJuE9FzfgeRpr5MREVE9J9EtIeQALptFBGd8jsIAC99kYgC1DEZWUBEG7wPp8tAAuidfyDxev/A70DS2F8SUXcSKwnf8zmWdLWAiCaE/v89hATQbaOIqJ5Eic4lIlpCRMUJa/YAAAJPSURBVP/Hz4AAku0bJD4cf9Hu/k9JXBmE5EAC6I2/IKJNRHTA70DS1A+J6C6JL5HVJJaEwX3diegMEf3X0H/vISSAbvsjEf2ZiP6JiH5PRDkkSkf+xs+gAJIpVgL4GREd9j6cLgMJoDdmkNjc9L98jiNdfZHEFdafEdFYIqokXAF02/8mopsk6lmlPYQEMNn+lohqCCUNkMawBOwPJIDJN5WISono7/0OpAvZRUSZfgeRZh4l8fciEHFjItJD//9f+hda2jtK4osNQNo6QkRTIv77L4iojLAJJJmQACbPF0gkf+VE9I8+x9LVZBHRfL+DSDN/Q6J+NfJ2lIgWEepak+nLJDY1veZ3IADJJNvA9Cai75L4Bn+HiP6nn0GloS8T0T+HbkxEr4f+fxQau2s6iXq031Lblg5/7WdQaegjIvpXIvomiVrAsSSuSv3Ox5i6ij2EJWC3aST+ZnyTiH5JRDtJlDR8zceYADzxKomC12YSVwTv8zectHQ/dWw0yoQrJm6L9hozid6A4J45JOorm0k03N5FSP68soeQALptOYkdwM0kVsCWE9G3fI0IAAAAAAAAAAAAAAAAAAAAAAAAAAAAAAAAAAAAAAAAAAAAAAAAAAAAAAAAAAAAAAAAAAAAAAAAAAAAAAAAAAAAAAAAAAAAAAAAAAAAAAAAAAAAAAAAAAAAAAAAAAAAAAAAAAAAAAAAAAAAAAAAAAAAAAAAAAAAAAAAAAAAAAAAAAAAAAAAAAAAAAAAAAAAAAAAAAAAAAAAAAAAAAAAAADAJ/8f7VnkVJommt0AAAAASUVORK5CYII=\" width=\"640\">"
      ],
      "text/plain": [
       "<IPython.core.display.HTML object>"
      ]
     },
     "metadata": {},
     "output_type": "display_data"
    }
   ],
   "source": [
    "plt.figure()\n",
    "plt.plot(sys.times, traj);"
   ]
  },
  {
   "cell_type": "markdown",
   "metadata": {},
   "source": [
    "# Make a better plot with more info"
   ]
  },
  {
   "cell_type": "code",
   "execution_count": 60,
   "metadata": {},
   "outputs": [
    {
     "data": {
      "application/javascript": [
       "/* Put everything inside the global mpl namespace */\n",
       "window.mpl = {};\n",
       "\n",
       "\n",
       "mpl.get_websocket_type = function() {\n",
       "    if (typeof(WebSocket) !== 'undefined') {\n",
       "        return WebSocket;\n",
       "    } else if (typeof(MozWebSocket) !== 'undefined') {\n",
       "        return MozWebSocket;\n",
       "    } else {\n",
       "        alert('Your browser does not have WebSocket support.' +\n",
       "              'Please try Chrome, Safari or Firefox ≥ 6. ' +\n",
       "              'Firefox 4 and 5 are also supported but you ' +\n",
       "              'have to enable WebSockets in about:config.');\n",
       "    };\n",
       "}\n",
       "\n",
       "mpl.figure = function(figure_id, websocket, ondownload, parent_element) {\n",
       "    this.id = figure_id;\n",
       "\n",
       "    this.ws = websocket;\n",
       "\n",
       "    this.supports_binary = (this.ws.binaryType != undefined);\n",
       "\n",
       "    if (!this.supports_binary) {\n",
       "        var warnings = document.getElementById(\"mpl-warnings\");\n",
       "        if (warnings) {\n",
       "            warnings.style.display = 'block';\n",
       "            warnings.textContent = (\n",
       "                \"This browser does not support binary websocket messages. \" +\n",
       "                    \"Performance may be slow.\");\n",
       "        }\n",
       "    }\n",
       "\n",
       "    this.imageObj = new Image();\n",
       "\n",
       "    this.context = undefined;\n",
       "    this.message = undefined;\n",
       "    this.canvas = undefined;\n",
       "    this.rubberband_canvas = undefined;\n",
       "    this.rubberband_context = undefined;\n",
       "    this.format_dropdown = undefined;\n",
       "\n",
       "    this.image_mode = 'full';\n",
       "\n",
       "    this.root = $('<div/>');\n",
       "    this._root_extra_style(this.root)\n",
       "    this.root.attr('style', 'display: inline-block');\n",
       "\n",
       "    $(parent_element).append(this.root);\n",
       "\n",
       "    this._init_header(this);\n",
       "    this._init_canvas(this);\n",
       "    this._init_toolbar(this);\n",
       "\n",
       "    var fig = this;\n",
       "\n",
       "    this.waiting = false;\n",
       "\n",
       "    this.ws.onopen =  function () {\n",
       "            fig.send_message(\"supports_binary\", {value: fig.supports_binary});\n",
       "            fig.send_message(\"send_image_mode\", {});\n",
       "            if (mpl.ratio != 1) {\n",
       "                fig.send_message(\"set_dpi_ratio\", {'dpi_ratio': mpl.ratio});\n",
       "            }\n",
       "            fig.send_message(\"refresh\", {});\n",
       "        }\n",
       "\n",
       "    this.imageObj.onload = function() {\n",
       "            if (fig.image_mode == 'full') {\n",
       "                // Full images could contain transparency (where diff images\n",
       "                // almost always do), so we need to clear the canvas so that\n",
       "                // there is no ghosting.\n",
       "                fig.context.clearRect(0, 0, fig.canvas.width, fig.canvas.height);\n",
       "            }\n",
       "            fig.context.drawImage(fig.imageObj, 0, 0);\n",
       "        };\n",
       "\n",
       "    this.imageObj.onunload = function() {\n",
       "        fig.ws.close();\n",
       "    }\n",
       "\n",
       "    this.ws.onmessage = this._make_on_message_function(this);\n",
       "\n",
       "    this.ondownload = ondownload;\n",
       "}\n",
       "\n",
       "mpl.figure.prototype._init_header = function() {\n",
       "    var titlebar = $(\n",
       "        '<div class=\"ui-dialog-titlebar ui-widget-header ui-corner-all ' +\n",
       "        'ui-helper-clearfix\"/>');\n",
       "    var titletext = $(\n",
       "        '<div class=\"ui-dialog-title\" style=\"width: 100%; ' +\n",
       "        'text-align: center; padding: 3px;\"/>');\n",
       "    titlebar.append(titletext)\n",
       "    this.root.append(titlebar);\n",
       "    this.header = titletext[0];\n",
       "}\n",
       "\n",
       "\n",
       "\n",
       "mpl.figure.prototype._canvas_extra_style = function(canvas_div) {\n",
       "\n",
       "}\n",
       "\n",
       "\n",
       "mpl.figure.prototype._root_extra_style = function(canvas_div) {\n",
       "\n",
       "}\n",
       "\n",
       "mpl.figure.prototype._init_canvas = function() {\n",
       "    var fig = this;\n",
       "\n",
       "    var canvas_div = $('<div/>');\n",
       "\n",
       "    canvas_div.attr('style', 'position: relative; clear: both; outline: 0');\n",
       "\n",
       "    function canvas_keyboard_event(event) {\n",
       "        return fig.key_event(event, event['data']);\n",
       "    }\n",
       "\n",
       "    canvas_div.keydown('key_press', canvas_keyboard_event);\n",
       "    canvas_div.keyup('key_release', canvas_keyboard_event);\n",
       "    this.canvas_div = canvas_div\n",
       "    this._canvas_extra_style(canvas_div)\n",
       "    this.root.append(canvas_div);\n",
       "\n",
       "    var canvas = $('<canvas/>');\n",
       "    canvas.addClass('mpl-canvas');\n",
       "    canvas.attr('style', \"left: 0; top: 0; z-index: 0; outline: 0\")\n",
       "\n",
       "    this.canvas = canvas[0];\n",
       "    this.context = canvas[0].getContext(\"2d\");\n",
       "\n",
       "    var backingStore = this.context.backingStorePixelRatio ||\n",
       "\tthis.context.webkitBackingStorePixelRatio ||\n",
       "\tthis.context.mozBackingStorePixelRatio ||\n",
       "\tthis.context.msBackingStorePixelRatio ||\n",
       "\tthis.context.oBackingStorePixelRatio ||\n",
       "\tthis.context.backingStorePixelRatio || 1;\n",
       "\n",
       "    mpl.ratio = (window.devicePixelRatio || 1) / backingStore;\n",
       "\n",
       "    var rubberband = $('<canvas/>');\n",
       "    rubberband.attr('style', \"position: absolute; left: 0; top: 0; z-index: 1;\")\n",
       "\n",
       "    var pass_mouse_events = true;\n",
       "\n",
       "    canvas_div.resizable({\n",
       "        start: function(event, ui) {\n",
       "            pass_mouse_events = false;\n",
       "        },\n",
       "        resize: function(event, ui) {\n",
       "            fig.request_resize(ui.size.width, ui.size.height);\n",
       "        },\n",
       "        stop: function(event, ui) {\n",
       "            pass_mouse_events = true;\n",
       "            fig.request_resize(ui.size.width, ui.size.height);\n",
       "        },\n",
       "    });\n",
       "\n",
       "    function mouse_event_fn(event) {\n",
       "        if (pass_mouse_events)\n",
       "            return fig.mouse_event(event, event['data']);\n",
       "    }\n",
       "\n",
       "    rubberband.mousedown('button_press', mouse_event_fn);\n",
       "    rubberband.mouseup('button_release', mouse_event_fn);\n",
       "    // Throttle sequential mouse events to 1 every 20ms.\n",
       "    rubberband.mousemove('motion_notify', mouse_event_fn);\n",
       "\n",
       "    rubberband.mouseenter('figure_enter', mouse_event_fn);\n",
       "    rubberband.mouseleave('figure_leave', mouse_event_fn);\n",
       "\n",
       "    canvas_div.on(\"wheel\", function (event) {\n",
       "        event = event.originalEvent;\n",
       "        event['data'] = 'scroll'\n",
       "        if (event.deltaY < 0) {\n",
       "            event.step = 1;\n",
       "        } else {\n",
       "            event.step = -1;\n",
       "        }\n",
       "        mouse_event_fn(event);\n",
       "    });\n",
       "\n",
       "    canvas_div.append(canvas);\n",
       "    canvas_div.append(rubberband);\n",
       "\n",
       "    this.rubberband = rubberband;\n",
       "    this.rubberband_canvas = rubberband[0];\n",
       "    this.rubberband_context = rubberband[0].getContext(\"2d\");\n",
       "    this.rubberband_context.strokeStyle = \"#000000\";\n",
       "\n",
       "    this._resize_canvas = function(width, height) {\n",
       "        // Keep the size of the canvas, canvas container, and rubber band\n",
       "        // canvas in synch.\n",
       "        canvas_div.css('width', width)\n",
       "        canvas_div.css('height', height)\n",
       "\n",
       "        canvas.attr('width', width * mpl.ratio);\n",
       "        canvas.attr('height', height * mpl.ratio);\n",
       "        canvas.attr('style', 'width: ' + width + 'px; height: ' + height + 'px;');\n",
       "\n",
       "        rubberband.attr('width', width);\n",
       "        rubberband.attr('height', height);\n",
       "    }\n",
       "\n",
       "    // Set the figure to an initial 600x600px, this will subsequently be updated\n",
       "    // upon first draw.\n",
       "    this._resize_canvas(600, 600);\n",
       "\n",
       "    // Disable right mouse context menu.\n",
       "    $(this.rubberband_canvas).bind(\"contextmenu\",function(e){\n",
       "        return false;\n",
       "    });\n",
       "\n",
       "    function set_focus () {\n",
       "        canvas.focus();\n",
       "        canvas_div.focus();\n",
       "    }\n",
       "\n",
       "    window.setTimeout(set_focus, 100);\n",
       "}\n",
       "\n",
       "mpl.figure.prototype._init_toolbar = function() {\n",
       "    var fig = this;\n",
       "\n",
       "    var nav_element = $('<div/>')\n",
       "    nav_element.attr('style', 'width: 100%');\n",
       "    this.root.append(nav_element);\n",
       "\n",
       "    // Define a callback function for later on.\n",
       "    function toolbar_event(event) {\n",
       "        return fig.toolbar_button_onclick(event['data']);\n",
       "    }\n",
       "    function toolbar_mouse_event(event) {\n",
       "        return fig.toolbar_button_onmouseover(event['data']);\n",
       "    }\n",
       "\n",
       "    for(var toolbar_ind in mpl.toolbar_items) {\n",
       "        var name = mpl.toolbar_items[toolbar_ind][0];\n",
       "        var tooltip = mpl.toolbar_items[toolbar_ind][1];\n",
       "        var image = mpl.toolbar_items[toolbar_ind][2];\n",
       "        var method_name = mpl.toolbar_items[toolbar_ind][3];\n",
       "\n",
       "        if (!name) {\n",
       "            // put a spacer in here.\n",
       "            continue;\n",
       "        }\n",
       "        var button = $('<button/>');\n",
       "        button.addClass('ui-button ui-widget ui-state-default ui-corner-all ' +\n",
       "                        'ui-button-icon-only');\n",
       "        button.attr('role', 'button');\n",
       "        button.attr('aria-disabled', 'false');\n",
       "        button.click(method_name, toolbar_event);\n",
       "        button.mouseover(tooltip, toolbar_mouse_event);\n",
       "\n",
       "        var icon_img = $('<span/>');\n",
       "        icon_img.addClass('ui-button-icon-primary ui-icon');\n",
       "        icon_img.addClass(image);\n",
       "        icon_img.addClass('ui-corner-all');\n",
       "\n",
       "        var tooltip_span = $('<span/>');\n",
       "        tooltip_span.addClass('ui-button-text');\n",
       "        tooltip_span.html(tooltip);\n",
       "\n",
       "        button.append(icon_img);\n",
       "        button.append(tooltip_span);\n",
       "\n",
       "        nav_element.append(button);\n",
       "    }\n",
       "\n",
       "    var fmt_picker_span = $('<span/>');\n",
       "\n",
       "    var fmt_picker = $('<select/>');\n",
       "    fmt_picker.addClass('mpl-toolbar-option ui-widget ui-widget-content');\n",
       "    fmt_picker_span.append(fmt_picker);\n",
       "    nav_element.append(fmt_picker_span);\n",
       "    this.format_dropdown = fmt_picker[0];\n",
       "\n",
       "    for (var ind in mpl.extensions) {\n",
       "        var fmt = mpl.extensions[ind];\n",
       "        var option = $(\n",
       "            '<option/>', {selected: fmt === mpl.default_extension}).html(fmt);\n",
       "        fmt_picker.append(option)\n",
       "    }\n",
       "\n",
       "    // Add hover states to the ui-buttons\n",
       "    $( \".ui-button\" ).hover(\n",
       "        function() { $(this).addClass(\"ui-state-hover\");},\n",
       "        function() { $(this).removeClass(\"ui-state-hover\");}\n",
       "    );\n",
       "\n",
       "    var status_bar = $('<span class=\"mpl-message\"/>');\n",
       "    nav_element.append(status_bar);\n",
       "    this.message = status_bar[0];\n",
       "}\n",
       "\n",
       "mpl.figure.prototype.request_resize = function(x_pixels, y_pixels) {\n",
       "    // Request matplotlib to resize the figure. Matplotlib will then trigger a resize in the client,\n",
       "    // which will in turn request a refresh of the image.\n",
       "    this.send_message('resize', {'width': x_pixels, 'height': y_pixels});\n",
       "}\n",
       "\n",
       "mpl.figure.prototype.send_message = function(type, properties) {\n",
       "    properties['type'] = type;\n",
       "    properties['figure_id'] = this.id;\n",
       "    this.ws.send(JSON.stringify(properties));\n",
       "}\n",
       "\n",
       "mpl.figure.prototype.send_draw_message = function() {\n",
       "    if (!this.waiting) {\n",
       "        this.waiting = true;\n",
       "        this.ws.send(JSON.stringify({type: \"draw\", figure_id: this.id}));\n",
       "    }\n",
       "}\n",
       "\n",
       "\n",
       "mpl.figure.prototype.handle_save = function(fig, msg) {\n",
       "    var format_dropdown = fig.format_dropdown;\n",
       "    var format = format_dropdown.options[format_dropdown.selectedIndex].value;\n",
       "    fig.ondownload(fig, format);\n",
       "}\n",
       "\n",
       "\n",
       "mpl.figure.prototype.handle_resize = function(fig, msg) {\n",
       "    var size = msg['size'];\n",
       "    if (size[0] != fig.canvas.width || size[1] != fig.canvas.height) {\n",
       "        fig._resize_canvas(size[0], size[1]);\n",
       "        fig.send_message(\"refresh\", {});\n",
       "    };\n",
       "}\n",
       "\n",
       "mpl.figure.prototype.handle_rubberband = function(fig, msg) {\n",
       "    var x0 = msg['x0'] / mpl.ratio;\n",
       "    var y0 = (fig.canvas.height - msg['y0']) / mpl.ratio;\n",
       "    var x1 = msg['x1'] / mpl.ratio;\n",
       "    var y1 = (fig.canvas.height - msg['y1']) / mpl.ratio;\n",
       "    x0 = Math.floor(x0) + 0.5;\n",
       "    y0 = Math.floor(y0) + 0.5;\n",
       "    x1 = Math.floor(x1) + 0.5;\n",
       "    y1 = Math.floor(y1) + 0.5;\n",
       "    var min_x = Math.min(x0, x1);\n",
       "    var min_y = Math.min(y0, y1);\n",
       "    var width = Math.abs(x1 - x0);\n",
       "    var height = Math.abs(y1 - y0);\n",
       "\n",
       "    fig.rubberband_context.clearRect(\n",
       "        0, 0, fig.canvas.width, fig.canvas.height);\n",
       "\n",
       "    fig.rubberband_context.strokeRect(min_x, min_y, width, height);\n",
       "}\n",
       "\n",
       "mpl.figure.prototype.handle_figure_label = function(fig, msg) {\n",
       "    // Updates the figure title.\n",
       "    fig.header.textContent = msg['label'];\n",
       "}\n",
       "\n",
       "mpl.figure.prototype.handle_cursor = function(fig, msg) {\n",
       "    var cursor = msg['cursor'];\n",
       "    switch(cursor)\n",
       "    {\n",
       "    case 0:\n",
       "        cursor = 'pointer';\n",
       "        break;\n",
       "    case 1:\n",
       "        cursor = 'default';\n",
       "        break;\n",
       "    case 2:\n",
       "        cursor = 'crosshair';\n",
       "        break;\n",
       "    case 3:\n",
       "        cursor = 'move';\n",
       "        break;\n",
       "    }\n",
       "    fig.rubberband_canvas.style.cursor = cursor;\n",
       "}\n",
       "\n",
       "mpl.figure.prototype.handle_message = function(fig, msg) {\n",
       "    fig.message.textContent = msg['message'];\n",
       "}\n",
       "\n",
       "mpl.figure.prototype.handle_draw = function(fig, msg) {\n",
       "    // Request the server to send over a new figure.\n",
       "    fig.send_draw_message();\n",
       "}\n",
       "\n",
       "mpl.figure.prototype.handle_image_mode = function(fig, msg) {\n",
       "    fig.image_mode = msg['mode'];\n",
       "}\n",
       "\n",
       "mpl.figure.prototype.updated_canvas_event = function() {\n",
       "    // Called whenever the canvas gets updated.\n",
       "    this.send_message(\"ack\", {});\n",
       "}\n",
       "\n",
       "// A function to construct a web socket function for onmessage handling.\n",
       "// Called in the figure constructor.\n",
       "mpl.figure.prototype._make_on_message_function = function(fig) {\n",
       "    return function socket_on_message(evt) {\n",
       "        if (evt.data instanceof Blob) {\n",
       "            /* FIXME: We get \"Resource interpreted as Image but\n",
       "             * transferred with MIME type text/plain:\" errors on\n",
       "             * Chrome.  But how to set the MIME type?  It doesn't seem\n",
       "             * to be part of the websocket stream */\n",
       "            evt.data.type = \"image/png\";\n",
       "\n",
       "            /* Free the memory for the previous frames */\n",
       "            if (fig.imageObj.src) {\n",
       "                (window.URL || window.webkitURL).revokeObjectURL(\n",
       "                    fig.imageObj.src);\n",
       "            }\n",
       "\n",
       "            fig.imageObj.src = (window.URL || window.webkitURL).createObjectURL(\n",
       "                evt.data);\n",
       "            fig.updated_canvas_event();\n",
       "            fig.waiting = false;\n",
       "            return;\n",
       "        }\n",
       "        else if (typeof evt.data === 'string' && evt.data.slice(0, 21) == \"data:image/png;base64\") {\n",
       "            fig.imageObj.src = evt.data;\n",
       "            fig.updated_canvas_event();\n",
       "            fig.waiting = false;\n",
       "            return;\n",
       "        }\n",
       "\n",
       "        var msg = JSON.parse(evt.data);\n",
       "        var msg_type = msg['type'];\n",
       "\n",
       "        // Call the  \"handle_{type}\" callback, which takes\n",
       "        // the figure and JSON message as its only arguments.\n",
       "        try {\n",
       "            var callback = fig[\"handle_\" + msg_type];\n",
       "        } catch (e) {\n",
       "            console.log(\"No handler for the '\" + msg_type + \"' message type: \", msg);\n",
       "            return;\n",
       "        }\n",
       "\n",
       "        if (callback) {\n",
       "            try {\n",
       "                // console.log(\"Handling '\" + msg_type + \"' message: \", msg);\n",
       "                callback(fig, msg);\n",
       "            } catch (e) {\n",
       "                console.log(\"Exception inside the 'handler_\" + msg_type + \"' callback:\", e, e.stack, msg);\n",
       "            }\n",
       "        }\n",
       "    };\n",
       "}\n",
       "\n",
       "// from http://stackoverflow.com/questions/1114465/getting-mouse-location-in-canvas\n",
       "mpl.findpos = function(e) {\n",
       "    //this section is from http://www.quirksmode.org/js/events_properties.html\n",
       "    var targ;\n",
       "    if (!e)\n",
       "        e = window.event;\n",
       "    if (e.target)\n",
       "        targ = e.target;\n",
       "    else if (e.srcElement)\n",
       "        targ = e.srcElement;\n",
       "    if (targ.nodeType == 3) // defeat Safari bug\n",
       "        targ = targ.parentNode;\n",
       "\n",
       "    // jQuery normalizes the pageX and pageY\n",
       "    // pageX,Y are the mouse positions relative to the document\n",
       "    // offset() returns the position of the element relative to the document\n",
       "    var x = e.pageX - $(targ).offset().left;\n",
       "    var y = e.pageY - $(targ).offset().top;\n",
       "\n",
       "    return {\"x\": x, \"y\": y};\n",
       "};\n",
       "\n",
       "/*\n",
       " * return a copy of an object with only non-object keys\n",
       " * we need this to avoid circular references\n",
       " * http://stackoverflow.com/a/24161582/3208463\n",
       " */\n",
       "function simpleKeys (original) {\n",
       "  return Object.keys(original).reduce(function (obj, key) {\n",
       "    if (typeof original[key] !== 'object')\n",
       "        obj[key] = original[key]\n",
       "    return obj;\n",
       "  }, {});\n",
       "}\n",
       "\n",
       "mpl.figure.prototype.mouse_event = function(event, name) {\n",
       "    var canvas_pos = mpl.findpos(event)\n",
       "\n",
       "    if (name === 'button_press')\n",
       "    {\n",
       "        this.canvas.focus();\n",
       "        this.canvas_div.focus();\n",
       "    }\n",
       "\n",
       "    var x = canvas_pos.x * mpl.ratio;\n",
       "    var y = canvas_pos.y * mpl.ratio;\n",
       "\n",
       "    this.send_message(name, {x: x, y: y, button: event.button,\n",
       "                             step: event.step,\n",
       "                             guiEvent: simpleKeys(event)});\n",
       "\n",
       "    /* This prevents the web browser from automatically changing to\n",
       "     * the text insertion cursor when the button is pressed.  We want\n",
       "     * to control all of the cursor setting manually through the\n",
       "     * 'cursor' event from matplotlib */\n",
       "    event.preventDefault();\n",
       "    return false;\n",
       "}\n",
       "\n",
       "mpl.figure.prototype._key_event_extra = function(event, name) {\n",
       "    // Handle any extra behaviour associated with a key event\n",
       "}\n",
       "\n",
       "mpl.figure.prototype.key_event = function(event, name) {\n",
       "\n",
       "    // Prevent repeat events\n",
       "    if (name == 'key_press')\n",
       "    {\n",
       "        if (event.which === this._key)\n",
       "            return;\n",
       "        else\n",
       "            this._key = event.which;\n",
       "    }\n",
       "    if (name == 'key_release')\n",
       "        this._key = null;\n",
       "\n",
       "    var value = '';\n",
       "    if (event.ctrlKey && event.which != 17)\n",
       "        value += \"ctrl+\";\n",
       "    if (event.altKey && event.which != 18)\n",
       "        value += \"alt+\";\n",
       "    if (event.shiftKey && event.which != 16)\n",
       "        value += \"shift+\";\n",
       "\n",
       "    value += 'k';\n",
       "    value += event.which.toString();\n",
       "\n",
       "    this._key_event_extra(event, name);\n",
       "\n",
       "    this.send_message(name, {key: value,\n",
       "                             guiEvent: simpleKeys(event)});\n",
       "    return false;\n",
       "}\n",
       "\n",
       "mpl.figure.prototype.toolbar_button_onclick = function(name) {\n",
       "    if (name == 'download') {\n",
       "        this.handle_save(this, null);\n",
       "    } else {\n",
       "        this.send_message(\"toolbar_button\", {name: name});\n",
       "    }\n",
       "};\n",
       "\n",
       "mpl.figure.prototype.toolbar_button_onmouseover = function(tooltip) {\n",
       "    this.message.textContent = tooltip;\n",
       "};\n",
       "mpl.toolbar_items = [[\"Home\", \"Reset original view\", \"fa fa-home icon-home\", \"home\"], [\"Back\", \"Back to  previous view\", \"fa fa-arrow-left icon-arrow-left\", \"back\"], [\"Forward\", \"Forward to next view\", \"fa fa-arrow-right icon-arrow-right\", \"forward\"], [\"\", \"\", \"\", \"\"], [\"Pan\", \"Pan axes with left mouse, zoom with right\", \"fa fa-arrows icon-move\", \"pan\"], [\"Zoom\", \"Zoom to rectangle\", \"fa fa-square-o icon-check-empty\", \"zoom\"], [\"\", \"\", \"\", \"\"], [\"Download\", \"Download plot\", \"fa fa-floppy-o icon-save\", \"download\"]];\n",
       "\n",
       "mpl.extensions = [\"eps\", \"pdf\", \"png\", \"ps\", \"raw\", \"svg\"];\n",
       "\n",
       "mpl.default_extension = \"png\";var comm_websocket_adapter = function(comm) {\n",
       "    // Create a \"websocket\"-like object which calls the given IPython comm\n",
       "    // object with the appropriate methods. Currently this is a non binary\n",
       "    // socket, so there is still some room for performance tuning.\n",
       "    var ws = {};\n",
       "\n",
       "    ws.close = function() {\n",
       "        comm.close()\n",
       "    };\n",
       "    ws.send = function(m) {\n",
       "        //console.log('sending', m);\n",
       "        comm.send(m);\n",
       "    };\n",
       "    // Register the callback with on_msg.\n",
       "    comm.on_msg(function(msg) {\n",
       "        //console.log('receiving', msg['content']['data'], msg);\n",
       "        // Pass the mpl event to the overriden (by mpl) onmessage function.\n",
       "        ws.onmessage(msg['content']['data'])\n",
       "    });\n",
       "    return ws;\n",
       "}\n",
       "\n",
       "mpl.mpl_figure_comm = function(comm, msg) {\n",
       "    // This is the function which gets called when the mpl process\n",
       "    // starts-up an IPython Comm through the \"matplotlib\" channel.\n",
       "\n",
       "    var id = msg.content.data.id;\n",
       "    // Get hold of the div created by the display call when the Comm\n",
       "    // socket was opened in Python.\n",
       "    var element = $(\"#\" + id);\n",
       "    var ws_proxy = comm_websocket_adapter(comm)\n",
       "\n",
       "    function ondownload(figure, format) {\n",
       "        window.open(figure.imageObj.src);\n",
       "    }\n",
       "\n",
       "    var fig = new mpl.figure(id, ws_proxy,\n",
       "                           ondownload,\n",
       "                           element.get(0));\n",
       "\n",
       "    // Call onopen now - mpl needs it, as it is assuming we've passed it a real\n",
       "    // web socket which is closed, not our websocket->open comm proxy.\n",
       "    ws_proxy.onopen();\n",
       "\n",
       "    fig.parent_element = element.get(0);\n",
       "    fig.cell_info = mpl.find_output_cell(\"<div id='\" + id + \"'></div>\");\n",
       "    if (!fig.cell_info) {\n",
       "        console.error(\"Failed to find cell for figure\", id, fig);\n",
       "        return;\n",
       "    }\n",
       "\n",
       "    var output_index = fig.cell_info[2]\n",
       "    var cell = fig.cell_info[0];\n",
       "\n",
       "};\n",
       "\n",
       "mpl.figure.prototype.handle_close = function(fig, msg) {\n",
       "    var width = fig.canvas.width/mpl.ratio\n",
       "    fig.root.unbind('remove')\n",
       "\n",
       "    // Update the output cell to use the data from the current canvas.\n",
       "    fig.push_to_output();\n",
       "    var dataURL = fig.canvas.toDataURL();\n",
       "    // Re-enable the keyboard manager in IPython - without this line, in FF,\n",
       "    // the notebook keyboard shortcuts fail.\n",
       "    IPython.keyboard_manager.enable()\n",
       "    $(fig.parent_element).html('<img src=\"' + dataURL + '\" width=\"' + width + '\">');\n",
       "    fig.close_ws(fig, msg);\n",
       "}\n",
       "\n",
       "mpl.figure.prototype.close_ws = function(fig, msg){\n",
       "    fig.send_message('closing', msg);\n",
       "    // fig.ws.close()\n",
       "}\n",
       "\n",
       "mpl.figure.prototype.push_to_output = function(remove_interactive) {\n",
       "    // Turn the data on the canvas into data in the output cell.\n",
       "    var width = this.canvas.width/mpl.ratio\n",
       "    var dataURL = this.canvas.toDataURL();\n",
       "    this.cell_info[1]['text/html'] = '<img src=\"' + dataURL + '\" width=\"' + width + '\">';\n",
       "}\n",
       "\n",
       "mpl.figure.prototype.updated_canvas_event = function() {\n",
       "    // Tell IPython that the notebook contents must change.\n",
       "    IPython.notebook.set_dirty(true);\n",
       "    this.send_message(\"ack\", {});\n",
       "    var fig = this;\n",
       "    // Wait a second, then push the new image to the DOM so\n",
       "    // that it is saved nicely (might be nice to debounce this).\n",
       "    setTimeout(function () { fig.push_to_output() }, 1000);\n",
       "}\n",
       "\n",
       "mpl.figure.prototype._init_toolbar = function() {\n",
       "    var fig = this;\n",
       "\n",
       "    var nav_element = $('<div/>')\n",
       "    nav_element.attr('style', 'width: 100%');\n",
       "    this.root.append(nav_element);\n",
       "\n",
       "    // Define a callback function for later on.\n",
       "    function toolbar_event(event) {\n",
       "        return fig.toolbar_button_onclick(event['data']);\n",
       "    }\n",
       "    function toolbar_mouse_event(event) {\n",
       "        return fig.toolbar_button_onmouseover(event['data']);\n",
       "    }\n",
       "\n",
       "    for(var toolbar_ind in mpl.toolbar_items){\n",
       "        var name = mpl.toolbar_items[toolbar_ind][0];\n",
       "        var tooltip = mpl.toolbar_items[toolbar_ind][1];\n",
       "        var image = mpl.toolbar_items[toolbar_ind][2];\n",
       "        var method_name = mpl.toolbar_items[toolbar_ind][3];\n",
       "\n",
       "        if (!name) { continue; };\n",
       "\n",
       "        var button = $('<button class=\"btn btn-default\" href=\"#\" title=\"' + name + '\"><i class=\"fa ' + image + ' fa-lg\"></i></button>');\n",
       "        button.click(method_name, toolbar_event);\n",
       "        button.mouseover(tooltip, toolbar_mouse_event);\n",
       "        nav_element.append(button);\n",
       "    }\n",
       "\n",
       "    // Add the status bar.\n",
       "    var status_bar = $('<span class=\"mpl-message\" style=\"text-align:right; float: right;\"/>');\n",
       "    nav_element.append(status_bar);\n",
       "    this.message = status_bar[0];\n",
       "\n",
       "    // Add the close button to the window.\n",
       "    var buttongrp = $('<div class=\"btn-group inline pull-right\"></div>');\n",
       "    var button = $('<button class=\"btn btn-mini btn-primary\" href=\"#\" title=\"Stop Interaction\"><i class=\"fa fa-power-off icon-remove icon-large\"></i></button>');\n",
       "    button.click(function (evt) { fig.handle_close(fig, {}); } );\n",
       "    button.mouseover('Stop Interaction', toolbar_mouse_event);\n",
       "    buttongrp.append(button);\n",
       "    var titlebar = this.root.find($('.ui-dialog-titlebar'));\n",
       "    titlebar.prepend(buttongrp);\n",
       "}\n",
       "\n",
       "mpl.figure.prototype._root_extra_style = function(el){\n",
       "    var fig = this\n",
       "    el.on(\"remove\", function(){\n",
       "\tfig.close_ws(fig, {});\n",
       "    });\n",
       "}\n",
       "\n",
       "mpl.figure.prototype._canvas_extra_style = function(el){\n",
       "    // this is important to make the div 'focusable\n",
       "    el.attr('tabindex', 0)\n",
       "    // reach out to IPython and tell the keyboard manager to turn it's self\n",
       "    // off when our div gets focus\n",
       "\n",
       "    // location in version 3\n",
       "    if (IPython.notebook.keyboard_manager) {\n",
       "        IPython.notebook.keyboard_manager.register_events(el);\n",
       "    }\n",
       "    else {\n",
       "        // location in version 2\n",
       "        IPython.keyboard_manager.register_events(el);\n",
       "    }\n",
       "\n",
       "}\n",
       "\n",
       "mpl.figure.prototype._key_event_extra = function(event, name) {\n",
       "    var manager = IPython.notebook.keyboard_manager;\n",
       "    if (!manager)\n",
       "        manager = IPython.keyboard_manager;\n",
       "\n",
       "    // Check for shift+enter\n",
       "    if (event.shiftKey && event.which == 13) {\n",
       "        this.canvas_div.blur();\n",
       "        event.shiftKey = false;\n",
       "        // Send a \"J\" for go to next cell\n",
       "        event.which = 74;\n",
       "        event.keyCode = 74;\n",
       "        manager.command_mode();\n",
       "        manager.handle_keydown(event);\n",
       "    }\n",
       "}\n",
       "\n",
       "mpl.figure.prototype.handle_save = function(fig, msg) {\n",
       "    fig.ondownload(fig, null);\n",
       "}\n",
       "\n",
       "\n",
       "mpl.find_output_cell = function(html_output) {\n",
       "    // Return the cell and output element which can be found *uniquely* in the notebook.\n",
       "    // Note - this is a bit hacky, but it is done because the \"notebook_saving.Notebook\"\n",
       "    // IPython event is triggered only after the cells have been serialised, which for\n",
       "    // our purposes (turning an active figure into a static one), is too late.\n",
       "    var cells = IPython.notebook.get_cells();\n",
       "    var ncells = cells.length;\n",
       "    for (var i=0; i<ncells; i++) {\n",
       "        var cell = cells[i];\n",
       "        if (cell.cell_type === 'code'){\n",
       "            for (var j=0; j<cell.output_area.outputs.length; j++) {\n",
       "                var data = cell.output_area.outputs[j];\n",
       "                if (data.data) {\n",
       "                    // IPython >= 3 moved mimebundle to data attribute of output\n",
       "                    data = data.data;\n",
       "                }\n",
       "                if (data['text/html'] == html_output) {\n",
       "                    return [cell, data, j];\n",
       "                }\n",
       "            }\n",
       "        }\n",
       "    }\n",
       "}\n",
       "\n",
       "// Register the function which deals with the matplotlib target/channel.\n",
       "// The kernel may be null if the page has been refreshed.\n",
       "if (IPython.notebook.kernel != null) {\n",
       "    IPython.notebook.kernel.comm_manager.register_target('matplotlib', mpl.mpl_figure_comm);\n",
       "}\n"
      ],
      "text/plain": [
       "<IPython.core.display.Javascript object>"
      ]
     },
     "metadata": {},
     "output_type": "display_data"
    },
    {
     "data": {
      "text/html": [
       "<img src=\"data:image/png;base64,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\" width=\"640\">"
      ],
      "text/plain": [
       "<IPython.core.display.HTML object>"
      ]
     },
     "metadata": {},
     "output_type": "display_data"
    }
   ],
   "source": [
    "x = [q1, q2, q3, u1, u2, u3]\n",
    "units = ['m', 'deg', 'deg', 'm/s', 'deg/s', 'deg/s']\n",
    "\n",
    "# lambda functions to do quick unit conversions\n",
    "convert = [lambda x: x,\n",
    "           lambda x : np.rad2deg(x),\n",
    "           lambda x: np.rad2deg(x),\n",
    "           lambda x: x,\n",
    "           lambda x : np.rad2deg(x),\n",
    "           lambda x: np.rad2deg(x),\n",
    "          ]\n",
    "\n",
    "fig, axes = plt.subplots(6, 1, sharex=True)\n",
    "\n",
    "for i in range(6):\n",
    "    axes[i].plot(sys.times, convert[i](traj[:, i]))\n",
    "    axes[i].set_ylabel(sm.latex(x[i], mode='inline') + '\\n[' + units[i] + ']')\n",
    "    \n",
    "axes[-1].set_xlabel('Time [s]')\n",
    "\n",
    "plt.tight_layout()"
   ]
  },
  {
   "cell_type": "markdown",
   "metadata": {},
   "source": [
    "# Animating the motion with Matplotlib's animation tools\n",
    "\n",
    "Start by getting the equations that specify the locations of all the points that you want to draw:"
   ]
  },
  {
   "cell_type": "code",
   "execution_count": 61,
   "metadata": {},
   "outputs": [
    {
     "data": {
      "image/png": "[encoded data removed]",
      "text/latex": [
       "$$\\left[\\begin{matrix}q_{1}\\\\0\\\\0\\end{matrix}\\right]$$"
      ],
      "text/plain": [
       "Matrix([\n",
       "[q1],\n",
       "[ 0],\n",
       "[ 0]])"
      ]
     },
     "execution_count": 61,
     "metadata": {},
     "output_type": "execute_result"
    }
   ],
   "source": [
    "Pab.pos_from(O).to_matrix(N)"
   ]
  },
  {
   "cell_type": "code",
   "execution_count": 62,
   "metadata": {},
   "outputs": [
    {
     "data": {
      "image/png": "[encoded data removed]",
      "text/latex": [
       "$$\\left[\\begin{matrix}l \\operatorname{sin}\\left(q_{2}\\right) + q_{1}\\\\- l \\operatorname{cos}\\left(q_{2}\\right)\\\\0\\end{matrix}\\right]$$"
      ],
      "text/plain": [
       "Matrix([\n",
       "[l*sin(q2) + q1],\n",
       "[    -l*cos(q2)],\n",
       "[             0]])"
      ]
     },
     "execution_count": 62,
     "metadata": {},
     "output_type": "execute_result"
    }
   ],
   "source": [
    "Pbc.pos_from(O).to_matrix(N)"
   ]
  },
  {
   "cell_type": "code",
   "execution_count": 63,
   "metadata": {},
   "outputs": [
    {
     "data": {
      "image/png": "[encoded data removed]",
      "text/latex": [
       "$$\\left[\\begin{matrix}l \\operatorname{sin}\\left(q_{2} + q_{3}\\right) + l \\operatorname{sin}\\left(q_{2}\\right) + q_{1}\\\\- l \\left(\\operatorname{cos}\\left(q_{2} + q_{3}\\right) + \\operatorname{cos}\\left(q_{2}\\right)\\right)\\\\0\\end{matrix}\\right]$$"
      ],
      "text/plain": [
       "Matrix([\n",
       "[l*sin(q2 + q3) + l*sin(q2) + q1],\n",
       "[    -l*(cos(q2 + q3) + cos(q2))],\n",
       "[                              0]])"
      ]
     },
     "execution_count": 63,
     "metadata": {},
     "output_type": "execute_result"
    }
   ],
   "source": [
    "Pc.pos_from(O).to_matrix(N).simplify()"
   ]
  },
  {
   "cell_type": "code",
   "execution_count": 64,
   "metadata": {},
   "outputs": [
    {
     "data": {
      "image/png": "[encoded data removed]",
      "text/latex": [
       "$$\\left \\{ q_{1} : 0.05, \\quad q_{2} : 0.0, \\quad q_{3} : 0.0, \\quad u_{1} : 0.0, \\quad u_{2} : 0.0, \\quad u_{3} : 0.0\\right \\}$$"
      ],
      "text/plain": [
       "{q1: 0.05, q2: 0.0, q3: 0.0, u1: 0.0, u2: 0.0, u3: 0.0}"
      ]
     },
     "execution_count": 64,
     "metadata": {},
     "output_type": "execute_result"
    }
   ],
   "source": [
    "sys.initial_conditions"
   ]
  },
  {
   "cell_type": "markdown",
   "metadata": {},
   "source": [
    "# Make an initial plot using the initial conditions\n",
    "\n",
    "Careful about mixing symbols as numbers!! That's why I introduced new variable names with `_n`."
   ]
  },
  {
   "cell_type": "code",
   "execution_count": 65,
   "metadata": {},
   "outputs": [
    {
     "data": {
      "application/javascript": [
       "/* Put everything inside the global mpl namespace */\n",
       "window.mpl = {};\n",
       "\n",
       "\n",
       "mpl.get_websocket_type = function() {\n",
       "    if (typeof(WebSocket) !== 'undefined') {\n",
       "        return WebSocket;\n",
       "    } else if (typeof(MozWebSocket) !== 'undefined') {\n",
       "        return MozWebSocket;\n",
       "    } else {\n",
       "        alert('Your browser does not have WebSocket support.' +\n",
       "              'Please try Chrome, Safari or Firefox ≥ 6. ' +\n",
       "              'Firefox 4 and 5 are also supported but you ' +\n",
       "              'have to enable WebSockets in about:config.');\n",
       "    };\n",
       "}\n",
       "\n",
       "mpl.figure = function(figure_id, websocket, ondownload, parent_element) {\n",
       "    this.id = figure_id;\n",
       "\n",
       "    this.ws = websocket;\n",
       "\n",
       "    this.supports_binary = (this.ws.binaryType != undefined);\n",
       "\n",
       "    if (!this.supports_binary) {\n",
       "        var warnings = document.getElementById(\"mpl-warnings\");\n",
       "        if (warnings) {\n",
       "            warnings.style.display = 'block';\n",
       "            warnings.textContent = (\n",
       "                \"This browser does not support binary websocket messages. \" +\n",
       "                    \"Performance may be slow.\");\n",
       "        }\n",
       "    }\n",
       "\n",
       "    this.imageObj = new Image();\n",
       "\n",
       "    this.context = undefined;\n",
       "    this.message = undefined;\n",
       "    this.canvas = undefined;\n",
       "    this.rubberband_canvas = undefined;\n",
       "    this.rubberband_context = undefined;\n",
       "    this.format_dropdown = undefined;\n",
       "\n",
       "    this.image_mode = 'full';\n",
       "\n",
       "    this.root = $('<div/>');\n",
       "    this._root_extra_style(this.root)\n",
       "    this.root.attr('style', 'display: inline-block');\n",
       "\n",
       "    $(parent_element).append(this.root);\n",
       "\n",
       "    this._init_header(this);\n",
       "    this._init_canvas(this);\n",
       "    this._init_toolbar(this);\n",
       "\n",
       "    var fig = this;\n",
       "\n",
       "    this.waiting = false;\n",
       "\n",
       "    this.ws.onopen =  function () {\n",
       "            fig.send_message(\"supports_binary\", {value: fig.supports_binary});\n",
       "            fig.send_message(\"send_image_mode\", {});\n",
       "            if (mpl.ratio != 1) {\n",
       "                fig.send_message(\"set_dpi_ratio\", {'dpi_ratio': mpl.ratio});\n",
       "            }\n",
       "            fig.send_message(\"refresh\", {});\n",
       "        }\n",
       "\n",
       "    this.imageObj.onload = function() {\n",
       "            if (fig.image_mode == 'full') {\n",
       "                // Full images could contain transparency (where diff images\n",
       "                // almost always do), so we need to clear the canvas so that\n",
       "                // there is no ghosting.\n",
       "                fig.context.clearRect(0, 0, fig.canvas.width, fig.canvas.height);\n",
       "            }\n",
       "            fig.context.drawImage(fig.imageObj, 0, 0);\n",
       "        };\n",
       "\n",
       "    this.imageObj.onunload = function() {\n",
       "        fig.ws.close();\n",
       "    }\n",
       "\n",
       "    this.ws.onmessage = this._make_on_message_function(this);\n",
       "\n",
       "    this.ondownload = ondownload;\n",
       "}\n",
       "\n",
       "mpl.figure.prototype._init_header = function() {\n",
       "    var titlebar = $(\n",
       "        '<div class=\"ui-dialog-titlebar ui-widget-header ui-corner-all ' +\n",
       "        'ui-helper-clearfix\"/>');\n",
       "    var titletext = $(\n",
       "        '<div class=\"ui-dialog-title\" style=\"width: 100%; ' +\n",
       "        'text-align: center; padding: 3px;\"/>');\n",
       "    titlebar.append(titletext)\n",
       "    this.root.append(titlebar);\n",
       "    this.header = titletext[0];\n",
       "}\n",
       "\n",
       "\n",
       "\n",
       "mpl.figure.prototype._canvas_extra_style = function(canvas_div) {\n",
       "\n",
       "}\n",
       "\n",
       "\n",
       "mpl.figure.prototype._root_extra_style = function(canvas_div) {\n",
       "\n",
       "}\n",
       "\n",
       "mpl.figure.prototype._init_canvas = function() {\n",
       "    var fig = this;\n",
       "\n",
       "    var canvas_div = $('<div/>');\n",
       "\n",
       "    canvas_div.attr('style', 'position: relative; clear: both; outline: 0');\n",
       "\n",
       "    function canvas_keyboard_event(event) {\n",
       "        return fig.key_event(event, event['data']);\n",
       "    }\n",
       "\n",
       "    canvas_div.keydown('key_press', canvas_keyboard_event);\n",
       "    canvas_div.keyup('key_release', canvas_keyboard_event);\n",
       "    this.canvas_div = canvas_div\n",
       "    this._canvas_extra_style(canvas_div)\n",
       "    this.root.append(canvas_div);\n",
       "\n",
       "    var canvas = $('<canvas/>');\n",
       "    canvas.addClass('mpl-canvas');\n",
       "    canvas.attr('style', \"left: 0; top: 0; z-index: 0; outline: 0\")\n",
       "\n",
       "    this.canvas = canvas[0];\n",
       "    this.context = canvas[0].getContext(\"2d\");\n",
       "\n",
       "    var backingStore = this.context.backingStorePixelRatio ||\n",
       "\tthis.context.webkitBackingStorePixelRatio ||\n",
       "\tthis.context.mozBackingStorePixelRatio ||\n",
       "\tthis.context.msBackingStorePixelRatio ||\n",
       "\tthis.context.oBackingStorePixelRatio ||\n",
       "\tthis.context.backingStorePixelRatio || 1;\n",
       "\n",
       "    mpl.ratio = (window.devicePixelRatio || 1) / backingStore;\n",
       "\n",
       "    var rubberband = $('<canvas/>');\n",
       "    rubberband.attr('style', \"position: absolute; left: 0; top: 0; z-index: 1;\")\n",
       "\n",
       "    var pass_mouse_events = true;\n",
       "\n",
       "    canvas_div.resizable({\n",
       "        start: function(event, ui) {\n",
       "            pass_mouse_events = false;\n",
       "        },\n",
       "        resize: function(event, ui) {\n",
       "            fig.request_resize(ui.size.width, ui.size.height);\n",
       "        },\n",
       "        stop: function(event, ui) {\n",
       "            pass_mouse_events = true;\n",
       "            fig.request_resize(ui.size.width, ui.size.height);\n",
       "        },\n",
       "    });\n",
       "\n",
       "    function mouse_event_fn(event) {\n",
       "        if (pass_mouse_events)\n",
       "            return fig.mouse_event(event, event['data']);\n",
       "    }\n",
       "\n",
       "    rubberband.mousedown('button_press', mouse_event_fn);\n",
       "    rubberband.mouseup('button_release', mouse_event_fn);\n",
       "    // Throttle sequential mouse events to 1 every 20ms.\n",
       "    rubberband.mousemove('motion_notify', mouse_event_fn);\n",
       "\n",
       "    rubberband.mouseenter('figure_enter', mouse_event_fn);\n",
       "    rubberband.mouseleave('figure_leave', mouse_event_fn);\n",
       "\n",
       "    canvas_div.on(\"wheel\", function (event) {\n",
       "        event = event.originalEvent;\n",
       "        event['data'] = 'scroll'\n",
       "        if (event.deltaY < 0) {\n",
       "            event.step = 1;\n",
       "        } else {\n",
       "            event.step = -1;\n",
       "        }\n",
       "        mouse_event_fn(event);\n",
       "    });\n",
       "\n",
       "    canvas_div.append(canvas);\n",
       "    canvas_div.append(rubberband);\n",
       "\n",
       "    this.rubberband = rubberband;\n",
       "    this.rubberband_canvas = rubberband[0];\n",
       "    this.rubberband_context = rubberband[0].getContext(\"2d\");\n",
       "    this.rubberband_context.strokeStyle = \"#000000\";\n",
       "\n",
       "    this._resize_canvas = function(width, height) {\n",
       "        // Keep the size of the canvas, canvas container, and rubber band\n",
       "        // canvas in synch.\n",
       "        canvas_div.css('width', width)\n",
       "        canvas_div.css('height', height)\n",
       "\n",
       "        canvas.attr('width', width * mpl.ratio);\n",
       "        canvas.attr('height', height * mpl.ratio);\n",
       "        canvas.attr('style', 'width: ' + width + 'px; height: ' + height + 'px;');\n",
       "\n",
       "        rubberband.attr('width', width);\n",
       "        rubberband.attr('height', height);\n",
       "    }\n",
       "\n",
       "    // Set the figure to an initial 600x600px, this will subsequently be updated\n",
       "    // upon first draw.\n",
       "    this._resize_canvas(600, 600);\n",
       "\n",
       "    // Disable right mouse context menu.\n",
       "    $(this.rubberband_canvas).bind(\"contextmenu\",function(e){\n",
       "        return false;\n",
       "    });\n",
       "\n",
       "    function set_focus () {\n",
       "        canvas.focus();\n",
       "        canvas_div.focus();\n",
       "    }\n",
       "\n",
       "    window.setTimeout(set_focus, 100);\n",
       "}\n",
       "\n",
       "mpl.figure.prototype._init_toolbar = function() {\n",
       "    var fig = this;\n",
       "\n",
       "    var nav_element = $('<div/>')\n",
       "    nav_element.attr('style', 'width: 100%');\n",
       "    this.root.append(nav_element);\n",
       "\n",
       "    // Define a callback function for later on.\n",
       "    function toolbar_event(event) {\n",
       "        return fig.toolbar_button_onclick(event['data']);\n",
       "    }\n",
       "    function toolbar_mouse_event(event) {\n",
       "        return fig.toolbar_button_onmouseover(event['data']);\n",
       "    }\n",
       "\n",
       "    for(var toolbar_ind in mpl.toolbar_items) {\n",
       "        var name = mpl.toolbar_items[toolbar_ind][0];\n",
       "        var tooltip = mpl.toolbar_items[toolbar_ind][1];\n",
       "        var image = mpl.toolbar_items[toolbar_ind][2];\n",
       "        var method_name = mpl.toolbar_items[toolbar_ind][3];\n",
       "\n",
       "        if (!name) {\n",
       "            // put a spacer in here.\n",
       "            continue;\n",
       "        }\n",
       "        var button = $('<button/>');\n",
       "        button.addClass('ui-button ui-widget ui-state-default ui-corner-all ' +\n",
       "                        'ui-button-icon-only');\n",
       "        button.attr('role', 'button');\n",
       "        button.attr('aria-disabled', 'false');\n",
       "        button.click(method_name, toolbar_event);\n",
       "        button.mouseover(tooltip, toolbar_mouse_event);\n",
       "\n",
       "        var icon_img = $('<span/>');\n",
       "        icon_img.addClass('ui-button-icon-primary ui-icon');\n",
       "        icon_img.addClass(image);\n",
       "        icon_img.addClass('ui-corner-all');\n",
       "\n",
       "        var tooltip_span = $('<span/>');\n",
       "        tooltip_span.addClass('ui-button-text');\n",
       "        tooltip_span.html(tooltip);\n",
       "\n",
       "        button.append(icon_img);\n",
       "        button.append(tooltip_span);\n",
       "\n",
       "        nav_element.append(button);\n",
       "    }\n",
       "\n",
       "    var fmt_picker_span = $('<span/>');\n",
       "\n",
       "    var fmt_picker = $('<select/>');\n",
       "    fmt_picker.addClass('mpl-toolbar-option ui-widget ui-widget-content');\n",
       "    fmt_picker_span.append(fmt_picker);\n",
       "    nav_element.append(fmt_picker_span);\n",
       "    this.format_dropdown = fmt_picker[0];\n",
       "\n",
       "    for (var ind in mpl.extensions) {\n",
       "        var fmt = mpl.extensions[ind];\n",
       "        var option = $(\n",
       "            '<option/>', {selected: fmt === mpl.default_extension}).html(fmt);\n",
       "        fmt_picker.append(option)\n",
       "    }\n",
       "\n",
       "    // Add hover states to the ui-buttons\n",
       "    $( \".ui-button\" ).hover(\n",
       "        function() { $(this).addClass(\"ui-state-hover\");},\n",
       "        function() { $(this).removeClass(\"ui-state-hover\");}\n",
       "    );\n",
       "\n",
       "    var status_bar = $('<span class=\"mpl-message\"/>');\n",
       "    nav_element.append(status_bar);\n",
       "    this.message = status_bar[0];\n",
       "}\n",
       "\n",
       "mpl.figure.prototype.request_resize = function(x_pixels, y_pixels) {\n",
       "    // Request matplotlib to resize the figure. Matplotlib will then trigger a resize in the client,\n",
       "    // which will in turn request a refresh of the image.\n",
       "    this.send_message('resize', {'width': x_pixels, 'height': y_pixels});\n",
       "}\n",
       "\n",
       "mpl.figure.prototype.send_message = function(type, properties) {\n",
       "    properties['type'] = type;\n",
       "    properties['figure_id'] = this.id;\n",
       "    this.ws.send(JSON.stringify(properties));\n",
       "}\n",
       "\n",
       "mpl.figure.prototype.send_draw_message = function() {\n",
       "    if (!this.waiting) {\n",
       "        this.waiting = true;\n",
       "        this.ws.send(JSON.stringify({type: \"draw\", figure_id: this.id}));\n",
       "    }\n",
       "}\n",
       "\n",
       "\n",
       "mpl.figure.prototype.handle_save = function(fig, msg) {\n",
       "    var format_dropdown = fig.format_dropdown;\n",
       "    var format = format_dropdown.options[format_dropdown.selectedIndex].value;\n",
       "    fig.ondownload(fig, format);\n",
       "}\n",
       "\n",
       "\n",
       "mpl.figure.prototype.handle_resize = function(fig, msg) {\n",
       "    var size = msg['size'];\n",
       "    if (size[0] != fig.canvas.width || size[1] != fig.canvas.height) {\n",
       "        fig._resize_canvas(size[0], size[1]);\n",
       "        fig.send_message(\"refresh\", {});\n",
       "    };\n",
       "}\n",
       "\n",
       "mpl.figure.prototype.handle_rubberband = function(fig, msg) {\n",
       "    var x0 = msg['x0'] / mpl.ratio;\n",
       "    var y0 = (fig.canvas.height - msg['y0']) / mpl.ratio;\n",
       "    var x1 = msg['x1'] / mpl.ratio;\n",
       "    var y1 = (fig.canvas.height - msg['y1']) / mpl.ratio;\n",
       "    x0 = Math.floor(x0) + 0.5;\n",
       "    y0 = Math.floor(y0) + 0.5;\n",
       "    x1 = Math.floor(x1) + 0.5;\n",
       "    y1 = Math.floor(y1) + 0.5;\n",
       "    var min_x = Math.min(x0, x1);\n",
       "    var min_y = Math.min(y0, y1);\n",
       "    var width = Math.abs(x1 - x0);\n",
       "    var height = Math.abs(y1 - y0);\n",
       "\n",
       "    fig.rubberband_context.clearRect(\n",
       "        0, 0, fig.canvas.width, fig.canvas.height);\n",
       "\n",
       "    fig.rubberband_context.strokeRect(min_x, min_y, width, height);\n",
       "}\n",
       "\n",
       "mpl.figure.prototype.handle_figure_label = function(fig, msg) {\n",
       "    // Updates the figure title.\n",
       "    fig.header.textContent = msg['label'];\n",
       "}\n",
       "\n",
       "mpl.figure.prototype.handle_cursor = function(fig, msg) {\n",
       "    var cursor = msg['cursor'];\n",
       "    switch(cursor)\n",
       "    {\n",
       "    case 0:\n",
       "        cursor = 'pointer';\n",
       "        break;\n",
       "    case 1:\n",
       "        cursor = 'default';\n",
       "        break;\n",
       "    case 2:\n",
       "        cursor = 'crosshair';\n",
       "        break;\n",
       "    case 3:\n",
       "        cursor = 'move';\n",
       "        break;\n",
       "    }\n",
       "    fig.rubberband_canvas.style.cursor = cursor;\n",
       "}\n",
       "\n",
       "mpl.figure.prototype.handle_message = function(fig, msg) {\n",
       "    fig.message.textContent = msg['message'];\n",
       "}\n",
       "\n",
       "mpl.figure.prototype.handle_draw = function(fig, msg) {\n",
       "    // Request the server to send over a new figure.\n",
       "    fig.send_draw_message();\n",
       "}\n",
       "\n",
       "mpl.figure.prototype.handle_image_mode = function(fig, msg) {\n",
       "    fig.image_mode = msg['mode'];\n",
       "}\n",
       "\n",
       "mpl.figure.prototype.updated_canvas_event = function() {\n",
       "    // Called whenever the canvas gets updated.\n",
       "    this.send_message(\"ack\", {});\n",
       "}\n",
       "\n",
       "// A function to construct a web socket function for onmessage handling.\n",
       "// Called in the figure constructor.\n",
       "mpl.figure.prototype._make_on_message_function = function(fig) {\n",
       "    return function socket_on_message(evt) {\n",
       "        if (evt.data instanceof Blob) {\n",
       "            /* FIXME: We get \"Resource interpreted as Image but\n",
       "             * transferred with MIME type text/plain:\" errors on\n",
       "             * Chrome.  But how to set the MIME type?  It doesn't seem\n",
       "             * to be part of the websocket stream */\n",
       "            evt.data.type = \"image/png\";\n",
       "\n",
       "            /* Free the memory for the previous frames */\n",
       "            if (fig.imageObj.src) {\n",
       "                (window.URL || window.webkitURL).revokeObjectURL(\n",
       "                    fig.imageObj.src);\n",
       "            }\n",
       "\n",
       "            fig.imageObj.src = (window.URL || window.webkitURL).createObjectURL(\n",
       "                evt.data);\n",
       "            fig.updated_canvas_event();\n",
       "            fig.waiting = false;\n",
       "            return;\n",
       "        }\n",
       "        else if (typeof evt.data === 'string' && evt.data.slice(0, 21) == \"data:image/png;base64\") {\n",
       "            fig.imageObj.src = evt.data;\n",
       "            fig.updated_canvas_event();\n",
       "            fig.waiting = false;\n",
       "            return;\n",
       "        }\n",
       "\n",
       "        var msg = JSON.parse(evt.data);\n",
       "        var msg_type = msg['type'];\n",
       "\n",
       "        // Call the  \"handle_{type}\" callback, which takes\n",
       "        // the figure and JSON message as its only arguments.\n",
       "        try {\n",
       "            var callback = fig[\"handle_\" + msg_type];\n",
       "        } catch (e) {\n",
       "            console.log(\"No handler for the '\" + msg_type + \"' message type: \", msg);\n",
       "            return;\n",
       "        }\n",
       "\n",
       "        if (callback) {\n",
       "            try {\n",
       "                // console.log(\"Handling '\" + msg_type + \"' message: \", msg);\n",
       "                callback(fig, msg);\n",
       "            } catch (e) {\n",
       "                console.log(\"Exception inside the 'handler_\" + msg_type + \"' callback:\", e, e.stack, msg);\n",
       "            }\n",
       "        }\n",
       "    };\n",
       "}\n",
       "\n",
       "// from http://stackoverflow.com/questions/1114465/getting-mouse-location-in-canvas\n",
       "mpl.findpos = function(e) {\n",
       "    //this section is from http://www.quirksmode.org/js/events_properties.html\n",
       "    var targ;\n",
       "    if (!e)\n",
       "        e = window.event;\n",
       "    if (e.target)\n",
       "        targ = e.target;\n",
       "    else if (e.srcElement)\n",
       "        targ = e.srcElement;\n",
       "    if (targ.nodeType == 3) // defeat Safari bug\n",
       "        targ = targ.parentNode;\n",
       "\n",
       "    // jQuery normalizes the pageX and pageY\n",
       "    // pageX,Y are the mouse positions relative to the document\n",
       "    // offset() returns the position of the element relative to the document\n",
       "    var x = e.pageX - $(targ).offset().left;\n",
       "    var y = e.pageY - $(targ).offset().top;\n",
       "\n",
       "    return {\"x\": x, \"y\": y};\n",
       "};\n",
       "\n",
       "/*\n",
       " * return a copy of an object with only non-object keys\n",
       " * we need this to avoid circular references\n",
       " * http://stackoverflow.com/a/24161582/3208463\n",
       " */\n",
       "function simpleKeys (original) {\n",
       "  return Object.keys(original).reduce(function (obj, key) {\n",
       "    if (typeof original[key] !== 'object')\n",
       "        obj[key] = original[key]\n",
       "    return obj;\n",
       "  }, {});\n",
       "}\n",
       "\n",
       "mpl.figure.prototype.mouse_event = function(event, name) {\n",
       "    var canvas_pos = mpl.findpos(event)\n",
       "\n",
       "    if (name === 'button_press')\n",
       "    {\n",
       "        this.canvas.focus();\n",
       "        this.canvas_div.focus();\n",
       "    }\n",
       "\n",
       "    var x = canvas_pos.x * mpl.ratio;\n",
       "    var y = canvas_pos.y * mpl.ratio;\n",
       "\n",
       "    this.send_message(name, {x: x, y: y, button: event.button,\n",
       "                             step: event.step,\n",
       "                             guiEvent: simpleKeys(event)});\n",
       "\n",
       "    /* This prevents the web browser from automatically changing to\n",
       "     * the text insertion cursor when the button is pressed.  We want\n",
       "     * to control all of the cursor setting manually through the\n",
       "     * 'cursor' event from matplotlib */\n",
       "    event.preventDefault();\n",
       "    return false;\n",
       "}\n",
       "\n",
       "mpl.figure.prototype._key_event_extra = function(event, name) {\n",
       "    // Handle any extra behaviour associated with a key event\n",
       "}\n",
       "\n",
       "mpl.figure.prototype.key_event = function(event, name) {\n",
       "\n",
       "    // Prevent repeat events\n",
       "    if (name == 'key_press')\n",
       "    {\n",
       "        if (event.which === this._key)\n",
       "            return;\n",
       "        else\n",
       "            this._key = event.which;\n",
       "    }\n",
       "    if (name == 'key_release')\n",
       "        this._key = null;\n",
       "\n",
       "    var value = '';\n",
       "    if (event.ctrlKey && event.which != 17)\n",
       "        value += \"ctrl+\";\n",
       "    if (event.altKey && event.which != 18)\n",
       "        value += \"alt+\";\n",
       "    if (event.shiftKey && event.which != 16)\n",
       "        value += \"shift+\";\n",
       "\n",
       "    value += 'k';\n",
       "    value += event.which.toString();\n",
       "\n",
       "    this._key_event_extra(event, name);\n",
       "\n",
       "    this.send_message(name, {key: value,\n",
       "                             guiEvent: simpleKeys(event)});\n",
       "    return false;\n",
       "}\n",
       "\n",
       "mpl.figure.prototype.toolbar_button_onclick = function(name) {\n",
       "    if (name == 'download') {\n",
       "        this.handle_save(this, null);\n",
       "    } else {\n",
       "        this.send_message(\"toolbar_button\", {name: name});\n",
       "    }\n",
       "};\n",
       "\n",
       "mpl.figure.prototype.toolbar_button_onmouseover = function(tooltip) {\n",
       "    this.message.textContent = tooltip;\n",
       "};\n",
       "mpl.toolbar_items = [[\"Home\", \"Reset original view\", \"fa fa-home icon-home\", \"home\"], [\"Back\", \"Back to  previous view\", \"fa fa-arrow-left icon-arrow-left\", \"back\"], [\"Forward\", \"Forward to next view\", \"fa fa-arrow-right icon-arrow-right\", \"forward\"], [\"\", \"\", \"\", \"\"], [\"Pan\", \"Pan axes with left mouse, zoom with right\", \"fa fa-arrows icon-move\", \"pan\"], [\"Zoom\", \"Zoom to rectangle\", \"fa fa-square-o icon-check-empty\", \"zoom\"], [\"\", \"\", \"\", \"\"], [\"Download\", \"Download plot\", \"fa fa-floppy-o icon-save\", \"download\"]];\n",
       "\n",
       "mpl.extensions = [\"eps\", \"pdf\", \"png\", \"ps\", \"raw\", \"svg\"];\n",
       "\n",
       "mpl.default_extension = \"png\";var comm_websocket_adapter = function(comm) {\n",
       "    // Create a \"websocket\"-like object which calls the given IPython comm\n",
       "    // object with the appropriate methods. Currently this is a non binary\n",
       "    // socket, so there is still some room for performance tuning.\n",
       "    var ws = {};\n",
       "\n",
       "    ws.close = function() {\n",
       "        comm.close()\n",
       "    };\n",
       "    ws.send = function(m) {\n",
       "        //console.log('sending', m);\n",
       "        comm.send(m);\n",
       "    };\n",
       "    // Register the callback with on_msg.\n",
       "    comm.on_msg(function(msg) {\n",
       "        //console.log('receiving', msg['content']['data'], msg);\n",
       "        // Pass the mpl event to the overriden (by mpl) onmessage function.\n",
       "        ws.onmessage(msg['content']['data'])\n",
       "    });\n",
       "    return ws;\n",
       "}\n",
       "\n",
       "mpl.mpl_figure_comm = function(comm, msg) {\n",
       "    // This is the function which gets called when the mpl process\n",
       "    // starts-up an IPython Comm through the \"matplotlib\" channel.\n",
       "\n",
       "    var id = msg.content.data.id;\n",
       "    // Get hold of the div created by the display call when the Comm\n",
       "    // socket was opened in Python.\n",
       "    var element = $(\"#\" + id);\n",
       "    var ws_proxy = comm_websocket_adapter(comm)\n",
       "\n",
       "    function ondownload(figure, format) {\n",
       "        window.open(figure.imageObj.src);\n",
       "    }\n",
       "\n",
       "    var fig = new mpl.figure(id, ws_proxy,\n",
       "                           ondownload,\n",
       "                           element.get(0));\n",
       "\n",
       "    // Call onopen now - mpl needs it, as it is assuming we've passed it a real\n",
       "    // web socket which is closed, not our websocket->open comm proxy.\n",
       "    ws_proxy.onopen();\n",
       "\n",
       "    fig.parent_element = element.get(0);\n",
       "    fig.cell_info = mpl.find_output_cell(\"<div id='\" + id + \"'></div>\");\n",
       "    if (!fig.cell_info) {\n",
       "        console.error(\"Failed to find cell for figure\", id, fig);\n",
       "        return;\n",
       "    }\n",
       "\n",
       "    var output_index = fig.cell_info[2]\n",
       "    var cell = fig.cell_info[0];\n",
       "\n",
       "};\n",
       "\n",
       "mpl.figure.prototype.handle_close = function(fig, msg) {\n",
       "    var width = fig.canvas.width/mpl.ratio\n",
       "    fig.root.unbind('remove')\n",
       "\n",
       "    // Update the output cell to use the data from the current canvas.\n",
       "    fig.push_to_output();\n",
       "    var dataURL = fig.canvas.toDataURL();\n",
       "    // Re-enable the keyboard manager in IPython - without this line, in FF,\n",
       "    // the notebook keyboard shortcuts fail.\n",
       "    IPython.keyboard_manager.enable()\n",
       "    $(fig.parent_element).html('<img src=\"' + dataURL + '\" width=\"' + width + '\">');\n",
       "    fig.close_ws(fig, msg);\n",
       "}\n",
       "\n",
       "mpl.figure.prototype.close_ws = function(fig, msg){\n",
       "    fig.send_message('closing', msg);\n",
       "    // fig.ws.close()\n",
       "}\n",
       "\n",
       "mpl.figure.prototype.push_to_output = function(remove_interactive) {\n",
       "    // Turn the data on the canvas into data in the output cell.\n",
       "    var width = this.canvas.width/mpl.ratio\n",
       "    var dataURL = this.canvas.toDataURL();\n",
       "    this.cell_info[1]['text/html'] = '<img src=\"' + dataURL + '\" width=\"' + width + '\">';\n",
       "}\n",
       "\n",
       "mpl.figure.prototype.updated_canvas_event = function() {\n",
       "    // Tell IPython that the notebook contents must change.\n",
       "    IPython.notebook.set_dirty(true);\n",
       "    this.send_message(\"ack\", {});\n",
       "    var fig = this;\n",
       "    // Wait a second, then push the new image to the DOM so\n",
       "    // that it is saved nicely (might be nice to debounce this).\n",
       "    setTimeout(function () { fig.push_to_output() }, 1000);\n",
       "}\n",
       "\n",
       "mpl.figure.prototype._init_toolbar = function() {\n",
       "    var fig = this;\n",
       "\n",
       "    var nav_element = $('<div/>')\n",
       "    nav_element.attr('style', 'width: 100%');\n",
       "    this.root.append(nav_element);\n",
       "\n",
       "    // Define a callback function for later on.\n",
       "    function toolbar_event(event) {\n",
       "        return fig.toolbar_button_onclick(event['data']);\n",
       "    }\n",
       "    function toolbar_mouse_event(event) {\n",
       "        return fig.toolbar_button_onmouseover(event['data']);\n",
       "    }\n",
       "\n",
       "    for(var toolbar_ind in mpl.toolbar_items){\n",
       "        var name = mpl.toolbar_items[toolbar_ind][0];\n",
       "        var tooltip = mpl.toolbar_items[toolbar_ind][1];\n",
       "        var image = mpl.toolbar_items[toolbar_ind][2];\n",
       "        var method_name = mpl.toolbar_items[toolbar_ind][3];\n",
       "\n",
       "        if (!name) { continue; };\n",
       "\n",
       "        var button = $('<button class=\"btn btn-default\" href=\"#\" title=\"' + name + '\"><i class=\"fa ' + image + ' fa-lg\"></i></button>');\n",
       "        button.click(method_name, toolbar_event);\n",
       "        button.mouseover(tooltip, toolbar_mouse_event);\n",
       "        nav_element.append(button);\n",
       "    }\n",
       "\n",
       "    // Add the status bar.\n",
       "    var status_bar = $('<span class=\"mpl-message\" style=\"text-align:right; float: right;\"/>');\n",
       "    nav_element.append(status_bar);\n",
       "    this.message = status_bar[0];\n",
       "\n",
       "    // Add the close button to the window.\n",
       "    var buttongrp = $('<div class=\"btn-group inline pull-right\"></div>');\n",
       "    var button = $('<button class=\"btn btn-mini btn-primary\" href=\"#\" title=\"Stop Interaction\"><i class=\"fa fa-power-off icon-remove icon-large\"></i></button>');\n",
       "    button.click(function (evt) { fig.handle_close(fig, {}); } );\n",
       "    button.mouseover('Stop Interaction', toolbar_mouse_event);\n",
       "    buttongrp.append(button);\n",
       "    var titlebar = this.root.find($('.ui-dialog-titlebar'));\n",
       "    titlebar.prepend(buttongrp);\n",
       "}\n",
       "\n",
       "mpl.figure.prototype._root_extra_style = function(el){\n",
       "    var fig = this\n",
       "    el.on(\"remove\", function(){\n",
       "\tfig.close_ws(fig, {});\n",
       "    });\n",
       "}\n",
       "\n",
       "mpl.figure.prototype._canvas_extra_style = function(el){\n",
       "    // this is important to make the div 'focusable\n",
       "    el.attr('tabindex', 0)\n",
       "    // reach out to IPython and tell the keyboard manager to turn it's self\n",
       "    // off when our div gets focus\n",
       "\n",
       "    // location in version 3\n",
       "    if (IPython.notebook.keyboard_manager) {\n",
       "        IPython.notebook.keyboard_manager.register_events(el);\n",
       "    }\n",
       "    else {\n",
       "        // location in version 2\n",
       "        IPython.keyboard_manager.register_events(el);\n",
       "    }\n",
       "\n",
       "}\n",
       "\n",
       "mpl.figure.prototype._key_event_extra = function(event, name) {\n",
       "    var manager = IPython.notebook.keyboard_manager;\n",
       "    if (!manager)\n",
       "        manager = IPython.keyboard_manager;\n",
       "\n",
       "    // Check for shift+enter\n",
       "    if (event.shiftKey && event.which == 13) {\n",
       "        this.canvas_div.blur();\n",
       "        event.shiftKey = false;\n",
       "        // Send a \"J\" for go to next cell\n",
       "        event.which = 74;\n",
       "        event.keyCode = 74;\n",
       "        manager.command_mode();\n",
       "        manager.handle_keydown(event);\n",
       "    }\n",
       "}\n",
       "\n",
       "mpl.figure.prototype.handle_save = function(fig, msg) {\n",
       "    fig.ondownload(fig, null);\n",
       "}\n",
       "\n",
       "\n",
       "mpl.find_output_cell = function(html_output) {\n",
       "    // Return the cell and output element which can be found *uniquely* in the notebook.\n",
       "    // Note - this is a bit hacky, but it is done because the \"notebook_saving.Notebook\"\n",
       "    // IPython event is triggered only after the cells have been serialised, which for\n",
       "    // our purposes (turning an active figure into a static one), is too late.\n",
       "    var cells = IPython.notebook.get_cells();\n",
       "    var ncells = cells.length;\n",
       "    for (var i=0; i<ncells; i++) {\n",
       "        var cell = cells[i];\n",
       "        if (cell.cell_type === 'code'){\n",
       "            for (var j=0; j<cell.output_area.outputs.length; j++) {\n",
       "                var data = cell.output_area.outputs[j];\n",
       "                if (data.data) {\n",
       "                    // IPython >= 3 moved mimebundle to data attribute of output\n",
       "                    data = data.data;\n",
       "                }\n",
       "                if (data['text/html'] == html_output) {\n",
       "                    return [cell, data, j];\n",
       "                }\n",
       "            }\n",
       "        }\n",
       "    }\n",
       "}\n",
       "\n",
       "// Register the function which deals with the matplotlib target/channel.\n",
       "// The kernel may be null if the page has been refreshed.\n",
       "if (IPython.notebook.kernel != null) {\n",
       "    IPython.notebook.kernel.comm_manager.register_target('matplotlib', mpl.mpl_figure_comm);\n",
       "}\n"
      ],
      "text/plain": [
       "<IPython.core.display.Javascript object>"
      ]
     },
     "metadata": {},
     "output_type": "display_data"
    },
    {
     "data": {
      "text/html": [
       "<img src=\"data:image/png;base64,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\" width=\"640\">"
      ],
      "text/plain": [
       "<IPython.core.display.HTML object>"
      ]
     },
     "metadata": {},
     "output_type": "display_data"
    },
    {
     "data": {
      "image/png": "[encoded data removed]",
      "text/latex": [
       "$$\\left ( -1.0, \\quad 1.0\\right )$$"
      ],
      "text/plain": [
       "(-1.0, 1.0)"
      ]
     },
     "execution_count": 65,
     "metadata": {},
     "output_type": "execute_result"
    }
   ],
   "source": [
    "fig, ax = plt.subplots(1, 1)\n",
    "\n",
    "l_n = sys.constants[l]\n",
    "q1_n = sys.initial_conditions[q1]\n",
    "q2_n = sys.initial_conditions[q2]\n",
    "q3_n = sys.initial_conditions[q3]\n",
    "\n",
    "lines = ax.plot(# x coordinates\n",
    "                [0,\n",
    "                 q1_n,\n",
    "                 l_n * np.sin(q2_n) + q1_n,\n",
    "                 l_n * np.sin(q2_n + q3_n) + l_n * np.sin(q2_n) + q1_n],\n",
    "                # y coordinates\n",
    "                [0,\n",
    "                 0,\n",
    "                 -l_n * np.cos(q2_n),\n",
    "                 -l_n*(np.cos(q2_n + q3_n) + np.cos(q2_n))], marker='o')\n",
    "\n",
    "ax.set_aspect('equal')\n",
    "ax.set_ylim((-2.0, 2.0))\n",
    "ax.set_xlim([-1.0, 1.0])"
   ]
  },
  {
   "cell_type": "markdown",
   "metadata": {},
   "source": [
    "Notice that `lines` is a list of matplotlib lines with one item.  "
   ]
  },
  {
   "cell_type": "code",
   "execution_count": 66,
   "metadata": {},
   "outputs": [
    {
     "data": {
      "text/plain": [
       "[<matplotlib.lines.Line2D at 0x7fd58c319710>]"
      ]
     },
     "execution_count": 66,
     "metadata": {},
     "output_type": "execute_result"
    }
   ],
   "source": [
    "lines"
   ]
  },
  {
   "cell_type": "code",
   "execution_count": 67,
   "metadata": {},
   "outputs": [
    {
     "data": {
      "text/plain": [
       "list"
      ]
     },
     "execution_count": 67,
     "metadata": {},
     "output_type": "execute_result"
    }
   ],
   "source": [
    "type(lines)"
   ]
  },
  {
   "cell_type": "code",
   "execution_count": 68,
   "metadata": {},
   "outputs": [
    {
     "data": {
      "image/png": "[encoded data removed]",
      "text/latex": [
       "$$1$$"
      ],
      "text/plain": [
       "1"
      ]
     },
     "execution_count": 68,
     "metadata": {},
     "output_type": "execute_result"
    }
   ],
   "source": [
    "len(lines)"
   ]
  },
  {
   "cell_type": "markdown",
   "metadata": {},
   "source": [
    "The xy data can be accessed with:"
   ]
  },
  {
   "cell_type": "code",
   "execution_count": 69,
   "metadata": {},
   "outputs": [
    {
     "data": {
      "text/plain": [
       "(array([ 0.  ,  0.05,  0.05,  0.05]), array([ 0.,  0., -1., -2.]))"
      ]
     },
     "execution_count": 69,
     "metadata": {},
     "output_type": "execute_result"
    }
   ],
   "source": [
    "lines[0].get_data()"
   ]
  },
  {
   "cell_type": "markdown",
   "metadata": {},
   "source": [
    "Create a function that takes in the number of the animation frame and sets the line's xy data to the updated values."
   ]
  },
  {
   "cell_type": "code",
   "execution_count": 70,
   "metadata": {},
   "outputs": [],
   "source": [
    "def update(i):\n",
    "    \n",
    "    # grab the ith values of the coordinates\n",
    "    q1_n = traj[i, 0]\n",
    "    q2_n = traj[i, 1]\n",
    "    q3_n = traj[i, 2]\n",
    "    \n",
    "    # update the line's data\n",
    "    lines[0].set_data([0,\n",
    "                       q1_n,\n",
    "                       l_n * np.sin(q2_n) + q1_n,\n",
    "                       l_n * np.sin(q2_n + q3_n) + l_n * np.sin(q2_n) + q1_n],\n",
    "                      [0,\n",
    "                       0,\n",
    "                       -l_n * np.cos(q2_n),\n",
    "                       -l_n*(np.cos(q2_n + q3_n) + np.cos(q2_n))])    "
   ]
  },
  {
   "cell_type": "markdown",
   "metadata": {},
   "source": [
    "If you call update with a value between 0 and 1000, you can see what the system configuration is at that time."
   ]
  },
  {
   "cell_type": "code",
   "execution_count": 71,
   "metadata": {},
   "outputs": [],
   "source": [
    "update(100)"
   ]
  },
  {
   "cell_type": "markdown",
   "metadata": {},
   "source": [
    "Now pass in the figure, number of frames, and the update function to `FuncAnimation`."
   ]
  },
  {
   "cell_type": "code",
   "execution_count": 72,
   "metadata": {},
   "outputs": [],
   "source": [
    "from matplotlib.animation import FuncAnimation"
   ]
  },
  {
   "cell_type": "code",
   "execution_count": 73,
   "metadata": {},
   "outputs": [],
   "source": [
    "ani = FuncAnimation(fig, update, frames=len(traj), interval=5)"
   ]
  },
  {
   "cell_type": "markdown",
   "metadata": {},
   "source": [
    "**For some reason the animation will not start without calling `update` after the animation call. I can't figure out why this is needed. It usually isn't...**"
   ]
  },
  {
   "cell_type": "code",
   "execution_count": 74,
   "metadata": {},
   "outputs": [],
   "source": [
    "update(1)"
   ]
  },
  {
   "cell_type": "markdown",
   "metadata": {},
   "source": [
    "Now try other initial conditions and see how the system behaves."
   ]
  }
 ],
 "metadata": {
  "kernelspec": {
   "display_name": "Python 3",
   "language": "python",
   "name": "python3"
  },
  "language_info": {
   "codemirror_mode": {
    "name": "ipython",
    "version": 3
   },
   "file_extension": ".py",
   "mimetype": "text/x-python",
   "name": "python",
   "nbconvert_exporter": "python",
   "pygments_lexer": "ipython3",
   "version": "3.6.2"
  }
 },
 "nbformat": 4,
 "nbformat_minor": 2
}
