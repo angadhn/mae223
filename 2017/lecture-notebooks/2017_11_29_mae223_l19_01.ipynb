{
 "cells": [
  {
   "cell_type": "code",
   "execution_count": 1,
   "metadata": {},
   "outputs": [],
   "source": [
    "import sympy as sm"
   ]
  },
  {
   "cell_type": "code",
   "execution_count": 2,
   "metadata": {},
   "outputs": [],
   "source": [
    "import sympy.physics.mechanics as me"
   ]
  },
  {
   "cell_type": "code",
   "execution_count": 3,
   "metadata": {},
   "outputs": [],
   "source": [
    "me.init_vprinting(use_latex=True, pretty_print=False)"
   ]
  },
  {
   "cell_type": "code",
   "execution_count": 4,
   "metadata": {},
   "outputs": [],
   "source": [
    "m, r, g = sm.symbols('m, r, g')"
   ]
  },
  {
   "cell_type": "code",
   "execution_count": 5,
   "metadata": {},
   "outputs": [],
   "source": [
    "q1, q2, q3, x, y = me.dynamicsymbols('q1, q2, q3, x, y')"
   ]
  },
  {
   "cell_type": "code",
   "execution_count": 6,
   "metadata": {},
   "outputs": [],
   "source": [
    "u1, u2, u3, vx, vy = me.dynamicsymbols('u1, u2, u3, v_x, v_y')"
   ]
  },
  {
   "cell_type": "markdown",
   "metadata": {},
   "source": [
    "# Reference Frames"
   ]
  },
  {
   "cell_type": "code",
   "execution_count": 7,
   "metadata": {},
   "outputs": [],
   "source": [
    "N = me.ReferenceFrame('N')"
   ]
  },
  {
   "cell_type": "code",
   "execution_count": 8,
   "metadata": {},
   "outputs": [],
   "source": [
    "Y = N.orientnew('Y', 'Axis', (q1, N.z))"
   ]
  },
  {
   "cell_type": "code",
   "execution_count": 9,
   "metadata": {},
   "outputs": [],
   "source": [
    "L = Y.orientnew('L', 'Axis', (q2, Y.y))"
   ]
  },
  {
   "cell_type": "code",
   "execution_count": 10,
   "metadata": {},
   "outputs": [],
   "source": [
    "R = L.orientnew('R', 'Axis', (q3, L.x))"
   ]
  },
  {
   "cell_type": "code",
   "execution_count": 11,
   "metadata": {},
   "outputs": [
    {
     "data": {
      "image/png": "[encoded data removed]",
      "text/latex": [
       "$$\\left[\\begin{matrix}\\operatorname{cos}\\left(q_{1}\\right) \\operatorname{cos}\\left(q_{2}\\right) & \\operatorname{sin}\\left(q_{1}\\right) \\operatorname{cos}\\left(q_{2}\\right) & - \\operatorname{sin}\\left(q_{2}\\right)\\\\- \\operatorname{sin}\\left(q_{1}\\right) \\operatorname{cos}\\left(q_{3}\\right) + \\operatorname{sin}\\left(q_{2}\\right) \\operatorname{sin}\\left(q_{3}\\right) \\operatorname{cos}\\left(q_{1}\\right) & \\operatorname{sin}\\left(q_{1}\\right) \\operatorname{sin}\\left(q_{2}\\right) \\operatorname{sin}\\left(q_{3}\\right) + \\operatorname{cos}\\left(q_{1}\\right) \\operatorname{cos}\\left(q_{3}\\right) & \\operatorname{sin}\\left(q_{3}\\right) \\operatorname{cos}\\left(q_{2}\\right)\\\\\\operatorname{sin}\\left(q_{1}\\right) \\operatorname{sin}\\left(q_{3}\\right) + \\operatorname{sin}\\left(q_{2}\\right) \\operatorname{cos}\\left(q_{1}\\right) \\operatorname{cos}\\left(q_{3}\\right) & \\operatorname{sin}\\left(q_{1}\\right) \\operatorname{sin}\\left(q_{2}\\right) \\operatorname{cos}\\left(q_{3}\\right) - \\operatorname{sin}\\left(q_{3}\\right) \\operatorname{cos}\\left(q_{1}\\right) & \\operatorname{cos}\\left(q_{2}\\right) \\operatorname{cos}\\left(q_{3}\\right)\\end{matrix}\\right]$$"
      ],
      "text/plain": [
       "Matrix([\n",
       "[                           cos(q1)*cos(q2),                           sin(q1)*cos(q2),        -sin(q2)],\n",
       "[-sin(q1)*cos(q3) + sin(q2)*sin(q3)*cos(q1), sin(q1)*sin(q2)*sin(q3) + cos(q1)*cos(q3), sin(q3)*cos(q2)],\n",
       "[ sin(q1)*sin(q3) + sin(q2)*cos(q1)*cos(q3), sin(q1)*sin(q2)*cos(q3) - sin(q3)*cos(q1), cos(q2)*cos(q3)]])"
      ]
     },
     "execution_count": 11,
     "metadata": {},
     "output_type": "execute_result"
    }
   ],
   "source": [
    "sm.trigsimp(R.dcm(N))"
   ]
  },
  {
   "cell_type": "code",
   "execution_count": 12,
   "metadata": {},
   "outputs": [],
   "source": [
    "#R = N.orientnew('R', 'Body', (q1, q2, q3), 'ZYX')"
   ]
  },
  {
   "cell_type": "code",
   "execution_count": 13,
   "metadata": {},
   "outputs": [
    {
     "data": {
      "image/png": "[encoded data removed]",
      "text/latex": [
       "$$\\left[\\begin{matrix}\\operatorname{cos}\\left(q_{1}\\right) \\operatorname{cos}\\left(q_{2}\\right) & \\operatorname{sin}\\left(q_{1}\\right) \\operatorname{cos}\\left(q_{2}\\right) & - \\operatorname{sin}\\left(q_{2}\\right)\\\\- \\operatorname{sin}\\left(q_{1}\\right) \\operatorname{cos}\\left(q_{3}\\right) + \\operatorname{sin}\\left(q_{2}\\right) \\operatorname{sin}\\left(q_{3}\\right) \\operatorname{cos}\\left(q_{1}\\right) & \\operatorname{sin}\\left(q_{1}\\right) \\operatorname{sin}\\left(q_{2}\\right) \\operatorname{sin}\\left(q_{3}\\right) + \\operatorname{cos}\\left(q_{1}\\right) \\operatorname{cos}\\left(q_{3}\\right) & \\operatorname{sin}\\left(q_{3}\\right) \\operatorname{cos}\\left(q_{2}\\right)\\\\\\operatorname{sin}\\left(q_{1}\\right) \\operatorname{sin}\\left(q_{3}\\right) + \\operatorname{sin}\\left(q_{2}\\right) \\operatorname{cos}\\left(q_{1}\\right) \\operatorname{cos}\\left(q_{3}\\right) & \\operatorname{sin}\\left(q_{1}\\right) \\operatorname{sin}\\left(q_{2}\\right) \\operatorname{cos}\\left(q_{3}\\right) - \\operatorname{sin}\\left(q_{3}\\right) \\operatorname{cos}\\left(q_{1}\\right) & \\operatorname{cos}\\left(q_{2}\\right) \\operatorname{cos}\\left(q_{3}\\right)\\end{matrix}\\right]$$"
      ],
      "text/plain": [
       "Matrix([\n",
       "[                           cos(q1)*cos(q2),                           sin(q1)*cos(q2),        -sin(q2)],\n",
       "[-sin(q1)*cos(q3) + sin(q2)*sin(q3)*cos(q1), sin(q1)*sin(q2)*sin(q3) + cos(q1)*cos(q3), sin(q3)*cos(q2)],\n",
       "[ sin(q1)*sin(q3) + sin(q2)*cos(q1)*cos(q3), sin(q1)*sin(q2)*cos(q3) - sin(q3)*cos(q1), cos(q2)*cos(q3)]])"
      ]
     },
     "execution_count": 13,
     "metadata": {},
     "output_type": "execute_result"
    }
   ],
   "source": [
    "R.dcm(N)"
   ]
  },
  {
   "cell_type": "code",
   "execution_count": 14,
   "metadata": {},
   "outputs": [
    {
     "data": {
      "image/png": "[encoded data removed]",
      "text/latex": [
       "$$\\dot{q}_{3}\\mathbf{\\hat{l}_x} + \\dot{q}_{2}\\mathbf{\\hat{y}_y} + \\dot{q}_{1}\\mathbf{\\hat{n}_z}$$"
      ],
      "text/plain": [
       "q1'*N.z + q2'*Y.y + q3'*L.x"
      ]
     },
     "execution_count": 14,
     "metadata": {},
     "output_type": "execute_result"
    }
   ],
   "source": [
    "w_R_N_qd = R.ang_vel_in(N)\n",
    "w_R_N_qd"
   ]
  },
  {
   "cell_type": "code",
   "execution_count": 15,
   "metadata": {},
   "outputs": [],
   "source": [
    "R.set_ang_vel(N, u1 * L.x + u2 * L.y + u3 * L.z)"
   ]
  },
  {
   "cell_type": "code",
   "execution_count": 16,
   "metadata": {},
   "outputs": [],
   "source": [
    "kd = [me.dot(R.ang_vel_in(N) - w_R_N_qd, uv) for uv in L]"
   ]
  },
  {
   "cell_type": "code",
   "execution_count": 17,
   "metadata": {},
   "outputs": [],
   "source": [
    "kd = kd + [vx - x.diff(), vy - y.diff()]"
   ]
  },
  {
   "cell_type": "code",
   "execution_count": 18,
   "metadata": {},
   "outputs": [
    {
     "data": {
      "image/png": "[encoded data removed]",
      "text/latex": [
       "$$\\left [ u_{1} + \\operatorname{sin}\\left(q_{2}\\right) \\dot{q}_{1} - \\dot{q}_{3}, \\quad u_{2} - \\dot{q}_{2}, \\quad u_{3} - \\operatorname{cos}\\left(q_{2}\\right) \\dot{q}_{1}, \\quad v_{x} - \\dot{x}, \\quad v_{y} - \\dot{y}\\right ]$$"
      ],
      "text/plain": [
       "[u1 + sin(q2)*q1' - q3', u2 - q2', u3 - cos(q2)*q1', v_x - x', v_y - y']"
      ]
     },
     "execution_count": 18,
     "metadata": {},
     "output_type": "execute_result"
    }
   ],
   "source": [
    "kd"
   ]
  },
  {
   "cell_type": "code",
   "execution_count": 19,
   "metadata": {},
   "outputs": [],
   "source": [
    "qdots = sm.solve(kd, q1.diff(), q2.diff(), q3.diff(),\n",
    "                 x.diff(), y.diff())"
   ]
  },
  {
   "cell_type": "code",
   "execution_count": 20,
   "metadata": {},
   "outputs": [
    {
     "data": {
      "image/png": "[encoded data removed]",
      "text/latex": [
       "$$\\left \\{ \\dot{q}_{1} : \\frac{u_{3}}{\\operatorname{cos}\\left(q_{2}\\right)}, \\quad \\dot{q}_{2} : u_{2}, \\quad \\dot{q}_{3} : u_{1} + u_{3} \\operatorname{tan}\\left(q_{2}\\right), \\quad \\dot{x} : v_{x}, \\quad \\dot{y} : v_{y}\\right \\}$$"
      ],
      "text/plain": [
       "{q1': u3/cos(q2), q2': u2, q3': u1 + u3*tan(q2), x': v_x, y': v_y}"
      ]
     },
     "execution_count": 20,
     "metadata": {},
     "output_type": "execute_result"
    }
   ],
   "source": [
    "qdots"
   ]
  },
  {
   "cell_type": "code",
   "execution_count": 21,
   "metadata": {},
   "outputs": [],
   "source": [
    "No = me.Point('No')\n",
    "No.set_vel(N, 0)"
   ]
  },
  {
   "cell_type": "code",
   "execution_count": 22,
   "metadata": {},
   "outputs": [],
   "source": [
    "C = No.locatenew('C', x * N.x + y * N.y)"
   ]
  },
  {
   "cell_type": "code",
   "execution_count": 23,
   "metadata": {},
   "outputs": [],
   "source": [
    "C.set_vel(N, vx * N.x + vy * N.y)"
   ]
  },
  {
   "cell_type": "code",
   "execution_count": 24,
   "metadata": {},
   "outputs": [],
   "source": [
    "Ro = C.locatenew('Ro', r * L.z)"
   ]
  },
  {
   "cell_type": "code",
   "execution_count": 25,
   "metadata": {},
   "outputs": [
    {
     "data": {
      "image/png": "[encoded data removed]",
      "text/latex": [
       "$$v_{x}\\mathbf{\\hat{n}_x} + v_{y}\\mathbf{\\hat{n}_y} + r \\dot{q}_{2}\\mathbf{\\hat{l}_x} + r \\operatorname{sin}\\left(q_{2}\\right) \\dot{q}_{1}\\mathbf{\\hat{l}_y}$$"
      ],
      "text/plain": [
       "v_x*N.x + v_y*N.y + r*q2'*L.x + r*sin(q2)*q1'*L.y"
      ]
     },
     "execution_count": 25,
     "metadata": {},
     "output_type": "execute_result"
    }
   ],
   "source": [
    "v_Ro_N = Ro.v2pt_theory(C, N, L)\n",
    "v_Ro_N"
   ]
  },
  {
   "cell_type": "code",
   "execution_count": 26,
   "metadata": {},
   "outputs": [
    {
     "data": {
      "image/png": "[encoded data removed]",
      "text/latex": [
       "$$v_{x}\\mathbf{\\hat{n}_x} + v_{y}\\mathbf{\\hat{n}_y} + r u_{2}\\mathbf{\\hat{l}_x} + \\frac{r \\operatorname{sin}\\left(q_{2}\\right)}{\\operatorname{cos}\\left(q_{2}\\right)} u_{3}\\mathbf{\\hat{l}_y}$$"
      ],
      "text/plain": [
       "v_x*N.x + v_y*N.y + r*u2*L.x + r*u3*sin(q2)/cos(q2)*L.y"
      ]
     },
     "execution_count": 26,
     "metadata": {},
     "output_type": "execute_result"
    }
   ],
   "source": [
    "v_Ro_N.subs(qdots)"
   ]
  },
  {
   "cell_type": "code",
   "execution_count": 27,
   "metadata": {},
   "outputs": [],
   "source": [
    "Ro.set_vel(N, v_Ro_N.subs(qdots))"
   ]
  },
  {
   "cell_type": "code",
   "execution_count": 28,
   "metadata": {},
   "outputs": [
    {
     "data": {
      "image/png": "[encoded data removed]",
      "text/latex": [
       "$$\\dot{v}_{x}\\mathbf{\\hat{n}_x} + \\dot{v}_{y}\\mathbf{\\hat{n}_y} + (- r \\operatorname{sin}\\left(q_{2}\\right) \\operatorname{cos}\\left(q_{2}\\right) \\dot{q}_{1}^{2} + r \\ddot{q}_{2})\\mathbf{\\hat{l}_x} + (- r \\left(- \\operatorname{sin}\\left(q_{2}\\right) \\ddot{q}_{1} - \\operatorname{cos}\\left(q_{2}\\right) \\dot{q}_{1} \\dot{q}_{2}\\right) + r \\operatorname{cos}\\left(q_{2}\\right) \\dot{q}_{1} \\dot{q}_{2})\\mathbf{\\hat{l}_y} + (- r \\operatorname{sin}^{2}\\left(q_{2}\\right) \\dot{q}_{1}^{2} - r \\dot{q}_{2}^{2})\\mathbf{\\hat{l}_z}$$"
      ],
      "text/plain": [
       "v_x'*N.x + v_y'*N.y + (-r*sin(q2)*cos(q2)*q1'**2 + r*q2'')*L.x + (-r*(-sin(q2)*q1'' - cos(q2)*q1'*q2') + r*cos(q2)*q1'*q2')*L.y + (-r*sin(q2)**2*q1'**2 - r*q2'**2)*L.z"
      ]
     },
     "execution_count": 28,
     "metadata": {},
     "output_type": "execute_result"
    }
   ],
   "source": [
    "Ro.a2pt_theory(C, N, L)"
   ]
  },
  {
   "cell_type": "code",
   "execution_count": 29,
   "metadata": {},
   "outputs": [],
   "source": [
    "qddots = {k.diff(): v.diff(me.dynamicsymbols._t).subs(qdots)\n",
    "          for k, v in qdots.items()}"
   ]
  },
  {
   "cell_type": "code",
   "execution_count": 30,
   "metadata": {},
   "outputs": [
    {
     "data": {
      "image/png": "[encoded data removed]",
      "text/latex": [
       "$$\\left \\{ \\ddot{q}_{1} : \\frac{u_{2} \\operatorname{sin}\\left(q_{2}\\right)}{\\operatorname{cos}^{2}\\left(q_{2}\\right)} u_{3} + \\frac{\\dot{u}_{3}}{\\operatorname{cos}\\left(q_{2}\\right)}, \\quad \\ddot{q}_{2} : \\dot{u}_{2}, \\quad \\ddot{q}_{3} : \\left(\\operatorname{tan}^{2}\\left(q_{2}\\right) + 1\\right) u_{2} u_{3} + \\operatorname{tan}\\left(q_{2}\\right) \\dot{u}_{3} + \\dot{u}_{1}, \\quad \\ddot{x} : \\dot{v}_{x}, \\quad \\ddot{y} : \\dot{v}_{y}\\right \\}$$"
      ],
      "text/plain": [
       "{q1'': u2*u3*sin(q2)/cos(q2)**2 + u3'/cos(q2), q2'': u2', q3'': (tan(q2)**2 + 1)*u2*u3 + tan(q2)*u3' + u1', x'': v_x', y'': v_y'}"
      ]
     },
     "execution_count": 30,
     "metadata": {},
     "output_type": "execute_result"
    }
   ],
   "source": [
    "qddots"
   ]
  },
  {
   "cell_type": "code",
   "execution_count": 31,
   "metadata": {},
   "outputs": [],
   "source": [
    "a_Ro_N = Ro.a2pt_theory(C, N, L)"
   ]
  },
  {
   "cell_type": "code",
   "execution_count": 32,
   "metadata": {},
   "outputs": [
    {
     "data": {
      "image/png": "[encoded data removed]",
      "text/latex": [
       "$$\\left \\{ \\dot{q}_{1} : \\frac{u_{3}}{\\operatorname{cos}\\left(q_{2}\\right)}, \\quad \\dot{q}_{2} : u_{2}, \\quad \\dot{q}_{3} : u_{1} + u_{3} \\operatorname{tan}\\left(q_{2}\\right), \\quad \\dot{x} : v_{x}, \\quad \\dot{y} : v_{y}\\right \\}$$"
      ],
      "text/plain": [
       "{q1': u3/cos(q2), q2': u2, q3': u1 + u3*tan(q2), x': v_x, y': v_y}"
      ]
     },
     "execution_count": 32,
     "metadata": {},
     "output_type": "execute_result"
    }
   ],
   "source": [
    "qdots"
   ]
  },
  {
   "cell_type": "code",
   "execution_count": 33,
   "metadata": {},
   "outputs": [
    {
     "data": {
      "image/png": "[encoded data removed]",
      "text/latex": [
       "$$\\dot{v}_{x}\\mathbf{\\hat{n}_x} + \\dot{v}_{y}\\mathbf{\\hat{n}_y} + (- r \\operatorname{sin}\\left(q_{2}\\right) \\operatorname{cos}\\left(q_{2}\\right) \\dot{q}_{1}^{2} + r \\ddot{q}_{2})\\mathbf{\\hat{l}_x} + (- r \\left(- \\operatorname{sin}\\left(q_{2}\\right) \\ddot{q}_{1} - \\operatorname{cos}\\left(q_{2}\\right) \\dot{q}_{1} \\dot{q}_{2}\\right) + r \\operatorname{cos}\\left(q_{2}\\right) \\dot{q}_{1} \\dot{q}_{2})\\mathbf{\\hat{l}_y} + (- r \\operatorname{sin}^{2}\\left(q_{2}\\right) \\dot{q}_{1}^{2} - r \\dot{q}_{2}^{2})\\mathbf{\\hat{l}_z}$$"
      ],
      "text/plain": [
       "v_x'*N.x + v_y'*N.y + (-r*sin(q2)*cos(q2)*q1'**2 + r*q2'')*L.x + (-r*(-sin(q2)*q1'' - cos(q2)*q1'*q2') + r*cos(q2)*q1'*q2')*L.y + (-r*sin(q2)**2*q1'**2 - r*q2'**2)*L.z"
      ]
     },
     "execution_count": 33,
     "metadata": {},
     "output_type": "execute_result"
    }
   ],
   "source": [
    "a_Ro_N"
   ]
  },
  {
   "cell_type": "code",
   "execution_count": 34,
   "metadata": {},
   "outputs": [
    {
     "data": {
      "image/png": "[encoded data removed]",
      "text/latex": [
       "$$\\dot{v}_{x}\\mathbf{\\hat{n}_x} + \\dot{v}_{y}\\mathbf{\\hat{n}_y} + (- \\frac{r u^{2}_{3}}{\\operatorname{cos}\\left(q_{2}\\right)} \\operatorname{sin}\\left(q_{2}\\right) + r \\dot{u}_{2})\\mathbf{\\hat{l}_x} + (- r \\left(- u_{2} u_{3} - \\operatorname{sin}\\left(q_{2}\\right) \\frac{\\operatorname{sin}\\left(q_{2}\\right) \\dot{q}_{2}}{\\operatorname{cos}^{2}\\left(q_{2}\\right)} u_{3} + \\frac{\\dot{u}_{3}}{\\operatorname{cos}\\left(q_{2}\\right)}\\right) + r u_{2} u_{3})\\mathbf{\\hat{l}_y} + (- r u^{2}_{2} - \\frac{r \\operatorname{sin}^{2}\\left(q_{2}\\right)}{\\operatorname{cos}^{2}\\left(q_{2}\\right)} u^{2}_{3})\\mathbf{\\hat{l}_z}$$"
      ],
      "text/plain": [
       "v_x'*N.x + v_y'*N.y + (-r*u3**2*sin(q2)/cos(q2) + r*u2')*L.x + (-r*(-u2*u3 - sin(q2)*Derivative(u3(t)/cos(q2(t)), t)) + r*u2*u3)*L.y + (-r*u2**2 - r*u3**2*sin(q2)**2/cos(q2)**2)*L.z"
      ]
     },
     "execution_count": 34,
     "metadata": {},
     "output_type": "execute_result"
    }
   ],
   "source": [
    "a_Ro_N.subs(qdots)"
   ]
  },
  {
   "cell_type": "code",
   "execution_count": 35,
   "metadata": {},
   "outputs": [],
   "source": [
    "Ro.set_acc(N, a_Ro_N.subs(qddots).subs(qdots))"
   ]
  },
  {
   "cell_type": "markdown",
   "metadata": {},
   "source": [
    "# Velocity constraints"
   ]
  },
  {
   "cell_type": "code",
   "execution_count": 36,
   "metadata": {},
   "outputs": [
    {
     "data": {
      "image/png": "[encoded data removed]",
      "text/latex": [
       "$$v_{x}\\mathbf{\\hat{n}_x} + v_{y}\\mathbf{\\hat{n}_y} + (r u_{1} + \\frac{r \\operatorname{sin}\\left(q_{2}\\right)}{\\operatorname{cos}\\left(q_{2}\\right)} u_{3})\\mathbf{\\hat{l}_y}$$"
      ],
      "text/plain": [
       "v_x*N.x + v_y*N.y + (r*u1 + r*u3*sin(q2)/cos(q2))*L.y"
      ]
     },
     "execution_count": 36,
     "metadata": {},
     "output_type": "execute_result"
    }
   ],
   "source": [
    "v_C_N = C.v2pt_theory(Ro, N, R)\n",
    "v_C_N"
   ]
  },
  {
   "cell_type": "code",
   "execution_count": 37,
   "metadata": {},
   "outputs": [
    {
     "data": {
      "image/png": "[encoded data removed]",
      "text/latex": [
       "$$v_{x} \\operatorname{cos}\\left(q_{1}\\right) + v_{y} \\operatorname{sin}\\left(q_{1}\\right)$$"
      ],
      "text/plain": [
       "v_x*cos(q1) + v_y*sin(q1)"
      ]
     },
     "execution_count": 37,
     "metadata": {},
     "output_type": "execute_result"
    }
   ],
   "source": [
    "con1 = v_C_N.dot(Y.x)\n",
    "con1"
   ]
  },
  {
   "cell_type": "code",
   "execution_count": 38,
   "metadata": {},
   "outputs": [
    {
     "data": {
      "image/png": "[encoded data removed]",
      "text/latex": [
       "$$r u_{1} + \\frac{r \\operatorname{sin}\\left(q_{2}\\right)}{\\operatorname{cos}\\left(q_{2}\\right)} u_{3} - v_{x} \\operatorname{sin}\\left(q_{1}\\right) + v_{y} \\operatorname{cos}\\left(q_{1}\\right)$$"
      ],
      "text/plain": [
       "r*u1 + r*u3*sin(q2)/cos(q2) - v_x*sin(q1) + v_y*cos(q1)"
      ]
     },
     "execution_count": 38,
     "metadata": {},
     "output_type": "execute_result"
    }
   ],
   "source": [
    "con2 = v_C_N.dot(Y.y)\n",
    "con2"
   ]
  },
  {
   "cell_type": "code",
   "execution_count": 39,
   "metadata": {},
   "outputs": [],
   "source": [
    "vel_cons = [con1, con2]"
   ]
  },
  {
   "cell_type": "code",
   "execution_count": 40,
   "metadata": {},
   "outputs": [
    {
     "data": {
      "image/png": "[encoded data removed]",
      "text/latex": [
       "$$\\left \\{ v_{x} : r \\left(u_{1} + u_{3} \\operatorname{tan}\\left(q_{2}\\right)\\right) \\operatorname{sin}\\left(q_{1}\\right), \\quad v_{y} : - r \\left(u_{1} + u_{3} \\operatorname{tan}\\left(q_{2}\\right)\\right) \\operatorname{cos}\\left(q_{1}\\right)\\right \\}$$"
      ],
      "text/plain": [
       "{v_x: r*(u1 + u3*tan(q2))*sin(q1), v_y: -r*(u1 + u3*tan(q2))*cos(q1)}"
      ]
     },
     "execution_count": 40,
     "metadata": {},
     "output_type": "execute_result"
    }
   ],
   "source": [
    "dep_speeds = sm.solve(vel_cons, vx, vy)\n",
    "dep_speeds"
   ]
  },
  {
   "cell_type": "code",
   "execution_count": 41,
   "metadata": {},
   "outputs": [
    {
     "data": {
      "image/png": "[encoded data removed]",
      "text/latex": [
       "$$v_{x}\\mathbf{\\hat{n}_x} + v_{y}\\mathbf{\\hat{n}_y} + r u_{2}\\mathbf{\\hat{l}_x} + \\frac{r \\operatorname{sin}\\left(q_{2}\\right)}{\\operatorname{cos}\\left(q_{2}\\right)} u_{3}\\mathbf{\\hat{l}_y}$$"
      ],
      "text/plain": [
       "v_x*N.x + v_y*N.y + r*u2*L.x + r*u3*sin(q2)/cos(q2)*L.y"
      ]
     },
     "execution_count": 41,
     "metadata": {},
     "output_type": "execute_result"
    }
   ],
   "source": [
    "Ro.vel(N)"
   ]
  },
  {
   "cell_type": "code",
   "execution_count": 42,
   "metadata": {},
   "outputs": [
    {
     "data": {
      "image/png": "[encoded data removed]",
      "text/latex": [
       "$$\\dot{v}_{x}\\mathbf{\\hat{n}_x} + \\dot{v}_{y}\\mathbf{\\hat{n}_y} + (- \\frac{r u^{2}_{3}}{\\operatorname{cos}\\left(q_{2}\\right)} \\operatorname{sin}\\left(q_{2}\\right) + r \\dot{u}_{2})\\mathbf{\\hat{l}_x} + (- r \\left(- \\left(\\frac{u_{2} \\operatorname{sin}\\left(q_{2}\\right)}{\\operatorname{cos}^{2}\\left(q_{2}\\right)} u_{3} + \\frac{\\dot{u}_{3}}{\\operatorname{cos}\\left(q_{2}\\right)}\\right) \\operatorname{sin}\\left(q_{2}\\right) - u_{2} u_{3}\\right) + r u_{2} u_{3})\\mathbf{\\hat{l}_y} + (- r u^{2}_{2} - \\frac{r \\operatorname{sin}^{2}\\left(q_{2}\\right)}{\\operatorname{cos}^{2}\\left(q_{2}\\right)} u^{2}_{3})\\mathbf{\\hat{l}_z}$$"
      ],
      "text/plain": [
       "v_x'*N.x + v_y'*N.y + (-r*u3**2*sin(q2)/cos(q2) + r*u2')*L.x + (-r*(-(u2*u3*sin(q2)/cos(q2)**2 + u3'/cos(q2))*sin(q2) - u2*u3) + r*u2*u3)*L.y + (-r*u2**2 - r*u3**2*sin(q2)**2/cos(q2)**2)*L.z"
      ]
     },
     "execution_count": 42,
     "metadata": {},
     "output_type": "execute_result"
    }
   ],
   "source": [
    "Ro.acc(N)"
   ]
  },
  {
   "cell_type": "code",
   "execution_count": 43,
   "metadata": {},
   "outputs": [
    {
     "data": {
      "image/png": "[encoded data removed]",
      "text/latex": [
       "$$u_{1}\\mathbf{\\hat{l}_x} + u_{2}\\mathbf{\\hat{l}_y} + u_{3}\\mathbf{\\hat{l}_z}$$"
      ],
      "text/plain": [
       "u1*L.x + u2*L.y + u3*L.z"
      ]
     },
     "execution_count": 43,
     "metadata": {},
     "output_type": "execute_result"
    }
   ],
   "source": [
    "R.ang_vel_in(N)"
   ]
  },
  {
   "cell_type": "code",
   "execution_count": 44,
   "metadata": {},
   "outputs": [
    {
     "data": {
      "image/png": "[encoded data removed]",
      "text/latex": [
       "$$r \\left(u_{1} + u_{3} \\operatorname{tan}\\left(q_{2}\\right)\\right) \\operatorname{sin}\\left(q_{1}\\right)\\mathbf{\\hat{n}_x} -  r \\left(u_{1} + u_{3} \\operatorname{tan}\\left(q_{2}\\right)\\right) \\operatorname{cos}\\left(q_{1}\\right)\\mathbf{\\hat{n}_y} + r u_{2}\\mathbf{\\hat{l}_x} + \\frac{r \\operatorname{sin}\\left(q_{2}\\right)}{\\operatorname{cos}\\left(q_{2}\\right)} u_{3}\\mathbf{\\hat{l}_y}$$"
      ],
      "text/plain": [
       "r*(u1 + u3*tan(q2))*sin(q1)*N.x - r*(u1 + u3*tan(q2))*cos(q1)*N.y + r*u2*L.x + r*u3*sin(q2)/cos(q2)*L.y"
      ]
     },
     "execution_count": 44,
     "metadata": {},
     "output_type": "execute_result"
    }
   ],
   "source": [
    "Ro.set_vel(N, Ro.vel(N).subs(dep_speeds))\n",
    "Ro.vel(N)"
   ]
  },
  {
   "cell_type": "code",
   "execution_count": 45,
   "metadata": {},
   "outputs": [],
   "source": [
    "t = me.dynamicsymbols._t"
   ]
  },
  {
   "cell_type": "code",
   "execution_count": 46,
   "metadata": {},
   "outputs": [
    {
     "data": {
      "image/png": "[encoded data removed]",
      "text/latex": [
       "$$\\left \\{ \\dot{v}_{x} : \\frac{r \\operatorname{cos}\\left(q_{1}\\right)}{\\operatorname{cos}\\left(q_{2}\\right)} \\left(u_{1} + u_{3} \\operatorname{tan}\\left(q_{2}\\right)\\right) u_{3} + r \\left(\\left(\\operatorname{tan}^{2}\\left(q_{2}\\right) + 1\\right) u_{2} u_{3} + \\operatorname{tan}\\left(q_{2}\\right) \\dot{u}_{3} + \\dot{u}_{1}\\right) \\operatorname{sin}\\left(q_{1}\\right), \\quad \\dot{v}_{y} : \\frac{r \\operatorname{sin}\\left(q_{1}\\right)}{\\operatorname{cos}\\left(q_{2}\\right)} \\left(u_{1} + u_{3} \\operatorname{tan}\\left(q_{2}\\right)\\right) u_{3} - r \\left(\\left(\\operatorname{tan}^{2}\\left(q_{2}\\right) + 1\\right) u_{2} u_{3} + \\operatorname{tan}\\left(q_{2}\\right) \\dot{u}_{3} + \\dot{u}_{1}\\right) \\operatorname{cos}\\left(q_{1}\\right)\\right \\}$$"
      ],
      "text/plain": [
       "{v_x': r*(u1 + u3*tan(q2))*u3*cos(q1)/cos(q2) + r*((tan(q2)**2 + 1)*u2*u3 + tan(q2)*u3' + u1')*sin(q1), v_y': r*(u1 + u3*tan(q2))*u3*sin(q1)/cos(q2) - r*((tan(q2)**2 + 1)*u2*u3 + tan(q2)*u3' + u1')*cos(q1)}"
      ]
     },
     "execution_count": 46,
     "metadata": {},
     "output_type": "execute_result"
    }
   ],
   "source": [
    "dep_accs = {k.diff(): v.diff(t).subs(qdots) for k, v in dep_speeds.items()}\n",
    "dep_accs"
   ]
  },
  {
   "cell_type": "code",
   "execution_count": 47,
   "metadata": {},
   "outputs": [
    {
     "data": {
      "image/png": "[encoded data removed]",
      "text/latex": [
       "$$(\\frac{r \\operatorname{cos}\\left(q_{1}\\right)}{\\operatorname{cos}\\left(q_{2}\\right)} \\left(u_{1} + u_{3} \\operatorname{tan}\\left(q_{2}\\right)\\right) u_{3} + r \\left(\\left(\\operatorname{tan}^{2}\\left(q_{2}\\right) + 1\\right) u_{2} u_{3} + \\operatorname{tan}\\left(q_{2}\\right) \\dot{u}_{3} + \\dot{u}_{1}\\right) \\operatorname{sin}\\left(q_{1}\\right))\\mathbf{\\hat{n}_x} + (\\frac{r \\operatorname{sin}\\left(q_{1}\\right)}{\\operatorname{cos}\\left(q_{2}\\right)} \\left(u_{1} + u_{3} \\operatorname{tan}\\left(q_{2}\\right)\\right) u_{3} - r \\left(\\left(\\operatorname{tan}^{2}\\left(q_{2}\\right) + 1\\right) u_{2} u_{3} + \\operatorname{tan}\\left(q_{2}\\right) \\dot{u}_{3} + \\dot{u}_{1}\\right) \\operatorname{cos}\\left(q_{1}\\right))\\mathbf{\\hat{n}_y} + (- \\frac{r u^{2}_{3}}{\\operatorname{cos}\\left(q_{2}\\right)} \\operatorname{sin}\\left(q_{2}\\right) + r \\dot{u}_{2})\\mathbf{\\hat{l}_x} + (- r \\left(- \\left(\\frac{u_{2} \\operatorname{sin}\\left(q_{2}\\right)}{\\operatorname{cos}^{2}\\left(q_{2}\\right)} u_{3} + \\frac{\\dot{u}_{3}}{\\operatorname{cos}\\left(q_{2}\\right)}\\right) \\operatorname{sin}\\left(q_{2}\\right) - u_{2} u_{3}\\right) + r u_{2} u_{3})\\mathbf{\\hat{l}_y} + (- r u^{2}_{2} - \\frac{r \\operatorname{sin}^{2}\\left(q_{2}\\right)}{\\operatorname{cos}^{2}\\left(q_{2}\\right)} u^{2}_{3})\\mathbf{\\hat{l}_z}$$"
      ],
      "text/plain": [
       "(r*(u1 + u3*tan(q2))*u3*cos(q1)/cos(q2) + r*((tan(q2)**2 + 1)*u2*u3 + tan(q2)*u3' + u1')*sin(q1))*N.x + (r*(u1 + u3*tan(q2))*u3*sin(q1)/cos(q2) - r*((tan(q2)**2 + 1)*u2*u3 + tan(q2)*u3' + u1')*cos(q1))*N.y + (-r*u3**2*sin(q2)/cos(q2) + r*u2')*L.x + (-r*(-(u2*u3*sin(q2)/cos(q2)**2 + u3'/cos(q2))*sin(q2) - u2*u3) + r*u2*u3)*L.y + (-r*u2**2 - r*u3**2*sin(q2)**2/cos(q2)**2)*L.z"
      ]
     },
     "execution_count": 47,
     "metadata": {},
     "output_type": "execute_result"
    }
   ],
   "source": [
    "Ro.set_acc(N, Ro.acc(N).subs(dep_accs).subs(dep_speeds))\n",
    "Ro.acc(N)"
   ]
  },
  {
   "cell_type": "code",
   "execution_count": 48,
   "metadata": {},
   "outputs": [],
   "source": [
    "loads = [(Ro, -m * g * N.z)]"
   ]
  },
  {
   "cell_type": "code",
   "execution_count": 49,
   "metadata": {},
   "outputs": [],
   "source": [
    "I = me.inertia(L, m / 4 * r**2, m / 2 * r**2, m / 4 * r**2)"
   ]
  },
  {
   "cell_type": "code",
   "execution_count": 50,
   "metadata": {},
   "outputs": [],
   "source": [
    "disc = me.RigidBody('disc', Ro, R, m, (I, Ro))"
   ]
  },
  {
   "cell_type": "code",
   "execution_count": 51,
   "metadata": {},
   "outputs": [],
   "source": [
    "bodies = [disc]"
   ]
  },
  {
   "cell_type": "code",
   "execution_count": 52,
   "metadata": {},
   "outputs": [],
   "source": [
    "kane = me.KanesMethod(N,\n",
    "                      q_ind=(q1, q2, q3, x, y),\n",
    "                      u_ind=(u1, u2, u3),\n",
    "                      kd_eqs=kd,\n",
    "                      u_dependent=(vx, vy),\n",
    "                      velocity_constraints=vel_cons)"
   ]
  },
  {
   "cell_type": "code",
   "execution_count": 53,
   "metadata": {},
   "outputs": [],
   "source": [
    "fr, frstar = kane.kanes_equations(bodies, loads)"
   ]
  },
  {
   "cell_type": "code",
   "execution_count": 54,
   "metadata": {},
   "outputs": [
    {
     "data": {
      "image/png": "[encoded data removed]",
      "text/latex": [
       "$$\\left ( 3, \\quad 1\\right )$$"
      ],
      "text/plain": [
       "(3, 1)"
      ]
     },
     "execution_count": 54,
     "metadata": {},
     "output_type": "execute_result"
    }
   ],
   "source": [
    "fr.shape"
   ]
  },
  {
   "cell_type": "code",
   "execution_count": 55,
   "metadata": {},
   "outputs": [
    {
     "data": {
      "image/png": "[encoded data removed]",
      "text/latex": [
       "$$\\left ( 3, \\quad 1\\right )$$"
      ],
      "text/plain": [
       "(3, 1)"
      ]
     },
     "execution_count": 55,
     "metadata": {},
     "output_type": "execute_result"
    }
   ],
   "source": [
    "frstar.shape"
   ]
  },
  {
   "cell_type": "code",
   "execution_count": 56,
   "metadata": {},
   "outputs": [
    {
     "data": {
      "image/png": "[encoded data removed]",
      "text/latex": [
       "$$\\left\\{q_{2}\\right\\}$$"
      ],
      "text/plain": [
       "{q2}"
      ]
     },
     "execution_count": 56,
     "metadata": {},
     "output_type": "execute_result"
    }
   ],
   "source": [
    "me.find_dynamicsymbols(fr)"
   ]
  },
  {
   "cell_type": "code",
   "execution_count": 57,
   "metadata": {},
   "outputs": [
    {
     "data": {
      "image/png": "[encoded data removed]",
      "text/latex": [
       "$$\\left\\{q_{1}, q_{2}, u_{1}, u_{2}, u_{3}, \\dot{u}_{1}, \\dot{u}_{2}, \\dot{u}_{3}\\right\\}$$"
      ],
      "text/plain": [
       "{q1, q2, u1, u2, u3, u1', u2', u3'}"
      ]
     },
     "execution_count": 57,
     "metadata": {},
     "output_type": "execute_result"
    }
   ],
   "source": [
    "me.find_dynamicsymbols(frstar)"
   ]
  },
  {
   "cell_type": "code",
   "execution_count": 58,
   "metadata": {},
   "outputs": [],
   "source": [
    "zero = sm.trigsimp(fr + frstar)"
   ]
  },
  {
   "cell_type": "code",
   "execution_count": 59,
   "metadata": {},
   "outputs": [
    {
     "data": {
      "image/png": "[encoded data removed]",
      "text/latex": [
       "$$\\left[\\begin{matrix}\\frac{5 m}{4} r^{2} \\left(u_{2} u_{3} - \\dot{u}_{1}\\right)\\\\m r \\left(g \\operatorname{sin}\\left(q_{2}\\right) - \\frac{5 r}{4} u_{1} u_{3} - \\frac{r u^{2}_{3}}{4} \\operatorname{tan}\\left(q_{2}\\right) - \\frac{3 r}{2} \\dot{u}_{2}\\right)\\\\\\frac{m r^{2}}{4} \\left(u_{1} u_{2} + 2 u_{2} u_{3} \\operatorname{tan}\\left(q_{2}\\right) - \\dot{u}_{3}\\right)\\end{matrix}\\right]$$"
      ],
      "text/plain": [
       "Matrix([\n",
       "[                                     5*m*r**2*(u2*u3 - u1')/4],\n",
       "[m*r*(g*sin(q2) - 5*r*u1*u3/4 - r*u3**2*tan(q2)/4 - 3*r*u2'/2)],\n",
       "[                     m*r**2*(u1*u2 + 2*u2*u3*tan(q2) - u3')/4]])"
      ]
     },
     "execution_count": 59,
     "metadata": {},
     "output_type": "execute_result"
    }
   ],
   "source": [
    "zero"
   ]
  },
  {
   "cell_type": "code",
   "execution_count": 60,
   "metadata": {},
   "outputs": [],
   "source": [
    "u = sm.Matrix([u1, u2, u3])"
   ]
  },
  {
   "cell_type": "code",
   "execution_count": 61,
   "metadata": {},
   "outputs": [
    {
     "data": {
      "image/png": "[encoded data removed]",
      "text/latex": [
       "$$\\left[\\begin{matrix}- \\frac{5 m}{4} r^{2} & 0 & 0\\\\0 & - \\frac{3 m}{2} r^{2} & 0\\\\0 & 0 & - \\frac{m r^{2}}{4}\\end{matrix}\\right]$$"
      ],
      "text/plain": [
       "Matrix([\n",
       "[-5*m*r**2/4,           0,         0],\n",
       "[          0, -3*m*r**2/2,         0],\n",
       "[          0,           0, -m*r**2/4]])"
      ]
     },
     "execution_count": 61,
     "metadata": {},
     "output_type": "execute_result"
    }
   ],
   "source": [
    "M = zero.jacobian(u.diff())\n",
    "M"
   ]
  },
  {
   "cell_type": "code",
   "execution_count": 62,
   "metadata": {},
   "outputs": [
    {
     "data": {
      "image/png": "[encoded data removed]",
      "text/latex": [
       "$$\\left[\\begin{matrix}- \\frac{5 m}{4} r^{2} u_{2} u_{3}\\\\\\frac{m r}{4} \\left(- 4 g \\operatorname{sin}\\left(q_{2}\\right) + 5 r u_{1} u_{3} + r u^{2}_{3} \\operatorname{tan}\\left(q_{2}\\right)\\right)\\\\- \\frac{m r^{2}}{4} \\left(u_{1} + 2 u_{3} \\operatorname{tan}\\left(q_{2}\\right)\\right) u_{2}\\end{matrix}\\right]$$"
      ],
      "text/plain": [
       "Matrix([\n",
       "[                                 -5*m*r**2*u2*u3/4],\n",
       "[m*r*(-4*g*sin(q2) + 5*r*u1*u3 + r*u3**2*tan(q2))/4],\n",
       "[                  -m*r**2*(u1 + 2*u3*tan(q2))*u2/4]])"
      ]
     },
     "execution_count": 62,
     "metadata": {},
     "output_type": "execute_result"
    }
   ],
   "source": [
    "G = sm.simplify(M * u.diff() - zero)\n",
    "G"
   ]
  },
  {
   "cell_type": "code",
   "execution_count": 63,
   "metadata": {},
   "outputs": [
    {
     "data": {
      "image/png": "[encoded data removed]",
      "text/latex": [
       "$$\\left[\\begin{matrix}\\dot{u}_{1}\\\\\\dot{u}_{2}\\\\\\dot{u}_{3}\\end{matrix}\\right] = \\left[\\begin{matrix}u_{2} u_{3}\\\\- \\frac{1}{6 r} \\left(- 4 g \\operatorname{sin}\\left(q_{2}\\right) + 5 r u_{1} u_{3} + r u^{2}_{3} \\operatorname{tan}\\left(q_{2}\\right)\\right)\\\\\\left(u_{1} + 2 u_{3} \\operatorname{tan}\\left(q_{2}\\right)\\right) u_{2}\\end{matrix}\\right]$$"
      ],
      "text/plain": [
       "Eq(Matrix([[Derivative(u1(t), t)], [Derivative(u2(t), t)], [Derivative(u3(t), t)]]), Matrix([[u2(t)*u3(t)], [-(-4*g*sin(q2(t)) + 5*r*u1(t)*u3(t) + r*u3(t)**2*tan(q2(t)))/(6*r)], [(u1(t) + 2*u3(t)*tan(q2(t)))*u2(t)]]))"
      ]
     },
     "execution_count": 63,
     "metadata": {},
     "output_type": "execute_result"
    }
   ],
   "source": [
    "udots = M.LUsolve(G)\n",
    "sm.Eq(u.diff(), udots)"
   ]
  },
  {
   "cell_type": "code",
   "execution_count": 64,
   "metadata": {},
   "outputs": [
    {
     "data": {
      "image/png": "[encoded data removed]",
      "text/latex": [
       "$$\\left\\{q_{2}, u_{1}, u_{2}, u_{3}\\right\\}$$"
      ],
      "text/plain": [
       "{q2, u1, u2, u3}"
      ]
     },
     "execution_count": 64,
     "metadata": {},
     "output_type": "execute_result"
    }
   ],
   "source": [
    "me.find_dynamicsymbols(udots)"
   ]
  },
  {
   "cell_type": "code",
   "execution_count": 65,
   "metadata": {},
   "outputs": [
    {
     "data": {
      "image/png": "[encoded data removed]",
      "text/latex": [
       "$$\\left \\{ \\dot{q}_{1} : \\frac{u_{3}}{\\operatorname{cos}\\left(q_{2}\\right)}, \\quad \\dot{q}_{2} : u_{2}, \\quad \\dot{q}_{3} : u_{1} + u_{3} \\operatorname{tan}\\left(q_{2}\\right), \\quad \\dot{x} : v_{x}, \\quad \\dot{y} : v_{y}\\right \\}$$"
      ],
      "text/plain": [
       "{q1': u3/cos(q2), q2': u2, q3': u1 + u3*tan(q2), x': v_x, y': v_y}"
      ]
     },
     "execution_count": 65,
     "metadata": {},
     "output_type": "execute_result"
    }
   ],
   "source": [
    "qdots"
   ]
  },
  {
   "cell_type": "code",
   "execution_count": 66,
   "metadata": {},
   "outputs": [
    {
     "data": {
      "image/png": "[encoded data removed]",
      "text/latex": [
       "$$\\left \\{ v_{x} : r \\left(u_{1} + u_{3} \\operatorname{tan}\\left(q_{2}\\right)\\right) \\operatorname{sin}\\left(q_{1}\\right), \\quad v_{y} : - r \\left(u_{1} + u_{3} \\operatorname{tan}\\left(q_{2}\\right)\\right) \\operatorname{cos}\\left(q_{1}\\right)\\right \\}$$"
      ],
      "text/plain": [
       "{v_x: r*(u1 + u3*tan(q2))*sin(q1), v_y: -r*(u1 + u3*tan(q2))*cos(q1)}"
      ]
     },
     "execution_count": 66,
     "metadata": {},
     "output_type": "execute_result"
    }
   ],
   "source": [
    "dep_speeds"
   ]
  },
  {
   "cell_type": "code",
   "execution_count": 67,
   "metadata": {},
   "outputs": [
    {
     "data": {
      "image/png": "[encoded data removed]",
      "text/latex": [
       "$$\\left[\\begin{matrix}\\frac{u_{3}}{\\operatorname{cos}\\left(q_{2}\\right)}\\\\u_{2}\\\\u_{1} + u_{3} \\operatorname{tan}\\left(q_{2}\\right)\\\\r \\left(u_{1} + u_{3} \\operatorname{tan}\\left(q_{2}\\right)\\right) \\operatorname{sin}\\left(q_{1}\\right)\\\\- r \\left(u_{1} + u_{3} \\operatorname{tan}\\left(q_{2}\\right)\\right) \\operatorname{cos}\\left(q_{1}\\right)\\\\u_{2} u_{3}\\\\- \\frac{1}{6 r} \\left(- 4 g \\operatorname{sin}\\left(q_{2}\\right) + 5 r u_{1} u_{3} + r u^{2}_{3} \\operatorname{tan}\\left(q_{2}\\right)\\right)\\\\\\left(u_{1} + 2 u_{3} \\operatorname{tan}\\left(q_{2}\\right)\\right) u_{2}\\end{matrix}\\right]$$"
      ],
      "text/plain": [
       "Matrix([\n",
       "[                                         u3/cos(q2)],\n",
       "[                                                 u2],\n",
       "[                                    u1 + u3*tan(q2)],\n",
       "[                        r*(u1 + u3*tan(q2))*sin(q1)],\n",
       "[                       -r*(u1 + u3*tan(q2))*cos(q1)],\n",
       "[                                              u2*u3],\n",
       "[-(-4*g*sin(q2) + 5*r*u1*u3 + r*u3**2*tan(q2))/(6*r)],\n",
       "[                             (u1 + 2*u3*tan(q2))*u2]])"
      ]
     },
     "execution_count": 67,
     "metadata": {},
     "output_type": "execute_result"
    }
   ],
   "source": [
    "xdots = sm.Matrix([qdots[q1.diff()], qdots[q2.diff()], qdots[q3.diff()]]).\\\n",
    "        col_join(sm.Matrix([dep_speeds[vx], dep_speeds[vy]])).\\\n",
    "        col_join(udots)\n",
    "xdots"
   ]
  },
  {
   "cell_type": "code",
   "execution_count": 68,
   "metadata": {},
   "outputs": [
    {
     "data": {
      "image/png": "[encoded data removed]",
      "text/latex": [
       "$$\\left[\\begin{matrix}\\dot{q}_{1}\\\\\\dot{q}_{2}\\\\\\dot{q}_{3}\\\\\\dot{x}\\\\\\dot{y}\\\\\\dot{u}_{1}\\\\\\dot{u}_{2}\\\\\\dot{u}_{3}\\end{matrix}\\right] = \\left[\\begin{matrix}\\frac{u_{3}}{\\operatorname{cos}\\left(q_{2}\\right)}\\\\u_{2}\\\\u_{1} + u_{3} \\operatorname{tan}\\left(q_{2}\\right)\\\\r \\left(u_{1} + u_{3} \\operatorname{tan}\\left(q_{2}\\right)\\right) \\operatorname{sin}\\left(q_{1}\\right)\\\\- r \\left(u_{1} + u_{3} \\operatorname{tan}\\left(q_{2}\\right)\\right) \\operatorname{cos}\\left(q_{1}\\right)\\\\u_{2} u_{3}\\\\- \\frac{1}{6 r} \\left(- 4 g \\operatorname{sin}\\left(q_{2}\\right) + 5 r u_{1} u_{3} + r u^{2}_{3} \\operatorname{tan}\\left(q_{2}\\right)\\right)\\\\\\left(u_{1} + 2 u_{3} \\operatorname{tan}\\left(q_{2}\\right)\\right) u_{2}\\end{matrix}\\right]$$"
      ],
      "text/plain": [
       "Eq(Matrix([[Derivative(q1(t), t)], [Derivative(q2(t), t)], [Derivative(q3(t), t)], [Derivative(x(t), t)], [Derivative(y(t), t)], [Derivative(u1(t), t)], [Derivative(u2(t), t)], [Derivative(u3(t), t)]]), Matrix([[u3(t)/cos(q2(t))], [u2(t)], [u1(t) + u3(t)*tan(q2(t))], [r*(u1(t) + u3(t)*tan(q2(t)))*sin(q1(t))], [-r*(u1(t) + u3(t)*tan(q2(t)))*cos(q1(t))], [u2(t)*u3(t)], [-(-4*g*sin(q2(t)) + 5*r*u1(t)*u3(t) + r*u3(t)**2*tan(q2(t)))/(6*r)], [(u1(t) + 2*u3(t)*tan(q2(t)))*u2(t)]]))"
      ]
     },
     "execution_count": 68,
     "metadata": {},
     "output_type": "execute_result"
    }
   ],
   "source": [
    "sm.Eq(sm.Matrix([q1.diff(), q2.diff(), q3.diff(), x.diff(), y.diff(),\n",
    "                 u1.diff(), u2.diff(), u3.diff()]), xdots)"
   ]
  },
  {
   "cell_type": "code",
   "execution_count": 69,
   "metadata": {},
   "outputs": [],
   "source": [
    "from scipy.integrate import odeint"
   ]
  },
  {
   "cell_type": "code",
   "execution_count": 70,
   "metadata": {},
   "outputs": [],
   "source": [
    "odeint?"
   ]
  },
  {
   "cell_type": "code",
   "execution_count": 71,
   "metadata": {},
   "outputs": [],
   "source": [
    "from pydy.codegen.ode_function_generators import generate_ode_function"
   ]
  },
  {
   "cell_type": "code",
   "execution_count": 72,
   "metadata": {},
   "outputs": [],
   "source": [
    "generate_ode_function?"
   ]
  },
  {
   "cell_type": "code",
   "execution_count": 73,
   "metadata": {},
   "outputs": [],
   "source": [
    "eval_xdot = generate_ode_function(xdots, [q1, q2, q3, x, y], [u1, u2, u3], [m, r, g])"
   ]
  },
  {
   "cell_type": "code",
   "execution_count": 74,
   "metadata": {},
   "outputs": [
    {
     "data": {
      "text/plain": [
       "function"
      ]
     },
     "execution_count": 74,
     "metadata": {},
     "output_type": "execute_result"
    }
   ],
   "source": [
    "type(eval_xdot)"
   ]
  },
  {
   "cell_type": "code",
   "execution_count": 75,
   "metadata": {},
   "outputs": [],
   "source": [
    "eval_xdot?"
   ]
  },
  {
   "cell_type": "code",
   "execution_count": 76,
   "metadata": {},
   "outputs": [],
   "source": [
    "import numpy as np"
   ]
  },
  {
   "cell_type": "code",
   "execution_count": 77,
   "metadata": {},
   "outputs": [],
   "source": [
    "x_test = np.random.random(8)"
   ]
  },
  {
   "cell_type": "code",
   "execution_count": 78,
   "metadata": {},
   "outputs": [
    {
     "data": {
      "text/plain": [
       "array([ 0.73376582,  0.55565855,  0.45365692,  0.90522437,  0.31946384,\n",
       "        0.59363532,  0.37053571,  0.21394183])"
      ]
     },
     "execution_count": 78,
     "metadata": {},
     "output_type": "execute_result"
    }
   ],
   "source": [
    "x_test"
   ]
  },
  {
   "cell_type": "code",
   "execution_count": 79,
   "metadata": {},
   "outputs": [],
   "source": [
    "p_test = np.array([1.0, 1.0, 9.81])"
   ]
  },
  {
   "cell_type": "code",
   "execution_count": 80,
   "metadata": {},
   "outputs": [
    {
     "data": {
      "text/plain": [
       "array([ 0.25182863,  0.37053571,  0.72647565,  0.48649975, -0.53952282,\n",
       "        0.07927309,  3.33929602,  0.31840726])"
      ]
     },
     "execution_count": 80,
     "metadata": {},
     "output_type": "execute_result"
    }
   ],
   "source": [
    "eval_xdot(x_test, 2.6, p_test)"
   ]
  },
  {
   "cell_type": "code",
   "execution_count": 81,
   "metadata": {},
   "outputs": [
    {
     "name": "stdout",
     "output_type": "stream",
     "text": [
      "114 µs ± 10.8 µs per loop (mean ± std. dev. of 7 runs, 10000 loops each)\n"
     ]
    }
   ],
   "source": [
    "%timeit eval_xdot(x_test, 2.6, p_test)"
   ]
  },
  {
   "cell_type": "code",
   "execution_count": 82,
   "metadata": {},
   "outputs": [],
   "source": [
    "eval_xdot_c = generate_ode_function(xdots, [q1, q2, q3, x, y], [u1, u2, u3], [m, r, g],\n",
    "                                    generator='cython')"
   ]
  },
  {
   "cell_type": "code",
   "execution_count": 83,
   "metadata": {},
   "outputs": [
    {
     "name": "stdout",
     "output_type": "stream",
     "text": [
      "20.7 µs ± 243 ns per loop (mean ± std. dev. of 7 runs, 10000 loops each)\n"
     ]
    }
   ],
   "source": [
    "%timeit eval_xdot_c(x_test, 2.6, p_test)"
   ]
  },
  {
   "cell_type": "code",
   "execution_count": 84,
   "metadata": {},
   "outputs": [],
   "source": [
    "times = np.linspace(0, 20.0, num=1000)"
   ]
  },
  {
   "cell_type": "code",
   "execution_count": 85,
   "metadata": {},
   "outputs": [],
   "source": [
    "x0 = np.array([0, np.deg2rad(1), 0, 0, 0, 0, 0, np.deg2rad(100)])"
   ]
  },
  {
   "cell_type": "code",
   "execution_count": 86,
   "metadata": {},
   "outputs": [],
   "source": [
    "traj = odeint(eval_xdot, x0, times, args=(p_test, ))"
   ]
  },
  {
   "cell_type": "code",
   "execution_count": 87,
   "metadata": {},
   "outputs": [
    {
     "data": {
      "text/plain": [
       "array([ 1.  ,  1.  ,  9.81])"
      ]
     },
     "execution_count": 87,
     "metadata": {},
     "output_type": "execute_result"
    }
   ],
   "source": [
    "(p_test)"
   ]
  },
  {
   "cell_type": "code",
   "execution_count": 88,
   "metadata": {},
   "outputs": [
    {
     "data": {
      "text/plain": [
       "(array([ 1.  ,  1.  ,  9.81]),)"
      ]
     },
     "execution_count": 88,
     "metadata": {},
     "output_type": "execute_result"
    }
   ],
   "source": [
    "(p_test, )"
   ]
  },
  {
   "cell_type": "code",
   "execution_count": 89,
   "metadata": {},
   "outputs": [
    {
     "data": {
      "text/plain": [
       "tuple"
      ]
     },
     "execution_count": 89,
     "metadata": {},
     "output_type": "execute_result"
    }
   ],
   "source": [
    "type((p_test, ))"
   ]
  },
  {
   "cell_type": "code",
   "execution_count": 90,
   "metadata": {},
   "outputs": [],
   "source": [
    "import matplotlib.pyplot as plt"
   ]
  },
  {
   "cell_type": "code",
   "execution_count": 91,
   "metadata": {},
   "outputs": [],
   "source": [
    "%matplotlib notebook"
   ]
  },
  {
   "cell_type": "code",
   "execution_count": 92,
   "metadata": {},
   "outputs": [
    {
     "data": {
      "application/javascript": [
       "/* Put everything inside the global mpl namespace */\n",
       "window.mpl = {};\n",
       "\n",
       "\n",
       "mpl.get_websocket_type = function() {\n",
       "    if (typeof(WebSocket) !== 'undefined') {\n",
       "        return WebSocket;\n",
       "    } else if (typeof(MozWebSocket) !== 'undefined') {\n",
       "        return MozWebSocket;\n",
       "    } else {\n",
       "        alert('Your browser does not have WebSocket support.' +\n",
       "              'Please try Chrome, Safari or Firefox ≥ 6. ' +\n",
       "              'Firefox 4 and 5 are also supported but you ' +\n",
       "              'have to enable WebSockets in about:config.');\n",
       "    };\n",
       "}\n",
       "\n",
       "mpl.figure = function(figure_id, websocket, ondownload, parent_element) {\n",
       "    this.id = figure_id;\n",
       "\n",
       "    this.ws = websocket;\n",
       "\n",
       "    this.supports_binary = (this.ws.binaryType != undefined);\n",
       "\n",
       "    if (!this.supports_binary) {\n",
       "        var warnings = document.getElementById(\"mpl-warnings\");\n",
       "        if (warnings) {\n",
       "            warnings.style.display = 'block';\n",
       "            warnings.textContent = (\n",
       "                \"This browser does not support binary websocket messages. \" +\n",
       "                    \"Performance may be slow.\");\n",
       "        }\n",
       "    }\n",
       "\n",
       "    this.imageObj = new Image();\n",
       "\n",
       "    this.context = undefined;\n",
       "    this.message = undefined;\n",
       "    this.canvas = undefined;\n",
       "    this.rubberband_canvas = undefined;\n",
       "    this.rubberband_context = undefined;\n",
       "    this.format_dropdown = undefined;\n",
       "\n",
       "    this.image_mode = 'full';\n",
       "\n",
       "    this.root = $('<div/>');\n",
       "    this._root_extra_style(this.root)\n",
       "    this.root.attr('style', 'display: inline-block');\n",
       "\n",
       "    $(parent_element).append(this.root);\n",
       "\n",
       "    this._init_header(this);\n",
       "    this._init_canvas(this);\n",
       "    this._init_toolbar(this);\n",
       "\n",
       "    var fig = this;\n",
       "\n",
       "    this.waiting = false;\n",
       "\n",
       "    this.ws.onopen =  function () {\n",
       "            fig.send_message(\"supports_binary\", {value: fig.supports_binary});\n",
       "            fig.send_message(\"send_image_mode\", {});\n",
       "            if (mpl.ratio != 1) {\n",
       "                fig.send_message(\"set_dpi_ratio\", {'dpi_ratio': mpl.ratio});\n",
       "            }\n",
       "            fig.send_message(\"refresh\", {});\n",
       "        }\n",
       "\n",
       "    this.imageObj.onload = function() {\n",
       "            if (fig.image_mode == 'full') {\n",
       "                // Full images could contain transparency (where diff images\n",
       "                // almost always do), so we need to clear the canvas so that\n",
       "                // there is no ghosting.\n",
       "                fig.context.clearRect(0, 0, fig.canvas.width, fig.canvas.height);\n",
       "            }\n",
       "            fig.context.drawImage(fig.imageObj, 0, 0);\n",
       "        };\n",
       "\n",
       "    this.imageObj.onunload = function() {\n",
       "        fig.ws.close();\n",
       "    }\n",
       "\n",
       "    this.ws.onmessage = this._make_on_message_function(this);\n",
       "\n",
       "    this.ondownload = ondownload;\n",
       "}\n",
       "\n",
       "mpl.figure.prototype._init_header = function() {\n",
       "    var titlebar = $(\n",
       "        '<div class=\"ui-dialog-titlebar ui-widget-header ui-corner-all ' +\n",
       "        'ui-helper-clearfix\"/>');\n",
       "    var titletext = $(\n",
       "        '<div class=\"ui-dialog-title\" style=\"width: 100%; ' +\n",
       "        'text-align: center; padding: 3px;\"/>');\n",
       "    titlebar.append(titletext)\n",
       "    this.root.append(titlebar);\n",
       "    this.header = titletext[0];\n",
       "}\n",
       "\n",
       "\n",
       "\n",
       "mpl.figure.prototype._canvas_extra_style = function(canvas_div) {\n",
       "\n",
       "}\n",
       "\n",
       "\n",
       "mpl.figure.prototype._root_extra_style = function(canvas_div) {\n",
       "\n",
       "}\n",
       "\n",
       "mpl.figure.prototype._init_canvas = function() {\n",
       "    var fig = this;\n",
       "\n",
       "    var canvas_div = $('<div/>');\n",
       "\n",
       "    canvas_div.attr('style', 'position: relative; clear: both; outline: 0');\n",
       "\n",
       "    function canvas_keyboard_event(event) {\n",
       "        return fig.key_event(event, event['data']);\n",
       "    }\n",
       "\n",
       "    canvas_div.keydown('key_press', canvas_keyboard_event);\n",
       "    canvas_div.keyup('key_release', canvas_keyboard_event);\n",
       "    this.canvas_div = canvas_div\n",
       "    this._canvas_extra_style(canvas_div)\n",
       "    this.root.append(canvas_div);\n",
       "\n",
       "    var canvas = $('<canvas/>');\n",
       "    canvas.addClass('mpl-canvas');\n",
       "    canvas.attr('style', \"left: 0; top: 0; z-index: 0; outline: 0\")\n",
       "\n",
       "    this.canvas = canvas[0];\n",
       "    this.context = canvas[0].getContext(\"2d\");\n",
       "\n",
       "    var backingStore = this.context.backingStorePixelRatio ||\n",
       "\tthis.context.webkitBackingStorePixelRatio ||\n",
       "\tthis.context.mozBackingStorePixelRatio ||\n",
       "\tthis.context.msBackingStorePixelRatio ||\n",
       "\tthis.context.oBackingStorePixelRatio ||\n",
       "\tthis.context.backingStorePixelRatio || 1;\n",
       "\n",
       "    mpl.ratio = (window.devicePixelRatio || 1) / backingStore;\n",
       "\n",
       "    var rubberband = $('<canvas/>');\n",
       "    rubberband.attr('style', \"position: absolute; left: 0; top: 0; z-index: 1;\")\n",
       "\n",
       "    var pass_mouse_events = true;\n",
       "\n",
       "    canvas_div.resizable({\n",
       "        start: function(event, ui) {\n",
       "            pass_mouse_events = false;\n",
       "        },\n",
       "        resize: function(event, ui) {\n",
       "            fig.request_resize(ui.size.width, ui.size.height);\n",
       "        },\n",
       "        stop: function(event, ui) {\n",
       "            pass_mouse_events = true;\n",
       "            fig.request_resize(ui.size.width, ui.size.height);\n",
       "        },\n",
       "    });\n",
       "\n",
       "    function mouse_event_fn(event) {\n",
       "        if (pass_mouse_events)\n",
       "            return fig.mouse_event(event, event['data']);\n",
       "    }\n",
       "\n",
       "    rubberband.mousedown('button_press', mouse_event_fn);\n",
       "    rubberband.mouseup('button_release', mouse_event_fn);\n",
       "    // Throttle sequential mouse events to 1 every 20ms.\n",
       "    rubberband.mousemove('motion_notify', mouse_event_fn);\n",
       "\n",
       "    rubberband.mouseenter('figure_enter', mouse_event_fn);\n",
       "    rubberband.mouseleave('figure_leave', mouse_event_fn);\n",
       "\n",
       "    canvas_div.on(\"wheel\", function (event) {\n",
       "        event = event.originalEvent;\n",
       "        event['data'] = 'scroll'\n",
       "        if (event.deltaY < 0) {\n",
       "            event.step = 1;\n",
       "        } else {\n",
       "            event.step = -1;\n",
       "        }\n",
       "        mouse_event_fn(event);\n",
       "    });\n",
       "\n",
       "    canvas_div.append(canvas);\n",
       "    canvas_div.append(rubberband);\n",
       "\n",
       "    this.rubberband = rubberband;\n",
       "    this.rubberband_canvas = rubberband[0];\n",
       "    this.rubberband_context = rubberband[0].getContext(\"2d\");\n",
       "    this.rubberband_context.strokeStyle = \"#000000\";\n",
       "\n",
       "    this._resize_canvas = function(width, height) {\n",
       "        // Keep the size of the canvas, canvas container, and rubber band\n",
       "        // canvas in synch.\n",
       "        canvas_div.css('width', width)\n",
       "        canvas_div.css('height', height)\n",
       "\n",
       "        canvas.attr('width', width * mpl.ratio);\n",
       "        canvas.attr('height', height * mpl.ratio);\n",
       "        canvas.attr('style', 'width: ' + width + 'px; height: ' + height + 'px;');\n",
       "\n",
       "        rubberband.attr('width', width);\n",
       "        rubberband.attr('height', height);\n",
       "    }\n",
       "\n",
       "    // Set the figure to an initial 600x600px, this will subsequently be updated\n",
       "    // upon first draw.\n",
       "    this._resize_canvas(600, 600);\n",
       "\n",
       "    // Disable right mouse context menu.\n",
       "    $(this.rubberband_canvas).bind(\"contextmenu\",function(e){\n",
       "        return false;\n",
       "    });\n",
       "\n",
       "    function set_focus () {\n",
       "        canvas.focus();\n",
       "        canvas_div.focus();\n",
       "    }\n",
       "\n",
       "    window.setTimeout(set_focus, 100);\n",
       "}\n",
       "\n",
       "mpl.figure.prototype._init_toolbar = function() {\n",
       "    var fig = this;\n",
       "\n",
       "    var nav_element = $('<div/>')\n",
       "    nav_element.attr('style', 'width: 100%');\n",
       "    this.root.append(nav_element);\n",
       "\n",
       "    // Define a callback function for later on.\n",
       "    function toolbar_event(event) {\n",
       "        return fig.toolbar_button_onclick(event['data']);\n",
       "    }\n",
       "    function toolbar_mouse_event(event) {\n",
       "        return fig.toolbar_button_onmouseover(event['data']);\n",
       "    }\n",
       "\n",
       "    for(var toolbar_ind in mpl.toolbar_items) {\n",
       "        var name = mpl.toolbar_items[toolbar_ind][0];\n",
       "        var tooltip = mpl.toolbar_items[toolbar_ind][1];\n",
       "        var image = mpl.toolbar_items[toolbar_ind][2];\n",
       "        var method_name = mpl.toolbar_items[toolbar_ind][3];\n",
       "\n",
       "        if (!name) {\n",
       "            // put a spacer in here.\n",
       "            continue;\n",
       "        }\n",
       "        var button = $('<button/>');\n",
       "        button.addClass('ui-button ui-widget ui-state-default ui-corner-all ' +\n",
       "                        'ui-button-icon-only');\n",
       "        button.attr('role', 'button');\n",
       "        button.attr('aria-disabled', 'false');\n",
       "        button.click(method_name, toolbar_event);\n",
       "        button.mouseover(tooltip, toolbar_mouse_event);\n",
       "\n",
       "        var icon_img = $('<span/>');\n",
       "        icon_img.addClass('ui-button-icon-primary ui-icon');\n",
       "        icon_img.addClass(image);\n",
       "        icon_img.addClass('ui-corner-all');\n",
       "\n",
       "        var tooltip_span = $('<span/>');\n",
       "        tooltip_span.addClass('ui-button-text');\n",
       "        tooltip_span.html(tooltip);\n",
       "\n",
       "        button.append(icon_img);\n",
       "        button.append(tooltip_span);\n",
       "\n",
       "        nav_element.append(button);\n",
       "    }\n",
       "\n",
       "    var fmt_picker_span = $('<span/>');\n",
       "\n",
       "    var fmt_picker = $('<select/>');\n",
       "    fmt_picker.addClass('mpl-toolbar-option ui-widget ui-widget-content');\n",
       "    fmt_picker_span.append(fmt_picker);\n",
       "    nav_element.append(fmt_picker_span);\n",
       "    this.format_dropdown = fmt_picker[0];\n",
       "\n",
       "    for (var ind in mpl.extensions) {\n",
       "        var fmt = mpl.extensions[ind];\n",
       "        var option = $(\n",
       "            '<option/>', {selected: fmt === mpl.default_extension}).html(fmt);\n",
       "        fmt_picker.append(option)\n",
       "    }\n",
       "\n",
       "    // Add hover states to the ui-buttons\n",
       "    $( \".ui-button\" ).hover(\n",
       "        function() { $(this).addClass(\"ui-state-hover\");},\n",
       "        function() { $(this).removeClass(\"ui-state-hover\");}\n",
       "    );\n",
       "\n",
       "    var status_bar = $('<span class=\"mpl-message\"/>');\n",
       "    nav_element.append(status_bar);\n",
       "    this.message = status_bar[0];\n",
       "}\n",
       "\n",
       "mpl.figure.prototype.request_resize = function(x_pixels, y_pixels) {\n",
       "    // Request matplotlib to resize the figure. Matplotlib will then trigger a resize in the client,\n",
       "    // which will in turn request a refresh of the image.\n",
       "    this.send_message('resize', {'width': x_pixels, 'height': y_pixels});\n",
       "}\n",
       "\n",
       "mpl.figure.prototype.send_message = function(type, properties) {\n",
       "    properties['type'] = type;\n",
       "    properties['figure_id'] = this.id;\n",
       "    this.ws.send(JSON.stringify(properties));\n",
       "}\n",
       "\n",
       "mpl.figure.prototype.send_draw_message = function() {\n",
       "    if (!this.waiting) {\n",
       "        this.waiting = true;\n",
       "        this.ws.send(JSON.stringify({type: \"draw\", figure_id: this.id}));\n",
       "    }\n",
       "}\n",
       "\n",
       "\n",
       "mpl.figure.prototype.handle_save = function(fig, msg) {\n",
       "    var format_dropdown = fig.format_dropdown;\n",
       "    var format = format_dropdown.options[format_dropdown.selectedIndex].value;\n",
       "    fig.ondownload(fig, format);\n",
       "}\n",
       "\n",
       "\n",
       "mpl.figure.prototype.handle_resize = function(fig, msg) {\n",
       "    var size = msg['size'];\n",
       "    if (size[0] != fig.canvas.width || size[1] != fig.canvas.height) {\n",
       "        fig._resize_canvas(size[0], size[1]);\n",
       "        fig.send_message(\"refresh\", {});\n",
       "    };\n",
       "}\n",
       "\n",
       "mpl.figure.prototype.handle_rubberband = function(fig, msg) {\n",
       "    var x0 = msg['x0'] / mpl.ratio;\n",
       "    var y0 = (fig.canvas.height - msg['y0']) / mpl.ratio;\n",
       "    var x1 = msg['x1'] / mpl.ratio;\n",
       "    var y1 = (fig.canvas.height - msg['y1']) / mpl.ratio;\n",
       "    x0 = Math.floor(x0) + 0.5;\n",
       "    y0 = Math.floor(y0) + 0.5;\n",
       "    x1 = Math.floor(x1) + 0.5;\n",
       "    y1 = Math.floor(y1) + 0.5;\n",
       "    var min_x = Math.min(x0, x1);\n",
       "    var min_y = Math.min(y0, y1);\n",
       "    var width = Math.abs(x1 - x0);\n",
       "    var height = Math.abs(y1 - y0);\n",
       "\n",
       "    fig.rubberband_context.clearRect(\n",
       "        0, 0, fig.canvas.width, fig.canvas.height);\n",
       "\n",
       "    fig.rubberband_context.strokeRect(min_x, min_y, width, height);\n",
       "}\n",
       "\n",
       "mpl.figure.prototype.handle_figure_label = function(fig, msg) {\n",
       "    // Updates the figure title.\n",
       "    fig.header.textContent = msg['label'];\n",
       "}\n",
       "\n",
       "mpl.figure.prototype.handle_cursor = function(fig, msg) {\n",
       "    var cursor = msg['cursor'];\n",
       "    switch(cursor)\n",
       "    {\n",
       "    case 0:\n",
       "        cursor = 'pointer';\n",
       "        break;\n",
       "    case 1:\n",
       "        cursor = 'default';\n",
       "        break;\n",
       "    case 2:\n",
       "        cursor = 'crosshair';\n",
       "        break;\n",
       "    case 3:\n",
       "        cursor = 'move';\n",
       "        break;\n",
       "    }\n",
       "    fig.rubberband_canvas.style.cursor = cursor;\n",
       "}\n",
       "\n",
       "mpl.figure.prototype.handle_message = function(fig, msg) {\n",
       "    fig.message.textContent = msg['message'];\n",
       "}\n",
       "\n",
       "mpl.figure.prototype.handle_draw = function(fig, msg) {\n",
       "    // Request the server to send over a new figure.\n",
       "    fig.send_draw_message();\n",
       "}\n",
       "\n",
       "mpl.figure.prototype.handle_image_mode = function(fig, msg) {\n",
       "    fig.image_mode = msg['mode'];\n",
       "}\n",
       "\n",
       "mpl.figure.prototype.updated_canvas_event = function() {\n",
       "    // Called whenever the canvas gets updated.\n",
       "    this.send_message(\"ack\", {});\n",
       "}\n",
       "\n",
       "// A function to construct a web socket function for onmessage handling.\n",
       "// Called in the figure constructor.\n",
       "mpl.figure.prototype._make_on_message_function = function(fig) {\n",
       "    return function socket_on_message(evt) {\n",
       "        if (evt.data instanceof Blob) {\n",
       "            /* FIXME: We get \"Resource interpreted as Image but\n",
       "             * transferred with MIME type text/plain:\" errors on\n",
       "             * Chrome.  But how to set the MIME type?  It doesn't seem\n",
       "             * to be part of the websocket stream */\n",
       "            evt.data.type = \"image/png\";\n",
       "\n",
       "            /* Free the memory for the previous frames */\n",
       "            if (fig.imageObj.src) {\n",
       "                (window.URL || window.webkitURL).revokeObjectURL(\n",
       "                    fig.imageObj.src);\n",
       "            }\n",
       "\n",
       "            fig.imageObj.src = (window.URL || window.webkitURL).createObjectURL(\n",
       "                evt.data);\n",
       "            fig.updated_canvas_event();\n",
       "            fig.waiting = false;\n",
       "            return;\n",
       "        }\n",
       "        else if (typeof evt.data === 'string' && evt.data.slice(0, 21) == \"data:image/png;base64\") {\n",
       "            fig.imageObj.src = evt.data;\n",
       "            fig.updated_canvas_event();\n",
       "            fig.waiting = false;\n",
       "            return;\n",
       "        }\n",
       "\n",
       "        var msg = JSON.parse(evt.data);\n",
       "        var msg_type = msg['type'];\n",
       "\n",
       "        // Call the  \"handle_{type}\" callback, which takes\n",
       "        // the figure and JSON message as its only arguments.\n",
       "        try {\n",
       "            var callback = fig[\"handle_\" + msg_type];\n",
       "        } catch (e) {\n",
       "            console.log(\"No handler for the '\" + msg_type + \"' message type: \", msg);\n",
       "            return;\n",
       "        }\n",
       "\n",
       "        if (callback) {\n",
       "            try {\n",
       "                // console.log(\"Handling '\" + msg_type + \"' message: \", msg);\n",
       "                callback(fig, msg);\n",
       "            } catch (e) {\n",
       "                console.log(\"Exception inside the 'handler_\" + msg_type + \"' callback:\", e, e.stack, msg);\n",
       "            }\n",
       "        }\n",
       "    };\n",
       "}\n",
       "\n",
       "// from http://stackoverflow.com/questions/1114465/getting-mouse-location-in-canvas\n",
       "mpl.findpos = function(e) {\n",
       "    //this section is from http://www.quirksmode.org/js/events_properties.html\n",
       "    var targ;\n",
       "    if (!e)\n",
       "        e = window.event;\n",
       "    if (e.target)\n",
       "        targ = e.target;\n",
       "    else if (e.srcElement)\n",
       "        targ = e.srcElement;\n",
       "    if (targ.nodeType == 3) // defeat Safari bug\n",
       "        targ = targ.parentNode;\n",
       "\n",
       "    // jQuery normalizes the pageX and pageY\n",
       "    // pageX,Y are the mouse positions relative to the document\n",
       "    // offset() returns the position of the element relative to the document\n",
       "    var x = e.pageX - $(targ).offset().left;\n",
       "    var y = e.pageY - $(targ).offset().top;\n",
       "\n",
       "    return {\"x\": x, \"y\": y};\n",
       "};\n",
       "\n",
       "/*\n",
       " * return a copy of an object with only non-object keys\n",
       " * we need this to avoid circular references\n",
       " * http://stackoverflow.com/a/24161582/3208463\n",
       " */\n",
       "function simpleKeys (original) {\n",
       "  return Object.keys(original).reduce(function (obj, key) {\n",
       "    if (typeof original[key] !== 'object')\n",
       "        obj[key] = original[key]\n",
       "    return obj;\n",
       "  }, {});\n",
       "}\n",
       "\n",
       "mpl.figure.prototype.mouse_event = function(event, name) {\n",
       "    var canvas_pos = mpl.findpos(event)\n",
       "\n",
       "    if (name === 'button_press')\n",
       "    {\n",
       "        this.canvas.focus();\n",
       "        this.canvas_div.focus();\n",
       "    }\n",
       "\n",
       "    var x = canvas_pos.x * mpl.ratio;\n",
       "    var y = canvas_pos.y * mpl.ratio;\n",
       "\n",
       "    this.send_message(name, {x: x, y: y, button: event.button,\n",
       "                             step: event.step,\n",
       "                             guiEvent: simpleKeys(event)});\n",
       "\n",
       "    /* This prevents the web browser from automatically changing to\n",
       "     * the text insertion cursor when the button is pressed.  We want\n",
       "     * to control all of the cursor setting manually through the\n",
       "     * 'cursor' event from matplotlib */\n",
       "    event.preventDefault();\n",
       "    return false;\n",
       "}\n",
       "\n",
       "mpl.figure.prototype._key_event_extra = function(event, name) {\n",
       "    // Handle any extra behaviour associated with a key event\n",
       "}\n",
       "\n",
       "mpl.figure.prototype.key_event = function(event, name) {\n",
       "\n",
       "    // Prevent repeat events\n",
       "    if (name == 'key_press')\n",
       "    {\n",
       "        if (event.which === this._key)\n",
       "            return;\n",
       "        else\n",
       "            this._key = event.which;\n",
       "    }\n",
       "    if (name == 'key_release')\n",
       "        this._key = null;\n",
       "\n",
       "    var value = '';\n",
       "    if (event.ctrlKey && event.which != 17)\n",
       "        value += \"ctrl+\";\n",
       "    if (event.altKey && event.which != 18)\n",
       "        value += \"alt+\";\n",
       "    if (event.shiftKey && event.which != 16)\n",
       "        value += \"shift+\";\n",
       "\n",
       "    value += 'k';\n",
       "    value += event.which.toString();\n",
       "\n",
       "    this._key_event_extra(event, name);\n",
       "\n",
       "    this.send_message(name, {key: value,\n",
       "                             guiEvent: simpleKeys(event)});\n",
       "    return false;\n",
       "}\n",
       "\n",
       "mpl.figure.prototype.toolbar_button_onclick = function(name) {\n",
       "    if (name == 'download') {\n",
       "        this.handle_save(this, null);\n",
       "    } else {\n",
       "        this.send_message(\"toolbar_button\", {name: name});\n",
       "    }\n",
       "};\n",
       "\n",
       "mpl.figure.prototype.toolbar_button_onmouseover = function(tooltip) {\n",
       "    this.message.textContent = tooltip;\n",
       "};\n",
       "mpl.toolbar_items = [[\"Home\", \"Reset original view\", \"fa fa-home icon-home\", \"home\"], [\"Back\", \"Back to  previous view\", \"fa fa-arrow-left icon-arrow-left\", \"back\"], [\"Forward\", \"Forward to next view\", \"fa fa-arrow-right icon-arrow-right\", \"forward\"], [\"\", \"\", \"\", \"\"], [\"Pan\", \"Pan axes with left mouse, zoom with right\", \"fa fa-arrows icon-move\", \"pan\"], [\"Zoom\", \"Zoom to rectangle\", \"fa fa-square-o icon-check-empty\", \"zoom\"], [\"\", \"\", \"\", \"\"], [\"Download\", \"Download plot\", \"fa fa-floppy-o icon-save\", \"download\"]];\n",
       "\n",
       "mpl.extensions = [\"eps\", \"pdf\", \"png\", \"ps\", \"raw\", \"svg\"];\n",
       "\n",
       "mpl.default_extension = \"png\";var comm_websocket_adapter = function(comm) {\n",
       "    // Create a \"websocket\"-like object which calls the given IPython comm\n",
       "    // object with the appropriate methods. Currently this is a non binary\n",
       "    // socket, so there is still some room for performance tuning.\n",
       "    var ws = {};\n",
       "\n",
       "    ws.close = function() {\n",
       "        comm.close()\n",
       "    };\n",
       "    ws.send = function(m) {\n",
       "        //console.log('sending', m);\n",
       "        comm.send(m);\n",
       "    };\n",
       "    // Register the callback with on_msg.\n",
       "    comm.on_msg(function(msg) {\n",
       "        //console.log('receiving', msg['content']['data'], msg);\n",
       "        // Pass the mpl event to the overriden (by mpl) onmessage function.\n",
       "        ws.onmessage(msg['content']['data'])\n",
       "    });\n",
       "    return ws;\n",
       "}\n",
       "\n",
       "mpl.mpl_figure_comm = function(comm, msg) {\n",
       "    // This is the function which gets called when the mpl process\n",
       "    // starts-up an IPython Comm through the \"matplotlib\" channel.\n",
       "\n",
       "    var id = msg.content.data.id;\n",
       "    // Get hold of the div created by the display call when the Comm\n",
       "    // socket was opened in Python.\n",
       "    var element = $(\"#\" + id);\n",
       "    var ws_proxy = comm_websocket_adapter(comm)\n",
       "\n",
       "    function ondownload(figure, format) {\n",
       "        window.open(figure.imageObj.src);\n",
       "    }\n",
       "\n",
       "    var fig = new mpl.figure(id, ws_proxy,\n",
       "                           ondownload,\n",
       "                           element.get(0));\n",
       "\n",
       "    // Call onopen now - mpl needs it, as it is assuming we've passed it a real\n",
       "    // web socket which is closed, not our websocket->open comm proxy.\n",
       "    ws_proxy.onopen();\n",
       "\n",
       "    fig.parent_element = element.get(0);\n",
       "    fig.cell_info = mpl.find_output_cell(\"<div id='\" + id + \"'></div>\");\n",
       "    if (!fig.cell_info) {\n",
       "        console.error(\"Failed to find cell for figure\", id, fig);\n",
       "        return;\n",
       "    }\n",
       "\n",
       "    var output_index = fig.cell_info[2]\n",
       "    var cell = fig.cell_info[0];\n",
       "\n",
       "};\n",
       "\n",
       "mpl.figure.prototype.handle_close = function(fig, msg) {\n",
       "    var width = fig.canvas.width/mpl.ratio\n",
       "    fig.root.unbind('remove')\n",
       "\n",
       "    // Update the output cell to use the data from the current canvas.\n",
       "    fig.push_to_output();\n",
       "    var dataURL = fig.canvas.toDataURL();\n",
       "    // Re-enable the keyboard manager in IPython - without this line, in FF,\n",
       "    // the notebook keyboard shortcuts fail.\n",
       "    IPython.keyboard_manager.enable()\n",
       "    $(fig.parent_element).html('<img src=\"' + dataURL + '\" width=\"' + width + '\">');\n",
       "    fig.close_ws(fig, msg);\n",
       "}\n",
       "\n",
       "mpl.figure.prototype.close_ws = function(fig, msg){\n",
       "    fig.send_message('closing', msg);\n",
       "    // fig.ws.close()\n",
       "}\n",
       "\n",
       "mpl.figure.prototype.push_to_output = function(remove_interactive) {\n",
       "    // Turn the data on the canvas into data in the output cell.\n",
       "    var width = this.canvas.width/mpl.ratio\n",
       "    var dataURL = this.canvas.toDataURL();\n",
       "    this.cell_info[1]['text/html'] = '<img src=\"' + dataURL + '\" width=\"' + width + '\">';\n",
       "}\n",
       "\n",
       "mpl.figure.prototype.updated_canvas_event = function() {\n",
       "    // Tell IPython that the notebook contents must change.\n",
       "    IPython.notebook.set_dirty(true);\n",
       "    this.send_message(\"ack\", {});\n",
       "    var fig = this;\n",
       "    // Wait a second, then push the new image to the DOM so\n",
       "    // that it is saved nicely (might be nice to debounce this).\n",
       "    setTimeout(function () { fig.push_to_output() }, 1000);\n",
       "}\n",
       "\n",
       "mpl.figure.prototype._init_toolbar = function() {\n",
       "    var fig = this;\n",
       "\n",
       "    var nav_element = $('<div/>')\n",
       "    nav_element.attr('style', 'width: 100%');\n",
       "    this.root.append(nav_element);\n",
       "\n",
       "    // Define a callback function for later on.\n",
       "    function toolbar_event(event) {\n",
       "        return fig.toolbar_button_onclick(event['data']);\n",
       "    }\n",
       "    function toolbar_mouse_event(event) {\n",
       "        return fig.toolbar_button_onmouseover(event['data']);\n",
       "    }\n",
       "\n",
       "    for(var toolbar_ind in mpl.toolbar_items){\n",
       "        var name = mpl.toolbar_items[toolbar_ind][0];\n",
       "        var tooltip = mpl.toolbar_items[toolbar_ind][1];\n",
       "        var image = mpl.toolbar_items[toolbar_ind][2];\n",
       "        var method_name = mpl.toolbar_items[toolbar_ind][3];\n",
       "\n",
       "        if (!name) { continue; };\n",
       "\n",
       "        var button = $('<button class=\"btn btn-default\" href=\"#\" title=\"' + name + '\"><i class=\"fa ' + image + ' fa-lg\"></i></button>');\n",
       "        button.click(method_name, toolbar_event);\n",
       "        button.mouseover(tooltip, toolbar_mouse_event);\n",
       "        nav_element.append(button);\n",
       "    }\n",
       "\n",
       "    // Add the status bar.\n",
       "    var status_bar = $('<span class=\"mpl-message\" style=\"text-align:right; float: right;\"/>');\n",
       "    nav_element.append(status_bar);\n",
       "    this.message = status_bar[0];\n",
       "\n",
       "    // Add the close button to the window.\n",
       "    var buttongrp = $('<div class=\"btn-group inline pull-right\"></div>');\n",
       "    var button = $('<button class=\"btn btn-mini btn-primary\" href=\"#\" title=\"Stop Interaction\"><i class=\"fa fa-power-off icon-remove icon-large\"></i></button>');\n",
       "    button.click(function (evt) { fig.handle_close(fig, {}); } );\n",
       "    button.mouseover('Stop Interaction', toolbar_mouse_event);\n",
       "    buttongrp.append(button);\n",
       "    var titlebar = this.root.find($('.ui-dialog-titlebar'));\n",
       "    titlebar.prepend(buttongrp);\n",
       "}\n",
       "\n",
       "mpl.figure.prototype._root_extra_style = function(el){\n",
       "    var fig = this\n",
       "    el.on(\"remove\", function(){\n",
       "\tfig.close_ws(fig, {});\n",
       "    });\n",
       "}\n",
       "\n",
       "mpl.figure.prototype._canvas_extra_style = function(el){\n",
       "    // this is important to make the div 'focusable\n",
       "    el.attr('tabindex', 0)\n",
       "    // reach out to IPython and tell the keyboard manager to turn it's self\n",
       "    // off when our div gets focus\n",
       "\n",
       "    // location in version 3\n",
       "    if (IPython.notebook.keyboard_manager) {\n",
       "        IPython.notebook.keyboard_manager.register_events(el);\n",
       "    }\n",
       "    else {\n",
       "        // location in version 2\n",
       "        IPython.keyboard_manager.register_events(el);\n",
       "    }\n",
       "\n",
       "}\n",
       "\n",
       "mpl.figure.prototype._key_event_extra = function(event, name) {\n",
       "    var manager = IPython.notebook.keyboard_manager;\n",
       "    if (!manager)\n",
       "        manager = IPython.keyboard_manager;\n",
       "\n",
       "    // Check for shift+enter\n",
       "    if (event.shiftKey && event.which == 13) {\n",
       "        this.canvas_div.blur();\n",
       "        event.shiftKey = false;\n",
       "        // Send a \"J\" for go to next cell\n",
       "        event.which = 74;\n",
       "        event.keyCode = 74;\n",
       "        manager.command_mode();\n",
       "        manager.handle_keydown(event);\n",
       "    }\n",
       "}\n",
       "\n",
       "mpl.figure.prototype.handle_save = function(fig, msg) {\n",
       "    fig.ondownload(fig, null);\n",
       "}\n",
       "\n",
       "\n",
       "mpl.find_output_cell = function(html_output) {\n",
       "    // Return the cell and output element which can be found *uniquely* in the notebook.\n",
       "    // Note - this is a bit hacky, but it is done because the \"notebook_saving.Notebook\"\n",
       "    // IPython event is triggered only after the cells have been serialised, which for\n",
       "    // our purposes (turning an active figure into a static one), is too late.\n",
       "    var cells = IPython.notebook.get_cells();\n",
       "    var ncells = cells.length;\n",
       "    for (var i=0; i<ncells; i++) {\n",
       "        var cell = cells[i];\n",
       "        if (cell.cell_type === 'code'){\n",
       "            for (var j=0; j<cell.output_area.outputs.length; j++) {\n",
       "                var data = cell.output_area.outputs[j];\n",
       "                if (data.data) {\n",
       "                    // IPython >= 3 moved mimebundle to data attribute of output\n",
       "                    data = data.data;\n",
       "                }\n",
       "                if (data['text/html'] == html_output) {\n",
       "                    return [cell, data, j];\n",
       "                }\n",
       "            }\n",
       "        }\n",
       "    }\n",
       "}\n",
       "\n",
       "// Register the function which deals with the matplotlib target/channel.\n",
       "// The kernel may be null if the page has been refreshed.\n",
       "if (IPython.notebook.kernel != null) {\n",
       "    IPython.notebook.kernel.comm_manager.register_target('matplotlib', mpl.mpl_figure_comm);\n",
       "}\n"
      ],
      "text/plain": [
       "<IPython.core.display.Javascript object>"
      ]
     },
     "metadata": {},
     "output_type": "display_data"
    },
    {
     "data": {
      "text/html": [
       "<img src=\"data:image/png;base64,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\" width=\"639.999974568686\">"
      ],
      "text/plain": [
       "<IPython.core.display.HTML object>"
      ]
     },
     "metadata": {},
     "output_type": "display_data"
    }
   ],
   "source": [
    "states = [q1, q2, q3, x, y, u1, u2, u3]\n",
    "fig, axes = plt.subplots(8, 1)\n",
    "\n",
    "for i, ax in enumerate(axes):\n",
    "    ax.plot(times, traj[:, i])\n",
    "    ax.set_ylabel(sm.latex(states[i], mode='inline'))\n",
    "    \n",
    "plt.tight_layout()"
   ]
  },
  {
   "cell_type": "code",
   "execution_count": 93,
   "metadata": {},
   "outputs": [
    {
     "data": {
      "application/javascript": [
       "/* Put everything inside the global mpl namespace */\n",
       "window.mpl = {};\n",
       "\n",
       "\n",
       "mpl.get_websocket_type = function() {\n",
       "    if (typeof(WebSocket) !== 'undefined') {\n",
       "        return WebSocket;\n",
       "    } else if (typeof(MozWebSocket) !== 'undefined') {\n",
       "        return MozWebSocket;\n",
       "    } else {\n",
       "        alert('Your browser does not have WebSocket support.' +\n",
       "              'Please try Chrome, Safari or Firefox ≥ 6. ' +\n",
       "              'Firefox 4 and 5 are also supported but you ' +\n",
       "              'have to enable WebSockets in about:config.');\n",
       "    };\n",
       "}\n",
       "\n",
       "mpl.figure = function(figure_id, websocket, ondownload, parent_element) {\n",
       "    this.id = figure_id;\n",
       "\n",
       "    this.ws = websocket;\n",
       "\n",
       "    this.supports_binary = (this.ws.binaryType != undefined);\n",
       "\n",
       "    if (!this.supports_binary) {\n",
       "        var warnings = document.getElementById(\"mpl-warnings\");\n",
       "        if (warnings) {\n",
       "            warnings.style.display = 'block';\n",
       "            warnings.textContent = (\n",
       "                \"This browser does not support binary websocket messages. \" +\n",
       "                    \"Performance may be slow.\");\n",
       "        }\n",
       "    }\n",
       "\n",
       "    this.imageObj = new Image();\n",
       "\n",
       "    this.context = undefined;\n",
       "    this.message = undefined;\n",
       "    this.canvas = undefined;\n",
       "    this.rubberband_canvas = undefined;\n",
       "    this.rubberband_context = undefined;\n",
       "    this.format_dropdown = undefined;\n",
       "\n",
       "    this.image_mode = 'full';\n",
       "\n",
       "    this.root = $('<div/>');\n",
       "    this._root_extra_style(this.root)\n",
       "    this.root.attr('style', 'display: inline-block');\n",
       "\n",
       "    $(parent_element).append(this.root);\n",
       "\n",
       "    this._init_header(this);\n",
       "    this._init_canvas(this);\n",
       "    this._init_toolbar(this);\n",
       "\n",
       "    var fig = this;\n",
       "\n",
       "    this.waiting = false;\n",
       "\n",
       "    this.ws.onopen =  function () {\n",
       "            fig.send_message(\"supports_binary\", {value: fig.supports_binary});\n",
       "            fig.send_message(\"send_image_mode\", {});\n",
       "            if (mpl.ratio != 1) {\n",
       "                fig.send_message(\"set_dpi_ratio\", {'dpi_ratio': mpl.ratio});\n",
       "            }\n",
       "            fig.send_message(\"refresh\", {});\n",
       "        }\n",
       "\n",
       "    this.imageObj.onload = function() {\n",
       "            if (fig.image_mode == 'full') {\n",
       "                // Full images could contain transparency (where diff images\n",
       "                // almost always do), so we need to clear the canvas so that\n",
       "                // there is no ghosting.\n",
       "                fig.context.clearRect(0, 0, fig.canvas.width, fig.canvas.height);\n",
       "            }\n",
       "            fig.context.drawImage(fig.imageObj, 0, 0);\n",
       "        };\n",
       "\n",
       "    this.imageObj.onunload = function() {\n",
       "        fig.ws.close();\n",
       "    }\n",
       "\n",
       "    this.ws.onmessage = this._make_on_message_function(this);\n",
       "\n",
       "    this.ondownload = ondownload;\n",
       "}\n",
       "\n",
       "mpl.figure.prototype._init_header = function() {\n",
       "    var titlebar = $(\n",
       "        '<div class=\"ui-dialog-titlebar ui-widget-header ui-corner-all ' +\n",
       "        'ui-helper-clearfix\"/>');\n",
       "    var titletext = $(\n",
       "        '<div class=\"ui-dialog-title\" style=\"width: 100%; ' +\n",
       "        'text-align: center; padding: 3px;\"/>');\n",
       "    titlebar.append(titletext)\n",
       "    this.root.append(titlebar);\n",
       "    this.header = titletext[0];\n",
       "}\n",
       "\n",
       "\n",
       "\n",
       "mpl.figure.prototype._canvas_extra_style = function(canvas_div) {\n",
       "\n",
       "}\n",
       "\n",
       "\n",
       "mpl.figure.prototype._root_extra_style = function(canvas_div) {\n",
       "\n",
       "}\n",
       "\n",
       "mpl.figure.prototype._init_canvas = function() {\n",
       "    var fig = this;\n",
       "\n",
       "    var canvas_div = $('<div/>');\n",
       "\n",
       "    canvas_div.attr('style', 'position: relative; clear: both; outline: 0');\n",
       "\n",
       "    function canvas_keyboard_event(event) {\n",
       "        return fig.key_event(event, event['data']);\n",
       "    }\n",
       "\n",
       "    canvas_div.keydown('key_press', canvas_keyboard_event);\n",
       "    canvas_div.keyup('key_release', canvas_keyboard_event);\n",
       "    this.canvas_div = canvas_div\n",
       "    this._canvas_extra_style(canvas_div)\n",
       "    this.root.append(canvas_div);\n",
       "\n",
       "    var canvas = $('<canvas/>');\n",
       "    canvas.addClass('mpl-canvas');\n",
       "    canvas.attr('style', \"left: 0; top: 0; z-index: 0; outline: 0\")\n",
       "\n",
       "    this.canvas = canvas[0];\n",
       "    this.context = canvas[0].getContext(\"2d\");\n",
       "\n",
       "    var backingStore = this.context.backingStorePixelRatio ||\n",
       "\tthis.context.webkitBackingStorePixelRatio ||\n",
       "\tthis.context.mozBackingStorePixelRatio ||\n",
       "\tthis.context.msBackingStorePixelRatio ||\n",
       "\tthis.context.oBackingStorePixelRatio ||\n",
       "\tthis.context.backingStorePixelRatio || 1;\n",
       "\n",
       "    mpl.ratio = (window.devicePixelRatio || 1) / backingStore;\n",
       "\n",
       "    var rubberband = $('<canvas/>');\n",
       "    rubberband.attr('style', \"position: absolute; left: 0; top: 0; z-index: 1;\")\n",
       "\n",
       "    var pass_mouse_events = true;\n",
       "\n",
       "    canvas_div.resizable({\n",
       "        start: function(event, ui) {\n",
       "            pass_mouse_events = false;\n",
       "        },\n",
       "        resize: function(event, ui) {\n",
       "            fig.request_resize(ui.size.width, ui.size.height);\n",
       "        },\n",
       "        stop: function(event, ui) {\n",
       "            pass_mouse_events = true;\n",
       "            fig.request_resize(ui.size.width, ui.size.height);\n",
       "        },\n",
       "    });\n",
       "\n",
       "    function mouse_event_fn(event) {\n",
       "        if (pass_mouse_events)\n",
       "            return fig.mouse_event(event, event['data']);\n",
       "    }\n",
       "\n",
       "    rubberband.mousedown('button_press', mouse_event_fn);\n",
       "    rubberband.mouseup('button_release', mouse_event_fn);\n",
       "    // Throttle sequential mouse events to 1 every 20ms.\n",
       "    rubberband.mousemove('motion_notify', mouse_event_fn);\n",
       "\n",
       "    rubberband.mouseenter('figure_enter', mouse_event_fn);\n",
       "    rubberband.mouseleave('figure_leave', mouse_event_fn);\n",
       "\n",
       "    canvas_div.on(\"wheel\", function (event) {\n",
       "        event = event.originalEvent;\n",
       "        event['data'] = 'scroll'\n",
       "        if (event.deltaY < 0) {\n",
       "            event.step = 1;\n",
       "        } else {\n",
       "            event.step = -1;\n",
       "        }\n",
       "        mouse_event_fn(event);\n",
       "    });\n",
       "\n",
       "    canvas_div.append(canvas);\n",
       "    canvas_div.append(rubberband);\n",
       "\n",
       "    this.rubberband = rubberband;\n",
       "    this.rubberband_canvas = rubberband[0];\n",
       "    this.rubberband_context = rubberband[0].getContext(\"2d\");\n",
       "    this.rubberband_context.strokeStyle = \"#000000\";\n",
       "\n",
       "    this._resize_canvas = function(width, height) {\n",
       "        // Keep the size of the canvas, canvas container, and rubber band\n",
       "        // canvas in synch.\n",
       "        canvas_div.css('width', width)\n",
       "        canvas_div.css('height', height)\n",
       "\n",
       "        canvas.attr('width', width * mpl.ratio);\n",
       "        canvas.attr('height', height * mpl.ratio);\n",
       "        canvas.attr('style', 'width: ' + width + 'px; height: ' + height + 'px;');\n",
       "\n",
       "        rubberband.attr('width', width);\n",
       "        rubberband.attr('height', height);\n",
       "    }\n",
       "\n",
       "    // Set the figure to an initial 600x600px, this will subsequently be updated\n",
       "    // upon first draw.\n",
       "    this._resize_canvas(600, 600);\n",
       "\n",
       "    // Disable right mouse context menu.\n",
       "    $(this.rubberband_canvas).bind(\"contextmenu\",function(e){\n",
       "        return false;\n",
       "    });\n",
       "\n",
       "    function set_focus () {\n",
       "        canvas.focus();\n",
       "        canvas_div.focus();\n",
       "    }\n",
       "\n",
       "    window.setTimeout(set_focus, 100);\n",
       "}\n",
       "\n",
       "mpl.figure.prototype._init_toolbar = function() {\n",
       "    var fig = this;\n",
       "\n",
       "    var nav_element = $('<div/>')\n",
       "    nav_element.attr('style', 'width: 100%');\n",
       "    this.root.append(nav_element);\n",
       "\n",
       "    // Define a callback function for later on.\n",
       "    function toolbar_event(event) {\n",
       "        return fig.toolbar_button_onclick(event['data']);\n",
       "    }\n",
       "    function toolbar_mouse_event(event) {\n",
       "        return fig.toolbar_button_onmouseover(event['data']);\n",
       "    }\n",
       "\n",
       "    for(var toolbar_ind in mpl.toolbar_items) {\n",
       "        var name = mpl.toolbar_items[toolbar_ind][0];\n",
       "        var tooltip = mpl.toolbar_items[toolbar_ind][1];\n",
       "        var image = mpl.toolbar_items[toolbar_ind][2];\n",
       "        var method_name = mpl.toolbar_items[toolbar_ind][3];\n",
       "\n",
       "        if (!name) {\n",
       "            // put a spacer in here.\n",
       "            continue;\n",
       "        }\n",
       "        var button = $('<button/>');\n",
       "        button.addClass('ui-button ui-widget ui-state-default ui-corner-all ' +\n",
       "                        'ui-button-icon-only');\n",
       "        button.attr('role', 'button');\n",
       "        button.attr('aria-disabled', 'false');\n",
       "        button.click(method_name, toolbar_event);\n",
       "        button.mouseover(tooltip, toolbar_mouse_event);\n",
       "\n",
       "        var icon_img = $('<span/>');\n",
       "        icon_img.addClass('ui-button-icon-primary ui-icon');\n",
       "        icon_img.addClass(image);\n",
       "        icon_img.addClass('ui-corner-all');\n",
       "\n",
       "        var tooltip_span = $('<span/>');\n",
       "        tooltip_span.addClass('ui-button-text');\n",
       "        tooltip_span.html(tooltip);\n",
       "\n",
       "        button.append(icon_img);\n",
       "        button.append(tooltip_span);\n",
       "\n",
       "        nav_element.append(button);\n",
       "    }\n",
       "\n",
       "    var fmt_picker_span = $('<span/>');\n",
       "\n",
       "    var fmt_picker = $('<select/>');\n",
       "    fmt_picker.addClass('mpl-toolbar-option ui-widget ui-widget-content');\n",
       "    fmt_picker_span.append(fmt_picker);\n",
       "    nav_element.append(fmt_picker_span);\n",
       "    this.format_dropdown = fmt_picker[0];\n",
       "\n",
       "    for (var ind in mpl.extensions) {\n",
       "        var fmt = mpl.extensions[ind];\n",
       "        var option = $(\n",
       "            '<option/>', {selected: fmt === mpl.default_extension}).html(fmt);\n",
       "        fmt_picker.append(option)\n",
       "    }\n",
       "\n",
       "    // Add hover states to the ui-buttons\n",
       "    $( \".ui-button\" ).hover(\n",
       "        function() { $(this).addClass(\"ui-state-hover\");},\n",
       "        function() { $(this).removeClass(\"ui-state-hover\");}\n",
       "    );\n",
       "\n",
       "    var status_bar = $('<span class=\"mpl-message\"/>');\n",
       "    nav_element.append(status_bar);\n",
       "    this.message = status_bar[0];\n",
       "}\n",
       "\n",
       "mpl.figure.prototype.request_resize = function(x_pixels, y_pixels) {\n",
       "    // Request matplotlib to resize the figure. Matplotlib will then trigger a resize in the client,\n",
       "    // which will in turn request a refresh of the image.\n",
       "    this.send_message('resize', {'width': x_pixels, 'height': y_pixels});\n",
       "}\n",
       "\n",
       "mpl.figure.prototype.send_message = function(type, properties) {\n",
       "    properties['type'] = type;\n",
       "    properties['figure_id'] = this.id;\n",
       "    this.ws.send(JSON.stringify(properties));\n",
       "}\n",
       "\n",
       "mpl.figure.prototype.send_draw_message = function() {\n",
       "    if (!this.waiting) {\n",
       "        this.waiting = true;\n",
       "        this.ws.send(JSON.stringify({type: \"draw\", figure_id: this.id}));\n",
       "    }\n",
       "}\n",
       "\n",
       "\n",
       "mpl.figure.prototype.handle_save = function(fig, msg) {\n",
       "    var format_dropdown = fig.format_dropdown;\n",
       "    var format = format_dropdown.options[format_dropdown.selectedIndex].value;\n",
       "    fig.ondownload(fig, format);\n",
       "}\n",
       "\n",
       "\n",
       "mpl.figure.prototype.handle_resize = function(fig, msg) {\n",
       "    var size = msg['size'];\n",
       "    if (size[0] != fig.canvas.width || size[1] != fig.canvas.height) {\n",
       "        fig._resize_canvas(size[0], size[1]);\n",
       "        fig.send_message(\"refresh\", {});\n",
       "    };\n",
       "}\n",
       "\n",
       "mpl.figure.prototype.handle_rubberband = function(fig, msg) {\n",
       "    var x0 = msg['x0'] / mpl.ratio;\n",
       "    var y0 = (fig.canvas.height - msg['y0']) / mpl.ratio;\n",
       "    var x1 = msg['x1'] / mpl.ratio;\n",
       "    var y1 = (fig.canvas.height - msg['y1']) / mpl.ratio;\n",
       "    x0 = Math.floor(x0) + 0.5;\n",
       "    y0 = Math.floor(y0) + 0.5;\n",
       "    x1 = Math.floor(x1) + 0.5;\n",
       "    y1 = Math.floor(y1) + 0.5;\n",
       "    var min_x = Math.min(x0, x1);\n",
       "    var min_y = Math.min(y0, y1);\n",
       "    var width = Math.abs(x1 - x0);\n",
       "    var height = Math.abs(y1 - y0);\n",
       "\n",
       "    fig.rubberband_context.clearRect(\n",
       "        0, 0, fig.canvas.width, fig.canvas.height);\n",
       "\n",
       "    fig.rubberband_context.strokeRect(min_x, min_y, width, height);\n",
       "}\n",
       "\n",
       "mpl.figure.prototype.handle_figure_label = function(fig, msg) {\n",
       "    // Updates the figure title.\n",
       "    fig.header.textContent = msg['label'];\n",
       "}\n",
       "\n",
       "mpl.figure.prototype.handle_cursor = function(fig, msg) {\n",
       "    var cursor = msg['cursor'];\n",
       "    switch(cursor)\n",
       "    {\n",
       "    case 0:\n",
       "        cursor = 'pointer';\n",
       "        break;\n",
       "    case 1:\n",
       "        cursor = 'default';\n",
       "        break;\n",
       "    case 2:\n",
       "        cursor = 'crosshair';\n",
       "        break;\n",
       "    case 3:\n",
       "        cursor = 'move';\n",
       "        break;\n",
       "    }\n",
       "    fig.rubberband_canvas.style.cursor = cursor;\n",
       "}\n",
       "\n",
       "mpl.figure.prototype.handle_message = function(fig, msg) {\n",
       "    fig.message.textContent = msg['message'];\n",
       "}\n",
       "\n",
       "mpl.figure.prototype.handle_draw = function(fig, msg) {\n",
       "    // Request the server to send over a new figure.\n",
       "    fig.send_draw_message();\n",
       "}\n",
       "\n",
       "mpl.figure.prototype.handle_image_mode = function(fig, msg) {\n",
       "    fig.image_mode = msg['mode'];\n",
       "}\n",
       "\n",
       "mpl.figure.prototype.updated_canvas_event = function() {\n",
       "    // Called whenever the canvas gets updated.\n",
       "    this.send_message(\"ack\", {});\n",
       "}\n",
       "\n",
       "// A function to construct a web socket function for onmessage handling.\n",
       "// Called in the figure constructor.\n",
       "mpl.figure.prototype._make_on_message_function = function(fig) {\n",
       "    return function socket_on_message(evt) {\n",
       "        if (evt.data instanceof Blob) {\n",
       "            /* FIXME: We get \"Resource interpreted as Image but\n",
       "             * transferred with MIME type text/plain:\" errors on\n",
       "             * Chrome.  But how to set the MIME type?  It doesn't seem\n",
       "             * to be part of the websocket stream */\n",
       "            evt.data.type = \"image/png\";\n",
       "\n",
       "            /* Free the memory for the previous frames */\n",
       "            if (fig.imageObj.src) {\n",
       "                (window.URL || window.webkitURL).revokeObjectURL(\n",
       "                    fig.imageObj.src);\n",
       "            }\n",
       "\n",
       "            fig.imageObj.src = (window.URL || window.webkitURL).createObjectURL(\n",
       "                evt.data);\n",
       "            fig.updated_canvas_event();\n",
       "            fig.waiting = false;\n",
       "            return;\n",
       "        }\n",
       "        else if (typeof evt.data === 'string' && evt.data.slice(0, 21) == \"data:image/png;base64\") {\n",
       "            fig.imageObj.src = evt.data;\n",
       "            fig.updated_canvas_event();\n",
       "            fig.waiting = false;\n",
       "            return;\n",
       "        }\n",
       "\n",
       "        var msg = JSON.parse(evt.data);\n",
       "        var msg_type = msg['type'];\n",
       "\n",
       "        // Call the  \"handle_{type}\" callback, which takes\n",
       "        // the figure and JSON message as its only arguments.\n",
       "        try {\n",
       "            var callback = fig[\"handle_\" + msg_type];\n",
       "        } catch (e) {\n",
       "            console.log(\"No handler for the '\" + msg_type + \"' message type: \", msg);\n",
       "            return;\n",
       "        }\n",
       "\n",
       "        if (callback) {\n",
       "            try {\n",
       "                // console.log(\"Handling '\" + msg_type + \"' message: \", msg);\n",
       "                callback(fig, msg);\n",
       "            } catch (e) {\n",
       "                console.log(\"Exception inside the 'handler_\" + msg_type + \"' callback:\", e, e.stack, msg);\n",
       "            }\n",
       "        }\n",
       "    };\n",
       "}\n",
       "\n",
       "// from http://stackoverflow.com/questions/1114465/getting-mouse-location-in-canvas\n",
       "mpl.findpos = function(e) {\n",
       "    //this section is from http://www.quirksmode.org/js/events_properties.html\n",
       "    var targ;\n",
       "    if (!e)\n",
       "        e = window.event;\n",
       "    if (e.target)\n",
       "        targ = e.target;\n",
       "    else if (e.srcElement)\n",
       "        targ = e.srcElement;\n",
       "    if (targ.nodeType == 3) // defeat Safari bug\n",
       "        targ = targ.parentNode;\n",
       "\n",
       "    // jQuery normalizes the pageX and pageY\n",
       "    // pageX,Y are the mouse positions relative to the document\n",
       "    // offset() returns the position of the element relative to the document\n",
       "    var x = e.pageX - $(targ).offset().left;\n",
       "    var y = e.pageY - $(targ).offset().top;\n",
       "\n",
       "    return {\"x\": x, \"y\": y};\n",
       "};\n",
       "\n",
       "/*\n",
       " * return a copy of an object with only non-object keys\n",
       " * we need this to avoid circular references\n",
       " * http://stackoverflow.com/a/24161582/3208463\n",
       " */\n",
       "function simpleKeys (original) {\n",
       "  return Object.keys(original).reduce(function (obj, key) {\n",
       "    if (typeof original[key] !== 'object')\n",
       "        obj[key] = original[key]\n",
       "    return obj;\n",
       "  }, {});\n",
       "}\n",
       "\n",
       "mpl.figure.prototype.mouse_event = function(event, name) {\n",
       "    var canvas_pos = mpl.findpos(event)\n",
       "\n",
       "    if (name === 'button_press')\n",
       "    {\n",
       "        this.canvas.focus();\n",
       "        this.canvas_div.focus();\n",
       "    }\n",
       "\n",
       "    var x = canvas_pos.x * mpl.ratio;\n",
       "    var y = canvas_pos.y * mpl.ratio;\n",
       "\n",
       "    this.send_message(name, {x: x, y: y, button: event.button,\n",
       "                             step: event.step,\n",
       "                             guiEvent: simpleKeys(event)});\n",
       "\n",
       "    /* This prevents the web browser from automatically changing to\n",
       "     * the text insertion cursor when the button is pressed.  We want\n",
       "     * to control all of the cursor setting manually through the\n",
       "     * 'cursor' event from matplotlib */\n",
       "    event.preventDefault();\n",
       "    return false;\n",
       "}\n",
       "\n",
       "mpl.figure.prototype._key_event_extra = function(event, name) {\n",
       "    // Handle any extra behaviour associated with a key event\n",
       "}\n",
       "\n",
       "mpl.figure.prototype.key_event = function(event, name) {\n",
       "\n",
       "    // Prevent repeat events\n",
       "    if (name == 'key_press')\n",
       "    {\n",
       "        if (event.which === this._key)\n",
       "            return;\n",
       "        else\n",
       "            this._key = event.which;\n",
       "    }\n",
       "    if (name == 'key_release')\n",
       "        this._key = null;\n",
       "\n",
       "    var value = '';\n",
       "    if (event.ctrlKey && event.which != 17)\n",
       "        value += \"ctrl+\";\n",
       "    if (event.altKey && event.which != 18)\n",
       "        value += \"alt+\";\n",
       "    if (event.shiftKey && event.which != 16)\n",
       "        value += \"shift+\";\n",
       "\n",
       "    value += 'k';\n",
       "    value += event.which.toString();\n",
       "\n",
       "    this._key_event_extra(event, name);\n",
       "\n",
       "    this.send_message(name, {key: value,\n",
       "                             guiEvent: simpleKeys(event)});\n",
       "    return false;\n",
       "}\n",
       "\n",
       "mpl.figure.prototype.toolbar_button_onclick = function(name) {\n",
       "    if (name == 'download') {\n",
       "        this.handle_save(this, null);\n",
       "    } else {\n",
       "        this.send_message(\"toolbar_button\", {name: name});\n",
       "    }\n",
       "};\n",
       "\n",
       "mpl.figure.prototype.toolbar_button_onmouseover = function(tooltip) {\n",
       "    this.message.textContent = tooltip;\n",
       "};\n",
       "mpl.toolbar_items = [[\"Home\", \"Reset original view\", \"fa fa-home icon-home\", \"home\"], [\"Back\", \"Back to  previous view\", \"fa fa-arrow-left icon-arrow-left\", \"back\"], [\"Forward\", \"Forward to next view\", \"fa fa-arrow-right icon-arrow-right\", \"forward\"], [\"\", \"\", \"\", \"\"], [\"Pan\", \"Pan axes with left mouse, zoom with right\", \"fa fa-arrows icon-move\", \"pan\"], [\"Zoom\", \"Zoom to rectangle\", \"fa fa-square-o icon-check-empty\", \"zoom\"], [\"\", \"\", \"\", \"\"], [\"Download\", \"Download plot\", \"fa fa-floppy-o icon-save\", \"download\"]];\n",
       "\n",
       "mpl.extensions = [\"eps\", \"pdf\", \"png\", \"ps\", \"raw\", \"svg\"];\n",
       "\n",
       "mpl.default_extension = \"png\";var comm_websocket_adapter = function(comm) {\n",
       "    // Create a \"websocket\"-like object which calls the given IPython comm\n",
       "    // object with the appropriate methods. Currently this is a non binary\n",
       "    // socket, so there is still some room for performance tuning.\n",
       "    var ws = {};\n",
       "\n",
       "    ws.close = function() {\n",
       "        comm.close()\n",
       "    };\n",
       "    ws.send = function(m) {\n",
       "        //console.log('sending', m);\n",
       "        comm.send(m);\n",
       "    };\n",
       "    // Register the callback with on_msg.\n",
       "    comm.on_msg(function(msg) {\n",
       "        //console.log('receiving', msg['content']['data'], msg);\n",
       "        // Pass the mpl event to the overriden (by mpl) onmessage function.\n",
       "        ws.onmessage(msg['content']['data'])\n",
       "    });\n",
       "    return ws;\n",
       "}\n",
       "\n",
       "mpl.mpl_figure_comm = function(comm, msg) {\n",
       "    // This is the function which gets called when the mpl process\n",
       "    // starts-up an IPython Comm through the \"matplotlib\" channel.\n",
       "\n",
       "    var id = msg.content.data.id;\n",
       "    // Get hold of the div created by the display call when the Comm\n",
       "    // socket was opened in Python.\n",
       "    var element = $(\"#\" + id);\n",
       "    var ws_proxy = comm_websocket_adapter(comm)\n",
       "\n",
       "    function ondownload(figure, format) {\n",
       "        window.open(figure.imageObj.src);\n",
       "    }\n",
       "\n",
       "    var fig = new mpl.figure(id, ws_proxy,\n",
       "                           ondownload,\n",
       "                           element.get(0));\n",
       "\n",
       "    // Call onopen now - mpl needs it, as it is assuming we've passed it a real\n",
       "    // web socket which is closed, not our websocket->open comm proxy.\n",
       "    ws_proxy.onopen();\n",
       "\n",
       "    fig.parent_element = element.get(0);\n",
       "    fig.cell_info = mpl.find_output_cell(\"<div id='\" + id + \"'></div>\");\n",
       "    if (!fig.cell_info) {\n",
       "        console.error(\"Failed to find cell for figure\", id, fig);\n",
       "        return;\n",
       "    }\n",
       "\n",
       "    var output_index = fig.cell_info[2]\n",
       "    var cell = fig.cell_info[0];\n",
       "\n",
       "};\n",
       "\n",
       "mpl.figure.prototype.handle_close = function(fig, msg) {\n",
       "    var width = fig.canvas.width/mpl.ratio\n",
       "    fig.root.unbind('remove')\n",
       "\n",
       "    // Update the output cell to use the data from the current canvas.\n",
       "    fig.push_to_output();\n",
       "    var dataURL = fig.canvas.toDataURL();\n",
       "    // Re-enable the keyboard manager in IPython - without this line, in FF,\n",
       "    // the notebook keyboard shortcuts fail.\n",
       "    IPython.keyboard_manager.enable()\n",
       "    $(fig.parent_element).html('<img src=\"' + dataURL + '\" width=\"' + width + '\">');\n",
       "    fig.close_ws(fig, msg);\n",
       "}\n",
       "\n",
       "mpl.figure.prototype.close_ws = function(fig, msg){\n",
       "    fig.send_message('closing', msg);\n",
       "    // fig.ws.close()\n",
       "}\n",
       "\n",
       "mpl.figure.prototype.push_to_output = function(remove_interactive) {\n",
       "    // Turn the data on the canvas into data in the output cell.\n",
       "    var width = this.canvas.width/mpl.ratio\n",
       "    var dataURL = this.canvas.toDataURL();\n",
       "    this.cell_info[1]['text/html'] = '<img src=\"' + dataURL + '\" width=\"' + width + '\">';\n",
       "}\n",
       "\n",
       "mpl.figure.prototype.updated_canvas_event = function() {\n",
       "    // Tell IPython that the notebook contents must change.\n",
       "    IPython.notebook.set_dirty(true);\n",
       "    this.send_message(\"ack\", {});\n",
       "    var fig = this;\n",
       "    // Wait a second, then push the new image to the DOM so\n",
       "    // that it is saved nicely (might be nice to debounce this).\n",
       "    setTimeout(function () { fig.push_to_output() }, 1000);\n",
       "}\n",
       "\n",
       "mpl.figure.prototype._init_toolbar = function() {\n",
       "    var fig = this;\n",
       "\n",
       "    var nav_element = $('<div/>')\n",
       "    nav_element.attr('style', 'width: 100%');\n",
       "    this.root.append(nav_element);\n",
       "\n",
       "    // Define a callback function for later on.\n",
       "    function toolbar_event(event) {\n",
       "        return fig.toolbar_button_onclick(event['data']);\n",
       "    }\n",
       "    function toolbar_mouse_event(event) {\n",
       "        return fig.toolbar_button_onmouseover(event['data']);\n",
       "    }\n",
       "\n",
       "    for(var toolbar_ind in mpl.toolbar_items){\n",
       "        var name = mpl.toolbar_items[toolbar_ind][0];\n",
       "        var tooltip = mpl.toolbar_items[toolbar_ind][1];\n",
       "        var image = mpl.toolbar_items[toolbar_ind][2];\n",
       "        var method_name = mpl.toolbar_items[toolbar_ind][3];\n",
       "\n",
       "        if (!name) { continue; };\n",
       "\n",
       "        var button = $('<button class=\"btn btn-default\" href=\"#\" title=\"' + name + '\"><i class=\"fa ' + image + ' fa-lg\"></i></button>');\n",
       "        button.click(method_name, toolbar_event);\n",
       "        button.mouseover(tooltip, toolbar_mouse_event);\n",
       "        nav_element.append(button);\n",
       "    }\n",
       "\n",
       "    // Add the status bar.\n",
       "    var status_bar = $('<span class=\"mpl-message\" style=\"text-align:right; float: right;\"/>');\n",
       "    nav_element.append(status_bar);\n",
       "    this.message = status_bar[0];\n",
       "\n",
       "    // Add the close button to the window.\n",
       "    var buttongrp = $('<div class=\"btn-group inline pull-right\"></div>');\n",
       "    var button = $('<button class=\"btn btn-mini btn-primary\" href=\"#\" title=\"Stop Interaction\"><i class=\"fa fa-power-off icon-remove icon-large\"></i></button>');\n",
       "    button.click(function (evt) { fig.handle_close(fig, {}); } );\n",
       "    button.mouseover('Stop Interaction', toolbar_mouse_event);\n",
       "    buttongrp.append(button);\n",
       "    var titlebar = this.root.find($('.ui-dialog-titlebar'));\n",
       "    titlebar.prepend(buttongrp);\n",
       "}\n",
       "\n",
       "mpl.figure.prototype._root_extra_style = function(el){\n",
       "    var fig = this\n",
       "    el.on(\"remove\", function(){\n",
       "\tfig.close_ws(fig, {});\n",
       "    });\n",
       "}\n",
       "\n",
       "mpl.figure.prototype._canvas_extra_style = function(el){\n",
       "    // this is important to make the div 'focusable\n",
       "    el.attr('tabindex', 0)\n",
       "    // reach out to IPython and tell the keyboard manager to turn it's self\n",
       "    // off when our div gets focus\n",
       "\n",
       "    // location in version 3\n",
       "    if (IPython.notebook.keyboard_manager) {\n",
       "        IPython.notebook.keyboard_manager.register_events(el);\n",
       "    }\n",
       "    else {\n",
       "        // location in version 2\n",
       "        IPython.keyboard_manager.register_events(el);\n",
       "    }\n",
       "\n",
       "}\n",
       "\n",
       "mpl.figure.prototype._key_event_extra = function(event, name) {\n",
       "    var manager = IPython.notebook.keyboard_manager;\n",
       "    if (!manager)\n",
       "        manager = IPython.keyboard_manager;\n",
       "\n",
       "    // Check for shift+enter\n",
       "    if (event.shiftKey && event.which == 13) {\n",
       "        this.canvas_div.blur();\n",
       "        event.shiftKey = false;\n",
       "        // Send a \"J\" for go to next cell\n",
       "        event.which = 74;\n",
       "        event.keyCode = 74;\n",
       "        manager.command_mode();\n",
       "        manager.handle_keydown(event);\n",
       "    }\n",
       "}\n",
       "\n",
       "mpl.figure.prototype.handle_save = function(fig, msg) {\n",
       "    fig.ondownload(fig, null);\n",
       "}\n",
       "\n",
       "\n",
       "mpl.find_output_cell = function(html_output) {\n",
       "    // Return the cell and output element which can be found *uniquely* in the notebook.\n",
       "    // Note - this is a bit hacky, but it is done because the \"notebook_saving.Notebook\"\n",
       "    // IPython event is triggered only after the cells have been serialised, which for\n",
       "    // our purposes (turning an active figure into a static one), is too late.\n",
       "    var cells = IPython.notebook.get_cells();\n",
       "    var ncells = cells.length;\n",
       "    for (var i=0; i<ncells; i++) {\n",
       "        var cell = cells[i];\n",
       "        if (cell.cell_type === 'code'){\n",
       "            for (var j=0; j<cell.output_area.outputs.length; j++) {\n",
       "                var data = cell.output_area.outputs[j];\n",
       "                if (data.data) {\n",
       "                    // IPython >= 3 moved mimebundle to data attribute of output\n",
       "                    data = data.data;\n",
       "                }\n",
       "                if (data['text/html'] == html_output) {\n",
       "                    return [cell, data, j];\n",
       "                }\n",
       "            }\n",
       "        }\n",
       "    }\n",
       "}\n",
       "\n",
       "// Register the function which deals with the matplotlib target/channel.\n",
       "// The kernel may be null if the page has been refreshed.\n",
       "if (IPython.notebook.kernel != null) {\n",
       "    IPython.notebook.kernel.comm_manager.register_target('matplotlib', mpl.mpl_figure_comm);\n",
       "}\n"
      ],
      "text/plain": [
       "<IPython.core.display.Javascript object>"
      ]
     },
     "metadata": {},
     "output_type": "display_data"
    },
    {
     "data": {
      "text/html": [
       "<img src=\"data:image/png;base64,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\" width=\"639.999974568686\">"
      ],
      "text/plain": [
       "<IPython.core.display.HTML object>"
      ]
     },
     "metadata": {},
     "output_type": "display_data"
    },
    {
     "data": {
      "text/plain": [
       "[<matplotlib.lines.Line2D at 0x7fc7c0783d30>]"
      ]
     },
     "execution_count": 93,
     "metadata": {},
     "output_type": "execute_result"
    }
   ],
   "source": [
    "fig, ax = plt.subplots(1, 1)\n",
    "ax.plot(traj[:, 3], traj[:, 4])"
   ]
  }
 ],
 "metadata": {
  "kernelspec": {
   "display_name": "Python 3",
   "language": "python",
   "name": "python3"
  },
  "language_info": {
   "codemirror_mode": {
    "name": "ipython",
    "version": 3
   },
   "file_extension": ".py",
   "mimetype": "text/x-python",
   "name": "python",
   "nbconvert_exporter": "python",
   "pygments_lexer": "ipython3",
   "version": "3.6.2"
  }
 },
 "nbformat": 4,
 "nbformat_minor": 2
}
