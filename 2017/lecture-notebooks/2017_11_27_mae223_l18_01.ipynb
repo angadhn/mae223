{
 "cells": [
  {
   "cell_type": "code",
   "execution_count": 1,
   "metadata": {},
   "outputs": [],
   "source": [
    "import sympy as sm\n",
    "import sympy.physics.mechanics as me\n",
    "me.init_vprinting(use_latex=True, pretty_print=False)"
   ]
  },
  {
   "cell_type": "markdown",
   "metadata": {},
   "source": [
    "# Generalized coordinates"
   ]
  },
  {
   "cell_type": "code",
   "execution_count": 2,
   "metadata": {},
   "outputs": [],
   "source": [
    "q1, q2, q3 = me.dynamicsymbols('q1, q2, q3')"
   ]
  },
  {
   "cell_type": "markdown",
   "metadata": {},
   "source": [
    "# Generalized speeds"
   ]
  },
  {
   "cell_type": "code",
   "execution_count": 3,
   "metadata": {},
   "outputs": [],
   "source": [
    "u1, u2, u3 = me.dynamicsymbols('u1, u2, u3')"
   ]
  },
  {
   "cell_type": "markdown",
   "metadata": {},
   "source": [
    "# Specified Inputs"
   ]
  },
  {
   "cell_type": "code",
   "execution_count": 4,
   "metadata": {},
   "outputs": [],
   "source": [
    "F, T = me.dynamicsymbols('F, T')"
   ]
  },
  {
   "cell_type": "markdown",
   "metadata": {},
   "source": [
    "# Constants"
   ]
  },
  {
   "cell_type": "code",
   "execution_count": 5,
   "metadata": {},
   "outputs": [
    {
     "data": {
      "image/png": "[encoded data removed]",
      "text/latex": [
       "$$I_{B_bo}$$"
      ],
      "text/plain": [
       "I_{B_bo}"
      ]
     },
     "execution_count": 5,
     "metadata": {},
     "output_type": "execute_result"
    }
   ],
   "source": [
    "k, c, ma, mb, mc, IB_bo, l, kT, g = sm.symbols('k, c, m_a, m_b, m_c, I_{B_bo}, l, k_T, g')\n",
    "IB_bo"
   ]
  },
  {
   "cell_type": "markdown",
   "metadata": {},
   "source": [
    "# Reference Frames"
   ]
  },
  {
   "cell_type": "code",
   "execution_count": 6,
   "metadata": {},
   "outputs": [],
   "source": [
    "N = me.ReferenceFrame('N')"
   ]
  },
  {
   "cell_type": "code",
   "execution_count": 7,
   "metadata": {},
   "outputs": [],
   "source": [
    "B = N.orientnew('B', 'Axis', (q2, N.z))"
   ]
  },
  {
   "cell_type": "code",
   "execution_count": 8,
   "metadata": {},
   "outputs": [],
   "source": [
    "C = B.orientnew('C', 'Axis', (q3, N.z))"
   ]
  },
  {
   "cell_type": "markdown",
   "metadata": {},
   "source": [
    "# Kinematic Differential Equations\n",
    "\n",
    "$$\n",
    "u_i = \\dot{q}_i \\\\\n",
    "0 = u_i - \\dot{q}_i\n",
    "$$\n"
   ]
  },
  {
   "cell_type": "code",
   "execution_count": 9,
   "metadata": {},
   "outputs": [
    {
     "data": {
      "image/png": "[encoded data removed]",
      "text/latex": [
       "$$\\left [ u_{1} - \\dot{q}_{1}, \\quad u_{2} - \\dot{q}_{2}, \\quad u_{3} - \\dot{q}_{3}\\right ]$$"
      ],
      "text/plain": [
       "[u1 - q1', u2 - q2', u3 - q3']"
      ]
     },
     "execution_count": 9,
     "metadata": {},
     "output_type": "execute_result"
    }
   ],
   "source": [
    "kdes = [u1 - q1.diff(),\n",
    "        u2 - q2.diff(),\n",
    "        u3 - q3.diff()]\n",
    "kdes"
   ]
  },
  {
   "cell_type": "markdown",
   "metadata": {},
   "source": [
    "# Angular Velocities"
   ]
  },
  {
   "cell_type": "code",
   "execution_count": 10,
   "metadata": {},
   "outputs": [],
   "source": [
    "B.set_ang_vel(N, u2 * N.z)"
   ]
  },
  {
   "cell_type": "code",
   "execution_count": 11,
   "metadata": {},
   "outputs": [],
   "source": [
    "C.set_ang_vel(B, u3 * N.z)"
   ]
  },
  {
   "cell_type": "markdown",
   "metadata": {},
   "source": [
    "# Points"
   ]
  },
  {
   "cell_type": "code",
   "execution_count": 12,
   "metadata": {},
   "outputs": [],
   "source": [
    "O = me.Point('O')"
   ]
  },
  {
   "cell_type": "code",
   "execution_count": 13,
   "metadata": {},
   "outputs": [],
   "source": [
    "Pab = O.locatenew('P_{ab}', q1 * N.x)"
   ]
  },
  {
   "cell_type": "code",
   "execution_count": 14,
   "metadata": {},
   "outputs": [],
   "source": [
    "Bo = Pab.locatenew('B_o', - 2 * l / 3 * B.y)"
   ]
  },
  {
   "cell_type": "code",
   "execution_count": 15,
   "metadata": {},
   "outputs": [],
   "source": [
    "Pbc = Pab.locatenew('P_{bc}', -l * B.y)"
   ]
  },
  {
   "cell_type": "code",
   "execution_count": 16,
   "metadata": {},
   "outputs": [],
   "source": [
    "Pc = Pbc.locatenew('P_c', -l * C.y)"
   ]
  },
  {
   "cell_type": "code",
   "execution_count": 17,
   "metadata": {},
   "outputs": [
    {
     "data": {
      "image/png": "[encoded data removed]",
      "text/latex": [
       "$$-  l\\mathbf{\\hat{c}_y} -  l\\mathbf{\\hat{b}_y} + q_{1}\\mathbf{\\hat{n}_x}$$"
      ],
      "text/plain": [
       "q1*N.x - l*B.y - l*C.y"
      ]
     },
     "execution_count": 17,
     "metadata": {},
     "output_type": "execute_result"
    }
   ],
   "source": [
    "Pc.pos_from(O)"
   ]
  },
  {
   "cell_type": "markdown",
   "metadata": {},
   "source": [
    "# Linear Velocities"
   ]
  },
  {
   "cell_type": "code",
   "execution_count": 18,
   "metadata": {},
   "outputs": [],
   "source": [
    "Pab.set_vel(N, u1 * N.x)"
   ]
  },
  {
   "cell_type": "code",
   "execution_count": 19,
   "metadata": {},
   "outputs": [
    {
     "data": {
      "image/png": "[encoded data removed]",
      "text/latex": [
       "$$u_{1}\\mathbf{\\hat{n}_x} + \\frac{2 l}{3} u_{2}\\mathbf{\\hat{b}_x}$$"
      ],
      "text/plain": [
       "u1*N.x + 2*l*u2/3*B.x"
      ]
     },
     "execution_count": 19,
     "metadata": {},
     "output_type": "execute_result"
    }
   ],
   "source": [
    "Bo.v2pt_theory(Pab, N, B)"
   ]
  },
  {
   "cell_type": "code",
   "execution_count": 20,
   "metadata": {},
   "outputs": [
    {
     "data": {
      "image/png": "[encoded data removed]",
      "text/latex": [
       "$$u_{1}\\mathbf{\\hat{n}_x} + l u_{2}\\mathbf{\\hat{b}_x}$$"
      ],
      "text/plain": [
       "u1*N.x + l*u2*B.x"
      ]
     },
     "execution_count": 20,
     "metadata": {},
     "output_type": "execute_result"
    }
   ],
   "source": [
    "Pbc.v2pt_theory(Pab, N, B)"
   ]
  },
  {
   "cell_type": "code",
   "execution_count": 21,
   "metadata": {},
   "outputs": [
    {
     "data": {
      "image/png": "[encoded data removed]",
      "text/latex": [
       "$$u_{1}\\mathbf{\\hat{n}_x} + l u_{2}\\mathbf{\\hat{b}_x} + l \\left(u_{2} + u_{3}\\right)\\mathbf{\\hat{c}_x}$$"
      ],
      "text/plain": [
       "u1*N.x + l*u2*B.x + l*(u2 + u3)*C.x"
      ]
     },
     "execution_count": 21,
     "metadata": {},
     "output_type": "execute_result"
    }
   ],
   "source": [
    "Pc.v2pt_theory(Pbc, N, C)"
   ]
  },
  {
   "cell_type": "markdown",
   "metadata": {},
   "source": [
    "# Partial Velocities"
   ]
  },
  {
   "cell_type": "code",
   "execution_count": 22,
   "metadata": {},
   "outputs": [
    {
     "data": {
      "image/png": "[encoded data removed]",
      "text/latex": [
       "$$\\mathbf{\\hat{n}_x}$$"
      ],
      "text/plain": [
       "N.x"
      ]
     },
     "execution_count": 22,
     "metadata": {},
     "output_type": "execute_result"
    }
   ],
   "source": [
    "Pab.vel(N).diff(u1, N)"
   ]
  },
  {
   "cell_type": "code",
   "execution_count": 23,
   "metadata": {},
   "outputs": [
    {
     "data": {
      "image/png": "[encoded data removed]",
      "text/latex": [
       "$$\\mathbf{\\hat{n}_x}$$"
      ],
      "text/plain": [
       "N.x"
      ]
     },
     "execution_count": 23,
     "metadata": {},
     "output_type": "execute_result"
    }
   ],
   "source": [
    "Pab.partial_velocity(N, u1)"
   ]
  },
  {
   "cell_type": "code",
   "execution_count": 24,
   "metadata": {},
   "outputs": [
    {
     "data": {
      "image/png": "[encoded data removed]",
      "text/latex": [
       "$$\\left ( \\mathbf{\\hat{n}_x}, \\quad 0, \\quad 0\\right )$$"
      ],
      "text/plain": [
       "(N.x, 0, 0)"
      ]
     },
     "execution_count": 24,
     "metadata": {},
     "output_type": "execute_result"
    }
   ],
   "source": [
    "Pab.partial_velocity(N, u1, u2, u3)"
   ]
  },
  {
   "cell_type": "code",
   "execution_count": 25,
   "metadata": {},
   "outputs": [
    {
     "data": {
      "image/png": "[encoded data removed]",
      "text/latex": [
       "$$\\left ( \\mathbf{\\hat{n}_x}, \\quad \\frac{2 l}{3}\\mathbf{\\hat{b}_x}, \\quad 0\\right )$$"
      ],
      "text/plain": [
       "(N.x, 2*l/3*B.x, 0)"
      ]
     },
     "execution_count": 25,
     "metadata": {},
     "output_type": "execute_result"
    }
   ],
   "source": [
    "Bo.partial_velocity(N, u1, u2, u3)"
   ]
  },
  {
   "cell_type": "code",
   "execution_count": 26,
   "metadata": {},
   "outputs": [
    {
     "data": {
      "image/png": "[encoded data removed]",
      "text/latex": [
       "$$\\left ( \\mathbf{\\hat{n}_x}, \\quad l\\mathbf{\\hat{b}_x} + l\\mathbf{\\hat{c}_x}, \\quad l\\mathbf{\\hat{c}_x}\\right )$$"
      ],
      "text/plain": [
       "(N.x, l*B.x + l*C.x, l*C.x)"
      ]
     },
     "execution_count": 26,
     "metadata": {},
     "output_type": "execute_result"
    }
   ],
   "source": [
    "Pc.partial_velocity(N, u1, u2, u3)"
   ]
  },
  {
   "cell_type": "code",
   "execution_count": 27,
   "metadata": {},
   "outputs": [
    {
     "data": {
      "image/png": "[encoded data removed]",
      "text/latex": [
       "$$\\left ( 0, \\quad \\mathbf{\\hat{n}_z}, \\quad 0\\right )$$"
      ],
      "text/plain": [
       "(0, N.z, 0)"
      ]
     },
     "execution_count": 27,
     "metadata": {},
     "output_type": "execute_result"
    }
   ],
   "source": [
    "B.partial_velocity(N, u1, u2, u3)"
   ]
  },
  {
   "cell_type": "code",
   "execution_count": 28,
   "metadata": {},
   "outputs": [
    {
     "data": {
      "image/png": "[encoded data removed]",
      "text/latex": [
       "$$\\left [ 0, \\quad \\mathbf{\\hat{n}_z}, \\quad 0\\right ]$$"
      ],
      "text/plain": [
       "[0, N.z, 0]"
      ]
     },
     "execution_count": 28,
     "metadata": {},
     "output_type": "execute_result"
    }
   ],
   "source": [
    "[B.ang_vel_in(N).diff(ur, N) for ur in [u1, u2, u3]]"
   ]
  },
  {
   "cell_type": "markdown",
   "metadata": {},
   "source": [
    "# Angular Accelerations"
   ]
  },
  {
   "cell_type": "code",
   "execution_count": 29,
   "metadata": {},
   "outputs": [
    {
     "data": {
      "image/png": "[encoded data removed]",
      "text/latex": [
       "$$\\dot{u}_{2}\\mathbf{\\hat{n}_z}$$"
      ],
      "text/plain": [
       "u2'*N.z"
      ]
     },
     "execution_count": 29,
     "metadata": {},
     "output_type": "execute_result"
    }
   ],
   "source": [
    "alpha_B_N = B.ang_acc_in(N)\n",
    "alpha_B_N"
   ]
  },
  {
   "cell_type": "code",
   "execution_count": 30,
   "metadata": {},
   "outputs": [
    {
     "data": {
      "image/png": "[encoded data removed]",
      "text/latex": [
       "$$\\dot{u}_{1}\\mathbf{\\hat{n}_x}$$"
      ],
      "text/plain": [
       "u1'*N.x"
      ]
     },
     "execution_count": 30,
     "metadata": {},
     "output_type": "execute_result"
    }
   ],
   "source": [
    "a_Pab_N = Pab.acc(N)\n",
    "a_Pab_N"
   ]
  },
  {
   "cell_type": "code",
   "execution_count": 31,
   "metadata": {},
   "outputs": [
    {
     "data": {
      "image/png": "[encoded data removed]",
      "text/latex": [
       "$$\\dot{u}_{1}\\mathbf{\\hat{n}_x} + \\frac{2 l}{3} \\dot{u}_{2}\\mathbf{\\hat{b}_x} + \\frac{2 l}{3} u^{2}_{2}\\mathbf{\\hat{b}_y}$$"
      ],
      "text/plain": [
       "u1'*N.x + 2*l*u2'/3*B.x + 2*l*u2**2/3*B.y"
      ]
     },
     "execution_count": 31,
     "metadata": {},
     "output_type": "execute_result"
    }
   ],
   "source": [
    "a_Bo_N = Bo.acc(N)\n",
    "a_Bo_N"
   ]
  },
  {
   "cell_type": "code",
   "execution_count": 32,
   "metadata": {},
   "outputs": [
    {
     "data": {
      "image/png": "[encoded data removed]",
      "text/latex": [
       "$$\\dot{u}_{1}\\mathbf{\\hat{n}_x} + l \\dot{u}_{2}\\mathbf{\\hat{b}_x} + l u^{2}_{2}\\mathbf{\\hat{b}_y} + l \\left(\\dot{u}_{2} + \\dot{u}_{3}\\right)\\mathbf{\\hat{c}_x} + l \\left(u_{2} + u_{3}\\right)^{2}\\mathbf{\\hat{c}_y}$$"
      ],
      "text/plain": [
       "u1'*N.x + l*u2'*B.x + l*u2**2*B.y + l*(u2' + u3')*C.x + l*(u2 + u3)**2*C.y"
      ]
     },
     "execution_count": 32,
     "metadata": {},
     "output_type": "execute_result"
    }
   ],
   "source": [
    "a_Pc_N = Pc.acc(N)\n",
    "a_Pc_N"
   ]
  },
  {
   "cell_type": "markdown",
   "metadata": {},
   "source": [
    "# Loads (forces and torques)"
   ]
  },
  {
   "cell_type": "code",
   "execution_count": 33,
   "metadata": {},
   "outputs": [],
   "source": [
    "t = sm.symbols('t')\n",
    "t = me.dynamicsymbols._t"
   ]
  },
  {
   "cell_type": "code",
   "execution_count": 34,
   "metadata": {},
   "outputs": [
    {
     "data": {
      "image/png": "[encoded data removed]",
      "text/latex": [
       "$$F$$"
      ],
      "text/plain": [
       "F"
      ]
     },
     "execution_count": 34,
     "metadata": {},
     "output_type": "execute_result"
    }
   ],
   "source": [
    "F"
   ]
  },
  {
   "cell_type": "code",
   "execution_count": 35,
   "metadata": {},
   "outputs": [
    {
     "data": {
      "image/png": "[encoded data removed]",
      "text/latex": [
       "$$(- c u_{1} - k q_{1} + F)\\mathbf{\\hat{n}_x}$$"
      ],
      "text/plain": [
       "(-c*u1 - k*q1 + F)*N.x"
      ]
     },
     "execution_count": 35,
     "metadata": {},
     "output_type": "execute_result"
    }
   ],
   "source": [
    "Rab = (F - k * q1 - c * u1) * N.x\n",
    "Rab"
   ]
  },
  {
   "cell_type": "code",
   "execution_count": 36,
   "metadata": {},
   "outputs": [
    {
     "data": {
      "image/png": "[encoded data removed]",
      "text/latex": [
       "$$-  g m_{b}\\mathbf{\\hat{n}_y}$$"
      ],
      "text/plain": [
       "- g*m_b*N.y"
      ]
     },
     "execution_count": 36,
     "metadata": {},
     "output_type": "execute_result"
    }
   ],
   "source": [
    "Rbo = -(mb * g) * N.y\n",
    "Rbo"
   ]
  },
  {
   "cell_type": "code",
   "execution_count": 37,
   "metadata": {},
   "outputs": [
    {
     "data": {
      "image/png": "[encoded data removed]",
      "text/latex": [
       "$$-  g m_{c}\\mathbf{\\hat{n}_y}$$"
      ],
      "text/plain": [
       "- g*m_c*N.y"
      ]
     },
     "execution_count": 37,
     "metadata": {},
     "output_type": "execute_result"
    }
   ],
   "source": [
    "Rc = -(mc * g) * N.y\n",
    "Rc"
   ]
  },
  {
   "cell_type": "code",
   "execution_count": 38,
   "metadata": {},
   "outputs": [
    {
     "data": {
      "image/png": "[encoded data removed]",
      "text/latex": [
       "$$(k_{T} q_{3} + T)\\mathbf{\\hat{n}_z}$$"
      ],
      "text/plain": [
       "(k_T*q3 + T)*N.z"
      ]
     },
     "execution_count": 38,
     "metadata": {},
     "output_type": "execute_result"
    }
   ],
   "source": [
    "TB = (T + kT * q3) * N.z\n",
    "TB"
   ]
  },
  {
   "cell_type": "markdown",
   "metadata": {},
   "source": [
    "# Mass and Inertia"
   ]
  },
  {
   "cell_type": "code",
   "execution_count": 39,
   "metadata": {},
   "outputs": [
    {
     "data": {
      "image/png": "[encoded data removed]",
      "text/latex": [
       "$$I_{B_bo}\\mathbf{\\hat{b}_z}\\otimes \\mathbf{\\hat{b}_z}$$"
      ],
      "text/plain": [
       "I_{B_bo}*(B.z|B.z)"
      ]
     },
     "execution_count": 39,
     "metadata": {},
     "output_type": "execute_result"
    }
   ],
   "source": [
    "IB = me.inertia(B, 0, 0, IB_bo)\n",
    "IB"
   ]
  },
  {
   "cell_type": "code",
   "execution_count": 40,
   "metadata": {},
   "outputs": [
    {
     "data": {
      "image/png": "[encoded data removed]",
      "text/latex": [
       "$$\\left ( m_{a}, \\quad m_{c}\\right )$$"
      ],
      "text/plain": [
       "(m_a, m_c)"
      ]
     },
     "execution_count": 40,
     "metadata": {},
     "output_type": "execute_result"
    }
   ],
   "source": [
    "ma, mc"
   ]
  },
  {
   "cell_type": "markdown",
   "metadata": {},
   "source": [
    "# Particles and Bodies"
   ]
  },
  {
   "cell_type": "code",
   "execution_count": 41,
   "metadata": {},
   "outputs": [],
   "source": [
    "slider = me.Particle('slider', Pab, ma)\n",
    "bob = me.Particle('bob', Pc, mc)"
   ]
  },
  {
   "cell_type": "code",
   "execution_count": 42,
   "metadata": {},
   "outputs": [],
   "source": [
    "pend = me.RigidBody('pend', Bo, B, mb, (IB, Bo))"
   ]
  },
  {
   "cell_type": "code",
   "execution_count": 43,
   "metadata": {},
   "outputs": [],
   "source": [
    "bodies = [slider, bob, pend]"
   ]
  },
  {
   "cell_type": "markdown",
   "metadata": {},
   "source": [
    "# Loads (forces and torques)"
   ]
  },
  {
   "cell_type": "code",
   "execution_count": 44,
   "metadata": {},
   "outputs": [],
   "source": [
    "loads = [(Pab, Rab),\n",
    "         (Pc, Rc),\n",
    "         (Bo, Rbo),\n",
    "         (B, TB)]"
   ]
  },
  {
   "cell_type": "code",
   "execution_count": 45,
   "metadata": {},
   "outputs": [],
   "source": [
    "q = sm.Matrix([q1, q2, q3])\n",
    "u = sm.Matrix([u1, u2, u3])"
   ]
  },
  {
   "cell_type": "code",
   "execution_count": 46,
   "metadata": {},
   "outputs": [],
   "source": [
    "kane = me.KanesMethod(N, q, u, kd_eqs=kdes)"
   ]
  },
  {
   "cell_type": "code",
   "execution_count": 47,
   "metadata": {},
   "outputs": [],
   "source": [
    "Fr, Frstar = kane.kanes_equations(bodies, loads)"
   ]
  },
  {
   "cell_type": "code",
   "execution_count": 48,
   "metadata": {},
   "outputs": [
    {
     "data": {
      "image/png": "[encoded data removed]",
      "text/latex": [
       "$$\\left[\\begin{matrix}- c u_{1} - k q_{1} + F\\\\- \\frac{2 g}{3} l m_{b} \\operatorname{sin}\\left(q_{2}\\right) - g l m_{c} \\left(\\operatorname{sin}\\left(q_{2}\\right) \\operatorname{cos}\\left(q_{3}\\right) + \\operatorname{sin}\\left(q_{3}\\right) \\operatorname{cos}\\left(q_{2}\\right)\\right) - g l m_{c} \\operatorname{sin}\\left(q_{2}\\right) + k_{T} q_{3} + T\\\\- g l m_{c} \\left(\\operatorname{sin}\\left(q_{2}\\right) \\operatorname{cos}\\left(q_{3}\\right) + \\operatorname{sin}\\left(q_{3}\\right) \\operatorname{cos}\\left(q_{2}\\right)\\right)\\end{matrix}\\right]$$"
      ],
      "text/plain": [
       "Matrix([\n",
       "[                                                                                 -c*u1 - k*q1 + F],\n",
       "[-2*g*l*m_b*sin(q2)/3 - g*l*m_c*(sin(q2)*cos(q3) + sin(q3)*cos(q2)) - g*l*m_c*sin(q2) + k_T*q3 + T],\n",
       "[                                                     -g*l*m_c*(sin(q2)*cos(q3) + sin(q3)*cos(q2))]])"
      ]
     },
     "execution_count": 48,
     "metadata": {},
     "output_type": "execute_result"
    }
   ],
   "source": [
    "Fr"
   ]
  },
  {
   "cell_type": "code",
   "execution_count": 49,
   "metadata": {},
   "outputs": [
    {
     "data": {
      "image/png": "[encoded data removed]",
      "text/latex": [
       "$$\\left[\\begin{matrix}\\frac{2 l}{3} m_{b} u^{2}_{2} \\operatorname{sin}\\left(q_{2}\\right) - l m_{c} \\left(- \\operatorname{sin}\\left(q_{2}\\right) \\operatorname{sin}\\left(q_{3}\\right) + \\operatorname{cos}\\left(q_{2}\\right) \\operatorname{cos}\\left(q_{3}\\right)\\right) \\dot{u}_{3} - l m_{c} \\left(- \\operatorname{sin}\\left(q_{2}\\right) \\operatorname{cos}\\left(q_{3}\\right) - \\operatorname{sin}\\left(q_{3}\\right) \\operatorname{cos}\\left(q_{2}\\right)\\right) \\left(u_{2} + u_{3}\\right)^{2} + l m_{c} u^{2}_{2} \\operatorname{sin}\\left(q_{2}\\right) - \\left(\\frac{2 l}{3} m_{b} \\operatorname{cos}\\left(q_{2}\\right) + m_{c} \\left(l \\left(- \\operatorname{sin}\\left(q_{2}\\right) \\operatorname{sin}\\left(q_{3}\\right) + \\operatorname{cos}\\left(q_{2}\\right) \\operatorname{cos}\\left(q_{3}\\right)\\right) + l \\operatorname{cos}\\left(q_{2}\\right)\\right)\\right) \\dot{u}_{2} - \\left(m_{a} + m_{b} + m_{c}\\right) \\dot{u}_{1}\\\\l^{2} m_{c} \\left(u_{2} + u_{3}\\right)^{2} \\operatorname{sin}\\left(q_{3}\\right) - l^{2} m_{c} u^{2}_{2} \\operatorname{sin}\\left(q_{3}\\right) - m_{c} \\left(l^{2} \\operatorname{cos}\\left(q_{3}\\right) + l^{2}\\right) \\dot{u}_{3} - \\left(\\frac{2 l}{3} m_{b} \\operatorname{cos}\\left(q_{2}\\right) + m_{c} \\left(l \\left(- \\operatorname{sin}\\left(q_{2}\\right) \\operatorname{sin}\\left(q_{3}\\right) + \\operatorname{cos}\\left(q_{2}\\right) \\operatorname{cos}\\left(q_{3}\\right)\\right) + l \\operatorname{cos}\\left(q_{2}\\right)\\right)\\right) \\dot{u}_{1} - \\left(I_{B_bo} + \\frac{4 m_{b}}{9} l^{2} + m_{c} \\left(2 l^{2} \\operatorname{cos}\\left(q_{3}\\right) + 2 l^{2}\\right)\\right) \\dot{u}_{2}\\\\- l^{2} m_{c} u^{2}_{2} \\operatorname{sin}\\left(q_{3}\\right) - l^{2} m_{c} \\dot{u}_{3} - l m_{c} \\left(- \\operatorname{sin}\\left(q_{2}\\right) \\operatorname{sin}\\left(q_{3}\\right) + \\operatorname{cos}\\left(q_{2}\\right) \\operatorname{cos}\\left(q_{3}\\right)\\right) \\dot{u}_{1} - m_{c} \\left(l^{2} \\operatorname{cos}\\left(q_{3}\\right) + l^{2}\\right) \\dot{u}_{2}\\end{matrix}\\right]$$"
      ],
      "text/plain": [
       "Matrix([\n",
       "[2*l*m_b*u2**2*sin(q2)/3 - l*m_c*(-sin(q2)*sin(q3) + cos(q2)*cos(q3))*u3' - l*m_c*(-sin(q2)*cos(q3) - sin(q3)*cos(q2))*(u2 + u3)**2 + l*m_c*u2**2*sin(q2) - (2*l*m_b*cos(q2)/3 + m_c*(l*(-sin(q2)*sin(q3) + cos(q2)*cos(q3)) + l*cos(q2)))*u2' - (m_a + m_b + m_c)*u1'],\n",
       "[                          l**2*m_c*(u2 + u3)**2*sin(q3) - l**2*m_c*u2**2*sin(q3) - m_c*(l**2*cos(q3) + l**2)*u3' - (2*l*m_b*cos(q2)/3 + m_c*(l*(-sin(q2)*sin(q3) + cos(q2)*cos(q3)) + l*cos(q2)))*u1' - (I_{B_bo} + 4*l**2*m_b/9 + m_c*(2*l**2*cos(q3) + 2*l**2))*u2'],\n",
       "[                                                                                                                                              -l**2*m_c*u2**2*sin(q3) - l**2*m_c*u3' - l*m_c*(-sin(q2)*sin(q3) + cos(q2)*cos(q3))*u1' - m_c*(l**2*cos(q3) + l**2)*u2']])"
      ]
     },
     "execution_count": 49,
     "metadata": {},
     "output_type": "execute_result"
    }
   ],
   "source": [
    "Frstar"
   ]
  },
  {
   "cell_type": "markdown",
   "metadata": {},
   "source": [
    "# Simulation"
   ]
  },
  {
   "cell_type": "code",
   "execution_count": 50,
   "metadata": {},
   "outputs": [],
   "source": [
    "import numpy as np\n",
    "from pydy.system import System"
   ]
  },
  {
   "cell_type": "markdown",
   "metadata": {},
   "source": [
    "Simulate for 5 seconds and return the values of the states every 5 ms. Use a 1D numpy array to specify this."
   ]
  },
  {
   "cell_type": "code",
   "execution_count": 51,
   "metadata": {},
   "outputs": [],
   "source": [
    "times = np.linspace(0.0, 10.0, num=1001)"
   ]
  },
  {
   "cell_type": "code",
   "execution_count": 52,
   "metadata": {},
   "outputs": [
    {
     "data": {
      "text/plain": [
       "array([  0.  ,   0.01,   0.02, ...,   9.98,   9.99,  10.  ])"
      ]
     },
     "execution_count": 52,
     "metadata": {},
     "output_type": "execute_result"
    }
   ],
   "source": [
    "times"
   ]
  },
  {
   "cell_type": "code",
   "execution_count": 53,
   "metadata": {},
   "outputs": [
    {
     "data": {
      "image/png": "[encoded data removed]",
      "text/latex": [
       "$$\\left ( 1001\\right )$$"
      ],
      "text/plain": [
       "(1001,)"
      ]
     },
     "execution_count": 53,
     "metadata": {},
     "output_type": "execute_result"
    }
   ],
   "source": [
    "times.shape"
   ]
  },
  {
   "cell_type": "code",
   "execution_count": 54,
   "metadata": {},
   "outputs": [],
   "source": [
    "#System?"
   ]
  },
  {
   "cell_type": "markdown",
   "metadata": {},
   "source": [
    "Create dictionaries that map numeric values to each symbol in the equations of motion. Make sure your units are consistent!"
   ]
  },
  {
   "cell_type": "code",
   "execution_count": 55,
   "metadata": {},
   "outputs": [],
   "source": [
    "constants = {l: 1.0,  # meter\n",
    "             g: 9.81, # meter per second squared\n",
    "             k: 10.0,  # Newton per meter\n",
    "             c: 2 * np.sqrt(10.0 * 0.5),  # kilogram second\n",
    "             kT: 10.0,  # Newton meter per radian\n",
    "             ma: 0.5,  # kilogram\n",
    "             mb: 0.5,  # kilogram\n",
    "             IB_bo: 0.5 * 0.5**2,  # kg m**2\n",
    "             mc:  0.5}  # meter"
   ]
  },
  {
   "cell_type": "markdown",
   "metadata": {},
   "source": [
    "# Setting the specified functions of time"
   ]
  },
  {
   "cell_type": "code",
   "execution_count": 56,
   "metadata": {},
   "outputs": [],
   "source": [
    "# this sets both specified inputs to zero for all time\n",
    "specifieds = {F: 0.0,\n",
    "              T: 0.0}\n",
    "\n",
    "# this sets both specified input to zero for all time\n",
    "specifieds = {(F, T): np.array([0.0, 0.0])}\n",
    "\n",
    "# this sets F to sinusoidal forcing with amplitude of 1 N and frequency of 2 * pi rad/s\n",
    "# and T to zero for all time\n",
    "def sin_f(x, t):\n",
    "    \"\"\"Returns the force F given the state vector x and time value t.\n",
    "    \n",
    "    Parameters\n",
    "    ==========\n",
    "    x : ndarray, shape(n,)\n",
    "        The states in the order specified in System.states.\n",
    "    t : float\n",
    "        The value of time.\n",
    "        \n",
    "    Returns\n",
    "    =======\n",
    "    float\n",
    "        The value of the force at time t.\n",
    "    \n",
    "    \"\"\"\n",
    "    return 1.0 * np.sin(2 * np.pi * t)\n",
    "\n",
    "\n",
    "specifieds = {F: sin_f,\n",
    "              T: 1.0}\n",
    "\n",
    "# this sets both F and T to sinusoidal forcing\n",
    "def sin_f_t(x, t):\n",
    "    return  np.array([0.5 * np.sin(2.0 * np.pi * t),\n",
    "                      2.0 * np.cos(2.0 * np.pi * t)])\n",
    "\n",
    "\n",
    "specifieds = {(F, T): sin_f_t}"
   ]
  },
  {
   "cell_type": "code",
   "execution_count": 57,
   "metadata": {},
   "outputs": [],
   "source": [
    "init_cond = {q1: 0.0,\n",
    "             q2: 0.0,\n",
    "             q3: 0.0,\n",
    "             u1: 0.0,\n",
    "             u2: 0.0,\n",
    "             u3: 0.0}\n",
    "\n",
    "\n",
    "sys = System(kane,\n",
    "             constants=constants,\n",
    "             specifieds=specifieds,\n",
    "             initial_conditions=init_cond,\n",
    "             times=times\n",
    "            )"
   ]
  },
  {
   "cell_type": "code",
   "execution_count": 58,
   "metadata": {},
   "outputs": [
    {
     "data": {
      "image/png": "[encoded data removed]",
      "text/latex": [
       "$$\\left \\{ I_{B_bo} : 0.125, \\quad c : 4.472135955, \\quad g : 9.81, \\quad k : 10.0, \\quad k_{T} : 10.0, \\quad l : 1.0, \\quad m_{a} : 0.5, \\quad m_{b} : 0.5, \\quad m_{c} : 0.5\\right \\}$$"
      ],
      "text/plain": [
       "{I_{B_bo}: 0.125, c: 4.472135955, g: 9.81, k: 10.0, k_T: 10.0, l: 1.0, m_a: 0.5, m_b: 0.5, m_c: 0.5}"
      ]
     },
     "execution_count": 58,
     "metadata": {},
     "output_type": "execute_result"
    }
   ],
   "source": [
    "sys.constants"
   ]
  },
  {
   "cell_type": "markdown",
   "metadata": {},
   "source": [
    "Simulate the system by integrating the equations of motion. `sys.integrate()` returns a 2D NumPy array of the state trajectories."
   ]
  },
  {
   "cell_type": "code",
   "execution_count": 59,
   "metadata": {},
   "outputs": [],
   "source": [
    "traj = sys.integrate()"
   ]
  },
  {
   "cell_type": "code",
   "execution_count": 60,
   "metadata": {},
   "outputs": [
    {
     "data": {
      "text/plain": [
       "numpy.ndarray"
      ]
     },
     "execution_count": 60,
     "metadata": {},
     "output_type": "execute_result"
    }
   ],
   "source": [
    "type(traj)"
   ]
  },
  {
   "cell_type": "code",
   "execution_count": 61,
   "metadata": {},
   "outputs": [
    {
     "data": {
      "image/png": "[encoded data removed]",
      "text/latex": [
       "$$\\left ( 1001, \\quad 6\\right )$$"
      ],
      "text/plain": [
       "(1001, 6)"
      ]
     },
     "execution_count": 61,
     "metadata": {},
     "output_type": "execute_result"
    }
   ],
   "source": [
    "traj.shape"
   ]
  },
  {
   "cell_type": "markdown",
   "metadata": {},
   "source": [
    "# Plot the state trajectories"
   ]
  },
  {
   "cell_type": "code",
   "execution_count": 62,
   "metadata": {},
   "outputs": [],
   "source": [
    "import matplotlib.pyplot as plt"
   ]
  },
  {
   "cell_type": "markdown",
   "metadata": {},
   "source": [
    "The following line enables interactive notebook plotting."
   ]
  },
  {
   "cell_type": "code",
   "execution_count": 63,
   "metadata": {},
   "outputs": [],
   "source": [
    "%matplotlib notebook"
   ]
  },
  {
   "cell_type": "code",
   "execution_count": 64,
   "metadata": {},
   "outputs": [
    {
     "data": {
      "application/javascript": [
       "/* Put everything inside the global mpl namespace */\n",
       "window.mpl = {};\n",
       "\n",
       "\n",
       "mpl.get_websocket_type = function() {\n",
       "    if (typeof(WebSocket) !== 'undefined') {\n",
       "        return WebSocket;\n",
       "    } else if (typeof(MozWebSocket) !== 'undefined') {\n",
       "        return MozWebSocket;\n",
       "    } else {\n",
       "        alert('Your browser does not have WebSocket support.' +\n",
       "              'Please try Chrome, Safari or Firefox ≥ 6. ' +\n",
       "              'Firefox 4 and 5 are also supported but you ' +\n",
       "              'have to enable WebSockets in about:config.');\n",
       "    };\n",
       "}\n",
       "\n",
       "mpl.figure = function(figure_id, websocket, ondownload, parent_element) {\n",
       "    this.id = figure_id;\n",
       "\n",
       "    this.ws = websocket;\n",
       "\n",
       "    this.supports_binary = (this.ws.binaryType != undefined);\n",
       "\n",
       "    if (!this.supports_binary) {\n",
       "        var warnings = document.getElementById(\"mpl-warnings\");\n",
       "        if (warnings) {\n",
       "            warnings.style.display = 'block';\n",
       "            warnings.textContent = (\n",
       "                \"This browser does not support binary websocket messages. \" +\n",
       "                    \"Performance may be slow.\");\n",
       "        }\n",
       "    }\n",
       "\n",
       "    this.imageObj = new Image();\n",
       "\n",
       "    this.context = undefined;\n",
       "    this.message = undefined;\n",
       "    this.canvas = undefined;\n",
       "    this.rubberband_canvas = undefined;\n",
       "    this.rubberband_context = undefined;\n",
       "    this.format_dropdown = undefined;\n",
       "\n",
       "    this.image_mode = 'full';\n",
       "\n",
       "    this.root = $('<div/>');\n",
       "    this._root_extra_style(this.root)\n",
       "    this.root.attr('style', 'display: inline-block');\n",
       "\n",
       "    $(parent_element).append(this.root);\n",
       "\n",
       "    this._init_header(this);\n",
       "    this._init_canvas(this);\n",
       "    this._init_toolbar(this);\n",
       "\n",
       "    var fig = this;\n",
       "\n",
       "    this.waiting = false;\n",
       "\n",
       "    this.ws.onopen =  function () {\n",
       "            fig.send_message(\"supports_binary\", {value: fig.supports_binary});\n",
       "            fig.send_message(\"send_image_mode\", {});\n",
       "            if (mpl.ratio != 1) {\n",
       "                fig.send_message(\"set_dpi_ratio\", {'dpi_ratio': mpl.ratio});\n",
       "            }\n",
       "            fig.send_message(\"refresh\", {});\n",
       "        }\n",
       "\n",
       "    this.imageObj.onload = function() {\n",
       "            if (fig.image_mode == 'full') {\n",
       "                // Full images could contain transparency (where diff images\n",
       "                // almost always do), so we need to clear the canvas so that\n",
       "                // there is no ghosting.\n",
       "                fig.context.clearRect(0, 0, fig.canvas.width, fig.canvas.height);\n",
       "            }\n",
       "            fig.context.drawImage(fig.imageObj, 0, 0);\n",
       "        };\n",
       "\n",
       "    this.imageObj.onunload = function() {\n",
       "        fig.ws.close();\n",
       "    }\n",
       "\n",
       "    this.ws.onmessage = this._make_on_message_function(this);\n",
       "\n",
       "    this.ondownload = ondownload;\n",
       "}\n",
       "\n",
       "mpl.figure.prototype._init_header = function() {\n",
       "    var titlebar = $(\n",
       "        '<div class=\"ui-dialog-titlebar ui-widget-header ui-corner-all ' +\n",
       "        'ui-helper-clearfix\"/>');\n",
       "    var titletext = $(\n",
       "        '<div class=\"ui-dialog-title\" style=\"width: 100%; ' +\n",
       "        'text-align: center; padding: 3px;\"/>');\n",
       "    titlebar.append(titletext)\n",
       "    this.root.append(titlebar);\n",
       "    this.header = titletext[0];\n",
       "}\n",
       "\n",
       "\n",
       "\n",
       "mpl.figure.prototype._canvas_extra_style = function(canvas_div) {\n",
       "\n",
       "}\n",
       "\n",
       "\n",
       "mpl.figure.prototype._root_extra_style = function(canvas_div) {\n",
       "\n",
       "}\n",
       "\n",
       "mpl.figure.prototype._init_canvas = function() {\n",
       "    var fig = this;\n",
       "\n",
       "    var canvas_div = $('<div/>');\n",
       "\n",
       "    canvas_div.attr('style', 'position: relative; clear: both; outline: 0');\n",
       "\n",
       "    function canvas_keyboard_event(event) {\n",
       "        return fig.key_event(event, event['data']);\n",
       "    }\n",
       "\n",
       "    canvas_div.keydown('key_press', canvas_keyboard_event);\n",
       "    canvas_div.keyup('key_release', canvas_keyboard_event);\n",
       "    this.canvas_div = canvas_div\n",
       "    this._canvas_extra_style(canvas_div)\n",
       "    this.root.append(canvas_div);\n",
       "\n",
       "    var canvas = $('<canvas/>');\n",
       "    canvas.addClass('mpl-canvas');\n",
       "    canvas.attr('style', \"left: 0; top: 0; z-index: 0; outline: 0\")\n",
       "\n",
       "    this.canvas = canvas[0];\n",
       "    this.context = canvas[0].getContext(\"2d\");\n",
       "\n",
       "    var backingStore = this.context.backingStorePixelRatio ||\n",
       "\tthis.context.webkitBackingStorePixelRatio ||\n",
       "\tthis.context.mozBackingStorePixelRatio ||\n",
       "\tthis.context.msBackingStorePixelRatio ||\n",
       "\tthis.context.oBackingStorePixelRatio ||\n",
       "\tthis.context.backingStorePixelRatio || 1;\n",
       "\n",
       "    mpl.ratio = (window.devicePixelRatio || 1) / backingStore;\n",
       "\n",
       "    var rubberband = $('<canvas/>');\n",
       "    rubberband.attr('style', \"position: absolute; left: 0; top: 0; z-index: 1;\")\n",
       "\n",
       "    var pass_mouse_events = true;\n",
       "\n",
       "    canvas_div.resizable({\n",
       "        start: function(event, ui) {\n",
       "            pass_mouse_events = false;\n",
       "        },\n",
       "        resize: function(event, ui) {\n",
       "            fig.request_resize(ui.size.width, ui.size.height);\n",
       "        },\n",
       "        stop: function(event, ui) {\n",
       "            pass_mouse_events = true;\n",
       "            fig.request_resize(ui.size.width, ui.size.height);\n",
       "        },\n",
       "    });\n",
       "\n",
       "    function mouse_event_fn(event) {\n",
       "        if (pass_mouse_events)\n",
       "            return fig.mouse_event(event, event['data']);\n",
       "    }\n",
       "\n",
       "    rubberband.mousedown('button_press', mouse_event_fn);\n",
       "    rubberband.mouseup('button_release', mouse_event_fn);\n",
       "    // Throttle sequential mouse events to 1 every 20ms.\n",
       "    rubberband.mousemove('motion_notify', mouse_event_fn);\n",
       "\n",
       "    rubberband.mouseenter('figure_enter', mouse_event_fn);\n",
       "    rubberband.mouseleave('figure_leave', mouse_event_fn);\n",
       "\n",
       "    canvas_div.on(\"wheel\", function (event) {\n",
       "        event = event.originalEvent;\n",
       "        event['data'] = 'scroll'\n",
       "        if (event.deltaY < 0) {\n",
       "            event.step = 1;\n",
       "        } else {\n",
       "            event.step = -1;\n",
       "        }\n",
       "        mouse_event_fn(event);\n",
       "    });\n",
       "\n",
       "    canvas_div.append(canvas);\n",
       "    canvas_div.append(rubberband);\n",
       "\n",
       "    this.rubberband = rubberband;\n",
       "    this.rubberband_canvas = rubberband[0];\n",
       "    this.rubberband_context = rubberband[0].getContext(\"2d\");\n",
       "    this.rubberband_context.strokeStyle = \"#000000\";\n",
       "\n",
       "    this._resize_canvas = function(width, height) {\n",
       "        // Keep the size of the canvas, canvas container, and rubber band\n",
       "        // canvas in synch.\n",
       "        canvas_div.css('width', width)\n",
       "        canvas_div.css('height', height)\n",
       "\n",
       "        canvas.attr('width', width * mpl.ratio);\n",
       "        canvas.attr('height', height * mpl.ratio);\n",
       "        canvas.attr('style', 'width: ' + width + 'px; height: ' + height + 'px;');\n",
       "\n",
       "        rubberband.attr('width', width);\n",
       "        rubberband.attr('height', height);\n",
       "    }\n",
       "\n",
       "    // Set the figure to an initial 600x600px, this will subsequently be updated\n",
       "    // upon first draw.\n",
       "    this._resize_canvas(600, 600);\n",
       "\n",
       "    // Disable right mouse context menu.\n",
       "    $(this.rubberband_canvas).bind(\"contextmenu\",function(e){\n",
       "        return false;\n",
       "    });\n",
       "\n",
       "    function set_focus () {\n",
       "        canvas.focus();\n",
       "        canvas_div.focus();\n",
       "    }\n",
       "\n",
       "    window.setTimeout(set_focus, 100);\n",
       "}\n",
       "\n",
       "mpl.figure.prototype._init_toolbar = function() {\n",
       "    var fig = this;\n",
       "\n",
       "    var nav_element = $('<div/>')\n",
       "    nav_element.attr('style', 'width: 100%');\n",
       "    this.root.append(nav_element);\n",
       "\n",
       "    // Define a callback function for later on.\n",
       "    function toolbar_event(event) {\n",
       "        return fig.toolbar_button_onclick(event['data']);\n",
       "    }\n",
       "    function toolbar_mouse_event(event) {\n",
       "        return fig.toolbar_button_onmouseover(event['data']);\n",
       "    }\n",
       "\n",
       "    for(var toolbar_ind in mpl.toolbar_items) {\n",
       "        var name = mpl.toolbar_items[toolbar_ind][0];\n",
       "        var tooltip = mpl.toolbar_items[toolbar_ind][1];\n",
       "        var image = mpl.toolbar_items[toolbar_ind][2];\n",
       "        var method_name = mpl.toolbar_items[toolbar_ind][3];\n",
       "\n",
       "        if (!name) {\n",
       "            // put a spacer in here.\n",
       "            continue;\n",
       "        }\n",
       "        var button = $('<button/>');\n",
       "        button.addClass('ui-button ui-widget ui-state-default ui-corner-all ' +\n",
       "                        'ui-button-icon-only');\n",
       "        button.attr('role', 'button');\n",
       "        button.attr('aria-disabled', 'false');\n",
       "        button.click(method_name, toolbar_event);\n",
       "        button.mouseover(tooltip, toolbar_mouse_event);\n",
       "\n",
       "        var icon_img = $('<span/>');\n",
       "        icon_img.addClass('ui-button-icon-primary ui-icon');\n",
       "        icon_img.addClass(image);\n",
       "        icon_img.addClass('ui-corner-all');\n",
       "\n",
       "        var tooltip_span = $('<span/>');\n",
       "        tooltip_span.addClass('ui-button-text');\n",
       "        tooltip_span.html(tooltip);\n",
       "\n",
       "        button.append(icon_img);\n",
       "        button.append(tooltip_span);\n",
       "\n",
       "        nav_element.append(button);\n",
       "    }\n",
       "\n",
       "    var fmt_picker_span = $('<span/>');\n",
       "\n",
       "    var fmt_picker = $('<select/>');\n",
       "    fmt_picker.addClass('mpl-toolbar-option ui-widget ui-widget-content');\n",
       "    fmt_picker_span.append(fmt_picker);\n",
       "    nav_element.append(fmt_picker_span);\n",
       "    this.format_dropdown = fmt_picker[0];\n",
       "\n",
       "    for (var ind in mpl.extensions) {\n",
       "        var fmt = mpl.extensions[ind];\n",
       "        var option = $(\n",
       "            '<option/>', {selected: fmt === mpl.default_extension}).html(fmt);\n",
       "        fmt_picker.append(option)\n",
       "    }\n",
       "\n",
       "    // Add hover states to the ui-buttons\n",
       "    $( \".ui-button\" ).hover(\n",
       "        function() { $(this).addClass(\"ui-state-hover\");},\n",
       "        function() { $(this).removeClass(\"ui-state-hover\");}\n",
       "    );\n",
       "\n",
       "    var status_bar = $('<span class=\"mpl-message\"/>');\n",
       "    nav_element.append(status_bar);\n",
       "    this.message = status_bar[0];\n",
       "}\n",
       "\n",
       "mpl.figure.prototype.request_resize = function(x_pixels, y_pixels) {\n",
       "    // Request matplotlib to resize the figure. Matplotlib will then trigger a resize in the client,\n",
       "    // which will in turn request a refresh of the image.\n",
       "    this.send_message('resize', {'width': x_pixels, 'height': y_pixels});\n",
       "}\n",
       "\n",
       "mpl.figure.prototype.send_message = function(type, properties) {\n",
       "    properties['type'] = type;\n",
       "    properties['figure_id'] = this.id;\n",
       "    this.ws.send(JSON.stringify(properties));\n",
       "}\n",
       "\n",
       "mpl.figure.prototype.send_draw_message = function() {\n",
       "    if (!this.waiting) {\n",
       "        this.waiting = true;\n",
       "        this.ws.send(JSON.stringify({type: \"draw\", figure_id: this.id}));\n",
       "    }\n",
       "}\n",
       "\n",
       "\n",
       "mpl.figure.prototype.handle_save = function(fig, msg) {\n",
       "    var format_dropdown = fig.format_dropdown;\n",
       "    var format = format_dropdown.options[format_dropdown.selectedIndex].value;\n",
       "    fig.ondownload(fig, format);\n",
       "}\n",
       "\n",
       "\n",
       "mpl.figure.prototype.handle_resize = function(fig, msg) {\n",
       "    var size = msg['size'];\n",
       "    if (size[0] != fig.canvas.width || size[1] != fig.canvas.height) {\n",
       "        fig._resize_canvas(size[0], size[1]);\n",
       "        fig.send_message(\"refresh\", {});\n",
       "    };\n",
       "}\n",
       "\n",
       "mpl.figure.prototype.handle_rubberband = function(fig, msg) {\n",
       "    var x0 = msg['x0'] / mpl.ratio;\n",
       "    var y0 = (fig.canvas.height - msg['y0']) / mpl.ratio;\n",
       "    var x1 = msg['x1'] / mpl.ratio;\n",
       "    var y1 = (fig.canvas.height - msg['y1']) / mpl.ratio;\n",
       "    x0 = Math.floor(x0) + 0.5;\n",
       "    y0 = Math.floor(y0) + 0.5;\n",
       "    x1 = Math.floor(x1) + 0.5;\n",
       "    y1 = Math.floor(y1) + 0.5;\n",
       "    var min_x = Math.min(x0, x1);\n",
       "    var min_y = Math.min(y0, y1);\n",
       "    var width = Math.abs(x1 - x0);\n",
       "    var height = Math.abs(y1 - y0);\n",
       "\n",
       "    fig.rubberband_context.clearRect(\n",
       "        0, 0, fig.canvas.width, fig.canvas.height);\n",
       "\n",
       "    fig.rubberband_context.strokeRect(min_x, min_y, width, height);\n",
       "}\n",
       "\n",
       "mpl.figure.prototype.handle_figure_label = function(fig, msg) {\n",
       "    // Updates the figure title.\n",
       "    fig.header.textContent = msg['label'];\n",
       "}\n",
       "\n",
       "mpl.figure.prototype.handle_cursor = function(fig, msg) {\n",
       "    var cursor = msg['cursor'];\n",
       "    switch(cursor)\n",
       "    {\n",
       "    case 0:\n",
       "        cursor = 'pointer';\n",
       "        break;\n",
       "    case 1:\n",
       "        cursor = 'default';\n",
       "        break;\n",
       "    case 2:\n",
       "        cursor = 'crosshair';\n",
       "        break;\n",
       "    case 3:\n",
       "        cursor = 'move';\n",
       "        break;\n",
       "    }\n",
       "    fig.rubberband_canvas.style.cursor = cursor;\n",
       "}\n",
       "\n",
       "mpl.figure.prototype.handle_message = function(fig, msg) {\n",
       "    fig.message.textContent = msg['message'];\n",
       "}\n",
       "\n",
       "mpl.figure.prototype.handle_draw = function(fig, msg) {\n",
       "    // Request the server to send over a new figure.\n",
       "    fig.send_draw_message();\n",
       "}\n",
       "\n",
       "mpl.figure.prototype.handle_image_mode = function(fig, msg) {\n",
       "    fig.image_mode = msg['mode'];\n",
       "}\n",
       "\n",
       "mpl.figure.prototype.updated_canvas_event = function() {\n",
       "    // Called whenever the canvas gets updated.\n",
       "    this.send_message(\"ack\", {});\n",
       "}\n",
       "\n",
       "// A function to construct a web socket function for onmessage handling.\n",
       "// Called in the figure constructor.\n",
       "mpl.figure.prototype._make_on_message_function = function(fig) {\n",
       "    return function socket_on_message(evt) {\n",
       "        if (evt.data instanceof Blob) {\n",
       "            /* FIXME: We get \"Resource interpreted as Image but\n",
       "             * transferred with MIME type text/plain:\" errors on\n",
       "             * Chrome.  But how to set the MIME type?  It doesn't seem\n",
       "             * to be part of the websocket stream */\n",
       "            evt.data.type = \"image/png\";\n",
       "\n",
       "            /* Free the memory for the previous frames */\n",
       "            if (fig.imageObj.src) {\n",
       "                (window.URL || window.webkitURL).revokeObjectURL(\n",
       "                    fig.imageObj.src);\n",
       "            }\n",
       "\n",
       "            fig.imageObj.src = (window.URL || window.webkitURL).createObjectURL(\n",
       "                evt.data);\n",
       "            fig.updated_canvas_event();\n",
       "            fig.waiting = false;\n",
       "            return;\n",
       "        }\n",
       "        else if (typeof evt.data === 'string' && evt.data.slice(0, 21) == \"data:image/png;base64\") {\n",
       "            fig.imageObj.src = evt.data;\n",
       "            fig.updated_canvas_event();\n",
       "            fig.waiting = false;\n",
       "            return;\n",
       "        }\n",
       "\n",
       "        var msg = JSON.parse(evt.data);\n",
       "        var msg_type = msg['type'];\n",
       "\n",
       "        // Call the  \"handle_{type}\" callback, which takes\n",
       "        // the figure and JSON message as its only arguments.\n",
       "        try {\n",
       "            var callback = fig[\"handle_\" + msg_type];\n",
       "        } catch (e) {\n",
       "            console.log(\"No handler for the '\" + msg_type + \"' message type: \", msg);\n",
       "            return;\n",
       "        }\n",
       "\n",
       "        if (callback) {\n",
       "            try {\n",
       "                // console.log(\"Handling '\" + msg_type + \"' message: \", msg);\n",
       "                callback(fig, msg);\n",
       "            } catch (e) {\n",
       "                console.log(\"Exception inside the 'handler_\" + msg_type + \"' callback:\", e, e.stack, msg);\n",
       "            }\n",
       "        }\n",
       "    };\n",
       "}\n",
       "\n",
       "// from http://stackoverflow.com/questions/1114465/getting-mouse-location-in-canvas\n",
       "mpl.findpos = function(e) {\n",
       "    //this section is from http://www.quirksmode.org/js/events_properties.html\n",
       "    var targ;\n",
       "    if (!e)\n",
       "        e = window.event;\n",
       "    if (e.target)\n",
       "        targ = e.target;\n",
       "    else if (e.srcElement)\n",
       "        targ = e.srcElement;\n",
       "    if (targ.nodeType == 3) // defeat Safari bug\n",
       "        targ = targ.parentNode;\n",
       "\n",
       "    // jQuery normalizes the pageX and pageY\n",
       "    // pageX,Y are the mouse positions relative to the document\n",
       "    // offset() returns the position of the element relative to the document\n",
       "    var x = e.pageX - $(targ).offset().left;\n",
       "    var y = e.pageY - $(targ).offset().top;\n",
       "\n",
       "    return {\"x\": x, \"y\": y};\n",
       "};\n",
       "\n",
       "/*\n",
       " * return a copy of an object with only non-object keys\n",
       " * we need this to avoid circular references\n",
       " * http://stackoverflow.com/a/24161582/3208463\n",
       " */\n",
       "function simpleKeys (original) {\n",
       "  return Object.keys(original).reduce(function (obj, key) {\n",
       "    if (typeof original[key] !== 'object')\n",
       "        obj[key] = original[key]\n",
       "    return obj;\n",
       "  }, {});\n",
       "}\n",
       "\n",
       "mpl.figure.prototype.mouse_event = function(event, name) {\n",
       "    var canvas_pos = mpl.findpos(event)\n",
       "\n",
       "    if (name === 'button_press')\n",
       "    {\n",
       "        this.canvas.focus();\n",
       "        this.canvas_div.focus();\n",
       "    }\n",
       "\n",
       "    var x = canvas_pos.x * mpl.ratio;\n",
       "    var y = canvas_pos.y * mpl.ratio;\n",
       "\n",
       "    this.send_message(name, {x: x, y: y, button: event.button,\n",
       "                             step: event.step,\n",
       "                             guiEvent: simpleKeys(event)});\n",
       "\n",
       "    /* This prevents the web browser from automatically changing to\n",
       "     * the text insertion cursor when the button is pressed.  We want\n",
       "     * to control all of the cursor setting manually through the\n",
       "     * 'cursor' event from matplotlib */\n",
       "    event.preventDefault();\n",
       "    return false;\n",
       "}\n",
       "\n",
       "mpl.figure.prototype._key_event_extra = function(event, name) {\n",
       "    // Handle any extra behaviour associated with a key event\n",
       "}\n",
       "\n",
       "mpl.figure.prototype.key_event = function(event, name) {\n",
       "\n",
       "    // Prevent repeat events\n",
       "    if (name == 'key_press')\n",
       "    {\n",
       "        if (event.which === this._key)\n",
       "            return;\n",
       "        else\n",
       "            this._key = event.which;\n",
       "    }\n",
       "    if (name == 'key_release')\n",
       "        this._key = null;\n",
       "\n",
       "    var value = '';\n",
       "    if (event.ctrlKey && event.which != 17)\n",
       "        value += \"ctrl+\";\n",
       "    if (event.altKey && event.which != 18)\n",
       "        value += \"alt+\";\n",
       "    if (event.shiftKey && event.which != 16)\n",
       "        value += \"shift+\";\n",
       "\n",
       "    value += 'k';\n",
       "    value += event.which.toString();\n",
       "\n",
       "    this._key_event_extra(event, name);\n",
       "\n",
       "    this.send_message(name, {key: value,\n",
       "                             guiEvent: simpleKeys(event)});\n",
       "    return false;\n",
       "}\n",
       "\n",
       "mpl.figure.prototype.toolbar_button_onclick = function(name) {\n",
       "    if (name == 'download') {\n",
       "        this.handle_save(this, null);\n",
       "    } else {\n",
       "        this.send_message(\"toolbar_button\", {name: name});\n",
       "    }\n",
       "};\n",
       "\n",
       "mpl.figure.prototype.toolbar_button_onmouseover = function(tooltip) {\n",
       "    this.message.textContent = tooltip;\n",
       "};\n",
       "mpl.toolbar_items = [[\"Home\", \"Reset original view\", \"fa fa-home icon-home\", \"home\"], [\"Back\", \"Back to  previous view\", \"fa fa-arrow-left icon-arrow-left\", \"back\"], [\"Forward\", \"Forward to next view\", \"fa fa-arrow-right icon-arrow-right\", \"forward\"], [\"\", \"\", \"\", \"\"], [\"Pan\", \"Pan axes with left mouse, zoom with right\", \"fa fa-arrows icon-move\", \"pan\"], [\"Zoom\", \"Zoom to rectangle\", \"fa fa-square-o icon-check-empty\", \"zoom\"], [\"\", \"\", \"\", \"\"], [\"Download\", \"Download plot\", \"fa fa-floppy-o icon-save\", \"download\"]];\n",
       "\n",
       "mpl.extensions = [\"eps\", \"pdf\", \"png\", \"ps\", \"raw\", \"svg\"];\n",
       "\n",
       "mpl.default_extension = \"png\";var comm_websocket_adapter = function(comm) {\n",
       "    // Create a \"websocket\"-like object which calls the given IPython comm\n",
       "    // object with the appropriate methods. Currently this is a non binary\n",
       "    // socket, so there is still some room for performance tuning.\n",
       "    var ws = {};\n",
       "\n",
       "    ws.close = function() {\n",
       "        comm.close()\n",
       "    };\n",
       "    ws.send = function(m) {\n",
       "        //console.log('sending', m);\n",
       "        comm.send(m);\n",
       "    };\n",
       "    // Register the callback with on_msg.\n",
       "    comm.on_msg(function(msg) {\n",
       "        //console.log('receiving', msg['content']['data'], msg);\n",
       "        // Pass the mpl event to the overriden (by mpl) onmessage function.\n",
       "        ws.onmessage(msg['content']['data'])\n",
       "    });\n",
       "    return ws;\n",
       "}\n",
       "\n",
       "mpl.mpl_figure_comm = function(comm, msg) {\n",
       "    // This is the function which gets called when the mpl process\n",
       "    // starts-up an IPython Comm through the \"matplotlib\" channel.\n",
       "\n",
       "    var id = msg.content.data.id;\n",
       "    // Get hold of the div created by the display call when the Comm\n",
       "    // socket was opened in Python.\n",
       "    var element = $(\"#\" + id);\n",
       "    var ws_proxy = comm_websocket_adapter(comm)\n",
       "\n",
       "    function ondownload(figure, format) {\n",
       "        window.open(figure.imageObj.src);\n",
       "    }\n",
       "\n",
       "    var fig = new mpl.figure(id, ws_proxy,\n",
       "                           ondownload,\n",
       "                           element.get(0));\n",
       "\n",
       "    // Call onopen now - mpl needs it, as it is assuming we've passed it a real\n",
       "    // web socket which is closed, not our websocket->open comm proxy.\n",
       "    ws_proxy.onopen();\n",
       "\n",
       "    fig.parent_element = element.get(0);\n",
       "    fig.cell_info = mpl.find_output_cell(\"<div id='\" + id + \"'></div>\");\n",
       "    if (!fig.cell_info) {\n",
       "        console.error(\"Failed to find cell for figure\", id, fig);\n",
       "        return;\n",
       "    }\n",
       "\n",
       "    var output_index = fig.cell_info[2]\n",
       "    var cell = fig.cell_info[0];\n",
       "\n",
       "};\n",
       "\n",
       "mpl.figure.prototype.handle_close = function(fig, msg) {\n",
       "    var width = fig.canvas.width/mpl.ratio\n",
       "    fig.root.unbind('remove')\n",
       "\n",
       "    // Update the output cell to use the data from the current canvas.\n",
       "    fig.push_to_output();\n",
       "    var dataURL = fig.canvas.toDataURL();\n",
       "    // Re-enable the keyboard manager in IPython - without this line, in FF,\n",
       "    // the notebook keyboard shortcuts fail.\n",
       "    IPython.keyboard_manager.enable()\n",
       "    $(fig.parent_element).html('<img src=\"' + dataURL + '\" width=\"' + width + '\">');\n",
       "    fig.close_ws(fig, msg);\n",
       "}\n",
       "\n",
       "mpl.figure.prototype.close_ws = function(fig, msg){\n",
       "    fig.send_message('closing', msg);\n",
       "    // fig.ws.close()\n",
       "}\n",
       "\n",
       "mpl.figure.prototype.push_to_output = function(remove_interactive) {\n",
       "    // Turn the data on the canvas into data in the output cell.\n",
       "    var width = this.canvas.width/mpl.ratio\n",
       "    var dataURL = this.canvas.toDataURL();\n",
       "    this.cell_info[1]['text/html'] = '<img src=\"' + dataURL + '\" width=\"' + width + '\">';\n",
       "}\n",
       "\n",
       "mpl.figure.prototype.updated_canvas_event = function() {\n",
       "    // Tell IPython that the notebook contents must change.\n",
       "    IPython.notebook.set_dirty(true);\n",
       "    this.send_message(\"ack\", {});\n",
       "    var fig = this;\n",
       "    // Wait a second, then push the new image to the DOM so\n",
       "    // that it is saved nicely (might be nice to debounce this).\n",
       "    setTimeout(function () { fig.push_to_output() }, 1000);\n",
       "}\n",
       "\n",
       "mpl.figure.prototype._init_toolbar = function() {\n",
       "    var fig = this;\n",
       "\n",
       "    var nav_element = $('<div/>')\n",
       "    nav_element.attr('style', 'width: 100%');\n",
       "    this.root.append(nav_element);\n",
       "\n",
       "    // Define a callback function for later on.\n",
       "    function toolbar_event(event) {\n",
       "        return fig.toolbar_button_onclick(event['data']);\n",
       "    }\n",
       "    function toolbar_mouse_event(event) {\n",
       "        return fig.toolbar_button_onmouseover(event['data']);\n",
       "    }\n",
       "\n",
       "    for(var toolbar_ind in mpl.toolbar_items){\n",
       "        var name = mpl.toolbar_items[toolbar_ind][0];\n",
       "        var tooltip = mpl.toolbar_items[toolbar_ind][1];\n",
       "        var image = mpl.toolbar_items[toolbar_ind][2];\n",
       "        var method_name = mpl.toolbar_items[toolbar_ind][3];\n",
       "\n",
       "        if (!name) { continue; };\n",
       "\n",
       "        var button = $('<button class=\"btn btn-default\" href=\"#\" title=\"' + name + '\"><i class=\"fa ' + image + ' fa-lg\"></i></button>');\n",
       "        button.click(method_name, toolbar_event);\n",
       "        button.mouseover(tooltip, toolbar_mouse_event);\n",
       "        nav_element.append(button);\n",
       "    }\n",
       "\n",
       "    // Add the status bar.\n",
       "    var status_bar = $('<span class=\"mpl-message\" style=\"text-align:right; float: right;\"/>');\n",
       "    nav_element.append(status_bar);\n",
       "    this.message = status_bar[0];\n",
       "\n",
       "    // Add the close button to the window.\n",
       "    var buttongrp = $('<div class=\"btn-group inline pull-right\"></div>');\n",
       "    var button = $('<button class=\"btn btn-mini btn-primary\" href=\"#\" title=\"Stop Interaction\"><i class=\"fa fa-power-off icon-remove icon-large\"></i></button>');\n",
       "    button.click(function (evt) { fig.handle_close(fig, {}); } );\n",
       "    button.mouseover('Stop Interaction', toolbar_mouse_event);\n",
       "    buttongrp.append(button);\n",
       "    var titlebar = this.root.find($('.ui-dialog-titlebar'));\n",
       "    titlebar.prepend(buttongrp);\n",
       "}\n",
       "\n",
       "mpl.figure.prototype._root_extra_style = function(el){\n",
       "    var fig = this\n",
       "    el.on(\"remove\", function(){\n",
       "\tfig.close_ws(fig, {});\n",
       "    });\n",
       "}\n",
       "\n",
       "mpl.figure.prototype._canvas_extra_style = function(el){\n",
       "    // this is important to make the div 'focusable\n",
       "    el.attr('tabindex', 0)\n",
       "    // reach out to IPython and tell the keyboard manager to turn it's self\n",
       "    // off when our div gets focus\n",
       "\n",
       "    // location in version 3\n",
       "    if (IPython.notebook.keyboard_manager) {\n",
       "        IPython.notebook.keyboard_manager.register_events(el);\n",
       "    }\n",
       "    else {\n",
       "        // location in version 2\n",
       "        IPython.keyboard_manager.register_events(el);\n",
       "    }\n",
       "\n",
       "}\n",
       "\n",
       "mpl.figure.prototype._key_event_extra = function(event, name) {\n",
       "    var manager = IPython.notebook.keyboard_manager;\n",
       "    if (!manager)\n",
       "        manager = IPython.keyboard_manager;\n",
       "\n",
       "    // Check for shift+enter\n",
       "    if (event.shiftKey && event.which == 13) {\n",
       "        this.canvas_div.blur();\n",
       "        event.shiftKey = false;\n",
       "        // Send a \"J\" for go to next cell\n",
       "        event.which = 74;\n",
       "        event.keyCode = 74;\n",
       "        manager.command_mode();\n",
       "        manager.handle_keydown(event);\n",
       "    }\n",
       "}\n",
       "\n",
       "mpl.figure.prototype.handle_save = function(fig, msg) {\n",
       "    fig.ondownload(fig, null);\n",
       "}\n",
       "\n",
       "\n",
       "mpl.find_output_cell = function(html_output) {\n",
       "    // Return the cell and output element which can be found *uniquely* in the notebook.\n",
       "    // Note - this is a bit hacky, but it is done because the \"notebook_saving.Notebook\"\n",
       "    // IPython event is triggered only after the cells have been serialised, which for\n",
       "    // our purposes (turning an active figure into a static one), is too late.\n",
       "    var cells = IPython.notebook.get_cells();\n",
       "    var ncells = cells.length;\n",
       "    for (var i=0; i<ncells; i++) {\n",
       "        var cell = cells[i];\n",
       "        if (cell.cell_type === 'code'){\n",
       "            for (var j=0; j<cell.output_area.outputs.length; j++) {\n",
       "                var data = cell.output_area.outputs[j];\n",
       "                if (data.data) {\n",
       "                    // IPython >= 3 moved mimebundle to data attribute of output\n",
       "                    data = data.data;\n",
       "                }\n",
       "                if (data['text/html'] == html_output) {\n",
       "                    return [cell, data, j];\n",
       "                }\n",
       "            }\n",
       "        }\n",
       "    }\n",
       "}\n",
       "\n",
       "// Register the function which deals with the matplotlib target/channel.\n",
       "// The kernel may be null if the page has been refreshed.\n",
       "if (IPython.notebook.kernel != null) {\n",
       "    IPython.notebook.kernel.comm_manager.register_target('matplotlib', mpl.mpl_figure_comm);\n",
       "}\n"
      ],
      "text/plain": [
       "<IPython.core.display.Javascript object>"
      ]
     },
     "metadata": {},
     "output_type": "display_data"
    },
    {
     "data": {
      "text/html": [
       "<img src=\"data:image/png;base64,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\" width=\"639.999974568686\">"
      ],
      "text/plain": [
       "<IPython.core.display.HTML object>"
      ]
     },
     "metadata": {},
     "output_type": "display_data"
    }
   ],
   "source": [
    "x = [q1, q2, q3, u1, u2, u3]\n",
    "units = ['m', 'deg', 'deg', 'm/s', 'deg/s', 'deg/s']\n",
    "\n",
    "# lambda functions to do quick unit conversions\n",
    "convert = [lambda x: x,\n",
    "           lambda x : np.rad2deg(x),\n",
    "           lambda x: np.rad2deg(x),\n",
    "           lambda x: x,\n",
    "           lambda x : np.rad2deg(x),\n",
    "           lambda x: np.rad2deg(x),\n",
    "          ]\n",
    "\n",
    "fig, axes = plt.subplots(6, 1, sharex=True)\n",
    "\n",
    "for i in range(6):\n",
    "    axes[i].plot(sys.times, convert[i](traj[:, i]))\n",
    "    axes[i].set_ylabel(sm.latex(x[i], mode='inline') + '\\n[' + units[i] + ']')\n",
    "    \n",
    "axes[-1].set_xlabel('Time [s]')\n",
    "\n",
    "plt.tight_layout()"
   ]
  }
 ],
 "metadata": {
  "kernelspec": {
   "display_name": "Python 3",
   "language": "python",
   "name": "python3"
  },
  "language_info": {
   "codemirror_mode": {
    "name": "ipython",
    "version": 3
   },
   "file_extension": ".py",
   "mimetype": "text/x-python",
   "name": "python",
   "nbconvert_exporter": "python",
   "pygments_lexer": "ipython3",
   "version": "3.6.2"
  }
 },
 "nbformat": 4,
 "nbformat_minor": 2
}
