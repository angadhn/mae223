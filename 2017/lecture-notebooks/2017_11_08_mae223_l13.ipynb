{
 "cells": [
  {
   "cell_type": "code",
   "execution_count": 2,
   "metadata": {},
   "outputs": [],
   "source": [
    "import sympy as sm\n",
    "import sympy.physics.mechanics as me\n",
    "me.init_vprinting(use_latex=True, pretty_print=False)"
   ]
  },
  {
   "cell_type": "markdown",
   "metadata": {},
   "source": [
    "# Principal axes example"
   ]
  },
  {
   "cell_type": "code",
   "execution_count": 13,
   "metadata": {},
   "outputs": [],
   "source": [
    "IBxx = 9.2  # kg m^2\n",
    "IByy = 11.0\n",
    "IBzz = 2.8\n",
    "IBxz = 2.4"
   ]
  },
  {
   "cell_type": "code",
   "execution_count": 14,
   "metadata": {},
   "outputs": [],
   "source": [
    "N = me.ReferenceFrame('N')"
   ]
  },
  {
   "cell_type": "code",
   "execution_count": 15,
   "metadata": {},
   "outputs": [],
   "source": [
    "IB_O = me.inertia(N, 9.2, 11.0, 2.8, izx=2.4)"
   ]
  },
  {
   "cell_type": "code",
   "execution_count": 16,
   "metadata": {},
   "outputs": [
    {
     "data": {
      "image/png": "[encoded data removed]",
      "text/latex": [
       "$$9.2\\mathbf{\\hat{n}_x}\\otimes \\mathbf{\\hat{n}_x} + 2.4\\mathbf{\\hat{n}_x}\\otimes \\mathbf{\\hat{n}_z} + 11.0\\mathbf{\\hat{n}_y}\\otimes \\mathbf{\\hat{n}_y} + 2.4\\mathbf{\\hat{n}_z}\\otimes \\mathbf{\\hat{n}_x} + 2.8\\mathbf{\\hat{n}_z}\\otimes \\mathbf{\\hat{n}_z}$$"
      ],
      "text/plain": [
       "9.20000000000000*(N.x|N.x) + 2.40000000000000*(N.x|N.z) + 11.0000000000000*(N.y|N.y) + 2.40000000000000*(N.z|N.x) + 2.80000000000000*(N.z|N.z)"
      ]
     },
     "execution_count": 16,
     "metadata": {},
     "output_type": "execute_result"
    }
   ],
   "source": [
    "IB_O"
   ]
  },
  {
   "cell_type": "code",
   "execution_count": 17,
   "metadata": {},
   "outputs": [
    {
     "data": {
      "image/png": "[encoded data removed]",
      "text/latex": [
       "$$\\left[\\begin{matrix}9.2 & 0 & 2.4\\\\0 & 11.0 & 0\\\\2.4 & 0 & 2.8\\end{matrix}\\right]$$"
      ],
      "text/plain": [
       "Matrix([\n",
       "[9.2,    0, 2.4],\n",
       "[  0, 11.0,   0],\n",
       "[2.4,    0, 2.8]])"
      ]
     },
     "execution_count": 17,
     "metadata": {},
     "output_type": "execute_result"
    }
   ],
   "source": [
    "IB_O_mat = IB_O.to_matrix(N)\n",
    "IB_O_mat"
   ]
  },
  {
   "cell_type": "code",
   "execution_count": 18,
   "metadata": {},
   "outputs": [
    {
     "data": {
      "image/png": "[encoded data removed]",
      "text/latex": [
       "$$\\left [ \\left ( 2.0, \\quad 1, \\quad \\left [ \\left[\\begin{matrix}-0.333333333333333\\\\0\\\\1.0\\end{matrix}\\right]\\right ]\\right ), \\quad \\left ( 10.0, \\quad 1, \\quad \\left [ \\left[\\begin{matrix}3.0\\\\0\\\\1.0\\end{matrix}\\right]\\right ]\\right ), \\quad \\left ( 11.0, \\quad 1, \\quad \\left [ \\left[\\begin{matrix}0\\\\1.0\\\\0\\end{matrix}\\right]\\right ]\\right )\\right ]$$"
      ],
      "text/plain": [
       "[(2.0, 1, [Matrix([\n",
       "[-0.333333333333333],\n",
       "[                 0],\n",
       "[               1.0]])]), (10.0, 1, [Matrix([\n",
       "[3.0],\n",
       "[  0],\n",
       "[1.0]])]), (11.0, 1, [Matrix([\n",
       "[  0],\n",
       "[1.0],\n",
       "[  0]])])]"
      ]
     },
     "execution_count": 18,
     "metadata": {},
     "output_type": "execute_result"
    }
   ],
   "source": [
    "eig_res = IB_O_mat.eigenvects()\n",
    "eig_res"
   ]
  },
  {
   "cell_type": "code",
   "execution_count": 19,
   "metadata": {},
   "outputs": [],
   "source": [
    "def parse_eig(eig_tuple):\n",
    "    ev = eig_tuple[0]\n",
    "    evec_mat = eig_tuple[-1][0]\n",
    "    evec = 0 * N.x\n",
    "    for meas_num, unit_vec in zip(evec_mat, [N.x, N.y, N.z]):\n",
    "        evec += meas_num * unit_vec\n",
    "    return ev, evec.normalize()"
   ]
  },
  {
   "cell_type": "code",
   "execution_count": 20,
   "metadata": {},
   "outputs": [
    {
     "data": {
      "image/png": "[encoded data removed]",
      "text/latex": [
       "$$\\left ( 2.0, \\quad - 0.316227766016838\\mathbf{\\hat{n}_x} + 0.948683298050514\\mathbf{\\hat{n}_z}\\right )$$"
      ],
      "text/plain": [
       "(2.0, - 0.316227766016838*N.x + 0.948683298050514*N.z)"
      ]
     },
     "execution_count": 20,
     "metadata": {},
     "output_type": "execute_result"
    }
   ],
   "source": [
    "parse_eig(eig_res[0])"
   ]
  },
  {
   "cell_type": "code",
   "execution_count": 21,
   "metadata": {},
   "outputs": [],
   "source": [
    "ev1, evec1 = parse_eig(eig_res[0])\n",
    "ev2, evec2 = parse_eig(eig_res[1])\n",
    "ev3, evec3 = parse_eig(eig_res[2])"
   ]
  },
  {
   "cell_type": "code",
   "execution_count": 23,
   "metadata": {},
   "outputs": [
    {
     "data": {
      "image/png": "[encoded data removed]",
      "text/latex": [
       "$$1.0$$"
      ],
      "text/plain": [
       "1.00000000000000"
      ]
     },
     "execution_count": 23,
     "metadata": {},
     "output_type": "execute_result"
    }
   ],
   "source": [
    "evec1.magnitude()"
   ]
  },
  {
   "cell_type": "code",
   "execution_count": 24,
   "metadata": {},
   "outputs": [
    {
     "data": {
      "image/png": "[encoded data removed]",
      "text/latex": [
       "$$\\left ( 2.0, \\quad 1, \\quad \\left [ \\left[\\begin{matrix}-0.333333333333333\\\\0\\\\1.0\\end{matrix}\\right]\\right ]\\right )$$"
      ],
      "text/plain": [
       "(2.0, 1, [Matrix([\n",
       "[-0.333333333333333],\n",
       "[                 0],\n",
       "[               1.0]])])"
      ]
     },
     "execution_count": 24,
     "metadata": {},
     "output_type": "execute_result"
    }
   ],
   "source": [
    "eig_res[0]"
   ]
  },
  {
   "cell_type": "code",
   "execution_count": 25,
   "metadata": {},
   "outputs": [
    {
     "data": {
      "image/png": "[encoded data removed]",
      "text/latex": [
       "$$\\left [ \\left[\\begin{matrix}-0.333333333333333\\\\0\\\\1.0\\end{matrix}\\right]\\right ]$$"
      ],
      "text/plain": [
       "[Matrix([\n",
       "[-0.333333333333333],\n",
       "[                 0],\n",
       "[               1.0]])]"
      ]
     },
     "execution_count": 25,
     "metadata": {},
     "output_type": "execute_result"
    }
   ],
   "source": [
    "eig_res[0][-1]"
   ]
  },
  {
   "cell_type": "code",
   "execution_count": 26,
   "metadata": {},
   "outputs": [
    {
     "data": {
      "text/plain": [
       "list"
      ]
     },
     "execution_count": 26,
     "metadata": {},
     "output_type": "execute_result"
    }
   ],
   "source": [
    "type(eig_res[0][-1])"
   ]
  },
  {
   "cell_type": "code",
   "execution_count": 27,
   "metadata": {},
   "outputs": [
    {
     "data": {
      "image/png": "[encoded data removed]",
      "text/latex": [
       "$$\\left[\\begin{matrix}-0.333333333333333\\\\0\\\\1.0\\end{matrix}\\right]$$"
      ],
      "text/plain": [
       "Matrix([\n",
       "[-0.333333333333333],\n",
       "[                 0],\n",
       "[               1.0]])"
      ]
     },
     "execution_count": 27,
     "metadata": {},
     "output_type": "execute_result"
    }
   ],
   "source": [
    "eig_res[0][-1][0]"
   ]
  },
  {
   "cell_type": "code",
   "execution_count": 28,
   "metadata": {},
   "outputs": [
    {
     "data": {
      "text/plain": [
       "sympy.matrices.immutable.ImmutableDenseMatrix"
      ]
     },
     "execution_count": 28,
     "metadata": {},
     "output_type": "execute_result"
    }
   ],
   "source": [
    "type(eig_res[0][-1][0])"
   ]
  },
  {
   "cell_type": "code",
   "execution_count": 29,
   "metadata": {},
   "outputs": [
    {
     "name": "stdout",
     "output_type": "stream",
     "text": [
      "-0.333333333333333\n",
      "0\n",
      "1.00000000000000\n"
     ]
    }
   ],
   "source": [
    "for thing in eig_res[0][-1][0]:\n",
    "    print(thing)"
   ]
  },
  {
   "cell_type": "code",
   "execution_count": 30,
   "metadata": {},
   "outputs": [
    {
     "data": {
      "image/png": "[encoded data removed]",
      "text/latex": [
       "$$\\left[\\begin{matrix}-0.316227766016838 & 0.948683298050514 & 0\\\\0 & 0 & 1.0\\\\0.948683298050514 & 0.316227766016838 & 0\\end{matrix}\\right]$$"
      ],
      "text/plain": [
       "Matrix([\n",
       "[-0.316227766016838, 0.948683298050514,   0],\n",
       "[                 0,                 0, 1.0],\n",
       "[ 0.948683298050514, 0.316227766016838,   0]])"
      ]
     },
     "execution_count": 30,
     "metadata": {},
     "output_type": "execute_result"
    }
   ],
   "source": [
    "dcm = sm.Matrix([[N.x.dot(evec1), N.x.dot(evec2), N.x.dot(evec3)],\n",
    "                 [N.y.dot(evec1), N.y.dot(evec2), N.y.dot(evec3)],\n",
    "                 [N.z.dot(evec1), N.z.dot(evec2), N.z.dot(evec3)],\n",
    "                ])\n",
    "dcm"
   ]
  },
  {
   "cell_type": "code",
   "execution_count": 31,
   "metadata": {},
   "outputs": [],
   "source": [
    "S = N.orientnew('S', 'DCM', dcm)"
   ]
  },
  {
   "cell_type": "code",
   "execution_count": 32,
   "metadata": {},
   "outputs": [
    {
     "data": {
      "image/png": "[encoded data removed]",
      "text/latex": [
       "$$\\left[\\begin{matrix}-0.316227766016838 & 0 & 0.948683298050514\\\\0.948683298050514 & 0 & 0.316227766016838\\\\0 & 1.0 & 0\\end{matrix}\\right]$$"
      ],
      "text/plain": [
       "Matrix([\n",
       "[-0.316227766016838,   0, 0.948683298050514],\n",
       "[ 0.948683298050514,   0, 0.316227766016838],\n",
       "[                 0, 1.0,                 0]])"
      ]
     },
     "execution_count": 32,
     "metadata": {},
     "output_type": "execute_result"
    }
   ],
   "source": [
    "S.dcm(N)"
   ]
  },
  {
   "cell_type": "code",
   "execution_count": 33,
   "metadata": {},
   "outputs": [
    {
     "data": {
      "image/png": "[encoded data removed]",
      "text/latex": [
       "$$2.0\\mathbf{\\hat{s}_x}\\otimes \\mathbf{\\hat{s}_x} + 10.0\\mathbf{\\hat{s}_y}\\otimes \\mathbf{\\hat{s}_y} + 11.0\\mathbf{\\hat{s}_z}\\otimes \\mathbf{\\hat{s}_z}$$"
      ],
      "text/plain": [
       "2.00000000000000*(S.x|S.x) + 10.0000000000000*(S.y|S.y) + 11.0000000000000*(S.z|S.z)"
      ]
     },
     "execution_count": 33,
     "metadata": {},
     "output_type": "execute_result"
    }
   ],
   "source": [
    "IB_O_S = me.inertia(S, ev1, ev2, ev3)\n",
    "IB_O_S"
   ]
  },
  {
   "cell_type": "code",
   "execution_count": 34,
   "metadata": {},
   "outputs": [
    {
     "data": {
      "image/png": "[encoded data removed]",
      "text/latex": [
       "$$9.2\\mathbf{\\hat{n}_x}\\otimes \\mathbf{\\hat{n}_x} + 2.4\\mathbf{\\hat{n}_x}\\otimes \\mathbf{\\hat{n}_z} + 11.0\\mathbf{\\hat{n}_y}\\otimes \\mathbf{\\hat{n}_y} + 2.4\\mathbf{\\hat{n}_z}\\otimes \\mathbf{\\hat{n}_x} + 2.8\\mathbf{\\hat{n}_z}\\otimes \\mathbf{\\hat{n}_z}$$"
      ],
      "text/plain": [
       "9.20000000000000*(N.x|N.x) + 2.40000000000000*(N.x|N.z) + 11.0000000000000*(N.y|N.y) + 2.40000000000000*(N.z|N.x) + 2.80000000000000*(N.z|N.z)"
      ]
     },
     "execution_count": 34,
     "metadata": {},
     "output_type": "execute_result"
    }
   ],
   "source": [
    "IB_O"
   ]
  },
  {
   "cell_type": "code",
   "execution_count": 35,
   "metadata": {},
   "outputs": [
    {
     "data": {
      "image/png": "[encoded data removed]",
      "text/latex": [
       "$$2.0\\mathbf{\\hat{s}_x}\\otimes \\mathbf{\\hat{s}_x} + 5.55111512312578 \\cdot 10^{-16}\\mathbf{\\hat{s}_x}\\otimes \\mathbf{\\hat{s}_y} + 3.33066907387547 \\cdot 10^{-16}\\mathbf{\\hat{s}_y}\\otimes \\mathbf{\\hat{s}_x} + 10.0\\mathbf{\\hat{s}_y}\\otimes \\mathbf{\\hat{s}_y} + 11.0\\mathbf{\\hat{s}_z}\\otimes \\mathbf{\\hat{s}_z}$$"
      ],
      "text/plain": [
       "2.00000000000000*(S.x|S.x) + 5.55111512312578e-16*(S.x|S.y) + 3.33066907387547e-16*(S.y|S.x) + 10.0000000000000*(S.y|S.y) + 11.0000000000000*(S.z|S.z)"
      ]
     },
     "execution_count": 35,
     "metadata": {},
     "output_type": "execute_result"
    }
   ],
   "source": [
    "IB_O.express(S)"
   ]
  },
  {
   "cell_type": "code",
   "execution_count": 36,
   "metadata": {},
   "outputs": [
    {
     "data": {
      "image/png": "[encoded data removed]",
      "text/latex": [
       "$$9.2\\mathbf{\\hat{n}_x}\\otimes \\mathbf{\\hat{n}_x} + 2.4\\mathbf{\\hat{n}_x}\\otimes \\mathbf{\\hat{n}_z} + 2.4\\mathbf{\\hat{n}_z}\\otimes \\mathbf{\\hat{n}_x} + 2.8\\mathbf{\\hat{n}_z}\\otimes \\mathbf{\\hat{n}_z} + 11.0\\mathbf{\\hat{n}_y}\\otimes \\mathbf{\\hat{n}_y}$$"
      ],
      "text/plain": [
       "9.20000000000000*(N.x|N.x) + 2.40000000000000*(N.x|N.z) + 2.40000000000000*(N.z|N.x) + 2.80000000000000*(N.z|N.z) + 11.0000000000000*(N.y|N.y)"
      ]
     },
     "execution_count": 36,
     "metadata": {},
     "output_type": "execute_result"
    }
   ],
   "source": [
    "IB_O_S.express(N)"
   ]
  },
  {
   "cell_type": "code",
   "execution_count": 37,
   "metadata": {},
   "outputs": [
    {
     "data": {
      "image/png": "[encoded data removed]",
      "text/latex": [
       "$$1.89254688119154$$"
      ],
      "text/plain": [
       "1.89254688119154"
      ]
     },
     "execution_count": 37,
     "metadata": {},
     "output_type": "execute_result"
    }
   ],
   "source": [
    "sm.acos(S.x.dot(N.x))"
   ]
  },
  {
   "cell_type": "code",
   "execution_count": 38,
   "metadata": {},
   "outputs": [
    {
     "data": {
      "image/png": "[encoded data removed]",
      "text/latex": [
       "$$54.17197452229299$$"
      ],
      "text/plain": [
       "54.17197452229299"
      ]
     },
     "execution_count": 38,
     "metadata": {},
     "output_type": "execute_result"
    }
   ],
   "source": [
    "1.89 * 180/2/3.14"
   ]
  },
  {
   "cell_type": "markdown",
   "metadata": {},
   "source": [
    "# Problem 5.8"
   ]
  },
  {
   "cell_type": "code",
   "execution_count": 3,
   "metadata": {},
   "outputs": [],
   "source": [
    "a, b, rho, theta = sm.symbols('a, b, rho, theta', positive=True)"
   ]
  },
  {
   "cell_type": "code",
   "execution_count": 4,
   "metadata": {},
   "outputs": [],
   "source": [
    "N = me.ReferenceFrame('N')"
   ]
  },
  {
   "cell_type": "code",
   "execution_count": 5,
   "metadata": {},
   "outputs": [],
   "source": [
    "x1 = sm.symbols('x1')"
   ]
  },
  {
   "cell_type": "code",
   "execution_count": 6,
   "metadata": {},
   "outputs": [
    {
     "data": {
      "image/png": "[encoded data removed]",
      "text/latex": [
       "$$x_{1}\\mathbf{\\hat{n}_x} -  a \\operatorname{cos}\\left(\\frac{2 \\pi}{b} x_{1}\\right)\\mathbf{\\hat{n}_y} -  a \\operatorname{sin}\\left(\\frac{2 \\pi}{b} x_{1}\\right)\\mathbf{\\hat{n}_z}$$"
      ],
      "text/plain": [
       "x1*N.x - a*cos(2*pi*x1/b)*N.y - a*sin(2*pi*x1/b)*N.z"
      ]
     },
     "execution_count": 6,
     "metadata": {},
     "output_type": "execute_result"
    }
   ],
   "source": [
    "p = x1 * N.x - a * sm.cos(2 * sm.pi * x1 / b) * N.y - a * sm.sin(2 * sm.pi * x1 / b) * N.z\n",
    "p"
   ]
  },
  {
   "cell_type": "code",
   "execution_count": 7,
   "metadata": {},
   "outputs": [
    {
     "data": {
      "image/png": "[encoded data removed]",
      "text/latex": [
       "$$(a^{2} \\operatorname{sin}^{2}\\left(\\frac{2 \\pi}{b} x_{1}\\right) + a^{2} \\operatorname{cos}^{2}\\left(\\frac{2 \\pi}{b} x_{1}\\right))\\mathbf{\\hat{n}_x} + a x_{1} \\operatorname{cos}\\left(\\frac{2 \\pi}{b} x_{1}\\right)\\mathbf{\\hat{n}_y} + a x_{1} \\operatorname{sin}\\left(\\frac{2 \\pi}{b} x_{1}\\right)\\mathbf{\\hat{n}_z}$$"
      ],
      "text/plain": [
       "(a**2*sin(2*pi*x1/b)**2 + a**2*cos(2*pi*x1/b)**2)*N.x + a*x1*cos(2*pi*x1/b)*N.y + a*x1*sin(2*pi*x1/b)*N.z"
      ]
     },
     "execution_count": 7,
     "metadata": {},
     "output_type": "execute_result"
    }
   ],
   "source": [
    "inside_int = p.cross(N.x.cross(p))\n",
    "inside_int"
   ]
  },
  {
   "cell_type": "code",
   "execution_count": 8,
   "metadata": {},
   "outputs": [
    {
     "data": {
      "image/png": "[encoded data removed]",
      "text/latex": [
       "$$\\left[\\begin{matrix}a^{2} b\\\\0\\\\\\frac{a b^{2}}{2 \\pi}\\end{matrix}\\right]$$"
      ],
      "text/plain": [
       "Matrix([\n",
       "[       a**2*b],\n",
       "[            0],\n",
       "[a*b**2/(2*pi)]])"
      ]
     },
     "execution_count": 8,
     "metadata": {},
     "output_type": "execute_result"
    }
   ],
   "source": [
    "sol = sm.integrate(inside_int.to_matrix(N), (x1, -b/2, b/2))\n",
    "sol"
   ]
  },
  {
   "cell_type": "code",
   "execution_count": 9,
   "metadata": {},
   "outputs": [
    {
     "data": {
      "image/png": "[encoded data removed]",
      "text/latex": [
       "$$a^{2} b \\rho\\mathbf{\\hat{n}_x} + \\frac{a b^{2} \\rho}{2 \\pi}\\mathbf{\\hat{n}_z}$$"
      ],
      "text/plain": [
       "a**2*b*rho*N.x + a*b**2*rho/(2*pi)*N.z"
      ]
     },
     "execution_count": 9,
     "metadata": {},
     "output_type": "execute_result"
    }
   ],
   "source": [
    "I1_Ho = rho * (sol[0] * N.x + sol[1] * N.y + sol[2] * N.z)\n",
    "I1_Ho"
   ]
  },
  {
   "cell_type": "code",
   "execution_count": 10,
   "metadata": {},
   "outputs": [],
   "source": [
    "m = sm.symbols('m')"
   ]
  },
  {
   "cell_type": "code",
   "execution_count": 11,
   "metadata": {},
   "outputs": [
    {
     "data": {
      "image/png": "[encoded data removed]",
      "text/latex": [
       "$$a^{2} m\\mathbf{\\hat{n}_x} + \\frac{a b m}{2 \\pi}\\mathbf{\\hat{n}_z}$$"
      ],
      "text/plain": [
       "a**2*m*N.x + a*b*m/(2*pi)*N.z"
      ]
     },
     "execution_count": 11,
     "metadata": {},
     "output_type": "execute_result"
    }
   ],
   "source": [
    "I1_Ho.subs({rho: m / b})"
   ]
  },
  {
   "cell_type": "code",
   "execution_count": 19,
   "metadata": {},
   "outputs": [
    {
     "data": {
      "image/png": "[encoded data removed]",
      "text/latex": [
       "$$\\frac{b \\theta}{2 \\pi}\\mathbf{\\hat{n}_x} + a \\operatorname{cos}\\left(\\theta\\right)\\mathbf{\\hat{n}_y} + a \\operatorname{sin}\\left(\\theta\\right)\\mathbf{\\hat{n}_z}$$"
      ],
      "text/plain": [
       "b*theta/(2*pi)*N.x + a*cos(theta)*N.y + a*sin(theta)*N.z"
      ]
     },
     "execution_count": 19,
     "metadata": {},
     "output_type": "execute_result"
    }
   ],
   "source": [
    "p = b * theta / 2 / sm.pi * N.x + a * sm.cos(theta) * N.y + a * sm.sin(theta) * N.z\n",
    "p"
   ]
  },
  {
   "cell_type": "code",
   "execution_count": 16,
   "metadata": {},
   "outputs": [
    {
     "data": {
      "image/png": "[encoded data removed]",
      "text/latex": [
       "$$m \\sqrt{a^{2} \\theta^{2} + \\frac{b^{2} \\theta^{2}}{4 \\pi^{2}}} \\left(a^{2} \\operatorname{sin}^{2}\\left(\\theta\\right) + a^{2} \\operatorname{cos}^{2}\\left(\\theta\\right)\\right)\\mathbf{\\hat{n}_x} -  \\frac{a b m \\theta}{2 \\pi} \\sqrt{a^{2} \\theta^{2} + \\frac{b^{2} \\theta^{2}}{4 \\pi^{2}}} \\operatorname{cos}\\left(\\theta\\right)\\mathbf{\\hat{n}_y} -  \\frac{a b m \\theta}{2 \\pi} \\sqrt{a^{2} \\theta^{2} + \\frac{b^{2} \\theta^{2}}{4 \\pi^{2}}} \\operatorname{sin}\\left(\\theta\\right)\\mathbf{\\hat{n}_z}$$"
      ],
      "text/plain": [
       "m*sqrt(a**2*theta**2 + b**2*theta**2/(4*pi**2))*(a**2*sin(theta)**2 + a**2*cos(theta)**2)*N.x - a*b*m*theta*sqrt(a**2*theta**2 + b**2*theta**2/(4*pi**2))*cos(theta)/(2*pi)*N.y - a*b*m*theta*sqrt(a**2*theta**2 + b**2*theta**2/(4*pi**2))*sin(theta)/(2*pi)*N.z"
      ]
     },
     "execution_count": 16,
     "metadata": {},
     "output_type": "execute_result"
    }
   ],
   "source": [
    "inside_int = m *sm.sqrt((theta * a)**2 + (b * theta / 2 / sm.pi)**2) * p.cross(N.x.cross(p))\n",
    "inside_int"
   ]
  },
  {
   "cell_type": "code",
   "execution_count": 21,
   "metadata": {},
   "outputs": [
    {
     "data": {
      "image/png": "[encoded data removed]",
      "text/latex": [
       "$$\\left[\\begin{matrix}m \\left(\\frac{4 \\pi^{3} a^{4}}{\\sqrt{4 \\pi^{2} a^{2} + b^{2}}} + \\frac{\\pi a^{2} b^{2}}{\\sqrt{4 \\pi^{2} a^{2} + b^{2}}}\\right)\\\\- \\frac{a m}{\\pi} b \\sqrt{4 \\pi^{2} a^{2} + b^{2}}\\\\- \\frac{a b m}{2 \\pi} \\left(- 2 \\pi \\sqrt{4 \\pi^{2} a^{2} + b^{2}} + \\frac{1}{\\pi} \\sqrt{4 \\pi^{2} a^{2} + b^{2}}\\right) + \\frac{a b m}{2 \\pi^{2}} \\sqrt{4 \\pi^{2} a^{2} + b^{2}}\\end{matrix}\\right]$$"
      ],
      "text/plain": [
       "Matrix([\n",
       "[                                       m*(4*pi**3*a**4/sqrt(4*pi**2*a**2 + b**2) + pi*a**2*b**2/sqrt(4*pi**2*a**2 + b**2))],\n",
       "[                                                                                       -a*b*m*sqrt(4*pi**2*a**2 + b**2)/pi],\n",
       "[-a*b*m*(-2*pi*sqrt(4*pi**2*a**2 + b**2) + sqrt(4*pi**2*a**2 + b**2)/pi)/(2*pi) + a*b*m*sqrt(4*pi**2*a**2 + b**2)/(2*pi**2)]])"
      ]
     },
     "execution_count": 21,
     "metadata": {},
     "output_type": "execute_result"
    }
   ],
   "source": [
    "sol = sm.integrate(inside_int.to_matrix(N), (theta, 0, 2 * sm.pi))\n",
    "sol.simplify()\n",
    "sol"
   ]
  },
  {
   "cell_type": "code",
   "execution_count": 22,
   "metadata": {},
   "outputs": [
    {
     "data": {
      "image/png": "[encoded data removed]",
      "text/latex": [
       "$$m \\left(\\frac{4 \\pi^{3} a^{4}}{\\sqrt{4 \\pi^{2} a^{2} + b^{2}}} + \\frac{\\pi a^{2} b^{2}}{\\sqrt{4 \\pi^{2} a^{2} + b^{2}}}\\right)\\mathbf{\\hat{n}_x} -  \\frac{a m}{\\pi} b \\sqrt{4 \\pi^{2} a^{2} + b^{2}}\\mathbf{\\hat{n}_y} + (- \\frac{a b m}{2 \\pi} \\left(- 2 \\pi \\sqrt{4 \\pi^{2} a^{2} + b^{2}} + \\frac{1}{\\pi} \\sqrt{4 \\pi^{2} a^{2} + b^{2}}\\right) + \\frac{a b m}{2 \\pi^{2}} \\sqrt{4 \\pi^{2} a^{2} + b^{2}})\\mathbf{\\hat{n}_z}$$"
      ],
      "text/plain": [
       "m*(4*pi**3*a**4/sqrt(4*pi**2*a**2 + b**2) + pi*a**2*b**2/sqrt(4*pi**2*a**2 + b**2))*N.x - a*b*m*sqrt(4*pi**2*a**2 + b**2)/pi*N.y + (-a*b*m*(-2*pi*sqrt(4*pi**2*a**2 + b**2) + sqrt(4*pi**2*a**2 + b**2)/pi)/(2*pi) + a*b*m*sqrt(4*pi**2*a**2 + b**2)/(2*pi**2))*N.z"
      ]
     },
     "execution_count": 22,
     "metadata": {},
     "output_type": "execute_result"
    }
   ],
   "source": [
    "I1_Ho = sol[0] * N.x + sol[1] * N.y + sol[2] * N.z\n",
    "I1_Ho"
   ]
  },
  {
   "cell_type": "code",
   "execution_count": 23,
   "metadata": {},
   "outputs": [
    {
     "data": {
      "image/png": "[encoded data removed]",
      "text/latex": [
       "$$\\pi a^{2} m \\sqrt{4 \\pi^{2} a^{2} + b^{2}}\\mathbf{\\hat{n}_x} -  \\frac{a m}{\\pi} b \\sqrt{4 \\pi^{2} a^{2} + b^{2}}\\mathbf{\\hat{n}_y} + a b m \\sqrt{4 \\pi^{2} a^{2} + b^{2}}\\mathbf{\\hat{n}_z}$$"
      ],
      "text/plain": [
       "pi*a**2*m*sqrt(4*pi**2*a**2 + b**2)*N.x - a*b*m*sqrt(4*pi**2*a**2 + b**2)/pi*N.y + a*b*m*sqrt(4*pi**2*a**2 + b**2)*N.z"
      ]
     },
     "execution_count": 23,
     "metadata": {},
     "output_type": "execute_result"
    }
   ],
   "source": [
    "I1_Ho.simplify()"
   ]
  }
 ],
 "metadata": {
  "kernelspec": {
   "display_name": "Python 3",
   "language": "python",
   "name": "python3"
  },
  "language_info": {
   "codemirror_mode": {
    "name": "ipython",
    "version": 3
   },
   "file_extension": ".py",
   "mimetype": "text/x-python",
   "name": "python",
   "nbconvert_exporter": "python",
   "pygments_lexer": "ipython3",
   "version": "3.6.2"
  }
 },
 "nbformat": 4,
 "nbformat_minor": 2
}
