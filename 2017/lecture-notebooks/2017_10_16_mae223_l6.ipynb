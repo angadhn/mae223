{
 "cells": [
  {
   "cell_type": "code",
   "execution_count": 1,
   "metadata": {},
   "outputs": [],
   "source": [
    "import sympy as sm\n",
    "import sympy.physics.mechanics as me\n",
    "me.init_vprinting(use_latex=True, pretty_print=False)"
   ]
  },
  {
   "cell_type": "code",
   "execution_count": 2,
   "metadata": {},
   "outputs": [],
   "source": [
    "q1, q2, q3 = me.dynamicsymbols('q1, q2, q3')"
   ]
  },
  {
   "cell_type": "code",
   "execution_count": 3,
   "metadata": {},
   "outputs": [],
   "source": [
    "w, L, t = sm.symbols('omega, L, t')"
   ]
  },
  {
   "cell_type": "code",
   "execution_count": 4,
   "metadata": {},
   "outputs": [],
   "source": [
    "A = me.ReferenceFrame('A')"
   ]
  },
  {
   "cell_type": "code",
   "execution_count": 5,
   "metadata": {},
   "outputs": [],
   "source": [
    "B = A.orientnew('B', 'Axis', (w * t, A.y))"
   ]
  },
  {
   "cell_type": "code",
   "execution_count": 6,
   "metadata": {},
   "outputs": [],
   "source": [
    "#E = B.orientnew?"
   ]
  },
  {
   "cell_type": "code",
   "execution_count": 7,
   "metadata": {},
   "outputs": [],
   "source": [
    "E = B.orientnew"
   ]
  },
  {
   "cell_type": "code",
   "execution_count": 8,
   "metadata": {},
   "outputs": [],
   "source": [
    "E = B.orientnew('E', 'Axis', (q3, B.z))"
   ]
  },
  {
   "cell_type": "code",
   "execution_count": 9,
   "metadata": {},
   "outputs": [
    {
     "data": {
      "image/png": "[encoded data removed]",
      "text/latex": [
       "$$\\omega\\mathbf{\\hat{a}_y}$$"
      ],
      "text/plain": [
       "omega*A.y"
      ]
     },
     "execution_count": 9,
     "metadata": {},
     "output_type": "execute_result"
    }
   ],
   "source": [
    "B.ang_vel_in(A)"
   ]
  },
  {
   "cell_type": "code",
   "execution_count": 10,
   "metadata": {},
   "outputs": [
    {
     "data": {
      "image/png": "[encoded data removed]",
      "text/latex": [
       "$$\\dot{q}_{3}\\mathbf{\\hat{b}_z}$$"
      ],
      "text/plain": [
       "q3'*B.z"
      ]
     },
     "execution_count": 10,
     "metadata": {},
     "output_type": "execute_result"
    }
   ],
   "source": [
    "E.ang_vel_in(B)"
   ]
  },
  {
   "cell_type": "code",
   "execution_count": 11,
   "metadata": {},
   "outputs": [
    {
     "data": {
      "image/png": "[encoded data removed]",
      "text/latex": [
       "$$0$$"
      ],
      "text/plain": [
       "0"
      ]
     },
     "execution_count": 11,
     "metadata": {},
     "output_type": "execute_result"
    }
   ],
   "source": [
    "B.ang_acc_in(A)"
   ]
  },
  {
   "cell_type": "code",
   "execution_count": 12,
   "metadata": {},
   "outputs": [
    {
     "data": {
      "image/png": "[encoded data removed]",
      "text/latex": [
       "$$\\ddot{q}_{3}\\mathbf{\\hat{b}_z}$$"
      ],
      "text/plain": [
       "q3''*B.z"
      ]
     },
     "execution_count": 12,
     "metadata": {},
     "output_type": "execute_result"
    }
   ],
   "source": [
    "E.ang_acc_in(B)"
   ]
  },
  {
   "cell_type": "code",
   "execution_count": 13,
   "metadata": {},
   "outputs": [],
   "source": [
    "O = me.Point('O')"
   ]
  },
  {
   "cell_type": "code",
   "execution_count": 14,
   "metadata": {},
   "outputs": [],
   "source": [
    "O.set_vel(A, 0)"
   ]
  },
  {
   "cell_type": "code",
   "execution_count": 15,
   "metadata": {},
   "outputs": [
    {
     "data": {
      "image/png": "[encoded data removed]",
      "text/latex": [
       "$$q_{1}\\mathbf{\\hat{b}_x} + q_{2}\\mathbf{\\hat{b}_y}$$"
      ],
      "text/plain": [
       "q1*B.x + q2*B.y"
      ]
     },
     "execution_count": 15,
     "metadata": {},
     "output_type": "execute_result"
    }
   ],
   "source": [
    "P1 = O.locatenew('P1', q1 * B.x + q2 * B.y)\n",
    "P1.pos_from(O)"
   ]
  },
  {
   "cell_type": "code",
   "execution_count": 16,
   "metadata": {},
   "outputs": [
    {
     "data": {
      "image/png": "[encoded data removed]",
      "text/latex": [
       "$$L\\mathbf{\\hat{e}_x} + q_{1}\\mathbf{\\hat{b}_x} + q_{2}\\mathbf{\\hat{b}_y}$$"
      ],
      "text/plain": [
       "q1*B.x + q2*B.y + L*E.x"
      ]
     },
     "execution_count": 16,
     "metadata": {},
     "output_type": "execute_result"
    }
   ],
   "source": [
    "P2 = P1.locatenew('P2', L * E.x)\n",
    "P2.pos_from(O)"
   ]
  },
  {
   "cell_type": "code",
   "execution_count": 17,
   "metadata": {},
   "outputs": [
    {
     "data": {
      "image/png": "[encoded data removed]",
      "text/latex": [
       "$$(L \\operatorname{cos}\\left(q_{3}\\right) + q_{1})\\mathbf{\\hat{b}_x} + (L \\operatorname{sin}\\left(q_{3}\\right) + q_{2})\\mathbf{\\hat{b}_y}$$"
      ],
      "text/plain": [
       "(L*cos(q3) + q1)*B.x + (L*sin(q3) + q2)*B.y"
      ]
     },
     "execution_count": 17,
     "metadata": {},
     "output_type": "execute_result"
    }
   ],
   "source": [
    "P2.pos_from(O).express(B)"
   ]
  },
  {
   "cell_type": "code",
   "execution_count": 18,
   "metadata": {},
   "outputs": [
    {
     "data": {
      "image/png": "[encoded data removed]",
      "text/latex": [
       "$$\\dot{q}_{1}\\mathbf{\\hat{b}_x} + \\dot{q}_{2}\\mathbf{\\hat{b}_y}$$"
      ],
      "text/plain": [
       "q1'*B.x + q2'*B.y"
      ]
     },
     "execution_count": 18,
     "metadata": {},
     "output_type": "execute_result"
    }
   ],
   "source": [
    "P1.pos_from(O).dt(B)"
   ]
  },
  {
   "cell_type": "code",
   "execution_count": 19,
   "metadata": {},
   "outputs": [
    {
     "data": {
      "image/png": "[encoded data removed]",
      "text/latex": [
       "$$\\dot{q}_{1}\\mathbf{\\hat{b}_x} + \\dot{q}_{2}\\mathbf{\\hat{b}_y}$$"
      ],
      "text/plain": [
       "q1'*B.x + q2'*B.y"
      ]
     },
     "execution_count": 19,
     "metadata": {},
     "output_type": "execute_result"
    }
   ],
   "source": [
    "P1.set_vel(B, P1.pos_from(O).dt(B))\n",
    "P1.vel(B)"
   ]
  },
  {
   "cell_type": "code",
   "execution_count": 20,
   "metadata": {},
   "outputs": [],
   "source": [
    "#P1.set_vel(B, q1.diff(t) * B.x + q2.diff(t) * B.y)\n",
    "#P1.vel(B)"
   ]
  },
  {
   "cell_type": "code",
   "execution_count": 21,
   "metadata": {},
   "outputs": [
    {
     "data": {
      "image/png": "[encoded data removed]",
      "text/latex": [
       "$$\\dot{q}_{1}\\mathbf{\\hat{b}_x} + \\dot{q}_{2}\\mathbf{\\hat{b}_y} -  \\omega q_{1}\\mathbf{\\hat{b}_z}$$"
      ],
      "text/plain": [
       "q1'*B.x + q2'*B.y - omega*q1*B.z"
      ]
     },
     "execution_count": 21,
     "metadata": {},
     "output_type": "execute_result"
    }
   ],
   "source": [
    "P1.v1pt_theory(O, A, B)"
   ]
  },
  {
   "cell_type": "code",
   "execution_count": 22,
   "metadata": {},
   "outputs": [
    {
     "data": {
      "image/png": "[encoded data removed]",
      "text/latex": [
       "$$(- \\omega^{2} q_{1} + \\ddot{q}_{1})\\mathbf{\\hat{b}_x} + \\ddot{q}_{2}\\mathbf{\\hat{b}_y} -  2 \\omega \\dot{q}_{1}\\mathbf{\\hat{b}_z}$$"
      ],
      "text/plain": [
       "(-omega**2*q1 + q1'')*B.x + q2''*B.y - 2*omega*q1'*B.z"
      ]
     },
     "execution_count": 22,
     "metadata": {},
     "output_type": "execute_result"
    }
   ],
   "source": [
    "P1.a1pt_theory(O, A, B)"
   ]
  },
  {
   "cell_type": "code",
   "execution_count": 23,
   "metadata": {},
   "outputs": [
    {
     "data": {
      "image/png": "[encoded data removed]",
      "text/latex": [
       "$$L \\dot{q}_{3}\\mathbf{\\hat{e}_y} + \\dot{q}_{1}\\mathbf{\\hat{b}_x} + \\dot{q}_{2}\\mathbf{\\hat{b}_y}$$"
      ],
      "text/plain": [
       "q1'*B.x + q2'*B.y + L*q3'*E.y"
      ]
     },
     "execution_count": 23,
     "metadata": {},
     "output_type": "execute_result"
    }
   ],
   "source": [
    "P2.set_vel(B, P2.pos_from(O).dt(B))\n",
    "P2.vel(B)"
   ]
  },
  {
   "cell_type": "code",
   "execution_count": 24,
   "metadata": {},
   "outputs": [
    {
     "data": {
      "image/png": "[encoded data removed]",
      "text/latex": [
       "$$(- L \\operatorname{sin}\\left(q_{3}\\right) \\dot{q}_{3} + \\dot{q}_{1})\\mathbf{\\hat{b}_x} + (L \\operatorname{cos}\\left(q_{3}\\right) \\dot{q}_{3} + \\dot{q}_{2})\\mathbf{\\hat{b}_y} + (- L \\omega \\operatorname{cos}\\left(q_{3}\\right) - \\omega q_{1})\\mathbf{\\hat{b}_z}$$"
      ],
      "text/plain": [
       "(-L*sin(q3)*q3' + q1')*B.x + (L*cos(q3)*q3' + q2')*B.y + (-L*omega*cos(q3) - omega*q1)*B.z"
      ]
     },
     "execution_count": 24,
     "metadata": {},
     "output_type": "execute_result"
    }
   ],
   "source": [
    "P2.v1pt_theory(O, A, B).express(B)"
   ]
  },
  {
   "cell_type": "code",
   "execution_count": 25,
   "metadata": {},
   "outputs": [
    {
     "data": {
      "image/png": "[encoded data removed]",
      "text/latex": [
       "$$(- L \\omega^{2} \\operatorname{cos}\\left(q_{3}\\right) - L \\operatorname{sin}\\left(q_{3}\\right) \\ddot{q}_{3} - L \\operatorname{cos}\\left(q_{3}\\right) \\dot{q}_{3}^{2} - \\omega^{2} q_{1} + \\ddot{q}_{1})\\mathbf{\\hat{b}_x} + (- L \\operatorname{sin}\\left(q_{3}\\right) \\dot{q}_{3}^{2} + L \\operatorname{cos}\\left(q_{3}\\right) \\ddot{q}_{3} + \\ddot{q}_{2})\\mathbf{\\hat{b}_y} + 2 \\omega \\left(L \\operatorname{sin}\\left(q_{3}\\right) \\dot{q}_{3} - \\dot{q}_{1}\\right)\\mathbf{\\hat{b}_z}$$"
      ],
      "text/plain": [
       "(-L*omega**2*cos(q3) - L*sin(q3)*q3'' - L*cos(q3)*q3'**2 - omega**2*q1 + q1'')*B.x + (-L*sin(q3)*q3'**2 + L*cos(q3)*q3'' + q2'')*B.y + 2*omega*(L*sin(q3)*q3' - q1')*B.z"
      ]
     },
     "execution_count": 25,
     "metadata": {},
     "output_type": "execute_result"
    }
   ],
   "source": [
    "P2.a1pt_theory(O, A, B).express(B).simplify()"
   ]
  },
  {
   "cell_type": "markdown",
   "metadata": {},
   "source": [
    "tinyurl.com/mae223-feedback"
   ]
  }
 ],
 "metadata": {
  "kernelspec": {
   "display_name": "Python 3",
   "language": "python",
   "name": "python3"
  },
  "language_info": {
   "codemirror_mode": {
    "name": "ipython",
    "version": 3
   },
   "file_extension": ".py",
   "mimetype": "text/x-python",
   "name": "python",
   "nbconvert_exporter": "python",
   "pygments_lexer": "ipython3",
   "version": "3.6.2"
  }
 },
 "nbformat": 4,
 "nbformat_minor": 2
}
