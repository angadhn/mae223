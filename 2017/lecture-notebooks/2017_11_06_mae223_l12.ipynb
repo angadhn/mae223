{
 "cells": [
  {
   "cell_type": "code",
   "execution_count": 1,
   "metadata": {},
   "outputs": [],
   "source": [
    "import sympy as sm\n",
    "import sympy.physics.mechanics as me\n",
    "me.init_vprinting(use_latex=True, pretty_print=False)"
   ]
  },
  {
   "cell_type": "code",
   "execution_count": 2,
   "metadata": {},
   "outputs": [],
   "source": [
    "A = me.ReferenceFrame('A')"
   ]
  },
  {
   "cell_type": "code",
   "execution_count": 3,
   "metadata": {},
   "outputs": [],
   "source": [
    "Ic = me.inertia?"
   ]
  },
  {
   "cell_type": "code",
   "execution_count": 4,
   "metadata": {},
   "outputs": [
    {
     "data": {
      "image/png": "[encoded data removed]",
      "text/latex": [
       "$$2\\mathbf{\\hat{a}_x}\\otimes \\mathbf{\\hat{a}_x} + 3\\mathbf{\\hat{a}_y}\\otimes \\mathbf{\\hat{a}_y} + 4\\mathbf{\\hat{a}_y}\\otimes \\mathbf{\\hat{a}_z} + 4\\mathbf{\\hat{a}_z}\\otimes \\mathbf{\\hat{a}_y} + 9\\mathbf{\\hat{a}_z}\\otimes \\mathbf{\\hat{a}_z}$$"
      ],
      "text/plain": [
       "2*(A.x|A.x) + 3*(A.y|A.y) + 4*(A.y|A.z) + 4*(A.z|A.y) + 9*(A.z|A.z)"
      ]
     },
     "execution_count": 4,
     "metadata": {},
     "output_type": "execute_result"
    }
   ],
   "source": [
    "Ic = me.inertia(A, 2, 3, 9, 0, 4, 0)\n",
    "Ic"
   ]
  },
  {
   "cell_type": "code",
   "execution_count": 6,
   "metadata": {},
   "outputs": [
    {
     "data": {
      "image/png": "[encoded data removed]",
      "text/latex": [
       "$$\\left[\\begin{matrix}2 & 0 & 0\\\\0 & 3 & 4\\\\0 & 4 & 9\\end{matrix}\\right]$$"
      ],
      "text/plain": [
       "Matrix([\n",
       "[2, 0, 0],\n",
       "[0, 3, 4],\n",
       "[0, 4, 9]])"
      ]
     },
     "execution_count": 6,
     "metadata": {},
     "output_type": "execute_result"
    }
   ],
   "source": [
    "Ic_mat = Ic.to_matrix(A)\n",
    "Ic_mat"
   ]
  },
  {
   "cell_type": "code",
   "execution_count": 8,
   "metadata": {},
   "outputs": [
    {
     "data": {
      "image/png": "[encoded data removed]",
      "text/latex": [
       "$$\\left \\{ 1 : 1, \\quad 2 : 1, \\quad 11 : 1\\right \\}$$"
      ],
      "text/plain": [
       "{1: 1, 2: 1, 11: 1}"
      ]
     },
     "execution_count": 8,
     "metadata": {},
     "output_type": "execute_result"
    }
   ],
   "source": [
    "Ic_mat.eigenvals()"
   ]
  },
  {
   "cell_type": "code",
   "execution_count": 10,
   "metadata": {},
   "outputs": [
    {
     "data": {
      "image/png": "[encoded data removed]",
      "text/latex": [
       "$$\\left [ 11, \\quad 2, \\quad 1\\right ]$$"
      ],
      "text/plain": [
       "[11, 2, 1]"
      ]
     },
     "execution_count": 10,
     "metadata": {},
     "output_type": "execute_result"
    }
   ],
   "source": [
    "list(Ic_mat.eigenvals().keys())"
   ]
  },
  {
   "cell_type": "code",
   "execution_count": 12,
   "metadata": {},
   "outputs": [
    {
     "data": {
      "image/png": "[encoded data removed]",
      "text/latex": [
       "$$\\left [ \\left ( 1, \\quad 1, \\quad \\left [ \\left[\\begin{matrix}0\\\\-2\\\\1\\end{matrix}\\right]\\right ]\\right ), \\quad \\left ( 2, \\quad 1, \\quad \\left [ \\left[\\begin{matrix}1\\\\0\\\\0\\end{matrix}\\right]\\right ]\\right ), \\quad \\left ( 11, \\quad 1, \\quad \\left [ \\left[\\begin{matrix}0\\\\\\frac{1}{2}\\\\1\\end{matrix}\\right]\\right ]\\right )\\right ]$$"
      ],
      "text/plain": [
       "[(1, 1, [Matrix([\n",
       "[ 0],\n",
       "[-2],\n",
       "[ 1]])]), (2, 1, [Matrix([\n",
       "[1],\n",
       "[0],\n",
       "[0]])]), (11, 1, [Matrix([\n",
       "[  0],\n",
       "[1/2],\n",
       "[  1]])])]"
      ]
     },
     "execution_count": 12,
     "metadata": {},
     "output_type": "execute_result"
    }
   ],
   "source": [
    "evecs = Ic_mat.eigenvects()\n",
    "evecs"
   ]
  },
  {
   "cell_type": "code",
   "execution_count": 16,
   "metadata": {},
   "outputs": [
    {
     "data": {
      "image/png": "[encoded data removed]",
      "text/latex": [
       "$$\\left ( 1, \\quad 1, \\quad \\left [ \\left[\\begin{matrix}0\\\\-2\\\\1\\end{matrix}\\right]\\right ]\\right )$$"
      ],
      "text/plain": [
       "(1, 1, [Matrix([\n",
       "[ 0],\n",
       "[-2],\n",
       "[ 1]])])"
      ]
     },
     "execution_count": 16,
     "metadata": {},
     "output_type": "execute_result"
    }
   ],
   "source": [
    "evecs[0]"
   ]
  },
  {
   "cell_type": "code",
   "execution_count": 15,
   "metadata": {},
   "outputs": [
    {
     "data": {
      "image/png": "[encoded data removed]",
      "text/latex": [
       "$$1$$"
      ],
      "text/plain": [
       "1"
      ]
     },
     "execution_count": 15,
     "metadata": {},
     "output_type": "execute_result"
    }
   ],
   "source": [
    "eval1 = evecs[0][0]\n",
    "eval1"
   ]
  },
  {
   "cell_type": "code",
   "execution_count": 22,
   "metadata": {},
   "outputs": [
    {
     "data": {
      "image/png": "[encoded data removed]",
      "text/latex": [
       "$$\\left[\\begin{matrix}0\\\\-2\\\\1\\end{matrix}\\right]$$"
      ],
      "text/plain": [
       "Matrix([\n",
       "[ 0],\n",
       "[-2],\n",
       "[ 1]])"
      ]
     },
     "execution_count": 22,
     "metadata": {},
     "output_type": "execute_result"
    }
   ],
   "source": [
    "evec1 = evecs[0][2][0]\n",
    "evec1"
   ]
  },
  {
   "cell_type": "code",
   "execution_count": 23,
   "metadata": {},
   "outputs": [],
   "source": [
    "eval2 = evecs[1][0]\n",
    "evec2 = evecs[1][2][0]\n",
    "eval3 = evecs[2][0]\n",
    "evec3 = evecs[2][2][0]"
   ]
  },
  {
   "cell_type": "code",
   "execution_count": 24,
   "metadata": {},
   "outputs": [
    {
     "data": {
      "image/png": "[encoded data removed]",
      "text/latex": [
       "$$\\left ( 1, \\quad 2, \\quad 11\\right )$$"
      ],
      "text/plain": [
       "(1, 2, 11)"
      ]
     },
     "execution_count": 24,
     "metadata": {},
     "output_type": "execute_result"
    }
   ],
   "source": [
    "eval1, eval2, eval3"
   ]
  },
  {
   "cell_type": "code",
   "execution_count": 25,
   "metadata": {},
   "outputs": [
    {
     "data": {
      "image/png": "[encoded data removed]",
      "text/latex": [
       "$$\\left ( \\left[\\begin{matrix}0\\\\-2\\\\1\\end{matrix}\\right], \\quad \\left[\\begin{matrix}1\\\\0\\\\0\\end{matrix}\\right], \\quad \\left[\\begin{matrix}0\\\\\\frac{1}{2}\\\\1\\end{matrix}\\right]\\right )$$"
      ],
      "text/plain": [
       "(Matrix([\n",
       "[ 0],\n",
       "[-2],\n",
       "[ 1]]), Matrix([\n",
       "[1],\n",
       "[0],\n",
       "[0]]), Matrix([\n",
       "[  0],\n",
       "[1/2],\n",
       "[  1]]))"
      ]
     },
     "execution_count": 25,
     "metadata": {},
     "output_type": "execute_result"
    }
   ],
   "source": [
    "evec1, evec2, evec3"
   ]
  },
  {
   "cell_type": "code",
   "execution_count": 28,
   "metadata": {},
   "outputs": [
    {
     "data": {
      "image/png": "[encoded data removed]",
      "text/latex": [
       "$$\\left ( \\left[\\begin{matrix}0\\\\- \\frac{2 \\sqrt{5}}{5}\\\\\\frac{\\sqrt{5}}{5}\\end{matrix}\\right], \\quad \\left[\\begin{matrix}1\\\\0\\\\0\\end{matrix}\\right], \\quad \\left[\\begin{matrix}0\\\\\\frac{\\sqrt{5}}{5}\\\\\\frac{2 \\sqrt{5}}{5}\\end{matrix}\\right]\\right )$$"
      ],
      "text/plain": [
       "(Matrix([\n",
       "[           0],\n",
       "[-2*sqrt(5)/5],\n",
       "[   sqrt(5)/5]]), Matrix([\n",
       "[1],\n",
       "[0],\n",
       "[0]]), Matrix([\n",
       "[          0],\n",
       "[  sqrt(5)/5],\n",
       "[2*sqrt(5)/5]]))"
      ]
     },
     "execution_count": 28,
     "metadata": {},
     "output_type": "execute_result"
    }
   ],
   "source": [
    "evec1.normalized(), evec2.normalized(), evec3.normalized()"
   ]
  },
  {
   "cell_type": "code",
   "execution_count": 29,
   "metadata": {},
   "outputs": [],
   "source": [
    "a, b, c, d, e, f = sm.symbols('a, b, c, d, e, f', real=True)"
   ]
  },
  {
   "cell_type": "code",
   "execution_count": 30,
   "metadata": {},
   "outputs": [
    {
     "data": {
      "image/png": "[encoded data removed]",
      "text/latex": [
       "$$\\left[\\begin{matrix}a & d & f\\\\d & b & e\\\\f & e & c\\end{matrix}\\right]$$"
      ],
      "text/plain": [
       "Matrix([\n",
       "[a, d, f],\n",
       "[d, b, e],\n",
       "[f, e, c]])"
      ]
     },
     "execution_count": 30,
     "metadata": {},
     "output_type": "execute_result"
    }
   ],
   "source": [
    "Ic_mat = me.inertia(A, a, b, c, d, e, f).to_matrix(A)\n",
    "Ic_mat"
   ]
  },
  {
   "cell_type": "code",
   "execution_count": 33,
   "metadata": {},
   "outputs": [],
   "source": [
    "exprs =list(Ic_mat.eigenvals().keys())"
   ]
  },
  {
   "cell_type": "code",
   "execution_count": 34,
   "metadata": {},
   "outputs": [],
   "source": [
    "func = sm.lambdify((a, b, c, d, e, f), exprs)"
   ]
  },
  {
   "cell_type": "code",
   "execution_count": 35,
   "metadata": {},
   "outputs": [
    {
     "data": {
      "text/plain": [
       "function"
      ]
     },
     "execution_count": 35,
     "metadata": {},
     "output_type": "execute_result"
    }
   ],
   "source": [
    "type(func)"
   ]
  },
  {
   "cell_type": "code",
   "execution_count": 37,
   "metadata": {},
   "outputs": [
    {
     "data": {
      "text/plain": [
       "float"
      ]
     },
     "execution_count": 37,
     "metadata": {},
     "output_type": "execute_result"
    }
   ],
   "source": [
    "type(1.0)"
   ]
  },
  {
   "cell_type": "code",
   "execution_count": 38,
   "metadata": {},
   "outputs": [
    {
     "data": {
      "text/plain": [
       "complex"
      ]
     },
     "execution_count": 38,
     "metadata": {},
     "output_type": "execute_result"
    }
   ],
   "source": [
    "type(1.0+0.0j)"
   ]
  },
  {
   "cell_type": "code",
   "execution_count": 39,
   "metadata": {},
   "outputs": [
    {
     "data": {
      "text/plain": [
       "[(1+1.3322676295501878e-15j),\n",
       " (11+4.9960036108132044e-16j),\n",
       " (1.9999999999999991-1.3322676295501878e-15j)]"
      ]
     },
     "execution_count": 39,
     "metadata": {},
     "output_type": "execute_result"
    }
   ],
   "source": [
    "func(2+0j, 3+0j, 9+0j, 0+0j, 4+0j, 0+0j)"
   ]
  },
  {
   "cell_type": "code",
   "execution_count": 42,
   "metadata": {},
   "outputs": [
    {
     "data": {
      "image/png": "[encoded data removed]",
      "text/latex": [
       "$$\\sqrt{a^{2} + b^{3}}$$"
      ],
      "text/plain": [
       "sqrt(a**2 + b**3)"
      ]
     },
     "execution_count": 42,
     "metadata": {},
     "output_type": "execute_result"
    }
   ],
   "source": [
    "expr = sm.sqrt(a**2 + b**3)\n",
    "expr"
   ]
  },
  {
   "cell_type": "code",
   "execution_count": 43,
   "metadata": {},
   "outputs": [],
   "source": [
    "f = sm.lambdify((a, b), expr)"
   ]
  },
  {
   "cell_type": "code",
   "execution_count": 44,
   "metadata": {},
   "outputs": [
    {
     "data": {
      "image/png": "[encoded data removed]",
      "text/latex": [
       "$$3.0$$"
      ],
      "text/plain": [
       "3.0"
      ]
     },
     "execution_count": 44,
     "metadata": {},
     "output_type": "execute_result"
    }
   ],
   "source": [
    "f(1.0, 2.0)"
   ]
  },
  {
   "cell_type": "code",
   "execution_count": 45,
   "metadata": {},
   "outputs": [],
   "source": [
    "import numpy as np"
   ]
  },
  {
   "cell_type": "code",
   "execution_count": 46,
   "metadata": {},
   "outputs": [
    {
     "data": {
      "text/plain": [
       "array([1, 2, 3])"
      ]
     },
     "execution_count": 46,
     "metadata": {},
     "output_type": "execute_result"
    }
   ],
   "source": [
    "v1 = np.array([1, 2, 3])\n",
    "v1"
   ]
  },
  {
   "cell_type": "code",
   "execution_count": 47,
   "metadata": {},
   "outputs": [
    {
     "data": {
      "text/plain": [
       "array([2, 6, 8])"
      ]
     },
     "execution_count": 47,
     "metadata": {},
     "output_type": "execute_result"
    }
   ],
   "source": [
    "v2 = np.array([2, 6, 8])\n",
    "v2"
   ]
  },
  {
   "cell_type": "code",
   "execution_count": 48,
   "metadata": {},
   "outputs": [
    {
     "data": {
      "text/plain": [
       "array([  3.        ,  14.83239697,  22.82542442])"
      ]
     },
     "execution_count": 48,
     "metadata": {},
     "output_type": "execute_result"
    }
   ],
   "source": [
    "f(v1, v2)"
   ]
  },
  {
   "cell_type": "code",
   "execution_count": null,
   "metadata": {},
   "outputs": [],
   "source": []
  }
 ],
 "metadata": {
  "kernelspec": {
   "display_name": "Python 3",
   "language": "python",
   "name": "python3"
  },
  "language_info": {
   "codemirror_mode": {
    "name": "ipython",
    "version": 3
   },
   "file_extension": ".py",
   "mimetype": "text/x-python",
   "name": "python",
   "nbconvert_exporter": "python",
   "pygments_lexer": "ipython3",
   "version": "3.6.2"
  }
 },
 "nbformat": 4,
 "nbformat_minor": 2
}
