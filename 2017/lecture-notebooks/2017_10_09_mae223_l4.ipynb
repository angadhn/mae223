{
 "cells": [
  {
   "cell_type": "code",
   "execution_count": 4,
   "metadata": {},
   "outputs": [],
   "source": [
    "import sympy as sm\n",
    "import sympy.physics.mechanics as me\n",
    "me.init_vprinting(use_latex=True, pretty_print=False)"
   ]
  },
  {
   "cell_type": "code",
   "execution_count": 21,
   "metadata": {},
   "outputs": [
    {
     "data": {
      "image/png": "[encoded data removed]",
      "text/latex": [
       "$$\\left ( I_{1}, \\quad I_{2}, \\quad I_{3}\\right )$$"
      ],
      "text/plain": [
       "(I1, I2, I3)"
      ]
     },
     "execution_count": 21,
     "metadata": {},
     "output_type": "execute_result"
    }
   ],
   "source": [
    "I1, I2, I3 = sm.symbols('I1:4')\n",
    "I1, I2, I3"
   ]
  },
  {
   "cell_type": "code",
   "execution_count": 22,
   "metadata": {},
   "outputs": [
    {
     "data": {
      "image/png": "[encoded data removed]",
      "text/latex": [
       "$$\\left ( \\omega_{1}, \\quad \\omega_{2}, \\quad \\omega_{3}\\right )$$"
      ],
      "text/plain": [
       "(omega1, omega2, omega3)"
      ]
     },
     "execution_count": 22,
     "metadata": {},
     "output_type": "execute_result"
    }
   ],
   "source": [
    "w1, w2, w3 = me.dynamicsymbols('omega1:4')\n",
    "w1, w2, w3"
   ]
  },
  {
   "cell_type": "code",
   "execution_count": 23,
   "metadata": {},
   "outputs": [],
   "source": [
    "N = me.ReferenceFrame('N')  # inertial RF"
   ]
  },
  {
   "cell_type": "code",
   "execution_count": 24,
   "metadata": {},
   "outputs": [],
   "source": [
    "B = me.ReferenceFrame('B')  # body fixed RF"
   ]
  },
  {
   "cell_type": "code",
   "execution_count": 25,
   "metadata": {},
   "outputs": [],
   "source": [
    "B.orient(N, 'Axis', (w1, N.x))"
   ]
  },
  {
   "cell_type": "code",
   "execution_count": 26,
   "metadata": {},
   "outputs": [
    {
     "data": {
      "text/latex": [
       "$$\\left[\\begin{matrix}1 & 0 & 0\\\\0 & \\operatorname{cos}\\left(\\omega_{1}\\right) & \\operatorname{sin}\\left(\\omega_{1}\\right)\\\\0 & - \\operatorname{sin}\\left(\\omega_{1}\\right) & \\operatorname{cos}\\left(\\omega_{1}\\right)\\end{matrix}\\right]$$"
      ],
      "text/plain": [
       "Matrix([\n",
       "[1,            0,           0],\n",
       "[0,  cos(omega1), sin(omega1)],\n",
       "[0, -sin(omega1), cos(omega1)]])"
      ]
     },
     "execution_count": 26,
     "metadata": {},
     "output_type": "execute_result"
    }
   ],
   "source": [
    "B.dcm(N)"
   ]
  },
  {
   "cell_type": "code",
   "execution_count": 27,
   "metadata": {},
   "outputs": [
    {
     "data": {
      "image/png": "[encoded data removed]",
      "text/latex": [
       "$$\\dot{\\omega}_{1}\\mathbf{\\hat{n}_x}$$"
      ],
      "text/plain": [
       "omega1'*N.x"
      ]
     },
     "execution_count": 27,
     "metadata": {},
     "output_type": "execute_result"
    }
   ],
   "source": [
    "B.ang_vel_in(N)"
   ]
  },
  {
   "cell_type": "code",
   "execution_count": 28,
   "metadata": {},
   "outputs": [],
   "source": [
    "N = me.ReferenceFrame('N')\n",
    "B = me.ReferenceFrame('B')"
   ]
  },
  {
   "cell_type": "markdown",
   "metadata": {},
   "source": [
    "$$^N\\bar{\\omega}^B$$"
   ]
  },
  {
   "cell_type": "code",
   "execution_count": 29,
   "metadata": {},
   "outputs": [],
   "source": [
    "# error because no dcm\n",
    "#B.ang_vel_in(N)"
   ]
  },
  {
   "cell_type": "code",
   "execution_count": 30,
   "metadata": {},
   "outputs": [],
   "source": [
    "B.set_ang_vel?"
   ]
  },
  {
   "cell_type": "code",
   "execution_count": 31,
   "metadata": {},
   "outputs": [],
   "source": [
    "B.set_ang_vel(N, w1 * B.x + w2 * B.y + w3 * B.z)"
   ]
  },
  {
   "cell_type": "code",
   "execution_count": 32,
   "metadata": {},
   "outputs": [
    {
     "data": {
      "image/png": "[encoded data removed]",
      "text/latex": [
       "$$\\omega_{1}\\mathbf{\\hat{b}_x} + \\omega_{2}\\mathbf{\\hat{b}_y} + \\omega_{3}\\mathbf{\\hat{b}_z}$$"
      ],
      "text/plain": [
       "omega1*B.x + omega2*B.y + omega3*B.z"
      ]
     },
     "execution_count": 32,
     "metadata": {},
     "output_type": "execute_result"
    }
   ],
   "source": [
    "B.ang_vel_in(N)"
   ]
  },
  {
   "cell_type": "code",
   "execution_count": 33,
   "metadata": {},
   "outputs": [
    {
     "data": {
      "image/png": "[encoded data removed]",
      "text/latex": [
       "$$I_{1} \\omega_{1}\\mathbf{\\hat{b}_x} + I_{2} \\omega_{2}\\mathbf{\\hat{b}_y} + I_{3} \\omega_{3}\\mathbf{\\hat{b}_z}$$"
      ],
      "text/plain": [
       "I1*omega1*B.x + I2*omega2*B.y + I3*omega3*B.z"
      ]
     },
     "execution_count": 33,
     "metadata": {},
     "output_type": "execute_result"
    }
   ],
   "source": [
    "Hc = I1 * w1 * B.x + I2 * w2 * B.y + I3 * w3 * B.z\n",
    "Hc"
   ]
  },
  {
   "cell_type": "code",
   "execution_count": 34,
   "metadata": {},
   "outputs": [
    {
     "data": {
      "image/png": "[encoded data removed]",
      "text/latex": [
       "$$I_{1} \\dot{\\omega}_{1}\\mathbf{\\hat{b}_x} + I_{2} \\dot{\\omega}_{2}\\mathbf{\\hat{b}_y} + I_{3} \\dot{\\omega}_{3}\\mathbf{\\hat{b}_z}$$"
      ],
      "text/plain": [
       "I1*omega1'*B.x + I2*omega2'*B.y + I3*omega3'*B.z"
      ]
     },
     "execution_count": 34,
     "metadata": {},
     "output_type": "execute_result"
    }
   ],
   "source": [
    "Hc.dt(B)"
   ]
  },
  {
   "cell_type": "code",
   "execution_count": 35,
   "metadata": {},
   "outputs": [
    {
     "data": {
      "image/png": "[encoded data removed]",
      "text/latex": [
       "$$(- I_{2} \\omega_{2} \\omega_{3} + I_{3} \\omega_{2} \\omega_{3})\\mathbf{\\hat{b}_x} + (I_{1} \\omega_{1} \\omega_{3} - I_{3} \\omega_{1} \\omega_{3})\\mathbf{\\hat{b}_y} + (- I_{1} \\omega_{1} \\omega_{2} + I_{2} \\omega_{1} \\omega_{2})\\mathbf{\\hat{b}_z}$$"
      ],
      "text/plain": [
       "(-I2*omega2*omega3 + I3*omega2*omega3)*B.x + (I1*omega1*omega3 - I3*omega1*omega3)*B.y + (-I1*omega1*omega2 + I2*omega1*omega2)*B.z"
      ]
     },
     "execution_count": 35,
     "metadata": {},
     "output_type": "execute_result"
    }
   ],
   "source": [
    "me.cross(B.ang_vel_in(N), Hc)"
   ]
  },
  {
   "cell_type": "code",
   "execution_count": 37,
   "metadata": {},
   "outputs": [
    {
     "data": {
      "image/png": "[encoded data removed]",
      "text/latex": [
       "$$(I_{1} \\dot{\\omega}_{1} - I_{2} \\omega_{2} \\omega_{3} + I_{3} \\omega_{2} \\omega_{3})\\mathbf{\\hat{b}_x} + (I_{1} \\omega_{1} \\omega_{3} + I_{2} \\dot{\\omega}_{2} - I_{3} \\omega_{1} \\omega_{3})\\mathbf{\\hat{b}_y} + (- I_{1} \\omega_{1} \\omega_{2} + I_{2} \\omega_{1} \\omega_{2} + I_{3} \\dot{\\omega}_{3})\\mathbf{\\hat{b}_z}$$"
      ],
      "text/plain": [
       "(I1*omega1' - I2*omega2*omega3 + I3*omega2*omega3)*B.x + (I1*omega1*omega3 + I2*omega2' - I3*omega1*omega3)*B.y + (-I1*omega1*omega2 + I2*omega1*omega2 + I3*omega3')*B.z"
      ]
     },
     "execution_count": 37,
     "metadata": {},
     "output_type": "execute_result"
    }
   ],
   "source": [
    "Hc.dt(B) + me.cross(B.ang_vel_in(N), Hc)"
   ]
  },
  {
   "cell_type": "code",
   "execution_count": 38,
   "metadata": {},
   "outputs": [],
   "source": [
    "Mc = Hc.dt(B) + me.cross(B.ang_vel_in(N), Hc)"
   ]
  },
  {
   "cell_type": "markdown",
   "metadata": {},
   "source": [
    "Euler's Equations"
   ]
  },
  {
   "cell_type": "code",
   "execution_count": 42,
   "metadata": {},
   "outputs": [
    {
     "data": {
      "text/latex": [
       "$$\\left[\\begin{matrix}M_{1}\\\\M_{2}\\\\M_{3}\\end{matrix}\\right] = \\left[\\begin{matrix}I_{1} \\dot{\\omega}_{1} - I_{2} \\omega_{2} \\omega_{3} + I_{3} \\omega_{2} \\omega_{3}\\\\I_{1} \\omega_{1} \\omega_{3} + I_{2} \\dot{\\omega}_{2} - I_{3} \\omega_{1} \\omega_{3}\\\\- I_{1} \\omega_{1} \\omega_{2} + I_{2} \\omega_{1} \\omega_{2} + I_{3} \\dot{\\omega}_{3}\\end{matrix}\\right]$$"
      ],
      "text/plain": [
       "Eq(Matrix([[M1], [M2], [M3]]), Matrix([[I1*Derivative(omega1(t), t) - I2*omega2(t)*omega3(t) + I3*omega2(t)*omega3(t)], [I1*omega1(t)*omega3(t) + I2*Derivative(omega2(t), t) - I3*omega1(t)*omega3(t)], [-I1*omega1(t)*omega2(t) + I2*omega1(t)*omega2(t) + I3*Derivative(omega3(t), t)]]))"
      ]
     },
     "execution_count": 42,
     "metadata": {},
     "output_type": "execute_result"
    }
   ],
   "source": [
    "sm.Eq(sm.Matrix(sm.symbols('M1:4')), Mc.to_matrix(B))"
   ]
  },
  {
   "cell_type": "code",
   "execution_count": 43,
   "metadata": {},
   "outputs": [
    {
     "data": {
      "image/png": "[encoded data removed]",
      "text/latex": [
       "$$\\omega_{1}\\mathbf{\\hat{n}_x} + \\omega_{2}\\mathbf{\\hat{b}_y}$$"
      ],
      "text/plain": [
       "omega1*N.x + omega2*B.y"
      ]
     },
     "execution_count": 43,
     "metadata": {},
     "output_type": "execute_result"
    }
   ],
   "source": [
    "v = w1 * N.x + w2 * B.y\n",
    "v"
   ]
  },
  {
   "cell_type": "code",
   "execution_count": 45,
   "metadata": {},
   "outputs": [],
   "source": [
    "# v.express(B)"
   ]
  },
  {
   "cell_type": "code",
   "execution_count": 46,
   "metadata": {},
   "outputs": [
    {
     "data": {
      "image/png": "[encoded data removed]",
      "text/latex": [
       "$$\\dot{\\omega}_{1}\\mathbf{\\hat{b}_x} + \\dot{\\omega}_{2}\\mathbf{\\hat{b}_y} + \\dot{\\omega}_{3}\\mathbf{\\hat{b}_z}$$"
      ],
      "text/plain": [
       "omega1'*B.x + omega2'*B.y + omega3'*B.z"
      ]
     },
     "execution_count": 46,
     "metadata": {},
     "output_type": "execute_result"
    }
   ],
   "source": [
    "B.ang_acc_in(N)"
   ]
  },
  {
   "cell_type": "code",
   "execution_count": 47,
   "metadata": {},
   "outputs": [],
   "source": [
    "B.set_ang_acc?"
   ]
  },
  {
   "cell_type": "code",
   "execution_count": null,
   "metadata": {},
   "outputs": [],
   "source": []
  }
 ],
 "metadata": {
  "kernelspec": {
   "display_name": "Python 3",
   "language": "python",
   "name": "python3"
  },
  "language_info": {
   "codemirror_mode": {
    "name": "ipython",
    "version": 3
   },
   "file_extension": ".py",
   "mimetype": "text/x-python",
   "name": "python",
   "nbconvert_exporter": "python",
   "pygments_lexer": "ipython3",
   "version": "3.6.2"
  }
 },
 "nbformat": 4,
 "nbformat_minor": 2
}
