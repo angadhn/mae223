{
 "cells": [
  {
   "cell_type": "code",
   "execution_count": 2,
   "metadata": {},
   "outputs": [],
   "source": [
    "import sympy as sm\n",
    "import sympy.physics.mechanics as me\n",
    "me.init_vprinting(use_latex=True, pretty_print=False)"
   ]
  },
  {
   "cell_type": "code",
   "execution_count": 3,
   "metadata": {},
   "outputs": [],
   "source": [
    "from sympy.abc import a, b, c, d, e, f"
   ]
  },
  {
   "cell_type": "code",
   "execution_count": 4,
   "metadata": {},
   "outputs": [],
   "source": [
    "A = me.ReferenceFrame('A')"
   ]
  },
  {
   "cell_type": "code",
   "execution_count": 5,
   "metadata": {},
   "outputs": [
    {
     "data": {
      "image/png": "[encoded data removed]",
      "text/latex": [
       "$$a\\mathbf{\\hat{a}_x} + b\\mathbf{\\hat{a}_y} + c\\mathbf{\\hat{a}_z}$$"
      ],
      "text/plain": [
       "a*A.x + b*A.y + c*A.z"
      ]
     },
     "execution_count": 5,
     "metadata": {},
     "output_type": "execute_result"
    }
   ],
   "source": [
    "v = a * A.x + b * A.y + c * A.z\n",
    "v"
   ]
  },
  {
   "cell_type": "code",
   "execution_count": 8,
   "metadata": {},
   "outputs": [
    {
     "data": {
      "image/png": "[encoded data removed]",
      "text/latex": [
       "$$a^{2}\\mathbf{\\hat{a}_x}\\otimes \\mathbf{\\hat{a}_x} + a b\\mathbf{\\hat{a}_x}\\otimes \\mathbf{\\hat{a}_y} + a c\\mathbf{\\hat{a}_x}\\otimes \\mathbf{\\hat{a}_z} + a b\\mathbf{\\hat{a}_y}\\otimes \\mathbf{\\hat{a}_x} + b^{2}\\mathbf{\\hat{a}_y}\\otimes \\mathbf{\\hat{a}_y} + b c\\mathbf{\\hat{a}_y}\\otimes \\mathbf{\\hat{a}_z} + a c\\mathbf{\\hat{a}_z}\\otimes \\mathbf{\\hat{a}_x} + b c\\mathbf{\\hat{a}_z}\\otimes \\mathbf{\\hat{a}_y} + c^{2}\\mathbf{\\hat{a}_z}\\otimes \\mathbf{\\hat{a}_z}$$"
      ],
      "text/plain": [
       "a**2*(A.x|A.x) + a*b*(A.x|A.y) + a*c*(A.x|A.z) + a*b*(A.y|A.x) + b**2*(A.y|A.y) + b*c*(A.y|A.z) + a*c*(A.z|A.x) + b*c*(A.z|A.y) + c**2*(A.z|A.z)"
      ]
     },
     "execution_count": 8,
     "metadata": {},
     "output_type": "execute_result"
    }
   ],
   "source": [
    "D = v.outer(v)\n",
    "D"
   ]
  },
  {
   "cell_type": "code",
   "execution_count": 9,
   "metadata": {},
   "outputs": [
    {
     "data": {
      "image/png": "[encoded data removed]",
      "text/latex": [
       "$$\\left[\\begin{matrix}a\\\\b\\\\c\\end{matrix}\\right]$$"
      ],
      "text/plain": [
       "Matrix([\n",
       "[a],\n",
       "[b],\n",
       "[c]])"
      ]
     },
     "execution_count": 9,
     "metadata": {},
     "output_type": "execute_result"
    }
   ],
   "source": [
    "v.to_matrix(A)"
   ]
  },
  {
   "cell_type": "code",
   "execution_count": 10,
   "metadata": {},
   "outputs": [
    {
     "data": {
      "image/png": "[encoded data removed]",
      "text/latex": [
       "$$\\left[\\begin{matrix}a^{2} & a b & a c\\\\a b & b^{2} & b c\\\\a c & b c & c^{2}\\end{matrix}\\right]$$"
      ],
      "text/plain": [
       "Matrix([\n",
       "[a**2,  a*b,  a*c],\n",
       "[ a*b, b**2,  b*c],\n",
       "[ a*c,  b*c, c**2]])"
      ]
     },
     "execution_count": 10,
     "metadata": {},
     "output_type": "execute_result"
    }
   ],
   "source": [
    "D.to_matrix(A)"
   ]
  },
  {
   "cell_type": "code",
   "execution_count": 12,
   "metadata": {},
   "outputs": [
    {
     "data": {
      "image/png": "[encoded data removed]",
      "text/latex": [
       "$$\\left[\\begin{matrix}1\\\\0\\\\0\\end{matrix}\\right]$$"
      ],
      "text/plain": [
       "Matrix([\n",
       "[1],\n",
       "[0],\n",
       "[0]])"
      ]
     },
     "execution_count": 12,
     "metadata": {},
     "output_type": "execute_result"
    }
   ],
   "source": [
    "A.x.to_matrix(A)"
   ]
  },
  {
   "cell_type": "code",
   "execution_count": 11,
   "metadata": {},
   "outputs": [
    {
     "data": {
      "image/png": "[encoded data removed]",
      "text/latex": [
       "$$\\mathbf{\\hat{a}_x}\\otimes \\mathbf{\\hat{a}_x}$$"
      ],
      "text/plain": [
       "(A.x|A.x)"
      ]
     },
     "execution_count": 11,
     "metadata": {},
     "output_type": "execute_result"
    }
   ],
   "source": [
    "A.x.outer(A.x)"
   ]
  },
  {
   "cell_type": "code",
   "execution_count": 13,
   "metadata": {},
   "outputs": [
    {
     "data": {
      "image/png": "[encoded data removed]",
      "text/latex": [
       "$$\\left[\\begin{matrix}1 & 0 & 0\\\\0 & 0 & 0\\\\0 & 0 & 0\\end{matrix}\\right]$$"
      ],
      "text/plain": [
       "Matrix([\n",
       "[1, 0, 0],\n",
       "[0, 0, 0],\n",
       "[0, 0, 0]])"
      ]
     },
     "execution_count": 13,
     "metadata": {},
     "output_type": "execute_result"
    }
   ],
   "source": [
    "A.x.outer(A.x).to_matrix(A)"
   ]
  },
  {
   "cell_type": "code",
   "execution_count": 14,
   "metadata": {},
   "outputs": [
    {
     "data": {
      "image/png": "[encoded data removed]",
      "text/latex": [
       "$$\\left[\\begin{matrix}0 & 1 & 0\\\\0 & 0 & 0\\\\0 & 0 & 0\\end{matrix}\\right]$$"
      ],
      "text/plain": [
       "Matrix([\n",
       "[0, 1, 0],\n",
       "[0, 0, 0],\n",
       "[0, 0, 0]])"
      ]
     },
     "execution_count": 14,
     "metadata": {},
     "output_type": "execute_result"
    }
   ],
   "source": [
    "A.x.outer(A.y).to_matrix(A)"
   ]
  },
  {
   "cell_type": "code",
   "execution_count": 15,
   "metadata": {},
   "outputs": [
    {
     "data": {
      "image/png": "[encoded data removed]",
      "text/latex": [
       "$$\\left[\\begin{matrix}5 & 10 & 0\\\\0 & 0 & 0\\\\0 & 0 & 0\\end{matrix}\\right]$$"
      ],
      "text/plain": [
       "Matrix([\n",
       "[5, 10, 0],\n",
       "[0,  0, 0],\n",
       "[0,  0, 0]])"
      ]
     },
     "execution_count": 15,
     "metadata": {},
     "output_type": "execute_result"
    }
   ],
   "source": [
    "5 * A.x.outer(A.x).to_matrix(A) + 10 * A.x.outer(A.y).to_matrix(A)"
   ]
  },
  {
   "cell_type": "code",
   "execution_count": 16,
   "metadata": {},
   "outputs": [
    {
     "data": {
      "image/png": "[encoded data removed]",
      "text/latex": [
       "$$d\\mathbf{\\hat{a}_x} + e\\mathbf{\\hat{a}_y} + f\\mathbf{\\hat{a}_z}$$"
      ],
      "text/plain": [
       "d*A.x + e*A.y + f*A.z"
      ]
     },
     "execution_count": 16,
     "metadata": {},
     "output_type": "execute_result"
    }
   ],
   "source": [
    "w = d * A.x + e * A.y + f * A.z\n",
    "w"
   ]
  },
  {
   "cell_type": "code",
   "execution_count": 17,
   "metadata": {},
   "outputs": [
    {
     "data": {
      "image/png": "[encoded data removed]",
      "text/latex": [
       "$$a\\mathbf{\\hat{a}_x} + b\\mathbf{\\hat{a}_y} + c\\mathbf{\\hat{a}_z}$$"
      ],
      "text/plain": [
       "a*A.x + b*A.y + c*A.z"
      ]
     },
     "execution_count": 17,
     "metadata": {},
     "output_type": "execute_result"
    }
   ],
   "source": [
    "v"
   ]
  },
  {
   "cell_type": "code",
   "execution_count": 18,
   "metadata": {},
   "outputs": [
    {
     "data": {
      "image/png": "[encoded data removed]",
      "text/latex": [
       "$$a d\\mathbf{\\hat{a}_x}\\otimes \\mathbf{\\hat{a}_x} + a e\\mathbf{\\hat{a}_x}\\otimes \\mathbf{\\hat{a}_y} + a f\\mathbf{\\hat{a}_x}\\otimes \\mathbf{\\hat{a}_z} + b d\\mathbf{\\hat{a}_y}\\otimes \\mathbf{\\hat{a}_x} + b e\\mathbf{\\hat{a}_y}\\otimes \\mathbf{\\hat{a}_y} + b f\\mathbf{\\hat{a}_y}\\otimes \\mathbf{\\hat{a}_z} + c d\\mathbf{\\hat{a}_z}\\otimes \\mathbf{\\hat{a}_x} + c e\\mathbf{\\hat{a}_z}\\otimes \\mathbf{\\hat{a}_y} + c f\\mathbf{\\hat{a}_z}\\otimes \\mathbf{\\hat{a}_z}$$"
      ],
      "text/plain": [
       "a*d*(A.x|A.x) + a*e*(A.x|A.y) + a*f*(A.x|A.z) + b*d*(A.y|A.x) + b*e*(A.y|A.y) + b*f*(A.y|A.z) + c*d*(A.z|A.x) + c*e*(A.z|A.y) + c*f*(A.z|A.z)"
      ]
     },
     "execution_count": 18,
     "metadata": {},
     "output_type": "execute_result"
    }
   ],
   "source": [
    "v.outer(w)"
   ]
  },
  {
   "cell_type": "code",
   "execution_count": 19,
   "metadata": {},
   "outputs": [],
   "source": [
    "B = A.orientnew('B', 'Axis', (5, A.x))"
   ]
  },
  {
   "cell_type": "code",
   "execution_count": 20,
   "metadata": {},
   "outputs": [
    {
     "data": {
      "image/png": "[encoded data removed]",
      "text/latex": [
       "$$\\left[\\begin{matrix}1 & 0 & 0\\\\0 & \\operatorname{cos}\\left(5\\right) & \\operatorname{sin}\\left(5\\right)\\\\0 & - \\operatorname{sin}\\left(5\\right) & \\operatorname{cos}\\left(5\\right)\\end{matrix}\\right]$$"
      ],
      "text/plain": [
       "Matrix([\n",
       "[1,       0,      0],\n",
       "[0,  cos(5), sin(5)],\n",
       "[0, -sin(5), cos(5)]])"
      ]
     },
     "execution_count": 20,
     "metadata": {},
     "output_type": "execute_result"
    }
   ],
   "source": [
    "B.dcm(A)"
   ]
  },
  {
   "cell_type": "code",
   "execution_count": 21,
   "metadata": {},
   "outputs": [],
   "source": [
    "u = 2 * A.x + 3 * B.y"
   ]
  },
  {
   "cell_type": "code",
   "execution_count": 22,
   "metadata": {},
   "outputs": [
    {
     "data": {
      "image/png": "[encoded data removed]",
      "text/latex": [
       "$$2\\mathbf{\\hat{a}_x} + 3\\mathbf{\\hat{b}_y}$$"
      ],
      "text/plain": [
       "2*A.x + 3*B.y"
      ]
     },
     "execution_count": 22,
     "metadata": {},
     "output_type": "execute_result"
    }
   ],
   "source": [
    "u"
   ]
  },
  {
   "cell_type": "code",
   "execution_count": 23,
   "metadata": {},
   "outputs": [
    {
     "data": {
      "image/png": "[encoded data removed]",
      "text/latex": [
       "$$2\\mathbf{\\hat{a}_x} + 3 \\operatorname{cos}\\left(5\\right)\\mathbf{\\hat{a}_y} + 3 \\operatorname{sin}\\left(5\\right)\\mathbf{\\hat{a}_z}$$"
      ],
      "text/plain": [
       "2*A.x + 3*cos(5)*A.y + 3*sin(5)*A.z"
      ]
     },
     "execution_count": 23,
     "metadata": {},
     "output_type": "execute_result"
    }
   ],
   "source": [
    "u.express(A)"
   ]
  },
  {
   "cell_type": "code",
   "execution_count": 24,
   "metadata": {},
   "outputs": [
    {
     "data": {
      "image/png": "[encoded data removed]",
      "text/latex": [
       "$$5\\mathbf{\\hat{b}_x} + 8\\mathbf{\\hat{a}_y} + 10\\mathbf{\\hat{a}_z}$$"
      ],
      "text/plain": [
       "8*A.y + 10*A.z + 5*B.x"
      ]
     },
     "execution_count": 24,
     "metadata": {},
     "output_type": "execute_result"
    }
   ],
   "source": [
    "r = 5 * B.x + 8 * A.y + 10 * A.z\n",
    "r"
   ]
  },
  {
   "cell_type": "code",
   "execution_count": 25,
   "metadata": {},
   "outputs": [
    {
     "data": {
      "image/png": "[encoded data removed]",
      "text/latex": [
       "$$2\\mathbf{\\hat{a}_x} + 3\\mathbf{\\hat{b}_y}$$"
      ],
      "text/plain": [
       "2*A.x + 3*B.y"
      ]
     },
     "execution_count": 25,
     "metadata": {},
     "output_type": "execute_result"
    }
   ],
   "source": [
    "u"
   ]
  },
  {
   "cell_type": "code",
   "execution_count": 27,
   "metadata": {},
   "outputs": [
    {
     "data": {
      "image/png": "[encoded data removed]",
      "text/latex": [
       "$$10\\mathbf{\\hat{b}_x}\\otimes \\mathbf{\\hat{a}_x} + 15\\mathbf{\\hat{b}_x}\\otimes \\mathbf{\\hat{b}_y} + 16\\mathbf{\\hat{a}_y}\\otimes \\mathbf{\\hat{a}_x} + 20\\mathbf{\\hat{a}_z}\\otimes \\mathbf{\\hat{a}_x} + 24\\mathbf{\\hat{a}_y}\\otimes \\mathbf{\\hat{b}_y} + 30\\mathbf{\\hat{a}_z}\\otimes \\mathbf{\\hat{b}_y}$$"
      ],
      "text/plain": [
       "10*(B.x|A.x) + 15*(B.x|B.y) + 16*(A.y|A.x) + 20*(A.z|A.x) + 24*(A.y|B.y) + 30*(A.z|B.y)"
      ]
     },
     "execution_count": 27,
     "metadata": {},
     "output_type": "execute_result"
    }
   ],
   "source": [
    "Q = r.outer(u)\n",
    "Q"
   ]
  },
  {
   "cell_type": "code",
   "execution_count": 28,
   "metadata": {},
   "outputs": [
    {
     "data": {
      "image/png": "[encoded data removed]",
      "text/latex": [
       "$$10\\mathbf{\\hat{b}_x}\\otimes \\mathbf{\\hat{b}_x} + 15\\mathbf{\\hat{b}_x}\\otimes \\mathbf{\\hat{b}_y} + (20 \\operatorname{sin}\\left(5\\right) + 16 \\operatorname{cos}\\left(5\\right))\\mathbf{\\hat{b}_y}\\otimes \\mathbf{\\hat{b}_x} + (20 \\operatorname{cos}\\left(5\\right) - 16 \\operatorname{sin}\\left(5\\right))\\mathbf{\\hat{b}_z}\\otimes \\mathbf{\\hat{b}_x} + (30 \\operatorname{sin}\\left(5\\right) + 24 \\operatorname{cos}\\left(5\\right))\\mathbf{\\hat{b}_y}\\otimes \\mathbf{\\hat{b}_y} + (30 \\operatorname{cos}\\left(5\\right) - 24 \\operatorname{sin}\\left(5\\right))\\mathbf{\\hat{b}_z}\\otimes \\mathbf{\\hat{b}_y}$$"
      ],
      "text/plain": [
       "10*(B.x|B.x) + 15*(B.x|B.y) + (20*sin(5) + 16*cos(5))*(B.y|B.x) + (20*cos(5) - 16*sin(5))*(B.z|B.x) + (30*sin(5) + 24*cos(5))*(B.y|B.y) + (30*cos(5) - 24*sin(5))*(B.z|B.y)"
      ]
     },
     "execution_count": 28,
     "metadata": {},
     "output_type": "execute_result"
    }
   ],
   "source": [
    "Q.express(B)"
   ]
  },
  {
   "cell_type": "code",
   "execution_count": 29,
   "metadata": {},
   "outputs": [
    {
     "data": {
      "image/png": "[encoded data removed]",
      "text/latex": [
       "$$10\\mathbf{\\hat{a}_x}\\otimes \\mathbf{\\hat{a}_x} + 15 \\operatorname{cos}\\left(5\\right)\\mathbf{\\hat{a}_x}\\otimes \\mathbf{\\hat{a}_y} + 15 \\operatorname{sin}\\left(5\\right)\\mathbf{\\hat{a}_x}\\otimes \\mathbf{\\hat{a}_z} + 16\\mathbf{\\hat{a}_y}\\otimes \\mathbf{\\hat{a}_x} + 20\\mathbf{\\hat{a}_z}\\otimes \\mathbf{\\hat{a}_x} + 24 \\operatorname{cos}\\left(5\\right)\\mathbf{\\hat{a}_y}\\otimes \\mathbf{\\hat{a}_y} + 24 \\operatorname{sin}\\left(5\\right)\\mathbf{\\hat{a}_y}\\otimes \\mathbf{\\hat{a}_z} + 30 \\operatorname{cos}\\left(5\\right)\\mathbf{\\hat{a}_z}\\otimes \\mathbf{\\hat{a}_y} + 30 \\operatorname{sin}\\left(5\\right)\\mathbf{\\hat{a}_z}\\otimes \\mathbf{\\hat{a}_z}$$"
      ],
      "text/plain": [
       "10*(A.x|A.x) + 15*cos(5)*(A.x|A.y) + 15*sin(5)*(A.x|A.z) + 16*(A.y|A.x) + 20*(A.z|A.x) + 24*cos(5)*(A.y|A.y) + 24*sin(5)*(A.y|A.z) + 30*cos(5)*(A.z|A.y) + 30*sin(5)*(A.z|A.z)"
      ]
     },
     "execution_count": 29,
     "metadata": {},
     "output_type": "execute_result"
    }
   ],
   "source": [
    "Q.express(A)"
   ]
  },
  {
   "cell_type": "code",
   "execution_count": 30,
   "metadata": {},
   "outputs": [
    {
     "data": {
      "image/png": "[encoded data removed]",
      "text/latex": [
       "$$\\left[\\begin{matrix}10 & 15 \\operatorname{cos}\\left(5\\right) & 15 \\operatorname{sin}\\left(5\\right)\\\\16 & 24 \\operatorname{cos}\\left(5\\right) & 24 \\operatorname{sin}\\left(5\\right)\\\\20 & 30 \\operatorname{cos}\\left(5\\right) & 30 \\operatorname{sin}\\left(5\\right)\\end{matrix}\\right]$$"
      ],
      "text/plain": [
       "Matrix([\n",
       "[10, 15*cos(5), 15*sin(5)],\n",
       "[16, 24*cos(5), 24*sin(5)],\n",
       "[20, 30*cos(5), 30*sin(5)]])"
      ]
     },
     "execution_count": 30,
     "metadata": {},
     "output_type": "execute_result"
    }
   ],
   "source": [
    "Q.to_matrix(A)"
   ]
  },
  {
   "cell_type": "code",
   "execution_count": 31,
   "metadata": {},
   "outputs": [
    {
     "data": {
      "image/png": "[encoded data removed]",
      "text/latex": [
       "$$\\left[\\begin{matrix}10 & 15 & 0\\\\20 \\operatorname{sin}\\left(5\\right) + 16 \\operatorname{cos}\\left(5\\right) & 30 \\operatorname{sin}\\left(5\\right) + 24 \\operatorname{cos}\\left(5\\right) & 0\\\\20 \\operatorname{cos}\\left(5\\right) - 16 \\operatorname{sin}\\left(5\\right) & 30 \\operatorname{cos}\\left(5\\right) - 24 \\operatorname{sin}\\left(5\\right) & 0\\end{matrix}\\right]$$"
      ],
      "text/plain": [
       "Matrix([\n",
       "[                   10,                    15, 0],\n",
       "[20*sin(5) + 16*cos(5), 30*sin(5) + 24*cos(5), 0],\n",
       "[20*cos(5) - 16*sin(5), 30*cos(5) - 24*sin(5), 0]])"
      ]
     },
     "execution_count": 31,
     "metadata": {},
     "output_type": "execute_result"
    }
   ],
   "source": [
    "Q.to_matrix(B)"
   ]
  },
  {
   "cell_type": "code",
   "execution_count": 33,
   "metadata": {},
   "outputs": [
    {
     "data": {
      "image/png": "[encoded data removed]",
      "text/latex": [
       "$$\\mathbf{\\hat{a}_x}\\otimes \\mathbf{\\hat{a}_x} + 2\\mathbf{\\hat{a}_y}\\otimes \\mathbf{\\hat{a}_y} + 3\\mathbf{\\hat{a}_z}\\otimes \\mathbf{\\hat{a}_z}$$"
      ],
      "text/plain": [
       "(A.x|A.x) + 2*(A.y|A.y) + 3*(A.z|A.z)"
      ]
     },
     "execution_count": 33,
     "metadata": {},
     "output_type": "execute_result"
    }
   ],
   "source": [
    "me.inertia(A, 1, 2, 3)"
   ]
  },
  {
   "cell_type": "code",
   "execution_count": 35,
   "metadata": {},
   "outputs": [
    {
     "data": {
      "image/png": "[encoded data removed]",
      "text/latex": [
       "$$\\mathbf{\\hat{a}_x}\\otimes \\mathbf{\\hat{a}_x} + 4\\mathbf{\\hat{a}_x}\\otimes \\mathbf{\\hat{a}_y} + 6\\mathbf{\\hat{a}_x}\\otimes \\mathbf{\\hat{a}_z} + 4\\mathbf{\\hat{a}_y}\\otimes \\mathbf{\\hat{a}_x} + 2\\mathbf{\\hat{a}_y}\\otimes \\mathbf{\\hat{a}_y} + 5\\mathbf{\\hat{a}_y}\\otimes \\mathbf{\\hat{a}_z} + 6\\mathbf{\\hat{a}_z}\\otimes \\mathbf{\\hat{a}_x} + 5\\mathbf{\\hat{a}_z}\\otimes \\mathbf{\\hat{a}_y} + 3\\mathbf{\\hat{a}_z}\\otimes \\mathbf{\\hat{a}_z}$$"
      ],
      "text/plain": [
       "(A.x|A.x) + 4*(A.x|A.y) + 6*(A.x|A.z) + 4*(A.y|A.x) + 2*(A.y|A.y) + 5*(A.y|A.z) + 6*(A.z|A.x) + 5*(A.z|A.y) + 3*(A.z|A.z)"
      ]
     },
     "execution_count": 35,
     "metadata": {},
     "output_type": "execute_result"
    }
   ],
   "source": [
    "me.inertia(A, 1, 2, 3, 4, 5, 6)"
   ]
  },
  {
   "cell_type": "code",
   "execution_count": 36,
   "metadata": {},
   "outputs": [
    {
     "data": {
      "image/png": "[encoded data removed]",
      "text/latex": [
       "$$\\left[\\begin{matrix}1 & 4 & 6\\\\4 & 2 & 5\\\\6 & 5 & 3\\end{matrix}\\right]$$"
      ],
      "text/plain": [
       "Matrix([\n",
       "[1, 4, 6],\n",
       "[4, 2, 5],\n",
       "[6, 5, 3]])"
      ]
     },
     "execution_count": 36,
     "metadata": {},
     "output_type": "execute_result"
    }
   ],
   "source": [
    "me.inertia(A, 1, 2, 3, 4, 5, 6).to_matrix(A)"
   ]
  },
  {
   "cell_type": "code",
   "execution_count": null,
   "metadata": {},
   "outputs": [],
   "source": []
  }
 ],
 "metadata": {
  "kernelspec": {
   "display_name": "Python 3",
   "language": "python",
   "name": "python3"
  },
  "language_info": {
   "codemirror_mode": {
    "name": "ipython",
    "version": 3
   },
   "file_extension": ".py",
   "mimetype": "text/x-python",
   "name": "python",
   "nbconvert_exporter": "python",
   "pygments_lexer": "ipython3",
   "version": "3.6.2"
  }
 },
 "nbformat": 4,
 "nbformat_minor": 2
}
