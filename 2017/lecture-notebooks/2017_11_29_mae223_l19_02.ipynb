{
 "cells": [
  {
   "cell_type": "markdown",
   "metadata": {},
   "source": [
    "# Rolling Disc with 3D Visualization"
   ]
  },
  {
   "cell_type": "code",
   "execution_count": 1,
   "metadata": {
    "collapsed": true,
    "deletable": true,
    "editable": true
   },
   "outputs": [],
   "source": [
    "import sympy as sm\n",
    "import sympy.physics.mechanics as me"
   ]
  },
  {
   "cell_type": "code",
   "execution_count": 2,
   "metadata": {
    "collapsed": true,
    "deletable": true,
    "editable": true
   },
   "outputs": [],
   "source": [
    "me.init_vprinting(use_latex=True, pretty_print=False)"
   ]
  },
  {
   "cell_type": "markdown",
   "metadata": {
    "deletable": true,
    "editable": true
   },
   "source": [
    "# Constants\n",
    "\n",
    "- $m$: mass of the thin disc\n",
    "- $r$: radius of the thin disc\n",
    "- $g$: acceleration due to gravity"
   ]
  },
  {
   "cell_type": "code",
   "execution_count": 3,
   "metadata": {
    "collapsed": true,
    "deletable": true,
    "editable": true
   },
   "outputs": [],
   "source": [
    "m, r, g = sm.symbols('m, r, g')"
   ]
  },
  {
   "cell_type": "markdown",
   "metadata": {
    "deletable": true,
    "editable": true
   },
   "source": [
    "# Generalized Coordinates and Speeds\n",
    "\n",
    "- $q_1$: yaw angle\n",
    "- $q_2$: roll angle\n",
    "- $q_3$: pitch (spin) angle\n",
    "- $x$: location of the ground/wheel contact point in the ground plane\n",
    "- $y$: location of the ground/wheel contact point in the ground plane"
   ]
  },
  {
   "cell_type": "code",
   "execution_count": 4,
   "metadata": {
    "collapsed": true,
    "deletable": true,
    "editable": true
   },
   "outputs": [],
   "source": [
    "q1, q2, q3, x, y = me.dynamicsymbols('q1, q2, q3, x, y')"
   ]
  },
  {
   "cell_type": "code",
   "execution_count": 5,
   "metadata": {
    "collapsed": true,
    "deletable": true,
    "editable": true
   },
   "outputs": [],
   "source": [
    "u1, u2, u3, vx, vy = me.dynamicsymbols('u1, u2, u3, v_x, v_y')"
   ]
  },
  {
   "cell_type": "markdown",
   "metadata": {
    "deletable": true,
    "editable": true
   },
   "source": [
    "# Reference Frames"
   ]
  },
  {
   "cell_type": "code",
   "execution_count": 6,
   "metadata": {
    "collapsed": true,
    "deletable": true,
    "editable": true
   },
   "outputs": [],
   "source": [
    "N = me.ReferenceFrame('N')"
   ]
  },
  {
   "cell_type": "markdown",
   "metadata": {},
   "source": [
    "Yaw"
   ]
  },
  {
   "cell_type": "code",
   "execution_count": 7,
   "metadata": {
    "collapsed": true,
    "deletable": true,
    "editable": true
   },
   "outputs": [],
   "source": [
    "Y = N.orientnew('Y', 'Axis', (q1, N.z))"
   ]
  },
  {
   "cell_type": "markdown",
   "metadata": {},
   "source": [
    "Roll"
   ]
  },
  {
   "cell_type": "code",
   "execution_count": 8,
   "metadata": {
    "collapsed": true,
    "deletable": true,
    "editable": true
   },
   "outputs": [],
   "source": [
    "L = Y.orientnew('L', 'Axis', (q2, Y.y))"
   ]
  },
  {
   "cell_type": "markdown",
   "metadata": {},
   "source": [
    "Pitch (spin)"
   ]
  },
  {
   "cell_type": "code",
   "execution_count": 9,
   "metadata": {
    "collapsed": true,
    "deletable": true,
    "editable": true
   },
   "outputs": [],
   "source": [
    "R = L.orientnew('R', 'Axis', (q3, L.x))"
   ]
  },
  {
   "cell_type": "code",
   "execution_count": 10,
   "metadata": {
    "collapsed": false,
    "deletable": true,
    "editable": true
   },
   "outputs": [
    {
     "data": {
      "image/png": "[encoded data removed]",
      "text/latex": [
       "$$\\left[\\begin{matrix}\\operatorname{cos}\\left(q_{1}\\right) \\operatorname{cos}\\left(q_{2}\\right) & \\operatorname{sin}\\left(q_{1}\\right) \\operatorname{cos}\\left(q_{2}\\right) & - \\operatorname{sin}\\left(q_{2}\\right)\\\\- \\operatorname{sin}\\left(q_{1}\\right) \\operatorname{cos}\\left(q_{3}\\right) + \\operatorname{sin}\\left(q_{2}\\right) \\operatorname{sin}\\left(q_{3}\\right) \\operatorname{cos}\\left(q_{1}\\right) & \\operatorname{sin}\\left(q_{1}\\right) \\operatorname{sin}\\left(q_{2}\\right) \\operatorname{sin}\\left(q_{3}\\right) + \\operatorname{cos}\\left(q_{1}\\right) \\operatorname{cos}\\left(q_{3}\\right) & \\operatorname{sin}\\left(q_{3}\\right) \\operatorname{cos}\\left(q_{2}\\right)\\\\\\operatorname{sin}\\left(q_{1}\\right) \\operatorname{sin}\\left(q_{3}\\right) + \\operatorname{sin}\\left(q_{2}\\right) \\operatorname{cos}\\left(q_{1}\\right) \\operatorname{cos}\\left(q_{3}\\right) & \\operatorname{sin}\\left(q_{1}\\right) \\operatorname{sin}\\left(q_{2}\\right) \\operatorname{cos}\\left(q_{3}\\right) - \\operatorname{sin}\\left(q_{3}\\right) \\operatorname{cos}\\left(q_{1}\\right) & \\operatorname{cos}\\left(q_{2}\\right) \\operatorname{cos}\\left(q_{3}\\right)\\end{matrix}\\right]$$"
      ],
      "text/plain": [
       "Matrix([\n",
       "[                           cos(q1)*cos(q2),                           sin(q1)*cos(q2),        -sin(q2)],\n",
       "[-sin(q1)*cos(q3) + sin(q2)*sin(q3)*cos(q1), sin(q1)*sin(q2)*sin(q3) + cos(q1)*cos(q3), sin(q3)*cos(q2)],\n",
       "[ sin(q1)*sin(q3) + sin(q2)*cos(q1)*cos(q3), sin(q1)*sin(q2)*cos(q3) - sin(q3)*cos(q1), cos(q2)*cos(q3)]])"
      ]
     },
     "execution_count": 10,
     "metadata": {},
     "output_type": "execute_result"
    }
   ],
   "source": [
    "sm.trigsimp(R.dcm(N))"
   ]
  },
  {
   "cell_type": "code",
   "execution_count": 11,
   "metadata": {
    "collapsed": true,
    "deletable": true,
    "editable": true
   },
   "outputs": [],
   "source": [
    "#R = N.orientnew('R', 'Body', (q1, q2, q3), 'ZYX')  # equivalent to above\n",
    "#R.dcm(N)"
   ]
  },
  {
   "cell_type": "markdown",
   "metadata": {
    "deletable": true,
    "editable": true
   },
   "source": [
    "# Angular Velocity and Kinematic Differential Equations\n",
    "\n",
    "Calculate the angular velocity of $R$ in $N$ automatically based on the orientation and express in the $L$ frame and store the resulting vector in a variable."
   ]
  },
  {
   "cell_type": "code",
   "execution_count": 12,
   "metadata": {
    "collapsed": false,
    "deletable": true,
    "editable": true
   },
   "outputs": [
    {
     "data": {
      "image/png": "[encoded data removed]",
      "text/latex": [
       "$$(- \\operatorname{sin}\\left(q_{2}\\right) \\dot{q}_{1} + \\dot{q}_{3})\\mathbf{\\hat{l}_x} + \\dot{q}_{2}\\mathbf{\\hat{l}_y} + \\operatorname{cos}\\left(q_{2}\\right) \\dot{q}_{1}\\mathbf{\\hat{l}_z}$$"
      ],
      "text/plain": [
       "(-sin(q2)*q1' + q3')*L.x + q2'*L.y + cos(q2)*q1'*L.z"
      ]
     },
     "execution_count": 12,
     "metadata": {},
     "output_type": "execute_result"
    }
   ],
   "source": [
    "w_R_N_qd = R.ang_vel_in(N)\n",
    "w_R_N_qd.express(L)"
   ]
  },
  {
   "cell_type": "markdown",
   "metadata": {
    "deletable": true,
    "editable": true
   },
   "source": [
    "Now overwrite the angular velocity of $R$ in $N$ to be in terms of the generalized speeds that we desire. In this case, we choose the generalized speeds to be the measure numbers of the angular velocity of $R$ in $N$ and the time derivatives of $x$ and $y$."
   ]
  },
  {
   "cell_type": "code",
   "execution_count": 13,
   "metadata": {
    "collapsed": false,
    "deletable": true,
    "editable": true
   },
   "outputs": [
    {
     "data": {
      "image/png": "[encoded data removed]",
      "text/latex": [
       "$$u_{1}\\mathbf{\\hat{l}_x} + u_{2}\\mathbf{\\hat{l}_y} + u_{3}\\mathbf{\\hat{l}_z}$$"
      ],
      "text/plain": [
       "u1*L.x + u2*L.y + u3*L.z"
      ]
     },
     "execution_count": 13,
     "metadata": {},
     "output_type": "execute_result"
    }
   ],
   "source": [
    "R.set_ang_vel(N, u1 * L.x + u2 * L.y + u3 * L.z)\n",
    "R.ang_vel_in(N)"
   ]
  },
  {
   "cell_type": "markdown",
   "metadata": {
    "deletable": true,
    "editable": true
   },
   "source": [
    "Now we can calculate the kinematical differential equations for the first three generalized speeds."
   ]
  },
  {
   "cell_type": "code",
   "execution_count": 14,
   "metadata": {
    "collapsed": false,
    "deletable": true,
    "editable": true
   },
   "outputs": [
    {
     "data": {
      "image/png": "[encoded data removed]",
      "text/latex": [
       "$$\\left [ u_{1} + \\operatorname{sin}\\left(q_{2}\\right) \\dot{q}_{1} - \\dot{q}_{3}, \\quad u_{2} - \\dot{q}_{2}, \\quad u_{3} - \\operatorname{cos}\\left(q_{2}\\right) \\dot{q}_{1}\\right ]$$"
      ],
      "text/plain": [
       "[u1 + sin(q2)*q1' - q3', u2 - q2', u3 - cos(q2)*q1']"
      ]
     },
     "execution_count": 14,
     "metadata": {},
     "output_type": "execute_result"
    }
   ],
   "source": [
    "kd = [me.dot(R.ang_vel_in(N) - w_R_N_qd, uv) for uv in L]\n",
    "kd"
   ]
  },
  {
   "cell_type": "markdown",
   "metadata": {
    "deletable": true,
    "editable": true
   },
   "source": [
    "Append the simple defintion of the remaining speeds, $v_x$ and $v_y$."
   ]
  },
  {
   "cell_type": "code",
   "execution_count": 15,
   "metadata": {
    "collapsed": false,
    "deletable": true,
    "editable": true
   },
   "outputs": [
    {
     "data": {
      "image/png": "[encoded data removed]",
      "text/latex": [
       "$$\\left [ u_{1} + \\operatorname{sin}\\left(q_{2}\\right) \\dot{q}_{1} - \\dot{q}_{3}, \\quad u_{2} - \\dot{q}_{2}, \\quad u_{3} - \\operatorname{cos}\\left(q_{2}\\right) \\dot{q}_{1}, \\quad v_{x} - \\dot{x}, \\quad v_{y} - \\dot{y}\\right ]$$"
      ],
      "text/plain": [
       "[u1 + sin(q2)*q1' - q3', u2 - q2', u3 - cos(q2)*q1', v_x - x', v_y - y']"
      ]
     },
     "execution_count": 15,
     "metadata": {},
     "output_type": "execute_result"
    }
   ],
   "source": [
    "kd = kd + [vx - x.diff(), vy - y.diff()]\n",
    "kd"
   ]
  },
  {
   "cell_type": "markdown",
   "metadata": {
    "deletable": true,
    "editable": true
   },
   "source": [
    "Solve the kinematrical differential equations for the derivatives of the coordinates, which expresses these in explicit first order form."
   ]
  },
  {
   "cell_type": "code",
   "execution_count": 16,
   "metadata": {
    "collapsed": true,
    "deletable": true,
    "editable": true
   },
   "outputs": [],
   "source": [
    "qdots = sm.solve(kd, q1.diff(), q2.diff(), q3.diff(), x.diff(), y.diff())"
   ]
  },
  {
   "cell_type": "code",
   "execution_count": 17,
   "metadata": {
    "collapsed": false,
    "deletable": true,
    "editable": true
   },
   "outputs": [
    {
     "data": {
      "image/png": "[encoded data removed]",
      "text/latex": [
       "$$\\left \\{ \\dot{q}_{1} : \\frac{u_{3}}{\\operatorname{cos}\\left(q_{2}\\right)}, \\quad \\dot{q}_{2} : u_{2}, \\quad \\dot{q}_{3} : u_{1} + u_{3} \\operatorname{tan}\\left(q_{2}\\right), \\quad \\dot{x} : v_{x}, \\quad \\dot{y} : v_{y}\\right \\}$$"
      ],
      "text/plain": [
       "{q1': u3/cos(q2), q2': u2, q3': u1 + u3*tan(q2), x': v_x, y': v_y}"
      ]
     },
     "execution_count": 17,
     "metadata": {},
     "output_type": "execute_result"
    }
   ],
   "source": [
    "qdots"
   ]
  },
  {
   "cell_type": "markdown",
   "metadata": {
    "deletable": true,
    "editable": true
   },
   "source": [
    "Ensure there are no time derivatives of the coordinates."
   ]
  },
  {
   "cell_type": "code",
   "execution_count": 18,
   "metadata": {
    "collapsed": false,
    "deletable": true,
    "editable": true
   },
   "outputs": [
    {
     "data": {
      "image/png": "[encoded data removed]",
      "text/latex": [
       "$$\\left \\{ \\ddot{q}_{1} : \\frac{u_{2} \\operatorname{sin}\\left(q_{2}\\right)}{\\operatorname{cos}^{2}\\left(q_{2}\\right)} u_{3} + \\frac{\\dot{u}_{3}}{\\operatorname{cos}\\left(q_{2}\\right)}, \\quad \\ddot{q}_{2} : \\dot{u}_{2}, \\quad \\ddot{q}_{3} : \\left(\\operatorname{tan}^{2}\\left(q_{2}\\right) + 1\\right) u_{2} u_{3} + \\operatorname{tan}\\left(q_{2}\\right) \\dot{u}_{3} + \\dot{u}_{1}, \\quad \\ddot{x} : \\dot{v}_{x}, \\quad \\ddot{y} : \\dot{v}_{y}\\right \\}$$"
      ],
      "text/plain": [
       "{q1'': u2*u3*sin(q2)/cos(q2)**2 + u3'/cos(q2), q2'': u2', q3'': (tan(q2)**2 + 1)*u2*u3 + tan(q2)*u3' + u1', x'': v_x', y'': v_y'}"
      ]
     },
     "execution_count": 18,
     "metadata": {},
     "output_type": "execute_result"
    }
   ],
   "source": [
    "qddots = {k.diff(): v.diff(me.dynamicsymbols._t).subs(qdots) for k, v in qdots.items()}\n",
    "qddots"
   ]
  },
  {
   "cell_type": "markdown",
   "metadata": {
    "deletable": true,
    "editable": true
   },
   "source": [
    "# Points\n",
    "\n",
    "Fixed origin:"
   ]
  },
  {
   "cell_type": "code",
   "execution_count": 19,
   "metadata": {
    "collapsed": true,
    "deletable": true,
    "editable": true
   },
   "outputs": [],
   "source": [
    "No = me.Point('No')\n",
    "No.set_vel(N, 0)"
   ]
  },
  {
   "cell_type": "markdown",
   "metadata": {
    "deletable": true,
    "editable": true
   },
   "source": [
    "C is the contact point, the following definition of position says that $C$ is the point moving in $N$ that is always at the location of contact between the wheel and the ground."
   ]
  },
  {
   "cell_type": "code",
   "execution_count": 20,
   "metadata": {
    "collapsed": true,
    "deletable": true,
    "editable": true
   },
   "outputs": [],
   "source": [
    "C = No.locatenew('C', x * N.x + y * N.y)"
   ]
  },
  {
   "cell_type": "markdown",
   "metadata": {},
   "source": [
    "$R_o$ is the mass center and centroidal center of the disc."
   ]
  },
  {
   "cell_type": "code",
   "execution_count": 21,
   "metadata": {
    "collapsed": false,
    "deletable": true,
    "editable": true
   },
   "outputs": [
    {
     "data": {
      "image/png": "[encoded data removed]",
      "text/latex": [
       "$$r\\mathbf{\\hat{l}_z} + x\\mathbf{\\hat{n}_x} + y\\mathbf{\\hat{n}_y}$$"
      ],
      "text/plain": [
       "x*N.x + y*N.y + r*L.z"
      ]
     },
     "execution_count": 21,
     "metadata": {},
     "output_type": "execute_result"
    }
   ],
   "source": [
    "Ro = C.locatenew('Ro', r * L.z)\n",
    "Ro.pos_from(No)"
   ]
  },
  {
   "cell_type": "markdown",
   "metadata": {
    "deletable": true,
    "editable": true
   },
   "source": [
    "# Linear Velocities\n",
    "\n",
    "We want these velocities to be in terms of the generalized coordinates and speeds only, so make some subsitutions."
   ]
  },
  {
   "cell_type": "code",
   "execution_count": 22,
   "metadata": {
    "collapsed": true,
    "deletable": true,
    "editable": true
   },
   "outputs": [],
   "source": [
    "C.set_vel(N, vx * N.x + vy * N.y)"
   ]
  },
  {
   "cell_type": "code",
   "execution_count": 23,
   "metadata": {
    "collapsed": false,
    "deletable": true,
    "editable": true
   },
   "outputs": [
    {
     "data": {
      "image/png": "[encoded data removed]",
      "text/latex": [
       "$$r u_{2}\\mathbf{\\hat{l}_x} -  r \\left(u_{1} - \\dot{q}_{3}\\right)\\mathbf{\\hat{l}_y} + v_{x}\\mathbf{\\hat{n}_x} + v_{y}\\mathbf{\\hat{n}_y}$$"
      ],
      "text/plain": [
       "v_x*N.x + v_y*N.y + r*u2*L.x - r*(u1 - q3')*L.y"
      ]
     },
     "execution_count": 23,
     "metadata": {},
     "output_type": "execute_result"
    }
   ],
   "source": [
    "v_Ro_N = Ro.v2pt_theory(C, N, L)\n",
    "v_Ro_N"
   ]
  },
  {
   "cell_type": "code",
   "execution_count": 24,
   "metadata": {
    "collapsed": false,
    "deletable": true,
    "editable": true
   },
   "outputs": [
    {
     "data": {
      "image/png": "[encoded data removed]",
      "text/latex": [
       "$$r u_{2}\\mathbf{\\hat{l}_x} + r u_{3} \\operatorname{tan}\\left(q_{2}\\right)\\mathbf{\\hat{l}_y} + v_{x}\\mathbf{\\hat{n}_x} + v_{y}\\mathbf{\\hat{n}_y}$$"
      ],
      "text/plain": [
       "v_x*N.x + v_y*N.y + r*u2*L.x + r*u3*tan(q2)*L.y"
      ]
     },
     "execution_count": 24,
     "metadata": {},
     "output_type": "execute_result"
    }
   ],
   "source": [
    "Ro.set_vel(N, v_Ro_N.subs(qdots))\n",
    "Ro.vel(N)"
   ]
  },
  {
   "cell_type": "markdown",
   "metadata": {
    "deletable": true,
    "editable": true
   },
   "source": [
    "# Linear accelerations"
   ]
  },
  {
   "cell_type": "code",
   "execution_count": 25,
   "metadata": {
    "collapsed": false,
    "deletable": true,
    "editable": true
   },
   "outputs": [
    {
     "data": {
      "image/png": "[encoded data removed]",
      "text/latex": [
       "$$(r \\left(u_{1} - \\dot{q}_{3}\\right) u_{3} + r \\dot{u}_{2})\\mathbf{\\hat{l}_x} + (- r \\left(\\dot{u}_{1} - \\ddot{q}_{3}\\right) + r u_{2} u_{3})\\mathbf{\\hat{l}_y} + (- r \\left(u_{1} - \\dot{q}_{3}\\right)^{2} - r u^{2}_{2})\\mathbf{\\hat{l}_z} + \\dot{v}_{x}\\mathbf{\\hat{n}_x} + \\dot{v}_{y}\\mathbf{\\hat{n}_y}$$"
      ],
      "text/plain": [
       "v_x'*N.x + v_y'*N.y + (r*(u1 - q3')*u3 + r*u2')*L.x + (-r*(u1' - q3'') + r*u2*u3)*L.y + (-r*(u1 - q3')**2 - r*u2**2)*L.z"
      ]
     },
     "execution_count": 25,
     "metadata": {},
     "output_type": "execute_result"
    }
   ],
   "source": [
    "a_Ro_N = Ro.a2pt_theory(C, N, L)\n",
    "a_Ro_N"
   ]
  },
  {
   "cell_type": "code",
   "execution_count": 26,
   "metadata": {
    "collapsed": false,
    "deletable": true,
    "editable": true
   },
   "outputs": [
    {
     "data": {
      "image/png": "[encoded data removed]",
      "text/latex": [
       "$$r \\left(- u^{2}_{3} \\operatorname{tan}\\left(q_{2}\\right) + \\dot{u}_{2}\\right)\\mathbf{\\hat{l}_x} + r \\left(u_{2} u_{3} + \\frac{u_{2} u_{3}}{\\operatorname{cos}^{2}\\left(q_{2}\\right)} + \\operatorname{tan}\\left(q_{2}\\right) \\dot{u}_{3}\\right)\\mathbf{\\hat{l}_y} -  r \\left(u^{2}_{2} + u^{2}_{3} \\operatorname{tan}^{2}\\left(q_{2}\\right)\\right)\\mathbf{\\hat{l}_z} + \\dot{v}_{x}\\mathbf{\\hat{n}_x} + \\dot{v}_{y}\\mathbf{\\hat{n}_y}$$"
      ],
      "text/plain": [
       "v_x'*N.x + v_y'*N.y + r*(-u3**2*tan(q2) + u2')*L.x + r*(u2*u3 + u2*u3/cos(q2)**2 + tan(q2)*u3')*L.y - r*(u2**2 + u3**2*tan(q2)**2)*L.z"
      ]
     },
     "execution_count": 26,
     "metadata": {},
     "output_type": "execute_result"
    }
   ],
   "source": [
    "a_Ro_N.subs(qddots).subs(qdots).simplify()"
   ]
  },
  {
   "cell_type": "code",
   "execution_count": 27,
   "metadata": {
    "collapsed": true,
    "deletable": true,
    "editable": true
   },
   "outputs": [],
   "source": [
    "Ro.set_acc(N, a_Ro_N.subs(qddots).subs(qdots))"
   ]
  },
  {
   "cell_type": "markdown",
   "metadata": {
    "deletable": true,
    "editable": true
   },
   "source": [
    "# Velocity constraints\n",
    "\n",
    "There is a rolling without slip velocity constraint between the disc and the ground. If the velocity of a point at $C$ which is fixed in $R$ is computed, then the components of this velocity in the ground plane must be equal to zero."
   ]
  },
  {
   "cell_type": "code",
   "execution_count": 28,
   "metadata": {
    "collapsed": false,
    "deletable": true,
    "editable": true
   },
   "outputs": [
    {
     "data": {
      "image/png": "[encoded data removed]",
      "text/latex": [
       "$$(r u_{1} + r u_{3} \\operatorname{tan}\\left(q_{2}\\right))\\mathbf{\\hat{l}_y} + v_{x}\\mathbf{\\hat{n}_x} + v_{y}\\mathbf{\\hat{n}_y}$$"
      ],
      "text/plain": [
       "v_x*N.x + v_y*N.y + (r*u1 + r*u3*tan(q2))*L.y"
      ]
     },
     "execution_count": 28,
     "metadata": {},
     "output_type": "execute_result"
    }
   ],
   "source": [
    "v_C_N = Ro.vel(N) + R.ang_vel_in(N).cross(C.pos_from(Ro))\n",
    "v_C_N"
   ]
  },
  {
   "cell_type": "code",
   "execution_count": 29,
   "metadata": {
    "collapsed": false,
    "deletable": true,
    "editable": true
   },
   "outputs": [
    {
     "data": {
      "image/png": "[encoded data removed]",
      "text/latex": [
       "$$v_{x} \\operatorname{cos}\\left(q_{1}\\right) + v_{y} \\operatorname{sin}\\left(q_{1}\\right)$$"
      ],
      "text/plain": [
       "v_x*cos(q1) + v_y*sin(q1)"
      ]
     },
     "execution_count": 29,
     "metadata": {},
     "output_type": "execute_result"
    }
   ],
   "source": [
    "con1 = v_C_N.dot(Y.x)\n",
    "con1"
   ]
  },
  {
   "cell_type": "code",
   "execution_count": 30,
   "metadata": {
    "collapsed": false,
    "deletable": true,
    "editable": true
   },
   "outputs": [
    {
     "data": {
      "image/png": "[encoded data removed]",
      "text/latex": [
       "$$r u_{1} + r u_{3} \\operatorname{tan}\\left(q_{2}\\right) - v_{x} \\operatorname{sin}\\left(q_{1}\\right) + v_{y} \\operatorname{cos}\\left(q_{1}\\right)$$"
      ],
      "text/plain": [
       "r*u1 + r*u3*tan(q2) - v_x*sin(q1) + v_y*cos(q1)"
      ]
     },
     "execution_count": 30,
     "metadata": {},
     "output_type": "execute_result"
    }
   ],
   "source": [
    "con2 = v_C_N.dot(Y.y)\n",
    "con2"
   ]
  },
  {
   "cell_type": "code",
   "execution_count": 31,
   "metadata": {
    "collapsed": true,
    "deletable": true,
    "editable": true
   },
   "outputs": [],
   "source": [
    "vel_cons = [con1, con2]"
   ]
  },
  {
   "cell_type": "markdown",
   "metadata": {
    "deletable": true,
    "editable": true
   },
   "source": [
    "We have two velocity constraint equations, so we can solve for the two dependent speeds. Choosing $v_x,v_y$ as the dependent generalized speeds."
   ]
  },
  {
   "cell_type": "code",
   "execution_count": 32,
   "metadata": {
    "collapsed": false,
    "deletable": true,
    "editable": true
   },
   "outputs": [
    {
     "data": {
      "image/png": "[encoded data removed]",
      "text/latex": [
       "$$\\left \\{ v_{x} : r \\left(u_{1} + u_{3} \\operatorname{tan}\\left(q_{2}\\right)\\right) \\operatorname{sin}\\left(q_{1}\\right), \\quad v_{y} : - r \\left(u_{1} + u_{3} \\operatorname{tan}\\left(q_{2}\\right)\\right) \\operatorname{cos}\\left(q_{1}\\right)\\right \\}$$"
      ],
      "text/plain": [
       "{v_x: r*(u1 + u3*tan(q2))*sin(q1), v_y: -r*(u1 + u3*tan(q2))*cos(q1)}"
      ]
     },
     "execution_count": 32,
     "metadata": {},
     "output_type": "execute_result"
    }
   ],
   "source": [
    "dep_speeds = sm.solve(vel_cons, vx, vy)\n",
    "dep_speeds"
   ]
  },
  {
   "cell_type": "markdown",
   "metadata": {
    "deletable": true,
    "editable": true
   },
   "source": [
    "Now substitute these expressions for all of the depdendent speeds in all important velocities and accelerations."
   ]
  },
  {
   "cell_type": "code",
   "execution_count": 33,
   "metadata": {
    "collapsed": false,
    "deletable": true,
    "editable": true
   },
   "outputs": [
    {
     "data": {
      "image/png": "[encoded data removed]",
      "text/latex": [
       "$$r u_{2}\\mathbf{\\hat{l}_x} + r u_{3} \\operatorname{tan}\\left(q_{2}\\right)\\mathbf{\\hat{l}_y} + v_{x}\\mathbf{\\hat{n}_x} + v_{y}\\mathbf{\\hat{n}_y}$$"
      ],
      "text/plain": [
       "v_x*N.x + v_y*N.y + r*u2*L.x + r*u3*tan(q2)*L.y"
      ]
     },
     "execution_count": 33,
     "metadata": {},
     "output_type": "execute_result"
    }
   ],
   "source": [
    "Ro.vel(N)"
   ]
  },
  {
   "cell_type": "code",
   "execution_count": 34,
   "metadata": {
    "collapsed": false,
    "deletable": true,
    "editable": true
   },
   "outputs": [
    {
     "data": {
      "image/png": "[encoded data removed]",
      "text/latex": [
       "$$r u_{2}\\mathbf{\\hat{l}_x} + r u_{3} \\operatorname{tan}\\left(q_{2}\\right)\\mathbf{\\hat{l}_y} + r \\left(u_{1} + u_{3} \\operatorname{tan}\\left(q_{2}\\right)\\right) \\operatorname{sin}\\left(q_{1}\\right)\\mathbf{\\hat{n}_x} -  r \\left(u_{1} + u_{3} \\operatorname{tan}\\left(q_{2}\\right)\\right) \\operatorname{cos}\\left(q_{1}\\right)\\mathbf{\\hat{n}_y}$$"
      ],
      "text/plain": [
       "r*(u1 + u3*tan(q2))*sin(q1)*N.x - r*(u1 + u3*tan(q2))*cos(q1)*N.y + r*u2*L.x + r*u3*tan(q2)*L.y"
      ]
     },
     "execution_count": 34,
     "metadata": {},
     "output_type": "execute_result"
    }
   ],
   "source": [
    "Ro.set_vel(N, Ro.vel(N).subs(dep_speeds))\n",
    "Ro.vel(N)"
   ]
  },
  {
   "cell_type": "code",
   "execution_count": 35,
   "metadata": {
    "collapsed": false,
    "deletable": true,
    "editable": true
   },
   "outputs": [
    {
     "data": {
      "image/png": "[encoded data removed]",
      "text/latex": [
       "$$u_{1}\\mathbf{\\hat{l}_x} + u_{2}\\mathbf{\\hat{l}_y} + u_{3}\\mathbf{\\hat{l}_z}$$"
      ],
      "text/plain": [
       "u1*L.x + u2*L.y + u3*L.z"
      ]
     },
     "execution_count": 35,
     "metadata": {},
     "output_type": "execute_result"
    }
   ],
   "source": [
    "R.ang_vel_in(N)"
   ]
  },
  {
   "cell_type": "code",
   "execution_count": 36,
   "metadata": {
    "collapsed": false,
    "deletable": true,
    "editable": true
   },
   "outputs": [
    {
     "data": {
      "image/png": "[encoded data removed]",
      "text/latex": [
       "$$(- r u^{2}_{3} \\operatorname{tan}\\left(q_{2}\\right) + r \\dot{u}_{2})\\mathbf{\\hat{l}_x} + (- r \\left(- \\left(\\operatorname{tan}^{2}\\left(q_{2}\\right) + 1\\right) u_{2} u_{3} - \\operatorname{tan}\\left(q_{2}\\right) \\dot{u}_{3}\\right) + r u_{2} u_{3})\\mathbf{\\hat{l}_y} + (- r u^{2}_{2} - r u^{2}_{3} \\operatorname{tan}^{2}\\left(q_{2}\\right))\\mathbf{\\hat{l}_z} + \\dot{v}_{x}\\mathbf{\\hat{n}_x} + \\dot{v}_{y}\\mathbf{\\hat{n}_y}$$"
      ],
      "text/plain": [
       "v_x'*N.x + v_y'*N.y + (-r*u3**2*tan(q2) + r*u2')*L.x + (-r*(-(tan(q2)**2 + 1)*u2*u3 - tan(q2)*u3') + r*u2*u3)*L.y + (-r*u2**2 - r*u3**2*tan(q2)**2)*L.z"
      ]
     },
     "execution_count": 36,
     "metadata": {},
     "output_type": "execute_result"
    }
   ],
   "source": [
    "Ro.acc(N)"
   ]
  },
  {
   "cell_type": "code",
   "execution_count": 37,
   "metadata": {
    "collapsed": false,
    "deletable": true,
    "editable": true
   },
   "outputs": [
    {
     "data": {
      "image/png": "[encoded data removed]",
      "text/latex": [
       "$$\\left \\{ \\dot{v}_{x} : \\frac{r \\operatorname{cos}\\left(q_{1}\\right)}{\\operatorname{cos}\\left(q_{2}\\right)} \\left(u_{1} + u_{3} \\operatorname{tan}\\left(q_{2}\\right)\\right) u_{3} + r \\left(\\left(\\operatorname{tan}^{2}\\left(q_{2}\\right) + 1\\right) u_{2} u_{3} + \\operatorname{tan}\\left(q_{2}\\right) \\dot{u}_{3} + \\dot{u}_{1}\\right) \\operatorname{sin}\\left(q_{1}\\right), \\quad \\dot{v}_{y} : \\frac{r \\operatorname{sin}\\left(q_{1}\\right)}{\\operatorname{cos}\\left(q_{2}\\right)} \\left(u_{1} + u_{3} \\operatorname{tan}\\left(q_{2}\\right)\\right) u_{3} - r \\left(\\left(\\operatorname{tan}^{2}\\left(q_{2}\\right) + 1\\right) u_{2} u_{3} + \\operatorname{tan}\\left(q_{2}\\right) \\dot{u}_{3} + \\dot{u}_{1}\\right) \\operatorname{cos}\\left(q_{1}\\right)\\right \\}$$"
      ],
      "text/plain": [
       "{v_x': r*(u1 + u3*tan(q2))*u3*cos(q1)/cos(q2) + r*((tan(q2)**2 + 1)*u2*u3 + tan(q2)*u3' + u1')*sin(q1), v_y': r*(u1 + u3*tan(q2))*u3*sin(q1)/cos(q2) - r*((tan(q2)**2 + 1)*u2*u3 + tan(q2)*u3' + u1')*cos(q1)}"
      ]
     },
     "execution_count": 37,
     "metadata": {},
     "output_type": "execute_result"
    }
   ],
   "source": [
    "t = me.dynamicsymbols._t\n",
    "dep_accs = {k.diff(): v.diff(t).subs(qdots) for k, v in dep_speeds.items()}\n",
    "dep_accs"
   ]
  },
  {
   "cell_type": "code",
   "execution_count": 38,
   "metadata": {
    "collapsed": false,
    "deletable": true,
    "editable": true
   },
   "outputs": [
    {
     "data": {
      "image/png": "[encoded data removed]",
      "text/latex": [
       "$$(- r u^{2}_{3} \\operatorname{tan}\\left(q_{2}\\right) + r \\dot{u}_{2})\\mathbf{\\hat{l}_x} + (- r \\left(- \\left(\\operatorname{tan}^{2}\\left(q_{2}\\right) + 1\\right) u_{2} u_{3} - \\operatorname{tan}\\left(q_{2}\\right) \\dot{u}_{3}\\right) + r u_{2} u_{3})\\mathbf{\\hat{l}_y} + (- r u^{2}_{2} - r u^{2}_{3} \\operatorname{tan}^{2}\\left(q_{2}\\right))\\mathbf{\\hat{l}_z} + (\\frac{r \\operatorname{cos}\\left(q_{1}\\right)}{\\operatorname{cos}\\left(q_{2}\\right)} \\left(u_{1} + u_{3} \\operatorname{tan}\\left(q_{2}\\right)\\right) u_{3} + r \\left(\\left(\\operatorname{tan}^{2}\\left(q_{2}\\right) + 1\\right) u_{2} u_{3} + \\operatorname{tan}\\left(q_{2}\\right) \\dot{u}_{3} + \\dot{u}_{1}\\right) \\operatorname{sin}\\left(q_{1}\\right))\\mathbf{\\hat{n}_x} + (\\frac{r \\operatorname{sin}\\left(q_{1}\\right)}{\\operatorname{cos}\\left(q_{2}\\right)} \\left(u_{1} + u_{3} \\operatorname{tan}\\left(q_{2}\\right)\\right) u_{3} - r \\left(\\left(\\operatorname{tan}^{2}\\left(q_{2}\\right) + 1\\right) u_{2} u_{3} + \\operatorname{tan}\\left(q_{2}\\right) \\dot{u}_{3} + \\dot{u}_{1}\\right) \\operatorname{cos}\\left(q_{1}\\right))\\mathbf{\\hat{n}_y}$$"
      ],
      "text/plain": [
       "(r*(u1 + u3*tan(q2))*u3*cos(q1)/cos(q2) + r*((tan(q2)**2 + 1)*u2*u3 + tan(q2)*u3' + u1')*sin(q1))*N.x + (r*(u1 + u3*tan(q2))*u3*sin(q1)/cos(q2) - r*((tan(q2)**2 + 1)*u2*u3 + tan(q2)*u3' + u1')*cos(q1))*N.y + (-r*u3**2*tan(q2) + r*u2')*L.x + (-r*(-(tan(q2)**2 + 1)*u2*u3 - tan(q2)*u3') + r*u2*u3)*L.y + (-r*u2**2 - r*u3**2*tan(q2)**2)*L.z"
      ]
     },
     "execution_count": 38,
     "metadata": {},
     "output_type": "execute_result"
    }
   ],
   "source": [
    "Ro.set_acc(N, Ro.acc(N).subs(dep_accs).subs(dep_speeds))\n",
    "Ro.acc(N)"
   ]
  },
  {
   "cell_type": "markdown",
   "metadata": {
    "deletable": true,
    "editable": true
   },
   "source": [
    "# Generalized Active Forces\n",
    "\n",
    "Gravity is the only contributing force."
   ]
  },
  {
   "cell_type": "code",
   "execution_count": 39,
   "metadata": {
    "collapsed": true,
    "deletable": true,
    "editable": true
   },
   "outputs": [],
   "source": [
    "loads = [(Ro, -m * g * N.z)]"
   ]
  },
  {
   "cell_type": "markdown",
   "metadata": {
    "deletable": true,
    "editable": true
   },
   "source": [
    "# Generalized Active Inertias\n",
    "\n",
    "Assuming that body $R$ is a thin flat disc the inertia can constructed. The spin axis, body fixed $X$, has the larger moment of inertia."
   ]
  },
  {
   "cell_type": "code",
   "execution_count": 40,
   "metadata": {
    "collapsed": false,
    "deletable": true,
    "editable": true
   },
   "outputs": [
    {
     "data": {
      "image/png": "[encoded data removed]",
      "text/latex": [
       "$$\\frac{m r^{2}}{2}\\mathbf{\\hat{r}_x}\\otimes \\mathbf{\\hat{r}_x} + \\frac{m r^{2}}{4}\\mathbf{\\hat{r}_y}\\otimes \\mathbf{\\hat{r}_y} + \\frac{m r^{2}}{4}\\mathbf{\\hat{r}_z}\\otimes \\mathbf{\\hat{r}_z}$$"
      ],
      "text/plain": [
       "m*r**2/2*(R.x|R.x) + m*r**2/4*(R.y|R.y) + m*r**2/4*(R.z|R.z)"
      ]
     },
     "execution_count": 40,
     "metadata": {},
     "output_type": "execute_result"
    }
   ],
   "source": [
    "I = me.inertia(R, m / 2 * r**2, m / 4 * r**2, m / 4 * r**2)\n",
    "I"
   ]
  },
  {
   "cell_type": "code",
   "execution_count": 41,
   "metadata": {
    "collapsed": true,
    "deletable": true,
    "editable": true
   },
   "outputs": [],
   "source": [
    "disc = me.RigidBody('disc', Ro, R, m, (I, Ro))"
   ]
  },
  {
   "cell_type": "code",
   "execution_count": 42,
   "metadata": {
    "collapsed": true,
    "deletable": true,
    "editable": true
   },
   "outputs": [],
   "source": [
    "bodies = [disc]"
   ]
  },
  {
   "cell_type": "markdown",
   "metadata": {
    "deletable": true,
    "editable": true
   },
   "source": [
    "# Kane's Equations"
   ]
  },
  {
   "cell_type": "code",
   "execution_count": 43,
   "metadata": {
    "collapsed": true,
    "deletable": true,
    "editable": true
   },
   "outputs": [],
   "source": [
    "kane = me.KanesMethod(N,\n",
    "                      q_ind=(q1, q2, q3, x, y),\n",
    "                      u_ind=(u1, u2, u3),\n",
    "                      kd_eqs=kd,\n",
    "                      u_dependent=(vx, vy),\n",
    "                      velocity_constraints=vel_cons)"
   ]
  },
  {
   "cell_type": "code",
   "execution_count": 44,
   "metadata": {
    "collapsed": true,
    "deletable": true,
    "editable": true
   },
   "outputs": [],
   "source": [
    "fr, frstar = kane.kanes_equations(bodies, loads)"
   ]
  },
  {
   "cell_type": "code",
   "execution_count": 45,
   "metadata": {
    "collapsed": false,
    "deletable": true,
    "editable": true
   },
   "outputs": [
    {
     "data": {
      "image/png": "[encoded data removed]",
      "text/latex": [
       "$$\\left[\\begin{matrix}0\\\\g m r \\operatorname{sin}\\left(q_{2}\\right)\\\\0\\end{matrix}\\right]$$"
      ],
      "text/plain": [
       "Matrix([\n",
       "[            0],\n",
       "[g*m*r*sin(q2)],\n",
       "[            0]])"
      ]
     },
     "execution_count": 45,
     "metadata": {},
     "output_type": "execute_result"
    }
   ],
   "source": [
    "fr"
   ]
  },
  {
   "cell_type": "code",
   "execution_count": 46,
   "metadata": {
    "collapsed": false,
    "deletable": true,
    "editable": true
   },
   "outputs": [
    {
     "data": {
      "image/png": "[encoded data removed]",
      "text/latex": [
       "$$\\left[\\begin{matrix}m r^{2} \\left(u_{2} u_{3} - \\frac{3 \\dot{u}_{1}}{2}\\right)\\\\- \\frac{m r^{2}}{4} \\left(6 u_{1} u_{3} + u^{2}_{3} \\operatorname{tan}\\left(q_{2}\\right) + 5 \\dot{u}_{2}\\right)\\\\\\frac{m r^{2}}{4} \\left(2 u_{1} u_{2} + u_{2} u_{3} \\operatorname{tan}\\left(q_{2}\\right) - \\dot{u}_{3}\\right)\\end{matrix}\\right]$$"
      ],
      "text/plain": [
       "Matrix([\n",
       "[                   m*r**2*(u2*u3 - 3*u1'/2)],\n",
       "[-m*r**2*(6*u1*u3 + u3**2*tan(q2) + 5*u2')/4],\n",
       "[   m*r**2*(2*u1*u2 + u2*u3*tan(q2) - u3')/4]])"
      ]
     },
     "execution_count": 46,
     "metadata": {},
     "output_type": "execute_result"
    }
   ],
   "source": [
    "frstar = sm.trigsimp(frstar)\n",
    "frstar"
   ]
  },
  {
   "cell_type": "markdown",
   "metadata": {
    "deletable": true,
    "editable": true
   },
   "source": [
    "# Ignorable coordinates\n",
    "\n",
    "Note that only a single coordinate, the roll angle, is found in the euqations of motion. This meands that the yaw angle, pitch angle, and the location of the disc on the plane are all ignorable coordinates and do not govern the fundamental motion of the disc."
   ]
  },
  {
   "cell_type": "code",
   "execution_count": 47,
   "metadata": {
    "collapsed": false,
    "deletable": true,
    "editable": true
   },
   "outputs": [
    {
     "data": {
      "image/png": "[encoded data removed]",
      "text/latex": [
       "$$\\left\\{q_{2}\\right\\}$$"
      ],
      "text/plain": [
       "{q2}"
      ]
     },
     "execution_count": 47,
     "metadata": {},
     "output_type": "execute_result"
    }
   ],
   "source": [
    "me.find_dynamicsymbols(fr)"
   ]
  },
  {
   "cell_type": "code",
   "execution_count": 48,
   "metadata": {
    "collapsed": false,
    "deletable": true,
    "editable": true
   },
   "outputs": [
    {
     "data": {
      "image/png": "[encoded data removed]",
      "text/latex": [
       "$$\\left\\{q_{2}, u_{1}, u_{2}, u_{3}, \\dot{u}_{1}, \\dot{u}_{2}, \\dot{u}_{3}\\right\\}$$"
      ],
      "text/plain": [
       "{q2, u1, u2, u3, u1', u2', u3'}"
      ]
     },
     "execution_count": 48,
     "metadata": {},
     "output_type": "execute_result"
    }
   ],
   "source": [
    "me.find_dynamicsymbols(frstar)"
   ]
  },
  {
   "cell_type": "markdown",
   "metadata": {
    "deletable": true,
    "editable": true
   },
   "source": [
    "# Put into explicit first order form"
   ]
  },
  {
   "cell_type": "code",
   "execution_count": 49,
   "metadata": {
    "collapsed": true,
    "deletable": true,
    "editable": true
   },
   "outputs": [],
   "source": [
    "zero = sm.trigsimp(fr + frstar)"
   ]
  },
  {
   "cell_type": "code",
   "execution_count": 50,
   "metadata": {
    "collapsed": false,
    "deletable": true,
    "editable": true
   },
   "outputs": [
    {
     "data": {
      "image/png": "[encoded data removed]",
      "text/latex": [
       "$$\\left[\\begin{matrix}m r^{2} \\left(u_{2} u_{3} - \\frac{3 \\dot{u}_{1}}{2}\\right)\\\\g m r \\operatorname{sin}\\left(q_{2}\\right) - \\frac{m r^{2}}{4} \\left(6 u_{1} u_{3} + u^{2}_{3} \\operatorname{tan}\\left(q_{2}\\right) + 5 \\dot{u}_{2}\\right)\\\\\\frac{m r^{2}}{4} \\left(2 u_{1} u_{2} + u_{2} u_{3} \\operatorname{tan}\\left(q_{2}\\right) - \\dot{u}_{3}\\right)\\end{matrix}\\right]$$"
      ],
      "text/plain": [
       "Matrix([\n",
       "[                                  m*r**2*(u2*u3 - 3*u1'/2)],\n",
       "[g*m*r*sin(q2) - m*r**2*(6*u1*u3 + u3**2*tan(q2) + 5*u2')/4],\n",
       "[                  m*r**2*(2*u1*u2 + u2*u3*tan(q2) - u3')/4]])"
      ]
     },
     "execution_count": 50,
     "metadata": {},
     "output_type": "execute_result"
    }
   ],
   "source": [
    "zero"
   ]
  },
  {
   "cell_type": "markdown",
   "metadata": {},
   "source": [
    "First put the dynamical equations in first order form."
   ]
  },
  {
   "cell_type": "code",
   "execution_count": 51,
   "metadata": {
    "collapsed": true,
    "deletable": true,
    "editable": true
   },
   "outputs": [],
   "source": [
    "u = sm.Matrix([u1, u2, u3])"
   ]
  },
  {
   "cell_type": "code",
   "execution_count": 52,
   "metadata": {
    "collapsed": false,
    "deletable": true,
    "editable": true
   },
   "outputs": [
    {
     "data": {
      "image/png": "[encoded data removed]",
      "text/latex": [
       "$$\\left[\\begin{matrix}- \\frac{3 m}{2} r^{2} & 0 & 0\\\\0 & - \\frac{5 m}{4} r^{2} & 0\\\\0 & 0 & - \\frac{m r^{2}}{4}\\end{matrix}\\right]$$"
      ],
      "text/plain": [
       "Matrix([\n",
       "[-3*m*r**2/2,           0,         0],\n",
       "[          0, -5*m*r**2/4,         0],\n",
       "[          0,           0, -m*r**2/4]])"
      ]
     },
     "execution_count": 52,
     "metadata": {},
     "output_type": "execute_result"
    }
   ],
   "source": [
    "M = zero.jacobian(u.diff())\n",
    "M"
   ]
  },
  {
   "cell_type": "code",
   "execution_count": 53,
   "metadata": {
    "collapsed": false,
    "deletable": true,
    "editable": true
   },
   "outputs": [
    {
     "data": {
      "image/png": "[encoded data removed]",
      "text/latex": [
       "$$\\left[\\begin{matrix}- m r^{2} u_{2} u_{3}\\\\\\frac{m r}{4} \\left(- 4 g \\operatorname{sin}\\left(q_{2}\\right) + 6 r u_{1} u_{3} + r u^{2}_{3} \\operatorname{tan}\\left(q_{2}\\right)\\right)\\\\- \\frac{m r^{2}}{4} \\left(2 u_{1} + u_{3} \\operatorname{tan}\\left(q_{2}\\right)\\right) u_{2}\\end{matrix}\\right]$$"
      ],
      "text/plain": [
       "Matrix([\n",
       "[                                     -m*r**2*u2*u3],\n",
       "[m*r*(-4*g*sin(q2) + 6*r*u1*u3 + r*u3**2*tan(q2))/4],\n",
       "[                  -m*r**2*(2*u1 + u3*tan(q2))*u2/4]])"
      ]
     },
     "execution_count": 53,
     "metadata": {},
     "output_type": "execute_result"
    }
   ],
   "source": [
    "G = sm.simplify(M * u.diff() - zero)\n",
    "G"
   ]
  },
  {
   "cell_type": "code",
   "execution_count": 54,
   "metadata": {
    "collapsed": false,
    "deletable": true,
    "editable": true
   },
   "outputs": [
    {
     "data": {
      "image/png": "[encoded data removed]",
      "text/latex": [
       "$$\\left[\\begin{matrix}\\dot{u}_{1}\\\\\\dot{u}_{2}\\\\\\dot{u}_{3}\\end{matrix}\\right] = \\left[\\begin{matrix}\\frac{2 u_{2}}{3} u_{3}\\\\- \\frac{1}{5 r} \\left(- 4 g \\operatorname{sin}\\left(q_{2}\\right) + 6 r u_{1} u_{3} + r u^{2}_{3} \\operatorname{tan}\\left(q_{2}\\right)\\right)\\\\\\left(2 u_{1} + u_{3} \\operatorname{tan}\\left(q_{2}\\right)\\right) u_{2}\\end{matrix}\\right]$$"
      ],
      "text/plain": [
       "Eq(Matrix([[Derivative(u1(t), t)], [Derivative(u2(t), t)], [Derivative(u3(t), t)]]), Matrix([[2*u2(t)*u3(t)/3], [-(-4*g*sin(q2(t)) + 6*r*u1(t)*u3(t) + r*u3(t)**2*tan(q2(t)))/(5*r)], [(2*u1(t) + u3(t)*tan(q2(t)))*u2(t)]]))"
      ]
     },
     "execution_count": 54,
     "metadata": {},
     "output_type": "execute_result"
    }
   ],
   "source": [
    "udots = M.LUsolve(G)\n",
    "sm.Eq(u.diff(), udots)"
   ]
  },
  {
   "cell_type": "code",
   "execution_count": 55,
   "metadata": {
    "collapsed": false,
    "deletable": true,
    "editable": true
   },
   "outputs": [
    {
     "data": {
      "image/png": "[encoded data removed]",
      "text/latex": [
       "$$\\left\\{q_{2}, u_{1}, u_{2}, u_{3}\\right\\}$$"
      ],
      "text/plain": [
       "{q2, u1, u2, u3}"
      ]
     },
     "execution_count": 55,
     "metadata": {},
     "output_type": "execute_result"
    }
   ],
   "source": [
    "me.find_dynamicsymbols(udots)"
   ]
  },
  {
   "cell_type": "markdown",
   "metadata": {},
   "source": [
    "Now we can add in the kinematical equations. Note that the depdendent speeds expressions can be substituted into the kinematical differential equations."
   ]
  },
  {
   "cell_type": "code",
   "execution_count": 56,
   "metadata": {
    "collapsed": false,
    "deletable": true,
    "editable": true
   },
   "outputs": [
    {
     "data": {
      "image/png": "[encoded data removed]",
      "text/latex": [
       "$$\\left \\{ \\dot{q}_{1} : \\frac{u_{3}}{\\operatorname{cos}\\left(q_{2}\\right)}, \\quad \\dot{q}_{2} : u_{2}, \\quad \\dot{q}_{3} : u_{1} + u_{3} \\operatorname{tan}\\left(q_{2}\\right), \\quad \\dot{x} : v_{x}, \\quad \\dot{y} : v_{y}\\right \\}$$"
      ],
      "text/plain": [
       "{q1': u3/cos(q2), q2': u2, q3': u1 + u3*tan(q2), x': v_x, y': v_y}"
      ]
     },
     "execution_count": 56,
     "metadata": {},
     "output_type": "execute_result"
    }
   ],
   "source": [
    "qdots"
   ]
  },
  {
   "cell_type": "code",
   "execution_count": 57,
   "metadata": {
    "collapsed": false,
    "deletable": true,
    "editable": true
   },
   "outputs": [
    {
     "data": {
      "image/png": "[encoded data removed]",
      "text/latex": [
       "$$\\left \\{ v_{x} : r \\left(u_{1} + u_{3} \\operatorname{tan}\\left(q_{2}\\right)\\right) \\operatorname{sin}\\left(q_{1}\\right), \\quad v_{y} : - r \\left(u_{1} + u_{3} \\operatorname{tan}\\left(q_{2}\\right)\\right) \\operatorname{cos}\\left(q_{1}\\right)\\right \\}$$"
      ],
      "text/plain": [
       "{v_x: r*(u1 + u3*tan(q2))*sin(q1), v_y: -r*(u1 + u3*tan(q2))*cos(q1)}"
      ]
     },
     "execution_count": 57,
     "metadata": {},
     "output_type": "execute_result"
    }
   ],
   "source": [
    "dep_speeds"
   ]
  },
  {
   "cell_type": "markdown",
   "metadata": {},
   "source": [
    "Now stack all of the right hand side expressions together."
   ]
  },
  {
   "cell_type": "code",
   "execution_count": 58,
   "metadata": {
    "collapsed": false,
    "deletable": true,
    "editable": true
   },
   "outputs": [
    {
     "data": {
      "image/png": "[encoded data removed]",
      "text/latex": [
       "$$\\left[\\begin{matrix}\\frac{u_{3}}{\\operatorname{cos}\\left(q_{2}\\right)}\\\\u_{2}\\\\u_{1} + u_{3} \\operatorname{tan}\\left(q_{2}\\right)\\\\r \\left(u_{1} + u_{3} \\operatorname{tan}\\left(q_{2}\\right)\\right) \\operatorname{sin}\\left(q_{1}\\right)\\\\- r \\left(u_{1} + u_{3} \\operatorname{tan}\\left(q_{2}\\right)\\right) \\operatorname{cos}\\left(q_{1}\\right)\\\\\\frac{2 u_{2}}{3} u_{3}\\\\- \\frac{1}{5 r} \\left(- 4 g \\operatorname{sin}\\left(q_{2}\\right) + 6 r u_{1} u_{3} + r u^{2}_{3} \\operatorname{tan}\\left(q_{2}\\right)\\right)\\\\\\left(2 u_{1} + u_{3} \\operatorname{tan}\\left(q_{2}\\right)\\right) u_{2}\\end{matrix}\\right]$$"
      ],
      "text/plain": [
       "Matrix([\n",
       "[                                         u3/cos(q2)],\n",
       "[                                                 u2],\n",
       "[                                    u1 + u3*tan(q2)],\n",
       "[                        r*(u1 + u3*tan(q2))*sin(q1)],\n",
       "[                       -r*(u1 + u3*tan(q2))*cos(q1)],\n",
       "[                                          2*u2*u3/3],\n",
       "[-(-4*g*sin(q2) + 6*r*u1*u3 + r*u3**2*tan(q2))/(5*r)],\n",
       "[                             (2*u1 + u3*tan(q2))*u2]])"
      ]
     },
     "execution_count": 58,
     "metadata": {},
     "output_type": "execute_result"
    }
   ],
   "source": [
    "rhs = sm.Matrix([qdots[q1.diff()], qdots[q2.diff()], qdots[q3.diff()]]).\\\n",
    "      col_join(sm.Matrix([dep_speeds[vx], dep_speeds[vy]])).\\\n",
    "      col_join(udots)\n",
    "rhs"
   ]
  },
  {
   "cell_type": "markdown",
   "metadata": {},
   "source": [
    "The explicity first order form of the equations of motion of the system (including equations for the ignorable coordinates) are as follows:"
   ]
  },
  {
   "cell_type": "code",
   "execution_count": 59,
   "metadata": {
    "collapsed": false,
    "deletable": true,
    "editable": true
   },
   "outputs": [
    {
     "data": {
      "image/png": "[encoded data removed]",
      "text/latex": [
       "$$\\left[\\begin{matrix}\\dot{q}_{1}\\\\\\dot{q}_{2}\\\\\\dot{q}_{3}\\\\\\dot{x}\\\\\\dot{y}\\\\\\dot{u}_{1}\\\\\\dot{u}_{2}\\\\\\dot{u}_{3}\\end{matrix}\\right] = \\left[\\begin{matrix}\\frac{u_{3}}{\\operatorname{cos}\\left(q_{2}\\right)}\\\\u_{2}\\\\u_{1} + u_{3} \\operatorname{tan}\\left(q_{2}\\right)\\\\r \\left(u_{1} + u_{3} \\operatorname{tan}\\left(q_{2}\\right)\\right) \\operatorname{sin}\\left(q_{1}\\right)\\\\- r \\left(u_{1} + u_{3} \\operatorname{tan}\\left(q_{2}\\right)\\right) \\operatorname{cos}\\left(q_{1}\\right)\\\\\\frac{2 u_{2}}{3} u_{3}\\\\- \\frac{1}{5 r} \\left(- 4 g \\operatorname{sin}\\left(q_{2}\\right) + 6 r u_{1} u_{3} + r u^{2}_{3} \\operatorname{tan}\\left(q_{2}\\right)\\right)\\\\\\left(2 u_{1} + u_{3} \\operatorname{tan}\\left(q_{2}\\right)\\right) u_{2}\\end{matrix}\\right]$$"
      ],
      "text/plain": [
       "Eq(Matrix([[Derivative(q1(t), t)], [Derivative(q2(t), t)], [Derivative(q3(t), t)], [Derivative(x(t), t)], [Derivative(y(t), t)], [Derivative(u1(t), t)], [Derivative(u2(t), t)], [Derivative(u3(t), t)]]), Matrix([[u3(t)/cos(q2(t))], [u2(t)], [u1(t) + u3(t)*tan(q2(t))], [r*(u1(t) + u3(t)*tan(q2(t)))*sin(q1(t))], [-r*(u1(t) + u3(t)*tan(q2(t)))*cos(q1(t))], [2*u2(t)*u3(t)/3], [-(-4*g*sin(q2(t)) + 6*r*u1(t)*u3(t) + r*u3(t)**2*tan(q2(t)))/(5*r)], [(2*u1(t) + u3(t)*tan(q2(t)))*u2(t)]]))"
      ]
     },
     "execution_count": 59,
     "metadata": {},
     "output_type": "execute_result"
    }
   ],
   "source": [
    "states = [q1, q2, q3, x, y, u1, u2, u3]\n",
    "sm.Eq(sm.Matrix(states).diff(), rhs)"
   ]
  },
  {
   "cell_type": "markdown",
   "metadata": {},
   "source": [
    "# Integrate the equations of motion"
   ]
  },
  {
   "cell_type": "code",
   "execution_count": 60,
   "metadata": {
    "collapsed": true
   },
   "outputs": [],
   "source": [
    "import numpy as np\n",
    "from scipy.integrate import odeint\n",
    "from pydy.codegen.ode_function_generators import generate_ode_function"
   ]
  },
  {
   "cell_type": "markdown",
   "metadata": {},
   "source": [
    "Generate a function that evaluates the right hand side of the differential equations."
   ]
  },
  {
   "cell_type": "code",
   "execution_count": 61,
   "metadata": {
    "collapsed": false,
    "deletable": true,
    "editable": true
   },
   "outputs": [],
   "source": [
    "eval_rhs = generate_ode_function(rhs, [q1, q2, q3, x, y], [u1, u2, u3], [m, r, g])"
   ]
  },
  {
   "cell_type": "code",
   "execution_count": 62,
   "metadata": {
    "collapsed": false,
    "deletable": true,
    "editable": true
   },
   "outputs": [
    {
     "data": {
      "text/plain": [
       "function"
      ]
     },
     "execution_count": 62,
     "metadata": {},
     "output_type": "execute_result"
    }
   ],
   "source": [
    "type(eval_rhs)"
   ]
  },
  {
   "cell_type": "code",
   "execution_count": 63,
   "metadata": {
    "collapsed": false,
    "deletable": true,
    "editable": true
   },
   "outputs": [
    {
     "name": "stdout",
     "output_type": "stream",
     "text": [
      "Help on function rhs in module pydy.codegen.ode_function_generators:\n",
      "\n",
      "rhs(*args)\n",
      "    Returns the derivatives of the states, i.e. numerically evaluates the right\n",
      "    hand side of the first order differential equation.\n",
      "    \n",
      "    x' = f(x, t, p)\n",
      "    \n",
      "    Parameters\n",
      "    ==========\n",
      "    x : ndarray, shape(8,)\n",
      "        The state vector is ordered as such:\n",
      "            - q1(t)\n",
      "            - q2(t)\n",
      "            - q3(t)\n",
      "            - x(t)\n",
      "            - y(t)\n",
      "            - u1(t)\n",
      "            - u2(t)\n",
      "            - u3(t)\n",
      "    t : float\n",
      "        The current time.\n",
      "    p : dictionary len(3) or ndarray shape(3,)\n",
      "        Either a dictionary that maps the constants symbols to their numerical\n",
      "        values or an array with the constants in the following order:\n",
      "            - m\n",
      "            - r\n",
      "            - g\n",
      "    \n",
      "    Returns\n",
      "    =======\n",
      "    dx : ndarray, shape(8,)\n",
      "        The derivative of the state vector.\n",
      "\n"
     ]
    }
   ],
   "source": [
    "help(eval_rhs)"
   ]
  },
  {
   "cell_type": "markdown",
   "metadata": {},
   "source": [
    "We will need some initial conditions. Note that if $u_3$ is zero then $u_1$ sets the disc's pitch/spin rate. Set the roll angle to be have a slight deviation from vertical."
   ]
  },
  {
   "cell_type": "code",
   "execution_count": 64,
   "metadata": {
    "collapsed": true,
    "deletable": true,
    "editable": true
   },
   "outputs": [],
   "source": [
    "x0 = np.array([0, np.deg2rad(3), 0, 0, 0, np.deg2rad(100), 0, 0])"
   ]
  },
  {
   "cell_type": "code",
   "execution_count": 65,
   "metadata": {
    "collapsed": true,
    "deletable": true,
    "editable": true
   },
   "outputs": [],
   "source": [
    "p = {m: 1.0, r: 1.0, g: 9.81}"
   ]
  },
  {
   "cell_type": "code",
   "execution_count": 66,
   "metadata": {
    "collapsed": false
   },
   "outputs": [
    {
     "data": {
      "text/plain": [
       "array([ 0.        ,  0.        ,  1.74532925,  0.        , -1.74532925,\n",
       "        0.        ,  0.41073258,  0.        ])"
      ]
     },
     "execution_count": 66,
     "metadata": {},
     "output_type": "execute_result"
    }
   ],
   "source": [
    "eval_rhs(x0, 2.6, p)"
   ]
  },
  {
   "cell_type": "code",
   "execution_count": 67,
   "metadata": {
    "collapsed": false,
    "deletable": true,
    "editable": true
   },
   "outputs": [
    {
     "name": "stdout",
     "output_type": "stream",
     "text": [
      "176 µs ± 63.2 µs per loop (mean ± std. dev. of 7 runs, 10000 loops each)\n"
     ]
    }
   ],
   "source": [
    "%timeit eval_rhs(x0, 1.0, p)"
   ]
  },
  {
   "cell_type": "markdown",
   "metadata": {},
   "source": [
    "Integrate the equations over a time span."
   ]
  },
  {
   "cell_type": "code",
   "execution_count": 68,
   "metadata": {
    "collapsed": true,
    "deletable": true,
    "editable": true
   },
   "outputs": [],
   "source": [
    "times = np.linspace(0, 20.0, num=20*60)"
   ]
  },
  {
   "cell_type": "code",
   "execution_count": 69,
   "metadata": {
    "collapsed": true,
    "deletable": true,
    "editable": true
   },
   "outputs": [],
   "source": [
    "traj = odeint(eval_rhs, x0, times, args=(p, ))"
   ]
  },
  {
   "cell_type": "markdown",
   "metadata": {},
   "source": [
    "# Plot the trajectory"
   ]
  },
  {
   "cell_type": "code",
   "execution_count": 70,
   "metadata": {
    "collapsed": true,
    "deletable": true,
    "editable": true
   },
   "outputs": [],
   "source": [
    "import matplotlib.pyplot as plt"
   ]
  },
  {
   "cell_type": "code",
   "execution_count": 71,
   "metadata": {
    "collapsed": true,
    "deletable": true,
    "editable": true
   },
   "outputs": [],
   "source": [
    "%matplotlib notebook"
   ]
  },
  {
   "cell_type": "code",
   "execution_count": 72,
   "metadata": {
    "collapsed": false,
    "deletable": true,
    "editable": true
   },
   "outputs": [
    {
     "data": {
      "application/javascript": [
       "/* Put everything inside the global mpl namespace */\n",
       "window.mpl = {};\n",
       "\n",
       "\n",
       "mpl.get_websocket_type = function() {\n",
       "    if (typeof(WebSocket) !== 'undefined') {\n",
       "        return WebSocket;\n",
       "    } else if (typeof(MozWebSocket) !== 'undefined') {\n",
       "        return MozWebSocket;\n",
       "    } else {\n",
       "        alert('Your browser does not have WebSocket support.' +\n",
       "              'Please try Chrome, Safari or Firefox ≥ 6. ' +\n",
       "              'Firefox 4 and 5 are also supported but you ' +\n",
       "              'have to enable WebSockets in about:config.');\n",
       "    };\n",
       "}\n",
       "\n",
       "mpl.figure = function(figure_id, websocket, ondownload, parent_element) {\n",
       "    this.id = figure_id;\n",
       "\n",
       "    this.ws = websocket;\n",
       "\n",
       "    this.supports_binary = (this.ws.binaryType != undefined);\n",
       "\n",
       "    if (!this.supports_binary) {\n",
       "        var warnings = document.getElementById(\"mpl-warnings\");\n",
       "        if (warnings) {\n",
       "            warnings.style.display = 'block';\n",
       "            warnings.textContent = (\n",
       "                \"This browser does not support binary websocket messages. \" +\n",
       "                    \"Performance may be slow.\");\n",
       "        }\n",
       "    }\n",
       "\n",
       "    this.imageObj = new Image();\n",
       "\n",
       "    this.context = undefined;\n",
       "    this.message = undefined;\n",
       "    this.canvas = undefined;\n",
       "    this.rubberband_canvas = undefined;\n",
       "    this.rubberband_context = undefined;\n",
       "    this.format_dropdown = undefined;\n",
       "\n",
       "    this.image_mode = 'full';\n",
       "\n",
       "    this.root = $('<div/>');\n",
       "    this._root_extra_style(this.root)\n",
       "    this.root.attr('style', 'display: inline-block');\n",
       "\n",
       "    $(parent_element).append(this.root);\n",
       "\n",
       "    this._init_header(this);\n",
       "    this._init_canvas(this);\n",
       "    this._init_toolbar(this);\n",
       "\n",
       "    var fig = this;\n",
       "\n",
       "    this.waiting = false;\n",
       "\n",
       "    this.ws.onopen =  function () {\n",
       "            fig.send_message(\"supports_binary\", {value: fig.supports_binary});\n",
       "            fig.send_message(\"send_image_mode\", {});\n",
       "            if (mpl.ratio != 1) {\n",
       "                fig.send_message(\"set_dpi_ratio\", {'dpi_ratio': mpl.ratio});\n",
       "            }\n",
       "            fig.send_message(\"refresh\", {});\n",
       "        }\n",
       "\n",
       "    this.imageObj.onload = function() {\n",
       "            if (fig.image_mode == 'full') {\n",
       "                // Full images could contain transparency (where diff images\n",
       "                // almost always do), so we need to clear the canvas so that\n",
       "                // there is no ghosting.\n",
       "                fig.context.clearRect(0, 0, fig.canvas.width, fig.canvas.height);\n",
       "            }\n",
       "            fig.context.drawImage(fig.imageObj, 0, 0);\n",
       "        };\n",
       "\n",
       "    this.imageObj.onunload = function() {\n",
       "        fig.ws.close();\n",
       "    }\n",
       "\n",
       "    this.ws.onmessage = this._make_on_message_function(this);\n",
       "\n",
       "    this.ondownload = ondownload;\n",
       "}\n",
       "\n",
       "mpl.figure.prototype._init_header = function() {\n",
       "    var titlebar = $(\n",
       "        '<div class=\"ui-dialog-titlebar ui-widget-header ui-corner-all ' +\n",
       "        'ui-helper-clearfix\"/>');\n",
       "    var titletext = $(\n",
       "        '<div class=\"ui-dialog-title\" style=\"width: 100%; ' +\n",
       "        'text-align: center; padding: 3px;\"/>');\n",
       "    titlebar.append(titletext)\n",
       "    this.root.append(titlebar);\n",
       "    this.header = titletext[0];\n",
       "}\n",
       "\n",
       "\n",
       "\n",
       "mpl.figure.prototype._canvas_extra_style = function(canvas_div) {\n",
       "\n",
       "}\n",
       "\n",
       "\n",
       "mpl.figure.prototype._root_extra_style = function(canvas_div) {\n",
       "\n",
       "}\n",
       "\n",
       "mpl.figure.prototype._init_canvas = function() {\n",
       "    var fig = this;\n",
       "\n",
       "    var canvas_div = $('<div/>');\n",
       "\n",
       "    canvas_div.attr('style', 'position: relative; clear: both; outline: 0');\n",
       "\n",
       "    function canvas_keyboard_event(event) {\n",
       "        return fig.key_event(event, event['data']);\n",
       "    }\n",
       "\n",
       "    canvas_div.keydown('key_press', canvas_keyboard_event);\n",
       "    canvas_div.keyup('key_release', canvas_keyboard_event);\n",
       "    this.canvas_div = canvas_div\n",
       "    this._canvas_extra_style(canvas_div)\n",
       "    this.root.append(canvas_div);\n",
       "\n",
       "    var canvas = $('<canvas/>');\n",
       "    canvas.addClass('mpl-canvas');\n",
       "    canvas.attr('style', \"left: 0; top: 0; z-index: 0; outline: 0\")\n",
       "\n",
       "    this.canvas = canvas[0];\n",
       "    this.context = canvas[0].getContext(\"2d\");\n",
       "\n",
       "    var backingStore = this.context.backingStorePixelRatio ||\n",
       "\tthis.context.webkitBackingStorePixelRatio ||\n",
       "\tthis.context.mozBackingStorePixelRatio ||\n",
       "\tthis.context.msBackingStorePixelRatio ||\n",
       "\tthis.context.oBackingStorePixelRatio ||\n",
       "\tthis.context.backingStorePixelRatio || 1;\n",
       "\n",
       "    mpl.ratio = (window.devicePixelRatio || 1) / backingStore;\n",
       "\n",
       "    var rubberband = $('<canvas/>');\n",
       "    rubberband.attr('style', \"position: absolute; left: 0; top: 0; z-index: 1;\")\n",
       "\n",
       "    var pass_mouse_events = true;\n",
       "\n",
       "    canvas_div.resizable({\n",
       "        start: function(event, ui) {\n",
       "            pass_mouse_events = false;\n",
       "        },\n",
       "        resize: function(event, ui) {\n",
       "            fig.request_resize(ui.size.width, ui.size.height);\n",
       "        },\n",
       "        stop: function(event, ui) {\n",
       "            pass_mouse_events = true;\n",
       "            fig.request_resize(ui.size.width, ui.size.height);\n",
       "        },\n",
       "    });\n",
       "\n",
       "    function mouse_event_fn(event) {\n",
       "        if (pass_mouse_events)\n",
       "            return fig.mouse_event(event, event['data']);\n",
       "    }\n",
       "\n",
       "    rubberband.mousedown('button_press', mouse_event_fn);\n",
       "    rubberband.mouseup('button_release', mouse_event_fn);\n",
       "    // Throttle sequential mouse events to 1 every 20ms.\n",
       "    rubberband.mousemove('motion_notify', mouse_event_fn);\n",
       "\n",
       "    rubberband.mouseenter('figure_enter', mouse_event_fn);\n",
       "    rubberband.mouseleave('figure_leave', mouse_event_fn);\n",
       "\n",
       "    canvas_div.on(\"wheel\", function (event) {\n",
       "        event = event.originalEvent;\n",
       "        event['data'] = 'scroll'\n",
       "        if (event.deltaY < 0) {\n",
       "            event.step = 1;\n",
       "        } else {\n",
       "            event.step = -1;\n",
       "        }\n",
       "        mouse_event_fn(event);\n",
       "    });\n",
       "\n",
       "    canvas_div.append(canvas);\n",
       "    canvas_div.append(rubberband);\n",
       "\n",
       "    this.rubberband = rubberband;\n",
       "    this.rubberband_canvas = rubberband[0];\n",
       "    this.rubberband_context = rubberband[0].getContext(\"2d\");\n",
       "    this.rubberband_context.strokeStyle = \"#000000\";\n",
       "\n",
       "    this._resize_canvas = function(width, height) {\n",
       "        // Keep the size of the canvas, canvas container, and rubber band\n",
       "        // canvas in synch.\n",
       "        canvas_div.css('width', width)\n",
       "        canvas_div.css('height', height)\n",
       "\n",
       "        canvas.attr('width', width * mpl.ratio);\n",
       "        canvas.attr('height', height * mpl.ratio);\n",
       "        canvas.attr('style', 'width: ' + width + 'px; height: ' + height + 'px;');\n",
       "\n",
       "        rubberband.attr('width', width);\n",
       "        rubberband.attr('height', height);\n",
       "    }\n",
       "\n",
       "    // Set the figure to an initial 600x600px, this will subsequently be updated\n",
       "    // upon first draw.\n",
       "    this._resize_canvas(600, 600);\n",
       "\n",
       "    // Disable right mouse context menu.\n",
       "    $(this.rubberband_canvas).bind(\"contextmenu\",function(e){\n",
       "        return false;\n",
       "    });\n",
       "\n",
       "    function set_focus () {\n",
       "        canvas.focus();\n",
       "        canvas_div.focus();\n",
       "    }\n",
       "\n",
       "    window.setTimeout(set_focus, 100);\n",
       "}\n",
       "\n",
       "mpl.figure.prototype._init_toolbar = function() {\n",
       "    var fig = this;\n",
       "\n",
       "    var nav_element = $('<div/>')\n",
       "    nav_element.attr('style', 'width: 100%');\n",
       "    this.root.append(nav_element);\n",
       "\n",
       "    // Define a callback function for later on.\n",
       "    function toolbar_event(event) {\n",
       "        return fig.toolbar_button_onclick(event['data']);\n",
       "    }\n",
       "    function toolbar_mouse_event(event) {\n",
       "        return fig.toolbar_button_onmouseover(event['data']);\n",
       "    }\n",
       "\n",
       "    for(var toolbar_ind in mpl.toolbar_items) {\n",
       "        var name = mpl.toolbar_items[toolbar_ind][0];\n",
       "        var tooltip = mpl.toolbar_items[toolbar_ind][1];\n",
       "        var image = mpl.toolbar_items[toolbar_ind][2];\n",
       "        var method_name = mpl.toolbar_items[toolbar_ind][3];\n",
       "\n",
       "        if (!name) {\n",
       "            // put a spacer in here.\n",
       "            continue;\n",
       "        }\n",
       "        var button = $('<button/>');\n",
       "        button.addClass('ui-button ui-widget ui-state-default ui-corner-all ' +\n",
       "                        'ui-button-icon-only');\n",
       "        button.attr('role', 'button');\n",
       "        button.attr('aria-disabled', 'false');\n",
       "        button.click(method_name, toolbar_event);\n",
       "        button.mouseover(tooltip, toolbar_mouse_event);\n",
       "\n",
       "        var icon_img = $('<span/>');\n",
       "        icon_img.addClass('ui-button-icon-primary ui-icon');\n",
       "        icon_img.addClass(image);\n",
       "        icon_img.addClass('ui-corner-all');\n",
       "\n",
       "        var tooltip_span = $('<span/>');\n",
       "        tooltip_span.addClass('ui-button-text');\n",
       "        tooltip_span.html(tooltip);\n",
       "\n",
       "        button.append(icon_img);\n",
       "        button.append(tooltip_span);\n",
       "\n",
       "        nav_element.append(button);\n",
       "    }\n",
       "\n",
       "    var fmt_picker_span = $('<span/>');\n",
       "\n",
       "    var fmt_picker = $('<select/>');\n",
       "    fmt_picker.addClass('mpl-toolbar-option ui-widget ui-widget-content');\n",
       "    fmt_picker_span.append(fmt_picker);\n",
       "    nav_element.append(fmt_picker_span);\n",
       "    this.format_dropdown = fmt_picker[0];\n",
       "\n",
       "    for (var ind in mpl.extensions) {\n",
       "        var fmt = mpl.extensions[ind];\n",
       "        var option = $(\n",
       "            '<option/>', {selected: fmt === mpl.default_extension}).html(fmt);\n",
       "        fmt_picker.append(option)\n",
       "    }\n",
       "\n",
       "    // Add hover states to the ui-buttons\n",
       "    $( \".ui-button\" ).hover(\n",
       "        function() { $(this).addClass(\"ui-state-hover\");},\n",
       "        function() { $(this).removeClass(\"ui-state-hover\");}\n",
       "    );\n",
       "\n",
       "    var status_bar = $('<span class=\"mpl-message\"/>');\n",
       "    nav_element.append(status_bar);\n",
       "    this.message = status_bar[0];\n",
       "}\n",
       "\n",
       "mpl.figure.prototype.request_resize = function(x_pixels, y_pixels) {\n",
       "    // Request matplotlib to resize the figure. Matplotlib will then trigger a resize in the client,\n",
       "    // which will in turn request a refresh of the image.\n",
       "    this.send_message('resize', {'width': x_pixels, 'height': y_pixels});\n",
       "}\n",
       "\n",
       "mpl.figure.prototype.send_message = function(type, properties) {\n",
       "    properties['type'] = type;\n",
       "    properties['figure_id'] = this.id;\n",
       "    this.ws.send(JSON.stringify(properties));\n",
       "}\n",
       "\n",
       "mpl.figure.prototype.send_draw_message = function() {\n",
       "    if (!this.waiting) {\n",
       "        this.waiting = true;\n",
       "        this.ws.send(JSON.stringify({type: \"draw\", figure_id: this.id}));\n",
       "    }\n",
       "}\n",
       "\n",
       "\n",
       "mpl.figure.prototype.handle_save = function(fig, msg) {\n",
       "    var format_dropdown = fig.format_dropdown;\n",
       "    var format = format_dropdown.options[format_dropdown.selectedIndex].value;\n",
       "    fig.ondownload(fig, format);\n",
       "}\n",
       "\n",
       "\n",
       "mpl.figure.prototype.handle_resize = function(fig, msg) {\n",
       "    var size = msg['size'];\n",
       "    if (size[0] != fig.canvas.width || size[1] != fig.canvas.height) {\n",
       "        fig._resize_canvas(size[0], size[1]);\n",
       "        fig.send_message(\"refresh\", {});\n",
       "    };\n",
       "}\n",
       "\n",
       "mpl.figure.prototype.handle_rubberband = function(fig, msg) {\n",
       "    var x0 = msg['x0'] / mpl.ratio;\n",
       "    var y0 = (fig.canvas.height - msg['y0']) / mpl.ratio;\n",
       "    var x1 = msg['x1'] / mpl.ratio;\n",
       "    var y1 = (fig.canvas.height - msg['y1']) / mpl.ratio;\n",
       "    x0 = Math.floor(x0) + 0.5;\n",
       "    y0 = Math.floor(y0) + 0.5;\n",
       "    x1 = Math.floor(x1) + 0.5;\n",
       "    y1 = Math.floor(y1) + 0.5;\n",
       "    var min_x = Math.min(x0, x1);\n",
       "    var min_y = Math.min(y0, y1);\n",
       "    var width = Math.abs(x1 - x0);\n",
       "    var height = Math.abs(y1 - y0);\n",
       "\n",
       "    fig.rubberband_context.clearRect(\n",
       "        0, 0, fig.canvas.width, fig.canvas.height);\n",
       "\n",
       "    fig.rubberband_context.strokeRect(min_x, min_y, width, height);\n",
       "}\n",
       "\n",
       "mpl.figure.prototype.handle_figure_label = function(fig, msg) {\n",
       "    // Updates the figure title.\n",
       "    fig.header.textContent = msg['label'];\n",
       "}\n",
       "\n",
       "mpl.figure.prototype.handle_cursor = function(fig, msg) {\n",
       "    var cursor = msg['cursor'];\n",
       "    switch(cursor)\n",
       "    {\n",
       "    case 0:\n",
       "        cursor = 'pointer';\n",
       "        break;\n",
       "    case 1:\n",
       "        cursor = 'default';\n",
       "        break;\n",
       "    case 2:\n",
       "        cursor = 'crosshair';\n",
       "        break;\n",
       "    case 3:\n",
       "        cursor = 'move';\n",
       "        break;\n",
       "    }\n",
       "    fig.rubberband_canvas.style.cursor = cursor;\n",
       "}\n",
       "\n",
       "mpl.figure.prototype.handle_message = function(fig, msg) {\n",
       "    fig.message.textContent = msg['message'];\n",
       "}\n",
       "\n",
       "mpl.figure.prototype.handle_draw = function(fig, msg) {\n",
       "    // Request the server to send over a new figure.\n",
       "    fig.send_draw_message();\n",
       "}\n",
       "\n",
       "mpl.figure.prototype.handle_image_mode = function(fig, msg) {\n",
       "    fig.image_mode = msg['mode'];\n",
       "}\n",
       "\n",
       "mpl.figure.prototype.updated_canvas_event = function() {\n",
       "    // Called whenever the canvas gets updated.\n",
       "    this.send_message(\"ack\", {});\n",
       "}\n",
       "\n",
       "// A function to construct a web socket function for onmessage handling.\n",
       "// Called in the figure constructor.\n",
       "mpl.figure.prototype._make_on_message_function = function(fig) {\n",
       "    return function socket_on_message(evt) {\n",
       "        if (evt.data instanceof Blob) {\n",
       "            /* FIXME: We get \"Resource interpreted as Image but\n",
       "             * transferred with MIME type text/plain:\" errors on\n",
       "             * Chrome.  But how to set the MIME type?  It doesn't seem\n",
       "             * to be part of the websocket stream */\n",
       "            evt.data.type = \"image/png\";\n",
       "\n",
       "            /* Free the memory for the previous frames */\n",
       "            if (fig.imageObj.src) {\n",
       "                (window.URL || window.webkitURL).revokeObjectURL(\n",
       "                    fig.imageObj.src);\n",
       "            }\n",
       "\n",
       "            fig.imageObj.src = (window.URL || window.webkitURL).createObjectURL(\n",
       "                evt.data);\n",
       "            fig.updated_canvas_event();\n",
       "            fig.waiting = false;\n",
       "            return;\n",
       "        }\n",
       "        else if (typeof evt.data === 'string' && evt.data.slice(0, 21) == \"data:image/png;base64\") {\n",
       "            fig.imageObj.src = evt.data;\n",
       "            fig.updated_canvas_event();\n",
       "            fig.waiting = false;\n",
       "            return;\n",
       "        }\n",
       "\n",
       "        var msg = JSON.parse(evt.data);\n",
       "        var msg_type = msg['type'];\n",
       "\n",
       "        // Call the  \"handle_{type}\" callback, which takes\n",
       "        // the figure and JSON message as its only arguments.\n",
       "        try {\n",
       "            var callback = fig[\"handle_\" + msg_type];\n",
       "        } catch (e) {\n",
       "            console.log(\"No handler for the '\" + msg_type + \"' message type: \", msg);\n",
       "            return;\n",
       "        }\n",
       "\n",
       "        if (callback) {\n",
       "            try {\n",
       "                // console.log(\"Handling '\" + msg_type + \"' message: \", msg);\n",
       "                callback(fig, msg);\n",
       "            } catch (e) {\n",
       "                console.log(\"Exception inside the 'handler_\" + msg_type + \"' callback:\", e, e.stack, msg);\n",
       "            }\n",
       "        }\n",
       "    };\n",
       "}\n",
       "\n",
       "// from http://stackoverflow.com/questions/1114465/getting-mouse-location-in-canvas\n",
       "mpl.findpos = function(e) {\n",
       "    //this section is from http://www.quirksmode.org/js/events_properties.html\n",
       "    var targ;\n",
       "    if (!e)\n",
       "        e = window.event;\n",
       "    if (e.target)\n",
       "        targ = e.target;\n",
       "    else if (e.srcElement)\n",
       "        targ = e.srcElement;\n",
       "    if (targ.nodeType == 3) // defeat Safari bug\n",
       "        targ = targ.parentNode;\n",
       "\n",
       "    // jQuery normalizes the pageX and pageY\n",
       "    // pageX,Y are the mouse positions relative to the document\n",
       "    // offset() returns the position of the element relative to the document\n",
       "    var x = e.pageX - $(targ).offset().left;\n",
       "    var y = e.pageY - $(targ).offset().top;\n",
       "\n",
       "    return {\"x\": x, \"y\": y};\n",
       "};\n",
       "\n",
       "/*\n",
       " * return a copy of an object with only non-object keys\n",
       " * we need this to avoid circular references\n",
       " * http://stackoverflow.com/a/24161582/3208463\n",
       " */\n",
       "function simpleKeys (original) {\n",
       "  return Object.keys(original).reduce(function (obj, key) {\n",
       "    if (typeof original[key] !== 'object')\n",
       "        obj[key] = original[key]\n",
       "    return obj;\n",
       "  }, {});\n",
       "}\n",
       "\n",
       "mpl.figure.prototype.mouse_event = function(event, name) {\n",
       "    var canvas_pos = mpl.findpos(event)\n",
       "\n",
       "    if (name === 'button_press')\n",
       "    {\n",
       "        this.canvas.focus();\n",
       "        this.canvas_div.focus();\n",
       "    }\n",
       "\n",
       "    var x = canvas_pos.x * mpl.ratio;\n",
       "    var y = canvas_pos.y * mpl.ratio;\n",
       "\n",
       "    this.send_message(name, {x: x, y: y, button: event.button,\n",
       "                             step: event.step,\n",
       "                             guiEvent: simpleKeys(event)});\n",
       "\n",
       "    /* This prevents the web browser from automatically changing to\n",
       "     * the text insertion cursor when the button is pressed.  We want\n",
       "     * to control all of the cursor setting manually through the\n",
       "     * 'cursor' event from matplotlib */\n",
       "    event.preventDefault();\n",
       "    return false;\n",
       "}\n",
       "\n",
       "mpl.figure.prototype._key_event_extra = function(event, name) {\n",
       "    // Handle any extra behaviour associated with a key event\n",
       "}\n",
       "\n",
       "mpl.figure.prototype.key_event = function(event, name) {\n",
       "\n",
       "    // Prevent repeat events\n",
       "    if (name == 'key_press')\n",
       "    {\n",
       "        if (event.which === this._key)\n",
       "            return;\n",
       "        else\n",
       "            this._key = event.which;\n",
       "    }\n",
       "    if (name == 'key_release')\n",
       "        this._key = null;\n",
       "\n",
       "    var value = '';\n",
       "    if (event.ctrlKey && event.which != 17)\n",
       "        value += \"ctrl+\";\n",
       "    if (event.altKey && event.which != 18)\n",
       "        value += \"alt+\";\n",
       "    if (event.shiftKey && event.which != 16)\n",
       "        value += \"shift+\";\n",
       "\n",
       "    value += 'k';\n",
       "    value += event.which.toString();\n",
       "\n",
       "    this._key_event_extra(event, name);\n",
       "\n",
       "    this.send_message(name, {key: value,\n",
       "                             guiEvent: simpleKeys(event)});\n",
       "    return false;\n",
       "}\n",
       "\n",
       "mpl.figure.prototype.toolbar_button_onclick = function(name) {\n",
       "    if (name == 'download') {\n",
       "        this.handle_save(this, null);\n",
       "    } else {\n",
       "        this.send_message(\"toolbar_button\", {name: name});\n",
       "    }\n",
       "};\n",
       "\n",
       "mpl.figure.prototype.toolbar_button_onmouseover = function(tooltip) {\n",
       "    this.message.textContent = tooltip;\n",
       "};\n",
       "mpl.toolbar_items = [[\"Home\", \"Reset original view\", \"fa fa-home icon-home\", \"home\"], [\"Back\", \"Back to  previous view\", \"fa fa-arrow-left icon-arrow-left\", \"back\"], [\"Forward\", \"Forward to next view\", \"fa fa-arrow-right icon-arrow-right\", \"forward\"], [\"\", \"\", \"\", \"\"], [\"Pan\", \"Pan axes with left mouse, zoom with right\", \"fa fa-arrows icon-move\", \"pan\"], [\"Zoom\", \"Zoom to rectangle\", \"fa fa-square-o icon-check-empty\", \"zoom\"], [\"\", \"\", \"\", \"\"], [\"Download\", \"Download plot\", \"fa fa-floppy-o icon-save\", \"download\"]];\n",
       "\n",
       "mpl.extensions = [\"eps\", \"pdf\", \"png\", \"ps\", \"raw\", \"svg\"];\n",
       "\n",
       "mpl.default_extension = \"png\";var comm_websocket_adapter = function(comm) {\n",
       "    // Create a \"websocket\"-like object which calls the given IPython comm\n",
       "    // object with the appropriate methods. Currently this is a non binary\n",
       "    // socket, so there is still some room for performance tuning.\n",
       "    var ws = {};\n",
       "\n",
       "    ws.close = function() {\n",
       "        comm.close()\n",
       "    };\n",
       "    ws.send = function(m) {\n",
       "        //console.log('sending', m);\n",
       "        comm.send(m);\n",
       "    };\n",
       "    // Register the callback with on_msg.\n",
       "    comm.on_msg(function(msg) {\n",
       "        //console.log('receiving', msg['content']['data'], msg);\n",
       "        // Pass the mpl event to the overriden (by mpl) onmessage function.\n",
       "        ws.onmessage(msg['content']['data'])\n",
       "    });\n",
       "    return ws;\n",
       "}\n",
       "\n",
       "mpl.mpl_figure_comm = function(comm, msg) {\n",
       "    // This is the function which gets called when the mpl process\n",
       "    // starts-up an IPython Comm through the \"matplotlib\" channel.\n",
       "\n",
       "    var id = msg.content.data.id;\n",
       "    // Get hold of the div created by the display call when the Comm\n",
       "    // socket was opened in Python.\n",
       "    var element = $(\"#\" + id);\n",
       "    var ws_proxy = comm_websocket_adapter(comm)\n",
       "\n",
       "    function ondownload(figure, format) {\n",
       "        window.open(figure.imageObj.src);\n",
       "    }\n",
       "\n",
       "    var fig = new mpl.figure(id, ws_proxy,\n",
       "                           ondownload,\n",
       "                           element.get(0));\n",
       "\n",
       "    // Call onopen now - mpl needs it, as it is assuming we've passed it a real\n",
       "    // web socket which is closed, not our websocket->open comm proxy.\n",
       "    ws_proxy.onopen();\n",
       "\n",
       "    fig.parent_element = element.get(0);\n",
       "    fig.cell_info = mpl.find_output_cell(\"<div id='\" + id + \"'></div>\");\n",
       "    if (!fig.cell_info) {\n",
       "        console.error(\"Failed to find cell for figure\", id, fig);\n",
       "        return;\n",
       "    }\n",
       "\n",
       "    var output_index = fig.cell_info[2]\n",
       "    var cell = fig.cell_info[0];\n",
       "\n",
       "};\n",
       "\n",
       "mpl.figure.prototype.handle_close = function(fig, msg) {\n",
       "    var width = fig.canvas.width/mpl.ratio\n",
       "    fig.root.unbind('remove')\n",
       "\n",
       "    // Update the output cell to use the data from the current canvas.\n",
       "    fig.push_to_output();\n",
       "    var dataURL = fig.canvas.toDataURL();\n",
       "    // Re-enable the keyboard manager in IPython - without this line, in FF,\n",
       "    // the notebook keyboard shortcuts fail.\n",
       "    IPython.keyboard_manager.enable()\n",
       "    $(fig.parent_element).html('<img src=\"' + dataURL + '\" width=\"' + width + '\">');\n",
       "    fig.close_ws(fig, msg);\n",
       "}\n",
       "\n",
       "mpl.figure.prototype.close_ws = function(fig, msg){\n",
       "    fig.send_message('closing', msg);\n",
       "    // fig.ws.close()\n",
       "}\n",
       "\n",
       "mpl.figure.prototype.push_to_output = function(remove_interactive) {\n",
       "    // Turn the data on the canvas into data in the output cell.\n",
       "    var width = this.canvas.width/mpl.ratio\n",
       "    var dataURL = this.canvas.toDataURL();\n",
       "    this.cell_info[1]['text/html'] = '<img src=\"' + dataURL + '\" width=\"' + width + '\">';\n",
       "}\n",
       "\n",
       "mpl.figure.prototype.updated_canvas_event = function() {\n",
       "    // Tell IPython that the notebook contents must change.\n",
       "    IPython.notebook.set_dirty(true);\n",
       "    this.send_message(\"ack\", {});\n",
       "    var fig = this;\n",
       "    // Wait a second, then push the new image to the DOM so\n",
       "    // that it is saved nicely (might be nice to debounce this).\n",
       "    setTimeout(function () { fig.push_to_output() }, 1000);\n",
       "}\n",
       "\n",
       "mpl.figure.prototype._init_toolbar = function() {\n",
       "    var fig = this;\n",
       "\n",
       "    var nav_element = $('<div/>')\n",
       "    nav_element.attr('style', 'width: 100%');\n",
       "    this.root.append(nav_element);\n",
       "\n",
       "    // Define a callback function for later on.\n",
       "    function toolbar_event(event) {\n",
       "        return fig.toolbar_button_onclick(event['data']);\n",
       "    }\n",
       "    function toolbar_mouse_event(event) {\n",
       "        return fig.toolbar_button_onmouseover(event['data']);\n",
       "    }\n",
       "\n",
       "    for(var toolbar_ind in mpl.toolbar_items){\n",
       "        var name = mpl.toolbar_items[toolbar_ind][0];\n",
       "        var tooltip = mpl.toolbar_items[toolbar_ind][1];\n",
       "        var image = mpl.toolbar_items[toolbar_ind][2];\n",
       "        var method_name = mpl.toolbar_items[toolbar_ind][3];\n",
       "\n",
       "        if (!name) { continue; };\n",
       "\n",
       "        var button = $('<button class=\"btn btn-default\" href=\"#\" title=\"' + name + '\"><i class=\"fa ' + image + ' fa-lg\"></i></button>');\n",
       "        button.click(method_name, toolbar_event);\n",
       "        button.mouseover(tooltip, toolbar_mouse_event);\n",
       "        nav_element.append(button);\n",
       "    }\n",
       "\n",
       "    // Add the status bar.\n",
       "    var status_bar = $('<span class=\"mpl-message\" style=\"text-align:right; float: right;\"/>');\n",
       "    nav_element.append(status_bar);\n",
       "    this.message = status_bar[0];\n",
       "\n",
       "    // Add the close button to the window.\n",
       "    var buttongrp = $('<div class=\"btn-group inline pull-right\"></div>');\n",
       "    var button = $('<button class=\"btn btn-mini btn-primary\" href=\"#\" title=\"Stop Interaction\"><i class=\"fa fa-power-off icon-remove icon-large\"></i></button>');\n",
       "    button.click(function (evt) { fig.handle_close(fig, {}); } );\n",
       "    button.mouseover('Stop Interaction', toolbar_mouse_event);\n",
       "    buttongrp.append(button);\n",
       "    var titlebar = this.root.find($('.ui-dialog-titlebar'));\n",
       "    titlebar.prepend(buttongrp);\n",
       "}\n",
       "\n",
       "mpl.figure.prototype._root_extra_style = function(el){\n",
       "    var fig = this\n",
       "    el.on(\"remove\", function(){\n",
       "\tfig.close_ws(fig, {});\n",
       "    });\n",
       "}\n",
       "\n",
       "mpl.figure.prototype._canvas_extra_style = function(el){\n",
       "    // this is important to make the div 'focusable\n",
       "    el.attr('tabindex', 0)\n",
       "    // reach out to IPython and tell the keyboard manager to turn it's self\n",
       "    // off when our div gets focus\n",
       "\n",
       "    // location in version 3\n",
       "    if (IPython.notebook.keyboard_manager) {\n",
       "        IPython.notebook.keyboard_manager.register_events(el);\n",
       "    }\n",
       "    else {\n",
       "        // location in version 2\n",
       "        IPython.keyboard_manager.register_events(el);\n",
       "    }\n",
       "\n",
       "}\n",
       "\n",
       "mpl.figure.prototype._key_event_extra = function(event, name) {\n",
       "    var manager = IPython.notebook.keyboard_manager;\n",
       "    if (!manager)\n",
       "        manager = IPython.keyboard_manager;\n",
       "\n",
       "    // Check for shift+enter\n",
       "    if (event.shiftKey && event.which == 13) {\n",
       "        this.canvas_div.blur();\n",
       "        event.shiftKey = false;\n",
       "        // Send a \"J\" for go to next cell\n",
       "        event.which = 74;\n",
       "        event.keyCode = 74;\n",
       "        manager.command_mode();\n",
       "        manager.handle_keydown(event);\n",
       "    }\n",
       "}\n",
       "\n",
       "mpl.figure.prototype.handle_save = function(fig, msg) {\n",
       "    fig.ondownload(fig, null);\n",
       "}\n",
       "\n",
       "\n",
       "mpl.find_output_cell = function(html_output) {\n",
       "    // Return the cell and output element which can be found *uniquely* in the notebook.\n",
       "    // Note - this is a bit hacky, but it is done because the \"notebook_saving.Notebook\"\n",
       "    // IPython event is triggered only after the cells have been serialised, which for\n",
       "    // our purposes (turning an active figure into a static one), is too late.\n",
       "    var cells = IPython.notebook.get_cells();\n",
       "    var ncells = cells.length;\n",
       "    for (var i=0; i<ncells; i++) {\n",
       "        var cell = cells[i];\n",
       "        if (cell.cell_type === 'code'){\n",
       "            for (var j=0; j<cell.output_area.outputs.length; j++) {\n",
       "                var data = cell.output_area.outputs[j];\n",
       "                if (data.data) {\n",
       "                    // IPython >= 3 moved mimebundle to data attribute of output\n",
       "                    data = data.data;\n",
       "                }\n",
       "                if (data['text/html'] == html_output) {\n",
       "                    return [cell, data, j];\n",
       "                }\n",
       "            }\n",
       "        }\n",
       "    }\n",
       "}\n",
       "\n",
       "// Register the function which deals with the matplotlib target/channel.\n",
       "// The kernel may be null if the page has been refreshed.\n",
       "if (IPython.notebook.kernel != null) {\n",
       "    IPython.notebook.kernel.comm_manager.register_target('matplotlib', mpl.mpl_figure_comm);\n",
       "}\n"
      ],
      "text/plain": [
       "<IPython.core.display.Javascript object>"
      ]
     },
     "metadata": {},
     "output_type": "display_data"
    },
    {
     "data": {
      "text/html": [
       "<img src=\"data:image/png;base64,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\" width=\"640\">"
      ],
      "text/plain": [
       "<IPython.core.display.HTML object>"
      ]
     },
     "metadata": {},
     "output_type": "display_data"
    }
   ],
   "source": [
    "fig, axes = plt.subplots(3, 1)\n",
    "\n",
    "for i, ax in enumerate(axes):\n",
    "    ax.plot(times, np.rad2deg(traj[:, i]))\n",
    "    ax.set_ylabel(sm.latex(states[i], mode='inline'))\n",
    "    \n",
    "plt.tight_layout()"
   ]
  },
  {
   "cell_type": "markdown",
   "metadata": {},
   "source": [
    "Check out the ground trace."
   ]
  },
  {
   "cell_type": "code",
   "execution_count": 73,
   "metadata": {
    "collapsed": false,
    "deletable": true,
    "editable": true
   },
   "outputs": [
    {
     "data": {
      "application/javascript": [
       "/* Put everything inside the global mpl namespace */\n",
       "window.mpl = {};\n",
       "\n",
       "\n",
       "mpl.get_websocket_type = function() {\n",
       "    if (typeof(WebSocket) !== 'undefined') {\n",
       "        return WebSocket;\n",
       "    } else if (typeof(MozWebSocket) !== 'undefined') {\n",
       "        return MozWebSocket;\n",
       "    } else {\n",
       "        alert('Your browser does not have WebSocket support.' +\n",
       "              'Please try Chrome, Safari or Firefox ≥ 6. ' +\n",
       "              'Firefox 4 and 5 are also supported but you ' +\n",
       "              'have to enable WebSockets in about:config.');\n",
       "    };\n",
       "}\n",
       "\n",
       "mpl.figure = function(figure_id, websocket, ondownload, parent_element) {\n",
       "    this.id = figure_id;\n",
       "\n",
       "    this.ws = websocket;\n",
       "\n",
       "    this.supports_binary = (this.ws.binaryType != undefined);\n",
       "\n",
       "    if (!this.supports_binary) {\n",
       "        var warnings = document.getElementById(\"mpl-warnings\");\n",
       "        if (warnings) {\n",
       "            warnings.style.display = 'block';\n",
       "            warnings.textContent = (\n",
       "                \"This browser does not support binary websocket messages. \" +\n",
       "                    \"Performance may be slow.\");\n",
       "        }\n",
       "    }\n",
       "\n",
       "    this.imageObj = new Image();\n",
       "\n",
       "    this.context = undefined;\n",
       "    this.message = undefined;\n",
       "    this.canvas = undefined;\n",
       "    this.rubberband_canvas = undefined;\n",
       "    this.rubberband_context = undefined;\n",
       "    this.format_dropdown = undefined;\n",
       "\n",
       "    this.image_mode = 'full';\n",
       "\n",
       "    this.root = $('<div/>');\n",
       "    this._root_extra_style(this.root)\n",
       "    this.root.attr('style', 'display: inline-block');\n",
       "\n",
       "    $(parent_element).append(this.root);\n",
       "\n",
       "    this._init_header(this);\n",
       "    this._init_canvas(this);\n",
       "    this._init_toolbar(this);\n",
       "\n",
       "    var fig = this;\n",
       "\n",
       "    this.waiting = false;\n",
       "\n",
       "    this.ws.onopen =  function () {\n",
       "            fig.send_message(\"supports_binary\", {value: fig.supports_binary});\n",
       "            fig.send_message(\"send_image_mode\", {});\n",
       "            if (mpl.ratio != 1) {\n",
       "                fig.send_message(\"set_dpi_ratio\", {'dpi_ratio': mpl.ratio});\n",
       "            }\n",
       "            fig.send_message(\"refresh\", {});\n",
       "        }\n",
       "\n",
       "    this.imageObj.onload = function() {\n",
       "            if (fig.image_mode == 'full') {\n",
       "                // Full images could contain transparency (where diff images\n",
       "                // almost always do), so we need to clear the canvas so that\n",
       "                // there is no ghosting.\n",
       "                fig.context.clearRect(0, 0, fig.canvas.width, fig.canvas.height);\n",
       "            }\n",
       "            fig.context.drawImage(fig.imageObj, 0, 0);\n",
       "        };\n",
       "\n",
       "    this.imageObj.onunload = function() {\n",
       "        fig.ws.close();\n",
       "    }\n",
       "\n",
       "    this.ws.onmessage = this._make_on_message_function(this);\n",
       "\n",
       "    this.ondownload = ondownload;\n",
       "}\n",
       "\n",
       "mpl.figure.prototype._init_header = function() {\n",
       "    var titlebar = $(\n",
       "        '<div class=\"ui-dialog-titlebar ui-widget-header ui-corner-all ' +\n",
       "        'ui-helper-clearfix\"/>');\n",
       "    var titletext = $(\n",
       "        '<div class=\"ui-dialog-title\" style=\"width: 100%; ' +\n",
       "        'text-align: center; padding: 3px;\"/>');\n",
       "    titlebar.append(titletext)\n",
       "    this.root.append(titlebar);\n",
       "    this.header = titletext[0];\n",
       "}\n",
       "\n",
       "\n",
       "\n",
       "mpl.figure.prototype._canvas_extra_style = function(canvas_div) {\n",
       "\n",
       "}\n",
       "\n",
       "\n",
       "mpl.figure.prototype._root_extra_style = function(canvas_div) {\n",
       "\n",
       "}\n",
       "\n",
       "mpl.figure.prototype._init_canvas = function() {\n",
       "    var fig = this;\n",
       "\n",
       "    var canvas_div = $('<div/>');\n",
       "\n",
       "    canvas_div.attr('style', 'position: relative; clear: both; outline: 0');\n",
       "\n",
       "    function canvas_keyboard_event(event) {\n",
       "        return fig.key_event(event, event['data']);\n",
       "    }\n",
       "\n",
       "    canvas_div.keydown('key_press', canvas_keyboard_event);\n",
       "    canvas_div.keyup('key_release', canvas_keyboard_event);\n",
       "    this.canvas_div = canvas_div\n",
       "    this._canvas_extra_style(canvas_div)\n",
       "    this.root.append(canvas_div);\n",
       "\n",
       "    var canvas = $('<canvas/>');\n",
       "    canvas.addClass('mpl-canvas');\n",
       "    canvas.attr('style', \"left: 0; top: 0; z-index: 0; outline: 0\")\n",
       "\n",
       "    this.canvas = canvas[0];\n",
       "    this.context = canvas[0].getContext(\"2d\");\n",
       "\n",
       "    var backingStore = this.context.backingStorePixelRatio ||\n",
       "\tthis.context.webkitBackingStorePixelRatio ||\n",
       "\tthis.context.mozBackingStorePixelRatio ||\n",
       "\tthis.context.msBackingStorePixelRatio ||\n",
       "\tthis.context.oBackingStorePixelRatio ||\n",
       "\tthis.context.backingStorePixelRatio || 1;\n",
       "\n",
       "    mpl.ratio = (window.devicePixelRatio || 1) / backingStore;\n",
       "\n",
       "    var rubberband = $('<canvas/>');\n",
       "    rubberband.attr('style', \"position: absolute; left: 0; top: 0; z-index: 1;\")\n",
       "\n",
       "    var pass_mouse_events = true;\n",
       "\n",
       "    canvas_div.resizable({\n",
       "        start: function(event, ui) {\n",
       "            pass_mouse_events = false;\n",
       "        },\n",
       "        resize: function(event, ui) {\n",
       "            fig.request_resize(ui.size.width, ui.size.height);\n",
       "        },\n",
       "        stop: function(event, ui) {\n",
       "            pass_mouse_events = true;\n",
       "            fig.request_resize(ui.size.width, ui.size.height);\n",
       "        },\n",
       "    });\n",
       "\n",
       "    function mouse_event_fn(event) {\n",
       "        if (pass_mouse_events)\n",
       "            return fig.mouse_event(event, event['data']);\n",
       "    }\n",
       "\n",
       "    rubberband.mousedown('button_press', mouse_event_fn);\n",
       "    rubberband.mouseup('button_release', mouse_event_fn);\n",
       "    // Throttle sequential mouse events to 1 every 20ms.\n",
       "    rubberband.mousemove('motion_notify', mouse_event_fn);\n",
       "\n",
       "    rubberband.mouseenter('figure_enter', mouse_event_fn);\n",
       "    rubberband.mouseleave('figure_leave', mouse_event_fn);\n",
       "\n",
       "    canvas_div.on(\"wheel\", function (event) {\n",
       "        event = event.originalEvent;\n",
       "        event['data'] = 'scroll'\n",
       "        if (event.deltaY < 0) {\n",
       "            event.step = 1;\n",
       "        } else {\n",
       "            event.step = -1;\n",
       "        }\n",
       "        mouse_event_fn(event);\n",
       "    });\n",
       "\n",
       "    canvas_div.append(canvas);\n",
       "    canvas_div.append(rubberband);\n",
       "\n",
       "    this.rubberband = rubberband;\n",
       "    this.rubberband_canvas = rubberband[0];\n",
       "    this.rubberband_context = rubberband[0].getContext(\"2d\");\n",
       "    this.rubberband_context.strokeStyle = \"#000000\";\n",
       "\n",
       "    this._resize_canvas = function(width, height) {\n",
       "        // Keep the size of the canvas, canvas container, and rubber band\n",
       "        // canvas in synch.\n",
       "        canvas_div.css('width', width)\n",
       "        canvas_div.css('height', height)\n",
       "\n",
       "        canvas.attr('width', width * mpl.ratio);\n",
       "        canvas.attr('height', height * mpl.ratio);\n",
       "        canvas.attr('style', 'width: ' + width + 'px; height: ' + height + 'px;');\n",
       "\n",
       "        rubberband.attr('width', width);\n",
       "        rubberband.attr('height', height);\n",
       "    }\n",
       "\n",
       "    // Set the figure to an initial 600x600px, this will subsequently be updated\n",
       "    // upon first draw.\n",
       "    this._resize_canvas(600, 600);\n",
       "\n",
       "    // Disable right mouse context menu.\n",
       "    $(this.rubberband_canvas).bind(\"contextmenu\",function(e){\n",
       "        return false;\n",
       "    });\n",
       "\n",
       "    function set_focus () {\n",
       "        canvas.focus();\n",
       "        canvas_div.focus();\n",
       "    }\n",
       "\n",
       "    window.setTimeout(set_focus, 100);\n",
       "}\n",
       "\n",
       "mpl.figure.prototype._init_toolbar = function() {\n",
       "    var fig = this;\n",
       "\n",
       "    var nav_element = $('<div/>')\n",
       "    nav_element.attr('style', 'width: 100%');\n",
       "    this.root.append(nav_element);\n",
       "\n",
       "    // Define a callback function for later on.\n",
       "    function toolbar_event(event) {\n",
       "        return fig.toolbar_button_onclick(event['data']);\n",
       "    }\n",
       "    function toolbar_mouse_event(event) {\n",
       "        return fig.toolbar_button_onmouseover(event['data']);\n",
       "    }\n",
       "\n",
       "    for(var toolbar_ind in mpl.toolbar_items) {\n",
       "        var name = mpl.toolbar_items[toolbar_ind][0];\n",
       "        var tooltip = mpl.toolbar_items[toolbar_ind][1];\n",
       "        var image = mpl.toolbar_items[toolbar_ind][2];\n",
       "        var method_name = mpl.toolbar_items[toolbar_ind][3];\n",
       "\n",
       "        if (!name) {\n",
       "            // put a spacer in here.\n",
       "            continue;\n",
       "        }\n",
       "        var button = $('<button/>');\n",
       "        button.addClass('ui-button ui-widget ui-state-default ui-corner-all ' +\n",
       "                        'ui-button-icon-only');\n",
       "        button.attr('role', 'button');\n",
       "        button.attr('aria-disabled', 'false');\n",
       "        button.click(method_name, toolbar_event);\n",
       "        button.mouseover(tooltip, toolbar_mouse_event);\n",
       "\n",
       "        var icon_img = $('<span/>');\n",
       "        icon_img.addClass('ui-button-icon-primary ui-icon');\n",
       "        icon_img.addClass(image);\n",
       "        icon_img.addClass('ui-corner-all');\n",
       "\n",
       "        var tooltip_span = $('<span/>');\n",
       "        tooltip_span.addClass('ui-button-text');\n",
       "        tooltip_span.html(tooltip);\n",
       "\n",
       "        button.append(icon_img);\n",
       "        button.append(tooltip_span);\n",
       "\n",
       "        nav_element.append(button);\n",
       "    }\n",
       "\n",
       "    var fmt_picker_span = $('<span/>');\n",
       "\n",
       "    var fmt_picker = $('<select/>');\n",
       "    fmt_picker.addClass('mpl-toolbar-option ui-widget ui-widget-content');\n",
       "    fmt_picker_span.append(fmt_picker);\n",
       "    nav_element.append(fmt_picker_span);\n",
       "    this.format_dropdown = fmt_picker[0];\n",
       "\n",
       "    for (var ind in mpl.extensions) {\n",
       "        var fmt = mpl.extensions[ind];\n",
       "        var option = $(\n",
       "            '<option/>', {selected: fmt === mpl.default_extension}).html(fmt);\n",
       "        fmt_picker.append(option)\n",
       "    }\n",
       "\n",
       "    // Add hover states to the ui-buttons\n",
       "    $( \".ui-button\" ).hover(\n",
       "        function() { $(this).addClass(\"ui-state-hover\");},\n",
       "        function() { $(this).removeClass(\"ui-state-hover\");}\n",
       "    );\n",
       "\n",
       "    var status_bar = $('<span class=\"mpl-message\"/>');\n",
       "    nav_element.append(status_bar);\n",
       "    this.message = status_bar[0];\n",
       "}\n",
       "\n",
       "mpl.figure.prototype.request_resize = function(x_pixels, y_pixels) {\n",
       "    // Request matplotlib to resize the figure. Matplotlib will then trigger a resize in the client,\n",
       "    // which will in turn request a refresh of the image.\n",
       "    this.send_message('resize', {'width': x_pixels, 'height': y_pixels});\n",
       "}\n",
       "\n",
       "mpl.figure.prototype.send_message = function(type, properties) {\n",
       "    properties['type'] = type;\n",
       "    properties['figure_id'] = this.id;\n",
       "    this.ws.send(JSON.stringify(properties));\n",
       "}\n",
       "\n",
       "mpl.figure.prototype.send_draw_message = function() {\n",
       "    if (!this.waiting) {\n",
       "        this.waiting = true;\n",
       "        this.ws.send(JSON.stringify({type: \"draw\", figure_id: this.id}));\n",
       "    }\n",
       "}\n",
       "\n",
       "\n",
       "mpl.figure.prototype.handle_save = function(fig, msg) {\n",
       "    var format_dropdown = fig.format_dropdown;\n",
       "    var format = format_dropdown.options[format_dropdown.selectedIndex].value;\n",
       "    fig.ondownload(fig, format);\n",
       "}\n",
       "\n",
       "\n",
       "mpl.figure.prototype.handle_resize = function(fig, msg) {\n",
       "    var size = msg['size'];\n",
       "    if (size[0] != fig.canvas.width || size[1] != fig.canvas.height) {\n",
       "        fig._resize_canvas(size[0], size[1]);\n",
       "        fig.send_message(\"refresh\", {});\n",
       "    };\n",
       "}\n",
       "\n",
       "mpl.figure.prototype.handle_rubberband = function(fig, msg) {\n",
       "    var x0 = msg['x0'] / mpl.ratio;\n",
       "    var y0 = (fig.canvas.height - msg['y0']) / mpl.ratio;\n",
       "    var x1 = msg['x1'] / mpl.ratio;\n",
       "    var y1 = (fig.canvas.height - msg['y1']) / mpl.ratio;\n",
       "    x0 = Math.floor(x0) + 0.5;\n",
       "    y0 = Math.floor(y0) + 0.5;\n",
       "    x1 = Math.floor(x1) + 0.5;\n",
       "    y1 = Math.floor(y1) + 0.5;\n",
       "    var min_x = Math.min(x0, x1);\n",
       "    var min_y = Math.min(y0, y1);\n",
       "    var width = Math.abs(x1 - x0);\n",
       "    var height = Math.abs(y1 - y0);\n",
       "\n",
       "    fig.rubberband_context.clearRect(\n",
       "        0, 0, fig.canvas.width, fig.canvas.height);\n",
       "\n",
       "    fig.rubberband_context.strokeRect(min_x, min_y, width, height);\n",
       "}\n",
       "\n",
       "mpl.figure.prototype.handle_figure_label = function(fig, msg) {\n",
       "    // Updates the figure title.\n",
       "    fig.header.textContent = msg['label'];\n",
       "}\n",
       "\n",
       "mpl.figure.prototype.handle_cursor = function(fig, msg) {\n",
       "    var cursor = msg['cursor'];\n",
       "    switch(cursor)\n",
       "    {\n",
       "    case 0:\n",
       "        cursor = 'pointer';\n",
       "        break;\n",
       "    case 1:\n",
       "        cursor = 'default';\n",
       "        break;\n",
       "    case 2:\n",
       "        cursor = 'crosshair';\n",
       "        break;\n",
       "    case 3:\n",
       "        cursor = 'move';\n",
       "        break;\n",
       "    }\n",
       "    fig.rubberband_canvas.style.cursor = cursor;\n",
       "}\n",
       "\n",
       "mpl.figure.prototype.handle_message = function(fig, msg) {\n",
       "    fig.message.textContent = msg['message'];\n",
       "}\n",
       "\n",
       "mpl.figure.prototype.handle_draw = function(fig, msg) {\n",
       "    // Request the server to send over a new figure.\n",
       "    fig.send_draw_message();\n",
       "}\n",
       "\n",
       "mpl.figure.prototype.handle_image_mode = function(fig, msg) {\n",
       "    fig.image_mode = msg['mode'];\n",
       "}\n",
       "\n",
       "mpl.figure.prototype.updated_canvas_event = function() {\n",
       "    // Called whenever the canvas gets updated.\n",
       "    this.send_message(\"ack\", {});\n",
       "}\n",
       "\n",
       "// A function to construct a web socket function for onmessage handling.\n",
       "// Called in the figure constructor.\n",
       "mpl.figure.prototype._make_on_message_function = function(fig) {\n",
       "    return function socket_on_message(evt) {\n",
       "        if (evt.data instanceof Blob) {\n",
       "            /* FIXME: We get \"Resource interpreted as Image but\n",
       "             * transferred with MIME type text/plain:\" errors on\n",
       "             * Chrome.  But how to set the MIME type?  It doesn't seem\n",
       "             * to be part of the websocket stream */\n",
       "            evt.data.type = \"image/png\";\n",
       "\n",
       "            /* Free the memory for the previous frames */\n",
       "            if (fig.imageObj.src) {\n",
       "                (window.URL || window.webkitURL).revokeObjectURL(\n",
       "                    fig.imageObj.src);\n",
       "            }\n",
       "\n",
       "            fig.imageObj.src = (window.URL || window.webkitURL).createObjectURL(\n",
       "                evt.data);\n",
       "            fig.updated_canvas_event();\n",
       "            fig.waiting = false;\n",
       "            return;\n",
       "        }\n",
       "        else if (typeof evt.data === 'string' && evt.data.slice(0, 21) == \"data:image/png;base64\") {\n",
       "            fig.imageObj.src = evt.data;\n",
       "            fig.updated_canvas_event();\n",
       "            fig.waiting = false;\n",
       "            return;\n",
       "        }\n",
       "\n",
       "        var msg = JSON.parse(evt.data);\n",
       "        var msg_type = msg['type'];\n",
       "\n",
       "        // Call the  \"handle_{type}\" callback, which takes\n",
       "        // the figure and JSON message as its only arguments.\n",
       "        try {\n",
       "            var callback = fig[\"handle_\" + msg_type];\n",
       "        } catch (e) {\n",
       "            console.log(\"No handler for the '\" + msg_type + \"' message type: \", msg);\n",
       "            return;\n",
       "        }\n",
       "\n",
       "        if (callback) {\n",
       "            try {\n",
       "                // console.log(\"Handling '\" + msg_type + \"' message: \", msg);\n",
       "                callback(fig, msg);\n",
       "            } catch (e) {\n",
       "                console.log(\"Exception inside the 'handler_\" + msg_type + \"' callback:\", e, e.stack, msg);\n",
       "            }\n",
       "        }\n",
       "    };\n",
       "}\n",
       "\n",
       "// from http://stackoverflow.com/questions/1114465/getting-mouse-location-in-canvas\n",
       "mpl.findpos = function(e) {\n",
       "    //this section is from http://www.quirksmode.org/js/events_properties.html\n",
       "    var targ;\n",
       "    if (!e)\n",
       "        e = window.event;\n",
       "    if (e.target)\n",
       "        targ = e.target;\n",
       "    else if (e.srcElement)\n",
       "        targ = e.srcElement;\n",
       "    if (targ.nodeType == 3) // defeat Safari bug\n",
       "        targ = targ.parentNode;\n",
       "\n",
       "    // jQuery normalizes the pageX and pageY\n",
       "    // pageX,Y are the mouse positions relative to the document\n",
       "    // offset() returns the position of the element relative to the document\n",
       "    var x = e.pageX - $(targ).offset().left;\n",
       "    var y = e.pageY - $(targ).offset().top;\n",
       "\n",
       "    return {\"x\": x, \"y\": y};\n",
       "};\n",
       "\n",
       "/*\n",
       " * return a copy of an object with only non-object keys\n",
       " * we need this to avoid circular references\n",
       " * http://stackoverflow.com/a/24161582/3208463\n",
       " */\n",
       "function simpleKeys (original) {\n",
       "  return Object.keys(original).reduce(function (obj, key) {\n",
       "    if (typeof original[key] !== 'object')\n",
       "        obj[key] = original[key]\n",
       "    return obj;\n",
       "  }, {});\n",
       "}\n",
       "\n",
       "mpl.figure.prototype.mouse_event = function(event, name) {\n",
       "    var canvas_pos = mpl.findpos(event)\n",
       "\n",
       "    if (name === 'button_press')\n",
       "    {\n",
       "        this.canvas.focus();\n",
       "        this.canvas_div.focus();\n",
       "    }\n",
       "\n",
       "    var x = canvas_pos.x * mpl.ratio;\n",
       "    var y = canvas_pos.y * mpl.ratio;\n",
       "\n",
       "    this.send_message(name, {x: x, y: y, button: event.button,\n",
       "                             step: event.step,\n",
       "                             guiEvent: simpleKeys(event)});\n",
       "\n",
       "    /* This prevents the web browser from automatically changing to\n",
       "     * the text insertion cursor when the button is pressed.  We want\n",
       "     * to control all of the cursor setting manually through the\n",
       "     * 'cursor' event from matplotlib */\n",
       "    event.preventDefault();\n",
       "    return false;\n",
       "}\n",
       "\n",
       "mpl.figure.prototype._key_event_extra = function(event, name) {\n",
       "    // Handle any extra behaviour associated with a key event\n",
       "}\n",
       "\n",
       "mpl.figure.prototype.key_event = function(event, name) {\n",
       "\n",
       "    // Prevent repeat events\n",
       "    if (name == 'key_press')\n",
       "    {\n",
       "        if (event.which === this._key)\n",
       "            return;\n",
       "        else\n",
       "            this._key = event.which;\n",
       "    }\n",
       "    if (name == 'key_release')\n",
       "        this._key = null;\n",
       "\n",
       "    var value = '';\n",
       "    if (event.ctrlKey && event.which != 17)\n",
       "        value += \"ctrl+\";\n",
       "    if (event.altKey && event.which != 18)\n",
       "        value += \"alt+\";\n",
       "    if (event.shiftKey && event.which != 16)\n",
       "        value += \"shift+\";\n",
       "\n",
       "    value += 'k';\n",
       "    value += event.which.toString();\n",
       "\n",
       "    this._key_event_extra(event, name);\n",
       "\n",
       "    this.send_message(name, {key: value,\n",
       "                             guiEvent: simpleKeys(event)});\n",
       "    return false;\n",
       "}\n",
       "\n",
       "mpl.figure.prototype.toolbar_button_onclick = function(name) {\n",
       "    if (name == 'download') {\n",
       "        this.handle_save(this, null);\n",
       "    } else {\n",
       "        this.send_message(\"toolbar_button\", {name: name});\n",
       "    }\n",
       "};\n",
       "\n",
       "mpl.figure.prototype.toolbar_button_onmouseover = function(tooltip) {\n",
       "    this.message.textContent = tooltip;\n",
       "};\n",
       "mpl.toolbar_items = [[\"Home\", \"Reset original view\", \"fa fa-home icon-home\", \"home\"], [\"Back\", \"Back to  previous view\", \"fa fa-arrow-left icon-arrow-left\", \"back\"], [\"Forward\", \"Forward to next view\", \"fa fa-arrow-right icon-arrow-right\", \"forward\"], [\"\", \"\", \"\", \"\"], [\"Pan\", \"Pan axes with left mouse, zoom with right\", \"fa fa-arrows icon-move\", \"pan\"], [\"Zoom\", \"Zoom to rectangle\", \"fa fa-square-o icon-check-empty\", \"zoom\"], [\"\", \"\", \"\", \"\"], [\"Download\", \"Download plot\", \"fa fa-floppy-o icon-save\", \"download\"]];\n",
       "\n",
       "mpl.extensions = [\"eps\", \"pdf\", \"png\", \"ps\", \"raw\", \"svg\"];\n",
       "\n",
       "mpl.default_extension = \"png\";var comm_websocket_adapter = function(comm) {\n",
       "    // Create a \"websocket\"-like object which calls the given IPython comm\n",
       "    // object with the appropriate methods. Currently this is a non binary\n",
       "    // socket, so there is still some room for performance tuning.\n",
       "    var ws = {};\n",
       "\n",
       "    ws.close = function() {\n",
       "        comm.close()\n",
       "    };\n",
       "    ws.send = function(m) {\n",
       "        //console.log('sending', m);\n",
       "        comm.send(m);\n",
       "    };\n",
       "    // Register the callback with on_msg.\n",
       "    comm.on_msg(function(msg) {\n",
       "        //console.log('receiving', msg['content']['data'], msg);\n",
       "        // Pass the mpl event to the overriden (by mpl) onmessage function.\n",
       "        ws.onmessage(msg['content']['data'])\n",
       "    });\n",
       "    return ws;\n",
       "}\n",
       "\n",
       "mpl.mpl_figure_comm = function(comm, msg) {\n",
       "    // This is the function which gets called when the mpl process\n",
       "    // starts-up an IPython Comm through the \"matplotlib\" channel.\n",
       "\n",
       "    var id = msg.content.data.id;\n",
       "    // Get hold of the div created by the display call when the Comm\n",
       "    // socket was opened in Python.\n",
       "    var element = $(\"#\" + id);\n",
       "    var ws_proxy = comm_websocket_adapter(comm)\n",
       "\n",
       "    function ondownload(figure, format) {\n",
       "        window.open(figure.imageObj.src);\n",
       "    }\n",
       "\n",
       "    var fig = new mpl.figure(id, ws_proxy,\n",
       "                           ondownload,\n",
       "                           element.get(0));\n",
       "\n",
       "    // Call onopen now - mpl needs it, as it is assuming we've passed it a real\n",
       "    // web socket which is closed, not our websocket->open comm proxy.\n",
       "    ws_proxy.onopen();\n",
       "\n",
       "    fig.parent_element = element.get(0);\n",
       "    fig.cell_info = mpl.find_output_cell(\"<div id='\" + id + \"'></div>\");\n",
       "    if (!fig.cell_info) {\n",
       "        console.error(\"Failed to find cell for figure\", id, fig);\n",
       "        return;\n",
       "    }\n",
       "\n",
       "    var output_index = fig.cell_info[2]\n",
       "    var cell = fig.cell_info[0];\n",
       "\n",
       "};\n",
       "\n",
       "mpl.figure.prototype.handle_close = function(fig, msg) {\n",
       "    var width = fig.canvas.width/mpl.ratio\n",
       "    fig.root.unbind('remove')\n",
       "\n",
       "    // Update the output cell to use the data from the current canvas.\n",
       "    fig.push_to_output();\n",
       "    var dataURL = fig.canvas.toDataURL();\n",
       "    // Re-enable the keyboard manager in IPython - without this line, in FF,\n",
       "    // the notebook keyboard shortcuts fail.\n",
       "    IPython.keyboard_manager.enable()\n",
       "    $(fig.parent_element).html('<img src=\"' + dataURL + '\" width=\"' + width + '\">');\n",
       "    fig.close_ws(fig, msg);\n",
       "}\n",
       "\n",
       "mpl.figure.prototype.close_ws = function(fig, msg){\n",
       "    fig.send_message('closing', msg);\n",
       "    // fig.ws.close()\n",
       "}\n",
       "\n",
       "mpl.figure.prototype.push_to_output = function(remove_interactive) {\n",
       "    // Turn the data on the canvas into data in the output cell.\n",
       "    var width = this.canvas.width/mpl.ratio\n",
       "    var dataURL = this.canvas.toDataURL();\n",
       "    this.cell_info[1]['text/html'] = '<img src=\"' + dataURL + '\" width=\"' + width + '\">';\n",
       "}\n",
       "\n",
       "mpl.figure.prototype.updated_canvas_event = function() {\n",
       "    // Tell IPython that the notebook contents must change.\n",
       "    IPython.notebook.set_dirty(true);\n",
       "    this.send_message(\"ack\", {});\n",
       "    var fig = this;\n",
       "    // Wait a second, then push the new image to the DOM so\n",
       "    // that it is saved nicely (might be nice to debounce this).\n",
       "    setTimeout(function () { fig.push_to_output() }, 1000);\n",
       "}\n",
       "\n",
       "mpl.figure.prototype._init_toolbar = function() {\n",
       "    var fig = this;\n",
       "\n",
       "    var nav_element = $('<div/>')\n",
       "    nav_element.attr('style', 'width: 100%');\n",
       "    this.root.append(nav_element);\n",
       "\n",
       "    // Define a callback function for later on.\n",
       "    function toolbar_event(event) {\n",
       "        return fig.toolbar_button_onclick(event['data']);\n",
       "    }\n",
       "    function toolbar_mouse_event(event) {\n",
       "        return fig.toolbar_button_onmouseover(event['data']);\n",
       "    }\n",
       "\n",
       "    for(var toolbar_ind in mpl.toolbar_items){\n",
       "        var name = mpl.toolbar_items[toolbar_ind][0];\n",
       "        var tooltip = mpl.toolbar_items[toolbar_ind][1];\n",
       "        var image = mpl.toolbar_items[toolbar_ind][2];\n",
       "        var method_name = mpl.toolbar_items[toolbar_ind][3];\n",
       "\n",
       "        if (!name) { continue; };\n",
       "\n",
       "        var button = $('<button class=\"btn btn-default\" href=\"#\" title=\"' + name + '\"><i class=\"fa ' + image + ' fa-lg\"></i></button>');\n",
       "        button.click(method_name, toolbar_event);\n",
       "        button.mouseover(tooltip, toolbar_mouse_event);\n",
       "        nav_element.append(button);\n",
       "    }\n",
       "\n",
       "    // Add the status bar.\n",
       "    var status_bar = $('<span class=\"mpl-message\" style=\"text-align:right; float: right;\"/>');\n",
       "    nav_element.append(status_bar);\n",
       "    this.message = status_bar[0];\n",
       "\n",
       "    // Add the close button to the window.\n",
       "    var buttongrp = $('<div class=\"btn-group inline pull-right\"></div>');\n",
       "    var button = $('<button class=\"btn btn-mini btn-primary\" href=\"#\" title=\"Stop Interaction\"><i class=\"fa fa-power-off icon-remove icon-large\"></i></button>');\n",
       "    button.click(function (evt) { fig.handle_close(fig, {}); } );\n",
       "    button.mouseover('Stop Interaction', toolbar_mouse_event);\n",
       "    buttongrp.append(button);\n",
       "    var titlebar = this.root.find($('.ui-dialog-titlebar'));\n",
       "    titlebar.prepend(buttongrp);\n",
       "}\n",
       "\n",
       "mpl.figure.prototype._root_extra_style = function(el){\n",
       "    var fig = this\n",
       "    el.on(\"remove\", function(){\n",
       "\tfig.close_ws(fig, {});\n",
       "    });\n",
       "}\n",
       "\n",
       "mpl.figure.prototype._canvas_extra_style = function(el){\n",
       "    // this is important to make the div 'focusable\n",
       "    el.attr('tabindex', 0)\n",
       "    // reach out to IPython and tell the keyboard manager to turn it's self\n",
       "    // off when our div gets focus\n",
       "\n",
       "    // location in version 3\n",
       "    if (IPython.notebook.keyboard_manager) {\n",
       "        IPython.notebook.keyboard_manager.register_events(el);\n",
       "    }\n",
       "    else {\n",
       "        // location in version 2\n",
       "        IPython.keyboard_manager.register_events(el);\n",
       "    }\n",
       "\n",
       "}\n",
       "\n",
       "mpl.figure.prototype._key_event_extra = function(event, name) {\n",
       "    var manager = IPython.notebook.keyboard_manager;\n",
       "    if (!manager)\n",
       "        manager = IPython.keyboard_manager;\n",
       "\n",
       "    // Check for shift+enter\n",
       "    if (event.shiftKey && event.which == 13) {\n",
       "        this.canvas_div.blur();\n",
       "        event.shiftKey = false;\n",
       "        // Send a \"J\" for go to next cell\n",
       "        event.which = 74;\n",
       "        event.keyCode = 74;\n",
       "        manager.command_mode();\n",
       "        manager.handle_keydown(event);\n",
       "    }\n",
       "}\n",
       "\n",
       "mpl.figure.prototype.handle_save = function(fig, msg) {\n",
       "    fig.ondownload(fig, null);\n",
       "}\n",
       "\n",
       "\n",
       "mpl.find_output_cell = function(html_output) {\n",
       "    // Return the cell and output element which can be found *uniquely* in the notebook.\n",
       "    // Note - this is a bit hacky, but it is done because the \"notebook_saving.Notebook\"\n",
       "    // IPython event is triggered only after the cells have been serialised, which for\n",
       "    // our purposes (turning an active figure into a static one), is too late.\n",
       "    var cells = IPython.notebook.get_cells();\n",
       "    var ncells = cells.length;\n",
       "    for (var i=0; i<ncells; i++) {\n",
       "        var cell = cells[i];\n",
       "        if (cell.cell_type === 'code'){\n",
       "            for (var j=0; j<cell.output_area.outputs.length; j++) {\n",
       "                var data = cell.output_area.outputs[j];\n",
       "                if (data.data) {\n",
       "                    // IPython >= 3 moved mimebundle to data attribute of output\n",
       "                    data = data.data;\n",
       "                }\n",
       "                if (data['text/html'] == html_output) {\n",
       "                    return [cell, data, j];\n",
       "                }\n",
       "            }\n",
       "        }\n",
       "    }\n",
       "}\n",
       "\n",
       "// Register the function which deals with the matplotlib target/channel.\n",
       "// The kernel may be null if the page has been refreshed.\n",
       "if (IPython.notebook.kernel != null) {\n",
       "    IPython.notebook.kernel.comm_manager.register_target('matplotlib', mpl.mpl_figure_comm);\n",
       "}\n"
      ],
      "text/plain": [
       "<IPython.core.display.Javascript object>"
      ]
     },
     "metadata": {},
     "output_type": "display_data"
    },
    {
     "data": {
      "text/html": [
       "<img src=\"data:image/png;base64,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\" width=\"640\">"
      ],
      "text/plain": [
       "<IPython.core.display.HTML object>"
      ]
     },
     "metadata": {},
     "output_type": "display_data"
    }
   ],
   "source": [
    "fig, ax = plt.subplots(1, 1)\n",
    "ax.plot(traj[:, 3], traj[:, 4])\n",
    "ax.set_xlabel('x')\n",
    "ax.set_ylabel('y');"
   ]
  },
  {
   "cell_type": "markdown",
   "metadata": {},
   "source": [
    "# 3D Visualization"
   ]
  },
  {
   "cell_type": "code",
   "execution_count": 74,
   "metadata": {
    "collapsed": true,
    "deletable": true,
    "editable": true
   },
   "outputs": [],
   "source": [
    "from pydy.viz import Plane, Cylinder, Scene, VisualizationFrame"
   ]
  },
  {
   "cell_type": "code",
   "execution_count": 75,
   "metadata": {
    "collapsed": true,
    "deletable": true,
    "editable": true
   },
   "outputs": [],
   "source": [
    "ground = Plane(20.0, 20.0, color='blue')\n",
    "disc_cyl = Cylinder(0.001, 1.0, color='red', material='checkerboard')"
   ]
  },
  {
   "cell_type": "code",
   "execution_count": 76,
   "metadata": {
    "collapsed": false,
    "deletable": true,
    "editable": true
   },
   "outputs": [],
   "source": [
    "vf1 = VisualizationFrame('ground', N, No, ground)\n",
    "vf2 = VisualizationFrame('disc', R.orientnew('R', 'Axis', (sm.pi/2, R.z)), Ro, disc_cyl)"
   ]
  },
  {
   "cell_type": "code",
   "execution_count": 77,
   "metadata": {
    "collapsed": true,
    "deletable": true,
    "editable": true
   },
   "outputs": [],
   "source": [
    "scene = Scene(N, No, vf1, vf2,\n",
    "              times=times,\n",
    "              states_symbols=[q1, q2, q3, x, y, u1, u2, u3],\n",
    "              states_trajectories=traj,\n",
    "              constants={m: 1.0, r: 1.0, g: 9.81})"
   ]
  },
  {
   "cell_type": "code",
   "execution_count": 78,
   "metadata": {
    "collapsed": false,
    "deletable": true,
    "editable": true
   },
   "outputs": [],
   "source": [
    "scene.display_ipython()"
   ]
  }
 ],
 "metadata": {
  "kernelspec": {
   "display_name": "Python 3",
   "language": "python",
   "name": "python3"
  },
  "language_info": {
   "codemirror_mode": {
    "name": "ipython",
    "version": 3
   },
   "file_extension": ".py",
   "mimetype": "text/x-python",
   "name": "python",
   "nbconvert_exporter": "python",
   "pygments_lexer": "ipython3",
   "version": "3.5.3"
  }
 },
 "nbformat": 4,
 "nbformat_minor": 2
}
