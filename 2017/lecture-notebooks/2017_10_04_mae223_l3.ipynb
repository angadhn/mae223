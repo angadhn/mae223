{
 "cells": [
  {
   "cell_type": "code",
   "execution_count": 1,
   "metadata": {},
   "outputs": [],
   "source": [
    "import sympy as sm\n",
    "import sympy.physics.mechanics as me"
   ]
  },
  {
   "cell_type": "code",
   "execution_count": 2,
   "metadata": {},
   "outputs": [],
   "source": [
    "q1, q2, q3 = me.dynamicsymbols('q1, q2, q3')"
   ]
  },
  {
   "cell_type": "code",
   "execution_count": 3,
   "metadata": {},
   "outputs": [],
   "source": [
    "me.init_vprinting(use_latex=True, pretty_print=False)"
   ]
  },
  {
   "cell_type": "code",
   "execution_count": 4,
   "metadata": {},
   "outputs": [
    {
     "data": {
      "image/png": "[encoded data removed]",
      "text/latex": [
       "$$q_{1}$$"
      ],
      "text/plain": [
       "q1"
      ]
     },
     "execution_count": 4,
     "metadata": {},
     "output_type": "execute_result"
    }
   ],
   "source": [
    "q1"
   ]
  },
  {
   "cell_type": "code",
   "execution_count": 5,
   "metadata": {},
   "outputs": [
    {
     "data": {
      "image/png": "[encoded data removed]",
      "text/latex": [
       "$$\\dot{q}_{1}$$"
      ],
      "text/plain": [
       "q1'"
      ]
     },
     "execution_count": 5,
     "metadata": {},
     "output_type": "execute_result"
    }
   ],
   "source": [
    "q1.diff()"
   ]
  },
  {
   "cell_type": "code",
   "execution_count": 6,
   "metadata": {},
   "outputs": [],
   "source": [
    "D = me.ReferenceFrame('D')"
   ]
  },
  {
   "cell_type": "code",
   "execution_count": 7,
   "metadata": {},
   "outputs": [],
   "source": [
    "A = me.ReferenceFrame('A')"
   ]
  },
  {
   "cell_type": "code",
   "execution_count": 10,
   "metadata": {},
   "outputs": [],
   "source": [
    "A.orient(D, 'Axis', (-q3, D.z))"
   ]
  },
  {
   "cell_type": "code",
   "execution_count": 12,
   "metadata": {},
   "outputs": [
    {
     "data": {
      "text/latex": [
       "$$\\left[\\begin{matrix}\\operatorname{cos}\\left(q_{3}\\right) & - \\operatorname{sin}\\left(q_{3}\\right) & 0\\\\\\operatorname{sin}\\left(q_{3}\\right) & \\operatorname{cos}\\left(q_{3}\\right) & 0\\\\0 & 0 & 1\\end{matrix}\\right]$$"
      ],
      "text/plain": [
       "Matrix([\n",
       "[cos(q3), -sin(q3), 0],\n",
       "[sin(q3),  cos(q3), 0],\n",
       "[      0,        0, 1]])"
      ]
     },
     "execution_count": 12,
     "metadata": {},
     "output_type": "execute_result"
    }
   ],
   "source": [
    "A.dcm(D)"
   ]
  },
  {
   "cell_type": "code",
   "execution_count": 13,
   "metadata": {},
   "outputs": [],
   "source": [
    "B = me.ReferenceFrame('B')"
   ]
  },
  {
   "cell_type": "code",
   "execution_count": 14,
   "metadata": {},
   "outputs": [],
   "source": [
    "B.orient(A, 'Axis', (-q2, A.y))"
   ]
  },
  {
   "cell_type": "code",
   "execution_count": 15,
   "metadata": {},
   "outputs": [],
   "source": [
    "C = me.ReferenceFrame('C')"
   ]
  },
  {
   "cell_type": "code",
   "execution_count": 16,
   "metadata": {},
   "outputs": [],
   "source": [
    "C.orient(B, 'Axis', (q1, B.x))"
   ]
  },
  {
   "cell_type": "code",
   "execution_count": 17,
   "metadata": {},
   "outputs": [
    {
     "data": {
      "text/latex": [
       "$$\\left[\\begin{matrix}1 & 0 & 0\\\\0 & \\operatorname{cos}\\left(q_{1}\\right) & \\operatorname{sin}\\left(q_{1}\\right)\\\\0 & - \\operatorname{sin}\\left(q_{1}\\right) & \\operatorname{cos}\\left(q_{1}\\right)\\end{matrix}\\right]$$"
      ],
      "text/plain": [
       "Matrix([\n",
       "[1,        0,       0],\n",
       "[0,  cos(q1), sin(q1)],\n",
       "[0, -sin(q1), cos(q1)]])"
      ]
     },
     "execution_count": 17,
     "metadata": {},
     "output_type": "execute_result"
    }
   ],
   "source": [
    "C.dcm(B)"
   ]
  },
  {
   "cell_type": "code",
   "execution_count": 18,
   "metadata": {},
   "outputs": [
    {
     "data": {
      "text/latex": [
       "$$\\left[\\begin{matrix}\\operatorname{cos}\\left(q_{2}\\right) & 0 & \\operatorname{sin}\\left(q_{2}\\right)\\\\0 & 1 & 0\\\\- \\operatorname{sin}\\left(q_{2}\\right) & 0 & \\operatorname{cos}\\left(q_{2}\\right)\\end{matrix}\\right]$$"
      ],
      "text/plain": [
       "Matrix([\n",
       "[ cos(q2), 0, sin(q2)],\n",
       "[       0, 1,       0],\n",
       "[-sin(q2), 0, cos(q2)]])"
      ]
     },
     "execution_count": 18,
     "metadata": {},
     "output_type": "execute_result"
    }
   ],
   "source": [
    "B.dcm(A)"
   ]
  },
  {
   "cell_type": "code",
   "execution_count": 19,
   "metadata": {},
   "outputs": [
    {
     "data": {
      "text/latex": [
       "$$\\left[\\begin{matrix}\\operatorname{cos}\\left(q_{2}\\right) \\operatorname{cos}\\left(q_{3}\\right) & - \\operatorname{sin}\\left(q_{3}\\right) \\operatorname{cos}\\left(q_{2}\\right) & \\operatorname{sin}\\left(q_{2}\\right)\\\\- \\operatorname{sin}\\left(q_{1}\\right) \\operatorname{sin}\\left(q_{2}\\right) \\operatorname{cos}\\left(q_{3}\\right) + \\operatorname{sin}\\left(q_{3}\\right) \\operatorname{cos}\\left(q_{1}\\right) & \\operatorname{sin}\\left(q_{1}\\right) \\operatorname{sin}\\left(q_{2}\\right) \\operatorname{sin}\\left(q_{3}\\right) + \\operatorname{cos}\\left(q_{1}\\right) \\operatorname{cos}\\left(q_{3}\\right) & \\operatorname{sin}\\left(q_{1}\\right) \\operatorname{cos}\\left(q_{2}\\right)\\\\- \\operatorname{sin}\\left(q_{1}\\right) \\operatorname{sin}\\left(q_{3}\\right) - \\operatorname{sin}\\left(q_{2}\\right) \\operatorname{cos}\\left(q_{1}\\right) \\operatorname{cos}\\left(q_{3}\\right) & - \\operatorname{sin}\\left(q_{1}\\right) \\operatorname{cos}\\left(q_{3}\\right) + \\operatorname{sin}\\left(q_{2}\\right) \\operatorname{sin}\\left(q_{3}\\right) \\operatorname{cos}\\left(q_{1}\\right) & \\operatorname{cos}\\left(q_{1}\\right) \\operatorname{cos}\\left(q_{2}\\right)\\end{matrix}\\right]$$"
      ],
      "text/plain": [
       "Matrix([\n",
       "[                           cos(q2)*cos(q3),                           -sin(q3)*cos(q2),         sin(q2)],\n",
       "[-sin(q1)*sin(q2)*cos(q3) + sin(q3)*cos(q1),  sin(q1)*sin(q2)*sin(q3) + cos(q1)*cos(q3), sin(q1)*cos(q2)],\n",
       "[-sin(q1)*sin(q3) - sin(q2)*cos(q1)*cos(q3), -sin(q1)*cos(q3) + sin(q2)*sin(q3)*cos(q1), cos(q1)*cos(q2)]])"
      ]
     },
     "execution_count": 19,
     "metadata": {},
     "output_type": "execute_result"
    }
   ],
   "source": [
    "C.dcm(D)"
   ]
  },
  {
   "cell_type": "code",
   "execution_count": 20,
   "metadata": {},
   "outputs": [
    {
     "data": {
      "text/latex": [
       "$$\\left[\\begin{matrix}\\operatorname{cos}\\left(q_{3}\\right) & - \\operatorname{sin}\\left(q_{3}\\right) & 0\\\\\\operatorname{sin}\\left(q_{3}\\right) & \\operatorname{cos}\\left(q_{3}\\right) & 0\\\\0 & 0 & 1\\end{matrix}\\right]$$"
      ],
      "text/plain": [
       "Matrix([\n",
       "[cos(q3), -sin(q3), 0],\n",
       "[sin(q3),  cos(q3), 0],\n",
       "[      0,        0, 1]])"
      ]
     },
     "execution_count": 20,
     "metadata": {},
     "output_type": "execute_result"
    }
   ],
   "source": [
    "A.dcm(D)"
   ]
  },
  {
   "cell_type": "code",
   "execution_count": 21,
   "metadata": {},
   "outputs": [
    {
     "data": {
      "text/latex": [
       "$$\\left[\\begin{matrix}\\operatorname{cos}\\left(q_{2}\\right) & 0 & \\operatorname{sin}\\left(q_{2}\\right)\\\\0 & 1 & 0\\\\- \\operatorname{sin}\\left(q_{2}\\right) & 0 & \\operatorname{cos}\\left(q_{2}\\right)\\end{matrix}\\right]$$"
      ],
      "text/plain": [
       "Matrix([\n",
       "[ cos(q2), 0, sin(q2)],\n",
       "[       0, 1,       0],\n",
       "[-sin(q2), 0, cos(q2)]])"
      ]
     },
     "execution_count": 21,
     "metadata": {},
     "output_type": "execute_result"
    }
   ],
   "source": [
    "B.dcm(A)"
   ]
  },
  {
   "cell_type": "code",
   "execution_count": 22,
   "metadata": {},
   "outputs": [
    {
     "data": {
      "text/latex": [
       "$$\\left[\\begin{matrix}\\operatorname{cos}\\left(q_{2}\\right) \\operatorname{cos}\\left(q_{3}\\right) & - \\operatorname{sin}\\left(q_{3}\\right) \\operatorname{cos}\\left(q_{2}\\right) & \\operatorname{sin}\\left(q_{2}\\right)\\\\\\operatorname{sin}\\left(q_{3}\\right) & \\operatorname{cos}\\left(q_{3}\\right) & 0\\\\- \\operatorname{sin}\\left(q_{2}\\right) \\operatorname{cos}\\left(q_{3}\\right) & \\operatorname{sin}\\left(q_{2}\\right) \\operatorname{sin}\\left(q_{3}\\right) & \\operatorname{cos}\\left(q_{2}\\right)\\end{matrix}\\right]$$"
      ],
      "text/plain": [
       "Matrix([\n",
       "[ cos(q2)*cos(q3), -sin(q3)*cos(q2), sin(q2)],\n",
       "[         sin(q3),          cos(q3),       0],\n",
       "[-sin(q2)*cos(q3),  sin(q2)*sin(q3), cos(q2)]])"
      ]
     },
     "execution_count": 22,
     "metadata": {},
     "output_type": "execute_result"
    }
   ],
   "source": [
    "B.dcm(A) * A.dcm(D)"
   ]
  },
  {
   "cell_type": "code",
   "execution_count": 23,
   "metadata": {},
   "outputs": [
    {
     "data": {
      "text/latex": [
       "$$\\left[\\begin{matrix}\\operatorname{cos}\\left(q_{2}\\right) \\operatorname{cos}\\left(q_{3}\\right) & - \\operatorname{sin}\\left(q_{3}\\right) \\operatorname{cos}\\left(q_{2}\\right) & \\operatorname{sin}\\left(q_{2}\\right)\\\\\\operatorname{sin}\\left(q_{3}\\right) & \\operatorname{cos}\\left(q_{3}\\right) & 0\\\\- \\operatorname{sin}\\left(q_{2}\\right) \\operatorname{cos}\\left(q_{3}\\right) & \\operatorname{sin}\\left(q_{2}\\right) \\operatorname{sin}\\left(q_{3}\\right) & \\operatorname{cos}\\left(q_{2}\\right)\\end{matrix}\\right]$$"
      ],
      "text/plain": [
       "Matrix([\n",
       "[ cos(q2)*cos(q3), -sin(q3)*cos(q2), sin(q2)],\n",
       "[         sin(q3),          cos(q3),       0],\n",
       "[-sin(q2)*cos(q3),  sin(q2)*sin(q3), cos(q2)]])"
      ]
     },
     "execution_count": 23,
     "metadata": {},
     "output_type": "execute_result"
    }
   ],
   "source": [
    "B.dcm(D)"
   ]
  },
  {
   "cell_type": "code",
   "execution_count": 25,
   "metadata": {},
   "outputs": [
    {
     "name": "stdout",
     "output_type": "stream",
     "text": [
      "Matrix([[cos(q2(t))*cos(q3(t)), -sin(q3(t))*cos(q2(t)), sin(q2(t))], [sin(q3(t)), cos(q3(t)), 0], [-sin(q2(t))*cos(q3(t)), sin(q2(t))*sin(q3(t)), cos(q2(t))]])\n"
     ]
    },
    {
     "data": {
      "text/latex": [
       "$$\\left[\\begin{matrix}\\operatorname{cos}\\left(q_{2}\\right) \\operatorname{cos}\\left(q_{3}\\right) & - \\operatorname{sin}\\left(q_{3}\\right) \\operatorname{cos}\\left(q_{2}\\right) & \\operatorname{sin}\\left(q_{2}\\right)\\\\\\operatorname{sin}\\left(q_{3}\\right) & \\operatorname{cos}\\left(q_{3}\\right) & 0\\\\- \\operatorname{sin}\\left(q_{2}\\right) \\operatorname{cos}\\left(q_{3}\\right) & \\operatorname{sin}\\left(q_{2}\\right) \\operatorname{sin}\\left(q_{3}\\right) & \\operatorname{cos}\\left(q_{2}\\right)\\end{matrix}\\right]$$"
      ],
      "text/plain": [
       "Matrix([\n",
       "[ cos(q2)*cos(q3), -sin(q3)*cos(q2), sin(q2)],\n",
       "[         sin(q3),          cos(q3),       0],\n",
       "[-sin(q2)*cos(q3),  sin(q2)*sin(q3), cos(q2)]])"
      ]
     },
     "execution_count": 25,
     "metadata": {},
     "output_type": "execute_result"
    }
   ],
   "source": [
    "print(B.dcm(A) * A.dcm(D))\n",
    "B.dcm(D)"
   ]
  },
  {
   "cell_type": "code",
   "execution_count": 26,
   "metadata": {},
   "outputs": [],
   "source": [
    "from IPython.display import Latex, display"
   ]
  },
  {
   "cell_type": "code",
   "execution_count": 27,
   "metadata": {},
   "outputs": [
    {
     "data": {
      "text/plain": [
       "'\\\\left[\\\\begin{matrix}\\\\cos{\\\\left (\\\\operatorname{q_{3}}{\\\\left (t \\\\right )} \\\\right )} & \\\\sin{\\\\left (\\\\operatorname{q_{3}}{\\\\left (t \\\\right )} \\\\right )} & 0\\\\\\\\- \\\\sin{\\\\left (\\\\operatorname{q_{3}}{\\\\left (t \\\\right )} \\\\right )} & \\\\cos{\\\\left (\\\\operatorname{q_{3}}{\\\\left (t \\\\right )} \\\\right )} & 0\\\\\\\\0 & 0 & 1\\\\end{matrix}\\\\right]'"
      ]
     },
     "execution_count": 27,
     "metadata": {},
     "output_type": "execute_result"
    }
   ],
   "source": [
    "sm.latex(D.dcm(A))"
   ]
  },
  {
   "cell_type": "code",
   "execution_count": 29,
   "metadata": {},
   "outputs": [
    {
     "data": {
      "text/plain": [
       "'$\\\\left[\\\\begin{smallmatrix}\\\\cos{\\\\left (\\\\operatorname{q_{3}}{\\\\left (t \\\\right )} \\\\right )} & \\\\sin{\\\\left (\\\\operatorname{q_{3}}{\\\\left (t \\\\right )} \\\\right )} & 0\\\\\\\\- \\\\sin{\\\\left (\\\\operatorname{q_{3}}{\\\\left (t \\\\right )} \\\\right )} & \\\\cos{\\\\left (\\\\operatorname{q_{3}}{\\\\left (t \\\\right )} \\\\right )} & 0\\\\\\\\0 & 0 & 1\\\\end{smallmatrix}\\\\right]$'"
      ]
     },
     "execution_count": 29,
     "metadata": {},
     "output_type": "execute_result"
    }
   ],
   "source": [
    "sm.latex(D.dcm(A), mode='inline')"
   ]
  },
  {
   "cell_type": "code",
   "execution_count": 30,
   "metadata": {},
   "outputs": [
    {
     "data": {
      "text/latex": [
       "$\\left[\\begin{smallmatrix}\\cos{\\left (\\operatorname{q_{3}}{\\left (t \\right )} \\right )} & \\sin{\\left (\\operatorname{q_{3}}{\\left (t \\right )} \\right )} & 0\\\\- \\sin{\\left (\\operatorname{q_{3}}{\\left (t \\right )} \\right )} & \\cos{\\left (\\operatorname{q_{3}}{\\left (t \\right )} \\right )} & 0\\\\0 & 0 & 1\\end{smallmatrix}\\right]$"
      ],
      "text/plain": [
       "<IPython.core.display.Latex object>"
      ]
     },
     "metadata": {},
     "output_type": "display_data"
    }
   ],
   "source": [
    "display(Latex(sm.latex(D.dcm(A), mode='inline')))"
   ]
  },
  {
   "cell_type": "code",
   "execution_count": 31,
   "metadata": {},
   "outputs": [
    {
     "name": "stdout",
     "output_type": "stream",
     "text": [
      "Automatic pdb calling has been turned ON\n"
     ]
    }
   ],
   "source": [
    "%pdb"
   ]
  },
  {
   "cell_type": "code",
   "execution_count": 32,
   "metadata": {},
   "outputs": [
    {
     "ename": "SyntaxError",
     "evalue": "EOL while scanning string literal (<ipython-input-32-512d23021dd1>, line 1)",
     "output_type": "error",
     "traceback": [
      "\u001b[0;36m  File \u001b[0;32m\"<ipython-input-32-512d23021dd1>\"\u001b[0;36m, line \u001b[0;32m1\u001b[0m\n\u001b[0;31m    a = '\u001b[0m\n\u001b[0m         ^\u001b[0m\n\u001b[0;31mSyntaxError\u001b[0m\u001b[0;31m:\u001b[0m EOL while scanning string literal\n"
     ]
    }
   ],
   "source": [
    "a = '"
   ]
  },
  {
   "cell_type": "code",
   "execution_count": 33,
   "metadata": {},
   "outputs": [
    {
     "name": "stdout",
     "output_type": "stream",
     "text": [
      "Automatic pdb calling has been turned OFF\n"
     ]
    }
   ],
   "source": [
    "%pdb"
   ]
  },
  {
   "cell_type": "code",
   "execution_count": 34,
   "metadata": {},
   "outputs": [],
   "source": [
    "R = sm.symbols('R')"
   ]
  },
  {
   "cell_type": "code",
   "execution_count": 35,
   "metadata": {},
   "outputs": [],
   "source": [
    "p = R * C.y"
   ]
  },
  {
   "cell_type": "code",
   "execution_count": 36,
   "metadata": {},
   "outputs": [
    {
     "data": {
      "image/png": "[encoded data removed]",
      "text/latex": [
       "$$R\\mathbf{\\hat{c}_y}$$"
      ],
      "text/plain": [
       "R*C.y"
      ]
     },
     "execution_count": 36,
     "metadata": {},
     "output_type": "execute_result"
    }
   ],
   "source": [
    "p"
   ]
  },
  {
   "cell_type": "code",
   "execution_count": 37,
   "metadata": {},
   "outputs": [
    {
     "data": {
      "image/png": "[encoded data removed]",
      "text/latex": [
       "$$R \\operatorname{cos}\\left(q_{1}\\right)\\mathbf{\\hat{b}_y} + R \\operatorname{sin}\\left(q_{1}\\right)\\mathbf{\\hat{b}_z}$$"
      ],
      "text/plain": [
       "R*cos(q1)*B.y + R*sin(q1)*B.z"
      ]
     },
     "execution_count": 37,
     "metadata": {},
     "output_type": "execute_result"
    }
   ],
   "source": [
    "p.express(B)"
   ]
  },
  {
   "cell_type": "code",
   "execution_count": 38,
   "metadata": {},
   "outputs": [
    {
     "data": {
      "image/png": "[encoded data removed]",
      "text/latex": [
       "$$R \\left(- \\operatorname{sin}\\left(q_{1}\\right) \\operatorname{sin}\\left(q_{2}\\right) \\operatorname{cos}\\left(q_{3}\\right) + \\operatorname{sin}\\left(q_{3}\\right) \\operatorname{cos}\\left(q_{1}\\right)\\right)\\mathbf{\\hat{d}_x} + R \\left(\\operatorname{sin}\\left(q_{1}\\right) \\operatorname{sin}\\left(q_{2}\\right) \\operatorname{sin}\\left(q_{3}\\right) + \\operatorname{cos}\\left(q_{1}\\right) \\operatorname{cos}\\left(q_{3}\\right)\\right)\\mathbf{\\hat{d}_y} + R \\operatorname{sin}\\left(q_{1}\\right) \\operatorname{cos}\\left(q_{2}\\right)\\mathbf{\\hat{d}_z}$$"
      ],
      "text/plain": [
       "R*(-sin(q1)*sin(q2)*cos(q3) + sin(q3)*cos(q1))*D.x + R*(sin(q1)*sin(q2)*sin(q3) + cos(q1)*cos(q3))*D.y + R*sin(q1)*cos(q2)*D.z"
      ]
     },
     "execution_count": 38,
     "metadata": {},
     "output_type": "execute_result"
    }
   ],
   "source": [
    "p.express(D)"
   ]
  }
 ],
 "metadata": {
  "kernelspec": {
   "display_name": "Python 3",
   "language": "python",
   "name": "python3"
  },
  "language_info": {
   "codemirror_mode": {
    "name": "ipython",
    "version": 3
   },
   "file_extension": ".py",
   "mimetype": "text/x-python",
   "name": "python",
   "nbconvert_exporter": "python",
   "pygments_lexer": "ipython3",
   "version": "3.6.2"
  }
 },
 "nbformat": 4,
 "nbformat_minor": 2
}
