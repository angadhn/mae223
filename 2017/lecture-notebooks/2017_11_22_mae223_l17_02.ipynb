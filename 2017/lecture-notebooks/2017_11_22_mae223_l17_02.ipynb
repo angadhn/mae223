{
 "cells": [
  {
   "cell_type": "code",
   "execution_count": 1,
   "metadata": {
    "collapsed": true,
    "deletable": true,
    "editable": true
   },
   "outputs": [],
   "source": [
    "import sympy as sm\n",
    "import sympy.physics.mechanics as me\n",
    "me.init_vprinting(use_latex=True, pretty_print=False)"
   ]
  },
  {
   "cell_type": "markdown",
   "metadata": {
    "deletable": true,
    "editable": true
   },
   "source": [
    "# Generalized coordinates"
   ]
  },
  {
   "cell_type": "code",
   "execution_count": 2,
   "metadata": {
    "collapsed": true,
    "deletable": true,
    "editable": true
   },
   "outputs": [],
   "source": [
    "q1, q2, q3 = me.dynamicsymbols('q1, q2, q3')"
   ]
  },
  {
   "cell_type": "markdown",
   "metadata": {
    "deletable": true,
    "editable": true
   },
   "source": [
    "# Generalized speeds"
   ]
  },
  {
   "cell_type": "code",
   "execution_count": 3,
   "metadata": {
    "collapsed": true,
    "deletable": true,
    "editable": true
   },
   "outputs": [],
   "source": [
    "u1, u2, u3 = me.dynamicsymbols('u1, u2, u3')"
   ]
  },
  {
   "cell_type": "markdown",
   "metadata": {
    "deletable": true,
    "editable": true
   },
   "source": [
    "# Specified Inputs"
   ]
  },
  {
   "cell_type": "code",
   "execution_count": 4,
   "metadata": {
    "collapsed": true,
    "deletable": true,
    "editable": true
   },
   "outputs": [],
   "source": [
    "F, T = me.dynamicsymbols('F, T')"
   ]
  },
  {
   "cell_type": "markdown",
   "metadata": {
    "deletable": true,
    "editable": true
   },
   "source": [
    "# Constants"
   ]
  },
  {
   "cell_type": "code",
   "execution_count": 5,
   "metadata": {
    "collapsed": false,
    "deletable": true,
    "editable": true
   },
   "outputs": [
    {
     "data": {
      "image/png": "[encoded data removed]",
      "text/latex": [
       "$$I_{B_bo}$$"
      ],
      "text/plain": [
       "I_{B_bo}"
      ]
     },
     "execution_count": 5,
     "metadata": {},
     "output_type": "execute_result"
    }
   ],
   "source": [
    "k, c, ma, mb, mc, IB_bo, l, kT, g = sm.symbols('k, c, m_a, m_b, m_c, I_{B_bo}, l, k_T, g')\n",
    "IB_bo"
   ]
  },
  {
   "cell_type": "markdown",
   "metadata": {
    "deletable": true,
    "editable": true
   },
   "source": [
    "# Reference Frames"
   ]
  },
  {
   "cell_type": "code",
   "execution_count": 6,
   "metadata": {
    "collapsed": true,
    "deletable": true,
    "editable": true
   },
   "outputs": [],
   "source": [
    "N = me.ReferenceFrame('N')"
   ]
  },
  {
   "cell_type": "code",
   "execution_count": 7,
   "metadata": {
    "collapsed": true,
    "deletable": true,
    "editable": true
   },
   "outputs": [],
   "source": [
    "B = N.orientnew('B', 'Axis', (q2, N.z))"
   ]
  },
  {
   "cell_type": "code",
   "execution_count": 8,
   "metadata": {
    "collapsed": true,
    "deletable": true,
    "editable": true
   },
   "outputs": [],
   "source": [
    "C = B.orientnew('C', 'Axis', (q3, N.z))"
   ]
  },
  {
   "cell_type": "markdown",
   "metadata": {
    "deletable": true,
    "editable": true
   },
   "source": [
    "# Kinematic Differential Equations\n",
    "\n",
    "$$\n",
    "u_i = \\dot{q}_i \\\\\n",
    "0 = u_i - \\dot{q}_i\n",
    "$$\n"
   ]
  },
  {
   "cell_type": "code",
   "execution_count": 9,
   "metadata": {
    "collapsed": false,
    "deletable": true,
    "editable": true
   },
   "outputs": [
    {
     "data": {
      "image/png": "[encoded data removed]",
      "text/latex": [
       "$$\\left [ u_{1} - \\dot{q}_{1}, \\quad u_{2} - \\dot{q}_{2}, \\quad u_{3} - \\dot{q}_{3}\\right ]$$"
      ],
      "text/plain": [
       "[u1 - q1', u2 - q2', u3 - q3']"
      ]
     },
     "execution_count": 9,
     "metadata": {},
     "output_type": "execute_result"
    }
   ],
   "source": [
    "kdes = [u1 - q1.diff(),\n",
    "        u2 - q2.diff(),\n",
    "        u3 - q3.diff()]\n",
    "kdes"
   ]
  },
  {
   "cell_type": "markdown",
   "metadata": {
    "deletable": true,
    "editable": true
   },
   "source": [
    "# Angular Velocities"
   ]
  },
  {
   "cell_type": "code",
   "execution_count": 10,
   "metadata": {
    "collapsed": true,
    "deletable": true,
    "editable": true
   },
   "outputs": [],
   "source": [
    "B.set_ang_vel(N, u2 * N.z)"
   ]
  },
  {
   "cell_type": "code",
   "execution_count": 11,
   "metadata": {
    "collapsed": true,
    "deletable": true,
    "editable": true
   },
   "outputs": [],
   "source": [
    "C.set_ang_vel(B, u3 * N.z)"
   ]
  },
  {
   "cell_type": "markdown",
   "metadata": {
    "deletable": true,
    "editable": true
   },
   "source": [
    "# Points"
   ]
  },
  {
   "cell_type": "code",
   "execution_count": 12,
   "metadata": {
    "collapsed": true,
    "deletable": true,
    "editable": true
   },
   "outputs": [],
   "source": [
    "O = me.Point('O')"
   ]
  },
  {
   "cell_type": "code",
   "execution_count": 13,
   "metadata": {
    "collapsed": true,
    "deletable": true,
    "editable": true
   },
   "outputs": [],
   "source": [
    "Pab = O.locatenew('P_{ab}', q1 * N.x)"
   ]
  },
  {
   "cell_type": "code",
   "execution_count": 14,
   "metadata": {
    "collapsed": true,
    "deletable": true,
    "editable": true
   },
   "outputs": [],
   "source": [
    "Bo = Pab.locatenew('B_o', - 2 * l / 3 * B.y)"
   ]
  },
  {
   "cell_type": "code",
   "execution_count": 15,
   "metadata": {
    "collapsed": true,
    "deletable": true,
    "editable": true
   },
   "outputs": [],
   "source": [
    "Pbc = Pab.locatenew('P_{bc}', -l * B.y)"
   ]
  },
  {
   "cell_type": "code",
   "execution_count": 16,
   "metadata": {
    "collapsed": true,
    "deletable": true,
    "editable": true
   },
   "outputs": [],
   "source": [
    "Pc = Pbc.locatenew('P_c', -l * C.y)"
   ]
  },
  {
   "cell_type": "code",
   "execution_count": 17,
   "metadata": {
    "collapsed": false,
    "deletable": true,
    "editable": true
   },
   "outputs": [
    {
     "data": {
      "image/png": "[encoded data removed]",
      "text/latex": [
       "$$q_{1}\\mathbf{\\hat{n}_x} -  l\\mathbf{\\hat{b}_y} -  l\\mathbf{\\hat{c}_y}$$"
      ],
      "text/plain": [
       "q1*N.x - l*B.y - l*C.y"
      ]
     },
     "execution_count": 17,
     "metadata": {},
     "output_type": "execute_result"
    }
   ],
   "source": [
    "Pc.pos_from(O)"
   ]
  },
  {
   "cell_type": "markdown",
   "metadata": {
    "deletable": true,
    "editable": true
   },
   "source": [
    "# Linear Velocities"
   ]
  },
  {
   "cell_type": "code",
   "execution_count": 18,
   "metadata": {
    "collapsed": true,
    "deletable": true,
    "editable": true
   },
   "outputs": [],
   "source": [
    "Pab.set_vel(N, u1 * N.x)"
   ]
  },
  {
   "cell_type": "code",
   "execution_count": 19,
   "metadata": {
    "collapsed": false,
    "deletable": true,
    "editable": true
   },
   "outputs": [
    {
     "data": {
      "image/png": "[encoded data removed]",
      "text/latex": [
       "$$\\frac{2 l}{3} u_{2}\\mathbf{\\hat{b}_x} + u_{1}\\mathbf{\\hat{n}_x}$$"
      ],
      "text/plain": [
       "u1*N.x + 2*l*u2/3*B.x"
      ]
     },
     "execution_count": 19,
     "metadata": {},
     "output_type": "execute_result"
    }
   ],
   "source": [
    "Bo.v2pt_theory(Pab, N, B)"
   ]
  },
  {
   "cell_type": "code",
   "execution_count": 20,
   "metadata": {
    "collapsed": false,
    "deletable": true,
    "editable": true
   },
   "outputs": [
    {
     "data": {
      "image/png": "[encoded data removed]",
      "text/latex": [
       "$$l u_{2}\\mathbf{\\hat{b}_x} + u_{1}\\mathbf{\\hat{n}_x}$$"
      ],
      "text/plain": [
       "u1*N.x + l*u2*B.x"
      ]
     },
     "execution_count": 20,
     "metadata": {},
     "output_type": "execute_result"
    }
   ],
   "source": [
    "Pbc.v2pt_theory(Pab, N, B)"
   ]
  },
  {
   "cell_type": "code",
   "execution_count": 21,
   "metadata": {
    "collapsed": false,
    "deletable": true,
    "editable": true
   },
   "outputs": [
    {
     "data": {
      "image/png": "[encoded data removed]",
      "text/latex": [
       "$$u_{1}\\mathbf{\\hat{n}_x} + l u_{2}\\mathbf{\\hat{b}_x} + l \\left(u_{2} + u_{3}\\right)\\mathbf{\\hat{c}_x}$$"
      ],
      "text/plain": [
       "u1*N.x + l*u2*B.x + l*(u2 + u3)*C.x"
      ]
     },
     "execution_count": 21,
     "metadata": {},
     "output_type": "execute_result"
    }
   ],
   "source": [
    "Pc.v2pt_theory(Pbc, N, C)"
   ]
  },
  {
   "cell_type": "markdown",
   "metadata": {
    "deletable": true,
    "editable": true
   },
   "source": [
    "# Partial Velocities"
   ]
  },
  {
   "cell_type": "code",
   "execution_count": 22,
   "metadata": {
    "collapsed": false,
    "deletable": true,
    "editable": true
   },
   "outputs": [
    {
     "data": {
      "image/png": "[encoded data removed]",
      "text/latex": [
       "$$\\mathbf{\\hat{n}_x}$$"
      ],
      "text/plain": [
       "N.x"
      ]
     },
     "execution_count": 22,
     "metadata": {},
     "output_type": "execute_result"
    }
   ],
   "source": [
    "Pab.vel(N).diff(u1, N)"
   ]
  },
  {
   "cell_type": "code",
   "execution_count": 23,
   "metadata": {
    "collapsed": false,
    "deletable": true,
    "editable": true
   },
   "outputs": [
    {
     "data": {
      "image/png": "[encoded data removed]",
      "text/latex": [
       "$$\\mathbf{\\hat{n}_x}$$"
      ],
      "text/plain": [
       "N.x"
      ]
     },
     "execution_count": 23,
     "metadata": {},
     "output_type": "execute_result"
    }
   ],
   "source": [
    "Pab.partial_velocity(N, u1)"
   ]
  },
  {
   "cell_type": "code",
   "execution_count": 24,
   "metadata": {
    "collapsed": false,
    "deletable": true,
    "editable": true
   },
   "outputs": [
    {
     "data": {
      "image/png": "[encoded data removed]",
      "text/latex": [
       "$$\\left ( \\mathbf{\\hat{n}_x}, \\quad 0, \\quad 0\\right )$$"
      ],
      "text/plain": [
       "(N.x, 0, 0)"
      ]
     },
     "execution_count": 24,
     "metadata": {},
     "output_type": "execute_result"
    }
   ],
   "source": [
    "Pab.partial_velocity(N, u1, u2, u3)"
   ]
  },
  {
   "cell_type": "code",
   "execution_count": 25,
   "metadata": {
    "collapsed": false,
    "deletable": true,
    "editable": true
   },
   "outputs": [
    {
     "data": {
      "image/png": "[encoded data removed]",
      "text/latex": [
       "$$\\left ( \\mathbf{\\hat{n}_x}, \\quad \\frac{2 l}{3}\\mathbf{\\hat{b}_x}, \\quad 0\\right )$$"
      ],
      "text/plain": [
       "(N.x, 2*l/3*B.x, 0)"
      ]
     },
     "execution_count": 25,
     "metadata": {},
     "output_type": "execute_result"
    }
   ],
   "source": [
    "Bo.partial_velocity(N, u1, u2, u3)"
   ]
  },
  {
   "cell_type": "code",
   "execution_count": 26,
   "metadata": {
    "collapsed": false,
    "deletable": true,
    "editable": true
   },
   "outputs": [
    {
     "data": {
      "image/png": "[encoded data removed]",
      "text/latex": [
       "$$\\left ( \\mathbf{\\hat{n}_x}, \\quad l\\mathbf{\\hat{b}_x} + l\\mathbf{\\hat{c}_x}, \\quad l\\mathbf{\\hat{c}_x}\\right )$$"
      ],
      "text/plain": [
       "(N.x, l*B.x + l*C.x, l*C.x)"
      ]
     },
     "execution_count": 26,
     "metadata": {},
     "output_type": "execute_result"
    }
   ],
   "source": [
    "Pc.partial_velocity(N, u1, u2, u3)"
   ]
  },
  {
   "cell_type": "code",
   "execution_count": 27,
   "metadata": {
    "collapsed": false,
    "deletable": true,
    "editable": true
   },
   "outputs": [
    {
     "data": {
      "image/png": "[encoded data removed]",
      "text/latex": [
       "$$\\left ( 0, \\quad \\mathbf{\\hat{n}_z}, \\quad 0\\right )$$"
      ],
      "text/plain": [
       "(0, N.z, 0)"
      ]
     },
     "execution_count": 27,
     "metadata": {},
     "output_type": "execute_result"
    }
   ],
   "source": [
    "B.partial_velocity(N, u1, u2, u3)"
   ]
  },
  {
   "cell_type": "code",
   "execution_count": 28,
   "metadata": {
    "collapsed": false,
    "deletable": true,
    "editable": true
   },
   "outputs": [
    {
     "data": {
      "image/png": "[encoded data removed]",
      "text/latex": [
       "$$\\left [ 0, \\quad \\mathbf{\\hat{n}_z}, \\quad 0\\right ]$$"
      ],
      "text/plain": [
       "[0, N.z, 0]"
      ]
     },
     "execution_count": 28,
     "metadata": {},
     "output_type": "execute_result"
    }
   ],
   "source": [
    "[B.ang_vel_in(N).diff(ur, N) for ur in [u1, u2, u3]]"
   ]
  },
  {
   "cell_type": "markdown",
   "metadata": {
    "deletable": true,
    "editable": true
   },
   "source": [
    "# Angular Accelerations"
   ]
  },
  {
   "cell_type": "code",
   "execution_count": 29,
   "metadata": {
    "collapsed": false,
    "deletable": true,
    "editable": true
   },
   "outputs": [
    {
     "data": {
      "image/png": "[encoded data removed]",
      "text/latex": [
       "$$\\dot{u}_{2}\\mathbf{\\hat{n}_z}$$"
      ],
      "text/plain": [
       "u2'*N.z"
      ]
     },
     "execution_count": 29,
     "metadata": {},
     "output_type": "execute_result"
    }
   ],
   "source": [
    "alpha_B_N = B.ang_acc_in(N)\n",
    "alpha_B_N"
   ]
  },
  {
   "cell_type": "code",
   "execution_count": 30,
   "metadata": {
    "collapsed": false,
    "deletable": true,
    "editable": true
   },
   "outputs": [
    {
     "data": {
      "image/png": "[encoded data removed]",
      "text/latex": [
       "$$\\dot{u}_{1}\\mathbf{\\hat{n}_x}$$"
      ],
      "text/plain": [
       "u1'*N.x"
      ]
     },
     "execution_count": 30,
     "metadata": {},
     "output_type": "execute_result"
    }
   ],
   "source": [
    "a_Pab_N = Pab.acc(N)\n",
    "a_Pab_N"
   ]
  },
  {
   "cell_type": "code",
   "execution_count": 31,
   "metadata": {
    "collapsed": false,
    "deletable": true,
    "editable": true
   },
   "outputs": [
    {
     "data": {
      "image/png": "[encoded data removed]",
      "text/latex": [
       "$$\\dot{u}_{1}\\mathbf{\\hat{n}_x} + \\frac{2 l}{3} \\dot{u}_{2}\\mathbf{\\hat{b}_x} + \\frac{2 l}{3} u^{2}_{2}\\mathbf{\\hat{b}_y}$$"
      ],
      "text/plain": [
       "u1'*N.x + 2*l*u2'/3*B.x + 2*l*u2**2/3*B.y"
      ]
     },
     "execution_count": 31,
     "metadata": {},
     "output_type": "execute_result"
    }
   ],
   "source": [
    "a_Bo_N = Bo.acc(N)\n",
    "a_Bo_N"
   ]
  },
  {
   "cell_type": "code",
   "execution_count": 32,
   "metadata": {
    "collapsed": false,
    "deletable": true,
    "editable": true
   },
   "outputs": [
    {
     "data": {
      "image/png": "[encoded data removed]",
      "text/latex": [
       "$$l \\dot{u}_{2}\\mathbf{\\hat{b}_x} + l u^{2}_{2}\\mathbf{\\hat{b}_y} + \\dot{u}_{1}\\mathbf{\\hat{n}_x} + l \\left(\\dot{u}_{2} + \\dot{u}_{3}\\right)\\mathbf{\\hat{c}_x} + l \\left(u_{2} + u_{3}\\right)^{2}\\mathbf{\\hat{c}_y}$$"
      ],
      "text/plain": [
       "u1'*N.x + l*u2'*B.x + l*u2**2*B.y + l*(u2' + u3')*C.x + l*(u2 + u3)**2*C.y"
      ]
     },
     "execution_count": 32,
     "metadata": {},
     "output_type": "execute_result"
    }
   ],
   "source": [
    "a_Pc_N = Pc.acc(N)\n",
    "a_Pc_N"
   ]
  },
  {
   "cell_type": "markdown",
   "metadata": {
    "deletable": true,
    "editable": true
   },
   "source": [
    "# Loads (forces and torques)"
   ]
  },
  {
   "cell_type": "code",
   "execution_count": 33,
   "metadata": {
    "collapsed": false,
    "deletable": true,
    "editable": true
   },
   "outputs": [
    {
     "data": {
      "image/png": "[encoded data removed]",
      "text/latex": [
       "$$(- c u_{1} - k q_{1} + F)\\mathbf{\\hat{n}_x}$$"
      ],
      "text/plain": [
       "(-c*u1 - k*q1 + F)*N.x"
      ]
     },
     "execution_count": 33,
     "metadata": {},
     "output_type": "execute_result"
    }
   ],
   "source": [
    "Rab = (F - k * q1 - c * u1) * N.x\n",
    "Rab"
   ]
  },
  {
   "cell_type": "code",
   "execution_count": 34,
   "metadata": {
    "collapsed": false,
    "deletable": true,
    "editable": true
   },
   "outputs": [
    {
     "data": {
      "image/png": "[encoded data removed]",
      "text/latex": [
       "$$-  g m_{b}\\mathbf{\\hat{n}_y}$$"
      ],
      "text/plain": [
       "- g*m_b*N.y"
      ]
     },
     "execution_count": 34,
     "metadata": {},
     "output_type": "execute_result"
    }
   ],
   "source": [
    "Rbo = -(mb * g) * N.y\n",
    "Rbo"
   ]
  },
  {
   "cell_type": "code",
   "execution_count": 35,
   "metadata": {
    "collapsed": false,
    "deletable": true,
    "editable": true
   },
   "outputs": [
    {
     "data": {
      "image/png": "[encoded data removed]",
      "text/latex": [
       "$$-  g m_{c}\\mathbf{\\hat{n}_y}$$"
      ],
      "text/plain": [
       "- g*m_c*N.y"
      ]
     },
     "execution_count": 35,
     "metadata": {},
     "output_type": "execute_result"
    }
   ],
   "source": [
    "Rc = -(mc * g) * N.y\n",
    "Rc"
   ]
  },
  {
   "cell_type": "code",
   "execution_count": 36,
   "metadata": {
    "collapsed": false,
    "deletable": true,
    "editable": true
   },
   "outputs": [
    {
     "data": {
      "image/png": "[encoded data removed]",
      "text/latex": [
       "$$(k_{T} q_{3} + T)\\mathbf{\\hat{n}_z}$$"
      ],
      "text/plain": [
       "(k_T*q3 + T)*N.z"
      ]
     },
     "execution_count": 36,
     "metadata": {},
     "output_type": "execute_result"
    }
   ],
   "source": [
    "TB = (T + kT * q3) * N.z\n",
    "TB"
   ]
  },
  {
   "cell_type": "markdown",
   "metadata": {
    "deletable": true,
    "editable": true
   },
   "source": [
    "# Mass and Inertia"
   ]
  },
  {
   "cell_type": "code",
   "execution_count": 37,
   "metadata": {
    "collapsed": false,
    "deletable": true,
    "editable": true
   },
   "outputs": [
    {
     "data": {
      "image/png": "[encoded data removed]",
      "text/latex": [
       "$$I_{B_bo}\\mathbf{\\hat{b}_z}\\otimes \\mathbf{\\hat{b}_z}$$"
      ],
      "text/plain": [
       "I_{B_bo}*(B.z|B.z)"
      ]
     },
     "execution_count": 37,
     "metadata": {},
     "output_type": "execute_result"
    }
   ],
   "source": [
    "IB = me.inertia(B, 0, 0, IB_bo)\n",
    "IB"
   ]
  },
  {
   "cell_type": "code",
   "execution_count": 38,
   "metadata": {
    "collapsed": false,
    "deletable": true,
    "editable": true
   },
   "outputs": [
    {
     "data": {
      "image/png": "[encoded data removed]",
      "text/latex": [
       "$$\\left ( m_{a}, \\quad m_{c}\\right )$$"
      ],
      "text/plain": [
       "(m_a, m_c)"
      ]
     },
     "execution_count": 38,
     "metadata": {},
     "output_type": "execute_result"
    }
   ],
   "source": [
    "ma, mc"
   ]
  },
  {
   "cell_type": "markdown",
   "metadata": {
    "deletable": true,
    "editable": true
   },
   "source": [
    "# Easy way to get EoMs"
   ]
  },
  {
   "cell_type": "code",
   "execution_count": 39,
   "metadata": {
    "collapsed": true,
    "deletable": true,
    "editable": true
   },
   "outputs": [],
   "source": [
    "slider = me.Particle('slider', Pab, ma)\n",
    "bob = me.Particle('bob', Pc, mc)"
   ]
  },
  {
   "cell_type": "code",
   "execution_count": 40,
   "metadata": {
    "collapsed": true,
    "deletable": true,
    "editable": true
   },
   "outputs": [],
   "source": [
    "pend = me.RigidBody('pend', Bo, B, mb, (IB, Bo))"
   ]
  },
  {
   "cell_type": "code",
   "execution_count": 41,
   "metadata": {
    "collapsed": true,
    "deletable": true,
    "editable": true
   },
   "outputs": [],
   "source": [
    "bodies = [slider, bob, pend]"
   ]
  },
  {
   "cell_type": "code",
   "execution_count": 42,
   "metadata": {
    "collapsed": true,
    "deletable": true,
    "editable": true
   },
   "outputs": [],
   "source": [
    "loads = [(Pab, Rab),\n",
    "         (Pc, Rc),\n",
    "         (Bo, Rbo),\n",
    "         (B, TB)]"
   ]
  },
  {
   "cell_type": "code",
   "execution_count": 43,
   "metadata": {
    "collapsed": true,
    "deletable": true,
    "editable": true
   },
   "outputs": [],
   "source": [
    "q = sm.Matrix([q1, q2, q3])\n",
    "u = sm.Matrix([u1, u2, u3])"
   ]
  },
  {
   "cell_type": "code",
   "execution_count": 44,
   "metadata": {
    "collapsed": false,
    "deletable": true,
    "editable": true
   },
   "outputs": [],
   "source": [
    "kane = me.KanesMethod(N, q, u, kd_eqs=kdes)"
   ]
  },
  {
   "cell_type": "code",
   "execution_count": 45,
   "metadata": {
    "collapsed": true,
    "deletable": true,
    "editable": true
   },
   "outputs": [],
   "source": [
    "Fr, Frstar = kane.kanes_equations(bodies, loads)"
   ]
  },
  {
   "cell_type": "code",
   "execution_count": 46,
   "metadata": {
    "collapsed": false,
    "deletable": true,
    "editable": true
   },
   "outputs": [
    {
     "data": {
      "image/png": "[encoded data removed]",
      "text/latex": [
       "$$\\left[\\begin{matrix}- c u_{1} - k q_{1} + F\\\\- \\frac{2 g}{3} l m_{b} \\operatorname{sin}\\left(q_{2}\\right) - g l m_{c} \\left(\\operatorname{sin}\\left(q_{2}\\right) \\operatorname{cos}\\left(q_{3}\\right) + \\operatorname{sin}\\left(q_{3}\\right) \\operatorname{cos}\\left(q_{2}\\right)\\right) - g l m_{c} \\operatorname{sin}\\left(q_{2}\\right) + k_{T} q_{3} + T\\\\- g l m_{c} \\left(\\operatorname{sin}\\left(q_{2}\\right) \\operatorname{cos}\\left(q_{3}\\right) + \\operatorname{sin}\\left(q_{3}\\right) \\operatorname{cos}\\left(q_{2}\\right)\\right)\\end{matrix}\\right]$$"
      ],
      "text/plain": [
       "Matrix([\n",
       "[                                                                                 -c*u1 - k*q1 + F],\n",
       "[-2*g*l*m_b*sin(q2)/3 - g*l*m_c*(sin(q2)*cos(q3) + sin(q3)*cos(q2)) - g*l*m_c*sin(q2) + k_T*q3 + T],\n",
       "[                                                     -g*l*m_c*(sin(q2)*cos(q3) + sin(q3)*cos(q2))]])"
      ]
     },
     "execution_count": 46,
     "metadata": {},
     "output_type": "execute_result"
    }
   ],
   "source": [
    "Fr"
   ]
  },
  {
   "cell_type": "code",
   "execution_count": 47,
   "metadata": {
    "collapsed": false,
    "deletable": true,
    "editable": true
   },
   "outputs": [
    {
     "data": {
      "image/png": "[encoded data removed]",
      "text/latex": [
       "$$\\left[\\begin{matrix}\\frac{2 l}{3} m_{b} u^{2}_{2} \\operatorname{sin}\\left(q_{2}\\right) - l m_{c} \\left(- \\operatorname{sin}\\left(q_{2}\\right) \\operatorname{sin}\\left(q_{3}\\right) + \\operatorname{cos}\\left(q_{2}\\right) \\operatorname{cos}\\left(q_{3}\\right)\\right) \\dot{u}_{3} - l m_{c} \\left(- \\operatorname{sin}\\left(q_{2}\\right) \\operatorname{cos}\\left(q_{3}\\right) - \\operatorname{sin}\\left(q_{3}\\right) \\operatorname{cos}\\left(q_{2}\\right)\\right) \\left(u_{2} + u_{3}\\right)^{2} + l m_{c} u^{2}_{2} \\operatorname{sin}\\left(q_{2}\\right) - \\left(\\frac{2 l}{3} m_{b} \\operatorname{cos}\\left(q_{2}\\right) + m_{c} \\left(l \\left(- \\operatorname{sin}\\left(q_{2}\\right) \\operatorname{sin}\\left(q_{3}\\right) + \\operatorname{cos}\\left(q_{2}\\right) \\operatorname{cos}\\left(q_{3}\\right)\\right) + l \\operatorname{cos}\\left(q_{2}\\right)\\right)\\right) \\dot{u}_{2} - \\left(m_{a} + m_{b} + m_{c}\\right) \\dot{u}_{1}\\\\l^{2} m_{c} \\left(u_{2} + u_{3}\\right)^{2} \\operatorname{sin}\\left(q_{3}\\right) - l^{2} m_{c} u^{2}_{2} \\operatorname{sin}\\left(q_{3}\\right) - m_{c} \\left(l^{2} \\operatorname{cos}\\left(q_{3}\\right) + l^{2}\\right) \\dot{u}_{3} - \\left(\\frac{2 l}{3} m_{b} \\operatorname{cos}\\left(q_{2}\\right) + m_{c} \\left(l \\left(- \\operatorname{sin}\\left(q_{2}\\right) \\operatorname{sin}\\left(q_{3}\\right) + \\operatorname{cos}\\left(q_{2}\\right) \\operatorname{cos}\\left(q_{3}\\right)\\right) + l \\operatorname{cos}\\left(q_{2}\\right)\\right)\\right) \\dot{u}_{1} - \\left(I_{B_bo} + \\frac{4 m_{b}}{9} l^{2} + m_{c} \\left(2 l^{2} \\operatorname{cos}\\left(q_{3}\\right) + 2 l^{2}\\right)\\right) \\dot{u}_{2}\\\\- l^{2} m_{c} u^{2}_{2} \\operatorname{sin}\\left(q_{3}\\right) - l^{2} m_{c} \\dot{u}_{3} - l m_{c} \\left(- \\operatorname{sin}\\left(q_{2}\\right) \\operatorname{sin}\\left(q_{3}\\right) + \\operatorname{cos}\\left(q_{2}\\right) \\operatorname{cos}\\left(q_{3}\\right)\\right) \\dot{u}_{1} - m_{c} \\left(l^{2} \\operatorname{cos}\\left(q_{3}\\right) + l^{2}\\right) \\dot{u}_{2}\\end{matrix}\\right]$$"
      ],
      "text/plain": [
       "Matrix([\n",
       "[2*l*m_b*u2**2*sin(q2)/3 - l*m_c*(-sin(q2)*sin(q3) + cos(q2)*cos(q3))*u3' - l*m_c*(-sin(q2)*cos(q3) - sin(q3)*cos(q2))*(u2 + u3)**2 + l*m_c*u2**2*sin(q2) - (2*l*m_b*cos(q2)/3 + m_c*(l*(-sin(q2)*sin(q3) + cos(q2)*cos(q3)) + l*cos(q2)))*u2' - (m_a + m_b + m_c)*u1'],\n",
       "[                          l**2*m_c*(u2 + u3)**2*sin(q3) - l**2*m_c*u2**2*sin(q3) - m_c*(l**2*cos(q3) + l**2)*u3' - (2*l*m_b*cos(q2)/3 + m_c*(l*(-sin(q2)*sin(q3) + cos(q2)*cos(q3)) + l*cos(q2)))*u1' - (I_{B_bo} + 4*l**2*m_b/9 + m_c*(2*l**2*cos(q3) + 2*l**2))*u2'],\n",
       "[                                                                                                                                              -l**2*m_c*u2**2*sin(q3) - l**2*m_c*u3' - l*m_c*(-sin(q2)*sin(q3) + cos(q2)*cos(q3))*u1' - m_c*(l**2*cos(q3) + l**2)*u2']])"
      ]
     },
     "execution_count": 47,
     "metadata": {},
     "output_type": "execute_result"
    }
   ],
   "source": [
    "Frstar"
   ]
  },
  {
   "cell_type": "markdown",
   "metadata": {},
   "source": [
    "# Simulation"
   ]
  },
  {
   "cell_type": "code",
   "execution_count": 48,
   "metadata": {
    "collapsed": true,
    "deletable": true,
    "editable": true
   },
   "outputs": [],
   "source": [
    "from pydy.system import System"
   ]
  },
  {
   "cell_type": "code",
   "execution_count": 49,
   "metadata": {
    "collapsed": true,
    "deletable": true,
    "editable": true
   },
   "outputs": [],
   "source": [
    "import numpy as np"
   ]
  },
  {
   "cell_type": "code",
   "execution_count": 50,
   "metadata": {
    "collapsed": true,
    "deletable": true,
    "editable": true
   },
   "outputs": [],
   "source": [
    "times = np.linspace(0.0, 5.0, num=1001)"
   ]
  },
  {
   "cell_type": "code",
   "execution_count": 51,
   "metadata": {
    "collapsed": true,
    "deletable": true,
    "editable": true
   },
   "outputs": [],
   "source": [
    "constants = {l: 1.0,  # meter\n",
    "             g: 9.81, # meter per second squared\n",
    "             k: 50.0,  # Newton per meter\n",
    "             c: 0.05,  # kilogram second\n",
    "             kT: 10.0,  # Newton meter per radian\n",
    "             ma: 0.5,  # kilogram\n",
    "             mb: 0.5,  # kilogram\n",
    "             IB_bo: 0.5 * 0.5**2,  # kg m**2\n",
    "             mc:  0.5}  # meter\n",
    "\n",
    "specifieds = {F: 0.0,\n",
    "              T: 0.0}\n",
    "\n",
    "init_cond = {q1: 0.05,\n",
    "             q2: 0.0,\n",
    "             q3: 0.0,\n",
    "             u1: 0.0,\n",
    "             u2: 0.0,\n",
    "             u3: 0.0}\n",
    "\n",
    "\n",
    "sys = System(kane,\n",
    "             constants=constants,\n",
    "             specifieds=specifieds,\n",
    "             initial_conditions=init_cond,\n",
    "             times=times\n",
    "            )"
   ]
  },
  {
   "cell_type": "code",
   "execution_count": 52,
   "metadata": {
    "collapsed": true,
    "deletable": true,
    "editable": true
   },
   "outputs": [],
   "source": [
    "traj = sys.integrate()"
   ]
  },
  {
   "cell_type": "markdown",
   "metadata": {
    "deletable": true,
    "editable": true
   },
   "source": [
    "# 3D Visualization\n",
    "\n",
    "**Note that this only works with Jupyter 4.0 and ipywidgets 4.0 for now, so it can't currently run on bicycle.ucdavis.edu.**"
   ]
  },
  {
   "cell_type": "code",
   "execution_count": 53,
   "metadata": {
    "collapsed": true,
    "deletable": true,
    "editable": true
   },
   "outputs": [],
   "source": [
    "from pydy.viz import Cylinder, Sphere, VisualizationFrame, Scene"
   ]
  },
  {
   "cell_type": "code",
   "execution_count": 54,
   "metadata": {
    "collapsed": true,
    "deletable": true,
    "editable": true
   },
   "outputs": [],
   "source": [
    "sab = Sphere(0.1, color='green')\n",
    "sbo = Sphere(0.1, color='green')\n",
    "sc = Sphere(0.1, color='green')"
   ]
  },
  {
   "cell_type": "code",
   "execution_count": 55,
   "metadata": {
    "collapsed": true,
    "deletable": true,
    "editable": true
   },
   "outputs": [],
   "source": [
    "cyl_o_ab = Cylinder(q1, 0.05, color='red')\n",
    "cyl_ab_bc = Cylinder(l, 0.05, color='red')\n",
    "cyl_bc_c = Cylinder(l, 0.05, color='red')"
   ]
  },
  {
   "cell_type": "code",
   "execution_count": 56,
   "metadata": {
    "collapsed": false,
    "deletable": true,
    "editable": true
   },
   "outputs": [],
   "source": [
    "vf1 = VisualizationFrame('Pab', N, Pab, sab)\n",
    "vf2 = VisualizationFrame('Bo', N, Bo, sbo)\n",
    "vf3 = VisualizationFrame('Pc', N, Pc, sc)\n",
    "vf4 = VisualizationFrame('comp pend', B, Pab.locatenew('x', -l / 2 * B.y), cyl_ab_bc)\n",
    "vf5 = VisualizationFrame('simp pend', C, Pbc.locatenew('x', -l  / 2 * C.y), cyl_bc_c)"
   ]
  },
  {
   "cell_type": "code",
   "execution_count": 57,
   "metadata": {
    "collapsed": true,
    "deletable": true,
    "editable": true
   },
   "outputs": [],
   "source": [
    "scene = Scene(N, O, vf1, vf2, vf3, vf4, vf5, system=sys)"
   ]
  },
  {
   "cell_type": "code",
   "execution_count": 58,
   "metadata": {
    "collapsed": false,
    "deletable": true,
    "editable": true
   },
   "outputs": [],
   "source": [
    "scene.display_ipython()"
   ]
  }
 ],
 "metadata": {
  "kernelspec": {
   "display_name": "Python 3",
   "language": "python",
   "name": "python3"
  },
  "language_info": {
   "codemirror_mode": {
    "name": "ipython",
    "version": 3
   },
   "file_extension": ".py",
   "mimetype": "text/x-python",
   "name": "python",
   "nbconvert_exporter": "python",
   "pygments_lexer": "ipython3",
   "version": "3.5.3"
  }
 },
 "nbformat": 4,
 "nbformat_minor": 2
}
