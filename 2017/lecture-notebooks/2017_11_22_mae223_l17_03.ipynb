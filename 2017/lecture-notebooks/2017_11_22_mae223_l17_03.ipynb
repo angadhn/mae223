{
 "cells": [
  {
   "cell_type": "markdown",
   "metadata": {},
   "source": [
    "# Noncontributing forces\n",
    "\n",
    "This notebook shows how to compute the noncontributing forces at the joint located at Point, $P_{ab}$, by introducing auxiliary speeds."
   ]
  },
  {
   "cell_type": "markdown",
   "metadata": {},
   "source": [
    "# Imports"
   ]
  },
  {
   "cell_type": "code",
   "execution_count": 1,
   "metadata": {},
   "outputs": [],
   "source": [
    "import sympy as sm\n",
    "import sympy.physics.mechanics as me\n",
    "me.init_vprinting(use_latex=True, pretty_print=False)"
   ]
  },
  {
   "cell_type": "markdown",
   "metadata": {},
   "source": [
    "# Generalized coordinates"
   ]
  },
  {
   "cell_type": "code",
   "execution_count": 2,
   "metadata": {},
   "outputs": [],
   "source": [
    "q1, q2, q3 = me.dynamicsymbols('q1, q2, q3')"
   ]
  },
  {
   "cell_type": "markdown",
   "metadata": {},
   "source": [
    "# Generalized speeds"
   ]
  },
  {
   "cell_type": "code",
   "execution_count": 3,
   "metadata": {},
   "outputs": [],
   "source": [
    "u1, u2, u3 = me.dynamicsymbols('u1, u2, u3')"
   ]
  },
  {
   "cell_type": "markdown",
   "metadata": {},
   "source": [
    "# Auxiliary speeds\n",
    "\n",
    "There is a reaction force at $P_{ab}$ that is made up of two componenets in the $N$ frame. Introduce a fictitious generalized speed that corresponds to the motion aligned with each component of unknown force. $u_4$ will correspond with $f_x$ and $u_5$ with $f_y$."
   ]
  },
  {
   "cell_type": "code",
   "execution_count": 4,
   "metadata": {},
   "outputs": [],
   "source": [
    "u4, u5 = me.dynamicsymbols('u4, u5')"
   ]
  },
  {
   "cell_type": "markdown",
   "metadata": {},
   "source": [
    "# Noncontributing force components"
   ]
  },
  {
   "cell_type": "code",
   "execution_count": 5,
   "metadata": {},
   "outputs": [],
   "source": [
    "fx, fy = me.dynamicsymbols('f_x, f_y')"
   ]
  },
  {
   "cell_type": "markdown",
   "metadata": {},
   "source": [
    "# Specified Inputs"
   ]
  },
  {
   "cell_type": "code",
   "execution_count": 6,
   "metadata": {},
   "outputs": [],
   "source": [
    "F, T = me.dynamicsymbols('F, T')"
   ]
  },
  {
   "cell_type": "markdown",
   "metadata": {},
   "source": [
    "# Constants"
   ]
  },
  {
   "cell_type": "code",
   "execution_count": 7,
   "metadata": {},
   "outputs": [
    {
     "data": {
      "image/png": "[encoded data removed]",
      "text/latex": [
       "$$I_{B_bo}$$"
      ],
      "text/plain": [
       "I_{B_bo}"
      ]
     },
     "execution_count": 7,
     "metadata": {},
     "output_type": "execute_result"
    }
   ],
   "source": [
    "k, c, ma, mb, mc, IB_bo, l, kT, g = sm.symbols('k, c, m_a, m_b, m_c, I_{B_bo}, l, k_T, g')\n",
    "IB_bo"
   ]
  },
  {
   "cell_type": "markdown",
   "metadata": {},
   "source": [
    "# Reference Frames"
   ]
  },
  {
   "cell_type": "code",
   "execution_count": 8,
   "metadata": {},
   "outputs": [],
   "source": [
    "N = me.ReferenceFrame('N')"
   ]
  },
  {
   "cell_type": "code",
   "execution_count": 9,
   "metadata": {},
   "outputs": [],
   "source": [
    "B = N.orientnew('B', 'Axis', (q2, N.z))"
   ]
  },
  {
   "cell_type": "code",
   "execution_count": 10,
   "metadata": {},
   "outputs": [],
   "source": [
    "C = B.orientnew('C', 'Axis', (q3, N.z))"
   ]
  },
  {
   "cell_type": "markdown",
   "metadata": {},
   "source": [
    "# Kinematic Differential Equations\n",
    "\n",
    "$$\n",
    "u_i = \\dot{q}_i \\\\\n",
    "0 = u_i - \\dot{q}_i\n",
    "$$\n"
   ]
  },
  {
   "cell_type": "code",
   "execution_count": 11,
   "metadata": {},
   "outputs": [
    {
     "data": {
      "image/png": "[encoded data removed]",
      "text/latex": [
       "$$\\left [ u_{1} - \\dot{q}_{1}, \\quad u_{2} - \\dot{q}_{2}, \\quad u_{3} - \\dot{q}_{3}\\right ]$$"
      ],
      "text/plain": [
       "[u1 - q1', u2 - q2', u3 - q3']"
      ]
     },
     "execution_count": 11,
     "metadata": {},
     "output_type": "execute_result"
    }
   ],
   "source": [
    "kdes = [u1 - q1.diff(),\n",
    "        u2 - q2.diff(),\n",
    "        u3 - q3.diff()]\n",
    "kdes"
   ]
  },
  {
   "cell_type": "markdown",
   "metadata": {},
   "source": [
    "# Angular Velocities"
   ]
  },
  {
   "cell_type": "code",
   "execution_count": 12,
   "metadata": {},
   "outputs": [],
   "source": [
    "B.set_ang_vel(N, u2 * N.z)"
   ]
  },
  {
   "cell_type": "code",
   "execution_count": 13,
   "metadata": {},
   "outputs": [],
   "source": [
    "C.set_ang_vel(B, u3 * N.z)"
   ]
  },
  {
   "cell_type": "markdown",
   "metadata": {},
   "source": [
    "# Points"
   ]
  },
  {
   "cell_type": "code",
   "execution_count": 14,
   "metadata": {},
   "outputs": [],
   "source": [
    "O = me.Point('O')"
   ]
  },
  {
   "cell_type": "code",
   "execution_count": 15,
   "metadata": {},
   "outputs": [],
   "source": [
    "Pab = O.locatenew('P_{ab}', q1 * N.x)"
   ]
  },
  {
   "cell_type": "code",
   "execution_count": 16,
   "metadata": {},
   "outputs": [],
   "source": [
    "Bo = Pab.locatenew('B_o', - 2 * l / 3 * B.y)"
   ]
  },
  {
   "cell_type": "code",
   "execution_count": 17,
   "metadata": {},
   "outputs": [],
   "source": [
    "Pbc = Pab.locatenew('P_{bc}', -l * B.y)"
   ]
  },
  {
   "cell_type": "code",
   "execution_count": 18,
   "metadata": {},
   "outputs": [],
   "source": [
    "Pc = Pbc.locatenew('P_c', -l * C.y)"
   ]
  },
  {
   "cell_type": "code",
   "execution_count": 19,
   "metadata": {},
   "outputs": [
    {
     "data": {
      "image/png": "[encoded data removed]",
      "text/latex": [
       "$$-  l\\mathbf{\\hat{c}_y} -  l\\mathbf{\\hat{b}_y} + q_{1}\\mathbf{\\hat{n}_x}$$"
      ],
      "text/plain": [
       "q1*N.x - l*B.y - l*C.y"
      ]
     },
     "execution_count": 19,
     "metadata": {},
     "output_type": "execute_result"
    }
   ],
   "source": [
    "Pc.pos_from(O)"
   ]
  },
  {
   "cell_type": "markdown",
   "metadata": {},
   "source": [
    "# Linear Velocities\n",
    "\n",
    "When calculating velocities be sure to include the velocity components due to the auxiliary speeds."
   ]
  },
  {
   "cell_type": "code",
   "execution_count": 20,
   "metadata": {},
   "outputs": [],
   "source": [
    "Pab.set_vel(N, u1 * N.x + u4 * N.x + u5 * N.y)"
   ]
  },
  {
   "cell_type": "code",
   "execution_count": 21,
   "metadata": {},
   "outputs": [
    {
     "data": {
      "image/png": "[encoded data removed]",
      "text/latex": [
       "$$(u_{1} + u_{4})\\mathbf{\\hat{n}_x} + u_{5}\\mathbf{\\hat{n}_y} + \\frac{2 l}{3} u_{2}\\mathbf{\\hat{b}_x}$$"
      ],
      "text/plain": [
       "(u1 + u4)*N.x + u5*N.y + 2*l*u2/3*B.x"
      ]
     },
     "execution_count": 21,
     "metadata": {},
     "output_type": "execute_result"
    }
   ],
   "source": [
    "Bo.v2pt_theory(Pab, N, B)"
   ]
  },
  {
   "cell_type": "code",
   "execution_count": 22,
   "metadata": {},
   "outputs": [
    {
     "data": {
      "image/png": "[encoded data removed]",
      "text/latex": [
       "$$(u_{1} + u_{4})\\mathbf{\\hat{n}_x} + u_{5}\\mathbf{\\hat{n}_y} + l u_{2}\\mathbf{\\hat{b}_x}$$"
      ],
      "text/plain": [
       "(u1 + u4)*N.x + u5*N.y + l*u2*B.x"
      ]
     },
     "execution_count": 22,
     "metadata": {},
     "output_type": "execute_result"
    }
   ],
   "source": [
    "Pbc.v2pt_theory(Pab, N, B)"
   ]
  },
  {
   "cell_type": "code",
   "execution_count": 23,
   "metadata": {},
   "outputs": [
    {
     "data": {
      "image/png": "[encoded data removed]",
      "text/latex": [
       "$$(u_{1} + u_{4})\\mathbf{\\hat{n}_x} + u_{5}\\mathbf{\\hat{n}_y} + l u_{2}\\mathbf{\\hat{b}_x} + l \\left(u_{2} + u_{3}\\right)\\mathbf{\\hat{c}_x}$$"
      ],
      "text/plain": [
       "(u1 + u4)*N.x + u5*N.y + l*u2*B.x + l*(u2 + u3)*C.x"
      ]
     },
     "execution_count": 23,
     "metadata": {},
     "output_type": "execute_result"
    }
   ],
   "source": [
    "Pc.v2pt_theory(Pbc, N, C)"
   ]
  },
  {
   "cell_type": "markdown",
   "metadata": {},
   "source": [
    "# Partial Velocities\n",
    "\n",
    "There will now be two additional partial velocities, one for each of the auxilary speeds."
   ]
  },
  {
   "cell_type": "code",
   "execution_count": 24,
   "metadata": {},
   "outputs": [
    {
     "data": {
      "image/png": "[encoded data removed]",
      "text/latex": [
       "$$\\mathbf{\\hat{n}_x}$$"
      ],
      "text/plain": [
       "N.x"
      ]
     },
     "execution_count": 24,
     "metadata": {},
     "output_type": "execute_result"
    }
   ],
   "source": [
    "Pab.vel(N).diff(u1, N)"
   ]
  },
  {
   "cell_type": "code",
   "execution_count": 25,
   "metadata": {},
   "outputs": [
    {
     "data": {
      "image/png": "[encoded data removed]",
      "text/latex": [
       "$$\\mathbf{\\hat{n}_x}$$"
      ],
      "text/plain": [
       "N.x"
      ]
     },
     "execution_count": 25,
     "metadata": {},
     "output_type": "execute_result"
    }
   ],
   "source": [
    "Pab.partial_velocity(N, u1)"
   ]
  },
  {
   "cell_type": "code",
   "execution_count": 26,
   "metadata": {},
   "outputs": [
    {
     "data": {
      "image/png": "[encoded data removed]",
      "text/latex": [
       "$$\\left ( \\mathbf{\\hat{n}_x}, \\quad 0, \\quad 0, \\quad \\mathbf{\\hat{n}_x}, \\quad \\mathbf{\\hat{n}_y}\\right )$$"
      ],
      "text/plain": [
       "(N.x, 0, 0, N.x, N.y)"
      ]
     },
     "execution_count": 26,
     "metadata": {},
     "output_type": "execute_result"
    }
   ],
   "source": [
    "Pab.partial_velocity(N, u1, u2, u3, u4, u5)"
   ]
  },
  {
   "cell_type": "code",
   "execution_count": 27,
   "metadata": {},
   "outputs": [
    {
     "data": {
      "image/png": "[encoded data removed]",
      "text/latex": [
       "$$\\left ( \\mathbf{\\hat{n}_x}, \\quad \\frac{2 l}{3}\\mathbf{\\hat{b}_x}, \\quad 0, \\quad \\mathbf{\\hat{n}_x}, \\quad \\mathbf{\\hat{n}_y}\\right )$$"
      ],
      "text/plain": [
       "(N.x, 2*l/3*B.x, 0, N.x, N.y)"
      ]
     },
     "execution_count": 27,
     "metadata": {},
     "output_type": "execute_result"
    }
   ],
   "source": [
    "Bo.partial_velocity(N, u1, u2, u3, u4, u5)"
   ]
  },
  {
   "cell_type": "code",
   "execution_count": 28,
   "metadata": {},
   "outputs": [
    {
     "data": {
      "image/png": "[encoded data removed]",
      "text/latex": [
       "$$\\left ( \\mathbf{\\hat{n}_x}, \\quad l\\mathbf{\\hat{b}_x} + l\\mathbf{\\hat{c}_x}, \\quad l\\mathbf{\\hat{c}_x}, \\quad \\mathbf{\\hat{n}_x}, \\quad \\mathbf{\\hat{n}_y}\\right )$$"
      ],
      "text/plain": [
       "(N.x, l*B.x + l*C.x, l*C.x, N.x, N.y)"
      ]
     },
     "execution_count": 28,
     "metadata": {},
     "output_type": "execute_result"
    }
   ],
   "source": [
    "Pc.partial_velocity(N, u1, u2, u3, u4, u5)"
   ]
  },
  {
   "cell_type": "code",
   "execution_count": 29,
   "metadata": {},
   "outputs": [
    {
     "data": {
      "image/png": "[encoded data removed]",
      "text/latex": [
       "$$\\left ( 0, \\quad \\mathbf{\\hat{n}_z}, \\quad 0, \\quad 0, \\quad 0\\right )$$"
      ],
      "text/plain": [
       "(0, N.z, 0, 0, 0)"
      ]
     },
     "execution_count": 29,
     "metadata": {},
     "output_type": "execute_result"
    }
   ],
   "source": [
    "B.partial_velocity(N, u1, u2, u3, u4, u5)"
   ]
  },
  {
   "cell_type": "code",
   "execution_count": 30,
   "metadata": {},
   "outputs": [
    {
     "data": {
      "image/png": "[encoded data removed]",
      "text/latex": [
       "$$\\left [ 0, \\quad \\mathbf{\\hat{n}_z}, \\quad 0, \\quad 0, \\quad 0\\right ]$$"
      ],
      "text/plain": [
       "[0, N.z, 0, 0, 0]"
      ]
     },
     "execution_count": 30,
     "metadata": {},
     "output_type": "execute_result"
    }
   ],
   "source": [
    "[B.ang_vel_in(N).diff(ur, N) for ur in [u1, u2, u3, u4, u5]]"
   ]
  },
  {
   "cell_type": "markdown",
   "metadata": {},
   "source": [
    "# Angular Accelerations"
   ]
  },
  {
   "cell_type": "code",
   "execution_count": 31,
   "metadata": {},
   "outputs": [
    {
     "data": {
      "image/png": "[encoded data removed]",
      "text/latex": [
       "$$\\dot{u}_{2}\\mathbf{\\hat{n}_z}$$"
      ],
      "text/plain": [
       "u2'*N.z"
      ]
     },
     "execution_count": 31,
     "metadata": {},
     "output_type": "execute_result"
    }
   ],
   "source": [
    "alpha_B_N = B.ang_acc_in(N)\n",
    "alpha_B_N"
   ]
  },
  {
   "cell_type": "code",
   "execution_count": 32,
   "metadata": {},
   "outputs": [
    {
     "data": {
      "image/png": "[encoded data removed]",
      "text/latex": [
       "$$(\\dot{u}_{1} + \\dot{u}_{4})\\mathbf{\\hat{n}_x} + \\dot{u}_{5}\\mathbf{\\hat{n}_y}$$"
      ],
      "text/plain": [
       "(u1' + u4')*N.x + u5'*N.y"
      ]
     },
     "execution_count": 32,
     "metadata": {},
     "output_type": "execute_result"
    }
   ],
   "source": [
    "a_Pab_N = Pab.acc(N)\n",
    "a_Pab_N"
   ]
  },
  {
   "cell_type": "code",
   "execution_count": 33,
   "metadata": {},
   "outputs": [
    {
     "data": {
      "image/png": "[encoded data removed]",
      "text/latex": [
       "$$(\\dot{u}_{1} + \\dot{u}_{4})\\mathbf{\\hat{n}_x} + \\dot{u}_{5}\\mathbf{\\hat{n}_y} + \\frac{2 l}{3} \\dot{u}_{2}\\mathbf{\\hat{b}_x} + \\frac{2 l}{3} u^{2}_{2}\\mathbf{\\hat{b}_y}$$"
      ],
      "text/plain": [
       "(u1' + u4')*N.x + u5'*N.y + 2*l*u2'/3*B.x + 2*l*u2**2/3*B.y"
      ]
     },
     "execution_count": 33,
     "metadata": {},
     "output_type": "execute_result"
    }
   ],
   "source": [
    "a_Bo_N = Bo.acc(N)\n",
    "a_Bo_N"
   ]
  },
  {
   "cell_type": "code",
   "execution_count": 34,
   "metadata": {},
   "outputs": [
    {
     "data": {
      "image/png": "[encoded data removed]",
      "text/latex": [
       "$$(\\dot{u}_{1} + \\dot{u}_{4})\\mathbf{\\hat{n}_x} + \\dot{u}_{5}\\mathbf{\\hat{n}_y} + l \\dot{u}_{2}\\mathbf{\\hat{b}_x} + l u^{2}_{2}\\mathbf{\\hat{b}_y} + l \\left(\\dot{u}_{2} + \\dot{u}_{3}\\right)\\mathbf{\\hat{c}_x} + l \\left(u_{2} + u_{3}\\right)^{2}\\mathbf{\\hat{c}_y}$$"
      ],
      "text/plain": [
       "(u1' + u4')*N.x + u5'*N.y + l*u2'*B.x + l*u2**2*B.y + l*(u2' + u3')*C.x + l*(u2 + u3)**2*C.y"
      ]
     },
     "execution_count": 34,
     "metadata": {},
     "output_type": "execute_result"
    }
   ],
   "source": [
    "a_Pc_N = Pc.acc(N)\n",
    "a_Pc_N"
   ]
  },
  {
   "cell_type": "markdown",
   "metadata": {},
   "source": [
    "# Loads (forces and torques)\n",
    "\n",
    "These new loads should include the unknown forces. Careful with the sign here. $f_x,f_y$ should correspond to the force the point attached to the compound pendulum would experience if the motion due to $u_4,u_5$ occured (based on the fictious particle on the pendulum)."
   ]
  },
  {
   "cell_type": "code",
   "execution_count": 35,
   "metadata": {},
   "outputs": [
    {
     "data": {
      "image/png": "[encoded data removed]",
      "text/latex": [
       "$$(- c u_{1} - k q_{1} + F - f_{x})\\mathbf{\\hat{n}_x} -  f_{y}\\mathbf{\\hat{n}_y}$$"
      ],
      "text/plain": [
       "(-c*u1 - k*q1 + F - f_x)*N.x - f_y*N.y"
      ]
     },
     "execution_count": 35,
     "metadata": {},
     "output_type": "execute_result"
    }
   ],
   "source": [
    "Rab = (F - k * q1 - c * u1 - fx) * N.x  - fy * N.y\n",
    "Rab"
   ]
  },
  {
   "cell_type": "code",
   "execution_count": 36,
   "metadata": {},
   "outputs": [
    {
     "data": {
      "image/png": "[encoded data removed]",
      "text/latex": [
       "$$-  g m_{b}\\mathbf{\\hat{n}_y}$$"
      ],
      "text/plain": [
       "- g*m_b*N.y"
      ]
     },
     "execution_count": 36,
     "metadata": {},
     "output_type": "execute_result"
    }
   ],
   "source": [
    "Rbo = -(mb * g) * N.y\n",
    "Rbo"
   ]
  },
  {
   "cell_type": "code",
   "execution_count": 37,
   "metadata": {},
   "outputs": [
    {
     "data": {
      "image/png": "[encoded data removed]",
      "text/latex": [
       "$$-  g m_{c}\\mathbf{\\hat{n}_y}$$"
      ],
      "text/plain": [
       "- g*m_c*N.y"
      ]
     },
     "execution_count": 37,
     "metadata": {},
     "output_type": "execute_result"
    }
   ],
   "source": [
    "Rc = -(mc * g) * N.y\n",
    "Rc"
   ]
  },
  {
   "cell_type": "code",
   "execution_count": 38,
   "metadata": {},
   "outputs": [
    {
     "data": {
      "image/png": "[encoded data removed]",
      "text/latex": [
       "$$(k_{T} q_{3} + T)\\mathbf{\\hat{n}_z}$$"
      ],
      "text/plain": [
       "(k_T*q3 + T)*N.z"
      ]
     },
     "execution_count": 38,
     "metadata": {},
     "output_type": "execute_result"
    }
   ],
   "source": [
    "TB = (T + kT * q3) * N.z\n",
    "TB"
   ]
  },
  {
   "cell_type": "markdown",
   "metadata": {},
   "source": [
    "# Mass and Inertia"
   ]
  },
  {
   "cell_type": "code",
   "execution_count": 39,
   "metadata": {},
   "outputs": [
    {
     "data": {
      "image/png": "[encoded data removed]",
      "text/latex": [
       "$$I_{B_bo}\\mathbf{\\hat{b}_z}\\otimes \\mathbf{\\hat{b}_z}$$"
      ],
      "text/plain": [
       "I_{B_bo}*(B.z|B.z)"
      ]
     },
     "execution_count": 39,
     "metadata": {},
     "output_type": "execute_result"
    }
   ],
   "source": [
    "IB = me.inertia(B, 0, 0, IB_bo)\n",
    "IB"
   ]
  },
  {
   "cell_type": "code",
   "execution_count": 40,
   "metadata": {},
   "outputs": [
    {
     "data": {
      "image/png": "[encoded data removed]",
      "text/latex": [
       "$$\\left ( m_{a}, \\quad m_{c}\\right )$$"
      ],
      "text/plain": [
       "(m_a, m_c)"
      ]
     },
     "execution_count": 40,
     "metadata": {},
     "output_type": "execute_result"
    }
   ],
   "source": [
    "ma, mc"
   ]
  },
  {
   "cell_type": "markdown",
   "metadata": {},
   "source": [
    "# Generalized Active Forces\n",
    "\n",
    "Now calculate 5 GAFs, one for each actual generalized speed and one each for the 2 auxiliary speeds"
   ]
  },
  {
   "cell_type": "code",
   "execution_count": 41,
   "metadata": {},
   "outputs": [],
   "source": [
    "u = [u1, u2, u3, u4, u5]"
   ]
  },
  {
   "cell_type": "code",
   "execution_count": 42,
   "metadata": {},
   "outputs": [
    {
     "data": {
      "image/png": "[encoded data removed]",
      "text/latex": [
       "$$\\left[\\begin{matrix}- c u_{1} - k q_{1} + F - f_{x}\\\\- \\frac{2 g}{3} l m_{b} \\operatorname{sin}\\left(q_{2}\\right) - g l m_{c} \\operatorname{sin}\\left(q_{2} + q_{3}\\right) - g l m_{c} \\operatorname{sin}\\left(q_{2}\\right) + k_{T} q_{3} + T\\\\- g l m_{c} \\operatorname{sin}\\left(q_{2} + q_{3}\\right)\\\\- c u_{1} - k q_{1} + F - f_{x}\\\\- g m_{b} - g m_{c} - f_{y}\\end{matrix}\\right]$$"
      ],
      "text/plain": [
       "Matrix([\n",
       "[                                                    -c*u1 - k*q1 + F - f_x],\n",
       "[-2*g*l*m_b*sin(q2)/3 - g*l*m_c*sin(q2 + q3) - g*l*m_c*sin(q2) + k_T*q3 + T],\n",
       "[                                                     -g*l*m_c*sin(q2 + q3)],\n",
       "[                                                    -c*u1 - k*q1 + F - f_x],\n",
       "[                                                      -g*m_b - g*m_c - f_y]])"
      ]
     },
     "execution_count": 42,
     "metadata": {},
     "output_type": "execute_result"
    }
   ],
   "source": [
    "Fr = []\n",
    "\n",
    "for ur in u:\n",
    "    Fr.append(Pab.partial_velocity(N, ur).dot(Rab) +\n",
    "              Pc.partial_velocity(N, ur).dot(Rc) +\n",
    "              Bo.partial_velocity(N, ur).dot(Rbo) +\n",
    "              B.partial_velocity(N, ur).dot(TB)\n",
    "             )\n",
    "    \n",
    "Fr = sm.trigsimp(sm.Matrix(Fr))\n",
    "Fr"
   ]
  },
  {
   "cell_type": "markdown",
   "metadata": {},
   "source": [
    "# Generalized Inertia Forces\n",
    "\n",
    "There will also be 5 GIFs."
   ]
  },
  {
   "cell_type": "code",
   "execution_count": 43,
   "metadata": {},
   "outputs": [],
   "source": [
    "Frstar = []\n",
    "\n",
    "for ur in u:\n",
    "    Frstar.append(Pab.partial_velocity(N, ur).dot(-ma * a_Pab_N) +\n",
    "                  Pc.partial_velocity(N, ur).dot(-mc * a_Pc_N) +\n",
    "                  Bo.partial_velocity(N, ur).dot(-mb * a_Bo_N) +\n",
    "                  B.partial_velocity(N, ur).dot(-alpha_B_N.dot(IB) + B.ang_vel_in(N).cross(IB.dot(B.ang_vel_in(N)))))\n",
    "    \n",
    "Frstar = sm.trigsimp(sm.Matrix(Frstar))"
   ]
  },
  {
   "cell_type": "code",
   "execution_count": 44,
   "metadata": {},
   "outputs": [
    {
     "data": {
      "image/png": "[encoded data removed]",
      "text/latex": [
       "$$\\left[\\begin{matrix}\\frac{2 l}{3} m_{b} u^{2}_{2} \\operatorname{sin}\\left(q_{2}\\right) - \\frac{2 l}{3} m_{b} \\operatorname{cos}\\left(q_{2}\\right) \\dot{u}_{2} + l m_{c} \\left(u_{2} + u_{3}\\right)^{2} \\operatorname{sin}\\left(q_{2} + q_{3}\\right) - l m_{c} \\left(\\dot{u}_{2} + \\dot{u}_{3}\\right) \\operatorname{cos}\\left(q_{2} + q_{3}\\right) + l m_{c} u^{2}_{2} \\operatorname{sin}\\left(q_{2}\\right) - l m_{c} \\operatorname{cos}\\left(q_{2}\\right) \\dot{u}_{2} - m_{a} \\left(\\dot{u}_{1} + \\dot{u}_{4}\\right) - m_{b} \\left(\\dot{u}_{1} + \\dot{u}_{4}\\right) - m_{c} \\left(\\dot{u}_{1} + \\dot{u}_{4}\\right)\\\\- I_{B_bo} \\dot{u}_{2} - \\frac{4 m_{b}}{9} l^{2} \\dot{u}_{2} - l^{2} m_{c} \\left(u^{2}_{2} \\operatorname{sin}\\left(q_{3}\\right) + \\operatorname{cos}\\left(q_{3}\\right) \\dot{u}_{2}\\right) - l^{2} m_{c} \\left(\\dot{u}_{2} + \\dot{u}_{3}\\right) - l^{2} m_{c} \\dot{u}_{2} + \\frac{2 l}{3} \\left(- m_{b} \\left(\\dot{u}_{1} + \\dot{u}_{4}\\right) \\operatorname{cos}\\left(q_{2}\\right) - m_{b} \\operatorname{sin}\\left(q_{2}\\right) \\dot{u}_{5}\\right) + l \\left(- m_{c} \\left(\\dot{u}_{1} + \\dot{u}_{4}\\right) \\operatorname{cos}\\left(q_{2} + q_{3}\\right) - m_{c} \\operatorname{sin}\\left(q_{2} + q_{3}\\right) \\dot{u}_{5}\\right) + l \\left(- m_{c} \\left(\\dot{u}_{1} + \\dot{u}_{4}\\right) \\operatorname{cos}\\left(q_{2}\\right) - m_{c} \\operatorname{sin}\\left(q_{2}\\right) \\dot{u}_{5}\\right) + l \\left(l m_{c} \\left(u_{2} + u_{3}\\right)^{2} \\operatorname{sin}\\left(q_{3}\\right) - l m_{c} \\left(\\dot{u}_{2} + \\dot{u}_{3}\\right) \\operatorname{cos}\\left(q_{3}\\right)\\right)\\\\- l^{2} m_{c} \\left(u^{2}_{2} \\operatorname{sin}\\left(q_{3}\\right) + \\operatorname{cos}\\left(q_{3}\\right) \\dot{u}_{2}\\right) - l^{2} m_{c} \\left(\\dot{u}_{2} + \\dot{u}_{3}\\right) + l \\left(- m_{c} \\left(\\dot{u}_{1} + \\dot{u}_{4}\\right) \\operatorname{cos}\\left(q_{2} + q_{3}\\right) - m_{c} \\operatorname{sin}\\left(q_{2} + q_{3}\\right) \\dot{u}_{5}\\right)\\\\\\frac{2 l}{3} m_{b} u^{2}_{2} \\operatorname{sin}\\left(q_{2}\\right) - \\frac{2 l}{3} m_{b} \\operatorname{cos}\\left(q_{2}\\right) \\dot{u}_{2} + l m_{c} \\left(u_{2} + u_{3}\\right)^{2} \\operatorname{sin}\\left(q_{2} + q_{3}\\right) - l m_{c} \\left(\\dot{u}_{2} + \\dot{u}_{3}\\right) \\operatorname{cos}\\left(q_{2} + q_{3}\\right) + l m_{c} u^{2}_{2} \\operatorname{sin}\\left(q_{2}\\right) - l m_{c} \\operatorname{cos}\\left(q_{2}\\right) \\dot{u}_{2} - m_{a} \\left(\\dot{u}_{1} + \\dot{u}_{4}\\right) - m_{b} \\left(\\dot{u}_{1} + \\dot{u}_{4}\\right) - m_{c} \\left(\\dot{u}_{1} + \\dot{u}_{4}\\right)\\\\- \\frac{2 l}{3} m_{b} u^{2}_{2} \\operatorname{cos}\\left(q_{2}\\right) - \\frac{2 l}{3} m_{b} \\operatorname{sin}\\left(q_{2}\\right) \\dot{u}_{2} - l m_{c} \\left(u_{2} + u_{3}\\right)^{2} \\operatorname{cos}\\left(q_{2} + q_{3}\\right) - l m_{c} \\left(\\dot{u}_{2} + \\dot{u}_{3}\\right) \\operatorname{sin}\\left(q_{2} + q_{3}\\right) - l m_{c} u^{2}_{2} \\operatorname{cos}\\left(q_{2}\\right) - l m_{c} \\operatorname{sin}\\left(q_{2}\\right) \\dot{u}_{2} - m_{a} \\dot{u}_{5} - m_{b} \\dot{u}_{5} - m_{c} \\dot{u}_{5}\\end{matrix}\\right]$$"
      ],
      "text/plain": [
       "Matrix([\n",
       "[                                                                                                                           2*l*m_b*u2**2*sin(q2)/3 - 2*l*m_b*cos(q2)*u2'/3 + l*m_c*(u2 + u3)**2*sin(q2 + q3) - l*m_c*(u2' + u3')*cos(q2 + q3) + l*m_c*u2**2*sin(q2) - l*m_c*cos(q2)*u2' - m_a*(u1' + u4') - m_b*(u1' + u4') - m_c*(u1' + u4')],\n",
       "[-I_{B_bo}*u2' - 4*l**2*m_b*u2'/9 - l**2*m_c*(u2**2*sin(q3) + cos(q3)*u2') - l**2*m_c*(u2' + u3') - l**2*m_c*u2' + 2*l*(-m_b*(u1' + u4')*cos(q2) - m_b*sin(q2)*u5')/3 + l*(-m_c*(u1' + u4')*cos(q2 + q3) - m_c*sin(q2 + q3)*u5') + l*(-m_c*(u1' + u4')*cos(q2) - m_c*sin(q2)*u5') + l*(l*m_c*(u2 + u3)**2*sin(q3) - l*m_c*(u2' + u3')*cos(q3))],\n",
       "[                                                                                                                                                                                                                    -l**2*m_c*(u2**2*sin(q3) + cos(q3)*u2') - l**2*m_c*(u2' + u3') + l*(-m_c*(u1' + u4')*cos(q2 + q3) - m_c*sin(q2 + q3)*u5')],\n",
       "[                                                                                                                           2*l*m_b*u2**2*sin(q2)/3 - 2*l*m_b*cos(q2)*u2'/3 + l*m_c*(u2 + u3)**2*sin(q2 + q3) - l*m_c*(u2' + u3')*cos(q2 + q3) + l*m_c*u2**2*sin(q2) - l*m_c*cos(q2)*u2' - m_a*(u1' + u4') - m_b*(u1' + u4') - m_c*(u1' + u4')],\n",
       "[                                                                                                                                                  -2*l*m_b*u2**2*cos(q2)/3 - 2*l*m_b*sin(q2)*u2'/3 - l*m_c*(u2 + u3)**2*cos(q2 + q3) - l*m_c*(u2' + u3')*sin(q2 + q3) - l*m_c*u2**2*cos(q2) - l*m_c*sin(q2)*u2' - m_a*u5' - m_b*u5' - m_c*u5']])"
      ]
     },
     "execution_count": 44,
     "metadata": {},
     "output_type": "execute_result"
    }
   ],
   "source": [
    "Frstar"
   ]
  },
  {
   "cell_type": "code",
   "execution_count": 45,
   "metadata": {},
   "outputs": [
    {
     "data": {
      "image/png": "[encoded data removed]",
      "text/latex": [
       "$$\\left[\\begin{matrix}- c u_{1} - k q_{1} + \\frac{2 l}{3} m_{b} u^{2}_{2} \\operatorname{sin}\\left(q_{2}\\right) - \\frac{2 l}{3} m_{b} \\operatorname{cos}\\left(q_{2}\\right) \\dot{u}_{2} + l m_{c} \\left(u_{2} + u_{3}\\right)^{2} \\operatorname{sin}\\left(q_{2} + q_{3}\\right) - l m_{c} \\left(\\dot{u}_{2} + \\dot{u}_{3}\\right) \\operatorname{cos}\\left(q_{2} + q_{3}\\right) + l m_{c} u^{2}_{2} \\operatorname{sin}\\left(q_{2}\\right) - l m_{c} \\operatorname{cos}\\left(q_{2}\\right) \\dot{u}_{2} - m_{a} \\left(\\dot{u}_{1} + \\dot{u}_{4}\\right) - m_{b} \\left(\\dot{u}_{1} + \\dot{u}_{4}\\right) - m_{c} \\left(\\dot{u}_{1} + \\dot{u}_{4}\\right) + F - f_{x}\\\\- I_{B_bo} \\dot{u}_{2} - \\frac{2 g}{3} l m_{b} \\operatorname{sin}\\left(q_{2}\\right) - g l m_{c} \\operatorname{sin}\\left(q_{2} + q_{3}\\right) - g l m_{c} \\operatorname{sin}\\left(q_{2}\\right) + k_{T} q_{3} - \\frac{4 m_{b}}{9} l^{2} \\dot{u}_{2} - l^{2} m_{c} \\left(u^{2}_{2} \\operatorname{sin}\\left(q_{3}\\right) + \\operatorname{cos}\\left(q_{3}\\right) \\dot{u}_{2}\\right) - l^{2} m_{c} \\left(\\dot{u}_{2} + \\dot{u}_{3}\\right) - l^{2} m_{c} \\dot{u}_{2} + \\frac{2 l}{3} \\left(- m_{b} \\left(\\dot{u}_{1} + \\dot{u}_{4}\\right) \\operatorname{cos}\\left(q_{2}\\right) - m_{b} \\operatorname{sin}\\left(q_{2}\\right) \\dot{u}_{5}\\right) + l \\left(- m_{c} \\left(\\dot{u}_{1} + \\dot{u}_{4}\\right) \\operatorname{cos}\\left(q_{2} + q_{3}\\right) - m_{c} \\operatorname{sin}\\left(q_{2} + q_{3}\\right) \\dot{u}_{5}\\right) + l \\left(- m_{c} \\left(\\dot{u}_{1} + \\dot{u}_{4}\\right) \\operatorname{cos}\\left(q_{2}\\right) - m_{c} \\operatorname{sin}\\left(q_{2}\\right) \\dot{u}_{5}\\right) + l \\left(l m_{c} \\left(u_{2} + u_{3}\\right)^{2} \\operatorname{sin}\\left(q_{3}\\right) - l m_{c} \\left(\\dot{u}_{2} + \\dot{u}_{3}\\right) \\operatorname{cos}\\left(q_{3}\\right)\\right) + T\\\\- g l m_{c} \\operatorname{sin}\\left(q_{2} + q_{3}\\right) - l^{2} m_{c} \\left(u^{2}_{2} \\operatorname{sin}\\left(q_{3}\\right) + \\operatorname{cos}\\left(q_{3}\\right) \\dot{u}_{2}\\right) - l^{2} m_{c} \\left(\\dot{u}_{2} + \\dot{u}_{3}\\right) + l \\left(- m_{c} \\left(\\dot{u}_{1} + \\dot{u}_{4}\\right) \\operatorname{cos}\\left(q_{2} + q_{3}\\right) - m_{c} \\operatorname{sin}\\left(q_{2} + q_{3}\\right) \\dot{u}_{5}\\right)\\\\- c u_{1} - k q_{1} + \\frac{2 l}{3} m_{b} u^{2}_{2} \\operatorname{sin}\\left(q_{2}\\right) - \\frac{2 l}{3} m_{b} \\operatorname{cos}\\left(q_{2}\\right) \\dot{u}_{2} + l m_{c} \\left(u_{2} + u_{3}\\right)^{2} \\operatorname{sin}\\left(q_{2} + q_{3}\\right) - l m_{c} \\left(\\dot{u}_{2} + \\dot{u}_{3}\\right) \\operatorname{cos}\\left(q_{2} + q_{3}\\right) + l m_{c} u^{2}_{2} \\operatorname{sin}\\left(q_{2}\\right) - l m_{c} \\operatorname{cos}\\left(q_{2}\\right) \\dot{u}_{2} - m_{a} \\left(\\dot{u}_{1} + \\dot{u}_{4}\\right) - m_{b} \\left(\\dot{u}_{1} + \\dot{u}_{4}\\right) - m_{c} \\left(\\dot{u}_{1} + \\dot{u}_{4}\\right) + F - f_{x}\\\\- g m_{b} - g m_{c} - \\frac{2 l}{3} m_{b} u^{2}_{2} \\operatorname{cos}\\left(q_{2}\\right) - \\frac{2 l}{3} m_{b} \\operatorname{sin}\\left(q_{2}\\right) \\dot{u}_{2} - l m_{c} \\left(u_{2} + u_{3}\\right)^{2} \\operatorname{cos}\\left(q_{2} + q_{3}\\right) - l m_{c} \\left(\\dot{u}_{2} + \\dot{u}_{3}\\right) \\operatorname{sin}\\left(q_{2} + q_{3}\\right) - l m_{c} u^{2}_{2} \\operatorname{cos}\\left(q_{2}\\right) - l m_{c} \\operatorname{sin}\\left(q_{2}\\right) \\dot{u}_{2} - m_{a} \\dot{u}_{5} - m_{b} \\dot{u}_{5} - m_{c} \\dot{u}_{5} - f_{y}\\end{matrix}\\right]$$"
      ],
      "text/plain": [
       "Matrix([\n",
       "[                                                                                                                                                                              -c*u1 - k*q1 + 2*l*m_b*u2**2*sin(q2)/3 - 2*l*m_b*cos(q2)*u2'/3 + l*m_c*(u2 + u3)**2*sin(q2 + q3) - l*m_c*(u2' + u3')*cos(q2 + q3) + l*m_c*u2**2*sin(q2) - l*m_c*cos(q2)*u2' - m_a*(u1' + u4') - m_b*(u1' + u4') - m_c*(u1' + u4') + F - f_x],\n",
       "[-I_{B_bo}*u2' - 2*g*l*m_b*sin(q2)/3 - g*l*m_c*sin(q2 + q3) - g*l*m_c*sin(q2) + k_T*q3 - 4*l**2*m_b*u2'/9 - l**2*m_c*(u2**2*sin(q3) + cos(q3)*u2') - l**2*m_c*(u2' + u3') - l**2*m_c*u2' + 2*l*(-m_b*(u1' + u4')*cos(q2) - m_b*sin(q2)*u5')/3 + l*(-m_c*(u1' + u4')*cos(q2 + q3) - m_c*sin(q2 + q3)*u5') + l*(-m_c*(u1' + u4')*cos(q2) - m_c*sin(q2)*u5') + l*(l*m_c*(u2 + u3)**2*sin(q3) - l*m_c*(u2' + u3')*cos(q3)) + T],\n",
       "[                                                                                                                                                                                                                                                                         -g*l*m_c*sin(q2 + q3) - l**2*m_c*(u2**2*sin(q3) + cos(q3)*u2') - l**2*m_c*(u2' + u3') + l*(-m_c*(u1' + u4')*cos(q2 + q3) - m_c*sin(q2 + q3)*u5')],\n",
       "[                                                                                                                                                                              -c*u1 - k*q1 + 2*l*m_b*u2**2*sin(q2)/3 - 2*l*m_b*cos(q2)*u2'/3 + l*m_c*(u2 + u3)**2*sin(q2 + q3) - l*m_c*(u2' + u3')*cos(q2 + q3) + l*m_c*u2**2*sin(q2) - l*m_c*cos(q2)*u2' - m_a*(u1' + u4') - m_b*(u1' + u4') - m_c*(u1' + u4') + F - f_x],\n",
       "[                                                                                                                                                                                                        -g*m_b - g*m_c - 2*l*m_b*u2**2*cos(q2)/3 - 2*l*m_b*sin(q2)*u2'/3 - l*m_c*(u2 + u3)**2*cos(q2 + q3) - l*m_c*(u2' + u3')*sin(q2 + q3) - l*m_c*u2**2*cos(q2) - l*m_c*sin(q2)*u2' - m_a*u5' - m_b*u5' - m_c*u5' - f_y]])"
      ]
     },
     "execution_count": 45,
     "metadata": {},
     "output_type": "execute_result"
    }
   ],
   "source": [
    "zero = Fr + Frstar\n",
    "zero"
   ]
  },
  {
   "cell_type": "markdown",
   "metadata": {},
   "source": [
    "No $\\dot{q}$'s!"
   ]
  },
  {
   "cell_type": "code",
   "execution_count": 46,
   "metadata": {},
   "outputs": [
    {
     "data": {
      "image/png": "[encoded data removed]",
      "text/latex": [
       "$$\\left\\{F, T, f_{x}, f_{y}, q_{1}, q_{2}, q_{3}, u_{1}, u_{2}, u_{3}, u_{4}, u_{5}, \\dot{u}_{1}, \\dot{u}_{2}, \\dot{u}_{3}, \\dot{u}_{4}, \\dot{u}_{5}\\right\\}$$"
      ],
      "text/plain": [
       "{F, T, f_x, f_y, q1, q2, q3, u1, u2, u3, u4, u5, u1', u2', u3', u4', u5'}"
      ]
     },
     "execution_count": 46,
     "metadata": {},
     "output_type": "execute_result"
    }
   ],
   "source": [
    "me.find_dynamicsymbols(zero)"
   ]
  },
  {
   "cell_type": "code",
   "execution_count": 47,
   "metadata": {},
   "outputs": [
    {
     "data": {
      "image/png": "[encoded data removed]",
      "text/latex": [
       "$$\\left\\{I_{B_bo}, c, g, k, k_{T}, l, m_{a}, m_{b}, m_{c}, t\\right\\}$$"
      ],
      "text/plain": [
       "{I_{B_bo}, c, g, k, k_T, l, m_a, m_b, m_c, t}"
      ]
     },
     "execution_count": 47,
     "metadata": {},
     "output_type": "execute_result"
    }
   ],
   "source": [
    "zero.free_symbols"
   ]
  },
  {
   "cell_type": "markdown",
   "metadata": {},
   "source": [
    "# Calculate the noncontributing loads\n",
    "\n",
    "The last two equations of $F_r + F_r^* = $ can be used to solve for the unknown forces. To do this set the fictious auxiliary speeds, $u_4,u_5$, to zero and then solve the two equations for the two unknown force components."
   ]
  },
  {
   "cell_type": "code",
   "execution_count": 48,
   "metadata": {},
   "outputs": [
    {
     "data": {
      "image/png": "[encoded data removed]",
      "text/latex": [
       "$$\\left[\\begin{matrix}- c u_{1} - k q_{1} + \\frac{2 l}{3} m_{b} u^{2}_{2} \\operatorname{sin}\\left(q_{2}\\right) - \\frac{2 l}{3} m_{b} \\operatorname{cos}\\left(q_{2}\\right) \\dot{u}_{2} + l m_{c} \\left(u_{2} + u_{3}\\right)^{2} \\operatorname{sin}\\left(q_{2} + q_{3}\\right) - l m_{c} \\left(\\dot{u}_{2} + \\dot{u}_{3}\\right) \\operatorname{cos}\\left(q_{2} + q_{3}\\right) + l m_{c} u^{2}_{2} \\operatorname{sin}\\left(q_{2}\\right) - l m_{c} \\operatorname{cos}\\left(q_{2}\\right) \\dot{u}_{2} - m_{a} \\dot{u}_{1} - m_{b} \\dot{u}_{1} - m_{c} \\dot{u}_{1} + F - f_{x}\\\\- I_{B_bo} \\dot{u}_{2} - \\frac{2 g}{3} l m_{b} \\operatorname{sin}\\left(q_{2}\\right) - g l m_{c} \\operatorname{sin}\\left(q_{2} + q_{3}\\right) - g l m_{c} \\operatorname{sin}\\left(q_{2}\\right) + k_{T} q_{3} - \\frac{4 m_{b}}{9} l^{2} \\dot{u}_{2} - l^{2} m_{c} \\left(u^{2}_{2} \\operatorname{sin}\\left(q_{3}\\right) + \\operatorname{cos}\\left(q_{3}\\right) \\dot{u}_{2}\\right) - l^{2} m_{c} \\left(\\dot{u}_{2} + \\dot{u}_{3}\\right) - l^{2} m_{c} \\dot{u}_{2} - \\frac{2 l}{3} m_{b} \\operatorname{cos}\\left(q_{2}\\right) \\dot{u}_{1} - l m_{c} \\operatorname{cos}\\left(q_{2} + q_{3}\\right) \\dot{u}_{1} - l m_{c} \\operatorname{cos}\\left(q_{2}\\right) \\dot{u}_{1} + l \\left(l m_{c} \\left(u_{2} + u_{3}\\right)^{2} \\operatorname{sin}\\left(q_{3}\\right) - l m_{c} \\left(\\dot{u}_{2} + \\dot{u}_{3}\\right) \\operatorname{cos}\\left(q_{3}\\right)\\right) + T\\\\- g l m_{c} \\operatorname{sin}\\left(q_{2} + q_{3}\\right) - l^{2} m_{c} \\left(u^{2}_{2} \\operatorname{sin}\\left(q_{3}\\right) + \\operatorname{cos}\\left(q_{3}\\right) \\dot{u}_{2}\\right) - l^{2} m_{c} \\left(\\dot{u}_{2} + \\dot{u}_{3}\\right) - l m_{c} \\operatorname{cos}\\left(q_{2} + q_{3}\\right) \\dot{u}_{1}\\\\- c u_{1} - k q_{1} + \\frac{2 l}{3} m_{b} u^{2}_{2} \\operatorname{sin}\\left(q_{2}\\right) - \\frac{2 l}{3} m_{b} \\operatorname{cos}\\left(q_{2}\\right) \\dot{u}_{2} + l m_{c} \\left(u_{2} + u_{3}\\right)^{2} \\operatorname{sin}\\left(q_{2} + q_{3}\\right) - l m_{c} \\left(\\dot{u}_{2} + \\dot{u}_{3}\\right) \\operatorname{cos}\\left(q_{2} + q_{3}\\right) + l m_{c} u^{2}_{2} \\operatorname{sin}\\left(q_{2}\\right) - l m_{c} \\operatorname{cos}\\left(q_{2}\\right) \\dot{u}_{2} - m_{a} \\dot{u}_{1} - m_{b} \\dot{u}_{1} - m_{c} \\dot{u}_{1} + F - f_{x}\\\\- g m_{b} - g m_{c} - \\frac{2 l}{3} m_{b} u^{2}_{2} \\operatorname{cos}\\left(q_{2}\\right) - \\frac{2 l}{3} m_{b} \\operatorname{sin}\\left(q_{2}\\right) \\dot{u}_{2} - l m_{c} \\left(u_{2} + u_{3}\\right)^{2} \\operatorname{cos}\\left(q_{2} + q_{3}\\right) - l m_{c} \\left(\\dot{u}_{2} + \\dot{u}_{3}\\right) \\operatorname{sin}\\left(q_{2} + q_{3}\\right) - l m_{c} u^{2}_{2} \\operatorname{cos}\\left(q_{2}\\right) - l m_{c} \\operatorname{sin}\\left(q_{2}\\right) \\dot{u}_{2} - f_{y}\\end{matrix}\\right]$$"
      ],
      "text/plain": [
       "Matrix([\n",
       "[                                                                                                          -c*u1 - k*q1 + 2*l*m_b*u2**2*sin(q2)/3 - 2*l*m_b*cos(q2)*u2'/3 + l*m_c*(u2 + u3)**2*sin(q2 + q3) - l*m_c*(u2' + u3')*cos(q2 + q3) + l*m_c*u2**2*sin(q2) - l*m_c*cos(q2)*u2' - m_a*u1' - m_b*u1' - m_c*u1' + F - f_x],\n",
       "[-I_{B_bo}*u2' - 2*g*l*m_b*sin(q2)/3 - g*l*m_c*sin(q2 + q3) - g*l*m_c*sin(q2) + k_T*q3 - 4*l**2*m_b*u2'/9 - l**2*m_c*(u2**2*sin(q3) + cos(q3)*u2') - l**2*m_c*(u2' + u3') - l**2*m_c*u2' - 2*l*m_b*cos(q2)*u1'/3 - l*m_c*cos(q2 + q3)*u1' - l*m_c*cos(q2)*u1' + l*(l*m_c*(u2 + u3)**2*sin(q3) - l*m_c*(u2' + u3')*cos(q3)) + T],\n",
       "[                                                                                                                                                                                                               -g*l*m_c*sin(q2 + q3) - l**2*m_c*(u2**2*sin(q3) + cos(q3)*u2') - l**2*m_c*(u2' + u3') - l*m_c*cos(q2 + q3)*u1'],\n",
       "[                                                                                                          -c*u1 - k*q1 + 2*l*m_b*u2**2*sin(q2)/3 - 2*l*m_b*cos(q2)*u2'/3 + l*m_c*(u2 + u3)**2*sin(q2 + q3) - l*m_c*(u2' + u3')*cos(q2 + q3) + l*m_c*u2**2*sin(q2) - l*m_c*cos(q2)*u2' - m_a*u1' - m_b*u1' - m_c*u1' + F - f_x],\n",
       "[                                                                                                                                          -g*m_b - g*m_c - 2*l*m_b*u2**2*cos(q2)/3 - 2*l*m_b*sin(q2)*u2'/3 - l*m_c*(u2 + u3)**2*cos(q2 + q3) - l*m_c*(u2' + u3')*sin(q2 + q3) - l*m_c*u2**2*cos(q2) - l*m_c*sin(q2)*u2' - f_y]])"
      ]
     },
     "execution_count": 48,
     "metadata": {},
     "output_type": "execute_result"
    }
   ],
   "source": [
    "zero = zero.subs({u4.diff(): 0, u5.diff(): 0}).subs({u4: 0, u5: 0})\n",
    "zero"
   ]
  },
  {
   "cell_type": "code",
   "execution_count": 49,
   "metadata": {},
   "outputs": [
    {
     "data": {
      "image/png": "[encoded data removed]",
      "text/latex": [
       "$$\\left \\{ f_{x} : - c u_{1} - k q_{1} + \\frac{2 l}{3} m_{b} u^{2}_{2} \\operatorname{sin}\\left(q_{2}\\right) - \\frac{2 l}{3} m_{b} \\operatorname{cos}\\left(q_{2}\\right) \\dot{u}_{2} + l m_{c} u^{2}_{2} \\operatorname{sin}\\left(q_{2} + q_{3}\\right) + l m_{c} u^{2}_{2} \\operatorname{sin}\\left(q_{2}\\right) + 2 l m_{c} u_{2} u_{3} \\operatorname{sin}\\left(q_{2} + q_{3}\\right) + l m_{c} u^{2}_{3} \\operatorname{sin}\\left(q_{2} + q_{3}\\right) - l m_{c} \\operatorname{cos}\\left(q_{2} + q_{3}\\right) \\dot{u}_{2} - l m_{c} \\operatorname{cos}\\left(q_{2} + q_{3}\\right) \\dot{u}_{3} - l m_{c} \\operatorname{cos}\\left(q_{2}\\right) \\dot{u}_{2} - m_{a} \\dot{u}_{1} - m_{b} \\dot{u}_{1} - m_{c} \\dot{u}_{1} + F, \\quad f_{y} : - g m_{b} - g m_{c} - \\frac{2 l}{3} m_{b} u^{2}_{2} \\operatorname{cos}\\left(q_{2}\\right) - \\frac{2 l}{3} m_{b} \\operatorname{sin}\\left(q_{2}\\right) \\dot{u}_{2} - l m_{c} u^{2}_{2} \\operatorname{cos}\\left(q_{2} + q_{3}\\right) - l m_{c} u^{2}_{2} \\operatorname{cos}\\left(q_{2}\\right) - 2 l m_{c} u_{2} u_{3} \\operatorname{cos}\\left(q_{2} + q_{3}\\right) - l m_{c} u^{2}_{3} \\operatorname{cos}\\left(q_{2} + q_{3}\\right) - l m_{c} \\operatorname{sin}\\left(q_{2} + q_{3}\\right) \\dot{u}_{2} - l m_{c} \\operatorname{sin}\\left(q_{2} + q_{3}\\right) \\dot{u}_{3} - l m_{c} \\operatorname{sin}\\left(q_{2}\\right) \\dot{u}_{2}\\right \\}$$"
      ],
      "text/plain": [
       "{f_x: -c*u1 - k*q1 + 2*l*m_b*u2**2*sin(q2)/3 - 2*l*m_b*cos(q2)*u2'/3 + l*m_c*u2**2*sin(q2 + q3) + l*m_c*u2**2*sin(q2) + 2*l*m_c*u2*u3*sin(q2 + q3) + l*m_c*u3**2*sin(q2 + q3) - l*m_c*cos(q2 + q3)*u2' - l*m_c*cos(q2 + q3)*u3' - l*m_c*cos(q2)*u2' - m_a*u1' - m_b*u1' - m_c*u1' + F, f_y: -g*m_b - g*m_c - 2*l*m_b*u2**2*cos(q2)/3 - 2*l*m_b*sin(q2)*u2'/3 - l*m_c*u2**2*cos(q2 + q3) - l*m_c*u2**2*cos(q2) - 2*l*m_c*u2*u3*cos(q2 + q3) - l*m_c*u3**2*cos(q2 + q3) - l*m_c*sin(q2 + q3)*u2' - l*m_c*sin(q2 + q3)*u3' - l*m_c*sin(q2)*u2'}"
      ]
     },
     "execution_count": 49,
     "metadata": {},
     "output_type": "execute_result"
    }
   ],
   "source": [
    "sm.solve(zero[-2:, 0], fx, fy)"
   ]
  },
  {
   "cell_type": "markdown",
   "metadata": {},
   "source": [
    "Above are the expressions for the force components as a function of time and all of the actual generalized speeds."
   ]
  },
  {
   "cell_type": "markdown",
   "metadata": {},
   "source": [
    "The actual equations of motion can be recovered by substituting zero for the force components."
   ]
  },
  {
   "cell_type": "code",
   "execution_count": 50,
   "metadata": {},
   "outputs": [
    {
     "data": {
      "image/png": "[encoded data removed]",
      "text/latex": [
       "$$\\left[\\begin{matrix}- c u_{1} - k q_{1} + \\frac{2 l}{3} m_{b} u^{2}_{2} \\operatorname{sin}\\left(q_{2}\\right) - \\frac{2 l}{3} m_{b} \\operatorname{cos}\\left(q_{2}\\right) \\dot{u}_{2} + l m_{c} \\left(u_{2} + u_{3}\\right)^{2} \\operatorname{sin}\\left(q_{2} + q_{3}\\right) - l m_{c} \\left(\\dot{u}_{2} + \\dot{u}_{3}\\right) \\operatorname{cos}\\left(q_{2} + q_{3}\\right) + l m_{c} u^{2}_{2} \\operatorname{sin}\\left(q_{2}\\right) - l m_{c} \\operatorname{cos}\\left(q_{2}\\right) \\dot{u}_{2} - m_{a} \\dot{u}_{1} - m_{b} \\dot{u}_{1} - m_{c} \\dot{u}_{1} + F\\\\- I_{B_bo} \\dot{u}_{2} - \\frac{2 g}{3} l m_{b} \\operatorname{sin}\\left(q_{2}\\right) - g l m_{c} \\operatorname{sin}\\left(q_{2} + q_{3}\\right) - g l m_{c} \\operatorname{sin}\\left(q_{2}\\right) + k_{T} q_{3} - \\frac{4 m_{b}}{9} l^{2} \\dot{u}_{2} - l^{2} m_{c} \\left(u^{2}_{2} \\operatorname{sin}\\left(q_{3}\\right) + \\operatorname{cos}\\left(q_{3}\\right) \\dot{u}_{2}\\right) - l^{2} m_{c} \\left(\\dot{u}_{2} + \\dot{u}_{3}\\right) - l^{2} m_{c} \\dot{u}_{2} - \\frac{2 l}{3} m_{b} \\operatorname{cos}\\left(q_{2}\\right) \\dot{u}_{1} - l m_{c} \\operatorname{cos}\\left(q_{2} + q_{3}\\right) \\dot{u}_{1} - l m_{c} \\operatorname{cos}\\left(q_{2}\\right) \\dot{u}_{1} + l \\left(l m_{c} \\left(u_{2} + u_{3}\\right)^{2} \\operatorname{sin}\\left(q_{3}\\right) - l m_{c} \\left(\\dot{u}_{2} + \\dot{u}_{3}\\right) \\operatorname{cos}\\left(q_{3}\\right)\\right) + T\\\\- g l m_{c} \\operatorname{sin}\\left(q_{2} + q_{3}\\right) - l^{2} m_{c} \\left(u^{2}_{2} \\operatorname{sin}\\left(q_{3}\\right) + \\operatorname{cos}\\left(q_{3}\\right) \\dot{u}_{2}\\right) - l^{2} m_{c} \\left(\\dot{u}_{2} + \\dot{u}_{3}\\right) - l m_{c} \\operatorname{cos}\\left(q_{2} + q_{3}\\right) \\dot{u}_{1}\\end{matrix}\\right]$$"
      ],
      "text/plain": [
       "Matrix([\n",
       "[                                                                                                                -c*u1 - k*q1 + 2*l*m_b*u2**2*sin(q2)/3 - 2*l*m_b*cos(q2)*u2'/3 + l*m_c*(u2 + u3)**2*sin(q2 + q3) - l*m_c*(u2' + u3')*cos(q2 + q3) + l*m_c*u2**2*sin(q2) - l*m_c*cos(q2)*u2' - m_a*u1' - m_b*u1' - m_c*u1' + F],\n",
       "[-I_{B_bo}*u2' - 2*g*l*m_b*sin(q2)/3 - g*l*m_c*sin(q2 + q3) - g*l*m_c*sin(q2) + k_T*q3 - 4*l**2*m_b*u2'/9 - l**2*m_c*(u2**2*sin(q3) + cos(q3)*u2') - l**2*m_c*(u2' + u3') - l**2*m_c*u2' - 2*l*m_b*cos(q2)*u1'/3 - l*m_c*cos(q2 + q3)*u1' - l*m_c*cos(q2)*u1' + l*(l*m_c*(u2 + u3)**2*sin(q3) - l*m_c*(u2' + u3')*cos(q3)) + T],\n",
       "[                                                                                                                                                                                                               -g*l*m_c*sin(q2 + q3) - l**2*m_c*(u2**2*sin(q3) + cos(q3)*u2') - l**2*m_c*(u2' + u3') - l*m_c*cos(q2 + q3)*u1']])"
      ]
     },
     "execution_count": 50,
     "metadata": {},
     "output_type": "execute_result"
    }
   ],
   "source": [
    "zero[:3, 0].subs({fx: 0, fy: 0})"
   ]
  },
  {
   "cell_type": "markdown",
   "metadata": {},
   "source": [
    "# Using KanesMethod with auxiliary speeds"
   ]
  },
  {
   "cell_type": "code",
   "execution_count": 51,
   "metadata": {},
   "outputs": [],
   "source": [
    "slider = me.Particle('slider', Pab, ma)\n",
    "bob = me.Particle('bob', Pc, mc)"
   ]
  },
  {
   "cell_type": "code",
   "execution_count": 52,
   "metadata": {},
   "outputs": [],
   "source": [
    "pend = me.RigidBody('pend', Bo, B, mb, (IB, Bo))"
   ]
  },
  {
   "cell_type": "code",
   "execution_count": 53,
   "metadata": {},
   "outputs": [],
   "source": [
    "bodies = [slider, bob, pend]"
   ]
  },
  {
   "cell_type": "code",
   "execution_count": 54,
   "metadata": {},
   "outputs": [],
   "source": [
    "loads = [(Pab, Rab),\n",
    "         (Pc, Rc),\n",
    "         (Bo, Rbo),\n",
    "         (B, TB)]"
   ]
  },
  {
   "cell_type": "markdown",
   "metadata": {},
   "source": [
    "The same equations as found above are returned if you provide an iterable of auxiliary speeds."
   ]
  },
  {
   "cell_type": "code",
   "execution_count": 55,
   "metadata": {},
   "outputs": [],
   "source": [
    "kane = me.KanesMethod(N, [q1, q2, q3], [u1, u2, u3], kd_eqs=kdes, u_auxiliary=[u4, u5])"
   ]
  },
  {
   "cell_type": "code",
   "execution_count": 56,
   "metadata": {},
   "outputs": [],
   "source": [
    "Fr, Frstar = kane.kanes_equations(bodies, loads)"
   ]
  },
  {
   "cell_type": "code",
   "execution_count": 57,
   "metadata": {},
   "outputs": [
    {
     "data": {
      "image/png": "[encoded data removed]",
      "text/latex": [
       "$$\\left[\\begin{matrix}- c u_{1} - k q_{1} + F - f_{x}\\\\- \\frac{2 g}{3} l m_{b} \\operatorname{sin}\\left(q_{2}\\right) - g l m_{c} \\left(\\operatorname{sin}\\left(q_{2}\\right) \\operatorname{cos}\\left(q_{3}\\right) + \\operatorname{sin}\\left(q_{3}\\right) \\operatorname{cos}\\left(q_{2}\\right)\\right) - g l m_{c} \\operatorname{sin}\\left(q_{2}\\right) + k_{T} q_{3} + T\\\\- g l m_{c} \\left(\\operatorname{sin}\\left(q_{2}\\right) \\operatorname{cos}\\left(q_{3}\\right) + \\operatorname{sin}\\left(q_{3}\\right) \\operatorname{cos}\\left(q_{2}\\right)\\right)\\\\- c u_{1} - k q_{1} + F - f_{x}\\\\- g m_{b} - g m_{c} - f_{y}\\end{matrix}\\right]$$"
      ],
      "text/plain": [
       "Matrix([\n",
       "[                                                                           -c*u1 - k*q1 + F - f_x],\n",
       "[-2*g*l*m_b*sin(q2)/3 - g*l*m_c*(sin(q2)*cos(q3) + sin(q3)*cos(q2)) - g*l*m_c*sin(q2) + k_T*q3 + T],\n",
       "[                                                     -g*l*m_c*(sin(q2)*cos(q3) + sin(q3)*cos(q2))],\n",
       "[                                                                           -c*u1 - k*q1 + F - f_x],\n",
       "[                                                                             -g*m_b - g*m_c - f_y]])"
      ]
     },
     "execution_count": 57,
     "metadata": {},
     "output_type": "execute_result"
    }
   ],
   "source": [
    "Fr"
   ]
  },
  {
   "cell_type": "code",
   "execution_count": 58,
   "metadata": {},
   "outputs": [
    {
     "data": {
      "image/png": "[encoded data removed]",
      "text/latex": [
       "$$\\left[\\begin{matrix}\\frac{2 l}{3} m_{b} u^{2}_{2} \\operatorname{sin}\\left(q_{2}\\right) - l m_{c} \\left(- \\operatorname{sin}\\left(q_{2}\\right) \\operatorname{sin}\\left(q_{3}\\right) + \\operatorname{cos}\\left(q_{2}\\right) \\operatorname{cos}\\left(q_{3}\\right)\\right) \\dot{u}_{3} - l m_{c} \\left(- \\operatorname{sin}\\left(q_{2}\\right) \\operatorname{cos}\\left(q_{3}\\right) - \\operatorname{sin}\\left(q_{3}\\right) \\operatorname{cos}\\left(q_{2}\\right)\\right) \\left(u_{2} + u_{3}\\right)^{2} + l m_{c} u^{2}_{2} \\operatorname{sin}\\left(q_{2}\\right) - \\left(\\frac{2 l}{3} m_{b} \\operatorname{cos}\\left(q_{2}\\right) + m_{c} \\left(l \\left(- \\operatorname{sin}\\left(q_{2}\\right) \\operatorname{sin}\\left(q_{3}\\right) + \\operatorname{cos}\\left(q_{2}\\right) \\operatorname{cos}\\left(q_{3}\\right)\\right) + l \\operatorname{cos}\\left(q_{2}\\right)\\right)\\right) \\dot{u}_{2} - \\left(m_{a} + m_{b} + m_{c}\\right) \\dot{u}_{1}\\\\l^{2} m_{c} \\left(u_{2} + u_{3}\\right)^{2} \\operatorname{sin}\\left(q_{3}\\right) - l^{2} m_{c} u^{2}_{2} \\operatorname{sin}\\left(q_{3}\\right) - m_{c} \\left(l^{2} \\operatorname{cos}\\left(q_{3}\\right) + l^{2}\\right) \\dot{u}_{3} - \\left(\\frac{2 l}{3} m_{b} \\operatorname{cos}\\left(q_{2}\\right) + m_{c} \\left(l \\left(- \\operatorname{sin}\\left(q_{2}\\right) \\operatorname{sin}\\left(q_{3}\\right) + \\operatorname{cos}\\left(q_{2}\\right) \\operatorname{cos}\\left(q_{3}\\right)\\right) + l \\operatorname{cos}\\left(q_{2}\\right)\\right)\\right) \\dot{u}_{1} - \\left(I_{B_bo} + \\frac{4 m_{b}}{9} l^{2} + m_{c} \\left(2 l^{2} \\operatorname{cos}\\left(q_{3}\\right) + 2 l^{2}\\right)\\right) \\dot{u}_{2}\\\\- l^{2} m_{c} u^{2}_{2} \\operatorname{sin}\\left(q_{3}\\right) - l^{2} m_{c} \\dot{u}_{3} - l m_{c} \\left(- \\operatorname{sin}\\left(q_{2}\\right) \\operatorname{sin}\\left(q_{3}\\right) + \\operatorname{cos}\\left(q_{2}\\right) \\operatorname{cos}\\left(q_{3}\\right)\\right) \\dot{u}_{1} - m_{c} \\left(l^{2} \\operatorname{cos}\\left(q_{3}\\right) + l^{2}\\right) \\dot{u}_{2}\\\\\\frac{2 l}{3} m_{b} u^{2}_{2} \\operatorname{sin}\\left(q_{2}\\right) - \\frac{2 l}{3} m_{b} \\operatorname{cos}\\left(q_{2}\\right) \\dot{u}_{2} - l m_{c} \\left(- \\operatorname{sin}\\left(q_{2}\\right) \\operatorname{sin}\\left(q_{3}\\right) + \\operatorname{cos}\\left(q_{2}\\right) \\operatorname{cos}\\left(q_{3}\\right)\\right) \\left(\\dot{u}_{2} + \\dot{u}_{3}\\right) - l m_{c} \\left(- \\operatorname{sin}\\left(q_{2}\\right) \\operatorname{cos}\\left(q_{3}\\right) - \\operatorname{sin}\\left(q_{3}\\right) \\operatorname{cos}\\left(q_{2}\\right)\\right) \\left(u_{2} + u_{3}\\right)^{2} + l m_{c} u^{2}_{2} \\operatorname{sin}\\left(q_{2}\\right) - l m_{c} \\operatorname{cos}\\left(q_{2}\\right) \\dot{u}_{2} - m_{a} \\dot{u}_{1} - m_{b} \\dot{u}_{1} - m_{c} \\dot{u}_{1}\\\\- \\frac{2 l}{3} m_{b} u^{2}_{2} \\operatorname{cos}\\left(q_{2}\\right) - \\frac{2 l}{3} m_{b} \\operatorname{sin}\\left(q_{2}\\right) \\dot{u}_{2} - l m_{c} \\left(- \\operatorname{sin}\\left(q_{2}\\right) \\operatorname{sin}\\left(q_{3}\\right) + \\operatorname{cos}\\left(q_{2}\\right) \\operatorname{cos}\\left(q_{3}\\right)\\right) \\left(u_{2} + u_{3}\\right)^{2} - l m_{c} \\left(\\operatorname{sin}\\left(q_{2}\\right) \\operatorname{cos}\\left(q_{3}\\right) + \\operatorname{sin}\\left(q_{3}\\right) \\operatorname{cos}\\left(q_{2}\\right)\\right) \\left(\\dot{u}_{2} + \\dot{u}_{3}\\right) - l m_{c} u^{2}_{2} \\operatorname{cos}\\left(q_{2}\\right) - l m_{c} \\operatorname{sin}\\left(q_{2}\\right) \\dot{u}_{2}\\end{matrix}\\right]$$"
      ],
      "text/plain": [
       "Matrix([\n",
       "[2*l*m_b*u2**2*sin(q2)/3 - l*m_c*(-sin(q2)*sin(q3) + cos(q2)*cos(q3))*u3' - l*m_c*(-sin(q2)*cos(q3) - sin(q3)*cos(q2))*(u2 + u3)**2 + l*m_c*u2**2*sin(q2) - (2*l*m_b*cos(q2)/3 + m_c*(l*(-sin(q2)*sin(q3) + cos(q2)*cos(q3)) + l*cos(q2)))*u2' - (m_a + m_b + m_c)*u1'],\n",
       "[                          l**2*m_c*(u2 + u3)**2*sin(q3) - l**2*m_c*u2**2*sin(q3) - m_c*(l**2*cos(q3) + l**2)*u3' - (2*l*m_b*cos(q2)/3 + m_c*(l*(-sin(q2)*sin(q3) + cos(q2)*cos(q3)) + l*cos(q2)))*u1' - (I_{B_bo} + 4*l**2*m_b/9 + m_c*(2*l**2*cos(q3) + 2*l**2))*u2'],\n",
       "[                                                                                                                                              -l**2*m_c*u2**2*sin(q3) - l**2*m_c*u3' - l*m_c*(-sin(q2)*sin(q3) + cos(q2)*cos(q3))*u1' - m_c*(l**2*cos(q3) + l**2)*u2'],\n",
       "[                           2*l*m_b*u2**2*sin(q2)/3 - 2*l*m_b*cos(q2)*u2'/3 - l*m_c*(-sin(q2)*sin(q3) + cos(q2)*cos(q3))*(u2' + u3') - l*m_c*(-sin(q2)*cos(q3) - sin(q3)*cos(q2))*(u2 + u3)**2 + l*m_c*u2**2*sin(q2) - l*m_c*cos(q2)*u2' - m_a*u1' - m_b*u1' - m_c*u1'],\n",
       "[                                                         -2*l*m_b*u2**2*cos(q2)/3 - 2*l*m_b*sin(q2)*u2'/3 - l*m_c*(-sin(q2)*sin(q3) + cos(q2)*cos(q3))*(u2 + u3)**2 - l*m_c*(sin(q2)*cos(q3) + sin(q3)*cos(q2))*(u2' + u3') - l*m_c*u2**2*cos(q2) - l*m_c*sin(q2)*u2']])"
      ]
     },
     "execution_count": 58,
     "metadata": {},
     "output_type": "execute_result"
    }
   ],
   "source": [
    "Frstar"
   ]
  }
 ],
 "metadata": {
  "kernelspec": {
   "display_name": "Python 3",
   "language": "python",
   "name": "python3"
  },
  "language_info": {
   "codemirror_mode": {
    "name": "ipython",
    "version": 3
   },
   "file_extension": ".py",
   "mimetype": "text/x-python",
   "name": "python",
   "nbconvert_exporter": "python",
   "pygments_lexer": "ipython3",
   "version": "3.6.2"
  }
 },
 "nbformat": 4,
 "nbformat_minor": 2
}
