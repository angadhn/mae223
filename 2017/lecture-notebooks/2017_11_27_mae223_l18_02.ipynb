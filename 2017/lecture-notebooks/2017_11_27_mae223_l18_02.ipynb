{
 "cells": [
  {
   "cell_type": "markdown",
   "metadata": {},
   "source": [
    "# Rolling disc"
   ]
  },
  {
   "cell_type": "code",
   "execution_count": 1,
   "metadata": {},
   "outputs": [],
   "source": [
    "import sympy as sm"
   ]
  },
  {
   "cell_type": "code",
   "execution_count": 2,
   "metadata": {},
   "outputs": [],
   "source": [
    "import sympy.physics.mechanics as me"
   ]
  },
  {
   "cell_type": "code",
   "execution_count": 3,
   "metadata": {},
   "outputs": [],
   "source": [
    "me.init_vprinting(use_latex=True, pretty_print=False)"
   ]
  },
  {
   "cell_type": "code",
   "execution_count": 4,
   "metadata": {},
   "outputs": [],
   "source": [
    "m, r, g = sm.symbols('m, r, g')"
   ]
  },
  {
   "cell_type": "code",
   "execution_count": 5,
   "metadata": {},
   "outputs": [],
   "source": [
    "q1, q2, q3, x, y = me.dynamicsymbols('q1, q2, q3, x, y')"
   ]
  },
  {
   "cell_type": "code",
   "execution_count": 6,
   "metadata": {},
   "outputs": [],
   "source": [
    "u1, u2, u3, vx, vy = me.dynamicsymbols('u1, u2, u3, v_x, v_y')"
   ]
  },
  {
   "cell_type": "markdown",
   "metadata": {},
   "source": [
    "# Reference Frames"
   ]
  },
  {
   "cell_type": "code",
   "execution_count": 7,
   "metadata": {},
   "outputs": [],
   "source": [
    "N = me.ReferenceFrame('N')"
   ]
  },
  {
   "cell_type": "code",
   "execution_count": 8,
   "metadata": {},
   "outputs": [],
   "source": [
    "Y = N.orientnew('Y', 'Axis', (q1, N.z))"
   ]
  },
  {
   "cell_type": "code",
   "execution_count": 9,
   "metadata": {},
   "outputs": [],
   "source": [
    "L = Y.orientnew('L', 'Axis', (q2, Y.y))"
   ]
  },
  {
   "cell_type": "code",
   "execution_count": 10,
   "metadata": {},
   "outputs": [],
   "source": [
    "R = L.orientnew('R', 'Axis', (q3, L.x))"
   ]
  },
  {
   "cell_type": "code",
   "execution_count": 11,
   "metadata": {},
   "outputs": [
    {
     "data": {
      "image/png": "[encoded data removed]",
      "text/latex": [
       "$$\\left[\\begin{matrix}\\operatorname{cos}\\left(q_{1}\\right) \\operatorname{cos}\\left(q_{2}\\right) & \\operatorname{sin}\\left(q_{1}\\right) \\operatorname{cos}\\left(q_{2}\\right) & - \\operatorname{sin}\\left(q_{2}\\right)\\\\- \\operatorname{sin}\\left(q_{1}\\right) \\operatorname{cos}\\left(q_{3}\\right) + \\operatorname{sin}\\left(q_{2}\\right) \\operatorname{sin}\\left(q_{3}\\right) \\operatorname{cos}\\left(q_{1}\\right) & \\operatorname{sin}\\left(q_{1}\\right) \\operatorname{sin}\\left(q_{2}\\right) \\operatorname{sin}\\left(q_{3}\\right) + \\operatorname{cos}\\left(q_{1}\\right) \\operatorname{cos}\\left(q_{3}\\right) & \\operatorname{sin}\\left(q_{3}\\right) \\operatorname{cos}\\left(q_{2}\\right)\\\\\\operatorname{sin}\\left(q_{1}\\right) \\operatorname{sin}\\left(q_{3}\\right) + \\operatorname{sin}\\left(q_{2}\\right) \\operatorname{cos}\\left(q_{1}\\right) \\operatorname{cos}\\left(q_{3}\\right) & \\operatorname{sin}\\left(q_{1}\\right) \\operatorname{sin}\\left(q_{2}\\right) \\operatorname{cos}\\left(q_{3}\\right) - \\operatorname{sin}\\left(q_{3}\\right) \\operatorname{cos}\\left(q_{1}\\right) & \\operatorname{cos}\\left(q_{2}\\right) \\operatorname{cos}\\left(q_{3}\\right)\\end{matrix}\\right]$$"
      ],
      "text/plain": [
       "Matrix([\n",
       "[                           cos(q1)*cos(q2),                           sin(q1)*cos(q2),        -sin(q2)],\n",
       "[-sin(q1)*cos(q3) + sin(q2)*sin(q3)*cos(q1), sin(q1)*sin(q2)*sin(q3) + cos(q1)*cos(q3), sin(q3)*cos(q2)],\n",
       "[ sin(q1)*sin(q3) + sin(q2)*cos(q1)*cos(q3), sin(q1)*sin(q2)*cos(q3) - sin(q3)*cos(q1), cos(q2)*cos(q3)]])"
      ]
     },
     "execution_count": 11,
     "metadata": {},
     "output_type": "execute_result"
    }
   ],
   "source": [
    "sm.trigsimp(R.dcm(N))"
   ]
  },
  {
   "cell_type": "code",
   "execution_count": 12,
   "metadata": {},
   "outputs": [],
   "source": [
    "#R = N.orientnew('R', 'Body', (q1, q2, q3), 'ZYX')"
   ]
  },
  {
   "cell_type": "code",
   "execution_count": 13,
   "metadata": {},
   "outputs": [
    {
     "data": {
      "image/png": "[encoded data removed]",
      "text/latex": [
       "$$\\left[\\begin{matrix}\\operatorname{cos}\\left(q_{1}\\right) \\operatorname{cos}\\left(q_{2}\\right) & \\operatorname{sin}\\left(q_{1}\\right) \\operatorname{cos}\\left(q_{2}\\right) & - \\operatorname{sin}\\left(q_{2}\\right)\\\\- \\operatorname{sin}\\left(q_{1}\\right) \\operatorname{cos}\\left(q_{3}\\right) + \\operatorname{sin}\\left(q_{2}\\right) \\operatorname{sin}\\left(q_{3}\\right) \\operatorname{cos}\\left(q_{1}\\right) & \\operatorname{sin}\\left(q_{1}\\right) \\operatorname{sin}\\left(q_{2}\\right) \\operatorname{sin}\\left(q_{3}\\right) + \\operatorname{cos}\\left(q_{1}\\right) \\operatorname{cos}\\left(q_{3}\\right) & \\operatorname{sin}\\left(q_{3}\\right) \\operatorname{cos}\\left(q_{2}\\right)\\\\\\operatorname{sin}\\left(q_{1}\\right) \\operatorname{sin}\\left(q_{3}\\right) + \\operatorname{sin}\\left(q_{2}\\right) \\operatorname{cos}\\left(q_{1}\\right) \\operatorname{cos}\\left(q_{3}\\right) & \\operatorname{sin}\\left(q_{1}\\right) \\operatorname{sin}\\left(q_{2}\\right) \\operatorname{cos}\\left(q_{3}\\right) - \\operatorname{sin}\\left(q_{3}\\right) \\operatorname{cos}\\left(q_{1}\\right) & \\operatorname{cos}\\left(q_{2}\\right) \\operatorname{cos}\\left(q_{3}\\right)\\end{matrix}\\right]$$"
      ],
      "text/plain": [
       "Matrix([\n",
       "[                           cos(q1)*cos(q2),                           sin(q1)*cos(q2),        -sin(q2)],\n",
       "[-sin(q1)*cos(q3) + sin(q2)*sin(q3)*cos(q1), sin(q1)*sin(q2)*sin(q3) + cos(q1)*cos(q3), sin(q3)*cos(q2)],\n",
       "[ sin(q1)*sin(q3) + sin(q2)*cos(q1)*cos(q3), sin(q1)*sin(q2)*cos(q3) - sin(q3)*cos(q1), cos(q2)*cos(q3)]])"
      ]
     },
     "execution_count": 13,
     "metadata": {},
     "output_type": "execute_result"
    }
   ],
   "source": [
    "R.dcm(N)"
   ]
  },
  {
   "cell_type": "code",
   "execution_count": 14,
   "metadata": {},
   "outputs": [
    {
     "data": {
      "image/png": "[encoded data removed]",
      "text/latex": [
       "$$\\dot{q}_{3}\\mathbf{\\hat{l}_x} + \\dot{q}_{2}\\mathbf{\\hat{y}_y} + \\dot{q}_{1}\\mathbf{\\hat{n}_z}$$"
      ],
      "text/plain": [
       "q1'*N.z + q2'*Y.y + q3'*L.x"
      ]
     },
     "execution_count": 14,
     "metadata": {},
     "output_type": "execute_result"
    }
   ],
   "source": [
    "w_R_N_qd = R.ang_vel_in(N)\n",
    "w_R_N_qd"
   ]
  },
  {
   "cell_type": "code",
   "execution_count": 15,
   "metadata": {},
   "outputs": [],
   "source": [
    "R.set_ang_vel(N, u1 * L.x + u2 * L.y + u3 * L.z)"
   ]
  },
  {
   "cell_type": "code",
   "execution_count": 16,
   "metadata": {},
   "outputs": [],
   "source": [
    "kd = [me.dot(R.ang_vel_in(N) - w_R_N_qd, uv) for uv in L]"
   ]
  },
  {
   "cell_type": "code",
   "execution_count": 17,
   "metadata": {},
   "outputs": [],
   "source": [
    "kd = kd + [vx - x.diff(), vy - y.diff()]"
   ]
  },
  {
   "cell_type": "code",
   "execution_count": 18,
   "metadata": {},
   "outputs": [
    {
     "data": {
      "image/png": "[encoded data removed]",
      "text/latex": [
       "$$\\left [ u_{1} + \\operatorname{sin}\\left(q_{2}\\right) \\dot{q}_{1} - \\dot{q}_{3}, \\quad u_{2} - \\dot{q}_{2}, \\quad u_{3} - \\operatorname{cos}\\left(q_{2}\\right) \\dot{q}_{1}, \\quad v_{x} - \\dot{x}, \\quad v_{y} - \\dot{y}\\right ]$$"
      ],
      "text/plain": [
       "[u1 + sin(q2)*q1' - q3', u2 - q2', u3 - cos(q2)*q1', v_x - x', v_y - y']"
      ]
     },
     "execution_count": 18,
     "metadata": {},
     "output_type": "execute_result"
    }
   ],
   "source": [
    "kd"
   ]
  },
  {
   "cell_type": "code",
   "execution_count": 19,
   "metadata": {},
   "outputs": [],
   "source": [
    "qdots = sm.solve(kd, q1.diff(), q2.diff(), q3.diff(),\n",
    "                 x.diff(), y.diff())"
   ]
  },
  {
   "cell_type": "code",
   "execution_count": 20,
   "metadata": {},
   "outputs": [
    {
     "data": {
      "image/png": "[encoded data removed]",
      "text/latex": [
       "$$\\left \\{ \\dot{q}_{1} : \\frac{u_{3}}{\\operatorname{cos}\\left(q_{2}\\right)}, \\quad \\dot{q}_{2} : u_{2}, \\quad \\dot{q}_{3} : u_{1} + u_{3} \\operatorname{tan}\\left(q_{2}\\right), \\quad \\dot{x} : v_{x}, \\quad \\dot{y} : v_{y}\\right \\}$$"
      ],
      "text/plain": [
       "{q1': u3/cos(q2), q2': u2, q3': u1 + u3*tan(q2), x': v_x, y': v_y}"
      ]
     },
     "execution_count": 20,
     "metadata": {},
     "output_type": "execute_result"
    }
   ],
   "source": [
    "qdots"
   ]
  },
  {
   "cell_type": "code",
   "execution_count": 21,
   "metadata": {},
   "outputs": [],
   "source": [
    "No = me.Point('No')\n",
    "No.set_vel(N, 0)"
   ]
  },
  {
   "cell_type": "code",
   "execution_count": 22,
   "metadata": {},
   "outputs": [],
   "source": [
    "C = No.locatenew('C', x * N.x + y * N.y)"
   ]
  },
  {
   "cell_type": "code",
   "execution_count": 23,
   "metadata": {},
   "outputs": [],
   "source": [
    "C.set_vel(N, vx * N.x + vy * N.y)"
   ]
  },
  {
   "cell_type": "code",
   "execution_count": 24,
   "metadata": {},
   "outputs": [],
   "source": [
    "Ro = C.locatenew('Ro', r * L.z)"
   ]
  },
  {
   "cell_type": "code",
   "execution_count": 25,
   "metadata": {},
   "outputs": [
    {
     "data": {
      "image/png": "[encoded data removed]",
      "text/latex": [
       "$$v_{x}\\mathbf{\\hat{n}_x} + v_{y}\\mathbf{\\hat{n}_y} + r \\dot{q}_{2}\\mathbf{\\hat{l}_x} + r \\operatorname{sin}\\left(q_{2}\\right) \\dot{q}_{1}\\mathbf{\\hat{l}_y}$$"
      ],
      "text/plain": [
       "v_x*N.x + v_y*N.y + r*q2'*L.x + r*sin(q2)*q1'*L.y"
      ]
     },
     "execution_count": 25,
     "metadata": {},
     "output_type": "execute_result"
    }
   ],
   "source": [
    "v_Ro_N = Ro.v2pt_theory(C, N, L)\n",
    "v_Ro_N"
   ]
  },
  {
   "cell_type": "code",
   "execution_count": 26,
   "metadata": {},
   "outputs": [
    {
     "data": {
      "image/png": "[encoded data removed]",
      "text/latex": [
       "$$v_{x}\\mathbf{\\hat{n}_x} + v_{y}\\mathbf{\\hat{n}_y} + r u_{2}\\mathbf{\\hat{l}_x} + \\frac{r \\operatorname{sin}\\left(q_{2}\\right)}{\\operatorname{cos}\\left(q_{2}\\right)} u_{3}\\mathbf{\\hat{l}_y}$$"
      ],
      "text/plain": [
       "v_x*N.x + v_y*N.y + r*u2*L.x + r*u3*sin(q2)/cos(q2)*L.y"
      ]
     },
     "execution_count": 26,
     "metadata": {},
     "output_type": "execute_result"
    }
   ],
   "source": [
    "v_Ro_N.subs(qdots)"
   ]
  },
  {
   "cell_type": "code",
   "execution_count": 27,
   "metadata": {},
   "outputs": [],
   "source": [
    "Ro.set_vel(N, v_Ro_N.subs(qdots))"
   ]
  },
  {
   "cell_type": "code",
   "execution_count": 28,
   "metadata": {},
   "outputs": [
    {
     "data": {
      "image/png": "[encoded data removed]",
      "text/latex": [
       "$$\\dot{v}_{x}\\mathbf{\\hat{n}_x} + \\dot{v}_{y}\\mathbf{\\hat{n}_y} + (- r \\operatorname{sin}\\left(q_{2}\\right) \\operatorname{cos}\\left(q_{2}\\right) \\dot{q}_{1}^{2} + r \\ddot{q}_{2})\\mathbf{\\hat{l}_x} + (- r \\left(- \\operatorname{sin}\\left(q_{2}\\right) \\ddot{q}_{1} - \\operatorname{cos}\\left(q_{2}\\right) \\dot{q}_{1} \\dot{q}_{2}\\right) + r \\operatorname{cos}\\left(q_{2}\\right) \\dot{q}_{1} \\dot{q}_{2})\\mathbf{\\hat{l}_y} + (- r \\operatorname{sin}^{2}\\left(q_{2}\\right) \\dot{q}_{1}^{2} - r \\dot{q}_{2}^{2})\\mathbf{\\hat{l}_z}$$"
      ],
      "text/plain": [
       "v_x'*N.x + v_y'*N.y + (-r*sin(q2)*cos(q2)*q1'**2 + r*q2'')*L.x + (-r*(-sin(q2)*q1'' - cos(q2)*q1'*q2') + r*cos(q2)*q1'*q2')*L.y + (-r*sin(q2)**2*q1'**2 - r*q2'**2)*L.z"
      ]
     },
     "execution_count": 28,
     "metadata": {},
     "output_type": "execute_result"
    }
   ],
   "source": [
    "Ro.a2pt_theory(C, N, L)"
   ]
  },
  {
   "cell_type": "code",
   "execution_count": 29,
   "metadata": {},
   "outputs": [],
   "source": [
    "qddots = {k.diff(): v.diff(me.dynamicsymbols._t).subs(qdots)\n",
    "          for k, v in qdots.items()}"
   ]
  },
  {
   "cell_type": "code",
   "execution_count": 30,
   "metadata": {},
   "outputs": [
    {
     "data": {
      "image/png": "[encoded data removed]",
      "text/latex": [
       "$$\\left \\{ \\ddot{q}_{1} : \\frac{u_{2} \\operatorname{sin}\\left(q_{2}\\right)}{\\operatorname{cos}^{2}\\left(q_{2}\\right)} u_{3} + \\frac{\\dot{u}_{3}}{\\operatorname{cos}\\left(q_{2}\\right)}, \\quad \\ddot{q}_{2} : \\dot{u}_{2}, \\quad \\ddot{q}_{3} : \\left(\\operatorname{tan}^{2}\\left(q_{2}\\right) + 1\\right) u_{2} u_{3} + \\operatorname{tan}\\left(q_{2}\\right) \\dot{u}_{3} + \\dot{u}_{1}, \\quad \\ddot{x} : \\dot{v}_{x}, \\quad \\ddot{y} : \\dot{v}_{y}\\right \\}$$"
      ],
      "text/plain": [
       "{q1'': u2*u3*sin(q2)/cos(q2)**2 + u3'/cos(q2), q2'': u2', q3'': (tan(q2)**2 + 1)*u2*u3 + tan(q2)*u3' + u1', x'': v_x', y'': v_y'}"
      ]
     },
     "execution_count": 30,
     "metadata": {},
     "output_type": "execute_result"
    }
   ],
   "source": [
    "qddots"
   ]
  },
  {
   "cell_type": "code",
   "execution_count": 31,
   "metadata": {},
   "outputs": [],
   "source": [
    "a_Ro_N = Ro.a2pt_theory(C, N, L)"
   ]
  },
  {
   "cell_type": "code",
   "execution_count": 32,
   "metadata": {},
   "outputs": [
    {
     "data": {
      "image/png": "[encoded data removed]",
      "text/latex": [
       "$$\\left \\{ \\dot{q}_{1} : \\frac{u_{3}}{\\operatorname{cos}\\left(q_{2}\\right)}, \\quad \\dot{q}_{2} : u_{2}, \\quad \\dot{q}_{3} : u_{1} + u_{3} \\operatorname{tan}\\left(q_{2}\\right), \\quad \\dot{x} : v_{x}, \\quad \\dot{y} : v_{y}\\right \\}$$"
      ],
      "text/plain": [
       "{q1': u3/cos(q2), q2': u2, q3': u1 + u3*tan(q2), x': v_x, y': v_y}"
      ]
     },
     "execution_count": 32,
     "metadata": {},
     "output_type": "execute_result"
    }
   ],
   "source": [
    "qdots"
   ]
  },
  {
   "cell_type": "code",
   "execution_count": 33,
   "metadata": {},
   "outputs": [
    {
     "data": {
      "image/png": "[encoded data removed]",
      "text/latex": [
       "$$\\dot{v}_{x}\\mathbf{\\hat{n}_x} + \\dot{v}_{y}\\mathbf{\\hat{n}_y} + (- r \\operatorname{sin}\\left(q_{2}\\right) \\operatorname{cos}\\left(q_{2}\\right) \\dot{q}_{1}^{2} + r \\ddot{q}_{2})\\mathbf{\\hat{l}_x} + (- r \\left(- \\operatorname{sin}\\left(q_{2}\\right) \\ddot{q}_{1} - \\operatorname{cos}\\left(q_{2}\\right) \\dot{q}_{1} \\dot{q}_{2}\\right) + r \\operatorname{cos}\\left(q_{2}\\right) \\dot{q}_{1} \\dot{q}_{2})\\mathbf{\\hat{l}_y} + (- r \\operatorname{sin}^{2}\\left(q_{2}\\right) \\dot{q}_{1}^{2} - r \\dot{q}_{2}^{2})\\mathbf{\\hat{l}_z}$$"
      ],
      "text/plain": [
       "v_x'*N.x + v_y'*N.y + (-r*sin(q2)*cos(q2)*q1'**2 + r*q2'')*L.x + (-r*(-sin(q2)*q1'' - cos(q2)*q1'*q2') + r*cos(q2)*q1'*q2')*L.y + (-r*sin(q2)**2*q1'**2 - r*q2'**2)*L.z"
      ]
     },
     "execution_count": 33,
     "metadata": {},
     "output_type": "execute_result"
    }
   ],
   "source": [
    "a_Ro_N"
   ]
  },
  {
   "cell_type": "code",
   "execution_count": 34,
   "metadata": {},
   "outputs": [
    {
     "data": {
      "image/png": "[encoded data removed]",
      "text/latex": [
       "$$\\dot{v}_{x}\\mathbf{\\hat{n}_x} + \\dot{v}_{y}\\mathbf{\\hat{n}_y} + (- \\frac{r u^{2}_{3}}{\\operatorname{cos}\\left(q_{2}\\right)} \\operatorname{sin}\\left(q_{2}\\right) + r \\dot{u}_{2})\\mathbf{\\hat{l}_x} + (- r \\left(- u_{2} u_{3} - \\operatorname{sin}\\left(q_{2}\\right) \\frac{\\operatorname{sin}\\left(q_{2}\\right) \\dot{q}_{2}}{\\operatorname{cos}^{2}\\left(q_{2}\\right)} u_{3} + \\frac{\\dot{u}_{3}}{\\operatorname{cos}\\left(q_{2}\\right)}\\right) + r u_{2} u_{3})\\mathbf{\\hat{l}_y} + (- r u^{2}_{2} - \\frac{r \\operatorname{sin}^{2}\\left(q_{2}\\right)}{\\operatorname{cos}^{2}\\left(q_{2}\\right)} u^{2}_{3})\\mathbf{\\hat{l}_z}$$"
      ],
      "text/plain": [
       "v_x'*N.x + v_y'*N.y + (-r*u3**2*sin(q2)/cos(q2) + r*u2')*L.x + (-r*(-u2*u3 - sin(q2)*Derivative(u3(t)/cos(q2(t)), t)) + r*u2*u3)*L.y + (-r*u2**2 - r*u3**2*sin(q2)**2/cos(q2)**2)*L.z"
      ]
     },
     "execution_count": 34,
     "metadata": {},
     "output_type": "execute_result"
    }
   ],
   "source": [
    "a_Ro_N.subs(qdots)"
   ]
  },
  {
   "cell_type": "code",
   "execution_count": 35,
   "metadata": {},
   "outputs": [],
   "source": [
    "Ro.set_acc(N, a_Ro_N.subs(qddots).subs(qdots))"
   ]
  },
  {
   "cell_type": "markdown",
   "metadata": {},
   "source": [
    "# Velocity constraints"
   ]
  },
  {
   "cell_type": "code",
   "execution_count": 36,
   "metadata": {},
   "outputs": [
    {
     "data": {
      "image/png": "[encoded data removed]",
      "text/latex": [
       "$$v_{x}\\mathbf{\\hat{n}_x} + v_{y}\\mathbf{\\hat{n}_y} + (r u_{1} + \\frac{r \\operatorname{sin}\\left(q_{2}\\right)}{\\operatorname{cos}\\left(q_{2}\\right)} u_{3})\\mathbf{\\hat{l}_y}$$"
      ],
      "text/plain": [
       "v_x*N.x + v_y*N.y + (r*u1 + r*u3*sin(q2)/cos(q2))*L.y"
      ]
     },
     "execution_count": 36,
     "metadata": {},
     "output_type": "execute_result"
    }
   ],
   "source": [
    "v_C_N = C.v2pt_theory(Ro, N, R)\n",
    "v_C_N"
   ]
  },
  {
   "cell_type": "code",
   "execution_count": 37,
   "metadata": {},
   "outputs": [
    {
     "data": {
      "image/png": "[encoded data removed]",
      "text/latex": [
       "$$v_{x} \\operatorname{cos}\\left(q_{1}\\right) + v_{y} \\operatorname{sin}\\left(q_{1}\\right)$$"
      ],
      "text/plain": [
       "v_x*cos(q1) + v_y*sin(q1)"
      ]
     },
     "execution_count": 37,
     "metadata": {},
     "output_type": "execute_result"
    }
   ],
   "source": [
    "con1 = v_C_N.dot(Y.x)\n",
    "con1"
   ]
  },
  {
   "cell_type": "code",
   "execution_count": 38,
   "metadata": {},
   "outputs": [
    {
     "data": {
      "image/png": "[encoded data removed]",
      "text/latex": [
       "$$r u_{1} + \\frac{r \\operatorname{sin}\\left(q_{2}\\right)}{\\operatorname{cos}\\left(q_{2}\\right)} u_{3} - v_{x} \\operatorname{sin}\\left(q_{1}\\right) + v_{y} \\operatorname{cos}\\left(q_{1}\\right)$$"
      ],
      "text/plain": [
       "r*u1 + r*u3*sin(q2)/cos(q2) - v_x*sin(q1) + v_y*cos(q1)"
      ]
     },
     "execution_count": 38,
     "metadata": {},
     "output_type": "execute_result"
    }
   ],
   "source": [
    "con2 = v_C_N.dot(Y.y)\n",
    "con2"
   ]
  },
  {
   "cell_type": "code",
   "execution_count": 39,
   "metadata": {},
   "outputs": [],
   "source": [
    "vel_cons = [con1, con2]"
   ]
  },
  {
   "cell_type": "code",
   "execution_count": 40,
   "metadata": {},
   "outputs": [
    {
     "data": {
      "image/png": "[encoded data removed]",
      "text/latex": [
       "$$\\left \\{ v_{x} : r \\left(u_{1} + u_{3} \\operatorname{tan}\\left(q_{2}\\right)\\right) \\operatorname{sin}\\left(q_{1}\\right), \\quad v_{y} : - r \\left(u_{1} + u_{3} \\operatorname{tan}\\left(q_{2}\\right)\\right) \\operatorname{cos}\\left(q_{1}\\right)\\right \\}$$"
      ],
      "text/plain": [
       "{v_x: r*(u1 + u3*tan(q2))*sin(q1), v_y: -r*(u1 + u3*tan(q2))*cos(q1)}"
      ]
     },
     "execution_count": 40,
     "metadata": {},
     "output_type": "execute_result"
    }
   ],
   "source": [
    "dep_speeds = sm.solve(vel_cons, vx, vy)\n",
    "dep_speeds"
   ]
  },
  {
   "cell_type": "code",
   "execution_count": 41,
   "metadata": {},
   "outputs": [
    {
     "data": {
      "image/png": "[encoded data removed]",
      "text/latex": [
       "$$v_{x}\\mathbf{\\hat{n}_x} + v_{y}\\mathbf{\\hat{n}_y} + r u_{2}\\mathbf{\\hat{l}_x} + \\frac{r \\operatorname{sin}\\left(q_{2}\\right)}{\\operatorname{cos}\\left(q_{2}\\right)} u_{3}\\mathbf{\\hat{l}_y}$$"
      ],
      "text/plain": [
       "v_x*N.x + v_y*N.y + r*u2*L.x + r*u3*sin(q2)/cos(q2)*L.y"
      ]
     },
     "execution_count": 41,
     "metadata": {},
     "output_type": "execute_result"
    }
   ],
   "source": [
    "Ro.vel(N)"
   ]
  },
  {
   "cell_type": "code",
   "execution_count": 42,
   "metadata": {},
   "outputs": [
    {
     "data": {
      "image/png": "[encoded data removed]",
      "text/latex": [
       "$$\\dot{v}_{x}\\mathbf{\\hat{n}_x} + \\dot{v}_{y}\\mathbf{\\hat{n}_y} + (- \\frac{r u^{2}_{3}}{\\operatorname{cos}\\left(q_{2}\\right)} \\operatorname{sin}\\left(q_{2}\\right) + r \\dot{u}_{2})\\mathbf{\\hat{l}_x} + (- r \\left(- \\left(\\frac{u_{2} \\operatorname{sin}\\left(q_{2}\\right)}{\\operatorname{cos}^{2}\\left(q_{2}\\right)} u_{3} + \\frac{\\dot{u}_{3}}{\\operatorname{cos}\\left(q_{2}\\right)}\\right) \\operatorname{sin}\\left(q_{2}\\right) - u_{2} u_{3}\\right) + r u_{2} u_{3})\\mathbf{\\hat{l}_y} + (- r u^{2}_{2} - \\frac{r \\operatorname{sin}^{2}\\left(q_{2}\\right)}{\\operatorname{cos}^{2}\\left(q_{2}\\right)} u^{2}_{3})\\mathbf{\\hat{l}_z}$$"
      ],
      "text/plain": [
       "v_x'*N.x + v_y'*N.y + (-r*u3**2*sin(q2)/cos(q2) + r*u2')*L.x + (-r*(-(u2*u3*sin(q2)/cos(q2)**2 + u3'/cos(q2))*sin(q2) - u2*u3) + r*u2*u3)*L.y + (-r*u2**2 - r*u3**2*sin(q2)**2/cos(q2)**2)*L.z"
      ]
     },
     "execution_count": 42,
     "metadata": {},
     "output_type": "execute_result"
    }
   ],
   "source": [
    "Ro.acc(N)"
   ]
  },
  {
   "cell_type": "code",
   "execution_count": 43,
   "metadata": {},
   "outputs": [
    {
     "data": {
      "image/png": "[encoded data removed]",
      "text/latex": [
       "$$u_{1}\\mathbf{\\hat{l}_x} + u_{2}\\mathbf{\\hat{l}_y} + u_{3}\\mathbf{\\hat{l}_z}$$"
      ],
      "text/plain": [
       "u1*L.x + u2*L.y + u3*L.z"
      ]
     },
     "execution_count": 43,
     "metadata": {},
     "output_type": "execute_result"
    }
   ],
   "source": [
    "R.ang_vel_in(N)"
   ]
  },
  {
   "cell_type": "code",
   "execution_count": 44,
   "metadata": {},
   "outputs": [
    {
     "data": {
      "image/png": "[encoded data removed]",
      "text/latex": [
       "$$r \\left(u_{1} + u_{3} \\operatorname{tan}\\left(q_{2}\\right)\\right) \\operatorname{sin}\\left(q_{1}\\right)\\mathbf{\\hat{n}_x} -  r \\left(u_{1} + u_{3} \\operatorname{tan}\\left(q_{2}\\right)\\right) \\operatorname{cos}\\left(q_{1}\\right)\\mathbf{\\hat{n}_y} + r u_{2}\\mathbf{\\hat{l}_x} + \\frac{r \\operatorname{sin}\\left(q_{2}\\right)}{\\operatorname{cos}\\left(q_{2}\\right)} u_{3}\\mathbf{\\hat{l}_y}$$"
      ],
      "text/plain": [
       "r*(u1 + u3*tan(q2))*sin(q1)*N.x - r*(u1 + u3*tan(q2))*cos(q1)*N.y + r*u2*L.x + r*u3*sin(q2)/cos(q2)*L.y"
      ]
     },
     "execution_count": 44,
     "metadata": {},
     "output_type": "execute_result"
    }
   ],
   "source": [
    "Ro.set_vel(N, Ro.vel(N).subs(dep_speeds))\n",
    "Ro.vel(N)"
   ]
  },
  {
   "cell_type": "code",
   "execution_count": 45,
   "metadata": {},
   "outputs": [],
   "source": [
    "t = me.dynamicsymbols._t"
   ]
  },
  {
   "cell_type": "code",
   "execution_count": 46,
   "metadata": {},
   "outputs": [
    {
     "data": {
      "image/png": "[encoded data removed]",
      "text/latex": [
       "$$\\left \\{ \\dot{v}_{x} : \\frac{r \\operatorname{cos}\\left(q_{1}\\right)}{\\operatorname{cos}\\left(q_{2}\\right)} \\left(u_{1} + u_{3} \\operatorname{tan}\\left(q_{2}\\right)\\right) u_{3} + r \\left(\\left(\\operatorname{tan}^{2}\\left(q_{2}\\right) + 1\\right) u_{2} u_{3} + \\operatorname{tan}\\left(q_{2}\\right) \\dot{u}_{3} + \\dot{u}_{1}\\right) \\operatorname{sin}\\left(q_{1}\\right), \\quad \\dot{v}_{y} : \\frac{r \\operatorname{sin}\\left(q_{1}\\right)}{\\operatorname{cos}\\left(q_{2}\\right)} \\left(u_{1} + u_{3} \\operatorname{tan}\\left(q_{2}\\right)\\right) u_{3} - r \\left(\\left(\\operatorname{tan}^{2}\\left(q_{2}\\right) + 1\\right) u_{2} u_{3} + \\operatorname{tan}\\left(q_{2}\\right) \\dot{u}_{3} + \\dot{u}_{1}\\right) \\operatorname{cos}\\left(q_{1}\\right)\\right \\}$$"
      ],
      "text/plain": [
       "{v_x': r*(u1 + u3*tan(q2))*u3*cos(q1)/cos(q2) + r*((tan(q2)**2 + 1)*u2*u3 + tan(q2)*u3' + u1')*sin(q1), v_y': r*(u1 + u3*tan(q2))*u3*sin(q1)/cos(q2) - r*((tan(q2)**2 + 1)*u2*u3 + tan(q2)*u3' + u1')*cos(q1)}"
      ]
     },
     "execution_count": 46,
     "metadata": {},
     "output_type": "execute_result"
    }
   ],
   "source": [
    "dep_accs = {k.diff(): v.diff(t).subs(qdots) for k, v in dep_speeds.items()}\n",
    "dep_accs"
   ]
  },
  {
   "cell_type": "code",
   "execution_count": 47,
   "metadata": {},
   "outputs": [
    {
     "data": {
      "image/png": "[encoded data removed]",
      "text/latex": [
       "$$(\\frac{r \\operatorname{cos}\\left(q_{1}\\right)}{\\operatorname{cos}\\left(q_{2}\\right)} \\left(u_{1} + u_{3} \\operatorname{tan}\\left(q_{2}\\right)\\right) u_{3} + r \\left(\\left(\\operatorname{tan}^{2}\\left(q_{2}\\right) + 1\\right) u_{2} u_{3} + \\operatorname{tan}\\left(q_{2}\\right) \\dot{u}_{3} + \\dot{u}_{1}\\right) \\operatorname{sin}\\left(q_{1}\\right))\\mathbf{\\hat{n}_x} + (\\frac{r \\operatorname{sin}\\left(q_{1}\\right)}{\\operatorname{cos}\\left(q_{2}\\right)} \\left(u_{1} + u_{3} \\operatorname{tan}\\left(q_{2}\\right)\\right) u_{3} - r \\left(\\left(\\operatorname{tan}^{2}\\left(q_{2}\\right) + 1\\right) u_{2} u_{3} + \\operatorname{tan}\\left(q_{2}\\right) \\dot{u}_{3} + \\dot{u}_{1}\\right) \\operatorname{cos}\\left(q_{1}\\right))\\mathbf{\\hat{n}_y} + (- \\frac{r u^{2}_{3}}{\\operatorname{cos}\\left(q_{2}\\right)} \\operatorname{sin}\\left(q_{2}\\right) + r \\dot{u}_{2})\\mathbf{\\hat{l}_x} + (- r \\left(- \\left(\\frac{u_{2} \\operatorname{sin}\\left(q_{2}\\right)}{\\operatorname{cos}^{2}\\left(q_{2}\\right)} u_{3} + \\frac{\\dot{u}_{3}}{\\operatorname{cos}\\left(q_{2}\\right)}\\right) \\operatorname{sin}\\left(q_{2}\\right) - u_{2} u_{3}\\right) + r u_{2} u_{3})\\mathbf{\\hat{l}_y} + (- r u^{2}_{2} - \\frac{r \\operatorname{sin}^{2}\\left(q_{2}\\right)}{\\operatorname{cos}^{2}\\left(q_{2}\\right)} u^{2}_{3})\\mathbf{\\hat{l}_z}$$"
      ],
      "text/plain": [
       "(r*(u1 + u3*tan(q2))*u3*cos(q1)/cos(q2) + r*((tan(q2)**2 + 1)*u2*u3 + tan(q2)*u3' + u1')*sin(q1))*N.x + (r*(u1 + u3*tan(q2))*u3*sin(q1)/cos(q2) - r*((tan(q2)**2 + 1)*u2*u3 + tan(q2)*u3' + u1')*cos(q1))*N.y + (-r*u3**2*sin(q2)/cos(q2) + r*u2')*L.x + (-r*(-(u2*u3*sin(q2)/cos(q2)**2 + u3'/cos(q2))*sin(q2) - u2*u3) + r*u2*u3)*L.y + (-r*u2**2 - r*u3**2*sin(q2)**2/cos(q2)**2)*L.z"
      ]
     },
     "execution_count": 47,
     "metadata": {},
     "output_type": "execute_result"
    }
   ],
   "source": [
    "Ro.set_acc(N, Ro.acc(N).subs(dep_accs).subs(dep_speeds))\n",
    "Ro.acc(N)"
   ]
  },
  {
   "cell_type": "code",
   "execution_count": 48,
   "metadata": {},
   "outputs": [],
   "source": [
    "loads = [(Ro, -m * g * N.z)]"
   ]
  },
  {
   "cell_type": "code",
   "execution_count": 49,
   "metadata": {},
   "outputs": [],
   "source": [
    "I = me.inertia(L, m / 4 * r**2, m / 2 * r**2, m / 4 * r**2)"
   ]
  },
  {
   "cell_type": "code",
   "execution_count": 50,
   "metadata": {},
   "outputs": [],
   "source": [
    "disc = me.RigidBody('disc', Ro, R, m, (I, Ro))"
   ]
  },
  {
   "cell_type": "code",
   "execution_count": 51,
   "metadata": {},
   "outputs": [],
   "source": [
    "bodies = [disc]"
   ]
  },
  {
   "cell_type": "code",
   "execution_count": 52,
   "metadata": {},
   "outputs": [],
   "source": [
    "kane = me.KanesMethod(N,\n",
    "                      q_ind=(q1, q2, q3, x, y),\n",
    "                      u_ind=(u1, u2, u3),\n",
    "                      kd_eqs=kd,\n",
    "                      u_dependent=(vx, vy),\n",
    "                      velocity_constraints=vel_cons)"
   ]
  },
  {
   "cell_type": "code",
   "execution_count": 53,
   "metadata": {},
   "outputs": [],
   "source": [
    "fr, frstar = kane.kanes_equations(bodies, loads)"
   ]
  },
  {
   "cell_type": "code",
   "execution_count": 54,
   "metadata": {},
   "outputs": [
    {
     "data": {
      "image/png": "[encoded data removed]",
      "text/latex": [
       "$$\\left ( 3, \\quad 1\\right )$$"
      ],
      "text/plain": [
       "(3, 1)"
      ]
     },
     "execution_count": 54,
     "metadata": {},
     "output_type": "execute_result"
    }
   ],
   "source": [
    "fr.shape"
   ]
  },
  {
   "cell_type": "code",
   "execution_count": 55,
   "metadata": {},
   "outputs": [
    {
     "data": {
      "image/png": "[encoded data removed]",
      "text/latex": [
       "$$\\left ( 3, \\quad 1\\right )$$"
      ],
      "text/plain": [
       "(3, 1)"
      ]
     },
     "execution_count": 55,
     "metadata": {},
     "output_type": "execute_result"
    }
   ],
   "source": [
    "frstar.shape"
   ]
  },
  {
   "cell_type": "code",
   "execution_count": 56,
   "metadata": {},
   "outputs": [
    {
     "data": {
      "image/png": "[encoded data removed]",
      "text/latex": [
       "$$\\left\\{q_{2}\\right\\}$$"
      ],
      "text/plain": [
       "{q2}"
      ]
     },
     "execution_count": 56,
     "metadata": {},
     "output_type": "execute_result"
    }
   ],
   "source": [
    "me.find_dynamicsymbols(fr)"
   ]
  },
  {
   "cell_type": "code",
   "execution_count": 57,
   "metadata": {},
   "outputs": [
    {
     "data": {
      "image/png": "[encoded data removed]",
      "text/latex": [
       "$$\\left\\{q_{1}, q_{2}, u_{1}, u_{2}, u_{3}, \\dot{u}_{1}, \\dot{u}_{2}, \\dot{u}_{3}\\right\\}$$"
      ],
      "text/plain": [
       "{q1, q2, u1, u2, u3, u1', u2', u3'}"
      ]
     },
     "execution_count": 57,
     "metadata": {},
     "output_type": "execute_result"
    }
   ],
   "source": [
    "me.find_dynamicsymbols(frstar)"
   ]
  },
  {
   "cell_type": "code",
   "execution_count": 58,
   "metadata": {},
   "outputs": [],
   "source": [
    "zero = sm.trigsimp(fr + frstar)"
   ]
  },
  {
   "cell_type": "code",
   "execution_count": 59,
   "metadata": {},
   "outputs": [
    {
     "data": {
      "image/png": "[encoded data removed]",
      "text/latex": [
       "$$\\left[\\begin{matrix}\\frac{5 m}{4} r^{2} \\left(u_{2} u_{3} - \\dot{u}_{1}\\right)\\\\m r \\left(g \\operatorname{sin}\\left(q_{2}\\right) - \\frac{5 r}{4} u_{1} u_{3} - \\frac{r u^{2}_{3}}{4} \\operatorname{tan}\\left(q_{2}\\right) - \\frac{3 r}{2} \\dot{u}_{2}\\right)\\\\\\frac{m r^{2}}{4} \\left(u_{1} u_{2} + 2 u_{2} u_{3} \\operatorname{tan}\\left(q_{2}\\right) - \\dot{u}_{3}\\right)\\end{matrix}\\right]$$"
      ],
      "text/plain": [
       "Matrix([\n",
       "[                                     5*m*r**2*(u2*u3 - u1')/4],\n",
       "[m*r*(g*sin(q2) - 5*r*u1*u3/4 - r*u3**2*tan(q2)/4 - 3*r*u2'/2)],\n",
       "[                     m*r**2*(u1*u2 + 2*u2*u3*tan(q2) - u3')/4]])"
      ]
     },
     "execution_count": 59,
     "metadata": {},
     "output_type": "execute_result"
    }
   ],
   "source": [
    "zero"
   ]
  },
  {
   "cell_type": "code",
   "execution_count": 60,
   "metadata": {},
   "outputs": [],
   "source": [
    "u = sm.Matrix([u1, u2, u3])"
   ]
  },
  {
   "cell_type": "code",
   "execution_count": 61,
   "metadata": {},
   "outputs": [
    {
     "data": {
      "image/png": "[encoded data removed]",
      "text/latex": [
       "$$\\left[\\begin{matrix}- \\frac{5 m}{4} r^{2} & 0 & 0\\\\0 & - \\frac{3 m}{2} r^{2} & 0\\\\0 & 0 & - \\frac{m r^{2}}{4}\\end{matrix}\\right]$$"
      ],
      "text/plain": [
       "Matrix([\n",
       "[-5*m*r**2/4,           0,         0],\n",
       "[          0, -3*m*r**2/2,         0],\n",
       "[          0,           0, -m*r**2/4]])"
      ]
     },
     "execution_count": 61,
     "metadata": {},
     "output_type": "execute_result"
    }
   ],
   "source": [
    "M = zero.jacobian(u.diff())\n",
    "M"
   ]
  },
  {
   "cell_type": "code",
   "execution_count": 62,
   "metadata": {},
   "outputs": [
    {
     "data": {
      "image/png": "[encoded data removed]",
      "text/latex": [
       "$$\\left[\\begin{matrix}- \\frac{5 m}{4} r^{2} u_{2} u_{3}\\\\\\frac{m r}{4} \\left(- 4 g \\operatorname{sin}\\left(q_{2}\\right) + 5 r u_{1} u_{3} + r u^{2}_{3} \\operatorname{tan}\\left(q_{2}\\right)\\right)\\\\- \\frac{m r^{2}}{4} \\left(u_{1} + 2 u_{3} \\operatorname{tan}\\left(q_{2}\\right)\\right) u_{2}\\end{matrix}\\right]$$"
      ],
      "text/plain": [
       "Matrix([\n",
       "[                                 -5*m*r**2*u2*u3/4],\n",
       "[m*r*(-4*g*sin(q2) + 5*r*u1*u3 + r*u3**2*tan(q2))/4],\n",
       "[                  -m*r**2*(u1 + 2*u3*tan(q2))*u2/4]])"
      ]
     },
     "execution_count": 62,
     "metadata": {},
     "output_type": "execute_result"
    }
   ],
   "source": [
    "G = sm.simplify(M * u.diff() - zero)\n",
    "G"
   ]
  },
  {
   "cell_type": "code",
   "execution_count": 63,
   "metadata": {},
   "outputs": [
    {
     "data": {
      "image/png": "[encoded data removed]",
      "text/latex": [
       "$$\\left[\\begin{matrix}u_{2} u_{3}\\\\- \\frac{1}{6 r} \\left(- 4 g \\operatorname{sin}\\left(q_{2}\\right) + 5 r u_{1} u_{3} + r u^{2}_{3} \\operatorname{tan}\\left(q_{2}\\right)\\right)\\\\\\left(u_{1} + 2 u_{3} \\operatorname{tan}\\left(q_{2}\\right)\\right) u_{2}\\end{matrix}\\right]$$"
      ],
      "text/plain": [
       "Matrix([\n",
       "[                                              u2*u3],\n",
       "[-(-4*g*sin(q2) + 5*r*u1*u3 + r*u3**2*tan(q2))/(6*r)],\n",
       "[                             (u1 + 2*u3*tan(q2))*u2]])"
      ]
     },
     "execution_count": 63,
     "metadata": {},
     "output_type": "execute_result"
    }
   ],
   "source": [
    "udots = M.LUsolve(G)\n",
    "udots"
   ]
  },
  {
   "cell_type": "code",
   "execution_count": 64,
   "metadata": {},
   "outputs": [
    {
     "data": {
      "image/png": "[encoded data removed]",
      "text/latex": [
       "$$\\left \\{ \\dot{q}_{1} : \\frac{u_{3}}{\\operatorname{cos}\\left(q_{2}\\right)}, \\quad \\dot{q}_{2} : u_{2}, \\quad \\dot{q}_{3} : u_{1} + u_{3} \\operatorname{tan}\\left(q_{2}\\right), \\quad \\dot{x} : v_{x}, \\quad \\dot{y} : v_{y}\\right \\}$$"
      ],
      "text/plain": [
       "{q1': u3/cos(q2), q2': u2, q3': u1 + u3*tan(q2), x': v_x, y': v_y}"
      ]
     },
     "execution_count": 64,
     "metadata": {},
     "output_type": "execute_result"
    }
   ],
   "source": [
    "qdots"
   ]
  },
  {
   "cell_type": "code",
   "execution_count": 65,
   "metadata": {},
   "outputs": [
    {
     "data": {
      "image/png": "[encoded data removed]",
      "text/latex": [
       "$$\\left \\{ v_{x} : r \\left(u_{1} + u_{3} \\operatorname{tan}\\left(q_{2}\\right)\\right) \\operatorname{sin}\\left(q_{1}\\right), \\quad v_{y} : - r \\left(u_{1} + u_{3} \\operatorname{tan}\\left(q_{2}\\right)\\right) \\operatorname{cos}\\left(q_{1}\\right)\\right \\}$$"
      ],
      "text/plain": [
       "{v_x: r*(u1 + u3*tan(q2))*sin(q1), v_y: -r*(u1 + u3*tan(q2))*cos(q1)}"
      ]
     },
     "execution_count": 65,
     "metadata": {},
     "output_type": "execute_result"
    }
   ],
   "source": [
    "dep_speeds"
   ]
  }
 ],
 "metadata": {
  "kernelspec": {
   "display_name": "Python 3",
   "language": "python",
   "name": "python3"
  },
  "language_info": {
   "codemirror_mode": {
    "name": "ipython",
    "version": 3
   },
   "file_extension": ".py",
   "mimetype": "text/x-python",
   "name": "python",
   "nbconvert_exporter": "python",
   "pygments_lexer": "ipython3",
   "version": "3.6.2"
  }
 },
 "nbformat": 4,
 "nbformat_minor": 2
}
