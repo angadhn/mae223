{
 "cells": [
  {
   "cell_type": "code",
   "execution_count": 1,
   "metadata": {},
   "outputs": [],
   "source": [
    "import sympy as sm\n",
    "import sympy.physics.mechanics as me\n",
    "me.init_vprinting(use_latex=True, pretty_print=False)"
   ]
  },
  {
   "cell_type": "code",
   "execution_count": 2,
   "metadata": {},
   "outputs": [],
   "source": [
    "q1, q2, q3 = me.dynamicsymbols('q1, q2, q3')"
   ]
  },
  {
   "cell_type": "code",
   "execution_count": 6,
   "metadata": {},
   "outputs": [],
   "source": [
    "L, w, t = sm.symbols('L, omega, t')"
   ]
  },
  {
   "cell_type": "code",
   "execution_count": 10,
   "metadata": {},
   "outputs": [],
   "source": [
    "A = me.ReferenceFrame('A')\n",
    "B = me.ReferenceFrame('B')\n",
    "E = me.ReferenceFrame('E')"
   ]
  },
  {
   "cell_type": "code",
   "execution_count": 11,
   "metadata": {},
   "outputs": [],
   "source": [
    "B.orient(A, 'Axis', (w * t, A.y))"
   ]
  },
  {
   "cell_type": "code",
   "execution_count": 12,
   "metadata": {},
   "outputs": [
    {
     "data": {
      "text/latex": [
       "$$\\left[\\begin{matrix}\\operatorname{cos}\\left(\\omega t\\right) & 0 & - \\operatorname{sin}\\left(\\omega t\\right)\\\\0 & 1 & 0\\\\\\operatorname{sin}\\left(\\omega t\\right) & 0 & \\operatorname{cos}\\left(\\omega t\\right)\\end{matrix}\\right]$$"
      ],
      "text/plain": [
       "Matrix([\n",
       "[cos(omega*t), 0, -sin(omega*t)],\n",
       "[           0, 1,             0],\n",
       "[sin(omega*t), 0,  cos(omega*t)]])"
      ]
     },
     "execution_count": 12,
     "metadata": {},
     "output_type": "execute_result"
    }
   ],
   "source": [
    "B.dcm(A)"
   ]
  },
  {
   "cell_type": "code",
   "execution_count": 13,
   "metadata": {},
   "outputs": [],
   "source": [
    "E.orient(B, 'Axis', (q3, B.z))"
   ]
  },
  {
   "cell_type": "code",
   "execution_count": 14,
   "metadata": {},
   "outputs": [
    {
     "data": {
      "text/latex": [
       "$$\\left[\\begin{matrix}\\operatorname{cos}\\left(q_{3}\\right) & \\operatorname{sin}\\left(q_{3}\\right) & 0\\\\- \\operatorname{sin}\\left(q_{3}\\right) & \\operatorname{cos}\\left(q_{3}\\right) & 0\\\\0 & 0 & 1\\end{matrix}\\right]$$"
      ],
      "text/plain": [
       "Matrix([\n",
       "[ cos(q3), sin(q3), 0],\n",
       "[-sin(q3), cos(q3), 0],\n",
       "[       0,       0, 1]])"
      ]
     },
     "execution_count": 14,
     "metadata": {},
     "output_type": "execute_result"
    }
   ],
   "source": [
    "E.dcm(B)"
   ]
  },
  {
   "cell_type": "code",
   "execution_count": 15,
   "metadata": {},
   "outputs": [
    {
     "data": {
      "text/latex": [
       "$$\\left[\\begin{matrix}\\operatorname{cos}\\left(\\omega t\\right) \\operatorname{cos}\\left(q_{3}\\right) & \\operatorname{sin}\\left(q_{3}\\right) & - \\operatorname{sin}\\left(\\omega t\\right) \\operatorname{cos}\\left(q_{3}\\right)\\\\- \\operatorname{sin}\\left(q_{3}\\right) \\operatorname{cos}\\left(\\omega t\\right) & \\operatorname{cos}\\left(q_{3}\\right) & \\operatorname{sin}\\left(\\omega t\\right) \\operatorname{sin}\\left(q_{3}\\right)\\\\\\operatorname{sin}\\left(\\omega t\\right) & 0 & \\operatorname{cos}\\left(\\omega t\\right)\\end{matrix}\\right]$$"
      ],
      "text/plain": [
       "Matrix([\n",
       "[ cos(omega*t)*cos(q3), sin(q3), -sin(omega*t)*cos(q3)],\n",
       "[-sin(q3)*cos(omega*t), cos(q3),  sin(omega*t)*sin(q3)],\n",
       "[         sin(omega*t),       0,          cos(omega*t)]])"
      ]
     },
     "execution_count": 15,
     "metadata": {},
     "output_type": "execute_result"
    }
   ],
   "source": [
    "E.dcm(A)"
   ]
  },
  {
   "cell_type": "code",
   "execution_count": 16,
   "metadata": {},
   "outputs": [],
   "source": [
    "O = me.Point('O')"
   ]
  },
  {
   "cell_type": "code",
   "execution_count": 17,
   "metadata": {},
   "outputs": [],
   "source": [
    "P1 = me.Point('P1')\n",
    "P2 = me.Point('P2')"
   ]
  },
  {
   "cell_type": "code",
   "execution_count": 19,
   "metadata": {},
   "outputs": [],
   "source": [
    "P1.set_pos(O, q1 * B.x + q2 * B.y)"
   ]
  },
  {
   "cell_type": "code",
   "execution_count": 20,
   "metadata": {},
   "outputs": [],
   "source": [
    "P2.set_pos(P1, L * E.x)"
   ]
  },
  {
   "cell_type": "code",
   "execution_count": 21,
   "metadata": {},
   "outputs": [
    {
     "data": {
      "image/png": "[encoded data removed]",
      "text/latex": [
       "$$q_{1}\\mathbf{\\hat{b}_x} + q_{2}\\mathbf{\\hat{b}_y}$$"
      ],
      "text/plain": [
       "q1*B.x + q2*B.y"
      ]
     },
     "execution_count": 21,
     "metadata": {},
     "output_type": "execute_result"
    }
   ],
   "source": [
    "P1.pos_from(O)"
   ]
  },
  {
   "cell_type": "code",
   "execution_count": 22,
   "metadata": {},
   "outputs": [
    {
     "data": {
      "image/png": "[encoded data removed]",
      "text/latex": [
       "$$L\\mathbf{\\hat{e}_x} + q_{1}\\mathbf{\\hat{b}_x} + q_{2}\\mathbf{\\hat{b}_y}$$"
      ],
      "text/plain": [
       "q1*B.x + q2*B.y + L*E.x"
      ]
     },
     "execution_count": 22,
     "metadata": {},
     "output_type": "execute_result"
    }
   ],
   "source": [
    "P2.pos_from(O)"
   ]
  },
  {
   "cell_type": "code",
   "execution_count": 24,
   "metadata": {},
   "outputs": [
    {
     "data": {
      "image/png": "[encoded data removed]",
      "text/latex": [
       "$$(L \\operatorname{cos}\\left(q_{3}\\right) + q_{1})\\mathbf{\\hat{b}_x} + (L \\operatorname{sin}\\left(q_{3}\\right) + q_{2})\\mathbf{\\hat{b}_y}$$"
      ],
      "text/plain": [
       "(L*cos(q3) + q1)*B.x + (L*sin(q3) + q2)*B.y"
      ]
     },
     "execution_count": 24,
     "metadata": {},
     "output_type": "execute_result"
    }
   ],
   "source": [
    "P2.pos_from(O).express(B)"
   ]
  },
  {
   "cell_type": "code",
   "execution_count": 25,
   "metadata": {},
   "outputs": [
    {
     "data": {
      "image/png": "[encoded data removed]",
      "text/latex": [
       "$$(L \\operatorname{cos}\\left(\\omega t\\right) \\operatorname{cos}\\left(q_{3}\\right) + q_{1} \\operatorname{cos}\\left(\\omega t\\right))\\mathbf{\\hat{a}_x} + (L \\operatorname{sin}\\left(q_{3}\\right) + q_{2})\\mathbf{\\hat{a}_y} + (- L \\operatorname{sin}\\left(\\omega t\\right) \\operatorname{cos}\\left(q_{3}\\right) - q_{1} \\operatorname{sin}\\left(\\omega t\\right))\\mathbf{\\hat{a}_z}$$"
      ],
      "text/plain": [
       "(L*cos(omega*t)*cos(q3) + q1*cos(omega*t))*A.x + (L*sin(q3) + q2)*A.y + (-L*sin(omega*t)*cos(q3) - q1*sin(omega*t))*A.z"
      ]
     },
     "execution_count": 25,
     "metadata": {},
     "output_type": "execute_result"
    }
   ],
   "source": [
    "P2.pos_from(O).express(A)"
   ]
  },
  {
   "cell_type": "code",
   "execution_count": 26,
   "metadata": {},
   "outputs": [],
   "source": [
    "P2.v2pt_theory?"
   ]
  },
  {
   "cell_type": "code",
   "execution_count": 28,
   "metadata": {},
   "outputs": [],
   "source": [
    "P1.set_vel(A, q1.diff(t) * B.x + q2.diff(t) * B.y - w * q1 * B.z)"
   ]
  },
  {
   "cell_type": "code",
   "execution_count": 30,
   "metadata": {},
   "outputs": [
    {
     "data": {
      "image/png": "[encoded data removed]",
      "text/latex": [
       "$$\\dot{q}_{1}\\mathbf{\\hat{b}_x} + \\dot{q}_{2}\\mathbf{\\hat{b}_y} -  \\omega q_{1}\\mathbf{\\hat{b}_z}$$"
      ],
      "text/plain": [
       "q1'*B.x + q2'*B.y - omega*q1*B.z"
      ]
     },
     "execution_count": 30,
     "metadata": {},
     "output_type": "execute_result"
    }
   ],
   "source": [
    "P1.vel(A)"
   ]
  },
  {
   "cell_type": "code",
   "execution_count": 32,
   "metadata": {},
   "outputs": [
    {
     "data": {
      "image/png": "[encoded data removed]",
      "text/latex": [
       "$$\\dot{q}_{1}\\mathbf{\\hat{b}_x} + \\dot{q}_{2}\\mathbf{\\hat{b}_y} -  \\omega q_{1}\\mathbf{\\hat{b}_z} + L \\dot{q}_{3}\\mathbf{\\hat{e}_y} -  L \\omega \\operatorname{cos}\\left(q_{3}\\right)\\mathbf{\\hat{e}_z}$$"
      ],
      "text/plain": [
       "q1'*B.x + q2'*B.y - omega*q1*B.z + L*q3'*E.y - L*omega*cos(q3)*E.z"
      ]
     },
     "execution_count": 32,
     "metadata": {},
     "output_type": "execute_result"
    }
   ],
   "source": [
    "P2.v2pt_theory(P1, A, E)"
   ]
  },
  {
   "cell_type": "code",
   "execution_count": 33,
   "metadata": {},
   "outputs": [
    {
     "data": {
      "image/png": "[encoded data removed]",
      "text/latex": [
       "$$\\dot{q}_{3}\\mathbf{\\hat{b}_z} + \\omega\\mathbf{\\hat{a}_y}$$"
      ],
      "text/plain": [
       "omega*A.y + q3'*B.z"
      ]
     },
     "execution_count": 33,
     "metadata": {},
     "output_type": "execute_result"
    }
   ],
   "source": [
    "E.ang_vel_in(A)"
   ]
  },
  {
   "cell_type": "code",
   "execution_count": 34,
   "metadata": {},
   "outputs": [
    {
     "data": {
      "image/png": "[encoded data removed]",
      "text/latex": [
       "$$L \\dot{q}_{3}\\mathbf{\\hat{e}_y} -  L \\omega \\operatorname{cos}\\left(q_{3}\\right)\\mathbf{\\hat{e}_z}$$"
      ],
      "text/plain": [
       "L*q3'*E.y - L*omega*cos(q3)*E.z"
      ]
     },
     "execution_count": 34,
     "metadata": {},
     "output_type": "execute_result"
    }
   ],
   "source": [
    "me.cross(E.ang_vel_in(A), P2.pos_from(P1))"
   ]
  },
  {
   "cell_type": "code",
   "execution_count": 35,
   "metadata": {},
   "outputs": [],
   "source": [
    "P2.a2pt_theory?"
   ]
  },
  {
   "cell_type": "code",
   "execution_count": 36,
   "metadata": {},
   "outputs": [
    {
     "data": {
      "image/png": "[encoded data removed]",
      "text/latex": [
       "$$(- \\omega^{2} q_{1} + \\ddot{q}_{1})\\mathbf{\\hat{b}_x} + \\ddot{q}_{2}\\mathbf{\\hat{b}_y} -  2 \\omega \\dot{q}_{1}\\mathbf{\\hat{b}_z}$$"
      ],
      "text/plain": [
       "(-omega**2*q1 + q1'')*B.x + q2''*B.y - 2*omega*q1'*B.z"
      ]
     },
     "execution_count": 36,
     "metadata": {},
     "output_type": "execute_result"
    }
   ],
   "source": [
    "P1.acc(A)"
   ]
  },
  {
   "cell_type": "code",
   "execution_count": 37,
   "metadata": {},
   "outputs": [
    {
     "data": {
      "image/png": "[encoded data removed]",
      "text/latex": [
       "$$(- \\omega^{2} q_{1} + \\ddot{q}_{1})\\mathbf{\\hat{b}_x} + \\ddot{q}_{2}\\mathbf{\\hat{b}_y} -  2 \\omega \\dot{q}_{1}\\mathbf{\\hat{b}_z} + (- L \\omega^{2} \\operatorname{cos}^{2}\\left(q_{3}\\right) - L \\dot{q}_{3}^{2})\\mathbf{\\hat{e}_x} + (L \\omega^{2} \\operatorname{sin}\\left(q_{3}\\right) \\operatorname{cos}\\left(q_{3}\\right) + L \\ddot{q}_{3})\\mathbf{\\hat{e}_y} + 2 L \\omega \\operatorname{sin}\\left(q_{3}\\right) \\dot{q}_{3}\\mathbf{\\hat{e}_z}$$"
      ],
      "text/plain": [
       "(-omega**2*q1 + q1'')*B.x + q2''*B.y - 2*omega*q1'*B.z + (-L*omega**2*cos(q3)**2 - L*q3'**2)*E.x + (L*omega**2*sin(q3)*cos(q3) + L*q3'')*E.y + 2*L*omega*sin(q3)*q3'*E.z"
      ]
     },
     "execution_count": 37,
     "metadata": {},
     "output_type": "execute_result"
    }
   ],
   "source": [
    "P2.a2pt_theory(P1, A, E)"
   ]
  },
  {
   "cell_type": "code",
   "execution_count": 38,
   "metadata": {},
   "outputs": [
    {
     "data": {
      "image/png": "[encoded data removed]",
      "text/latex": [
       "$$(2 L \\omega \\operatorname{sin}\\left(\\omega t\\right) \\operatorname{sin}\\left(q_{3}\\right) \\dot{q}_{3} - 2 \\omega \\operatorname{sin}\\left(\\omega t\\right) \\dot{q}_{1} + \\left(- \\omega^{2} q_{1} + \\ddot{q}_{1}\\right) \\operatorname{cos}\\left(\\omega t\\right) + \\left(- L \\omega^{2} \\operatorname{cos}^{2}\\left(q_{3}\\right) - L \\dot{q}_{3}^{2}\\right) \\operatorname{cos}\\left(\\omega t\\right) \\operatorname{cos}\\left(q_{3}\\right) - \\left(L \\omega^{2} \\operatorname{sin}\\left(q_{3}\\right) \\operatorname{cos}\\left(q_{3}\\right) + L \\ddot{q}_{3}\\right) \\operatorname{sin}\\left(q_{3}\\right) \\operatorname{cos}\\left(\\omega t\\right))\\mathbf{\\hat{a}_x} + (\\left(- L \\omega^{2} \\operatorname{cos}^{2}\\left(q_{3}\\right) - L \\dot{q}_{3}^{2}\\right) \\operatorname{sin}\\left(q_{3}\\right) + \\left(L \\omega^{2} \\operatorname{sin}\\left(q_{3}\\right) \\operatorname{cos}\\left(q_{3}\\right) + L \\ddot{q}_{3}\\right) \\operatorname{cos}\\left(q_{3}\\right) + \\ddot{q}_{2})\\mathbf{\\hat{a}_y} + (2 L \\omega \\operatorname{sin}\\left(q_{3}\\right) \\operatorname{cos}\\left(\\omega t\\right) \\dot{q}_{3} - 2 \\omega \\operatorname{cos}\\left(\\omega t\\right) \\dot{q}_{1} - \\left(- \\omega^{2} q_{1} + \\ddot{q}_{1}\\right) \\operatorname{sin}\\left(\\omega t\\right) - \\left(- L \\omega^{2} \\operatorname{cos}^{2}\\left(q_{3}\\right) - L \\dot{q}_{3}^{2}\\right) \\operatorname{sin}\\left(\\omega t\\right) \\operatorname{cos}\\left(q_{3}\\right) + \\left(L \\omega^{2} \\operatorname{sin}\\left(q_{3}\\right) \\operatorname{cos}\\left(q_{3}\\right) + L \\ddot{q}_{3}\\right) \\operatorname{sin}\\left(\\omega t\\right) \\operatorname{sin}\\left(q_{3}\\right))\\mathbf{\\hat{a}_z}$$"
      ],
      "text/plain": [
       "(2*L*omega*sin(omega*t)*sin(q3)*q3' - 2*omega*sin(omega*t)*q1' + (-omega**2*q1 + q1'')*cos(omega*t) + (-L*omega**2*cos(q3)**2 - L*q3'**2)*cos(omega*t)*cos(q3) - (L*omega**2*sin(q3)*cos(q3) + L*q3'')*sin(q3)*cos(omega*t))*A.x + ((-L*omega**2*cos(q3)**2 - L*q3'**2)*sin(q3) + (L*omega**2*sin(q3)*cos(q3) + L*q3'')*cos(q3) + q2'')*A.y + (2*L*omega*sin(q3)*cos(omega*t)*q3' - 2*omega*cos(omega*t)*q1' - (-omega**2*q1 + q1'')*sin(omega*t) - (-L*omega**2*cos(q3)**2 - L*q3'**2)*sin(omega*t)*cos(q3) + (L*omega**2*sin(q3)*cos(q3) + L*q3'')*sin(omega*t)*sin(q3))*A.z"
      ]
     },
     "execution_count": 38,
     "metadata": {},
     "output_type": "execute_result"
    }
   ],
   "source": [
    "P2.a2pt_theory(P1, A, E).express(A)"
   ]
  },
  {
   "cell_type": "code",
   "execution_count": 39,
   "metadata": {},
   "outputs": [
    {
     "data": {
      "image/png": "[encoded data removed]",
      "text/latex": [
       "$$(- \\omega^{2} q_{1} + \\ddot{q}_{1})\\mathbf{\\hat{b}_x} + \\ddot{q}_{2}\\mathbf{\\hat{b}_y} -  2 \\omega \\dot{q}_{1}\\mathbf{\\hat{b}_z}$$"
      ],
      "text/plain": [
       "(-omega**2*q1 + q1'')*B.x + q2''*B.y - 2*omega*q1'*B.z"
      ]
     },
     "execution_count": 39,
     "metadata": {},
     "output_type": "execute_result"
    }
   ],
   "source": [
    "P1.acc(A)"
   ]
  },
  {
   "cell_type": "code",
   "execution_count": null,
   "metadata": {},
   "outputs": [],
   "source": []
  }
 ],
 "metadata": {
  "kernelspec": {
   "display_name": "Python 3",
   "language": "python",
   "name": "python3"
  },
  "language_info": {
   "codemirror_mode": {
    "name": "ipython",
    "version": 3
   },
   "file_extension": ".py",
   "mimetype": "text/x-python",
   "name": "python",
   "nbconvert_exporter": "python",
   "pygments_lexer": "ipython3",
   "version": "3.6.2"
  }
 },
 "nbformat": 4,
 "nbformat_minor": 2
}
