{
 "cells": [
  {
   "cell_type": "code",
   "execution_count": 1,
   "metadata": {},
   "outputs": [],
   "source": [
    "import sympy as sm\n",
    "import sympy.physics.mechanics as me\n",
    "me.init_vprinting()"
   ]
  },
  {
   "cell_type": "code",
   "execution_count": 2,
   "metadata": {},
   "outputs": [],
   "source": [
    "G, m, M, L = sm.symbols('G, m, M, L')"
   ]
  },
  {
   "cell_type": "code",
   "execution_count": 3,
   "metadata": {},
   "outputs": [],
   "source": [
    "q1, q2, q3 = me.dynamicsymbols('q1:4')\n",
    "u1, u2, u3 = me.dynamicsymbols(('u1:4'))"
   ]
  },
  {
   "cell_type": "code",
   "execution_count": 4,
   "metadata": {},
   "outputs": [],
   "source": [
    "N = me.ReferenceFrame('N')\n",
    "A = me.ReferenceFrame('A')\n",
    "B = me.ReferenceFrame('B')"
   ]
  },
  {
   "cell_type": "code",
   "execution_count": 5,
   "metadata": {},
   "outputs": [],
   "source": [
    "A.orient(N, 'Axis', (q1, N.z))"
   ]
  },
  {
   "cell_type": "code",
   "execution_count": 6,
   "metadata": {},
   "outputs": [],
   "source": [
    "B.orient(A, 'Axis', (q3, A.z))"
   ]
  },
  {
   "cell_type": "code",
   "execution_count": 7,
   "metadata": {},
   "outputs": [],
   "source": [
    "P, Bs = sm.symbols('P, B*', cls=me.Point)"
   ]
  },
  {
   "cell_type": "markdown",
   "metadata": {},
   "source": [
    "Setting the u's to be the q dots."
   ]
  },
  {
   "cell_type": "code",
   "execution_count": 8,
   "metadata": {},
   "outputs": [],
   "source": [
    "B.set_ang_vel(N, (u1 + u3)*A.z)"
   ]
  },
  {
   "cell_type": "code",
   "execution_count": 9,
   "metadata": {},
   "outputs": [],
   "source": [
    "Bs.set_vel(N, u2*A.x + u1*q2*A.y)"
   ]
  },
  {
   "cell_type": "code",
   "execution_count": 12,
   "metadata": {},
   "outputs": [
    {
     "data": {
      "image/png": "[encoded data removed]",
      "text/latex": [
       "$\\displaystyle \\left( \\mathbf{\\hat{a}_z}, \\  0, \\  \\mathbf{\\hat{a}_z}\\right)$"
      ],
      "text/plain": [
       "(a_z, 0, a_z)"
      ]
     },
     "execution_count": 12,
     "metadata": {},
     "output_type": "execute_result"
    }
   ],
   "source": [
    "B.partial_velocity(N, u1, u2, u3)"
   ]
  },
  {
   "cell_type": "code",
   "execution_count": 13,
   "metadata": {},
   "outputs": [
    {
     "data": {
      "image/png": "[encoded data removed]",
      "text/latex": [
       "$\\displaystyle \\left( q_{2}\\mathbf{\\hat{a}_y}, \\  \\mathbf{\\hat{a}_x}, \\  0\\right)$"
      ],
      "text/plain": [
       "(q₂ a_y, a_x, 0)"
      ]
     },
     "execution_count": 13,
     "metadata": {},
     "output_type": "execute_result"
    }
   ],
   "source": [
    "Bs.partial_velocity(N, u1, u2, u3)"
   ]
  },
  {
   "cell_type": "code",
   "execution_count": 14,
   "metadata": {},
   "outputs": [
    {
     "data": {
      "image/png": "[encoded data removed]",
      "text/latex": [
       "$\\displaystyle -  \\frac{G M m \\left(\\frac{L^{2} \\left(2 - 3 \\operatorname{sin}^{2}\\left(q_{3}\\right)\\right)}{8 q^{2}_{2}} + 1\\right)}{q^{2}_{2}}\\mathbf{\\hat{a}_x} -  \\frac{G L^{2} M m \\operatorname{sin}\\left(2 q_{2}\\right)}{8 q^{4}_{2}}\\mathbf{\\hat{a}_y}$"
      ],
      "text/plain": [
       "       ⎛ 2 ⎛         2    ⎞    ⎞\n",
       "       ⎜L ⋅⎝2 - 3⋅sin (q₃)⎠    ⎟\n",
       "-G⋅M⋅m⋅⎜─────────────────── + 1⎟\n",
       "       ⎜           2           ⎟            2\n",
       "       ⎝       8⋅q₂            ⎠        -G⋅L ⋅M⋅m⋅sin(2⋅q₂)\n",
       "───────────────────────────────── a_x + ──────────────────── a_y\n",
       "                 2                                 4\n",
       "               q₂                              8⋅q₂"
      ]
     },
     "execution_count": 14,
     "metadata": {},
     "output_type": "execute_result"
    }
   ],
   "source": [
    "R = -G*m*M/q2**2*((1 + L**2/8/q2**2*(2 - 3*sm.sin(q3)**2))*A.x + L**2/8/q2**2*sm.sin(2*q2)*A.y)\n",
    "R"
   ]
  },
  {
   "cell_type": "code",
   "execution_count": 15,
   "metadata": {},
   "outputs": [
    {
     "data": {
      "image/png": "[encoded data removed]",
      "text/latex": [
       "$\\displaystyle -  \\frac{G L^{2} M m \\operatorname{sin}\\left(2 q_{2}\\right)}{8 q^{3}_{2}}\\mathbf{\\hat{a}_z}$"
      ],
      "text/plain": [
       "    2\n",
       "-G⋅L ⋅M⋅m⋅sin(2⋅q₂)\n",
       "──────────────────── a_z\n",
       "           3\n",
       "       8⋅q₂"
      ]
     },
     "execution_count": 15,
     "metadata": {},
     "output_type": "execute_result"
    }
   ],
   "source": [
    "T = -G*M*m*L**2/8/q2**3*sm.sin(2*q2)*A.z\n",
    "T"
   ]
  },
  {
   "cell_type": "code",
   "execution_count": 16,
   "metadata": {},
   "outputs": [
    {
     "data": {
      "image/png": "[encoded data removed]",
      "text/latex": [
       "$\\displaystyle - \\frac{G L^{2} M m \\operatorname{sin}\\left(2 q_{2}\\right)}{4 q^{3}_{2}}$"
      ],
      "text/plain": [
       "    2               \n",
       "-G⋅L ⋅M⋅m⋅sin(2⋅q₂) \n",
       "────────────────────\n",
       "           3        \n",
       "       4⋅q₂         "
      ]
     },
     "execution_count": 16,
     "metadata": {},
     "output_type": "execute_result"
    }
   ],
   "source": [
    "F1 = Bs.partial_velocity(N, u1).dot(R) + B.partial_velocity(N, u1).dot(T)\n",
    "F1"
   ]
  },
  {
   "cell_type": "code",
   "execution_count": 17,
   "metadata": {},
   "outputs": [
    {
     "data": {
      "image/png": "[encoded data removed]",
      "text/latex": [
       "$\\displaystyle - \\frac{G M m \\left(\\frac{L^{2} \\left(2 - 3 \\operatorname{sin}^{2}\\left(q_{3}\\right)\\right)}{8 q^{2}_{2}} + 1\\right)}{q^{2}_{2}}$"
      ],
      "text/plain": [
       "       ⎛ 2 ⎛         2    ⎞    ⎞ \n",
       "       ⎜L ⋅⎝2 - 3⋅sin (q₃)⎠    ⎟ \n",
       "-G⋅M⋅m⋅⎜─────────────────── + 1⎟ \n",
       "       ⎜           2           ⎟ \n",
       "       ⎝       8⋅q₂            ⎠ \n",
       "─────────────────────────────────\n",
       "                 2               \n",
       "               q₂                "
      ]
     },
     "execution_count": 17,
     "metadata": {},
     "output_type": "execute_result"
    }
   ],
   "source": [
    "F2 = Bs.partial_velocity(N, u2).dot(R) + B.partial_velocity(N, u2).dot(T)\n",
    "F2"
   ]
  },
  {
   "cell_type": "code",
   "execution_count": 18,
   "metadata": {},
   "outputs": [
    {
     "data": {
      "image/png": "[encoded data removed]",
      "text/latex": [
       "$\\displaystyle - \\frac{G L^{2} M m \\operatorname{sin}\\left(2 q_{2}\\right)}{8 q^{3}_{2}}$"
      ],
      "text/plain": [
       "    2               \n",
       "-G⋅L ⋅M⋅m⋅sin(2⋅q₂) \n",
       "────────────────────\n",
       "           3        \n",
       "       8⋅q₂         "
      ]
     },
     "execution_count": 18,
     "metadata": {},
     "output_type": "execute_result"
    }
   ],
   "source": [
    "F3 = Bs.partial_velocity(N, u3).dot(R) + B.partial_velocity(N, u3).dot(T)\n",
    "F3"
   ]
  },
  {
   "cell_type": "code",
   "execution_count": 19,
   "metadata": {},
   "outputs": [
    {
     "data": {
      "image/png": "[encoded data removed]",
      "text/latex": [
       "$\\displaystyle \\left( \\mathbf{\\hat{a}_z}, \\  0, \\  \\mathbf{\\hat{a}_z}\\right)$"
      ],
      "text/plain": [
       "(a_z, 0, a_z)"
      ]
     },
     "execution_count": 19,
     "metadata": {},
     "output_type": "execute_result"
    }
   ],
   "source": [
    "B.partial_velocity(N, u1, u2, u3)"
   ]
  },
  {
   "cell_type": "code",
   "execution_count": 21,
   "metadata": {},
   "outputs": [
    {
     "data": {
      "image/png": "[encoded data removed]",
      "text/latex": [
       "$\\displaystyle (u_{1} + u_{3})\\mathbf{\\hat{a}_z}$"
      ],
      "text/plain": [
       "(u₁ + u₃) a_z"
      ]
     },
     "execution_count": 21,
     "metadata": {},
     "output_type": "execute_result"
    }
   ],
   "source": [
    "B.ang_vel_in(N)"
   ]
  },
  {
   "cell_type": "code",
   "execution_count": 23,
   "metadata": {},
   "outputs": [
    {
     "data": {
      "image/png": "[encoded data removed]",
      "text/latex": [
       "$\\displaystyle \\mathbf{\\hat{a}_z}$"
      ],
      "text/plain": [
       "a_z"
      ]
     },
     "execution_count": 23,
     "metadata": {},
     "output_type": "execute_result"
    }
   ],
   "source": [
    "B.ang_vel_in(N).diff(u1, N)"
   ]
  },
  {
   "cell_type": "code",
   "execution_count": 24,
   "metadata": {},
   "outputs": [
    {
     "data": {
      "image/png": "[encoded data removed]",
      "text/latex": [
       "$\\displaystyle 0$"
      ],
      "text/plain": [
       "0"
      ]
     },
     "execution_count": 24,
     "metadata": {},
     "output_type": "execute_result"
    }
   ],
   "source": [
    "B.ang_vel_in(N).diff(u2, N)"
   ]
  },
  {
   "cell_type": "code",
   "execution_count": 25,
   "metadata": {},
   "outputs": [
    {
     "data": {
      "image/png": "[encoded data removed]",
      "text/latex": [
       "$\\displaystyle 0$"
      ],
      "text/plain": [
       "0"
      ]
     },
     "execution_count": 25,
     "metadata": {},
     "output_type": "execute_result"
    }
   ],
   "source": [
    "B.ang_vel_in(N).diff(u2, N)"
   ]
  },
  {
   "cell_type": "code",
   "execution_count": 26,
   "metadata": {},
   "outputs": [
    {
     "data": {
      "image/png": "[encoded data removed]",
      "text/latex": [
       "$\\displaystyle - \\frac{G L^{2} M m \\operatorname{sin}\\left(2 q_{2}\\right)}{4 q^{3}_{2}}$"
      ],
      "text/plain": [
       "    2               \n",
       "-G⋅L ⋅M⋅m⋅sin(2⋅q₂) \n",
       "────────────────────\n",
       "           3        \n",
       "       4⋅q₂         "
      ]
     },
     "execution_count": 26,
     "metadata": {},
     "output_type": "execute_result"
    }
   ],
   "source": [
    "F1 = Bs.vel(N).diff(u1, N).dot(R) + B.ang_vel_in(N).diff(u1, N).dot(T)\n",
    "F1"
   ]
  },
  {
   "cell_type": "code",
   "execution_count": null,
   "metadata": {},
   "outputs": [],
   "source": []
  }
 ],
 "metadata": {
  "kernelspec": {
   "display_name": "Python 3",
   "language": "python",
   "name": "python3"
  },
  "language_info": {
   "codemirror_mode": {
    "name": "ipython",
    "version": 3
   },
   "file_extension": ".py",
   "mimetype": "text/x-python",
   "name": "python",
   "nbconvert_exporter": "python",
   "pygments_lexer": "ipython3",
   "version": "3.6.7"
  }
 },
 "nbformat": 4,
 "nbformat_minor": 4
}
