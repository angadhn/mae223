{
 "cells": [
  {
   "cell_type": "code",
   "execution_count": 1,
   "metadata": {},
   "outputs": [],
   "source": [
    "import sympy as sm\n",
    "import sympy.physics.mechanics as me\n",
    "me.init_vprinting()"
   ]
  },
  {
   "cell_type": "markdown",
   "metadata": {},
   "source": [
    "# Problem Description\n",
    "\n",
    "![](https://objects-us-east-1.dream.io/mae223/2019f/mae223-l17-example-fig.png)"
   ]
  },
  {
   "cell_type": "markdown",
   "metadata": {},
   "source": [
    "# Generalized coordinates"
   ]
  },
  {
   "cell_type": "code",
   "execution_count": 2,
   "metadata": {},
   "outputs": [],
   "source": [
    "q1, q2, q3 = me.dynamicsymbols('q1, q2, q3')"
   ]
  },
  {
   "cell_type": "markdown",
   "metadata": {},
   "source": [
    "# Generalized speeds"
   ]
  },
  {
   "cell_type": "code",
   "execution_count": 3,
   "metadata": {},
   "outputs": [],
   "source": [
    "u1, u2, u3 = me.dynamicsymbols('u1, u2, u3')"
   ]
  },
  {
   "cell_type": "markdown",
   "metadata": {},
   "source": [
    "# Specified Inputs"
   ]
  },
  {
   "cell_type": "code",
   "execution_count": 4,
   "metadata": {},
   "outputs": [],
   "source": [
    "F, T = me.dynamicsymbols('F, T')"
   ]
  },
  {
   "cell_type": "markdown",
   "metadata": {},
   "source": [
    "# Constants"
   ]
  },
  {
   "cell_type": "code",
   "execution_count": 5,
   "metadata": {},
   "outputs": [
    {
     "data": {
      "image/png": "[encoded data removed]",
      "text/latex": [
       "$\\displaystyle \\left( k, \\  c, \\  m_{a}, \\  m_{b}, \\  m_{c}, \\  I_{B_bo}, \\  l, \\  k_{T}, \\  g\\right)$"
      ],
      "text/plain": [
       "(k, c, mₐ, m_b, m_c, I_{B_bo}, l, k_T, g)"
      ]
     },
     "execution_count": 5,
     "metadata": {},
     "output_type": "execute_result"
    }
   ],
   "source": [
    "k, c, ma, mb, mc, IB_bo, l, kT, g = sm.symbols('k, c, m_a, m_b, m_c, I_{B_bo}, l, k_T, g')\n",
    "k, c, ma, mb, mc, IB_bo, l, kT, g"
   ]
  },
  {
   "cell_type": "markdown",
   "metadata": {},
   "source": [
    "# Reference Frames"
   ]
  },
  {
   "cell_type": "code",
   "execution_count": 6,
   "metadata": {},
   "outputs": [],
   "source": [
    "N = me.ReferenceFrame('N')"
   ]
  },
  {
   "cell_type": "code",
   "execution_count": 7,
   "metadata": {},
   "outputs": [],
   "source": [
    "B = N.orientnew('B', 'Axis', (q2, N.z))"
   ]
  },
  {
   "cell_type": "code",
   "execution_count": 8,
   "metadata": {},
   "outputs": [],
   "source": [
    "C = B.orientnew('C', 'Axis', (q3, N.z))"
   ]
  },
  {
   "cell_type": "markdown",
   "metadata": {},
   "source": [
    "# Points"
   ]
  },
  {
   "cell_type": "code",
   "execution_count": 9,
   "metadata": {},
   "outputs": [],
   "source": [
    "O = me.Point('O')"
   ]
  },
  {
   "cell_type": "code",
   "execution_count": 10,
   "metadata": {},
   "outputs": [],
   "source": [
    "Pab = O.locatenew('P_{ab}', q1 * N.x)"
   ]
  },
  {
   "cell_type": "code",
   "execution_count": 11,
   "metadata": {},
   "outputs": [],
   "source": [
    "Bo = Pab.locatenew('B_o', - 2 * l / 3 * B.y)"
   ]
  },
  {
   "cell_type": "code",
   "execution_count": 12,
   "metadata": {},
   "outputs": [],
   "source": [
    "Pbc = Pab.locatenew('P_{bc}', -l * B.y)"
   ]
  },
  {
   "cell_type": "code",
   "execution_count": 13,
   "metadata": {},
   "outputs": [],
   "source": [
    "Pc = Pbc.locatenew('P_c', -l * C.y)"
   ]
  },
  {
   "cell_type": "code",
   "execution_count": 14,
   "metadata": {},
   "outputs": [
    {
     "data": {
      "image/png": "[encoded data removed]",
      "text/latex": [
       "$\\displaystyle -  l\\mathbf{\\hat{c}_y} -  l\\mathbf{\\hat{b}_y} + q_{1}\\mathbf{\\hat{n}_x}$"
      ],
      "text/plain": [
       "-l c_y + -l b_y + q₁ n_x"
      ]
     },
     "execution_count": 14,
     "metadata": {},
     "output_type": "execute_result"
    }
   ],
   "source": [
    "Pc.pos_from(O)"
   ]
  },
  {
   "cell_type": "markdown",
   "metadata": {},
   "source": [
    "# Linear Velocities"
   ]
  },
  {
   "cell_type": "code",
   "execution_count": 15,
   "metadata": {},
   "outputs": [
    {
     "data": {
      "image/png": "[encoded data removed]",
      "text/latex": [
       "$\\displaystyle \\dot{q}_{1}\\mathbf{\\hat{n}_x}$"
      ],
      "text/plain": [
       "q₁̇ n_x"
      ]
     },
     "execution_count": 15,
     "metadata": {},
     "output_type": "execute_result"
    }
   ],
   "source": [
    "Pab.set_vel(N, Pab.pos_from(O).dt(N))\n",
    "Pab.vel(N)"
   ]
  },
  {
   "cell_type": "code",
   "execution_count": 16,
   "metadata": {},
   "outputs": [
    {
     "data": {
      "image/png": "[encoded data removed]",
      "text/latex": [
       "$\\displaystyle \\dot{q}_{1}\\mathbf{\\hat{n}_x} + \\frac{2 l \\dot{q}_{2}}{3}\\mathbf{\\hat{b}_x}$"
      ],
      "text/plain": [
       "          2⋅l⋅q₂̇\n",
       "q₁̇ n_x + ─────── b_x\n",
       "             3"
      ]
     },
     "execution_count": 16,
     "metadata": {},
     "output_type": "execute_result"
    }
   ],
   "source": [
    "Bo.v2pt_theory(Pab, N, B)"
   ]
  },
  {
   "cell_type": "code",
   "execution_count": 17,
   "metadata": {},
   "outputs": [
    {
     "data": {
      "image/png": "[encoded data removed]",
      "text/latex": [
       "$\\displaystyle \\dot{q}_{1}\\mathbf{\\hat{n}_x} + l \\dot{q}_{2}\\mathbf{\\hat{b}_x}$"
      ],
      "text/plain": [
       "q₁̇ n_x + l⋅q₂̇ b_x"
      ]
     },
     "execution_count": 17,
     "metadata": {},
     "output_type": "execute_result"
    }
   ],
   "source": [
    "Pbc.v2pt_theory(Pab, N, B)"
   ]
  },
  {
   "cell_type": "code",
   "execution_count": 18,
   "metadata": {},
   "outputs": [
    {
     "data": {
      "image/png": "[encoded data removed]",
      "text/latex": [
       "$\\displaystyle \\dot{q}_{1}\\mathbf{\\hat{n}_x} + l \\dot{q}_{2}\\mathbf{\\hat{b}_x} + l \\left(\\dot{q}_{2} + \\dot{q}_{3}\\right)\\mathbf{\\hat{c}_x}$"
      ],
      "text/plain": [
       "q₁̇ n_x + l⋅q₂̇ b_x + l⋅(q₂̇ + q₃̇) c_x"
      ]
     },
     "execution_count": 18,
     "metadata": {},
     "output_type": "execute_result"
    }
   ],
   "source": [
    "Pc.v2pt_theory(Pbc, N, C)"
   ]
  },
  {
   "cell_type": "markdown",
   "metadata": {},
   "source": [
    "# Kinematic Differential Equations"
   ]
  },
  {
   "cell_type": "code",
   "execution_count": 19,
   "metadata": {},
   "outputs": [],
   "source": [
    "u1_eq = sm.Eq(u1, Pab.vel(N).dot(N.x))\n",
    "u2_eq = sm.Eq(u2, Bo.vel(N).dot(B.x))\n",
    "u3_eq = sm.Eq(u3, C.ang_vel_in(B).dot(B.z))"
   ]
  },
  {
   "cell_type": "code",
   "execution_count": 20,
   "metadata": {},
   "outputs": [
    {
     "data": {
      "image/png": "[encoded data removed]",
      "text/latex": [
       "$\\displaystyle \\left\\{ \\dot{q}_{1} : u_{1}, \\  \\dot{q}_{2} : \\frac{3 \\left(- u_{1} \\operatorname{cos}\\left(q_{2}\\right) + u_{2}\\right)}{2 l}, \\  \\dot{q}_{3} : u_{3}\\right\\}$"
      ],
      "text/plain": [
       "⎧              3⋅(-u₁⋅cos(q₂) + u₂)         ⎫\n",
       "⎨q₁̇: u₁, q₂̇: ────────────────────, q₃̇: u₃⎬\n",
       "⎩                      2⋅l                  ⎭"
      ]
     },
     "execution_count": 20,
     "metadata": {},
     "output_type": "execute_result"
    }
   ],
   "source": [
    "qdots = sm.solve([u1_eq, u2_eq, u3_eq], q1.diff(), q2.diff(), q3.diff())\n",
    "qdots"
   ]
  },
  {
   "cell_type": "markdown",
   "metadata": {},
   "source": [
    "Substitute expressions for the $\\dot{q}$'s."
   ]
  },
  {
   "cell_type": "code",
   "execution_count": 21,
   "metadata": {},
   "outputs": [
    {
     "data": {
      "image/png": "[encoded data removed]",
      "text/latex": [
       "$\\displaystyle u_{1}\\mathbf{\\hat{n}_x}$"
      ],
      "text/plain": [
       "u₁ n_x"
      ]
     },
     "execution_count": 21,
     "metadata": {},
     "output_type": "execute_result"
    }
   ],
   "source": [
    "Pab.set_vel(N, Pab.vel(N).subs(qdots).simplify())\n",
    "Pab.vel(N)"
   ]
  },
  {
   "cell_type": "code",
   "execution_count": 22,
   "metadata": {},
   "outputs": [
    {
     "data": {
      "image/png": "[encoded data removed]",
      "text/latex": [
       "$\\displaystyle u_{2}\\mathbf{\\hat{b}_x} -  u_{1} \\operatorname{sin}\\left(q_{2}\\right)\\mathbf{\\hat{b}_y}$"
      ],
      "text/plain": [
       "u₂ b_x + -u₁⋅sin(q₂) b_y"
      ]
     },
     "execution_count": 22,
     "metadata": {},
     "output_type": "execute_result"
    }
   ],
   "source": [
    "Bo.set_vel(N, Bo.vel(N).subs(qdots).express(B).simplify())\n",
    "Bo.vel(N)"
   ]
  },
  {
   "cell_type": "code",
   "execution_count": 23,
   "metadata": {},
   "outputs": [
    {
     "data": {
      "image/png": "[encoded data removed]",
      "text/latex": [
       "$\\displaystyle u_{1}\\mathbf{\\hat{n}_x} + (- \\frac{3 u_{1} \\operatorname{cos}\\left(q_{2}\\right)}{2} + \\frac{3 u_{2}}{2})\\mathbf{\\hat{b}_x} + (l u_{3} - \\frac{3 u_{1} \\operatorname{cos}\\left(q_{2}\\right)}{2} + \\frac{3 u_{2}}{2})\\mathbf{\\hat{c}_x}$"
      ],
      "text/plain": [
       "         ⎛  3⋅u₁⋅cos(q₂)   3⋅u₂⎞       ⎛       3⋅u₁⋅cos(q₂)   3⋅u₂⎞\n",
       "u₁ n_x + ⎜- ──────────── + ────⎟ b_x + ⎜l⋅u₃ - ──────────── + ────⎟ c_x\n",
       "         ⎝       2          2  ⎠       ⎝            2          2  ⎠"
      ]
     },
     "execution_count": 23,
     "metadata": {},
     "output_type": "execute_result"
    }
   ],
   "source": [
    "Pc.set_vel(N, Pc.vel(N).subs(qdots).simplify())\n",
    "Pc.vel(N)"
   ]
  },
  {
   "cell_type": "markdown",
   "metadata": {},
   "source": [
    "# Angular Velocities"
   ]
  },
  {
   "cell_type": "code",
   "execution_count": 24,
   "metadata": {},
   "outputs": [
    {
     "data": {
      "image/png": "[encoded data removed]",
      "text/latex": [
       "$\\displaystyle \\frac{3 \\left(- u_{1} \\operatorname{cos}\\left(q_{2}\\right) + u_{2}\\right)}{2 l}\\mathbf{\\hat{n}_z}$"
      ],
      "text/plain": [
       "3⋅(-u₁⋅cos(q₂) + u₂)\n",
       "──────────────────── n_z\n",
       "        2⋅l"
      ]
     },
     "execution_count": 24,
     "metadata": {},
     "output_type": "execute_result"
    }
   ],
   "source": [
    "B.set_ang_vel(N, B.ang_vel_in(N).subs(qdots).simplify())\n",
    "B.ang_vel_in(N)"
   ]
  },
  {
   "cell_type": "code",
   "execution_count": 25,
   "metadata": {},
   "outputs": [],
   "source": [
    "C.set_ang_vel(B, u3 * N.z)"
   ]
  },
  {
   "cell_type": "markdown",
   "metadata": {},
   "source": [
    "# Partial Velocities"
   ]
  },
  {
   "cell_type": "markdown",
   "metadata": {},
   "source": [
    "Each partial velocity can be calculated manually like so:"
   ]
  },
  {
   "cell_type": "code",
   "execution_count": 26,
   "metadata": {},
   "outputs": [
    {
     "data": {
      "image/png": "[encoded data removed]",
      "text/latex": [
       "$\\displaystyle \\mathbf{\\hat{n}_x}$"
      ],
      "text/plain": [
       "n_x"
      ]
     },
     "execution_count": 26,
     "metadata": {},
     "output_type": "execute_result"
    }
   ],
   "source": [
    "Pab.vel(N).diff(u1, N)"
   ]
  },
  {
   "cell_type": "markdown",
   "metadata": {},
   "source": [
    "Or you can use this convenience function:"
   ]
  },
  {
   "cell_type": "code",
   "execution_count": 27,
   "metadata": {},
   "outputs": [
    {
     "data": {
      "image/png": "[encoded data removed]",
      "text/latex": [
       "$\\displaystyle \\mathbf{\\hat{n}_x}$"
      ],
      "text/plain": [
       "n_x"
      ]
     },
     "execution_count": 27,
     "metadata": {},
     "output_type": "execute_result"
    }
   ],
   "source": [
    "Pab.partial_velocity(N, u1)"
   ]
  },
  {
   "cell_type": "markdown",
   "metadata": {},
   "source": [
    "All partial velocities can be calculated at once with:"
   ]
  },
  {
   "cell_type": "code",
   "execution_count": 28,
   "metadata": {},
   "outputs": [
    {
     "data": {
      "image/png": "[encoded data removed]",
      "text/latex": [
       "$\\displaystyle \\left( \\mathbf{\\hat{n}_x}, \\  0, \\  0\\right)$"
      ],
      "text/plain": [
       "(n_x, 0, 0)"
      ]
     },
     "execution_count": 28,
     "metadata": {},
     "output_type": "execute_result"
    }
   ],
   "source": [
    "Pab.partial_velocity(N, u1, u2, u3)"
   ]
  },
  {
   "cell_type": "code",
   "execution_count": 29,
   "metadata": {},
   "outputs": [
    {
     "data": {
      "image/png": "[encoded data removed]",
      "text/latex": [
       "$\\displaystyle \\left( -  \\operatorname{sin}\\left(q_{2}\\right)\\mathbf{\\hat{b}_y}, \\  \\mathbf{\\hat{b}_x}, \\  0\\right)$"
      ],
      "text/plain": [
       "(-sin(q₂) b_y, b_x, 0)"
      ]
     },
     "execution_count": 29,
     "metadata": {},
     "output_type": "execute_result"
    }
   ],
   "source": [
    "Bo.partial_velocity(N, u1, u2, u3)"
   ]
  },
  {
   "cell_type": "code",
   "execution_count": 30,
   "metadata": {},
   "outputs": [
    {
     "data": {
      "image/png": "[encoded data removed]",
      "text/latex": [
       "$\\displaystyle \\left( \\mathbf{\\hat{n}_x} -  \\frac{3 \\operatorname{cos}\\left(q_{2}\\right)}{2}\\mathbf{\\hat{b}_x} -  \\frac{3 \\operatorname{cos}\\left(q_{2}\\right)}{2}\\mathbf{\\hat{c}_x}, \\  \\frac{3}{2}\\mathbf{\\hat{b}_x} + \\frac{3}{2}\\mathbf{\\hat{c}_x}, \\  l\\mathbf{\\hat{c}_x}\\right)$"
      ],
      "text/plain": [
       "⎛         -3⋅cos(q₂)        -3⋅cos(q₂)  , 3/2 b_x + 3/2 c_x, l c_x⎞\n",
       "⎜n_x + ─────────── b_x + ─────────── c_x                          ⎟\n",
       "⎝                2                 2                              ⎠"
      ]
     },
     "execution_count": 30,
     "metadata": {},
     "output_type": "execute_result"
    }
   ],
   "source": [
    "Pc.partial_velocity(N, u1, u2, u3)"
   ]
  },
  {
   "cell_type": "markdown",
   "metadata": {},
   "source": [
    "This also works for angular partial velocities:"
   ]
  },
  {
   "cell_type": "code",
   "execution_count": 31,
   "metadata": {},
   "outputs": [
    {
     "data": {
      "image/png": "[encoded data removed]",
      "text/latex": [
       "$\\displaystyle \\left( -  \\frac{3 \\operatorname{cos}\\left(q_{2}\\right)}{2 l}\\mathbf{\\hat{n}_z}, \\  \\frac{3}{2 l}\\mathbf{\\hat{n}_z}, \\  0\\right)$"
      ],
      "text/plain": [
       "⎛   -3⋅cos(q₂)  ,     3  , 0⎞\n",
       "⎜─────────── n_z  ─── n_z   ⎟\n",
       "⎝        2⋅l        2⋅l     ⎠"
      ]
     },
     "execution_count": 31,
     "metadata": {},
     "output_type": "execute_result"
    }
   ],
   "source": [
    "B.partial_velocity(N, u1, u2, u3)"
   ]
  },
  {
   "cell_type": "markdown",
   "metadata": {},
   "source": [
    "The convenience function is doing this behind the scenes:"
   ]
  },
  {
   "cell_type": "code",
   "execution_count": 32,
   "metadata": {},
   "outputs": [
    {
     "data": {
      "image/png": "[encoded data removed]",
      "text/latex": [
       "$\\displaystyle \\left[ -  \\frac{3 \\operatorname{cos}\\left(q_{2}\\right)}{2 l}\\mathbf{\\hat{n}_z}, \\  \\frac{3}{2 l}\\mathbf{\\hat{n}_z}, \\  0\\right]$"
      ],
      "text/plain": [
       "⎡   -3⋅cos(q₂)  ,     3  , 0⎤\n",
       "⎢─────────── n_z  ─── n_z   ⎥\n",
       "⎣        2⋅l        2⋅l     ⎦"
      ]
     },
     "execution_count": 32,
     "metadata": {},
     "output_type": "execute_result"
    }
   ],
   "source": [
    "[B.ang_vel_in(N).diff(ur, N) for ur in [u1, u2, u3]]"
   ]
  },
  {
   "cell_type": "markdown",
   "metadata": {},
   "source": [
    "# Angular Accelerations"
   ]
  },
  {
   "cell_type": "code",
   "execution_count": 33,
   "metadata": {},
   "outputs": [
    {
     "data": {
      "image/png": "[encoded data removed]",
      "text/latex": [
       "$\\displaystyle -  \\frac{6 l \\left(\\operatorname{cos}\\left(q_{2}\\right) \\dot{u}_{1} - \\dot{u}_{2}\\right) + 9 \\left(u_{1} \\operatorname{cos}\\left(q_{2}\\right) - u_{2}\\right) u_{1} \\operatorname{sin}\\left(q_{2}\\right)}{4 l^{2}}\\mathbf{\\hat{n}_z}$"
      ],
      "text/plain": [
       "-(6⋅l⋅(cos(q₂)⋅u₁̇ - u₂̇) + 9⋅(u₁⋅cos(q₂) - u₂)⋅u₁⋅sin(q₂))\n",
       "──────────────────────────────────────────────────────────── n_z\n",
       "                               2\n",
       "                            4⋅l"
      ]
     },
     "execution_count": 33,
     "metadata": {},
     "output_type": "execute_result"
    }
   ],
   "source": [
    "alpha_B_N = B.ang_acc_in(N).subs(qdots).simplify()\n",
    "alpha_B_N"
   ]
  },
  {
   "cell_type": "code",
   "execution_count": 34,
   "metadata": {},
   "outputs": [
    {
     "data": {
      "image/png": "[encoded data removed]",
      "text/latex": [
       "$\\displaystyle \\dot{u}_{1}\\mathbf{\\hat{n}_x}$"
      ],
      "text/plain": [
       "u₁̇ n_x"
      ]
     },
     "execution_count": 34,
     "metadata": {},
     "output_type": "execute_result"
    }
   ],
   "source": [
    "a_Pab_N = Pab.acc(N).subs(qdots).simplify()\n",
    "a_Pab_N"
   ]
  },
  {
   "cell_type": "code",
   "execution_count": 35,
   "metadata": {},
   "outputs": [
    {
     "data": {
      "image/png": "[encoded data removed]",
      "text/latex": [
       "$\\displaystyle \\frac{l \\dot{u}_{2} - \\frac{3 \\left(u_{1} \\operatorname{cos}\\left(q_{2}\\right) - u_{2}\\right) u_{1} \\operatorname{sin}\\left(q_{2}\\right)}{2}}{l}\\mathbf{\\hat{b}_x} -  \\frac{l \\left(u_{1} \\operatorname{cos}\\left(q_{2}\\right) \\dot{q}_{2} + \\operatorname{sin}\\left(q_{2}\\right) \\dot{u}_{1}\\right) + \\frac{3 \\left(u_{1} \\operatorname{cos}\\left(q_{2}\\right) - u_{2}\\right) u_{2}}{2}}{l}\\mathbf{\\hat{b}_y}$"
      ],
      "text/plain": [
       "        3⋅(u₁⋅cos(q₂) - u₂)⋅u₁⋅sin(q₂)        ⎛\n",
       "l⋅u₂̇ - ──────────────────────────────       -⎜l⋅(u₁⋅cos(q₂)⋅q₂̇ + sin(q₂)⋅u₁̇\n",
       "                      2                       ⎝\n",
       "────────────────────────────────────── b_x + ─────────────────────────────────\n",
       "                  l                                                        l\n",
       "\n",
       "    3⋅(u₁⋅cos(q₂) - u₂)⋅u₂⎞\n",
       ") + ──────────────────────⎟\n",
       "              2           ⎠\n",
       "──────────────────────────── b_y\n"
      ]
     },
     "execution_count": 35,
     "metadata": {},
     "output_type": "execute_result"
    }
   ],
   "source": [
    "a_Bo_N = Bo.acc(N).express(B).simplify()\n",
    "a_Bo_N"
   ]
  },
  {
   "cell_type": "code",
   "execution_count": 36,
   "metadata": {},
   "outputs": [
    {
     "data": {
      "image/png": "[encoded data removed]",
      "text/latex": [
       "$\\displaystyle \\frac{2 l \\left(2 l \\dot{u}_{3} + 2 \\operatorname{cos}\\left(q_{2} + q_{3}\\right) \\dot{u}_{1} - 3 \\operatorname{cos}\\left(q_{2}\\right) \\dot{u}_{1} + 3 \\dot{u}_{2}\\right) - 3 \\left(2 l \\left(\\operatorname{cos}\\left(q_{2}\\right) \\dot{u}_{1} - \\dot{u}_{2}\\right) + 3 \\left(u_{1} \\operatorname{cos}\\left(q_{2}\\right) - u_{2}\\right) u_{1} \\operatorname{sin}\\left(q_{2}\\right)\\right) \\operatorname{cos}\\left(q_{3}\\right) + 9 \\left(u_{1} \\operatorname{cos}\\left(q_{2}\\right) - u_{2}\\right)^{2} \\operatorname{sin}\\left(q_{3}\\right) - 9 \\left(u_{1} \\operatorname{cos}\\left(q_{2}\\right) - u_{2}\\right) u_{1} \\operatorname{sin}\\left(q_{2}\\right)}{4 l}\\mathbf{\\hat{c}_x} + \\frac{- 4 l \\operatorname{sin}\\left(q_{2} + q_{3}\\right) \\dot{u}_{1} + 3 \\left(2 l \\left(\\operatorname{cos}\\left(q_{2}\\right) \\dot{u}_{1} - \\dot{u}_{2}\\right) + 3 \\left(u_{1} \\operatorname{cos}\\left(q_{2}\\right) - u_{2}\\right) u_{1} \\operatorname{sin}\\left(q_{2}\\right)\\right) \\operatorname{sin}\\left(q_{3}\\right) + 9 \\left(u_{1} \\operatorname{cos}\\left(q_{2}\\right) - u_{2}\\right)^{2} \\operatorname{cos}\\left(q_{3}\\right) + \\left(2 l u_{3} - 3 u_{1} \\operatorname{cos}\\left(q_{2}\\right) + 3 u_{2}\\right)^{2}}{4 l}\\mathbf{\\hat{c}_y}$"
      ],
      "text/plain": [
       "\n",
       "2⋅l⋅(2⋅l⋅u₃̇ + 2⋅cos(q₂ + q₃)⋅u₁̇ - 3⋅cos(q₂)⋅u₁̇ + 3⋅u₂̇) - 3⋅(2⋅l⋅(cos(q₂)⋅u\n",
       "──────────────────────────────────────────────────────────────────────────────\n",
       "\n",
       "\n",
       "                                                                         2\n",
       "₁̇ - u₂̇) + 3⋅(u₁⋅cos(q₂) - u₂)⋅u₁⋅sin(q₂))⋅cos(q₃) + 9⋅(u₁⋅cos(q₂) - u₂) ⋅sin\n",
       "──────────────────────────────────────────────────────────────────────────────\n",
       "                 4⋅l\n",
       "\n",
       "\n",
       "(q₃) - 9⋅(u₁⋅cos(q₂) - u₂)⋅u₁⋅sin(q₂)       -4⋅l⋅sin(q₂ + q₃)⋅u₁̇ + 3⋅(2⋅l⋅(co\n",
       "───────────────────────────────────── c_x + ──────────────────────────────────\n",
       "\n",
       "\n",
       "\n",
       "s(q₂)⋅u₁̇ - u₂̇) + 3⋅(u₁⋅cos(q₂) - u₂)⋅u₁⋅sin(q₂))⋅sin(q₃) + 9⋅(u₁⋅cos(q₂) - u\n",
       "──────────────────────────────────────────────────────────────────────────────\n",
       "                                           4⋅l\n",
       "\n",
       "  2                                         2\n",
       "₂) ⋅cos(q₃) + (2⋅l⋅u₃ - 3⋅u₁⋅cos(q₂) + 3⋅u₂)\n",
       "───────────────────────────────────────────── c_y\n"
      ]
     },
     "execution_count": 36,
     "metadata": {},
     "output_type": "execute_result"
    }
   ],
   "source": [
    "a_Pc_N = Pc.acc(N).express(C).subs(qdots).simplify()\n",
    "a_Pc_N"
   ]
  },
  {
   "cell_type": "markdown",
   "metadata": {},
   "source": [
    "# Mass and Inertia"
   ]
  },
  {
   "cell_type": "code",
   "execution_count": 37,
   "metadata": {},
   "outputs": [
    {
     "data": {
      "image/png": "[encoded data removed]",
      "text/latex": [
       "$\\displaystyle \\left( m_{a}, \\  m_{c}\\right)$"
      ],
      "text/plain": [
       "(mₐ, m_c)"
      ]
     },
     "execution_count": 37,
     "metadata": {},
     "output_type": "execute_result"
    }
   ],
   "source": [
    "ma, mc"
   ]
  },
  {
   "cell_type": "code",
   "execution_count": 38,
   "metadata": {},
   "outputs": [
    {
     "data": {
      "image/png": "[encoded data removed]",
      "text/latex": [
       "$\\displaystyle I_{B_bo}\\mathbf{\\hat{b}_z}\\otimes \\mathbf{\\hat{b}_z}$"
      ],
      "text/plain": [
       "I_{B_bo} b_z⊗b_z"
      ]
     },
     "execution_count": 38,
     "metadata": {},
     "output_type": "execute_result"
    }
   ],
   "source": [
    "IB = me.inertia(B, 0, 0, IB_bo)\n",
    "IB"
   ]
  },
  {
   "cell_type": "markdown",
   "metadata": {},
   "source": [
    "# Loads (forces and torques)"
   ]
  },
  {
   "cell_type": "code",
   "execution_count": 39,
   "metadata": {},
   "outputs": [
    {
     "data": {
      "image/png": "[encoded data removed]",
      "text/latex": [
       "$\\displaystyle (- c u_{1} - k q_{1} + F)\\mathbf{\\hat{n}_x}$"
      ],
      "text/plain": [
       "(-c⋅u₁ - k⋅q₁ + F) n_x"
      ]
     },
     "execution_count": 39,
     "metadata": {},
     "output_type": "execute_result"
    }
   ],
   "source": [
    "Rab = (F - k*q1 - c*qdots[q1.diff()]) * N.x\n",
    "Rab"
   ]
  },
  {
   "cell_type": "code",
   "execution_count": 40,
   "metadata": {},
   "outputs": [
    {
     "data": {
      "image/png": "[encoded data removed]",
      "text/latex": [
       "$\\displaystyle -  g m_{b}\\mathbf{\\hat{n}_y}$"
      ],
      "text/plain": [
       "-g⋅m_b n_y"
      ]
     },
     "execution_count": 40,
     "metadata": {},
     "output_type": "execute_result"
    }
   ],
   "source": [
    "Rbo = -(mb*g)*N.y\n",
    "Rbo"
   ]
  },
  {
   "cell_type": "code",
   "execution_count": 41,
   "metadata": {},
   "outputs": [
    {
     "data": {
      "image/png": "[encoded data removed]",
      "text/latex": [
       "$\\displaystyle -  g m_{c}\\mathbf{\\hat{n}_y}$"
      ],
      "text/plain": [
       "-g⋅m_c n_y"
      ]
     },
     "execution_count": 41,
     "metadata": {},
     "output_type": "execute_result"
    }
   ],
   "source": [
    "Rc = -(mc*g)*N.y\n",
    "Rc"
   ]
  },
  {
   "cell_type": "code",
   "execution_count": 42,
   "metadata": {},
   "outputs": [
    {
     "data": {
      "image/png": "[encoded data removed]",
      "text/latex": [
       "$\\displaystyle (k_{T} q_{3} + T)\\mathbf{\\hat{n}_z}$"
      ],
      "text/plain": [
       "(k_T⋅q₃ + T) n_z"
      ]
     },
     "execution_count": 42,
     "metadata": {},
     "output_type": "execute_result"
    }
   ],
   "source": [
    "TB = (T + kT*q3)*N.z\n",
    "TB"
   ]
  },
  {
   "cell_type": "markdown",
   "metadata": {},
   "source": [
    "# Generalizd Active Forces"
   ]
  },
  {
   "cell_type": "code",
   "execution_count": 43,
   "metadata": {},
   "outputs": [
    {
     "data": {
      "image/png": "[encoded data removed]",
      "text/latex": [
       "$\\displaystyle - c u_{1} - k q_{1} + F$"
      ],
      "text/plain": [
       "-c⋅u₁ - k⋅q₁ + F"
      ]
     },
     "execution_count": 43,
     "metadata": {},
     "output_type": "execute_result"
    }
   ],
   "source": [
    "Pab.partial_velocity(N, u1).dot(Rab)"
   ]
  },
  {
   "cell_type": "code",
   "execution_count": 44,
   "metadata": {},
   "outputs": [
    {
     "data": {
      "image/png": "[encoded data removed]",
      "text/latex": [
       "$\\displaystyle 0$"
      ],
      "text/plain": [
       "0"
      ]
     },
     "execution_count": 44,
     "metadata": {},
     "output_type": "execute_result"
    }
   ],
   "source": [
    "Pab.partial_velocity(N, u2).dot(Rab)"
   ]
  },
  {
   "cell_type": "code",
   "execution_count": 45,
   "metadata": {},
   "outputs": [
    {
     "data": {
      "image/png": "[encoded data removed]",
      "text/latex": [
       "$\\displaystyle - g m_{b} \\operatorname{sin}\\left(q_{2}\\right) + \\frac{3 \\left(k_{T} q_{3} + T\\right)}{2 l}$"
      ],
      "text/plain": [
       "                 3⋅(k_T⋅q₃ + T)\n",
       "-g⋅m_b⋅sin(q₂) + ──────────────\n",
       "                      2⋅l      "
      ]
     },
     "execution_count": 45,
     "metadata": {},
     "output_type": "execute_result"
    }
   ],
   "source": [
    "Bo.partial_velocity(N, u2).dot(Rbo) + B.partial_velocity(N, u2).dot(TB)"
   ]
  },
  {
   "cell_type": "code",
   "execution_count": 46,
   "metadata": {},
   "outputs": [],
   "source": [
    "u = [u1, u2, u3]"
   ]
  },
  {
   "cell_type": "code",
   "execution_count": 47,
   "metadata": {},
   "outputs": [
    {
     "data": {
      "image/png": "[encoded data removed]",
      "text/latex": [
       "$\\displaystyle \\left[ - c u_{1} + g m_{b} \\operatorname{sin}\\left(q_{2}\\right) \\operatorname{cos}\\left(q_{2}\\right) + \\frac{3 g m_{c} \\left(\\operatorname{sin}\\left(q_{2}\\right) \\operatorname{cos}\\left(q_{3}\\right) + \\operatorname{sin}\\left(q_{3}\\right) \\operatorname{cos}\\left(q_{2}\\right)\\right) \\operatorname{cos}\\left(q_{2}\\right)}{2} + \\frac{3 g m_{c} \\operatorname{sin}\\left(q_{2}\\right) \\operatorname{cos}\\left(q_{2}\\right)}{2} - k q_{1} + F - \\frac{3 \\left(k_{T} q_{3} + T\\right) \\operatorname{cos}\\left(q_{2}\\right)}{2 l}, \\  - g m_{b} \\operatorname{sin}\\left(q_{2}\\right) - \\frac{3 g m_{c} \\left(\\operatorname{sin}\\left(q_{2}\\right) \\operatorname{cos}\\left(q_{3}\\right) + \\operatorname{sin}\\left(q_{3}\\right) \\operatorname{cos}\\left(q_{2}\\right)\\right)}{2} - \\frac{3 g m_{c} \\operatorname{sin}\\left(q_{2}\\right)}{2} + \\frac{3 \\left(k_{T} q_{3} + T\\right)}{2 l}, \\  - g l m_{c} \\left(\\operatorname{sin}\\left(q_{2}\\right) \\operatorname{cos}\\left(q_{3}\\right) + \\operatorname{sin}\\left(q_{3}\\right) \\operatorname{cos}\\left(q_{2}\\right)\\right)\\right]$"
      ],
      "text/plain": [
       "⎡                                3⋅g⋅m_c⋅(sin(q₂)⋅cos(q₃) + sin(q₃)⋅cos(q₂))⋅c\n",
       "⎢-c⋅u₁ + g⋅m_b⋅sin(q₂)⋅cos(q₂) + ─────────────────────────────────────────────\n",
       "⎣                                                         2                   \n",
       "\n",
       "os(q₂)   3⋅g⋅m_c⋅sin(q₂)⋅cos(q₂)              3⋅(k_T⋅q₃ + T)⋅cos(q₂)          \n",
       "────── + ─────────────────────── - k⋅q₁ + F - ──────────────────────, -g⋅m_b⋅s\n",
       "                    2                                  2⋅l                    \n",
       "\n",
       "         3⋅g⋅m_c⋅(sin(q₂)⋅cos(q₃) + sin(q₃)⋅cos(q₂))   3⋅g⋅m_c⋅sin(q₂)   3⋅(k_\n",
       "in(q₂) - ─────────────────────────────────────────── - ─────────────── + ─────\n",
       "                              2                               2               \n",
       "\n",
       "T⋅q₃ + T)                                              ⎤\n",
       "─────────, -g⋅l⋅m_c⋅(sin(q₂)⋅cos(q₃) + sin(q₃)⋅cos(q₂))⎥\n",
       "2⋅l                                                    ⎦"
      ]
     },
     "execution_count": 47,
     "metadata": {},
     "output_type": "execute_result"
    }
   ],
   "source": [
    "Fr = []\n",
    "\n",
    "for ur in u:\n",
    "    Fr.append(Pab.partial_velocity(N, ur).dot(Rab) + # particle\n",
    "              Pc.partial_velocity(N, ur).dot(Rc) + # particle\n",
    "              Bo.partial_velocity(N, ur).dot(Rbo) + B.partial_velocity(N, ur).dot(TB)) # rigid body\n",
    "    \n",
    "Fr"
   ]
  },
  {
   "cell_type": "code",
   "execution_count": 48,
   "metadata": {},
   "outputs": [
    {
     "data": {
      "image/png": "[encoded data removed]",
      "text/latex": [
       "$\\displaystyle \\left[\\begin{matrix}- c u_{1} + \\frac{g m_{b} \\operatorname{sin}\\left(2 q_{2}\\right)}{2} + \\frac{3 g m_{c} \\operatorname{sin}\\left(q_{2} + q_{3}\\right) \\operatorname{cos}\\left(q_{2}\\right)}{2} + \\frac{3 g m_{c} \\operatorname{sin}\\left(2 q_{2}\\right)}{4} - k q_{1} + F - \\frac{3 \\left(k_{T} q_{3} + T\\right) \\operatorname{cos}\\left(q_{2}\\right)}{2 l}\\\\- g m_{b} \\operatorname{sin}\\left(q_{2}\\right) - \\frac{3 g m_{c} \\operatorname{sin}\\left(q_{2} + q_{3}\\right)}{2} - \\frac{3 g m_{c} \\operatorname{sin}\\left(q_{2}\\right)}{2} + \\frac{3 \\left(k_{T} q_{3} + T\\right)}{2 l}\\\\- g l m_{c} \\operatorname{sin}\\left(q_{2} + q_{3}\\right)\\end{matrix}\\right]$"
      ],
      "text/plain": [
       "⎡        g⋅m_b⋅sin(2⋅q₂)   3⋅g⋅m_c⋅sin(q₂ + q₃)⋅cos(q₂)   3⋅g⋅m_c⋅sin(2⋅q₂)   \n",
       "⎢-c⋅u₁ + ─────────────── + ──────────────────────────── + ───────────────── - \n",
       "⎢               2                       2                         4           \n",
       "⎢                                                                             \n",
       "⎢                                    3⋅g⋅m_c⋅sin(q₂ + q₃)   3⋅g⋅m_c⋅sin(q₂)   \n",
       "⎢                   -g⋅m_b⋅sin(q₂) - ──────────────────── - ─────────────── + \n",
       "⎢                                             2                    2          \n",
       "⎢                                                                             \n",
       "⎣                                            -g⋅l⋅m_c⋅sin(q₂ + q₃)            \n",
       "\n",
       "           3⋅(k_T⋅q₃ + T)⋅cos(q₂)⎤\n",
       "k⋅q₁ + F - ──────────────────────⎥\n",
       "                    2⋅l          ⎥\n",
       "                                 ⎥\n",
       "3⋅(k_T⋅q₃ + T)                   ⎥\n",
       "──────────────                   ⎥\n",
       "     2⋅l                         ⎥\n",
       "                                 ⎥\n",
       "                                 ⎦"
      ]
     },
     "execution_count": 48,
     "metadata": {},
     "output_type": "execute_result"
    }
   ],
   "source": [
    "Fr = sm.trigsimp(sm.Matrix(Fr))\n",
    "Fr"
   ]
  },
  {
   "cell_type": "markdown",
   "metadata": {},
   "source": [
    "# Generalized Inertia Forces"
   ]
  },
  {
   "cell_type": "code",
   "execution_count": 49,
   "metadata": {},
   "outputs": [],
   "source": [
    "Frstar = []\n",
    "\n",
    "for ur in u:\n",
    "    Frstar.append(Pab.partial_velocity(N, ur).dot(-ma*a_Pab_N) +\n",
    "                  Pc.partial_velocity(N, ur).dot(-mc*a_Pc_N) +\n",
    "                  Bo.partial_velocity(N, ur).dot(-mb*a_Bo_N) +\n",
    "                  B.partial_velocity(N, ur).dot(-alpha_B_N.dot(IB) -\n",
    "                                                B.ang_vel_in(N).cross(IB.dot(B.ang_vel_in(N)))))\n",
    "    \n",
    "Frstar = sm.Matrix(Frstar)"
   ]
  },
  {
   "cell_type": "code",
   "execution_count": 50,
   "metadata": {},
   "outputs": [],
   "source": [
    "Frstar = sm.trigsimp(Frstar)"
   ]
  },
  {
   "cell_type": "code",
   "execution_count": 51,
   "metadata": {},
   "outputs": [
    {
     "data": {
      "image/png": "[encoded data removed]",
      "text/latex": [
       "$\\displaystyle \\left[\\begin{matrix}- \\frac{9 I_{B_bo} \\operatorname{cos}^{2}\\left(q_{2}\\right) \\dot{u}_{1}}{4 l^{2}} + \\frac{9 I_{B_bo} \\operatorname{cos}\\left(q_{2}\\right) \\dot{u}_{2}}{4 l^{2}} + \\frac{27 I_{B_bo} u^{2}_{1} \\operatorname{sin}^{3}\\left(q_{2}\\right)}{8 l^{3}} - \\frac{27 I_{B_bo} u^{2}_{1} \\operatorname{sin}\\left(q_{2}\\right)}{8 l^{3}} + \\frac{27 I_{B_bo} u_{1} u_{2} \\operatorname{sin}\\left(q_{2}\\right) \\operatorname{cos}\\left(q_{2}\\right)}{8 l^{3}} + l m_{c} u^{2}_{3} \\operatorname{sin}\\left(q_{2}\\right) \\operatorname{cos}\\left(q_{3}\\right) - \\frac{l m_{c} u^{2}_{3} \\operatorname{sin}\\left(q_{3}\\right) \\operatorname{cos}\\left(q_{2}\\right)}{2} + l m_{c} \\operatorname{sin}\\left(q_{2}\\right) \\operatorname{sin}\\left(q_{3}\\right) \\dot{u}_{3} + \\frac{l m_{c} \\operatorname{cos}\\left(q_{2}\\right) \\operatorname{cos}\\left(q_{3}\\right) \\dot{u}_{3}}{2} + \\frac{3 l m_{c} \\operatorname{cos}\\left(q_{2}\\right) \\dot{u}_{3}}{2} - m_{a} \\dot{u}_{1} - m_{b} u_{1} \\operatorname{sin}\\left(q_{2}\\right) \\operatorname{cos}\\left(q_{2}\\right) \\dot{q}_{2} + m_{b} \\operatorname{cos}^{2}\\left(q_{2}\\right) \\dot{u}_{1} - m_{b} \\dot{u}_{1} - 3 m_{c} u_{1} u_{3} \\operatorname{sin}\\left(q_{2} + q_{3}\\right) \\operatorname{cos}\\left(q_{2}\\right) + \\frac{9 m_{c} u_{1} u_{3} \\operatorname{sin}\\left(q_{3}\\right) \\operatorname{cos}^{2}\\left(q_{2}\\right)}{2} + 3 m_{c} u_{2} u_{3} \\operatorname{sin}\\left(q_{2}\\right) \\operatorname{cos}\\left(q_{3}\\right) - \\frac{3 m_{c} u_{2} u_{3} \\operatorname{sin}\\left(q_{3}\\right) \\operatorname{cos}\\left(q_{2}\\right)}{2} + \\frac{3 m_{c} \\operatorname{sin}\\left(q_{2}\\right) \\operatorname{sin}\\left(q_{3}\\right) \\dot{u}_{2}}{2} + 3 m_{c} \\operatorname{cos}\\left(q_{2} + q_{3}\\right) \\operatorname{cos}\\left(q_{2}\\right) \\dot{u}_{1} - \\frac{9 m_{c} \\operatorname{cos}^{2}\\left(q_{2}\\right) \\operatorname{cos}\\left(q_{3}\\right) \\dot{u}_{1}}{2} - \\frac{3 m_{c} \\operatorname{cos}^{2}\\left(q_{2}\\right) \\dot{u}_{1}}{2} + 3 m_{c} \\operatorname{cos}\\left(q_{2}\\right) \\operatorname{cos}\\left(q_{3}\\right) \\dot{u}_{2} + 3 m_{c} \\operatorname{cos}\\left(q_{2}\\right) \\dot{u}_{2} - m_{c} \\dot{u}_{1} - \\frac{3 m_{b} u_{1} u_{2} \\operatorname{sin}\\left(q_{2}\\right) \\operatorname{cos}\\left(q_{2}\\right)}{2 l} + \\frac{3 m_{b} u^{2}_{2} \\operatorname{sin}\\left(q_{2}\\right)}{2 l} - \\frac{9 m_{c} u^{2}_{1} \\operatorname{sin}\\left(q_{2} - q_{3}\\right) \\operatorname{cos}^{2}\\left(q_{2}\\right)}{8 l} + \\frac{9 m_{c} u^{2}_{1} \\operatorname{sin}\\left(q_{2} - q_{3}\\right)}{8 l} - \\frac{9 m_{c} u^{2}_{1} \\operatorname{sin}\\left(q_{2} + q_{3}\\right)}{8 l} + \\frac{9 m_{c} u^{2}_{1} \\operatorname{sin}^{3}\\left(q_{2}\\right)}{2 l} - \\frac{9 m_{c} u^{2}_{1} \\operatorname{sin}\\left(q_{2}\\right) \\operatorname{cos}^{2}\\left(q_{2}\\right) \\operatorname{cos}\\left(q_{3}\\right)}{8 l} + \\frac{9 m_{c} u^{2}_{1} \\operatorname{sin}\\left(q_{2}\\right) \\operatorname{cos}^{2}\\left(q_{2}\\right)}{4 l} - \\frac{9 m_{c} u^{2}_{1} \\operatorname{sin}\\left(q_{2}\\right)}{2 l} + \\frac{27 m_{c} u^{2}_{1} \\operatorname{sin}\\left(q_{3}\\right) \\operatorname{cos}^{3}\\left(q_{2}\\right)}{8 l} - \\frac{27 m_{c} u_{1} u_{2} \\operatorname{sin}\\left(q_{3}\\right) \\operatorname{cos}^{2}\\left(q_{2}\\right)}{4 l} + \\frac{9 m_{c} u_{1} u_{2} \\operatorname{sin}\\left(q_{3}\\right)}{4 l} + \\frac{9 m_{c} u^{2}_{2} \\operatorname{sin}\\left(q_{2} + q_{3}\\right)}{4 l} + \\frac{9 m_{c} u^{2}_{2} \\operatorname{sin}\\left(q_{2}\\right)}{4 l}\\\\\\frac{9 I_{B_bo} \\operatorname{cos}\\left(q_{2}\\right) \\dot{u}_{1}}{4 l^{2}} - \\frac{9 I_{B_bo} \\dot{u}_{2}}{4 l^{2}} + \\frac{27 I_{B_bo} u^{2}_{1} \\operatorname{sin}\\left(2 q_{2}\\right)}{16 l^{3}} - \\frac{27 I_{B_bo} u_{1} u_{2} \\operatorname{sin}\\left(q_{2}\\right)}{8 l^{3}} + \\frac{3 l m_{c} u^{2}_{3} \\operatorname{sin}\\left(q_{3}\\right)}{2} - \\frac{3 l m_{c} \\operatorname{cos}\\left(q_{3}\\right) \\dot{u}_{3}}{2} - \\frac{3 l m_{c} \\dot{u}_{3}}{2} - m_{b} \\dot{u}_{2} + \\frac{9 m_{c} u_{1} u_{3} \\operatorname{sin}\\left(q_{2} - q_{3}\\right)}{4} - \\frac{9 m_{c} u_{1} u_{3} \\operatorname{sin}\\left(q_{2} + q_{3}\\right)}{4} + \\frac{9 m_{c} u_{2} u_{3} \\operatorname{sin}\\left(q_{3}\\right)}{2} + \\frac{9 m_{c} \\operatorname{cos}\\left(q_{2} - q_{3}\\right) \\dot{u}_{1}}{4} + \\frac{3 m_{c} \\operatorname{cos}\\left(q_{2} + q_{3}\\right) \\dot{u}_{1}}{4} + 3 m_{c} \\operatorname{cos}\\left(q_{2}\\right) \\dot{u}_{1} - \\frac{9 m_{c} \\operatorname{cos}\\left(q_{3}\\right) \\dot{u}_{2}}{2} - \\frac{9 m_{c} \\dot{u}_{2}}{2} + \\frac{3 m_{b} u^{2}_{1} \\operatorname{sin}\\left(2 q_{2}\\right)}{4 l} - \\frac{3 m_{b} u_{1} u_{2} \\operatorname{sin}\\left(q_{2}\\right)}{2 l} + \\frac{27 m_{c} u^{2}_{1} \\operatorname{sin}\\left(2 q_{2} - q_{3}\\right)}{16 l} + \\frac{27 m_{c} u^{2}_{1} \\operatorname{sin}\\left(2 q_{2} + q_{3}\\right)}{16 l} + \\frac{27 m_{c} u^{2}_{1} \\operatorname{sin}\\left(2 q_{2}\\right)}{8 l} - \\frac{27 m_{c} u_{1} u_{2} \\operatorname{sin}\\left(q_{2} - q_{3}\\right)}{8 l} - \\frac{27 m_{c} u_{1} u_{2} \\operatorname{sin}\\left(q_{2} + q_{3}\\right)}{8 l} - \\frac{27 m_{c} u_{1} u_{2} \\operatorname{sin}\\left(q_{2}\\right)}{4 l}\\\\- \\frac{m_{c} \\left(2 l \\left(2 l \\dot{u}_{3} + 2 \\operatorname{cos}\\left(q_{2} + q_{3}\\right) \\dot{u}_{1} - 3 \\operatorname{cos}\\left(q_{2}\\right) \\dot{u}_{1} + 3 \\dot{u}_{2}\\right) - 3 \\left(2 l \\left(\\operatorname{cos}\\left(q_{2}\\right) \\dot{u}_{1} - \\dot{u}_{2}\\right) + 3 \\left(u_{1} \\operatorname{cos}\\left(q_{2}\\right) - u_{2}\\right) u_{1} \\operatorname{sin}\\left(q_{2}\\right)\\right) \\operatorname{cos}\\left(q_{3}\\right) + 9 \\left(u_{1} \\operatorname{cos}\\left(q_{2}\\right) - u_{2}\\right)^{2} \\operatorname{sin}\\left(q_{3}\\right) - 9 \\left(u_{1} \\operatorname{cos}\\left(q_{2}\\right) - u_{2}\\right) u_{1} \\operatorname{sin}\\left(q_{2}\\right)\\right)}{4}\\end{matrix}\\right]$"
      ],
      "text/plain": [
       "⎡                2                                                  2    3    \n",
       "⎢  9⋅I_{B_bo}⋅cos (q₂)⋅u₁̇   9⋅I_{B_bo}⋅cos(q₂)⋅u₂̇   27⋅I_{B_bo}⋅u₁ ⋅sin (q₂)\n",
       "⎢- ─────────────────────── + ────────────────────── + ────────────────────────\n",
       "⎢               2                        2                         3          \n",
       "⎢            4⋅l                      4⋅l                       8⋅l           \n",
       "⎢                                                                             \n",
       "⎢                                                                             \n",
       "⎢                                                                             \n",
       "⎢                                                                             \n",
       "⎢                                                                             \n",
       "⎢                                                                             \n",
       "⎢                                                                             \n",
       "⎢                                                                             \n",
       "⎢                                                                             \n",
       "⎢                                                                             \n",
       "⎣                                                                             \n",
       "\n",
       "                 2                                                            \n",
       "   27⋅I_{B_bo}⋅u₁ ⋅sin(q₂)   27⋅I_{B_bo}⋅u₁⋅u₂⋅sin(q₂)⋅cos(q₂)           2    \n",
       " - ─────────────────────── + ───────────────────────────────── + l⋅m_c⋅u₃ ⋅sin\n",
       "                3                              3                              \n",
       "             8⋅l                            8⋅l                               \n",
       "                                                                              \n",
       "                                                                              \n",
       "                                                                              \n",
       "                                                                              \n",
       "                                                                              \n",
       "                                                                              \n",
       "                                                                              \n",
       "                                                                              \n",
       "                                                                              \n",
       "                                                                              \n",
       "                                                                              \n",
       "\n",
       "                       2                                                      \n",
       "               l⋅m_c⋅u₃ ⋅sin(q₃)⋅cos(q₂)                               l⋅m_c⋅c\n",
       "(q₂)⋅cos(q₃) - ───────────────────────── + l⋅m_c⋅sin(q₂)⋅sin(q₃)⋅u₃̇ + ───────\n",
       "                           2                                                  \n",
       "                                                                              \n",
       "                                                                              \n",
       "                                                                              \n",
       "                                                                            9⋅\n",
       "                                                                            ──\n",
       "                                                                              \n",
       "                                                                              \n",
       "                                                                              \n",
       "                                                                              \n",
       "                                                                              \n",
       "                                                                              \n",
       "                                                                              \n",
       "\n",
       "                                                                              \n",
       "os(q₂)⋅cos(q₃)⋅u₃̇   3⋅l⋅m_c⋅cos(q₂)⋅u₃̇                                      \n",
       "────────────────── + ─────────────────── - mₐ⋅u₁̇ - m_b⋅u₁⋅sin(q₂)⋅cos(q₂)⋅q₂̇\n",
       "     2                        2                                               \n",
       "                                                                              \n",
       "                                                                              \n",
       "                                                      2                       \n",
       "I_{B_bo}⋅cos(q₂)⋅u₁̇   9⋅I_{B_bo}⋅u₂̇   27⋅I_{B_bo}⋅u₁ ⋅sin(2⋅q₂)   27⋅I_{B_bo\n",
       "──────────────────── - ────────────── + ───────────────────────── - ──────────\n",
       "          2                    2                      3                       \n",
       "       4⋅l                  4⋅l                   16⋅l                        \n",
       "                                                                              \n",
       "                                                                              \n",
       "                                                                              \n",
       "                                                                              \n",
       "                                                                              \n",
       "\n",
       "                                                                              \n",
       "          2                                                        9⋅m_c⋅u₁⋅u₃\n",
       " + m_b⋅cos (q₂)⋅u₁̇ - m_b⋅u₁̇ - 3⋅m_c⋅u₁⋅u₃⋅sin(q₂ + q₃)⋅cos(q₂) + ───────────\n",
       "                                                                              \n",
       "                                                                              \n",
       "                                                                              \n",
       "                            2                                                 \n",
       "}⋅u₁⋅u₂⋅sin(q₂)   3⋅l⋅m_c⋅u₃ ⋅sin(q₃)   3⋅l⋅m_c⋅cos(q₃)⋅u₃̇   3⋅l⋅m_c⋅u₃̇     \n",
       "─────────────── + ─────────────────── - ─────────────────── - ─────────── - m_\n",
       "    3                      2                     2                 2          \n",
       " 8⋅l                                                                          \n",
       "                                                                              \n",
       "                                                                              \n",
       "                                                                              \n",
       "                                                                              \n",
       "                                                                              \n",
       "\n",
       "            2                                                                 \n",
       "⋅sin(q₃)⋅cos (q₂)                                 3⋅m_c⋅u₂⋅u₃⋅sin(q₃)⋅cos(q₂) \n",
       "───────────────── + 3⋅m_c⋅u₂⋅u₃⋅sin(q₂)⋅cos(q₃) - ─────────────────────────── \n",
       "  2                                                            2              \n",
       "                                                                              \n",
       "                                                                              \n",
       "                                                                              \n",
       "        9⋅m_c⋅u₁⋅u₃⋅sin(q₂ - q₃)   9⋅m_c⋅u₁⋅u₃⋅sin(q₂ + q₃)   9⋅m_c⋅u₂⋅u₃⋅sin(\n",
       "b⋅u₂̇ + ──────────────────────── - ──────────────────────── + ────────────────\n",
       "                   4                          4                        2      \n",
       "                                                                              \n",
       "                                                                              \n",
       "                  ⎛                                                           \n",
       "             -m_c⋅⎝2⋅l⋅(2⋅l⋅u₃̇ + 2⋅cos(q₂ + q₃)⋅u₁̇ - 3⋅cos(q₂)⋅u₁̇ + 3⋅u₂̇) \n",
       "             ─────────────────────────────────────────────────────────────────\n",
       "                                                                              \n",
       "\n",
       "                                                                        2     \n",
       "  3⋅m_c⋅sin(q₂)⋅sin(q₃)⋅u₂̇                                    9⋅m_c⋅cos (q₂)⋅\n",
       "+ ───────────────────────── + 3⋅m_c⋅cos(q₂ + q₃)⋅cos(q₂)⋅u₁̇ - ───────────────\n",
       "              2                                                            2  \n",
       "                                                                              \n",
       "                                                                              \n",
       "                                                                              \n",
       "q₃)   9⋅m_c⋅cos(q₂ - q₃)⋅u₁̇   3⋅m_c⋅cos(q₂ + q₃)⋅u₁̇                       9⋅\n",
       "─── + ────────────────────── + ────────────────────── + 3⋅m_c⋅cos(q₂)⋅u₁̇ - ──\n",
       "                4                        4                                    \n",
       "                                                                              \n",
       "                                                                              \n",
       "                                                                              \n",
       "- 3⋅(2⋅l⋅(cos(q₂)⋅u₁̇ - u₂̇) + 3⋅(u₁⋅cos(q₂) - u₂)⋅u₁⋅sin(q₂))⋅cos(q₃) + 9⋅(u₁\n",
       "──────────────────────────────────────────────────────────────────────────────\n",
       "                                   4                                          \n",
       "\n",
       "                       2                                                      \n",
       "cos(q₃)⋅u₁̇   3⋅m_c⋅cos (q₂)⋅u₁̇                                              \n",
       "─────────── - ────────────────── + 3⋅m_c⋅cos(q₂)⋅cos(q₃)⋅u₂̇ + 3⋅m_c⋅cos(q₂)⋅u\n",
       "                      2                                                       \n",
       "                                                                              \n",
       "                                                                              \n",
       "                                      2                                       \n",
       "m_c⋅cos(q₃)⋅u₂̇   9⋅m_c⋅u₂̇   3⋅m_b⋅u₁ ⋅sin(2⋅q₂)   3⋅m_b⋅u₁⋅u₂⋅sin(q₂)   27⋅m\n",
       "─────────────── - ───────── + ─────────────────── - ─────────────────── + ────\n",
       "      2               2               4⋅l                   2⋅l               \n",
       "                                                                              \n",
       "                                                                              \n",
       "              2                                         ⎞                     \n",
       "⋅cos(q₂) - u₂) ⋅sin(q₃) - 9⋅(u₁⋅cos(q₂) - u₂)⋅u₁⋅sin(q₂)⎠                     \n",
       "──────────────────────────────────────────────────────────                    \n",
       "                                                                              \n",
       "\n",
       "                                                     2                   2    \n",
       "               3⋅m_b⋅u₁⋅u₂⋅sin(q₂)⋅cos(q₂)   3⋅m_b⋅u₂ ⋅sin(q₂)   9⋅m_c⋅u₁ ⋅sin\n",
       "₂̇ - m_c⋅u₁̇ - ─────────────────────────── + ───────────────── - ─────────────\n",
       "                           2⋅l                      2⋅l                       \n",
       "                                                                              \n",
       "                                                                              \n",
       "     2                           2                           2                \n",
       "_c⋅u₁ ⋅sin(2⋅q₂ - q₃)   27⋅m_c⋅u₁ ⋅sin(2⋅q₂ + q₃)   27⋅m_c⋅u₁ ⋅sin(2⋅q₂)   27⋅\n",
       "───────────────────── + ───────────────────────── + ──────────────────── - ───\n",
       "       16⋅l                        16⋅l                     8⋅l               \n",
       "                                                                              \n",
       "                                                                              \n",
       "                                                                              \n",
       "                                                                              \n",
       "                                                                              \n",
       "                                                                              \n",
       "\n",
       "             2               2                        2                       \n",
       "(q₂ - q₃)⋅cos (q₂)   9⋅m_c⋅u₁ ⋅sin(q₂ - q₃)   9⋅m_c⋅u₁ ⋅sin(q₂ + q₃)   9⋅m_c⋅u\n",
       "────────────────── + ────────────────────── - ────────────────────── + ───────\n",
       " 8⋅l                          8⋅l                      8⋅l                    \n",
       "                                                                              \n",
       "                                                                              \n",
       "                                                                              \n",
       "m_c⋅u₁⋅u₂⋅sin(q₂ - q₃)   27⋅m_c⋅u₁⋅u₂⋅sin(q₂ + q₃)   27⋅m_c⋅u₁⋅u₂⋅sin(q₂)     \n",
       "────────────────────── - ───────────────────────── - ────────────────────     \n",
       "        8⋅l                         8⋅l                      4⋅l              \n",
       "                                                                              \n",
       "                                                                              \n",
       "                                                                              \n",
       "                                                                              \n",
       "                                                                              \n",
       "                                                                              \n",
       "\n",
       " 2    3               2            2                       2            2     \n",
       "₁ ⋅sin (q₂)   9⋅m_c⋅u₁ ⋅sin(q₂)⋅cos (q₂)⋅cos(q₃)   9⋅m_c⋅u₁ ⋅sin(q₂)⋅cos (q₂) \n",
       "─────────── - ────────────────────────────────── + ────────────────────────── \n",
       "2⋅l                          8⋅l                              4⋅l             \n",
       "                                                                              \n",
       "                                                                              \n",
       "                                                                              \n",
       "                                                                              \n",
       "                                                                              \n",
       "                                                                              \n",
       "                                                                              \n",
       "                                                                              \n",
       "                                                                              \n",
       "                                                                              \n",
       "                                                                              \n",
       "                                                                              \n",
       "\n",
       "          2                    2            3                               2 \n",
       "  9⋅m_c⋅u₁ ⋅sin(q₂)   27⋅m_c⋅u₁ ⋅sin(q₃)⋅cos (q₂)   27⋅m_c⋅u₁⋅u₂⋅sin(q₃)⋅cos (\n",
       "- ───────────────── + ─────────────────────────── - ──────────────────────────\n",
       "         2⋅l                      8⋅l                            4⋅l          \n",
       "                                                                              \n",
       "                                                                              \n",
       "                                                                              \n",
       "                                                                              \n",
       "                                                                              \n",
       "                                                                              \n",
       "                                                                              \n",
       "                                                                              \n",
       "                                                                              \n",
       "                                                                              \n",
       "                                                                              \n",
       "                                                                              \n",
       "\n",
       "                                    2                        2        ⎤\n",
       "q₂)   9⋅m_c⋅u₁⋅u₂⋅sin(q₃)   9⋅m_c⋅u₂ ⋅sin(q₂ + q₃)   9⋅m_c⋅u₂ ⋅sin(q₂)⎥\n",
       "─── + ─────────────────── + ────────────────────── + ─────────────────⎥\n",
       "              4⋅l                    4⋅l                    4⋅l       ⎥\n",
       "                                                                      ⎥\n",
       "                                                                      ⎥\n",
       "                                                                      ⎥\n",
       "                                                                      ⎥\n",
       "                                                                      ⎥\n",
       "                                                                      ⎥\n",
       "                                                                      ⎥\n",
       "                                                                      ⎥\n",
       "                                                                      ⎥\n",
       "                                                                      ⎥\n",
       "                                                                      ⎥\n",
       "                                                                      ⎦"
      ]
     },
     "execution_count": 51,
     "metadata": {},
     "output_type": "execute_result"
    }
   ],
   "source": [
    "Frstar"
   ]
  },
  {
   "cell_type": "code",
   "execution_count": 52,
   "metadata": {},
   "outputs": [],
   "source": [
    "f = Fr + Frstar"
   ]
  },
  {
   "cell_type": "code",
   "execution_count": 53,
   "metadata": {},
   "outputs": [
    {
     "data": {
      "image/png": "[encoded data removed]",
      "text/latex": [
       "$\\displaystyle \\left\\{F, T, q_{1}, q_{2}, q_{3}, u_{1}, u_{2}, u_{3}, \\dot{q}_{2}, \\dot{u}_{1}, \\dot{u}_{2}, \\dot{u}_{3}\\right\\}$"
      ],
      "text/plain": [
       "{F, T, q₁, q₂, q₃, u₁, u₂, u₃, q₂̇, u₁̇, u₂̇, u₃̇}"
      ]
     },
     "execution_count": 53,
     "metadata": {},
     "output_type": "execute_result"
    }
   ],
   "source": [
    "me.find_dynamicsymbols(f)"
   ]
  },
  {
   "cell_type": "code",
   "execution_count": 54,
   "metadata": {},
   "outputs": [
    {
     "data": {
      "image/png": "[encoded data removed]",
      "text/latex": [
       "$\\displaystyle \\left\\{I_{B_bo}, c, g, k, k_{T}, l, m_{a}, m_{b}, m_{c}, t\\right\\}$"
      ],
      "text/plain": [
       "{I_{B_bo}, c, g, k, k_T, l, mₐ, m_b, m_c, t}"
      ]
     },
     "execution_count": 54,
     "metadata": {},
     "output_type": "execute_result"
    }
   ],
   "source": [
    "f.free_symbols"
   ]
  },
  {
   "cell_type": "markdown",
   "metadata": {},
   "source": [
    "# Put in first order form"
   ]
  },
  {
   "cell_type": "code",
   "execution_count": 55,
   "metadata": {},
   "outputs": [
    {
     "data": {
      "image/png": "[encoded data removed]",
      "text/latex": [
       "$\\displaystyle \\left[\\begin{matrix}u_{1}\\\\u_{2}\\\\u_{3}\\end{matrix}\\right]$"
      ],
      "text/plain": [
       "⎡u₁⎤\n",
       "⎢  ⎥\n",
       "⎢u₂⎥\n",
       "⎢  ⎥\n",
       "⎣u₃⎦"
      ]
     },
     "execution_count": 55,
     "metadata": {},
     "output_type": "execute_result"
    }
   ],
   "source": [
    "u = sm.Matrix(u)\n",
    "u"
   ]
  },
  {
   "cell_type": "code",
   "execution_count": 56,
   "metadata": {},
   "outputs": [
    {
     "data": {
      "image/png": "[encoded data removed]",
      "text/latex": [
       "$\\displaystyle \\left[\\begin{matrix}\\dot{u}_{1}\\\\\\dot{u}_{2}\\\\\\dot{u}_{3}\\end{matrix}\\right]$"
      ],
      "text/plain": [
       "⎡u₁̇⎤\n",
       "⎢   ⎥\n",
       "⎢u₂̇⎥\n",
       "⎢   ⎥\n",
       "⎣u₃̇⎦"
      ]
     },
     "execution_count": 56,
     "metadata": {},
     "output_type": "execute_result"
    }
   ],
   "source": [
    "u.diff()"
   ]
  },
  {
   "cell_type": "code",
   "execution_count": 57,
   "metadata": {},
   "outputs": [
    {
     "data": {
      "image/png": "[encoded data removed]",
      "text/latex": [
       "$\\displaystyle \\left[\\begin{matrix}- \\frac{9 I_{B_bo} \\operatorname{cos}^{2}\\left(q_{2}\\right)}{4 l^{2}} - m_{a} + m_{b} \\operatorname{cos}^{2}\\left(q_{2}\\right) - m_{b} + 3 m_{c} \\operatorname{cos}\\left(q_{2} + q_{3}\\right) \\operatorname{cos}\\left(q_{2}\\right) - \\frac{9 m_{c} \\operatorname{cos}^{2}\\left(q_{2}\\right) \\operatorname{cos}\\left(q_{3}\\right)}{2} - \\frac{3 m_{c} \\operatorname{cos}^{2}\\left(q_{2}\\right)}{2} - m_{c} & \\frac{9 I_{B_bo} \\operatorname{cos}\\left(q_{2}\\right)}{4 l^{2}} + \\frac{3 m_{c} \\operatorname{sin}\\left(q_{2}\\right) \\operatorname{sin}\\left(q_{3}\\right)}{2} + 3 m_{c} \\operatorname{cos}\\left(q_{2}\\right) \\operatorname{cos}\\left(q_{3}\\right) + 3 m_{c} \\operatorname{cos}\\left(q_{2}\\right) & \\frac{l m_{c} \\left(3 \\operatorname{cos}\\left(q_{2} - q_{3}\\right) - \\operatorname{cos}\\left(q_{2} + q_{3}\\right) + 6 \\operatorname{cos}\\left(q_{2}\\right)\\right)}{4}\\\\\\frac{9 I_{B_bo} \\operatorname{cos}\\left(q_{2}\\right)}{4 l^{2}} + \\frac{9 m_{c} \\operatorname{cos}\\left(q_{2} - q_{3}\\right)}{4} + \\frac{3 m_{c} \\operatorname{cos}\\left(q_{2} + q_{3}\\right)}{4} + 3 m_{c} \\operatorname{cos}\\left(q_{2}\\right) & - \\frac{9 I_{B_bo}}{4 l^{2}} - m_{b} - \\frac{9 m_{c} \\operatorname{cos}\\left(q_{3}\\right)}{2} - \\frac{9 m_{c}}{2} & - \\frac{3 l m_{c} \\left(\\operatorname{cos}\\left(q_{3}\\right) + 1\\right)}{2}\\\\- \\frac{l m_{c} \\left(- 3 \\operatorname{cos}\\left(q_{2} - q_{3}\\right) + \\operatorname{cos}\\left(q_{2} + q_{3}\\right) - 6 \\operatorname{cos}\\left(q_{2}\\right)\\right)}{4} & - \\frac{3 l m_{c} \\left(\\operatorname{cos}\\left(q_{3}\\right) + 1\\right)}{2} & - l^{2} m_{c}\\end{matrix}\\right]$"
      ],
      "text/plain": [
       "⎡                2                                                            \n",
       "⎢  9⋅I_{B_bo}⋅cos (q₂)               2                                        \n",
       "⎢- ─────────────────── - mₐ + m_b⋅cos (q₂) - m_b + 3⋅m_c⋅cos(q₂ + q₃)⋅cos(q₂) \n",
       "⎢             2                                                               \n",
       "⎢          4⋅l                                                                \n",
       "⎢                                                                             \n",
       "⎢                        9⋅I_{B_bo}⋅cos(q₂)   9⋅m_c⋅cos(q₂ - q₃)   3⋅m_c⋅cos(q\n",
       "⎢                        ────────────────── + ────────────────── + ───────────\n",
       "⎢                                  2                  4                    4  \n",
       "⎢                               4⋅l                                           \n",
       "⎢                                                                             \n",
       "⎢                                    -l⋅m_c⋅(-3⋅cos(q₂ - q₃) + cos(q₂ + q₃) - \n",
       "⎢                                    ─────────────────────────────────────────\n",
       "⎣                                                             4               \n",
       "\n",
       "           2                        2                                         \n",
       "  9⋅m_c⋅cos (q₂)⋅cos(q₃)   3⋅m_c⋅cos (q₂)        9⋅I_{B_bo}⋅cos(q₂)   3⋅m_c⋅si\n",
       "- ────────────────────── - ────────────── - m_c  ────────────────── + ────────\n",
       "            2                    2                         2                  \n",
       "                                                        4⋅l                   \n",
       "                                                                              \n",
       "₂ + q₃)                                                                9⋅I_{B_\n",
       "─────── + 3⋅m_c⋅cos(q₂)                                              - ───────\n",
       "                                                                             2\n",
       "                                                                          4⋅l \n",
       "                                                                              \n",
       "6⋅cos(q₂))                                                                    \n",
       "───────────                                                                   \n",
       "                                                                              \n",
       "\n",
       "                                                                              \n",
       "n(q₂)⋅sin(q₃)                                          l⋅m_c⋅(3⋅cos(q₂ - q₃) -\n",
       "───────────── + 3⋅m_c⋅cos(q₂)⋅cos(q₃) + 3⋅m_c⋅cos(q₂)  ───────────────────────\n",
       "  2                                                                           \n",
       "                                                                              \n",
       "                                                                              \n",
       "bo}         9⋅m_c⋅cos(q₃)   9⋅m_c                                   -3⋅l⋅m_c⋅(\n",
       "─── - m_b - ───────────── - ─────                                   ──────────\n",
       "                  2           2                                               \n",
       "                                                                              \n",
       "                                                                              \n",
       "-3⋅l⋅m_c⋅(cos(q₃) + 1)                                                        \n",
       "───────────────────────                                                     -l\n",
       "           2                                                                  \n",
       "\n",
       "                          ⎤\n",
       " cos(q₂ + q₃) + 6⋅cos(q₂))⎥\n",
       "──────────────────────────⎥\n",
       " 4                        ⎥\n",
       "                          ⎥\n",
       "                          ⎥\n",
       "cos(q₃) + 1)              ⎥\n",
       "─────────────             ⎥\n",
       " 2                        ⎥\n",
       "                          ⎥\n",
       "                          ⎥\n",
       "2                         ⎥\n",
       " ⋅m_c                     ⎥\n",
       "                          ⎦"
      ]
     },
     "execution_count": 57,
     "metadata": {},
     "output_type": "execute_result"
    }
   ],
   "source": [
    "M = f.jacobian(u.diff())\n",
    "M = sm.trigsimp(M)\n",
    "M"
   ]
  },
  {
   "cell_type": "code",
   "execution_count": 58,
   "metadata": {},
   "outputs": [],
   "source": [
    "G = -(f - M * u.diff())"
   ]
  },
  {
   "cell_type": "code",
   "execution_count": 59,
   "metadata": {},
   "outputs": [],
   "source": [
    "udots = M.LUsolve(G)"
   ]
  },
  {
   "cell_type": "code",
   "execution_count": 60,
   "metadata": {},
   "outputs": [],
   "source": [
    "# udots  # no need to print, too long, may eat up your computer's memory"
   ]
  }
 ],
 "metadata": {
  "kernelspec": {
   "display_name": "Python 3",
   "language": "python",
   "name": "python3"
  },
  "language_info": {
   "codemirror_mode": {
    "name": "ipython",
    "version": 3
   },
   "file_extension": ".py",
   "mimetype": "text/x-python",
   "name": "python",
   "nbconvert_exporter": "python",
   "pygments_lexer": "ipython3",
   "version": "3.6.7"
  }
 },
 "nbformat": 4,
 "nbformat_minor": 4
}
