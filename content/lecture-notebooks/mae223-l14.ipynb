{
 "cells": [
  {
   "cell_type": "code",
   "execution_count": 1,
   "metadata": {},
   "outputs": [],
   "source": [
    "import sympy as sm\n",
    "import sympy.physics.mechanics as me\n",
    "me.init_vprinting()"
   ]
  },
  {
   "cell_type": "code",
   "execution_count": 2,
   "metadata": {},
   "outputs": [],
   "source": [
    "a, b, c, d, e, f = sm.symbols('a, b, c, d, e, f')"
   ]
  },
  {
   "cell_type": "code",
   "execution_count": 3,
   "metadata": {},
   "outputs": [],
   "source": [
    "A = me.ReferenceFrame('A')"
   ]
  },
  {
   "cell_type": "code",
   "execution_count": 4,
   "metadata": {},
   "outputs": [
    {
     "data": {
      "image/png": "[encoded data removed]",
      "text/latex": [
       "$\\displaystyle a\\mathbf{\\hat{a}_x} + b\\mathbf{\\hat{a}_y} + c\\mathbf{\\hat{a}_z}$"
      ],
      "text/plain": [
       "a a_x + b a_y + c a_z"
      ]
     },
     "execution_count": 4,
     "metadata": {},
     "output_type": "execute_result"
    }
   ],
   "source": [
    "v = a*A.x + b*A.y + c*A.z\n",
    "v"
   ]
  },
  {
   "cell_type": "code",
   "execution_count": 5,
   "metadata": {},
   "outputs": [
    {
     "data": {
      "text/latex": [
       "$\\displaystyle \\left[\\begin{matrix}a\\\\b\\\\c\\end{matrix}\\right]$"
      ],
      "text/plain": [
       "⎡a⎤\n",
       "⎢ ⎥\n",
       "⎢b⎥\n",
       "⎢ ⎥\n",
       "⎣c⎦"
      ]
     },
     "execution_count": 5,
     "metadata": {},
     "output_type": "execute_result"
    }
   ],
   "source": [
    "v.to_matrix(A)"
   ]
  },
  {
   "cell_type": "code",
   "execution_count": 6,
   "metadata": {},
   "outputs": [
    {
     "data": {
      "image/png": "[encoded data removed]",
      "text/latex": [
       "$\\displaystyle a^{2}\\mathbf{\\hat{a}_x}\\otimes \\mathbf{\\hat{a}_x} + a b\\mathbf{\\hat{a}_x}\\otimes \\mathbf{\\hat{a}_y} + a c\\mathbf{\\hat{a}_x}\\otimes \\mathbf{\\hat{a}_z} + a b\\mathbf{\\hat{a}_y}\\otimes \\mathbf{\\hat{a}_x} + b^{2}\\mathbf{\\hat{a}_y}\\otimes \\mathbf{\\hat{a}_y} + b c\\mathbf{\\hat{a}_y}\\otimes \\mathbf{\\hat{a}_z} + a c\\mathbf{\\hat{a}_z}\\otimes \\mathbf{\\hat{a}_x} + b c\\mathbf{\\hat{a}_z}\\otimes \\mathbf{\\hat{a}_y} + c^{2}\\mathbf{\\hat{a}_z}\\otimes \\mathbf{\\hat{a}_z}$"
      ],
      "text/plain": [
       " 2\n",
       "a  a_x⊗a_x + a⋅b a_x⊗a_y + a⋅c a_x⊗a_z + a⋅b a_y⊗a_x +  2\n",
       "b  a_y⊗a_y + b⋅c a_y⊗a_z + a⋅c a_z⊗a_x + b⋅c a_z⊗a_y +  2\n",
       "c  a_z⊗a_z"
      ]
     },
     "execution_count": 6,
     "metadata": {},
     "output_type": "execute_result"
    }
   ],
   "source": [
    "v.outer(v)"
   ]
  },
  {
   "cell_type": "code",
   "execution_count": 7,
   "metadata": {},
   "outputs": [
    {
     "data": {
      "text/plain": [
       "sympy.physics.vector.vector.Vector"
      ]
     },
     "execution_count": 7,
     "metadata": {},
     "output_type": "execute_result"
    }
   ],
   "source": [
    "type(v)"
   ]
  },
  {
   "cell_type": "code",
   "execution_count": 8,
   "metadata": {},
   "outputs": [
    {
     "data": {
      "text/plain": [
       "sympy.physics.vector.dyadic.Dyadic"
      ]
     },
     "execution_count": 8,
     "metadata": {},
     "output_type": "execute_result"
    }
   ],
   "source": [
    "type(v.outer(v))"
   ]
  },
  {
   "cell_type": "code",
   "execution_count": 9,
   "metadata": {},
   "outputs": [],
   "source": [
    "Q = v.outer(v)"
   ]
  },
  {
   "cell_type": "code",
   "execution_count": 10,
   "metadata": {},
   "outputs": [
    {
     "data": {
      "text/latex": [
       "$\\displaystyle \\left[\\begin{matrix}a^{2} & a b & a c\\\\a b & b^{2} & b c\\\\a c & b c & c^{2}\\end{matrix}\\right]$"
      ],
      "text/plain": [
       "⎡ 2           ⎤\n",
       "⎢a    a⋅b  a⋅c⎥\n",
       "⎢             ⎥\n",
       "⎢      2      ⎥\n",
       "⎢a⋅b  b    b⋅c⎥\n",
       "⎢             ⎥\n",
       "⎢           2 ⎥\n",
       "⎣a⋅c  b⋅c  c  ⎦"
      ]
     },
     "execution_count": 10,
     "metadata": {},
     "output_type": "execute_result"
    }
   ],
   "source": [
    "Q.to_matrix(A)"
   ]
  },
  {
   "cell_type": "code",
   "execution_count": 11,
   "metadata": {},
   "outputs": [
    {
     "data": {
      "image/png": "[encoded data removed]",
      "text/latex": [
       "$\\displaystyle (a^{3} + a b^{2} + a c^{2})\\mathbf{\\hat{a}_x} + (a^{2} b + b^{3} + b c^{2})\\mathbf{\\hat{a}_y} + (a^{2} c + b^{2} c + c^{3})\\mathbf{\\hat{a}_z}$"
      ],
      "text/plain": [
       "⎛ 3      2      2⎞       ⎛ 2      3      2⎞       ⎛ 2      2      3⎞\n",
       "⎝a  + a⋅b  + a⋅c ⎠ a_x + ⎝a ⋅b + b  + b⋅c ⎠ a_y + ⎝a ⋅c + b ⋅c + c ⎠ a_z"
      ]
     },
     "execution_count": 11,
     "metadata": {},
     "output_type": "execute_result"
    }
   ],
   "source": [
    "Q.dot(v)"
   ]
  },
  {
   "cell_type": "code",
   "execution_count": 12,
   "metadata": {},
   "outputs": [
    {
     "data": {
      "image/png": "[encoded data removed]",
      "text/latex": [
       "$\\displaystyle d\\mathbf{\\hat{a}_x} + e\\mathbf{\\hat{a}_y} + f\\mathbf{\\hat{a}_z}$"
      ],
      "text/plain": [
       "d a_x + e a_y + f a_z"
      ]
     },
     "execution_count": 12,
     "metadata": {},
     "output_type": "execute_result"
    }
   ],
   "source": [
    "w = d*A.x + e*A.y + f*A.z\n",
    "w"
   ]
  },
  {
   "cell_type": "code",
   "execution_count": 13,
   "metadata": {},
   "outputs": [
    {
     "data": {
      "image/png": "[encoded data removed]",
      "text/latex": [
       "$\\displaystyle a\\mathbf{\\hat{a}_x} + b\\mathbf{\\hat{a}_y} + c\\mathbf{\\hat{a}_z}$"
      ],
      "text/plain": [
       "a a_x + b a_y + c a_z"
      ]
     },
     "execution_count": 13,
     "metadata": {},
     "output_type": "execute_result"
    }
   ],
   "source": [
    "v"
   ]
  },
  {
   "cell_type": "code",
   "execution_count": 14,
   "metadata": {},
   "outputs": [
    {
     "data": {
      "image/png": "[encoded data removed]",
      "text/latex": [
       "$\\displaystyle a d\\mathbf{\\hat{a}_x}\\otimes \\mathbf{\\hat{a}_x} + a e\\mathbf{\\hat{a}_x}\\otimes \\mathbf{\\hat{a}_y} + a f\\mathbf{\\hat{a}_x}\\otimes \\mathbf{\\hat{a}_z} + b d\\mathbf{\\hat{a}_y}\\otimes \\mathbf{\\hat{a}_x} + b e\\mathbf{\\hat{a}_y}\\otimes \\mathbf{\\hat{a}_y} + b f\\mathbf{\\hat{a}_y}\\otimes \\mathbf{\\hat{a}_z} + c d\\mathbf{\\hat{a}_z}\\otimes \\mathbf{\\hat{a}_x} + c e\\mathbf{\\hat{a}_z}\\otimes \\mathbf{\\hat{a}_y} + c f\\mathbf{\\hat{a}_z}\\otimes \\mathbf{\\hat{a}_z}$"
      ],
      "text/plain": [
       "a⋅d a_x⊗a_x + a⋅e a_x⊗a_y + a⋅f a_x⊗a_z + b⋅d a_y⊗a_x + b⋅e a_y⊗a_y + b⋅f a_y⊗a_z + c⋅d a_z⊗a_x + c⋅e a_z⊗a_y + c⋅f a_z⊗a_z"
      ]
     },
     "execution_count": 14,
     "metadata": {},
     "output_type": "execute_result"
    }
   ],
   "source": [
    "v.outer(w)"
   ]
  },
  {
   "cell_type": "code",
   "execution_count": 15,
   "metadata": {},
   "outputs": [
    {
     "data": {
      "text/latex": [
       "$\\displaystyle \\left[\\begin{matrix}a d & a e & a f\\\\b d & b e & b f\\\\c d & c e & c f\\end{matrix}\\right]$"
      ],
      "text/plain": [
       "⎡a⋅d  a⋅e  a⋅f⎤\n",
       "⎢             ⎥\n",
       "⎢b⋅d  b⋅e  b⋅f⎥\n",
       "⎢             ⎥\n",
       "⎣c⋅d  c⋅e  c⋅f⎦"
      ]
     },
     "execution_count": 15,
     "metadata": {},
     "output_type": "execute_result"
    }
   ],
   "source": [
    "v.outer(w).to_matrix(A)"
   ]
  },
  {
   "cell_type": "code",
   "execution_count": 16,
   "metadata": {},
   "outputs": [
    {
     "data": {
      "image/png": "[encoded data removed]",
      "text/latex": [
       "$\\displaystyle 3\\mathbf{\\hat{a}_x}\\otimes \\mathbf{\\hat{a}_y}$"
      ],
      "text/plain": [
       "3 a_x⊗a_y"
      ]
     },
     "execution_count": 16,
     "metadata": {},
     "output_type": "execute_result"
    }
   ],
   "source": [
    "R = 3*A.x.outer(A.y)\n",
    "R"
   ]
  },
  {
   "cell_type": "code",
   "execution_count": 17,
   "metadata": {},
   "outputs": [
    {
     "data": {
      "image/png": "[encoded data removed]",
      "text/latex": [
       "$\\displaystyle (- a^{2} f + a c d)\\mathbf{\\hat{a}_x}\\otimes \\mathbf{\\hat{a}_y} + (a^{2} e - a b d)\\mathbf{\\hat{a}_x}\\otimes \\mathbf{\\hat{a}_z} + (a b f - a c e)\\mathbf{\\hat{a}_x}\\otimes \\mathbf{\\hat{a}_x} + (- a b f + b c d)\\mathbf{\\hat{a}_y}\\otimes \\mathbf{\\hat{a}_y} + (a b e - b^{2} d)\\mathbf{\\hat{a}_y}\\otimes \\mathbf{\\hat{a}_z} + (b^{2} f - b c e)\\mathbf{\\hat{a}_y}\\otimes \\mathbf{\\hat{a}_x} + (- a c f + c^{2} d)\\mathbf{\\hat{a}_z}\\otimes \\mathbf{\\hat{a}_y} + (a c e - b c d)\\mathbf{\\hat{a}_z}\\otimes \\mathbf{\\hat{a}_z} + (b c f - c^{2} e)\\mathbf{\\hat{a}_z}\\otimes \\mathbf{\\hat{a}_x}$"
      ],
      "text/plain": [
       "⎛   2          ⎞\n",
       "⎝- a ⋅f + a⋅c⋅d⎠ a_x⊗a_y + ⎛ 2          ⎞\n",
       "⎝a ⋅e - a⋅b⋅d⎠ a_x⊗a_z + (a⋅b⋅f - a⋅c⋅e) a_x⊗a_x + (-a⋅b⋅f + b⋅c⋅d) a_y⊗a_y + ⎛         2  ⎞\n",
       "⎝a⋅b⋅e - b ⋅d⎠ a_y⊗a_z + ⎛ 2          ⎞\n",
       "⎝b ⋅f - b⋅c⋅e⎠ a_y⊗a_x + ⎛          2  ⎞\n",
       "⎝-a⋅c⋅f + c ⋅d⎠ a_z⊗a_y + (a⋅c⋅e - b⋅c⋅d) a_z⊗a_z + ⎛         2  ⎞\n",
       "⎝b⋅c⋅f - c ⋅e⎠ a_z⊗a_x"
      ]
     },
     "execution_count": 17,
     "metadata": {},
     "output_type": "execute_result"
    }
   ],
   "source": [
    "Q.cross(w)"
   ]
  },
  {
   "cell_type": "code",
   "execution_count": 18,
   "metadata": {},
   "outputs": [],
   "source": [
    "B = me.ReferenceFrame('B')"
   ]
  },
  {
   "cell_type": "code",
   "execution_count": 19,
   "metadata": {},
   "outputs": [],
   "source": [
    "B.orient(A, 'Axis', (5, A.x))"
   ]
  },
  {
   "cell_type": "code",
   "execution_count": 20,
   "metadata": {},
   "outputs": [],
   "source": [
    "v1 = a*A.x + b*B.y + c*B.z\n",
    "w1 = d*A.z + e*A.y + f*B.x"
   ]
  },
  {
   "cell_type": "code",
   "execution_count": 21,
   "metadata": {},
   "outputs": [
    {
     "data": {
      "image/png": "[encoded data removed]",
      "text/latex": [
       "$\\displaystyle a\\mathbf{\\hat{a}_x} + b\\mathbf{\\hat{b}_y} + c\\mathbf{\\hat{b}_z}$"
      ],
      "text/plain": [
       "a a_x + b b_y + c b_z"
      ]
     },
     "execution_count": 21,
     "metadata": {},
     "output_type": "execute_result"
    }
   ],
   "source": [
    "v1"
   ]
  },
  {
   "cell_type": "code",
   "execution_count": 22,
   "metadata": {},
   "outputs": [
    {
     "data": {
      "image/png": "[encoded data removed]",
      "text/latex": [
       "$\\displaystyle a e\\mathbf{\\hat{a}_x}\\otimes \\mathbf{\\hat{a}_y} + a d\\mathbf{\\hat{a}_x}\\otimes \\mathbf{\\hat{a}_z} + a f\\mathbf{\\hat{a}_x}\\otimes \\mathbf{\\hat{b}_x} + b e\\mathbf{\\hat{b}_y}\\otimes \\mathbf{\\hat{a}_y} + b d\\mathbf{\\hat{b}_y}\\otimes \\mathbf{\\hat{a}_z} + c e\\mathbf{\\hat{b}_z}\\otimes \\mathbf{\\hat{a}_y} + c d\\mathbf{\\hat{b}_z}\\otimes \\mathbf{\\hat{a}_z} + b f\\mathbf{\\hat{b}_y}\\otimes \\mathbf{\\hat{b}_x} + c f\\mathbf{\\hat{b}_z}\\otimes \\mathbf{\\hat{b}_x}$"
      ],
      "text/plain": [
       "a⋅e a_x⊗a_y + a⋅d a_x⊗a_z + a⋅f a_x⊗b_x + b⋅e b_y⊗a_y + b⋅d b_y⊗a_z + c⋅e b_z⊗a_y + c⋅d b_z⊗a_z + b⋅f b_y⊗b_x + c⋅f b_z⊗b_x"
      ]
     },
     "execution_count": 22,
     "metadata": {},
     "output_type": "execute_result"
    }
   ],
   "source": [
    "v1.outer(w1)"
   ]
  },
  {
   "cell_type": "code",
   "execution_count": 23,
   "metadata": {},
   "outputs": [],
   "source": [
    "Q1 = v1.outer(w1)"
   ]
  },
  {
   "cell_type": "code",
   "execution_count": 24,
   "metadata": {},
   "outputs": [
    {
     "data": {
      "image/png": "[encoded data removed]",
      "text/latex": [
       "$\\displaystyle a e\\mathbf{\\hat{a}_x}\\otimes \\mathbf{\\hat{a}_y} + a d\\mathbf{\\hat{a}_x}\\otimes \\mathbf{\\hat{a}_z} + a f\\mathbf{\\hat{a}_x}\\otimes \\mathbf{\\hat{a}_x} + (b e \\operatorname{cos}\\left(5\\right) - c e \\operatorname{sin}\\left(5\\right))\\mathbf{\\hat{a}_y}\\otimes \\mathbf{\\hat{a}_y} + (b e \\operatorname{sin}\\left(5\\right) + c e \\operatorname{cos}\\left(5\\right))\\mathbf{\\hat{a}_z}\\otimes \\mathbf{\\hat{a}_y} + (b d \\operatorname{cos}\\left(5\\right) - c d \\operatorname{sin}\\left(5\\right))\\mathbf{\\hat{a}_y}\\otimes \\mathbf{\\hat{a}_z} + (b d \\operatorname{sin}\\left(5\\right) + c d \\operatorname{cos}\\left(5\\right))\\mathbf{\\hat{a}_z}\\otimes \\mathbf{\\hat{a}_z} + (b f \\operatorname{cos}\\left(5\\right) - c f \\operatorname{sin}\\left(5\\right))\\mathbf{\\hat{a}_y}\\otimes \\mathbf{\\hat{a}_x} + (b f \\operatorname{sin}\\left(5\\right) + c f \\operatorname{cos}\\left(5\\right))\\mathbf{\\hat{a}_z}\\otimes \\mathbf{\\hat{a}_x}$"
      ],
      "text/plain": [
       "a⋅e a_x⊗a_y + a⋅d a_x⊗a_z + a⋅f a_x⊗a_x + (b⋅e⋅cos(5) - c⋅e⋅sin(5)) a_y⊗a_y + (b⋅e⋅sin(5) + c⋅e⋅cos(5)) a_z⊗a_y + (b⋅d⋅cos(5) - c⋅d⋅sin(5)) a_y⊗a_z + (b⋅d⋅sin(5) + c⋅d⋅cos(5)) a_z⊗a_z + (b⋅f⋅cos(5) - c⋅f⋅sin(5)) a_y⊗a_x + (b⋅f⋅sin(5) + c⋅f⋅cos(5)) a_z⊗a_x"
      ]
     },
     "execution_count": 24,
     "metadata": {},
     "output_type": "execute_result"
    }
   ],
   "source": [
    "Q1.express(A)"
   ]
  },
  {
   "cell_type": "code",
   "execution_count": 25,
   "metadata": {},
   "outputs": [
    {
     "data": {
      "image/png": "[encoded data removed]",
      "text/latex": [
       "$\\displaystyle (a d \\operatorname{sin}\\left(5\\right) + a e \\operatorname{cos}\\left(5\\right))\\mathbf{\\hat{b}_x}\\otimes \\mathbf{\\hat{b}_y} + (a d \\operatorname{cos}\\left(5\\right) - a e \\operatorname{sin}\\left(5\\right))\\mathbf{\\hat{b}_x}\\otimes \\mathbf{\\hat{b}_z} + a f\\mathbf{\\hat{b}_x}\\otimes \\mathbf{\\hat{b}_x} + (b d \\operatorname{sin}\\left(5\\right) + b e \\operatorname{cos}\\left(5\\right))\\mathbf{\\hat{b}_y}\\otimes \\mathbf{\\hat{b}_y} + (b d \\operatorname{cos}\\left(5\\right) - b e \\operatorname{sin}\\left(5\\right))\\mathbf{\\hat{b}_y}\\otimes \\mathbf{\\hat{b}_z} + (c d \\operatorname{sin}\\left(5\\right) + c e \\operatorname{cos}\\left(5\\right))\\mathbf{\\hat{b}_z}\\otimes \\mathbf{\\hat{b}_y} + (c d \\operatorname{cos}\\left(5\\right) - c e \\operatorname{sin}\\left(5\\right))\\mathbf{\\hat{b}_z}\\otimes \\mathbf{\\hat{b}_z} + b f\\mathbf{\\hat{b}_y}\\otimes \\mathbf{\\hat{b}_x} + c f\\mathbf{\\hat{b}_z}\\otimes \\mathbf{\\hat{b}_x}$"
      ],
      "text/plain": [
       "(a⋅d⋅sin(5) + a⋅e⋅cos(5)) b_x⊗b_y + (a⋅d⋅cos(5) - a⋅e⋅sin(5)) b_x⊗b_z + a⋅f b_x⊗b_x + (b⋅d⋅sin(5) + b⋅e⋅cos(5)) b_y⊗b_y + (b⋅d⋅cos(5) - b⋅e⋅sin(5)) b_y⊗b_z + (c⋅d⋅sin(5) + c⋅e⋅cos(5)) b_z⊗b_y + (c⋅d⋅cos(5) - c⋅e⋅sin(5)) b_z⊗b_z + b⋅f b_y⊗b_x + c⋅f b_z⊗b_x"
      ]
     },
     "execution_count": 25,
     "metadata": {},
     "output_type": "execute_result"
    }
   ],
   "source": [
    "Q1.express(B)"
   ]
  },
  {
   "cell_type": "markdown",
   "metadata": {},
   "source": [
    "# Inertia and Principal Axes"
   ]
  },
  {
   "cell_type": "code",
   "execution_count": 26,
   "metadata": {},
   "outputs": [
    {
     "data": {
      "text/plain": [
       "\u001b[0;31mSignature:\u001b[0m \u001b[0mme\u001b[0m\u001b[0;34m.\u001b[0m\u001b[0minertia\u001b[0m\u001b[0;34m(\u001b[0m\u001b[0mframe\u001b[0m\u001b[0;34m,\u001b[0m \u001b[0mixx\u001b[0m\u001b[0;34m,\u001b[0m \u001b[0miyy\u001b[0m\u001b[0;34m,\u001b[0m \u001b[0mizz\u001b[0m\u001b[0;34m,\u001b[0m \u001b[0mixy\u001b[0m\u001b[0;34m=\u001b[0m\u001b[0;36m0\u001b[0m\u001b[0;34m,\u001b[0m \u001b[0miyz\u001b[0m\u001b[0;34m=\u001b[0m\u001b[0;36m0\u001b[0m\u001b[0;34m,\u001b[0m \u001b[0mizx\u001b[0m\u001b[0;34m=\u001b[0m\u001b[0;36m0\u001b[0m\u001b[0;34m)\u001b[0m\u001b[0;34m\u001b[0m\u001b[0;34m\u001b[0m\u001b[0m\n",
       "\u001b[0;31mDocstring:\u001b[0m\n",
       "Simple way to create inertia Dyadic object.\n",
       "\n",
       "If you don't know what a Dyadic is, just treat this like the inertia\n",
       "tensor. Then, do the easy thing and define it in a body-fixed frame.\n",
       "\n",
       "Parameters\n",
       "==========\n",
       "\n",
       "frame : ReferenceFrame\n",
       "    The frame the inertia is defined in\n",
       "ixx : Sympifyable\n",
       "    the xx element in the inertia dyadic\n",
       "iyy : Sympifyable\n",
       "    the yy element in the inertia dyadic\n",
       "izz : Sympifyable\n",
       "    the zz element in the inertia dyadic\n",
       "ixy : Sympifyable\n",
       "    the xy element in the inertia dyadic\n",
       "iyz : Sympifyable\n",
       "    the yz element in the inertia dyadic\n",
       "izx : Sympifyable\n",
       "    the zx element in the inertia dyadic\n",
       "\n",
       "Examples\n",
       "========\n",
       "\n",
       ">>> from sympy.physics.mechanics import ReferenceFrame, inertia\n",
       ">>> N = ReferenceFrame('N')\n",
       ">>> inertia(N, 1, 2, 3)\n",
       "(N.x|N.x) + 2*(N.y|N.y) + 3*(N.z|N.z)\n",
       "\u001b[0;31mFile:\u001b[0m      /opt/conda/lib/python3.6/site-packages/sympy/physics/mechanics/functions.py\n",
       "\u001b[0;31mType:\u001b[0m      function\n"
      ]
     },
     "metadata": {},
     "output_type": "display_data"
    }
   ],
   "source": [
    "me.inertia?"
   ]
  },
  {
   "cell_type": "code",
   "execution_count": 27,
   "metadata": {},
   "outputs": [
    {
     "data": {
      "image/png": "[encoded data removed]",
      "text/latex": [
       "$\\displaystyle a\\mathbf{\\hat{b}_x}\\otimes \\mathbf{\\hat{b}_x} + b\\mathbf{\\hat{b}_y}\\otimes \\mathbf{\\hat{b}_y} + c\\mathbf{\\hat{b}_z}\\otimes \\mathbf{\\hat{b}_z}$"
      ],
      "text/plain": [
       "a b_x⊗b_x + b b_y⊗b_y + c b_z⊗b_z"
      ]
     },
     "execution_count": 27,
     "metadata": {},
     "output_type": "execute_result"
    }
   ],
   "source": [
    "I_S_O = me.inertia(B, a, b, c)\n",
    "I_S_O"
   ]
  },
  {
   "cell_type": "code",
   "execution_count": 28,
   "metadata": {},
   "outputs": [
    {
     "data": {
      "image/png": "[encoded data removed]",
      "text/latex": [
       "$\\displaystyle a\\mathbf{\\hat{b}_x}\\otimes \\mathbf{\\hat{b}_x} + d\\mathbf{\\hat{b}_x}\\otimes \\mathbf{\\hat{b}_y} + f\\mathbf{\\hat{b}_x}\\otimes \\mathbf{\\hat{b}_z} + d\\mathbf{\\hat{b}_y}\\otimes \\mathbf{\\hat{b}_x} + b\\mathbf{\\hat{b}_y}\\otimes \\mathbf{\\hat{b}_y} + e\\mathbf{\\hat{b}_y}\\otimes \\mathbf{\\hat{b}_z} + f\\mathbf{\\hat{b}_z}\\otimes \\mathbf{\\hat{b}_x} + e\\mathbf{\\hat{b}_z}\\otimes \\mathbf{\\hat{b}_y} + c\\mathbf{\\hat{b}_z}\\otimes \\mathbf{\\hat{b}_z}$"
      ],
      "text/plain": [
       "a b_x⊗b_x + d b_x⊗b_y + f b_x⊗b_z + d b_y⊗b_x + b b_y⊗b_y + e b_y⊗b_z + f b_z⊗b_x + e b_z⊗b_y + c b_z⊗b_z"
      ]
     },
     "execution_count": 28,
     "metadata": {},
     "output_type": "execute_result"
    }
   ],
   "source": [
    "I_S_O = me.inertia(B, a, b, c, ixy=d, iyz=e, izx=f)\n",
    "I_S_O"
   ]
  },
  {
   "cell_type": "code",
   "execution_count": 29,
   "metadata": {},
   "outputs": [
    {
     "data": {
      "text/latex": [
       "$\\displaystyle \\left[\\begin{matrix}a & d & f\\\\d & b & e\\\\f & e & c\\end{matrix}\\right]$"
      ],
      "text/plain": [
       "⎡a  d  f⎤\n",
       "⎢       ⎥\n",
       "⎢d  b  e⎥\n",
       "⎢       ⎥\n",
       "⎣f  e  c⎦"
      ]
     },
     "execution_count": 29,
     "metadata": {},
     "output_type": "execute_result"
    }
   ],
   "source": [
    "I_S_O.to_matrix(B)"
   ]
  },
  {
   "cell_type": "code",
   "execution_count": 30,
   "metadata": {},
   "outputs": [
    {
     "data": {
      "image/png": "[encoded data removed]",
      "text/latex": [
       "$\\displaystyle a\\mathbf{\\hat{a}_x}\\otimes \\mathbf{\\hat{a}_x} + (d \\operatorname{cos}\\left(5\\right) - f \\operatorname{sin}\\left(5\\right))\\mathbf{\\hat{a}_x}\\otimes \\mathbf{\\hat{a}_y} + (d \\operatorname{sin}\\left(5\\right) + f \\operatorname{cos}\\left(5\\right))\\mathbf{\\hat{a}_x}\\otimes \\mathbf{\\hat{a}_z} + (d \\operatorname{cos}\\left(5\\right) - f \\operatorname{sin}\\left(5\\right))\\mathbf{\\hat{a}_y}\\otimes \\mathbf{\\hat{a}_x} + (d \\operatorname{sin}\\left(5\\right) + f \\operatorname{cos}\\left(5\\right))\\mathbf{\\hat{a}_z}\\otimes \\mathbf{\\hat{a}_x} + (b \\operatorname{cos}^{2}\\left(5\\right) + c \\operatorname{sin}^{2}\\left(5\\right) - 2 e \\operatorname{sin}\\left(5\\right) \\operatorname{cos}\\left(5\\right))\\mathbf{\\hat{a}_y}\\otimes \\mathbf{\\hat{a}_y} + (b \\operatorname{sin}\\left(5\\right) \\operatorname{cos}\\left(5\\right) - c \\operatorname{sin}\\left(5\\right) \\operatorname{cos}\\left(5\\right) - e \\operatorname{sin}^{2}\\left(5\\right) + e \\operatorname{cos}^{2}\\left(5\\right))\\mathbf{\\hat{a}_y}\\otimes \\mathbf{\\hat{a}_z} + (b \\operatorname{sin}\\left(5\\right) \\operatorname{cos}\\left(5\\right) - c \\operatorname{sin}\\left(5\\right) \\operatorname{cos}\\left(5\\right) - e \\operatorname{sin}^{2}\\left(5\\right) + e \\operatorname{cos}^{2}\\left(5\\right))\\mathbf{\\hat{a}_z}\\otimes \\mathbf{\\hat{a}_y} + (b \\operatorname{sin}^{2}\\left(5\\right) + c \\operatorname{cos}^{2}\\left(5\\right) + 2 e \\operatorname{sin}\\left(5\\right) \\operatorname{cos}\\left(5\\right))\\mathbf{\\hat{a}_z}\\otimes \\mathbf{\\hat{a}_z}$"
      ],
      "text/plain": [
       "a a_x⊗a_x + (d⋅cos(5) - f⋅sin(5)) a_x⊗a_y + (d⋅sin(5) + f⋅cos(5)) a_x⊗a_z + (d⋅cos(5) - f⋅sin(5)) a_y⊗a_x + (d⋅sin(5) + f⋅cos(5)) a_z⊗a_x + ⎛     2           2                       ⎞\n",
       "⎝b⋅cos (5) + c⋅sin (5) - 2⋅e⋅sin(5)⋅cos(5)⎠ a_y⊗a_y + ⎛                                         2           2   ⎞\n",
       "⎝b⋅sin(5)⋅cos(5) - c⋅sin(5)⋅cos(5) - e⋅sin (5) + e⋅cos (5)⎠ a_y⊗a_z + ⎛                                         2           2   ⎞\n",
       "⎝b⋅sin(5)⋅cos(5) - c⋅sin(5)⋅cos(5) - e⋅sin (5) + e⋅cos (5)⎠ a_z⊗a_y + ⎛     2           2                       ⎞\n",
       "⎝b⋅sin (5) + c⋅cos (5) + 2⋅e⋅sin(5)⋅cos(5)⎠ a_z⊗a_z"
      ]
     },
     "execution_count": 30,
     "metadata": {},
     "output_type": "execute_result"
    }
   ],
   "source": [
    "I_S_O.express(A)"
   ]
  },
  {
   "cell_type": "code",
   "execution_count": 31,
   "metadata": {},
   "outputs": [],
   "source": [
    "I_S_O_mat = I_S_O.to_matrix(B)"
   ]
  },
  {
   "cell_type": "code",
   "execution_count": 32,
   "metadata": {},
   "outputs": [
    {
     "data": {
      "text/plain": [
       "sympy.matrices.immutable.ImmutableDenseMatrix"
      ]
     },
     "execution_count": 32,
     "metadata": {},
     "output_type": "execute_result"
    }
   ],
   "source": [
    "type(I_S_O_mat)"
   ]
  },
  {
   "cell_type": "code",
   "execution_count": 33,
   "metadata": {},
   "outputs": [
    {
     "data": {
      "text/plain": [
       "\u001b[0;31mSignature:\u001b[0m \u001b[0mI_S_O_mat\u001b[0m\u001b[0;34m.\u001b[0m\u001b[0meigenvals\u001b[0m\u001b[0;34m(\u001b[0m\u001b[0merror_when_incomplete\u001b[0m\u001b[0;34m=\u001b[0m\u001b[0;32mTrue\u001b[0m\u001b[0;34m,\u001b[0m \u001b[0;34m**\u001b[0m\u001b[0mflags\u001b[0m\u001b[0;34m)\u001b[0m\u001b[0;34m\u001b[0m\u001b[0;34m\u001b[0m\u001b[0m\n",
       "\u001b[0;31mDocstring:\u001b[0m\n",
       "Return eigenvalues using the Berkowitz agorithm to compute\n",
       "the characteristic polynomial.\n",
       "\n",
       "Parameters\n",
       "==========\n",
       "\n",
       "error_when_incomplete : bool, optional\n",
       "    If it is set to ``True``, it will raise an error if not all\n",
       "    eigenvalues are computed. This is caused by ``roots`` not returning\n",
       "    a full list of eigenvalues.\n",
       "\n",
       "simplify : bool or function, optional\n",
       "    If it is set to ``True``, it attempts to return the most\n",
       "    simplified form of expressions returned by applying default\n",
       "    simplification method in every routine.\n",
       "\n",
       "    If it is set to ``False``, it will skip simplification in this\n",
       "    particular routine to save computation resources.\n",
       "\n",
       "    If a function is passed to, it will attempt to apply\n",
       "    the particular function as simplification method.\n",
       "\n",
       "rational : bool, optional\n",
       "    If it is set to ``True``, every floating point numbers would be\n",
       "    replaced with rationals before computation. It can solve some\n",
       "    issues of ``roots`` routine not working well with floats.\n",
       "\n",
       "multiple : bool, optional\n",
       "    If it is set to ``True``, the result will be in the form of a\n",
       "    list.\n",
       "\n",
       "    If it is set to ``False``, the result will be in the form of a\n",
       "    dictionary.\n",
       "\n",
       "Returns\n",
       "=======\n",
       "\n",
       "eigs : list or dict\n",
       "    Eigenvalues of a matrix. The return format would be specified by\n",
       "    the key ``multiple``.\n",
       "\n",
       "Raises\n",
       "======\n",
       "\n",
       "MatrixError\n",
       "    If not enough roots had got computed.\n",
       "\n",
       "NonSquareMatrixError\n",
       "    If attempted to compute eigenvalues from a non-square matrix.\n",
       "\n",
       "See Also\n",
       "========\n",
       "\n",
       "MatrixDeterminant.charpoly\n",
       "eigenvects\n",
       "\n",
       "Notes\n",
       "=====\n",
       "\n",
       "Eigenvalues of a matrix `A` can be computed by solving a matrix\n",
       "equation `\\det(A - \\lambda I) = 0`\n",
       "\u001b[0;31mFile:\u001b[0m      /opt/conda/lib/python3.6/site-packages/sympy/matrices/matrices.py\n",
       "\u001b[0;31mType:\u001b[0m      method\n"
      ]
     },
     "metadata": {},
     "output_type": "display_data"
    }
   ],
   "source": [
    "I_S_O_mat.eigenvals?"
   ]
  },
  {
   "cell_type": "code",
   "execution_count": 34,
   "metadata": {},
   "outputs": [
    {
     "data": {
      "image/png": "[encoded data removed]",
      "text/latex": [
       "$\\displaystyle \\left\\{ \\frac{a}{3} + \\frac{b}{3} + \\frac{c}{3} - \\frac{- 3 a b - 3 a c - 3 b c + 3 d^{2} + 3 e^{2} + 3 f^{2} + \\left(- a - b - c\\right)^{2}}{3 \\sqrt[3]{- \\frac{27 a b c}{2} + \\frac{27 a e^{2}}{2} + \\frac{27 b f^{2}}{2} + \\frac{27 c d^{2}}{2} - 27 d e f + \\frac{\\sqrt{- 4 \\left(- 3 a b - 3 a c - 3 b c + 3 d^{2} + 3 e^{2} + 3 f^{2} + \\left(- a - b - c\\right)^{2}\\right)^{3} + \\left(- 27 a b c + 27 a e^{2} + 27 b f^{2} + 27 c d^{2} - 54 d e f - \\left(- 9 a - 9 b - 9 c\\right) \\left(a b + a c + b c - d^{2} - e^{2} - f^{2}\\right) + 2 \\left(- a - b - c\\right)^{3}\\right)^{2}}}{2} - \\frac{\\left(- 9 a - 9 b - 9 c\\right) \\left(a b + a c + b c - d^{2} - e^{2} - f^{2}\\right)}{2} + \\left(- a - b - c\\right)^{3}}} - \\frac{\\sqrt[3]{- \\frac{27 a b c}{2} + \\frac{27 a e^{2}}{2} + \\frac{27 b f^{2}}{2} + \\frac{27 c d^{2}}{2} - 27 d e f + \\frac{\\sqrt{- 4 \\left(- 3 a b - 3 a c - 3 b c + 3 d^{2} + 3 e^{2} + 3 f^{2} + \\left(- a - b - c\\right)^{2}\\right)^{3} + \\left(- 27 a b c + 27 a e^{2} + 27 b f^{2} + 27 c d^{2} - 54 d e f - \\left(- 9 a - 9 b - 9 c\\right) \\left(a b + a c + b c - d^{2} - e^{2} - f^{2}\\right) + 2 \\left(- a - b - c\\right)^{3}\\right)^{2}}}{2} - \\frac{\\left(- 9 a - 9 b - 9 c\\right) \\left(a b + a c + b c - d^{2} - e^{2} - f^{2}\\right)}{2} + \\left(- a - b - c\\right)^{3}}}{3} : 1, \\  \\frac{a}{3} + \\frac{b}{3} + \\frac{c}{3} - \\frac{- 3 a b - 3 a c - 3 b c + 3 d^{2} + 3 e^{2} + 3 f^{2} + \\left(- a - b - c\\right)^{2}}{3 \\left(- \\frac{1}{2} - \\frac{\\sqrt{3} i}{2}\\right) \\sqrt[3]{- \\frac{27 a b c}{2} + \\frac{27 a e^{2}}{2} + \\frac{27 b f^{2}}{2} + \\frac{27 c d^{2}}{2} - 27 d e f + \\frac{\\sqrt{- 4 \\left(- 3 a b - 3 a c - 3 b c + 3 d^{2} + 3 e^{2} + 3 f^{2} + \\left(- a - b - c\\right)^{2}\\right)^{3} + \\left(- 27 a b c + 27 a e^{2} + 27 b f^{2} + 27 c d^{2} - 54 d e f - \\left(- 9 a - 9 b - 9 c\\right) \\left(a b + a c + b c - d^{2} - e^{2} - f^{2}\\right) + 2 \\left(- a - b - c\\right)^{3}\\right)^{2}}}{2} - \\frac{\\left(- 9 a - 9 b - 9 c\\right) \\left(a b + a c + b c - d^{2} - e^{2} - f^{2}\\right)}{2} + \\left(- a - b - c\\right)^{3}}} - \\frac{\\left(- \\frac{1}{2} - \\frac{\\sqrt{3} i}{2}\\right) \\sqrt[3]{- \\frac{27 a b c}{2} + \\frac{27 a e^{2}}{2} + \\frac{27 b f^{2}}{2} + \\frac{27 c d^{2}}{2} - 27 d e f + \\frac{\\sqrt{- 4 \\left(- 3 a b - 3 a c - 3 b c + 3 d^{2} + 3 e^{2} + 3 f^{2} + \\left(- a - b - c\\right)^{2}\\right)^{3} + \\left(- 27 a b c + 27 a e^{2} + 27 b f^{2} + 27 c d^{2} - 54 d e f - \\left(- 9 a - 9 b - 9 c\\right) \\left(a b + a c + b c - d^{2} - e^{2} - f^{2}\\right) + 2 \\left(- a - b - c\\right)^{3}\\right)^{2}}}{2} - \\frac{\\left(- 9 a - 9 b - 9 c\\right) \\left(a b + a c + b c - d^{2} - e^{2} - f^{2}\\right)}{2} + \\left(- a - b - c\\right)^{3}}}{3} : 1, \\  \\frac{a}{3} + \\frac{b}{3} + \\frac{c}{3} - \\frac{- 3 a b - 3 a c - 3 b c + 3 d^{2} + 3 e^{2} + 3 f^{2} + \\left(- a - b - c\\right)^{2}}{3 \\left(- \\frac{1}{2} + \\frac{\\sqrt{3} i}{2}\\right) \\sqrt[3]{- \\frac{27 a b c}{2} + \\frac{27 a e^{2}}{2} + \\frac{27 b f^{2}}{2} + \\frac{27 c d^{2}}{2} - 27 d e f + \\frac{\\sqrt{- 4 \\left(- 3 a b - 3 a c - 3 b c + 3 d^{2} + 3 e^{2} + 3 f^{2} + \\left(- a - b - c\\right)^{2}\\right)^{3} + \\left(- 27 a b c + 27 a e^{2} + 27 b f^{2} + 27 c d^{2} - 54 d e f - \\left(- 9 a - 9 b - 9 c\\right) \\left(a b + a c + b c - d^{2} - e^{2} - f^{2}\\right) + 2 \\left(- a - b - c\\right)^{3}\\right)^{2}}}{2} - \\frac{\\left(- 9 a - 9 b - 9 c\\right) \\left(a b + a c + b c - d^{2} - e^{2} - f^{2}\\right)}{2} + \\left(- a - b - c\\right)^{3}}} - \\frac{\\left(- \\frac{1}{2} + \\frac{\\sqrt{3} i}{2}\\right) \\sqrt[3]{- \\frac{27 a b c}{2} + \\frac{27 a e^{2}}{2} + \\frac{27 b f^{2}}{2} + \\frac{27 c d^{2}}{2} - 27 d e f + \\frac{\\sqrt{- 4 \\left(- 3 a b - 3 a c - 3 b c + 3 d^{2} + 3 e^{2} + 3 f^{2} + \\left(- a - b - c\\right)^{2}\\right)^{3} + \\left(- 27 a b c + 27 a e^{2} + 27 b f^{2} + 27 c d^{2} - 54 d e f - \\left(- 9 a - 9 b - 9 c\\right) \\left(a b + a c + b c - d^{2} - e^{2} - f^{2}\\right) + 2 \\left(- a - b - c\\right)^{3}\\right)^{2}}}{2} - \\frac{\\left(- 9 a - 9 b - 9 c\\right) \\left(a b + a c + b c - d^{2} - e^{2} - f^{2}\\right)}{2} + \\left(- a - b - c\\right)^{3}}}{3} : 1\\right\\}$"
      ],
      "text/plain": [
       "⎧                                                                             \n",
       "⎪                                                                             \n",
       "⎪                                                                             \n",
       "⎪                                                                             \n",
       "⎪                                                                             \n",
       "⎪                                                                             \n",
       "⎪a   b   c                                                                    \n",
       "⎨─ + ─ + ─ - ─────────────────────────────────────────────────────────────────\n",
       "⎪3   3   3            ________________________________________________________\n",
       "⎪                    ╱                                                        \n",
       "⎪                   ╱                                                         \n",
       "⎪                  ╱                      2         2         2               \n",
       "⎪                 ╱      27⋅a⋅b⋅c   27⋅a⋅e    27⋅b⋅f    27⋅c⋅d               ╲\n",
       "⎪            3⋅3 ╱     - ──────── + ─────── + ─────── + ─────── - 27⋅d⋅e⋅f + ─\n",
       "⎩              ╲╱           2          2         2         2                  \n",
       "\n",
       "                                                                              \n",
       "                                                                              \n",
       "                                                                              \n",
       "                                                                              \n",
       "                                                                              \n",
       "                                                                              \n",
       "                                                                         -3⋅a⋅\n",
       "──────────────────────────────────────────────────────────────────────────────\n",
       "______________________________________________________________________________\n",
       "   ___________________________________________________________________________\n",
       "  ╱                                                                  3        \n",
       " ╱      ⎛                            2      2      2               2⎞    ⎛    \n",
       "╱   - 4⋅⎝-3⋅a⋅b - 3⋅a⋅c - 3⋅b⋅c + 3⋅d  + 3⋅e  + 3⋅f  + (-a - b - c) ⎠  + ⎝-27⋅\n",
       "──────────────────────────────────────────────────────────────────────────────\n",
       "                                                                              \n",
       "\n",
       "                                                                              \n",
       "                                                                              \n",
       "                                                                              \n",
       "                                                                              \n",
       "                                                                              \n",
       "                       2      2      2               2                        \n",
       "b - 3⋅a⋅c - 3⋅b⋅c + 3⋅d  + 3⋅e  + 3⋅f  + (-a - b - c)                         \n",
       "──────────────────────────────────────────────────────────────────────────────\n",
       "______________________________________________________________________________\n",
       "______________________________________________________________________________\n",
       "                                                                              \n",
       "              2         2         2                                 ⎛         \n",
       "a⋅b⋅c + 27⋅a⋅e  + 27⋅b⋅f  + 27⋅c⋅d  - 54⋅d⋅e⋅f - (-9⋅a - 9⋅b - 9⋅c)⋅⎝a⋅b + a⋅c\n",
       "──────────────────────────────────────────────────────────────────────────────\n",
       "                    2                                                         \n",
       "\n",
       "                                                                              \n",
       "                                                                              \n",
       "                                                                              \n",
       "                                                                              \n",
       "                                                                              \n",
       "                                                                              \n",
       "                                                                              \n",
       "──────────────────────────────────────────────────────────────────────────────\n",
       "______________________________________________________________________________\n",
       "___________________________________________                                   \n",
       "                                         2                                    \n",
       "          2    2    2⎞                 3⎞                        ⎛            \n",
       " + b⋅c - d  - e  - f ⎠ + 2⋅(-a - b - c) ⎠     (-9⋅a - 9⋅b - 9⋅c)⋅⎝a⋅b + a⋅c + \n",
       "─────────────────────────────────────────── - ────────────────────────────────\n",
       "                                                                       2      \n",
       "\n",
       "                                              ________________________________\n",
       "                                             ╱                                \n",
       "                                            ╱                                 \n",
       "                                           ╱                      2         2 \n",
       "                                          ╱      27⋅a⋅b⋅c   27⋅a⋅e    27⋅b⋅f  \n",
       "                                       3 ╱     - ──────── + ─────── + ─────── \n",
       "                                       ╲╱           2          2         2    \n",
       "──────────────────────────────────── - ───────────────────────────────────────\n",
       "____________________________________                                          \n",
       "                                                                              \n",
       "                                                                              \n",
       "       2    2    2⎞                                                           \n",
       "b⋅c - d  - e  - f ⎠               3                                           \n",
       "─────────────────── + (-a - b - c)                                            \n",
       "                                                                              \n",
       "\n",
       "______________________________________________________________________________\n",
       "                           ___________________________________________________\n",
       "                          ╱                                                   \n",
       "        2                ╱      ⎛                            2      2      2  \n",
       "  27⋅c⋅d               ╲╱   - 4⋅⎝-3⋅a⋅b - 3⋅a⋅c - 3⋅b⋅c + 3⋅d  + 3⋅e  + 3⋅f  +\n",
       "+ ─────── - 27⋅d⋅e⋅f + ───────────────────────────────────────────────────────\n",
       "     2                                                                        \n",
       "──────────────────────────────────────────────────────────────────────────────\n",
       "                                                                              \n",
       "                                                                              \n",
       "                                                                              \n",
       "                                                                              \n",
       "                                                                              \n",
       "                                                                              \n",
       "                                                                              \n",
       "\n",
       "______________________________________________________________________________\n",
       "______________________________________________________________________________\n",
       "               3                                                              \n",
       "             2⎞    ⎛                  2         2         2                   \n",
       " (-a - b - c) ⎠  + ⎝-27⋅a⋅b⋅c + 27⋅a⋅e  + 27⋅b⋅f  + 27⋅c⋅d  - 54⋅d⋅e⋅f - (-9⋅a\n",
       "──────────────────────────────────────────────────────────────────────────────\n",
       "                                            2                                 \n",
       "──────────────────────────────────────────────────────────────────────────────\n",
       "                                                 3                            \n",
       "                                                                              \n",
       "                                                                              \n",
       "                                                                              \n",
       "                                                                              \n",
       "                                                                              \n",
       "                                                                              \n",
       "\n",
       "______________________________________________________________________________\n",
       "___________________________________________________________________           \n",
       "                                                                 2            \n",
       "              ⎛                   2    2    2⎞                 3⎞             \n",
       " - 9⋅b - 9⋅c)⋅⎝a⋅b + a⋅c + b⋅c - d  - e  - f ⎠ + 2⋅(-a - b - c) ⎠     (-9⋅a - \n",
       "─────────────────────────────────────────────────────────────────── - ────────\n",
       "                                                                              \n",
       "──────────────────────────────────────────────────────────────────────────────\n",
       "                                                                              \n",
       "                                                                              \n",
       "                                                                              \n",
       "                                                                              \n",
       "                                                                              \n",
       "                                                                              \n",
       "                                                                              \n",
       "\n",
       "____________________________________________________________                  \n",
       "                                                                              \n",
       "                                                                              \n",
       "           ⎛                   2    2    2⎞                                   \n",
       "9⋅b - 9⋅c)⋅⎝a⋅b + a⋅c + b⋅c - d  - e  - f ⎠               3                   \n",
       "─────────────────────────────────────────── + (-a - b - c)                    \n",
       "                 2                                               a   b   c    \n",
       "────────────────────────────────────────────────────────────: 1, ─ + ─ + ─ - ─\n",
       "                                                                 3   3   3    \n",
       "                                                                              \n",
       "                                                                              \n",
       "                                                                              \n",
       "                                                                              \n",
       "                                                                             3\n",
       "                                                                              \n",
       "\n",
       "                                                                              \n",
       "                                                                              \n",
       "                                                                              \n",
       "                                                                              \n",
       "                                                                              \n",
       "                                                                              \n",
       "                                                                              \n",
       "──────────────────────────────────────────────────────────────────────────────\n",
       "                     _________________________________________________________\n",
       "                    ╱                                                         \n",
       "                   ╱                                                          \n",
       "                  ╱                      2         2         2                \n",
       " ⎛  1   √3⋅ⅈ⎞    ╱      27⋅a⋅b⋅c   27⋅a⋅e    27⋅b⋅f    27⋅c⋅d               ╲╱\n",
       "⋅⎜- ─ - ────⎟⋅3 ╱     - ──────── + ─────── + ─────── + ─────── - 27⋅d⋅e⋅f + ──\n",
       " ⎝  2    2  ⎠ ╲╱           2          2         2         2                   \n",
       "\n",
       "                                                                              \n",
       "                                                                              \n",
       "                                                                              \n",
       "                                                                              \n",
       "                                                                              \n",
       "                                                                              \n",
       "                                                                 -3⋅a⋅b - 3⋅a⋅\n",
       "──────────────────────────────────────────────────────────────────────────────\n",
       "______________________________________________________________________________\n",
       "  ____________________________________________________________________________\n",
       " ╱                                                                  3         \n",
       "╱      ⎛                            2      2      2               2⎞    ⎛     \n",
       "   - 4⋅⎝-3⋅a⋅b - 3⋅a⋅c - 3⋅b⋅c + 3⋅d  + 3⋅e  + 3⋅f  + (-a - b - c) ⎠  + ⎝-27⋅a\n",
       "──────────────────────────────────────────────────────────────────────────────\n",
       "                                                                              \n",
       "\n",
       "                                                                              \n",
       "                                                                              \n",
       "                                                                              \n",
       "                                                                              \n",
       "                                                                              \n",
       "               2      2      2               2                                \n",
       "c - 3⋅b⋅c + 3⋅d  + 3⋅e  + 3⋅f  + (-a - b - c)                                 \n",
       "──────────────────────────────────────────────────────────────────────────────\n",
       "______________________________________________________________________________\n",
       "______________________________________________________________________________\n",
       "                                                                              \n",
       "             2         2         2                                 ⎛          \n",
       "⋅b⋅c + 27⋅a⋅e  + 27⋅b⋅f  + 27⋅c⋅d  - 54⋅d⋅e⋅f - (-9⋅a - 9⋅b - 9⋅c)⋅⎝a⋅b + a⋅c \n",
       "──────────────────────────────────────────────────────────────────────────────\n",
       "                   2                                                          \n",
       "\n",
       "                                                                              \n",
       "                                                                              \n",
       "                                                                              \n",
       "                                                                              \n",
       "                                                                              \n",
       "                                                                              \n",
       "                                                                              \n",
       "──────────────────────────────────────────────────────────────────────────────\n",
       "______________________________________________________________________________\n",
       "__________________________________________                                    \n",
       "                                        2                                     \n",
       "         2    2    2⎞                 3⎞                        ⎛             \n",
       "+ b⋅c - d  - e  - f ⎠ + 2⋅(-a - b - c) ⎠     (-9⋅a - 9⋅b - 9⋅c)⋅⎝a⋅b + a⋅c + b\n",
       "────────────────────────────────────────── - ─────────────────────────────────\n",
       "                                                                      2       \n",
       "\n",
       "                                                          ____________________\n",
       "                                                         ╱                    \n",
       "                                                        ╱                     \n",
       "                                                       ╱                      \n",
       "                                      ⎛  1   √3⋅ⅈ⎞    ╱      27⋅a⋅b⋅c   27⋅a⋅e\n",
       "                                      ⎜- ─ - ────⎟⋅3 ╱     - ──────── + ──────\n",
       "                                      ⎝  2    2  ⎠ ╲╱           2          2  \n",
       "─────────────────────────────────── - ────────────────────────────────────────\n",
       "___________________________________                                           \n",
       "                                                                              \n",
       "                                                                              \n",
       "      2    2    2⎞                                                            \n",
       "⋅c - d  - e  - f ⎠               3                                            \n",
       "────────────────── + (-a - b - c)                                             \n",
       "                                                                              \n",
       "\n",
       "______________________________________________________________________________\n",
       "                                       _______________________________________\n",
       "                                      ╱                                       \n",
       "2         2         2                ╱      ⎛                            2    \n",
       "    27⋅b⋅f    27⋅c⋅d               ╲╱   - 4⋅⎝-3⋅a⋅b - 3⋅a⋅c - 3⋅b⋅c + 3⋅d  + 3\n",
       "─ + ─────── + ─────── - 27⋅d⋅e⋅f + ───────────────────────────────────────────\n",
       "       2         2                                                            \n",
       "──────────────────────────────────────────────────────────────────────────────\n",
       "                                                                              \n",
       "                                                                              \n",
       "                                                                              \n",
       "                                                                              \n",
       "                                                                              \n",
       "                                                                              \n",
       "                                                                              \n",
       "\n",
       "______________________________________________________________________________\n",
       "______________________________________________________________________________\n",
       "                           3                                                  \n",
       "  2      2               2⎞    ⎛                  2         2         2       \n",
       "⋅e  + 3⋅f  + (-a - b - c) ⎠  + ⎝-27⋅a⋅b⋅c + 27⋅a⋅e  + 27⋅b⋅f  + 27⋅c⋅d  - 54⋅d\n",
       "──────────────────────────────────────────────────────────────────────────────\n",
       "                                                        2                     \n",
       "──────────────────────────────────────────────────────────────────────────────\n",
       "                                                      3                       \n",
       "                                                                              \n",
       "                                                                              \n",
       "                                                                              \n",
       "                                                                              \n",
       "                                                                              \n",
       "                                                                              \n",
       "\n",
       "______________________________________________________________________________\n",
       "______________________________________________________________________________\n",
       "                                                                             2\n",
       "                          ⎛                   2    2    2⎞                 3⎞ \n",
       "⋅e⋅f - (-9⋅a - 9⋅b - 9⋅c)⋅⎝a⋅b + a⋅c + b⋅c - d  - e  - f ⎠ + 2⋅(-a - b - c) ⎠ \n",
       "──────────────────────────────────────────────────────────────────────────────\n",
       "                                                                              \n",
       "──────────────────────────────────────────────────────────────────────────────\n",
       "                                                                              \n",
       "                                                                              \n",
       "                                                                              \n",
       "                                                                              \n",
       "                                                                              \n",
       "                                                                              \n",
       "                                                                              \n",
       "\n",
       "________________________________________________________________________      \n",
       "_                                                                             \n",
       "                                                                              \n",
       "                       ⎛                   2    2    2⎞                       \n",
       "    (-9⋅a - 9⋅b - 9⋅c)⋅⎝a⋅b + a⋅c + b⋅c - d  - e  - f ⎠               3       \n",
       "─ - ─────────────────────────────────────────────────── + (-a - b - c)        \n",
       "                             2                                               a\n",
       "────────────────────────────────────────────────────────────────────────: 1, ─\n",
       "                                                                             3\n",
       "                                                                              \n",
       "                                                                              \n",
       "                                                                              \n",
       "                                                                              \n",
       "                                                                              \n",
       "                                                                              \n",
       "\n",
       "                                                                              \n",
       "                                                                              \n",
       "                                                                              \n",
       "                                                                              \n",
       "                                                                              \n",
       "                                                                              \n",
       "   b   c                                                                      \n",
       " + ─ + ─ - ───────────────────────────────────────────────────────────────────\n",
       "   3   3                         _____________________________________________\n",
       "                                ╱                                             \n",
       "                               ╱                                              \n",
       "                              ╱                      2         2         2    \n",
       "             ⎛  1   √3⋅ⅈ⎞    ╱      27⋅a⋅b⋅c   27⋅a⋅e    27⋅b⋅f    27⋅c⋅d     \n",
       "           3⋅⎜- ─ + ────⎟⋅3 ╱     - ──────── + ─────── + ─────── + ─────── - 2\n",
       "             ⎝  2    2  ⎠ ╲╱           2          2         2         2       \n",
       "\n",
       "                                                                              \n",
       "                                                                              \n",
       "                                                                              \n",
       "                                                                              \n",
       "                                                                              \n",
       "                                                                              \n",
       "                                                                             -\n",
       "──────────────────────────────────────────────────────────────────────────────\n",
       "______________________________________________________________________________\n",
       "              ________________________________________________________________\n",
       "             ╱                                                                \n",
       "            ╱      ⎛                            2      2      2               \n",
       "          ╲╱   - 4⋅⎝-3⋅a⋅b - 3⋅a⋅c - 3⋅b⋅c + 3⋅d  + 3⋅e  + 3⋅f  + (-a - b - c)\n",
       "7⋅d⋅e⋅f + ────────────────────────────────────────────────────────────────────\n",
       "                                                                              \n",
       "\n",
       "                                                                              \n",
       "                                                                              \n",
       "                                                                              \n",
       "                                                                              \n",
       "                                                                              \n",
       "                           2      2      2               2                    \n",
       "3⋅a⋅b - 3⋅a⋅c - 3⋅b⋅c + 3⋅d  + 3⋅e  + 3⋅f  + (-a - b - c)                     \n",
       "──────────────────────────────────────────────────────────────────────────────\n",
       "______________________________________________________________________________\n",
       "______________________________________________________________________________\n",
       "  3                                                                           \n",
       "2⎞    ⎛                  2         2         2                                \n",
       " ⎠  + ⎝-27⋅a⋅b⋅c + 27⋅a⋅e  + 27⋅b⋅f  + 27⋅c⋅d  - 54⋅d⋅e⋅f - (-9⋅a - 9⋅b - 9⋅c)\n",
       "──────────────────────────────────────────────────────────────────────────────\n",
       "                               2                                              \n",
       "\n",
       "                                                                              \n",
       "                                                                              \n",
       "                                                                              \n",
       "                                                                              \n",
       "                                                                              \n",
       "                                                                              \n",
       "                                                                              \n",
       "──────────────────────────────────────────────────────────────────────────────\n",
       "______________________________________________________________________________\n",
       "______________________________________________________                        \n",
       "                                                    2                         \n",
       " ⎛                   2    2    2⎞                 3⎞                        ⎛ \n",
       "⋅⎝a⋅b + a⋅c + b⋅c - d  - e  - f ⎠ + 2⋅(-a - b - c) ⎠     (-9⋅a - 9⋅b - 9⋅c)⋅⎝a\n",
       "────────────────────────────────────────────────────── - ─────────────────────\n",
       "                                                                              \n",
       "\n",
       "                                                                      ________\n",
       "                                                                     ╱        \n",
       "                                                                    ╱         \n",
       "                                                                   ╱          \n",
       "                                                  ⎛  1   √3⋅ⅈ⎞    ╱      27⋅a⋅\n",
       "                                                  ⎜- ─ + ────⎟⋅3 ╱     - ─────\n",
       "                                                  ⎝  2    2  ⎠ ╲╱           2 \n",
       "─────────────────────────────────────────────── - ────────────────────────────\n",
       "_______________________________________________                               \n",
       "                                                                              \n",
       "                                                                              \n",
       "                  2    2    2⎞                                                \n",
       "⋅b + a⋅c + b⋅c - d  - e  - f ⎠               3                                \n",
       "────────────────────────────── + (-a - b - c)                                 \n",
       "    2                                                                         \n",
       "\n",
       "______________________________________________________________________________\n",
       "                                                   ___________________________\n",
       "                                                  ╱                           \n",
       "            2         2         2                ╱      ⎛                     \n",
       "b⋅c   27⋅a⋅e    27⋅b⋅f    27⋅c⋅d               ╲╱   - 4⋅⎝-3⋅a⋅b - 3⋅a⋅c - 3⋅b⋅\n",
       "─── + ─────── + ─────── + ─────── - 27⋅d⋅e⋅f + ───────────────────────────────\n",
       "         2         2         2                                                \n",
       "──────────────────────────────────────────────────────────────────────────────\n",
       "                                                                              \n",
       "                                                                              \n",
       "                                                                              \n",
       "                                                                              \n",
       "                                                                              \n",
       "                                                                              \n",
       "                                                                              \n",
       "\n",
       "______________________________________________________________________________\n",
       "______________________________________________________________________________\n",
       "                                       3                                      \n",
       "       2      2      2               2⎞    ⎛                  2         2     \n",
       "c + 3⋅d  + 3⋅e  + 3⋅f  + (-a - b - c) ⎠  + ⎝-27⋅a⋅b⋅c + 27⋅a⋅e  + 27⋅b⋅f  + 27\n",
       "──────────────────────────────────────────────────────────────────────────────\n",
       "                                                                    2         \n",
       "──────────────────────────────────────────────────────────────────────────────\n",
       "                                                                  3           \n",
       "                                                                              \n",
       "                                                                              \n",
       "                                                                              \n",
       "                                                                              \n",
       "                                                                              \n",
       "                                                                              \n",
       "\n",
       "______________________________________________________________________________\n",
       "______________________________________________________________________________\n",
       "                                                                              \n",
       "    2                                 ⎛                   2    2    2⎞        \n",
       "⋅c⋅d  - 54⋅d⋅e⋅f - (-9⋅a - 9⋅b - 9⋅c)⋅⎝a⋅b + a⋅c + b⋅c - d  - e  - f ⎠ + 2⋅(-a\n",
       "──────────────────────────────────────────────────────────────────────────────\n",
       "                                                                              \n",
       "──────────────────────────────────────────────────────────────────────────────\n",
       "                                                                              \n",
       "                                                                              \n",
       "                                                                              \n",
       "                                                                              \n",
       "                                                                              \n",
       "                                                                              \n",
       "                                                                              \n",
       "\n",
       "______________________________________________________________________________\n",
       "_____________                                                                 \n",
       "           2                                                                  \n",
       "         3⎞                        ⎛                   2    2    2⎞           \n",
       " - b - c) ⎠     (-9⋅a - 9⋅b - 9⋅c)⋅⎝a⋅b + a⋅c + b⋅c - d  - e  - f ⎠           \n",
       "───────────── - ─────────────────────────────────────────────────── + (-a - b \n",
       "                                         2                                    \n",
       "──────────────────────────────────────────────────────────────────────────────\n",
       "                                                                              \n",
       "                                                                              \n",
       "                                                                              \n",
       "                                                                              \n",
       "                                                                              \n",
       "                                                                              \n",
       "                                                                              \n",
       "\n",
       "______   ⎫\n",
       "         ⎪\n",
       "         ⎪\n",
       "         ⎪\n",
       "    3    ⎪\n",
       "- c)     ⎪\n",
       "         ⎪\n",
       "──────: 1⎬\n",
       "         ⎪\n",
       "         ⎪\n",
       "         ⎪\n",
       "         ⎪\n",
       "         ⎪\n",
       "         ⎪\n",
       "         ⎭"
      ]
     },
     "execution_count": 34,
     "metadata": {},
     "output_type": "execute_result"
    }
   ],
   "source": [
    "I_S_O_mat.eigenvals()"
   ]
  },
  {
   "cell_type": "code",
   "execution_count": 35,
   "metadata": {},
   "outputs": [],
   "source": [
    "a, b, c, d, e, f = sm.symbols('a, b, c, d, e, f', real=True)"
   ]
  },
  {
   "cell_type": "code",
   "execution_count": 36,
   "metadata": {},
   "outputs": [],
   "source": [
    "I_S_O = me.inertia(B, a, b, c, ixy=d, iyz=e, izx=f)"
   ]
  },
  {
   "cell_type": "code",
   "execution_count": 37,
   "metadata": {},
   "outputs": [
    {
     "data": {
      "image/png": "[encoded data removed]",
      "text/latex": [
       "$\\displaystyle \\left\\{ \\frac{\\left(2 a + 2 b + 2 c - 2^{\\frac{2}{3}} \\sqrt[3]{- 27 a b c + 27 a e^{2} + 27 b f^{2} + 27 c d^{2} - 54 d e f + \\sqrt{- 4 \\left(- 3 a b - 3 a c - 3 b c + 3 d^{2} + 3 e^{2} + 3 f^{2} + \\left(a + b + c\\right)^{2}\\right)^{3} + \\left(- 27 a b c + 27 a e^{2} + 27 b f^{2} + 27 c d^{2} - 54 d e f - 2 \\left(a + b + c\\right)^{3} + 9 \\left(a + b + c\\right) \\left(a b + a c + b c - d^{2} - e^{2} - f^{2}\\right)\\right)^{2}} - 2 \\left(a + b + c\\right)^{3} + 9 \\left(a + b + c\\right) \\left(a b + a c + b c - d^{2} - e^{2} - f^{2}\\right)}\\right) \\sqrt[3]{- 27 a b c + 27 a e^{2} + 27 b f^{2} + 27 c d^{2} - 54 d e f + \\sqrt{- 4 \\left(- 3 a b - 3 a c - 3 b c + 3 d^{2} + 3 e^{2} + 3 f^{2} + \\left(a + b + c\\right)^{2}\\right)^{3} + \\left(- 27 a b c + 27 a e^{2} + 27 b f^{2} + 27 c d^{2} - 54 d e f - 2 \\left(a + b + c\\right)^{3} + 9 \\left(a + b + c\\right) \\left(a b + a c + b c - d^{2} - e^{2} - f^{2}\\right)\\right)^{2}} - 2 \\left(a + b + c\\right)^{3} + 9 \\left(a + b + c\\right) \\left(a b + a c + b c - d^{2} - e^{2} - f^{2}\\right)} + 2 \\sqrt[3]{2} \\left(3 a b + 3 a c + 3 b c - 3 d^{2} - 3 e^{2} - 3 f^{2} - \\left(a + b + c\\right)^{2}\\right)}{6 \\sqrt[3]{- 27 a b c + 27 a e^{2} + 27 b f^{2} + 27 c d^{2} - 54 d e f + \\sqrt{- 4 \\left(- 3 a b - 3 a c - 3 b c + 3 d^{2} + 3 e^{2} + 3 f^{2} + \\left(a + b + c\\right)^{2}\\right)^{3} + \\left(- 27 a b c + 27 a e^{2} + 27 b f^{2} + 27 c d^{2} - 54 d e f - 2 \\left(a + b + c\\right)^{3} + 9 \\left(a + b + c\\right) \\left(a b + a c + b c - d^{2} - e^{2} - f^{2}\\right)\\right)^{2}} - 2 \\left(a + b + c\\right)^{3} + 9 \\left(a + b + c\\right) \\left(a b + a c + b c - d^{2} - e^{2} - f^{2}\\right)}} : 1, \\  \\frac{\\left(1 - \\sqrt{3} i\\right) \\left(4 a + 4 b + 4 c + 2^{\\frac{2}{3}} \\left(1 - \\sqrt{3} i\\right) \\sqrt[3]{- 27 a b c + 27 a e^{2} + 27 b f^{2} + 27 c d^{2} - 54 d e f + \\sqrt{- 4 \\left(- 3 a b - 3 a c - 3 b c + 3 d^{2} + 3 e^{2} + 3 f^{2} + \\left(a + b + c\\right)^{2}\\right)^{3} + \\left(- 27 a b c + 27 a e^{2} + 27 b f^{2} + 27 c d^{2} - 54 d e f - 2 \\left(a + b + c\\right)^{3} + 9 \\left(a + b + c\\right) \\left(a b + a c + b c - d^{2} - e^{2} - f^{2}\\right)\\right)^{2}} - 2 \\left(a + b + c\\right)^{3} + 9 \\left(a + b + c\\right) \\left(a b + a c + b c - d^{2} - e^{2} - f^{2}\\right)}\\right) \\sqrt[3]{- 27 a b c + 27 a e^{2} + 27 b f^{2} + 27 c d^{2} - 54 d e f + \\sqrt{- 4 \\left(- 3 a b - 3 a c - 3 b c + 3 d^{2} + 3 e^{2} + 3 f^{2} + \\left(a + b + c\\right)^{2}\\right)^{3} + \\left(- 27 a b c + 27 a e^{2} + 27 b f^{2} + 27 c d^{2} - 54 d e f - 2 \\left(a + b + c\\right)^{3} + 9 \\left(a + b + c\\right) \\left(a b + a c + b c - d^{2} - e^{2} - f^{2}\\right)\\right)^{2}} - 2 \\left(a + b + c\\right)^{3} + 9 \\left(a + b + c\\right) \\left(a b + a c + b c - d^{2} - e^{2} - f^{2}\\right)} + 8 \\sqrt[3]{2} \\left(- 3 a b - 3 a c - 3 b c + 3 d^{2} + 3 e^{2} + 3 f^{2} + \\left(a + b + c\\right)^{2}\\right)}{12 \\left(1 - \\sqrt{3} i\\right) \\sqrt[3]{- 27 a b c + 27 a e^{2} + 27 b f^{2} + 27 c d^{2} - 54 d e f + \\sqrt{- 4 \\left(- 3 a b - 3 a c - 3 b c + 3 d^{2} + 3 e^{2} + 3 f^{2} + \\left(a + b + c\\right)^{2}\\right)^{3} + \\left(- 27 a b c + 27 a e^{2} + 27 b f^{2} + 27 c d^{2} - 54 d e f - 2 \\left(a + b + c\\right)^{3} + 9 \\left(a + b + c\\right) \\left(a b + a c + b c - d^{2} - e^{2} - f^{2}\\right)\\right)^{2}} - 2 \\left(a + b + c\\right)^{3} + 9 \\left(a + b + c\\right) \\left(a b + a c + b c - d^{2} - e^{2} - f^{2}\\right)}} : 1, \\  \\frac{\\left(1 + \\sqrt{3} i\\right) \\left(4 a + 4 b + 4 c + 2^{\\frac{2}{3}} \\left(1 + \\sqrt{3} i\\right) \\sqrt[3]{- 27 a b c + 27 a e^{2} + 27 b f^{2} + 27 c d^{2} - 54 d e f + \\sqrt{- 4 \\left(- 3 a b - 3 a c - 3 b c + 3 d^{2} + 3 e^{2} + 3 f^{2} + \\left(a + b + c\\right)^{2}\\right)^{3} + \\left(- 27 a b c + 27 a e^{2} + 27 b f^{2} + 27 c d^{2} - 54 d e f - 2 \\left(a + b + c\\right)^{3} + 9 \\left(a + b + c\\right) \\left(a b + a c + b c - d^{2} - e^{2} - f^{2}\\right)\\right)^{2}} - 2 \\left(a + b + c\\right)^{3} + 9 \\left(a + b + c\\right) \\left(a b + a c + b c - d^{2} - e^{2} - f^{2}\\right)}\\right) \\sqrt[3]{- 27 a b c + 27 a e^{2} + 27 b f^{2} + 27 c d^{2} - 54 d e f + \\sqrt{- 4 \\left(- 3 a b - 3 a c - 3 b c + 3 d^{2} + 3 e^{2} + 3 f^{2} + \\left(a + b + c\\right)^{2}\\right)^{3} + \\left(- 27 a b c + 27 a e^{2} + 27 b f^{2} + 27 c d^{2} - 54 d e f - 2 \\left(a + b + c\\right)^{3} + 9 \\left(a + b + c\\right) \\left(a b + a c + b c - d^{2} - e^{2} - f^{2}\\right)\\right)^{2}} - 2 \\left(a + b + c\\right)^{3} + 9 \\left(a + b + c\\right) \\left(a b + a c + b c - d^{2} - e^{2} - f^{2}\\right)} + 8 \\sqrt[3]{2} \\left(- 3 a b - 3 a c - 3 b c + 3 d^{2} + 3 e^{2} + 3 f^{2} + \\left(a + b + c\\right)^{2}\\right)}{12 \\left(1 + \\sqrt{3} i\\right) \\sqrt[3]{- 27 a b c + 27 a e^{2} + 27 b f^{2} + 27 c d^{2} - 54 d e f + \\sqrt{- 4 \\left(- 3 a b - 3 a c - 3 b c + 3 d^{2} + 3 e^{2} + 3 f^{2} + \\left(a + b + c\\right)^{2}\\right)^{3} + \\left(- 27 a b c + 27 a e^{2} + 27 b f^{2} + 27 c d^{2} - 54 d e f - 2 \\left(a + b + c\\right)^{3} + 9 \\left(a + b + c\\right) \\left(a b + a c + b c - d^{2} - e^{2} - f^{2}\\right)\\right)^{2}} - 2 \\left(a + b + c\\right)^{3} + 9 \\left(a + b + c\\right) \\left(a b + a c + b c - d^{2} - e^{2} - f^{2}\\right)}} : 1\\right\\}$"
      ],
      "text/plain": [
       "⎧⎛                            ________________________________________________\n",
       "⎪⎜                           ╱                                                \n",
       "⎪⎜                          ╱                                                 \n",
       "⎪⎜                   2/3 3 ╱                     2         2         2        \n",
       "⎪⎝2⋅a + 2⋅b + 2⋅c - 2   ⋅╲╱    -27⋅a⋅b⋅c + 27⋅a⋅e  + 27⋅b⋅f  + 27⋅c⋅d  - 54⋅d⋅\n",
       "⎨─────────────────────────────────────────────────────────────────────────────\n",
       "⎪                                                                             \n",
       "⎪                                                                             \n",
       "⎪                                                                             \n",
       "⎪                                                                             \n",
       "⎩                                                                             \n",
       "\n",
       "______________________________________________________________________________\n",
       "          ____________________________________________________________________\n",
       "         ╱                                                                 3  \n",
       "        ╱      ⎛                            2      2      2              2⎞   \n",
       "e⋅f + ╲╱   - 4⋅⎝-3⋅a⋅b - 3⋅a⋅c - 3⋅b⋅c + 3⋅d  + 3⋅e  + 3⋅f  + (a + b + c) ⎠  +\n",
       "──────────────────────────────────────────────────────────────────────────────\n",
       "                                                                              \n",
       "                                                                              \n",
       "                                                                              \n",
       "                                                                              \n",
       "                                                                              \n",
       "\n",
       "______________________________________________________________________________\n",
       "______________________________________________________________________________\n",
       "                                                                              \n",
       " ⎛                  2         2         2                           3         \n",
       " ⎝-27⋅a⋅b⋅c + 27⋅a⋅e  + 27⋅b⋅f  + 27⋅c⋅d  - 54⋅d⋅e⋅f - 2⋅(a + b + c)  + 9⋅(a +\n",
       "──────────────────────────────────────────────────────────────────────────────\n",
       "                                                          ____________________\n",
       "                                                         ╱                    \n",
       "                                                        ╱                     \n",
       "                                                     3 ╱                     2\n",
       "                                                   6⋅╲╱    -27⋅a⋅b⋅c + 27⋅a⋅e \n",
       "\n",
       "______________________________________________________________________________\n",
       "___________________________________________                                   \n",
       "                                         2                                    \n",
       "        ⎛                   2    2    2⎞⎞                  3                 ⎛\n",
       " b + c)⋅⎝a⋅b + a⋅c + b⋅c - d  - e  - f ⎠⎠   - 2⋅(a + b + c)  + 9⋅(a + b + c)⋅⎝\n",
       "──────────────────────────────────────────────────────────────────────────────\n",
       "______________________________________________________________________________\n",
       "                                      ________________________________________\n",
       "                                     ╱                                        \n",
       "         2         2                ╱      ⎛                            2     \n",
       " + 27⋅b⋅f  + 27⋅c⋅d  - 54⋅d⋅e⋅f + ╲╱   - 4⋅⎝-3⋅a⋅b - 3⋅a⋅c - 3⋅b⋅c + 3⋅d  + 3⋅\n",
       "\n",
       "________________________________⎞      _______________________________________\n",
       "                                ⎟     ╱                                       \n",
       "                                ⎟    ╱                                        \n",
       "                   2    2    2⎞ ⎟ 3 ╱                     2         2         \n",
       "a⋅b + a⋅c + b⋅c - d  - e  - f ⎠ ⎠⋅╲╱    -27⋅a⋅b⋅c + 27⋅a⋅e  + 27⋅b⋅f  + 27⋅c⋅d\n",
       "──────────────────────────────────────────────────────────────────────────────\n",
       "______________________________________________________________________________\n",
       "______________________________________________________________________________\n",
       "                         3                                                    \n",
       " 2      2              2⎞    ⎛                  2         2         2         \n",
       "e  + 3⋅f  + (a + b + c) ⎠  + ⎝-27⋅a⋅b⋅c + 27⋅a⋅e  + 27⋅b⋅f  + 27⋅c⋅d  - 54⋅d⋅e\n",
       "\n",
       "______________________________________________________________________________\n",
       "                   ___________________________________________________________\n",
       "                  ╱                                                           \n",
       "2                ╱      ⎛                            2      2      2          \n",
       "  - 54⋅d⋅e⋅f + ╲╱   - 4⋅⎝-3⋅a⋅b - 3⋅a⋅c - 3⋅b⋅c + 3⋅d  + 3⋅e  + 3⋅f  + (a + b \n",
       "──────────────────────────────────────────────────────────────────────────────\n",
       "______________________________________________________________________________\n",
       "_______________________________________________________________________       \n",
       "                                                                     2        \n",
       "                  3                 ⎛                   2    2    2⎞⎞         \n",
       "⋅f - 2⋅(a + b + c)  + 9⋅(a + b + c)⋅⎝a⋅b + a⋅c + b⋅c - d  - e  - f ⎠⎠   - 2⋅(a\n",
       "\n",
       "______________________________________________________________________________\n",
       "______________________________________________________________________________\n",
       "      3                                                                       \n",
       "    2⎞    ⎛                  2         2         2                           3\n",
       "+ c) ⎠  + ⎝-27⋅a⋅b⋅c + 27⋅a⋅e  + 27⋅b⋅f  + 27⋅c⋅d  - 54⋅d⋅e⋅f - 2⋅(a + b + c) \n",
       "──────────────────────────────────────────────────────────────────────────────\n",
       "____________________________________________________________                  \n",
       "                                                                              \n",
       "                                                                              \n",
       "         3                 ⎛                   2    2    2⎞                   \n",
       " + b + c)  + 9⋅(a + b + c)⋅⎝a⋅b + a⋅c + b⋅c - d  - e  - f ⎠                   \n",
       "\n",
       "______________________________________________________________________________\n",
       "____________________________________________________                          \n",
       "                                                  2                           \n",
       "                 ⎛                   2    2    2⎞⎞                  3         \n",
       " + 9⋅(a + b + c)⋅⎝a⋅b + a⋅c + b⋅c - d  - e  - f ⎠⎠   - 2⋅(a + b + c)  + 9⋅(a +\n",
       "──────────────────────────────────────────────────────────────────────────────\n",
       "                                                                              \n",
       "                                                                              \n",
       "                                                                              \n",
       "                                                                              \n",
       "                                                                              \n",
       "\n",
       "_________________________________________                                     \n",
       "                                                                              \n",
       "                                                                              \n",
       "        ⎛                   2    2    2⎞      3 ___ ⎛                         \n",
       " b + c)⋅⎝a⋅b + a⋅c + b⋅c - d  - e  - f ⎠  + 2⋅╲╱ 2 ⋅⎝3⋅a⋅b + 3⋅a⋅c + 3⋅b⋅c - 3\n",
       "──────────────────────────────────────────────────────────────────────────────\n",
       "                                                                              \n",
       "                                                                              \n",
       "                                                                              \n",
       "                                                                              \n",
       "                                                                              \n",
       "\n",
       "                                                 ⎛                            \n",
       "                                                 ⎜                            \n",
       "                                                 ⎜                            \n",
       "  2      2      2              2⎞                ⎜                   2/3      \n",
       "⋅d  - 3⋅e  - 3⋅f  - (a + b + c) ⎠     (1 - √3⋅ⅈ)⋅⎝4⋅a + 4⋅b + 4⋅c + 2   ⋅(1 - \n",
       "─────────────────────────────────: 1, ────────────────────────────────────────\n",
       "                                                                              \n",
       "                                                                              \n",
       "                                                                              \n",
       "                                                                              \n",
       "                                                                              \n",
       "\n",
       "           ___________________________________________________________________\n",
       "          ╱                                                          _________\n",
       "         ╱                                                          ╱         \n",
       "      3 ╱                     2         2         2                ╱      ⎛   \n",
       "√3⋅ⅈ)⋅╲╱    -27⋅a⋅b⋅c + 27⋅a⋅e  + 27⋅b⋅f  + 27⋅c⋅d  - 54⋅d⋅e⋅f + ╲╱   - 4⋅⎝-3⋅\n",
       "──────────────────────────────────────────────────────────────────────────────\n",
       "                                                                              \n",
       "                                                                              \n",
       "                                                                              \n",
       "                                                                              \n",
       "                                                                              \n",
       "\n",
       "______________________________________________________________________________\n",
       "______________________________________________________________________________\n",
       "                                                        3                     \n",
       "                         2      2      2              2⎞    ⎛                 \n",
       "a⋅b - 3⋅a⋅c - 3⋅b⋅c + 3⋅d  + 3⋅e  + 3⋅f  + (a + b + c) ⎠  + ⎝-27⋅a⋅b⋅c + 27⋅a⋅\n",
       "──────────────────────────────────────────────────────────────────────────────\n",
       "                                                                              \n",
       "                                                                              \n",
       "                                                                              \n",
       "                                                                              \n",
       "                                                                              \n",
       "\n",
       "______________________________________________________________________________\n",
       "______________________________________________________________________________\n",
       "                                                                              \n",
       " 2         2         2                           3                 ⎛          \n",
       "e  + 27⋅b⋅f  + 27⋅c⋅d  - 54⋅d⋅e⋅f - 2⋅(a + b + c)  + 9⋅(a + b + c)⋅⎝a⋅b + a⋅c \n",
       "──────────────────────────────────────────────────────────────────────────────\n",
       "                                   ___________________________________________\n",
       "                                  ╱                                           \n",
       "                                 ╱                                            \n",
       "                              3 ╱                     2         2         2   \n",
       "                12⋅(1 - √3⋅ⅈ)⋅╲╱    -27⋅a⋅b⋅c + 27⋅a⋅e  + 27⋅b⋅f  + 27⋅c⋅d  - \n",
       "\n",
       "______________________________________________________________________________\n",
       "________________________                                                      \n",
       "                      2                                                       \n",
       "         2    2    2⎞⎞                  3                 ⎛                   \n",
       "+ b⋅c - d  - e  - f ⎠⎠   - 2⋅(a + b + c)  + 9⋅(a + b + c)⋅⎝a⋅b + a⋅c + b⋅c - d\n",
       "──────────────────────────────────────────────────────────────────────────────\n",
       "______________________________________________________________________________\n",
       "               _______________________________________________________________\n",
       "              ╱                                                               \n",
       "             ╱      ⎛                            2      2      2              \n",
       "54⋅d⋅e⋅f + ╲╱   - 4⋅⎝-3⋅a⋅b - 3⋅a⋅c - 3⋅b⋅c + 3⋅d  + 3⋅e  + 3⋅f  + (a + b + c)\n",
       "\n",
       "_____________⎞      __________________________________________________________\n",
       "             ⎟     ╱                                                          \n",
       "             ⎟    ╱                                                          ╱\n",
       "2    2    2⎞ ⎟ 3 ╱                     2         2         2                ╱ \n",
       "  - e  - f ⎠ ⎠⋅╲╱    -27⋅a⋅b⋅c + 27⋅a⋅e  + 27⋅b⋅f  + 27⋅c⋅d  - 54⋅d⋅e⋅f + ╲╱  \n",
       "──────────────────────────────────────────────────────────────────────────────\n",
       "______________________________________________________________________________\n",
       "______________________________________________________________________________\n",
       "  3                                                                           \n",
       "2⎞    ⎛                  2         2         2                           3    \n",
       " ⎠  + ⎝-27⋅a⋅b⋅c + 27⋅a⋅e  + 27⋅b⋅f  + 27⋅c⋅d  - 54⋅d⋅e⋅f - 2⋅(a + b + c)  + 9\n",
       "\n",
       "______________________________________________________________________________\n",
       "______________________________________________________________________________\n",
       "                                                                 3            \n",
       "     ⎛                            2      2      2              2⎞    ⎛        \n",
       " - 4⋅⎝-3⋅a⋅b - 3⋅a⋅c - 3⋅b⋅c + 3⋅d  + 3⋅e  + 3⋅f  + (a + b + c) ⎠  + ⎝-27⋅a⋅b⋅\n",
       "──────────────────────────────────────────────────────────────────────────────\n",
       "______________________________________________________________________________\n",
       "________________________________________________                              \n",
       "                                              2                               \n",
       "             ⎛                   2    2    2⎞⎞                  3             \n",
       "⋅(a + b + c)⋅⎝a⋅b + a⋅c + b⋅c - d  - e  - f ⎠⎠   - 2⋅(a + b + c)  + 9⋅(a + b +\n",
       "\n",
       "______________________________________________________________________________\n",
       "______________________________________________________________________________\n",
       "                                                                              \n",
       "          2         2         2                           3                 ⎛ \n",
       "c + 27⋅a⋅e  + 27⋅b⋅f  + 27⋅c⋅d  - 54⋅d⋅e⋅f - 2⋅(a + b + c)  + 9⋅(a + b + c)⋅⎝a\n",
       "──────────────────────────────────────────────────────────────────────────────\n",
       "_____________________________________                                         \n",
       "                                                                              \n",
       "                                                                              \n",
       "    ⎛                   2    2    2⎞                                          \n",
       " c)⋅⎝a⋅b + a⋅c + b⋅c - d  - e  - f ⎠                                          \n",
       "\n",
       "______________________________________________________________________________\n",
       "_________________________________                                             \n",
       "                               2                                              \n",
       "                  2    2    2⎞⎞                  3                 ⎛          \n",
       "⋅b + a⋅c + b⋅c - d  - e  - f ⎠⎠   - 2⋅(a + b + c)  + 9⋅(a + b + c)⋅⎝a⋅b + a⋅c \n",
       "──────────────────────────────────────────────────────────────────────────────\n",
       "                                                                              \n",
       "                                                                              \n",
       "                                                                              \n",
       "                                                                              \n",
       "                                                                              \n",
       "\n",
       "______________________                                                        \n",
       "                                                                              \n",
       "                                                                              \n",
       "         2    2    2⎞      3 ___ ⎛                            2      2      2 \n",
       "+ b⋅c - d  - e  - f ⎠  + 8⋅╲╱ 2 ⋅⎝-3⋅a⋅b - 3⋅a⋅c - 3⋅b⋅c + 3⋅d  + 3⋅e  + 3⋅f  \n",
       "──────────────────────────────────────────────────────────────────────────────\n",
       "                                                                              \n",
       "                                                                              \n",
       "                                                                              \n",
       "                                                                              \n",
       "                                                                              \n",
       "\n",
       "                               ⎛                                       _______\n",
       "                               ⎜                                      ╱       \n",
       "                               ⎜                                     ╱        \n",
       "             2⎞                ⎜                   2/3            3 ╱         \n",
       "+ (a + b + c) ⎠     (1 + √3⋅ⅈ)⋅⎝4⋅a + 4⋅b + 4⋅c + 2   ⋅(1 + √3⋅ⅈ)⋅╲╱    -27⋅a⋅\n",
       "───────────────: 1, ──────────────────────────────────────────────────────────\n",
       "                                                                              \n",
       "                                                                              \n",
       "                                                                              \n",
       "                                                                              \n",
       "                                                                              \n",
       "\n",
       "______________________________________________________________________________\n",
       "                                                   ___________________________\n",
       "                                                  ╱                           \n",
       "            2         2         2                ╱      ⎛                     \n",
       "b⋅c + 27⋅a⋅e  + 27⋅b⋅f  + 27⋅c⋅d  - 54⋅d⋅e⋅f + ╲╱   - 4⋅⎝-3⋅a⋅b - 3⋅a⋅c - 3⋅b⋅\n",
       "──────────────────────────────────────────────────────────────────────────────\n",
       "                                                                              \n",
       "                                                                              \n",
       "                                                                              \n",
       "                                                                              \n",
       "                                                                              \n",
       "\n",
       "______________________________________________________________________________\n",
       "______________________________________________________________________________\n",
       "                                      3                                       \n",
       "       2      2      2              2⎞    ⎛                  2         2      \n",
       "c + 3⋅d  + 3⋅e  + 3⋅f  + (a + b + c) ⎠  + ⎝-27⋅a⋅b⋅c + 27⋅a⋅e  + 27⋅b⋅f  + 27⋅\n",
       "──────────────────────────────────────────────────────────────────────────────\n",
       "                                                                              \n",
       "                                                                              \n",
       "                                                                              \n",
       "                                                                              \n",
       "                                                                            12\n",
       "\n",
       "______________________________________________________________________________\n",
       "______________________________________________________________________________\n",
       "                                                                              \n",
       "   2                           3                 ⎛                   2    2   \n",
       "c⋅d  - 54⋅d⋅e⋅f - 2⋅(a + b + c)  + 9⋅(a + b + c)⋅⎝a⋅b + a⋅c + b⋅c - d  - e  - \n",
       "──────────────────────────────────────────────────────────────────────────────\n",
       "                 _____________________________________________________________\n",
       "                ╱                                                          ___\n",
       "               ╱                                                          ╱   \n",
       "            3 ╱                     2         2         2                ╱    \n",
       "⋅(1 + √3⋅ⅈ)⋅╲╱    -27⋅a⋅b⋅c + 27⋅a⋅e  + 27⋅b⋅f  + 27⋅c⋅d  - 54⋅d⋅e⋅f + ╲╱   - \n",
       "\n",
       "_________________________________________________________________________⎞    \n",
       "______                                                                   ⎟    \n",
       "    2                                                                    ⎟    \n",
       " 2⎞⎞                  3                 ⎛                   2    2    2⎞ ⎟ 3 ╱\n",
       "f ⎠⎠   - 2⋅(a + b + c)  + 9⋅(a + b + c)⋅⎝a⋅b + a⋅c + b⋅c - d  - e  - f ⎠ ⎠⋅╲╱ \n",
       "──────────────────────────────────────────────────────────────────────────────\n",
       "______________________________________________________________________________\n",
       "______________________________________________________________________________\n",
       "                                                              3               \n",
       "  ⎛                            2      2      2              2⎞    ⎛           \n",
       "4⋅⎝-3⋅a⋅b - 3⋅a⋅c - 3⋅b⋅c + 3⋅d  + 3⋅e  + 3⋅f  + (a + b + c) ⎠  + ⎝-27⋅a⋅b⋅c +\n",
       "\n",
       "  ____________________________________________________________________________\n",
       " ╱                                                          __________________\n",
       "╱                                                          ╱                  \n",
       "                     2         2         2                ╱      ⎛            \n",
       "   -27⋅a⋅b⋅c + 27⋅a⋅e  + 27⋅b⋅f  + 27⋅c⋅d  - 54⋅d⋅e⋅f + ╲╱   - 4⋅⎝-3⋅a⋅b - 3⋅a\n",
       "──────────────────────────────────────────────────────────────────────────────\n",
       "______________________________________________________________________________\n",
       "______________________________________________________________________________\n",
       "                                                                              \n",
       "       2         2         2                           3                 ⎛    \n",
       " 27⋅a⋅e  + 27⋅b⋅f  + 27⋅c⋅d  - 54⋅d⋅e⋅f - 2⋅(a + b + c)  + 9⋅(a + b + c)⋅⎝a⋅b \n",
       "\n",
       "______________________________________________________________________________\n",
       "______________________________________________________________________________\n",
       "                                               3                              \n",
       "                2      2      2              2⎞    ⎛                  2       \n",
       "⋅c - 3⋅b⋅c + 3⋅d  + 3⋅e  + 3⋅f  + (a + b + c) ⎠  + ⎝-27⋅a⋅b⋅c + 27⋅a⋅e  + 27⋅b\n",
       "──────────────────────────────────────────────────────────────────────────────\n",
       "______________________________________________________________________________\n",
       "______________________________                                                \n",
       "                            2                                                 \n",
       "               2    2    2⎞⎞                  3                 ⎛             \n",
       "+ a⋅c + b⋅c - d  - e  - f ⎠⎠   - 2⋅(a + b + c)  + 9⋅(a + b + c)⋅⎝a⋅b + a⋅c + b\n",
       "\n",
       "______________________________________________________________________________\n",
       "______________________________________________________________________________\n",
       "                                                                              \n",
       "  2         2                           3                 ⎛                   \n",
       "⋅f  + 27⋅c⋅d  - 54⋅d⋅e⋅f - 2⋅(a + b + c)  + 9⋅(a + b + c)⋅⎝a⋅b + a⋅c + b⋅c - d\n",
       "──────────────────────────────────────────────────────────────────────────────\n",
       "___________________                                                           \n",
       "                                                                              \n",
       "                                                                              \n",
       "      2    2    2⎞                                                            \n",
       "⋅c - d  - e  - f ⎠                                                            \n",
       "\n",
       "______________________________________________________________________________\n",
       "_______________                                                               \n",
       "             2                                                                \n",
       "2    2    2⎞⎞                  3                 ⎛                   2    2   \n",
       "  - e  - f ⎠⎠   - 2⋅(a + b + c)  + 9⋅(a + b + c)⋅⎝a⋅b + a⋅c + b⋅c - d  - e  - \n",
       "──────────────────────────────────────────────────────────────────────────────\n",
       "                                                                              \n",
       "                                                                              \n",
       "                                                                              \n",
       "                                                                              \n",
       "                                                                              \n",
       "\n",
       "____                                                                          \n",
       "                                                                              \n",
       "                                                                              \n",
       " 2⎞      3 ___ ⎛                            2      2      2              2⎞   \n",
       "f ⎠  + 8⋅╲╱ 2 ⋅⎝-3⋅a⋅b - 3⋅a⋅c - 3⋅b⋅c + 3⋅d  + 3⋅e  + 3⋅f  + (a + b + c) ⎠   \n",
       "───────────────────────────────────────────────────────────────────────────: 1\n",
       "                                                                              \n",
       "                                                                              \n",
       "                                                                              \n",
       "                                                                              \n",
       "                                                                              \n",
       "\n",
       "⎫\n",
       "⎪\n",
       "⎪\n",
       "⎪\n",
       "⎪\n",
       "⎬\n",
       "⎪\n",
       "⎪\n",
       "⎪\n",
       "⎪\n",
       "⎭"
      ]
     },
     "execution_count": 37,
     "metadata": {},
     "output_type": "execute_result"
    }
   ],
   "source": [
    "I_S_O.to_matrix(B).eigenvals(simplify=True)"
   ]
  },
  {
   "cell_type": "code",
   "execution_count": 38,
   "metadata": {},
   "outputs": [],
   "source": [
    "I_S_O = me.inertia(B, 1, 2, 3, ixy=4, iyz=5, izx=6)"
   ]
  },
  {
   "cell_type": "code",
   "execution_count": 39,
   "metadata": {},
   "outputs": [],
   "source": [
    "evals = I_S_O.to_matrix(B).eigenvals()"
   ]
  },
  {
   "cell_type": "code",
   "execution_count": 40,
   "metadata": {},
   "outputs": [
    {
     "data": {
      "text/plain": [
       "dict"
      ]
     },
     "execution_count": 40,
     "metadata": {},
     "output_type": "execute_result"
    }
   ],
   "source": [
    "type(evals)"
   ]
  },
  {
   "cell_type": "code",
   "execution_count": 41,
   "metadata": {},
   "outputs": [
    {
     "data": {
      "image/png": "[encoded data removed]",
      "text/latex": [
       "$\\displaystyle 12.1283934117396 - 2.0 \\cdot 10^{-21} i$"
      ],
      "text/plain": [
       "12.1283934117396 - 0.e-21⋅ⅈ"
      ]
     },
     "execution_count": 41,
     "metadata": {},
     "output_type": "execute_result"
    }
   ],
   "source": [
    "list(evals.keys())[0].evalf()"
   ]
  },
  {
   "cell_type": "code",
   "execution_count": 42,
   "metadata": {},
   "outputs": [
    {
     "data": {
      "image/png": "[encoded data removed]",
      "text/latex": [
       "$\\displaystyle -4.09460204978673 - 2.0 \\cdot 10^{-22} i$"
      ],
      "text/plain": [
       "-4.09460204978673 - 0.e-22⋅ⅈ"
      ]
     },
     "execution_count": 42,
     "metadata": {},
     "output_type": "execute_result"
    }
   ],
   "source": [
    "list(evals.keys())[1].evalf()"
   ]
  },
  {
   "cell_type": "code",
   "execution_count": 43,
   "metadata": {},
   "outputs": [
    {
     "data": {
      "image/png": "[encoded data removed]",
      "text/latex": [
       "$\\displaystyle -2.03379136195286 + 4.0 \\cdot 10^{-22} i$"
      ],
      "text/plain": [
       "-2.03379136195286 + 0.e-22⋅ⅈ"
      ]
     },
     "execution_count": 43,
     "metadata": {},
     "output_type": "execute_result"
    }
   ],
   "source": [
    "list(evals.keys())[2].evalf()"
   ]
  },
  {
   "cell_type": "code",
   "execution_count": 44,
   "metadata": {},
   "outputs": [],
   "source": [
    "I = me.inertia(B, a, b, c)"
   ]
  },
  {
   "cell_type": "code",
   "execution_count": 45,
   "metadata": {},
   "outputs": [
    {
     "data": {
      "image/png": "[encoded data removed]",
      "text/latex": [
       "$\\displaystyle \\left\\{ a : 1, \\  b : 1, \\  c : 1\\right\\}$"
      ],
      "text/plain": [
       "{a: 1, b: 1, c: 1}"
      ]
     },
     "execution_count": 45,
     "metadata": {},
     "output_type": "execute_result"
    }
   ],
   "source": [
    "I.to_matrix(B).eigenvals()"
   ]
  },
  {
   "cell_type": "code",
   "execution_count": 46,
   "metadata": {},
   "outputs": [],
   "source": [
    "I = me.inertia(B, a, b, c, ixy=d)"
   ]
  },
  {
   "cell_type": "code",
   "execution_count": 47,
   "metadata": {},
   "outputs": [
    {
     "data": {
      "image/png": "[encoded data removed]",
      "text/latex": [
       "$\\displaystyle \\left\\{ c : 1, \\  \\frac{a}{2} + \\frac{b}{2} - \\frac{\\sqrt{a^{2} - 2 a b + b^{2} + 4 d^{2}}}{2} : 1, \\  \\frac{a}{2} + \\frac{b}{2} + \\frac{\\sqrt{a^{2} - 2 a b + b^{2} + 4 d^{2}}}{2} : 1\\right\\}$"
      ],
      "text/plain": [
       "⎧                 ________________________                ____________________\n",
       "⎪                ╱  2            2      2                ╱  2            2    \n",
       "⎨      a   b   ╲╱  a  - 2⋅a⋅b + b  + 4⋅d       a   b   ╲╱  a  - 2⋅a⋅b + b  + 4\n",
       "⎪c: 1, ─ + ─ - ───────────────────────────: 1, ─ + ─ + ───────────────────────\n",
       "⎩      2   2                2                  2   2                2         \n",
       "\n",
       "____   ⎫\n",
       "  2    ⎪\n",
       "⋅d     ⎬\n",
       "────: 1⎪\n",
       "       ⎭"
      ]
     },
     "execution_count": 47,
     "metadata": {},
     "output_type": "execute_result"
    }
   ],
   "source": [
    "I.to_matrix(B).eigenvals()"
   ]
  },
  {
   "cell_type": "code",
   "execution_count": 48,
   "metadata": {},
   "outputs": [
    {
     "data": {
      "text/latex": [
       "$\\displaystyle \\left[ \\left( c, \\  1, \\  \\left[ \\left[\\begin{matrix}0\\\\0\\\\1\\end{matrix}\\right]\\right]\\right), \\  \\left( \\frac{a}{2} + \\frac{b}{2} - \\frac{\\sqrt{a^{2} - 2 a b + b^{2} + 4 d^{2}}}{2}, \\  1, \\  \\left[ \\left[\\begin{matrix}- \\frac{d}{\\frac{a}{2} - \\frac{b}{2} + \\frac{\\sqrt{a^{2} - 2 a b + b^{2} + 4 d^{2}}}{2}}\\\\1\\\\0\\end{matrix}\\right]\\right]\\right), \\  \\left( \\frac{a}{2} + \\frac{b}{2} + \\frac{\\sqrt{a^{2} - 2 a b + b^{2} + 4 d^{2}}}{2}, \\  1, \\  \\left[ \\left[\\begin{matrix}- \\frac{d}{\\frac{a}{2} - \\frac{b}{2} - \\frac{\\sqrt{a^{2} - 2 a b + b^{2} + 4 d^{2}}}{2}}\\\\1\\\\0\\end{matrix}\\right]\\right]\\right)\\right]$"
      ],
      "text/plain": [
       "⎡               ⎛                                        ⎡⎡                -d \n",
       "⎢               ⎜                                        ⎢⎢───────────────────\n",
       "⎢               ⎜           ________________________     ⎢⎢           ________\n",
       "⎢⎛      ⎡⎡0⎤⎤⎞  ⎜          ╱  2            2      2      ⎢⎢          ╱  2     \n",
       "⎢⎜      ⎢⎢ ⎥⎥⎟  ⎜a   b   ╲╱  a  - 2⋅a⋅b + b  + 4⋅d       ⎢⎢a   b   ╲╱  a  - 2⋅\n",
       "⎢⎜c, 1, ⎢⎢0⎥⎥⎟, ⎜─ + ─ - ───────────────────────────, 1, ⎢⎢─ - ─ + ───────────\n",
       "⎢⎜      ⎢⎢ ⎥⎥⎟  ⎜2   2                2                  ⎢⎢2   2              \n",
       "⎢⎝      ⎣⎣1⎦⎦⎠  ⎜                                        ⎢⎢                   \n",
       "⎢               ⎜                                        ⎢⎢                 1 \n",
       "⎢               ⎜                                        ⎢⎢                   \n",
       "⎣               ⎝                                        ⎣⎣                 0 \n",
       "\n",
       "                ⎤⎤⎞  ⎛                                        ⎡⎡              \n",
       "────────────────⎥⎥⎟  ⎜                                        ⎢⎢──────────────\n",
       "________________⎥⎥⎟  ⎜           ________________________     ⎢⎢           ___\n",
       "       2      2 ⎥⎥⎟  ⎜          ╱  2            2      2      ⎢⎢          ╱  2\n",
       "a⋅b + b  + 4⋅d  ⎥⎥⎟  ⎜a   b   ╲╱  a  - 2⋅a⋅b + b  + 4⋅d       ⎢⎢a   b   ╲╱  a \n",
       "────────────────⎥⎥⎟, ⎜─ + ─ + ───────────────────────────, 1, ⎢⎢─ - ─ - ──────\n",
       "  2             ⎥⎥⎟  ⎜2   2                2                  ⎢⎢2   2         \n",
       "                ⎥⎥⎟  ⎜                                        ⎢⎢              \n",
       "                ⎥⎥⎟  ⎜                                        ⎢⎢              \n",
       "                ⎥⎥⎟  ⎜                                        ⎢⎢              \n",
       "                ⎦⎦⎠  ⎝                                        ⎣⎣              \n",
       "\n",
       "  -d                 ⎤⎤⎞⎤\n",
       "─────────────────────⎥⎥⎟⎥\n",
       "_____________________⎥⎥⎟⎥\n",
       "            2      2 ⎥⎥⎟⎥\n",
       " - 2⋅a⋅b + b  + 4⋅d  ⎥⎥⎟⎥\n",
       "─────────────────────⎥⎥⎟⎥\n",
       "       2             ⎥⎥⎟⎥\n",
       "                     ⎥⎥⎟⎥\n",
       "   1                 ⎥⎥⎟⎥\n",
       "                     ⎥⎥⎟⎥\n",
       "   0                 ⎦⎦⎠⎦"
      ]
     },
     "execution_count": 48,
     "metadata": {},
     "output_type": "execute_result"
    }
   ],
   "source": [
    "I.to_matrix(B).eigenvects()"
   ]
  },
  {
   "cell_type": "code",
   "execution_count": 49,
   "metadata": {},
   "outputs": [
    {
     "data": {
      "text/plain": [
       "\u001b[0;31mSignature:\u001b[0m \u001b[0mme\u001b[0m\u001b[0;34m.\u001b[0m\u001b[0minertia_of_point_mass\u001b[0m\u001b[0;34m(\u001b[0m\u001b[0mmass\u001b[0m\u001b[0;34m,\u001b[0m \u001b[0mpos_vec\u001b[0m\u001b[0;34m,\u001b[0m \u001b[0mframe\u001b[0m\u001b[0;34m)\u001b[0m\u001b[0;34m\u001b[0m\u001b[0;34m\u001b[0m\u001b[0m\n",
       "\u001b[0;31mDocstring:\u001b[0m\n",
       "Inertia dyadic of a point mass relative to point O.\n",
       "\n",
       "Parameters\n",
       "==========\n",
       "\n",
       "mass : Sympifyable\n",
       "    Mass of the point mass\n",
       "pos_vec : Vector\n",
       "    Position from point O to point mass\n",
       "frame : ReferenceFrame\n",
       "    Reference frame to express the dyadic in\n",
       "\n",
       "Examples\n",
       "========\n",
       "\n",
       ">>> from sympy import symbols\n",
       ">>> from sympy.physics.mechanics import ReferenceFrame, inertia_of_point_mass\n",
       ">>> N = ReferenceFrame('N')\n",
       ">>> r, m = symbols('r m')\n",
       ">>> px = r * N.x\n",
       ">>> inertia_of_point_mass(m, px, N)\n",
       "m*r**2*(N.y|N.y) + m*r**2*(N.z|N.z)\n",
       "\u001b[0;31mFile:\u001b[0m      /opt/conda/lib/python3.6/site-packages/sympy/physics/mechanics/functions.py\n",
       "\u001b[0;31mType:\u001b[0m      function\n"
      ]
     },
     "metadata": {},
     "output_type": "display_data"
    }
   ],
   "source": [
    "me.inertia_of_point_mass?"
   ]
  },
  {
   "cell_type": "code",
   "execution_count": 50,
   "metadata": {},
   "outputs": [
    {
     "data": {
      "text/plain": [
       "\u001b[0;31mSignature:\u001b[0m \u001b[0mme\u001b[0m\u001b[0;34m.\u001b[0m\u001b[0mpartial_velocity\u001b[0m\u001b[0;34m(\u001b[0m\u001b[0mvel_vecs\u001b[0m\u001b[0;34m,\u001b[0m \u001b[0mgen_speeds\u001b[0m\u001b[0;34m,\u001b[0m \u001b[0mframe\u001b[0m\u001b[0;34m)\u001b[0m\u001b[0;34m\u001b[0m\u001b[0;34m\u001b[0m\u001b[0m\n",
       "\u001b[0;31mDocstring:\u001b[0m\n",
       "Returns a list of partial velocities with respect to the provided\n",
       "generalized speeds in the given reference frame for each of the supplied\n",
       "velocity vectors.\n",
       "\n",
       "The output is a list of lists. The outer list has a number of elements\n",
       "equal to the number of supplied velocity vectors. The inner lists are, for\n",
       "each velocity vector, the partial derivatives of that velocity vector with\n",
       "respect to the generalized speeds supplied.\n",
       "\n",
       "Parameters\n",
       "==========\n",
       "\n",
       "vel_vecs : iterable\n",
       "    An iterable of velocity vectors (angular or linear).\n",
       "gen_speeds : iterable\n",
       "    An iterable of generalized speeds.\n",
       "frame : ReferenceFrame\n",
       "    The reference frame that the partial derivatives are going to be taken\n",
       "    in.\n",
       "\n",
       "Examples\n",
       "========\n",
       "\n",
       ">>> from sympy.physics.vector import Point, ReferenceFrame\n",
       ">>> from sympy.physics.vector import dynamicsymbols\n",
       ">>> from sympy.physics.vector import partial_velocity\n",
       ">>> u = dynamicsymbols('u')\n",
       ">>> N = ReferenceFrame('N')\n",
       ">>> P = Point('P')\n",
       ">>> P.set_vel(N, u * N.x)\n",
       ">>> vel_vecs = [P.vel(N)]\n",
       ">>> gen_speeds = [u]\n",
       ">>> partial_velocity(vel_vecs, gen_speeds, N)\n",
       "[[N.x]]\n",
       "\u001b[0;31mFile:\u001b[0m      /opt/conda/lib/python3.6/site-packages/sympy/physics/vector/functions.py\n",
       "\u001b[0;31mType:\u001b[0m      function\n"
      ]
     },
     "metadata": {},
     "output_type": "display_data"
    }
   ],
   "source": [
    "me.partial_velocity?"
   ]
  },
  {
   "cell_type": "code",
   "execution_count": null,
   "metadata": {},
   "outputs": [],
   "source": []
  }
 ],
 "metadata": {
  "kernelspec": {
   "display_name": "Python 3",
   "language": "python",
   "name": "python3"
  },
  "language_info": {
   "codemirror_mode": {
    "name": "ipython",
    "version": 3
   },
   "file_extension": ".py",
   "mimetype": "text/x-python",
   "name": "python",
   "nbconvert_exporter": "python",
   "pygments_lexer": "ipython3",
   "version": "3.6.7"
  }
 },
 "nbformat": 4,
 "nbformat_minor": 4
}
