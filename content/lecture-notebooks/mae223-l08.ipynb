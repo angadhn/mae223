{
 "cells": [
  {
   "cell_type": "code",
   "execution_count": 1,
   "metadata": {},
   "outputs": [],
   "source": [
    "import sympy as sm\n",
    "import sympy.physics.mechanics as me\n",
    "me.init_vprinting()"
   ]
  },
  {
   "cell_type": "code",
   "execution_count": 2,
   "metadata": {},
   "outputs": [],
   "source": [
    "w, L = sm.symbols('omega, L')\n",
    "q1, q2, q3 = me.dynamicsymbols('q1:4')\n",
    "t = me.dynamicsymbols._t"
   ]
  },
  {
   "cell_type": "code",
   "execution_count": 3,
   "metadata": {},
   "outputs": [],
   "source": [
    "A, B, E = sm.symbols('A, B, E', cls=me.ReferenceFrame)"
   ]
  },
  {
   "cell_type": "code",
   "execution_count": 4,
   "metadata": {},
   "outputs": [],
   "source": [
    "B.orient(A, 'Axis', (w*t, A.y))"
   ]
  },
  {
   "cell_type": "code",
   "execution_count": 5,
   "metadata": {},
   "outputs": [],
   "source": [
    "E.orient(B, 'Axis', (q3, B.z))"
   ]
  },
  {
   "cell_type": "markdown",
   "metadata": {},
   "source": [
    "Once the orientations are defined, the angular velocity between any two frames can be calclated."
   ]
  },
  {
   "cell_type": "code",
   "execution_count": 6,
   "metadata": {},
   "outputs": [
    {
     "data": {
      "image/png": "[encoded data removed]",
      "text/latex": [
       "$\\displaystyle \\dot{q}_{3}\\mathbf{\\hat{b}_z} + \\omega\\mathbf{\\hat{a}_y}$"
      ],
      "text/plain": [
       "q₃̇ b_z + ω a_y"
      ]
     },
     "execution_count": 6,
     "metadata": {},
     "output_type": "execute_result"
    }
   ],
   "source": [
    "E.ang_vel_in(A)"
   ]
  },
  {
   "cell_type": "markdown",
   "metadata": {},
   "source": [
    "For anglar velocities, the addition thereom is applied when `ang_vel_in()` is called."
   ]
  },
  {
   "cell_type": "code",
   "execution_count": 7,
   "metadata": {},
   "outputs": [
    {
     "data": {
      "image/png": "[encoded data removed]",
      "text/latex": [
       "$\\displaystyle \\omega\\mathbf{\\hat{a}_y} + \\dot{q}_{3}\\mathbf{\\hat{b}_z}$"
      ],
      "text/plain": [
       "ω a_y + q₃̇ b_z"
      ]
     },
     "execution_count": 7,
     "metadata": {},
     "output_type": "execute_result"
    }
   ],
   "source": [
    "AwE = B.ang_vel_in(A) + E.ang_vel_in(B)\n",
    "AwE"
   ]
  },
  {
   "cell_type": "markdown",
   "metadata": {},
   "source": [
    "Calling `ang_acc_in()` takes the time derivative of the angular velocity."
   ]
  },
  {
   "cell_type": "code",
   "execution_count": 8,
   "metadata": {},
   "outputs": [
    {
     "data": {
      "image/png": "[encoded data removed]",
      "text/latex": [
       "$\\displaystyle \\omega \\dot{q}_{3}\\mathbf{\\hat{b}_x} + \\ddot{q}_{3}\\mathbf{\\hat{b}_z}$"
      ],
      "text/plain": [
       "ω⋅q₃̇ b_x + q₃̈ b_z"
      ]
     },
     "execution_count": 8,
     "metadata": {},
     "output_type": "execute_result"
    }
   ],
   "source": [
    "AwE.dt(A)"
   ]
  },
  {
   "cell_type": "code",
   "execution_count": 9,
   "metadata": {},
   "outputs": [
    {
     "data": {
      "image/png": "[encoded data removed]",
      "text/latex": [
       "$\\displaystyle \\omega \\dot{q}_{3}\\mathbf{\\hat{b}_x} + \\ddot{q}_{3}\\mathbf{\\hat{b}_z}$"
      ],
      "text/plain": [
       "ω⋅q₃̇ b_x + q₃̈ b_z"
      ]
     },
     "execution_count": 9,
     "metadata": {},
     "output_type": "execute_result"
    }
   ],
   "source": [
    "E.ang_acc_in(A)"
   ]
  },
  {
   "cell_type": "markdown",
   "metadata": {},
   "source": [
    "# Define locations of points"
   ]
  },
  {
   "cell_type": "code",
   "execution_count": 10,
   "metadata": {},
   "outputs": [],
   "source": [
    "O, P1, P2 = sm.symbols('O, P1, P2', cls=me.Point)"
   ]
  },
  {
   "cell_type": "markdown",
   "metadata": {},
   "source": [
    "The locations of the points must be defined with respect to each other. It is sufficient to define the location of a point to a single other point and as long as there is a \"link\" through adjacent points SymPy will calculate the positions between any pair of points."
   ]
  },
  {
   "cell_type": "code",
   "execution_count": 11,
   "metadata": {},
   "outputs": [],
   "source": [
    "P1.set_pos(O, q1*B.x + q2*B.y)"
   ]
  },
  {
   "cell_type": "code",
   "execution_count": 12,
   "metadata": {},
   "outputs": [
    {
     "data": {
      "image/png": "[encoded data removed]",
      "text/latex": [
       "$\\displaystyle q_{1}\\mathbf{\\hat{b}_x} + q_{2}\\mathbf{\\hat{b}_y}$"
      ],
      "text/plain": [
       "q₁ b_x + q₂ b_y"
      ]
     },
     "execution_count": 12,
     "metadata": {},
     "output_type": "execute_result"
    }
   ],
   "source": [
    "P1.pos_from(O)"
   ]
  },
  {
   "cell_type": "code",
   "execution_count": 13,
   "metadata": {},
   "outputs": [
    {
     "data": {
      "image/png": "[encoded data removed]",
      "text/latex": [
       "$\\displaystyle -  q_{1}\\mathbf{\\hat{b}_x} -  q_{2}\\mathbf{\\hat{b}_y}$"
      ],
      "text/plain": [
       "-q₁ b_x + -q₂ b_y"
      ]
     },
     "execution_count": 13,
     "metadata": {},
     "output_type": "execute_result"
    }
   ],
   "source": [
    "O.pos_from(P1)"
   ]
  },
  {
   "cell_type": "markdown",
   "metadata": {},
   "source": [
    "Here I define P2 relative to P1 and then P2 relative to O is automatically calculated."
   ]
  },
  {
   "cell_type": "code",
   "execution_count": 14,
   "metadata": {},
   "outputs": [],
   "source": [
    "P2.set_pos(P1, L*E.x)"
   ]
  },
  {
   "cell_type": "code",
   "execution_count": 15,
   "metadata": {},
   "outputs": [
    {
     "data": {
      "image/png": "[encoded data removed]",
      "text/latex": [
       "$\\displaystyle L\\mathbf{\\hat{e}_x} + q_{1}\\mathbf{\\hat{b}_x} + q_{2}\\mathbf{\\hat{b}_y}$"
      ],
      "text/plain": [
       "L e_x + q₁ b_x + q₂ b_y"
      ]
     },
     "execution_count": 15,
     "metadata": {},
     "output_type": "execute_result"
    }
   ],
   "source": [
    "P2.pos_from(O)"
   ]
  },
  {
   "cell_type": "markdown",
   "metadata": {},
   "source": [
    "# Define and calculate velocities\n",
    "\n",
    "O is fixed in A and we are using that as the point we reference all other points from. Thus we need to specify it's velocity as zero in A."
   ]
  },
  {
   "cell_type": "code",
   "execution_count": 16,
   "metadata": {},
   "outputs": [],
   "source": [
    "O.set_vel(A, 0)"
   ]
  },
  {
   "cell_type": "markdown",
   "metadata": {},
   "source": [
    "The velocities of points must be set explicitly. For example, the velocity of P1 in B can be found like so:"
   ]
  },
  {
   "cell_type": "code",
   "execution_count": 17,
   "metadata": {},
   "outputs": [
    {
     "data": {
      "image/png": "[encoded data removed]",
      "text/latex": [
       "$\\displaystyle \\dot{q}_{1}\\mathbf{\\hat{b}_x} + \\dot{q}_{2}\\mathbf{\\hat{b}_y}$"
      ],
      "text/plain": [
       "q₁̇ b_x + q₂̇ b_y"
      ]
     },
     "execution_count": 17,
     "metadata": {},
     "output_type": "execute_result"
    }
   ],
   "source": [
    "P1.pos_from(O).dt(B)"
   ]
  },
  {
   "cell_type": "markdown",
   "metadata": {},
   "source": [
    "The following two commands are equivalent:"
   ]
  },
  {
   "cell_type": "code",
   "execution_count": 18,
   "metadata": {},
   "outputs": [],
   "source": [
    "P1.set_vel(B, P1.pos_from(O).dt(B))"
   ]
  },
  {
   "cell_type": "code",
   "execution_count": 19,
   "metadata": {},
   "outputs": [],
   "source": [
    "P1.set_vel(B, q1.diff(t)*B.x + q2.diff(t)*B.y)"
   ]
  },
  {
   "cell_type": "markdown",
   "metadata": {},
   "source": [
    "Now the velocity of P1 in B can ve retrieved with:"
   ]
  },
  {
   "cell_type": "code",
   "execution_count": 20,
   "metadata": {},
   "outputs": [
    {
     "data": {
      "image/png": "[encoded data removed]",
      "text/latex": [
       "$\\displaystyle \\dot{q}_{1}\\mathbf{\\hat{b}_x} + \\dot{q}_{2}\\mathbf{\\hat{b}_y}$"
      ],
      "text/plain": [
       "q₁̇ b_x + q₂̇ b_y"
      ]
     },
     "execution_count": 20,
     "metadata": {},
     "output_type": "execute_result"
    }
   ],
   "source": [
    "P1.vel(B)"
   ]
  },
  {
   "cell_type": "code",
   "execution_count": 21,
   "metadata": {},
   "outputs": [],
   "source": [
    "P1.set_vel(A, P1.pos_from(O).dt(A))"
   ]
  },
  {
   "cell_type": "code",
   "execution_count": 22,
   "metadata": {},
   "outputs": [
    {
     "data": {
      "image/png": "[encoded data removed]",
      "text/latex": [
       "$\\displaystyle \\dot{q}_{1}\\mathbf{\\hat{b}_x} + \\dot{q}_{2}\\mathbf{\\hat{b}_y} -  \\omega q_{1}\\mathbf{\\hat{b}_z}$"
      ],
      "text/plain": [
       "q₁̇ b_x + q₂̇ b_y + -ω⋅q₁ b_z"
      ]
     },
     "execution_count": 22,
     "metadata": {},
     "output_type": "execute_result"
    }
   ],
   "source": [
    "P1.vel(A)"
   ]
  },
  {
   "cell_type": "markdown",
   "metadata": {},
   "source": [
    "## Two point theorem for P1 and P2 fixed in E\n",
    "\n",
    "The velocity of P2 can be found using the two point theorem and the fact that P1 and P2 are fixed in E."
   ]
  },
  {
   "cell_type": "code",
   "execution_count": 23,
   "metadata": {},
   "outputs": [
    {
     "data": {
      "image/png": "[encoded data removed]",
      "text/latex": [
       "$\\displaystyle \\dot{q}_{1}\\mathbf{\\hat{b}_x} + \\dot{q}_{2}\\mathbf{\\hat{b}_y} -  \\omega q_{1}\\mathbf{\\hat{b}_z} + L \\dot{q}_{3}\\mathbf{\\hat{e}_y} -  L \\omega \\operatorname{cos}\\left(q_{3}\\right)\\mathbf{\\hat{e}_z}$"
      ],
      "text/plain": [
       "q₁̇ b_x + q₂̇ b_y + -ω⋅q₁ b_z + L⋅q₃̇ e_y + -L⋅ω⋅cos(q₃) e_z"
      ]
     },
     "execution_count": 23,
     "metadata": {},
     "output_type": "execute_result"
    }
   ],
   "source": [
    "P1.vel(A) + me.cross(E.ang_vel_in(A), P2.pos_from(P1))"
   ]
  },
  {
   "cell_type": "markdown",
   "metadata": {},
   "source": [
    "The `v2pt_theory()` method will calculate and set the velocity."
   ]
  },
  {
   "cell_type": "code",
   "execution_count": null,
   "metadata": {},
   "outputs": [],
   "source": [
    "P2.v2pt_theory(P1, A, E)"
   ]
  },
  {
   "cell_type": "code",
   "execution_count": null,
   "metadata": {},
   "outputs": [],
   "source": [
    "P2.vel(A)"
   ]
  },
  {
   "cell_type": "markdown",
   "metadata": {},
   "source": [
    "Similarly, the acceleration can be computed. Note that no accelerations have to be set explicitly. SymPy will take the necessary derivatives behind the scenes."
   ]
  },
  {
   "cell_type": "code",
   "execution_count": null,
   "metadata": {},
   "outputs": [],
   "source": [
    "P2.a2pt_theory(P1, A, E)"
   ]
  },
  {
   "cell_type": "markdown",
   "metadata": {},
   "source": [
    "Expressing in B and simplifying gives the same answer as presented in class by hand."
   ]
  },
  {
   "cell_type": "code",
   "execution_count": null,
   "metadata": {},
   "outputs": [],
   "source": [
    "P2.acc(A).express(B).simplify()"
   ]
  },
  {
   "cell_type": "markdown",
   "metadata": {},
   "source": [
    "## One point theorem"
   ]
  },
  {
   "cell_type": "markdown",
   "metadata": {},
   "source": [
    "Start over with new points so we don't inherit velocities and accelerations calculated above."
   ]
  },
  {
   "cell_type": "code",
   "execution_count": null,
   "metadata": {},
   "outputs": [],
   "source": [
    "O, P1, P2 = sm.symbols('O, P1, P2', cls=me.Point)\n",
    "P1.set_pos(O, q1*B.x + q2*B.y)\n",
    "P2.set_pos(P1, L*E.x)\n",
    "O.set_vel(A, 0)\n",
    "P1.set_vel(B, P1.pos_from(O).dt(B))"
   ]
  },
  {
   "cell_type": "markdown",
   "metadata": {},
   "source": [
    "Alternatively, the one point theorem can be used to find the velocities of P1 and P2 in A if we treat points P1 and P2 as points moving in B."
   ]
  },
  {
   "cell_type": "code",
   "execution_count": null,
   "metadata": {},
   "outputs": [],
   "source": [
    "P1.v1pt_theory(O, A, B)"
   ]
  },
  {
   "cell_type": "markdown",
   "metadata": {},
   "source": [
    "This returns the same result above where we used `dt()` directly to take the derivative in A. It is equivalent to:"
   ]
  },
  {
   "cell_type": "code",
   "execution_count": null,
   "metadata": {},
   "outputs": [],
   "source": [
    "P1.vel(B) + me.cross(B.ang_vel_in(A), P1.pos_from(O))"
   ]
  },
  {
   "cell_type": "markdown",
   "metadata": {},
   "source": [
    "Similarly for the acceleration:"
   ]
  },
  {
   "cell_type": "code",
   "execution_count": null,
   "metadata": {},
   "outputs": [],
   "source": [
    "P1.a1pt_theory(O, A, B)"
   ]
  },
  {
   "cell_type": "markdown",
   "metadata": {},
   "source": [
    "Once `v1pt_theory()` and `a1pt_theory()` are called the calculated velocities are set and available:"
   ]
  },
  {
   "cell_type": "code",
   "execution_count": null,
   "metadata": {},
   "outputs": [],
   "source": [
    "P1.vel(A)"
   ]
  },
  {
   "cell_type": "code",
   "execution_count": null,
   "metadata": {},
   "outputs": [],
   "source": [
    "P1.acc(A)"
   ]
  },
  {
   "cell_type": "markdown",
   "metadata": {},
   "source": [
    "# P2 with one point theorem"
   ]
  },
  {
   "cell_type": "markdown",
   "metadata": {},
   "source": [
    "Applying the 1 point theorem as explained in class is shown below:\n",
    "\n",
    "$$\n",
    "^A\\mathbf{V}^{P_2} =\n",
    "^B\\mathbf{V}^{P_2} +\n",
    "^A\\mathbf{V}^{B^*} \\\\\n",
    "^A\\mathbf{V}^{B^*} =\n",
    "^A\\mathbf{\\omega}^B \\times \\mathbf{r}^{B^*/O}\n",
    "$$\n",
    "\n",
    "Note that I use P2 below for $B^*$."
   ]
  },
  {
   "cell_type": "code",
   "execution_count": null,
   "metadata": {},
   "outputs": [],
   "source": [
    "P2.set_vel(B, P2.pos_from(O).dt(B))\n",
    "P2.vel(B) + me.cross(B.ang_vel_in(A), P2.pos_from(O))"
   ]
  },
  {
   "cell_type": "markdown",
   "metadata": {},
   "source": [
    "In class, I asked you to use `v1pt_theory()` to find the velocity of $P_2$. My mistake was that I was attempting to use $P_1$ as the point which the velocity is known. But $P_1$ is not fixed in B. Note that I needed to use point O which is fixed in B."
   ]
  },
  {
   "cell_type": "code",
   "execution_count": null,
   "metadata": {},
   "outputs": [],
   "source": [
    "# what I did in class, which is incorrect:\n",
    "# P2.v1pt_theory(P1, A, B)\n",
    "# P2.a1pt_theory(P1, A, B)"
   ]
  },
  {
   "cell_type": "code",
   "execution_count": null,
   "metadata": {},
   "outputs": [],
   "source": [
    "P2.v1pt_theory(O, A, B)"
   ]
  },
  {
   "cell_type": "markdown",
   "metadata": {},
   "source": [
    "And similarly, using `a1pt_theory()`, which gives the correct result."
   ]
  },
  {
   "cell_type": "code",
   "execution_count": null,
   "metadata": {},
   "outputs": [],
   "source": [
    "P2.a1pt_theory(O, A, B).express(B).simplify()"
   ]
  }
 ],
 "metadata": {
  "kernelspec": {
   "display_name": "Python 3",
   "language": "python",
   "name": "python3"
  },
  "language_info": {
   "codemirror_mode": {
    "name": "ipython",
    "version": 3
   },
   "file_extension": ".py",
   "mimetype": "text/x-python",
   "name": "python",
   "nbconvert_exporter": "python",
   "pygments_lexer": "ipython3",
   "version": "3.6.7"
  }
 },
 "nbformat": 4,
 "nbformat_minor": 4
}
