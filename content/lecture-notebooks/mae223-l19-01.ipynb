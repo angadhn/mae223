{
 "cells": [
  {
   "cell_type": "markdown",
   "metadata": {},
   "source": [
    "# Bringing Noncontributing Forces into Evidence\n",
    "\n",
    "This is a simple double pendulum with two masses and each pendulum section has the same length."
   ]
  },
  {
   "cell_type": "code",
   "execution_count": 1,
   "metadata": {},
   "outputs": [],
   "source": [
    "import sympy as sm\n",
    "import sympy.physics.mechanics as me\n",
    "me.init_vprinting()"
   ]
  },
  {
   "cell_type": "code",
   "execution_count": 2,
   "metadata": {},
   "outputs": [],
   "source": [
    "q1, q2 = me.dynamicsymbols('q1, q2')\n",
    "u1, u2, u3, u4 = me.dynamicsymbols('u1:5')"
   ]
  },
  {
   "cell_type": "code",
   "execution_count": 3,
   "metadata": {},
   "outputs": [],
   "source": [
    "m1, m2, g, l = sm.symbols('m1, m2, g, l')"
   ]
  },
  {
   "cell_type": "code",
   "execution_count": 4,
   "metadata": {},
   "outputs": [],
   "source": [
    "N = me.ReferenceFrame('N')\n",
    "A = N.orientnew('A', 'Axis', (q1, N.z))\n",
    "B = N.orientnew('B', 'Axis', (q2, N.z))"
   ]
  },
  {
   "cell_type": "code",
   "execution_count": 5,
   "metadata": {},
   "outputs": [],
   "source": [
    "A.set_ang_vel(N, u1*N.z)\n",
    "B.set_ang_vel(N, u2*N.z)"
   ]
  },
  {
   "cell_type": "code",
   "execution_count": 6,
   "metadata": {},
   "outputs": [],
   "source": [
    "O = me.Point('O')\n",
    "P1 = O.locatenew('P1', -l*A.y)\n",
    "P2 = P1.locatenew('P2', -l*B.y)"
   ]
  },
  {
   "cell_type": "code",
   "execution_count": 7,
   "metadata": {},
   "outputs": [],
   "source": [
    "O.set_vel(N, 0)"
   ]
  },
  {
   "cell_type": "code",
   "execution_count": 8,
   "metadata": {},
   "outputs": [
    {
     "data": {
      "image/png": "[encoded data removed]",
      "text/latex": [
       "$\\displaystyle l u_{1}\\mathbf{\\hat{a}_x}$"
      ],
      "text/plain": [
       "l⋅u₁ a_x"
      ]
     },
     "execution_count": 8,
     "metadata": {},
     "output_type": "execute_result"
    }
   ],
   "source": [
    "P1.v2pt_theory(O, N, A)"
   ]
  },
  {
   "cell_type": "code",
   "execution_count": 9,
   "metadata": {},
   "outputs": [
    {
     "data": {
      "image/png": "[encoded data removed]",
      "text/latex": [
       "$\\displaystyle l u_{1}\\mathbf{\\hat{a}_x} + l u_{2}\\mathbf{\\hat{b}_x}$"
      ],
      "text/plain": [
       "l⋅u₁ a_x + l⋅u₂ b_x"
      ]
     },
     "execution_count": 9,
     "metadata": {},
     "output_type": "execute_result"
    }
   ],
   "source": [
    "P2.v2pt_theory(P1, N, B)"
   ]
  },
  {
   "cell_type": "markdown",
   "metadata": {},
   "source": [
    "# Introduce fictitious generalized speeds that correspond to components of desired forces and torques\n",
    "\n",
    "Here I introduce the fictitious generalized speed u3 that lets the particle P1 have a \"separation velocity\" relative to its fixed location on the pendulum arm. This is aligned with the desired non-contributing tension force we want to bring into evidence."
   ]
  },
  {
   "cell_type": "code",
   "execution_count": 10,
   "metadata": {},
   "outputs": [
    {
     "data": {
      "image/png": "[encoded data removed]",
      "text/latex": [
       "$\\displaystyle l u_{1}\\mathbf{\\hat{a}_x} + u_{3}\\mathbf{\\hat{a}_y}$"
      ],
      "text/plain": [
       "l⋅u₁ a_x + u₃ a_y"
      ]
     },
     "execution_count": 10,
     "metadata": {},
     "output_type": "execute_result"
    }
   ],
   "source": [
    "P1.set_vel(N, P1.vel(N) + u3*A.y)\n",
    "P1.vel(N)"
   ]
  },
  {
   "cell_type": "code",
   "execution_count": 11,
   "metadata": {},
   "outputs": [
    {
     "data": {
      "image/png": "[encoded data removed]",
      "text/latex": [
       "$\\displaystyle l u_{1}\\mathbf{\\hat{a}_x} + u_{3}\\mathbf{\\hat{a}_y} + l u_{2}\\mathbf{\\hat{b}_x}$"
      ],
      "text/plain": [
       "l⋅u₁ a_x + u₃ a_y + l⋅u₂ b_x"
      ]
     },
     "execution_count": 11,
     "metadata": {},
     "output_type": "execute_result"
    }
   ],
   "source": [
    "P2.v2pt_theory(P1, N, B)"
   ]
  },
  {
   "cell_type": "markdown",
   "metadata": {},
   "source": [
    "Add a similar fictitious generalized speed u4 for the second tension force."
   ]
  },
  {
   "cell_type": "code",
   "execution_count": 12,
   "metadata": {},
   "outputs": [
    {
     "data": {
      "image/png": "[encoded data removed]",
      "text/latex": [
       "$\\displaystyle l u_{1}\\mathbf{\\hat{a}_x} + u_{3}\\mathbf{\\hat{a}_y} + l u_{2}\\mathbf{\\hat{b}_x} + u_{4}\\mathbf{\\hat{b}_y}$"
      ],
      "text/plain": [
       "l⋅u₁ a_x + u₃ a_y + l⋅u₂ b_x + u₄ b_y"
      ]
     },
     "execution_count": 12,
     "metadata": {},
     "output_type": "execute_result"
    }
   ],
   "source": [
    "P2.set_vel(N, P2.vel(N) + u4*B.y)\n",
    "P2.vel(N)"
   ]
  },
  {
   "cell_type": "code",
   "execution_count": 13,
   "metadata": {},
   "outputs": [
    {
     "data": {
      "image/png": "[encoded data removed]",
      "text/latex": [
       "$\\displaystyle (l \\dot{u}_{1} - u_{1} u_{3})\\mathbf{\\hat{a}_x} + (l u^{2}_{1} + \\dot{u}_{3})\\mathbf{\\hat{a}_y}$"
      ],
      "text/plain": [
       "                      ⎛    2      ⎞\n",
       "(l⋅u₁̇ - u₁⋅u₃) a_x + ⎝l⋅u₁  + u₃̇⎠ a_y"
      ]
     },
     "execution_count": 13,
     "metadata": {},
     "output_type": "execute_result"
    }
   ],
   "source": [
    "P1.acc(N)"
   ]
  },
  {
   "cell_type": "code",
   "execution_count": 14,
   "metadata": {},
   "outputs": [
    {
     "data": {
      "image/png": "[encoded data removed]",
      "text/latex": [
       "$\\displaystyle (l \\dot{u}_{1} - u_{1} u_{3})\\mathbf{\\hat{a}_x} + (l u^{2}_{1} + \\dot{u}_{3})\\mathbf{\\hat{a}_y} + (l \\dot{u}_{2} - u_{2} u_{4})\\mathbf{\\hat{b}_x} + (l u^{2}_{2} + \\dot{u}_{4})\\mathbf{\\hat{b}_y}$"
      ],
      "text/plain": [
       "                      ⎛    2      ⎞                             ⎛    2      ⎞\n",
       "(l⋅u₁̇ - u₁⋅u₃) a_x + ⎝l⋅u₁  + u₃̇⎠ a_y + (l⋅u₂̇ - u₂⋅u₄) b_x + ⎝l⋅u₂  + u₄̇⎠\n",
       "\n",
       "\n",
       "b_y"
      ]
     },
     "execution_count": 14,
     "metadata": {},
     "output_type": "execute_result"
    }
   ],
   "source": [
    "P2.acc(N)"
   ]
  },
  {
   "cell_type": "markdown",
   "metadata": {},
   "source": [
    "# Introduce unknown force and torques into the resultants\n",
    "\n",
    "These are the two time varying tension forces we want to bring into evidence:"
   ]
  },
  {
   "cell_type": "code",
   "execution_count": 15,
   "metadata": {},
   "outputs": [],
   "source": [
    "TP1, TP2 = me.dynamicsymbols('T_{P1}, T_{P2}')"
   ]
  },
  {
   "cell_type": "markdown",
   "metadata": {},
   "source": [
    "For u1 and u2, we use the resultant with only the original contributing forces."
   ]
  },
  {
   "cell_type": "code",
   "execution_count": 16,
   "metadata": {},
   "outputs": [],
   "source": [
    "RP1 = -m1*g*N.y\n",
    "RP2 = -m2*g*N.y"
   ]
  },
  {
   "cell_type": "markdown",
   "metadata": {},
   "source": [
    "For the particle we need to add the non-contributing forces that correspond to u3 and u4"
   ]
  },
  {
   "cell_type": "code",
   "execution_count": 17,
   "metadata": {},
   "outputs": [],
   "source": [
    "RP1_aux = RP1 + TP1*A.y\n",
    "RP2_aux = RP1 + TP2*B.y"
   ]
  },
  {
   "cell_type": "markdown",
   "metadata": {},
   "source": [
    "We also need equal and opposite tension forces acting back on the pendulum arm (but not the force due to gravity):"
   ]
  },
  {
   "cell_type": "code",
   "execution_count": 18,
   "metadata": {},
   "outputs": [],
   "source": [
    "RP1_aux_neg = -TP1*A.y\n",
    "RP2_aux_neg = -TP2*B.y"
   ]
  },
  {
   "cell_type": "markdown",
   "metadata": {},
   "source": [
    "# GAF"
   ]
  },
  {
   "cell_type": "markdown",
   "metadata": {},
   "source": [
    "Calculate the two GAFs for the the real genearlized speeds as normal:"
   ]
  },
  {
   "cell_type": "code",
   "execution_count": 19,
   "metadata": {},
   "outputs": [],
   "source": [
    "F1 = P1.vel(N).diff(u1, N).dot(RP1) + P2.vel(N).diff(u1, N).dot(RP2)\n",
    "F2 = P1.vel(N).diff(u2, N).dot(RP1) + P2.vel(N).diff(u2, N).dot(RP2)"
   ]
  },
  {
   "cell_type": "markdown",
   "metadata": {},
   "source": [
    "For F3 and F4 you need to use the resultaants that include the tension forces and they need to be associated with the appropriate velocities for the equal and opposite forces."
   ]
  },
  {
   "cell_type": "code",
   "execution_count": 20,
   "metadata": {},
   "outputs": [
    {
     "data": {
      "image/png": "[encoded data removed]",
      "text/latex": [
       "$\\displaystyle - g m_{1} \\operatorname{cos}\\left(q_{1}\\right) - g m_{2} \\operatorname{cos}\\left(q_{1}\\right) + T_{{P1}}$"
      ],
      "text/plain": [
       "-g⋅m₁⋅cos(q₁) - g⋅m₂⋅cos(q₁) + T_{P1}"
      ]
     },
     "execution_count": 20,
     "metadata": {},
     "output_type": "execute_result"
    }
   ],
   "source": [
    "F3 = (P1.vel(N).diff(u3, N).dot(RP1 + TP1*A.y) +  # velocity of the particle which includes u3 \n",
    "      (P1.vel(N) - u3*A.y).diff(u3, N).dot(-TP1*A.y) +  # velocity of the tip of the pendulum arm (does not include u3)\n",
    "      P2.vel(N).diff(u3, N).dot(RP2 + TP2*B.y) +  # velocity of the second particle which includes u3 and u4\n",
    "      (P2.vel(N) - u4*B.y).diff(u3, N).dot(-TP2*B.y))  # velocity of the tip of the second pendulum arm (includes u3 but not u4)\n",
    "F3"
   ]
  },
  {
   "cell_type": "code",
   "execution_count": 21,
   "metadata": {},
   "outputs": [
    {
     "data": {
      "image/png": "[encoded data removed]",
      "text/latex": [
       "$\\displaystyle - g m_{2} \\operatorname{cos}\\left(q_{2}\\right) + T_{{P2}}$"
      ],
      "text/plain": [
       "-g⋅m₂⋅cos(q₂) + T_{P2}"
      ]
     },
     "execution_count": 21,
     "metadata": {},
     "output_type": "execute_result"
    }
   ],
   "source": [
    "F4 = (P1.vel(N).diff(u4, N).dot(RP1 + TP1*A.y) +\n",
    "      (P1.vel(N) - u3*A.y).diff(u4, N).dot(-TP1*A.y) +\n",
    "      P2.vel(N).diff(u4, N).dot(RP2 + TP2*B.y) +\n",
    "      (P2.vel(N) - u4*B.y).diff(u4, N).dot(-TP2*B.y))\n",
    "\n",
    "F4"
   ]
  },
  {
   "cell_type": "markdown",
   "metadata": {},
   "source": [
    "# GIF\n",
    "\n",
    "Calculate all GIFs with u1, u2, u3, and u4 present in the velocities and accelerations."
   ]
  },
  {
   "cell_type": "code",
   "execution_count": 22,
   "metadata": {},
   "outputs": [
    {
     "data": {
      "image/png": "[encoded data removed]",
      "text/latex": [
       "$\\displaystyle - l m_{1} \\left(l \\dot{u}_{1} - u_{1} u_{3}\\right) - l m_{2} \\left(l \\dot{u}_{1} - u_{1} u_{3}\\right) + l \\left(- m_{2} \\left(l u^{2}_{2} + \\dot{u}_{4}\\right) \\left(\\operatorname{sin}\\left(q_{1}\\right) \\operatorname{cos}\\left(q_{2}\\right) - \\operatorname{sin}\\left(q_{2}\\right) \\operatorname{cos}\\left(q_{1}\\right)\\right) - m_{2} \\left(l \\dot{u}_{2} - u_{2} u_{4}\\right) \\left(\\operatorname{sin}\\left(q_{1}\\right) \\operatorname{sin}\\left(q_{2}\\right) + \\operatorname{cos}\\left(q_{1}\\right) \\operatorname{cos}\\left(q_{2}\\right)\\right)\\right)$"
      ],
      "text/plain": [
       "                                                 ⎛     ⎛    2      ⎞          \n",
       "-l⋅m₁⋅(l⋅u₁̇ - u₁⋅u₃) - l⋅m₂⋅(l⋅u₁̇ - u₁⋅u₃) + l⋅⎝- m₂⋅⎝l⋅u₂  + u₄̇⎠⋅(sin(q₁)⋅\n",
       "\n",
       "                                                                              \n",
       "cos(q₂) - sin(q₂)⋅cos(q₁)) - m₂⋅(l⋅u₂̇ - u₂⋅u₄)⋅(sin(q₁)⋅sin(q₂) + cos(q₁)⋅cos\n",
       "\n",
       "     ⎞\n",
       "(q₂))⎠"
      ]
     },
     "execution_count": 22,
     "metadata": {},
     "output_type": "execute_result"
    }
   ],
   "source": [
    "F1s = P1.vel(N).diff(u1, N).dot(-m1*P1.acc(N)) + P2.vel(N).diff(u1, N).dot(-m2*P2.acc(N))\n",
    "F2s = P1.vel(N).diff(u2, N).dot(-m1*P1.acc(N)) + P2.vel(N).diff(u2, N).dot(-m2*P2.acc(N))\n",
    "F3s = P1.vel(N).diff(u3, N).dot(-m1*P1.acc(N)) + P2.vel(N).diff(u3, N).dot(-m2*P2.acc(N))\n",
    "F4s = P1.vel(N).diff(u4, N).dot(-m1*P1.acc(N)) + P2.vel(N).diff(u4, N).dot(-m2*P2.acc(N))\n",
    "\n",
    "F1s"
   ]
  },
  {
   "cell_type": "code",
   "execution_count": 23,
   "metadata": {},
   "outputs": [
    {
     "data": {
      "image/png": "[encoded data removed]",
      "text/latex": [
       "$\\displaystyle - l m_{2} \\left(l \\dot{u}_{2} - u_{2} u_{4}\\right) + l \\left(- m_{2} \\left(l u^{2}_{1} + \\dot{u}_{3}\\right) \\left(- \\operatorname{sin}\\left(q_{1}\\right) \\operatorname{cos}\\left(q_{2}\\right) + \\operatorname{sin}\\left(q_{2}\\right) \\operatorname{cos}\\left(q_{1}\\right)\\right) - m_{2} \\left(l \\dot{u}_{1} - u_{1} u_{3}\\right) \\left(\\operatorname{sin}\\left(q_{1}\\right) \\operatorname{sin}\\left(q_{2}\\right) + \\operatorname{cos}\\left(q_{1}\\right) \\operatorname{cos}\\left(q_{2}\\right)\\right)\\right)$"
      ],
      "text/plain": [
       "                          ⎛     ⎛    2      ⎞                                 \n",
       "-l⋅m₂⋅(l⋅u₂̇ - u₂⋅u₄) + l⋅⎝- m₂⋅⎝l⋅u₁  + u₃̇⎠⋅(-sin(q₁)⋅cos(q₂) + sin(q₂)⋅cos(\n",
       "\n",
       "                                                             ⎞\n",
       "q₁)) - m₂⋅(l⋅u₁̇ - u₁⋅u₃)⋅(sin(q₁)⋅sin(q₂) + cos(q₁)⋅cos(q₂))⎠"
      ]
     },
     "execution_count": 23,
     "metadata": {},
     "output_type": "execute_result"
    }
   ],
   "source": [
    "F2s"
   ]
  },
  {
   "cell_type": "code",
   "execution_count": 24,
   "metadata": {},
   "outputs": [
    {
     "data": {
      "image/png": "[encoded data removed]",
      "text/latex": [
       "$\\displaystyle - m_{1} \\left(l u^{2}_{1} + \\dot{u}_{3}\\right) - m_{2} \\left(l u^{2}_{1} + \\dot{u}_{3}\\right) - m_{2} \\left(l u^{2}_{2} + \\dot{u}_{4}\\right) \\left(\\operatorname{sin}\\left(q_{1}\\right) \\operatorname{sin}\\left(q_{2}\\right) + \\operatorname{cos}\\left(q_{1}\\right) \\operatorname{cos}\\left(q_{2}\\right)\\right) - m_{2} \\left(l \\dot{u}_{2} - u_{2} u_{4}\\right) \\left(- \\operatorname{sin}\\left(q_{1}\\right) \\operatorname{cos}\\left(q_{2}\\right) + \\operatorname{sin}\\left(q_{2}\\right) \\operatorname{cos}\\left(q_{1}\\right)\\right)$"
      ],
      "text/plain": [
       "     ⎛    2      ⎞      ⎛    2      ⎞      ⎛    2      ⎞                      \n",
       "- m₁⋅⎝l⋅u₁  + u₃̇⎠ - m₂⋅⎝l⋅u₁  + u₃̇⎠ - m₂⋅⎝l⋅u₂  + u₄̇⎠⋅(sin(q₁)⋅sin(q₂) + co\n",
       "\n",
       "                                                                        \n",
       "s(q₁)⋅cos(q₂)) - m₂⋅(l⋅u₂̇ - u₂⋅u₄)⋅(-sin(q₁)⋅cos(q₂) + sin(q₂)⋅cos(q₁))"
      ]
     },
     "execution_count": 24,
     "metadata": {},
     "output_type": "execute_result"
    }
   ],
   "source": [
    "F3s"
   ]
  },
  {
   "cell_type": "code",
   "execution_count": 25,
   "metadata": {},
   "outputs": [
    {
     "data": {
      "image/png": "[encoded data removed]",
      "text/latex": [
       "$\\displaystyle - m_{2} \\left(l u^{2}_{1} + \\dot{u}_{3}\\right) \\left(\\operatorname{sin}\\left(q_{1}\\right) \\operatorname{sin}\\left(q_{2}\\right) + \\operatorname{cos}\\left(q_{1}\\right) \\operatorname{cos}\\left(q_{2}\\right)\\right) - m_{2} \\left(l u^{2}_{2} + \\dot{u}_{4}\\right) - m_{2} \\left(l \\dot{u}_{1} - u_{1} u_{3}\\right) \\left(\\operatorname{sin}\\left(q_{1}\\right) \\operatorname{cos}\\left(q_{2}\\right) - \\operatorname{sin}\\left(q_{2}\\right) \\operatorname{cos}\\left(q_{1}\\right)\\right)$"
      ],
      "text/plain": [
       "     ⎛    2      ⎞                                          ⎛    2      ⎞     \n",
       "- m₂⋅⎝l⋅u₁  + u₃̇⎠⋅(sin(q₁)⋅sin(q₂) + cos(q₁)⋅cos(q₂)) - m₂⋅⎝l⋅u₂  + u₄̇⎠ - m₂\n",
       "\n",
       "                                                    \n",
       "⋅(l⋅u₁̇ - u₁⋅u₃)⋅(sin(q₁)⋅cos(q₂) - sin(q₂)⋅cos(q₁))"
      ]
     },
     "execution_count": 25,
     "metadata": {},
     "output_type": "execute_result"
    }
   ],
   "source": [
    "F4s"
   ]
  },
  {
   "cell_type": "markdown",
   "metadata": {},
   "source": [
    "# Kane's Equations"
   ]
  },
  {
   "cell_type": "code",
   "execution_count": 26,
   "metadata": {},
   "outputs": [],
   "source": [
    "k1 = F1 + F1s\n",
    "k2 = F2 + F2s\n",
    "k3 = F3 + F3s\n",
    "k4 = F4 + F4s"
   ]
  },
  {
   "cell_type": "markdown",
   "metadata": {},
   "source": [
    "# Substitute zero for all fictitious quantities"
   ]
  },
  {
   "cell_type": "code",
   "execution_count": 27,
   "metadata": {},
   "outputs": [],
   "source": [
    "k1_ = k1.subs({u3.diff(): 0, u4.diff(): 0, u3: 0, u4: 0})\n",
    "k2_ = k2.subs({u3.diff(): 0, u4.diff(): 0, u3: 0, u4: 0})\n",
    "k3_ = k3.subs({u3.diff(): 0, u4.diff(): 0, u3: 0, u4: 0})\n",
    "k4_ = k4.subs({u3.diff(): 0, u4.diff(): 0, u3: 0, u4: 0})"
   ]
  },
  {
   "cell_type": "code",
   "execution_count": 28,
   "metadata": {},
   "outputs": [],
   "source": [
    "kanes = [k1_, k2_, k3_, k4_]"
   ]
  },
  {
   "cell_type": "code",
   "execution_count": 29,
   "metadata": {},
   "outputs": [
    {
     "data": {
      "image/png": "[encoded data removed]",
      "text/latex": [
       "$\\displaystyle \\left\\{q_{1}, q_{2}, u_{1}, u_{2}, \\dot{u}_{1}, \\dot{u}_{2}\\right\\}$"
      ],
      "text/plain": [
       "{q₁, q₂, u₁, u₂, u₁̇, u₂̇}"
      ]
     },
     "execution_count": 29,
     "metadata": {},
     "output_type": "execute_result"
    }
   ],
   "source": [
    "me.find_dynamicsymbols(k1_)"
   ]
  },
  {
   "cell_type": "code",
   "execution_count": 30,
   "metadata": {},
   "outputs": [
    {
     "data": {
      "image/png": "[encoded data removed]",
      "text/latex": [
       "$\\displaystyle \\left\\{q_{1}, q_{2}, u_{1}, u_{2}, \\dot{u}_{1}, \\dot{u}_{2}\\right\\}$"
      ],
      "text/plain": [
       "{q₁, q₂, u₁, u₂, u₁̇, u₂̇}"
      ]
     },
     "execution_count": 30,
     "metadata": {},
     "output_type": "execute_result"
    }
   ],
   "source": [
    "me.find_dynamicsymbols(k2_)"
   ]
  },
  {
   "cell_type": "code",
   "execution_count": 31,
   "metadata": {},
   "outputs": [
    {
     "data": {
      "image/png": "[encoded data removed]",
      "text/latex": [
       "$\\displaystyle \\left\\{T_{{P1}}, q_{1}, q_{2}, u_{1}, u_{2}, \\dot{u}_{2}\\right\\}$"
      ],
      "text/plain": [
       "{T_{P1}, q₁, q₂, u₁, u₂, u₂̇}"
      ]
     },
     "execution_count": 31,
     "metadata": {},
     "output_type": "execute_result"
    }
   ],
   "source": [
    "me.find_dynamicsymbols(k3_)"
   ]
  },
  {
   "cell_type": "code",
   "execution_count": 32,
   "metadata": {},
   "outputs": [
    {
     "data": {
      "image/png": "[encoded data removed]",
      "text/latex": [
       "$\\displaystyle \\left\\{T_{{P2}}, q_{1}, q_{2}, u_{1}, u_{2}, \\dot{u}_{1}\\right\\}$"
      ],
      "text/plain": [
       "{T_{P2}, q₁, q₂, u₁, u₂, u₁̇}"
      ]
     },
     "execution_count": 32,
     "metadata": {},
     "output_type": "execute_result"
    }
   ],
   "source": [
    "me.find_dynamicsymbols(k4_)"
   ]
  },
  {
   "cell_type": "code",
   "execution_count": 33,
   "metadata": {},
   "outputs": [
    {
     "data": {
      "image/png": "[encoded data removed]",
      "text/latex": [
       "$\\displaystyle - g l m_{1} \\operatorname{sin}\\left(q_{1}\\right) - g l m_{2} \\operatorname{sin}\\left(q_{1}\\right) - l^{2} m_{1} \\dot{u}_{1} - l^{2} m_{2} \\dot{u}_{1} + l \\left(- l m_{2} \\left(\\operatorname{sin}\\left(q_{1}\\right) \\operatorname{sin}\\left(q_{2}\\right) + \\operatorname{cos}\\left(q_{1}\\right) \\operatorname{cos}\\left(q_{2}\\right)\\right) \\dot{u}_{2} - l m_{2} \\left(\\operatorname{sin}\\left(q_{1}\\right) \\operatorname{cos}\\left(q_{2}\\right) - \\operatorname{sin}\\left(q_{2}\\right) \\operatorname{cos}\\left(q_{1}\\right)\\right) u^{2}_{2}\\right)$"
      ],
      "text/plain": [
       "                                    2           2            ⎛                \n",
       "-g⋅l⋅m₁⋅sin(q₁) - g⋅l⋅m₂⋅sin(q₁) - l ⋅m₁⋅u₁̇ - l ⋅m₂⋅u₁̇ + l⋅⎝-l⋅m₂⋅(sin(q₁)⋅s\n",
       "\n",
       "                                                                           2⎞\n",
       "in(q₂) + cos(q₁)⋅cos(q₂))⋅u₂̇ - l⋅m₂⋅(sin(q₁)⋅cos(q₂) - sin(q₂)⋅cos(q₁))⋅u₂ ⎠"
      ]
     },
     "execution_count": 33,
     "metadata": {},
     "output_type": "execute_result"
    }
   ],
   "source": [
    "k1_"
   ]
  },
  {
   "cell_type": "code",
   "execution_count": 34,
   "metadata": {},
   "outputs": [
    {
     "data": {
      "image/png": "[encoded data removed]",
      "text/latex": [
       "$\\displaystyle - g l m_{2} \\operatorname{sin}\\left(q_{2}\\right) - l^{2} m_{2} \\dot{u}_{2} + l \\left(- l m_{2} \\left(\\operatorname{sin}\\left(q_{1}\\right) \\operatorname{sin}\\left(q_{2}\\right) + \\operatorname{cos}\\left(q_{1}\\right) \\operatorname{cos}\\left(q_{2}\\right)\\right) \\dot{u}_{1} - l m_{2} \\left(- \\operatorname{sin}\\left(q_{1}\\right) \\operatorname{cos}\\left(q_{2}\\right) + \\operatorname{sin}\\left(q_{2}\\right) \\operatorname{cos}\\left(q_{1}\\right)\\right) u^{2}_{1}\\right)$"
      ],
      "text/plain": [
       "                   2            ⎛                                             \n",
       "-g⋅l⋅m₂⋅sin(q₂) - l ⋅m₂⋅u₂̇ + l⋅⎝-l⋅m₂⋅(sin(q₁)⋅sin(q₂) + cos(q₁)⋅cos(q₂))⋅u₁̇\n",
       "\n",
       "                                               2⎞\n",
       " - l⋅m₂⋅(-sin(q₁)⋅cos(q₂) + sin(q₂)⋅cos(q₁))⋅u₁ ⎠"
      ]
     },
     "execution_count": 34,
     "metadata": {},
     "output_type": "execute_result"
    }
   ],
   "source": [
    "k2_"
   ]
  },
  {
   "cell_type": "code",
   "execution_count": 35,
   "metadata": {},
   "outputs": [
    {
     "data": {
      "image/png": "[encoded data removed]",
      "text/latex": [
       "$\\displaystyle - g m_{1} \\operatorname{cos}\\left(q_{1}\\right) - g m_{2} \\operatorname{cos}\\left(q_{1}\\right) - l m_{1} u^{2}_{1} - l m_{2} \\left(\\operatorname{sin}\\left(q_{1}\\right) \\operatorname{sin}\\left(q_{2}\\right) + \\operatorname{cos}\\left(q_{1}\\right) \\operatorname{cos}\\left(q_{2}\\right)\\right) u^{2}_{2} - l m_{2} \\left(- \\operatorname{sin}\\left(q_{1}\\right) \\operatorname{cos}\\left(q_{2}\\right) + \\operatorname{sin}\\left(q_{2}\\right) \\operatorname{cos}\\left(q_{1}\\right)\\right) \\dot{u}_{2} - l m_{2} u^{2}_{1} + T_{{P1}}$"
      ],
      "text/plain": [
       "                                      2                                       \n",
       "-g⋅m₁⋅cos(q₁) - g⋅m₂⋅cos(q₁) - l⋅m₁⋅u₁  - l⋅m₂⋅(sin(q₁)⋅sin(q₂) + cos(q₁)⋅cos(\n",
       "\n",
       "       2                                                          2         \n",
       "q₂))⋅u₂  - l⋅m₂⋅(-sin(q₁)⋅cos(q₂) + sin(q₂)⋅cos(q₁))⋅u₂̇ - l⋅m₂⋅u₁  + T_{P1}"
      ]
     },
     "execution_count": 35,
     "metadata": {},
     "output_type": "execute_result"
    }
   ],
   "source": [
    "k3_"
   ]
  },
  {
   "cell_type": "code",
   "execution_count": 36,
   "metadata": {},
   "outputs": [
    {
     "data": {
      "image/png": "[encoded data removed]",
      "text/latex": [
       "$\\displaystyle - g m_{2} \\operatorname{cos}\\left(q_{2}\\right) - l m_{2} \\left(\\operatorname{sin}\\left(q_{1}\\right) \\operatorname{sin}\\left(q_{2}\\right) + \\operatorname{cos}\\left(q_{1}\\right) \\operatorname{cos}\\left(q_{2}\\right)\\right) u^{2}_{1} - l m_{2} \\left(\\operatorname{sin}\\left(q_{1}\\right) \\operatorname{cos}\\left(q_{2}\\right) - \\operatorname{sin}\\left(q_{2}\\right) \\operatorname{cos}\\left(q_{1}\\right)\\right) \\dot{u}_{1} - l m_{2} u^{2}_{2} + T_{{P2}}$"
      ],
      "text/plain": [
       "                                                           2                  \n",
       "-g⋅m₂⋅cos(q₂) - l⋅m₂⋅(sin(q₁)⋅sin(q₂) + cos(q₁)⋅cos(q₂))⋅u₁  - l⋅m₂⋅(sin(q₁)⋅c\n",
       "\n",
       "                                       2         \n",
       "os(q₂) - sin(q₂)⋅cos(q₁))⋅u₁̇ - l⋅m₂⋅u₂  + T_{P2}"
      ]
     },
     "execution_count": 36,
     "metadata": {},
     "output_type": "execute_result"
    }
   ],
   "source": [
    "k4_"
   ]
  },
  {
   "cell_type": "markdown",
   "metadata": {},
   "source": [
    "# Solve for all unknowns"
   ]
  },
  {
   "cell_type": "code",
   "execution_count": 37,
   "metadata": {},
   "outputs": [],
   "source": [
    "sol = sm.solve(kanes, u1.diff(), u2.diff(), TP1, TP2)"
   ]
  },
  {
   "cell_type": "code",
   "execution_count": 38,
   "metadata": {},
   "outputs": [
    {
     "data": {
      "image/png": "[encoded data removed]",
      "text/latex": [
       "$\\displaystyle - \\frac{g m_{1} \\operatorname{sin}\\left(q_{1}\\right) + \\frac{g m_{2} \\operatorname{sin}\\left(q_{1} - 2 q_{2}\\right)}{2} + \\frac{g m_{2} \\operatorname{sin}\\left(q_{1}\\right)}{2} + \\frac{l m_{2} u^{2}_{1} \\operatorname{sin}\\left(2 q_{1} - 2 q_{2}\\right)}{2} + l m_{2} u^{2}_{2} \\operatorname{sin}\\left(q_{1} - q_{2}\\right)}{l \\left(m_{1} - m_{2} \\operatorname{sin}\\left(q_{1}\\right) \\operatorname{sin}\\left(q_{2}\\right) \\operatorname{cos}\\left(q_{1} - q_{2}\\right) - m_{2} \\operatorname{cos}\\left(q_{1} - q_{2}\\right) \\operatorname{cos}\\left(q_{1}\\right) \\operatorname{cos}\\left(q_{2}\\right) + m_{2}\\right)}$"
      ],
      "text/plain": [
       " ⎛                                                           2                \n",
       " ⎜               g⋅m₂⋅sin(q₁ - 2⋅q₂)   g⋅m₂⋅sin(q₁)   l⋅m₂⋅u₁ ⋅sin(2⋅q₁ - 2⋅q₂\n",
       "-⎜g⋅m₁⋅sin(q₁) + ─────────────────── + ──────────── + ────────────────────────\n",
       " ⎝                        2                 2                     2           \n",
       "──────────────────────────────────────────────────────────────────────────────\n",
       "             l⋅(m₁ - m₂⋅sin(q₁)⋅sin(q₂)⋅cos(q₁ - q₂) - m₂⋅cos(q₁ - q₂)⋅cos(q₁)\n",
       "\n",
       "                         ⎞ \n",
       ")          2             ⎟ \n",
       "─ + l⋅m₂⋅u₂ ⋅sin(q₁ - q₂)⎟ \n",
       "                         ⎠ \n",
       "───────────────────────────\n",
       "⋅cos(q₂) + m₂)             "
      ]
     },
     "execution_count": 38,
     "metadata": {},
     "output_type": "execute_result"
    }
   ],
   "source": [
    "sol[u1.diff()].simplify()"
   ]
  },
  {
   "cell_type": "code",
   "execution_count": 39,
   "metadata": {},
   "outputs": [
    {
     "data": {
      "image/png": "[encoded data removed]",
      "text/latex": [
       "$\\displaystyle \\frac{- \\left(m_{1} + m_{2}\\right) \\left(g \\operatorname{sin}\\left(q_{2}\\right) - l u^{2}_{1} \\operatorname{sin}\\left(q_{1} - q_{2}\\right)\\right) + \\left(g m_{1} \\operatorname{sin}\\left(q_{1}\\right) + g m_{2} \\operatorname{sin}\\left(q_{1}\\right) + l m_{2} u^{2}_{2} \\operatorname{sin}\\left(q_{1} - q_{2}\\right)\\right) \\operatorname{cos}\\left(q_{1} - q_{2}\\right)}{l \\left(m_{1} - m_{2} \\operatorname{sin}\\left(q_{1}\\right) \\operatorname{sin}\\left(q_{2}\\right) \\operatorname{cos}\\left(q_{1} - q_{2}\\right) - m_{2} \\operatorname{cos}\\left(q_{1} - q_{2}\\right) \\operatorname{cos}\\left(q_{1}\\right) \\operatorname{cos}\\left(q_{2}\\right) + m_{2}\\right)}$"
      ],
      "text/plain": [
       "            ⎛                2             ⎞   ⎛                              \n",
       "- (m₁ + m₂)⋅⎝g⋅sin(q₂) - l⋅u₁ ⋅sin(q₁ - q₂)⎠ + ⎝g⋅m₁⋅sin(q₁) + g⋅m₂⋅sin(q₁) + \n",
       "──────────────────────────────────────────────────────────────────────────────\n",
       "                 l⋅(m₁ - m₂⋅sin(q₁)⋅sin(q₂)⋅cos(q₁ - q₂) - m₂⋅cos(q₁ - q₂)⋅cos\n",
       "\n",
       "       2             ⎞             \n",
       "l⋅m₂⋅u₂ ⋅sin(q₁ - q₂)⎠⋅cos(q₁ - q₂)\n",
       "───────────────────────────────────\n",
       "(q₁)⋅cos(q₂) + m₂)                 "
      ]
     },
     "execution_count": 39,
     "metadata": {},
     "output_type": "execute_result"
    }
   ],
   "source": [
    "sol[u2.diff()].simplify()"
   ]
  },
  {
   "cell_type": "code",
   "execution_count": 40,
   "metadata": {},
   "outputs": [
    {
     "data": {
      "image/png": "[encoded data removed]",
      "text/latex": [
       "$\\displaystyle \\frac{m_{1} \\left(g m_{1} \\operatorname{cos}\\left(q_{1}\\right) + g m_{2} \\operatorname{cos}\\left(q_{1}\\right) + l m_{1} u^{2}_{1} + l m_{2} u^{2}_{1} + l m_{2} u^{2}_{2} \\operatorname{cos}\\left(q_{1} - q_{2}\\right)\\right)}{m_{1} - m_{2} \\operatorname{sin}\\left(q_{1}\\right) \\operatorname{sin}\\left(q_{2}\\right) \\operatorname{cos}\\left(q_{1} - q_{2}\\right) - m_{2} \\operatorname{cos}\\left(q_{1} - q_{2}\\right) \\operatorname{cos}\\left(q_{1}\\right) \\operatorname{cos}\\left(q_{2}\\right) + m_{2}}$"
      ],
      "text/plain": [
       "   ⎛                                     2          2          2             ⎞\n",
       "m₁⋅⎝g⋅m₁⋅cos(q₁) + g⋅m₂⋅cos(q₁) + l⋅m₁⋅u₁  + l⋅m₂⋅u₁  + l⋅m₂⋅u₂ ⋅cos(q₁ - q₂)⎠\n",
       "──────────────────────────────────────────────────────────────────────────────\n",
       " m₁ - m₂⋅sin(q₁)⋅sin(q₂)⋅cos(q₁ - q₂) - m₂⋅cos(q₁ - q₂)⋅cos(q₁)⋅cos(q₂) + m₂  "
      ]
     },
     "execution_count": 40,
     "metadata": {},
     "output_type": "execute_result"
    }
   ],
   "source": [
    "sol[TP1].simplify()"
   ]
  },
  {
   "cell_type": "code",
   "execution_count": 41,
   "metadata": {},
   "outputs": [
    {
     "data": {
      "image/png": "[encoded data removed]",
      "text/latex": [
       "$\\displaystyle \\frac{m_{1} m_{2} \\left(- g \\operatorname{sin}\\left(q_{1} - q_{2}\\right) \\operatorname{sin}\\left(q_{1}\\right) + g \\operatorname{cos}\\left(q_{2}\\right) + l u^{2}_{1} \\operatorname{cos}\\left(q_{1} - q_{2}\\right) + l u^{2}_{2}\\right)}{m_{1} - m_{2} \\operatorname{sin}\\left(q_{1}\\right) \\operatorname{sin}\\left(q_{2}\\right) \\operatorname{cos}\\left(q_{1} - q_{2}\\right) - m_{2} \\operatorname{cos}\\left(q_{1} - q_{2}\\right) \\operatorname{cos}\\left(q_{1}\\right) \\operatorname{cos}\\left(q_{2}\\right) + m_{2}}$"
      ],
      "text/plain": [
       "        ⎛                                          2                    2⎞ \n",
       "  m₁⋅m₂⋅⎝-g⋅sin(q₁ - q₂)⋅sin(q₁) + g⋅cos(q₂) + l⋅u₁ ⋅cos(q₁ - q₂) + l⋅u₂ ⎠ \n",
       "───────────────────────────────────────────────────────────────────────────\n",
       "m₁ - m₂⋅sin(q₁)⋅sin(q₂)⋅cos(q₁ - q₂) - m₂⋅cos(q₁ - q₂)⋅cos(q₁)⋅cos(q₂) + m₂"
      ]
     },
     "execution_count": 41,
     "metadata": {},
     "output_type": "execute_result"
    }
   ],
   "source": [
    "sol[TP2].simplify()"
   ]
  },
  {
   "cell_type": "code",
   "execution_count": 42,
   "metadata": {},
   "outputs": [],
   "source": [
    "TP1_sol = sol[TP1].simplify()"
   ]
  },
  {
   "cell_type": "code",
   "execution_count": 43,
   "metadata": {},
   "outputs": [
    {
     "data": {
      "image/png": "[encoded data removed]",
      "text/latex": [
       "$\\displaystyle \\left\\{q_{1}, q_{2}, u_{1}, u_{2}\\right\\}$"
      ],
      "text/plain": [
       "{q₁, q₂, u₁, u₂}"
      ]
     },
     "execution_count": 43,
     "metadata": {},
     "output_type": "execute_result"
    }
   ],
   "source": [
    "me.find_dynamicsymbols(TP1_sol)"
   ]
  },
  {
   "cell_type": "code",
   "execution_count": 44,
   "metadata": {},
   "outputs": [
    {
     "data": {
      "image/png": "[encoded data removed]",
      "text/latex": [
       "$\\displaystyle \\left\\{g, l, m_{1}, m_{2}, t\\right\\}$"
      ],
      "text/plain": [
       "{g, l, m₁, m₂, t}"
      ]
     },
     "execution_count": 44,
     "metadata": {},
     "output_type": "execute_result"
    }
   ],
   "source": [
    "TP1_sol.free_symbols"
   ]
  },
  {
   "cell_type": "markdown",
   "metadata": {},
   "source": [
    "# Verify answer using Newton-Euler equations"
   ]
  },
  {
   "cell_type": "code",
   "execution_count": 45,
   "metadata": {},
   "outputs": [],
   "source": [
    "veq1 = -m1*P1.acc(N).subs({u3.diff(): 0, u4.diff(): 0, u3: 0, u4: 0}) + (TP2*sm.sin(q2) - TP1*sm.sin(q1))*N.x + (TP1*sm.cos(q1)-TP2*sm.cos(q2) - m1*g)*N.y\n",
    "veq2 = -m2*P2.acc(N).subs({u3.diff(): 0, u4.diff(): 0, u3: 0, u4: 0}) + (-TP2*sm.sin(q2)*N.x + (TP2*sm.cos(q2)-m2*g)*N.y)"
   ]
  },
  {
   "cell_type": "code",
   "execution_count": 46,
   "metadata": {},
   "outputs": [],
   "source": [
    "scalar_eqs = [veq1.dot(N.x),\n",
    "              veq1.dot(N.y),\n",
    "              veq2.dot(N.x),\n",
    "              veq2.dot(N.y)]"
   ]
  },
  {
   "cell_type": "code",
   "execution_count": 47,
   "metadata": {},
   "outputs": [],
   "source": [
    "newton_sol = sm.solve(scalar_eqs, u1.diff(), u2.diff(), TP1, TP2)"
   ]
  },
  {
   "cell_type": "code",
   "execution_count": 48,
   "metadata": {},
   "outputs": [
    {
     "data": {
      "image/png": "[encoded data removed]",
      "text/latex": [
       "$\\displaystyle - \\frac{2 g m_{1} \\operatorname{sin}\\left(q_{1}\\right) + g m_{2} \\operatorname{sin}\\left(q_{1} - 2 q_{2}\\right) + g m_{2} \\operatorname{sin}\\left(q_{1}\\right) + l m_{2} u^{2}_{1} \\operatorname{sin}\\left(2 q_{1} - 2 q_{2}\\right) + 2 l m_{2} u^{2}_{2} \\operatorname{sin}\\left(q_{1} - q_{2}\\right)}{l \\left(2 m_{1} - m_{2} \\operatorname{cos}\\left(2 q_{1} - 2 q_{2}\\right) + m_{2}\\right)}$"
      ],
      "text/plain": [
       " ⎛                                                             2              \n",
       "-⎝2⋅g⋅m₁⋅sin(q₁) + g⋅m₂⋅sin(q₁ - 2⋅q₂) + g⋅m₂⋅sin(q₁) + l⋅m₂⋅u₁ ⋅sin(2⋅q₁ - 2⋅\n",
       "──────────────────────────────────────────────────────────────────────────────\n",
       "                                     l⋅(2⋅m₁ - m₂⋅cos(2⋅q₁ - 2⋅q₂) + m₂)      \n",
       "\n",
       "               2             ⎞ \n",
       "q₂) + 2⋅l⋅m₂⋅u₂ ⋅sin(q₁ - q₂)⎠ \n",
       "───────────────────────────────\n",
       "                               "
      ]
     },
     "execution_count": 48,
     "metadata": {},
     "output_type": "execute_result"
    }
   ],
   "source": [
    "newton_sol[u1.diff()].simplify()"
   ]
  },
  {
   "cell_type": "code",
   "execution_count": 49,
   "metadata": {},
   "outputs": [
    {
     "data": {
      "image/png": "[encoded data removed]",
      "text/latex": [
       "$\\displaystyle \\frac{- \\frac{l m_{1} \\left(\\operatorname{sin}\\left(q_{1} + q_{2}\\right) + \\operatorname{sin}\\left(3 q_{1} - q_{2}\\right)\\right) u^{2}_{1}}{4} + l \\left(m_{1} \\operatorname{cos}\\left(q_{2}\\right) + m_{2} \\operatorname{sin}\\left(q_{1} - q_{2}\\right) \\operatorname{sin}\\left(q_{1}\\right)\\right) \\left(u^{2}_{1} \\operatorname{sin}\\left(q_{1}\\right) + u^{2}_{2} \\operatorname{sin}\\left(q_{2}\\right)\\right) + m_{1} \\left(g + l u^{2}_{1} \\operatorname{cos}\\left(q_{1}\\right)\\right) \\operatorname{sin}\\left(q_{1}\\right) \\operatorname{cos}\\left(q_{1} - q_{2}\\right) - \\left(g + l u^{2}_{1} \\operatorname{cos}\\left(q_{1}\\right) + l u^{2}_{2} \\operatorname{cos}\\left(q_{2}\\right)\\right) \\left(m_{1} \\operatorname{sin}\\left(q_{2}\\right) - m_{2} \\operatorname{sin}\\left(q_{1}\\right) \\operatorname{cos}\\left(q_{1} - q_{2}\\right) + m_{2} \\operatorname{sin}\\left(q_{2}\\right)\\right)}{l \\left(m_{1} + m_{2} \\operatorname{sin}^{2}\\left(q_{1}\\right) - 2 m_{2} \\operatorname{sin}\\left(q_{1}\\right) \\operatorname{sin}\\left(q_{2}\\right) \\operatorname{cos}\\left(q_{1} - q_{2}\\right) + m_{2} \\operatorname{sin}^{2}\\left(q_{2}\\right)\\right)}$"
      ],
      "text/plain": [
       "                                         2                                    \n",
       "  l⋅m₁⋅(sin(q₁ + q₂) + sin(3⋅q₁ - q₂))⋅u₁                                     \n",
       "- ──────────────────────────────────────── + l⋅(m₁⋅cos(q₂) + m₂⋅sin(q₁ - q₂)⋅s\n",
       "                     4                                                        \n",
       "──────────────────────────────────────────────────────────────────────────────\n",
       "                                                                              \n",
       "                                                                              \n",
       "\n",
       "                                                                              \n",
       "        ⎛  2             2        ⎞      ⎛        2        ⎞                  \n",
       "in(q₁))⋅⎝u₁ ⋅sin(q₁) + u₂ ⋅sin(q₂)⎠ + m₁⋅⎝g + l⋅u₁ ⋅cos(q₁)⎠⋅sin(q₁)⋅cos(q₁ - \n",
       "                                                                              \n",
       "──────────────────────────────────────────────────────────────────────────────\n",
       "              ⎛           2                                                 2 \n",
       "            l⋅⎝m₁ + m₂⋅sin (q₁) - 2⋅m₂⋅sin(q₁)⋅sin(q₂)⋅cos(q₁ - q₂) + m₂⋅sin (\n",
       "\n",
       "                                                                              \n",
       "      ⎛        2               2        ⎞                                     \n",
       "q₂) - ⎝g + l⋅u₁ ⋅cos(q₁) + l⋅u₂ ⋅cos(q₂)⎠⋅(m₁⋅sin(q₂) - m₂⋅sin(q₁)⋅cos(q₁ - q₂\n",
       "                                                                              \n",
       "──────────────────────────────────────────────────────────────────────────────\n",
       "   ⎞                                                                          \n",
       "q₂)⎠                                                                          \n",
       "\n",
       "               \n",
       "               \n",
       ") + m₂⋅sin(q₂))\n",
       "               \n",
       "───────────────\n",
       "               \n",
       "               "
      ]
     },
     "execution_count": 49,
     "metadata": {},
     "output_type": "execute_result"
    }
   ],
   "source": [
    "newton_sol[u2.diff()].simplify()"
   ]
  },
  {
   "cell_type": "code",
   "execution_count": 50,
   "metadata": {},
   "outputs": [
    {
     "data": {
      "image/png": "[encoded data removed]",
      "text/latex": [
       "$\\displaystyle \\frac{m_{1} \\left(g m_{1} \\operatorname{cos}\\left(q_{1}\\right) + g m_{2} \\operatorname{cos}\\left(q_{1}\\right) + l m_{1} u^{2}_{1} + l m_{2} u^{2}_{1} + l m_{2} u^{2}_{2} \\operatorname{cos}\\left(q_{1} - q_{2}\\right)\\right)}{m_{1} + m_{2} \\operatorname{sin}^{2}\\left(q_{1}\\right) - 2 m_{2} \\operatorname{sin}\\left(q_{1}\\right) \\operatorname{sin}\\left(q_{2}\\right) \\operatorname{cos}\\left(q_{1} - q_{2}\\right) + m_{2} \\operatorname{sin}^{2}\\left(q_{2}\\right)}$"
      ],
      "text/plain": [
       "   ⎛                                     2          2          2             ⎞\n",
       "m₁⋅⎝g⋅m₁⋅cos(q₁) + g⋅m₂⋅cos(q₁) + l⋅m₁⋅u₁  + l⋅m₂⋅u₁  + l⋅m₂⋅u₂ ⋅cos(q₁ - q₂)⎠\n",
       "──────────────────────────────────────────────────────────────────────────────\n",
       "                 2                                                 2          \n",
       "      m₁ + m₂⋅sin (q₁) - 2⋅m₂⋅sin(q₁)⋅sin(q₂)⋅cos(q₁ - q₂) + m₂⋅sin (q₂)      "
      ]
     },
     "execution_count": 50,
     "metadata": {},
     "output_type": "execute_result"
    }
   ],
   "source": [
    "newton_sol[TP1].trigsimp()"
   ]
  },
  {
   "cell_type": "code",
   "execution_count": 51,
   "metadata": {},
   "outputs": [
    {
     "data": {
      "image/png": "[encoded data removed]",
      "text/latex": [
       "$\\displaystyle \\frac{m_{1} m_{2} \\left(\\frac{g \\operatorname{cos}\\left(2 q_{1} - q_{2}\\right)}{2} + \\frac{g \\operatorname{cos}\\left(q_{2}\\right)}{2} + l u^{2}_{1} \\operatorname{cos}\\left(q_{1} - q_{2}\\right) + l u^{2}_{2}\\right)}{m_{1} + m_{2} \\operatorname{sin}^{2}\\left(q_{1}\\right) - 2 m_{2} \\operatorname{sin}\\left(q_{1}\\right) \\operatorname{sin}\\left(q_{2}\\right) \\operatorname{cos}\\left(q_{1} - q_{2}\\right) + m_{2} \\operatorname{sin}^{2}\\left(q_{2}\\right)}$"
      ],
      "text/plain": [
       "      ⎛g⋅cos(2⋅q₁ - q₂)   g⋅cos(q₂)       2                    2⎞ \n",
       "m₁⋅m₂⋅⎜──────────────── + ───────── + l⋅u₁ ⋅cos(q₁ - q₂) + l⋅u₂ ⎟ \n",
       "      ⎝       2               2                                 ⎠ \n",
       "──────────────────────────────────────────────────────────────────\n",
       "           2                                                 2    \n",
       "m₁ + m₂⋅sin (q₁) - 2⋅m₂⋅sin(q₁)⋅sin(q₂)⋅cos(q₁ - q₂) + m₂⋅sin (q₂)"
      ]
     },
     "execution_count": 51,
     "metadata": {},
     "output_type": "execute_result"
    }
   ],
   "source": [
    "newton_sol[TP2].trigsimp()"
   ]
  },
  {
   "cell_type": "markdown",
   "metadata": {},
   "source": [
    "If we substract the two solutions they should simplify to zero if they are the same (note this doesn't always work for large expressions due to the limitations of simplification)."
   ]
  },
  {
   "cell_type": "code",
   "execution_count": 52,
   "metadata": {},
   "outputs": [
    {
     "data": {
      "image/png": "[encoded data removed]",
      "text/latex": [
       "$\\displaystyle 0$"
      ],
      "text/plain": [
       "0"
      ]
     },
     "execution_count": 52,
     "metadata": {},
     "output_type": "execute_result"
    }
   ],
   "source": [
    "(newton_sol[TP2].expand() - sol[TP2].expand()).simplify()"
   ]
  },
  {
   "cell_type": "markdown",
   "metadata": {},
   "source": [
    "# Evaluate the force expressions with arrays\n",
    "\n",
    "And compare their results numerically."
   ]
  },
  {
   "cell_type": "code",
   "execution_count": 53,
   "metadata": {},
   "outputs": [],
   "source": [
    "eval_TP1 = sm.lambdify((q1, q2, u1, u2, m1, m2, g, l), TP1_sol)"
   ]
  },
  {
   "cell_type": "code",
   "execution_count": 54,
   "metadata": {},
   "outputs": [],
   "source": [
    "import numpy as np"
   ]
  },
  {
   "cell_type": "code",
   "execution_count": 55,
   "metadata": {},
   "outputs": [],
   "source": [
    "times = np.linspace(0, 10)\n",
    "omega = 0.2"
   ]
  },
  {
   "cell_type": "code",
   "execution_count": 56,
   "metadata": {},
   "outputs": [],
   "source": [
    "q1_vals = np.sin(omega*times)"
   ]
  },
  {
   "cell_type": "code",
   "execution_count": 57,
   "metadata": {},
   "outputs": [],
   "source": [
    "u1_vals = omega*np.cos(omega*times)"
   ]
  },
  {
   "cell_type": "code",
   "execution_count": 58,
   "metadata": {},
   "outputs": [],
   "source": [
    "vals = eval_TP1(q1_vals, q1_vals, u1_vals, u1_vals, 1.0, 1.0, 9.81, 2.0)"
   ]
  },
  {
   "cell_type": "code",
   "execution_count": 59,
   "metadata": {},
   "outputs": [
    {
     "data": {
      "image/png": "[encoded data removed]",
      "text/latex": [
       "$\\displaystyle \\left\\{q_{1}, q_{2}, u_{1}, u_{2}\\right\\}$"
      ],
      "text/plain": [
       "{q₁, q₂, u₁, u₂}"
      ]
     },
     "execution_count": 59,
     "metadata": {},
     "output_type": "execute_result"
    }
   ],
   "source": [
    "me.find_dynamicsymbols(newton_sol[TP1])"
   ]
  },
  {
   "cell_type": "code",
   "execution_count": 60,
   "metadata": {},
   "outputs": [],
   "source": [
    "eval_TP1_newton = sm.lambdify((q1, q2, u1, u2, m1, m2, g, l), newton_sol[TP1])\n",
    "vals_newton = eval_TP1_newton(q1_vals, q1_vals, u1_vals, u1_vals, 1.0, 1.0, 9.81, 2.0)"
   ]
  },
  {
   "cell_type": "code",
   "execution_count": 61,
   "metadata": {},
   "outputs": [],
   "source": [
    "import matplotlib.pyplot as plt"
   ]
  },
  {
   "cell_type": "code",
   "execution_count": 62,
   "metadata": {},
   "outputs": [
    {
     "data": {
      "text/plain": [
       "[<matplotlib.lines.Line2D at 0x7f956e5ccf28>,\n",
       " <matplotlib.lines.Line2D at 0x7f956e5da160>]"
      ]
     },
     "execution_count": 62,
     "metadata": {},
     "output_type": "execute_result"
    },
    {
     "data": {
      "image/png": "[encoded data removed]",
      "text/plain": [
       "<Figure size 432x288 with 1 Axes>"
      ]
     },
     "metadata": {
      "needs_background": "light"
     },
     "output_type": "display_data"
    }
   ],
   "source": [
    "plt.plot(times, vals, times, vals_newton, '.')"
   ]
  },
  {
   "cell_type": "code",
   "execution_count": 63,
   "metadata": {},
   "outputs": [],
   "source": [
    "func = lambda x, y: x + y"
   ]
  },
  {
   "cell_type": "code",
   "execution_count": 64,
   "metadata": {},
   "outputs": [
    {
     "data": {
      "image/png": "[encoded data removed]",
      "text/latex": [
       "$\\displaystyle 3$"
      ],
      "text/plain": [
       "3"
      ]
     },
     "execution_count": 64,
     "metadata": {},
     "output_type": "execute_result"
    }
   ],
   "source": [
    "func(1, 2)"
   ]
  },
  {
   "cell_type": "code",
   "execution_count": 65,
   "metadata": {},
   "outputs": [],
   "source": [
    "generate_numeric_func = sm.lambdify"
   ]
  },
  {
   "cell_type": "code",
   "execution_count": 66,
   "metadata": {},
   "outputs": [],
   "source": [
    "eval_TP1 = generate_numeric_func((q1, u1, m1, g, l), TP1_sol)"
   ]
  }
 ],
 "metadata": {
  "kernelspec": {
   "display_name": "Python 3",
   "language": "python",
   "name": "python3"
  },
  "language_info": {
   "codemirror_mode": {
    "name": "ipython",
    "version": 3
   },
   "file_extension": ".py",
   "mimetype": "text/x-python",
   "name": "python",
   "nbconvert_exporter": "python",
   "pygments_lexer": "ipython3",
   "version": "3.6.7"
  }
 },
 "nbformat": 4,
 "nbformat_minor": 4
}
