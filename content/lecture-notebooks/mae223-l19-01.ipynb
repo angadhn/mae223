{
 "cells": [
  {
   "cell_type": "markdown",
   "metadata": {},
   "source": [
    "# Brining Noncontributing Forces into Evidence"
   ]
  },
  {
   "cell_type": "code",
   "execution_count": 1,
   "metadata": {},
   "outputs": [],
   "source": [
    "import sympy as sm\n",
    "import sympy.physics.mechanics as me\n",
    "me.init_vprinting()"
   ]
  },
  {
   "cell_type": "code",
   "execution_count": 2,
   "metadata": {},
   "outputs": [],
   "source": [
    "q1, q2 = me.dynamicsymbols('q1, q2')\n",
    "u1, u2, u3, u4 = me.dynamicsymbols('u1:5')"
   ]
  },
  {
   "cell_type": "code",
   "execution_count": 3,
   "metadata": {},
   "outputs": [],
   "source": [
    "m1, m2, g, l = sm.symbols('m1, m2, g, l')"
   ]
  },
  {
   "cell_type": "code",
   "execution_count": 4,
   "metadata": {},
   "outputs": [],
   "source": [
    "N = me.ReferenceFrame('N')\n",
    "A = N.orientnew('A', 'Axis', (q1, N.z))\n",
    "B = N.orientnew('B', 'Axis', (q2, N.z))"
   ]
  },
  {
   "cell_type": "code",
   "execution_count": 5,
   "metadata": {},
   "outputs": [],
   "source": [
    "A.set_ang_vel(N, u1*N.z)\n",
    "B.set_ang_vel(N, u2*N.z)"
   ]
  },
  {
   "cell_type": "code",
   "execution_count": 6,
   "metadata": {},
   "outputs": [],
   "source": [
    "O = me.Point('O')\n",
    "P1 = O.locatenew('P1', -l*A.y)\n",
    "P2 = P1.locatenew('P2', -l*B.y)"
   ]
  },
  {
   "cell_type": "code",
   "execution_count": 7,
   "metadata": {},
   "outputs": [],
   "source": [
    "O.set_vel(N, 0)"
   ]
  },
  {
   "cell_type": "code",
   "execution_count": 8,
   "metadata": {},
   "outputs": [
    {
     "data": {
      "image/png": "[encoded data removed]",
      "text/latex": [
       "$\\displaystyle l u_{1}\\mathbf{\\hat{a}_x}$"
      ],
      "text/plain": [
       "l⋅u₁ a_x"
      ]
     },
     "execution_count": 8,
     "metadata": {},
     "output_type": "execute_result"
    }
   ],
   "source": [
    "P1.v2pt_theory(O, N, A)"
   ]
  },
  {
   "cell_type": "code",
   "execution_count": 9,
   "metadata": {},
   "outputs": [
    {
     "data": {
      "image/png": "[encoded data removed]",
      "text/latex": [
       "$\\displaystyle l u_{1}\\mathbf{\\hat{a}_x} + l u_{2}\\mathbf{\\hat{b}_x}$"
      ],
      "text/plain": [
       "l⋅u₁ a_x + l⋅u₂ b_x"
      ]
     },
     "execution_count": 9,
     "metadata": {},
     "output_type": "execute_result"
    }
   ],
   "source": [
    "P2.v2pt_theory(P1, N, B)"
   ]
  },
  {
   "cell_type": "markdown",
   "metadata": {},
   "source": [
    "# Introduce fictitious generalized speeds that correspond to components of desired forces and torques"
   ]
  },
  {
   "cell_type": "code",
   "execution_count": 10,
   "metadata": {},
   "outputs": [
    {
     "data": {
      "image/png": "[encoded data removed]",
      "text/latex": [
       "$\\displaystyle l u_{1}\\mathbf{\\hat{a}_x} -  u_{3}\\mathbf{\\hat{a}_y}$"
      ],
      "text/plain": [
       "l⋅u₁ a_x + -u₃ a_y"
      ]
     },
     "execution_count": 10,
     "metadata": {},
     "output_type": "execute_result"
    }
   ],
   "source": [
    "P1.set_vel(N, P1.vel(N) - u3*A.y)\n",
    "P1.vel(N)"
   ]
  },
  {
   "cell_type": "code",
   "execution_count": 11,
   "metadata": {},
   "outputs": [
    {
     "data": {
      "image/png": "[encoded data removed]",
      "text/latex": [
       "$\\displaystyle l u_{1}\\mathbf{\\hat{a}_x} + l u_{2}\\mathbf{\\hat{b}_x} -  u_{4}\\mathbf{\\hat{b}_y}$"
      ],
      "text/plain": [
       "l⋅u₁ a_x + l⋅u₂ b_x + -u₄ b_y"
      ]
     },
     "execution_count": 11,
     "metadata": {},
     "output_type": "execute_result"
    }
   ],
   "source": [
    "P2.set_vel(N, P2.vel(N) - u4*B.y)\n",
    "P2.vel(N)"
   ]
  },
  {
   "cell_type": "code",
   "execution_count": 12,
   "metadata": {},
   "outputs": [
    {
     "data": {
      "image/png": "[encoded data removed]",
      "text/latex": [
       "$\\displaystyle (l \\dot{u}_{1} + u_{1} u_{3})\\mathbf{\\hat{a}_x} + (l u^{2}_{1} - \\dot{u}_{3})\\mathbf{\\hat{a}_y}$"
      ],
      "text/plain": [
       "                      ⎛    2      ⎞\n",
       "(l⋅u₁̇ + u₁⋅u₃) a_x + ⎝l⋅u₁  - u₃̇⎠ a_y"
      ]
     },
     "execution_count": 12,
     "metadata": {},
     "output_type": "execute_result"
    }
   ],
   "source": [
    "P1.acc(N)"
   ]
  },
  {
   "cell_type": "code",
   "execution_count": 13,
   "metadata": {},
   "outputs": [
    {
     "data": {
      "image/png": "[encoded data removed]",
      "text/latex": [
       "$\\displaystyle l \\dot{u}_{1}\\mathbf{\\hat{a}_x} + l u^{2}_{1}\\mathbf{\\hat{a}_y} + (l \\dot{u}_{2} + u_{2} u_{4})\\mathbf{\\hat{b}_x} + (l u^{2}_{2} - \\dot{u}_{4})\\mathbf{\\hat{b}_y}$"
      ],
      "text/plain": [
       "                2                             ⎛    2      ⎞\n",
       "l⋅u₁̇ a_x + l⋅u₁  a_y + (l⋅u₂̇ + u₂⋅u₄) b_x + ⎝l⋅u₂  - u₄̇⎠ b_y"
      ]
     },
     "execution_count": 13,
     "metadata": {},
     "output_type": "execute_result"
    }
   ],
   "source": [
    "P2.acc(N)"
   ]
  },
  {
   "cell_type": "markdown",
   "metadata": {},
   "source": [
    "# Introduce unknown force and torques into the resultants"
   ]
  },
  {
   "cell_type": "code",
   "execution_count": 14,
   "metadata": {},
   "outputs": [],
   "source": [
    "TP1, TP2 = me.dynamicsymbols('T_{P1}, T_{P2}')"
   ]
  },
  {
   "cell_type": "code",
   "execution_count": 15,
   "metadata": {},
   "outputs": [],
   "source": [
    "RP1 = -m1*g*N.y - TP1*A.y\n",
    "RP2 = -m2*g*N.y - TP2*B.y"
   ]
  },
  {
   "cell_type": "markdown",
   "metadata": {},
   "source": [
    "# GAF"
   ]
  },
  {
   "cell_type": "code",
   "execution_count": 16,
   "metadata": {},
   "outputs": [
    {
     "data": {
      "image/png": "[encoded data removed]",
      "text/latex": [
       "$\\displaystyle - g l m_{1} \\operatorname{sin}\\left(q_{1}\\right) - g l m_{2} \\operatorname{sin}\\left(q_{1}\\right) - l \\left(\\operatorname{sin}\\left(q_{1}\\right) \\operatorname{cos}\\left(q_{2}\\right) - \\operatorname{sin}\\left(q_{2}\\right) \\operatorname{cos}\\left(q_{1}\\right)\\right) T_{{P2}}$"
      ],
      "text/plain": [
       "-g⋅l⋅m₁⋅sin(q₁) - g⋅l⋅m₂⋅sin(q₁) - l⋅(sin(q₁)⋅cos(q₂) - sin(q₂)⋅cos(q₁))⋅T_{P2\n",
       "}"
      ]
     },
     "execution_count": 16,
     "metadata": {},
     "output_type": "execute_result"
    }
   ],
   "source": [
    "F1 = P1.vel(N).diff(u1, N).dot(RP1) + P2.vel(N).diff(u1, N).dot(RP2)\n",
    "F1"
   ]
  },
  {
   "cell_type": "code",
   "execution_count": 17,
   "metadata": {},
   "outputs": [
    {
     "data": {
      "image/png": "[encoded data removed]",
      "text/latex": [
       "$\\displaystyle - g l m_{2} \\operatorname{sin}\\left(q_{2}\\right)$"
      ],
      "text/plain": [
       "-g⋅l⋅m₂⋅sin(q₂)"
      ]
     },
     "execution_count": 17,
     "metadata": {},
     "output_type": "execute_result"
    }
   ],
   "source": [
    "F2 = P1.vel(N).diff(u2, N).dot(RP1) + P2.vel(N).diff(u2, N).dot(RP2)\n",
    "F2"
   ]
  },
  {
   "cell_type": "code",
   "execution_count": 18,
   "metadata": {},
   "outputs": [
    {
     "data": {
      "image/png": "[encoded data removed]",
      "text/latex": [
       "$\\displaystyle g m_{1} \\operatorname{cos}\\left(q_{1}\\right) + T_{{P1}}$"
      ],
      "text/plain": [
       "g⋅m₁⋅cos(q₁) + T_{P1}"
      ]
     },
     "execution_count": 18,
     "metadata": {},
     "output_type": "execute_result"
    }
   ],
   "source": [
    "F3 = P1.vel(N).diff(u3, N).dot(RP1) + P2.vel(N).diff(u3, N).dot(RP2)\n",
    "F3"
   ]
  },
  {
   "cell_type": "code",
   "execution_count": 19,
   "metadata": {},
   "outputs": [
    {
     "data": {
      "image/png": "[encoded data removed]",
      "text/latex": [
       "$\\displaystyle g m_{2} \\operatorname{cos}\\left(q_{2}\\right) + T_{{P2}}$"
      ],
      "text/plain": [
       "g⋅m₂⋅cos(q₂) + T_{P2}"
      ]
     },
     "execution_count": 19,
     "metadata": {},
     "output_type": "execute_result"
    }
   ],
   "source": [
    "F4 = P1.vel(N).diff(u4, N).dot(RP1) + P2.vel(N).diff(u4, N).dot(RP2)\n",
    "F4"
   ]
  },
  {
   "cell_type": "markdown",
   "metadata": {},
   "source": [
    "# GIF"
   ]
  },
  {
   "cell_type": "code",
   "execution_count": 20,
   "metadata": {},
   "outputs": [
    {
     "data": {
      "image/png": "[encoded data removed]",
      "text/latex": [
       "$\\displaystyle - l^{2} m_{2} \\dot{u}_{1} - l m_{1} \\left(l \\dot{u}_{1} + u_{1} u_{3}\\right) + l \\left(- m_{2} \\left(l u^{2}_{2} - \\dot{u}_{4}\\right) \\left(\\operatorname{sin}\\left(q_{1}\\right) \\operatorname{cos}\\left(q_{2}\\right) - \\operatorname{sin}\\left(q_{2}\\right) \\operatorname{cos}\\left(q_{1}\\right)\\right) - m_{2} \\left(l \\dot{u}_{2} + u_{2} u_{4}\\right) \\left(\\operatorname{sin}\\left(q_{1}\\right) \\operatorname{sin}\\left(q_{2}\\right) + \\operatorname{cos}\\left(q_{1}\\right) \\operatorname{cos}\\left(q_{2}\\right)\\right)\\right)$"
      ],
      "text/plain": [
       "   2                                   ⎛     ⎛    2      ⎞                    \n",
       "- l ⋅m₂⋅u₁̇ - l⋅m₁⋅(l⋅u₁̇ + u₁⋅u₃) + l⋅⎝- m₂⋅⎝l⋅u₂  - u₄̇⎠⋅(sin(q₁)⋅cos(q₂) - \n",
       "\n",
       "                                                                         ⎞\n",
       "sin(q₂)⋅cos(q₁)) - m₂⋅(l⋅u₂̇ + u₂⋅u₄)⋅(sin(q₁)⋅sin(q₂) + cos(q₁)⋅cos(q₂))⎠"
      ]
     },
     "execution_count": 20,
     "metadata": {},
     "output_type": "execute_result"
    }
   ],
   "source": [
    "F1s = P1.vel(N).diff(u1, N).dot(-m1*P1.acc(N)) + P2.vel(N).diff(u1, N).dot(-m2*P2.acc(N))\n",
    "F1s"
   ]
  },
  {
   "cell_type": "code",
   "execution_count": 21,
   "metadata": {},
   "outputs": [
    {
     "data": {
      "image/png": "[encoded data removed]",
      "text/latex": [
       "$\\displaystyle - l m_{2} \\left(l \\dot{u}_{2} + u_{2} u_{4}\\right) + l \\left(- l m_{2} \\left(\\operatorname{sin}\\left(q_{1}\\right) \\operatorname{sin}\\left(q_{2}\\right) + \\operatorname{cos}\\left(q_{1}\\right) \\operatorname{cos}\\left(q_{2}\\right)\\right) \\dot{u}_{1} - l m_{2} \\left(- \\operatorname{sin}\\left(q_{1}\\right) \\operatorname{cos}\\left(q_{2}\\right) + \\operatorname{sin}\\left(q_{2}\\right) \\operatorname{cos}\\left(q_{1}\\right)\\right) u^{2}_{1}\\right)$"
      ],
      "text/plain": [
       "                          ⎛                                                   \n",
       "-l⋅m₂⋅(l⋅u₂̇ + u₂⋅u₄) + l⋅⎝-l⋅m₂⋅(sin(q₁)⋅sin(q₂) + cos(q₁)⋅cos(q₂))⋅u₁̇ - l⋅m\n",
       "\n",
       "                                         2⎞\n",
       "₂⋅(-sin(q₁)⋅cos(q₂) + sin(q₂)⋅cos(q₁))⋅u₁ ⎠"
      ]
     },
     "execution_count": 21,
     "metadata": {},
     "output_type": "execute_result"
    }
   ],
   "source": [
    "F2s = P1.vel(N).diff(u2, N).dot(-m1*P1.acc(N)) + P2.vel(N).diff(u2, N).dot(-m2*P2.acc(N))\n",
    "F2s"
   ]
  },
  {
   "cell_type": "code",
   "execution_count": 22,
   "metadata": {},
   "outputs": [
    {
     "data": {
      "image/png": "[encoded data removed]",
      "text/latex": [
       "$\\displaystyle m_{1} \\left(l u^{2}_{1} - \\dot{u}_{3}\\right)$"
      ],
      "text/plain": [
       "   ⎛    2      ⎞\n",
       "m₁⋅⎝l⋅u₁  - u₃̇⎠"
      ]
     },
     "execution_count": 22,
     "metadata": {},
     "output_type": "execute_result"
    }
   ],
   "source": [
    "F3s = P1.vel(N).diff(u3, N).dot(-m1*P1.acc(N)) + P2.vel(N).diff(u3, N).dot(-m2*P2.acc(N))\n",
    "F3s"
   ]
  },
  {
   "cell_type": "code",
   "execution_count": 23,
   "metadata": {},
   "outputs": [
    {
     "data": {
      "image/png": "[encoded data removed]",
      "text/latex": [
       "$\\displaystyle l m_{2} \\left(\\operatorname{sin}\\left(q_{1}\\right) \\operatorname{sin}\\left(q_{2}\\right) + \\operatorname{cos}\\left(q_{1}\\right) \\operatorname{cos}\\left(q_{2}\\right)\\right) u^{2}_{1} + l m_{2} \\left(\\operatorname{sin}\\left(q_{1}\\right) \\operatorname{cos}\\left(q_{2}\\right) - \\operatorname{sin}\\left(q_{2}\\right) \\operatorname{cos}\\left(q_{1}\\right)\\right) \\dot{u}_{1} + m_{2} \\left(l u^{2}_{2} - \\dot{u}_{4}\\right)$"
      ],
      "text/plain": [
       "                                           2                                  \n",
       "l⋅m₂⋅(sin(q₁)⋅sin(q₂) + cos(q₁)⋅cos(q₂))⋅u₁  + l⋅m₂⋅(sin(q₁)⋅cos(q₂) - sin(q₂)\n",
       "\n",
       "                   ⎛    2      ⎞\n",
       "⋅cos(q₁))⋅u₁̇ + m₂⋅⎝l⋅u₂  - u₄̇⎠"
      ]
     },
     "execution_count": 23,
     "metadata": {},
     "output_type": "execute_result"
    }
   ],
   "source": [
    "F4s = P1.vel(N).diff(u4, N).dot(-m1*P1.acc(N)) + P2.vel(N).diff(u4, N).dot(-m2*P2.acc(N))\n",
    "F4s"
   ]
  },
  {
   "cell_type": "code",
   "execution_count": 24,
   "metadata": {},
   "outputs": [
    {
     "data": {
      "image/png": "[encoded data removed]",
      "text/latex": [
       "$\\displaystyle \\left\\{q_{1}, q_{2}, u_{1}, u_{2}, u_{3}, u_{4}, \\dot{u}_{1}, \\dot{u}_{2}, \\dot{u}_{4}\\right\\}$"
      ],
      "text/plain": [
       "{q₁, q₂, u₁, u₂, u₃, u₄, u₁̇, u₂̇, u₄̇}"
      ]
     },
     "execution_count": 24,
     "metadata": {},
     "output_type": "execute_result"
    }
   ],
   "source": [
    "me.find_dynamicsymbols(F1s)"
   ]
  },
  {
   "cell_type": "markdown",
   "metadata": {},
   "source": [
    "# Kane's Equations"
   ]
  },
  {
   "cell_type": "code",
   "execution_count": 25,
   "metadata": {},
   "outputs": [],
   "source": [
    "k1 = F1 + F1s\n",
    "k2 = F2 + F2s\n",
    "k3 = F3 + F3s\n",
    "k4 = F4 + F4s"
   ]
  },
  {
   "cell_type": "markdown",
   "metadata": {},
   "source": [
    "# Substitute zero for all fictitious quantities"
   ]
  },
  {
   "cell_type": "code",
   "execution_count": 26,
   "metadata": {},
   "outputs": [],
   "source": [
    "k1_ = k1.subs({u3.diff(): 0, u4.diff(): 0, u3: 0, u4: 0})\n",
    "k2_ = k2.subs({u3.diff(): 0, u4.diff(): 0, u3: 0, u4: 0})\n",
    "k3_ = k3.subs({u3.diff(): 0, u4.diff(): 0, u3: 0, u4: 0})\n",
    "k4_ = k4.subs({u3.diff(): 0, u4.diff(): 0, u3: 0, u4: 0})"
   ]
  },
  {
   "cell_type": "code",
   "execution_count": 27,
   "metadata": {},
   "outputs": [],
   "source": [
    "kanes = [k1_, k2_, k3_, k4_]"
   ]
  },
  {
   "cell_type": "code",
   "execution_count": 28,
   "metadata": {},
   "outputs": [
    {
     "data": {
      "image/png": "[encoded data removed]",
      "text/latex": [
       "$\\displaystyle \\left\\{T_{{P2}}, q_{1}, q_{2}, u_{1}, u_{2}, \\dot{u}_{1}, \\dot{u}_{2}\\right\\}$"
      ],
      "text/plain": [
       "{T_{P2}, q₁, q₂, u₁, u₂, u₁̇, u₂̇}"
      ]
     },
     "execution_count": 28,
     "metadata": {},
     "output_type": "execute_result"
    }
   ],
   "source": [
    "me.find_dynamicsymbols(k1_)"
   ]
  },
  {
   "cell_type": "code",
   "execution_count": 29,
   "metadata": {},
   "outputs": [
    {
     "data": {
      "image/png": "[encoded data removed]",
      "text/latex": [
       "$\\displaystyle \\left\\{q_{1}, q_{2}, u_{1}, u_{2}, \\dot{u}_{1}, \\dot{u}_{2}\\right\\}$"
      ],
      "text/plain": [
       "{q₁, q₂, u₁, u₂, u₁̇, u₂̇}"
      ]
     },
     "execution_count": 29,
     "metadata": {},
     "output_type": "execute_result"
    }
   ],
   "source": [
    "me.find_dynamicsymbols(k2_)"
   ]
  },
  {
   "cell_type": "code",
   "execution_count": 30,
   "metadata": {},
   "outputs": [
    {
     "data": {
      "image/png": "[encoded data removed]",
      "text/latex": [
       "$\\displaystyle \\left\\{T_{{P1}}, q_{1}, u_{1}\\right\\}$"
      ],
      "text/plain": [
       "{T_{P1}, q₁, u₁}"
      ]
     },
     "execution_count": 30,
     "metadata": {},
     "output_type": "execute_result"
    }
   ],
   "source": [
    "me.find_dynamicsymbols(k3_)"
   ]
  },
  {
   "cell_type": "code",
   "execution_count": 31,
   "metadata": {},
   "outputs": [
    {
     "data": {
      "image/png": "[encoded data removed]",
      "text/latex": [
       "$\\displaystyle \\left\\{T_{{P2}}, q_{1}, q_{2}, u_{1}, u_{2}, \\dot{u}_{1}\\right\\}$"
      ],
      "text/plain": [
       "{T_{P2}, q₁, q₂, u₁, u₂, u₁̇}"
      ]
     },
     "execution_count": 31,
     "metadata": {},
     "output_type": "execute_result"
    }
   ],
   "source": [
    "me.find_dynamicsymbols(k4_)"
   ]
  },
  {
   "cell_type": "code",
   "execution_count": 32,
   "metadata": {},
   "outputs": [
    {
     "data": {
      "image/png": "[encoded data removed]",
      "text/latex": [
       "$\\displaystyle - g l m_{1} \\operatorname{sin}\\left(q_{1}\\right) - g l m_{2} \\operatorname{sin}\\left(q_{1}\\right) - l^{2} m_{1} \\dot{u}_{1} - l^{2} m_{2} \\dot{u}_{1} - l \\left(\\operatorname{sin}\\left(q_{1}\\right) \\operatorname{cos}\\left(q_{2}\\right) - \\operatorname{sin}\\left(q_{2}\\right) \\operatorname{cos}\\left(q_{1}\\right)\\right) T_{{P2}} + l \\left(- l m_{2} \\left(\\operatorname{sin}\\left(q_{1}\\right) \\operatorname{sin}\\left(q_{2}\\right) + \\operatorname{cos}\\left(q_{1}\\right) \\operatorname{cos}\\left(q_{2}\\right)\\right) \\dot{u}_{2} - l m_{2} \\left(\\operatorname{sin}\\left(q_{1}\\right) \\operatorname{cos}\\left(q_{2}\\right) - \\operatorname{sin}\\left(q_{2}\\right) \\operatorname{cos}\\left(q_{1}\\right)\\right) u^{2}_{2}\\right)$"
      ],
      "text/plain": [
       "                                    2           2                             \n",
       "-g⋅l⋅m₁⋅sin(q₁) - g⋅l⋅m₂⋅sin(q₁) - l ⋅m₁⋅u₁̇ - l ⋅m₂⋅u₁̇ - l⋅(sin(q₁)⋅cos(q₂) \n",
       "\n",
       "                              ⎛                                               \n",
       "- sin(q₂)⋅cos(q₁))⋅T_{P2} + l⋅⎝-l⋅m₂⋅(sin(q₁)⋅sin(q₂) + cos(q₁)⋅cos(q₂))⋅u₂̇ -\n",
       "\n",
       "                                            2⎞\n",
       " l⋅m₂⋅(sin(q₁)⋅cos(q₂) - sin(q₂)⋅cos(q₁))⋅u₂ ⎠"
      ]
     },
     "execution_count": 32,
     "metadata": {},
     "output_type": "execute_result"
    }
   ],
   "source": [
    "k1_"
   ]
  },
  {
   "cell_type": "code",
   "execution_count": 33,
   "metadata": {},
   "outputs": [
    {
     "data": {
      "image/png": "[encoded data removed]",
      "text/latex": [
       "$\\displaystyle g m_{1} \\operatorname{cos}\\left(q_{1}\\right) + l m_{1} u^{2}_{1} + T_{{P1}}$"
      ],
      "text/plain": [
       "                      2         \n",
       "g⋅m₁⋅cos(q₁) + l⋅m₁⋅u₁  + T_{P1}"
      ]
     },
     "execution_count": 33,
     "metadata": {},
     "output_type": "execute_result"
    }
   ],
   "source": [
    "k3_"
   ]
  },
  {
   "cell_type": "markdown",
   "metadata": {},
   "source": [
    "# Solve for all unknowns"
   ]
  },
  {
   "cell_type": "code",
   "execution_count": 34,
   "metadata": {},
   "outputs": [],
   "source": [
    "sol = sm.solve(kanes, u1.diff(), u2.diff(), TP1, TP2)"
   ]
  },
  {
   "cell_type": "code",
   "execution_count": 35,
   "metadata": {},
   "outputs": [
    {
     "data": {
      "image/png": "[encoded data removed]",
      "text/latex": [
       "$\\displaystyle - \\frac{g \\operatorname{sin}\\left(q_{1}\\right)}{l}$"
      ],
      "text/plain": [
       "-g⋅sin(q₁) \n",
       "───────────\n",
       "     l     "
      ]
     },
     "execution_count": 35,
     "metadata": {},
     "output_type": "execute_result"
    }
   ],
   "source": [
    "sol[u1.diff()].simplify()"
   ]
  },
  {
   "cell_type": "code",
   "execution_count": 36,
   "metadata": {},
   "outputs": [
    {
     "data": {
      "image/png": "[encoded data removed]",
      "text/latex": [
       "$\\displaystyle \\frac{- g m_{1} \\operatorname{sin}\\left(q_{2}\\right) + \\frac{g m_{2} \\operatorname{sin}\\left(2 q_{1} - 3 q_{2}\\right)}{4} - \\frac{g m_{2} \\operatorname{sin}\\left(2 q_{1} - q_{2}\\right)}{4} - \\frac{g m_{2} \\operatorname{sin}\\left(q_{2}\\right)}{2} + l m_{1} u^{2}_{1} \\operatorname{sin}\\left(q_{1} - q_{2}\\right) + \\frac{l m_{2} u^{2}_{1} \\operatorname{sin}\\left(q_{1} - q_{2}\\right)}{4} + \\frac{l m_{2} u^{2}_{1} \\operatorname{sin}\\left(3 q_{1} - 3 q_{2}\\right)}{4} - m_{2} \\left(g \\operatorname{cos}\\left(q_{2}\\right) + l u^{2}_{1} \\operatorname{cos}\\left(q_{1} - q_{2}\\right) + l u^{2}_{2}\\right) \\operatorname{sin}\\left(q_{1} - q_{2}\\right) \\operatorname{cos}\\left(q_{1} - q_{2}\\right) + \\left(g m_{1} \\operatorname{sin}\\left(q_{1}\\right) + g m_{2} \\operatorname{sin}\\left(q_{1}\\right) + l m_{2} u^{2}_{2} \\operatorname{sin}\\left(q_{1} - q_{2}\\right)\\right) \\operatorname{cos}\\left(q_{1} - q_{2}\\right)}{l m_{1}}$"
      ],
      "text/plain": [
       "                                                                              \n",
       "                g⋅m₂⋅sin(2⋅q₁ - 3⋅q₂)   g⋅m₂⋅sin(2⋅q₁ - q₂)   g⋅m₂⋅sin(q₂)    \n",
       "-g⋅m₁⋅sin(q₂) + ───────────────────── - ─────────────────── - ──────────── + l\n",
       "                          4                      4                 2          \n",
       "──────────────────────────────────────────────────────────────────────────────\n",
       "                                                                              \n",
       "\n",
       "                              2                       2                       \n",
       "      2                l⋅m₂⋅u₁ ⋅sin(q₁ - q₂)   l⋅m₂⋅u₁ ⋅sin(3⋅q₁ - 3⋅q₂)      \n",
       "⋅m₁⋅u₁ ⋅sin(q₁ - q₂) + ───────────────────── + ───────────────────────── - m₂⋅\n",
       "                                 4                         4                  \n",
       "──────────────────────────────────────────────────────────────────────────────\n",
       "                                                                  l⋅m₁        \n",
       "\n",
       "                                                                              \n",
       "⎛                2                    2⎞                             ⎛        \n",
       "⎝g⋅cos(q₂) + l⋅u₁ ⋅cos(q₁ - q₂) + l⋅u₂ ⎠⋅sin(q₁ - q₂)⋅cos(q₁ - q₂) + ⎝g⋅m₁⋅sin\n",
       "                                                                              \n",
       "──────────────────────────────────────────────────────────────────────────────\n",
       "                                                                              \n",
       "\n",
       "                                                         \n",
       "                             2             ⎞             \n",
       "(q₁) + g⋅m₂⋅sin(q₁) + l⋅m₂⋅u₂ ⋅sin(q₁ - q₂)⎠⋅cos(q₁ - q₂)\n",
       "                                                         \n",
       "─────────────────────────────────────────────────────────\n",
       "                                                         "
      ]
     },
     "execution_count": 36,
     "metadata": {},
     "output_type": "execute_result"
    }
   ],
   "source": [
    "sol[u2.diff()].simplify()"
   ]
  },
  {
   "cell_type": "code",
   "execution_count": 37,
   "metadata": {},
   "outputs": [
    {
     "data": {
      "image/png": "[encoded data removed]",
      "text/latex": [
       "$\\displaystyle - m_{1} \\left(g \\operatorname{cos}\\left(q_{1}\\right) + l u^{2}_{1}\\right)$"
      ],
      "text/plain": [
       "    ⎛                2⎞\n",
       "-m₁⋅⎝g⋅cos(q₁) + l⋅u₁ ⎠"
      ]
     },
     "execution_count": 37,
     "metadata": {},
     "output_type": "execute_result"
    }
   ],
   "source": [
    "sol[TP1].simplify()"
   ]
  },
  {
   "cell_type": "code",
   "execution_count": 38,
   "metadata": {},
   "outputs": [
    {
     "data": {
      "image/png": "[encoded data removed]",
      "text/latex": [
       "$\\displaystyle m_{2} \\left(g \\operatorname{sin}\\left(q_{1} - q_{2}\\right) \\operatorname{sin}\\left(q_{1}\\right) - g \\operatorname{cos}\\left(q_{2}\\right) - l u^{2}_{1} \\operatorname{cos}\\left(q_{1} - q_{2}\\right) - l u^{2}_{2}\\right)$"
      ],
      "text/plain": [
       "   ⎛                                         2                    2⎞\n",
       "m₂⋅⎝g⋅sin(q₁ - q₂)⋅sin(q₁) - g⋅cos(q₂) - l⋅u₁ ⋅cos(q₁ - q₂) - l⋅u₂ ⎠"
      ]
     },
     "execution_count": 38,
     "metadata": {},
     "output_type": "execute_result"
    }
   ],
   "source": [
    "sol[TP2].simplify()"
   ]
  },
  {
   "cell_type": "code",
   "execution_count": 39,
   "metadata": {},
   "outputs": [],
   "source": [
    "TP1_sol = sol[TP1].simplify()"
   ]
  },
  {
   "cell_type": "code",
   "execution_count": 40,
   "metadata": {},
   "outputs": [
    {
     "data": {
      "image/png": "[encoded data removed]",
      "text/latex": [
       "$\\displaystyle \\left\\{q_{1}, u_{1}\\right\\}$"
      ],
      "text/plain": [
       "{q₁, u₁}"
      ]
     },
     "execution_count": 40,
     "metadata": {},
     "output_type": "execute_result"
    }
   ],
   "source": [
    "me.find_dynamicsymbols(TP1_sol)"
   ]
  },
  {
   "cell_type": "code",
   "execution_count": 41,
   "metadata": {},
   "outputs": [
    {
     "data": {
      "image/png": "[encoded data removed]",
      "text/latex": [
       "$\\displaystyle \\left\\{g, l, m_{1}, t\\right\\}$"
      ],
      "text/plain": [
       "{g, l, m₁, t}"
      ]
     },
     "execution_count": 41,
     "metadata": {},
     "output_type": "execute_result"
    }
   ],
   "source": [
    "TP1_sol.free_symbols"
   ]
  },
  {
   "cell_type": "markdown",
   "metadata": {},
   "source": [
    "# Evaluate the force expressions with arrays"
   ]
  },
  {
   "cell_type": "code",
   "execution_count": 42,
   "metadata": {},
   "outputs": [],
   "source": [
    "eval_TP1 = sm.lambdify((q1, u1, m1, g, l), TP1_sol)"
   ]
  },
  {
   "cell_type": "code",
   "execution_count": 43,
   "metadata": {},
   "outputs": [],
   "source": [
    "import numpy as np"
   ]
  },
  {
   "cell_type": "code",
   "execution_count": 44,
   "metadata": {},
   "outputs": [],
   "source": [
    "q1_vals = np.random.random(500)"
   ]
  },
  {
   "cell_type": "code",
   "execution_count": 45,
   "metadata": {},
   "outputs": [],
   "source": [
    "u1_vals = np.random.random(500)"
   ]
  },
  {
   "cell_type": "code",
   "execution_count": 46,
   "metadata": {},
   "outputs": [
    {
     "data": {
      "text/plain": [
       "array([ -9.05577865,  -8.88664878,  -9.56945348,  -9.35353409,\n",
       "        -6.89076217,  -8.52140235,  -8.83758686,  -7.66483842,\n",
       "        -8.01982577,  -5.51379235,  -8.02946598,  -8.67085796,\n",
       "        -8.72882063, -11.00010233,  -9.58216374,  -7.03232171,\n",
       "       -10.28062901,  -8.20999834, -10.11434461, -10.93250581,\n",
       "        -9.22098683,  -9.22139306, -11.33116011, -10.53607492,\n",
       "        -8.53911423,  -9.11685081,  -9.51717706, -10.4464532 ,\n",
       "        -9.8625444 , -10.55789174,  -6.08426801,  -7.57990724,\n",
       "        -8.02580124,  -6.19273093,  -8.65457967, -10.42155342,\n",
       "       -10.10272948,  -9.32315002,  -6.56317932,  -9.77942826,\n",
       "       -11.48757598,  -7.71004857,  -8.2902749 ,  -8.3189505 ,\n",
       "        -9.73024636,  -9.73392746,  -7.56640106,  -7.33439276,\n",
       "       -10.63029652,  -7.75899557,  -9.54111218,  -5.97440014,\n",
       "        -9.18463884,  -9.63971282,  -9.31029427,  -9.77649087,\n",
       "       -10.82020093,  -7.05998958, -10.50837668,  -6.99912428,\n",
       "        -9.91903886,  -8.79128951,  -9.60464953, -11.7776926 ,\n",
       "       -10.01051323, -10.46091787, -11.20778424,  -9.50210595,\n",
       "        -9.08411613, -10.10681751,  -9.91628247, -11.57147484,\n",
       "        -7.26980695,  -9.91289909,  -6.60901962, -10.63990432,\n",
       "        -8.03184075,  -8.68098132, -11.79720694,  -8.94375482,\n",
       "        -8.32968677,  -7.70286263,  -6.94630348,  -9.76093376,\n",
       "        -7.75881757,  -9.33690439,  -8.69568351, -11.58754112,\n",
       "        -9.96412959,  -9.66801755,  -8.85469625,  -8.21278426,\n",
       "        -7.26575327,  -9.48950499,  -6.08020514, -10.5047557 ,\n",
       "        -9.72960408,  -7.18682661, -10.28983823,  -9.26738335,\n",
       "        -9.60002576,  -8.83050849,  -9.78040937,  -7.80013745,\n",
       "        -7.94138349,  -7.27247331, -11.64312375,  -5.43660332,\n",
       "        -9.8069159 , -10.24401914,  -9.42693424,  -8.42413656,\n",
       "        -7.40921662,  -6.25833021,  -9.35319748,  -9.38492403,\n",
       "        -7.73451279, -11.27434696,  -6.96470269,  -8.41444996,\n",
       "       -10.03858367,  -8.57018352, -10.88823185, -10.03259743,\n",
       "       -10.76775822, -11.37237054,  -7.94848277, -11.43164215,\n",
       "        -8.53883954,  -8.93433862,  -7.45197031,  -9.06957917,\n",
       "        -9.78844171,  -8.2097525 ,  -9.08001267,  -9.73056048,\n",
       "       -10.44830956,  -9.09355683,  -6.73846712,  -6.38869179,\n",
       "        -8.21368694,  -7.11613955, -10.63257593, -11.28190911,\n",
       "        -6.89027866, -10.80791335,  -7.28860752,  -9.20439522,\n",
       "        -9.50712373, -10.67327785,  -6.33476917,  -9.07298892,\n",
       "        -7.76057945,  -8.57105203,  -9.82373229,  -9.33597833,\n",
       "       -10.83537505,  -9.12429996,  -6.34175254,  -8.77990611,\n",
       "        -6.22259003,  -7.00173029, -10.16084642,  -9.95166025,\n",
       "        -8.90893961,  -7.89030875,  -9.09570391,  -8.57911788,\n",
       "        -8.92013443,  -8.45260306,  -5.78518999, -10.85379485,\n",
       "       -10.28680235,  -7.91503779, -10.1165884 , -10.72420429,\n",
       "       -11.34682689,  -8.75088388, -10.74872751,  -9.73753672,\n",
       "        -9.64772099, -10.56980645,  -8.14080572,  -9.42906369,\n",
       "       -10.55450673,  -9.01150559,  -9.89058126,  -9.83368425,\n",
       "        -9.67844922,  -6.15124356, -10.52536729, -10.09567639,\n",
       "        -8.46959742,  -9.31426168,  -8.67061339, -10.58775355,\n",
       "        -8.39624221,  -9.06132186, -10.13525264,  -6.31332762,\n",
       "        -8.04572161, -10.12395165,  -9.49370582, -10.22258042,\n",
       "       -11.27396113, -11.04499968,  -8.15805423,  -7.72096372,\n",
       "        -8.92922643,  -7.20243545,  -9.41115356,  -9.65004644,\n",
       "        -7.28011193,  -8.72876723, -11.10801638,  -6.49431235,\n",
       "        -7.53587791,  -9.93657092,  -6.93976929,  -8.32037279,\n",
       "        -9.29921106,  -7.31002461,  -7.75685798,  -8.77864648,\n",
       "        -9.88294391, -10.36034392,  -9.62669356,  -7.91546412,\n",
       "        -8.84745954,  -9.34957996,  -7.6595427 ,  -7.21175457,\n",
       "        -6.93217059,  -7.49382865,  -9.42827781,  -7.25552451,\n",
       "        -9.59673946,  -9.72563263,  -9.81919503, -10.24433162,\n",
       "       -10.56398747,  -8.89187982,  -9.52756015, -10.07253629,\n",
       "        -6.12960664,  -7.38695835,  -9.20167642,  -6.69533601,\n",
       "        -8.76748754, -11.27130814, -11.35251465,  -9.5046659 ,\n",
       "       -10.07806637,  -8.06002282, -10.79084501,  -8.67384735,\n",
       "        -8.77747602,  -9.35731219,  -9.89841802, -11.54611119,\n",
       "        -9.08839303,  -9.23975481,  -9.54665458,  -8.45719816,\n",
       "        -6.74140612,  -8.58700255,  -9.73158001, -10.39478448,\n",
       "        -9.36908371,  -8.38827956, -10.94356183,  -6.22686287,\n",
       "        -8.60998464,  -9.24360554,  -8.91214374,  -6.4710308 ,\n",
       "        -8.50772214,  -9.60689402,  -9.79523845,  -9.05808471,\n",
       "        -9.46812031,  -8.74923887,  -9.88181438,  -7.70031542,\n",
       "        -8.29347397, -10.41618969,  -7.45033735,  -6.18288222,\n",
       "        -5.56018852, -10.31975944,  -9.19556955,  -9.74223009,\n",
       "       -10.10250817, -10.78146375, -10.14355975,  -8.30671065,\n",
       "       -11.06575399,  -9.77384037,  -6.77606602,  -9.36291862,\n",
       "        -6.83386733, -10.00273221, -10.35639092,  -9.77926763,\n",
       "        -9.57562785,  -9.0797033 ,  -6.77962541,  -9.21066415,\n",
       "        -8.37991155,  -9.49376131,  -7.91187387, -11.07442844,\n",
       "        -9.71652473,  -9.64055925,  -8.05494416,  -9.75841676,\n",
       "        -7.61454181,  -7.0926348 , -11.22042813,  -7.62706784,\n",
       "        -6.75012416,  -9.71368957,  -9.33739281, -10.4021025 ,\n",
       "       -11.11174457,  -9.48236482,  -9.63175945,  -8.07619085,\n",
       "        -9.79582777,  -8.14887606,  -8.60601728, -10.03293979,\n",
       "        -7.71349639, -10.89927013,  -9.51471621,  -9.98601722,\n",
       "        -8.62557534,  -8.92056105, -10.07831969,  -8.51437113,\n",
       "        -9.81572962,  -7.62495718, -10.32518001, -10.09421638,\n",
       "       -10.66865481, -11.53164707, -10.47213914, -10.35861305,\n",
       "       -11.65457356,  -9.0378689 ,  -7.91980343,  -8.86015641,\n",
       "        -7.79870603,  -6.74674854,  -9.0566134 ,  -7.60267228,\n",
       "        -8.17760435,  -9.78419054, -10.68084365,  -8.50904473,\n",
       "       -10.00690687,  -6.59812182,  -8.42308717,  -9.85587496,\n",
       "        -7.59206829,  -9.86072327,  -6.98105519,  -7.53394462,\n",
       "       -10.58589083, -10.4377944 ,  -9.49093303,  -8.22273447,\n",
       "       -11.46192476,  -6.7686843 , -10.10878291, -10.91508716,\n",
       "        -9.12789314,  -9.95707215,  -9.30451137,  -7.02013425,\n",
       "        -7.16914971,  -7.83900058,  -8.22847188,  -9.98422892,\n",
       "        -8.38370452, -10.00067154,  -7.58456284,  -9.74874578,\n",
       "        -9.18274464,  -9.89616751, -10.51995264, -10.63195009,\n",
       "        -6.44188621,  -9.05674123, -10.21154984,  -9.61281269,\n",
       "        -9.40961226,  -8.66456569, -10.1095494 ,  -7.90911102,\n",
       "        -9.11651388,  -8.01149599,  -9.82660124, -11.11789009,\n",
       "        -9.92966024,  -9.81418883,  -7.25235812,  -8.47679088,\n",
       "        -9.12408045, -10.55510714,  -8.51435158,  -9.58918356,\n",
       "        -9.7261773 ,  -8.99850837, -10.286098  ,  -9.48549133,\n",
       "       -11.51927269, -10.71907487,  -9.36164379,  -9.46897554,\n",
       "        -8.40136305,  -7.48005133,  -9.87576426,  -9.78841675,\n",
       "        -6.14121653,  -9.72437316,  -9.56654694, -11.41291782,\n",
       "        -9.06049675,  -8.41807602,  -7.30719152,  -7.42836574,\n",
       "        -9.7716488 ,  -9.35166107,  -8.60030899,  -9.90387577,\n",
       "        -7.89784246, -10.23622046,  -8.78938134, -11.62872559,\n",
       "        -9.63632121, -10.92659187,  -9.27007692,  -6.88754816,\n",
       "        -9.70313486,  -6.97809373,  -5.77563476,  -9.72531944,\n",
       "        -7.91085633,  -8.32955941,  -6.34077655,  -9.65143523,\n",
       "       -10.08437731, -10.3632983 ,  -8.05760732,  -6.76118227,\n",
       "       -10.24401146, -10.98238777, -10.22079786,  -8.13450057,\n",
       "        -7.22242478, -10.07694511,  -5.83445747, -10.00955768,\n",
       "       -10.26894557,  -9.18163146,  -8.55824188, -10.0115344 ,\n",
       "       -10.28794596,  -7.2156928 ,  -9.5273852 ,  -6.74084276,\n",
       "       -10.44875255,  -7.79412578,  -8.40018735, -10.07705497,\n",
       "       -10.43792018,  -9.48501254,  -9.67873872,  -6.1371277 ,\n",
       "        -9.56157285,  -6.74380347,  -6.69367541,  -9.82593252,\n",
       "       -11.07532157,  -8.61798406,  -9.11202461,  -7.57453138,\n",
       "        -7.75970734,  -7.13239144,  -9.50153171,  -9.61131135,\n",
       "        -6.74233207, -11.10161432,  -9.81303208,  -6.22917801,\n",
       "        -7.37913895,  -7.42903085,  -6.2991695 ,  -7.99666908])"
      ]
     },
     "execution_count": 46,
     "metadata": {},
     "output_type": "execute_result"
    }
   ],
   "source": [
    "eval_TP1(q1_vals, u1_vals, 1.0, 9.81, 2.0)"
   ]
  },
  {
   "cell_type": "code",
   "execution_count": 47,
   "metadata": {},
   "outputs": [],
   "source": [
    "func = lambda x, y: x + y"
   ]
  },
  {
   "cell_type": "code",
   "execution_count": 48,
   "metadata": {},
   "outputs": [
    {
     "data": {
      "image/png": "[encoded data removed]",
      "text/latex": [
       "$\\displaystyle 3$"
      ],
      "text/plain": [
       "3"
      ]
     },
     "execution_count": 48,
     "metadata": {},
     "output_type": "execute_result"
    }
   ],
   "source": [
    "func(1, 2)"
   ]
  },
  {
   "cell_type": "code",
   "execution_count": 49,
   "metadata": {},
   "outputs": [],
   "source": [
    "generate_numeric_func = sm.lambdify"
   ]
  },
  {
   "cell_type": "code",
   "execution_count": 50,
   "metadata": {},
   "outputs": [],
   "source": [
    "eval_TP1 = generate_numeric_func((q1, u1, m1, g, l), TP1_sol)"
   ]
  }
 ],
 "metadata": {
  "kernelspec": {
   "display_name": "Python 3",
   "language": "python",
   "name": "python3"
  },
  "language_info": {
   "codemirror_mode": {
    "name": "ipython",
    "version": 3
   },
   "file_extension": ".py",
   "mimetype": "text/x-python",
   "name": "python",
   "nbconvert_exporter": "python",
   "pygments_lexer": "ipython3",
   "version": "3.6.7"
  }
 },
 "nbformat": 4,
 "nbformat_minor": 4
}
