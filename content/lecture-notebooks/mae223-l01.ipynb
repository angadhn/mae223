{
 "cells": [
  {
   "cell_type": "markdown",
   "metadata": {},
   "source": [
    "# Lecture Notebook N01\n",
    "\n",
    "Thursday, September 26, 2019\n",
    "\n",
    "This is the standard import we will use in the first portion of the class. It imports the core SymPy tools and the special tools from the mechanics package. The `init_printing()` function is optional but it will increase the number of outputs that print as symbolic math."
   ]
  },
  {
   "cell_type": "code",
   "execution_count": 1,
   "metadata": {},
   "outputs": [],
   "source": [
    "import sympy as sm\n",
    "import sympy.physics.mechanics as me\n",
    "sm.init_printing()"
   ]
  },
  {
   "cell_type": "markdown",
   "metadata": {},
   "source": [
    "This creates three symbols and shows how to create expressions with them."
   ]
  },
  {
   "cell_type": "code",
   "execution_count": 2,
   "metadata": {},
   "outputs": [],
   "source": [
    "a, b, c = sm.symbols('a, b, c')"
   ]
  },
  {
   "cell_type": "code",
   "execution_count": 3,
   "metadata": {},
   "outputs": [
    {
     "data": {
      "image/png": "[encoded data removed]",
      "text/latex": [
       "$\\displaystyle a + b^{2}$"
      ],
      "text/plain": [
       "     2\n",
       "a + b "
      ]
     },
     "execution_count": 3,
     "metadata": {},
     "output_type": "execute_result"
    }
   ],
   "source": [
    "a + b**2"
   ]
  },
  {
   "cell_type": "code",
   "execution_count": 4,
   "metadata": {},
   "outputs": [],
   "source": [
    "expr = a + b**2"
   ]
  },
  {
   "cell_type": "code",
   "execution_count": 5,
   "metadata": {},
   "outputs": [
    {
     "data": {
      "image/png": "[encoded data removed]",
      "text/latex": [
       "$\\displaystyle \\left(a + b^{2}\\right)^{2}$"
      ],
      "text/plain": [
       "        2\n",
       "⎛     2⎞ \n",
       "⎝a + b ⎠ "
      ]
     },
     "execution_count": 5,
     "metadata": {},
     "output_type": "execute_result"
    }
   ],
   "source": [
    "expr * expr"
   ]
  },
  {
   "cell_type": "markdown",
   "metadata": {},
   "source": [
    "SymPy will not simplify or expand expressions by default. You have to use various functions to do so. This shouws how to expand the expression we created above using the `expand` function."
   ]
  },
  {
   "cell_type": "code",
   "execution_count": 6,
   "metadata": {},
   "outputs": [],
   "source": [
    "new_expr = expr*expr"
   ]
  },
  {
   "cell_type": "code",
   "execution_count": 7,
   "metadata": {},
   "outputs": [
    {
     "data": {
      "image/png": "[encoded data removed]",
      "text/latex": [
       "$\\displaystyle \\left(a + b^{2}\\right)^{2}$"
      ],
      "text/plain": [
       "        2\n",
       "⎛     2⎞ \n",
       "⎝a + b ⎠ "
      ]
     },
     "execution_count": 7,
     "metadata": {},
     "output_type": "execute_result"
    }
   ],
   "source": [
    "new_expr"
   ]
  },
  {
   "cell_type": "code",
   "execution_count": 8,
   "metadata": {},
   "outputs": [
    {
     "data": {
      "image/png": "[encoded data removed]",
      "text/latex": [
       "$\\displaystyle a^{2} + 2 a b^{2} + b^{4}$"
      ],
      "text/plain": [
       " 2        2    4\n",
       "a  + 2⋅a⋅b  + b "
      ]
     },
     "execution_count": 8,
     "metadata": {},
     "output_type": "execute_result"
    }
   ],
   "source": [
    "sm.expand(new_expr)"
   ]
  },
  {
   "cell_type": "markdown",
   "metadata": {},
   "source": [
    "If you know the name of the function you want to use you can open it's help documentation by appending the `?` symbol. This only works in the notebook or IPython terminal, not the basic Python command prompt."
   ]
  },
  {
   "cell_type": "code",
   "execution_count": 9,
   "metadata": {},
   "outputs": [
    {
     "data": {
      "text/plain": [
       "\u001b[0;31mSignature:\u001b[0m \u001b[0msm\u001b[0m\u001b[0;34m.\u001b[0m\u001b[0mexpand\u001b[0m\u001b[0;34m(\u001b[0m\u001b[0me\u001b[0m\u001b[0;34m,\u001b[0m \u001b[0mdeep\u001b[0m\u001b[0;34m=\u001b[0m\u001b[0;32mTrue\u001b[0m\u001b[0;34m,\u001b[0m \u001b[0mmodulus\u001b[0m\u001b[0;34m=\u001b[0m\u001b[0;32mNone\u001b[0m\u001b[0;34m,\u001b[0m \u001b[0mpower_base\u001b[0m\u001b[0;34m=\u001b[0m\u001b[0;32mTrue\u001b[0m\u001b[0;34m,\u001b[0m \u001b[0mpower_exp\u001b[0m\u001b[0;34m=\u001b[0m\u001b[0;32mTrue\u001b[0m\u001b[0;34m,\u001b[0m \u001b[0mmul\u001b[0m\u001b[0;34m=\u001b[0m\u001b[0;32mTrue\u001b[0m\u001b[0;34m,\u001b[0m \u001b[0mlog\u001b[0m\u001b[0;34m=\u001b[0m\u001b[0;32mTrue\u001b[0m\u001b[0;34m,\u001b[0m \u001b[0mmultinomial\u001b[0m\u001b[0;34m=\u001b[0m\u001b[0;32mTrue\u001b[0m\u001b[0;34m,\u001b[0m \u001b[0mbasic\u001b[0m\u001b[0;34m=\u001b[0m\u001b[0;32mTrue\u001b[0m\u001b[0;34m,\u001b[0m \u001b[0;34m**\u001b[0m\u001b[0mhints\u001b[0m\u001b[0;34m)\u001b[0m\u001b[0;34m\u001b[0m\u001b[0;34m\u001b[0m\u001b[0m\n",
       "\u001b[0;31mDocstring:\u001b[0m\n",
       "Expand an expression using methods given as hints.\n",
       "\n",
       "Hints evaluated unless explicitly set to False are:  ``basic``, ``log``,\n",
       "``multinomial``, ``mul``, ``power_base``, and ``power_exp`` The following\n",
       "hints are supported but not applied unless set to True:  ``complex``,\n",
       "``func``, and ``trig``.  In addition, the following meta-hints are\n",
       "supported by some or all of the other hints:  ``frac``, ``numer``,\n",
       "``denom``, ``modulus``, and ``force``.  ``deep`` is supported by all\n",
       "hints.  Additionally, subclasses of Expr may define their own hints or\n",
       "meta-hints.\n",
       "\n",
       "The ``basic`` hint is used for any special rewriting of an object that\n",
       "should be done automatically (along with the other hints like ``mul``)\n",
       "when expand is called. This is a catch-all hint to handle any sort of\n",
       "expansion that may not be described by the existing hint names. To use\n",
       "this hint an object should override the ``_eval_expand_basic`` method.\n",
       "Objects may also define their own expand methods, which are not run by\n",
       "default.  See the API section below.\n",
       "\n",
       "If ``deep`` is set to ``True`` (the default), things like arguments of\n",
       "functions are recursively expanded.  Use ``deep=False`` to only expand on\n",
       "the top level.\n",
       "\n",
       "If the ``force`` hint is used, assumptions about variables will be ignored\n",
       "in making the expansion.\n",
       "\n",
       "Hints\n",
       "=====\n",
       "\n",
       "These hints are run by default\n",
       "\n",
       "mul\n",
       "---\n",
       "\n",
       "Distributes multiplication over addition:\n",
       "\n",
       ">>> from sympy import cos, exp, sin\n",
       ">>> from sympy.abc import x, y, z\n",
       ">>> (y*(x + z)).expand(mul=True)\n",
       "x*y + y*z\n",
       "\n",
       "multinomial\n",
       "-----------\n",
       "\n",
       "Expand (x + y + ...)**n where n is a positive integer.\n",
       "\n",
       ">>> ((x + y + z)**2).expand(multinomial=True)\n",
       "x**2 + 2*x*y + 2*x*z + y**2 + 2*y*z + z**2\n",
       "\n",
       "power_exp\n",
       "---------\n",
       "\n",
       "Expand addition in exponents into multiplied bases.\n",
       "\n",
       ">>> exp(x + y).expand(power_exp=True)\n",
       "exp(x)*exp(y)\n",
       ">>> (2**(x + y)).expand(power_exp=True)\n",
       "2**x*2**y\n",
       "\n",
       "power_base\n",
       "----------\n",
       "\n",
       "Split powers of multiplied bases.\n",
       "\n",
       "This only happens by default if assumptions allow, or if the\n",
       "``force`` meta-hint is used:\n",
       "\n",
       ">>> ((x*y)**z).expand(power_base=True)\n",
       "(x*y)**z\n",
       ">>> ((x*y)**z).expand(power_base=True, force=True)\n",
       "x**z*y**z\n",
       ">>> ((2*y)**z).expand(power_base=True)\n",
       "2**z*y**z\n",
       "\n",
       "Note that in some cases where this expansion always holds, SymPy performs\n",
       "it automatically:\n",
       "\n",
       ">>> (x*y)**2\n",
       "x**2*y**2\n",
       "\n",
       "log\n",
       "---\n",
       "\n",
       "Pull out power of an argument as a coefficient and split logs products\n",
       "into sums of logs.\n",
       "\n",
       "Note that these only work if the arguments of the log function have the\n",
       "proper assumptions--the arguments must be positive and the exponents must\n",
       "be real--or else the ``force`` hint must be True:\n",
       "\n",
       ">>> from sympy import log, symbols\n",
       ">>> log(x**2*y).expand(log=True)\n",
       "log(x**2*y)\n",
       ">>> log(x**2*y).expand(log=True, force=True)\n",
       "2*log(x) + log(y)\n",
       ">>> x, y = symbols('x,y', positive=True)\n",
       ">>> log(x**2*y).expand(log=True)\n",
       "2*log(x) + log(y)\n",
       "\n",
       "basic\n",
       "-----\n",
       "\n",
       "This hint is intended primarily as a way for custom subclasses to enable\n",
       "expansion by default.\n",
       "\n",
       "These hints are not run by default:\n",
       "\n",
       "complex\n",
       "-------\n",
       "\n",
       "Split an expression into real and imaginary parts.\n",
       "\n",
       ">>> x, y = symbols('x,y')\n",
       ">>> (x + y).expand(complex=True)\n",
       "re(x) + re(y) + I*im(x) + I*im(y)\n",
       ">>> cos(x).expand(complex=True)\n",
       "-I*sin(re(x))*sinh(im(x)) + cos(re(x))*cosh(im(x))\n",
       "\n",
       "Note that this is just a wrapper around ``as_real_imag()``.  Most objects\n",
       "that wish to redefine ``_eval_expand_complex()`` should consider\n",
       "redefining ``as_real_imag()`` instead.\n",
       "\n",
       "func\n",
       "----\n",
       "\n",
       "Expand other functions.\n",
       "\n",
       ">>> from sympy import gamma\n",
       ">>> gamma(x + 1).expand(func=True)\n",
       "x*gamma(x)\n",
       "\n",
       "trig\n",
       "----\n",
       "\n",
       "Do trigonometric expansions.\n",
       "\n",
       ">>> cos(x + y).expand(trig=True)\n",
       "-sin(x)*sin(y) + cos(x)*cos(y)\n",
       ">>> sin(2*x).expand(trig=True)\n",
       "2*sin(x)*cos(x)\n",
       "\n",
       "Note that the forms of ``sin(n*x)`` and ``cos(n*x)`` in terms of ``sin(x)``\n",
       "and ``cos(x)`` are not unique, due to the identity `\\sin^2(x) + \\cos^2(x)\n",
       "= 1`.  The current implementation uses the form obtained from Chebyshev\n",
       "polynomials, but this may change.  See `this MathWorld article\n",
       "<http://mathworld.wolfram.com/Multiple-AngleFormulas.html>`_ for more\n",
       "information.\n",
       "\n",
       "Notes\n",
       "=====\n",
       "\n",
       "- You can shut off unwanted methods::\n",
       "\n",
       "    >>> (exp(x + y)*(x + y)).expand()\n",
       "    x*exp(x)*exp(y) + y*exp(x)*exp(y)\n",
       "    >>> (exp(x + y)*(x + y)).expand(power_exp=False)\n",
       "    x*exp(x + y) + y*exp(x + y)\n",
       "    >>> (exp(x + y)*(x + y)).expand(mul=False)\n",
       "    (x + y)*exp(x)*exp(y)\n",
       "\n",
       "- Use deep=False to only expand on the top level::\n",
       "\n",
       "    >>> exp(x + exp(x + y)).expand()\n",
       "    exp(x)*exp(exp(x)*exp(y))\n",
       "    >>> exp(x + exp(x + y)).expand(deep=False)\n",
       "    exp(x)*exp(exp(x + y))\n",
       "\n",
       "- Hints are applied in an arbitrary, but consistent order (in the current\n",
       "  implementation, they are applied in alphabetical order, except\n",
       "  multinomial comes before mul, but this may change).  Because of this,\n",
       "  some hints may prevent expansion by other hints if they are applied\n",
       "  first. For example, ``mul`` may distribute multiplications and prevent\n",
       "  ``log`` and ``power_base`` from expanding them. Also, if ``mul`` is\n",
       "  applied before ``multinomial`, the expression might not be fully\n",
       "  distributed. The solution is to use the various ``expand_hint`` helper\n",
       "  functions or to use ``hint=False`` to this function to finely control\n",
       "  which hints are applied. Here are some examples::\n",
       "\n",
       "    >>> from sympy import expand, expand_mul, expand_power_base\n",
       "    >>> x, y, z = symbols('x,y,z', positive=True)\n",
       "\n",
       "    >>> expand(log(x*(y + z)))\n",
       "    log(x) + log(y + z)\n",
       "\n",
       "  Here, we see that ``log`` was applied before ``mul``.  To get the mul\n",
       "  expanded form, either of the following will work::\n",
       "\n",
       "    >>> expand_mul(log(x*(y + z)))\n",
       "    log(x*y + x*z)\n",
       "    >>> expand(log(x*(y + z)), log=False)\n",
       "    log(x*y + x*z)\n",
       "\n",
       "  A similar thing can happen with the ``power_base`` hint::\n",
       "\n",
       "    >>> expand((x*(y + z))**x)\n",
       "    (x*y + x*z)**x\n",
       "\n",
       "  To get the ``power_base`` expanded form, either of the following will\n",
       "  work::\n",
       "\n",
       "    >>> expand((x*(y + z))**x, mul=False)\n",
       "    x**x*(y + z)**x\n",
       "    >>> expand_power_base((x*(y + z))**x)\n",
       "    x**x*(y + z)**x\n",
       "\n",
       "    >>> expand((x + y)*y/x)\n",
       "    y + y**2/x\n",
       "\n",
       "  The parts of a rational expression can be targeted::\n",
       "\n",
       "    >>> expand((x + y)*y/x/(x + 1), frac=True)\n",
       "    (x*y + y**2)/(x**2 + x)\n",
       "    >>> expand((x + y)*y/x/(x + 1), numer=True)\n",
       "    (x*y + y**2)/(x*(x + 1))\n",
       "    >>> expand((x + y)*y/x/(x + 1), denom=True)\n",
       "    y*(x + y)/(x**2 + x)\n",
       "\n",
       "- The ``modulus`` meta-hint can be used to reduce the coefficients of an\n",
       "  expression post-expansion::\n",
       "\n",
       "    >>> expand((3*x + 1)**2)\n",
       "    9*x**2 + 6*x + 1\n",
       "    >>> expand((3*x + 1)**2, modulus=5)\n",
       "    4*x**2 + x + 1\n",
       "\n",
       "- Either ``expand()`` the function or ``.expand()`` the method can be\n",
       "  used.  Both are equivalent::\n",
       "\n",
       "    >>> expand((x + 1)**2)\n",
       "    x**2 + 2*x + 1\n",
       "    >>> ((x + 1)**2).expand()\n",
       "    x**2 + 2*x + 1\n",
       "\n",
       "API\n",
       "===\n",
       "\n",
       "Objects can define their own expand hints by defining\n",
       "``_eval_expand_hint()``.  The function should take the form::\n",
       "\n",
       "    def _eval_expand_hint(self, **hints):\n",
       "        # Only apply the method to the top-level expression\n",
       "        ...\n",
       "\n",
       "See also the example below.  Objects should define ``_eval_expand_hint()``\n",
       "methods only if ``hint`` applies to that specific object.  The generic\n",
       "``_eval_expand_hint()`` method defined in Expr will handle the no-op case.\n",
       "\n",
       "Each hint should be responsible for expanding that hint only.\n",
       "Furthermore, the expansion should be applied to the top-level expression\n",
       "only.  ``expand()`` takes care of the recursion that happens when\n",
       "``deep=True``.\n",
       "\n",
       "You should only call ``_eval_expand_hint()`` methods directly if you are\n",
       "100% sure that the object has the method, as otherwise you are liable to\n",
       "get unexpected ``AttributeError``s.  Note, again, that you do not need to\n",
       "recursively apply the hint to args of your object: this is handled\n",
       "automatically by ``expand()``.  ``_eval_expand_hint()`` should\n",
       "generally not be used at all outside of an ``_eval_expand_hint()`` method.\n",
       "If you want to apply a specific expansion from within another method, use\n",
       "the public ``expand()`` function, method, or ``expand_hint()`` functions.\n",
       "\n",
       "In order for expand to work, objects must be rebuildable by their args,\n",
       "i.e., ``obj.func(*obj.args) == obj`` must hold.\n",
       "\n",
       "Expand methods are passed ``**hints`` so that expand hints may use\n",
       "'metahints'--hints that control how different expand methods are applied.\n",
       "For example, the ``force=True`` hint described above that causes\n",
       "``expand(log=True)`` to ignore assumptions is such a metahint.  The\n",
       "``deep`` meta-hint is handled exclusively by ``expand()`` and is not\n",
       "passed to ``_eval_expand_hint()`` methods.\n",
       "\n",
       "Note that expansion hints should generally be methods that perform some\n",
       "kind of 'expansion'.  For hints that simply rewrite an expression, use the\n",
       ".rewrite() API.\n",
       "\n",
       "Examples\n",
       "========\n",
       "\n",
       ">>> from sympy import Expr, sympify\n",
       ">>> class MyClass(Expr):\n",
       "...     def __new__(cls, *args):\n",
       "...         args = sympify(args)\n",
       "...         return Expr.__new__(cls, *args)\n",
       "...\n",
       "...     def _eval_expand_double(self, **hints):\n",
       "...         '''\n",
       "...         Doubles the args of MyClass.\n",
       "...\n",
       "...         If there more than four args, doubling is not performed,\n",
       "...         unless force=True is also used (False by default).\n",
       "...         '''\n",
       "...         force = hints.pop('force', False)\n",
       "...         if not force and len(self.args) > 4:\n",
       "...             return self\n",
       "...         return self.func(*(self.args + self.args))\n",
       "...\n",
       ">>> a = MyClass(1, 2, MyClass(3, 4))\n",
       ">>> a\n",
       "MyClass(1, 2, MyClass(3, 4))\n",
       ">>> a.expand(double=True)\n",
       "MyClass(1, 2, MyClass(3, 4, 3, 4), 1, 2, MyClass(3, 4, 3, 4))\n",
       ">>> a.expand(double=True, deep=False)\n",
       "MyClass(1, 2, MyClass(3, 4), 1, 2, MyClass(3, 4))\n",
       "\n",
       ">>> b = MyClass(1, 2, 3, 4, 5)\n",
       ">>> b.expand(double=True)\n",
       "MyClass(1, 2, 3, 4, 5)\n",
       ">>> b.expand(double=True, force=True)\n",
       "MyClass(1, 2, 3, 4, 5, 1, 2, 3, 4, 5)\n",
       "\n",
       "See Also\n",
       "========\n",
       "\n",
       "expand_log, expand_mul, expand_multinomial, expand_complex, expand_trig,\n",
       "expand_power_base, expand_power_exp, expand_func, hyperexpand\n",
       "\u001b[0;31mFile:\u001b[0m      /opt/conda/lib/python3.6/site-packages/sympy/core/function.py\n",
       "\u001b[0;31mType:\u001b[0m      function\n"
      ]
     },
     "metadata": {},
     "output_type": "display_data"
    }
   ],
   "source": [
    "sm.expand?"
   ]
  },
  {
   "cell_type": "markdown",
   "metadata": {},
   "source": [
    "Greek symbols will render nicely too."
   ]
  },
  {
   "cell_type": "code",
   "execution_count": 10,
   "metadata": {},
   "outputs": [],
   "source": [
    "omega = sm.symbols('omega')"
   ]
  },
  {
   "cell_type": "code",
   "execution_count": 11,
   "metadata": {},
   "outputs": [
    {
     "data": {
      "image/png": "[encoded data removed]",
      "text/latex": [
       "$\\displaystyle \\omega$"
      ],
      "text/plain": [
       "ω"
      ]
     },
     "execution_count": 11,
     "metadata": {},
     "output_type": "execute_result"
    }
   ],
   "source": [
    "omega"
   ]
  },
  {
   "cell_type": "markdown",
   "metadata": {},
   "source": [
    "You can create arbitrary functions of variables. In this case we make a function of $t$ to represent time."
   ]
  },
  {
   "cell_type": "code",
   "execution_count": 12,
   "metadata": {},
   "outputs": [],
   "source": [
    "t = sm.symbols('t')"
   ]
  },
  {
   "cell_type": "code",
   "execution_count": 13,
   "metadata": {},
   "outputs": [],
   "source": [
    "f = sm.Function('F')"
   ]
  },
  {
   "cell_type": "markdown",
   "metadata": {},
   "source": [
    "SymPy knows how to differentiate these mathematical functions:"
   ]
  },
  {
   "cell_type": "markdown",
   "metadata": {},
   "source": [
    "f(t)"
   ]
  },
  {
   "cell_type": "code",
   "execution_count": 14,
   "metadata": {},
   "outputs": [
    {
     "data": {
      "image/png": "[encoded data removed]",
      "text/latex": [
       "$\\displaystyle \\frac{d}{d t} F{\\left(t \\right)}$"
      ],
      "text/plain": [
       "d       \n",
       "──(F(t))\n",
       "dt      "
      ]
     },
     "execution_count": 14,
     "metadata": {},
     "output_type": "execute_result"
    }
   ],
   "source": [
    "sm.diff(f(t), t)"
   ]
  },
  {
   "cell_type": "markdown",
   "metadata": {},
   "source": [
    "The mechanics package has a convience function for creating functions of time."
   ]
  },
  {
   "cell_type": "code",
   "execution_count": 15,
   "metadata": {},
   "outputs": [],
   "source": [
    "f_of_t = me.dynamicsymbols('f')"
   ]
  },
  {
   "cell_type": "code",
   "execution_count": 16,
   "metadata": {},
   "outputs": [
    {
     "data": {
      "image/png": "[encoded data removed]",
      "text/latex": [
       "$\\displaystyle f{\\left(t \\right)}$"
      ],
      "text/plain": [
       "f(t)"
      ]
     },
     "execution_count": 16,
     "metadata": {},
     "output_type": "execute_result"
    }
   ],
   "source": [
    "f_of_t"
   ]
  },
  {
   "cell_type": "markdown",
   "metadata": {},
   "source": [
    "SymPy is a powerful tool. It can solve many integrals that are not that fun to solve by hand. For example:"
   ]
  },
  {
   "cell_type": "code",
   "execution_count": 17,
   "metadata": {},
   "outputs": [
    {
     "data": {
      "image/png": "[encoded data removed]",
      "text/latex": [
       "$\\displaystyle \\frac{\\omega^{2} e^{- \\omega} \\sin{\\left(\\omega \\right)}}{2} - \\frac{\\omega^{2} e^{- \\omega} \\cos{\\left(\\omega \\right)}}{2} + \\omega e^{- \\omega} \\sin{\\left(\\omega \\right)} + \\frac{e^{- \\omega} \\sin{\\left(\\omega \\right)}}{2} + \\frac{e^{- \\omega} \\cos{\\left(\\omega \\right)}}{2}$"
      ],
      "text/plain": [
       " 2  -ω           2  -ω                          -ω           -ω       \n",
       "ω ⋅ℯ  ⋅sin(ω)   ω ⋅ℯ  ⋅cos(ω)      -ω          ℯ  ⋅sin(ω)   ℯ  ⋅cos(ω)\n",
       "───────────── - ───────────── + ω⋅ℯ  ⋅sin(ω) + ────────── + ──────────\n",
       "      2               2                            2            2     "
      ]
     },
     "execution_count": 17,
     "metadata": {},
     "output_type": "execute_result"
    }
   ],
   "source": [
    "sm.integrate(sm.cos(omega)*(omega**2)/sm.exp(omega), omega)"
   ]
  },
  {
   "cell_type": "markdown",
   "metadata": {},
   "source": [
    "This stores the prior result in the variable `long_expr`."
   ]
  },
  {
   "cell_type": "code",
   "execution_count": 18,
   "metadata": {},
   "outputs": [],
   "source": [
    "long_expr = _"
   ]
  },
  {
   "cell_type": "code",
   "execution_count": 19,
   "metadata": {},
   "outputs": [
    {
     "data": {
      "image/png": "[encoded data removed]",
      "text/latex": [
       "$\\displaystyle \\frac{\\omega^{2} e^{- \\omega} \\sin{\\left(\\omega \\right)}}{2} - \\frac{\\omega^{2} e^{- \\omega} \\cos{\\left(\\omega \\right)}}{2} + \\omega e^{- \\omega} \\sin{\\left(\\omega \\right)} + \\frac{e^{- \\omega} \\sin{\\left(\\omega \\right)}}{2} + \\frac{e^{- \\omega} \\cos{\\left(\\omega \\right)}}{2}$"
      ],
      "text/plain": [
       " 2  -ω           2  -ω                          -ω           -ω       \n",
       "ω ⋅ℯ  ⋅sin(ω)   ω ⋅ℯ  ⋅cos(ω)      -ω          ℯ  ⋅sin(ω)   ℯ  ⋅cos(ω)\n",
       "───────────── - ───────────── + ω⋅ℯ  ⋅sin(ω) + ────────── + ──────────\n",
       "      2               2                            2            2     "
      ]
     },
     "execution_count": 19,
     "metadata": {},
     "output_type": "execute_result"
    }
   ],
   "source": [
    "long_expr"
   ]
  },
  {
   "cell_type": "markdown",
   "metadata": {},
   "source": [
    "SymPy has a powerful printing system. Here it prints a latex version of the above expression."
   ]
  },
  {
   "cell_type": "code",
   "execution_count": 20,
   "metadata": {},
   "outputs": [
    {
     "name": "stdout",
     "output_type": "stream",
     "text": [
      "\\frac{\\omega^{2} e^{- \\omega} \\sin{\\left(\\omega \\right)}}{2} - \\frac{\\omega^{2} e^{- \\omega} \\cos{\\left(\\omega \\right)}}{2} + \\omega e^{- \\omega} \\sin{\\left(\\omega \\right)} + \\frac{e^{- \\omega} \\sin{\\left(\\omega \\right)}}{2} + \\frac{e^{- \\omega} \\cos{\\left(\\omega \\right)}}{2}\n"
     ]
    }
   ],
   "source": [
    "print(sm.latex(long_expr))"
   ]
  },
  {
   "cell_type": "markdown",
   "metadata": {},
   "source": [
    "You can print output for many othter programming languages too:"
   ]
  },
  {
   "cell_type": "code",
   "execution_count": 21,
   "metadata": {},
   "outputs": [
    {
     "data": {
      "text/plain": [
       "'(1.0/2.0)*pow(omega, 2)*exp(-omega)*sin(omega) - 1.0/2.0*pow(omega, 2)*exp(-omega)*cos(omega) + omega*exp(-omega)*sin(omega) + (1.0/2.0)*exp(-omega)*sin(omega) + (1.0/2.0)*exp(-omega)*cos(omega)'"
      ]
     },
     "execution_count": 21,
     "metadata": {},
     "output_type": "execute_result"
    }
   ],
   "source": [
    "sm.ccode(long_expr)"
   ]
  },
  {
   "cell_type": "code",
   "execution_count": 22,
   "metadata": {},
   "outputs": [
    {
     "data": {
      "text/plain": [
       "'(1_f64/2.0)*omega.powi(2)*(-omega).exp()*omega.sin() - 1_f64/2.0*omega.powi(2)*(-omega).exp()*omega.cos() + omega*(-omega).exp()*omega.sin() + (1_f64/2.0)*(-omega).exp()*omega.sin() + (1_f64/2.0)*(-omega).exp()*omega.cos()'"
      ]
     },
     "execution_count": 22,
     "metadata": {},
     "output_type": "execute_result"
    }
   ],
   "source": [
    "sm.rust_code(long_expr)"
   ]
  },
  {
   "cell_type": "markdown",
   "metadata": {},
   "source": [
    "The expressions can be evaluated numerically to arbitrary precision with `evalf()`."
   ]
  },
  {
   "cell_type": "code",
   "execution_count": 23,
   "metadata": {},
   "outputs": [
    {
     "data": {
      "image/png": "[encoded data removed]",
      "text/latex": [
       "$\\displaystyle 0.0003913820565126739781137676275787977597944696435054817870349748378321660946567427066208237192789868231625679569970581440290944915692599836091829757534976768931948683746247612480641234733606521453520562923574841043130857406033692820045628056675290931363609240435045504654217112802513345703470139849077401039106140772646747841493657612911081657712486569307105406119426970143071204071199375263913166155717310542848098806881812540782254772695530221751549385743422761444871055965259292663837535005191181625745068479846174072251163700007993468771409337535757050759293241623497071621481503543989672542606002540704869498074836936428746544420849008212903289722696436577296582084018956003436729048869562401250886059005211730854778461097461545963406907313484787619620318286975262985135534281479748287445125627524884566812264535359508996746466101348478901533862840938667705750533087050325353481284406300017641653117641722854884031093930857492659965435438286569748520410867655196875749830573312927197152480211863981$"
      ],
      "text/plain": [
       "0.0003913820565126739781137676275787977597944696435054817870349748378321660946\n",
       "567427066208237192789868231625679569970581440290944915692599836091829757534976\n",
       "768931948683746247612480641234733606521453520562923574841043130857406033692820\n",
       "045628056675290931363609240435045504654217112802513345703470139849077401039106\n",
       "140772646747841493657612911081657712486569307105406119426970143071204071199375\n",
       "263913166155717310542848098806881812540782254772695530221751549385743422761444\n",
       "871055965259292663837535005191181625745068479846174072251163700007993468771409\n",
       "337535757050759293241623497071621481503543989672542606002540704869498074836936\n",
       "428746544420849008212903289722696436577296582084018956003436729048869562401250\n",
       "886059005211730854778461097461545963406907313484787619620318286975262985135534\n",
       "281479748287445125627524884566812264535359508996746466101348478901533862840938\n",
       "667705750533087050325353481284406300017641653117641722854884031093930857492659\n",
       "965435438286569748520410867655196875749830573312927197152480211863981"
      ]
     },
     "execution_count": 23,
     "metadata": {},
     "output_type": "execute_result"
    }
   ],
   "source": [
    "long_expr.evalf(subs={omega: 10.0}, n=1000)"
   ]
  },
  {
   "cell_type": "markdown",
   "metadata": {},
   "source": [
    "If you want to evaluate the expressions using floating point values, it is best to use `lambdify` which generates a Python function that can be used to evaluated the expression."
   ]
  },
  {
   "cell_type": "code",
   "execution_count": 24,
   "metadata": {},
   "outputs": [],
   "source": [
    "num_func = sm.lambdify(omega, long_expr)"
   ]
  },
  {
   "cell_type": "code",
   "execution_count": 25,
   "metadata": {},
   "outputs": [
    {
     "name": "stdout",
     "output_type": "stream",
     "text": [
      "Help on function _lambdifygenerated:\n",
      "\n",
      "_lambdifygenerated(omega)\n",
      "    Created with lambdify. Signature:\n",
      "    \n",
      "    func(omega)\n",
      "    \n",
      "    Expression:\n",
      "    \n",
      "    omega**2*exp(-omega)*sin(omega)/2 - omega**2*exp(-omega)*cos(omega)/2 +...\n",
      "    \n",
      "    Source code:\n",
      "    \n",
      "    def _lambdifygenerated(omega):\n",
      "        return ((1/2)*omega**2*exp(-omega)*sin(omega) - 1/2*omega**2*exp(-omega)*cos(omega) + omega*exp(-omega)*sin(omega) + (1/2)*exp(-omega)*sin(omega) + (1/2)*exp(-omega)*cos(omega))\n",
      "    \n",
      "    \n",
      "    Imported modules:\n",
      "\n"
     ]
    }
   ],
   "source": [
    "help(num_func)"
   ]
  },
  {
   "cell_type": "code",
   "execution_count": 26,
   "metadata": {},
   "outputs": [
    {
     "data": {
      "image/png": "[encoded data removed]",
      "text/latex": [
       "$\\displaystyle 0.00039138205651267406$"
      ],
      "text/plain": [
       "0.00039138205651267406"
      ]
     },
     "execution_count": 26,
     "metadata": {},
     "output_type": "execute_result"
    }
   ],
   "source": [
    "num_func(10.0)"
   ]
  },
  {
   "cell_type": "code",
   "execution_count": 27,
   "metadata": {},
   "outputs": [
    {
     "data": {
      "image/png": "[encoded data removed]",
      "text/latex": [
       "$\\displaystyle 1.4445446527604309e-05$"
      ],
      "text/plain": [
       "1.4445446527604309e-05"
      ]
     },
     "execution_count": 27,
     "metadata": {},
     "output_type": "execute_result"
    }
   ],
   "source": [
    "num_func(13.3434)"
   ]
  }
 ],
 "metadata": {
  "kernelspec": {
   "display_name": "Python 3",
   "language": "python",
   "name": "python3"
  },
  "language_info": {
   "codemirror_mode": {
    "name": "ipython",
    "version": 3
   },
   "file_extension": ".py",
   "mimetype": "text/x-python",
   "name": "python",
   "nbconvert_exporter": "python",
   "pygments_lexer": "ipython3",
   "version": "3.6.7"
  }
 },
 "nbformat": 4,
 "nbformat_minor": 4
}
