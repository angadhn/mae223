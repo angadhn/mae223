{
 "cells": [
  {
   "cell_type": "code",
   "execution_count": 1,
   "metadata": {},
   "outputs": [],
   "source": [
    "import sympy as sm\n",
    "import sympy.physics.mechanics as me"
   ]
  },
  {
   "cell_type": "markdown",
   "metadata": {},
   "source": [
    "Enable nicer printing for time derivatives, etc."
   ]
  },
  {
   "cell_type": "code",
   "execution_count": 2,
   "metadata": {},
   "outputs": [],
   "source": [
    "me.init_vprinting()"
   ]
  },
  {
   "cell_type": "markdown",
   "metadata": {},
   "source": [
    "# Define variables and constants\n",
    "\n",
    "Reference Figure 2.6.1 in the book."
   ]
  },
  {
   "cell_type": "markdown",
   "metadata": {},
   "source": [
    "The angular velocity of B in A and the distance between P1 and P2 are fixed."
   ]
  },
  {
   "cell_type": "code",
   "execution_count": 3,
   "metadata": {},
   "outputs": [
    {
     "data": {
      "image/png": "[encoded data removed]",
      "text/latex": [
       "$\\displaystyle \\left( \\omega, \\  L\\right)$"
      ],
      "text/plain": [
       "(ω, L)"
      ]
     },
     "execution_count": 3,
     "metadata": {},
     "output_type": "execute_result"
    }
   ],
   "source": [
    "w, L = sm.symbols(\"omega, L\")\n",
    "w, L"
   ]
  },
  {
   "cell_type": "code",
   "execution_count": 4,
   "metadata": {},
   "outputs": [],
   "source": [
    "q1, q2, q3 = me.dynamicsymbols('q1:4')"
   ]
  },
  {
   "cell_type": "code",
   "execution_count": 5,
   "metadata": {},
   "outputs": [],
   "source": [
    "t = me.dynamicsymbols._t"
   ]
  },
  {
   "cell_type": "markdown",
   "metadata": {},
   "source": [
    "# Setting orientations of reference frames\n",
    "\n",
    "Setup the orientations as two simple rotations."
   ]
  },
  {
   "cell_type": "code",
   "execution_count": 6,
   "metadata": {},
   "outputs": [],
   "source": [
    "A = me.ReferenceFrame('A')\n",
    "B = me.ReferenceFrame('B')\n",
    "E = me.ReferenceFrame('E')"
   ]
  },
  {
   "cell_type": "code",
   "execution_count": 7,
   "metadata": {},
   "outputs": [],
   "source": [
    "B.orient(A, 'Axis', (w*t, A.y))"
   ]
  },
  {
   "cell_type": "code",
   "execution_count": 8,
   "metadata": {},
   "outputs": [],
   "source": [
    "E.orient(B, 'Axis', (q3, B.z))"
   ]
  },
  {
   "cell_type": "markdown",
   "metadata": {},
   "source": [
    "Calculate the angular velocit of E in A."
   ]
  },
  {
   "cell_type": "code",
   "execution_count": 9,
   "metadata": {},
   "outputs": [
    {
     "data": {
      "image/png": "[encoded data removed]",
      "text/latex": [
       "$\\displaystyle \\omega \\operatorname{sin}\\left(q_{3}\\right)\\mathbf{\\hat{e}_x} + \\omega \\operatorname{cos}\\left(q_{3}\\right)\\mathbf{\\hat{e}_y} + \\dot{q}_{3}\\mathbf{\\hat{e}_z}$"
      ],
      "text/plain": [
       "ω⋅sin(q₃) e_x + ω⋅cos(q₃) e_y + q₃̇ e_z"
      ]
     },
     "execution_count": 9,
     "metadata": {},
     "output_type": "execute_result"
    }
   ],
   "source": [
    "E.ang_vel_in(A).express(E)"
   ]
  },
  {
   "cell_type": "markdown",
   "metadata": {},
   "source": [
    "# Setting positions of points\n",
    "\n",
    "Now, create the three point of interest."
   ]
  },
  {
   "cell_type": "code",
   "execution_count": 10,
   "metadata": {},
   "outputs": [],
   "source": [
    "O = me.Point('O')\n",
    "P1 = me.Point('P1')\n",
    "P2 = me.Point('P2')"
   ]
  },
  {
   "cell_type": "markdown",
   "metadata": {},
   "source": [
    "The vector $\\mathbf{p}_1$ connects O to P1."
   ]
  },
  {
   "cell_type": "code",
   "execution_count": 11,
   "metadata": {},
   "outputs": [],
   "source": [
    "p1 = q1*B.x + q2*B.y"
   ]
  },
  {
   "cell_type": "markdown",
   "metadata": {},
   "source": [
    "Now we need to define the position relationships between the various points. You do this by using the `set_pos()` method of `Point`."
   ]
  },
  {
   "cell_type": "code",
   "execution_count": 12,
   "metadata": {},
   "outputs": [
    {
     "data": {
      "text/plain": [
       "\u001b[0;31mSignature:\u001b[0m \u001b[0mP1\u001b[0m\u001b[0;34m.\u001b[0m\u001b[0mset_pos\u001b[0m\u001b[0;34m(\u001b[0m\u001b[0motherpoint\u001b[0m\u001b[0;34m,\u001b[0m \u001b[0mvalue\u001b[0m\u001b[0;34m)\u001b[0m\u001b[0;34m\u001b[0m\u001b[0;34m\u001b[0m\u001b[0m\n",
       "\u001b[0;31mDocstring:\u001b[0m\n",
       "Used to set the position of this point w.r.t. another point.\n",
       "\n",
       "Parameters\n",
       "==========\n",
       "\n",
       "otherpoint : Point\n",
       "    The other point which this point's location is defined relative to\n",
       "value : Vector\n",
       "    The vector which defines the location of this point\n",
       "\n",
       "Examples\n",
       "========\n",
       "\n",
       ">>> from sympy.physics.vector import Point, ReferenceFrame\n",
       ">>> N = ReferenceFrame('N')\n",
       ">>> p1 = Point('p1')\n",
       ">>> p2 = Point('p2')\n",
       ">>> p1.set_pos(p2, 10 * N.x)\n",
       ">>> p1.pos_from(p2)\n",
       "10*N.x\n",
       "\u001b[0;31mFile:\u001b[0m      /opt/conda/lib/python3.6/site-packages/sympy/physics/vector/point.py\n",
       "\u001b[0;31mType:\u001b[0m      method\n"
      ]
     },
     "metadata": {},
     "output_type": "display_data"
    }
   ],
   "source": [
    "P1.set_pos?"
   ]
  },
  {
   "cell_type": "code",
   "execution_count": 13,
   "metadata": {},
   "outputs": [],
   "source": [
    "P1.set_pos(O, p1)"
   ]
  },
  {
   "cell_type": "code",
   "execution_count": 14,
   "metadata": {},
   "outputs": [
    {
     "data": {
      "image/png": "[encoded data removed]",
      "text/latex": [
       "$\\displaystyle q_{1}\\mathbf{\\hat{b}_x} + q_{2}\\mathbf{\\hat{b}_y}$"
      ],
      "text/plain": [
       "q₁ b_x + q₂ b_y"
      ]
     },
     "execution_count": 14,
     "metadata": {},
     "output_type": "execute_result"
    }
   ],
   "source": [
    "P1.pos_from(O)"
   ]
  },
  {
   "cell_type": "markdown",
   "metadata": {},
   "source": [
    "You do not have to define all points relative to O explicitly, you can define the relative positions between points, as it usually simpler."
   ]
  },
  {
   "cell_type": "code",
   "execution_count": 15,
   "metadata": {},
   "outputs": [],
   "source": [
    "P2.set_pos(P1, L*E.x)"
   ]
  },
  {
   "cell_type": "markdown",
   "metadata": {},
   "source": [
    "Once these intermediate definitions are in place, you can use `pos_from()` to calculate any vectors you need."
   ]
  },
  {
   "cell_type": "code",
   "execution_count": 16,
   "metadata": {},
   "outputs": [
    {
     "data": {
      "text/plain": [
       "\u001b[0;31mSignature:\u001b[0m \u001b[0mP2\u001b[0m\u001b[0;34m.\u001b[0m\u001b[0mpos_from\u001b[0m\u001b[0;34m(\u001b[0m\u001b[0motherpoint\u001b[0m\u001b[0;34m)\u001b[0m\u001b[0;34m\u001b[0m\u001b[0;34m\u001b[0m\u001b[0m\n",
       "\u001b[0;31mDocstring:\u001b[0m\n",
       "Returns a Vector distance between this Point and the other Point.\n",
       "\n",
       "Parameters\n",
       "==========\n",
       "\n",
       "otherpoint : Point\n",
       "    The otherpoint we are locating this one relative to\n",
       "\n",
       "Examples\n",
       "========\n",
       "\n",
       ">>> from sympy.physics.vector import Point, ReferenceFrame\n",
       ">>> N = ReferenceFrame('N')\n",
       ">>> p1 = Point('p1')\n",
       ">>> p2 = Point('p2')\n",
       ">>> p1.set_pos(p2, 10 * N.x)\n",
       ">>> p1.pos_from(p2)\n",
       "10*N.x\n",
       "\u001b[0;31mFile:\u001b[0m      /opt/conda/lib/python3.6/site-packages/sympy/physics/vector/point.py\n",
       "\u001b[0;31mType:\u001b[0m      method\n"
      ]
     },
     "metadata": {},
     "output_type": "display_data"
    }
   ],
   "source": [
    "P2.pos_from?"
   ]
  },
  {
   "cell_type": "code",
   "execution_count": 17,
   "metadata": {},
   "outputs": [
    {
     "data": {
      "image/png": "[encoded data removed]",
      "text/latex": [
       "$\\displaystyle L\\mathbf{\\hat{e}_x} + q_{1}\\mathbf{\\hat{b}_x} + q_{2}\\mathbf{\\hat{b}_y}$"
      ],
      "text/plain": [
       "L e_x + q₁ b_x + q₂ b_y"
      ]
     },
     "execution_count": 17,
     "metadata": {},
     "output_type": "execute_result"
    }
   ],
   "source": [
    "P2.pos_from(O)"
   ]
  },
  {
   "cell_type": "code",
   "execution_count": 18,
   "metadata": {},
   "outputs": [
    {
     "data": {
      "image/png": "[encoded data removed]",
      "text/latex": [
       "$\\displaystyle (L + q_{1} \\operatorname{cos}\\left(q_{3}\\right) + q_{2} \\operatorname{sin}\\left(q_{3}\\right))\\mathbf{\\hat{e}_x} + (- q_{1} \\operatorname{sin}\\left(q_{3}\\right) + q_{2} \\operatorname{cos}\\left(q_{3}\\right))\\mathbf{\\hat{e}_y}$"
      ],
      "text/plain": [
       "(L + q₁⋅cos(q₃) + q₂⋅sin(q₃)) e_x + (-q₁⋅sin(q₃) + q₂⋅cos(q₃)) e_y"
      ]
     },
     "execution_count": 18,
     "metadata": {},
     "output_type": "execute_result"
    }
   ],
   "source": [
    "P2.pos_from(O).express(E)"
   ]
  },
  {
   "cell_type": "markdown",
   "metadata": {},
   "source": [
    "# Setting and calculating velocities"
   ]
  },
  {
   "cell_type": "markdown",
   "metadata": {},
   "source": [
    "Point O is the reference point in this problem. All velocities and accelerations of interest are with respect to this point. It is also fixed in A, so we need to specify its velocity in A to be zero."
   ]
  },
  {
   "cell_type": "code",
   "execution_count": 19,
   "metadata": {},
   "outputs": [],
   "source": [
    "O.set_vel(A, 0)"
   ]
  },
  {
   "cell_type": "markdown",
   "metadata": {},
   "source": [
    "Every velocity must be defined explicitly. To start, set the velocity of P1 as the time derivative of the position vector from O to P1."
   ]
  },
  {
   "cell_type": "code",
   "execution_count": 20,
   "metadata": {},
   "outputs": [],
   "source": [
    "P1.set_vel(A, p1.dt(A))"
   ]
  },
  {
   "cell_type": "markdown",
   "metadata": {},
   "source": [
    "P1 and P2 are both fixed in E and the velocity of P1 in A is now defined, so the two point velocity thereom can be applied to determine the velocity of P2 in A. Note that we already computed the angular velocity of E in A, which is needed."
   ]
  },
  {
   "cell_type": "code",
   "execution_count": 21,
   "metadata": {},
   "outputs": [
    {
     "data": {
      "text/plain": [
       "\u001b[0;31mSignature:\u001b[0m \u001b[0mP2\u001b[0m\u001b[0;34m.\u001b[0m\u001b[0mv2pt_theory\u001b[0m\u001b[0;34m(\u001b[0m\u001b[0motherpoint\u001b[0m\u001b[0;34m,\u001b[0m \u001b[0moutframe\u001b[0m\u001b[0;34m,\u001b[0m \u001b[0mfixedframe\u001b[0m\u001b[0;34m)\u001b[0m\u001b[0;34m\u001b[0m\u001b[0;34m\u001b[0m\u001b[0m\n",
       "\u001b[0;31mDocstring:\u001b[0m\n",
       "Sets the velocity of this point with the 2-point theory.\n",
       "\n",
       "The 2-point theory for point velocity looks like this:\n",
       "\n",
       "^N v^P = ^N v^O + ^N omega^B x r^OP\n",
       "\n",
       "where O and P are both points fixed in frame B, which is rotating in\n",
       "frame N.\n",
       "\n",
       "Parameters\n",
       "==========\n",
       "\n",
       "otherpoint : Point\n",
       "    The first point of the 2-point theory (O)\n",
       "outframe : ReferenceFrame\n",
       "    The frame we want this point's velocity defined in (N)\n",
       "fixedframe : ReferenceFrame\n",
       "    The frame in which both points are fixed (B)\n",
       "\n",
       "Examples\n",
       "========\n",
       "\n",
       ">>> from sympy.physics.vector import Point, ReferenceFrame, dynamicsymbols\n",
       ">>> q = dynamicsymbols('q')\n",
       ">>> qd = dynamicsymbols('q', 1)\n",
       ">>> N = ReferenceFrame('N')\n",
       ">>> B = N.orientnew('B', 'Axis', [q, N.z])\n",
       ">>> O = Point('O')\n",
       ">>> P = O.locatenew('P', 10 * B.x)\n",
       ">>> O.set_vel(N, 5 * N.x)\n",
       ">>> P.v2pt_theory(O, N, B)\n",
       "5*N.x + 10*q'*B.y\n",
       "\u001b[0;31mFile:\u001b[0m      /opt/conda/lib/python3.6/site-packages/sympy/physics/vector/point.py\n",
       "\u001b[0;31mType:\u001b[0m      method\n"
      ]
     },
     "metadata": {},
     "output_type": "display_data"
    }
   ],
   "source": [
    "P2.v2pt_theory?"
   ]
  },
  {
   "cell_type": "code",
   "execution_count": 22,
   "metadata": {},
   "outputs": [
    {
     "data": {
      "image/png": "[encoded data removed]",
      "text/latex": [
       "$\\displaystyle \\dot{q}_{1}\\mathbf{\\hat{b}_x} + \\dot{q}_{2}\\mathbf{\\hat{b}_y} -  \\omega q_{1}\\mathbf{\\hat{b}_z} + L \\dot{q}_{3}\\mathbf{\\hat{e}_y} -  L \\omega \\operatorname{cos}\\left(q_{3}\\right)\\mathbf{\\hat{e}_z}$"
      ],
      "text/plain": [
       "q₁̇ b_x + q₂̇ b_y + -ω⋅q₁ b_z + L⋅q₃̇ e_y + -L⋅ω⋅cos(q₃) e_z"
      ]
     },
     "execution_count": 22,
     "metadata": {},
     "output_type": "execute_result"
    }
   ],
   "source": [
    "P2.v2pt_theory(P1, A, E)"
   ]
  },
  {
   "cell_type": "markdown",
   "metadata": {},
   "source": [
    "The same notation is used to calculate the acceleration of P2 in A:"
   ]
  },
  {
   "cell_type": "code",
   "execution_count": 23,
   "metadata": {},
   "outputs": [
    {
     "data": {
      "image/png": "[encoded data removed]",
      "text/latex": [
       "$\\displaystyle (- \\omega^{2} q_{1} + \\ddot{q}_{1})\\mathbf{\\hat{b}_x} + \\ddot{q}_{2}\\mathbf{\\hat{b}_y} -  2 \\omega \\dot{q}_{1}\\mathbf{\\hat{b}_z} + (- L \\omega^{2} \\operatorname{cos}^{2}\\left(q_{3}\\right) - L \\dot{q}_{3}^{2})\\mathbf{\\hat{e}_x} + (L \\omega^{2} \\operatorname{sin}\\left(q_{3}\\right) \\operatorname{cos}\\left(q_{3}\\right) + L \\ddot{q}_{3})\\mathbf{\\hat{e}_y} + 2 L \\omega \\operatorname{sin}\\left(q_{3}\\right) \\dot{q}_{3}\\mathbf{\\hat{e}_z}$"
      ],
      "text/plain": [
       "⎛   2         ⎞                                ⎛     2    2            2⎞\n",
       "⎝- ω ⋅q₁ + q₁̈⎠ b_x + q₂̈ b_y + -2⋅ω⋅q₁̇ b_z + ⎝- L⋅ω ⋅cos (q₃) - L⋅q₃̇ ⎠ e_x\n",
       "\n",
       "  ⎛   2                        ⎞\n",
       "+ ⎝L⋅ω ⋅sin(q₃)⋅cos(q₃) + L⋅q₃̈⎠ e_y + 2⋅L⋅ω⋅sin(q₃)⋅q₃̇ e_z"
      ]
     },
     "execution_count": 23,
     "metadata": {},
     "output_type": "execute_result"
    }
   ],
   "source": [
    "P2.a2pt_theory(P1, A, E)"
   ]
  },
  {
   "cell_type": "markdown",
   "metadata": {},
   "source": [
    "`v2pt_theory()` and `a2pt_theory()` set the velocities of the points, so `vel()` and `acc()` will return the expected answers after you call those two point functions."
   ]
  },
  {
   "cell_type": "code",
   "execution_count": 24,
   "metadata": {},
   "outputs": [
    {
     "data": {
      "image/png": "[encoded data removed]",
      "text/latex": [
       "$\\displaystyle (- L \\omega^{2} \\operatorname{cos}^{2}\\left(q_{3}\\right) - L \\dot{q}_{3}^{2} + \\left(- \\omega^{2} q_{1} + \\ddot{q}_{1}\\right) \\operatorname{cos}\\left(q_{3}\\right) + \\operatorname{sin}\\left(q_{3}\\right) \\ddot{q}_{2})\\mathbf{\\hat{e}_x} + (L \\omega^{2} \\operatorname{sin}\\left(q_{3}\\right) \\operatorname{cos}\\left(q_{3}\\right) + L \\ddot{q}_{3} - \\left(- \\omega^{2} q_{1} + \\ddot{q}_{1}\\right) \\operatorname{sin}\\left(q_{3}\\right) + \\operatorname{cos}\\left(q_{3}\\right) \\ddot{q}_{2})\\mathbf{\\hat{e}_y} + (2 L \\omega \\operatorname{sin}\\left(q_{3}\\right) \\dot{q}_{3} - 2 \\omega \\dot{q}_{1})\\mathbf{\\hat{e}_z}$"
      ],
      "text/plain": [
       "⎛     2    2            2   ⎛   2         ⎞                      ⎞       ⎛   2\n",
       "⎝- L⋅ω ⋅cos (q₃) - L⋅q₃̇  + ⎝- ω ⋅q₁ + q₁̈⎠⋅cos(q₃) + sin(q₃)⋅q₂̈⎠ e_x + ⎝L⋅ω\n",
       "\n",
       "                           ⎛   2         ⎞                      ⎞\n",
       "⋅sin(q₃)⋅cos(q₃) + L⋅q₃̈ - ⎝- ω ⋅q₁ + q₁̈⎠⋅sin(q₃) + cos(q₃)⋅q₂̈⎠ e_y + (2⋅L⋅ω\n",
       "\n",
       "\n",
       "⋅sin(q₃)⋅q₃̇ - 2⋅ω⋅q₁̇) e_z"
      ]
     },
     "execution_count": 24,
     "metadata": {},
     "output_type": "execute_result"
    }
   ],
   "source": [
    "P2.acc(A).express(E)"
   ]
  }
 ],
 "metadata": {
  "kernelspec": {
   "display_name": "Python 3",
   "language": "python",
   "name": "python3"
  },
  "language_info": {
   "codemirror_mode": {
    "name": "ipython",
    "version": 3
   },
   "file_extension": ".py",
   "mimetype": "text/x-python",
   "name": "python",
   "nbconvert_exporter": "python",
   "pygments_lexer": "ipython3",
   "version": "3.6.7"
  }
 },
 "nbformat": 4,
 "nbformat_minor": 4
}
