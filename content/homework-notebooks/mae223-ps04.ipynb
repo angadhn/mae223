{
 "cells": [
  {
   "cell_type": "markdown",
   "metadata": {},
   "source": [
    "# PS4 (Secs 2.9-2.15): 2,3,7,8,11,13,14"
   ]
  },
  {
   "cell_type": "code",
   "execution_count": 1,
   "metadata": {},
   "outputs": [],
   "source": [
    "import sympy as sm\n",
    "import sympy.physics.mechanics as me\n",
    "me.init_vprinting()"
   ]
  },
  {
   "cell_type": "markdown",
   "metadata": {},
   "source": [
    "# P4.2"
   ]
  },
  {
   "cell_type": "code",
   "execution_count": 2,
   "metadata": {},
   "outputs": [],
   "source": [
    "A = me.ReferenceFrame('A')"
   ]
  },
  {
   "cell_type": "code",
   "execution_count": 3,
   "metadata": {},
   "outputs": [],
   "source": [
    "x1, x2 = me.dynamicsymbols('x1:3')\n",
    "y1, y2 = me.dynamicsymbols('y1:3')\n",
    "z1, z2 = me.dynamicsymbols('z1:3')"
   ]
  },
  {
   "cell_type": "code",
   "execution_count": 4,
   "metadata": {},
   "outputs": [],
   "source": [
    "L1, L2 = sm.symbols(\"L1:3\")"
   ]
  },
  {
   "cell_type": "code",
   "execution_count": 5,
   "metadata": {},
   "outputs": [],
   "source": [
    "f1, f2, f3, f4 = me.dynamicsymbols('f1:5')"
   ]
  },
  {
   "cell_type": "code",
   "execution_count": 6,
   "metadata": {},
   "outputs": [],
   "source": [
    "p1 = x1*A.x + y1*A.y + z1*A.z\n",
    "p2 = x2*A.x + y2*A.y + z2*A.z"
   ]
  },
  {
   "cell_type": "code",
   "execution_count": 7,
   "metadata": {},
   "outputs": [
    {
     "data": {
      "image/png": "[encoded data removed]",
      "text/latex": [
       "$\\displaystyle f_{1} = - L_{1} + \\sqrt{x^{2}_{1} + y^{2}_{1}}$"
      ],
      "text/plain": [
       "              ___________\n",
       "             ╱   2     2 \n",
       "f₁ = -L₁ + ╲╱  x₁  + y₁  "
      ]
     },
     "execution_count": 7,
     "metadata": {},
     "output_type": "execute_result"
    }
   ],
   "source": [
    "sm.Eq(f1, (p1 - p1.dot(A.z)*A.z).magnitude() - L1)"
   ]
  },
  {
   "cell_type": "code",
   "execution_count": 8,
   "metadata": {},
   "outputs": [
    {
     "data": {
      "image/png": "[encoded data removed]",
      "text/latex": [
       "$\\displaystyle f_{2} = - L_{2} + \\sqrt{\\left(- x_{1} + x_{2}\\right)^{2} + \\left(- y_{1} + y_{2}\\right)^{2}}$"
      ],
      "text/plain": [
       "              ___________________________\n",
       "             ╱           2             2 \n",
       "f₂ = -L₂ + ╲╱  (-x₁ + x₂)  + (-y₁ + y₂)  "
      ]
     },
     "execution_count": 8,
     "metadata": {},
     "output_type": "execute_result"
    }
   ],
   "source": [
    "p2minp1 = p2 - p1\n",
    "sm.Eq(f2, (p2minp1 - p2minp1.dot(A.z)*A.z).magnitude() - L2) "
   ]
  },
  {
   "cell_type": "code",
   "execution_count": 9,
   "metadata": {},
   "outputs": [
    {
     "data": {
      "image/png": "[encoded data removed]",
      "text/latex": [
       "$\\displaystyle f_{3} = z_{1}$"
      ],
      "text/plain": [
       "f₃ = z₁"
      ]
     },
     "execution_count": 9,
     "metadata": {},
     "output_type": "execute_result"
    }
   ],
   "source": [
    "sm.Eq(f3, p1.dot(A.z))"
   ]
  },
  {
   "cell_type": "code",
   "execution_count": 10,
   "metadata": {},
   "outputs": [
    {
     "data": {
      "image/png": "[encoded data removed]",
      "text/latex": [
       "$\\displaystyle f_{4} = z_{2}$"
      ],
      "text/plain": [
       "f₄ = z₂"
      ]
     },
     "execution_count": 10,
     "metadata": {},
     "output_type": "execute_result"
    }
   ],
   "source": [
    "sm.Eq(f4, p2.dot(A.z))"
   ]
  },
  {
   "cell_type": "markdown",
   "metadata": {},
   "source": [
    "# P4.3"
   ]
  },
  {
   "cell_type": "markdown",
   "metadata": {},
   "source": [
    "It has the same number as P4.2 plus one additional one."
   ]
  },
  {
   "cell_type": "code",
   "execution_count": 11,
   "metadata": {},
   "outputs": [],
   "source": [
    "L3, L4 = sm.symbols('L3, L4')"
   ]
  },
  {
   "cell_type": "code",
   "execution_count": 12,
   "metadata": {},
   "outputs": [
    {
     "data": {
      "image/png": "[encoded data removed]",
      "text/latex": [
       "$\\displaystyle - L_{3} + \\sqrt{\\left(- L_{4} + x_{2}\\right)^{2} + y^{2}_{2}}$"
      ],
      "text/plain": [
       "         ___________________\n",
       "        ╱           2     2 \n",
       "-L₃ + ╲╱  (-L₄ + x₂)  + y₂  "
      ]
     },
     "execution_count": 12,
     "metadata": {},
     "output_type": "execute_result"
    }
   ],
   "source": [
    "p2_Q = p2 - L4*A.x\n",
    "(p2_Q - p2_Q.dot(A.z)*A.z).magnitude() - L3"
   ]
  },
  {
   "cell_type": "markdown",
   "metadata": {},
   "source": [
    "# P4.7"
   ]
  },
  {
   "cell_type": "markdown",
   "metadata": {},
   "source": [
    "(a) Each body has 6 coordinates but a ball and socket removes the need for translation coordinates for one body, so the total is 12-3=9.\n",
    "\n",
    "(b) B has 6 and the rotor has 1 coordinate, so 7.\n",
    "\n",
    "(c) B has 6 and the rotor's angular position is prescribed so this does not add a generalized coordinate. Total is 6.\n",
    "\n",
    "(d) In 4.2 only 2 coordinate angles are needed.\n",
    "\n",
    "(e) In 4.3 only 1 independent coordinate is needed, but you can get it down to 3 before introducing the two holonomic constraints."
   ]
  },
  {
   "cell_type": "markdown",
   "metadata": {},
   "source": [
    "# P4.8"
   ]
  },
  {
   "cell_type": "code",
   "execution_count": 13,
   "metadata": {},
   "outputs": [],
   "source": [
    "R = sm.symbols('R')\n",
    "q1, q2, q3, q4, q5 = me.dynamicsymbols('q1:6')\n",
    "u1, u2, u3, u4, u5 = me.dynamicsymbols('u1:6')\n",
    "A = me.ReferenceFrame('A')\n",
    "Y = me.ReferenceFrame('Y')  # intermediate frame so that simple rotations can be used\n",
    "B = me.ReferenceFrame('B')\n",
    "C = me.ReferenceFrame('C')\n",
    "Y.orient(A, 'Axis', (q1, A.z))\n",
    "B.orient(Y, 'Axis', (sm.pi/2 - q2, Y.x))\n",
    "C.orient(B, 'Axis', (q3, B.z))"
   ]
  },
  {
   "cell_type": "code",
   "execution_count": 14,
   "metadata": {},
   "outputs": [],
   "source": [
    "O, P, Cs, Q = sm.symbols('O, P, Cs, Q', cls=me.Point)"
   ]
  },
  {
   "cell_type": "code",
   "execution_count": 15,
   "metadata": {},
   "outputs": [],
   "source": [
    "P.set_pos(O, q4*A.x + q5*A.y)\n",
    "Cs.set_pos(P, R*B.y)\n",
    "O.set_vel(A, 0)\n",
    "P.set_vel(A, P.pos_from(O).dt(A))\n",
    "Cs.set_vel(A, Cs.pos_from(O).dt(A))"
   ]
  },
  {
   "cell_type": "code",
   "execution_count": 16,
   "metadata": {},
   "outputs": [],
   "source": [
    "u1_eq = sm.Eq(u1, C.ang_vel_in(A).dot(B.x))\n",
    "u2_eq = sm.Eq(u2, C.ang_vel_in(A).dot(B.y))\n",
    "u3_eq = sm.Eq(u3, C.ang_vel_in(A).dot(B.z))\n",
    "u4_eq = sm.Eq(u4, P.vel(A).dot(A.x))\n",
    "u5_eq = sm.Eq(u5, P.vel(A).dot(A.y))"
   ]
  },
  {
   "cell_type": "markdown",
   "metadata": {},
   "source": [
    "To be valid GS's these equations must be linear in the time derivatives of the q's and we must be able to uniquely solve for the time derivatives of the q's. Below I show that they can be solved:"
   ]
  },
  {
   "cell_type": "code",
   "execution_count": 17,
   "metadata": {},
   "outputs": [
    {
     "data": {
      "image/png": "[encoded data removed]",
      "text/latex": [
       "$\\displaystyle \\left\\{ \\dot{q}_{1} : \\frac{u_{2}}{\\operatorname{cos}\\left(q_{2}\\right)}, \\  \\dot{q}_{2} : - u_{1}, \\  \\dot{q}_{3} : - u_{2} \\operatorname{tan}\\left(q_{2}\\right) + u_{3}, \\  \\dot{q}_{4} : u_{4}, \\  \\dot{q}_{5} : u_{5}\\right\\}$"
      ],
      "text/plain": [
       "⎧        u₂                                                     ⎫\n",
       "⎨q₁̇: ───────, q₂̇: -u₁, q₃̇: -u₂⋅tan(q₂) + u₃, q₄̇: u₄, q₅̇: u₅⎬\n",
       "⎩     cos(q₂)                                                   ⎭"
      ]
     },
     "execution_count": 17,
     "metadata": {},
     "output_type": "execute_result"
    }
   ],
   "source": [
    "sm.solve([u1_eq, u2_eq, u3_eq, u4_eq, u5_eq], q1.diff(), q2.diff(), q3.diff(), q4.diff(), q5.diff())"
   ]
  },
  {
   "cell_type": "markdown",
   "metadata": {},
   "source": [
    "# P4.11"
   ]
  },
  {
   "cell_type": "code",
   "execution_count": 18,
   "metadata": {},
   "outputs": [],
   "source": [
    "R, L = sm.symbols(\"R, L\")\n",
    "q1, q2, q3, q4, q5, q6 = me.dynamicsymbols('q1:7')\n",
    "u1, u2, u3, u4, u5, u6 = me.dynamicsymbols('u1:7')"
   ]
  },
  {
   "cell_type": "code",
   "execution_count": 19,
   "metadata": {},
   "outputs": [],
   "source": [
    "A, N, C1, S, C2 = sm.symbols('A, N, C_1, S, C_2', cls=me.ReferenceFrame)"
   ]
  },
  {
   "cell_type": "markdown",
   "metadata": {},
   "source": [
    "Each of the bodies rotates about the axle. All rotations are relative to the yaw frame N."
   ]
  },
  {
   "cell_type": "code",
   "execution_count": 20,
   "metadata": {},
   "outputs": [],
   "source": [
    "N.orient(A, 'Axis', (q3, A.y))\n",
    "C1.orient(N, 'Axis', (q4, N.z))\n",
    "S.orient(N, 'Axis', (q5, N.z))\n",
    "C2.orient(N, 'Axis', (q6, N.z))"
   ]
  },
  {
   "cell_type": "code",
   "execution_count": 21,
   "metadata": {},
   "outputs": [],
   "source": [
    "O, Ss, C1s, C2s, C1p, C2p = sm.symbols('O, S*, C_1^*, C_2^*, C_1^p, C_2^p', cls=me.Point)"
   ]
  },
  {
   "cell_type": "code",
   "execution_count": 22,
   "metadata": {},
   "outputs": [],
   "source": [
    "Ss.set_pos(O, q1*A.x + q2*A.z + R*N.y + L*S.z)"
   ]
  },
  {
   "cell_type": "code",
   "execution_count": 23,
   "metadata": {},
   "outputs": [],
   "source": [
    "O.set_vel(A, 0)"
   ]
  },
  {
   "cell_type": "code",
   "execution_count": 24,
   "metadata": {},
   "outputs": [],
   "source": [
    "Ss.set_vel(A, Ss.pos_from(O).dt(A))"
   ]
  },
  {
   "cell_type": "code",
   "execution_count": 25,
   "metadata": {},
   "outputs": [
    {
     "data": {
      "image/png": "[encoded data removed]",
      "text/latex": [
       "$\\displaystyle \\dot{q}_{1}\\mathbf{\\hat{a}_x} + \\dot{q}_{2}\\mathbf{\\hat{a}_z} + L \\operatorname{cos}\\left(q_{5}\\right) \\dot{q}_{3}\\mathbf{\\hat{s}_x} -  L \\operatorname{sin}\\left(q_{5}\\right) \\dot{q}_{3}\\mathbf{\\hat{s}_y}$"
      ],
      "text/plain": [
       "q₁̇ a_x + q₂̇ a_z + L⋅cos(q₅)⋅q₃̇ s_x + -L⋅sin(q₅)⋅q₃̇ s_y"
      ]
     },
     "execution_count": 25,
     "metadata": {},
     "output_type": "execute_result"
    }
   ],
   "source": [
    "Ss.vel(A).simplify()"
   ]
  },
  {
   "cell_type": "code",
   "execution_count": 26,
   "metadata": {},
   "outputs": [
    {
     "data": {
      "image/png": "[encoded data removed]",
      "text/latex": [
       "$\\displaystyle \\dot{q}_{5}\\mathbf{\\hat{n}_z} + \\dot{q}_{3}\\mathbf{\\hat{a}_y}$"
      ],
      "text/plain": [
       "q₅̇ n_z + q₃̇ a_y"
      ]
     },
     "execution_count": 26,
     "metadata": {},
     "output_type": "execute_result"
    }
   ],
   "source": [
    "S.ang_vel_in(A)"
   ]
  },
  {
   "cell_type": "code",
   "execution_count": 27,
   "metadata": {},
   "outputs": [
    {
     "data": {
      "image/png": "[encoded data removed]",
      "text/latex": [
       "$\\displaystyle \\dot{q}_{4}\\mathbf{\\hat{n}_z} + \\dot{q}_{3}\\mathbf{\\hat{a}_y}$"
      ],
      "text/plain": [
       "q₄̇ n_z + q₃̇ a_y"
      ]
     },
     "execution_count": 27,
     "metadata": {},
     "output_type": "execute_result"
    }
   ],
   "source": [
    "C1.ang_vel_in(A)"
   ]
  },
  {
   "cell_type": "code",
   "execution_count": 28,
   "metadata": {},
   "outputs": [
    {
     "data": {
      "image/png": "[encoded data removed]",
      "text/latex": [
       "$\\displaystyle \\dot{q}_{6}\\mathbf{\\hat{n}_z} + \\dot{q}_{3}\\mathbf{\\hat{a}_y}$"
      ],
      "text/plain": [
       "q₆̇ n_z + q₃̇ a_y"
      ]
     },
     "execution_count": 28,
     "metadata": {},
     "output_type": "execute_result"
    }
   ],
   "source": [
    "C2.ang_vel_in(A)"
   ]
  },
  {
   "cell_type": "markdown",
   "metadata": {},
   "source": [
    "Make equations for each u:"
   ]
  },
  {
   "cell_type": "code",
   "execution_count": 29,
   "metadata": {},
   "outputs": [],
   "source": [
    "u_eqs = [sm.Eq(u1, Ss.vel(A).dot(N.x)),\n",
    "         sm.Eq(u2, S.ang_vel_in(A).dot(N.y)),\n",
    "         sm.Eq(u3, S.ang_vel_in(A).dot(N.z)),\n",
    "         sm.Eq(u4, C1.ang_vel_in(A).dot(N.z)),\n",
    "         sm.Eq(u5, C2.ang_vel_in(A).dot(N.z)),\n",
    "         sm.Eq(u6, Ss.vel(A).dot(N.z))]"
   ]
  },
  {
   "cell_type": "code",
   "execution_count": 30,
   "metadata": {},
   "outputs": [
    {
     "data": {
      "image/png": "[encoded data removed]",
      "text/latex": [
       "$\\displaystyle \\left[ u_{1} = L \\operatorname{sin}^{2}\\left(q_{5}\\right) \\dot{q}_{3} + L \\operatorname{cos}^{2}\\left(q_{5}\\right) \\dot{q}_{3} - \\operatorname{sin}\\left(q_{3}\\right) \\dot{q}_{2} + \\operatorname{cos}\\left(q_{3}\\right) \\dot{q}_{1}, \\  u_{2} = \\dot{q}_{3}, \\  u_{3} = \\dot{q}_{5}, \\  u_{4} = \\dot{q}_{4}, \\  u_{5} = \\dot{q}_{6}, \\  u_{6} = \\operatorname{sin}\\left(q_{3}\\right) \\dot{q}_{1} + \\operatorname{cos}\\left(q_{3}\\right) \\dot{q}_{2}\\right]$"
      ],
      "text/plain": [
       "⎡          2                2                                                 \n",
       "⎣u₁ = L⋅sin (q₅)⋅q₃̇ + L⋅cos (q₅)⋅q₃̇ - sin(q₃)⋅q₂̇ + cos(q₃)⋅q₁̇, u₂ = q₃̇, u\n",
       "\n",
       "                                                           ⎤\n",
       "₃ = q₅̇, u₄ = q₄̇, u₅ = q₆̇, u₆ = sin(q₃)⋅q₁̇ + cos(q₃)⋅q₂̇⎦"
      ]
     },
     "execution_count": 30,
     "metadata": {},
     "output_type": "execute_result"
    }
   ],
   "source": [
    "u_eqs"
   ]
  },
  {
   "cell_type": "code",
   "execution_count": 31,
   "metadata": {},
   "outputs": [
    {
     "data": {
      "image/png": "[encoded data removed]",
      "text/latex": [
       "$\\displaystyle \\left\\{ \\dot{q}_{1} : - L u_{2} \\operatorname{cos}\\left(q_{3}\\right) + u_{1} \\operatorname{cos}\\left(q_{3}\\right) + u_{6} \\operatorname{sin}\\left(q_{3}\\right), \\  \\dot{q}_{2} : L u_{2} \\operatorname{sin}\\left(q_{3}\\right) - u_{1} \\operatorname{sin}\\left(q_{3}\\right) + u_{6} \\operatorname{cos}\\left(q_{3}\\right), \\  \\dot{q}_{3} : u_{2}, \\  \\dot{q}_{4} : u_{4}, \\  \\dot{q}_{5} : u_{3}, \\  \\dot{q}_{6} : u_{5}\\right\\}$"
      ],
      "text/plain": [
       "{q₁̇: -L⋅u₂⋅cos(q₃) + u₁⋅cos(q₃) + u₆⋅sin(q₃), q₂̇: L⋅u₂⋅sin(q₃) - u₁⋅sin(q₃) \n",
       "+ u₆⋅cos(q₃), q₃̇: u₂, q₄̇: u₄, q₅̇: u₃, q₆̇: u₅}"
      ]
     },
     "execution_count": 31,
     "metadata": {},
     "output_type": "execute_result"
    }
   ],
   "source": [
    "qdots = sm.solve(u_eqs, *[q.diff() for q in (q1, q2, q3, q4, q5, q6)])\n",
    "qdots"
   ]
  },
  {
   "cell_type": "markdown",
   "metadata": {},
   "source": [
    "Redefine all of the velocities in terms of the u's."
   ]
  },
  {
   "cell_type": "code",
   "execution_count": 32,
   "metadata": {},
   "outputs": [],
   "source": [
    "Ss.set_vel(A, Ss.vel(A).simplify().subs(qdots))"
   ]
  },
  {
   "cell_type": "code",
   "execution_count": 33,
   "metadata": {},
   "outputs": [],
   "source": [
    "C1.set_ang_vel(A, C1.ang_vel_in(A).subs(qdots))"
   ]
  },
  {
   "cell_type": "code",
   "execution_count": 34,
   "metadata": {},
   "outputs": [],
   "source": [
    "C2.set_ang_vel(A, C2.ang_vel_in(A).subs(qdots))"
   ]
  },
  {
   "cell_type": "markdown",
   "metadata": {},
   "source": [
    "Calculate the contact point velocities so motion constraints can be formed."
   ]
  },
  {
   "cell_type": "code",
   "execution_count": 35,
   "metadata": {},
   "outputs": [],
   "source": [
    "C1p.set_pos(Ss, -L*N.z - R*N.y)\n",
    "C2p.set_pos(Ss, L*N.z - R*N.y)"
   ]
  },
  {
   "cell_type": "code",
   "execution_count": 36,
   "metadata": {},
   "outputs": [
    {
     "data": {
      "image/png": "[encoded data removed]",
      "text/latex": [
       "$\\displaystyle (- L u_{2} \\operatorname{cos}\\left(q_{3}\\right) + u_{1} \\operatorname{cos}\\left(q_{3}\\right) + u_{6} \\operatorname{sin}\\left(q_{3}\\right))\\mathbf{\\hat{a}_x} + (L u_{2} \\operatorname{sin}\\left(q_{3}\\right) - u_{1} \\operatorname{sin}\\left(q_{3}\\right) + u_{6} \\operatorname{cos}\\left(q_{3}\\right))\\mathbf{\\hat{a}_z} + L u_{2} \\operatorname{cos}\\left(q_{5}\\right)\\mathbf{\\hat{s}_x} -  L u_{2} \\operatorname{sin}\\left(q_{5}\\right)\\mathbf{\\hat{s}_y} + (- L u_{2} + R u_{4})\\mathbf{\\hat{n}_x}$"
      ],
      "text/plain": [
       "(-L⋅u₂⋅cos(q₃) + u₁⋅cos(q₃) + u₆⋅sin(q₃)) a_x + (L⋅u₂⋅sin(q₃) - u₁⋅sin(q₃) + u\n",
       "₆⋅cos(q₃)) a_z + L⋅u₂⋅cos(q₅) s_x + -L⋅u₂⋅sin(q₅) s_y + (-L⋅u₂ + R⋅u₄) n_x"
      ]
     },
     "execution_count": 36,
     "metadata": {},
     "output_type": "execute_result"
    }
   ],
   "source": [
    "A_v_C1p = C1p.v2pt_theory(Ss, A, C1).simplify()\n",
    "A_v_C1p"
   ]
  },
  {
   "cell_type": "code",
   "execution_count": 37,
   "metadata": {},
   "outputs": [
    {
     "data": {
      "image/png": "[encoded data removed]",
      "text/latex": [
       "$\\displaystyle (- L u_{2} \\operatorname{cos}\\left(q_{3}\\right) + u_{1} \\operatorname{cos}\\left(q_{3}\\right) + u_{6} \\operatorname{sin}\\left(q_{3}\\right))\\mathbf{\\hat{a}_x} + (L u_{2} \\operatorname{sin}\\left(q_{3}\\right) - u_{1} \\operatorname{sin}\\left(q_{3}\\right) + u_{6} \\operatorname{cos}\\left(q_{3}\\right))\\mathbf{\\hat{a}_z} + L u_{2} \\operatorname{cos}\\left(q_{5}\\right)\\mathbf{\\hat{s}_x} -  L u_{2} \\operatorname{sin}\\left(q_{5}\\right)\\mathbf{\\hat{s}_y} + (L u_{2} + R u_{5})\\mathbf{\\hat{n}_x}$"
      ],
      "text/plain": [
       "(-L⋅u₂⋅cos(q₃) + u₁⋅cos(q₃) + u₆⋅sin(q₃)) a_x + (L⋅u₂⋅sin(q₃) - u₁⋅sin(q₃) + u\n",
       "₆⋅cos(q₃)) a_z + L⋅u₂⋅cos(q₅) s_x + -L⋅u₂⋅sin(q₅) s_y + (L⋅u₂ + R⋅u₅) n_x"
      ]
     },
     "execution_count": 37,
     "metadata": {},
     "output_type": "execute_result"
    }
   ],
   "source": [
    "A_v_C2p = C2p.v2pt_theory(Ss, A, C2).simplify()\n",
    "A_v_C2p"
   ]
  },
  {
   "cell_type": "markdown",
   "metadata": {},
   "source": [
    "Form the expressions that should equate to zero:"
   ]
  },
  {
   "cell_type": "code",
   "execution_count": 38,
   "metadata": {},
   "outputs": [],
   "source": [
    "motion_con = [A_v_C1p.dot(N.x).simplify(),\n",
    "              A_v_C1p.dot(N.z).simplify(),\n",
    "              A_v_C2p.dot(N.x).simplify(),\n",
    "              A_v_C2p.dot(N.z).simplify()]"
   ]
  },
  {
   "cell_type": "markdown",
   "metadata": {},
   "source": [
    "Note that two constraints are redundant, so we can only solve for three dependent u's."
   ]
  },
  {
   "cell_type": "code",
   "execution_count": 39,
   "metadata": {},
   "outputs": [
    {
     "data": {
      "image/png": "[encoded data removed]",
      "text/latex": [
       "$\\displaystyle \\left[ - L u_{2} + R u_{4} + u_{1}, \\  u_{6}, \\  L u_{2} + R u_{5} + u_{1}, \\  u_{6}\\right]$"
      ],
      "text/plain": [
       "[-L⋅u₂ + R⋅u₄ + u₁, u₆, L⋅u₂ + R⋅u₅ + u₁, u₆]"
      ]
     },
     "execution_count": 39,
     "metadata": {},
     "output_type": "execute_result"
    }
   ],
   "source": [
    "motion_con"
   ]
  },
  {
   "cell_type": "code",
   "execution_count": 40,
   "metadata": {},
   "outputs": [],
   "source": [
    "dep_us = sm.solve(motion_con, u4, u5, u6)"
   ]
  },
  {
   "cell_type": "code",
   "execution_count": 41,
   "metadata": {},
   "outputs": [
    {
     "data": {
      "image/png": "[encoded data removed]",
      "text/latex": [
       "$\\displaystyle \\left\\{ u_{4} : \\frac{L u_{2} - u_{1}}{R}, \\  u_{5} : - \\frac{L u_{2} + u_{1}}{R}, \\  u_{6} : 0\\right\\}$"
      ],
      "text/plain": [
       "⎧    L⋅u₂ - u₁      -(L⋅u₂ + u₁)        ⎫\n",
       "⎨u₄: ─────────, u₅: ─────────────, u₆: 0⎬\n",
       "⎩        R                R             ⎭"
      ]
     },
     "execution_count": 41,
     "metadata": {},
     "output_type": "execute_result"
    }
   ],
   "source": [
    "dep_us"
   ]
  },
  {
   "cell_type": "markdown",
   "metadata": {},
   "source": [
    "I use a list comprehension to calculate the A terms for each dependent u."
   ]
  },
  {
   "cell_type": "code",
   "execution_count": 42,
   "metadata": {},
   "outputs": [
    {
     "data": {
      "image/png": "[encoded data removed]",
      "text/latex": [
       "$\\displaystyle \\left[ - \\frac{1}{R}, \\  \\frac{L}{R}, \\  0\\right]$"
      ],
      "text/plain": [
       "⎡-1   L   ⎤\n",
       "⎢───, ─, 0⎥\n",
       "⎣ R   R   ⎦"
      ]
     },
     "execution_count": 42,
     "metadata": {},
     "output_type": "execute_result"
    }
   ],
   "source": [
    "A4 = [dep_us[u4].diff(u) for u in (u1, u2, u3)]\n",
    "A4"
   ]
  },
  {
   "cell_type": "code",
   "execution_count": 43,
   "metadata": {},
   "outputs": [
    {
     "data": {
      "image/png": "[encoded data removed]",
      "text/latex": [
       "$\\displaystyle \\left[ - \\frac{1}{R}, \\  - \\frac{L}{R}, \\  0\\right]$"
      ],
      "text/plain": [
       "⎡-1   -L    ⎤\n",
       "⎢───, ───, 0⎥\n",
       "⎣ R    R    ⎦"
      ]
     },
     "execution_count": 43,
     "metadata": {},
     "output_type": "execute_result"
    }
   ],
   "source": [
    "A5 = [dep_us[u5].diff(u) for u in (u1, u2, u3)]\n",
    "A5"
   ]
  },
  {
   "cell_type": "code",
   "execution_count": 44,
   "metadata": {},
   "outputs": [
    {
     "data": {
      "image/png": "[encoded data removed]",
      "text/latex": [
       "$\\displaystyle \\left[ 0, \\  0, \\  0\\right]$"
      ],
      "text/plain": [
       "[0, 0, 0]"
      ]
     },
     "execution_count": 44,
     "metadata": {},
     "output_type": "execute_result"
    }
   ],
   "source": [
    "A6 = [dep_us[u6].diff(u) for u in (u1, u2, u3)]\n",
    "A6"
   ]
  },
  {
   "cell_type": "markdown",
   "metadata": {},
   "source": [
    "By inspection it is clear all the B terms would be zero."
   ]
  },
  {
   "cell_type": "markdown",
   "metadata": {},
   "source": [
    "# P4.13"
   ]
  },
  {
   "cell_type": "markdown",
   "metadata": {},
   "source": [
    "Repeat from 4.8:"
   ]
  },
  {
   "cell_type": "code",
   "execution_count": 45,
   "metadata": {},
   "outputs": [],
   "source": [
    "R = sm.symbols('R')\n",
    "q1, q2, q3, q4, q5 = me.dynamicsymbols('q1:6')\n",
    "u1, u2, u3, u4, u5 = me.dynamicsymbols('u1:6')\n",
    "A = me.ReferenceFrame('A')\n",
    "Y = me.ReferenceFrame('Y')  # intermediate frame so that simple rotations can be used\n",
    "B = me.ReferenceFrame('B')\n",
    "C = me.ReferenceFrame('C')\n",
    "Y.orient(A, 'Axis', (q1, A.z))\n",
    "B.orient(Y, 'Axis', (sm.pi/2 - q2, Y.x))\n",
    "C.orient(B, 'Axis', (q3, B.z))\n",
    "O, P, Cs, Ch = sm.symbols('O, P, Cs, Ch', cls=me.Point)\n",
    "P.set_pos(O, q4*A.x + q5*A.y)\n",
    "Cs.set_pos(P, R*B.y)\n",
    "O.set_vel(A, 0)\n",
    "P.set_vel(A, P.pos_from(O).dt(A))\n",
    "Cs.set_vel(A, Cs.pos_from(O).dt(A))\n",
    "Ch.set_pos(Cs, -R*B.y)\n",
    "Ch.v2pt_theory(Cs, A, C)\n",
    "u1_eq = sm.Eq(u1, C.ang_vel_in(A).dot(B.x))\n",
    "u2_eq = sm.Eq(u2, C.ang_vel_in(A).dot(B.y))\n",
    "u3_eq = sm.Eq(u3, C.ang_vel_in(A).dot(B.z))\n",
    "u4_eq = sm.Eq(u4, P.vel(A).dot(A.x))\n",
    "u5_eq = sm.Eq(u5, P.vel(A).dot(A.y))\n",
    "qdots = sm.solve([u1_eq, u2_eq, u3_eq, u4_eq, u5_eq], q1.diff(), q2.diff(), q3.diff(), q4.diff(), q5.diff())"
   ]
  },
  {
   "cell_type": "code",
   "execution_count": 46,
   "metadata": {},
   "outputs": [
    {
     "data": {
      "image/png": "[encoded data removed]",
      "text/latex": [
       "$\\displaystyle u_{1}\\mathbf{\\hat{b}_x} + u_{2}\\mathbf{\\hat{b}_y} + u_{3}\\mathbf{\\hat{b}_z}$"
      ],
      "text/plain": [
       "u₁ b_x + u₂ b_y + u₃ b_z"
      ]
     },
     "execution_count": 46,
     "metadata": {},
     "output_type": "execute_result"
    }
   ],
   "source": [
    "A_w_C = C.ang_vel_in(A).subs(qdots).express(B).simplify()\n",
    "A_w_C"
   ]
  },
  {
   "cell_type": "code",
   "execution_count": 47,
   "metadata": {},
   "outputs": [
    {
     "data": {
      "image/png": "[encoded data removed]",
      "text/latex": [
       "$\\displaystyle \\left[ \\mathbf{\\hat{b}_x}, \\  \\mathbf{\\hat{b}_y}, \\  \\mathbf{\\hat{b}_z}, \\  0, \\  0\\right]$"
      ],
      "text/plain": [
       "[b_x, b_y, b_z, 0, 0]"
      ]
     },
     "execution_count": 47,
     "metadata": {},
     "output_type": "execute_result"
    }
   ],
   "source": [
    "[A_w_C.diff(u, A) for u in (u1, u2, u3, u4, u5)]"
   ]
  },
  {
   "cell_type": "code",
   "execution_count": 48,
   "metadata": {},
   "outputs": [
    {
     "data": {
      "image/png": "[encoded data removed]",
      "text/latex": [
       "$\\displaystyle -  R u_{2} \\operatorname{tan}\\left(q_{2}\\right)\\mathbf{\\hat{b}_x} + R u_{1}\\mathbf{\\hat{b}_z} + u_{4}\\mathbf{\\hat{a}_x} + u_{5}\\mathbf{\\hat{a}_y}$"
      ],
      "text/plain": [
       "-R⋅u₂⋅tan(q₂) b_x + R⋅u₁ b_z + u₄ a_x + u₅ a_y"
      ]
     },
     "execution_count": 48,
     "metadata": {},
     "output_type": "execute_result"
    }
   ],
   "source": [
    "A_v_Cs = Cs.vel(A).subs(qdots).simplify()\n",
    "A_v_Cs"
   ]
  },
  {
   "cell_type": "code",
   "execution_count": 49,
   "metadata": {},
   "outputs": [
    {
     "data": {
      "image/png": "[encoded data removed]",
      "text/latex": [
       "$\\displaystyle \\left[ R\\mathbf{\\hat{b}_z}, \\  -  R \\operatorname{tan}\\left(q_{2}\\right)\\mathbf{\\hat{b}_x}, \\  0, \\  \\mathbf{\\hat{a}_x}, \\  \\mathbf{\\hat{a}_y}\\right]$"
      ],
      "text/plain": [
       "[R b_z, -R⋅tan(q₂) b_x, 0, a_x, a_y]"
      ]
     },
     "execution_count": 49,
     "metadata": {},
     "output_type": "execute_result"
    }
   ],
   "source": [
    "[A_v_Cs.diff(u, A) for u in (u1, u2, u3, u4, u5)]"
   ]
  },
  {
   "cell_type": "code",
   "execution_count": 50,
   "metadata": {},
   "outputs": [
    {
     "data": {
      "image/png": "[encoded data removed]",
      "text/latex": [
       "$\\displaystyle R \\left(- u_{2} \\operatorname{tan}\\left(q_{2}\\right) + u_{3}\\right)\\mathbf{\\hat{b}_x} + u_{4}\\mathbf{\\hat{a}_x} + u_{5}\\mathbf{\\hat{a}_y}$"
      ],
      "text/plain": [
       "R⋅(-u₂⋅tan(q₂) + u₃) b_x + u₄ a_x + u₅ a_y"
      ]
     },
     "execution_count": 50,
     "metadata": {},
     "output_type": "execute_result"
    }
   ],
   "source": [
    "A_v_Ch = Ch.vel(A).subs(qdots).simplify()\n",
    "A_v_Ch"
   ]
  },
  {
   "cell_type": "code",
   "execution_count": 51,
   "metadata": {},
   "outputs": [
    {
     "data": {
      "image/png": "[encoded data removed]",
      "text/latex": [
       "$\\displaystyle \\left[ 0, \\  -  R \\operatorname{tan}\\left(q_{2}\\right)\\mathbf{\\hat{b}_x}, \\  R\\mathbf{\\hat{b}_x}, \\  \\mathbf{\\hat{a}_x}, \\  \\mathbf{\\hat{a}_y}\\right]$"
      ],
      "text/plain": [
       "[0, -R⋅tan(q₂) b_x, R b_x, a_x, a_y]"
      ]
     },
     "execution_count": 51,
     "metadata": {},
     "output_type": "execute_result"
    }
   ],
   "source": [
    "[A_v_Ch.diff(u, A) for u in (u1, u2, u3, u4, u5)]"
   ]
  },
  {
   "cell_type": "markdown",
   "metadata": {},
   "source": [
    "# P4.14"
   ]
  },
  {
   "cell_type": "code",
   "execution_count": 52,
   "metadata": {},
   "outputs": [
    {
     "data": {
      "image/png": "[encoded data removed]",
      "text/latex": [
       "$\\displaystyle \\left[ R \\left(- u_{2} \\operatorname{tan}\\left(q_{2}\\right) + u_{3}\\right) + u_{4} \\operatorname{cos}\\left(q_{1}\\right) + u_{5} \\operatorname{sin}\\left(q_{1}\\right), \\  - u_{4} \\operatorname{sin}\\left(q_{1}\\right) + u_{5} \\operatorname{cos}\\left(q_{1}\\right)\\right]$"
      ],
      "text/plain": [
       "[R⋅(-u₂⋅tan(q₂) + u₃) + u₄⋅cos(q₁) + u₅⋅sin(q₁), -u₄⋅sin(q₁) + u₅⋅cos(q₁)]"
      ]
     },
     "execution_count": 52,
     "metadata": {},
     "output_type": "execute_result"
    }
   ],
   "source": [
    "motion_con = [A_v_Ch.dot(Y.x), A_v_Ch.dot(Y.y)]\n",
    "motion_con"
   ]
  },
  {
   "cell_type": "code",
   "execution_count": 53,
   "metadata": {},
   "outputs": [
    {
     "data": {
      "image/png": "[encoded data removed]",
      "text/latex": [
       "$\\displaystyle \\left\\{ u_{4} : R \\left(u_{2} \\operatorname{tan}\\left(q_{2}\\right) - u_{3}\\right) \\operatorname{cos}\\left(q_{1}\\right), \\  u_{5} : R \\left(u_{2} \\operatorname{tan}\\left(q_{2}\\right) - u_{3}\\right) \\operatorname{sin}\\left(q_{1}\\right)\\right\\}$"
      ],
      "text/plain": [
       "{u₄: R⋅(u₂⋅tan(q₂) - u₃)⋅cos(q₁), u₅: R⋅(u₂⋅tan(q₂) - u₃)⋅sin(q₁)}"
      ]
     },
     "execution_count": 53,
     "metadata": {},
     "output_type": "execute_result"
    }
   ],
   "source": [
    "dep_us = sm.solve(motion_con, u4, u5)\n",
    "dep_us"
   ]
  },
  {
   "cell_type": "code",
   "execution_count": 54,
   "metadata": {},
   "outputs": [
    {
     "data": {
      "image/png": "[encoded data removed]",
      "text/latex": [
       "$\\displaystyle u_{1}\\mathbf{\\hat{b}_x} + u_{2}\\mathbf{\\hat{b}_y} + u_{3}\\mathbf{\\hat{b}_z}$"
      ],
      "text/plain": [
       "u₁ b_x + u₂ b_y + u₃ b_z"
      ]
     },
     "execution_count": 54,
     "metadata": {},
     "output_type": "execute_result"
    }
   ],
   "source": [
    "A_w_C.subs(dep_us)"
   ]
  },
  {
   "cell_type": "code",
   "execution_count": 55,
   "metadata": {},
   "outputs": [
    {
     "data": {
      "image/png": "[encoded data removed]",
      "text/latex": [
       "$\\displaystyle \\left[ \\mathbf{\\hat{b}_x}, \\  \\mathbf{\\hat{b}_y}, \\  \\mathbf{\\hat{b}_z}\\right]$"
      ],
      "text/plain": [
       "[b_x, b_y, b_z]"
      ]
     },
     "execution_count": 55,
     "metadata": {},
     "output_type": "execute_result"
    }
   ],
   "source": [
    "[A_w_C.subs(dep_us).diff(u, A) for u in (u1, u2, u3)]"
   ]
  },
  {
   "cell_type": "code",
   "execution_count": 56,
   "metadata": {},
   "outputs": [
    {
     "data": {
      "image/png": "[encoded data removed]",
      "text/latex": [
       "$\\displaystyle (R \\left(u_{2} \\operatorname{tan}\\left(q_{2}\\right) - u_{3}\\right) \\operatorname{sin}^{2}\\left(q_{1}\\right) + R \\left(u_{2} \\operatorname{tan}\\left(q_{2}\\right) - u_{3}\\right) \\operatorname{cos}^{2}\\left(q_{1}\\right) - R u_{2} \\operatorname{tan}\\left(q_{2}\\right))\\mathbf{\\hat{b}_x} + R u_{1}\\mathbf{\\hat{b}_z}$"
      ],
      "text/plain": [
       "⎛                       2                              2                   ⎞\n",
       "⎝R⋅(u₂⋅tan(q₂) - u₃)⋅sin (q₁) + R⋅(u₂⋅tan(q₂) - u₃)⋅cos (q₁) - R⋅u₂⋅tan(q₂)⎠ b\n",
       "\n",
       "\n",
       "_x + R⋅u₁ b_z"
      ]
     },
     "execution_count": 56,
     "metadata": {},
     "output_type": "execute_result"
    }
   ],
   "source": [
    "A_v_Cs = A_v_Cs.subs(dep_us).express(B)\n",
    "A_v_Cs"
   ]
  },
  {
   "cell_type": "code",
   "execution_count": 57,
   "metadata": {},
   "outputs": [
    {
     "data": {
      "image/png": "[encoded data removed]",
      "text/latex": [
       "$\\displaystyle \\left[ R\\mathbf{\\hat{b}_z}, \\  0, \\  -  R\\mathbf{\\hat{b}_x}\\right]$"
      ],
      "text/plain": [
       "[R b_z, 0, -R b_x]"
      ]
     },
     "execution_count": 57,
     "metadata": {},
     "output_type": "execute_result"
    }
   ],
   "source": [
    "[A_v_Cs.diff(u, A).simplify() for u in (u1, u2, u3)]"
   ]
  },
  {
   "cell_type": "code",
   "execution_count": 58,
   "metadata": {},
   "outputs": [
    {
     "data": {
      "image/png": "[encoded data removed]",
      "text/latex": [
       "$\\displaystyle (R \\left(- u_{2} \\operatorname{tan}\\left(q_{2}\\right) + u_{3}\\right) + R \\left(u_{2} \\operatorname{tan}\\left(q_{2}\\right) - u_{3}\\right) \\operatorname{sin}^{2}\\left(q_{1}\\right) + R \\left(u_{2} \\operatorname{tan}\\left(q_{2}\\right) - u_{3}\\right) \\operatorname{cos}^{2}\\left(q_{1}\\right))\\mathbf{\\hat{b}_x}$"
      ],
      "text/plain": [
       "⎛                                              2\n",
       "⎝R⋅(-u₂⋅tan(q₂) + u₃) + R⋅(u₂⋅tan(q₂) - u₃)⋅sin (q₁) + R⋅(u₂⋅tan(q₂) - u₃)⋅cos\n",
       "\n",
       "2    ⎞\n",
       " (q₁)⎠ b_x"
      ]
     },
     "execution_count": 58,
     "metadata": {},
     "output_type": "execute_result"
    }
   ],
   "source": [
    "A_v_Ch = A_v_Ch.subs(dep_us).express(B)\n",
    "A_v_Ch"
   ]
  },
  {
   "cell_type": "code",
   "execution_count": 59,
   "metadata": {},
   "outputs": [
    {
     "data": {
      "image/png": "[encoded data removed]",
      "text/latex": [
       "$\\displaystyle \\left[ 0, \\  0, \\  0\\right]$"
      ],
      "text/plain": [
       "[0, 0, 0]"
      ]
     },
     "execution_count": 59,
     "metadata": {},
     "output_type": "execute_result"
    }
   ],
   "source": [
    "[A_v_Ch.diff(u, A).simplify() for u in (u1, u2, u3)]"
   ]
  }
 ],
 "metadata": {
  "kernelspec": {
   "display_name": "Python 3",
   "language": "python",
   "name": "python3"
  },
  "language_info": {
   "codemirror_mode": {
    "name": "ipython",
    "version": 3
   },
   "file_extension": ".py",
   "mimetype": "text/x-python",
   "name": "python",
   "nbconvert_exporter": "python",
   "pygments_lexer": "ipython3",
   "version": "3.6.7"
  }
 },
 "nbformat": 4,
 "nbformat_minor": 4
}
