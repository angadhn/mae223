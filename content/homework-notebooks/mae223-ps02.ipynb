{
 "cells": [
  {
   "cell_type": "markdown",
   "metadata": {},
   "source": [
    "## Solutions to Problem Set 2 in \"Dynamics: Theory and Applications, Kane and Levinson 1985\""
   ]
  },
  {
   "cell_type": "code",
   "execution_count": 1,
   "metadata": {},
   "outputs": [],
   "source": [
    "import sympy as sm\n",
    "import sympy.physics.mechanics as me"
   ]
  },
  {
   "cell_type": "code",
   "execution_count": 2,
   "metadata": {},
   "outputs": [],
   "source": [
    "me.init_vprinting()"
   ]
  },
  {
   "cell_type": "markdown",
   "metadata": {},
   "source": [
    "# Problem 2.2\n",
    "\n",
    "# Solution 1"
   ]
  },
  {
   "cell_type": "code",
   "execution_count": 3,
   "metadata": {},
   "outputs": [],
   "source": [
    "q1, q2, q3 = me.dynamicsymbols('q1:4')"
   ]
  },
  {
   "cell_type": "code",
   "execution_count": 4,
   "metadata": {},
   "outputs": [],
   "source": [
    "s1 = sm.sin(q1)\n",
    "c1 = sm.cos(q1)\n",
    "s2 = sm.sin(q2)\n",
    "c2 = sm.cos(q2)\n",
    "s3 = sm.sin(q3)\n",
    "c3 = sm.cos(q3)"
   ]
  },
  {
   "cell_type": "code",
   "execution_count": 5,
   "metadata": {},
   "outputs": [],
   "source": [
    "A = me.ReferenceFrame('A')\n",
    "B = me.ReferenceFrame('B')"
   ]
  },
  {
   "cell_type": "markdown",
   "metadata": {},
   "source": [
    "The A frame unit vectors can be written as follows based on the provided table:"
   ]
  },
  {
   "cell_type": "code",
   "execution_count": 6,
   "metadata": {},
   "outputs": [],
   "source": [
    "ax = c2*c3*B.x + (s1*s2*c3 - s3*c1)*B.y + (c1*s2*c3 + s3*s1)*B.z\n",
    "ay = c2*s3*B.x + (s1*s2*s3 + c3*c1)*B.y + (c1*s2*s3 - c3*s1)*B.z\n",
    "az = -s2*B.x + s1*c2*B.y + c1*c2*B.z"
   ]
  },
  {
   "cell_type": "markdown",
   "metadata": {},
   "source": [
    "Since these are expressed in the B frame, the defintion of angular velocity can be applied to find the angular velocity of A in B."
   ]
  },
  {
   "cell_type": "code",
   "execution_count": 7,
   "metadata": {},
   "outputs": [
    {
     "data": {
      "image/png": "[encoded data removed]",
      "text/latex": [
       "$\\displaystyle (\\operatorname{sin}\\left(q_{3}\\right) \\dot{q}_{2} - \\operatorname{cos}\\left(q_{2}\\right) \\operatorname{cos}\\left(q_{3}\\right) \\dot{q}_{1})\\mathbf{\\hat{a}_x} + (- \\operatorname{sin}\\left(q_{3}\\right) \\operatorname{cos}\\left(q_{2}\\right) \\dot{q}_{1} - \\operatorname{cos}\\left(q_{3}\\right) \\dot{q}_{2})\\mathbf{\\hat{a}_y} + (\\operatorname{sin}\\left(q_{2}\\right) \\dot{q}_{1} - \\dot{q}_{3})\\mathbf{\\hat{a}_z}$"
      ],
      "text/plain": [
       "(sin(q₃)⋅q₂̇ - cos(q₂)⋅cos(q₃)⋅q₁̇) a_x + (-sin(q₃)⋅cos(q₂)⋅q₁̇ - cos(q₃)⋅q₂̇)\n",
       " a_y + (sin(q₂)⋅q₁̇ - q₃̇) a_z"
      ]
     },
     "execution_count": 7,
     "metadata": {},
     "output_type": "execute_result"
    }
   ],
   "source": [
    "BwA = ay.dt(B).dot(az)*A.x + az.dt(B).dot(ax)*A.y + ax.dt(B).dot(ay)*A.z\n",
    "BwA.simplify()"
   ]
  },
  {
   "cell_type": "code",
   "execution_count": 8,
   "metadata": {},
   "outputs": [],
   "source": [
    "AwB = -BwA"
   ]
  },
  {
   "cell_type": "markdown",
   "metadata": {},
   "source": [
    "$\\alpha_2$ is then the $\\hat{\\mathbf{a}}_y$ measure number."
   ]
  },
  {
   "cell_type": "code",
   "execution_count": 9,
   "metadata": {},
   "outputs": [
    {
     "data": {
      "image/png": "[encoded data removed]",
      "text/latex": [
       "$\\displaystyle \\operatorname{sin}\\left(q_{3}\\right) \\operatorname{cos}\\left(q_{2}\\right) \\dot{q}_{1} + \\operatorname{cos}\\left(q_{3}\\right) \\dot{q}_{2}$"
      ],
      "text/plain": [
       "sin(q₃)⋅cos(q₂)⋅q₁̇ + cos(q₃)⋅q₂̇"
      ]
     },
     "execution_count": 9,
     "metadata": {},
     "output_type": "execute_result"
    }
   ],
   "source": [
    "alpha2 = AwB.dot(A.y)\n",
    "alpha2.simplify()"
   ]
  },
  {
   "cell_type": "code",
   "execution_count": 10,
   "metadata": {},
   "outputs": [],
   "source": [
    "bx = c2*c3*A.x + c2*s3*A.y -s2*A.z\n",
    "by = (s1*s2*c3 - s3*c1)*A.x + (s1*s2*s3 + c3*c1)*A.y + s1*c2*A.z\n",
    "bz = (c1*s2*c3 + s3*s1)*A.x + (c1*s2*s3 - c3*s1)*A.y + c1*c2*A.z"
   ]
  },
  {
   "cell_type": "code",
   "execution_count": 11,
   "metadata": {},
   "outputs": [
    {
     "data": {
      "image/png": "[encoded data removed]",
      "text/latex": [
       "$\\displaystyle (- \\operatorname{sin}\\left(q_{2}\\right) \\dot{q}_{3} + \\dot{q}_{1})\\mathbf{\\hat{b}_x} + (\\operatorname{sin}\\left(q_{1}\\right) \\operatorname{cos}\\left(q_{2}\\right) \\dot{q}_{3} + \\operatorname{cos}\\left(q_{1}\\right) \\dot{q}_{2})\\mathbf{\\hat{b}_y} + (- \\operatorname{sin}\\left(q_{1}\\right) \\dot{q}_{2} + \\operatorname{cos}\\left(q_{1}\\right) \\operatorname{cos}\\left(q_{2}\\right) \\dot{q}_{3})\\mathbf{\\hat{b}_z}$"
      ],
      "text/plain": [
       "(-sin(q₂)⋅q₃̇ + q₁̇) b_x + (sin(q₁)⋅cos(q₂)⋅q₃̇ + cos(q₁)⋅q₂̇) b_y + (-sin(q₁)\n",
       "⋅q₂̇ + cos(q₁)⋅cos(q₂)⋅q₃̇) b_z"
      ]
     },
     "execution_count": 11,
     "metadata": {},
     "output_type": "execute_result"
    }
   ],
   "source": [
    "AwB = by.dt(A).dot(bz)*B.x + bz.dt(A).dot(bx)*B.y + bx.dt(A).dot(by)*B.z\n",
    "AwB.simplify()"
   ]
  },
  {
   "cell_type": "code",
   "execution_count": 12,
   "metadata": {},
   "outputs": [
    {
     "data": {
      "image/png": "[encoded data removed]",
      "text/latex": [
       "$\\displaystyle \\operatorname{sin}\\left(q_{1}\\right) \\operatorname{cos}\\left(q_{2}\\right) \\dot{q}_{3} + \\operatorname{cos}\\left(q_{1}\\right) \\dot{q}_{2}$"
      ],
      "text/plain": [
       "sin(q₁)⋅cos(q₂)⋅q₃̇ + cos(q₁)⋅q₂̇"
      ]
     },
     "execution_count": 12,
     "metadata": {},
     "output_type": "execute_result"
    }
   ],
   "source": [
    "beta2 = AwB.dot(B.y)\n",
    "beta2.simplify()"
   ]
  },
  {
   "cell_type": "markdown",
   "metadata": {},
   "source": [
    "## Solution 2 (don't use!)"
   ]
  },
  {
   "cell_type": "markdown",
   "metadata": {},
   "source": [
    "If the table is written verbatim as a matrix, it represents the direction cosine matrix of A relative to B. Meaning we have:\n",
    "\n",
    "$$\n",
    "\\begin{bmatrix}\n",
    "  \\hat{\\mathbf{a}}_1 \\\\\n",
    "  \\hat{\\mathbf{a}}_2 \\\\\n",
    "  \\hat{\\mathbf{a}}_3\n",
    "\\end{bmatrix}\n",
    "=\n",
    "^B\\mathbf{C}^A\n",
    "\\begin{bmatrix}\n",
    "  \\hat{\\mathbf{b}}_1 \\\\\n",
    "  \\hat{\\mathbf{b}}_2 \\\\\n",
    "  \\hat{\\mathbf{b}}_3\n",
    "\\end{bmatrix}\n",
    "$$\n",
    "\n",
    "where $^B\\mathbf{C}^A$ is the direction cosine matrix of A relative to B."
   ]
  },
  {
   "cell_type": "code",
   "execution_count": 13,
   "metadata": {},
   "outputs": [
    {
     "data": {
      "text/latex": [
       "$\\displaystyle \\left[\\begin{matrix}\\operatorname{cos}\\left(q_{2}\\right) \\operatorname{cos}\\left(q_{3}\\right) & \\operatorname{sin}\\left(q_{1}\\right) \\operatorname{sin}\\left(q_{2}\\right) \\operatorname{cos}\\left(q_{3}\\right) - \\operatorname{sin}\\left(q_{3}\\right) \\operatorname{cos}\\left(q_{1}\\right) & \\operatorname{sin}\\left(q_{1}\\right) \\operatorname{sin}\\left(q_{3}\\right) + \\operatorname{sin}\\left(q_{2}\\right) \\operatorname{cos}\\left(q_{1}\\right) \\operatorname{cos}\\left(q_{3}\\right)\\\\\\operatorname{sin}\\left(q_{3}\\right) \\operatorname{cos}\\left(q_{2}\\right) & \\operatorname{sin}\\left(q_{1}\\right) \\operatorname{sin}\\left(q_{2}\\right) \\operatorname{sin}\\left(q_{3}\\right) + \\operatorname{cos}\\left(q_{1}\\right) \\operatorname{cos}\\left(q_{3}\\right) & - \\operatorname{sin}\\left(q_{1}\\right) \\operatorname{cos}\\left(q_{3}\\right) + \\operatorname{sin}\\left(q_{2}\\right) \\operatorname{sin}\\left(q_{3}\\right) \\operatorname{cos}\\left(q_{1}\\right)\\\\- \\operatorname{sin}\\left(q_{2}\\right) & \\operatorname{sin}\\left(q_{1}\\right) \\operatorname{cos}\\left(q_{2}\\right) & \\operatorname{cos}\\left(q_{1}\\right) \\operatorname{cos}\\left(q_{2}\\right)\\end{matrix}\\right]$"
      ],
      "text/plain": [
       "⎡cos(q₂)⋅cos(q₃)  sin(q₁)⋅sin(q₂)⋅cos(q₃) - sin(q₃)⋅cos(q₁)  sin(q₁)⋅sin(q₃) +\n",
       "⎢                                                                             \n",
       "⎢sin(q₃)⋅cos(q₂)  sin(q₁)⋅sin(q₂)⋅sin(q₃) + cos(q₁)⋅cos(q₃)  -sin(q₁)⋅cos(q₃) \n",
       "⎢                                                                             \n",
       "⎣   -sin(q₂)                   sin(q₁)⋅cos(q₂)                            cos(\n",
       "\n",
       " sin(q₂)⋅cos(q₁)⋅cos(q₃) ⎤\n",
       "                         ⎥\n",
       "+ sin(q₂)⋅sin(q₃)⋅cos(q₁)⎥\n",
       "                         ⎥\n",
       "q₁)⋅cos(q₂)              ⎦"
      ]
     },
     "execution_count": 13,
     "metadata": {},
     "output_type": "execute_result"
    }
   ],
   "source": [
    "dcm_A_rel_B = sm.Matrix([[c2*c3, s1*s2*c3 - s3*c1, c1*s2*c3 + s3*s1],\n",
    "                         [c2*s3, s1*s2*s3 + c3*c1, c1*s2*s3 - c3*s1],\n",
    "                         [-s2,   s1*c2,            c1*c2]])\n",
    "dcm_A_rel_B"
   ]
  },
  {
   "cell_type": "markdown",
   "metadata": {},
   "source": [
    "B can be oriented with respect to A by using this direction cosine matrix, but it to do so you provide the DCM of A relative to B."
   ]
  },
  {
   "cell_type": "code",
   "execution_count": 14,
   "metadata": {},
   "outputs": [],
   "source": [
    "A = me.ReferenceFrame('A')\n",
    "B = me.ReferenceFrame('B')\n",
    "B.orient(A, 'DCM', dcm_A_rel_B)"
   ]
  },
  {
   "cell_type": "markdown",
   "metadata": {},
   "source": [
    "The `.dcm()` method returns the direction cosine matrix of B relative to A. Note that this is the transpose of the provided DCM."
   ]
  },
  {
   "cell_type": "code",
   "execution_count": 15,
   "metadata": {},
   "outputs": [
    {
     "data": {
      "text/latex": [
       "$\\displaystyle \\left[\\begin{matrix}\\operatorname{cos}\\left(q_{2}\\right) \\operatorname{cos}\\left(q_{3}\\right) & \\operatorname{sin}\\left(q_{3}\\right) \\operatorname{cos}\\left(q_{2}\\right) & - \\operatorname{sin}\\left(q_{2}\\right)\\\\\\operatorname{sin}\\left(q_{1}\\right) \\operatorname{sin}\\left(q_{2}\\right) \\operatorname{cos}\\left(q_{3}\\right) - \\operatorname{sin}\\left(q_{3}\\right) \\operatorname{cos}\\left(q_{1}\\right) & \\operatorname{sin}\\left(q_{1}\\right) \\operatorname{sin}\\left(q_{2}\\right) \\operatorname{sin}\\left(q_{3}\\right) + \\operatorname{cos}\\left(q_{1}\\right) \\operatorname{cos}\\left(q_{3}\\right) & \\operatorname{sin}\\left(q_{1}\\right) \\operatorname{cos}\\left(q_{2}\\right)\\\\\\operatorname{sin}\\left(q_{1}\\right) \\operatorname{sin}\\left(q_{3}\\right) + \\operatorname{sin}\\left(q_{2}\\right) \\operatorname{cos}\\left(q_{1}\\right) \\operatorname{cos}\\left(q_{3}\\right) & - \\operatorname{sin}\\left(q_{1}\\right) \\operatorname{cos}\\left(q_{3}\\right) + \\operatorname{sin}\\left(q_{2}\\right) \\operatorname{sin}\\left(q_{3}\\right) \\operatorname{cos}\\left(q_{1}\\right) & \\operatorname{cos}\\left(q_{1}\\right) \\operatorname{cos}\\left(q_{2}\\right)\\end{matrix}\\right]$"
      ],
      "text/plain": [
       "⎡             cos(q₂)⋅cos(q₃)                            sin(q₃)⋅cos(q₂)      \n",
       "⎢                                                                             \n",
       "⎢sin(q₁)⋅sin(q₂)⋅cos(q₃) - sin(q₃)⋅cos(q₁)  sin(q₁)⋅sin(q₂)⋅sin(q₃) + cos(q₁)⋅\n",
       "⎢                                                                             \n",
       "⎣sin(q₁)⋅sin(q₃) + sin(q₂)⋅cos(q₁)⋅cos(q₃)  -sin(q₁)⋅cos(q₃) + sin(q₂)⋅sin(q₃)\n",
       "\n",
       "             -sin(q₂)    ⎤\n",
       "                         ⎥\n",
       "cos(q₃)   sin(q₁)⋅cos(q₂)⎥\n",
       "                         ⎥\n",
       "⋅cos(q₁)  cos(q₁)⋅cos(q₂)⎦"
      ]
     },
     "execution_count": 15,
     "metadata": {},
     "output_type": "execute_result"
    }
   ],
   "source": [
    "B.dcm(A)"
   ]
  },
  {
   "cell_type": "markdown",
   "metadata": {},
   "source": [
    "You can get back the original DCM with the following, which is the DCM of A relative to B."
   ]
  },
  {
   "cell_type": "code",
   "execution_count": 16,
   "metadata": {},
   "outputs": [
    {
     "data": {
      "text/latex": [
       "$\\displaystyle \\left[\\begin{matrix}\\operatorname{cos}\\left(q_{2}\\right) \\operatorname{cos}\\left(q_{3}\\right) & \\operatorname{sin}\\left(q_{1}\\right) \\operatorname{sin}\\left(q_{2}\\right) \\operatorname{cos}\\left(q_{3}\\right) - \\operatorname{sin}\\left(q_{3}\\right) \\operatorname{cos}\\left(q_{1}\\right) & \\operatorname{sin}\\left(q_{1}\\right) \\operatorname{sin}\\left(q_{3}\\right) + \\operatorname{sin}\\left(q_{2}\\right) \\operatorname{cos}\\left(q_{1}\\right) \\operatorname{cos}\\left(q_{3}\\right)\\\\\\operatorname{sin}\\left(q_{3}\\right) \\operatorname{cos}\\left(q_{2}\\right) & \\operatorname{sin}\\left(q_{1}\\right) \\operatorname{sin}\\left(q_{2}\\right) \\operatorname{sin}\\left(q_{3}\\right) + \\operatorname{cos}\\left(q_{1}\\right) \\operatorname{cos}\\left(q_{3}\\right) & - \\operatorname{sin}\\left(q_{1}\\right) \\operatorname{cos}\\left(q_{3}\\right) + \\operatorname{sin}\\left(q_{2}\\right) \\operatorname{sin}\\left(q_{3}\\right) \\operatorname{cos}\\left(q_{1}\\right)\\\\- \\operatorname{sin}\\left(q_{2}\\right) & \\operatorname{sin}\\left(q_{1}\\right) \\operatorname{cos}\\left(q_{2}\\right) & \\operatorname{cos}\\left(q_{1}\\right) \\operatorname{cos}\\left(q_{2}\\right)\\end{matrix}\\right]$"
      ],
      "text/plain": [
       "⎡cos(q₂)⋅cos(q₃)  sin(q₁)⋅sin(q₂)⋅cos(q₃) - sin(q₃)⋅cos(q₁)  sin(q₁)⋅sin(q₃) +\n",
       "⎢                                                                             \n",
       "⎢sin(q₃)⋅cos(q₂)  sin(q₁)⋅sin(q₂)⋅sin(q₃) + cos(q₁)⋅cos(q₃)  -sin(q₁)⋅cos(q₃) \n",
       "⎢                                                                             \n",
       "⎣   -sin(q₂)                   sin(q₁)⋅cos(q₂)                            cos(\n",
       "\n",
       " sin(q₂)⋅cos(q₁)⋅cos(q₃) ⎤\n",
       "                         ⎥\n",
       "+ sin(q₂)⋅sin(q₃)⋅cos(q₁)⎥\n",
       "                         ⎥\n",
       "q₁)⋅cos(q₂)              ⎦"
      ]
     },
     "execution_count": 16,
     "metadata": {},
     "output_type": "execute_result"
    }
   ],
   "source": [
    "A.dcm(B)"
   ]
  },
  {
   "cell_type": "markdown",
   "metadata": {},
   "source": [
    "Once that is set, the angular velocity of B in A can be calculated."
   ]
  },
  {
   "cell_type": "code",
   "execution_count": 17,
   "metadata": {},
   "outputs": [
    {
     "data": {
      "image/png": "[encoded data removed]",
      "text/latex": [
       "$\\displaystyle (\\operatorname{sin}\\left(q_{2}\\right) \\dot{q}_{3} - \\dot{q}_{1})\\mathbf{\\hat{b}_x} + (- \\operatorname{sin}\\left(q_{1}\\right) \\operatorname{cos}\\left(q_{2}\\right) \\dot{q}_{3} - \\operatorname{cos}\\left(q_{1}\\right) \\dot{q}_{2})\\mathbf{\\hat{b}_y} + (\\operatorname{sin}\\left(q_{1}\\right) \\dot{q}_{2} - \\operatorname{cos}\\left(q_{1}\\right) \\operatorname{cos}\\left(q_{2}\\right) \\dot{q}_{3})\\mathbf{\\hat{b}_z}$"
      ],
      "text/plain": [
       "(sin(q₂)⋅q₃̇ - q₁̇) b_x + (-sin(q₁)⋅cos(q₂)⋅q₃̇ - cos(q₁)⋅q₂̇) b_y + (sin(q₁)⋅\n",
       "q₂̇ - cos(q₁)⋅cos(q₂)⋅q₃̇) b_z"
      ]
     },
     "execution_count": 17,
     "metadata": {},
     "output_type": "execute_result"
    }
   ],
   "source": [
    "AwB = B.ang_vel_in(A)\n",
    "AwB"
   ]
  },
  {
   "cell_type": "markdown",
   "metadata": {},
   "source": [
    "Once the angular velocity vector is available, getting the measure numbers are a couple of dot products away:"
   ]
  },
  {
   "cell_type": "code",
   "execution_count": 18,
   "metadata": {},
   "outputs": [
    {
     "data": {
      "image/png": "[encoded data removed]",
      "text/latex": [
       "$\\displaystyle - \\operatorname{sin}\\left(q_{3}\\right) \\operatorname{cos}\\left(q_{2}\\right) \\dot{q}_{1} - \\operatorname{cos}\\left(q_{3}\\right) \\dot{q}_{2}$"
      ],
      "text/plain": [
       "-sin(q₃)⋅cos(q₂)⋅q₁̇ - cos(q₃)⋅q₂̇"
      ]
     },
     "execution_count": 18,
     "metadata": {},
     "output_type": "execute_result"
    }
   ],
   "source": [
    "alpha2 = AwB.dot(A.y)\n",
    "alpha2.simplify()"
   ]
  },
  {
   "cell_type": "code",
   "execution_count": 19,
   "metadata": {},
   "outputs": [
    {
     "data": {
      "image/png": "[encoded data removed]",
      "text/latex": [
       "$\\displaystyle - \\operatorname{sin}\\left(q_{1}\\right) \\operatorname{cos}\\left(q_{2}\\right) \\dot{q}_{3} - \\operatorname{cos}\\left(q_{1}\\right) \\dot{q}_{2}$"
      ],
      "text/plain": [
       "-sin(q₁)⋅cos(q₂)⋅q₃̇ - cos(q₁)⋅q₂̇"
      ]
     },
     "execution_count": 19,
     "metadata": {},
     "output_type": "execute_result"
    }
   ],
   "source": [
    "beta2 = AwB.dot(B.y)\n",
    "beta2.simplify()"
   ]
  },
  {
   "cell_type": "markdown",
   "metadata": {},
   "source": [
    "The sign of these vectors is opposite that of the book. This is a bug that was introduced in SymPy 1.3. It was fixed for SymPy 1.5 here: https://github.com/sympy/sympy/pull/16828 so don't use this method until SymPy 1.5 is out (or use SymPy < 1.3)."
   ]
  },
  {
   "cell_type": "markdown",
   "metadata": {},
   "source": [
    "# Problem 2.3"
   ]
  },
  {
   "cell_type": "code",
   "execution_count": 20,
   "metadata": {},
   "outputs": [],
   "source": [
    "A = me.ReferenceFrame('A')\n",
    "B = A.orientnew('B', 'Axis', (q1, A.x))\n",
    "C = B.orientnew('C', 'Axis', (q2, B.y))\n",
    "D = C.orientnew('D', 'Axis', (q3, C.z))"
   ]
  },
  {
   "cell_type": "markdown",
   "metadata": {},
   "source": [
    "Using the definition:"
   ]
  },
  {
   "cell_type": "code",
   "execution_count": 21,
   "metadata": {},
   "outputs": [
    {
     "data": {
      "image/png": "[encoded data removed]",
      "text/latex": [
       "$\\displaystyle -  \\operatorname{sin}\\left(q_{2}\\right) \\dot{q}_{3}\\mathbf{\\hat{b}_x} -  \\dot{q}_{2}\\mathbf{\\hat{b}_y} -  \\operatorname{cos}\\left(q_{2}\\right) \\dot{q}_{3}\\mathbf{\\hat{b}_z}$"
      ],
      "text/plain": [
       "-sin(q₂)⋅q₃̇ b_x + -q₂̇ b_y + -cos(q₂)⋅q₃̇ b_z"
      ]
     },
     "execution_count": 21,
     "metadata": {},
     "output_type": "execute_result"
    }
   ],
   "source": [
    "DwB = B.y.dt(D).dot(B.z)*B.x + B.z.dt(D).dot(B.x)*B.y + B.x.dt(D).dot(B.y)*B.z\n",
    "DwB.simplify()"
   ]
  },
  {
   "cell_type": "markdown",
   "metadata": {},
   "source": [
    "Gives same result as:"
   ]
  },
  {
   "cell_type": "code",
   "execution_count": 22,
   "metadata": {},
   "outputs": [
    {
     "data": {
      "image/png": "[encoded data removed]",
      "text/latex": [
       "$\\displaystyle -  \\operatorname{sin}\\left(q_{2}\\right) \\dot{q}_{3}\\mathbf{\\hat{b}_x} -  \\dot{q}_{2}\\mathbf{\\hat{b}_y} -  \\operatorname{cos}\\left(q_{2}\\right) \\dot{q}_{3}\\mathbf{\\hat{b}_z}$"
      ],
      "text/plain": [
       "-sin(q₂)⋅q₃̇ b_x + -q₂̇ b_y + -cos(q₂)⋅q₃̇ b_z"
      ]
     },
     "execution_count": 22,
     "metadata": {},
     "output_type": "execute_result"
    }
   ],
   "source": [
    "DwB = B.ang_vel_in(D).express(B)\n",
    "DwB"
   ]
  },
  {
   "cell_type": "markdown",
   "metadata": {},
   "source": [
    "Verify that the sum of the two angular velocities also gives the same result:"
   ]
  },
  {
   "cell_type": "code",
   "execution_count": 23,
   "metadata": {},
   "outputs": [],
   "source": [
    "DwC = C.ang_vel_in(D)\n",
    "CwB = B.ang_acc_in(C)"
   ]
  },
  {
   "cell_type": "code",
   "execution_count": 24,
   "metadata": {},
   "outputs": [
    {
     "data": {
      "image/png": "[encoded data removed]",
      "text/latex": [
       "$\\displaystyle -  \\operatorname{sin}\\left(q_{2}\\right) \\dot{q}_{3}\\mathbf{\\hat{b}_x} -  \\ddot{q}_{2}\\mathbf{\\hat{b}_y} -  \\operatorname{cos}\\left(q_{2}\\right) \\dot{q}_{3}\\mathbf{\\hat{b}_z}$"
      ],
      "text/plain": [
       "-sin(q₂)⋅q₃̇ b_x + -q₂̈ b_y + -cos(q₂)⋅q₃̇ b_z"
      ]
     },
     "execution_count": 24,
     "metadata": {},
     "output_type": "execute_result"
    }
   ],
   "source": [
    "(DwC + CwB).express(B)"
   ]
  },
  {
   "cell_type": "markdown",
   "metadata": {},
   "source": [
    "Finally, calculate the D measure numbers of the angular velocity of D in A."
   ]
  },
  {
   "cell_type": "code",
   "execution_count": 25,
   "metadata": {},
   "outputs": [],
   "source": [
    "AwD = D.ang_vel_in(A)"
   ]
  },
  {
   "cell_type": "code",
   "execution_count": 26,
   "metadata": {},
   "outputs": [
    {
     "data": {
      "image/png": "[encoded data removed]",
      "text/latex": [
       "$\\displaystyle \\operatorname{sin}\\left(q_{3}\\right) \\dot{q}_{2} + \\operatorname{cos}\\left(q_{2}\\right) \\operatorname{cos}\\left(q_{3}\\right) \\dot{q}_{1}$"
      ],
      "text/plain": [
       "sin(q₃)⋅q₂̇ + cos(q₂)⋅cos(q₃)⋅q₁̇"
      ]
     },
     "execution_count": 26,
     "metadata": {},
     "output_type": "execute_result"
    }
   ],
   "source": [
    "AwD.dot(D.x)"
   ]
  },
  {
   "cell_type": "code",
   "execution_count": 27,
   "metadata": {},
   "outputs": [
    {
     "data": {
      "image/png": "[encoded data removed]",
      "text/latex": [
       "$\\displaystyle - \\operatorname{sin}\\left(q_{3}\\right) \\operatorname{cos}\\left(q_{2}\\right) \\dot{q}_{1} + \\operatorname{cos}\\left(q_{3}\\right) \\dot{q}_{2}$"
      ],
      "text/plain": [
       "-sin(q₃)⋅cos(q₂)⋅q₁̇ + cos(q₃)⋅q₂̇"
      ]
     },
     "execution_count": 27,
     "metadata": {},
     "output_type": "execute_result"
    }
   ],
   "source": [
    "AwD.dot(D.y)"
   ]
  },
  {
   "cell_type": "code",
   "execution_count": 28,
   "metadata": {},
   "outputs": [
    {
     "data": {
      "image/png": "[encoded data removed]",
      "text/latex": [
       "$\\displaystyle \\operatorname{sin}\\left(q_{2}\\right) \\dot{q}_{1} + \\dot{q}_{3}$"
      ],
      "text/plain": [
       "sin(q₂)⋅q₁̇ + q₃̇"
      ]
     },
     "execution_count": 28,
     "metadata": {},
     "output_type": "execute_result"
    }
   ],
   "source": [
    "AwD.dot(D.z)"
   ]
  },
  {
   "cell_type": "markdown",
   "metadata": {},
   "source": [
    "# Problem 2.7"
   ]
  },
  {
   "cell_type": "code",
   "execution_count": 29,
   "metadata": {},
   "outputs": [],
   "source": [
    "q1, q2, q3 = me.dynamicsymbols('q1:4')"
   ]
  },
  {
   "cell_type": "code",
   "execution_count": 30,
   "metadata": {},
   "outputs": [],
   "source": [
    "A = me.ReferenceFrame('A')\n",
    "Y = me.ReferenceFrame('Y')  # intermediate frame so that simple rotations can be used\n",
    "B = me.ReferenceFrame('B')\n",
    "C = me.ReferenceFrame('C')"
   ]
  },
  {
   "cell_type": "code",
   "execution_count": 31,
   "metadata": {},
   "outputs": [],
   "source": [
    "Y.orient(A, 'Axis', (q1, A.z))\n",
    "B.orient(Y, 'Axis', (sm.pi/2 - q2, Y.x))\n",
    "C.orient(B, 'Axis', (q3, B.z))"
   ]
  },
  {
   "cell_type": "code",
   "execution_count": 32,
   "metadata": {},
   "outputs": [
    {
     "data": {
      "image/png": "[encoded data removed]",
      "text/latex": [
       "$\\displaystyle \\dot{q}_{3}\\mathbf{\\hat{b}_z} -  \\dot{q}_{2}\\mathbf{\\hat{y}_x} + \\dot{q}_{1}\\mathbf{\\hat{a}_z}$"
      ],
      "text/plain": [
       "q₃̇ b_z + -q₂̇ y_x + q₁̇ a_z"
      ]
     },
     "execution_count": 32,
     "metadata": {},
     "output_type": "execute_result"
    }
   ],
   "source": [
    "C.ang_vel_in(A)"
   ]
  },
  {
   "cell_type": "code",
   "execution_count": 33,
   "metadata": {},
   "outputs": [
    {
     "data": {
      "image/png": "[encoded data removed]",
      "text/latex": [
       "$\\displaystyle (\\operatorname{sin}\\left(q_{1}\\right) \\operatorname{cos}\\left(q_{2}\\right) \\dot{q}_{3} - \\operatorname{cos}\\left(q_{1}\\right) \\dot{q}_{2})\\mathbf{\\hat{a}_x} + (- \\operatorname{sin}\\left(q_{1}\\right) \\dot{q}_{2} - \\operatorname{cos}\\left(q_{1}\\right) \\operatorname{cos}\\left(q_{2}\\right) \\dot{q}_{3})\\mathbf{\\hat{a}_y} + (\\operatorname{sin}\\left(q_{2}\\right) \\dot{q}_{3} + \\dot{q}_{1})\\mathbf{\\hat{a}_z}$"
      ],
      "text/plain": [
       "(sin(q₁)⋅cos(q₂)⋅q₃̇ - cos(q₁)⋅q₂̇) a_x + (-sin(q₁)⋅q₂̇ - cos(q₁)⋅cos(q₂)⋅q₃̇)\n",
       " a_y + (sin(q₂)⋅q₃̇ + q₁̇) a_z"
      ]
     },
     "execution_count": 33,
     "metadata": {},
     "output_type": "execute_result"
    }
   ],
   "source": [
    "C.ang_vel_in(A).express(A)"
   ]
  },
  {
   "cell_type": "markdown",
   "metadata": {},
   "source": [
    "Note that in each measure number that the time derivatives are linear terms."
   ]
  },
  {
   "cell_type": "code",
   "execution_count": 34,
   "metadata": {},
   "outputs": [],
   "source": [
    "ux, uy, uz = me.dynamicsymbols('u_x, u_y, u_z')"
   ]
  },
  {
   "cell_type": "markdown",
   "metadata": {},
   "source": [
    "You can form three equations that are linear in the q dots like so:"
   ]
  },
  {
   "cell_type": "code",
   "execution_count": 35,
   "metadata": {},
   "outputs": [
    {
     "data": {
      "image/png": "[encoded data removed]",
      "text/latex": [
       "$\\displaystyle u_{x} = \\operatorname{sin}\\left(q_{1}\\right) \\operatorname{cos}\\left(q_{2}\\right) \\dot{q}_{3} - \\operatorname{cos}\\left(q_{1}\\right) \\dot{q}_{2}$"
      ],
      "text/plain": [
       "uₓ = sin(q₁)⋅cos(q₂)⋅q₃̇ - cos(q₁)⋅q₂̇"
      ]
     },
     "execution_count": 35,
     "metadata": {},
     "output_type": "execute_result"
    }
   ],
   "source": [
    "eq1 = sm.Eq(ux, C.ang_vel_in(A).dot(A.x))\n",
    "eq1"
   ]
  },
  {
   "cell_type": "code",
   "execution_count": 36,
   "metadata": {},
   "outputs": [
    {
     "data": {
      "image/png": "[encoded data removed]",
      "text/latex": [
       "$\\displaystyle u_{y} = - \\operatorname{sin}\\left(q_{1}\\right) \\dot{q}_{2} - \\operatorname{cos}\\left(q_{1}\\right) \\operatorname{cos}\\left(q_{2}\\right) \\dot{q}_{3}$"
      ],
      "text/plain": [
       "u_y = -sin(q₁)⋅q₂̇ - cos(q₁)⋅cos(q₂)⋅q₃̇"
      ]
     },
     "execution_count": 36,
     "metadata": {},
     "output_type": "execute_result"
    }
   ],
   "source": [
    "eq2 = sm.Eq(uy, C.ang_vel_in(A).dot(A.y))\n",
    "eq2"
   ]
  },
  {
   "cell_type": "code",
   "execution_count": 37,
   "metadata": {},
   "outputs": [
    {
     "data": {
      "image/png": "[encoded data removed]",
      "text/latex": [
       "$\\displaystyle u_{z} = \\operatorname{sin}\\left(q_{2}\\right) \\dot{q}_{3} + \\dot{q}_{1}$"
      ],
      "text/plain": [
       "u_z = sin(q₂)⋅q₃̇ + q₁̇"
      ]
     },
     "execution_count": 37,
     "metadata": {},
     "output_type": "execute_result"
    }
   ],
   "source": [
    "eq3 = sm.Eq(uz, C.ang_vel_in(A).dot(A.z))\n",
    "eq3"
   ]
  },
  {
   "cell_type": "markdown",
   "metadata": {},
   "source": [
    "Then you can solve these equations for the q dots:"
   ]
  },
  {
   "cell_type": "code",
   "execution_count": 38,
   "metadata": {},
   "outputs": [
    {
     "data": {
      "image/png": "[encoded data removed]",
      "text/latex": [
       "$\\displaystyle \\left\\{ \\dot{q}_{1} : - u_{x} \\operatorname{sin}\\left(q_{1}\\right) \\operatorname{tan}\\left(q_{2}\\right) + u_{y} \\operatorname{cos}\\left(q_{1}\\right) \\operatorname{tan}\\left(q_{2}\\right) + u_{z}, \\  \\dot{q}_{2} : - u_{x} \\operatorname{cos}\\left(q_{1}\\right) - u_{y} \\operatorname{sin}\\left(q_{1}\\right), \\  \\dot{q}_{3} : \\frac{u_{x} \\operatorname{sin}\\left(q_{1}\\right) - u_{y} \\operatorname{cos}\\left(q_{1}\\right)}{\\operatorname{cos}\\left(q_{2}\\right)}\\right\\}$"
      ],
      "text/plain": [
       "⎧                                                                             \n",
       "⎨q₁̇: -uₓ⋅sin(q₁)⋅tan(q₂) + u_y⋅cos(q₁)⋅tan(q₂) + u_z, q₂̇: -uₓ⋅cos(q₁) - u_y⋅\n",
       "⎩                                                                             \n",
       "\n",
       "              uₓ⋅sin(q₁) - u_y⋅cos(q₁)⎫\n",
       "sin(q₁), q₃̇: ────────────────────────⎬\n",
       "                      cos(q₂)         ⎭"
      ]
     },
     "execution_count": 38,
     "metadata": {},
     "output_type": "execute_result"
    }
   ],
   "source": [
    "sm.solve((eq1, eq2, eq3), q1.diff(), q2.diff(), q3.diff())"
   ]
  },
  {
   "cell_type": "markdown",
   "metadata": {},
   "source": [
    "Same with the second set, but here I used a matrix form where you provide the expressions that equate to zero."
   ]
  },
  {
   "cell_type": "code",
   "execution_count": 39,
   "metadata": {},
   "outputs": [],
   "source": [
    "u1, u2, u3 = me.dynamicsymbols('u1:4')"
   ]
  },
  {
   "cell_type": "code",
   "execution_count": 40,
   "metadata": {},
   "outputs": [
    {
     "data": {
      "text/latex": [
       "$\\displaystyle \\left[\\begin{matrix}- u_{1} - \\dot{q}_{2}\\\\- u_{2} + \\operatorname{cos}\\left(q_{2}\\right) \\dot{q}_{1}\\\\- u_{3} + \\operatorname{sin}\\left(q_{2}\\right) \\dot{q}_{1} + \\dot{q}_{3}\\end{matrix}\\right]$"
      ],
      "text/plain": [
       "⎡       -u₁ - q₂̇       ⎤\n",
       "⎢                       ⎥\n",
       "⎢   -u₂ + cos(q₂)⋅q₁̇   ⎥\n",
       "⎢                       ⎥\n",
       "⎣-u₃ + sin(q₂)⋅q₁̇ + q₃̇⎦"
      ]
     },
     "execution_count": 40,
     "metadata": {},
     "output_type": "execute_result"
    }
   ],
   "source": [
    "zeros = C.ang_vel_in(A).to_matrix(B) - sm.Matrix([u1, u2, u3])\n",
    "zeros"
   ]
  },
  {
   "cell_type": "code",
   "execution_count": 41,
   "metadata": {},
   "outputs": [
    {
     "data": {
      "image/png": "[encoded data removed]",
      "text/latex": [
       "$\\displaystyle \\left\\{ \\dot{q}_{1} : \\frac{u_{2}}{\\operatorname{cos}\\left(q_{2}\\right)}, \\  \\dot{q}_{2} : - u_{1}, \\  \\dot{q}_{3} : - u_{2} \\operatorname{tan}\\left(q_{2}\\right) + u_{3}\\right\\}$"
      ],
      "text/plain": [
       "⎧        u₂                                   ⎫\n",
       "⎨q₁̇: ───────, q₂̇: -u₁, q₃̇: -u₂⋅tan(q₂) + u₃⎬\n",
       "⎩     cos(q₂)                                 ⎭"
      ]
     },
     "execution_count": 41,
     "metadata": {},
     "output_type": "execute_result"
    }
   ],
   "source": [
    "sm.solve(zeros, q1.diff(), q2.diff(), q3.diff())"
   ]
  },
  {
   "cell_type": "markdown",
   "metadata": {},
   "source": [
    "# Problem 2.8"
   ]
  },
  {
   "cell_type": "code",
   "execution_count": 42,
   "metadata": {},
   "outputs": [
    {
     "data": {
      "image/png": "[encoded data removed]",
      "text/latex": [
       "$\\displaystyle -  \\dot{q}_{2}\\mathbf{\\hat{b}_x} + \\operatorname{cos}\\left(q_{2}\\right) \\dot{q}_{1}\\mathbf{\\hat{b}_y} + \\operatorname{sin}\\left(q_{2}\\right) \\dot{q}_{1}\\mathbf{\\hat{b}_z}$"
      ],
      "text/plain": [
       "-q₂̇ b_x + cos(q₂)⋅q₁̇ b_y + sin(q₂)⋅q₁̇ b_z"
      ]
     },
     "execution_count": 42,
     "metadata": {},
     "output_type": "execute_result"
    }
   ],
   "source": [
    "B.ang_vel_in(A).express(B)"
   ]
  },
  {
   "cell_type": "code",
   "execution_count": 43,
   "metadata": {},
   "outputs": [
    {
     "data": {
      "image/png": "[encoded data removed]",
      "text/latex": [
       "$\\displaystyle -  \\dot{q}_{2}\\mathbf{\\hat{b}_x} + \\operatorname{cos}\\left(q_{2}\\right) \\dot{q}_{1}\\mathbf{\\hat{b}_y} + (\\operatorname{sin}\\left(q_{2}\\right) \\dot{q}_{1} + \\dot{q}_{3})\\mathbf{\\hat{b}_z}$"
      ],
      "text/plain": [
       "-q₂̇ b_x + cos(q₂)⋅q₁̇ b_y + (sin(q₂)⋅q₁̇ + q₃̇) b_z"
      ]
     },
     "execution_count": 43,
     "metadata": {},
     "output_type": "execute_result"
    }
   ],
   "source": [
    "C.ang_vel_in(A).express(B)"
   ]
  },
  {
   "cell_type": "markdown",
   "metadata": {},
   "source": [
    "The first two measure numbers are the same and the third can be formed by:"
   ]
  },
  {
   "cell_type": "code",
   "execution_count": 44,
   "metadata": {},
   "outputs": [],
   "source": [
    "q1dot = u2/sm.cos(q2)"
   ]
  },
  {
   "cell_type": "code",
   "execution_count": 45,
   "metadata": {},
   "outputs": [
    {
     "data": {
      "image/png": "[encoded data removed]",
      "text/latex": [
       "$\\displaystyle u_{2} \\operatorname{tan}\\left(q_{2}\\right)$"
      ],
      "text/plain": [
       "u₂⋅tan(q₂)"
      ]
     },
     "execution_count": 45,
     "metadata": {},
     "output_type": "execute_result"
    }
   ],
   "source": [
    "sm.trigsimp(sm.sin(q2)*q1dot)"
   ]
  },
  {
   "cell_type": "markdown",
   "metadata": {},
   "source": [
    "# Problem 2.10"
   ]
  },
  {
   "cell_type": "code",
   "execution_count": 46,
   "metadata": {},
   "outputs": [],
   "source": [
    "q1, q2, q3 = me.dynamicsymbols('q1:4')\n",
    "ux, uy, uz = me.dynamicsymbols('u_x, u_y, u_z')\n",
    "u1, u2, u3 = me.dynamicsymbols('u1:4')"
   ]
  },
  {
   "cell_type": "code",
   "execution_count": 47,
   "metadata": {},
   "outputs": [],
   "source": [
    "A = me.ReferenceFrame('A')\n",
    "Y = me.ReferenceFrame('Y')  # intermediate frame so that simple rotations can be used\n",
    "B = me.ReferenceFrame('B')\n",
    "C = me.ReferenceFrame('C')"
   ]
  },
  {
   "cell_type": "code",
   "execution_count": 48,
   "metadata": {},
   "outputs": [],
   "source": [
    "Y.orient(A, 'Axis', (q1, A.z))\n",
    "B.orient(Y, 'Axis', (sm.pi/2 - q2, Y.x))\n",
    "C.orient(B, 'Axis', (q3, B.z))"
   ]
  },
  {
   "cell_type": "code",
   "execution_count": 49,
   "metadata": {},
   "outputs": [],
   "source": [
    "C.set_ang_vel(A, ux*A.x + uy*A.y + uz*A.z)"
   ]
  },
  {
   "cell_type": "code",
   "execution_count": 50,
   "metadata": {},
   "outputs": [
    {
     "data": {
      "image/png": "[encoded data removed]",
      "text/latex": [
       "$\\displaystyle u_{x}\\mathbf{\\hat{a}_x} + u_{y}\\mathbf{\\hat{a}_y} + u_{z}\\mathbf{\\hat{a}_z}$"
      ],
      "text/plain": [
       "uₓ a_x + u_y a_y + u_z a_z"
      ]
     },
     "execution_count": 50,
     "metadata": {},
     "output_type": "execute_result"
    }
   ],
   "source": [
    "C.ang_vel_in(A)"
   ]
  },
  {
   "cell_type": "code",
   "execution_count": 51,
   "metadata": {},
   "outputs": [
    {
     "data": {
      "image/png": "[encoded data removed]",
      "text/latex": [
       "$\\displaystyle \\dot{u}_{x}\\mathbf{\\hat{a}_x} + \\dot{u}_{y}\\mathbf{\\hat{a}_y} + \\dot{u}_{z}\\mathbf{\\hat{a}_z}$"
      ],
      "text/plain": [
       "uₓ̇ a_x + u_̇y a_y + u_̇z a_z"
      ]
     },
     "execution_count": 51,
     "metadata": {},
     "output_type": "execute_result"
    }
   ],
   "source": [
    "C.ang_acc_in(A)"
   ]
  },
  {
   "cell_type": "code",
   "execution_count": 52,
   "metadata": {},
   "outputs": [],
   "source": [
    "C.set_ang_vel(A, u1*B.x + u2*B.y + u3*B.z)"
   ]
  },
  {
   "cell_type": "code",
   "execution_count": 53,
   "metadata": {},
   "outputs": [
    {
     "data": {
      "image/png": "[encoded data removed]",
      "text/latex": [
       "$\\displaystyle (- u_{2} \\operatorname{sin}\\left(q_{2}\\right) \\dot{q}_{1} + u_{3} \\operatorname{cos}\\left(q_{2}\\right) \\dot{q}_{1} + \\dot{u}_{1})\\mathbf{\\hat{b}_x} + (u_{1} \\operatorname{sin}\\left(q_{2}\\right) \\dot{q}_{1} + u_{3} \\dot{q}_{2} + \\dot{u}_{2})\\mathbf{\\hat{b}_y} + (- u_{1} \\operatorname{cos}\\left(q_{2}\\right) \\dot{q}_{1} - u_{2} \\dot{q}_{2} + \\dot{u}_{3})\\mathbf{\\hat{b}_z}$"
      ],
      "text/plain": [
       "(-u₂⋅sin(q₂)⋅q₁̇ + u₃⋅cos(q₂)⋅q₁̇ + u₁̇) b_x + (u₁⋅sin(q₂)⋅q₁̇ + u₃⋅q₂̇ + u₂̇)\n",
       " b_y + (-u₁⋅cos(q₂)⋅q₁̇ - u₂⋅q₂̇ + u₃̇) b_z"
      ]
     },
     "execution_count": 53,
     "metadata": {},
     "output_type": "execute_result"
    }
   ],
   "source": [
    "C.ang_acc_in(A).express(B).simplify()"
   ]
  },
  {
   "cell_type": "markdown",
   "metadata": {},
   "source": [
    "Notice that there are time derivatives of the q's present in the expression. We need to elimate them. You can do so with the solutions to Prob. 2.7."
   ]
  },
  {
   "cell_type": "code",
   "execution_count": 54,
   "metadata": {},
   "outputs": [
    {
     "data": {
      "image/png": "[encoded data removed]",
      "text/latex": [
       "$\\displaystyle \\frac{u_{2}}{\\operatorname{cos}\\left(q_{2}\\right)}$"
      ],
      "text/plain": [
       "   u₂  \n",
       "───────\n",
       "cos(q₂)"
      ]
     },
     "execution_count": 54,
     "metadata": {},
     "output_type": "execute_result"
    }
   ],
   "source": [
    "# uses zeros calculated in previous problem\n",
    "sol = sm.solve(zeros, q1.diff(), q2.diff(), q3.diff())\n",
    "sol[q1.diff()]"
   ]
  },
  {
   "cell_type": "code",
   "execution_count": 55,
   "metadata": {},
   "outputs": [
    {
     "data": {
      "image/png": "[encoded data removed]",
      "text/latex": [
       "$\\displaystyle (- u^{2}_{2} \\operatorname{tan}\\left(q_{2}\\right) + u_{2} u_{3} + \\dot{u}_{1})\\mathbf{\\hat{b}_x} + (u_{1} u_{2} \\operatorname{tan}\\left(q_{2}\\right) - u_{1} u_{3} + \\dot{u}_{2})\\mathbf{\\hat{b}_y} + \\dot{u}_{3}\\mathbf{\\hat{b}_z}$"
      ],
      "text/plain": [
       "⎛    2                      ⎞\n",
       "⎝- u₂ ⋅tan(q₂) + u₂⋅u₃ + u₁̇⎠ b_x + (u₁⋅u₂⋅tan(q₂) - u₁⋅u₃ + u₂̇) b_y + u₃̇ b_\n",
       "\n",
       "\n",
       "z"
      ]
     },
     "execution_count": 55,
     "metadata": {},
     "output_type": "execute_result"
    }
   ],
   "source": [
    "C.ang_acc_in(A).express(B).subs(sol).simplify()"
   ]
  },
  {
   "cell_type": "markdown",
   "metadata": {},
   "source": [
    "This process of substituting the results of the kinematical differential equations will be useful for developing you models as we move forward."
   ]
  },
  {
   "cell_type": "markdown",
   "metadata": {},
   "source": [
    "# Problem 2.11"
   ]
  },
  {
   "cell_type": "code",
   "execution_count": 56,
   "metadata": {},
   "outputs": [],
   "source": [
    "L = me.ReferenceFrame('L')  # The laboratory frame\n",
    "C = me.ReferenceFrame('C')  # The disc frame\n",
    "R = me.ReferenceFrame('R')  # The rod frame\n",
    "q1, q2 = me.dynamicsymbols('q1, q2')\n",
    "r = sm.symbols('r', real=True)\n",
    "C.orient(L, 'Axis', (q1, L.x))\n",
    "R.orient(C, 'Axis', (q2, C.y))"
   ]
  },
  {
   "cell_type": "code",
   "execution_count": 57,
   "metadata": {},
   "outputs": [
    {
     "data": {
      "image/png": "[encoded data removed]",
      "text/latex": [
       "$\\displaystyle \\sqrt{\\ddot{q}_{1}^{2}}$"
      ],
      "text/plain": [
       "   ______\n",
       "  ╱    2 \n",
       "╲╱  q₁̈  "
      ]
     },
     "execution_count": 57,
     "metadata": {},
     "output_type": "execute_result"
    }
   ],
   "source": [
    "C.ang_acc_in(L).magnitude()"
   ]
  },
  {
   "cell_type": "code",
   "execution_count": 58,
   "metadata": {},
   "outputs": [
    {
     "data": {
      "image/png": "[encoded data removed]",
      "text/latex": [
       "$\\displaystyle \\sqrt{\\ddot{q}_{2}^{2}}$"
      ],
      "text/plain": [
       "   ______\n",
       "  ╱    2 \n",
       "╲╱  q₂̈  "
      ]
     },
     "execution_count": 58,
     "metadata": {},
     "output_type": "execute_result"
    }
   ],
   "source": [
    "R.ang_acc_in(C).magnitude()"
   ]
  },
  {
   "cell_type": "markdown",
   "metadata": {},
   "source": [
    "Note that these two do not reduce to the simplest form. This is because SymPy treats the q's as complex valued symbols by default. There doesn't seem to be a simple way to fix this. I'm checking on that."
   ]
  },
  {
   "cell_type": "code",
   "execution_count": 59,
   "metadata": {},
   "outputs": [
    {
     "data": {
      "image/png": "[encoded data removed]",
      "text/latex": [
       "$\\displaystyle \\sqrt{\\dot{q}_{1}^{2} \\dot{q}_{2}^{2} + \\ddot{q}_{1}^{2} + \\ddot{q}_{2}^{2}}$"
      ],
      "text/plain": [
       "   _________________________\n",
       "  ╱    2    2      2      2 \n",
       "╲╱  q₁̇ ⋅q₂̇  + q₁̈  + q₂̈  "
      ]
     },
     "execution_count": 59,
     "metadata": {},
     "output_type": "execute_result"
    }
   ],
   "source": [
    "R.ang_acc_in(L).magnitude()"
   ]
  }
 ],
 "metadata": {
  "kernelspec": {
   "display_name": "Python 3",
   "language": "python",
   "name": "python3"
  },
  "language_info": {
   "codemirror_mode": {
    "name": "ipython",
    "version": 3
   },
   "file_extension": ".py",
   "mimetype": "text/x-python",
   "name": "python",
   "nbconvert_exporter": "python",
   "pygments_lexer": "ipython3",
   "version": "3.6.7"
  }
 },
 "nbformat": 4,
 "nbformat_minor": 4
}
