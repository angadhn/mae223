{
 "cells": [
  {
   "cell_type": "markdown",
   "metadata": {},
   "source": [
    "# Solutions to Problem Set 1 in \"Dynamics: Theory and Applications, Kane and Levinson 1985\""
   ]
  },
  {
   "cell_type": "code",
   "execution_count": 1,
   "metadata": {},
   "outputs": [],
   "source": [
    "import sympy as sm\n",
    "import sympy.physics.mechanics as me"
   ]
  },
  {
   "cell_type": "markdown",
   "metadata": {},
   "source": [
    "# Problem 1.1"
   ]
  },
  {
   "cell_type": "markdown",
   "metadata": {},
   "source": [
    "I recommend doing this problem by inspection of the graphic. It will take time but it will help you visualize the contributions to the vectors. Take $\\mathbf{u}=\\mathbf{a}_1 + 2\\mathbf{a}_2+3\\mathbf{a}_3$ for example. This vector is fixed in reference frame $A$, so the vector is not a function of any of the variables in $A$. If you then view the vector from $B$ it is apparent that changing $q_1$ can affect the direction of $u$ in $B$. Viewing from $C$ and $D$ will each add $q_2$ and $q_3$ as dependent variables, respectively.\n",
    "\n",
    "For v it is important to note that $b_1$ and $c_2$ are always orthogonal, i.e. $q_2$ doesn't change them. Same with $d_3$ and $c_2$, orthogononal.\n",
    "\n",
    "You can use SymPy to check your work though."
   ]
  },
  {
   "cell_type": "markdown",
   "metadata": {},
   "source": [
    "Create the three variables for the positive angles."
   ]
  },
  {
   "cell_type": "code",
   "execution_count": 2,
   "metadata": {},
   "outputs": [],
   "source": [
    "q1, q2, q3 = sm.symbols('q1:4')"
   ]
  },
  {
   "cell_type": "markdown",
   "metadata": {},
   "source": [
    "Create the four reference frames by chaining simple rotations through each angle about the axis of rotation."
   ]
  },
  {
   "cell_type": "code",
   "execution_count": 3,
   "metadata": {},
   "outputs": [],
   "source": [
    "A = me.ReferenceFrame('A')\n",
    "B = A.orientnew('B', 'Axis', (q1, A.x))\n",
    "C = B.orientnew('C', 'Axis', (q2, B.y))\n",
    "D = C.orientnew('D', 'Axis', (q3, C.z))"
   ]
  },
  {
   "cell_type": "markdown",
   "metadata": {},
   "source": [
    "D.dcm(A)"
   ]
  },
  {
   "cell_type": "code",
   "execution_count": 4,
   "metadata": {},
   "outputs": [
    {
     "data": {
      "text/plain": [
       "\u001b[0;31mSignature:\u001b[0m \u001b[0mD\u001b[0m\u001b[0;34m.\u001b[0m\u001b[0mdcm\u001b[0m\u001b[0;34m(\u001b[0m\u001b[0motherframe\u001b[0m\u001b[0;34m)\u001b[0m\u001b[0;34m\u001b[0m\u001b[0;34m\u001b[0m\u001b[0m\n",
       "\u001b[0;31mDocstring:\u001b[0m\n",
       "The direction cosine matrix between frames.\n",
       "\n",
       "This gives the DCM between this frame and the otherframe.\n",
       "The format is N.xyz = N.dcm(B) * B.xyz\n",
       "A SymPy Matrix is returned.\n",
       "\n",
       "Parameters\n",
       "==========\n",
       "\n",
       "otherframe : ReferenceFrame\n",
       "    The otherframe which the DCM is generated to.\n",
       "\n",
       "Examples\n",
       "========\n",
       "\n",
       ">>> from sympy.physics.vector import ReferenceFrame, Vector\n",
       ">>> from sympy import symbols\n",
       ">>> q1 = symbols('q1')\n",
       ">>> N = ReferenceFrame('N')\n",
       ">>> A = N.orientnew('A', 'Axis', [q1, N.x])\n",
       ">>> N.dcm(A)\n",
       "Matrix([\n",
       "[1,       0,        0],\n",
       "[0, cos(q1), -sin(q1)],\n",
       "[0, sin(q1),  cos(q1)]])\n",
       "\u001b[0;31mFile:\u001b[0m      ~/miniconda3/lib/python3.6/site-packages/sympy/physics/vector/frame.py\n",
       "\u001b[0;31mType:\u001b[0m      method\n"
      ]
     },
     "metadata": {},
     "output_type": "display_data"
    }
   ],
   "source": [
    "D.dcm?"
   ]
  },
  {
   "cell_type": "markdown",
   "metadata": {},
   "source": [
    "Create the three vectors."
   ]
  },
  {
   "cell_type": "code",
   "execution_count": 5,
   "metadata": {},
   "outputs": [],
   "source": [
    "u = A.x + 2*A.y + 3*A.z\n",
    "v = B.x + C.y + D.z\n",
    "w = D.x + 2*D.y + q3*D.z"
   ]
  },
  {
   "cell_type": "code",
   "execution_count": 6,
   "metadata": {},
   "outputs": [
    {
     "data": {
      "text/latex": [
       "$\\displaystyle \\mathbf{\\hat{a}_x} + 2\\mathbf{\\hat{a}_y} + 3\\mathbf{\\hat{a}_z}$"
      ],
      "text/plain": [
       "A.x + 2*A.y + 3*A.z"
      ]
     },
     "execution_count": 6,
     "metadata": {},
     "output_type": "execute_result"
    }
   ],
   "source": [
    "u"
   ]
  },
  {
   "cell_type": "code",
   "execution_count": 7,
   "metadata": {},
   "outputs": [
    {
     "data": {
      "text/latex": [
       "$\\displaystyle \\mathbf{\\hat{b}_x} + \\mathbf{\\hat{c}_y} + \\mathbf{\\hat{d}_z}$"
      ],
      "text/plain": [
       "B.x + C.y + D.z"
      ]
     },
     "execution_count": 7,
     "metadata": {},
     "output_type": "execute_result"
    }
   ],
   "source": [
    "v"
   ]
  },
  {
   "cell_type": "code",
   "execution_count": 8,
   "metadata": {},
   "outputs": [
    {
     "data": {
      "text/latex": [
       "$\\displaystyle \\mathbf{\\hat{d}_x} + 2\\mathbf{\\hat{d}_y} + q_{3}\\mathbf{\\hat{d}_z}$"
      ],
      "text/plain": [
       "D.x + 2*D.y + q3*D.z"
      ]
     },
     "execution_count": 8,
     "metadata": {},
     "output_type": "execute_result"
    }
   ],
   "source": [
    "w"
   ]
  },
  {
   "cell_type": "markdown",
   "metadata": {},
   "source": [
    "You can determine if the variables are present in each vector by expressing each vector in the desired reference frame and inspecting the expression for the variables of interest. For example, for vector $\\mathbf{w}$ in reference frame $A$."
   ]
  },
  {
   "cell_type": "code",
   "execution_count": 9,
   "metadata": {},
   "outputs": [
    {
     "data": {
      "text/latex": [
       "$\\displaystyle (q_{3} \\operatorname{sin}\\left(q_{2}\\right) - 2 \\operatorname{sin}\\left(q_{3}\\right) \\operatorname{cos}\\left(q_{2}\\right) + \\operatorname{cos}\\left(q_{2}\\right) \\operatorname{cos}\\left(q_{3}\\right))\\mathbf{\\hat{a}_x} + (- q_{3} \\operatorname{sin}\\left(q_{1}\\right) \\operatorname{cos}\\left(q_{2}\\right) - 2 \\operatorname{sin}\\left(q_{1}\\right) \\operatorname{sin}\\left(q_{2}\\right) \\operatorname{sin}\\left(q_{3}\\right) + \\operatorname{sin}\\left(q_{1}\\right) \\operatorname{sin}\\left(q_{2}\\right) \\operatorname{cos}\\left(q_{3}\\right) + \\operatorname{sin}\\left(q_{3}\\right) \\operatorname{cos}\\left(q_{1}\\right) + 2 \\operatorname{cos}\\left(q_{1}\\right) \\operatorname{cos}\\left(q_{3}\\right))\\mathbf{\\hat{a}_y} + (q_{3} \\operatorname{cos}\\left(q_{1}\\right) \\operatorname{cos}\\left(q_{2}\\right) + \\operatorname{sin}\\left(q_{1}\\right) \\operatorname{sin}\\left(q_{3}\\right) + 2 \\operatorname{sin}\\left(q_{1}\\right) \\operatorname{cos}\\left(q_{3}\\right) + 2 \\operatorname{sin}\\left(q_{2}\\right) \\operatorname{sin}\\left(q_{3}\\right) \\operatorname{cos}\\left(q_{1}\\right) - \\operatorname{sin}\\left(q_{2}\\right) \\operatorname{cos}\\left(q_{1}\\right) \\operatorname{cos}\\left(q_{3}\\right))\\mathbf{\\hat{a}_z}$"
      ],
      "text/plain": [
       "(q3*sin(q2) - 2*sin(q3)*cos(q2) + cos(q2)*cos(q3))*A.x + (-q3*sin(q1)*cos(q2) - 2*sin(q1)*sin(q2)*sin(q3) + sin(q1)*sin(q2)*cos(q3) + sin(q3)*cos(q1) + 2*cos(q1)*cos(q3))*A.y + (q3*cos(q1)*cos(q2) + sin(q1)*sin(q3) + 2*sin(q1)*cos(q3) + 2*sin(q2)*sin(q3)*cos(q1) - sin(q2)*cos(q1)*cos(q3))*A.z"
      ]
     },
     "execution_count": 9,
     "metadata": {},
     "output_type": "execute_result"
    }
   ],
   "source": [
    "w.express(A)"
   ]
  },
  {
   "cell_type": "markdown",
   "metadata": {},
   "source": [
    "The `free_symbols()` method of the vector can show all unique variables in the expression. You have to supply the reference frame. "
   ]
  },
  {
   "cell_type": "code",
   "execution_count": 10,
   "metadata": {},
   "outputs": [
    {
     "data": {
      "text/plain": [
       "{q1, q2, q3}"
      ]
     },
     "execution_count": 10,
     "metadata": {},
     "output_type": "execute_result"
    }
   ],
   "source": [
    "w.free_symbols(A)"
   ]
  },
  {
   "cell_type": "markdown",
   "metadata": {},
   "source": [
    "Try $\\mathbf{v}$ in $B$:"
   ]
  },
  {
   "cell_type": "code",
   "execution_count": 11,
   "metadata": {},
   "outputs": [
    {
     "data": {
      "text/latex": [
       "$\\displaystyle (\\operatorname{sin}\\left(q_{2}\\right) + 1)\\mathbf{\\hat{b}_x} + \\mathbf{\\hat{b}_y} + \\operatorname{cos}\\left(q_{2}\\right)\\mathbf{\\hat{b}_z}$"
      ],
      "text/plain": [
       "(sin(q2) + 1)*B.x + B.y + cos(q2)*B.z"
      ]
     },
     "execution_count": 11,
     "metadata": {},
     "output_type": "execute_result"
    }
   ],
   "source": [
    "v.express(B)"
   ]
  },
  {
   "cell_type": "code",
   "execution_count": 12,
   "metadata": {},
   "outputs": [
    {
     "data": {
      "text/plain": [
       "{q2}"
      ]
     },
     "execution_count": 12,
     "metadata": {},
     "output_type": "execute_result"
    }
   ],
   "source": [
    "v.free_symbols(B)"
   ]
  },
  {
   "cell_type": "markdown",
   "metadata": {},
   "source": [
    "Another way to check is to take the derivative of the vector with respect to the variable of interest in the reference frame of interest. If the derivative is zero then the variable is not present. The following nested loop prints `N` or `Y` if the derivative is zero or not. The derivative of the vector must be simplified to compare to zero. Note that simplify is a slow operation and is not guaranteed to simplify completely."
   ]
  },
  {
   "cell_type": "code",
   "execution_count": 13,
   "metadata": {},
   "outputs": [
    {
     "data": {
      "text/latex": [
       "$\\displaystyle 0$"
      ],
      "text/plain": [
       "0"
      ]
     },
     "execution_count": 13,
     "metadata": {},
     "output_type": "execute_result"
    }
   ],
   "source": [
    "u.diff(q1, A)"
   ]
  },
  {
   "cell_type": "code",
   "execution_count": 14,
   "metadata": {},
   "outputs": [
    {
     "data": {
      "text/latex": [
       "$\\displaystyle -  \\operatorname{sin}\\left(q_{2}\\right)\\mathbf{\\hat{c}_x} + \\operatorname{cos}\\left(q_{2}\\right)\\mathbf{\\hat{c}_z} -  \\operatorname{sin}\\left(q_{3}\\right) \\operatorname{cos}\\left(q_{2}\\right)\\mathbf{\\hat{d}_x} -  \\operatorname{cos}\\left(q_{2}\\right) \\operatorname{cos}\\left(q_{3}\\right)\\mathbf{\\hat{d}_y}$"
      ],
      "text/plain": [
       "- sin(q2)*C.x + cos(q2)*C.z - sin(q3)*cos(q2)*D.x - cos(q2)*cos(q3)*D.y"
      ]
     },
     "execution_count": 14,
     "metadata": {},
     "output_type": "execute_result"
    }
   ],
   "source": [
    "v.diff(q1, A).simplify()"
   ]
  },
  {
   "cell_type": "code",
   "execution_count": 15,
   "metadata": {},
   "outputs": [
    {
     "name": "stdout",
     "output_type": "stream",
     "text": [
      "A, q1, u: N\n",
      "A, q1, v: Y\n",
      "A, q1, w: Y\n",
      "A, q2, u: N\n",
      "A, q2, v: Y\n",
      "A, q2, w: Y\n",
      "A, q3, u: N\n",
      "A, q3, v: N\n",
      "A, q3, w: Y\n",
      "B, q1, u: Y\n",
      "B, q1, v: N\n",
      "B, q1, w: N\n",
      "B, q2, u: N\n",
      "B, q2, v: Y\n",
      "B, q2, w: Y\n",
      "B, q3, u: N\n",
      "B, q3, v: N\n",
      "B, q3, w: Y\n",
      "C, q1, u: Y\n",
      "C, q1, v: N\n",
      "C, q1, w: N\n",
      "C, q2, u: Y\n",
      "C, q2, v: Y\n",
      "C, q2, w: N\n",
      "C, q3, u: N\n",
      "C, q3, v: N\n",
      "C, q3, w: Y\n",
      "D, q1, u: Y\n",
      "D, q1, v: N\n",
      "D, q1, w: N\n",
      "D, q2, u: Y\n",
      "D, q2, v: Y\n",
      "D, q2, w: N\n",
      "D, q3, u: Y\n",
      "D, q3, v: Y\n",
      "D, q3, w: Y\n"
     ]
    }
   ],
   "source": [
    "for frame in [A, B, C, D]:\n",
    "    for variable in [q1, q2, q3]:\n",
    "        for vector, vec_name in zip([u, v, w], ['u', 'v', 'w']):\n",
    "            if vector.diff(variable, frame).simplify() != sm.S(0):\n",
    "                ans = 'Y'\n",
    "            else:\n",
    "                ans = 'N'\n",
    "            print('{}, {}, {}: {}'.format(frame, variable, vec_name, ans))"
   ]
  },
  {
   "cell_type": "markdown",
   "metadata": {},
   "source": [
    "# Problem 1.2\n",
    "\n",
    "Make $q_1$ a function of time and determine which reference frames $\\mathbf{v}$ is a function of $t$ in."
   ]
  },
  {
   "cell_type": "code",
   "execution_count": 16,
   "metadata": {},
   "outputs": [],
   "source": [
    "q1 = me.dynamicsymbols('q1')"
   ]
  },
  {
   "cell_type": "code",
   "execution_count": 17,
   "metadata": {},
   "outputs": [],
   "source": [
    "q2, q3 = sm.symbols('q2, q3')"
   ]
  },
  {
   "cell_type": "code",
   "execution_count": 18,
   "metadata": {},
   "outputs": [],
   "source": [
    "A = me.ReferenceFrame('A')\n",
    "B = A.orientnew('B', 'Axis', (q1, A.x))\n",
    "C = B.orientnew('C', 'Axis', (q2, B.y))\n",
    "D = C.orientnew('D', 'Axis', (q3, C.z))"
   ]
  },
  {
   "cell_type": "markdown",
   "metadata": {},
   "source": [
    "You can access the default time variable that `dynamicsymbols()` uses like so:"
   ]
  },
  {
   "cell_type": "code",
   "execution_count": 19,
   "metadata": {},
   "outputs": [],
   "source": [
    "t = me.dynamicsymbols._t"
   ]
  },
  {
   "cell_type": "code",
   "execution_count": 20,
   "metadata": {},
   "outputs": [],
   "source": [
    "v = B.x + C.y + D.z"
   ]
  },
  {
   "cell_type": "code",
   "execution_count": 21,
   "metadata": {},
   "outputs": [
    {
     "data": {
      "text/latex": [
       "$\\displaystyle -  \\operatorname{sin}\\left(q_{2}\\right) \\dot{q}_{1}\\mathbf{\\hat{c}_x} + \\operatorname{cos}\\left(q_{2}\\right) \\dot{q}_{1}\\mathbf{\\hat{c}_z} -  \\operatorname{sin}\\left(q_{3}\\right) \\operatorname{cos}\\left(q_{2}\\right) \\dot{q}_{1}\\mathbf{\\hat{d}_x} -  \\operatorname{cos}\\left(q_{2}\\right) \\operatorname{cos}\\left(q_{3}\\right) \\dot{q}_{1}\\mathbf{\\hat{d}_y}$"
      ],
      "text/plain": [
       "- sin(q2)*q1'*C.x + cos(q2)*q1'*C.z - sin(q3)*cos(q2)*q1'*D.x - cos(q2)*cos(q3)*q1'*D.y"
      ]
     },
     "execution_count": 21,
     "metadata": {},
     "output_type": "execute_result"
    }
   ],
   "source": [
    "v.diff(t, A).simplify()"
   ]
  },
  {
   "cell_type": "code",
   "execution_count": 22,
   "metadata": {},
   "outputs": [
    {
     "data": {
      "text/latex": [
       "$\\displaystyle 0$"
      ],
      "text/plain": [
       "0"
      ]
     },
     "execution_count": 22,
     "metadata": {},
     "output_type": "execute_result"
    }
   ],
   "source": [
    "v.diff(t, B).simplify()"
   ]
  },
  {
   "cell_type": "code",
   "execution_count": 23,
   "metadata": {},
   "outputs": [
    {
     "data": {
      "text/latex": [
       "$\\displaystyle 0$"
      ],
      "text/plain": [
       "0"
      ]
     },
     "execution_count": 23,
     "metadata": {},
     "output_type": "execute_result"
    }
   ],
   "source": [
    "v.diff(t, C).simplify()"
   ]
  },
  {
   "cell_type": "code",
   "execution_count": 24,
   "metadata": {},
   "outputs": [
    {
     "data": {
      "text/latex": [
       "$\\displaystyle 0$"
      ],
      "text/plain": [
       "0"
      ]
     },
     "execution_count": 24,
     "metadata": {},
     "output_type": "execute_result"
    }
   ],
   "source": [
    "v.diff(t, D).simplify()"
   ]
  },
  {
   "cell_type": "markdown",
   "metadata": {},
   "source": [
    "Only in $A$ does $\\mathbf{v}$ have a time derivative, thus $A$ is the answer."
   ]
  },
  {
   "cell_type": "markdown",
   "metadata": {},
   "source": [
    "# Problem 1.3\n",
    "\n",
    "This problem can be solved in the same way as 1.2 using SymPy. You can also think about whether each component of $\\mathbf{v}$ will change if $q_2$ changes from each frame. From $A$ $\\mathbf{d}_3$ will change. From $B$ $\\mathbf{d}_3$ will change. From $C$ $\\mathbf{b}_1$ will change. From $D$ $\\mathbf{b}_1$ will change, thus it is a function of time in all frames.  "
   ]
  },
  {
   "cell_type": "code",
   "execution_count": 25,
   "metadata": {},
   "outputs": [],
   "source": [
    "q2 = me.dynamicsymbols('q2')"
   ]
  },
  {
   "cell_type": "code",
   "execution_count": 26,
   "metadata": {},
   "outputs": [],
   "source": [
    "q1, q3 = sm.symbols('q1, q3')"
   ]
  },
  {
   "cell_type": "code",
   "execution_count": 27,
   "metadata": {},
   "outputs": [],
   "source": [
    "A = me.ReferenceFrame('A')\n",
    "B = A.orientnew('B', 'Axis', (q1, A.x))\n",
    "C = B.orientnew('C', 'Axis', (q2, B.y))\n",
    "D = C.orientnew('D', 'Axis', (q3, C.z))"
   ]
  },
  {
   "cell_type": "code",
   "execution_count": 28,
   "metadata": {},
   "outputs": [],
   "source": [
    "t = me.dynamicsymbols._t"
   ]
  },
  {
   "cell_type": "code",
   "execution_count": 29,
   "metadata": {},
   "outputs": [],
   "source": [
    "v = B.x + C.y + D.z"
   ]
  },
  {
   "cell_type": "code",
   "execution_count": 30,
   "metadata": {},
   "outputs": [
    {
     "data": {
      "text/latex": [
       "$\\displaystyle \\operatorname{cos}\\left(q_{3}\\right) \\dot{q}_{2}\\mathbf{\\hat{d}_x} -  \\operatorname{sin}\\left(q_{3}\\right) \\dot{q}_{2}\\mathbf{\\hat{d}_y}$"
      ],
      "text/plain": [
       "cos(q3)*q2'*D.x - sin(q3)*q2'*D.y"
      ]
     },
     "execution_count": 30,
     "metadata": {},
     "output_type": "execute_result"
    }
   ],
   "source": [
    "v.diff(t, A).simplify()"
   ]
  },
  {
   "cell_type": "code",
   "execution_count": 31,
   "metadata": {},
   "outputs": [
    {
     "data": {
      "text/latex": [
       "$\\displaystyle \\operatorname{cos}\\left(q_{3}\\right) \\dot{q}_{2}\\mathbf{\\hat{d}_x} -  \\operatorname{sin}\\left(q_{3}\\right) \\dot{q}_{2}\\mathbf{\\hat{d}_y}$"
      ],
      "text/plain": [
       "cos(q3)*q2'*D.x - sin(q3)*q2'*D.y"
      ]
     },
     "execution_count": 31,
     "metadata": {},
     "output_type": "execute_result"
    }
   ],
   "source": [
    "v.diff(t, B).simplify()"
   ]
  },
  {
   "cell_type": "code",
   "execution_count": 32,
   "metadata": {},
   "outputs": [
    {
     "data": {
      "text/latex": [
       "$\\displaystyle \\dot{q}_{2}\\mathbf{\\hat{b}_z}$"
      ],
      "text/plain": [
       "q2'*B.z"
      ]
     },
     "execution_count": 32,
     "metadata": {},
     "output_type": "execute_result"
    }
   ],
   "source": [
    "v.diff(t, C).simplify()"
   ]
  },
  {
   "cell_type": "code",
   "execution_count": 33,
   "metadata": {},
   "outputs": [
    {
     "data": {
      "text/latex": [
       "$\\displaystyle \\dot{q}_{2}\\mathbf{\\hat{b}_z}$"
      ],
      "text/plain": [
       "q2'*B.z"
      ]
     },
     "execution_count": 33,
     "metadata": {},
     "output_type": "execute_result"
    }
   ],
   "source": [
    "v.diff(t, D).simplify()"
   ]
  },
  {
   "cell_type": "markdown",
   "metadata": {},
   "source": [
    "The derivatives have non-zero values in all frames."
   ]
  },
  {
   "cell_type": "markdown",
   "metadata": {},
   "source": [
    "# Problem 1.4"
   ]
  },
  {
   "cell_type": "code",
   "execution_count": 34,
   "metadata": {},
   "outputs": [],
   "source": [
    "A = me.ReferenceFrame('A')"
   ]
  },
  {
   "cell_type": "markdown",
   "metadata": {},
   "source": [
    "Create some arbitrary scalars."
   ]
  },
  {
   "cell_type": "code",
   "execution_count": 35,
   "metadata": {},
   "outputs": [],
   "source": [
    "a1, a2, a3 = sm.symbols('alpha1:4')\n",
    "b1, b2, b3 = sm.symbols('beta1:4')\n",
    "g1, g2, g3 = sm.symbols('gamma1:4')"
   ]
  },
  {
   "cell_type": "markdown",
   "metadata": {},
   "source": [
    "Create the three vectors using the arbitrary scalars."
   ]
  },
  {
   "cell_type": "code",
   "execution_count": 36,
   "metadata": {},
   "outputs": [
    {
     "data": {
      "text/latex": [
       "$\\displaystyle \\alpha_{1}\\mathbf{\\hat{a}_x} + \\alpha_{2}\\mathbf{\\hat{a}_y} + \\alpha_{3}\\mathbf{\\hat{a}_z}$"
      ],
      "text/plain": [
       "alpha1*A.x + alpha2*A.y + alpha3*A.z"
      ]
     },
     "execution_count": 36,
     "metadata": {},
     "output_type": "execute_result"
    }
   ],
   "source": [
    "alpha = a1 * A.x + a2 * A.y + a3 * A.z\n",
    "alpha"
   ]
  },
  {
   "cell_type": "code",
   "execution_count": 37,
   "metadata": {},
   "outputs": [
    {
     "data": {
      "text/latex": [
       "$\\displaystyle \\beta_{1}\\mathbf{\\hat{a}_x} + \\beta_{2}\\mathbf{\\hat{a}_y} + \\beta_{3}\\mathbf{\\hat{a}_z}$"
      ],
      "text/plain": [
       "beta1*A.x + beta2*A.y + beta3*A.z"
      ]
     },
     "execution_count": 37,
     "metadata": {},
     "output_type": "execute_result"
    }
   ],
   "source": [
    "beta = b1 * A.x + b2 * A.y + b3 * A.z\n",
    "beta"
   ]
  },
  {
   "cell_type": "code",
   "execution_count": 38,
   "metadata": {},
   "outputs": [
    {
     "data": {
      "text/latex": [
       "$\\displaystyle \\gamma_{1}\\mathbf{\\hat{a}_x} + \\gamma_{2}\\mathbf{\\hat{a}_y} + \\gamma_{3}\\mathbf{\\hat{a}_z}$"
      ],
      "text/plain": [
       "gamma1*A.x + gamma2*A.y + gamma3*A.z"
      ]
     },
     "execution_count": 38,
     "metadata": {},
     "output_type": "execute_result"
    }
   ],
   "source": [
    "gamma = g1 * A.x + g2 * A.y + g3 * A.z\n",
    "gamma"
   ]
  },
  {
   "cell_type": "markdown",
   "metadata": {},
   "source": [
    "The problem implies that the scalar triple product is commutative and associative. First check if crossing $\\alpha$ with $\\beta$ before dotting with gamma is equivalent to crossing beta with gamma and dotting with alpha. These can be shown to equivalent by doing the operations and expanding the resulting expressions."
   ]
  },
  {
   "cell_type": "code",
   "execution_count": 39,
   "metadata": {},
   "outputs": [
    {
     "data": {
      "text/latex": [
       "$\\displaystyle \\alpha_{1} \\beta_{2} \\gamma_{3} - \\alpha_{1} \\beta_{3} \\gamma_{2} - \\alpha_{2} \\beta_{1} \\gamma_{3} + \\alpha_{2} \\beta_{3} \\gamma_{1} + \\alpha_{3} \\beta_{1} \\gamma_{2} - \\alpha_{3} \\beta_{2} \\gamma_{1}$"
      ],
      "text/plain": [
       "alpha1*beta2*gamma3 - alpha1*beta3*gamma2 - alpha2*beta1*gamma3 + alpha2*beta3*gamma1 + alpha3*beta1*gamma2 - alpha3*beta2*gamma1"
      ]
     },
     "execution_count": 39,
     "metadata": {},
     "output_type": "execute_result"
    }
   ],
   "source": [
    "me.dot(alpha, me.cross(beta, gamma)).expand()"
   ]
  },
  {
   "cell_type": "code",
   "execution_count": 40,
   "metadata": {},
   "outputs": [
    {
     "data": {
      "text/latex": [
       "$\\displaystyle \\alpha_{1} \\beta_{2} \\gamma_{3} - \\alpha_{1} \\beta_{3} \\gamma_{2} - \\alpha_{2} \\beta_{1} \\gamma_{3} + \\alpha_{2} \\beta_{3} \\gamma_{1} + \\alpha_{3} \\beta_{1} \\gamma_{2} - \\alpha_{3} \\beta_{2} \\gamma_{1}$"
      ],
      "text/plain": [
       "alpha1*beta2*gamma3 - alpha1*beta3*gamma2 - alpha2*beta1*gamma3 + alpha2*beta3*gamma1 + alpha3*beta1*gamma2 - alpha3*beta2*gamma1"
      ]
     },
     "execution_count": 40,
     "metadata": {},
     "output_type": "execute_result"
    }
   ],
   "source": [
    "me.dot(me.cross(alpha, beta), gamma).expand()"
   ]
  },
  {
   "cell_type": "markdown",
   "metadata": {},
   "source": [
    "Similarly the gamma alpha beta and beta gamma alpha roder can also been shown to be equivalent."
   ]
  },
  {
   "cell_type": "code",
   "execution_count": 41,
   "metadata": {},
   "outputs": [
    {
     "data": {
      "text/latex": [
       "$\\displaystyle \\alpha_{1} \\beta_{2} \\gamma_{3} - \\alpha_{1} \\beta_{3} \\gamma_{2} - \\alpha_{2} \\beta_{1} \\gamma_{3} + \\alpha_{2} \\beta_{3} \\gamma_{1} + \\alpha_{3} \\beta_{1} \\gamma_{2} - \\alpha_{3} \\beta_{2} \\gamma_{1}$"
      ],
      "text/plain": [
       "alpha1*beta2*gamma3 - alpha1*beta3*gamma2 - alpha2*beta1*gamma3 + alpha2*beta3*gamma1 + alpha3*beta1*gamma2 - alpha3*beta2*gamma1"
      ]
     },
     "execution_count": 41,
     "metadata": {},
     "output_type": "execute_result"
    }
   ],
   "source": [
    "me.dot(gamma, me.cross(alpha, beta)).expand()"
   ]
  },
  {
   "cell_type": "code",
   "execution_count": 42,
   "metadata": {},
   "outputs": [
    {
     "data": {
      "text/latex": [
       "$\\displaystyle \\alpha_{1} \\beta_{2} \\gamma_{3} - \\alpha_{1} \\beta_{3} \\gamma_{2} - \\alpha_{2} \\beta_{1} \\gamma_{3} + \\alpha_{2} \\beta_{3} \\gamma_{1} + \\alpha_{3} \\beta_{1} \\gamma_{2} - \\alpha_{3} \\beta_{2} \\gamma_{1}$"
      ],
      "text/plain": [
       "alpha1*beta2*gamma3 - alpha1*beta3*gamma2 - alpha2*beta1*gamma3 + alpha2*beta3*gamma1 + alpha3*beta1*gamma2 - alpha3*beta2*gamma1"
      ]
     },
     "execution_count": 42,
     "metadata": {},
     "output_type": "execute_result"
    }
   ],
   "source": [
    "me.dot(beta, me.cross(gamma, alpha)).expand()"
   ]
  },
  {
   "cell_type": "markdown",
   "metadata": {},
   "source": [
    "# Problem 1.5\n",
    "\n",
    "We've already caculated these derivatives above, so we do it again but take the magnitudes of the vectors. Some need simplification to get the book result."
   ]
  },
  {
   "cell_type": "code",
   "execution_count": 43,
   "metadata": {},
   "outputs": [],
   "source": [
    "q1, q2, q3 = sm.symbols('q1:4')\n",
    "A = me.ReferenceFrame('A')\n",
    "B = A.orientnew('B', 'Axis', (q1, A.x))\n",
    "C = B.orientnew('C', 'Axis', (q2, B.y))\n",
    "D = C.orientnew('D', 'Axis', (q3, C.z))\n",
    "v = B.x + C.y + D.z"
   ]
  },
  {
   "cell_type": "code",
   "execution_count": 44,
   "metadata": {},
   "outputs": [
    {
     "data": {
      "text/latex": [
       "$\\displaystyle \\mathbf{\\hat{b}_x} + \\mathbf{\\hat{c}_y} + \\mathbf{\\hat{d}_z}$"
      ],
      "text/plain": [
       "B.x + C.y + D.z"
      ]
     },
     "execution_count": 44,
     "metadata": {},
     "output_type": "execute_result"
    }
   ],
   "source": [
    "v"
   ]
  },
  {
   "cell_type": "code",
   "execution_count": 45,
   "metadata": {},
   "outputs": [
    {
     "data": {
      "text/latex": [
       "$\\displaystyle (\\operatorname{sin}\\left(q_{2}\\right) + 1)\\mathbf{\\hat{a}_x} + (- \\operatorname{sin}\\left(q_{1}\\right) \\operatorname{cos}\\left(q_{2}\\right) + \\operatorname{cos}\\left(q_{1}\\right))\\mathbf{\\hat{a}_y} + (\\operatorname{sin}\\left(q_{1}\\right) + \\operatorname{cos}\\left(q_{1}\\right) \\operatorname{cos}\\left(q_{2}\\right))\\mathbf{\\hat{a}_z}$"
      ],
      "text/plain": [
       "(sin(q2) + 1)*A.x + (-sin(q1)*cos(q2) + cos(q1))*A.y + (sin(q1) + cos(q1)*cos(q2))*A.z"
      ]
     },
     "execution_count": 45,
     "metadata": {},
     "output_type": "execute_result"
    }
   ],
   "source": [
    "v.express(A)"
   ]
  },
  {
   "cell_type": "code",
   "execution_count": 46,
   "metadata": {},
   "outputs": [
    {
     "data": {
      "text/latex": [
       "$\\displaystyle -  \\operatorname{sin}\\left(q_{2}\\right)\\mathbf{\\hat{c}_x} + (- \\operatorname{sin}^{2}\\left(q_{3}\\right) \\operatorname{cos}\\left(q_{2}\\right) - \\operatorname{cos}\\left(q_{2}\\right) \\operatorname{cos}^{2}\\left(q_{3}\\right))\\mathbf{\\hat{c}_y} + \\operatorname{cos}\\left(q_{2}\\right)\\mathbf{\\hat{c}_z}$"
      ],
      "text/plain": [
       "- sin(q2)*C.x + (-sin(q3)**2*cos(q2) - cos(q2)*cos(q3)**2)*C.y + cos(q2)*C.z"
      ]
     },
     "execution_count": 46,
     "metadata": {},
     "output_type": "execute_result"
    }
   ],
   "source": [
    "v.diff(q1, A).simplify().express(C)"
   ]
  },
  {
   "cell_type": "code",
   "execution_count": 47,
   "metadata": {},
   "outputs": [
    {
     "data": {
      "text/latex": [
       "$\\displaystyle \\sqrt{\\cos^{2}{\\left(q_{2} \\right)} + 1}$"
      ],
      "text/plain": [
       "sqrt(cos(q2)**2 + 1)"
      ]
     },
     "execution_count": 47,
     "metadata": {},
     "output_type": "execute_result"
    }
   ],
   "source": [
    "v.diff(q1, A).magnitude().simplify()"
   ]
  },
  {
   "cell_type": "code",
   "execution_count": 48,
   "metadata": {},
   "outputs": [
    {
     "data": {
      "text/latex": [
       "$\\displaystyle \\sqrt{2 \\sin{\\left(q_{2} \\right)} + 3}$"
      ],
      "text/plain": [
       "sqrt(2*sin(q2) + 3)"
      ]
     },
     "execution_count": 48,
     "metadata": {},
     "output_type": "execute_result"
    }
   ],
   "source": [
    "v.magnitude()"
   ]
  },
  {
   "cell_type": "code",
   "execution_count": 49,
   "metadata": {},
   "outputs": [
    {
     "data": {
      "text/plain": [
       "sympy.core.power.Pow"
      ]
     },
     "execution_count": 49,
     "metadata": {},
     "output_type": "execute_result"
    }
   ],
   "source": [
    "type(v.magnitude())"
   ]
  },
  {
   "cell_type": "code",
   "execution_count": 50,
   "metadata": {},
   "outputs": [
    {
     "data": {
      "text/plain": [
       "sympy.core.add.Add"
      ]
     },
     "execution_count": 50,
     "metadata": {},
     "output_type": "execute_result"
    }
   ],
   "source": [
    "type(q1 + q2)"
   ]
  },
  {
   "cell_type": "code",
   "execution_count": 51,
   "metadata": {},
   "outputs": [
    {
     "data": {
      "text/plain": [
       "sympy.core.mul.Mul"
      ]
     },
     "execution_count": 51,
     "metadata": {},
     "output_type": "execute_result"
    }
   ],
   "source": [
    "type(q1*q2)"
   ]
  },
  {
   "cell_type": "markdown",
   "metadata": {},
   "source": [
    "This should be the same as differentiating the measure numbers!"
   ]
  },
  {
   "cell_type": "code",
   "execution_count": 52,
   "metadata": {},
   "outputs": [
    {
     "data": {
      "text/latex": [
       "$\\displaystyle \\sqrt{\\cos^{2}{\\left(q_{2} \\right)} + 1}$"
      ],
      "text/plain": [
       "sqrt(cos(q2)**2 + 1)"
      ]
     },
     "execution_count": 52,
     "metadata": {},
     "output_type": "execute_result"
    }
   ],
   "source": [
    "sm.sqrt(v.dot(A.x).diff(q1)**2 + v.dot(A.y).diff(q1)**2 + v.dot(A.z).diff(q1)**2).simplify()"
   ]
  },
  {
   "cell_type": "code",
   "execution_count": 53,
   "metadata": {},
   "outputs": [
    {
     "data": {
      "text/latex": [
       "$\\displaystyle 0$"
      ],
      "text/plain": [
       "0"
      ]
     },
     "execution_count": 53,
     "metadata": {},
     "output_type": "execute_result"
    }
   ],
   "source": [
    "v.diff(q1, B).magnitude()"
   ]
  },
  {
   "cell_type": "code",
   "execution_count": 54,
   "metadata": {},
   "outputs": [
    {
     "data": {
      "text/latex": [
       "$\\displaystyle 1$"
      ],
      "text/plain": [
       "1"
      ]
     },
     "execution_count": 54,
     "metadata": {},
     "output_type": "execute_result"
    }
   ],
   "source": [
    "v.diff(q2, C).magnitude().simplify()"
   ]
  },
  {
   "cell_type": "code",
   "execution_count": 55,
   "metadata": {},
   "outputs": [
    {
     "data": {
      "text/latex": [
       "$\\displaystyle 0$"
      ],
      "text/plain": [
       "0"
      ]
     },
     "execution_count": 55,
     "metadata": {},
     "output_type": "execute_result"
    }
   ],
   "source": [
    "v.diff(q3, C).magnitude()"
   ]
  },
  {
   "cell_type": "code",
   "execution_count": 56,
   "metadata": {},
   "outputs": [
    {
     "data": {
      "text/latex": [
       "$\\displaystyle 1$"
      ],
      "text/plain": [
       "1"
      ]
     },
     "execution_count": 56,
     "metadata": {},
     "output_type": "execute_result"
    }
   ],
   "source": [
    "v.diff(q2, D).magnitude().simplify()"
   ]
  },
  {
   "cell_type": "code",
   "execution_count": 57,
   "metadata": {},
   "outputs": [
    {
     "data": {
      "text/latex": [
       "$\\displaystyle 0$"
      ],
      "text/plain": [
       "0"
      ]
     },
     "execution_count": 57,
     "metadata": {},
     "output_type": "execute_result"
    }
   ],
   "source": [
    "v.diff(q1, D).magnitude()"
   ]
  },
  {
   "cell_type": "markdown",
   "metadata": {},
   "source": [
    "# Problem 1.6"
   ]
  },
  {
   "cell_type": "code",
   "execution_count": 58,
   "metadata": {},
   "outputs": [],
   "source": [
    "q1, q2, q3 = sm.symbols('q1:4')\n",
    "A = me.ReferenceFrame('A')\n",
    "B = A.orientnew('B', 'Axis', (q1, A.x))\n",
    "C = B.orientnew('C', 'Axis', (q2, B.y))\n",
    "D = C.orientnew('D', 'Axis', (q3, C.z))\n",
    "u = A.x + 2*A.y + 3*A.z"
   ]
  },
  {
   "cell_type": "markdown",
   "metadata": {},
   "source": [
    "The measure numbers can be found by expressing a vector in the desired reference frame and inspecting the expression for the scalars of each of the three unit vectors."
   ]
  },
  {
   "cell_type": "code",
   "execution_count": 59,
   "metadata": {},
   "outputs": [
    {
     "data": {
      "text/latex": [
       "$\\displaystyle 3\\mathbf{\\hat{a}_y} - 2\\mathbf{\\hat{a}_z}$"
      ],
      "text/plain": [
       "3*A.y - 2*A.z"
      ]
     },
     "execution_count": 59,
     "metadata": {},
     "output_type": "execute_result"
    }
   ],
   "source": [
    "u.diff(q1, B).express(A).simplify()"
   ]
  },
  {
   "cell_type": "markdown",
   "metadata": {},
   "source": [
    "Each measure number can be extracted by using the dot product with each unit vector, i.e. finding the magnitude of the projection of the vector on that axis."
   ]
  },
  {
   "cell_type": "code",
   "execution_count": 60,
   "metadata": {},
   "outputs": [
    {
     "data": {
      "text/latex": [
       "$\\displaystyle 0$"
      ],
      "text/plain": [
       "0"
      ]
     },
     "execution_count": 60,
     "metadata": {},
     "output_type": "execute_result"
    }
   ],
   "source": [
    "u.diff(q1, B).dot(A.x)"
   ]
  },
  {
   "cell_type": "code",
   "execution_count": 61,
   "metadata": {},
   "outputs": [
    {
     "data": {
      "text/latex": [
       "$\\displaystyle 3$"
      ],
      "text/plain": [
       "3"
      ]
     },
     "execution_count": 61,
     "metadata": {},
     "output_type": "execute_result"
    }
   ],
   "source": [
    "u.diff(q1, B).dot(A.y).simplify()"
   ]
  },
  {
   "cell_type": "code",
   "execution_count": 62,
   "metadata": {},
   "outputs": [
    {
     "data": {
      "text/latex": [
       "$\\displaystyle -2$"
      ],
      "text/plain": [
       "-2"
      ]
     },
     "execution_count": 62,
     "metadata": {},
     "output_type": "execute_result"
    }
   ],
   "source": [
    "u.diff(q1, B).dot(A.z).simplify()"
   ]
  },
  {
   "cell_type": "markdown",
   "metadata": {},
   "source": [
    "Similiarly for the other two derivatives."
   ]
  },
  {
   "cell_type": "code",
   "execution_count": 63,
   "metadata": {},
   "outputs": [
    {
     "data": {
      "text/latex": [
       "$\\displaystyle (- 2 \\operatorname{sin}\\left(q_{1}\\right) + 3 \\operatorname{cos}\\left(q_{1}\\right))\\mathbf{\\hat{b}_y} + (- 3 \\operatorname{sin}\\left(q_{1}\\right) - 2 \\operatorname{cos}\\left(q_{1}\\right))\\mathbf{\\hat{b}_z}$"
      ],
      "text/plain": [
       "(-2*sin(q1) + 3*cos(q1))*B.y + (-3*sin(q1) - 2*cos(q1))*B.z"
      ]
     },
     "execution_count": 63,
     "metadata": {},
     "output_type": "execute_result"
    }
   ],
   "source": [
    "u.diff(q1, B).express(B).simplify()"
   ]
  },
  {
   "cell_type": "code",
   "execution_count": 64,
   "metadata": {},
   "outputs": [
    {
     "data": {
      "text/latex": [
       "$\\displaystyle 0$"
      ],
      "text/plain": [
       "0"
      ]
     },
     "execution_count": 64,
     "metadata": {},
     "output_type": "execute_result"
    }
   ],
   "source": [
    "u.diff(q1, A).express(A).simplify()"
   ]
  },
  {
   "cell_type": "markdown",
   "metadata": {},
   "source": [
    "There is convenience method for getting measure numbers in matrix form too:"
   ]
  },
  {
   "cell_type": "code",
   "execution_count": 65,
   "metadata": {},
   "outputs": [
    {
     "data": {
      "text/latex": [
       "$\\displaystyle \\left[\\begin{matrix}0\\\\3\\\\-2\\end{matrix}\\right]$"
      ],
      "text/plain": [
       "Matrix([\n",
       "[ 0],\n",
       "[ 3],\n",
       "[-2]])"
      ]
     },
     "execution_count": 65,
     "metadata": {},
     "output_type": "execute_result"
    }
   ],
   "source": [
    "u.diff(q1, B).to_matrix(A).simplify()"
   ]
  },
  {
   "cell_type": "markdown",
   "metadata": {},
   "source": [
    "# Problem 1.7"
   ]
  },
  {
   "cell_type": "code",
   "execution_count": 66,
   "metadata": {},
   "outputs": [],
   "source": [
    "q1, q2, q3 = sm.symbols('q1:4')\n",
    "A = me.ReferenceFrame('A')\n",
    "B = A.orientnew('B', 'Axis', (q1, A.x))\n",
    "C = B.orientnew('C', 'Axis', (q2, B.y))\n",
    "D = C.orientnew('D', 'Axis', (q3, C.z))"
   ]
  },
  {
   "cell_type": "code",
   "execution_count": 67,
   "metadata": {},
   "outputs": [],
   "source": [
    "alpha = q1 + q2 + q3\n",
    "beta = q1**2 + q2**2 + q3**2\n",
    "gamma = q1**3 + q2**3 + q3**3"
   ]
  },
  {
   "cell_type": "code",
   "execution_count": 68,
   "metadata": {},
   "outputs": [],
   "source": [
    "r_PQ = alpha * A.x +  beta * B.y + gamma * C.z"
   ]
  },
  {
   "cell_type": "code",
   "execution_count": 69,
   "metadata": {},
   "outputs": [
    {
     "data": {
      "text/latex": [
       "$\\displaystyle (q_{1} + q_{2} + q_{3})\\mathbf{\\hat{a}_x} + (q_{1}^{2} + q_{2}^{2} + q_{3}^{2})\\mathbf{\\hat{b}_y} + (q_{1}^{3} + q_{2}^{3} + q_{3}^{3})\\mathbf{\\hat{c}_z}$"
      ],
      "text/plain": [
       "(q1 + q2 + q3)*A.x + (q1**2 + q2**2 + q3**2)*B.y + (q1**3 + q2**3 + q3**3)*C.z"
      ]
     },
     "execution_count": 69,
     "metadata": {},
     "output_type": "execute_result"
    }
   ],
   "source": [
    "r_PQ"
   ]
  },
  {
   "cell_type": "code",
   "execution_count": 70,
   "metadata": {},
   "outputs": [
    {
     "data": {
      "text/latex": [
       "$\\displaystyle \\mathbf{\\hat{a}_x} -  \\left(q_{1} + q_{2} + q_{3}\\right) \\operatorname{cos}\\left(q_{1}\\right) \\operatorname{cos}\\left(q_{2}\\right)\\mathbf{\\hat{a}_y} -  \\left(q_{1} + q_{2} + q_{3}\\right) \\operatorname{sin}\\left(q_{1}\\right) \\operatorname{cos}\\left(q_{2}\\right)\\mathbf{\\hat{a}_z} + \\left(q_{1}^{2} + q_{2}^{2} + q_{3}^{2}\\right) \\operatorname{cos}\\left(q_{2}\\right)\\mathbf{\\hat{b}_x} + 2 q_{3}\\mathbf{\\hat{b}_y} -  \\left(q_{1}^{2} + q_{2}^{2} + q_{3}^{2}\\right) \\operatorname{sin}\\left(q_{2}\\right)\\mathbf{\\hat{b}_z} + 3 q_{3}^{2}\\mathbf{\\hat{c}_z}$"
      ],
      "text/plain": [
       "A.x - (q1 + q2 + q3)*cos(q1)*cos(q2)*A.y - (q1 + q2 + q3)*sin(q1)*cos(q2)*A.z + (q1**2 + q2**2 + q3**2)*cos(q2)*B.x + 2*q3*B.y - (q1**2 + q2**2 + q3**2)*sin(q2)*B.z + 3*q3**2*C.z"
      ]
     },
     "execution_count": 70,
     "metadata": {},
     "output_type": "execute_result"
    }
   ],
   "source": [
    "dr_dq3_D = r_PQ.diff(q3, D).simplify()\n",
    "dr_dq3_D"
   ]
  },
  {
   "cell_type": "code",
   "execution_count": 71,
   "metadata": {},
   "outputs": [
    {
     "data": {
      "text/latex": [
       "$\\displaystyle \\sqrt{1 + \\frac{\\pi^{4}}{16} + \\frac{3 \\pi^{2}}{4}}$"
      ],
      "text/plain": [
       "sqrt(1 + pi**4/16 + 3*pi**2/4)"
      ]
     },
     "execution_count": 71,
     "metadata": {},
     "output_type": "execute_result"
    }
   ],
   "source": [
    "dr_dq3_D.subs({q1: sm.pi/2, q2: 0, q3: 0}).magnitude()"
   ]
  },
  {
   "cell_type": "markdown",
   "metadata": {},
   "source": [
    "# Problem 1.8"
   ]
  },
  {
   "cell_type": "code",
   "execution_count": 72,
   "metadata": {},
   "outputs": [],
   "source": [
    "A = me.ReferenceFrame('A')"
   ]
  },
  {
   "cell_type": "code",
   "execution_count": 73,
   "metadata": {},
   "outputs": [],
   "source": [
    "v1, v2, v3 = me.dynamicsymbols('v1:4')"
   ]
  },
  {
   "cell_type": "code",
   "execution_count": 74,
   "metadata": {},
   "outputs": [],
   "source": [
    "v = v1 * A.x + v2 * A.y + v3 * A.z"
   ]
  },
  {
   "cell_type": "code",
   "execution_count": 75,
   "metadata": {},
   "outputs": [
    {
     "data": {
      "text/latex": [
       "$\\displaystyle \\operatorname{v_{1}}{\\left(t \\right)} \\frac{d}{d t} \\operatorname{v_{1}}{\\left(t \\right)} + \\operatorname{v_{2}}{\\left(t \\right)} \\frac{d}{d t} \\operatorname{v_{2}}{\\left(t \\right)} + \\operatorname{v_{3}}{\\left(t \\right)} \\frac{d}{d t} \\operatorname{v_{3}}{\\left(t \\right)}$"
      ],
      "text/plain": [
       "v1(t)*Derivative(v1(t), t) + v2(t)*Derivative(v2(t), t) + v3(t)*Derivative(v3(t), t)"
      ]
     },
     "execution_count": 75,
     "metadata": {},
     "output_type": "execute_result"
    }
   ],
   "source": [
    "v.magnitude() * v.magnitude().diff(t)"
   ]
  },
  {
   "cell_type": "code",
   "execution_count": 76,
   "metadata": {},
   "outputs": [
    {
     "data": {
      "text/latex": [
       "$\\displaystyle \\operatorname{v_{1}}{\\left(t \\right)} \\frac{d}{d t} \\operatorname{v_{1}}{\\left(t \\right)} + \\operatorname{v_{2}}{\\left(t \\right)} \\frac{d}{d t} \\operatorname{v_{2}}{\\left(t \\right)} + \\operatorname{v_{3}}{\\left(t \\right)} \\frac{d}{d t} \\operatorname{v_{3}}{\\left(t \\right)}$"
      ],
      "text/plain": [
       "v1(t)*Derivative(v1(t), t) + v2(t)*Derivative(v2(t), t) + v3(t)*Derivative(v3(t), t)"
      ]
     },
     "execution_count": 76,
     "metadata": {},
     "output_type": "execute_result"
    }
   ],
   "source": [
    "me.dot(v, v.dt(A))"
   ]
  },
  {
   "cell_type": "markdown",
   "metadata": {},
   "source": [
    "A unit vector aligned with $\\mathbf{v}$ for all time can be found by dividing by the magnitude:"
   ]
  },
  {
   "cell_type": "code",
   "execution_count": 77,
   "metadata": {},
   "outputs": [
    {
     "data": {
      "text/latex": [
       "$\\displaystyle \\frac{v_{1}}{\\sqrt{v^{2}_{1} + v^{2}_{2} + v^{2}_{3}}}\\mathbf{\\hat{a}_x} + \\frac{v_{2}}{\\sqrt{v^{2}_{1} + v^{2}_{2} + v^{2}_{3}}}\\mathbf{\\hat{a}_y} + \\frac{v_{3}}{\\sqrt{v^{2}_{1} + v^{2}_{2} + v^{2}_{3}}}\\mathbf{\\hat{a}_z}$"
      ],
      "text/plain": [
       "v1/sqrt(v1**2 + v2**2 + v3**2)*A.x + v2/sqrt(v1**2 + v2**2 + v3**2)*A.y + v3/sqrt(v1**2 + v2**2 + v3**2)*A.z"
      ]
     },
     "execution_count": 77,
     "metadata": {},
     "output_type": "execute_result"
    }
   ],
   "source": [
    "v / v.magnitude()"
   ]
  },
  {
   "cell_type": "markdown",
   "metadata": {},
   "source": [
    "The `normalize()` method of vectors does this operation:"
   ]
  },
  {
   "cell_type": "code",
   "execution_count": 78,
   "metadata": {},
   "outputs": [],
   "source": [
    "u = v.normalize()"
   ]
  },
  {
   "cell_type": "code",
   "execution_count": 79,
   "metadata": {},
   "outputs": [
    {
     "data": {
      "text/latex": [
       "$\\displaystyle \\frac{v_{1}}{\\sqrt{v^{2}_{1} + v^{2}_{2} + v^{2}_{3}}}\\mathbf{\\hat{a}_x} + \\frac{v_{2}}{\\sqrt{v^{2}_{1} + v^{2}_{2} + v^{2}_{3}}}\\mathbf{\\hat{a}_y} + \\frac{v_{3}}{\\sqrt{v^{2}_{1} + v^{2}_{2} + v^{2}_{3}}}\\mathbf{\\hat{a}_z}$"
      ],
      "text/plain": [
       "v1/sqrt(v1**2 + v2**2 + v3**2)*A.x + v2/sqrt(v1**2 + v2**2 + v3**2)*A.y + v3/sqrt(v1**2 + v2**2 + v3**2)*A.z"
      ]
     },
     "execution_count": 79,
     "metadata": {},
     "output_type": "execute_result"
    }
   ],
   "source": [
    "u"
   ]
  },
  {
   "cell_type": "code",
   "execution_count": 80,
   "metadata": {},
   "outputs": [
    {
     "data": {
      "text/latex": [
       "$\\displaystyle (\\frac{\\left(- v_{1} \\dot{v}_{1} - v_{2} \\dot{v}_{2} - v_{3} \\dot{v}_{3}\\right) v_{1}}{\\left(v^{2}_{1} + v^{2}_{2} + v^{2}_{3}\\right)^{\\frac{3}{2}}} + \\frac{\\dot{v}_{1}}{\\sqrt{v^{2}_{1} + v^{2}_{2} + v^{2}_{3}}})\\mathbf{\\hat{a}_x} + (\\frac{\\left(- v_{1} \\dot{v}_{1} - v_{2} \\dot{v}_{2} - v_{3} \\dot{v}_{3}\\right) v_{2}}{\\left(v^{2}_{1} + v^{2}_{2} + v^{2}_{3}\\right)^{\\frac{3}{2}}} + \\frac{\\dot{v}_{2}}{\\sqrt{v^{2}_{1} + v^{2}_{2} + v^{2}_{3}}})\\mathbf{\\hat{a}_y} + (\\frac{\\left(- v_{1} \\dot{v}_{1} - v_{2} \\dot{v}_{2} - v_{3} \\dot{v}_{3}\\right) v_{3}}{\\left(v^{2}_{1} + v^{2}_{2} + v^{2}_{3}\\right)^{\\frac{3}{2}}} + \\frac{\\dot{v}_{3}}{\\sqrt{v^{2}_{1} + v^{2}_{2} + v^{2}_{3}}})\\mathbf{\\hat{a}_z}$"
      ],
      "text/plain": [
       "((-v1*v1' - v2*v2' - v3*v3')*v1/(v1**2 + v2**2 + v3**2)**(3/2) + v1'/sqrt(v1**2 + v2**2 + v3**2))*A.x + ((-v1*v1' - v2*v2' - v3*v3')*v2/(v1**2 + v2**2 + v3**2)**(3/2) + v2'/sqrt(v1**2 + v2**2 + v3**2))*A.y + ((-v1*v1' - v2*v2' - v3*v3')*v3/(v1**2 + v2**2 + v3**2)**(3/2) + v3'/sqrt(v1**2 + v2**2 + v3**2))*A.z"
      ]
     },
     "execution_count": 80,
     "metadata": {},
     "output_type": "execute_result"
    }
   ],
   "source": [
    "u.dt(A)"
   ]
  },
  {
   "cell_type": "markdown",
   "metadata": {},
   "source": [
    "To show that the expression in the book is the same:"
   ]
  },
  {
   "cell_type": "code",
   "execution_count": 81,
   "metadata": {},
   "outputs": [
    {
     "data": {
      "text/latex": [
       "$\\displaystyle (- \\frac{v^{2}_{1} \\dot{v}_{1} + v_{1} v_{2} \\dot{v}_{2} + v_{1} v_{3} \\dot{v}_{3}}{\\left(v^{2}_{1} + v^{2}_{2} + v^{2}_{3}\\right)^{\\frac{3}{2}}} + \\frac{\\dot{v}_{1}}{\\sqrt{v^{2}_{1} + v^{2}_{2} + v^{2}_{3}}})\\mathbf{\\hat{a}_x} + (- \\frac{v_{1} v_{2} \\dot{v}_{1} + v^{2}_{2} \\dot{v}_{2} + v_{2} v_{3} \\dot{v}_{3}}{\\left(v^{2}_{1} + v^{2}_{2} + v^{2}_{3}\\right)^{\\frac{3}{2}}} + \\frac{\\dot{v}_{2}}{\\sqrt{v^{2}_{1} + v^{2}_{2} + v^{2}_{3}}})\\mathbf{\\hat{a}_y} + (- \\frac{v_{1} v_{3} \\dot{v}_{1} + v_{2} v_{3} \\dot{v}_{2} + v^{2}_{3} \\dot{v}_{3}}{\\left(v^{2}_{1} + v^{2}_{2} + v^{2}_{3}\\right)^{\\frac{3}{2}}} + \\frac{\\dot{v}_{3}}{\\sqrt{v^{2}_{1} + v^{2}_{2} + v^{2}_{3}}})\\mathbf{\\hat{a}_z}$"
      ],
      "text/plain": [
       "(-(v1**2*v1' + v1*v2*v2' + v1*v3*v3')/(v1**2 + v2**2 + v3**2)**(3/2) + v1'/sqrt(v1**2 + v2**2 + v3**2))*A.x + (-(v1*v2*v1' + v2**2*v2' + v2*v3*v3')/(v1**2 + v2**2 + v3**2)**(3/2) + v2'/sqrt(v1**2 + v2**2 + v3**2))*A.y + (-(v1*v3*v1' + v2*v3*v2' + v3**2*v3')/(v1**2 + v2**2 + v3**2)**(3/2) + v3'/sqrt(v1**2 + v2**2 + v3**2))*A.z"
      ]
     },
     "execution_count": 81,
     "metadata": {},
     "output_type": "execute_result"
    }
   ],
   "source": [
    "v.dt(A) / v.magnitude() - v.outer(v).dot(v.dt(A))/v.magnitude()**3"
   ]
  },
  {
   "cell_type": "markdown",
   "metadata": {},
   "source": [
    "# Problem 1.9"
   ]
  },
  {
   "cell_type": "code",
   "execution_count": 82,
   "metadata": {},
   "outputs": [],
   "source": [
    "q1, q2 = sm.symbols('q1, q2')"
   ]
  },
  {
   "cell_type": "code",
   "execution_count": 83,
   "metadata": {},
   "outputs": [
    {
     "data": {
      "text/latex": [
       "$\\displaystyle f{\\left(q_{1},q_{2} \\right)}$"
      ],
      "text/plain": [
       "f(q1, q2)"
      ]
     },
     "execution_count": 83,
     "metadata": {},
     "output_type": "execute_result"
    }
   ],
   "source": [
    "f = sm.Function('f')(q1, q2)\n",
    "f"
   ]
  },
  {
   "cell_type": "code",
   "execution_count": 84,
   "metadata": {},
   "outputs": [
    {
     "data": {
      "text/latex": [
       "$\\displaystyle g{\\left(q_{1},q_{2} \\right)}$"
      ],
      "text/plain": [
       "g(q1, q2)"
      ]
     },
     "execution_count": 84,
     "metadata": {},
     "output_type": "execute_result"
    }
   ],
   "source": [
    "g = sm.Function('g')(q1, q2)\n",
    "g"
   ]
  },
  {
   "cell_type": "code",
   "execution_count": 85,
   "metadata": {},
   "outputs": [
    {
     "data": {
      "text/latex": [
       "$\\displaystyle \\frac{\\partial}{\\partial q_{1}} h{\\left(q_{1},q_{2} \\right)}$"
      ],
      "text/plain": [
       "Derivative(h(q1, q2), q1)"
      ]
     },
     "execution_count": 85,
     "metadata": {},
     "output_type": "execute_result"
    }
   ],
   "source": [
    "h = sm.Function('h')\n",
    "type(h)\n",
    "h(q1, q2).diff(q1)"
   ]
  },
  {
   "cell_type": "code",
   "execution_count": 86,
   "metadata": {},
   "outputs": [],
   "source": [
    "theta = sm.Function('theta')(q1, q2)"
   ]
  },
  {
   "cell_type": "code",
   "execution_count": 87,
   "metadata": {},
   "outputs": [],
   "source": [
    "A = me.ReferenceFrame('A')\n",
    "B = me.ReferenceFrame('B')"
   ]
  },
  {
   "cell_type": "code",
   "execution_count": 88,
   "metadata": {},
   "outputs": [],
   "source": [
    "B.orient(A, 'Axis', (theta, A.z))"
   ]
  },
  {
   "cell_type": "code",
   "execution_count": 89,
   "metadata": {},
   "outputs": [
    {
     "data": {
      "text/latex": [
       "$\\displaystyle \\operatorname{f}\\left(q_{1},q_{2}\\right)\\mathbf{\\hat{a}_x} + \\operatorname{g}\\left(q_{1},q_{2}\\right)\\mathbf{\\hat{a}_y}$"
      ],
      "text/plain": [
       "f(q1, q2)*A.x + g(q1, q2)*A.y"
      ]
     },
     "execution_count": 89,
     "metadata": {},
     "output_type": "execute_result"
    }
   ],
   "source": [
    "v = f * A.x + g * A.y\n",
    "v"
   ]
  },
  {
   "cell_type": "markdown",
   "metadata": {},
   "source": [
    "Left side of the equation simplifies to the expected expression:"
   ]
  },
  {
   "cell_type": "code",
   "execution_count": 90,
   "metadata": {},
   "outputs": [
    {
     "data": {
      "text/latex": [
       "$\\displaystyle \\operatorname{g}\\left(q_{1},q_{2}\\right) \\frac{\\partial^{2}}{\\partial q_{2}\\partial q_{1}} \\theta{\\left(q_{1},q_{2} \\right)}\\mathbf{\\hat{a}_x} -  \\operatorname{f}\\left(q_{1},q_{2}\\right) \\frac{\\partial^{2}}{\\partial q_{2}\\partial q_{1}} \\theta{\\left(q_{1},q_{2} \\right)}\\mathbf{\\hat{a}_y}$"
      ],
      "text/plain": [
       "g(q1, q2)*Derivative(theta(q1, q2), q1, q2)*A.x - f(q1, q2)*Derivative(theta(q1, q2), q1, q2)*A.y"
      ]
     },
     "execution_count": 90,
     "metadata": {},
     "output_type": "execute_result"
    }
   ],
   "source": [
    "(v.diff(q2, B).diff(q1, A) - v.diff(q1, A).diff(q2, B)).simplify()"
   ]
  },
  {
   "cell_type": "markdown",
   "metadata": {},
   "source": [
    "Make sure you can get these result when taking the derivatives (it is worth doing some by hand):"
   ]
  },
  {
   "cell_type": "code",
   "execution_count": 91,
   "metadata": {},
   "outputs": [
    {
     "data": {
      "text/latex": [
       "$\\displaystyle (\\operatorname{g}\\left(q_{1},q_{2}\\right) \\frac{\\partial}{\\partial q_{2}} \\theta{\\left(q_{1},q_{2} \\right)} + \\frac{\\partial}{\\partial q_{2}} f{\\left(q_{1},q_{2} \\right)})\\mathbf{\\hat{a}_x} + (- \\operatorname{f}\\left(q_{1},q_{2}\\right) \\frac{\\partial}{\\partial q_{2}} \\theta{\\left(q_{1},q_{2} \\right)} + \\frac{\\partial}{\\partial q_{2}} g{\\left(q_{1},q_{2} \\right)})\\mathbf{\\hat{a}_y}$"
      ],
      "text/plain": [
       "(g(q1, q2)*Derivative(theta(q1, q2), q2) + Derivative(f(q1, q2), q2))*A.x + (-f(q1, q2)*Derivative(theta(q1, q2), q2) + Derivative(g(q1, q2), q2))*A.y"
      ]
     },
     "execution_count": 91,
     "metadata": {},
     "output_type": "execute_result"
    }
   ],
   "source": [
    "v.diff(q2, B).simplify()"
   ]
  },
  {
   "cell_type": "code",
   "execution_count": 92,
   "metadata": {},
   "outputs": [
    {
     "data": {
      "text/latex": [
       "$\\displaystyle (\\operatorname{g}\\left(q_{1},q_{2}\\right) \\frac{\\partial^{2}}{\\partial q_{2}\\partial q_{1}} \\theta{\\left(q_{1},q_{2} \\right)} + \\frac{\\partial}{\\partial q_{1}} g{\\left(q_{1},q_{2} \\right)} \\frac{\\partial}{\\partial q_{2}} \\theta{\\left(q_{1},q_{2} \\right)} + \\frac{\\partial^{2}}{\\partial q_{2}\\partial q_{1}} f{\\left(q_{1},q_{2} \\right)})\\mathbf{\\hat{a}_x} + (- \\operatorname{f}\\left(q_{1},q_{2}\\right) \\frac{\\partial^{2}}{\\partial q_{2}\\partial q_{1}} \\theta{\\left(q_{1},q_{2} \\right)} - \\frac{\\partial}{\\partial q_{1}} f{\\left(q_{1},q_{2} \\right)} \\frac{\\partial}{\\partial q_{2}} \\theta{\\left(q_{1},q_{2} \\right)} + \\frac{\\partial^{2}}{\\partial q_{2}\\partial q_{1}} g{\\left(q_{1},q_{2} \\right)})\\mathbf{\\hat{a}_y}$"
      ],
      "text/plain": [
       "(g(q1, q2)*Derivative(theta(q1, q2), q1, q2) + Derivative(g(q1, q2), q1)*Derivative(theta(q1, q2), q2) + Derivative(f(q1, q2), q1, q2))*A.x + (-f(q1, q2)*Derivative(theta(q1, q2), q1, q2) - Derivative(f(q1, q2), q1)*Derivative(theta(q1, q2), q2) + Derivative(g(q1, q2), q1, q2))*A.y"
      ]
     },
     "execution_count": 92,
     "metadata": {},
     "output_type": "execute_result"
    }
   ],
   "source": [
    "v.diff(q2, B).diff(q1, A).simplify()"
   ]
  },
  {
   "cell_type": "markdown",
   "metadata": {},
   "source": [
    "# Problem 1.10"
   ]
  },
  {
   "cell_type": "code",
   "execution_count": 93,
   "metadata": {},
   "outputs": [],
   "source": [
    "L = me.ReferenceFrame('L')  # The laboratory frame\n",
    "C = me.ReferenceFrame('C')  # The disc frame\n",
    "R = me.ReferenceFrame('R')  # The rod frame"
   ]
  },
  {
   "cell_type": "markdown",
   "metadata": {},
   "source": [
    "We need the q's to be functions of time so you can use `dynamicsymbols()` to create these more easily that using `Function()` explicitly."
   ]
  },
  {
   "cell_type": "code",
   "execution_count": 94,
   "metadata": {},
   "outputs": [
    {
     "data": {
      "text/plain": [
       "(q1(t), q2(t))"
      ]
     },
     "execution_count": 94,
     "metadata": {},
     "output_type": "execute_result"
    }
   ],
   "source": [
    "q1, q2 = me.dynamicsymbols('q1, q2')\n",
    "q1, q2"
   ]
  },
  {
   "cell_type": "code",
   "execution_count": 95,
   "metadata": {},
   "outputs": [],
   "source": [
    "r = sm.symbols('r', real=True)"
   ]
  },
  {
   "cell_type": "markdown",
   "metadata": {},
   "source": [
    "I'll assume that when $q_1=0$ the $L$ and $C$ unit vectors are equivalent, so a simple rotation about the 1 axis will orient $C$ with respect to $L$."
   ]
  },
  {
   "cell_type": "code",
   "execution_count": 96,
   "metadata": {},
   "outputs": [],
   "source": [
    "C.orient(L, 'Axis', (q1, L.x))"
   ]
  },
  {
   "cell_type": "markdown",
   "metadata": {},
   "source": [
    "Similarly, I'll assume that when $q_2=0$ the rod points in the $-\\mathbf{c}_1$ direction."
   ]
  },
  {
   "cell_type": "code",
   "execution_count": 97,
   "metadata": {},
   "outputs": [],
   "source": [
    "R.orient(C, 'Axis', (q2, C.y))"
   ]
  },
  {
   "cell_type": "markdown",
   "metadata": {},
   "source": [
    "Verify the first two derivatives."
   ]
  },
  {
   "cell_type": "code",
   "execution_count": 98,
   "metadata": {},
   "outputs": [
    {
     "data": {
      "text/latex": [
       "$\\displaystyle \\mathbf{\\hat{c}_z}$"
      ],
      "text/plain": [
       "C.z"
      ]
     },
     "execution_count": 98,
     "metadata": {},
     "output_type": "execute_result"
    }
   ],
   "source": [
    "C.y.diff(q1, L).simplify()"
   ]
  },
  {
   "cell_type": "code",
   "execution_count": 99,
   "metadata": {},
   "outputs": [
    {
     "data": {
      "text/latex": [
       "$\\displaystyle - \\mathbf{\\hat{c}_y}$"
      ],
      "text/plain": [
       "- C.y"
      ]
     },
     "execution_count": 99,
     "metadata": {},
     "output_type": "execute_result"
    }
   ],
   "source": [
    "C.z.diff(q1, L).simplify()"
   ]
  },
  {
   "cell_type": "markdown",
   "metadata": {},
   "source": [
    "Form the vector from $O$ to $P$, making use of the two reference frames."
   ]
  },
  {
   "cell_type": "code",
   "execution_count": 100,
   "metadata": {},
   "outputs": [],
   "source": [
    "p = r*C.y - 3*r*R.x"
   ]
  },
  {
   "cell_type": "code",
   "execution_count": 101,
   "metadata": {},
   "outputs": [
    {
     "data": {
      "text/latex": [
       "$\\displaystyle r\\mathbf{\\hat{c}_y} -  3 r\\mathbf{\\hat{r}_x}$"
      ],
      "text/plain": [
       "r*C.y - 3*r*R.x"
      ]
     },
     "execution_count": 101,
     "metadata": {},
     "output_type": "execute_result"
    }
   ],
   "source": [
    "p"
   ]
  },
  {
   "cell_type": "code",
   "execution_count": 102,
   "metadata": {},
   "outputs": [
    {
     "data": {
      "text/latex": [
       "$\\displaystyle -  3 r \\operatorname{cos}\\left(q_{2}\\right)\\mathbf{\\hat{c}_x} + r\\mathbf{\\hat{c}_y} + 3 r \\operatorname{sin}\\left(q_{2}\\right)\\mathbf{\\hat{c}_z}$"
      ],
      "text/plain": [
       "- 3*r*cos(q2)*C.x + r*C.y + 3*r*sin(q2)*C.z"
      ]
     },
     "execution_count": 102,
     "metadata": {},
     "output_type": "execute_result"
    }
   ],
   "source": [
    "p.express(C)"
   ]
  },
  {
   "cell_type": "code",
   "execution_count": 103,
   "metadata": {},
   "outputs": [
    {
     "data": {
      "text/latex": [
       "$\\displaystyle r \\dot{q}_{1}\\mathbf{\\hat{c}_z} -  3 r \\operatorname{sin}\\left(q_{2}\\right) \\dot{q}_{1}\\mathbf{\\hat{r}_y} + 3 r \\dot{q}_{2}\\mathbf{\\hat{r}_z}$"
      ],
      "text/plain": [
       "r*q1'*C.z - 3*r*sin(q2)*q1'*R.y + 3*r*q2'*R.z"
      ]
     },
     "execution_count": 103,
     "metadata": {},
     "output_type": "execute_result"
    }
   ],
   "source": [
    "p.dt(L)"
   ]
  },
  {
   "cell_type": "markdown",
   "metadata": {},
   "source": [
    "The following expression matches the result in the book:"
   ]
  },
  {
   "cell_type": "code",
   "execution_count": 104,
   "metadata": {},
   "outputs": [
    {
     "data": {
      "text/latex": [
       "$\\displaystyle 3 r \\operatorname{sin}\\left(q_{2}\\right) \\dot{q}_{2}\\mathbf{\\hat{c}_x} -  3 r \\operatorname{sin}\\left(q_{2}\\right) \\dot{q}_{1}\\mathbf{\\hat{c}_y} + (3 r \\operatorname{cos}\\left(q_{2}\\right) \\dot{q}_{2} + r \\dot{q}_{1})\\mathbf{\\hat{c}_z}$"
      ],
      "text/plain": [
       "3*r*sin(q2)*q2'*C.x - 3*r*sin(q2)*q1'*C.y + (3*r*cos(q2)*q2' + r*q1')*C.z"
      ]
     },
     "execution_count": 104,
     "metadata": {},
     "output_type": "execute_result"
    }
   ],
   "source": [
    "p.dt(L).express(C)"
   ]
  },
  {
   "cell_type": "markdown",
   "metadata": {},
   "source": [
    "# Problem 1.11"
   ]
  },
  {
   "cell_type": "markdown",
   "metadata": {},
   "source": [
    "Start by creating a vector that has measure numbers that are functions of time."
   ]
  },
  {
   "cell_type": "code",
   "execution_count": 105,
   "metadata": {},
   "outputs": [],
   "source": [
    "N = me.ReferenceFrame('N')"
   ]
  },
  {
   "cell_type": "code",
   "execution_count": 106,
   "metadata": {},
   "outputs": [],
   "source": [
    "a1, a2, a3 = me.dynamicsymbols('a1:4')"
   ]
  },
  {
   "cell_type": "code",
   "execution_count": 107,
   "metadata": {},
   "outputs": [
    {
     "data": {
      "text/latex": [
       "$\\displaystyle a_{1}\\mathbf{\\hat{n}_x} + a_{2}\\mathbf{\\hat{n}_y} + a_{3}\\mathbf{\\hat{n}_z}$"
      ],
      "text/plain": [
       "a1*N.x + a2*N.y + a3*N.z"
      ]
     },
     "execution_count": 107,
     "metadata": {},
     "output_type": "execute_result"
    }
   ],
   "source": [
    "v = a1*N.x + a2*N.y + a3*N.z\n",
    "v"
   ]
  },
  {
   "cell_type": "markdown",
   "metadata": {},
   "source": [
    "Now create a unit vector that is always aligned with $\\mathbf{v}$."
   ]
  },
  {
   "cell_type": "code",
   "execution_count": 108,
   "metadata": {},
   "outputs": [
    {
     "data": {
      "text/latex": [
       "$\\displaystyle \\frac{a_{1}}{\\sqrt{a^{2}_{1} + a^{2}_{2} + a^{2}_{3}}}\\mathbf{\\hat{n}_x} + \\frac{a_{2}}{\\sqrt{a^{2}_{1} + a^{2}_{2} + a^{2}_{3}}}\\mathbf{\\hat{n}_y} + \\frac{a_{3}}{\\sqrt{a^{2}_{1} + a^{2}_{2} + a^{2}_{3}}}\\mathbf{\\hat{n}_z}$"
      ],
      "text/plain": [
       "a1/sqrt(a1**2 + a2**2 + a3**2)*N.x + a2/sqrt(a1**2 + a2**2 + a3**2)*N.y + a3/sqrt(a1**2 + a2**2 + a3**2)*N.z"
      ]
     },
     "execution_count": 108,
     "metadata": {},
     "output_type": "execute_result"
    }
   ],
   "source": [
    "u = v.normalize()\n",
    "u"
   ]
  },
  {
   "cell_type": "markdown",
   "metadata": {},
   "source": [
    "We are told that at $t^*$ vector $\\mathbf{v}$ has specific properities. We can then infer that:\n",
    "\n",
    "- $\\mathbf{a}_1(t^*)=1,\\mathbf{a}_2(t^*)=0,\\mathbf{a}_3(t^*)=0$\n",
    "- $\\dot{\\mathbf{a}}_1(t^*)=0,\\dot{\\mathbf{a}}_2(t^*)=1,\\dot{\\mathbf{a}}_3(t^*)=0$\n",
    "- $\\ddot{\\mathbf{a}}_1(t^*)=0,\\ddot{\\mathbf{a}}_2(t^*)=0,\\ddot{\\mathbf{a}}_3(t^*)=1$\n",
    "\n",
    "So twice differentiate $\\mathbf{u}$ to get the general expression."
   ]
  },
  {
   "cell_type": "code",
   "execution_count": 109,
   "metadata": {},
   "outputs": [
    {
     "data": {
      "text/latex": [
       "$\\displaystyle (\\frac{\\left(- 3 a_{1} \\dot{a}_{1} - 3 a_{2} \\dot{a}_{2} - 3 a_{3} \\dot{a}_{3}\\right) \\left(- a_{1} \\dot{a}_{1} - a_{2} \\dot{a}_{2} - a_{3} \\dot{a}_{3}\\right) a_{1}}{\\left(a^{2}_{1} + a^{2}_{2} + a^{2}_{3}\\right)^{\\frac{5}{2}}} + \\frac{2 \\left(- a_{1} \\dot{a}_{1} - a_{2} \\dot{a}_{2} - a_{3} \\dot{a}_{3}\\right) \\dot{a}_{1}}{\\left(a^{2}_{1} + a^{2}_{2} + a^{2}_{3}\\right)^{\\frac{3}{2}}} + \\frac{\\ddot{a}_{1}}{\\sqrt{a^{2}_{1} + a^{2}_{2} + a^{2}_{3}}} + \\frac{\\left(- a_{1} \\ddot{a}_{1} - a_{2} \\ddot{a}_{2} - a_{3} \\ddot{a}_{3} - \\dot{a}_{1}^{2} - \\dot{a}_{2}^{2} - \\dot{a}_{3}^{2}\\right) a_{1}}{\\left(a^{2}_{1} + a^{2}_{2} + a^{2}_{3}\\right)^{\\frac{3}{2}}})\\mathbf{\\hat{n}_x} + (\\frac{\\left(- 3 a_{1} \\dot{a}_{1} - 3 a_{2} \\dot{a}_{2} - 3 a_{3} \\dot{a}_{3}\\right) \\left(- a_{1} \\dot{a}_{1} - a_{2} \\dot{a}_{2} - a_{3} \\dot{a}_{3}\\right) a_{2}}{\\left(a^{2}_{1} + a^{2}_{2} + a^{2}_{3}\\right)^{\\frac{5}{2}}} + \\frac{2 \\left(- a_{1} \\dot{a}_{1} - a_{2} \\dot{a}_{2} - a_{3} \\dot{a}_{3}\\right) \\dot{a}_{2}}{\\left(a^{2}_{1} + a^{2}_{2} + a^{2}_{3}\\right)^{\\frac{3}{2}}} + \\frac{\\ddot{a}_{2}}{\\sqrt{a^{2}_{1} + a^{2}_{2} + a^{2}_{3}}} + \\frac{\\left(- a_{1} \\ddot{a}_{1} - a_{2} \\ddot{a}_{2} - a_{3} \\ddot{a}_{3} - \\dot{a}_{1}^{2} - \\dot{a}_{2}^{2} - \\dot{a}_{3}^{2}\\right) a_{2}}{\\left(a^{2}_{1} + a^{2}_{2} + a^{2}_{3}\\right)^{\\frac{3}{2}}})\\mathbf{\\hat{n}_y} + (\\frac{\\left(- 3 a_{1} \\dot{a}_{1} - 3 a_{2} \\dot{a}_{2} - 3 a_{3} \\dot{a}_{3}\\right) \\left(- a_{1} \\dot{a}_{1} - a_{2} \\dot{a}_{2} - a_{3} \\dot{a}_{3}\\right) a_{3}}{\\left(a^{2}_{1} + a^{2}_{2} + a^{2}_{3}\\right)^{\\frac{5}{2}}} + \\frac{2 \\left(- a_{1} \\dot{a}_{1} - a_{2} \\dot{a}_{2} - a_{3} \\dot{a}_{3}\\right) \\dot{a}_{3}}{\\left(a^{2}_{1} + a^{2}_{2} + a^{2}_{3}\\right)^{\\frac{3}{2}}} + \\frac{\\ddot{a}_{3}}{\\sqrt{a^{2}_{1} + a^{2}_{2} + a^{2}_{3}}} + \\frac{\\left(- a_{1} \\ddot{a}_{1} - a_{2} \\ddot{a}_{2} - a_{3} \\ddot{a}_{3} - \\dot{a}_{1}^{2} - \\dot{a}_{2}^{2} - \\dot{a}_{3}^{2}\\right) a_{3}}{\\left(a^{2}_{1} + a^{2}_{2} + a^{2}_{3}\\right)^{\\frac{3}{2}}})\\mathbf{\\hat{n}_z}$"
      ],
      "text/plain": [
       "((-3*a1*a1' - 3*a2*a2' - 3*a3*a3')*(-a1*a1' - a2*a2' - a3*a3')*a1/(a1**2 + a2**2 + a3**2)**(5/2) + 2*(-a1*a1' - a2*a2' - a3*a3')*a1'/(a1**2 + a2**2 + a3**2)**(3/2) + a1''/sqrt(a1**2 + a2**2 + a3**2) + (-a1*a1'' - a2*a2'' - a3*a3'' - a1'**2 - a2'**2 - a3'**2)*a1/(a1**2 + a2**2 + a3**2)**(3/2))*N.x + ((-3*a1*a1' - 3*a2*a2' - 3*a3*a3')*(-a1*a1' - a2*a2' - a3*a3')*a2/(a1**2 + a2**2 + a3**2)**(5/2) + 2*(-a1*a1' - a2*a2' - a3*a3')*a2'/(a1**2 + a2**2 + a3**2)**(3/2) + a2''/sqrt(a1**2 + a2**2 + a3**2) + (-a1*a1'' - a2*a2'' - a3*a3'' - a1'**2 - a2'**2 - a3'**2)*a2/(a1**2 + a2**2 + a3**2)**(3/2))*N.y + ((-3*a1*a1' - 3*a2*a2' - 3*a3*a3')*(-a1*a1' - a2*a2' - a3*a3')*a3/(a1**2 + a2**2 + a3**2)**(5/2) + 2*(-a1*a1' - a2*a2' - a3*a3')*a3'/(a1**2 + a2**2 + a3**2)**(3/2) + a3''/sqrt(a1**2 + a2**2 + a3**2) + (-a1*a1'' - a2*a2'' - a3*a3'' - a1'**2 - a2'**2 - a3'**2)*a3/(a1**2 + a2**2 + a3**2)**(3/2))*N.z"
      ]
     },
     "execution_count": 109,
     "metadata": {},
     "output_type": "execute_result"
    }
   ],
   "source": [
    "d2udt2 = u.dt(N).dt(N)\n",
    "d2udt2"
   ]
  },
  {
   "cell_type": "markdown",
   "metadata": {},
   "source": [
    "Now subsitute the values at time $t^*$ and compute the magnitude. Be careful that you substitue the highest derivatives first."
   ]
  },
  {
   "cell_type": "code",
   "execution_count": 110,
   "metadata": {},
   "outputs": [
    {
     "data": {
      "text/latex": [
       "$\\displaystyle \\sqrt{2}$"
      ],
      "text/plain": [
       "sqrt(2)"
      ]
     },
     "execution_count": 110,
     "metadata": {},
     "output_type": "execute_result"
    }
   ],
   "source": [
    "temp1 = d2udt2.subs({a1.diff(t).diff(t): 0, a2.diff(t).diff(t): 0, a3.diff(t).diff(t): 1})\n",
    "temp2 = temp1.subs({a1.diff(t): 0, a2.diff(t): 1, a3.diff(t): 0})\n",
    "temp2.subs({a1: 1, a2:0, a3: 0}).magnitude()"
   ]
  }
 ],
 "metadata": {
  "anaconda-cloud": {},
  "kernelspec": {
   "display_name": "Python 3",
   "language": "python",
   "name": "python3"
  },
  "language_info": {
   "codemirror_mode": {
    "name": "ipython",
    "version": 3
   },
   "file_extension": ".py",
   "mimetype": "text/x-python",
   "name": "python",
   "nbconvert_exporter": "python",
   "pygments_lexer": "ipython3",
   "version": "3.6.7"
  }
 },
 "nbformat": 4,
 "nbformat_minor": 4
}
